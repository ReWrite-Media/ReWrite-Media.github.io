﻿{
    "cells":  [
                  {
                      "cell_type":  "markdown",
                      "metadata":  {

                                   },
                      "source":  [
                                     "# Proteggi le barbabietole\n",
                                     "Qualcosa continua a entrare in giardino e a rubare le barbabietole. Fai costruire all\u0027Agent un recinto intorno alla fattoria per tenere al sicuro le barbabietole. Utilizza \"agent.give()\" per assegnare all\u0027Agent \"iron_bars\", \"agent.place()\" per posizionare le iron_bars, \"agent.turn()\" per girare l\u0027Agent e \"agent.move()\" per spostare l\u0027Agent nel giardino.\n",
                                     "\n",
                                     "La funzione \"agent.give()\" accetta tre parametri.  \n",
                                     "\n",
                                     "- oggetto (*stringa*): lo slot di inventario in cui l\u0027Agent riceve l\u0027oggetto.\n",
                                     "- numero (*intero*): quanti oggetti riceverà l\u0027Agent.\n",
                                     "- slot (*intero*): in quale slot di inventario l\u0027Agent riceve l\u0027oggetto.\n",
                                     "\n",
                                     "La funzione \"agent.place()\" accetta due parametri.  \n",
                                     "\n",
                                     "- numero di slot (*intero*): quale slot dell\u0027inventario deve utilizzare l\u0027Agent.\n",
                                     "- direzione (*stringa*): la direzione in cui desideri che l\u0027Agent posizioni l\u0027oggetto.\n",
                                     "    - Le direzioni valide sono: \n",
                                     "        - forward\n",
                                     "        - back\n",
                                     "        - left\n",
                                     "        - right\n",
                                     "        - up\n",
                                     "        - down\n",
                                     "\n"
                                 ]
                  },
                  {
                      "cell_type":  "code",
                      "execution_count":  null,
                      "metadata":  {
                                       "minecraft":  {
                                                         "closeCodeBuilderOnRun":  true,
                                                         "readonly":  true
                                                     }
                                   },
                      "outputs":  [

                                  ],
                      "source":  [
                                     "# l\u0027Agent si sposterà in avanti di un blocco\n",
                                     "# dai all\u0027Agent iron_bars, quindi posiziona \n",
                                     "# le iron_bars sotto di lui.\n",
                                     "agent.move(\"forward\")\n",
                                     "agent.give(\"iron_bars\", 2, 1)\n",
                                     "agent.place(1, \"down\")"
                                 ]
                  },
                  {
                      "cell_type":  "markdown",
                      "metadata":  {

                                   },
                      "source":  [
                                     "La funzione \"agent.move()\" accetta un parametro, direction.\n",
                                     "\n",
                                     "Le direzioni valide sono: \n",
                                     "- forward\n",
                                     "- back\n",
                                     "- left\n",
                                     "- right\n",
                                     "- up\n",
                                     "- down\n",
                                     "\n",
                                     "La funzione \"agent.turn()\" accetta un parametro, turn_direction.\n",
                                     "\n",
                                     "Le direzioni valide sono: \n",
                                     "- left\n",
                                     "- right"
                                 ]
                  },
                  {
                      "cell_type":  "code",
                      "execution_count":  null,
                      "metadata":  {
                                       "minecraft":  {
                                                         "closeCodeBuilderOnRun":  true,
                                                         "readonly":  true
                                                     }
                                   },
                      "outputs":  [

                                  ],
                      "source":  [
                                     "# sposta l\u0027Agent in avanti di un blocco.\n",
                                     "agent.move(\"forward\")\n",
                                     "# sposta l\u0027Agent all\u0027indietro di un blocco.\n",
                                     "agent.move(\"back\")\n",
                                     "# sposta l\u0027Agent a sinistra di un blocco.\n",
                                     "agent.move(\"left\")\n",
                                     "# sposta l\u0027Agent a destra di un blocco.\n",
                                     "agent.move(\"right\")\n",
                                     "\n",
                                     "# l\u0027Agent girerà a destra\n",
                                     "agent.turn(\"right\")\n",
                                     "# l\u0027Agent girerà a sinistra\n",
                                     "agent.turn(\"left\")"
                                 ]
                  },
                  {
                      "cell_type":  "markdown",
                      "metadata":  {

                                   },
                      "source":  [
                                     "# Per esperti:\n",
                                     "Utilizza un loop \"for\" per eseguire più volte un gruppo di operazioni."
                                 ]
                  },
                  {
                      "cell_type":  "code",
                      "execution_count":  null,
                      "metadata":  {
                                       "minecraft":  {
                                                         "closeCodeBuilderOnRun":  true,
                                                         "readonly":  true
                                                     }
                                   },
                      "outputs":  [

                                  ],
                      "source":  [
                                     "# questo codice sposterà l\u0027Agent in avanti\n",
                                     "# e posizionerà le iron_bars sotto di lui per cinque volte\n",
                                     "for i in range(5):\n",
                                     "    agent.move(\"forward\")\n",
                                     "    agent.give(\"iron_bars\", 2, 1)\n",
                                     "    agent.place(1, \"down\")"
                                 ]
                  },
                  {
                      "cell_type":  "markdown",
                      "metadata":  {

                                   },
                      "source":  [
                                     "# Attività:\n",
                                     "Posiziona barre di ferro intorno al giardino di barbabietole tra i blocchi di pietra. \n",
                                     "\n",
                                     "**Nota: puoi resettare l\u0027attività parlando con il PNG o utilizzando il pulsante Reimposta.**"
                                 ]
                  },
                  {
                      "cell_type":  "code",
                      "execution_count":  null,
                      "metadata":  {
                                       "minecraft":  {
                                                         "closeCodeBuilderOnRun":  true,
                                                         "default_code":  "# code here\n\n\n",
                                                         "resetWorldCommand":  "execute @e[tag=game] ~ ~ ~ function act/4/reset"
                                                     }
                                   },
                      "outputs":  [

                                  ],
                      "source":  [
                                     "# codice qui\n",
                                     "\n",
                                     "\n"
                                 ]
                  }
              ],
    "metadata":  {
                     "celltoolbar":  "Edit Metadata",
                     "kernelspec":  {
                                        "display_name":  "Python 3",
                                        "language":  "python",
                                        "name":  "python3"
                                    },
                     "language_info":  {
                                           "codemirror_mode":  {
                                                                   "name":  "ipython",
                                                                   "version":  3
                                                               },
                                           "file_extension":  ".py",
                                           "mimetype":  "text/x-python",
                                           "name":  "python",
                                           "nbconvert_exporter":  "python",
                                           "pygments_lexer":  "ipython3",
                                           "version":  "3.8.6"
                                       },
                     "minecraft":  {
                                       "description":  "Protect those beets",
                                       "page_id":  "1.1",
                                       "page_name":  "Barbabietole",
                                       "style":  "minecraft.css"
                                   }
                 },
    "nbformat":  4,
    "nbformat_minor":  2
}
