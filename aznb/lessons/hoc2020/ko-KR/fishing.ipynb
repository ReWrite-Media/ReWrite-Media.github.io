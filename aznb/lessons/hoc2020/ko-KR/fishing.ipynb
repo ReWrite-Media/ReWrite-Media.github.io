﻿{
    "cells":  [
                  {
                      "cell_type":  "markdown",
                      "metadata":  {

                                   },
                      "source":  [
                                     "# 항구 건설\n",
                                     "우민들이 주민들에게 낚시법을 알려 주려면 항구가 필요합니다. `agent.give()`로 Agent에게 배치할 블록을 주고, `agent.place()`로 블록을 배치시키고, `agent.turn()`로 Agent를 회전시킨 다음 `agent.move()`로 Agent를 움직여 항구의 토대를 건설하세요.\n",
                                     "\n",
                                     "\u0027agent.give()\u0027 함수는 세 가지 매개 변수를 취합니다.  \n",
                                     "\n",
                                     "- item (*string*): Agent에게 주고 싶은 아이템입니다.\n",
                                     "- count (*integer*): Agent가 받게 될 아이템 수입니다.\n",
                                     "- slot (*integer*): Agent가 아이템을 받을 인벤토리 슬롯 위치입니다.\n",
                                     "\n",
                                     "\u0027agent.place()\u0027 함수는 두 개의 매개 변수를 취합니다.  \n",
                                     "\n",
                                     "- slot number (*integer*): Agent가 사용할 인벤토리 슬롯입니다.\n",
                                     "- direction (*string*): Agent가 아이템을 배치할 방향입니다.\n",
                                     "    - 유효한 방향은 다음과 같습니다: \n",
                                     "        - 앞으로\n",
                                     "        - 뒤로\n",
                                     "        - 왼쪽\n",
                                     "        - 오른쪽\n",
                                     "        - 위로\n",
                                     "        - 아래로"
                                 ]
                  },
                  {
                      "cell_type":  "code",
                      "execution_count":  null,
                      "metadata":  {
                                       "minecraft":  {
                                                         "closeCodeBuilderOnRun":  true,
                                                         "readonly":  true
                                                     }
                                   },
                      "outputs":  [

                                  ],
                      "source":  [
                                     "# Agent에게 두 개의 판자를 줍니다\n",
                                     "# 한 공간을 앞으로 이동시킵니다\n",
                                     "# 그리고 아래에 판자를 놓습니다\n",
                                     "agent.give(\"planks\", 2, 1)\n",
                                     "agent.move(\"forward\")\n",
                                     "agent.place(1,\"down\")"
                                 ]
                  },
                  {
                      "cell_type":  "markdown",
                      "metadata":  {

                                   },
                      "source":  [
                                     "\u0027agent.move()\u0027 함수는 하나의 매개 변수, 방향을 취합니다.\n",
                                     "\n",
                                     "유효한 방향은 다음과 같습니다: \n",
                                     "- 앞으로\n",
                                     "- 뒤로\n",
                                     "- 왼쪽\n",
                                     "- 오른쪽\n",
                                     "- 위로\n",
                                     "- 아래로\n",
                                     "\n",
                                     "`agent.turn()` 함수는 하나의 매개 변수, turn_direction을 취합니다.\n",
                                     "\n",
                                     "유효한 방향은 다음과 같습니다: \n",
                                     "- left\n",
                                     "- right"
                                 ]
                  },
                  {
                      "cell_type":  "code",
                      "execution_count":  null,
                      "metadata":  {
                                       "minecraft":  {
                                                         "closeCodeBuilderOnRun":  true,
                                                         "readonly":  true
                                                     }
                                   },
                      "outputs":  [

                                  ],
                      "source":  [
                                     "# Agent를 한 블록 앞으로 이동시킵니다.\n",
                                     "agent.move(\"forward\")\n",
                                     "# Agent를 한 블록 뒤로 이동시킵니다.\n",
                                     "agent.move(\"back\")\n",
                                     "# Agent를 한 블록 왼쪽으로 이동시킵니다.\n",
                                     "agent.move(\"left\")\n",
                                     "# Agent를 한 블록 오른쪽으로 이동시킵니다.\n",
                                     "agent.move(\"right\")\n",
                                     "\n",
                                     "# Agent를 오른쪽으로 돌립니다\n",
                                     "agent.turn(\"right\")\n",
                                     "# Agent를 왼쪽으로 돌립니다\n",
                                     "agent.turn(\"left\")"
                                 ]
                  },
                  {
                      "cell_type":  "markdown",
                      "metadata":  {

                                   },
                      "source":  [
                                     "# 프로 팁:\n",
                                     "\u0027for\u0027 루프를 사용하여 작업 그룹을 여러 번 수행합니다."
                                 ]
                  },
                  {
                      "cell_type":  "code",
                      "execution_count":  null,
                      "metadata":  {
                                       "minecraft":  {
                                                         "closeCodeBuilderOnRun":  true,
                                                         "readonly":  true
                                                     }
                                   },
                      "outputs":  [

                                  ],
                      "source":  [
                                     "# 이 코드는 Agent를 앞으로 이동시킵니다\n",
                                     "# 그리고 아래에 판자 하나를 다섯 번 놓아둡니다\n",
                                     "for i in range(5):\n",
                                     "    agent.move(\"forward\")\n",
                                     "    agent.give(\"planks\", 2, 1)\n",
                                     "    agent.place(1, \"down\")"
                                 ]
                  },
                  {
                      "cell_type":  "markdown",
                      "metadata":  {

                                   },
                      "source":  [
                                     "# 활동:\n",
                                     "조약돌을 중심으로 길이 6블록, 너비 4블록짜리 항구의 토대를 건설하세요.\n",
                                     "\n",
                                     "**참고: NPC와 대화하거나 \u0027활동 초기화\u0027 버튼을 사용하여 활동을 초기화 할 수 있습니다.**"
                                 ]
                  },
                  {
                      "cell_type":  "code",
                      "execution_count":  null,
                      "metadata":  {
                                       "minecraft":  {
                                                         "closeCodeBuilderOnRun":  true,
                                                         "default_code":  "# code here\n\n\n",
                                                         "resetWorldCommand":  "execute @e[tag=game] ~ ~ ~ function act/2/reset"
                                                     }
                                   },
                      "outputs":  [

                                  ],
                      "source":  [
                                     "# 코드를 여기에 넣으세요\n",
                                     "\n",
                                     "\n"
                                 ]
                  }
              ],
    "metadata":  {
                     "celltoolbar":  "Edit Metadata",
                     "kernelspec":  {
                                        "display_name":  "Python 3",
                                        "language":  "python",
                                        "name":  "python3"
                                    },
                     "language_info":  {
                                           "codemirror_mode":  {
                                                                   "name":  "ipython",
                                                                   "version":  3
                                                               },
                                           "file_extension":  ".py",
                                           "mimetype":  "text/x-python",
                                           "name":  "python",
                                           "nbconvert_exporter":  "python",
                                           "pygments_lexer":  "ipython3",
                                           "version":  "3.8.6"
                                       },
                     "minecraft":  {
                                       "description":  "Let\u0027s learn fishing!",
                                       "page_id":  "1.1",
                                       "page_name":  "낚시",
                                       "style":  "minecraft.css"
                                   }
                 },
    "nbformat":  4,
    "nbformat_minor":  2
}
