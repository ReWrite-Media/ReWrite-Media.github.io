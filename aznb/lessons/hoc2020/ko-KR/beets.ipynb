﻿{
    "cells":  [
                  {
                      "cell_type":  "markdown",
                      "metadata":  {

                                   },
                      "source":  [
                                     "# 사탕무 지키기\n",
                                     "누군가 자꾸 정원으로 들어와 사탕무를 가져가고 있습니다. Agent로 농장을 두르는 울타리를 지어서 사탕무를 안전하게 지키세요. `agent.give()`로 Agent에게 `iron_bars`를 주고, `agent.place()`로 iron_bars를 배치하고, `agent.turn()`로 Agent를 회전 시킨 다음 `agent.move()`로 Agent가 정원 주변을 돌아다니도록 만드세요.\n",
                                     "\n",
                                     "\u0027agent.give()\u0027 함수는 세 가지 매개 변수를 취합니다.  \n",
                                     "\n",
                                     "- item (*string*): Agent가 아이템을 받는 인벤토리 슬롯입니다.\n",
                                     "- count (*integer*): Agent가 받을 아이템의 수입니다\n",
                                     "- slot (*integer*): Agent가 아이템을 받을 인벤토리 슬롯 위치입니다.\n",
                                     "\n",
                                     "\u0027agent.place()\u0027 함수는 두 개의 매개 변수를 취합니다.  \n",
                                     "\n",
                                     "- slot number (*integer*): Agent가 어떤 인벤토리 슬롯을 사용할지 결정합니다.\n",
                                     "- direction (*string*): Agent가 아이템을 배치할 방향입니다.\n",
                                     "    - 유효한 방향은 다음과 같습니다: \n",
                                     "        - 앞\n",
                                     "        - 뒤\n",
                                     "        - 왼쪽\n",
                                     "        - 오른쪽\n",
                                     "        - 위\n",
                                     "        - 아래\n",
                                     "\n"
                                 ]
                  },
                  {
                      "cell_type":  "code",
                      "execution_count":  null,
                      "metadata":  {
                                       "minecraft":  {
                                                         "closeCodeBuilderOnRun":  true,
                                                         "readonly":  true
                                                     }
                                   },
                      "outputs":  [

                                  ],
                      "source":  [
                                     "# this will move the Agent forward one block\n",
                                     "# give the Agent iron_bars, and then place \n",
                                     "# the iron_bars below it.\n",
                                     "agent.move(\"forward\")\n",
                                     "agent.give(\"iron_bars\", 2, 1)\n",
                                     "agent.place(1, \"down\")"
                                 ]
                  },
                  {
                      "cell_type":  "markdown",
                      "metadata":  {

                                   },
                      "source":  [
                                     "\u0027agent.move()\u0027 함수는 하나의 매개 변수, 방향을 취합니다.\n",
                                     "\n",
                                     "유효한 방향은 다음과 같습니다: \n",
                                     "- 앞\n",
                                     "- 뒤\n",
                                     "- 왼쪽\n",
                                     "- 오른쪽\n",
                                     "- 위\n",
                                     "- 아래\n",
                                     "\n",
                                     "`agent.turn()` 함수는 하나의 매개 변수, 방향을 취합니다.\n",
                                     "\n",
                                     "유효한 방향은 다음과 같습니다: \n",
                                     "- 왼쪽\n",
                                     "- 오른쪽"
                                 ]
                  },
                  {
                      "cell_type":  "code",
                      "execution_count":  null,
                      "metadata":  {
                                       "minecraft":  {
                                                         "closeCodeBuilderOnRun":  true,
                                                         "readonly":  true
                                                     }
                                   },
                      "outputs":  [

                                  ],
                      "source":  [
                                     "# move the Agent forward one block.\n",
                                     "agent.move(\"forward\")\n",
                                     "# move the Agent backward one block.\n",
                                     "agent.move(\"back\")\n",
                                     "# move the Agent left one block.\n",
                                     "agent.move(\"left\")\n",
                                     "# move the Agent right one block.\n",
                                     "agent.move(\"right\")\n",
                                     "\n",
                                     "# this will turn the Agent right\n",
                                     "agent.turn(\"right\")\n",
                                     "# this will turn the Agent left\n",
                                     "agent.turn(\"left\")"
                                 ]
                  },
                  {
                      "cell_type":  "markdown",
                      "metadata":  {

                                   },
                      "source":  [
                                     "# 프로 팁:\n",
                                     "\u0027for\u0027 루프를 사용하여 작업 그룹을 여러 번 수행합니다."
                                 ]
                  },
                  {
                      "cell_type":  "code",
                      "execution_count":  null,
                      "metadata":  {
                                       "minecraft":  {
                                                         "closeCodeBuilderOnRun":  true,
                                                         "readonly":  true
                                                     }
                                   },
                      "outputs":  [

                                  ],
                      "source":  [
                                     "# this code will move the Agent forward\n",
                                     "# and place iron_bars below it five times\n",
                                     "for i in range(5):\n",
                                     "    agent.move(\"forward\")\n",
                                     "    agent.give(\"iron_bars\", 2, 1)\n",
                                     "    agent.place(1, \"down\")"
                                 ]
                  },
                  {
                      "cell_type":  "markdown",
                      "metadata":  {

                                   },
                      "source":  [
                                     "# 활동:\n",
                                     "사탕무 정원 주위 돌 블록 사이에 철 막대기를 놓습니다. \n",
                                     "\n",
                                     "** 참고: NPC와 대화하거나 Reset World 버튼을 사용하여 활동을 초기화할 수 있습니다.**"
                                 ]
                  },
                  {
                      "cell_type":  "code",
                      "execution_count":  null,
                      "metadata":  {
                                       "minecraft":  {
                                                         "closeCodeBuilderOnRun":  true,
                                                         "default_code":  "# code here\n\n\n",
                                                         "resetWorldCommand":  "execute @e[tag=game] ~ ~ ~ function act/4/reset"
                                                     }
                                   },
                      "outputs":  [

                                  ],
                      "source":  [
                                     "# code here\n",
                                     "\n",
                                     "\n"
                                 ]
                  }
              ],
    "metadata":  {
                     "celltoolbar":  "Edit Metadata",
                     "kernelspec":  {
                                        "display_name":  "Python 3",
                                        "language":  "python",
                                        "name":  "python3"
                                    },
                     "language_info":  {
                                           "codemirror_mode":  {
                                                                   "name":  "ipython",
                                                                   "version":  3
                                                               },
                                           "file_extension":  ".py",
                                           "mimetype":  "text/x-python",
                                           "name":  "python",
                                           "nbconvert_exporter":  "python",
                                           "pygments_lexer":  "ipython3",
                                           "version":  "3.8.6"
                                       },
                     "minecraft":  {
                                       "description":  "Protect those beets",
                                       "page_id":  "1.1",
                                       "page_name":  "Beets",
                                       "style":  "minecraft.css"
                                   }
                 },
    "nbformat":  4,
    "nbformat_minor":  2
}
