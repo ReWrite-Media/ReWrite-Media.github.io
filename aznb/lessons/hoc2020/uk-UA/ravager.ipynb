﻿{
    "cells":  [
                  {
                      "cell_type":  "markdown",
                      "metadata":  {

                                   },
                      "source":  [
                                     "# Познайомте зі спустошувачем\n",
                                     "На відміну від розбійників селяни бояться спустошувачів. Допоможіть селянам позбутися упереджень, познайомивши їх зі спустошувачем. Використовуйте Agent, щоб підвести спустошувача до кожного селянина, за допомогою функції `agent.move()`.\n",
                                     "\n",
                                     "Функція `agent.move()` має один параметр (напрямок).\n",
                                     "\n",
                                     "Допустимі напрямки: \n",
                                     "- forward\n",
                                     "- back\n",
                                     "- left\n",
                                     "- right\n",
                                     "- up\n",
                                     "- down\n",
                                     "\n",
                                     "Функція `agent.turn()` має один параметр (напрямок_повороту).\n",
                                     "\n",
                                     "Допустимі напрямки: \n",
                                     "- left\n",
                                     "- right"
                                 ]
                  },
                  {
                      "cell_type":  "code",
                      "execution_count":  null,
                      "metadata":  {
                                       "minecraft":  {
                                                         "closeCodeBuilderOnRun":  true,
                                                         "readonly":  true
                                                     }
                                   },
                      "outputs":  [

                                  ],
                      "source":  [
                                     "# move the Agent forward three blocks\n",
                                     "# and then come back to its starting location.\n",
                                     "agent.move(\"forward\")\n",
                                     "agent.move(\"forward\")\n",
                                     "agent.move(\"forward\")\n",
                                     "agent.turn(\"left\")\n",
                                     "agent.move(\"forward\")\n",
                                     "agent.turn(\"left\")\n",
                                     "agent.move(\"forward\")\n",
                                     "agent.move(\"forward\")\n",
                                     "agent.move(\"forward\")\n",
                                     "agent.turn(\"left\")\n",
                                     "agent.move(\"forward\")\n",
                                     "agent.turn(\"left\")"
                                 ]
                  },
                  {
                      "cell_type":  "markdown",
                      "metadata":  {

                                   },
                      "source":  [
                                     "# Професійна порада:\n",
                                     "Використайте цикл `for`, щоб з легкістю повторювати `agent.move()` кілька разів."
                                 ]
                  },
                  {
                      "cell_type":  "code",
                      "execution_count":  null,
                      "metadata":  {
                                       "minecraft":  {
                                                         "closeCodeBuilderOnRun":  true,
                                                         "readonly":  true
                                                     }
                                   },
                      "outputs":  [

                                  ],
                      "source":  [
                                     "# This code will move the Agent forward five times\n",
                                     "for i in range(5):\n",
                                     "    agent.move(\"forward\")"
                                 ]
                  },
                  {
                      "cell_type":  "markdown",
                      "metadata":  {

                                   },
                      "source":  [
                                     "# Задача:\n",
                                     "Познайомте селян зі спустошувачем, запрограмувавши Agent підійти до кожного селянина зі стрілкою над головою.\n",
                                     "\n",
                                     "**Увага! Ви можете почати виконувати задачу спочатку, поговоривши з NPC або натиснувши кнопку \"Скинути задачу\".**\n"
                                 ]
                  },
                  {
                      "cell_type":  "code",
                      "execution_count":  null,
                      "metadata":  {
                                       "minecraft":  {
                                                         "closeCodeBuilderOnRun":  true,
                                                         "default_code":  "# code here\n\n\n",
                                                         "resetWorldCommand":  "execute @e[tag=game] ~ ~ ~ function act/3/reset"
                                                     }
                                   },
                      "outputs":  [

                                  ],
                      "source":  [
                                     "# code here\n",
                                     "\n",
                                     "\n"
                                 ]
                  }
              ],
    "metadata":  {
                     "celltoolbar":  "Edit Metadata",
                     "kernelspec":  {
                                        "display_name":  "Python 3",
                                        "language":  "python",
                                        "name":  "python3"
                                    },
                     "language_info":  {
                                           "codemirror_mode":  {
                                                                   "name":  "ipython",
                                                                   "version":  3
                                                               },
                                           "file_extension":  ".py",
                                           "mimetype":  "text/x-python",
                                           "name":  "python",
                                           "nbconvert_exporter":  "python",
                                           "pygments_lexer":  "ipython3",
                                           "version":  "3.8.6"
                                       },
                     "minecraft":  {
                                       "description":  "Aww they\u0027re so cute!",
                                       "page_id":  "1.1",
                                       "page_name":  "Ravager",
                                       "style":  "minecraft.css"
                                   }
                 },
    "nbformat":  4,
    "nbformat_minor":  2
}
