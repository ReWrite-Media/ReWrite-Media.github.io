﻿{
    "cells":  [
                  {
                      "cell_type":  "markdown",
                      "metadata":  {

                                   },
                      "source":  [
                                     "# Захистіть буряки\n",
                                     "Щось постійно пробирається на город і забирає буряки. Зробіть так, щоб Agent побудував загорожу навколо грядки, яка вбереже буряки. Використовуйте функцію `agent.give()`, щоб дати Agent `iron_bars`, `agent.place()`, щоб поставити залізні_ґрати, `agent.turn()`, щоб повернути Agent, і `agent.move()`, щоб переміщати Agent по городу.\n",
                                     "\n",
                                     "Функція `agent.give()` має три параметри.  \n",
                                     "\n",
                                     "- item (*string*): cлот інвентарю, де Agent отримує предмет.\n",
                                     "- count (*integer*): скільки предметів отримає Agent.\n",
                                     "- slot (*integer*): у який cлот інвентарю Agent отримає предмет.\n",
                                     "\n",
                                     "Функція `agent.place()` має два параметри.  \n",
                                     "\n",
                                     "- slot number (*integer*): який слот інвентарю має використовувати Agent.\n",
                                     "- direction (*string*): напрямок, у якому Agent має поставити предмет.\n",
                                     "    - Допустимі напрямки: \n",
                                     "        - forward\n",
                                     "        - back\n",
                                     "        - left\n",
                                     "        - right\n",
                                     "        - up\n",
                                     "        - down\n",
                                     "\n"
                                 ]
                  },
                  {
                      "cell_type":  "code",
                      "execution_count":  null,
                      "metadata":  {
                                       "minecraft":  {
                                                         "closeCodeBuilderOnRun":  true,
                                                         "readonly":  true
                                                     }
                                   },
                      "outputs":  [

                                  ],
                      "source":  [
                                     "# перемістити Agent уперед на один блок\n",
                                     "# дати Agent iron_bars і потім покласти \n",
                                     "# iron_bars під ним.\n",
                                     "agent.move(\"forward\")\n",
                                     "agent.give(\"iron_bars\", 2, 1)\n",
                                     "agent.place(1, \"down\")"
                                 ]
                  },
                  {
                      "cell_type":  "markdown",
                      "metadata":  {

                                   },
                      "source":  [
                                     "Функція `agent.move()` має один параметр \"direction\" (напрямок).\n",
                                     "\n",
                                     "Допустимі напрямки: \n",
                                     "- forward\n",
                                     "- back\n",
                                     "- left\n",
                                     "- right\n",
                                     "- up\n",
                                     "- down\n",
                                     "\n",
                                     "Функція `agent.turn()` має один параметр (напрямок_повороту).\n",
                                     "\n",
                                     "Допустимі напрямки: \n",
                                     "- left\n",
                                     "- right"
                                 ]
                  },
                  {
                      "cell_type":  "code",
                      "execution_count":  null,
                      "metadata":  {
                                       "minecraft":  {
                                                         "closeCodeBuilderOnRun":  true,
                                                         "readonly":  true
                                                     }
                                   },
                      "outputs":  [

                                  ],
                      "source":  [
                                     "# перемістити Agent уперед на один блок.\n",
                                     "agent.move(\"forward\")\n",
                                     "# перемістити Agent назад на один блок.\n",
                                     "agent.move(\"back\")\n",
                                     "# перемістити Agent ліворуч на один блок.\n",
                                     "agent.move(\"left\")\n",
                                     "# перемістити Agent праворуч на один блок.\n",
                                     "agent.move(\"right\")\n",
                                     "\n",
                                     "# повернути Agent праворуч\n",
                                     "agent.turn(\"right\")\n",
                                     "# повернути Agent ліворуч\n",
                                     "agent.turn(\"left\")"
                                 ]
                  },
                  {
                      "cell_type":  "markdown",
                      "metadata":  {

                                   },
                      "source":  [
                                     "# Професійна порада:\n",
                                     "Використовуйте цикл `for`, щоб виконувати набір дій кілька разів."
                                 ]
                  },
                  {
                      "cell_type":  "code",
                      "execution_count":  null,
                      "metadata":  {
                                       "minecraft":  {
                                                         "closeCodeBuilderOnRun":  true,
                                                         "readonly":  true
                                                     }
                                   },
                      "outputs":  [

                                  ],
                      "source":  [
                                     "# перемістити Agent уперед\n",
                                     "# і покласти iron_bars під ним п’ять разів\n",
                                     "for i in range(5):\n",
                                     "    agent.move(\"forward\")\n",
                                     "    agent.give(\"iron_bars\", 2, 1)\n",
                                     "    agent.place(1, \"down\")"
                                 ]
                  },
                  {
                      "cell_type":  "markdown",
                      "metadata":  {

                                   },
                      "source":  [
                                     "# Задача:\n",
                                     "Помістіть залізні ґрати навколо бурякової грядки між блоками з каменю. \n",
                                     "\n",
                                     "**Увага! Ви можете почати виконувати задачу спочатку, поговоривши з NPC або натиснувши кнопку \"Скинути задачу\".**"
                                 ]
                  },
                  {
                      "cell_type":  "code",
                      "execution_count":  null,
                      "metadata":  {
                                       "minecraft":  {
                                                         "closeCodeBuilderOnRun":  true,
                                                         "default_code":  "# code here\n\n\n",
                                                         "resetWorldCommand":  "execute @e[tag=game] ~ ~ ~ function act/4/reset"
                                                     }
                                   },
                      "outputs":  [

                                  ],
                      "source":  [
                                     "# тут код\n",
                                     "\n",
                                     "\n"
                                 ]
                  }
              ],
    "metadata":  {
                     "celltoolbar":  "Edit Metadata",
                     "kernelspec":  {
                                        "display_name":  "Python 3",
                                        "language":  "python",
                                        "name":  "python3"
                                    },
                     "language_info":  {
                                           "codemirror_mode":  {
                                                                   "name":  "ipython",
                                                                   "version":  3
                                                               },
                                           "file_extension":  ".py",
                                           "mimetype":  "text/x-python",
                                           "name":  "python",
                                           "nbconvert_exporter":  "python",
                                           "pygments_lexer":  "ipython3",
                                           "version":  "3.8.6"
                                       },
                     "minecraft":  {
                                       "description":  "Protect those beets",
                                       "page_id":  "1.1",
                                       "page_name":  "Буряки",
                                       "style":  "minecraft.css"
                                   }
                 },
    "nbformat":  4,
    "nbformat_minor":  2
}
