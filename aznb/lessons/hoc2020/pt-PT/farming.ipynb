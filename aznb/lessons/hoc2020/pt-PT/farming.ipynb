﻿{
    "cells":  [
                  {
                      "cell_type":  "markdown",
                      "metadata":  {

                                   },
                      "source":  [
                                     "# Construir uma quinta\n",
                                     "Os Aldeões ofereceram-se para ensinar os Illagers a cultivar, mas precisam de ajuda para preparar a terra. Utiliza `agent.till()` para fazer com que o Agent are duas primeiras linhas de terra.\n",
                                     "\n",
                                     "A função `agent.till()` requer um parâmetro, direction.\n",
                                     "\n",
                                     "As direções válidas são: \n",
                                     "- para a frente\n",
                                     "- para trás\n",
                                     "- esquerda\n",
                                     "- direita\n",
                                     "\n",
                                     "A função `agent.move()` requer um parâmetro, direction.\n",
                                     "\n",
                                     "As direções válidas são: \n",
                                     "- para a frente\n",
                                     "- para trás\n",
                                     "- esquerda\n",
                                     "- direita\n",
                                     "- para cima\n",
                                     "- para baixo"
                                 ]
                  },
                  {
                      "cell_type":  "code",
                      "execution_count":  null,
                      "metadata":  {
                                       "minecraft":  {
                                                         "closeCodeBuilderOnRun":  true,
                                                         "readonly":  true
                                                     }
                                   },
                      "outputs":  [

                                  ],
                      "source":  [
                                     "# move the agent forward and till\n",
                                     "# the block behind it\n",
                                     "agent.move(\"forward\")\n",
                                     "agent.till(\"back\")"
                                 ]
                  },
                  {
                      "cell_type":  "markdown",
                      "metadata":  {

                                   },
                      "source":  [
                                     "A função `agent.turn()` requer um parâmetro, turn_direction.\n",
                                     "\n",
                                     "As direções válidas são: \n",
                                     "- esquerda\n",
                                     "- direita"
                                 ]
                  },
                  {
                      "cell_type":  "code",
                      "execution_count":  null,
                      "metadata":  {
                                       "minecraft":  {
                                                         "closeCodeBuilderOnRun":  true,
                                                         "readonly":  true
                                                     }
                                   },
                      "outputs":  [

                                  ],
                      "source":  [
                                     "# this will turn the Agent right\n",
                                     "agent.turn(\"right\")\n",
                                     "# this will turn the Agent left\n",
                                     "agent.turn(\"left\")"
                                 ]
                  },
                  {
                      "cell_type":  "markdown",
                      "metadata":  {

                                   },
                      "source":  [
                                     "# Dica Pro:\n",
                                     "Usa um ciclo \"for\" para fazeres um grupo de ações várias vezes."
                                 ]
                  },
                  {
                      "cell_type":  "code",
                      "execution_count":  null,
                      "metadata":  {
                                       "minecraft":  {
                                                         "closeCodeBuilderOnRun":  true,
                                                         "readonly":  true
                                                     }
                                   },
                      "outputs":  [

                                  ],
                      "source":  [
                                     "# this will move the agent forward\n",
                                     "# and till behind it nine times\n",
                                     "for i in range(9):\n",
                                     "    agent.move(\"forward\")\n",
                                     "    agent.till(\"back\")"
                                 ]
                  },
                  {
                      "cell_type":  "markdown",
                      "metadata":  {

                                   },
                      "source":  [
                                     "# Atividade:\n",
                                     "Ara as duas primeiras filas da quinta.\n",
                                     "\n",
                                     "**Nota: Podes reiniciar a atividade ao falar com a NPC ou através do botão Reiniciar Atividade.**"
                                 ]
                  },
                  {
                      "cell_type":  "code",
                      "execution_count":  null,
                      "metadata":  {
                                       "minecraft":  {
                                                         "closeCodeBuilderOnRun":  true,
                                                         "default_code":  "# code here\n\n\n",
                                                         "resetWorldCommand":  "execute @e[tag=game] ~ ~ ~ function act/5/reset"
                                                     }
                                   },
                      "outputs":  [

                                  ],
                      "source":  [
                                     "# code here\n",
                                     "\n",
                                     "\n"
                                 ]
                  }
              ],
    "metadata":  {
                     "celltoolbar":  "Edit Metadata",
                     "kernelspec":  {
                                        "display_name":  "Python 3",
                                        "language":  "python",
                                        "name":  "python3"
                                    },
                     "language_info":  {
                                           "codemirror_mode":  {
                                                                   "name":  "ipython",
                                                                   "version":  3
                                                               },
                                           "file_extension":  ".py",
                                           "mimetype":  "text/x-python",
                                           "name":  "python",
                                           "nbconvert_exporter":  "python",
                                           "pygments_lexer":  "ipython3",
                                           "version":  "3.8.6"
                                       },
                     "minecraft":  {
                                       "description":  "Let\u0027s learn farming!",
                                       "page_id":  "1.1",
                                       "page_name":  "Farming",
                                       "style":  "minecraft.css"
                                   }
                 },
    "nbformat":  4,
    "nbformat_minor":  2
}
