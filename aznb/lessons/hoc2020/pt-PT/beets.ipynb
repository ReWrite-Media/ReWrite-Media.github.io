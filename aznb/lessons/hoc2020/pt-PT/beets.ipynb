﻿{
    "cells":  [
                  {
                      "cell_type":  "markdown",
                      "metadata":  {

                                   },
                      "source":  [
                                     "# Protege as beterrabas\n",
                                     "Algo continua a entrar no jardim e roubar as beterrabas. Faz com que o Agent construa uma cerca à volta da quinta para manter as beterrabas seguras. Utiliza `agent.give()` para dares `iron_bars` ao Agent, `agent.place()` para colocar as iron_bars, `agent.turn()` para rodar o Agent e `agent.move()` para deslocar o Agent pelo jardim.\n",
                                     "\n",
                                     "A função `agent.give()` requer três parâmetros.  \n",
                                     "\n",
                                     "- item (*string*): A ranhura do inventário onde o Agent recebe o item.\n",
                                     "- contagem (*inteiro*): Como os itens que o Agent receberá.\n",
                                     "- ranhura (*inteiro*): Em que ranhura do inventário o Agent recebe o item.\n",
                                     "\n",
                                     "A função `agent.place()` requer dois parâmetros.  \n",
                                     "\n",
                                     "- número da ranhura (*inteiro*): A ranhura do inventário que o Agent deve utilizar.\n",
                                     "- direção (*string*): A direção na qual pretendes que o Agent coloque o item.\n",
                                     "    - As direções válidas são: \n",
                                     "        - para a frente\n",
                                     "        - para trás\n",
                                     "        - esquerda\n",
                                     "        - direita\n",
                                     "        - para cima\n",
                                     "        - para baixo\n",
                                     "\n"
                                 ]
                  },
                  {
                      "cell_type":  "code",
                      "execution_count":  null,
                      "metadata":  {
                                       "minecraft":  {
                                                         "closeCodeBuilderOnRun":  true,
                                                         "readonly":  true
                                                     }
                                   },
                      "outputs":  [

                                  ],
                      "source":  [
                                     "# isto vai mover o Agent para a frente um bloco\n",
                                     "# dá iron_bars ao Agent e, depois, coloca \n",
                                     "# as iron_bars abaixo.\n",
                                     "agent.move(\"forward\")\n",
                                     "agent.give(\"iron_bars\", 2, 1)\n",
                                     "agent.place(1, \"down\")"
                                 ]
                  },
                  {
                      "cell_type":  "markdown",
                      "metadata":  {

                                   },
                      "source":  [
                                     "A função \"agent.move()\" requer um parâmetro, direction.\n",
                                     "\n",
                                     "As direções válidas são: \n",
                                     "- para a frente\n",
                                     "- para trás\n",
                                     "- esquerda\n",
                                     "- direita\n",
                                     "- para cima\n",
                                     "- para baixo\n",
                                     "\n",
                                     "A função `agent.turn()` requer um parâmetro, turn_direction.\n",
                                     "\n",
                                     "As direções válidas são: \n",
                                     "- esquerda\n",
                                     "- direita"
                                 ]
                  },
                  {
                      "cell_type":  "code",
                      "execution_count":  null,
                      "metadata":  {
                                       "minecraft":  {
                                                         "closeCodeBuilderOnRun":  true,
                                                         "readonly":  true
                                                     }
                                   },
                      "outputs":  [

                                  ],
                      "source":  [
                                     "# move o Agent para a frente um bloco.\n",
                                     "agent.move(\"forward\")\n",
                                     "# move o Agent para trás um bloco.\n",
                                     "agent.move(\"back\")\n",
                                     "# move o Agent para a esquerda um bloco.\n",
                                     "agent.move(\"left\")\n",
                                     "# move o Agent para a direita um bloco.\n",
                                     "agent.move(\"right\")\n",
                                     "\n",
                                     "# isto vai virar o Agent para a direita\n",
                                     "agent.turn(\"right\")\n",
                                     "# isto vai virar o Agent para a esquerda\n",
                                     "agent.turn(\"left\")"
                                 ]
                  },
                  {
                      "cell_type":  "markdown",
                      "metadata":  {

                                   },
                      "source":  [
                                     "# Dica Pro:\n",
                                     "Usa um ciclo \"for\" para fazeres um grupo de ações várias vezes."
                                 ]
                  },
                  {
                      "cell_type":  "code",
                      "execution_count":  null,
                      "metadata":  {
                                       "minecraft":  {
                                                         "closeCodeBuilderOnRun":  true,
                                                         "readonly":  true
                                                     }
                                   },
                      "outputs":  [

                                  ],
                      "source":  [
                                     "# este código vai mover o Agent para a frente\n",
                                     "# e coloca iron_bars abaixo cinco vezes\n",
                                     "for i in range(5):\n",
                                     "    agent.move(\"forward\")\n",
                                     "    agent.give(\"iron_bars\", 2, 1)\n",
                                     "    agent.place(1, \"down\")"
                                 ]
                  },
                  {
                      "cell_type":  "markdown",
                      "metadata":  {

                                   },
                      "source":  [
                                     "# Atividade:\n",
                                     "Coloca barras de ferro à volta do jardim de beterrabas entre os blocos de pedra. \n",
                                     "\n",
                                     "**Nota: Podes reiniciar a atividade ao falar com a NPC ou através do botão Reiniciar.**"
                                 ]
                  },
                  {
                      "cell_type":  "code",
                      "execution_count":  null,
                      "metadata":  {
                                       "minecraft":  {
                                                         "closeCodeBuilderOnRun":  true,
                                                         "default_code":  "# code here\n\n\n",
                                                         "resetWorldCommand":  "execute @e[tag=game] ~ ~ ~ function act/4/reset"
                                                     }
                                   },
                      "outputs":  [

                                  ],
                      "source":  [
                                     "# código aqui\n",
                                     "\n",
                                     "\n"
                                 ]
                  }
              ],
    "metadata":  {
                     "celltoolbar":  "Edit Metadata",
                     "kernelspec":  {
                                        "display_name":  "Python 3",
                                        "language":  "python",
                                        "name":  "python3"
                                    },
                     "language_info":  {
                                           "codemirror_mode":  {
                                                                   "name":  "ipython",
                                                                   "version":  3
                                                               },
                                           "file_extension":  ".py",
                                           "mimetype":  "text/x-python",
                                           "name":  "python",
                                           "nbconvert_exporter":  "python",
                                           "pygments_lexer":  "ipython3",
                                           "version":  "3.8.6"
                                       },
                     "minecraft":  {
                                       "description":  "Protect those beets",
                                       "page_id":  "1.1",
                                       "page_name":  "Beterrabas",
                                       "style":  "minecraft.css"
                                   }
                 },
    "nbformat":  4,
    "nbformat_minor":  2
}
