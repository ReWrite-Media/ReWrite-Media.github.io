﻿{
    "cells":  [
                  {
                      "cell_type":  "markdown",
                      "metadata":  {

                                   },
                      "source":  [
                                     "# Planta o rebento\n",
                                     "O Agent deu-te um `sapling` para comemorar a tua chegada! Para colocar o rebento na barra principal, vamos usar a função `player.give()`.\n",
                                     "\n",
                                     "A função `player.give()` requer dois parâmetros. \n",
                                     "- item (*string*): o item que desejas\n",
                                     "- contagem (*inteiro*): o número de itens que vais receber"
                                 ]
                  },
                  {
                      "cell_type":  "code",
                      "execution_count":  null,
                      "metadata":  {
                                       "minecraft":  {
                                                         "closeCodeBuilderOnRun":  true,
                                                         "readonly":  true
                                                     }
                                   },
                      "outputs":  [

                                  ],
                      "source":  [
                                     "# dá-te cinco blocos de pedra\n",
                                     "player.give(\"stone\", 5)\n",
                                     "# dá-te três blocos de terra\n",
                                     "player.give(\"dirt\", 3)"
                                 ]
                  },
                  {
                      "cell_type":  "markdown",
                      "metadata":  {

                                   },
                      "source":  [
                                     "# Atividade:\n",
                                     "Aceita o presente do Agent dando-te um `sapling`. Quando terminares, coloca-o manualmente no bloco de erva selecionando-o na barra principal, apontando com o rato para o bloco de erva e clicando com o botão direito.\n",
                                     "\n",
                                     "**Nota: Podes reiniciar a atividade ao falar com a NPC ou através do botão Reiniciar.**"
                                 ]
                  },
                  {
                      "cell_type":  "code",
                      "execution_count":  null,
                      "metadata":  {
                                       "minecraft":  {
                                                         "closeCodeBuilderOnRun":  true,
                                                         "default_code":  "# code here\nplayer.give()\n\n",
                                                         "resetWorldCommand":  "execute @e[tag=game] ~ ~ ~ function act/1/reset"
                                                     }
                                   },
                      "outputs":  [

                                  ],
                      "source":  [
                                     "# código aqui\n",
                                     "player.give()\n",
                                     "\n"
                                 ]
                  }
              ],
    "metadata":  {
                     "celltoolbar":  "Edit Metadata",
                     "kernelspec":  {
                                        "display_name":  "Python 3",
                                        "language":  "python",
                                        "name":  "python3"
                                    },
                     "language_info":  {
                                           "codemirror_mode":  {
                                                                   "name":  "ipython",
                                                                   "version":  3
                                                               },
                                           "file_extension":  ".py",
                                           "mimetype":  "text/x-python",
                                           "name":  "python",
                                           "nbconvert_exporter":  "python",
                                           "pygments_lexer":  "ipython3",
                                           "version":  "3.8.6"
                                       },
                     "minecraft":  {
                                       "description":  "Plant a tree!",
                                       "page_id":  "1.1",
                                       "page_name":  "Dar",
                                       "style":  "minecraft.css"
                                   }
                 },
    "nbformat":  4,
    "nbformat_minor":  2
}
