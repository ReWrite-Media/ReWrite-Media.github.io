﻿{
    "cells":  [
                  {
                      "cell_type":  "markdown",
                      "metadata":  {

                                   },
                      "source":  [
                                     "# Introduire le ravageur\n",
                                     "Contrairement aux iIllagers, les villageois ont peur des ravageurs. Aidez les villageois à surmonter leurs préjugés en leur faisant rencontrer un ravageur. Utilisez l’agent pour conduire le ravageur à chaque villageois à l’aide de « agent.move() ».\n",
                                     "\n",
                                     "La fonction « agent.move() » prend un seul paramètre, la direction.\n",
                                     "\n",
                                     "Les directions valides sont : \n",
                                     "- avant\n",
                                     "- arrière\n",
                                     "- à gauche\n",
                                     "- à droite\n",
                                     "- en haut\n",
                                     "- en bas\n",
                                     "\n",
                                     "La fonction « agent.turn() » prend un seul paramètre, « turn_direction ».\n",
                                     "\n",
                                     "Les directions valides sont : \n",
                                     "- à gauche\n",
                                     "- à droite"
                                 ]
                  },
                  {
                      "cell_type":  "code",
                      "execution_count":  null,
                      "metadata":  {
                                       "minecraft":  {
                                                         "closeCodeBuilderOnRun":  true,
                                                         "readonly":  true
                                                     }
                                   },
                      "outputs":  [

                                  ],
                      "source":  [
                                     "# move the Agent forward three blocks\n",
                                     "# and then come back to its starting location.\n",
                                     "agent.move(\"forward\")\n",
                                     "agent.move(\"forward\")\n",
                                     "agent.move(\"forward\")\n",
                                     "agent.turn(\"left\")\n",
                                     "agent.move(\"forward\")\n",
                                     "agent.turn(\"left\")\n",
                                     "agent.move(\"forward\")\n",
                                     "agent.move(\"forward\")\n",
                                     "agent.move(\"forward\")\n",
                                     "agent.turn(\"left\")\n",
                                     "agent.move(\"forward\")\n",
                                     "agent.turn(\"left\")"
                                 ]
                  },
                  {
                      "cell_type":  "markdown",
                      "metadata":  {

                                   },
                      "source":  [
                                     "# Conseil de pro :\n",
                                     "Utilisez une boucle « pour » pour exécuter facilement « agent.move() » plusieurs fois."
                                 ]
                  },
                  {
                      "cell_type":  "code",
                      "execution_count":  null,
                      "metadata":  {
                                       "minecraft":  {
                                                         "closeCodeBuilderOnRun":  true,
                                                         "readonly":  true
                                                     }
                                   },
                      "outputs":  [

                                  ],
                      "source":  [
                                     "# This code will move the Agent forward five times\n",
                                     "for i in range(5):\n",
                                     "    agent.move(\"forward\")"
                                 ]
                  },
                  {
                      "cell_type":  "markdown",
                      "metadata":  {

                                   },
                      "source":  [
                                     "# Activité :\n",
                                     "Présentez le ravageur aux villageois en programmant l’agent pour qu\u0027il marche jusqu\u0027à chaque villageois qui a une flèche au-dessus de la tête.\n",
                                     "\n",
                                     "**Remarque : Vous pouvez réinitialiser l’activité en parlant avec le PNJ ou en utilisant le bouton Réinitialiser l\u0027activité.**\n"
                                 ]
                  },
                  {
                      "cell_type":  "code",
                      "execution_count":  null,
                      "metadata":  {
                                       "minecraft":  {
                                                         "closeCodeBuilderOnRun":  true,
                                                         "default_code":  "# code here\n\n\n",
                                                         "resetWorldCommand":  "execute @e[tag=game] ~ ~ ~ function act/3/reset"
                                                     }
                                   },
                      "outputs":  [

                                  ],
                      "source":  [
                                     "# code here\n",
                                     "\n",
                                     "\n"
                                 ]
                  }
              ],
    "metadata":  {
                     "celltoolbar":  "Edit Metadata",
                     "kernelspec":  {
                                        "display_name":  "Python 3",
                                        "language":  "python",
                                        "name":  "python3"
                                    },
                     "language_info":  {
                                           "codemirror_mode":  {
                                                                   "name":  "ipython",
                                                                   "version":  3
                                                               },
                                           "file_extension":  ".py",
                                           "mimetype":  "text/x-python",
                                           "name":  "python",
                                           "nbconvert_exporter":  "python",
                                           "pygments_lexer":  "ipython3",
                                           "version":  "3.8.6"
                                       },
                     "minecraft":  {
                                       "description":  "Aww they\u0027re so cute!",
                                       "page_id":  "1.1",
                                       "page_name":  "Ravager",
                                       "style":  "minecraft.css"
                                   }
                 },
    "nbformat":  4,
    "nbformat_minor":  2
}
