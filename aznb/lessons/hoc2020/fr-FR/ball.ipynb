﻿{
    "cells":  [
                  {
                      "cell_type":  "markdown",
                      "metadata":  {

                                   },
                      "source":  [
                                     "# Récupérer le ballon\n",
                                     "\n",
                                     "On dirait bien que les leviers de l’ascenseur du villageois sont coincés. Utilisez « agent.move() » pour positionner l’agent, puis utilisez « agent.interact() » pour actionner tous les leviers afin que le villageois puisse aller récupérer le ballon des enfants.\n",
                                     "\n",
                                     "La fonction « agent.move() » prend un seul paramètre, la direction.\n",
                                     "\n",
                                     "Les directions valides sont : \n",
                                     "- avant\n",
                                     "- arrière\n",
                                     "- à gauche\n",
                                     "- à droite\n",
                                     "- en haut\n",
                                     "- en bas\n",
                                     "\n",
                                     "La fonction « agent.interact() » prend un seul paramètre, la direction.\n",
                                     "\n",
                                     "Les directions valides sont :\n",
                                     "- avant\n",
                                     "- arrière\n",
                                     "- à gauche\n",
                                     "- à droite\n",
                                     "- en haut\n",
                                     "- en bas\n"
                                 ]
                  },
                  {
                      "cell_type":  "code",
                      "execution_count":  null,
                      "metadata":  {
                                       "minecraft":  {
                                                         "closeCodeBuilderOnRun":  true,
                                                         "readonly":  true
                                                     }
                                   },
                      "outputs":  [

                                  ],
                      "source":  [
                                     "# move the agent up one block\n",
                                     "# flip the lever in front of it\n",
                                     "agent.move(\"up\")\n",
                                     "agent.interact(\"forward\")"
                                 ]
                  },
                  {
                      "cell_type":  "markdown",
                      "metadata":  {

                                   },
                      "source":  [
                                     "# Conseil de pro :\n",
                                     "Utilisez une boucle « pour » pour faire plusieurs fois un groupe d’actions."
                                 ]
                  },
                  {
                      "cell_type":  "code",
                      "execution_count":  null,
                      "metadata":  {
                                       "minecraft":  {
                                                         "closeCodeBuilderOnRun":  true,
                                                         "readonly":  true
                                                     }
                                   },
                      "outputs":  [

                                  ],
                      "source":  [
                                     "# this code will move the agent right\n",
                                     "# three times\n",
                                     "for i in range(3):\n",
                                     "    agent.move(\"right\")"
                                 ]
                  },
                  {
                      "cell_type":  "markdown",
                      "metadata":  {

                                   },
                      "source":  [
                                     "# Activité :\n",
                                     "Déplacez l’agent jusqu’à chaque levier et interagissez avec pour l\u0027activer et allumer l’ascenseur.\n",
                                     "\n",
                                     "**Remarque : Vous pouvez réinitialiser l’activité en parlant avec le PNJ ou en utilisant le bouton Réinitialiser l\u0027activité.**"
                                 ]
                  },
                  {
                      "cell_type":  "code",
                      "execution_count":  null,
                      "metadata":  {
                                       "minecraft":  {
                                                         "closeCodeBuilderOnRun":  true,
                                                         "default_code":  "# code here\n\n\n",
                                                         "resetWorldCommand":  "execute @e[tag=game] ~ ~ ~ function act/6/reset"
                                                     }
                                   },
                      "outputs":  [

                                  ],
                      "source":  [
                                     "# code here\n",
                                     "\n",
                                     "\n"
                                 ]
                  }
              ],
    "metadata":  {
                     "celltoolbar":  "Edit Metadata",
                     "kernelspec":  {
                                        "display_name":  "Python 3",
                                        "language":  "python",
                                        "name":  "python3"
                                    },
                     "language_info":  {
                                           "codemirror_mode":  {
                                                                   "name":  "ipython",
                                                                   "version":  3
                                                               },
                                           "file_extension":  ".py",
                                           "mimetype":  "text/x-python",
                                           "name":  "python",
                                           "nbconvert_exporter":  "python",
                                           "pygments_lexer":  "ipython3",
                                           "version":  "3.8.6"
                                       },
                     "minecraft":  {
                                       "description":  "Help the kids overcome their bias",
                                       "page_id":  "1.1",
                                       "page_name":  "Ball",
                                       "style":  "minecraft.css"
                                   }
                 },
    "nbformat":  4,
    "nbformat_minor":  2
}
