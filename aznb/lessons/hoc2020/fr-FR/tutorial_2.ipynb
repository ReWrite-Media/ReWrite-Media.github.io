﻿{
    "cells":  [
                  {
                      "cell_type":  "markdown",
                      "metadata":  {

                                   },
                      "source":  [
                                     "# Planter la pousse d\u0027arbre\n",
                                     "L’Agent vous a donné une « pousse d\u0027arbre » pour commémorer votre arrivée ! Pour mettre le jeune arbre dans la barre d\u0027action, nous utiliserons la fonction « player.give() ».\n",
                                     "\n",
                                     "La fonction « player.give() » prend deux paramètres. \n",
                                     "- objet (*chaîne*) : L’objet que vous voulez\n",
                                     "- nombre (*entier*) : Combien d\u0027objets vous recevrez"
                                 ]
                  },
                  {
                      "cell_type":  "code",
                      "execution_count":  null,
                      "metadata":  {
                                       "minecraft":  {
                                                         "closeCodeBuilderOnRun":  true,
                                                         "readonly":  true
                                                     }
                                   },
                      "outputs":  [

                                  ],
                      "source":  [
                                     "# give yourself 5 stone blocks\n",
                                     "player.give(\"stone\", 5)\n",
                                     "# give yourself 3 dirt blocks\n",
                                     "player.give(\"dirt\", 3)"
                                 ]
                  },
                  {
                      "cell_type":  "markdown",
                      "metadata":  {

                                   },
                      "source":  [
                                     "# Activité :\n",
                                     "Acceptez le cadeau de votre agent en vous donnant une « pousse d\u0027arbre ». Quand vous avez terminé, plantez-le manuellement sur le bloc d’herbe en le sélectionnant dans votre barre d\u0027action, en visant sur le bloc d\u0027herbe avec votre curseur et en faisant un clic droit.\n",
                                     "\n",
                                     "**Remarque : Vous pouvez réinitialiser l’activité en parlant avec le PNJ ou en utilisant le bouton Réinitialiser l\u0027activité.**"
                                 ]
                  },
                  {
                      "cell_type":  "code",
                      "execution_count":  null,
                      "metadata":  {
                                       "minecraft":  {
                                                         "closeCodeBuilderOnRun":  true,
                                                         "default_code":  "# code here\nplayer.give()\n\n",
                                                         "resetWorldCommand":  "execute @e[tag=game] ~ ~ ~ function act/1/reset"
                                                     }
                                   },
                      "outputs":  [

                                  ],
                      "source":  [
                                     "# code here\n",
                                     "player.give()\n",
                                     "\n"
                                 ]
                  }
              ],
    "metadata":  {
                     "celltoolbar":  "Edit Metadata",
                     "kernelspec":  {
                                        "display_name":  "Python 3",
                                        "language":  "python",
                                        "name":  "python3"
                                    },
                     "language_info":  {
                                           "codemirror_mode":  {
                                                                   "name":  "ipython",
                                                                   "version":  3
                                                               },
                                           "file_extension":  ".py",
                                           "mimetype":  "text/x-python",
                                           "name":  "python",
                                           "nbconvert_exporter":  "python",
                                           "pygments_lexer":  "ipython3",
                                           "version":  "3.8.6"
                                       },
                     "minecraft":  {
                                       "description":  "Plant a tree!",
                                       "page_id":  "1.1",
                                       "page_name":  "Give",
                                       "style":  "minecraft.css"
                                   }
                 },
    "nbformat":  4,
    "nbformat_minor":  2
}
