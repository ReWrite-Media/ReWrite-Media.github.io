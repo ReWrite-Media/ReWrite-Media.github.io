﻿{
    "cells":  [
                  {
                      "cell_type":  "markdown",
                      "metadata":  {

                                   },
                      "source":  [
                                     "# Protéger les betteraves\n",
                                     "Quelque chose s\u0027introduit régulièrement dans le jardin pour voler des betteraves. Faites construire un enclos par l\u0027Agent autour de la ferme pour assurer la sécurité des betteraves. Utilisez `agent.give()` pour donner à l’agent des barreaux de fer (`iron_bars`), `agent.place()` pour placer les iron_bars, `agent.turn()` pour faire pivoter l’agent et `agent.move()` pour déplacer l’agent dans le jardin.\n",
                                     "\n",
                                     "La fonction `agent.give()` prend trois paramètres.  \n",
                                     "\n",
                                     "- objet (*chaîne*) : L\u0027emplacement d’inventaire où l’Agent reçoit l’objet.\n",
                                     "- nombre (*entier*) : Combien d\u0027objets recevra l’Agent.\n",
                                     "- emplacement (*entier*) : Dans quel emplacement d’inventaire l’Agent recevra l\u0027objet.\n",
                                     "\n",
                                     "La fonction `agent.place()` prend deux paramètres.  \n",
                                     "\n",
                                     "- numéro d\u0027emplacement (*entier*) : Quel emplacement d’inventaire l’Agent doit utiliser.\n",
                                     "- direction (*chaîne*): La direction dans laquelle vous voulez que l’agent aille placer l\u0027objet.\n",
                                     "    - Les directions valides sont : \n",
                                     "        - forward\n",
                                     "        - back\n",
                                     "        - left\n",
                                     "        - right\n",
                                     "        - up\n",
                                     "        - down\n",
                                     "\n"
                                 ]
                  },
                  {
                      "cell_type":  "code",
                      "execution_count":  null,
                      "metadata":  {
                                       "minecraft":  {
                                                         "closeCodeBuilderOnRun":  true,
                                                         "readonly":  true
                                                     }
                                   },
                      "outputs":  [

                                  ],
                      "source":  [
                                     "# cela fera avancer l\u0027agent d\u0027un bloc\n",
                                     "# donner les iron_bars à l\u0027agent et placer \n",
                                     "# les iron_bars en dessous.\n",
                                     "agent.move(\"forward\")\n",
                                     "agent.give(\"iron_bars\", 2, 1)\n",
                                     "agent.place(1, \"down\")"
                                 ]
                  },
                  {
                      "cell_type":  "markdown",
                      "metadata":  {

                                   },
                      "source":  [
                                     "La fonction « agent.move() » prend un seul paramètre, la direction.\n",
                                     "\n",
                                     "Les directions valides sont : \n",
                                     "- forward\n",
                                     "- back\n",
                                     "- left\n",
                                     "- right\n",
                                     "- up\n",
                                     "- down\n",
                                     "\n",
                                     "La fonction `agent.turn()` prend un seul paramètre, « turn_direction ».\n",
                                     "\n",
                                     "Les directions valides sont : \n",
                                     "- left\n",
                                     "- right"
                                 ]
                  },
                  {
                      "cell_type":  "code",
                      "execution_count":  null,
                      "metadata":  {
                                       "minecraft":  {
                                                         "closeCodeBuilderOnRun":  true,
                                                         "readonly":  true
                                                     }
                                   },
                      "outputs":  [

                                  ],
                      "source":  [
                                     "# faire avancer l\u0027agent d\u0027un bloc.\n",
                                     "agent.move(\"forward\")\n",
                                     "# faire reculer l\u0027agent d\u0027un bloc.\n",
                                     "agent.move(\"back\")\n",
                                     "# déplacer l\u0027agent d\u0027un bloc à gauche.\n",
                                     "agent.move(\"left\")\n",
                                     "# déplacer l\u0027agent d\u0027un bloc à droite.\n",
                                     "agent.move(\"right\")\n",
                                     "\n",
                                     "# ceci fera tourner l\u0027agent à droite\n",
                                     "agent.turn(\"right\")\n",
                                     "# ceci fera tourner l\u0027agent à gauche\n",
                                     "agent.turn(\"left\")"
                                 ]
                  },
                  {
                      "cell_type":  "markdown",
                      "metadata":  {

                                   },
                      "source":  [
                                     "# Conseil de pro :\n",
                                     "Utilisez une boucle `for` pour faire plusieurs fois un groupe d’actions."
                                 ]
                  },
                  {
                      "cell_type":  "code",
                      "execution_count":  null,
                      "metadata":  {
                                       "minecraft":  {
                                                         "closeCodeBuilderOnRun":  true,
                                                         "readonly":  true
                                                     }
                                   },
                      "outputs":  [

                                  ],
                      "source":  [
                                     "# ce code fera avancer l\u0027agent\n",
                                     "# et placera cinq fois les iron_bars en dessous de lui\n",
                                     "for i in range(5):\n",
                                     "    agent.move(\"forward\")\n",
                                     "    agent.give(\"iron_bars\", 2, 1)\n",
                                     "    agent.place(1, \"down\")"
                                 ]
                  },
                  {
                      "cell_type":  "markdown",
                      "metadata":  {

                                   },
                      "source":  [
                                     "# Activité :\n",
                                     "Placez des barreaux de fer autour du jardin de betteraves entre les blocs de pierre. \n",
                                     "\n",
                                     "**Remarque : Vous pouvez réinitialiser l’activité en parlant avec le PNJ ou en utilisant le bouton Réinitialiser l\u0027activité.**"
                                 ]
                  },
                  {
                      "cell_type":  "code",
                      "execution_count":  null,
                      "metadata":  {
                                       "minecraft":  {
                                                         "closeCodeBuilderOnRun":  true,
                                                         "default_code":  "# code here\n\n\n",
                                                         "resetWorldCommand":  "execute @e[tag=game] ~ ~ ~ function act/4/reset"
                                                     }
                                   },
                      "outputs":  [

                                  ],
                      "source":  [
                                     "# code ici\n",
                                     "\n",
                                     "\n"
                                 ]
                  }
              ],
    "metadata":  {
                     "celltoolbar":  "Edit Metadata",
                     "kernelspec":  {
                                        "display_name":  "Python 3",
                                        "language":  "python",
                                        "name":  "python3"
                                    },
                     "language_info":  {
                                           "codemirror_mode":  {
                                                                   "name":  "ipython",
                                                                   "version":  3
                                                               },
                                           "file_extension":  ".py",
                                           "mimetype":  "text/x-python",
                                           "name":  "python",
                                           "nbconvert_exporter":  "python",
                                           "pygments_lexer":  "ipython3",
                                           "version":  "3.8.6"
                                       },
                     "minecraft":  {
                                       "description":  "Protect those beets",
                                       "page_id":  "1.1",
                                       "page_name":  "Betteraves",
                                       "style":  "minecraft.css"
                                   }
                 },
    "nbformat":  4,
    "nbformat_minor":  2
}
