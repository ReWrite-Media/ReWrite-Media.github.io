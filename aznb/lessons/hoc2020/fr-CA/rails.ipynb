﻿{
    "cells":  [
                  {
                      "cell_type":  "markdown",
                      "metadata":  {

                                   },
                      "source":  [
                                     "# Unir les villages\n",
                                     "Les illageois ont l’impression que les villageois ne les aiment pas parce que très peu d\u0027entre eux viennent à leur fête. Mais, si peu de villageois s\u0027y rendent, c’est parce qu’il est trop difficile de monter la colline entre les deux villages. Utilise `agent.give()` pour donner à l’agent un `rail` de wagonnet et `agent.place()` pour créer un rail entre les deux villages.\n",
                                     "\n",
                                     "La fonction `agent.give()` utilise trois paramètres.  \n",
                                     "\n",
                                     "- Objet (*chaîne*) : l\u0027objet que tu souhaites donner à l’agent.\n",
                                     "- Compte (*entier*) : combien d\u0027objets l’agent recevra.\n",
                                     "- Emplacement (*entier*) : l\u0027emplacement d’inventaire où l’agent reçoit l\u0027objet.\n",
                                     "\n",
                                     "La fonction `agent.place()` utilise deux paramètres.  \n",
                                     "\n",
                                     "- Numéro d’emplacement (*entier*) : l\u0027emplacement d’inventaire que l’agent doit utiliser.\n",
                                     "- Direction (*chaîne*) : la direction dans laquelle tu souhaites que l’agent place l’objet.\n",
                                     "    - Les directions valides sont : \n",
                                     "        - forward\n",
                                     "        - back\n",
                                     "        - left\n",
                                     "        - right\n",
                                     "        - up\n",
                                     "        - down"
                                 ]
                  },
                  {
                      "cell_type":  "code",
                      "execution_count":  null,
                      "metadata":  {
                                       "minecraft":  {
                                                         "closeCodeBuilderOnRun":  true,
                                                         "readonly":  true
                                                     }
                                   },
                      "outputs":  [

                                  ],
                      "source":  [
                                     "# ceci donnera à l’agent deux rails\n",
                                     "# puis en placera une au sol et avancera\n",
                                     "agent.give(\"rail\", 2, 1)\n",
                                     "agent.place(1, \"down\")\n",
                                     "agent.move(\"forward\")\n",
                                     "\n"
                                 ]
                  },
                  {
                      "cell_type":  "markdown",
                      "metadata":  {

                                   },
                      "source":  [
                                     "La fonction `agent.move()` utilise un paramètre : direction.\n",
                                     "\n",
                                     "Les directions valides sont : \n",
                                     "- forward\n",
                                     "- back\n",
                                     "- left\n",
                                     "- right\n",
                                     "- up\n",
                                     "- down"
                                 ]
                  },
                  {
                      "cell_type":  "code",
                      "execution_count":  null,
                      "metadata":  {
                                       "minecraft":  {
                                                         "closeCodeBuilderOnRun":  true,
                                                         "readonly":  true
                                                     }
                                   },
                      "outputs":  [

                                  ],
                      "source":  [
                                     "# déplacer l’agent vers l\u0027avant d\u0027un bloc.\n",
                                     "agent.move(\"forward\")\n",
                                     "# déplacer l’agent vers l’arrière d\u0027un bloc.\n",
                                     "agent.move(\"back\")\n",
                                     "# déplacer l’agent vers la gauche d\u0027un bloc.\n",
                                     "agent.move(\"left\")\n",
                                     "# déplacer l’agent vers la droite d\u0027un bloc.\n",
                                     "agent.move(\"right\")\n"
                                 ]
                  },
                  {
                      "cell_type":  "markdown",
                      "metadata":  {

                                   },
                      "source":  [
                                     "# Conseil de pro :\n",
                                     "Utilise une boucle `for` pour faire un groupe d’actions plusieurs fois."
                                 ]
                  },
                  {
                      "cell_type":  "code",
                      "execution_count":  null,
                      "metadata":  {
                                       "minecraft":  {
                                                         "closeCodeBuilderOnRun":  true,
                                                         "readonly":  true
                                                     }
                                   },
                      "outputs":  [

                                  ],
                      "source":  [
                                     "# ceci fera en sorte que l’agent place\n",
                                     "# un rail sous lui puis avancer.\n",
                                     "# ceci se répétera quatre fois.\n",
                                     "for i in range(4):\n",
                                     "    agent.give(\"rail\", 2, 1)\n",
                                     "    agent.place(1, \"down\")\n",
                                     "    agent.move(\"forward\")"
                                 ]
                  },
                  {
                      "cell_type":  "markdown",
                      "metadata":  {

                                   },
                      "source":  [
                                     "# Activité :\n",
                                     "Crée un rail à l’intérieur du tunnel entre les deux poteaux de bois et de pierre.\n",
                                     "\n",
                                     "** Remarque : Il est possible de réinitialiser l’activité en parlant avec le PNJ ou en utilisant le bouton Réinitialiser l\u0027activité. **"
                                 ]
                  },
                  {
                      "cell_type":  "code",
                      "execution_count":  null,
                      "metadata":  {
                                       "minecraft":  {
                                                         "closeCodeBuilderOnRun":  true,
                                                         "default_code":  "# code here\n\n\n",
                                                         "resetWorldCommand":  "execute @e[tag=game] ~ ~ ~ function act/7/reset"
                                                     }
                                   },
                      "outputs":  [

                                  ],
                      "source":  [
                                     "# coder ici\n",
                                     "\n",
                                     "\n"
                                 ]
                  }
              ],
    "metadata":  {
                     "celltoolbar":  "Edit Metadata",
                     "kernelspec":  {
                                        "display_name":  "Python 3",
                                        "language":  "python",
                                        "name":  "python3"
                                    },
                     "language_info":  {
                                           "codemirror_mode":  {
                                                                   "name":  "ipython",
                                                                   "version":  3
                                                               },
                                           "file_extension":  ".py",
                                           "mimetype":  "text/x-python",
                                           "name":  "python",
                                           "nbconvert_exporter":  "python",
                                           "pygments_lexer":  "ipython3",
                                           "version":  "3.8.6"
                                       },
                     "minecraft":  {
                                       "description":  "Let\u0027s help the party!",
                                       "page_id":  "1.1",
                                       "page_name":  "Rails",
                                       "style":  "minecraft.css"
                                   }
                 },
    "nbformat":  4,
    "nbformat_minor":  2
}
