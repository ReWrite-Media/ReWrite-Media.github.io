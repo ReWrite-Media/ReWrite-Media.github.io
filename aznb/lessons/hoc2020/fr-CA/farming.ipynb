﻿{
    "cells":  [
                  {
                      "cell_type":  "markdown",
                      "metadata":  {

                                   },
                      "source":  [
                                     "# Construire une ferme\n",
                                     "Les villageois ont offert d’enseigner l\u0027agriculture aux illageois, mais ils ont besoin d’aide pour préparer la terre. Utilise « agent.till() » pour que l’agent laboure les 2 premières rangées de terre.\n",
                                     "\n",
                                     "La fonction « agent.till() » utilise un paramètre : direction.\n",
                                     "\n",
                                     "Les directions valides sont : \n",
                                     "- vers l’avant\n",
                                     "- vers l\u0027arrière\n",
                                     "- vers la gauche\n",
                                     "- vers la droite\n",
                                     "\n",
                                     "La fonction « agent.move() » utilise un paramètre : direction.\n",
                                     "\n",
                                     "Les directions valides sont : \n",
                                     "- vers l’avant\n",
                                     "- vers l\u0027arrière\n",
                                     "- vers la gauche\n",
                                     "- vers la droite\n",
                                     "- vers le haut\n",
                                     "- vers le bas"
                                 ]
                  },
                  {
                      "cell_type":  "code",
                      "execution_count":  null,
                      "metadata":  {
                                       "minecraft":  {
                                                         "closeCodeBuilderOnRun":  true,
                                                         "readonly":  true
                                                     }
                                   },
                      "outputs":  [

                                  ],
                      "source":  [
                                     "# move the agent forward and till\n",
                                     "# the block behind it\n",
                                     "agent.move(\"forward\")\n",
                                     "agent.till(\"back\")"
                                 ]
                  },
                  {
                      "cell_type":  "markdown",
                      "metadata":  {

                                   },
                      "source":  [
                                     "La fonction « agent.turn() » utilise un paramètre : turn_direction.\n",
                                     "\n",
                                     "Les directions valides sont : \n",
                                     "- vers la gauche\n",
                                     "- vers la droite"
                                 ]
                  },
                  {
                      "cell_type":  "code",
                      "execution_count":  null,
                      "metadata":  {
                                       "minecraft":  {
                                                         "closeCodeBuilderOnRun":  true,
                                                         "readonly":  true
                                                     }
                                   },
                      "outputs":  [

                                  ],
                      "source":  [
                                     "# this will turn the Agent right\n",
                                     "agent.turn(\"right\")\n",
                                     "# this will turn the Agent left\n",
                                     "agent.turn(\"left\")"
                                 ]
                  },
                  {
                      "cell_type":  "markdown",
                      "metadata":  {

                                   },
                      "source":  [
                                     "# Conseil de pro :\n",
                                     "Utilise une boucle « for » pour faire un groupe d’actions plusieurs fois."
                                 ]
                  },
                  {
                      "cell_type":  "code",
                      "execution_count":  null,
                      "metadata":  {
                                       "minecraft":  {
                                                         "closeCodeBuilderOnRun":  true,
                                                         "readonly":  true
                                                     }
                                   },
                      "outputs":  [

                                  ],
                      "source":  [
                                     "# this will move the agent forward\n",
                                     "# and till behind it nine times\n",
                                     "for i in range(9):\n",
                                     "    agent.move(\"forward\")\n",
                                     "    agent.till(\"back\")"
                                 ]
                  },
                  {
                      "cell_type":  "markdown",
                      "metadata":  {

                                   },
                      "source":  [
                                     "# Activité :\n",
                                     "Jusqu’aux deux premières rangées de la ferme.\n",
                                     "\n",
                                     "** Remarque : Il est possible de réinitialiser l’activité en parlant avec le PNJ ou en utilisant le bouton Réinitialiser le monde. **"
                                 ]
                  },
                  {
                      "cell_type":  "code",
                      "execution_count":  null,
                      "metadata":  {
                                       "minecraft":  {
                                                         "closeCodeBuilderOnRun":  true,
                                                         "default_code":  "# code here\n\n\n",
                                                         "resetWorldCommand":  "execute @e[tag=game] ~ ~ ~ function act/5/reset"
                                                     }
                                   },
                      "outputs":  [

                                  ],
                      "source":  [
                                     "# code here\n",
                                     "\n",
                                     "\n"
                                 ]
                  }
              ],
    "metadata":  {
                     "celltoolbar":  "Edit Metadata",
                     "kernelspec":  {
                                        "display_name":  "Python 3",
                                        "language":  "python",
                                        "name":  "python3"
                                    },
                     "language_info":  {
                                           "codemirror_mode":  {
                                                                   "name":  "ipython",
                                                                   "version":  3
                                                               },
                                           "file_extension":  ".py",
                                           "mimetype":  "text/x-python",
                                           "name":  "python",
                                           "nbconvert_exporter":  "python",
                                           "pygments_lexer":  "ipython3",
                                           "version":  "3.8.6"
                                       },
                     "minecraft":  {
                                       "description":  "Let\u0027s learn farming!",
                                       "page_id":  "1.1",
                                       "page_name":  "Farming",
                                       "style":  "minecraft.css"
                                   }
                 },
    "nbformat":  4,
    "nbformat_minor":  2
}
