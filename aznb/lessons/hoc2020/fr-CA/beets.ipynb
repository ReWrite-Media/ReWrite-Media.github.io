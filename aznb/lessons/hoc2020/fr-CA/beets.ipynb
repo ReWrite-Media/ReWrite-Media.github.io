﻿{
    "cells":  [
                  {
                      "cell_type":  "markdown",
                      "metadata":  {

                                   },
                      "source":  [
                                     "# Protéger les betteraves\n",
                                     "Quelque chose continue d’entrer dans le jardin pour voler des betteraves. Demande à l’agent de construire un enclos autour de la ferme pour protéger les betteraves. Utilise « agent.give() » pour donner à l’agent des « iron_bars », « agent.place() » pour placer les barreaux en fer (iron_bars), « agent.turn() » pour tourner l’agent et « agent.move() » pour le déplacer l’agent.\n",
                                     "\n",
                                     "La fonction « agent.give() » utilise trois paramètres.  \n",
                                     "\n",
                                     "- Objet (*chaîne*) : l’emplacement d’inventaire où l’agent reçoit l\u0027objet.\n",
                                     "- Compte (*entier*) : combien d\u0027objets l’agent recevra.\n",
                                     "- Emplacement (*entier*) : l\u0027emplacement d’inventaire où l’agent reçoit l\u0027objet.\n",
                                     "\n",
                                     "La fonction « agent.place() » utilise deux paramètres.  \n",
                                     "\n",
                                     "- Numéro d’emplacement (*entier*) : l\u0027emplacement d’inventaire que l’agent doit utiliser.\n",
                                     "- Direction (*chaîne*) : la direction dans laquelle tu souhaites que l’agent place l’objet.\n",
                                     "    - Les directions valides sont : \n",
                                     "        - vers l\u0027avant\n",
                                     "        - vers l\u0027arrière\n",
                                     "        - vers la gauche\n",
                                     "        - vers la droite\n",
                                     "        - vers le haut\n",
                                     "        - vers le bas\n",
                                     "\n"
                                 ]
                  },
                  {
                      "cell_type":  "code",
                      "execution_count":  null,
                      "metadata":  {
                                       "minecraft":  {
                                                         "closeCodeBuilderOnRun":  true,
                                                         "readonly":  true
                                                     }
                                   },
                      "outputs":  [

                                  ],
                      "source":  [
                                     "# this will move the Agent forward one block\n",
                                     "# give the Agent iron_bars, and then place \n",
                                     "# the iron_bars below it.\n",
                                     "agent.move(\"forward\")\n",
                                     "agent.give(\"iron_bars\", 2, 1)\n",
                                     "agent.place(1, \"down\")"
                                 ]
                  },
                  {
                      "cell_type":  "markdown",
                      "metadata":  {

                                   },
                      "source":  [
                                     "La fonction « agent.move() » utilise un paramètre : direction.\n",
                                     "\n",
                                     "Les directions valides sont : \n",
                                     "- vers l’avant\n",
                                     "- vers l\u0027arrière\n",
                                     "- vers la gauche\n",
                                     "- vers la droite\n",
                                     "- vers le haut\n",
                                     "- vers le bas\n",
                                     "\n",
                                     "La fonction « agent.turn() » utilise un paramètre : turn_direction.\n",
                                     "\n",
                                     "Les directions valides sont : \n",
                                     "- vers la gauche\n",
                                     "- vers la droite"
                                 ]
                  },
                  {
                      "cell_type":  "code",
                      "execution_count":  null,
                      "metadata":  {
                                       "minecraft":  {
                                                         "closeCodeBuilderOnRun":  true,
                                                         "readonly":  true
                                                     }
                                   },
                      "outputs":  [

                                  ],
                      "source":  [
                                     "# move the Agent forward one block.\n",
                                     "agent.move(\"forward\")\n",
                                     "# move the Agent backward one block.\n",
                                     "agent.move(\"back\")\n",
                                     "# move the Agent left one block.\n",
                                     "agent.move(\"left\")\n",
                                     "# move the Agent right one block.\n",
                                     "agent.move(\"right\")\n",
                                     "\n",
                                     "# this will turn the Agent right\n",
                                     "agent.turn(\"right\")\n",
                                     "# this will turn the Agent left\n",
                                     "agent.turn(\"left\")"
                                 ]
                  },
                  {
                      "cell_type":  "markdown",
                      "metadata":  {

                                   },
                      "source":  [
                                     "# Conseil de pro :\n",
                                     "Utilise une boucle « for » pour faire un groupe d’actions plusieurs fois."
                                 ]
                  },
                  {
                      "cell_type":  "code",
                      "execution_count":  null,
                      "metadata":  {
                                       "minecraft":  {
                                                         "closeCodeBuilderOnRun":  true,
                                                         "readonly":  true
                                                     }
                                   },
                      "outputs":  [

                                  ],
                      "source":  [
                                     "# this code will move the Agent forward\n",
                                     "# and place iron_bars below it five times\n",
                                     "for i in range(5):\n",
                                     "    agent.move(\"forward\")\n",
                                     "    agent.give(\"iron_bars\", 2, 1)\n",
                                     "    agent.place(1, \"down\")"
                                 ]
                  },
                  {
                      "cell_type":  "markdown",
                      "metadata":  {

                                   },
                      "source":  [
                                     "# Activité :\n",
                                     "Place des barreaux en fer autour du jardin de betteraves entre les blocs de pierre. \n",
                                     "\n",
                                     "** Remarque : Il est possible de réinitialiser l’activité en parlant avec le PNJ ou en utilisant le bouton Réinitialiser le monde. **"
                                 ]
                  },
                  {
                      "cell_type":  "code",
                      "execution_count":  null,
                      "metadata":  {
                                       "minecraft":  {
                                                         "closeCodeBuilderOnRun":  true,
                                                         "default_code":  "# code here\n\n\n",
                                                         "resetWorldCommand":  "execute @e[tag=game] ~ ~ ~ function act/4/reset"
                                                     }
                                   },
                      "outputs":  [

                                  ],
                      "source":  [
                                     "# code here\n",
                                     "\n",
                                     "\n"
                                 ]
                  }
              ],
    "metadata":  {
                     "celltoolbar":  "Edit Metadata",
                     "kernelspec":  {
                                        "display_name":  "Python 3",
                                        "language":  "python",
                                        "name":  "python3"
                                    },
                     "language_info":  {
                                           "codemirror_mode":  {
                                                                   "name":  "ipython",
                                                                   "version":  3
                                                               },
                                           "file_extension":  ".py",
                                           "mimetype":  "text/x-python",
                                           "name":  "python",
                                           "nbconvert_exporter":  "python",
                                           "pygments_lexer":  "ipython3",
                                           "version":  "3.8.6"
                                       },
                     "minecraft":  {
                                       "description":  "Protect those beets",
                                       "page_id":  "1.1",
                                       "page_name":  "Beets",
                                       "style":  "minecraft.css"
                                   }
                 },
    "nbformat":  4,
    "nbformat_minor":  2
}
