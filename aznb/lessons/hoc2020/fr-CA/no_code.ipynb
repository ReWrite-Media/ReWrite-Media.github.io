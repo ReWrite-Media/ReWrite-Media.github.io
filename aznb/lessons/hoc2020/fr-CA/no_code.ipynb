﻿{
    "cells":  [
                  {
                      "cell_type":  "markdown",
                      "metadata":  {

                                   },
                      "source":  [
                                     "# Pas de code nécessaire!\n",
                                     "On dirait que tu n\u0027as pas commencé de nouvelle activité ou qu\u0027il n’y a pas de programmation à faire en ce moment. Regarde si quelqu’un dans la ville a besoin d\u0027aide!"
                                 ]
                  }
              ],
    "metadata":  {
                     "kernelspec":  {
                                        "display_name":  "Python 3",
                                        "language":  "python",
                                        "name":  "python3"
                                    },
                     "language_info":  {
                                           "codemirror_mode":  {
                                                                   "name":  "ipython",
                                                                   "version":  3
                                                               },
                                           "file_extension":  ".py",
                                           "mimetype":  "text/x-python",
                                           "name":  "python",
                                           "nbconvert_exporter":  "python",
                                           "pygments_lexer":  "ipython3",
                                           "version":  "3.8.6"
                                       },
                     "minecraft":  {
                                       "description":  "No code needed!",
                                       "page_id":  "1.1",
                                       "page_name":  "Pas de code",
                                       "style":  "minecraft.css"
                                   }
                 },
    "nbformat":  4,
    "nbformat_minor":  2
}
