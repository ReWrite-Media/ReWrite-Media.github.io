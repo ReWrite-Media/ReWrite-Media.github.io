﻿{
    "cells":  [
                  {
                      "cell_type":  "markdown",
                      "metadata":  {

                                   },
                      "source":  [
                                     "# Stavba farmy\n",
                                     "Dedinčania sa ponúkli, že naučia záškodníkov farmárčiť, ale potrebujú pomoc pri príprave pôdy. Pomocou funkcie agent.till() nechajte agenta obrobiť prvé 2 riadky hliny.\n",
                                     "\n",
                                     "Funkcia agent.till() má jeden parameter, a to smer.\n",
                                     "\n",
                                     "Platné smery sú: \n",
                                     "- forward (dopredu)\n",
                                     "- back (dozadu)\n",
                                     "- left (doľava)\n",
                                     "- right (doprava)\n",
                                     "\n",
                                     "Funkcia agent.move() má jeden parameter, a to smer.\n",
                                     "\n",
                                     "Platné smery sú: \n",
                                     "- forward (dopredu)\n",
                                     "- back (dozadu)\n",
                                     "- left (doľava)\n",
                                     "- right (doprava)\n",
                                     "- up (nahor)\n",
                                     "- down (nadol)"
                                 ]
                  },
                  {
                      "cell_type":  "code",
                      "execution_count":  null,
                      "metadata":  {
                                       "minecraft":  {
                                                         "closeCodeBuilderOnRun":  true,
                                                         "readonly":  true
                                                     }
                                   },
                      "outputs":  [

                                  ],
                      "source":  [
                                     "# presuňte agenta dopredu a obrobte\n",
                                     "# blok za ním\n",
                                     "agent.move(\"forward\")\n",
                                     "agent.till(\"back\")"
                                 ]
                  },
                  {
                      "cell_type":  "markdown",
                      "metadata":  {

                                   },
                      "source":  [
                                     "Funkcia `agent.turn()` má jeden parameter, a to turn_direction.\n",
                                     "\n",
                                     "Platné smery sú: \n",
                                     "- left (doľava)\n",
                                     "- right (doprava)"
                                 ]
                  },
                  {
                      "cell_type":  "code",
                      "execution_count":  null,
                      "metadata":  {
                                       "minecraft":  {
                                                         "closeCodeBuilderOnRun":  true,
                                                         "readonly":  true
                                                     }
                                   },
                      "outputs":  [

                                  ],
                      "source":  [
                                     "# týmto sa agent presunie doprava\n",
                                     "agent.turn(\"right\")\n",
                                     "# týmto sa agent presunie doľava\n",
                                     "agent.turn(\"left\")"
                                 ]
                  },
                  {
                      "cell_type":  "markdown",
                      "metadata":  {

                                   },
                      "source":  [
                                     "# Profesionálny tip:\n",
                                     "Pomocou slučky for vykonajte skupinu akcií viackrát."
                                 ]
                  },
                  {
                      "cell_type":  "code",
                      "execution_count":  null,
                      "metadata":  {
                                       "minecraft":  {
                                                         "closeCodeBuilderOnRun":  true,
                                                         "readonly":  true
                                                     }
                                   },
                      "outputs":  [

                                  ],
                      "source":  [
                                     "# týmto sa agent presunie dopredu\n",
                                     "# a deväťkrát za ním obrobte\n",
                                     "for i in range(9):\n",
                                     "    agent.move(\"forward\")\n",
                                     "    agent.till(\"back\")"
                                 ]
                  },
                  {
                      "cell_type":  "markdown",
                      "metadata":  {

                                   },
                      "source":  [
                                     "# Aktivita:\n",
                                     "Obrobte prvé dva riadky farmy.\n",
                                     "\n",
                                     "**Poznámka: Aktivitu môžete obnoviť tak, že sa porozprávate s osobou NPC alebo použijete tlačidlo Obnoviť aktivitu.**"
                                 ]
                  },
                  {
                      "cell_type":  "code",
                      "execution_count":  null,
                      "metadata":  {
                                       "minecraft":  {
                                                         "closeCodeBuilderOnRun":  true,
                                                         "default_code":  "# code here\n\n\n",
                                                         "resetWorldCommand":  "execute @e[tag=game] ~ ~ ~ function act/5/reset"
                                                     }
                                   },
                      "outputs":  [

                                  ],
                      "source":  [
                                     "# zadajte kód sem\n",
                                     "\n",
                                     "\n"
                                 ]
                  }
              ],
    "metadata":  {
                     "celltoolbar":  "Edit Metadata",
                     "kernelspec":  {
                                        "display_name":  "Python 3",
                                        "language":  "python",
                                        "name":  "python3"
                                    },
                     "language_info":  {
                                           "codemirror_mode":  {
                                                                   "name":  "ipython",
                                                                   "version":  3
                                                               },
                                           "file_extension":  ".py",
                                           "mimetype":  "text/x-python",
                                           "name":  "python",
                                           "nbconvert_exporter":  "python",
                                           "pygments_lexer":  "ipython3",
                                           "version":  "3.8.6"
                                       },
                     "minecraft":  {
                                       "description":  "Let\u0027s learn farming!",
                                       "page_id":  "1.1",
                                       "page_name":  "Poľnohospodárstvo",
                                       "style":  "minecraft.css"
                                   }
                 },
    "nbformat":  4,
    "nbformat_minor":  2
}
