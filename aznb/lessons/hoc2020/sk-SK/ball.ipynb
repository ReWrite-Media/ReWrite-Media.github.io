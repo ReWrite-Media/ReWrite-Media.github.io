﻿{
    "cells":  [
                  {
                      "cell_type":  "markdown",
                      "metadata":  {

                                   },
                      "source":  [
                                     "# Získajte loptu\n",
                                     "\n",
                                     "Zdá sa, že sa na výťahu dedinčanky zasekli páčky. Pomocou funkcie agent.move() umiestnite agenta a potom pomocou funkcie agent.interact() prepnite všetky páčky, aby dedinčanka mohla zniesť loptu detí dole.\n",
                                     "\n",
                                     "Funkcia agent.move() má jeden parameter, a to smer.\n",
                                     "\n",
                                     "Platné smery sú: \n",
                                     "- forward (dopredu)\n",
                                     "- back (dozadu)\n",
                                     "- left (doľava)\n",
                                     "- right (doprava)\n",
                                     "- up (nahor)\n",
                                     "- down (nadol)\n",
                                     "\n",
                                     "Funkcia agent.interact() má jeden parameter, a to smer.\n",
                                     "\n",
                                     "Platné smery sú:\n",
                                     "- forward (dopredu)\n",
                                     "- back (dozadu)\n",
                                     "- left (doľava)\n",
                                     "- right (doprava)\n",
                                     "- up (nahor)\n",
                                     "- down (nadol)\n"
                                 ]
                  },
                  {
                      "cell_type":  "code",
                      "execution_count":  null,
                      "metadata":  {
                                       "minecraft":  {
                                                         "closeCodeBuilderOnRun":  true,
                                                         "readonly":  true
                                                     }
                                   },
                      "outputs":  [

                                  ],
                      "source":  [
                                     "# presuňte agenta o jeden blok vyššie\n",
                                     "# otočte páčku pred ním\n",
                                     "agent.move(\"up\")\n",
                                     "agent.interact(\"forward\")"
                                 ]
                  },
                  {
                      "cell_type":  "markdown",
                      "metadata":  {

                                   },
                      "source":  [
                                     "# Profesionálny tip:\n",
                                     "Pomocou slučky for vykonajte skupinu akcií viackrát."
                                 ]
                  },
                  {
                      "cell_type":  "code",
                      "execution_count":  null,
                      "metadata":  {
                                       "minecraft":  {
                                                         "closeCodeBuilderOnRun":  true,
                                                         "readonly":  true
                                                     }
                                   },
                      "outputs":  [

                                  ],
                      "source":  [
                                     "# tento kód presunie agenta doprava\n",
                                     "# trikrát\n",
                                     "for i in range(3):\n",
                                     "    agent.move(\"right\")"
                                 ]
                  },
                  {
                      "cell_type":  "markdown",
                      "metadata":  {

                                   },
                      "source":  [
                                     "# Aktivita:\n",
                                     "Presuňte agenta ku každej páčke a pomocou interakcie ich prepnite a zapnite výťah.\n",
                                     "\n",
                                     "**Poznámka: Aktivitu môžete obnoviť tak, že sa porozprávate s osobou NPC alebo použijete tlačidlo Obnoviť aktivitu.**"
                                 ]
                  },
                  {
                      "cell_type":  "code",
                      "execution_count":  null,
                      "metadata":  {
                                       "minecraft":  {
                                                         "closeCodeBuilderOnRun":  true,
                                                         "default_code":  "# code here\n\n\n",
                                                         "resetWorldCommand":  "execute @e[tag=game] ~ ~ ~ function act/6/reset"
                                                     }
                                   },
                      "outputs":  [

                                  ],
                      "source":  [
                                     "# zadajte kód sem\n",
                                     "\n",
                                     "\n"
                                 ]
                  }
              ],
    "metadata":  {
                     "celltoolbar":  "Edit Metadata",
                     "kernelspec":  {
                                        "display_name":  "Python 3",
                                        "language":  "python",
                                        "name":  "python3"
                                    },
                     "language_info":  {
                                           "codemirror_mode":  {
                                                                   "name":  "ipython",
                                                                   "version":  3
                                                               },
                                           "file_extension":  ".py",
                                           "mimetype":  "text/x-python",
                                           "name":  "python",
                                           "nbconvert_exporter":  "python",
                                           "pygments_lexer":  "ipython3",
                                           "version":  "3.8.6"
                                       },
                     "minecraft":  {
                                       "description":  "Help the kids overcome their bias",
                                       "page_id":  "1.1",
                                       "page_name":  "Guľa",
                                       "style":  "minecraft.css"
                                   }
                 },
    "nbformat":  4,
    "nbformat_minor":  2
}
