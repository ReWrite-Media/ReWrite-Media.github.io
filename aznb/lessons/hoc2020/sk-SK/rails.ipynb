﻿{
    "cells":  [
                  {
                      "cell_type":  "markdown",
                      "metadata":  {

                                   },
                      "source":  [
                                     "# Spojte dediny\n",
                                     "Záškodníci majú pocit, že ich dedinčania nemajú radi, pretože na jarmok ich chodí len veľmi málo. Dôvod, prečo chodí len málo dedinčanov, je ten, že je príliš ťažké dostať sa na kopec medzi dvoma dedinami. Pomocou funkcie agent.give() dajte agentovi koľajnicu pre banský vozík a pomocou funkcie agent.place() vytvorte medzi týmito dvoma dedinami železnicu pre banský vozík.\n",
                                     "\n",
                                     "Funkcia agent.give() má tri parametre.  \n",
                                     "\n",
                                     "- predmet (*string*): Predmet, ktorý chcete dať agentovi.\n",
                                     "- počet (*celé číslo*): Koľko predmetov agent dostane.\n",
                                     "- slot (*celé číslo*): Slot v inventári, do ktorého agent dostane predmet.\n",
                                     "\n",
                                     "Funkcia agent.place() má dva parametre.  \n",
                                     "\n",
                                     "- číslo slotu (*celé číslo*): Slot v inventári, ktorý má agent použiť.\n",
                                     "- smer (*string*): Smer, kam má agent umiestniť predmet.\n",
                                     "    - Platné smery sú: \n",
                                     "        - dopredu\n",
                                     "        - dozadu\n",
                                     "        - doľava\n",
                                     "        - doprava\n",
                                     "        - nahor\n",
                                     "        - nadol"
                                 ]
                  },
                  {
                      "cell_type":  "code",
                      "execution_count":  null,
                      "metadata":  {
                                       "minecraft":  {
                                                         "closeCodeBuilderOnRun":  true,
                                                         "readonly":  true
                                                     }
                                   },
                      "outputs":  [

                                  ],
                      "source":  [
                                     "# this will give the Agent two rails\n",
                                     "# then place one down and move forward\n",
                                     "agent.give(\"rail\", 2, 1)\n",
                                     "agent.place(1, \"down\")\n",
                                     "agent.move(\"forward\")\n",
                                     "\n"
                                 ]
                  },
                  {
                      "cell_type":  "markdown",
                      "metadata":  {

                                   },
                      "source":  [
                                     "Funkcia agent.move() má jeden parameter, a to smer.\n",
                                     "\n",
                                     "Platné smery sú: \n",
                                     "- dopredu\n",
                                     "- dozadu\n",
                                     "- doľava\n",
                                     "- doprava\n",
                                     "- nahor\n",
                                     "- nadol"
                                 ]
                  },
                  {
                      "cell_type":  "code",
                      "execution_count":  null,
                      "metadata":  {
                                       "minecraft":  {
                                                         "closeCodeBuilderOnRun":  true,
                                                         "readonly":  true
                                                     }
                                   },
                      "outputs":  [

                                  ],
                      "source":  [
                                     "# move the Agent forward one block.\n",
                                     "agent.move(\"forward\")\n",
                                     "# move the Agent backward one block.\n",
                                     "agent.move(\"back\")\n",
                                     "# move the Agent left one block.\n",
                                     "agent.move(\"left\")\n",
                                     "# move the Agent right one block.\n",
                                     "agent.move(\"right\")\n"
                                 ]
                  },
                  {
                      "cell_type":  "markdown",
                      "metadata":  {

                                   },
                      "source":  [
                                     "# Profesionálny tip:\n",
                                     "Pomocou slučky for vykonajte skupinu akcií viackrát."
                                 ]
                  },
                  {
                      "cell_type":  "code",
                      "execution_count":  null,
                      "metadata":  {
                                       "minecraft":  {
                                                         "closeCodeBuilderOnRun":  true,
                                                         "readonly":  true
                                                     }
                                   },
                      "outputs":  [

                                  ],
                      "source":  [
                                     "# this will make the agent place\n",
                                     "# a rail under it and then move forward.\n",
                                     "# this will repeat four times.\n",
                                     "for i in range(4):\n",
                                     "    agent.give(\"rail\", 2, 1)\n",
                                     "    agent.place(1, \"down\")\n",
                                     "    agent.move(\"forward\")"
                                 ]
                  },
                  {
                      "cell_type":  "markdown",
                      "metadata":  {

                                   },
                      "source":  [
                                     "# Aktivita:\n",
                                     "Vytvorte železnicu v tuneli medzi dvoma drevenými a kamennými stĺpmi.\n",
                                     "\n",
                                     "**Poznámka: Aktivitu môžete obnoviť tak, že sa porozprávate s osobou NPC alebo použijete tlačidlo Obnoviť aktivitu.**"
                                 ]
                  },
                  {
                      "cell_type":  "code",
                      "execution_count":  null,
                      "metadata":  {
                                       "minecraft":  {
                                                         "closeCodeBuilderOnRun":  true,
                                                         "default_code":  "# code here\n\n\n",
                                                         "resetWorldCommand":  "execute @e[tag=game] ~ ~ ~ function act/7/reset"
                                                     }
                                   },
                      "outputs":  [

                                  ],
                      "source":  [
                                     "# code here\n",
                                     "\n",
                                     "\n"
                                 ]
                  }
              ],
    "metadata":  {
                     "celltoolbar":  "Edit Metadata",
                     "kernelspec":  {
                                        "display_name":  "Python 3",
                                        "language":  "python",
                                        "name":  "python3"
                                    },
                     "language_info":  {
                                           "codemirror_mode":  {
                                                                   "name":  "ipython",
                                                                   "version":  3
                                                               },
                                           "file_extension":  ".py",
                                           "mimetype":  "text/x-python",
                                           "name":  "python",
                                           "nbconvert_exporter":  "python",
                                           "pygments_lexer":  "ipython3",
                                           "version":  "3.8.6"
                                       },
                     "minecraft":  {
                                       "description":  "Let\u0027s help the party!",
                                       "page_id":  "1.1",
                                       "page_name":  "Rails",
                                       "style":  "minecraft.css"
                                   }
                 },
    "nbformat":  4,
    "nbformat_minor":  2
}
