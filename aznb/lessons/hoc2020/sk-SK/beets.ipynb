﻿{
    "cells":  [
                  {
                      "cell_type":  "markdown",
                      "metadata":  {

                                   },
                      "source":  [
                                     "# Ochráňte repu\n",
                                     "Niečo neustále chodí do záhrady a kradne repu. Nechajte agenta postaviť okolo farmy plot, aby bola repa v bezpečí. Pomocou funkcie agent.give() dajte agentovi predmet iron_bars, pomocou funkcie agent.place() umiestnite predmet iron_bars, pomocou funkcie agent.turn() otočte agenta a pomocou funkcie agent.move() ho presúvajte po záhrade.\n",
                                     "\n",
                                     "Funkcia agent.give() má tri parametre.  \n",
                                     "\n",
                                     "- predmet (*string*): Slot v inventári, do ktorého agent dostane predmet.\n",
                                     "- počet (*celé číslo*): Koľko predmetov agent dostane.\n",
                                     "- slot (*celé číslo*): Slot v inventári, do ktorého agent dostane predmet.\n",
                                     "\n",
                                     "Funkcia agent.place() má dva parametre.  \n",
                                     "\n",
                                     "- číslo slotu (*celé číslo*): Slot v inventári, ktorý má agent použiť.\n",
                                     "- smer (*string*): Smer, kam má agent umiestniť predmet.\n",
                                     "    - Platné smery sú: \n",
                                     "        - dopredu\n",
                                     "        - dozadu\n",
                                     "        - doľava\n",
                                     "        - doprava\n",
                                     "        - nahor\n",
                                     "        - nadol\n",
                                     "\n"
                                 ]
                  },
                  {
                      "cell_type":  "code",
                      "execution_count":  null,
                      "metadata":  {
                                       "minecraft":  {
                                                         "closeCodeBuilderOnRun":  true,
                                                         "readonly":  true
                                                     }
                                   },
                      "outputs":  [

                                  ],
                      "source":  [
                                     "# this will move the Agent forward one block\n",
                                     "# give the Agent iron_bars, and then place \n",
                                     "# the iron_bars below it.\n",
                                     "agent.move(\"forward\")\n",
                                     "agent.give(\"iron_bars\", 2, 1)\n",
                                     "agent.place(1, \"down\")"
                                 ]
                  },
                  {
                      "cell_type":  "markdown",
                      "metadata":  {

                                   },
                      "source":  [
                                     "Funkcia agent.move() má jeden parameter, a to smer.\n",
                                     "\n",
                                     "Platné smery sú: \n",
                                     "- dopredu\n",
                                     "- dozadu\n",
                                     "- doľava\n",
                                     "- doprava\n",
                                     "- nahor\n",
                                     "- nadol\n",
                                     "\n",
                                     "Funkcia agent.turn() má jeden parameter, a to turn_direction.\n",
                                     "\n",
                                     "Platné smery sú: \n",
                                     "- doľava\n",
                                     "- doprava"
                                 ]
                  },
                  {
                      "cell_type":  "code",
                      "execution_count":  null,
                      "metadata":  {
                                       "minecraft":  {
                                                         "closeCodeBuilderOnRun":  true,
                                                         "readonly":  true
                                                     }
                                   },
                      "outputs":  [

                                  ],
                      "source":  [
                                     "# move the Agent forward one block.\n",
                                     "agent.move(\"forward\")\n",
                                     "# move the Agent backward one block.\n",
                                     "agent.move(\"back\")\n",
                                     "# move the Agent left one block.\n",
                                     "agent.move(\"left\")\n",
                                     "# move the Agent right one block.\n",
                                     "agent.move(\"right\")\n",
                                     "\n",
                                     "# this will turn the Agent right\n",
                                     "agent.turn(\"right\")\n",
                                     "# this will turn the Agent left\n",
                                     "agent.turn(\"left\")"
                                 ]
                  },
                  {
                      "cell_type":  "markdown",
                      "metadata":  {

                                   },
                      "source":  [
                                     "# Profesionálny tip:\n",
                                     "Pomocou slučky for vykonajte skupinu akcií viackrát."
                                 ]
                  },
                  {
                      "cell_type":  "code",
                      "execution_count":  null,
                      "metadata":  {
                                       "minecraft":  {
                                                         "closeCodeBuilderOnRun":  true,
                                                         "readonly":  true
                                                     }
                                   },
                      "outputs":  [

                                  ],
                      "source":  [
                                     "# this code will move the Agent forward\n",
                                     "# and place iron_bars below it five times\n",
                                     "for i in range(5):\n",
                                     "    agent.move(\"forward\")\n",
                                     "    agent.give(\"iron_bars\", 2, 1)\n",
                                     "    agent.place(1, \"down\")"
                                 ]
                  },
                  {
                      "cell_type":  "markdown",
                      "metadata":  {

                                   },
                      "source":  [
                                     "# Aktivita:\n",
                                     "Umiestnite železné mreže medzi kamenné bloky okolo záhrady s repou. \n",
                                     "\n",
                                     "**Poznámka: Aktivitu môžete obnoviť tak, že sa porozprávate s osobou NPC alebo použijete tlačidlo Obnoviť aktivitu.**"
                                 ]
                  },
                  {
                      "cell_type":  "code",
                      "execution_count":  null,
                      "metadata":  {
                                       "minecraft":  {
                                                         "closeCodeBuilderOnRun":  true,
                                                         "default_code":  "# code here\n\n\n",
                                                         "resetWorldCommand":  "execute @e[tag=game] ~ ~ ~ function act/4/reset"
                                                     }
                                   },
                      "outputs":  [

                                  ],
                      "source":  [
                                     "# code here\n",
                                     "\n",
                                     "\n"
                                 ]
                  }
              ],
    "metadata":  {
                     "celltoolbar":  "Edit Metadata",
                     "kernelspec":  {
                                        "display_name":  "Python 3",
                                        "language":  "python",
                                        "name":  "python3"
                                    },
                     "language_info":  {
                                           "codemirror_mode":  {
                                                                   "name":  "ipython",
                                                                   "version":  3
                                                               },
                                           "file_extension":  ".py",
                                           "mimetype":  "text/x-python",
                                           "name":  "python",
                                           "nbconvert_exporter":  "python",
                                           "pygments_lexer":  "ipython3",
                                           "version":  "3.8.6"
                                       },
                     "minecraft":  {
                                       "description":  "Protect those beets",
                                       "page_id":  "1.1",
                                       "page_name":  "Beets",
                                       "style":  "minecraft.css"
                                   }
                 },
    "nbformat":  4,
    "nbformat_minor":  2
}
