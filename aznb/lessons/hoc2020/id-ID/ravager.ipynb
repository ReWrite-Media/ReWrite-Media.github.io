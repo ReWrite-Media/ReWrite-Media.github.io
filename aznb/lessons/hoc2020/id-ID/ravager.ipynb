﻿{
    "cells":  [
                  {
                      "cell_type":  "markdown",
                      "metadata":  {

                                   },
                      "source":  [
                                     "# Memperkenalkan pembinasa\n",
                                     "Tidak seperti Penjahat yang Diasingkan, Orang Desa takut akan pembinasa. Bantu Orang Desa menghilangkan bias mereka dengan mempertemukan mereka dengan pembinasa. Gunakan Agent untuk memandu pembinasa agar mendatangi tiap Orang Desa menggunakan `agent.move()`.\n",
                                     "\n",
                                     "Fungsi `agent.move()` membutuhkan satu parameter, yakni direction.\n",
                                     "\n",
                                     "Arah yang valid adalah: \n",
                                     "- maju\n",
                                     "- mundur\n",
                                     "- kiri\n",
                                     "- kanan\n",
                                     "- atas\n",
                                     "- bawah\n",
                                     "\n",
                                     "Fungsi `agent.turn()` membutuhkan satu parameter, yakni turn_direction.\n",
                                     "\n",
                                     "Arah yang valid adalah: \n",
                                     "- kiri\n",
                                     "- kanan"
                                 ]
                  },
                  {
                      "cell_type":  "code",
                      "execution_count":  null,
                      "metadata":  {
                                       "minecraft":  {
                                                         "closeCodeBuilderOnRun":  true,
                                                         "readonly":  true
                                                     }
                                   },
                      "outputs":  [

                                  ],
                      "source":  [
                                     "# move the Agent forward three blocks\n",
                                     "# and then come back to its starting location.\n",
                                     "agent.move(\"forward\")\n",
                                     "agent.move(\"forward\")\n",
                                     "agent.move(\"forward\")\n",
                                     "agent.turn(\"left\")\n",
                                     "agent.move(\"forward\")\n",
                                     "agent.turn(\"left\")\n",
                                     "agent.move(\"forward\")\n",
                                     "agent.move(\"forward\")\n",
                                     "agent.move(\"forward\")\n",
                                     "agent.turn(\"left\")\n",
                                     "agent.move(\"forward\")\n",
                                     "agent.turn(\"left\")"
                                 ]
                  },
                  {
                      "cell_type":  "markdown",
                      "metadata":  {

                                   },
                      "source":  [
                                     "# Tips Pro:\n",
                                     "Gunakan perulangan `for` agar bisa menjalankan `agent.move()` beberapa kali dengan mudah."
                                 ]
                  },
                  {
                      "cell_type":  "code",
                      "execution_count":  null,
                      "metadata":  {
                                       "minecraft":  {
                                                         "closeCodeBuilderOnRun":  true,
                                                         "readonly":  true
                                                     }
                                   },
                      "outputs":  [

                                  ],
                      "source":  [
                                     "# This code will move the Agent forward five times\n",
                                     "for i in range(5):\n",
                                     "    agent.move(\"forward\")"
                                 ]
                  },
                  {
                      "cell_type":  "markdown",
                      "metadata":  {

                                   },
                      "source":  [
                                     "# Aktivitas:\n",
                                     "Perkenalkan pembinasa ke Orang Desa dengan memprogram Agent untuk mendatangi tiap Orang Desa yang memiliki anak panah di atas kepalanya.\n",
                                     "\n",
                                     "**Catatan: Kamu bisa mengatur ulang aktivitas dengan berbicara ke NPC atau menggunakan tombol Atur Ulang Aktivitas.**\n"
                                 ]
                  },
                  {
                      "cell_type":  "code",
                      "execution_count":  null,
                      "metadata":  {
                                       "minecraft":  {
                                                         "closeCodeBuilderOnRun":  true,
                                                         "default_code":  "# code here\n\n\n",
                                                         "resetWorldCommand":  "execute @e[tag=game] ~ ~ ~ function act/3/reset"
                                                     }
                                   },
                      "outputs":  [

                                  ],
                      "source":  [
                                     "# code here\n",
                                     "\n",
                                     "\n"
                                 ]
                  }
              ],
    "metadata":  {
                     "celltoolbar":  "Edit Metadata",
                     "kernelspec":  {
                                        "display_name":  "Python 3",
                                        "language":  "python",
                                        "name":  "python3"
                                    },
                     "language_info":  {
                                           "codemirror_mode":  {
                                                                   "name":  "ipython",
                                                                   "version":  3
                                                               },
                                           "file_extension":  ".py",
                                           "mimetype":  "text/x-python",
                                           "name":  "python",
                                           "nbconvert_exporter":  "python",
                                           "pygments_lexer":  "ipython3",
                                           "version":  "3.8.6"
                                       },
                     "minecraft":  {
                                       "description":  "Aww they\u0027re so cute!",
                                       "page_id":  "1.1",
                                       "page_name":  "Ravager",
                                       "style":  "minecraft.css"
                                   }
                 },
    "nbformat":  4,
    "nbformat_minor":  2
}
