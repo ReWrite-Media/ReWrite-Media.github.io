﻿{
    "cells":  [
                  {
                      "cell_type":  "markdown",
                      "metadata":  {

                                   },
                      "source":  [
                                     "# Menghubungkan kedua desa\n",
                                     "Penjahat yang Diasingkan merasa Orang Desa tidak suka mereka karena pengunjung yang datang ke pameran sangat sedikit. Alasan mengapa tidak banyak Orang Desa yang pergi adalah karena mereka kesulitan untuk melewati bukit yang berada di antara dua desa. Gunakan `agent.give()` untuk memberikan Agent `rail` kereta tambang dan `agent.place()` untuk membuat lintasan rel kereta yang melintasi kedua desa.\n",
                                     "\n",
                                     "Fungsi `agent.give()` membutuhkan tiga parameter.  \n",
                                     "\n",
                                     "- item (*string*): Item yang ingin kamu berikan ke Agent.\n",
                                     "- count (*integer*): Berapa banyak item yang akan diterima Agent.\n",
                                     "- slot (*integer*): Slot inventaris tempat Agent menerima item.\n",
                                     "\n",
                                     "Fungsi `agent.place()` membutuhkan dua parameter.  \n",
                                     "\n",
                                     "- slot number (*integer*): Slot inventaris mana yang harus digunakan Agent.\n",
                                     "- direction (*string*): Arah yang kamu inginkan untuk Agent untuk meletakkan item.\n",
                                     "    - Arah yang valid adalah: \n",
                                     "        - maju\n",
                                     "        - mundur\n",
                                     "        - kiri\n",
                                     "        - kanan\n",
                                     "        - atas\n",
                                     "        - bawah"
                                 ]
                  },
                  {
                      "cell_type":  "code",
                      "execution_count":  null,
                      "metadata":  {
                                       "minecraft":  {
                                                         "closeCodeBuilderOnRun":  true,
                                                         "readonly":  true
                                                     }
                                   },
                      "outputs":  [

                                  ],
                      "source":  [
                                     "# this will give the Agent two rails\n",
                                     "# then place one down and move forward\n",
                                     "agent.give(\"rail\", 2, 1)\n",
                                     "agent.place(1, \"down\")\n",
                                     "agent.move(\"forward\")\n",
                                     "\n"
                                 ]
                  },
                  {
                      "cell_type":  "markdown",
                      "metadata":  {

                                   },
                      "source":  [
                                     "Fungsi `agent.move()` membutuhkan satu parameter, yakni direction.\n",
                                     "\n",
                                     "Arah yang valid adalah: \n",
                                     "- maju\n",
                                     "- mundur\n",
                                     "- kiri\n",
                                     "- kanan\n",
                                     "- atas\n",
                                     "- bawah"
                                 ]
                  },
                  {
                      "cell_type":  "code",
                      "execution_count":  null,
                      "metadata":  {
                                       "minecraft":  {
                                                         "closeCodeBuilderOnRun":  true,
                                                         "readonly":  true
                                                     }
                                   },
                      "outputs":  [

                                  ],
                      "source":  [
                                     "# move the Agent forward one block.\n",
                                     "agent.move(\"forward\")\n",
                                     "# move the Agent backward one block.\n",
                                     "agent.move(\"back\")\n",
                                     "# move the Agent left one block.\n",
                                     "agent.move(\"left\")\n",
                                     "# move the Agent right one block.\n",
                                     "agent.move(\"right\")\n"
                                 ]
                  },
                  {
                      "cell_type":  "markdown",
                      "metadata":  {

                                   },
                      "source":  [
                                     "# Tips Pro:\n",
                                     "Gunakan perulangan `for` untuk melakukan serangkaian tindakan beberapa kali."
                                 ]
                  },
                  {
                      "cell_type":  "code",
                      "execution_count":  null,
                      "metadata":  {
                                       "minecraft":  {
                                                         "closeCodeBuilderOnRun":  true,
                                                         "readonly":  true
                                                     }
                                   },
                      "outputs":  [

                                  ],
                      "source":  [
                                     "# this will make the agent place\n",
                                     "# a rail under it and then move forward.\n",
                                     "# this will repeat four times.\n",
                                     "for i in range(4):\n",
                                     "    agent.give(\"rail\", 2, 1)\n",
                                     "    agent.place(1, \"down\")\n",
                                     "    agent.move(\"forward\")"
                                 ]
                  },
                  {
                      "cell_type":  "markdown",
                      "metadata":  {

                                   },
                      "source":  [
                                     "# Aktivitas:\n",
                                     "Buat rel kereta di dalam terowongan di antara dua pos kayu dan batu.\n",
                                     "\n",
                                     "**Catatan: Kamu bisa mengatur ulang aktivitas dengan berbicara ke NPC atau menggunakan tombol Atur Ulang Aktivitas.**"
                                 ]
                  },
                  {
                      "cell_type":  "code",
                      "execution_count":  null,
                      "metadata":  {
                                       "minecraft":  {
                                                         "closeCodeBuilderOnRun":  true,
                                                         "default_code":  "# code here\n\n\n",
                                                         "resetWorldCommand":  "execute @e[tag=game] ~ ~ ~ function act/7/reset"
                                                     }
                                   },
                      "outputs":  [

                                  ],
                      "source":  [
                                     "# code here\n",
                                     "\n",
                                     "\n"
                                 ]
                  }
              ],
    "metadata":  {
                     "celltoolbar":  "Edit Metadata",
                     "kernelspec":  {
                                        "display_name":  "Python 3",
                                        "language":  "python",
                                        "name":  "python3"
                                    },
                     "language_info":  {
                                           "codemirror_mode":  {
                                                                   "name":  "ipython",
                                                                   "version":  3
                                                               },
                                           "file_extension":  ".py",
                                           "mimetype":  "text/x-python",
                                           "name":  "python",
                                           "nbconvert_exporter":  "python",
                                           "pygments_lexer":  "ipython3",
                                           "version":  "3.8.6"
                                       },
                     "minecraft":  {
                                       "description":  "Let\u0027s help the party!",
                                       "page_id":  "1.1",
                                       "page_name":  "Rails",
                                       "style":  "minecraft.css"
                                   }
                 },
    "nbformat":  4,
    "nbformat_minor":  2
}
