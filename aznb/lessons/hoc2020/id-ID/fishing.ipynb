﻿{
    "cells":  [
                  {
                      "cell_type":  "markdown",
                      "metadata":  {

                                   },
                      "source":  [
                                     "# Membangun pelabuhan\n",
                                     "Sebelum Penjahat yang Diasingkan bisa mengajari Orang Desa cara memancing, pelabuhan harus dibangun terlebih dahulu. Bangun tepian luar pelabuhan menggunakan `agent.give()` untuk memberi Agent blok yang bisa diletakkan, `agent.place()` untuk meletakkan blok, `agent.turn()` untuk membelokkan Agent, dan `agent.move()` untuk menggerakkan Agent.\n",
                                     "\n",
                                     "Fungsi `agent.give()` membutuhkan tiga parameter.  \n",
                                     "\n",
                                     "- item (*string*): Item yang ingin kamu berikan ke Agent.\n",
                                     "- count (*integer*): Berapa banyak item yang akan diterima Agent.\n",
                                     "- slot (*integer*): Slot inventaris tempat Agent menerima item.\n",
                                     "\n",
                                     "Fungsi `agent.place()` membutuhkan dua parameter.  \n",
                                     "\n",
                                     "- slot number (*integer*): Slot inventaris mana yang harus digunakan Agent.\n",
                                     "- direction (*string*): Arah yang kamu inginkan untuk Agent untuk meletakkan item.\n",
                                     "    - Arah yang valid adalah: \n",
                                     "        - maju\n",
                                     "        - mundur\n",
                                     "        - kiri\n",
                                     "        - kanan\n",
                                     "        - atas\n",
                                     "        - bawah"
                                 ]
                  },
                  {
                      "cell_type":  "code",
                      "execution_count":  null,
                      "metadata":  {
                                       "minecraft":  {
                                                         "closeCodeBuilderOnRun":  true,
                                                         "readonly":  true
                                                     }
                                   },
                      "outputs":  [

                                  ],
                      "source":  [
                                     "# ini akan memberi Agent dua papan\n",
                                     "# bergerak ke depan satu ruang\n",
                                     "# dan meletakkan papan di bawah\n",
                                     "agent.give(\"planks\", 2, 1)\n",
                                     "agent.move(\"forward\")\n",
                                     "agent.place(1,\"down\")"
                                 ]
                  },
                  {
                      "cell_type":  "markdown",
                      "metadata":  {

                                   },
                      "source":  [
                                     "Fungsi `agent.move()` membutuhkan satu parameter, yakni direction.\n",
                                     "\n",
                                     "Arah yang valid adalah: \n",
                                     "- maju\n",
                                     "- mundur\n",
                                     "- kiri\n",
                                     "- kanan\n",
                                     "- atas\n",
                                     "- bawah\n",
                                     "\n",
                                     "Fungsi `agent.turn()` membutuhkan satu parameter, yakni turn_direction.\n",
                                     "\n",
                                     "Arah yang valid adalah: \n",
                                     "- kiri\n",
                                     "- kanan"
                                 ]
                  },
                  {
                      "cell_type":  "code",
                      "execution_count":  null,
                      "metadata":  {
                                       "minecraft":  {
                                                         "closeCodeBuilderOnRun":  true,
                                                         "readonly":  true
                                                     }
                                   },
                      "outputs":  [

                                  ],
                      "source":  [
                                     "# gerakkan Agent ke depan satu blok.\n",
                                     "agent.move(\"forward\")\n",
                                     "# gerakkan Agent ke belakang satu blok.\n",
                                     "agent.move(\"back\")\n",
                                     "# gerakkan Agent ke kiri satu blok.\n",
                                     "agent.move(\"left\")\n",
                                     "# gerakkan Agent ke kanan satu blok.\n",
                                     "agent.move(\"right\")\n",
                                     "\n",
                                     "# ini akan membelokkan Agent ke kanan\n",
                                     "agent.turn(\"right\")\n",
                                     "# ini akan membelokkan Agent ke kiri\n",
                                     "agent.turn(\"left\")"
                                 ]
                  },
                  {
                      "cell_type":  "markdown",
                      "metadata":  {

                                   },
                      "source":  [
                                     "# Tips Pro:\n",
                                     "Gunakan perulangan `for` untuk melakukan serangkaian tindakan beberapa kali."
                                 ]
                  },
                  {
                      "cell_type":  "code",
                      "execution_count":  null,
                      "metadata":  {
                                       "minecraft":  {
                                                         "closeCodeBuilderOnRun":  true,
                                                         "readonly":  true
                                                     }
                                   },
                      "outputs":  [

                                  ],
                      "source":  [
                                     "# kode ini akan menggerakkan Agent ke depan\n",
                                     "# dan meletakkan papan di bawahnya lima kali\n",
                                     "for i in range(5):\n",
                                     "    agent.move(\"forward\")\n",
                                     "    agent.give(\"planks\", 2, 1)\n",
                                     "    agent.place(1, \"down\")"
                                 ]
                  },
                  {
                      "cell_type":  "markdown",
                      "metadata":  {

                                   },
                      "source":  [
                                     "# Aktivitas:\n",
                                     "Bangun tepian luar pelabuhan dari batu bulat yang panjangnya 6 blok dan lebarnya 4 blok.\n",
                                     "\n",
                                     "**Catatan: Kamu bisa mengatur ulang aktivitas dengan berbicara ke NPC atau menggunakan tombol Atur Ulang Aktivitas.**"
                                 ]
                  },
                  {
                      "cell_type":  "code",
                      "execution_count":  null,
                      "metadata":  {
                                       "minecraft":  {
                                                         "closeCodeBuilderOnRun":  true,
                                                         "default_code":  "# code here\n\n\n",
                                                         "resetWorldCommand":  "execute @e[tag=game] ~ ~ ~ function act/2/reset"
                                                     }
                                   },
                      "outputs":  [

                                  ],
                      "source":  [
                                     "# kode di sini\n",
                                     "\n",
                                     "\n"
                                 ]
                  }
              ],
    "metadata":  {
                     "celltoolbar":  "Edit Metadata",
                     "kernelspec":  {
                                        "display_name":  "Python 3",
                                        "language":  "python",
                                        "name":  "python3"
                                    },
                     "language_info":  {
                                           "codemirror_mode":  {
                                                                   "name":  "ipython",
                                                                   "version":  3
                                                               },
                                           "file_extension":  ".py",
                                           "mimetype":  "text/x-python",
                                           "name":  "python",
                                           "nbconvert_exporter":  "python",
                                           "pygments_lexer":  "ipython3",
                                           "version":  "3.8.6"
                                       },
                     "minecraft":  {
                                       "description":  "Let\u0027s learn fishing!",
                                       "page_id":  "1.1",
                                       "page_name":  "Memancing",
                                       "style":  "minecraft.css"
                                   }
                 },
    "nbformat":  4,
    "nbformat_minor":  2
}
