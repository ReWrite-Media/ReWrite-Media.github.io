﻿{
    "cells":  [
                  {
                      "cell_type":  "markdown",
                      "metadata":  {

                                   },
                      "source":  [
                                     "# Membangun lahan\n",
                                     "Orang Desa menawarkan bantuan untuk mengajarkan Penjahat yang Diasingkan cara bertani, tapi mereka butuh bantuan untuk menyiapkan lahan. Gunakan `agent.till()` agar Agent mengolah 2 baris tanah pertama.\n",
                                     "\n",
                                     "Fungsi `agent.till()` membutuhkan satu parameter, yakni direction.\n",
                                     "\n",
                                     "Arah yang valid adalah: \n",
                                     "- maju\n",
                                     "- mundur\n",
                                     "- kiri\n",
                                     "- kanan\n",
                                     "\n",
                                     "Fungsi `agent.move()` membutuhkan satu parameter, yakni direction.\n",
                                     "\n",
                                     "Arah yang valid adalah: \n",
                                     "- maju\n",
                                     "- mundur\n",
                                     "- kiri\n",
                                     "- kanan\n",
                                     "- atas\n",
                                     "- bawah"
                                 ]
                  },
                  {
                      "cell_type":  "code",
                      "execution_count":  null,
                      "metadata":  {
                                       "minecraft":  {
                                                         "closeCodeBuilderOnRun":  true,
                                                         "readonly":  true
                                                     }
                                   },
                      "outputs":  [

                                  ],
                      "source":  [
                                     "# move the agent forward and till\n",
                                     "# the block behind it\n",
                                     "agent.move(\"forward\")\n",
                                     "agent.till(\"back\")"
                                 ]
                  },
                  {
                      "cell_type":  "markdown",
                      "metadata":  {

                                   },
                      "source":  [
                                     "Fungsi `agent.turn()` membutuhkan satu parameter, yakni turn_direction.\n",
                                     "\n",
                                     "Arah yang valid adalah: \n",
                                     "- kiri\n",
                                     "- kanan"
                                 ]
                  },
                  {
                      "cell_type":  "code",
                      "execution_count":  null,
                      "metadata":  {
                                       "minecraft":  {
                                                         "closeCodeBuilderOnRun":  true,
                                                         "readonly":  true
                                                     }
                                   },
                      "outputs":  [

                                  ],
                      "source":  [
                                     "# this will turn the Agent right\n",
                                     "agent.turn(\"right\")\n",
                                     "# this will turn the Agent left\n",
                                     "agent.turn(\"left\")"
                                 ]
                  },
                  {
                      "cell_type":  "markdown",
                      "metadata":  {

                                   },
                      "source":  [
                                     "# Tips Pro:\n",
                                     "Gunakan perulangan `for` untuk melakukan serangkaian tindakan beberapa kali."
                                 ]
                  },
                  {
                      "cell_type":  "code",
                      "execution_count":  null,
                      "metadata":  {
                                       "minecraft":  {
                                                         "closeCodeBuilderOnRun":  true,
                                                         "readonly":  true
                                                     }
                                   },
                      "outputs":  [

                                  ],
                      "source":  [
                                     "# this will move the agent forward\n",
                                     "# and till behind it nine times\n",
                                     "for i in range(9):\n",
                                     "    agent.move(\"forward\")\n",
                                     "    agent.till(\"back\")"
                                 ]
                  },
                  {
                      "cell_type":  "markdown",
                      "metadata":  {

                                   },
                      "source":  [
                                     "# Aktivitas:\n",
                                     "Olah dua baris pertama dari lahan.\n",
                                     "\n",
                                     "**Catatan: Kamu bisa mengatur ulang aktivitas dengan berbicara ke NPC atau menggunakan tombol Atur Ulang Aktivitas.**"
                                 ]
                  },
                  {
                      "cell_type":  "code",
                      "execution_count":  null,
                      "metadata":  {
                                       "minecraft":  {
                                                         "closeCodeBuilderOnRun":  true,
                                                         "default_code":  "# code here\n\n\n",
                                                         "resetWorldCommand":  "execute @e[tag=game] ~ ~ ~ function act/5/reset"
                                                     }
                                   },
                      "outputs":  [

                                  ],
                      "source":  [
                                     "# code here\n",
                                     "\n",
                                     "\n"
                                 ]
                  }
              ],
    "metadata":  {
                     "celltoolbar":  "Edit Metadata",
                     "kernelspec":  {
                                        "display_name":  "Python 3",
                                        "language":  "python",
                                        "name":  "python3"
                                    },
                     "language_info":  {
                                           "codemirror_mode":  {
                                                                   "name":  "ipython",
                                                                   "version":  3
                                                               },
                                           "file_extension":  ".py",
                                           "mimetype":  "text/x-python",
                                           "name":  "python",
                                           "nbconvert_exporter":  "python",
                                           "pygments_lexer":  "ipython3",
                                           "version":  "3.8.6"
                                       },
                     "minecraft":  {
                                       "description":  "Let\u0027s learn farming!",
                                       "page_id":  "1.1",
                                       "page_name":  "Farming",
                                       "style":  "minecraft.css"
                                   }
                 },
    "nbformat":  4,
    "nbformat_minor":  2
}
