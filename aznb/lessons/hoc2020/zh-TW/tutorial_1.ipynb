﻿{
    "cells":  [
                  {
                      "cell_type":  "markdown",
                      "metadata":  {
                                       "minecraft":  {
                                                         "readonly":  true
                                                     }
                                   },
                      "source":  [
                                     "# 移動 Agent\n",
                                     "首先，我們需要學習移動 Agent 的基礎知識。為此，我們將使用 `agent.move()`\n",
                                     "\n",
                                     "`agent.move()` 函數採用了一個參數：方向。\n",
                                     "\n",
                                     "有效的方向為：\n",
                                     "- 前進\n",
                                     "- 退後\n",
                                     "- 向左\n",
                                     "- 向右\n",
                                     "- 向上\n",
                                     "- 向下"
                                 ]
                  },
                  {
                      "cell_type":  "code",
                      "execution_count":  null,
                      "metadata":  {
                                       "minecraft":  {
                                                         "closeCodeBuilderOnRun":  true,
                                                         "readonly":  true
                                                     }
                                   },
                      "outputs":  [

                                  ],
                      "source":  [
                                     "# move the Agent forward one block.\n",
                                     "agent.move(\"forward\")\n",
                                     "# move the Agent backward one block.\n",
                                     "agent.move(\"back\")\n",
                                     "# move the Agent left one block.\n",
                                     "agent.move(\"left\")\n",
                                     "# move the Agent right one block.\n",
                                     "agent.move(\"right\")"
                                 ]
                  },
                  {
                      "cell_type":  "markdown",
                      "metadata":  {

                                   },
                      "source":  [
                                     "# 活動：\n",
                                     "讓我們使用 `agent.move()` 函數四次，將 Agent 移動到黃金方塊上。\n",
                                     "\n",
                                     "**注意：你可以透過與 NPC 對話，或使用「重置活動」按鈕來重置活動。**"
                                 ]
                  },
                  {
                      "cell_type":  "code",
                      "execution_count":  null,
                      "metadata":  {
                                       "minecraft":  {
                                                         "closeCodeBuilderOnRun":  true,
                                                         "default_code":  "# code here\nagent.move(\"forward\")\n\n",
                                                         "resetWorldCommand":  "execute @e[tag=game] ~ ~ ~ function act/0/reset"
                                                     }
                                   },
                      "outputs":  [

                                  ],
                      "source":  [
                                     "# code here\n",
                                     "agent.move(\"forward\")\n",
                                     "\n"
                                 ]
                  }
              ],
    "metadata":  {
                     "celltoolbar":  "Edit Metadata",
                     "kernelspec":  {
                                        "display_name":  "Python 3",
                                        "language":  "python",
                                        "name":  "python3"
                                    },
                     "language_info":  {
                                           "codemirror_mode":  {
                                                                   "name":  "ipython",
                                                                   "version":  3
                                                               },
                                           "file_extension":  ".py",
                                           "mimetype":  "text/x-python",
                                           "name":  "python",
                                           "nbconvert_exporter":  "python",
                                           "pygments_lexer":  "ipython3",
                                           "version":  "3.8.6"
                                       },
                     "minecraft":  {
                                       "description":  "Meet the Agent!",
                                       "page_id":  "1.1",
                                       "page_name":  "Move",
                                       "style":  "minecraft.css"
                                   }
                 },
    "nbformat":  4,
    "nbformat_minor":  2
}
