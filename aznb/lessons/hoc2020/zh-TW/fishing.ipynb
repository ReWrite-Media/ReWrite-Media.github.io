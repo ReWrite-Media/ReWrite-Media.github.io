﻿{
    "cells":  [
                  {
                      "cell_type":  "markdown",
                      "metadata":  {

                                   },
                      "source":  [
                                     "# 建造碼頭\n",
                                     "在厄民教村民如何捕魚前，村民需要一座碼頭。使用 `agent.give()` 建造碼頭的外緣，提供 Agent 提供一個要放置的方塊、使用 `agent.place()` 來放置方塊、使用 `agent.turn()` 轉動 Agent，並使用 `agent.move()` 來移動 Agent。\n",
                                     "\n",
                                     "`agent.give()` 函數採用了三個參數。\n",
                                     "\n",
                                     "- 物品 (*字串*)：你要給 Agent 的物品。\n",
                                     "- 數量 (*整數*)：Agent 將收到多少物品。\n",
                                     "- 欄位 (*整數*)：Agent 接收物品的庫存欄位。\n",
                                     "\n",
                                     "`agent.place()` 函數採用了兩個參數。\n",
                                     "\n",
                                     "- 欄位編號 (*整數*)：Agent 應使用哪一個庫存欄位。\n",
                                     "- 方向 (*字串*)：你希望 Agent 放置物品的方向。\n",
                                     "    - 有效的方向為：\n",
                                     "        - 前進 (forward)\n",
                                     "        - 退後 (back)\n",
                                     "        - 向左 (left)\n",
                                     "        - 向右 (right)\n",
                                     "        - 向上 (up)\n",
                                     "        - 向下 (down)"
                                 ]
                  },
                  {
                      "cell_type":  "code",
                      "execution_count":  null,
                      "metadata":  {
                                       "minecraft":  {
                                                         "closeCodeBuilderOnRun":  true,
                                                         "readonly":  true
                                                     }
                                   },
                      "outputs":  [

                                  ],
                      "source":  [
                                     "# 這將給 Agent 兩塊木板\n",
                                     "# 向前移動一個空格\n",
                                     "# 並將一塊木板放置在下方\n",
                                     "agent.give(\"planks\", 2, 1)\n",
                                     "agent.move(\"forward\")\n",
                                     "agent.place(1,\"down\")"
                                 ]
                  },
                  {
                      "cell_type":  "markdown",
                      "metadata":  {

                                   },
                      "source":  [
                                     "`agent.move()` 函數採用了一組參數：方向。\n",
                                     "\n",
                                     "有效的方向為：\n",
                                     "- 前進 (forward)\n",
                                     "- 退後 (back)\n",
                                     "- 向左 (left)\n",
                                     "- 向右 (right)\n",
                                     "- 向上 (up)\n",
                                     "- 向下 (down)\n",
                                     "\n",
                                     "`agent.turn()` 函數採用了一個參數，turn_direction。\n",
                                     "\n",
                                     "有效的方向為：\n",
                                     "- 向左 (left)\n",
                                     "- 向右 (right)"
                                 ]
                  },
                  {
                      "cell_type":  "code",
                      "execution_count":  null,
                      "metadata":  {
                                       "minecraft":  {
                                                         "closeCodeBuilderOnRun":  true,
                                                         "readonly":  true
                                                     }
                                   },
                      "outputs":  [

                                  ],
                      "source":  [
                                     "# 將 Agent 向前移動一個方塊。\n",
                                     "agent.move(\"forward\")\n",
                                     "# 將 Agent 向後移動一個方塊。\n",
                                     "agent.move(\"back\")\n",
                                     "# 將 Agent 向左移動一個方塊。\n",
                                     "agent.move(\"left\")\n",
                                     "# 將 Agent 向右移動一個方塊。\n",
                                     "agent.move(\"right\")\n",
                                     "\n",
                                     "# 這將使 Agent 向右轉\n",
                                     "agent.turn(\"right\")\n",
                                     "# 這將使 Agent 向左轉\n",
                                     "agent.turn(\"left\")"
                                 ]
                  },
                  {
                      "cell_type":  "markdown",
                      "metadata":  {

                                   },
                      "source":  [
                                     "# 專業提示：\n",
                                     "使用 `for` 迴圈執行一組操作多次。"
                                 ]
                  },
                  {
                      "cell_type":  "code",
                      "execution_count":  null,
                      "metadata":  {
                                       "minecraft":  {
                                                         "closeCodeBuilderOnRun":  true,
                                                         "readonly":  true
                                                     }
                                   },
                      "outputs":  [

                                  ],
                      "source":  [
                                     "# 此程式碼將使 Agent 向前移動\n",
                                     "# 並在其下放置一塊木板五次\n",
                                     "for i in range(5):\n",
                                     "    agent.move(\"forward\")\n",
                                     "    agent.give(\"planks\", 2, 1)\n",
                                     "    agent.place(1, \"down\")"
                                 ]
                  },
                  {
                      "cell_type":  "markdown",
                      "metadata":  {

                                   },
                      "source":  [
                                     "# 活動：\n",
                                     "利用鵝卵石建造向外延伸的碼頭外緣，長 6 個方塊，寬 4 個方塊。\n",
                                     "\n",
                                     "**注意：你可以透過與 NPC 對話，或使用「重置活動」按鈕來重置活動。**"
                                 ]
                  },
                  {
                      "cell_type":  "code",
                      "execution_count":  null,
                      "metadata":  {
                                       "minecraft":  {
                                                         "closeCodeBuilderOnRun":  true,
                                                         "default_code":  "# code here\n\n\n",
                                                         "resetWorldCommand":  "execute @e[tag=game] ~ ~ ~ function act/2/reset"
                                                     }
                                   },
                      "outputs":  [

                                  ],
                      "source":  [
                                     "# 在這裡編寫程式碼\n",
                                     "\n",
                                     "\n"
                                 ]
                  }
              ],
    "metadata":  {
                     "celltoolbar":  "Edit Metadata",
                     "kernelspec":  {
                                        "display_name":  "Python 3",
                                        "language":  "python",
                                        "name":  "python3"
                                    },
                     "language_info":  {
                                           "codemirror_mode":  {
                                                                   "name":  "ipython",
                                                                   "version":  3
                                                               },
                                           "file_extension":  ".py",
                                           "mimetype":  "text/x-python",
                                           "name":  "python",
                                           "nbconvert_exporter":  "python",
                                           "pygments_lexer":  "ipython3",
                                           "version":  "3.8.6"
                                       },
                     "minecraft":  {
                                       "description":  "Let\u0027s learn fishing!",
                                       "page_id":  "1.1",
                                       "page_name":  "釣魚",
                                       "style":  "minecraft.css"
                                   }
                 },
    "nbformat":  4,
    "nbformat_minor":  2
}
