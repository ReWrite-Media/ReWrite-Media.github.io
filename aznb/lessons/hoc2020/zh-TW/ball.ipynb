﻿{
    "cells":  [
                  {
                      "cell_type":  "markdown",
                      "metadata":  {

                                   },
                      "source":  [
                                     "# 拿球\n",
                                     "\n",
                                     "拉桿似乎卡在村民的電梯上了。使用 `agent.move()` 放置 Agent，然後使用 `agent.interact()` 翻動所有拉桿，讓村民可以放下孩子們的球。\n",
                                     "\n",
                                     "`agent.move()` 函數採用了一個參數：方向。\n",
                                     "\n",
                                     "有效的方向為：\n",
                                     "- 前進 (forward)\n",
                                     "- 退後 (back)\n",
                                     "- 向左 (left)\n",
                                     "- 向右 (right)\n",
                                     "- 向上 (up)\n",
                                     "- 向下 (down)\n",
                                     "\n",
                                     "`agent.interact()` 函數採用了一個參數：方向。\n",
                                     "\n",
                                     "有效的方向為：\n",
                                     "- 前進 (forward)\n",
                                     "- 退後 (back)\n",
                                     "- 向左 (left)\n",
                                     "- 向右 (right)\n",
                                     "- 向上 (up)\n",
                                     "- 向下 (down)\n"
                                 ]
                  },
                  {
                      "cell_type":  "code",
                      "execution_count":  null,
                      "metadata":  {
                                       "minecraft":  {
                                                         "closeCodeBuilderOnRun":  true,
                                                         "readonly":  true
                                                     }
                                   },
                      "outputs":  [

                                  ],
                      "source":  [
                                     "# 將 agent 向上移動一個方塊\n",
                                     "# 翻動前方的拉桿\n",
                                     "agent.move(\"up\")\n",
                                     "agent.interact(\"forward\")"
                                 ]
                  },
                  {
                      "cell_type":  "markdown",
                      "metadata":  {

                                   },
                      "source":  [
                                     "# 專業提示：\n",
                                     "使用 `for` 迴圈執行一組操作多次。"
                                 ]
                  },
                  {
                      "cell_type":  "code",
                      "execution_count":  null,
                      "metadata":  {
                                       "minecraft":  {
                                                         "closeCodeBuilderOnRun":  true,
                                                         "readonly":  true
                                                     }
                                   },
                      "outputs":  [

                                  ],
                      "source":  [
                                     "# 此程式碼會讓 agent 向右移動\n",
                                     "# 3 次\n",
                                     "for i in range(3):\n",
                                     "    agent.move(\"right\")"
                                 ]
                  },
                  {
                      "cell_type":  "markdown",
                      "metadata":  {

                                   },
                      "source":  [
                                     "# 活動：\n",
                                     "將 Agent 移動到各拉桿的位置，然後互動進行翻轉並開啟電梯。\n",
                                     "\n",
                                     "**注意：你可以透過與 NPC 對話，或使用「重置活動」按鈕來重置活動。**"
                                 ]
                  },
                  {
                      "cell_type":  "code",
                      "execution_count":  null,
                      "metadata":  {
                                       "minecraft":  {
                                                         "closeCodeBuilderOnRun":  true,
                                                         "default_code":  "# code here\n\n\n",
                                                         "resetWorldCommand":  "execute @e[tag=game] ~ ~ ~ function act/6/reset"
                                                     }
                                   },
                      "outputs":  [

                                  ],
                      "source":  [
                                     "# 在這裡編寫程式碼\n",
                                     "\n",
                                     "\n"
                                 ]
                  }
              ],
    "metadata":  {
                     "celltoolbar":  "Edit Metadata",
                     "kernelspec":  {
                                        "display_name":  "Python 3",
                                        "language":  "python",
                                        "name":  "python3"
                                    },
                     "language_info":  {
                                           "codemirror_mode":  {
                                                                   "name":  "ipython",
                                                                   "version":  3
                                                               },
                                           "file_extension":  ".py",
                                           "mimetype":  "text/x-python",
                                           "name":  "python",
                                           "nbconvert_exporter":  "python",
                                           "pygments_lexer":  "ipython3",
                                           "version":  "3.8.6"
                                       },
                     "minecraft":  {
                                       "description":  "Help the kids overcome their bias",
                                       "page_id":  "1.1",
                                       "page_name":  "球",
                                       "style":  "minecraft.css"
                                   }
                 },
    "nbformat":  4,
    "nbformat_minor":  2
}
