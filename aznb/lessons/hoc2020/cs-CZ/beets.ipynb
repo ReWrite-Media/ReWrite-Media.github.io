﻿{
    "cells":  [
                  {
                      "cell_type":  "markdown",
                      "metadata":  {

                                   },
                      "source":  [
                                     "# Ochraňte úrodu řepy\n",
                                     "Něco neustále vniká do zahrady a krade řepu. Nechejte agenta postavit kolem farmy plot, který řepu ochrání. Pomocí funkce `agent.give()` dávejte agentovi `iron_bars` (železné mříže), pomocí funkce `agent.place()` železné mříže umísťujte, pomocí funkce `agent.turn()` agenta otáčejte a pomocí funkce `agent.move()` posunujte agenta po zahradě.\n",
                                     "\n",
                                     "Funkce `agent.give()` přebírá tři parametry.  \n",
                                     "\n",
                                     "- item (*string*): Pozice inventáře, do které agent přijímá předmět\n",
                                     "- count (*integer*): Kolik předmětů agent přijme\n",
                                     "- slot (*integer*): Do které pozice inventáře agent předmět přijímá\n",
                                     "\n",
                                     "Funkce `agent.place()` přebírá dva parametry.  \n",
                                     "\n",
                                     "- slot number (*integer*): Kterou pozici inventáře by měl agent použít\n",
                                     "- direction (*string*): Směr, kterým má agent předmět umístit\n",
                                     "    - Platné hodnoty směru jsou: \n",
                                     "        - forward\n",
                                     "        - back\n",
                                     "        - left\n",
                                     "        - right\n",
                                     "        - up\n",
                                     "        - down\n",
                                     "\n"
                                 ]
                  },
                  {
                      "cell_type":  "code",
                      "execution_count":  null,
                      "metadata":  {
                                       "minecraft":  {
                                                         "closeCodeBuilderOnRun":  true,
                                                         "readonly":  true
                                                     }
                                   },
                      "outputs":  [

                                  ],
                      "source":  [
                                     "# tímto posunete agenta o jeden blok vpřed\n",
                                     "# dá agentovi iron_bars a pak umístí \n",
                                     "# iron_bars pod něj.\n",
                                     "agent.move(\"forward\")\n",
                                     "agent.give(\"iron_bars\", 2, 1)\n",
                                     "agent.place(1, \"down\")"
                                 ]
                  },
                  {
                      "cell_type":  "markdown",
                      "metadata":  {

                                   },
                      "source":  [
                                     "Funkce „agent.move()“ přebírá jeden parametr, direction (směr).\n",
                                     "\n",
                                     "Platné hodnoty směru jsou: \n",
                                     "- forward\n",
                                     "- back\n",
                                     "- left\n",
                                     "- right\n",
                                     "- up\n",
                                     "- down\n",
                                     "\n",
                                     "Funkce `agent.turn()` přebírá jeden parametr, turn_direction (směr otočení).\n",
                                     "\n",
                                     "Platné hodnoty směru jsou: \n",
                                     "- left\n",
                                     "- right"
                                 ]
                  },
                  {
                      "cell_type":  "code",
                      "execution_count":  null,
                      "metadata":  {
                                       "minecraft":  {
                                                         "closeCodeBuilderOnRun":  true,
                                                         "readonly":  true
                                                     }
                                   },
                      "outputs":  [

                                  ],
                      "source":  [
                                     "# posune agenta o jeden blok vpřed.\n",
                                     "agent.move(\"forward\")\n",
                                     "# posune agenta o jeden blok vzad.\n",
                                     "agent.move(\"back\")\n",
                                     "# posune agenta o jeden blok doleva.\n",
                                     "agent.move(\"left\")\n",
                                     "# posune agenta o jeden blok doprava.\n",
                                     "agent.move(\"right\")\n",
                                     "\n",
                                     "# tímto otočíte agenta vpravo\n",
                                     "agent.turn(\"right\")\n",
                                     "# tímto otočíte agenta vlevo\n",
                                     "agent.turn(\"left\")"
                                 ]
                  },
                  {
                      "cell_type":  "markdown",
                      "metadata":  {

                                   },
                      "source":  [
                                     "# Tip od profesionálů:\n",
                                     "Pomocí smyčky `for` můžete provést skupinu akcí vícekrát."
                                 ]
                  },
                  {
                      "cell_type":  "code",
                      "execution_count":  null,
                      "metadata":  {
                                       "minecraft":  {
                                                         "closeCodeBuilderOnRun":  true,
                                                         "readonly":  true
                                                     }
                                   },
                      "outputs":  [

                                  ],
                      "source":  [
                                     "# tento kód posune agenta vpřed\n",
                                     "# a umístí pod něj pětkrát iron_bars\n",
                                     "for i in range(5):\n",
                                     "    agent.move(\"forward\")\n",
                                     "    agent.give(\"iron_bars\", 2, 1)\n",
                                     "    agent.place(1, \"down\")"
                                 ]
                  },
                  {
                      "cell_type":  "markdown",
                      "metadata":  {

                                   },
                      "source":  [
                                     "# Aktivita:\n",
                                     "Umísťujte železné mříže kolem zahrady s řepou mezi kamenné bloky. \n",
                                     "\n",
                                     "**Poznámka: Aktivitu můžete zresetovat tak, že promluvíte na postavu NPC nebo použijete tlačítko pro resetování aktivity.**"
                                 ]
                  },
                  {
                      "cell_type":  "code",
                      "execution_count":  null,
                      "metadata":  {
                                       "minecraft":  {
                                                         "closeCodeBuilderOnRun":  true,
                                                         "default_code":  "# code here\n\n\n",
                                                         "resetWorldCommand":  "execute @e[tag=game] ~ ~ ~ function act/4/reset"
                                                     }
                                   },
                      "outputs":  [

                                  ],
                      "source":  [
                                     "# tady programujte\n",
                                     "\n",
                                     "\n"
                                 ]
                  }
              ],
    "metadata":  {
                     "celltoolbar":  "Edit Metadata",
                     "kernelspec":  {
                                        "display_name":  "Python 3",
                                        "language":  "python",
                                        "name":  "python3"
                                    },
                     "language_info":  {
                                           "codemirror_mode":  {
                                                                   "name":  "ipython",
                                                                   "version":  3
                                                               },
                                           "file_extension":  ".py",
                                           "mimetype":  "text/x-python",
                                           "name":  "python",
                                           "nbconvert_exporter":  "python",
                                           "pygments_lexer":  "ipython3",
                                           "version":  "3.8.6"
                                       },
                     "minecraft":  {
                                       "description":  "Protect those beets",
                                       "page_id":  "1.1",
                                       "page_name":  "Řepa",
                                       "style":  "minecraft.css"
                                   }
                 },
    "nbformat":  4,
    "nbformat_minor":  2
}
