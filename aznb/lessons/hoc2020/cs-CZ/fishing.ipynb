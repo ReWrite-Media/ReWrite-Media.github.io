﻿{
    "cells":  [
                  {
                      "cell_type":  "markdown",
                      "metadata":  {

                                   },
                      "source":  [
                                     "# Postavte molo\n",
                                     "Než zákeřníci naučí vesničany rybařit, potřebují molo. Postavte vnější okraje mola. S pomocí funkce `agent.give()` dáte agentovi blok, který má umístit, s pomocí `funkce agent.place()` blok umístíte, s pomocí funkce `agent.turn()` agenta otočíte a s pomocí funkce `agent.move()` ho přesunete.\n",
                                     "\n",
                                     "Funkce `agent.give()` přebírá tři parametry.  \n",
                                     "\n",
                                     "- item (*string*): Předmět, který chcete agentovi dát\n",
                                     "- count (*integer*): Kolik předmětů agent přijme\n",
                                     "- slot (*integer*): Pozice inventáře, do které agent předmět přijímá\n",
                                     "\n",
                                     "Funkce `agent.place()` přebírá dva parametry.  \n",
                                     "\n",
                                     "- slot number (*integer*): Kterou pozici inventáře by měl agent použít\n",
                                     "- direction (*string*): Směr, kterým má agent předmět umístit\n",
                                     "    - Platné hodnoty směru jsou: \n",
                                     "        - forward\n",
                                     "        - back\n",
                                     "        - left\n",
                                     "        - right\n",
                                     "        - up\n",
                                     "        - down"
                                 ]
                  },
                  {
                      "cell_type":  "code",
                      "execution_count":  null,
                      "metadata":  {
                                       "minecraft":  {
                                                         "closeCodeBuilderOnRun":  true,
                                                         "readonly":  true
                                                     }
                                   },
                      "outputs":  [

                                  ],
                      "source":  [
                                     "# dá agentovi dvě prkna\n",
                                     "# posune o jednu mezeru vpřed\n",
                                     "# a umístí prkno pod sebe\n",
                                     "agent.give(\"planks\", 2, 1)\n",
                                     "agent.move(\"forward\")\n",
                                     "agent.place(1,\"down\")"
                                 ]
                  },
                  {
                      "cell_type":  "markdown",
                      "metadata":  {

                                   },
                      "source":  [
                                     "Funkce „agent.move()“ přebírá jeden parametr, direction (směr).\n",
                                     "\n",
                                     "Platné hodnoty směru jsou: \n",
                                     "- forward\n",
                                     "- back\n",
                                     "- left\n",
                                     "- right\n",
                                     "- up\n",
                                     "- down\n",
                                     "\n",
                                     "Funkce `agent.turn()` přebírá jeden parametr, turn_direction (směr otočení).\n",
                                     "\n",
                                     "Platné hodnoty směru jsou: \n",
                                     "- left\n",
                                     "- right"
                                 ]
                  },
                  {
                      "cell_type":  "code",
                      "execution_count":  null,
                      "metadata":  {
                                       "minecraft":  {
                                                         "closeCodeBuilderOnRun":  true,
                                                         "readonly":  true
                                                     }
                                   },
                      "outputs":  [

                                  ],
                      "source":  [
                                     "# posune agenta o jeden blok vpřed.\n",
                                     "agent.move(\"forward\")\n",
                                     "# posune agenta o jeden blok vzad.\n",
                                     "agent.move(\"back\")\n",
                                     "# posune agenta o jeden blok doleva.\n",
                                     "agent.move(\"left\")\n",
                                     "# posune agenta o jeden blok doprava.\n",
                                     "agent.move(\"right\")\n",
                                     "\n",
                                     "# tímto otočíte agenta vpravo\n",
                                     "agent.turn(\"right\")\n",
                                     "# tímto otočíte agenta vlevo\n",
                                     "agent.turn(\"left\")"
                                 ]
                  },
                  {
                      "cell_type":  "markdown",
                      "metadata":  {

                                   },
                      "source":  [
                                     "# Tip od profesionálů:\n",
                                     "Pomocí smyčky `for` můžete provést skupinu akcí vícekrát."
                                 ]
                  },
                  {
                      "cell_type":  "code",
                      "execution_count":  null,
                      "metadata":  {
                                       "minecraft":  {
                                                         "closeCodeBuilderOnRun":  true,
                                                         "readonly":  true
                                                     }
                                   },
                      "outputs":  [

                                  ],
                      "source":  [
                                     "# tento kód posune agenta vpřed\n",
                                     "# a pětkrát pod něj umístí prkno\n",
                                     "for i in range(5):\n",
                                     "    agent.move(\"forward\")\n",
                                     "    agent.give(\"planks\", 2, 1)\n",
                                     "    agent.place(1, \"down\")"
                                 ]
                  },
                  {
                      "cell_type":  "markdown",
                      "metadata":  {

                                   },
                      "source":  [
                                     "# Aktivita:\n",
                                     "Postavte vnější okraje mola, které vybíhá do vody od kamenné kostky. Molo bude mít na délku 6 bloků a na šířku 4 bloky.\n",
                                     "\n",
                                     "**Poznámka: Aktivitu můžete zresetovat tak, že promluvíte na postavu NPC nebo použijete tlačítko pro resetování aktivity.**"
                                 ]
                  },
                  {
                      "cell_type":  "code",
                      "execution_count":  null,
                      "metadata":  {
                                       "minecraft":  {
                                                         "closeCodeBuilderOnRun":  true,
                                                         "default_code":  "# code here\n\n\n",
                                                         "resetWorldCommand":  "execute @e[tag=game] ~ ~ ~ function act/2/reset"
                                                     }
                                   },
                      "outputs":  [

                                  ],
                      "source":  [
                                     "# tady programujte\n",
                                     "\n",
                                     "\n"
                                 ]
                  }
              ],
    "metadata":  {
                     "celltoolbar":  "Edit Metadata",
                     "kernelspec":  {
                                        "display_name":  "Python 3",
                                        "language":  "python",
                                        "name":  "python3"
                                    },
                     "language_info":  {
                                           "codemirror_mode":  {
                                                                   "name":  "ipython",
                                                                   "version":  3
                                                               },
                                           "file_extension":  ".py",
                                           "mimetype":  "text/x-python",
                                           "name":  "python",
                                           "nbconvert_exporter":  "python",
                                           "pygments_lexer":  "ipython3",
                                           "version":  "3.8.6"
                                       },
                     "minecraft":  {
                                       "description":  "Let\u0027s learn fishing!",
                                       "page_id":  "1.1",
                                       "page_name":  "Rybaření",
                                       "style":  "minecraft.css"
                                   }
                 },
    "nbformat":  4,
    "nbformat_minor":  2
}
