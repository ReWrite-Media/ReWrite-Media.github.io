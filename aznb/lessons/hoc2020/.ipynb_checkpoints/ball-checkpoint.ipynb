{
 "cells": [
  {
   "cell_type": "markdown",
   "metadata": {},
   "source": [
    "# Ball"
   ]
  }
 ],
 "metadata": {
  "kernelspec": {
   "display_name": "Python 3",
   "language": "python",
   "name": "python3"
  },
  "language_info": {
   "codemirror_mode": {
    "name": "ipython",
    "version": 3
   },
   "file_extension": ".py",
   "mimetype": "text/x-python",
   "name": "python",
   "nbconvert_exporter": "python",
   "pygments_lexer": "ipython3",
   "version": "3.8.6"
  },
  "minecraft": {
   "description": "Learn to make the Agent move",
   "page_id": "1.1",
   "page_name": "Move",
   "style": "minecraft.css"
  }
 },
 "nbformat": 4,
 "nbformat_minor": 2
}
