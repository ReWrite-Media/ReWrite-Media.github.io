﻿{
    "cells":  [
                  {
                      "cell_type":  "markdown",
                      "metadata":  {

                                   },
                      "source":  [
                                     "# Hent ballen\n",
                                     "\n",
                                     "Det ser ut til at spakene til landsbyboerens heis sitter fast. Bruk «agent.move()» til å posisjonere agenten og deretter «agent.interact()» til å manipulere alle spakene, slik at landsbyboeren kan hente ballen til barna.\n",
                                     "\n",
                                     "Funksjonen «agent.move()» må ha én parameter: retning.\n",
                                     "\n",
                                     "Gyldige retninger: \n",
                                     "- forward\n",
                                     "- back\n",
                                     "- left\n",
                                     "- right\n",
                                     "- up\n",
                                     "- down\n",
                                     "\n",
                                     "Funksjonen «agent.interact()» må ha én parameter: retning.\n",
                                     "\n",
                                     "Gyldige retninger:\n",
                                     "- forward\n",
                                     "- back\n",
                                     "- left\n",
                                     "- right\n",
                                     "- up\n",
                                     "- down\n"
                                 ]
                  },
                  {
                      "cell_type":  "code",
                      "execution_count":  null,
                      "metadata":  {
                                       "minecraft":  {
                                                         "closeCodeBuilderOnRun":  true,
                                                         "readonly":  true
                                                     }
                                   },
                      "outputs":  [

                                  ],
                      "source":  [
                                     "# move the agent up one block\n",
                                     "# flip the lever in front of it\n",
                                     "agent.move(\"up\")\n",
                                     "agent.interact(\"forward\")"
                                 ]
                  },
                  {
                      "cell_type":  "markdown",
                      "metadata":  {

                                   },
                      "source":  [
                                     "# Tips fra proffene:\n",
                                     "Bruk en «for»-løkke til å utføre en gruppe med handlinger flere ganger."
                                 ]
                  },
                  {
                      "cell_type":  "code",
                      "execution_count":  null,
                      "metadata":  {
                                       "minecraft":  {
                                                         "closeCodeBuilderOnRun":  true,
                                                         "readonly":  true
                                                     }
                                   },
                      "outputs":  [

                                  ],
                      "source":  [
                                     "# this code will move the agent right\n",
                                     "# three times\n",
                                     "for i in range(3):\n",
                                     "    agent.move(\"right\")"
                                 ]
                  },
                  {
                      "cell_type":  "markdown",
                      "metadata":  {

                                   },
                      "source":  [
                                     "# Aktivitet:\n",
                                     "Flytt agenten bort til hver spak, og samhandle med den for å manipulere den og slå på heisen.\n",
                                     "\n",
                                     "**Merk: Du kan tilbakestille aktiviteten ved å snakke med den datastyrte figuren eller trykke på knappen Tilb.st. aktivitet.**"
                                 ]
                  },
                  {
                      "cell_type":  "code",
                      "execution_count":  null,
                      "metadata":  {
                                       "minecraft":  {
                                                         "closeCodeBuilderOnRun":  true,
                                                         "default_code":  "# code here\n\n\n",
                                                         "resetWorldCommand":  "execute @e[tag=game] ~ ~ ~ function act/6/reset"
                                                     }
                                   },
                      "outputs":  [

                                  ],
                      "source":  [
                                     "# code here\n",
                                     "\n",
                                     "\n"
                                 ]
                  }
              ],
    "metadata":  {
                     "celltoolbar":  "Edit Metadata",
                     "kernelspec":  {
                                        "display_name":  "Python 3",
                                        "language":  "python",
                                        "name":  "python3"
                                    },
                     "language_info":  {
                                           "codemirror_mode":  {
                                                                   "name":  "ipython",
                                                                   "version":  3
                                                               },
                                           "file_extension":  ".py",
                                           "mimetype":  "text/x-python",
                                           "name":  "python",
                                           "nbconvert_exporter":  "python",
                                           "pygments_lexer":  "ipython3",
                                           "version":  "3.8.6"
                                       },
                     "minecraft":  {
                                       "description":  "Help the kids overcome their bias",
                                       "page_id":  "1.1",
                                       "page_name":  "Ball",
                                       "style":  "minecraft.css"
                                   }
                 },
    "nbformat":  4,
    "nbformat_minor":  2
}
