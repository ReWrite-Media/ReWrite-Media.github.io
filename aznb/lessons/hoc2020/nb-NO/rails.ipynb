﻿{
    "cells":  [
                  {
                      "cell_type":  "markdown",
                      "metadata":  {

                                   },
                      "source":  [
                                     "# Knytt sammen byene\n",
                                     "Ondsbyboerne føler seg mislikt av landsbyboerne fordi veldig få av dem kommer på markedet deres. Grunnen til at så få av landsbyboerne drar dit, er imidlertid at det er for vanskelig å komme seg opp bakken mellom de to byene. Bruk «agent.give()» til å gi agenten en «rail» (skinne) og «agent.place()» til å bygge en skinnegang for gruvevogner mellom de to byene.\n",
                                     "\n",
                                     "Funksjonen «agent.give()» må ha tre parametre.  \n",
                                     "\n",
                                     "- gjenstand (*streng*): gjenstanden du vil gi agenten\n",
                                     "- antall (*heltall*): hvor mange gjenstander agenten skal motta\n",
                                     "- plass (*heltall*): inventarplassen der agenten mottar gjenstanden\n",
                                     "\n",
                                     "Funksjonen «agent.place()» må ha to parametre.  \n",
                                     "\n",
                                     "- plassnummer (*heltall*): inventarplassen som agenten skal bruke\n",
                                     "- retning (*streng*): i hvilken retning agenten skal plassere gjenstanden\n",
                                     "    - Gyldige retninger: \n",
                                     "        - fremover\n",
                                     "        - bakover\n",
                                     "        - til venstre\n",
                                     "        - til høyre\n",
                                     "        - oppover\n",
                                     "        - nedover"
                                 ]
                  },
                  {
                      "cell_type":  "code",
                      "execution_count":  null,
                      "metadata":  {
                                       "minecraft":  {
                                                         "closeCodeBuilderOnRun":  true,
                                                         "readonly":  true
                                                     }
                                   },
                      "outputs":  [

                                  ],
                      "source":  [
                                     "# this will give the Agent two rails\n",
                                     "# then place one down and move forward\n",
                                     "agent.give(\"rail\", 2, 1)\n",
                                     "agent.place(1, \"down\")\n",
                                     "agent.move(\"forward\")\n",
                                     "\n"
                                 ]
                  },
                  {
                      "cell_type":  "markdown",
                      "metadata":  {

                                   },
                      "source":  [
                                     "Funksjonen «agent.move()» må ha én parameter: retning.\n",
                                     "\n",
                                     "Gyldige retninger: \n",
                                     "- fremover\n",
                                     "- bakover\n",
                                     "- til venstre\n",
                                     "- til høyre\n",
                                     "- oppover\n",
                                     "- nedover"
                                 ]
                  },
                  {
                      "cell_type":  "code",
                      "execution_count":  null,
                      "metadata":  {
                                       "minecraft":  {
                                                         "closeCodeBuilderOnRun":  true,
                                                         "readonly":  true
                                                     }
                                   },
                      "outputs":  [

                                  ],
                      "source":  [
                                     "# move the Agent forward one block.\n",
                                     "agent.move(\"forward\")\n",
                                     "# move the Agent backward one block.\n",
                                     "agent.move(\"back\")\n",
                                     "# move the Agent left one block.\n",
                                     "agent.move(\"left\")\n",
                                     "# move the Agent right one block.\n",
                                     "agent.move(\"right\")\n"
                                 ]
                  },
                  {
                      "cell_type":  "markdown",
                      "metadata":  {

                                   },
                      "source":  [
                                     "# Tips fra proffene:\n",
                                     "Bruk en «for»-løkke til å utføre en gruppe med handlinger flere ganger."
                                 ]
                  },
                  {
                      "cell_type":  "code",
                      "execution_count":  null,
                      "metadata":  {
                                       "minecraft":  {
                                                         "closeCodeBuilderOnRun":  true,
                                                         "readonly":  true
                                                     }
                                   },
                      "outputs":  [

                                  ],
                      "source":  [
                                     "# this will make the agent place\n",
                                     "# a rail under it and then move forward.\n",
                                     "# this will repeat four times.\n",
                                     "for i in range(4):\n",
                                     "    agent.give(\"rail\", 2, 1)\n",
                                     "    agent.place(1, \"down\")\n",
                                     "    agent.move(\"forward\")"
                                 ]
                  },
                  {
                      "cell_type":  "markdown",
                      "metadata":  {

                                   },
                      "source":  [
                                     "# Aktivitet:\n",
                                     "Bygg en skinnegang inne i tunnelen mellom de to tre- og steinsøylene.\n",
                                     "\n",
                                     "**Merk: Du kan tilbakestille aktiviteten ved å snakke med den datastyrte figuren eller trykke på knappen Tilbakestill verden.**"
                                 ]
                  },
                  {
                      "cell_type":  "code",
                      "execution_count":  null,
                      "metadata":  {
                                       "minecraft":  {
                                                         "closeCodeBuilderOnRun":  true,
                                                         "default_code":  "# code here\n\n\n",
                                                         "resetWorldCommand":  "execute @e[tag=game] ~ ~ ~ function act/7/reset"
                                                     }
                                   },
                      "outputs":  [

                                  ],
                      "source":  [
                                     "# code here\n",
                                     "\n",
                                     "\n"
                                 ]
                  }
              ],
    "metadata":  {
                     "celltoolbar":  "Edit Metadata",
                     "kernelspec":  {
                                        "display_name":  "Python 3",
                                        "language":  "python",
                                        "name":  "python3"
                                    },
                     "language_info":  {
                                           "codemirror_mode":  {
                                                                   "name":  "ipython",
                                                                   "version":  3
                                                               },
                                           "file_extension":  ".py",
                                           "mimetype":  "text/x-python",
                                           "name":  "python",
                                           "nbconvert_exporter":  "python",
                                           "pygments_lexer":  "ipython3",
                                           "version":  "3.8.6"
                                       },
                     "minecraft":  {
                                       "description":  "Let\u0027s help the party!",
                                       "page_id":  "1.1",
                                       "page_name":  "Rails",
                                       "style":  "minecraft.css"
                                   }
                 },
    "nbformat":  4,
    "nbformat_minor":  2
}
