﻿{
    "cells":  [
                  {
                      "cell_type":  "markdown",
                      "metadata":  {

                                   },
                      "source":  [
                                     "# Beskytt rødbetene\n",
                                     "Det er et eller annet som til stadighet kommer seg inn i hagen og knabber rødbeter. Bruk agenten til å bygge et gjerde rundt gården for å beskytte rødbetene. Bruk «agent.give()» til å gi agenten jernstenger («iron_bars»), «agent.place()» til å plassere stengene, «agent.turn()» til å snu agenten og «agent.move()» til å flytte agenten rundt i hagen.\n",
                                     "\n",
                                     "Funksjonen «agent.give()» må ha tre parametre.  \n",
                                     "\n",
                                     "- gjenstand (*streng*): gjenstanden du vil gi agenten\n",
                                     "- antall (*heltall*): hvor mange gjenstander agenten skal motta\n",
                                     "- plass (*heltall*): inventarplassen der agenten mottar gjenstanden\n",
                                     "\n",
                                     "Funksjonen «agent.place()» må ha to parametre.  \n",
                                     "\n",
                                     "- plassnummer (*heltall*): inventarplassen som agenten skal bruke\n",
                                     "- retning (*streng*): i hvilken retning agenten skal plassere gjenstanden\n",
                                     "    - Gyldige retninger: \n",
                                     "        - forward\n",
                                     "        - back\n",
                                     "        - left\n",
                                     "        - right\n",
                                     "        - up\n",
                                     "        - down\n",
                                     "\n"
                                 ]
                  },
                  {
                      "cell_type":  "code",
                      "execution_count":  null,
                      "metadata":  {
                                       "minecraft":  {
                                                         "closeCodeBuilderOnRun":  true,
                                                         "readonly":  true
                                                     }
                                   },
                      "outputs":  [

                                  ],
                      "source":  [
                                     "# dette flytter agenten fremover én blokk\n",
                                     "# gi agenten iron_bars, og plasser deretter\n",
                                     "# iron_bars under den.\n",
                                     "agent.move(\"forward\")\n",
                                     "agent.give(\"iron_bars\", 2, 1)\n",
                                     "agent.place(1, \"down\")"
                                 ]
                  },
                  {
                      "cell_type":  "markdown",
                      "metadata":  {

                                   },
                      "source":  [
                                     "Funksjonen «agent.move()» må ha én parameter: retning.\n",
                                     "\n",
                                     "Gyldige retninger: \n",
                                     "- forward\n",
                                     "- back\n",
                                     "- left\n",
                                     "- right\n",
                                     "- up\n",
                                     "- down\n",
                                     "\n",
                                     "Funksjonen «agent.turn()» må ha én parameter: retning.\n",
                                     "\n",
                                     "Gyldige retninger: \n",
                                     "- left\n",
                                     "- right"
                                 ]
                  },
                  {
                      "cell_type":  "code",
                      "execution_count":  null,
                      "metadata":  {
                                       "minecraft":  {
                                                         "closeCodeBuilderOnRun":  true,
                                                         "readonly":  true
                                                     }
                                   },
                      "outputs":  [

                                  ],
                      "source":  [
                                     "# flytt agenten én blokk fremover.\n",
                                     "agent.move(\"forward\")\n",
                                     "# flytt agenten én blokk bakover.\n",
                                     "agent.move(\"back\")\n",
                                     "# flytt agenten én blokk til venstre.\n",
                                     "agent.move(\"left\")\n",
                                     "# flytt agenten én blokk til høyre.\n",
                                     "agent.move(\"right\")\n",
                                     "\n",
                                     "# dette snur agenten mot høyre\n",
                                     "agent.turn(\"right\")\n",
                                     "# dette snur agenten mot venstre\n",
                                     "agent.turn(\"left\")"
                                 ]
                  },
                  {
                      "cell_type":  "markdown",
                      "metadata":  {

                                   },
                      "source":  [
                                     "# Tips fra proffene:\n",
                                     "Bruk en «for»-løkke til å utføre en gruppe med handlinger flere ganger."
                                 ]
                  },
                  {
                      "cell_type":  "code",
                      "execution_count":  null,
                      "metadata":  {
                                       "minecraft":  {
                                                         "closeCodeBuilderOnRun":  true,
                                                         "readonly":  true
                                                     }
                                   },
                      "outputs":  [

                                  ],
                      "source":  [
                                     "# denne koden flytter agenten fremover\n",
                                     "# og plasser iron_bars under den fem ganger\n",
                                     "for i in range(5):\n",
                                     "    agent.move(\"forward\")\n",
                                     "    agent.give(\"iron_bars\", 2, 1)\n",
                                     "    agent.place(1, \"down\")"
                                 ]
                  },
                  {
                      "cell_type":  "markdown",
                      "metadata":  {

                                   },
                      "source":  [
                                     "# Aktivitet:\n",
                                     "Plasser jernstenger mellom steinblokkene rundt rødbetehagen. \n",
                                     "\n",
                                     "**Merk: Du kan tilbakestille aktiviteten ved å snakke med den datastyrte figuren eller trykke på knappen Tilb.st. aktivitet.**"
                                 ]
                  },
                  {
                      "cell_type":  "code",
                      "execution_count":  null,
                      "metadata":  {
                                       "minecraft":  {
                                                         "closeCodeBuilderOnRun":  true,
                                                         "default_code":  "# code here\n\n\n",
                                                         "resetWorldCommand":  "execute @e[tag=game] ~ ~ ~ function act/4/reset"
                                                     }
                                   },
                      "outputs":  [

                                  ],
                      "source":  [
                                     "# kode her\n",
                                     "\n",
                                     "\n"
                                 ]
                  }
              ],
    "metadata":  {
                     "celltoolbar":  "Edit Metadata",
                     "kernelspec":  {
                                        "display_name":  "Python 3",
                                        "language":  "python",
                                        "name":  "python3"
                                    },
                     "language_info":  {
                                           "codemirror_mode":  {
                                                                   "name":  "ipython",
                                                                   "version":  3
                                                               },
                                           "file_extension":  ".py",
                                           "mimetype":  "text/x-python",
                                           "name":  "python",
                                           "nbconvert_exporter":  "python",
                                           "pygments_lexer":  "ipython3",
                                           "version":  "3.8.6"
                                       },
                     "minecraft":  {
                                       "description":  "Protect those beets",
                                       "page_id":  "1.1",
                                       "page_name":  "Rødbeter",
                                       "style":  "minecraft.css"
                                   }
                 },
    "nbformat":  4,
    "nbformat_minor":  2
}
