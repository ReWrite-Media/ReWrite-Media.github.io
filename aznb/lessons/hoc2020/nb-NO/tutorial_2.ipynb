﻿{
    "cells":  [
                  {
                      "cell_type":  "markdown",
                      "metadata":  {

                                   },
                      "source":  [
                                     "# Plant ungtreet\n",
                                     "Agenten har gitt deg et ungtre til minne om ankomsten din! For å plassere ungtreet på verktøylinjen bruker vi funksjonen «player.give()».\n",
                                     "\n",
                                     "Funksjonen «player.give()» må ha to parametre. \n",
                                     "– item (*streng*): den ønskede gjenstanden\n",
                                     "– count (*heltall*): antall gjenstander du mottar"
                                 ]
                  },
                  {
                      "cell_type":  "code",
                      "execution_count":  null,
                      "metadata":  {
                                       "minecraft":  {
                                                         "closeCodeBuilderOnRun":  true,
                                                         "readonly":  true
                                                     }
                                   },
                      "outputs":  [

                                  ],
                      "source":  [
                                     "# gi deg selv 5 steinblokker\n",
                                     "player.give(\"stone\", 5)\n",
                                     "# gi deg selv 3 jordblokker\n",
                                     "player.give(\"dirt\", 3)"
                                 ]
                  },
                  {
                      "cell_type":  "markdown",
                      "metadata":  {

                                   },
                      "source":  [
                                     "# Aktivitet:\n",
                                     "Ta imot gaven fra agenten ved å gi deg selv et ungtre («sapling»). Etterpå planter du ungtreet manuelt på gressblokken ved å velge det på verktøylinjen, rette markøren mot gressblokken og høyreklikke.\n",
                                     "\n",
                                     "**Merk: Du kan tilbakestille aktiviteten ved å snakke med den datastyrte figuren eller trykke på knappen Tilb.st. aktivitet.**"
                                 ]
                  },
                  {
                      "cell_type":  "code",
                      "execution_count":  null,
                      "metadata":  {
                                       "minecraft":  {
                                                         "closeCodeBuilderOnRun":  true,
                                                         "default_code":  "# code here\nplayer.give()\n\n",
                                                         "resetWorldCommand":  "execute @e[tag=game] ~ ~ ~ function act/1/reset"
                                                     }
                                   },
                      "outputs":  [

                                  ],
                      "source":  [
                                     "# kode her\n",
                                     "player.give()\n",
                                     "\n"
                                 ]
                  }
              ],
    "metadata":  {
                     "celltoolbar":  "Edit Metadata",
                     "kernelspec":  {
                                        "display_name":  "Python 3",
                                        "language":  "python",
                                        "name":  "python3"
                                    },
                     "language_info":  {
                                           "codemirror_mode":  {
                                                                   "name":  "ipython",
                                                                   "version":  3
                                                               },
                                           "file_extension":  ".py",
                                           "mimetype":  "text/x-python",
                                           "name":  "python",
                                           "nbconvert_exporter":  "python",
                                           "pygments_lexer":  "ipython3",
                                           "version":  "3.8.6"
                                       },
                     "minecraft":  {
                                       "description":  "Plant a tree!",
                                       "page_id":  "1.1",
                                       "page_name":  "Gi",
                                       "style":  "minecraft.css"
                                   }
                 },
    "nbformat":  4,
    "nbformat_minor":  2
}
