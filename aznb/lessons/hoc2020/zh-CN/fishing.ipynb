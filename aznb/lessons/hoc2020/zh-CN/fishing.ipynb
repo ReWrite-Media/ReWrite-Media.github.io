﻿{
    "cells":  [
                  {
                      "cell_type":  "markdown",
                      "metadata":  {

                                   },
                      "source":  [
                                     "# 建造一个码头\n",
                                     "在灾厄村民教村民如何捕鱼之前，他们首先需要一个码头。使用 `agent.give()` 给代理机器人一块方块进行放置并建造出码头的外部轮廓。`agent.place()` 放置方块，`agent.turn()` 让代理机器人转向，`agent.move()` 移动代理机器人。\n",
                                     "\n",
                                     "`agent.give()` 函数采用三个参数。\n",
                                     "\n",
                                     "- 物品（*字符串*）：您要给代理机器人的物品。\n",
                                     "- 计数（*整数*）：代理机器人将接收多少物品。\n",
                                     "- 栏位（*整数*）：代理机器人接收物品的物品栏位。\n",
                                     "\n",
                                     "`agent.place()` 函数采用两个参数。\n",
                                     "\n",
                                     "- 栏位号（*整数*）：代理机器人要使用哪一个物品栏位。\n",
                                     "- 方向（*字符串*）：您希望代理机器人放置物品的方向。\n",
                                     "    - 有效方向为：\n",
                                     "        - 前\n",
                                     "        - 后\n",
                                     "        - 左\n",
                                     "        - 右\n",
                                     "        - 上\n",
                                     "        - 下"
                                 ]
                  },
                  {
                      "cell_type":  "code",
                      "execution_count":  null,
                      "metadata":  {
                                       "minecraft":  {
                                                         "closeCodeBuilderOnRun":  true,
                                                         "readonly":  true
                                                     }
                                   },
                      "outputs":  [

                                  ],
                      "source":  [
                                     "# this will give the Agent two planks\n",
                                     "# move forward one space\n",
                                     "# and place a plank below\n",
                                     "agent.give(\"planks\", 2, 1)\n",
                                     "agent.move(\"forward\")\n",
                                     "agent.place(1,\"down\")"
                                 ]
                  },
                  {
                      "cell_type":  "markdown",
                      "metadata":  {

                                   },
                      "source":  [
                                     "`agent.move()` 函数采用一个参数，方向。\n",
                                     "\n",
                                     "有效方向为：\n",
                                     "- 前\n",
                                     "- 后\n",
                                     "- 左\n",
                                     "- 右\n",
                                     "- 上\n",
                                     "- 下\n",
                                     "\n",
                                     "`agent.turn()` 函数采用一个参数，转向。\n",
                                     "\n",
                                     "有效方向为：\n",
                                     "- 左\n",
                                     "- 右"
                                 ]
                  },
                  {
                      "cell_type":  "code",
                      "execution_count":  null,
                      "metadata":  {
                                       "minecraft":  {
                                                         "closeCodeBuilderOnRun":  true,
                                                         "readonly":  true
                                                     }
                                   },
                      "outputs":  [

                                  ],
                      "source":  [
                                     "# move the Agent forward one block.\n",
                                     "agent.move(\"forward\")\n",
                                     "# move the Agent backward one block.\n",
                                     "agent.move(\"back\")\n",
                                     "# move the Agent left one block.\n",
                                     "agent.move(\"left\")\n",
                                     "# move the Agent right one block.\n",
                                     "agent.move(\"right\")\n",
                                     "\n",
                                     "# this will turn the Agent right\n",
                                     "agent.turn(\"right\")\n",
                                     "# this will turn the Agent left\n",
                                     "agent.turn(\"left\")"
                                 ]
                  },
                  {
                      "cell_type":  "markdown",
                      "metadata":  {

                                   },
                      "source":  [
                                     "# 专业提示：\n",
                                     "使用 `for` 循环多次执行一组操作。"
                                 ]
                  },
                  {
                      "cell_type":  "code",
                      "execution_count":  null,
                      "metadata":  {
                                       "minecraft":  {
                                                         "closeCodeBuilderOnRun":  true,
                                                         "readonly":  true
                                                     }
                                   },
                      "outputs":  [

                                  ],
                      "source":  [
                                     "# this code will move the Agent forward\n",
                                     "# and place a plank under them five times\n",
                                     "for i in range(5):\n",
                                     "    agent.move(\"forward\")\n",
                                     "    agent.give(\"planks\", 2, 1)\n",
                                     "    agent.place(1, \"down\")"
                                 ]
                  },
                  {
                      "cell_type":  "markdown",
                      "metadata":  {

                                   },
                      "source":  [
                                     "# 活动：\n",
                                     "建造一个从圆石延伸出来的码头外部轮廓，应为 6 个方块长，4 个方块宽。\n",
                                     "\n",
                                     "**注意：您可以通过与非用户角色交谈或使用重置活动按钮来重置活动。**"
                                 ]
                  },
                  {
                      "cell_type":  "code",
                      "execution_count":  null,
                      "metadata":  {
                                       "minecraft":  {
                                                         "closeCodeBuilderOnRun":  true,
                                                         "default_code":  "# code here\n\n\n",
                                                         "resetWorldCommand":  "execute @e[tag=game] ~ ~ ~ function act/2/reset"
                                                     }
                                   },
                      "outputs":  [

                                  ],
                      "source":  [
                                     "# code here\n",
                                     "\n",
                                     "\n"
                                 ]
                  }
              ],
    "metadata":  {
                     "celltoolbar":  "Edit Metadata",
                     "kernelspec":  {
                                        "display_name":  "Python 3",
                                        "language":  "python",
                                        "name":  "python3"
                                    },
                     "language_info":  {
                                           "codemirror_mode":  {
                                                                   "name":  "ipython",
                                                                   "version":  3
                                                               },
                                           "file_extension":  ".py",
                                           "mimetype":  "text/x-python",
                                           "name":  "python",
                                           "nbconvert_exporter":  "python",
                                           "pygments_lexer":  "ipython3",
                                           "version":  "3.8.6"
                                       },
                     "minecraft":  {
                                       "description":  "Let\u0027s learn fishing!",
                                       "page_id":  "1.1",
                                       "page_name":  "Fishing",
                                       "style":  "minecraft.css"
                                   }
                 },
    "nbformat":  4,
    "nbformat_minor":  2
}
