﻿{
    "cells":  [
                  {
                      "cell_type":  "markdown",
                      "metadata":  {

                                   },
                      "source":  [
                                     "# 拿到球\n",
                                     "\n",
                                     "看来村民电梯的拉杆好像卡住了。使用 `agent.move()` 定位代理机器人，然后使用 `agent.interact()` 翻转所有的拉杆，帮助村民将孩子们的球拿下来。\n",
                                     "\n",
                                     "`agent.move()` 函数采用一个参数，方向。\n",
                                     "\n",
                                     "有效方向为：\n",
                                     "- 前 (forward)\n",
                                     "- 后 (back)\n",
                                     "- 左 (left)\n",
                                     "- 右 (right)\n",
                                     "- 上 (up)\n",
                                     "- 下 (down)\n",
                                     "\n",
                                     "`agent.interact()` 函数采用一个参数，方向。\n",
                                     "\n",
                                     "有效方向为：\n",
                                     "- 前 (forward)\n",
                                     "- 后 (back)\n",
                                     "- 左 (left)\n",
                                     "- 右 (right)\n",
                                     "- 上 (up)\n",
                                     "- 下 (down)\n"
                                 ]
                  },
                  {
                      "cell_type":  "code",
                      "execution_count":  null,
                      "metadata":  {
                                       "minecraft":  {
                                                         "closeCodeBuilderOnRun":  true,
                                                         "readonly":  true
                                                     }
                                   },
                      "outputs":  [

                                  ],
                      "source":  [
                                     "# 将代理机器人向上移动一个方块\n",
                                     "# 翻转前方的拉杆\n",
                                     "agent.move(\"up\")\n",
                                     "agent.interact(\"forward\")"
                                 ]
                  },
                  {
                      "cell_type":  "markdown",
                      "metadata":  {

                                   },
                      "source":  [
                                     "# 专业提示：\n",
                                     "使用 `for` 循环多次执行一组操作。"
                                 ]
                  },
                  {
                      "cell_type":  "code",
                      "execution_count":  null,
                      "metadata":  {
                                       "minecraft":  {
                                                         "closeCodeBuilderOnRun":  true,
                                                         "readonly":  true
                                                     }
                                   },
                      "outputs":  [

                                  ],
                      "source":  [
                                     "# 此代码可将代理机器人向右移动\n",
                                     "# 三次\n",
                                     "for i in range(3):\n",
                                     "    agent.move(\"right\")"
                                 ]
                  },
                  {
                      "cell_type":  "markdown",
                      "metadata":  {

                                   },
                      "source":  [
                                     "# 活动：\n",
                                     "将代理机器人向上移动到每个拉杆的位置，然后与拉杆互动以将其翻转，从而启动电梯。\n",
                                     "\n",
                                     "**注意：您可以通过与非用户角色交谈或使用重置活动按钮来重置活动。**"
                                 ]
                  },
                  {
                      "cell_type":  "code",
                      "execution_count":  null,
                      "metadata":  {
                                       "minecraft":  {
                                                         "closeCodeBuilderOnRun":  true,
                                                         "default_code":  "# code here\n\n\n",
                                                         "resetWorldCommand":  "execute @e[tag=game] ~ ~ ~ function act/6/reset"
                                                     }
                                   },
                      "outputs":  [

                                  ],
                      "source":  [
                                     "# 在此编写代码\n",
                                     "\n",
                                     "\n"
                                 ]
                  }
              ],
    "metadata":  {
                     "celltoolbar":  "Edit Metadata",
                     "kernelspec":  {
                                        "display_name":  "Python 3",
                                        "language":  "python",
                                        "name":  "python3"
                                    },
                     "language_info":  {
                                           "codemirror_mode":  {
                                                                   "name":  "ipython",
                                                                   "version":  3
                                                               },
                                           "file_extension":  ".py",
                                           "mimetype":  "text/x-python",
                                           "name":  "python",
                                           "nbconvert_exporter":  "python",
                                           "pygments_lexer":  "ipython3",
                                           "version":  "3.8.6"
                                       },
                     "minecraft":  {
                                       "description":  "Help the kids overcome their bias",
                                       "page_id":  "1.1",
                                       "page_name":  "球",
                                       "style":  "minecraft.css"
                                   }
                 },
    "nbformat":  4,
    "nbformat_minor":  2
}
