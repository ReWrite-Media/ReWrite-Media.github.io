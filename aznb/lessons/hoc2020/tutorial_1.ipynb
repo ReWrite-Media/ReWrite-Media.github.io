{
 "metadata": {
  "kernelspec": {
   "display_name": "Python 3",
   "language": "python",
   "name": "python3"
  },
  "language_info": {
   "codemirror_mode": {
    "name": "ipython",
    "version": 3
   },
   "file_extension": ".py",
   "mimetype": "text/x-python",
   "name": "python",
   "nbconvert_exporter": "python",
   "pygments_lexer": "ipython3",
   "version": "3.8.6"
  },
  "minecraft": {
   "description": "Meet the Agent!",
   "page_id": "1.1",
   "page_name": "Move",
   "style": "minecraft.css"
  }
 },
 "nbformat": 4,
 "nbformat_minor": 2,
 "cells": [
  {
   "source": [
    "# Move the Agent\n",
    "The first thing we'll need to learn is the basics of moving the Agent. For this we'll use `agent.move()`\n",
    "\n",
    "The `agent.move()` function takes one parameter, direction.\n",
    "\n",
    "Valid directions are: \n",
    "- forward, forwards\n",
    "- back, backward, backwards\n",
    "- left\n",
    "- right\n",
    "- up\n",
    "- down"
   ],
   "cell_type": "markdown",
   "metadata": {
    "minecraft": {
     "readonly": true
    }
   }
  },
  {
    "cell_type": "code",
    "execution_count": null,
    "metadata": {"minecraft":{ "readonly": true } },
    "outputs": [],
    "source": [
     "# move the Agent forward one block.\n",
     "agent.move(\"forward\")\n",
     "# move the Agent backward one block.\n",
     "agent.move(\"backward\")\n",
     "# move the Agent left one block.\n",
     "agent.move(\"left\")\n",
     "# move the Agent right one block.\n",
     "agent.move(\"right\")"
    ]
   },
   {
    "source": [
     "# Activity:\n",
     "Let's move the Agent onto the gold block by sequencing the `agent.move()` function four times.\n",
     "\n",
     "**Warning: Reset the activity by speaking with the NPC after running the example code.**"
    ],
    "cell_type": "markdown",
    "metadata": {}
   },
   {
    "cell_type": "code",
    "execution_count": null,
    "metadata": {"resetWorldCommand":"say not yet implemented"},
    "outputs": [],
    "source": [
     "# code here\n",
     "agent.move(\"forward\")"
    ]
   }
  ]
 }

