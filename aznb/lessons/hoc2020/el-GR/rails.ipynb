﻿{
    "cells":  [
                  {
                      "cell_type":  "markdown",
                      "metadata":  {

                                   },
                      "source":  [
                                     "# Σύνδεση των πόλεων\n",
                                     "Οι Ωρικοί νιώθουν πως οι Χωρικοί τούς αντιπαθούν, γιατί σχεδόν κανείς τους δεν πηγαίνει στο παζάρι τους. Ο λόγος που δεν πηγαίνουν πολλοί Χωρικοί είναι ότι δυσκολεύονται να ανεβούν τον λόφο ανάμεσα στις δύο πόλεις. Χρησιμοποίησε το `agent.give()` για να δώσεις στον Agent `rail` για βαγονέτο και το `agent.place()` για να φτιάξεις σιδηρόδρομο για βαγονέτο ανάμεσα στις δύο πόλεις.\n",
                                     "\n",
                                     "Η συνάρτηση `agent.give()` δέχεται τρεις παραμέτρους.  \n",
                                     "\n",
                                     "- αντικείμενο (*συμβολοσειρά*): Το αντικείμενο που θέλεις να δώσεις στον Agent.\n",
                                     "- πλήθος (*ακέραιος*): Το πλήθος των αντικειμένων που θα λάβει ο Agent.\n",
                                     "- υποδοχή (*ακέραιος*): Η υποδοχή αποθέματος όπου ο Agent λαμβάνει το αντικείμενο.\n",
                                     "\n",
                                     "Η συνάρτηση `agent.place()` δέχεται δύο παραμέτρους.  \n",
                                     "\n",
                                     "- αριθμός υποδοχής (*ακέραιος*): Ποια υποδοχή αποθέματος θα πρέπει να χρησιμοποιήσει ο Agent.\n",
                                     "- κατεύθυνση (*συμβολοσειρά*): Η κατεύθυνση με την οποία θέλεις να τοποθετήσει ο Agent το αντικείμενο.\n",
                                     "    - Οι έγκυρες κατευθύνσεις είναι: \n",
                                     "        - μπροστά\n",
                                     "        - πίσω\n",
                                     "        - αριστερά\n",
                                     "        - δεξιά\n",
                                     "        - πάνω\n",
                                     "        - κάτω"
                                 ]
                  },
                  {
                      "cell_type":  "code",
                      "execution_count":  null,
                      "metadata":  {
                                       "minecraft":  {
                                                         "closeCodeBuilderOnRun":  true,
                                                         "readonly":  true
                                                     }
                                   },
                      "outputs":  [

                                  ],
                      "source":  [
                                     "# αυτό θα δώσει στον Agent δύο ράγες\n",
                                     "# ύστερα θα βάλει μία κάτω και θα προχωρήσει μπροστά\n",
                                     "agent.give(\"rail\", 2, 1)\n",
                                     "agent.place(1, \"down\")\n",
                                     "agent.move(\"forward\")\n",
                                     "\n"
                                 ]
                  },
                  {
                      "cell_type":  "markdown",
                      "metadata":  {

                                   },
                      "source":  [
                                     "Η συνάρτηση `agent.move()` δέχεται μία παράμετρο, την κατεύθυνση (direction).\n",
                                     "\n",
                                     "Οι έγκυρες κατευθύνσεις είναι: \n",
                                     "- μπροστά\n",
                                     "- πίσω\n",
                                     "- αριστερά\n",
                                     "- δεξιά\n",
                                     "- πάνω\n",
                                     "- κάτω"
                                 ]
                  },
                  {
                      "cell_type":  "code",
                      "execution_count":  null,
                      "metadata":  {
                                       "minecraft":  {
                                                         "closeCodeBuilderOnRun":  true,
                                                         "readonly":  true
                                                     }
                                   },
                      "outputs":  [

                                  ],
                      "source":  [
                                     "# μετακίνησε τον Agent προς τα εμπρός κατά έναν κύβο.\n",
                                     "agent.move(\"forward\")\n",
                                     "# μετακίνησε τον Agent προς τα πίσω κατά έναν κύβο.\n",
                                     "agent.move(\"back\")\n",
                                     "# μετακίνησε τον Agent προς τα αριστερά κατά έναν κύβο.\n",
                                     "agent.move(\"left\")\n",
                                     "# μετακίνησε τον Agent προς τα δεξιά κατά έναν κύβο.\n",
                                     "agent.move(\"right\")\n"
                                 ]
                  },
                  {
                      "cell_type":  "markdown",
                      "metadata":  {

                                   },
                      "source":  [
                                     "# Επαγγελματική συμβουλή:\n",
                                     "Χρησιμοποίησε έναν βρόχο `for` για επαναλαμβάνεις ομάδες ενεργειών πολλές φορές."
                                 ]
                  },
                  {
                      "cell_type":  "code",
                      "execution_count":  null,
                      "metadata":  {
                                       "minecraft":  {
                                                         "closeCodeBuilderOnRun":  true,
                                                         "readonly":  true
                                                     }
                                   },
                      "outputs":  [

                                  ],
                      "source":  [
                                     "# αυτό θα κάνει τον Agent να βάλει\n",
                                     "# μια ράγα κάτω και ύστερα θα προχωρήσει μπροστά.\n",
                                     "# αυτό θα επαναληφθεί τέσσερις φορές.\n",
                                     "for i in range(4):\n",
                                     "    agent.give(\"rail\", 2, 1)\n",
                                     "    agent.place(1, \"down\")\n",
                                     "    agent.move(\"forward\")"
                                 ]
                  },
                  {
                      "cell_type":  "markdown",
                      "metadata":  {

                                   },
                      "source":  [
                                     "# Δραστηριότητα:\n",
                                     "Δημιούργησε έναν σιδηρόδρομο μέσα στο τούνελ ανάμεσα στους δύο πασσάλους από ξύλο και πέτρα.\n",
                                     "\n",
                                     "**Σημείωση: Μπορείς να επαναφέρεις τη δραστηριότητα, μιλώντας με τον NPC ή επιλέγοντας το κουμπί \"Επαναφορά δραστηριότητας\".**"
                                 ]
                  },
                  {
                      "cell_type":  "code",
                      "execution_count":  null,
                      "metadata":  {
                                       "minecraft":  {
                                                         "closeCodeBuilderOnRun":  true,
                                                         "default_code":  "# code here\n\n\n",
                                                         "resetWorldCommand":  "execute @e[tag=game] ~ ~ ~ function act/7/reset"
                                                     }
                                   },
                      "outputs":  [

                                  ],
                      "source":  [
                                     "# κώδικας εδώ\n",
                                     "\n",
                                     "\n"
                                 ]
                  }
              ],
    "metadata":  {
                     "celltoolbar":  "Edit Metadata",
                     "kernelspec":  {
                                        "display_name":  "Python 3",
                                        "language":  "python",
                                        "name":  "python3"
                                    },
                     "language_info":  {
                                           "codemirror_mode":  {
                                                                   "name":  "ipython",
                                                                   "version":  3
                                                               },
                                           "file_extension":  ".py",
                                           "mimetype":  "text/x-python",
                                           "name":  "python",
                                           "nbconvert_exporter":  "python",
                                           "pygments_lexer":  "ipython3",
                                           "version":  "3.8.6"
                                       },
                     "minecraft":  {
                                       "description":  "Let\u0027s help the party!",
                                       "page_id":  "1.1",
                                       "page_name":  "Ράγες",
                                       "style":  "minecraft.css"
                                   }
                 },
    "nbformat":  4,
    "nbformat_minor":  2
}
