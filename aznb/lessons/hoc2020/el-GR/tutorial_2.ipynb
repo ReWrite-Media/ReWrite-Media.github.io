﻿{
    "cells":  [
                  {
                      "cell_type":  "markdown",
                      "metadata":  {

                                   },
                      "source":  [
                                     "# Φύτεψε το δενδρύλλιο\n",
                                     "Ο Agent σού έδωσε ένα `sapling` (δενδρύλλιο) για να θυμάσαι το ξεκίνημά σου! Για να το τοποθετήσουμε στη hotbar, θα χρησιμοποιήσουμε τη συνάρτηση `player.give()`.\n",
                                     "\n",
                                     "Η συνάρτηση `player.give()` δέχεται δύο παραμέτρους. \n",
                                     "- αντικείμενο (*συμβολοσειρά*): το αντικείμενο που θέλεις\n",
                                     "- πλήθος (*ακέραιος*): ο αριθμός των αντικειμένων που θα λάβεις"
                                 ]
                  },
                  {
                      "cell_type":  "code",
                      "execution_count":  null,
                      "metadata":  {
                                       "minecraft":  {
                                                         "closeCodeBuilderOnRun":  true,
                                                         "readonly":  true
                                                     }
                                   },
                      "outputs":  [

                                  ],
                      "source":  [
                                     "# δώσε στον εαυτό σου 5 πέτρινους κύβους\n",
                                     "player.give(\"stone\", 5)\n",
                                     "# δώσε στον εαυτό σου 3 κύβους χώματος\n",
                                     "player.give(\"dirt\", 3)"
                                 ]
                  },
                  {
                      "cell_type":  "markdown",
                      "metadata":  {

                                   },
                      "source":  [
                                     "# Δραστηριότητα:\n",
                                     "Δέξου το δώρο από τον Agent και χάρισε στον εαυτό σου ένα `sapling` (δενδρύλλιο). Όταν τελειώσεις, φύτεψέ το μη αυτόματα στον κύβο γρασιδιού, επιλέγοντάς το στο hotbar, στοχεύοντας με τον δρομέα τον κύβο γρασιδιού και κάνοντας δεξιό κλικ.\n",
                                     "\n",
                                     "**Σημείωση: Μπορείς να επαναφέρεις τη δραστηριότητα, μιλώντας με τον NPC ή επιλέγοντας το κουμπί \"Επαναφορά δραστηριότητας\".**"
                                 ]
                  },
                  {
                      "cell_type":  "code",
                      "execution_count":  null,
                      "metadata":  {
                                       "minecraft":  {
                                                         "closeCodeBuilderOnRun":  true,
                                                         "default_code":  "# code here\nplayer.give()\n\n",
                                                         "resetWorldCommand":  "execute @e[tag=game] ~ ~ ~ function act/1/reset"
                                                     }
                                   },
                      "outputs":  [

                                  ],
                      "source":  [
                                     "# κώδικας εδώ\n",
                                     "player.give()\n",
                                     "\n"
                                 ]
                  }
              ],
    "metadata":  {
                     "celltoolbar":  "Edit Metadata",
                     "kernelspec":  {
                                        "display_name":  "Python 3",
                                        "language":  "python",
                                        "name":  "python3"
                                    },
                     "language_info":  {
                                           "codemirror_mode":  {
                                                                   "name":  "ipython",
                                                                   "version":  3
                                                               },
                                           "file_extension":  ".py",
                                           "mimetype":  "text/x-python",
                                           "name":  "python",
                                           "nbconvert_exporter":  "python",
                                           "pygments_lexer":  "ipython3",
                                           "version":  "3.8.6"
                                       },
                     "minecraft":  {
                                       "description":  "Plant a tree!",
                                       "page_id":  "1.1",
                                       "page_name":  "Δώσε",
                                       "style":  "minecraft.css"
                                   }
                 },
    "nbformat":  4,
    "nbformat_minor":  2
}
