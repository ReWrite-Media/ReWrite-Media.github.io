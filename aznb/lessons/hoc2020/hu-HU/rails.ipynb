﻿{
    "cells":  [
                  {
                      "cell_type":  "markdown",
                      "metadata":  {

                                   },
                      "source":  [
                                     "# Kösd össze a falvakat\n",
                                     "Az Illagerek szerint a Falusiak nem kedvelik őket, mert általában csak nagyon kevesen keresik fel az Illagerek vásárát. Pedig ennek az az oka, hogy nagyon nehéz megmászni a két falut elválasztó dombot. Az „agent.give()” függvénnyel add oda az Agentnek a csille „rail” nevű sínét, majd az „agent.place()” segítségével építs csillepályát a két falu közé.\n",
                                     "\n",
                                     "Az „agent.give()” függvénynél három paramétert adhatsz meg.  \n",
                                     "\n",
                                     "- item (tárgy) (*string*): Azt a tárgyat adja meg, amelyet át szeretnél adni az Agentnek.\n",
                                     "- count (szám) (*egész szám*): Azt adja meg, hogy az Agent hány tárgyat fog kapni.\n",
                                     "- slot (hely) (*egész szám*): Azt a leltárhelyet adja meg, ahol az Agent átveszi a tárgyat.\n",
                                     "\n",
                                     "Az „agent.place()” függvénynél két paramétert adhatsz meg.\n",
                                     "\n",
                                     "- slot number (hely száma) (*egész szám*): Azt adja meg, hogy az Agent a leltárad hányas számú helyét használja.\n",
                                     "- direction (irány) (*karakterlánc*): Azt adja meg, hogy az Agent melyik irányban helyezze le a tárgyat.\n",
                                     "    - Érvényes irányok: \n",
                                     "        - forward (előre)\n",
                                     "        - back (hátra)\n",
                                     "        - left (bal)\n",
                                     "        - right (jobb)\n",
                                     "        - up (fel)\n",
                                     "        - down (le)"
                                 ]
                  },
                  {
                      "cell_type":  "code",
                      "execution_count":  null,
                      "metadata":  {
                                       "minecraft":  {
                                                         "closeCodeBuilderOnRun":  true,
                                                         "readonly":  true
                                                     }
                                   },
                      "outputs":  [

                                  ],
                      "source":  [
                                     "# this will give the Agent two rails\n",
                                     "# then place one down and move forward\n",
                                     "agent.give(\"rail\", 2, 1)\n",
                                     "agent.place(1, \"down\")\n",
                                     "agent.move(\"forward\")\n",
                                     "\n"
                                 ]
                  },
                  {
                      "cell_type":  "markdown",
                      "metadata":  {

                                   },
                      "source":  [
                                     "Az „agent.turn()” függvénynél egy paramétert adhatsz meg, ez a direction (irány).\n",
                                     "\n",
                                     "Érvényes irányok: \n",
                                     "- forward (előre)\n",
                                     "- back (hátra)\n",
                                     "- left (bal)\n",
                                     "- right (jobb)\n",
                                     "- up (fel)\n",
                                     "- down (le)"
                                 ]
                  },
                  {
                      "cell_type":  "code",
                      "execution_count":  null,
                      "metadata":  {
                                       "minecraft":  {
                                                         "closeCodeBuilderOnRun":  true,
                                                         "readonly":  true
                                                     }
                                   },
                      "outputs":  [

                                  ],
                      "source":  [
                                     "# move the Agent forward one block.\n",
                                     "agent.move(\"forward\")\n",
                                     "# move the Agent backward one block.\n",
                                     "agent.move(\"back\")\n",
                                     "# move the Agent left one block.\n",
                                     "agent.move(\"left\")\n",
                                     "# move the Agent right one block.\n",
                                     "agent.move(\"right\")\n"
                                 ]
                  },
                  {
                      "cell_type":  "markdown",
                      "metadata":  {

                                   },
                      "source":  [
                                     "# Profi tipp:\n",
                                     "Használd a „for” ciklust, ha egy műveletcsoportot többször is szeretnél elvégezni."
                                 ]
                  },
                  {
                      "cell_type":  "code",
                      "execution_count":  null,
                      "metadata":  {
                                       "minecraft":  {
                                                         "closeCodeBuilderOnRun":  true,
                                                         "readonly":  true
                                                     }
                                   },
                      "outputs":  [

                                  ],
                      "source":  [
                                     "# this will make the agent place\n",
                                     "# a rail under it and then move forward.\n",
                                     "# this will repeat four times.\n",
                                     "for i in range(4):\n",
                                     "    agent.give(\"rail\", 2, 1)\n",
                                     "    agent.place(1, \"down\")\n",
                                     "    agent.move(\"forward\")"
                                 ]
                  },
                  {
                      "cell_type":  "markdown",
                      "metadata":  {

                                   },
                      "source":  [
                                     "# Tevékenység:\n",
                                     "Építs vasúti sínt az alagútban a két fa- és kőoszlop közé.\n",
                                     "\n",
                                     "**Megjegyzés: a tevékenység alaphelyzetbe állításához beszélj az NJK-val, vagy használd a Tevékenység alaphelyzetbe állítása gombot.**"
                                 ]
                  },
                  {
                      "cell_type":  "code",
                      "execution_count":  null,
                      "metadata":  {
                                       "minecraft":  {
                                                         "closeCodeBuilderOnRun":  true,
                                                         "default_code":  "# code here\n\n\n",
                                                         "resetWorldCommand":  "execute @e[tag=game] ~ ~ ~ function act/7/reset"
                                                     }
                                   },
                      "outputs":  [

                                  ],
                      "source":  [
                                     "# code here\n",
                                     "\n",
                                     "\n"
                                 ]
                  }
              ],
    "metadata":  {
                     "celltoolbar":  "Edit Metadata",
                     "kernelspec":  {
                                        "display_name":  "Python 3",
                                        "language":  "python",
                                        "name":  "python3"
                                    },
                     "language_info":  {
                                           "codemirror_mode":  {
                                                                   "name":  "ipython",
                                                                   "version":  3
                                                               },
                                           "file_extension":  ".py",
                                           "mimetype":  "text/x-python",
                                           "name":  "python",
                                           "nbconvert_exporter":  "python",
                                           "pygments_lexer":  "ipython3",
                                           "version":  "3.8.6"
                                       },
                     "minecraft":  {
                                       "description":  "Let\u0027s help the party!",
                                       "page_id":  "1.1",
                                       "page_name":  "Rails",
                                       "style":  "minecraft.css"
                                   }
                 },
    "nbformat":  4,
    "nbformat_minor":  2
}
