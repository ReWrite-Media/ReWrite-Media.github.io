﻿{
    "cells":  [
                  {
                      "cell_type":  "markdown",
                      "metadata":  {

                                   },
                      "source":  [
                                     "# Építs kikötőt\n",
                                     "Ahhoz, hogy az Illagerek megtaníthassák halászni a Falusiakat, szükség lesz egy kikötőre. Építsd fel a kikötő külső szegélyét: az „agent.give()” paranccsal add oda az Agentnek az elhelyezendő blokkot, az „agent.place()” segítségével helyezd le a blokkot, az „agent.turn()” függvénnyel fordítsd el az Agentet, az „agent.move()” segítségével pedig vidd a kívánt helyre.\n",
                                     "\n",
                                     "Az „agent.give()” függvénynél három paramétert adhatsz meg.  \n",
                                     "\n",
                                     "- item (tárgy) (*string*): Azt a tárgyat adja meg, amelyet át szeretnél adni az Agentnek.\n",
                                     "- count (szám) (*egész szám*): Azt adja meg, hogy az Agent hány tárgyat fog kapni.\n",
                                     "- slot (hely) (*egész szám*): Azt a leltárhelyet adja meg, ahol az Agent átveszi a tárgyat.\n",
                                     "\n",
                                     "Az „agent.place()” függvénynél két paramétert adhatsz meg.\n",
                                     "\n",
                                     "- slot number (hely száma) (*egész szám*): Azt adja meg, hogy az Agent a leltárad hányas számú helyét használja.\n",
                                     "- direction (irány) (*karakterlánc*): Azt adja meg, hogy az Agent melyik irányban helyezze le a tárgyat.\n",
                                     "    - Érvényes irányok: \n",
                                     "        - forward (előre)\n",
                                     "        - back (hátra)\n",
                                     "        - left (bal)\n",
                                     "        - right (jobb)\n",
                                     "        - up (fel)\n",
                                     "        - down (le)"
                                 ]
                  },
                  {
                      "cell_type":  "code",
                      "execution_count":  null,
                      "metadata":  {
                                       "minecraft":  {
                                                         "closeCodeBuilderOnRun":  true,
                                                         "readonly":  true
                                                     }
                                   },
                      "outputs":  [

                                  ],
                      "source":  [
                                     "# this will give the Agent two planks\n",
                                     "# move forward one space\n",
                                     "# and place a plank below\n",
                                     "agent.give(\"planks\", 2, 1)\n",
                                     "agent.move(\"forward\")\n",
                                     "agent.place(1,\"down\")"
                                 ]
                  },
                  {
                      "cell_type":  "markdown",
                      "metadata":  {

                                   },
                      "source":  [
                                     "Az „agent.turn()” függvénynél egy paramétert adhatsz meg, ez a direction (irány).\n",
                                     "\n",
                                     "Érvényes irányok: \n",
                                     "- forward (előre)\n",
                                     "- back (hátra)\n",
                                     "- left (bal)\n",
                                     "- right (jobb)\n",
                                     "- up (fel)\n",
                                     "- down (le)\n",
                                     "\n",
                                     "Az „agent.turn()” függvénynél egy paramétert adhatsz meg, ez a turn_direction (fordulás iránya).\n",
                                     "\n",
                                     "Érvényes irányok: \n",
                                     "- left (bal)\n",
                                     "- right (jobb)"
                                 ]
                  },
                  {
                      "cell_type":  "code",
                      "execution_count":  null,
                      "metadata":  {
                                       "minecraft":  {
                                                         "closeCodeBuilderOnRun":  true,
                                                         "readonly":  true
                                                     }
                                   },
                      "outputs":  [

                                  ],
                      "source":  [
                                     "# move the Agent forward one block.\n",
                                     "agent.move(\"forward\")\n",
                                     "# move the Agent backward one block.\n",
                                     "agent.move(\"back\")\n",
                                     "# move the Agent left one block.\n",
                                     "agent.move(\"left\")\n",
                                     "# move the Agent right one block.\n",
                                     "agent.move(\"right\")\n",
                                     "\n",
                                     "# this will turn the Agent right\n",
                                     "agent.turn(\"right\")\n",
                                     "# this will turn the Agent left\n",
                                     "agent.turn(\"left\")"
                                 ]
                  },
                  {
                      "cell_type":  "markdown",
                      "metadata":  {

                                   },
                      "source":  [
                                     "# Profi tipp:\n",
                                     "Használd a „for” ciklust, ha egy műveletcsoportot többször is szeretnél elvégezni."
                                 ]
                  },
                  {
                      "cell_type":  "code",
                      "execution_count":  null,
                      "metadata":  {
                                       "minecraft":  {
                                                         "closeCodeBuilderOnRun":  true,
                                                         "readonly":  true
                                                     }
                                   },
                      "outputs":  [

                                  ],
                      "source":  [
                                     "# this code will move the Agent forward\n",
                                     "# and place a plank under them five times\n",
                                     "for i in range(5):\n",
                                     "    agent.move(\"forward\")\n",
                                     "    agent.give(\"planks\", 2, 1)\n",
                                     "    agent.place(1, \"down\")"
                                 ]
                  },
                  {
                      "cell_type":  "markdown",
                      "metadata":  {

                                   },
                      "source":  [
                                     "# Tevékenység:\n",
                                     "Építsd fel a kikötő külső szegélyét, amely legyen 6 blokk hosszú és 4 blokk széles. Kezdd a zúzottkőnél!\n",
                                     "\n",
                                     "**Megjegyzés: a tevékenység alaphelyzetbe állításához beszélj az NJK-val, vagy használd a Tevékenység alaphelyzetbe állítása gombot.**"
                                 ]
                  },
                  {
                      "cell_type":  "code",
                      "execution_count":  null,
                      "metadata":  {
                                       "minecraft":  {
                                                         "closeCodeBuilderOnRun":  true,
                                                         "default_code":  "# code here\n\n\n",
                                                         "resetWorldCommand":  "execute @e[tag=game] ~ ~ ~ function act/2/reset"
                                                     }
                                   },
                      "outputs":  [

                                  ],
                      "source":  [
                                     "# code here\n",
                                     "\n",
                                     "\n"
                                 ]
                  }
              ],
    "metadata":  {
                     "celltoolbar":  "Edit Metadata",
                     "kernelspec":  {
                                        "display_name":  "Python 3",
                                        "language":  "python",
                                        "name":  "python3"
                                    },
                     "language_info":  {
                                           "codemirror_mode":  {
                                                                   "name":  "ipython",
                                                                   "version":  3
                                                               },
                                           "file_extension":  ".py",
                                           "mimetype":  "text/x-python",
                                           "name":  "python",
                                           "nbconvert_exporter":  "python",
                                           "pygments_lexer":  "ipython3",
                                           "version":  "3.8.6"
                                       },
                     "minecraft":  {
                                       "description":  "Let\u0027s learn fishing!",
                                       "page_id":  "1.1",
                                       "page_name":  "Fishing",
                                       "style":  "minecraft.css"
                                   }
                 },
    "nbformat":  4,
    "nbformat_minor":  2
}
