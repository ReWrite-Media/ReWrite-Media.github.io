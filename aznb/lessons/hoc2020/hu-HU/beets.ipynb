﻿{
    "cells":  [
                  {
                      "cell_type":  "markdown",
                      "metadata":  {

                                   },
                      "source":  [
                                     "# Védd meg a céklákat\n",
                                     "Valami folyton beoson a kertbe, és megdézsmálja a céklaföldet. Utasítsd az Agentet, hogy építsen kerítést a tanya köré, így talán biztonságban lesznek a céklák. Az „agent.give()” függvénnyel add oda az Agentnek az „iron_bars” tárgyat (a vasrudakat), az „agent.place()” függvénnyel helyezd le az iron_bars tárgyat, majd az „agent.turn()” segítségével fordítsd el az Agentet, és az „agent.move()” függvénnyel vidd az Agentet a kert megfelelő pontjára.\n",
                                     "\n",
                                     "Az „agent.give()” függvénynél három paramétert adhatsz meg.  \n",
                                     "\n",
                                     "- item (tárgy) (*karakterlánc*): Azt a leltárhelyet adja meg, ahol az Agent átveszi a tárgyat.\n",
                                     "- count (szám) (*egész szám*): Azt adja meg, hogy az Agent hány tárgyat fog kapni.\n",
                                     "- slot (hely) (*egész szám*): Azt a leltárhelyet adja meg, ahol az Agent átveszi a tárgyat.\n",
                                     "\n",
                                     "Az „agent.place()” függvénynél két paramétert adhatsz meg.\n",
                                     "\n",
                                     "- slot number (hely száma) (*egész szám*): Azt adja meg, hogy az Agent a leltárad hányas számú helyét használja.\n",
                                     "- direction (irány) (*karakterlánc*): Azt adja meg, hogy az Agent melyik irányban helyezze le a tárgyat.\n",
                                     "    - Érvényes irányok: \n",
                                     "        - forward (előre)\n",
                                     "        - back (hátra)\n",
                                     "        - left (bal)\n",
                                     "        - right (jobb)\n",
                                     "        - up (fel)\n",
                                     "        - down (le)\n",
                                     "\n"
                                 ]
                  },
                  {
                      "cell_type":  "code",
                      "execution_count":  null,
                      "metadata":  {
                                       "minecraft":  {
                                                         "closeCodeBuilderOnRun":  true,
                                                         "readonly":  true
                                                     }
                                   },
                      "outputs":  [

                                  ],
                      "source":  [
                                     "# egy blokkal előre mozgatja az Agentet\n",
                                     "# iron_bars adása az Agentnek, majd \n",
                                     "# az iron_bars lehelyezése.\n",
                                     "agent.move(\"forward\")\n",
                                     "agent.give(\"iron_bars\", 2, 1)\n",
                                     "agent.place(1, \"down\")"
                                 ]
                  },
                  {
                      "cell_type":  "markdown",
                      "metadata":  {

                                   },
                      "source":  [
                                     "Az „agent.turn()” függvénynél egy paramétert adhatsz meg, ez a direction (irány).\n",
                                     "\n",
                                     "Érvényes irányok: \n",
                                     "- forward (előre)\n",
                                     "- back (hátra)\n",
                                     "- left (bal)\n",
                                     "- right (jobb)\n",
                                     "- up (fel)\n",
                                     "- down (le)\n",
                                     "\n",
                                     "Az „agent.turn()” függvénynél egy paramétert adhatsz meg, ez a turn_direction (fordulás iránya).\n",
                                     "\n",
                                     "Érvényes irányok: \n",
                                     "- left (bal)\n",
                                     "- right (jobb)"
                                 ]
                  },
                  {
                      "cell_type":  "code",
                      "execution_count":  null,
                      "metadata":  {
                                       "minecraft":  {
                                                         "closeCodeBuilderOnRun":  true,
                                                         "readonly":  true
                                                     }
                                   },
                      "outputs":  [

                                  ],
                      "source":  [
                                     "# az Agent mozgatása egy blokkal előre.\n",
                                     "agent.move(\"forward\")\n",
                                     "# az Agent mozgatása egy blokkal hátra.\n",
                                     "agent.move(\"back\")\n",
                                     "# az Agent mozgatása egy blokkal balra.\n",
                                     "agent.move(\"left\")\n",
                                     "# az Agent mozgatása egy blokkal jobbra.\n",
                                     "agent.move(\"right\")\n",
                                     "\n",
                                     "# jobbra forgatja az Agentet\n",
                                     "agent.turn(\"right\")\n",
                                     "# balra forgatja az Agentet\n",
                                     "agent.turn(\"left\")"
                                 ]
                  },
                  {
                      "cell_type":  "markdown",
                      "metadata":  {

                                   },
                      "source":  [
                                     "# Profi tipp:\n",
                                     "Használd a „for” ciklust, ha egy műveletcsoportot többször is szeretnél elvégezni."
                                 ]
                  },
                  {
                      "cell_type":  "code",
                      "execution_count":  null,
                      "metadata":  {
                                       "minecraft":  {
                                                         "closeCodeBuilderOnRun":  true,
                                                         "readonly":  true
                                                     }
                                   },
                      "outputs":  [

                                  ],
                      "source":  [
                                     "# ez a kód előre mozgatja az Agentet\n",
                                     "# és öt alkalommal lehelyezi az iron_bars tárgyat\n",
                                     "for i in range(5):\n",
                                     "    agent.move(\"forward\")\n",
                                     "    agent.give(\"iron_bars\", 2, 1)\n",
                                     "    agent.place(1, \"down\")"
                                 ]
                  },
                  {
                      "cell_type":  "markdown",
                      "metadata":  {

                                   },
                      "source":  [
                                     "# Tevékenység:\n",
                                     "Helyezd le a vasrudakat a céklaföld köré, a kőblokkok közé. \n",
                                     "\n",
                                     "**Megjegyzés: a tevékenység alaphelyzetbe állításához beszélj az NJK-val, vagy használd a Tevékenység alaphelyzetbe állítása gombot.**"
                                 ]
                  },
                  {
                      "cell_type":  "code",
                      "execution_count":  null,
                      "metadata":  {
                                       "minecraft":  {
                                                         "closeCodeBuilderOnRun":  true,
                                                         "default_code":  "# code here\n\n\n",
                                                         "resetWorldCommand":  "execute @e[tag=game] ~ ~ ~ function act/4/reset"
                                                     }
                                   },
                      "outputs":  [

                                  ],
                      "source":  [
                                     "# ide írd a kódot\n",
                                     "\n",
                                     "\n"
                                 ]
                  }
              ],
    "metadata":  {
                     "celltoolbar":  "Edit Metadata",
                     "kernelspec":  {
                                        "display_name":  "Python 3",
                                        "language":  "python",
                                        "name":  "python3"
                                    },
                     "language_info":  {
                                           "codemirror_mode":  {
                                                                   "name":  "ipython",
                                                                   "version":  3
                                                               },
                                           "file_extension":  ".py",
                                           "mimetype":  "text/x-python",
                                           "name":  "python",
                                           "nbconvert_exporter":  "python",
                                           "pygments_lexer":  "ipython3",
                                           "version":  "3.8.6"
                                       },
                     "minecraft":  {
                                       "description":  "Protect those beets",
                                       "page_id":  "1.1",
                                       "page_name":  "Cékla",
                                       "style":  "minecraft.css"
                                   }
                 },
    "nbformat":  4,
    "nbformat_minor":  2
}
