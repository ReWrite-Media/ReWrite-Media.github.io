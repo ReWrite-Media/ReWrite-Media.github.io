{
 "metadata": {
  "kernelspec": {
   "display_name": "Python 3",
   "language": "python",
   "name": "python3"
  },
  "language_info": {
   "codemirror_mode": {
    "name": "ipython",
    "version": 3
   },
   "file_extension": ".py",
   "mimetype": "text/x-python",
   "name": "python",
   "nbconvert_exporter": "python",
   "pygments_lexer": "ipython3",
   "version": "3.8.6"
  },
  "minecraft": {
   "description": "Protect those beets",
   "page_id": "1.1",
   "page_name": "Beets",
   "style": "minecraft.css"
  }
 },
 "nbformat": 4,
 "nbformat_minor": 2,
 "cells": [
  {
   "source": [
    "# Beets\n",
    "Something keeps taking beets from the garden. Build a fence around the garden by using `agent.give()` to give the Agent a fence piece, `agent.place()` to place a fence piece and `agent.move()` to move the Agent around the garden.\n",
    "\n",
    "The `agent.give()` function takes three parameters.  \n",
    "\n",
    "- item (string): The item you want to give the Agent.\n",
    "- count (integer): The amount of items the Agent will receive.\n",
    "- slot (integer): What inventory slot the Agent receives the item in.\n",
    "\n"
   ],
   "cell_type": "markdown",
   "metadata": {}
  },
  {
   "cell_type": "code",
   "execution_count": null,
   "metadata": {"minecraft":{ "readonly": true }},
   "outputs": [],
   "source": [
    "# this will give the Agent a single oak fence  \n",
    "# in the first slot of their inventory\n",
    "agent.give(\"oak_fence\", 1, 1)"
   ]
  },
  {
   "source": [
    "The `agent.place()` function takes two parameters.  \n",
    "\n",
    "- slot number (*integer*): What inventory slot the Agent should place from.\n",
    "- direction (*string*): The direction you want the Agent to place int.\n",
    "    - Valid directions are: \n",
    "        - forward, forwards\n",
    "        - back, backward, backwards\n",
    "        - left\n",
    "        - right\n",
    "        - up\n",
    "        - down"
   ],
   "cell_type": "markdown",
   "metadata": {}
  },
  {
   "cell_type": "code",
   "execution_count": null,
   "metadata": {"minecraft":{ "readonly": true }},
   "outputs": [],
   "source": [
    "# this will place whatever is in \n",
    "# slot 1 behind the Agent.\n",
    "agent.place(1,\"back\")"
   ]
  },
  {
   "source": [
    "The `agent.move()` function takes one parameter, direction.\n",
    "\n",
    "Valid directions are: \n",
    "- forward, forwards\n",
    "- back, backward, backwards\n",
    "- left\n",
    "- right\n",
    "- up\n",
    "- down"
   ],
   "cell_type": "markdown",
   "metadata": {}
  },
  {
   "cell_type": "code",
   "execution_count": null,
   "metadata": {"minecraft":{ "readonly": true }},
   "outputs": [],
   "source": [
    "# move the Agent forward one block.\n",
    "agent.move(\"forward\")\n",
    "# move the Agent backward one block.\n",
    "agent.move(\"backward\")\n",
    "# move the Agent left one block.\n",
    "agent.move(\"left\")\n",
    "# move the Agent right one block.\n",
    "agent.move(\"right\")"
   ]
  },
  {
   "source": [
    "# Pro Tip:\n",
    "Use a `for` loop instead of sequencing to do a group of actions mulitple times."
   ],
   "cell_type": "markdown",
   "metadata": {}
  },
  {
   "cell_type": "code",
   "execution_count": null,
   "metadata": {"minecraft":{ "readonly": true }},
   "outputs": [],
   "source": [
    "# this code will move the Agent forward\n",
    "# and place a fence behind them five times\n",
    "for i in range(5):\n",
    "    agent.move(\"forward\")\n",
    "    agent.give(\"oak_fence\", 1, 1)\n",
    "    agent.place(1, \"back\")"
   ]
  },
  {
   "source": [
    "# Activity:\n",
    "Place fencing on the wood logs around the beet garden.  \n",
    "\n",
    "**Warning: Reset the activity by right-clicking the communicator or speaking with the NPC after running the example code.**"
   ],
   "cell_type": "markdown",
   "metadata": {}
  },
  {
   "cell_type": "code",
   "execution_count": null,
   "metadata": {"resetWorldCommand":"say not yet implemented"},
   "outputs": [],
   "source": [
    "# code here"
   ]
  }
 ]
}