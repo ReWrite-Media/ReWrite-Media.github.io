﻿{
    "cells":  [
                  {
                      "cell_type":  "markdown",
                      "metadata":  {

                                   },
                      "source":  [
                                     "# Chroń buraki\n",
                                     "Ktoś ciągle zakrada się do ogrodu i podkrada buraki. Spraw, aby Agent zbudował ogrodzenie wokół farmy, żeby chronić buraki. Użyj polecenia `agent.daj()`, aby dać Agentowi `żelazne_kraty`, `agent.umieść()`, aby umieścić żelazne_kraty, `skręć()`, aby obrócić Agenta oraz polecenia `agent.idź()`, aby chodzić Agentem po ogrodzie.\n",
                                     "\n",
                                     "Funkcja `agent.daj()` przyjmuje trzy parametry.\n",
                                     "\n",
                                     "- przedmiot (*tekst*): Gniazdo ekwipunku, do którego Agent wsadza przedmiot.\n",
                                     "- ilość (*liczba*): Liczba przedmiotów, które otrzyma Agent.\n",
                                     "- gniazdo (*liczba*): Gniazdo ekwipunku, do którego Agent wsadza przedmiot.\n",
                                     "\n",
                                     "Funkcja `agent.umieść()` przyjmuje dwa parametry.\n",
                                     "\n",
                                     "- numer gniazda (*liczba*): Gniazdo ekwipunku, którego Agent powinien użyć.\n",
                                     "- kierunek (*tekst*): Kierunek, w którym Agent ma umieścić przedmiot.\n",
                                     "    - Prawidłowe kierunki to:\n",
                                     "        - naprzód\n",
                                     "        - wstecz\n",
                                     "        - w lewo\n",
                                     "        - w prawo\n",
                                     "        - w górę\n",
                                     "        - w dół\n",
                                     "\n"
                                 ]
                  },
                  {
                      "cell_type":  "code",
                      "execution_count":  null,
                      "metadata":  {
                                       "minecraft":  {
                                                         "closeCodeBuilderOnRun":  true,
                                                         "readonly":  true
                                                     }
                                   },
                      "outputs":  [

                                  ],
                      "source":  [
                                     "# this will move the Agent forward one block\n",
                                     "# give the Agent iron_bars, and then place \n",
                                     "# the iron_bars below it.\n",
                                     "agent.move(\"forward\")\n",
                                     "agent.give(\"iron_bars\", 2, 1)\n",
                                     "agent.place(1, \"down\")"
                                 ]
                  },
                  {
                      "cell_type":  "markdown",
                      "metadata":  {

                                   },
                      "source":  [
                                     "Funkcja `agent.idź()` przyjmuje jeden parametr, kierunek.\n",
                                     "\n",
                                     "Prawidłowe kierunki to:\n",
                                     "- naprzód\n",
                                     "- wstecz\n",
                                     "- w lewo\n",
                                     "- w prawo\n",
                                     "- w górę\n",
                                     "- w dół\n",
                                     "\n",
                                     "Funkcja `agent.skręć()` przyjmuje jeden parametr, kierunek_obrotu.\n",
                                     "\n",
                                     "Prawidłowe kierunki to:\n",
                                     "- w lewo\n",
                                     "- w prawo"
                                 ]
                  },
                  {
                      "cell_type":  "code",
                      "execution_count":  null,
                      "metadata":  {
                                       "minecraft":  {
                                                         "closeCodeBuilderOnRun":  true,
                                                         "readonly":  true
                                                     }
                                   },
                      "outputs":  [

                                  ],
                      "source":  [
                                     "# move the Agent forward one block.\n",
                                     "agent.move(\"forward\")\n",
                                     "# move the Agent backward one block.\n",
                                     "agent.move(\"back\")\n",
                                     "# move the Agent left one block.\n",
                                     "agent.move(\"left\")\n",
                                     "# move the Agent right one block.\n",
                                     "agent.move(\"right\")\n",
                                     "\n",
                                     "# this will turn the Agent right\n",
                                     "agent.turn(\"right\")\n",
                                     "# this will turn the Agent left\n",
                                     "agent.turn(\"left\")"
                                 ]
                  },
                  {
                      "cell_type":  "markdown",
                      "metadata":  {

                                   },
                      "source":  [
                                     "# Pro tip:\n",
                                     "Użyj pętli „przez”, aby wykonać grupę działań wielokrotnie."
                                 ]
                  },
                  {
                      "cell_type":  "code",
                      "execution_count":  null,
                      "metadata":  {
                                       "minecraft":  {
                                                         "closeCodeBuilderOnRun":  true,
                                                         "readonly":  true
                                                     }
                                   },
                      "outputs":  [

                                  ],
                      "source":  [
                                     "# this code will move the Agent forward\n",
                                     "# and place iron_bars below it five times\n",
                                     "for i in range(5):\n",
                                     "    agent.move(\"forward\")\n",
                                     "    agent.give(\"iron_bars\", 2, 1)\n",
                                     "    agent.place(1, \"down\")"
                                 ]
                  },
                  {
                      "cell_type":  "markdown",
                      "metadata":  {

                                   },
                      "source":  [
                                     "# Działanie:\n",
                                     "Umieść żelazne kraty między kamiennymi blokami wokół pola buraków.\n",
                                     "\n",
                                     "**Uwaga: Możesz zresetować wykonywane działanie, rozmawiając z BN lub używając przycisku „Zresetuj działanie”.**"
                                 ]
                  },
                  {
                      "cell_type":  "code",
                      "execution_count":  null,
                      "metadata":  {
                                       "minecraft":  {
                                                         "closeCodeBuilderOnRun":  true,
                                                         "default_code":  "# code here\n\n\n",
                                                         "resetWorldCommand":  "execute @e[tag=game] ~ ~ ~ function act/4/reset"
                                                     }
                                   },
                      "outputs":  [

                                  ],
                      "source":  [
                                     "# code here\n",
                                     "\n",
                                     "\n"
                                 ]
                  }
              ],
    "metadata":  {
                     "celltoolbar":  "Edit Metadata",
                     "kernelspec":  {
                                        "display_name":  "Python 3",
                                        "language":  "python",
                                        "name":  "python3"
                                    },
                     "language_info":  {
                                           "codemirror_mode":  {
                                                                   "name":  "ipython",
                                                                   "version":  3
                                                               },
                                           "file_extension":  ".py",
                                           "mimetype":  "text/x-python",
                                           "name":  "python",
                                           "nbconvert_exporter":  "python",
                                           "pygments_lexer":  "ipython3",
                                           "version":  "3.8.6"
                                       },
                     "minecraft":  {
                                       "description":  "Protect those beets",
                                       "page_id":  "1.1",
                                       "page_name":  "Beets",
                                       "style":  "minecraft.css"
                                   }
                 },
    "nbformat":  4,
    "nbformat_minor":  2
}
