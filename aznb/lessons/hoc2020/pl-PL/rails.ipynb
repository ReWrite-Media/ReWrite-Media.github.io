﻿{
    "cells":  [
                  {
                      "cell_type":  "markdown",
                      "metadata":  {

                                   },
                      "source":  [
                                     "# Połącz miasta\n",
                                     "Złosadnicy mają poczucie, że osadnicy ich nie lubią, bo niewielu przychodzi na ich jarmark. Powodem, dla którego niewielu osadników wyjeżdża jest to, że trudno jest dostać się na wzgórze leżące między dwoma miastami. Użyj polecenia `agent.daj()`, aby dać Agentowi `szynę` do kolejki i polecenia `umieść()`, aby utworzyć linię kolejki między dwoma miastami.\n",
                                     "\n",
                                     "Funkcja `agent.daj()` przyjmuje trzy parametry.\n",
                                     "\n",
                                     "- przedmiot (*tekst*): Przedmiot, który chcesz dać Agentowi.\n",
                                     "- ilość (*liczba*): Liczba przedmiotów, które otrzyma Agent.\n",
                                     "- gniazdo (*liczba*): Gniazdo ekwipunku, do którego Agent wsadza przedmiot.\n",
                                     "\n",
                                     "Funkcja `agent.umieść()` przyjmuje dwa parametry.\n",
                                     "\n",
                                     "- numer gniazda (*liczba*): Gniazdo ekwipunku, którego Agent powinien użyć.\n",
                                     "- kierunek (*tekst*): Kierunek, w którym Agent ma umieścić przedmiot.\n",
                                     "    - Prawidłowe kierunki to:\n",
                                     "        - naprzód\n",
                                     "        - wstecz\n",
                                     "        - w lewo\n",
                                     "        - w prawo\n",
                                     "        - w górę\n",
                                     "        - w dół"
                                 ]
                  },
                  {
                      "cell_type":  "code",
                      "execution_count":  null,
                      "metadata":  {
                                       "minecraft":  {
                                                         "closeCodeBuilderOnRun":  true,
                                                         "readonly":  true
                                                     }
                                   },
                      "outputs":  [

                                  ],
                      "source":  [
                                     "# to da agentowi dwie szyny\n",
                                     "# następnie umieści jedną pod nim i przesunie go do przodu\n",
                                     "agent.give(\"rail\", 2, 1)\n",
                                     "agent.place(1, \"down\")\n",
                                     "agent.move(\"forward\")\n",
                                     "\n"
                                 ]
                  },
                  {
                      "cell_type":  "markdown",
                      "metadata":  {

                                   },
                      "source":  [
                                     "Funkcja `agent.idź()` przyjmuje jeden parametr, kierunek.\n",
                                     "\n",
                                     "Prawidłowe kierunki to:\n",
                                     "- naprzód\n",
                                     "- wstecz\n",
                                     "- w lewo\n",
                                     "- w prawo\n",
                                     "- w górę\n",
                                     "- w dół"
                                 ]
                  },
                  {
                      "cell_type":  "code",
                      "execution_count":  null,
                      "metadata":  {
                                       "minecraft":  {
                                                         "closeCodeBuilderOnRun":  true,
                                                         "readonly":  true
                                                     }
                                   },
                      "outputs":  [

                                  ],
                      "source":  [
                                     "# przesuń agenta o jeden blok do przodu.\n",
                                     "agent.move(\"forward\")\n",
                                     "# przesuń agenta o jeden blok do tyłu.\n",
                                     "agent.move(\"back\")\n",
                                     "# przesuń agenta o jeden blok w lewo.\n",
                                     "agent.move(\"left\")\n",
                                     "# przesuń agenta o jeden blok w prawo.\n",
                                     "agent.move(\"right\")\n"
                                 ]
                  },
                  {
                      "cell_type":  "markdown",
                      "metadata":  {

                                   },
                      "source":  [
                                     "# Pro tip:\n",
                                     "Użyj pętli „przez”, aby wykonać grupę działań wielokrotnie."
                                 ]
                  },
                  {
                      "cell_type":  "code",
                      "execution_count":  null,
                      "metadata":  {
                                       "minecraft":  {
                                                         "closeCodeBuilderOnRun":  true,
                                                         "readonly":  true
                                                     }
                                   },
                      "outputs":  [

                                  ],
                      "source":  [
                                     "# to sprawi, że agent umieści\n",
                                     "# szynę pod sobą, a następnie przesunie się do przodu.\n",
                                     "# i powtórzy to cztery razy.\n",
                                     "for i in range(4):\n",
                                     "    agent.give(\"rail\", 2, 1)\n",
                                     "    agent.place(1, \"down\")\n",
                                     "    agent.move(\"forward\")"
                                 ]
                  },
                  {
                      "cell_type":  "markdown",
                      "metadata":  {

                                   },
                      "source":  [
                                     "# Działanie:\n",
                                     "Utwórz kolej wewnątrz tunelu między dwoma słupami drewnianymi i kamiennymi.\n",
                                     "\n",
                                     "**Uwaga: Możesz zresetować wykonywane działanie, rozmawiając z BN lub używając przycisku „Zresetuj działanie”.**"
                                 ]
                  },
                  {
                      "cell_type":  "code",
                      "execution_count":  null,
                      "metadata":  {
                                       "minecraft":  {
                                                         "closeCodeBuilderOnRun":  true,
                                                         "default_code":  "# code here\n\n\n",
                                                         "resetWorldCommand":  "execute @e[tag=game] ~ ~ ~ function act/7/reset"
                                                     }
                                   },
                      "outputs":  [

                                  ],
                      "source":  [
                                     "# kod tutaj\n",
                                     "\n",
                                     "\n"
                                 ]
                  }
              ],
    "metadata":  {
                     "celltoolbar":  "Edit Metadata",
                     "kernelspec":  {
                                        "display_name":  "Python 3",
                                        "language":  "python",
                                        "name":  "python3"
                                    },
                     "language_info":  {
                                           "codemirror_mode":  {
                                                                   "name":  "ipython",
                                                                   "version":  3
                                                               },
                                           "file_extension":  ".py",
                                           "mimetype":  "text/x-python",
                                           "name":  "python",
                                           "nbconvert_exporter":  "python",
                                           "pygments_lexer":  "ipython3",
                                           "version":  "3.8.6"
                                       },
                     "minecraft":  {
                                       "description":  "Let\u0027s help the party!",
                                       "page_id":  "1.1",
                                       "page_name":  "Szyny",
                                       "style":  "minecraft.css"
                                   }
                 },
    "nbformat":  4,
    "nbformat_minor":  2
}
