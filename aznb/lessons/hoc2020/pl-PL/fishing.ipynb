﻿{
    "cells":  [
                  {
                      "cell_type":  "markdown",
                      "metadata":  {

                                   },
                      "source":  [
                                     "# Zbuduj pomost\n",
                                     "Zanim złosadnicy nauczą osadników łowić ryby, potrzebny jest pomost. Zbuduj zewnętrzne krawędzie doku, używając polecenia \u0027agent.daj()`, aby dać Agentowi blok do położenia, `agent.umieść ()`, aby umieścić blok, `skręć()`, aby obrócić Agenta oraz polecenia \u0027agent.przesuń ()`, aby przesunąć Agenta.\n",
                                     "\n",
                                     "Funkcja `agent.daj()` przyjmuje trzy parametry.\n",
                                     "\n",
                                     "- przedmiot (*tekst*): Przedmiot, który chcesz dać Agentowi.\n",
                                     "- ilość (*liczba*): Liczba przedmiotów, które otrzyma Agent.\n",
                                     "- gniazdo (*liczba*): Gniazdo ekwipunku, do którego Agent wsadza przedmiot.\n",
                                     "\n",
                                     "Funkcja `agent.umieść()` przyjmuje dwa parametry.\n",
                                     "\n",
                                     "- numer gniazda (*liczba*): Gniazdo ekwipunku, którego Agent powinien użyć.\n",
                                     "- kierunek (*tekst*): Kierunek, w którym Agent ma umieścić przedmiot.\n",
                                     "    - Prawidłowe kierunki to:\n",
                                     "        - naprzód\n",
                                     "        - wstecz\n",
                                     "        - w lewo\n",
                                     "        - w prawo\n",
                                     "        - w górę\n",
                                     "        - w dół"
                                 ]
                  },
                  {
                      "cell_type":  "code",
                      "execution_count":  null,
                      "metadata":  {
                                       "minecraft":  {
                                                         "closeCodeBuilderOnRun":  true,
                                                         "readonly":  true
                                                     }
                                   },
                      "outputs":  [

                                  ],
                      "source":  [
                                     "# this will give the Agent two planks\n",
                                     "# move forward one space\n",
                                     "# and place a plank below\n",
                                     "agent.give(\"planks\", 2, 1)\n",
                                     "agent.move(\"forward\")\n",
                                     "agent.place(1,\"down\")"
                                 ]
                  },
                  {
                      "cell_type":  "markdown",
                      "metadata":  {

                                   },
                      "source":  [
                                     "Funkcja `agent.idź()` przyjmuje jeden parametr, kierunek.\n",
                                     "\n",
                                     "Prawidłowe kierunki to:\n",
                                     "- naprzód\n",
                                     "- wstecz\n",
                                     "- w lewo\n",
                                     "- w prawo\n",
                                     "- w górę\n",
                                     "- w dół\n",
                                     "\n",
                                     "Funkcja `agent.skręć()` przyjmuje jeden parametr, kierunek_obrotu.\n",
                                     "\n",
                                     "Prawidłowe kierunki to:\n",
                                     "- w lewo\n",
                                     "- w prawo"
                                 ]
                  },
                  {
                      "cell_type":  "code",
                      "execution_count":  null,
                      "metadata":  {
                                       "minecraft":  {
                                                         "closeCodeBuilderOnRun":  true,
                                                         "readonly":  true
                                                     }
                                   },
                      "outputs":  [

                                  ],
                      "source":  [
                                     "# move the Agent forward one block.\n",
                                     "agent.move(\"forward\")\n",
                                     "# move the Agent backward one block.\n",
                                     "agent.move(\"back\")\n",
                                     "# move the Agent left one block.\n",
                                     "agent.move(\"left\")\n",
                                     "# move the Agent right one block.\n",
                                     "agent.move(\"right\")\n",
                                     "\n",
                                     "# this will turn the Agent right\n",
                                     "agent.turn(\"right\")\n",
                                     "# this will turn the Agent left\n",
                                     "agent.turn(\"left\")"
                                 ]
                  },
                  {
                      "cell_type":  "markdown",
                      "metadata":  {

                                   },
                      "source":  [
                                     "# Pro tip:\n",
                                     "Użyj pętli „przez”, aby wykonać grupę działań wielokrotnie."
                                 ]
                  },
                  {
                      "cell_type":  "code",
                      "execution_count":  null,
                      "metadata":  {
                                       "minecraft":  {
                                                         "closeCodeBuilderOnRun":  true,
                                                         "readonly":  true
                                                     }
                                   },
                      "outputs":  [

                                  ],
                      "source":  [
                                     "# this code will move the Agent forward\n",
                                     "# and place a plank under them five times\n",
                                     "for i in range(5):\n",
                                     "    agent.move(\"forward\")\n",
                                     "    agent.give(\"planks\", 2, 1)\n",
                                     "    agent.place(1, \"down\")"
                                 ]
                  },
                  {
                      "cell_type":  "markdown",
                      "metadata":  {

                                   },
                      "source":  [
                                     "# Działanie:\n",
                                     "Zbuduj zewnętrzne krawędzie doku rozciągające się od bruku na długość 6 bloków i szerokość 4 bloków.\n",
                                     "\n",
                                     "**Uwaga: Możesz zresetować wykonywane działanie, rozmawiając z BN lub używając przycisku „Zresetuj działanie”.**"
                                 ]
                  },
                  {
                      "cell_type":  "code",
                      "execution_count":  null,
                      "metadata":  {
                                       "minecraft":  {
                                                         "closeCodeBuilderOnRun":  true,
                                                         "default_code":  "# code here\n\n\n",
                                                         "resetWorldCommand":  "execute @e[tag=game] ~ ~ ~ function act/2/reset"
                                                     }
                                   },
                      "outputs":  [

                                  ],
                      "source":  [
                                     "# code here\n",
                                     "\n",
                                     "\n"
                                 ]
                  }
              ],
    "metadata":  {
                     "celltoolbar":  "Edit Metadata",
                     "kernelspec":  {
                                        "display_name":  "Python 3",
                                        "language":  "python",
                                        "name":  "python3"
                                    },
                     "language_info":  {
                                           "codemirror_mode":  {
                                                                   "name":  "ipython",
                                                                   "version":  3
                                                               },
                                           "file_extension":  ".py",
                                           "mimetype":  "text/x-python",
                                           "name":  "python",
                                           "nbconvert_exporter":  "python",
                                           "pygments_lexer":  "ipython3",
                                           "version":  "3.8.6"
                                       },
                     "minecraft":  {
                                       "description":  "Let\u0027s learn fishing!",
                                       "page_id":  "1.1",
                                       "page_name":  "Fishing",
                                       "style":  "minecraft.css"
                                   }
                 },
    "nbformat":  4,
    "nbformat_minor":  2
}
