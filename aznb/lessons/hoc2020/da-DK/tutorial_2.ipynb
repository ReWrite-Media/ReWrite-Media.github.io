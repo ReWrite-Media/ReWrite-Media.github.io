﻿{
    "cells":  [
                  {
                      "cell_type":  "markdown",
                      "metadata":  {

                                   },
                      "source":  [
                                     "# Plant stiklingen\n",
                                     "Din Agent har givet din en `sapling` i velkomstgave! Brug funktionen `player.give()` til at placere stiklingen i din hotbjælke.\n",
                                     "\n",
                                     "Funktionen `player.give()` tager to parametre. \n",
                                     "- item (*streng*): Den genstand, du vil have.\n",
                                     "- count (*heltal*): Det antal genstande, du modtager."
                                 ]
                  },
                  {
                      "cell_type":  "code",
                      "execution_count":  null,
                      "metadata":  {
                                       "minecraft":  {
                                                         "closeCodeBuilderOnRun":  true,
                                                         "readonly":  true
                                                     }
                                   },
                      "outputs":  [

                                  ],
                      "source":  [
                                     "# give yourself 5 stone blocks\n",
                                     "player.give(\"stone\", 5)\n",
                                     "# give yourself 3 dirt blocks\n",
                                     "player.give(\"dirt\", 3)"
                                 ]
                  },
                  {
                      "cell_type":  "markdown",
                      "metadata":  {

                                   },
                      "source":  [
                                     "# Aktivitet:\n",
                                     "Acceptér gaven fra din Agent ved at give dig selv en `sapling`. Når du er færdig, skal du plante stiklingen manuelt ved at vælge den på din hotbjælke, holde markøren over græsblokken og højreklikke.\n",
                                     "\n",
                                     "**Bemærk: Du kan nulstille aktiviteten ved at tale med NPC\u0027en eller ved at trykke på Nulstil verden.**"
                                 ]
                  },
                  {
                      "cell_type":  "code",
                      "execution_count":  null,
                      "metadata":  {
                                       "minecraft":  {
                                                         "closeCodeBuilderOnRun":  true,
                                                         "default_code":  "# code here\nplayer.give()\n\n",
                                                         "resetWorldCommand":  "execute @e[tag=game] ~ ~ ~ function act/1/reset"
                                                     }
                                   },
                      "outputs":  [

                                  ],
                      "source":  [
                                     "# code here\n",
                                     "player.give()\n",
                                     "\n"
                                 ]
                  }
              ],
    "metadata":  {
                     "celltoolbar":  "Edit Metadata",
                     "kernelspec":  {
                                        "display_name":  "Python 3",
                                        "language":  "python",
                                        "name":  "python3"
                                    },
                     "language_info":  {
                                           "codemirror_mode":  {
                                                                   "name":  "ipython",
                                                                   "version":  3
                                                               },
                                           "file_extension":  ".py",
                                           "mimetype":  "text/x-python",
                                           "name":  "python",
                                           "nbconvert_exporter":  "python",
                                           "pygments_lexer":  "ipython3",
                                           "version":  "3.8.6"
                                       },
                     "minecraft":  {
                                       "description":  "Plant a tree!",
                                       "page_id":  "1.1",
                                       "page_name":  "Give",
                                       "style":  "minecraft.css"
                                   }
                 },
    "nbformat":  4,
    "nbformat_minor":  2
}
