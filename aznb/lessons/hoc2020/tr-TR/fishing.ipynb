﻿{
    "cells":  [
                  {
                      "cell_type":  "markdown",
                      "metadata":  {

                                   },
                      "source":  [
                                     "# İskele inşa etme\n",
                                     "Serseri Köylülerin Köylülere nasıl balık tutulacağını öğretebilmesi için bir iskele gerekiyor. İskelenin dış kenarlarını oluşturmak için `agent.give()` komutunu kullanarak Agent\u0027a yerleştirilecek bir blok ver, `agent.place()` komutunu kullanarak bloku yerleştir, `agent.turn()` komutunu kullanarak Agent\u0027ı döndür ve `agent.move()` komutunu kullanarak Agent\u0027ı hareket ettir.\n",
                                     "\n",
                                     "`agent.give()` fonksiyonu üç parametre alır.  \n",
                                     "\n",
                                     "- eşya (*dize*): Agent\u0027a vermek istediğin eşya.\n",
                                     "- sayı (*tamsayı*): Agent\u0027ın alacağı eşya sayısı.\n",
                                     "- yuva (*tamsayı*): Agent\u0027ın eşyayı alacağı envanter yuvası.\n",
                                     "\n",
                                     "`agent.place()` fonksiyonu iki parametre alır.  \n",
                                     "\n",
                                     "- yuva numarası (*tamsayı*): Agent\u0027ın kullanması gereken envanter yuvası.\n",
                                     "- yön (*dize*): Agent\u0027ın eşyayı yerleştirmesini istediğin yön.\n",
                                     "    - Geçerli yönler şunlardır: \n",
                                     "        - ileri\n",
                                     "        - geri\n",
                                     "        - sol\n",
                                     "        - sağ\n",
                                     "        - yukarı\n",
                                     "        - aşağı"
                                 ]
                  },
                  {
                      "cell_type":  "code",
                      "execution_count":  null,
                      "metadata":  {
                                       "minecraft":  {
                                                         "closeCodeBuilderOnRun":  true,
                                                         "readonly":  true
                                                     }
                                   },
                      "outputs":  [

                                  ],
                      "source":  [
                                     "# bu, Agent\u0027a iki kalas verecek\n",
                                     "# bir boşluk ileri taşı\n",
                                     "# ve altına bir kalas yerleştir\n",
                                     "agent.give(\"planks\", 2, 1)\n",
                                     "agent.move(\"forward\")\n",
                                     "agent.place(1,\"down\")"
                                 ]
                  },
                  {
                      "cell_type":  "markdown",
                      "metadata":  {

                                   },
                      "source":  [
                                     "`agent.move()` fonksiyonu bir parametre, yön alır.\n",
                                     "\n",
                                     "Geçerli yönler şunlardır: \n",
                                     "- ileri\n",
                                     "- geri\n",
                                     "- sol\n",
                                     "- sağ\n",
                                     "- yukarı\n",
                                     "- aşağı\n",
                                     "\n",
                                     "`agent.turn()` fonksiyonu bir parametre, turn_direction alır.\n",
                                     "\n",
                                     "Geçerli yönler şunlardır: \n",
                                     "- sol\n",
                                     "- sağ"
                                 ]
                  },
                  {
                      "cell_type":  "code",
                      "execution_count":  null,
                      "metadata":  {
                                       "minecraft":  {
                                                         "closeCodeBuilderOnRun":  true,
                                                         "readonly":  true
                                                     }
                                   },
                      "outputs":  [

                                  ],
                      "source":  [
                                     "# Agent\u0027ı bir blok ileri taşı.\n",
                                     "agent.move(\"forward\")\n",
                                     "# Agent\u0027ı bir blok geri taşı.\n",
                                     "agent.move(\"back\")\n",
                                     "# Agent\u0027ı bir blok sola taşı.\n",
                                     "agent.move(\"left\")\n",
                                     "# Agent\u0027ı bir blok sağa taşı.\n",
                                     "agent.move(\"right\")\n",
                                     "\n",
                                     "# bu, Agent\u0027ı sağa döndürecek\n",
                                     "agent.turn(\"right\")\n",
                                     "# bu, Agent\u0027ı sola döndürecek\n",
                                     "agent.turn(\"left\")"
                                 ]
                  },
                  {
                      "cell_type":  "markdown",
                      "metadata":  {

                                   },
                      "source":  [
                                     "# Profesyonel İpucu:\n",
                                     "Bir eylem grubunu birden çok kez uygulamak için `for` döngüsü kullan."
                                 ]
                  },
                  {
                      "cell_type":  "code",
                      "execution_count":  null,
                      "metadata":  {
                                       "minecraft":  {
                                                         "closeCodeBuilderOnRun":  true,
                                                         "readonly":  true
                                                     }
                                   },
                      "outputs":  [

                                  ],
                      "source":  [
                                     "# bu kod Agent\u0027ı ileri taşıyacak\n",
                                     "# ve beş kez altına bir kalas yerleştirecek\n",
                                     "for i in range(5):\n",
                                     "    agent.move(\"forward\")\n",
                                     "    agent.give(\"planks\", 2, 1)\n",
                                     "    agent.place(1, \"down\")"
                                 ]
                  },
                  {
                      "cell_type":  "markdown",
                      "metadata":  {

                                   },
                      "source":  [
                                     "# Etkinlik:\n",
                                     "6 blok uzunluğunda ve 4 blok genişliğinde olacak iskele dış kenarlarının uzantısını kırık taş ile inşa et.\n",
                                     "\n",
                                     "**Not: ODK ile konuşarak veya Etkinliği Sıfırla düğmesini kullanarak etkinliği sıfırlayabilirsin.**"
                                 ]
                  },
                  {
                      "cell_type":  "code",
                      "execution_count":  null,
                      "metadata":  {
                                       "minecraft":  {
                                                         "closeCodeBuilderOnRun":  true,
                                                         "default_code":  "# code here\n\n\n",
                                                         "resetWorldCommand":  "execute @e[tag=game] ~ ~ ~ function act/2/reset"
                                                     }
                                   },
                      "outputs":  [

                                  ],
                      "source":  [
                                     "# kod buraya\n",
                                     "\n",
                                     "\n"
                                 ]
                  }
              ],
    "metadata":  {
                     "celltoolbar":  "Edit Metadata",
                     "kernelspec":  {
                                        "display_name":  "Python 3",
                                        "language":  "python",
                                        "name":  "python3"
                                    },
                     "language_info":  {
                                           "codemirror_mode":  {
                                                                   "name":  "ipython",
                                                                   "version":  3
                                                               },
                                           "file_extension":  ".py",
                                           "mimetype":  "text/x-python",
                                           "name":  "python",
                                           "nbconvert_exporter":  "python",
                                           "pygments_lexer":  "ipython3",
                                           "version":  "3.8.6"
                                       },
                     "minecraft":  {
                                       "description":  "Let\u0027s learn fishing!",
                                       "page_id":  "1.1",
                                       "page_name":  "Balıkçılık",
                                       "style":  "minecraft.css"
                                   }
                 },
    "nbformat":  4,
    "nbformat_minor":  2
}
