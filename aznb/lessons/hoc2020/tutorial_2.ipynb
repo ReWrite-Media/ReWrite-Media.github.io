{
 "metadata": {
  "kernelspec": {
   "name": "Python 3.8.6 64-bit",
   "display_name": "Python 3.8.6 64-bit",
   "metadata": {
    "interpreter": {
     "hash": "74bfa75d5a778b67636d3a05d6c7bc9b92029ab5683d48fc591e4bee886db241"
    }
   }
  },
  "language_info": {
   "codemirror_mode": {
    "name": "ipython",
    "version": 3
   },
   "file_extension": ".py",
   "mimetype": "text/x-python",
   "name": "python",
   "nbconvert_exporter": "python",
   "pygments_lexer": "ipython3",
   "version": "3.8.6-final"
  },
  "minecraft": {
   "description": "Plant a tree!",
   "page_id": "1.1",
   "page_name": "Give",
   "style": "minecraft.css"
  }
 },
 "nbformat": 4,
 "nbformat_minor": 2,
 "cells": [
  {
   "source": [
    "# Plant the Sappling\n",
    "The townsfolk want you to plant a sapling to commemorate your arrival! For that, we'll use the `player.give()` function.\n",
    "\n",
    "The `player.give()` function takes two parameters. \n",
    "- item (*string*): which is the item you want\n",
    "- count (*integer*): the amount of items you'll receive"
   ],
   "cell_type": "markdown",
   "metadata": {}
  },
  {
   "cell_type": "code",
   "execution_count": null,
   "metadata": {"minecraft":{ "readonly": true }},
   "outputs": [],
   "source": [
    "# give yourself 5 stone\n",
    "player.give(\"stone\", 5)\n",
    "# give yourself 5 stone\n",
    "player.give(\"dirt\", 3)"
   ]
  },
  {
   "source": [
    "# Activity:\n",
    "Give yourself a `sapling` a sapling and then manually plant it on the grass block by selecting it on your hotbar, aiming your cursor at the grass block and right-clicking.\n",
    "\n",
    "**Warning: Reset the activity by speaking with the NPC if you accidentally place an example block.**"
   ],
   "cell_type": "markdown",
   "metadata": {"resetWorldCommand":"say not yet implemented"}
  },
  {
   "cell_type": "code",
   "execution_count": null,
   "metadata": {},
   "outputs": [],
   "source": [
    "# code here\n",
    "player.give()"
   ]
  }
 ]
}