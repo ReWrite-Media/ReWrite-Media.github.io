{
 "cells": [
  {
   "cell_type": "markdown",
   "metadata": {},
   "source": [
    "# Plant the sapling\n",
    "The Agent has given you a sapling to commemorate your arrival! To put the sapling in your hotbar, we'll use the `player.give()` function.\n",
    "\n",
    "The `player.give()` function takes two parameters. \n",
    "- item (*string*): which is the item you want\n",
    "- count (*integer*): the amount of items you'll receive"
   ]
  },
  {
   "cell_type": "code",
   "execution_count": null,
   "metadata": {
    "minecraft": {
     "closeCodeBuilderOnRun": true,
     "readonly": true
    }
   },
   "outputs": [],
   "source": [
    "# give yourself 5 stone blocks\n",
    "player.give(\"stone\", 5)\n",
    "# give yourself 3 dirt blocks\n",
    "player.give(\"dirt\", 3)"
   ]
  },
  {
   "cell_type": "markdown",
   "metadata": {},
   "source": [
    "# Activity:\n",
    "Accept the gift from your Agent by giving yourself a `sapling`. When you're done, manually plant it on the grass block by selecting it on your hotbar, aiming your cursor at the grass block, and right-clicking.\n",
    "\n",
    "**Note: You can reset the activity by speaking with the NPC or by using the Reset World button.**"
   ]
  },
  {
   "cell_type": "code",
   "execution_count": null,
   "metadata": {
    "minecraft": {
     "closeCodeBuilderOnRun": true,
     "default_code": "# code here\nplayer.give()\n\n",
     "resetWorldCommand": "execute @e[tag=game] ~ ~ ~ function act/1/reset"
    }
   },
   "outputs": [],
   "source": [
    "# code here\n",
    "player.give()\n",
    "\n"
   ]
  }
 ],
 "metadata": {
  "celltoolbar": "Edit Metadata",
  "kernelspec": {
   "display_name": "Python 3",
   "language": "python",
   "name": "python3"
  },
  "language_info": {
   "codemirror_mode": {
    "name": "ipython",
    "version": 3
   },
   "file_extension": ".py",
   "mimetype": "text/x-python",
   "name": "python",
   "nbconvert_exporter": "python",
   "pygments_lexer": "ipython3",
   "version": "3.8.6"
  },
  "minecraft": {
   "description": "Plant a tree!",
   "page_id": "1.1",
   "page_name": "Give",
   "style": "minecraft.css"
  }
 },
 "nbformat": 4,
 "nbformat_minor": 2
}
