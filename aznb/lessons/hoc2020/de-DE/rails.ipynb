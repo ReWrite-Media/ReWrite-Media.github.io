﻿{
    "cells":  [
                  {
                      "cell_type":  "markdown",
                      "metadata":  {

                                   },
                      "source":  [
                                     "# Verbinde die Dörfer\n",
                                     "Die Illager haben das Gefühl, dass die Dorfbewohner sie nicht mögen, weil nur sehr wenige von ihnen ihren Markt besuchen. Es kommen nur wenige Dorfbewohner, weil es zu schwierig ist, den Hügel zwischen den Dörfern zu erklimmen. Verwende \"agent.give()\", um dem Agenten eine \"rail\" (Bahn) für Loren zu geben, und \"agent.place()\", um eine Schienenbahn zwischen den zwei Dörfern zu bauen.\n",
                                     "\n",
                                     "Die Funktion \"agent.give()\" hat drei Parameter.\n",
                                     "\n",
                                     "– item (*String*): der Gegenstand, den du dem Agenten geben willst\n",
                                     "– count (*Integer*): wie viele Gegenstände der Agent erhält\n",
                                     "– slot (*Integer*): der Inventarplatz, auf dem der Agent den Gegenstand erhält\n",
                                     "\n",
                                     "Die Funktion \"agent.place()\" erfordert zwei Parameter:\n",
                                     "\n",
                                     "– slot number (*Integer*): welchen Inventarplatz der Agent nutzen soll\n",
                                     "– direction (*String*): die Richtung, in die der Agent den Gegenstand platzieren soll\n",
                                     "    – Gültige Richtungen sind:\n",
                                     "        – forward: vorwärts\n",
                                     "        – back: zurück\n",
                                     "        – left: nach links\n",
                                     "        – right: nach rechts\n",
                                     "        – up: nach oben\n",
                                     "        – down: nach unten"
                                 ]
                  },
                  {
                      "cell_type":  "code",
                      "execution_count":  null,
                      "metadata":  {
                                       "minecraft":  {
                                                         "closeCodeBuilderOnRun":  true,
                                                         "readonly":  true
                                                     }
                                   },
                      "outputs":  [

                                  ],
                      "source":  [
                                     "# Dies gibt dem Agenten zwei Schienen,\n",
                                     "# platziert eine unter ihm und bewegt ihn dann vorwärts.\n",
                                     "agent.give(\"rail\", 2, 1)\n",
                                     "agent.place(1, \"down\")\n",
                                     "agent.move(\"forward\")\n",
                                     "\n"
                                 ]
                  },
                  {
                      "cell_type":  "markdown",
                      "metadata":  {

                                   },
                      "source":  [
                                     "Die Funktion \"agent.move()\" erfordert einen Parameter, die Richtung.\n",
                                     "\n",
                                     "Gültige Richtungen sind:\n",
                                     "– forward: vorwärts\n",
                                     "– back: zurück\n",
                                     "– left: nach links\n",
                                     "– right: nach rechts\n",
                                     "– up: nach oben\n",
                                     "– down: nach unten"
                                 ]
                  },
                  {
                      "cell_type":  "code",
                      "execution_count":  null,
                      "metadata":  {
                                       "minecraft":  {
                                                         "closeCodeBuilderOnRun":  true,
                                                         "readonly":  true
                                                     }
                                   },
                      "outputs":  [

                                  ],
                      "source":  [
                                     "# Bewege den Agenten einen Block vorwärts.\n",
                                     "agent.move(\"forward\")\n",
                                     "# Bewege den Agenten einen Block rückwärts.\n",
                                     "agent.move(\"back\")\n",
                                     "# Bewege den Agenten einen Block nach links.\n",
                                     "agent.move(\"left\")\n",
                                     "# Bewege den Agenten einen Block nach rechts.\n",
                                     "agent.move(\"right\")\n"
                                 ]
                  },
                  {
                      "cell_type":  "markdown",
                      "metadata":  {

                                   },
                      "source":  [
                                     "# Tipp:\n",
                                     "Verwende eine \"for\"-Schleife, um eine Gruppe von Aktionen mehrmals auszuführen."
                                 ]
                  },
                  {
                      "cell_type":  "code",
                      "execution_count":  null,
                      "metadata":  {
                                       "minecraft":  {
                                                         "closeCodeBuilderOnRun":  true,
                                                         "readonly":  true
                                                     }
                                   },
                      "outputs":  [

                                  ],
                      "source":  [
                                     "# Dadurch platziert der Agent\n",
                                     "# eine Schiene unter sich und bewegt sich dann vorwärts.\n",
                                     "# Dies wird viermal wiederholt.\n",
                                     "for i in range(4):\n",
                                     "    agent.give(\"rail\", 2, 1)\n",
                                     "    agent.place(1, \"down\")\n",
                                     "    agent.move(\"forward\")"
                                 ]
                  },
                  {
                      "cell_type":  "markdown",
                      "metadata":  {

                                   },
                      "source":  [
                                     "# Aktivität:\n",
                                     "Baue eine Bahn im Tunnel zwischen den zwei Holz- und Steinpfeilern.\n",
                                     "\n",
                                     "**Hinweis: Du kannst die Aktivität zurücksetzen, indem du mit dem NPC sprichst oder die Schaltfläche \"Aktivität zurücksetzen\" verwendest.**"
                                 ]
                  },
                  {
                      "cell_type":  "code",
                      "execution_count":  null,
                      "metadata":  {
                                       "minecraft":  {
                                                         "closeCodeBuilderOnRun":  true,
                                                         "default_code":  "# code here\n\n\n",
                                                         "resetWorldCommand":  "execute @e[tag=game] ~ ~ ~ function act/7/reset"
                                                     }
                                   },
                      "outputs":  [

                                  ],
                      "source":  [
                                     "# Code hier\n",
                                     "\n",
                                     "\n"
                                 ]
                  }
              ],
    "metadata":  {
                     "celltoolbar":  "Edit Metadata",
                     "kernelspec":  {
                                        "display_name":  "Python 3",
                                        "language":  "python",
                                        "name":  "python3"
                                    },
                     "language_info":  {
                                           "codemirror_mode":  {
                                                                   "name":  "ipython",
                                                                   "version":  3
                                                               },
                                           "file_extension":  ".py",
                                           "mimetype":  "text/x-python",
                                           "name":  "python",
                                           "nbconvert_exporter":  "python",
                                           "pygments_lexer":  "ipython3",
                                           "version":  "3.8.6"
                                       },
                     "minecraft":  {
                                       "description":  "Let\u0027s help the party!",
                                       "page_id":  "1.1",
                                       "page_name":  "Schienen",
                                       "style":  "minecraft.css"
                                   }
                 },
    "nbformat":  4,
    "nbformat_minor":  2
}
