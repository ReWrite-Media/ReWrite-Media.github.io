﻿{
    "cells":  [
                  {
                      "cell_type":  "markdown",
                      "metadata":  {

                                   },
                      "source":  [
                                     "# Baue eine Anlegestelle\n",
                                     "Bevor die Illager den Dorfbewohnern das Fischen beibringen können, brauchen die Dorfbewohner eine Anlegestelle. Baue den äußeren Rand der Anlegestelle mithilfe von \"agent.give()\", um dem Agenten einen Block zum Platzieren zu geben, \"agent.place()\", um den Block zu platzieren, \"agent.turn()\", um den Agenten zu drehen, und \"agent.move()\", um den Agenten zu bewegen.\n",
                                     "\n",
                                     "Die Funktion \"agent.give()\" hat drei Parameter.\n",
                                     "\n",
                                     "– item (*String*): der Gegenstand, den du dem Agenten geben willst\n",
                                     "– count (*Integer*): wie viele Gegenstände der Agent erhält\n",
                                     "– slot (*Integer*): der Inventarplatz, auf dem der Agent den Gegenstand erhält\n",
                                     "\n",
                                     "Die Funktion \"agent.place()\" erfordert zwei Parameter:\n",
                                     "\n",
                                     "– slot number (*Integer*): welchen Inventarplatz der Agent nutzen soll\n",
                                     "– direction (*String*): die Richtung, in die der Agent den Gegenstand platzieren soll\n",
                                     "    – Gültige Richtungen sind:\n",
                                     "        – forward: vorwärts\n",
                                     "        – back: zurück\n",
                                     "        – left: nach links\n",
                                     "        – right: nach rechts\n",
                                     "        – up: nach oben\n",
                                     "        – down: nach unten"
                                 ]
                  },
                  {
                      "cell_type":  "code",
                      "execution_count":  null,
                      "metadata":  {
                                       "minecraft":  {
                                                         "closeCodeBuilderOnRun":  true,
                                                         "readonly":  true
                                                     }
                                   },
                      "outputs":  [

                                  ],
                      "source":  [
                                     "# this will give the Agent two planks\n",
                                     "# move forward one space\n",
                                     "# and place a plank below\n",
                                     "agent.give(\"planks\", 2, 1)\n",
                                     "agent.move(\"forward\")\n",
                                     "agent.place(1,\"down\")"
                                 ]
                  },
                  {
                      "cell_type":  "markdown",
                      "metadata":  {

                                   },
                      "source":  [
                                     "Die Funktion \"agent.move()\" erfordert einen Parameter, die Richtung.\n",
                                     "\n",
                                     "Gültige Richtungen sind:\n",
                                     "– forward: vorwärts\n",
                                     "– back: zurück\n",
                                     "– left: nach links\n",
                                     "– right: nach rechts\n",
                                     "– up: nach oben\n",
                                     "– down: nach unten\n",
                                     "\n",
                                     "Die Funktion \"agent.turn()\" erfordert einen Parameter, turn_direction (Drehrichtung).\n",
                                     "\n",
                                     "Gültige Richtungen sind:\n",
                                     "– left: nach links\n",
                                     "– right: nach rechts"
                                 ]
                  },
                  {
                      "cell_type":  "code",
                      "execution_count":  null,
                      "metadata":  {
                                       "minecraft":  {
                                                         "closeCodeBuilderOnRun":  true,
                                                         "readonly":  true
                                                     }
                                   },
                      "outputs":  [

                                  ],
                      "source":  [
                                     "# move the Agent forward one block.\n",
                                     "agent.move(\"forward\")\n",
                                     "# move the Agent backward one block.\n",
                                     "agent.move(\"back\")\n",
                                     "# move the Agent left one block.\n",
                                     "agent.move(\"left\")\n",
                                     "# move the Agent right one block.\n",
                                     "agent.move(\"right\")\n",
                                     "\n",
                                     "# this will turn the Agent right\n",
                                     "agent.turn(\"right\")\n",
                                     "# this will turn the Agent left\n",
                                     "agent.turn(\"left\")"
                                 ]
                  },
                  {
                      "cell_type":  "markdown",
                      "metadata":  {

                                   },
                      "source":  [
                                     "# Tipp:\n",
                                     "Verwende eine \"for\"-Schleife, um eine Gruppe von Aktionen mehrmals auszuführen."
                                 ]
                  },
                  {
                      "cell_type":  "code",
                      "execution_count":  null,
                      "metadata":  {
                                       "minecraft":  {
                                                         "closeCodeBuilderOnRun":  true,
                                                         "readonly":  true
                                                     }
                                   },
                      "outputs":  [

                                  ],
                      "source":  [
                                     "# this code will move the Agent forward\n",
                                     "# and place a plank under them five times\n",
                                     "for i in range(5):\n",
                                     "    agent.move(\"forward\")\n",
                                     "    agent.give(\"planks\", 2, 1)\n",
                                     "    agent.place(1, \"down\")"
                                 ]
                  },
                  {
                      "cell_type":  "markdown",
                      "metadata":  {

                                   },
                      "source":  [
                                     "# Aktivität:\n",
                                     "Baue den äußeren Rand der Anlegestelle angefangen am Bruchstein; 6 Blöcke lang und 4 Blöcke breit.\n",
                                     "\n",
                                     "**Hinweis: Du kannst die Aktivität zurücksetzen, indem du mit dem NPC sprichst oder die Schaltfläche \"Aktivität zurücksetzen\" verwendest.**"
                                 ]
                  },
                  {
                      "cell_type":  "code",
                      "execution_count":  null,
                      "metadata":  {
                                       "minecraft":  {
                                                         "closeCodeBuilderOnRun":  true,
                                                         "default_code":  "# code here\n\n\n",
                                                         "resetWorldCommand":  "execute @e[tag=game] ~ ~ ~ function act/2/reset"
                                                     }
                                   },
                      "outputs":  [

                                  ],
                      "source":  [
                                     "# code here\n",
                                     "\n",
                                     "\n"
                                 ]
                  }
              ],
    "metadata":  {
                     "celltoolbar":  "Edit Metadata",
                     "kernelspec":  {
                                        "display_name":  "Python 3",
                                        "language":  "python",
                                        "name":  "python3"
                                    },
                     "language_info":  {
                                           "codemirror_mode":  {
                                                                   "name":  "ipython",
                                                                   "version":  3
                                                               },
                                           "file_extension":  ".py",
                                           "mimetype":  "text/x-python",
                                           "name":  "python",
                                           "nbconvert_exporter":  "python",
                                           "pygments_lexer":  "ipython3",
                                           "version":  "3.8.6"
                                       },
                     "minecraft":  {
                                       "description":  "Let\u0027s learn fishing!",
                                       "page_id":  "1.1",
                                       "page_name":  "Fishing",
                                       "style":  "minecraft.css"
                                   }
                 },
    "nbformat":  4,
    "nbformat_minor":  2
}
