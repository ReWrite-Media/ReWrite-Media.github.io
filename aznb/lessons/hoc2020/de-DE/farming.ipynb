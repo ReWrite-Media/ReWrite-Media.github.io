﻿{
    "cells":  [
                  {
                      "cell_type":  "markdown",
                      "metadata":  {

                                   },
                      "source":  [
                                     "# Baue eine Farm\n",
                                     "Die Dorfbewohner wollen den Illagern beibringen, wie man Land bewirtschaftet, aber die Illager brauchen zunächst Hilfe bei der Vorbereitung des Lands. Verwende \"agent.till()\", um den Agenten die ersten zwei Reihen Erde umgraben zu lassen.\n",
                                     "\n",
                                     "Die Funktion \"agent.till()\" erfordert einen Parameter, die Richtung.\n",
                                     "\n",
                                     "Gültige Richtungen sind:\n",
                                     "– forward: vorwärts\n",
                                     "– back: zurück\n",
                                     "– left: nach links\n",
                                     "– right: nach rechts\n",
                                     "\n",
                                     "Die Funktion \"agent.move()\" erfordert einen Parameter, die Richtung.\n",
                                     "\n",
                                     "Gültige Richtungen sind:\n",
                                     "– forward: vorwärts\n",
                                     "– back: zurück\n",
                                     "– left: nach links\n",
                                     "– right: nach rechts\n",
                                     "– up: nach oben\n",
                                     "– down: nach unten"
                                 ]
                  },
                  {
                      "cell_type":  "code",
                      "execution_count":  null,
                      "metadata":  {
                                       "minecraft":  {
                                                         "closeCodeBuilderOnRun":  true,
                                                         "readonly":  true
                                                     }
                                   },
                      "outputs":  [

                                  ],
                      "source":  [
                                     "# Bewege den Agenten einen Block vorwärts\n",
                                     "# und grabe den Block hinter ihm um.\n",
                                     "agent.move(\"forward\")\n",
                                     "agent.till(\"back\")"
                                 ]
                  },
                  {
                      "cell_type":  "markdown",
                      "metadata":  {

                                   },
                      "source":  [
                                     "Die Funktion \"agent.turn()\" erfordert einen Parameter, turn_direction (Drehrichtung).\n",
                                     "\n",
                                     "Gültige Richtungen sind:\n",
                                     "– left: nach links\n",
                                     "– right: nach rechts"
                                 ]
                  },
                  {
                      "cell_type":  "code",
                      "execution_count":  null,
                      "metadata":  {
                                       "minecraft":  {
                                                         "closeCodeBuilderOnRun":  true,
                                                         "readonly":  true
                                                     }
                                   },
                      "outputs":  [

                                  ],
                      "source":  [
                                     "# Dies dreht den Agenten nach rechts\n",
                                     "agent.turn(\"right\")\n",
                                     "# Dies dreht den Agenten nach links\n",
                                     "agent.turn(\"left\")"
                                 ]
                  },
                  {
                      "cell_type":  "markdown",
                      "metadata":  {

                                   },
                      "source":  [
                                     "# Tipp:\n",
                                     "Verwende eine \"for\"-Schleife, um eine Gruppe von Aktionen mehrmals auszuführen."
                                 ]
                  },
                  {
                      "cell_type":  "code",
                      "execution_count":  null,
                      "metadata":  {
                                       "minecraft":  {
                                                         "closeCodeBuilderOnRun":  true,
                                                         "readonly":  true
                                                     }
                                   },
                      "outputs":  [

                                  ],
                      "source":  [
                                     "# Dies bewegt den Agenten vorwärts\n",
                                     "# und gräbt hinter ihm neunmal um.\n",
                                     "for i in range(9):\n",
                                     "    agent.move(\"forward\")\n",
                                     "    agent.till(\"back\")"
                                 ]
                  },
                  {
                      "cell_type":  "markdown",
                      "metadata":  {

                                   },
                      "source":  [
                                     "# Aktivität:\n",
                                     "Grabe die ersten zwei Reihen der Farm um.\n",
                                     "\n",
                                     "**Hinweis: Du kannst die Aktivität zurücksetzen, indem du mit dem NPC sprichst oder die Schaltfläche \"Aktivität zurücksetzen\" verwendest.**"
                                 ]
                  },
                  {
                      "cell_type":  "code",
                      "execution_count":  null,
                      "metadata":  {
                                       "minecraft":  {
                                                         "closeCodeBuilderOnRun":  true,
                                                         "default_code":  "# code here\n\n\n",
                                                         "resetWorldCommand":  "execute @e[tag=game] ~ ~ ~ function act/5/reset"
                                                     }
                                   },
                      "outputs":  [

                                  ],
                      "source":  [
                                     "# Code hier\n",
                                     "\n",
                                     "\n"
                                 ]
                  }
              ],
    "metadata":  {
                     "celltoolbar":  "Edit Metadata",
                     "kernelspec":  {
                                        "display_name":  "Python 3",
                                        "language":  "python",
                                        "name":  "python3"
                                    },
                     "language_info":  {
                                           "codemirror_mode":  {
                                                                   "name":  "ipython",
                                                                   "version":  3
                                                               },
                                           "file_extension":  ".py",
                                           "mimetype":  "text/x-python",
                                           "name":  "python",
                                           "nbconvert_exporter":  "python",
                                           "pygments_lexer":  "ipython3",
                                           "version":  "3.8.6"
                                       },
                     "minecraft":  {
                                       "description":  "Let\u0027s learn farming!",
                                       "page_id":  "1.1",
                                       "page_name":  "Landwirtschaft",
                                       "style":  "minecraft.css"
                                   }
                 },
    "nbformat":  4,
    "nbformat_minor":  2
}
