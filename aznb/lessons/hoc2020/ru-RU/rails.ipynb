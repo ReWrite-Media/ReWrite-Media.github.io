﻿{
    "cells":  [
                  {
                      "cell_type":  "markdown",
                      "metadata":  {

                                   },
                      "source":  [
                                     "# Постройка железной дороги\n",
                                     "По мнению злодеян, соседи недолюбливают их. Дело в том, что селяне практически перестали ходить на местную ярмарку. Причиной этому послужило трудное перемещение товаров по горке, которая располагается между двумя деревнями. Дайте Agent рельсы, `rail`, с помощью функции `agent.give()` и используйте ``agent.place()``, чтобы разместить рельсы между двумя деревнями.\n",
                                     "\n",
                                     "Функция `agent.give()` поддерживает три параметра:\n",
                                     "\n",
                                     "– item (*слово*): название предмета на английском языке, которое получит Agent;\n",
                                     "– count (*целое число*): количество предметов, которые получит Agent;\n",
                                     "– slot (*целое число*): номер ячейки инвентаря Agent, куда будет помещен предмет.\n",
                                     "\n",
                                     "Функция `agent.place()` поддерживает два параметра:\n",
                                     "\n",
                                     "– slot number (*целое число*): номер ячейки инвентаря, которую будет использовать Agent.\n",
                                     "– direction (*слово*): направление, в котором Agent поместит предмет.\n",
                                     "    – Допустимые направления:\n",
                                     "        – forward (вперед);\n",
                                     "        – back (назад);\n",
                                     "        – left (влево);\n",
                                     "        – right (вправо);\n",
                                     "        – up (вверх);\n",
                                     "        – down (вниз)."
                                 ]
                  },
                  {
                      "cell_type":  "code",
                      "execution_count":  null,
                      "metadata":  {
                                       "minecraft":  {
                                                         "closeCodeBuilderOnRun":  true,
                                                         "readonly":  true
                                                     }
                                   },
                      "outputs":  [

                                  ],
                      "source":  [
                                     "# this will give the Agent two rails\n",
                                     "# then place one down and move forward\n",
                                     "agent.give(\"rail\", 2, 1)\n",
                                     "agent.place(1, \"down\")\n",
                                     "agent.move(\"forward\")\n",
                                     "\n"
                                 ]
                  },
                  {
                      "cell_type":  "markdown",
                      "metadata":  {

                                   },
                      "source":  [
                                     "Функция `agent.move()` поддерживает только один параметр: direction (направление).\n",
                                     "\n",
                                     "Допустимые направления:\n",
                                     "– forward (вперед);\n",
                                     "– back (назад);\n",
                                     "– left (влево);\n",
                                     "– right (вправо);\n",
                                     "– up (вверх);\n",
                                     "– down (вниз)."
                                 ]
                  },
                  {
                      "cell_type":  "code",
                      "execution_count":  null,
                      "metadata":  {
                                       "minecraft":  {
                                                         "closeCodeBuilderOnRun":  true,
                                                         "readonly":  true
                                                     }
                                   },
                      "outputs":  [

                                  ],
                      "source":  [
                                     "# move the Agent forward one block.\n",
                                     "agent.move(\"forward\")\n",
                                     "# move the Agent backward one block.\n",
                                     "agent.move(\"back\")\n",
                                     "# move the Agent left one block.\n",
                                     "agent.move(\"left\")\n",
                                     "# move the Agent right one block.\n",
                                     "agent.move(\"right\")\n"
                                 ]
                  },
                  {
                      "cell_type":  "markdown",
                      "metadata":  {

                                   },
                      "source":  [
                                     "# Совет\n",
                                     "Используйте цикл `for`, чтобы выполнить группу действий несколько раз."
                                 ]
                  },
                  {
                      "cell_type":  "code",
                      "execution_count":  null,
                      "metadata":  {
                                       "minecraft":  {
                                                         "closeCodeBuilderOnRun":  true,
                                                         "readonly":  true
                                                     }
                                   },
                      "outputs":  [

                                  ],
                      "source":  [
                                     "# this will make the agent place\n",
                                     "# a rail under it and then move forward.\n",
                                     "# this will repeat four times.\n",
                                     "for i in range(4):\n",
                                     "    agent.give(\"rail\", 2, 1)\n",
                                     "    agent.place(1, \"down\")\n",
                                     "    agent.move(\"forward\")"
                                 ]
                  },
                  {
                      "cell_type":  "markdown",
                      "metadata":  {

                                   },
                      "source":  [
                                     "# Задание\n",
                                     "Постройте железную дорогу в туннеле между каменным и деревянным столбами.\n",
                                     "\n",
                                     "**Примечание: вы можете перезапустить задание, поговорив с неигровым персонажем, который дал его, или нажав кнопку «Перезапустить задание».**"
                                 ]
                  },
                  {
                      "cell_type":  "code",
                      "execution_count":  null,
                      "metadata":  {
                                       "minecraft":  {
                                                         "closeCodeBuilderOnRun":  true,
                                                         "default_code":  "# code here\n\n\n",
                                                         "resetWorldCommand":  "execute @e[tag=game] ~ ~ ~ function act/7/reset"
                                                     }
                                   },
                      "outputs":  [

                                  ],
                      "source":  [
                                     "# code here\n",
                                     "\n",
                                     "\n"
                                 ]
                  }
              ],
    "metadata":  {
                     "celltoolbar":  "Edit Metadata",
                     "kernelspec":  {
                                        "display_name":  "Python 3",
                                        "language":  "python",
                                        "name":  "python3"
                                    },
                     "language_info":  {
                                           "codemirror_mode":  {
                                                                   "name":  "ipython",
                                                                   "version":  3
                                                               },
                                           "file_extension":  ".py",
                                           "mimetype":  "text/x-python",
                                           "name":  "python",
                                           "nbconvert_exporter":  "python",
                                           "pygments_lexer":  "ipython3",
                                           "version":  "3.8.6"
                                       },
                     "minecraft":  {
                                       "description":  "Let\u0027s help the party!",
                                       "page_id":  "1.1",
                                       "page_name":  "Rails",
                                       "style":  "minecraft.css"
                                   }
                 },
    "nbformat":  4,
    "nbformat_minor":  2
}
