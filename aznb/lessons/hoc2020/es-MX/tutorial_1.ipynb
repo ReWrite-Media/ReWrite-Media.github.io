﻿{
    "cells":  [
                  {
                      "cell_type":  "markdown",
                      "metadata":  {
                                       "minecraft":  {
                                                         "readonly":  true
                                                     }
                                   },
                      "source":  [
                                     "# Mover al Agent\n",
                                     "Primero, tenemos que aprender los conceptos básicos para mover al Agent. Para esto, usaremos el comando \u0027agent.move()\u0027.\n",
                                     "\n",
                                     "La función \u0027agent.move()\u0027 utiliza el parámetro \u0027direction\u0027.\n",
                                     "\n",
                                     "Las direcciones válidas son: \n",
                                     "- forward (adelante)\n",
                                     "- back (atrás)\n",
                                     "- left (izquierda)\n",
                                     "- right (derecha)\n",
                                     "- up (arriba)\n",
                                     "- down (abajo)"
                                 ]
                  },
                  {
                      "cell_type":  "code",
                      "execution_count":  null,
                      "metadata":  {
                                       "minecraft":  {
                                                         "closeCodeBuilderOnRun":  true,
                                                         "readonly":  true
                                                     }
                                   },
                      "outputs":  [

                                  ],
                      "source":  [
                                     "# move the Agent forward one block.\n",
                                     "agent.move(\"forward\")\n",
                                     "# move the Agent backward one block.\n",
                                     "agent.move(\"back\")\n",
                                     "# move the Agent left one block.\n",
                                     "agent.move(\"left\")\n",
                                     "# move the Agent right one block.\n",
                                     "agent.move(\"right\")"
                                 ]
                  },
                  {
                      "cell_type":  "markdown",
                      "metadata":  {

                                   },
                      "source":  [
                                     "# Actividad:\n",
                                     "Vamos a mover al Agent hacia el bloque de oro al usar la función \u0027agent.move()\u0027 cuatro veces.\n",
                                     "\n",
                                     "**Nota: Puedes reiniciar la actividad al hablar con el NPC o al usar el botón Restablecer mundo.**"
                                 ]
                  },
                  {
                      "cell_type":  "code",
                      "execution_count":  null,
                      "metadata":  {
                                       "minecraft":  {
                                                         "closeCodeBuilderOnRun":  true,
                                                         "default_code":  "# code here\nagent.move(\"forward\")\n\n",
                                                         "resetWorldCommand":  "execute @e[tag=game] ~ ~ ~ function act/0/reset"
                                                     }
                                   },
                      "outputs":  [

                                  ],
                      "source":  [
                                     "# code here\n",
                                     "agent.move(\"forward\")\n",
                                     "\n"
                                 ]
                  }
              ],
    "metadata":  {
                     "celltoolbar":  "Edit Metadata",
                     "kernelspec":  {
                                        "display_name":  "Python 3",
                                        "language":  "python",
                                        "name":  "python3"
                                    },
                     "language_info":  {
                                           "codemirror_mode":  {
                                                                   "name":  "ipython",
                                                                   "version":  3
                                                               },
                                           "file_extension":  ".py",
                                           "mimetype":  "text/x-python",
                                           "name":  "python",
                                           "nbconvert_exporter":  "python",
                                           "pygments_lexer":  "ipython3",
                                           "version":  "3.8.6"
                                       },
                     "minecraft":  {
                                       "description":  "Meet the Agent!",
                                       "page_id":  "1.1",
                                       "page_name":  "Move",
                                       "style":  "minecraft.css"
                                   }
                 },
    "nbformat":  4,
    "nbformat_minor":  2
}
