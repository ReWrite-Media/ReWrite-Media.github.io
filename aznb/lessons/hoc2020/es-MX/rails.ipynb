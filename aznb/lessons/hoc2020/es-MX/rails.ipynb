﻿{
    "cells":  [
                  {
                      "cell_type":  "markdown",
                      "metadata":  {

                                   },
                      "source":  [
                                     "# Conectar las ciudades\n",
                                     "Los illanos sienten que los aldeanos no los quieren porque muy pocos vienen a su feria. La razón por la que van pocos aldeanos es porque les cuesta mucho trabajo subir la colina ubicada entre las dos ciudades. Utiliza \u0027agent.give()\u0027 para darle al Agent un \u0027rail\u0027 (riel) para vagonetas, y \u0027agent.place()\u0027 para crear un ferrocarril de vagonetas entre las dos ciudades.\n",
                                     "\n",
                                     "La función \u0027agent.give()\u0027 utiliza tres parámetros.  \n",
                                     "\n",
                                     "- item (*cadena*): el objeto que quieres darle al Agent.\n",
                                     "- count (*entero*): el número de objetos que recibirá el Agent.\n",
                                     "- slot (*entero*): el espacio del inventario donde el Agent recibirá el objeto.\n",
                                     "\n",
                                     "La función \u0027agent.place()\u0027 utiliza dos parámetros.  \n",
                                     "\n",
                                     "- slot number (*entero*): el espacio del inventario que debe usar el Agent.\n",
                                     "- direction (*cadena*): la dirección en la que deseas que el Agent coloque el objeto.\n",
                                     "    - Las direcciones válidas son: \n",
                                     "        - forward (adelante)\n",
                                     "        - back (atrás)\n",
                                     "        - left (izquierda)\n",
                                     "        - right (derecha)\n",
                                     "        - up (arriba)\n",
                                     "        - down (abajo)"
                                 ]
                  },
                  {
                      "cell_type":  "code",
                      "execution_count":  null,
                      "metadata":  {
                                       "minecraft":  {
                                                         "closeCodeBuilderOnRun":  true,
                                                         "readonly":  true
                                                     }
                                   },
                      "outputs":  [

                                  ],
                      "source":  [
                                     "# esto le dará al Agent dos rieles\n",
                                     "# luego, coloca uno y avanza\n",
                                     "agent.give(\"rail\", 2, 1)\n",
                                     "agent.place(1, \"down\")\n",
                                     "agent.move(\"forward\")\n",
                                     "\n"
                                 ]
                  },
                  {
                      "cell_type":  "markdown",
                      "metadata":  {

                                   },
                      "source":  [
                                     "La función \u0027agent.move()\u0027 utiliza el parámetro \u0027direction\u0027.\n",
                                     "\n",
                                     "Las direcciones válidas son: \n",
                                     "- forward (adelante)\n",
                                     "- back (atrás)\n",
                                     "- left (izquierda)\n",
                                     "- right (derecha)\n",
                                     "- up (arriba)\n",
                                     "- down (abajo)"
                                 ]
                  },
                  {
                      "cell_type":  "code",
                      "execution_count":  null,
                      "metadata":  {
                                       "minecraft":  {
                                                         "closeCodeBuilderOnRun":  true,
                                                         "readonly":  true
                                                     }
                                   },
                      "outputs":  [

                                  ],
                      "source":  [
                                     "# mueve al Agent un bloque hacia adelante.\n",
                                     "agent.move(\"forward\")\n",
                                     "# mueve al Agent un bloque hacia atrás.\n",
                                     "agent.move(\"back\")\n",
                                     "# mueve al Agent un bloque a la izquierda.\n",
                                     "agent.move(\"left\")\n",
                                     "# mueve al Agent un bloque a la derecha.\n",
                                     "agent.move(\"right\")\n"
                                 ]
                  },
                  {
                      "cell_type":  "markdown",
                      "metadata":  {

                                   },
                      "source":  [
                                     "# Consejo de los profesionales:\n",
                                     "Utiliza un bucle \u0027for\u0027 para realizar un grupo de acciones varias veces."
                                 ]
                  },
                  {
                      "cell_type":  "code",
                      "execution_count":  null,
                      "metadata":  {
                                       "minecraft":  {
                                                         "closeCodeBuilderOnRun":  true,
                                                         "readonly":  true
                                                     }
                                   },
                      "outputs":  [

                                  ],
                      "source":  [
                                     "# esto hará que el Agent coloque\n",
                                     "# un riel debajo de él y luego avance.\n",
                                     "# esto se repetirá cuatro veces.\n",
                                     "for i in range(4):\n",
                                     "    agent.give(\"rail\", 2, 1)\n",
                                     "    agent.place(1, \"down\")\n",
                                     "    agent.move(\"forward\")"
                                 ]
                  },
                  {
                      "cell_type":  "markdown",
                      "metadata":  {

                                   },
                      "source":  [
                                     "# Actividad:\n",
                                     "Crea un ferrocarril dentro del túnel, entre los dos postes de madera y piedra.\n",
                                     "\n",
                                     "**Nota: Puedes reiniciar la actividad al hablar con el NPC o al usar el botón Restablecer actividad.**"
                                 ]
                  },
                  {
                      "cell_type":  "code",
                      "execution_count":  null,
                      "metadata":  {
                                       "minecraft":  {
                                                         "closeCodeBuilderOnRun":  true,
                                                         "default_code":  "# code here\n\n\n",
                                                         "resetWorldCommand":  "execute @e[tag=game] ~ ~ ~ function act/7/reset"
                                                     }
                                   },
                      "outputs":  [

                                  ],
                      "source":  [
                                     "# coloca el código aquí\n",
                                     "\n",
                                     "\n"
                                 ]
                  }
              ],
    "metadata":  {
                     "celltoolbar":  "Edit Metadata",
                     "kernelspec":  {
                                        "display_name":  "Python 3",
                                        "language":  "python",
                                        "name":  "python3"
                                    },
                     "language_info":  {
                                           "codemirror_mode":  {
                                                                   "name":  "ipython",
                                                                   "version":  3
                                                               },
                                           "file_extension":  ".py",
                                           "mimetype":  "text/x-python",
                                           "name":  "python",
                                           "nbconvert_exporter":  "python",
                                           "pygments_lexer":  "ipython3",
                                           "version":  "3.8.6"
                                       },
                     "minecraft":  {
                                       "description":  "Let\u0027s help the party!",
                                       "page_id":  "1.1",
                                       "page_name":  "Rieles",
                                       "style":  "minecraft.css"
                                   }
                 },
    "nbformat":  4,
    "nbformat_minor":  2
}
