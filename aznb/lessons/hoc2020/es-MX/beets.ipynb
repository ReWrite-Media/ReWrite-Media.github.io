﻿{
    "cells":  [
                  {
                      "cell_type":  "markdown",
                      "metadata":  {

                                   },
                      "source":  [
                                     "# Proteger los betabeles\n",
                                     "Algo se ha estado metiendo al jardín a robar betabeles. Haz que el Agent cree una valla alrededor de la granja para proteger los betabeles. Utiliza \u0027agent.give()\u0027 para darle \u0027iron_bars\u0027 (barras de hierro) al Agent, y luego usa \u0027agent.place()\u0027 para colocarlas, \u0027agent.turn()\u0027 para girar al Agent y \u0027agent.move()\u0027 para mover al Agent por el jardín.\n",
                                     "\n",
                                     "La función \u0027agent.give()\u0027 utiliza tres parámetros.  \n",
                                     "\n",
                                     "- item (*cadena*): el objeto que quieres darle al Agent.\n",
                                     "- count (*entero*): el número de objetos que recibirá el Agent.\n",
                                     "- slot (*entero*): el espacio del inventario donde el Agent recibirá el objeto.\n",
                                     "\n",
                                     "La función \u0027agent.place()\u0027 utiliza dos parámetros.  \n",
                                     "\n",
                                     "- slot number (*entero*): el espacio del inventario que debe usar el Agent.\n",
                                     "- direction (*cadena*): la dirección en la que deseas que el Agent coloque el objeto.\n",
                                     "    - Las direcciones válidas son: \n",
                                     "        - forward (adelante)\n",
                                     "        - back (atrás)\n",
                                     "        - left (izquierda)\n",
                                     "        - right (derecha)\n",
                                     "        - up (arriba)\n",
                                     "        - down (abajo)\n",
                                     "\n"
                                 ]
                  },
                  {
                      "cell_type":  "code",
                      "execution_count":  null,
                      "metadata":  {
                                       "minecraft":  {
                                                         "closeCodeBuilderOnRun":  true,
                                                         "readonly":  true
                                                     }
                                   },
                      "outputs":  [

                                  ],
                      "source":  [
                                     "# esto moverá al Agent un bloque hacia adelante\n",
                                     "# dale iron_bars al Agent y coloca \n",
                                     "# las iron_bars debajo de él.\n",
                                     "agent.move(\"forward\")\n",
                                     "agent.give(\"iron_bars\", 2, 1)\n",
                                     "agent.place(1, \"down\")"
                                 ]
                  },
                  {
                      "cell_type":  "markdown",
                      "metadata":  {

                                   },
                      "source":  [
                                     "La función \u0027agent.move()\u0027 utiliza el parámetro \u0027direction\u0027.\n",
                                     "\n",
                                     "Las direcciones válidas son: \n",
                                     "- forward (adelante)\n",
                                     "- back (atrás)\n",
                                     "- left (izquierda)\n",
                                     "- right (derecha)\n",
                                     "- up (arriba)\n",
                                     "- down (abajo)\n",
                                     "\n",
                                     "La función \u0027agent.turn()\u0027 utiliza el parámetro \u0027turn_direction\u0027.\n",
                                     "\n",
                                     "Las direcciones válidas son: \n",
                                     "- left (izquierda)\n",
                                     "- right (derecha)"
                                 ]
                  },
                  {
                      "cell_type":  "code",
                      "execution_count":  null,
                      "metadata":  {
                                       "minecraft":  {
                                                         "closeCodeBuilderOnRun":  true,
                                                         "readonly":  true
                                                     }
                                   },
                      "outputs":  [

                                  ],
                      "source":  [
                                     "# mueve al Agent un bloque hacia adelante.\n",
                                     "agent.move(\"forward\")\n",
                                     "# mueve al Agent un bloque hacia atrás.\n",
                                     "agent.move(\"back\")\n",
                                     "# mueve al Agent un bloque a la izquierda.\n",
                                     "agent.move(\"left\")\n",
                                     "# mueve al Agent un bloque a la derecha.\n",
                                     "agent.move(\"right\")\n",
                                     "\n",
                                     "# esto girará al Agent a la derecha\n",
                                     "agent.turn(\"right\")\n",
                                     "# esto girará al Agent a la izquierda\n",
                                     "agent.turn(\"left\")"
                                 ]
                  },
                  {
                      "cell_type":  "markdown",
                      "metadata":  {

                                   },
                      "source":  [
                                     "# Consejo de los profesionales:\n",
                                     "Utiliza un bucle \u0027for\u0027 para realizar un grupo de acciones varias veces."
                                 ]
                  },
                  {
                      "cell_type":  "code",
                      "execution_count":  null,
                      "metadata":  {
                                       "minecraft":  {
                                                         "closeCodeBuilderOnRun":  true,
                                                         "readonly":  true
                                                     }
                                   },
                      "outputs":  [

                                  ],
                      "source":  [
                                     "# este código moverá al Agent hacia adelante\n",
                                     "# y coloca iron_bars debajo de él cinco veces\n",
                                     "for i in range(5):\n",
                                     "    agent.move(\"forward\")\n",
                                     "    agent.give(\"iron_bars\", 2, 1)\n",
                                     "    agent.place(1, \"down\")"
                                 ]
                  },
                  {
                      "cell_type":  "markdown",
                      "metadata":  {

                                   },
                      "source":  [
                                     "# Actividad:\n",
                                     "Coloca barras de hierro alrededor del jardín de betabeles, entre los bloques de piedra. \n",
                                     "\n",
                                     "**Nota: Puedes reiniciar la actividad al hablar con el NPC o al usar el botón Restablecer actividad.**"
                                 ]
                  },
                  {
                      "cell_type":  "code",
                      "execution_count":  null,
                      "metadata":  {
                                       "minecraft":  {
                                                         "closeCodeBuilderOnRun":  true,
                                                         "default_code":  "# code here\n\n\n",
                                                         "resetWorldCommand":  "execute @e[tag=game] ~ ~ ~ function act/4/reset"
                                                     }
                                   },
                      "outputs":  [

                                  ],
                      "source":  [
                                     "# coloca el código aquí\n",
                                     "\n",
                                     "\n"
                                 ]
                  }
              ],
    "metadata":  {
                     "celltoolbar":  "Edit Metadata",
                     "kernelspec":  {
                                        "display_name":  "Python 3",
                                        "language":  "python",
                                        "name":  "python3"
                                    },
                     "language_info":  {
                                           "codemirror_mode":  {
                                                                   "name":  "ipython",
                                                                   "version":  3
                                                               },
                                           "file_extension":  ".py",
                                           "mimetype":  "text/x-python",
                                           "name":  "python",
                                           "nbconvert_exporter":  "python",
                                           "pygments_lexer":  "ipython3",
                                           "version":  "3.8.6"
                                       },
                     "minecraft":  {
                                       "description":  "Protect those beets",
                                       "page_id":  "1.1",
                                       "page_name":  "Betabeles",
                                       "style":  "minecraft.css"
                                   }
                 },
    "nbformat":  4,
    "nbformat_minor":  2
}
