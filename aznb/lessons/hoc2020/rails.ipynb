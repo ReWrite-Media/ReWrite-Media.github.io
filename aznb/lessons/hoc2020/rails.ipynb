{
 "cells": [
  {
   "cell_type": "markdown",
   "metadata": {},
   "source": [
    "# Connect the towns\n",
    "The Illagers feel like the Villagers don't like them because very few ever come to their fair. The reason few Villagers go is because it’s too difficult to get up the hill between the two towns. Use `agent.place()` to create a minecart railway between the two towns by using `agent.give()` to give the Agent a minecart `rail`.\n",
    "\n",
    "The `agent.give()` function takes three parameters.  \n",
    "\n",
    "- item (*string*): The item you want to give the Agent.\n",
    "- count (*integer*): How items the Agent will receive.\n",
    "- slot (*integer*): What inventory slot the Agent receives the item in.\n",
    "\n",
    "The `agent.place()` function takes two parameters.  \n",
    "\n",
    "- slot number (*integer*): What inventory slot the Agent should place from.\n",
    "- direction (*string*): The direction you want the Agent to place int.\n",
    "    - Valid directions are: \n",
    "        - forward\n",
    "        - back\n",
    "        - left\n",
    "        - right\n",
    "        - up\n",
    "        - down"
   ]
  },
  {
   "cell_type": "code",
   "execution_count": null,
   "metadata": {
    "minecraft": {
     "closeCodeBuilderOnRun": true,
     "readonly": true
    }
   },
   "outputs": [],
   "source": [
    "# this will give the Agent two rails\n",
    "# then place one down and move forward\n",
    "agent.give(\"rail\", 2, 1)\n",
    "agent.place(1, \"down\")\n",
    "agent.move(\"forward\")\n",
    "\n"
   ]
  },
  {
   "cell_type": "markdown",
   "metadata": {},
   "source": [
    "The `agent.move()` function takes one parameter, direction.\n",
    "\n",
    "Valid directions are: \n",
    "- forward\n",
    "- back\n",
    "- left\n",
    "- right\n",
    "- up\n",
    "- down"
   ]
  },
  {
   "cell_type": "code",
   "execution_count": null,
   "metadata": {
    "minecraft": {
     "closeCodeBuilderOnRun": true,
     "readonly": true
    }
   },
   "outputs": [],
   "source": [
    "# move the Agent forward one block.\n",
    "agent.move(\"forward\")\n",
    "# move the Agent backward one block.\n",
    "agent.move(\"backward\")\n",
    "# move the Agent left one block.\n",
    "agent.move(\"left\")\n",
    "# move the Agent right one block.\n",
    "agent.move(\"right\")\n"
   ]
  },
  {
   "cell_type": "markdown",
   "metadata": {},
   "source": [
    "# Pro Tip:\n",
    "Use a `for` loop to do a group of actions multiple times."
   ]
  },
  {
   "cell_type": "code",
   "execution_count": null,
   "metadata": {
    "minecraft": {
     "closeCodeBuilderOnRun": true,
     "readonly": true
    }
   },
   "outputs": [],
   "source": [
    "# this will make the agent place\n",
    "# a rail under it and then move forward.\n",
    "# this will repeat four times.\n",
    "for i in range(4):\n",
    "    agent.give(\"rail\", 2, 1)\n",
    "    agent.place(1, \"down\")\n",
    "    agent.move(\"forward\")"
   ]
  },
  {
   "cell_type": "markdown",
   "metadata": {},
   "source": [
    "# Activity:\n",
    "Create a railway inside the tunnel between the two wood and stone posts.\n",
    "\n",
    "**Note: You can reset the activity by speaking with the NPC or by using the Reset World button.**"
   ]
  },
  {
   "cell_type": "code",
   "execution_count": null,
   "metadata": {
    "minecraft": {
     "closeCodeBuilderOnRun": true,
     "default_code": "# code here\n\n\n",
     "resetWorldCommand": "execute @e[tag=game] ~ ~ ~ function act/7/reset"
    }
   },
   "outputs": [],
   "source": [
    "# code here\n",
    "\n",
    "\n"
   ]
  }
 ],
 "metadata": {
  "celltoolbar": "Edit Metadata",
  "kernelspec": {
   "display_name": "Python 3",
   "language": "python",
   "name": "python3"
  },
  "language_info": {
   "codemirror_mode": {
    "name": "ipython",
    "version": 3
   },
   "file_extension": ".py",
   "mimetype": "text/x-python",
   "name": "python",
   "nbconvert_exporter": "python",
   "pygments_lexer": "ipython3",
   "version": "3.8.6"
  },
  "minecraft": {
   "description": "Let's help the party!",
   "page_id": "1.1",
   "page_name": "Rails",
   "style": "minecraft.css"
  }
 },
 "nbformat": 4,
 "nbformat_minor": 2
}
