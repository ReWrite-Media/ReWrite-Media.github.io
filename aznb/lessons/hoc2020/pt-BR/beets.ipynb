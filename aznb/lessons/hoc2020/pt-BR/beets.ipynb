﻿{
    "cells":  [
                  {
                      "cell_type":  "markdown",
                      "metadata":  {

                                   },
                      "source":  [
                                     "# Proteja as beterrabas\n",
                                     "Alguma coisa não para de entrar no jardim para roubar beterrabas. Faça o Agent construir uma cerca ao redor da fazenda para manter as beterrabas seguras. Use \u0027agent.give()\u0027 para dar ao Agente \u0027iron_bars\u0027, \u0027agent.place()\u0027 para colocar as iron_bars, \u0027agente.turn()\u0027 para virar o Agente e \u0027agente.mover()\u0027 para mover o Agente pelo jardim.\n",
                                     "\n",
                                     "A função \u0027agent.give()\u0027 toma três parâmetros.  \n",
                                     "\n",
                                     "- item (*string*): O slot de inventário onde o Agent recebe o item.\n",
                                     "- contagem (*integer*): Quantos itens o Agent receberá.\n",
                                     "- slot (*integer*): Em qual slot de inventário o Agent receberá o item.\n",
                                     "\n",
                                     "A função \u0027agent.place()\u0027 toma dois parâmetros.  \n",
                                     "\n",
                                     "- número de slot (*integer*): Qual slot de inventário o Agent deve usar.\n",
                                     "- direção (*string*): A direção que você deseja que o Agent coloque o item.\n",
                                     "    - As instruções válidas são: \n",
                                     "        - para frente\n",
                                     "        - para trás\n",
                                     "        - esquerda\n",
                                     "        - direita\n",
                                     "        - para cima\n",
                                     "        - para baixo\n",
                                     "\n"
                                 ]
                  },
                  {
                      "cell_type":  "code",
                      "execution_count":  null,
                      "metadata":  {
                                       "minecraft":  {
                                                         "closeCodeBuilderOnRun":  true,
                                                         "readonly":  true
                                                     }
                                   },
                      "outputs":  [

                                  ],
                      "source":  [
                                     "# this will move the Agent forward one block\n",
                                     "# give the Agent iron_bars, and then place \n",
                                     "# the iron_bars below it.\n",
                                     "agent.move(\"forward\")\n",
                                     "agent.give(\"iron_bars\", 2, 1)\n",
                                     "agent.place(1, \"down\")"
                                 ]
                  },
                  {
                      "cell_type":  "markdown",
                      "metadata":  {

                                   },
                      "source":  [
                                     "A função \u0027agent.move()\u0027 toma um parâmetro, direção.\n",
                                     "\n",
                                     "As instruções válidas são: \n",
                                     "- para frente\n",
                                     "- para trás\n",
                                     "- esquerda\n",
                                     "- direita\n",
                                     "- para cima\n",
                                     "- para baixo\n",
                                     "\n",
                                     "A função \u0027agent.turn()\u0027 toma um parâmetro, turn_direction.\n",
                                     "\n",
                                     "As instruções válidas são: \n",
                                     "- esquerda\n",
                                     "- direita"
                                 ]
                  },
                  {
                      "cell_type":  "code",
                      "execution_count":  null,
                      "metadata":  {
                                       "minecraft":  {
                                                         "closeCodeBuilderOnRun":  true,
                                                         "readonly":  true
                                                     }
                                   },
                      "outputs":  [

                                  ],
                      "source":  [
                                     "# move the Agent forward one block.\n",
                                     "agent.move(\"forward\")\n",
                                     "# move the Agent backward one block.\n",
                                     "agent.move(\"back\")\n",
                                     "# move the Agent left one block.\n",
                                     "agent.move(\"left\")\n",
                                     "# move the Agent right one block.\n",
                                     "agent.move(\"right\")\n",
                                     "\n",
                                     "# this will turn the Agent right\n",
                                     "agent.turn(\"right\")\n",
                                     "# this will turn the Agent left\n",
                                     "agent.turn(\"left\")"
                                 ]
                  },
                  {
                      "cell_type":  "markdown",
                      "metadata":  {

                                   },
                      "source":  [
                                     "# Dica Profissional:\n",
                                     "Use um ciclo `for` para executar um grupo de ações várias vezes."
                                 ]
                  },
                  {
                      "cell_type":  "code",
                      "execution_count":  null,
                      "metadata":  {
                                       "minecraft":  {
                                                         "closeCodeBuilderOnRun":  true,
                                                         "readonly":  true
                                                     }
                                   },
                      "outputs":  [

                                  ],
                      "source":  [
                                     "# this code will move the Agent forward\n",
                                     "# and place iron_bars below it five times\n",
                                     "for i in range(5):\n",
                                     "    agent.move(\"forward\")\n",
                                     "    agent.give(\"iron_bars\", 2, 1)\n",
                                     "    agent.place(1, \"down\")"
                                 ]
                  },
                  {
                      "cell_type":  "markdown",
                      "metadata":  {

                                   },
                      "source":  [
                                     "# Atividade:\n",
                                     "Coloque barras de ferro ao redor do jardim de beterrabas entre os blocos de pedra. \n",
                                     "\n",
                                     "**Observação: Você pode reiniciar a atividade falando com o NPC ou usando o botão Redefinir Mundo.**"
                                 ]
                  },
                  {
                      "cell_type":  "code",
                      "execution_count":  null,
                      "metadata":  {
                                       "minecraft":  {
                                                         "closeCodeBuilderOnRun":  true,
                                                         "default_code":  "# code here\n\n\n",
                                                         "resetWorldCommand":  "execute @e[tag=game] ~ ~ ~ function act/4/reset"
                                                     }
                                   },
                      "outputs":  [

                                  ],
                      "source":  [
                                     "# code here\n",
                                     "\n",
                                     "\n"
                                 ]
                  }
              ],
    "metadata":  {
                     "celltoolbar":  "Edit Metadata",
                     "kernelspec":  {
                                        "display_name":  "Python 3",
                                        "language":  "python",
                                        "name":  "python3"
                                    },
                     "language_info":  {
                                           "codemirror_mode":  {
                                                                   "name":  "ipython",
                                                                   "version":  3
                                                               },
                                           "file_extension":  ".py",
                                           "mimetype":  "text/x-python",
                                           "name":  "python",
                                           "nbconvert_exporter":  "python",
                                           "pygments_lexer":  "ipython3",
                                           "version":  "3.8.6"
                                       },
                     "minecraft":  {
                                       "description":  "Protect those beets",
                                       "page_id":  "1.1",
                                       "page_name":  "Beets",
                                       "style":  "minecraft.css"
                                   }
                 },
    "nbformat":  4,
    "nbformat_minor":  2
}
