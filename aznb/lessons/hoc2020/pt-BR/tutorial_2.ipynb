﻿{
    "cells":  [
                  {
                      "cell_type":  "markdown",
                      "metadata":  {

                                   },
                      "source":  [
                                     "# Plante a muda\n",
                                     "O Agent lhe deu um `sapling` para comemorar sua chegada! Para colocar a muda na sua barra rápida, usaremos a função `player.give()`\n",
                                     "\n",
                                     "A função `player.give()` toma dois parâmetros. \n",
                                     "- item (*string*): o item que você deseja\n",
                                     "- count (*integer*): a quantidade de itens que você receberá"
                                 ]
                  },
                  {
                      "cell_type":  "code",
                      "execution_count":  null,
                      "metadata":  {
                                       "minecraft":  {
                                                         "closeCodeBuilderOnRun":  true,
                                                         "readonly":  true
                                                     }
                                   },
                      "outputs":  [

                                  ],
                      "source":  [
                                     "# dar a si mesmo 5 blocos de pedra\n",
                                     "player.give(\"stone\", 5)\n",
                                     "# dar a si mesmo 3 blocos de terra\n",
                                     "player.give(\"dirt\", 3)"
                                 ]
                  },
                  {
                      "cell_type":  "markdown",
                      "metadata":  {

                                   },
                      "source":  [
                                     "# Atividade:\n",
                                     "Aceite o presente do seu Agent dando a si mesmo uma `sapling`. Quando terminar, plante-a manualmente no bloco de grama ao selecioná-lo na barra rápida, apontando seu cursor para o bloco de grama e clicando com o botão direito do mouse.\n",
                                     "\n",
                                     "**Observação: Você pode reiniciar a atividade falando com o NPC ou usando o botão Redefinir Atividade.**"
                                 ]
                  },
                  {
                      "cell_type":  "code",
                      "execution_count":  null,
                      "metadata":  {
                                       "minecraft":  {
                                                         "closeCodeBuilderOnRun":  true,
                                                         "default_code":  "# code here\nplayer.give()\n\n",
                                                         "resetWorldCommand":  "execute @e[tag=game] ~ ~ ~ function act/1/reset"
                                                     }
                                   },
                      "outputs":  [

                                  ],
                      "source":  [
                                     "# código aqui\n",
                                     "player.give()\n",
                                     "\n"
                                 ]
                  }
              ],
    "metadata":  {
                     "celltoolbar":  "Edit Metadata",
                     "kernelspec":  {
                                        "display_name":  "Python 3",
                                        "language":  "python",
                                        "name":  "python3"
                                    },
                     "language_info":  {
                                           "codemirror_mode":  {
                                                                   "name":  "ipython",
                                                                   "version":  3
                                                               },
                                           "file_extension":  ".py",
                                           "mimetype":  "text/x-python",
                                           "name":  "python",
                                           "nbconvert_exporter":  "python",
                                           "pygments_lexer":  "ipython3",
                                           "version":  "3.8.6"
                                       },
                     "minecraft":  {
                                       "description":  "Plant a tree!",
                                       "page_id":  "1.1",
                                       "page_name":  "Dar",
                                       "style":  "minecraft.css"
                                   }
                 },
    "nbformat":  4,
    "nbformat_minor":  2
}
