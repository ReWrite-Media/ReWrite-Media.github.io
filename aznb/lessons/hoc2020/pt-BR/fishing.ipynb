﻿{
    "cells":  [
                  {
                      "cell_type":  "markdown",
                      "metadata":  {

                                   },
                      "source":  [
                                     "# Construa uma doca\n",
                                     "Antes que os Illagers possam ensinar os Aldeões a pescar, é necessário construir uma doca. Construa a estrutura da doca usando `agent.give()` para dar ao Agent um bloco para colocar, `agent.place()` para colocar o bloco, `agent.turn()` para virar o Agent e `agent.move()` para mover o Agent.\n",
                                     "\n",
                                     "A função `agent.give()` toma três parâmetros.  \n",
                                     "\n",
                                     "- item (*string*): O item que você deseja dar ao Agent.\n",
                                     "- count (*integer*): Quantos itens o Agent receberá.\n",
                                     "- slot (*integer*): O slot de inventário onde o Agent recebe o item.\n",
                                     "\n",
                                     "A função `agent.place()` toma dois parâmetros.  \n",
                                     "\n",
                                     "- slot number (*integer*): Qual slot de inventário o Agent deve usar.\n",
                                     "- direction (*string*): A direção que você deseja que o Agent coloque o item.\n",
                                     "    - As instruções válidas são: \n",
                                     "        - forward\n",
                                     "        - back\n",
                                     "        - left\n",
                                     "        - right\n",
                                     "        - up\n",
                                     "        - down"
                                 ]
                  },
                  {
                      "cell_type":  "code",
                      "execution_count":  null,
                      "metadata":  {
                                       "minecraft":  {
                                                         "closeCodeBuilderOnRun":  true,
                                                         "readonly":  true
                                                     }
                                   },
                      "outputs":  [

                                  ],
                      "source":  [
                                     "# isto dará ao Agent duas tábuas\n",
                                     "# avançará um espaço\n",
                                     "# e colocará uma tábua abaixo dele\n",
                                     "agent.give(\"planks\", 2, 1)\n",
                                     "agent.move(\"forward\")\n",
                                     "agent.place(1,\"down\")"
                                 ]
                  },
                  {
                      "cell_type":  "markdown",
                      "metadata":  {

                                   },
                      "source":  [
                                     "A função `agent.move()` toma um parâmetro, direção.\n",
                                     "\n",
                                     "As instruções válidas são: \n",
                                     "- forward\n",
                                     "- back\n",
                                     "- left\n",
                                     "- right\n",
                                     "- up\n",
                                     "- down\n",
                                     "\n",
                                     "A função `agent.turn()` toma um parâmetro, turn_direction.\n",
                                     "\n",
                                     "As instruções válidas são: \n",
                                     "- left\n",
                                     "- right"
                                 ]
                  },
                  {
                      "cell_type":  "code",
                      "execution_count":  null,
                      "metadata":  {
                                       "minecraft":  {
                                                         "closeCodeBuilderOnRun":  true,
                                                         "readonly":  true
                                                     }
                                   },
                      "outputs":  [

                                  ],
                      "source":  [
                                     "# mover o Agent um bloco para frente.\n",
                                     "agent.move(\"forward\")\n",
                                     "# mover o Agent um bloco para trás.\n",
                                     "agent.move(\"back\")\n",
                                     "# mover o Agent um bloco para a esquerda.\n",
                                     "agent.move(\"left\")\n",
                                     "# mover o Agent um bloco para a direita.\n",
                                     "agent.move(\"right\")\n",
                                     "\n",
                                     "# isto fará com que o Agent vire para a direita\n",
                                     "agent.turn(\"right\")\n",
                                     "# isto fará com que o Agent vire para a esquerda\n",
                                     "agent.turn(\"left\")"
                                 ]
                  },
                  {
                      "cell_type":  "markdown",
                      "metadata":  {

                                   },
                      "source":  [
                                     "# Dica Profissional:\n",
                                     "Use um ciclo `for` para executar um grupo de ações várias vezes."
                                 ]
                  },
                  {
                      "cell_type":  "code",
                      "execution_count":  null,
                      "metadata":  {
                                       "minecraft":  {
                                                         "closeCodeBuilderOnRun":  true,
                                                         "readonly":  true
                                                     }
                                   },
                      "outputs":  [

                                  ],
                      "source":  [
                                     "# este código moverá o Agent para frente\n",
                                     "# e colocará uma tábua sob eles cinco vezes\n",
                                     "for i in range(5):\n",
                                     "    agent.move(\"forward\")\n",
                                     "    agent.give(\"planks\", 2, 1)\n",
                                     "    agent.place(1, \"down\")"
                                 ]
                  },
                  {
                      "cell_type":  "markdown",
                      "metadata":  {

                                   },
                      "source":  [
                                     "# Atividade:\n",
                                     "Crie a estrutura de uma doca que se estenda a partir do pedregulho e tenha 6 blocos de comprimento e 4 blocos de largura.\n",
                                     "\n",
                                     "**Observação: Você pode reiniciar a atividade falando com o NPC ou usando o botão Redefinir Atividade.**"
                                 ]
                  },
                  {
                      "cell_type":  "code",
                      "execution_count":  null,
                      "metadata":  {
                                       "minecraft":  {
                                                         "closeCodeBuilderOnRun":  true,
                                                         "default_code":  "# code here\n\n\n",
                                                         "resetWorldCommand":  "execute @e[tag=game] ~ ~ ~ function act/2/reset"
                                                     }
                                   },
                      "outputs":  [

                                  ],
                      "source":  [
                                     "# código aqui\n",
                                     "\n",
                                     "\n"
                                 ]
                  }
              ],
    "metadata":  {
                     "celltoolbar":  "Edit Metadata",
                     "kernelspec":  {
                                        "display_name":  "Python 3",
                                        "language":  "python",
                                        "name":  "python3"
                                    },
                     "language_info":  {
                                           "codemirror_mode":  {
                                                                   "name":  "ipython",
                                                                   "version":  3
                                                               },
                                           "file_extension":  ".py",
                                           "mimetype":  "text/x-python",
                                           "name":  "python",
                                           "nbconvert_exporter":  "python",
                                           "pygments_lexer":  "ipython3",
                                           "version":  "3.8.6"
                                       },
                     "minecraft":  {
                                       "description":  "Let\u0027s learn fishing!",
                                       "page_id":  "1.1",
                                       "page_name":  "Pesca",
                                       "style":  "minecraft.css"
                                   }
                 },
    "nbformat":  4,
    "nbformat_minor":  2
}
