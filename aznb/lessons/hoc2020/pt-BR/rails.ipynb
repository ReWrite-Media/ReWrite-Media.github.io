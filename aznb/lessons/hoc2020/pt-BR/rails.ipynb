﻿{
    "cells":  [
                  {
                      "cell_type":  "markdown",
                      "metadata":  {

                                   },
                      "source":  [
                                     "# Conecte as cidades\n",
                                     "Os Illagers acham que os aldeões não gostam deles porque muito poucos vêm à sua feira. A razão pela qual poucos aldeões a frequentam é porque é muito difícil subir a colina entre as duas cidades. Use \u0027agent.give()\u0027 para dar ao Agent um carrinho de minas e \u0027agent.place()\u0027 para criar uma ferrovia de carrinho de minas entre as duas cidades.\n",
                                     "\n",
                                     "A função \u0027agent.give()\u0027 toma três parâmetros.  \n",
                                     "\n",
                                     "- item (*string*): O item que você deseja dar ao Agent.\n",
                                     "- contagem (*integer*): Quantos itens o Agent receberá.\n",
                                     "- slot (*integer*): O slot de inventário onde o Agent recebe o item.\n",
                                     "\n",
                                     "A função \u0027agent.place()\u0027 toma dois parâmetros.  \n",
                                     "\n",
                                     "- número de slot (*integer*): Qual slot de inventário o Agent deve usar.\n",
                                     "- direção (*string*): A direção que você deseja que o Agent coloque o item.\n",
                                     "    - As instruções válidas são: \n",
                                     "        - para frente\n",
                                     "        - para trás\n",
                                     "        - esquerda\n",
                                     "        - direita\n",
                                     "        - para cima\n",
                                     "        - para baixo"
                                 ]
                  },
                  {
                      "cell_type":  "code",
                      "execution_count":  null,
                      "metadata":  {
                                       "minecraft":  {
                                                         "closeCodeBuilderOnRun":  true,
                                                         "readonly":  true
                                                     }
                                   },
                      "outputs":  [

                                  ],
                      "source":  [
                                     "# this will give the Agent two rails\n",
                                     "# then place one down and move forward\n",
                                     "agent.give(\"rail\", 2, 1)\n",
                                     "agent.place(1, \"down\")\n",
                                     "agent.move(\"forward\")\n",
                                     "\n"
                                 ]
                  },
                  {
                      "cell_type":  "markdown",
                      "metadata":  {

                                   },
                      "source":  [
                                     "A função \u0027agent.move()\u0027 toma um parâmetro, direção.\n",
                                     "\n",
                                     "As instruções válidas são: \n",
                                     "- para frente\n",
                                     "- para trás\n",
                                     "- esquerda\n",
                                     "- direita\n",
                                     "- para cima\n",
                                     "- para baixo"
                                 ]
                  },
                  {
                      "cell_type":  "code",
                      "execution_count":  null,
                      "metadata":  {
                                       "minecraft":  {
                                                         "closeCodeBuilderOnRun":  true,
                                                         "readonly":  true
                                                     }
                                   },
                      "outputs":  [

                                  ],
                      "source":  [
                                     "# move the Agent forward one block.\n",
                                     "agent.move(\"forward\")\n",
                                     "# move the Agent backward one block.\n",
                                     "agent.move(\"back\")\n",
                                     "# move the Agent left one block.\n",
                                     "agent.move(\"left\")\n",
                                     "# move the Agent right one block.\n",
                                     "agent.move(\"right\")\n"
                                 ]
                  },
                  {
                      "cell_type":  "markdown",
                      "metadata":  {

                                   },
                      "source":  [
                                     "# Dica Profissional:\n",
                                     "Use um ciclo `for` para executar um grupo de ações várias vezes."
                                 ]
                  },
                  {
                      "cell_type":  "code",
                      "execution_count":  null,
                      "metadata":  {
                                       "minecraft":  {
                                                         "closeCodeBuilderOnRun":  true,
                                                         "readonly":  true
                                                     }
                                   },
                      "outputs":  [

                                  ],
                      "source":  [
                                     "# this will make the agent place\n",
                                     "# a rail under it and then move forward.\n",
                                     "# this will repeat four times.\n",
                                     "for i in range(4):\n",
                                     "    agent.give(\"rail\", 2, 1)\n",
                                     "    agent.place(1, \"down\")\n",
                                     "    agent.move(\"forward\")"
                                 ]
                  },
                  {
                      "cell_type":  "markdown",
                      "metadata":  {

                                   },
                      "source":  [
                                     "# Atividade:\n",
                                     "Crie uma ferrovia dentro do túnel entre os dois postes de madeira e pedra.\n",
                                     "\n",
                                     "**Observação: Você pode reiniciar a atividade falando com o NPC ou usando o botão Redefinir Mundo.**"
                                 ]
                  },
                  {
                      "cell_type":  "code",
                      "execution_count":  null,
                      "metadata":  {
                                       "minecraft":  {
                                                         "closeCodeBuilderOnRun":  true,
                                                         "default_code":  "# code here\n\n\n",
                                                         "resetWorldCommand":  "execute @e[tag=game] ~ ~ ~ function act/7/reset"
                                                     }
                                   },
                      "outputs":  [

                                  ],
                      "source":  [
                                     "# code here\n",
                                     "\n",
                                     "\n"
                                 ]
                  }
              ],
    "metadata":  {
                     "celltoolbar":  "Edit Metadata",
                     "kernelspec":  {
                                        "display_name":  "Python 3",
                                        "language":  "python",
                                        "name":  "python3"
                                    },
                     "language_info":  {
                                           "codemirror_mode":  {
                                                                   "name":  "ipython",
                                                                   "version":  3
                                                               },
                                           "file_extension":  ".py",
                                           "mimetype":  "text/x-python",
                                           "name":  "python",
                                           "nbconvert_exporter":  "python",
                                           "pygments_lexer":  "ipython3",
                                           "version":  "3.8.6"
                                       },
                     "minecraft":  {
                                       "description":  "Let\u0027s help the party!",
                                       "page_id":  "1.1",
                                       "page_name":  "Rails",
                                       "style":  "minecraft.css"
                                   }
                 },
    "nbformat":  4,
    "nbformat_minor":  2
}
