﻿{
    "cells":  [
                  {
                      "cell_type":  "markdown",
                      "metadata":  {

                                   },
                      "source":  [
                                     "# Conecte as cidades\n",
                                     "Os Illagers acham que os aldeões não gostam deles porque muito poucos vêm à sua feira. A razão pela qual poucos aldeões a frequentam é porque é muito difícil subir a colina entre as duas cidades. Use `agent.give()` para dar ao Agent um carrinho de minas e `agent.place()` para criar uma ferrovia de carrinho de minas entre as duas cidades.\n",
                                     "\n",
                                     "A função `agent.give()` toma três parâmetros.  \n",
                                     "\n",
                                     "- item (*string*): O item que você deseja dar ao Agent.\n",
                                     "- count (*integer*): Quantos itens o Agent receberá.\n",
                                     "- slot (*integer*): O slot de inventário onde o Agent recebe o item.\n",
                                     "\n",
                                     "A função `agent.place()` toma dois parâmetros.  \n",
                                     "\n",
                                     "- slot number (*integer*): Qual slot de inventário o Agent deve usar.\n",
                                     "- direction (*string*): A direção que você deseja que o Agent coloque o item.\n",
                                     "    - As instruções válidas são: \n",
                                     "        - forward\n",
                                     "        - back\n",
                                     "        - left\n",
                                     "        - right\n",
                                     "        - up\n",
                                     "        - down"
                                 ]
                  },
                  {
                      "cell_type":  "code",
                      "execution_count":  null,
                      "metadata":  {
                                       "minecraft":  {
                                                         "closeCodeBuilderOnRun":  true,
                                                         "readonly":  true
                                                     }
                                   },
                      "outputs":  [

                                  ],
                      "source":  [
                                     "# isto dará ao Agent dois trilhos\n",
                                     "# e em seguida colocará um no chão e o moverá para frente\n",
                                     "agent.give(\"rail\", 2, 1)\n",
                                     "agent.place(1, \"down\")\n",
                                     "agent.move(\"forward\")\n",
                                     "\n"
                                 ]
                  },
                  {
                      "cell_type":  "markdown",
                      "metadata":  {

                                   },
                      "source":  [
                                     "A função `agent.move()` toma um parâmetro, direção.\n",
                                     "\n",
                                     "As instruções válidas são: \n",
                                     "- forward\n",
                                     "- back\n",
                                     "- left\n",
                                     "- right\n",
                                     "- up\n",
                                     "- down"
                                 ]
                  },
                  {
                      "cell_type":  "code",
                      "execution_count":  null,
                      "metadata":  {
                                       "minecraft":  {
                                                         "closeCodeBuilderOnRun":  true,
                                                         "readonly":  true
                                                     }
                                   },
                      "outputs":  [

                                  ],
                      "source":  [
                                     "# mover o Agent um bloco para frente.\n",
                                     "agent.move(\"forward\")\n",
                                     "# mover o Agent um bloco para trás.\n",
                                     "agent.move(\"back\")\n",
                                     "# mover o Agent um bloco para a esquerda.\n",
                                     "agent.move(\"left\")\n",
                                     "# mover o Agent um bloco para a direita.\n",
                                     "agent.move(\"right\")\n"
                                 ]
                  },
                  {
                      "cell_type":  "markdown",
                      "metadata":  {

                                   },
                      "source":  [
                                     "# Dica Profissional:\n",
                                     "Use um ciclo `for` para executar um grupo de ações várias vezes."
                                 ]
                  },
                  {
                      "cell_type":  "code",
                      "execution_count":  null,
                      "metadata":  {
                                       "minecraft":  {
                                                         "closeCodeBuilderOnRun":  true,
                                                         "readonly":  true
                                                     }
                                   },
                      "outputs":  [

                                  ],
                      "source":  [
                                     "# isto fará com que o Agent coloque\n",
                                     "# um trilho sob ele e, em seguida, o moverá para frente.\n",
                                     "# isto se repetirá quatro vezes.\n",
                                     "for i in range(4):\n",
                                     "    agent.give(\"rail\", 2, 1)\n",
                                     "    agent.place(1, \"down\")\n",
                                     "    agent.move(\"forward\")"
                                 ]
                  },
                  {
                      "cell_type":  "markdown",
                      "metadata":  {

                                   },
                      "source":  [
                                     "# Atividade:\n",
                                     "Crie uma ferrovia dentro do túnel entre os dois postes de madeira e pedra.\n",
                                     "\n",
                                     "**Observação: Você pode reiniciar a atividade falando com o NPC ou usando o botão Redefinir Atividade.**"
                                 ]
                  },
                  {
                      "cell_type":  "code",
                      "execution_count":  null,
                      "metadata":  {
                                       "minecraft":  {
                                                         "closeCodeBuilderOnRun":  true,
                                                         "default_code":  "# code here\n\n\n",
                                                         "resetWorldCommand":  "execute @e[tag=game] ~ ~ ~ function act/7/reset"
                                                     }
                                   },
                      "outputs":  [

                                  ],
                      "source":  [
                                     "# código aqui\n",
                                     "\n",
                                     "\n"
                                 ]
                  }
              ],
    "metadata":  {
                     "celltoolbar":  "Edit Metadata",
                     "kernelspec":  {
                                        "display_name":  "Python 3",
                                        "language":  "python",
                                        "name":  "python3"
                                    },
                     "language_info":  {
                                           "codemirror_mode":  {
                                                                   "name":  "ipython",
                                                                   "version":  3
                                                               },
                                           "file_extension":  ".py",
                                           "mimetype":  "text/x-python",
                                           "name":  "python",
                                           "nbconvert_exporter":  "python",
                                           "pygments_lexer":  "ipython3",
                                           "version":  "3.8.6"
                                       },
                     "minecraft":  {
                                       "description":  "Let\u0027s help the party!",
                                       "page_id":  "1.1",
                                       "page_name":  "Trilhos",
                                       "style":  "minecraft.css"
                                   }
                 },
    "nbformat":  4,
    "nbformat_minor":  2
}
