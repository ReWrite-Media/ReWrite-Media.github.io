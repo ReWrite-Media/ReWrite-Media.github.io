﻿{
    "cells":  [
                  {
                      "cell_type":  "markdown",
                      "metadata":  {

                                   },
                      "source":  [
                                     "# Bescherm de bieten\n",
                                     "Er blijft iets in de tuin komen dat de bieten steelt. Laat de Agent een omheining rond de boerderij bouwen om de bieten te beschermen. Gebruik \u0027agent.give()\u0027 om de Agent \u0027iron_bars\u0027 te geven, \u0027agent.place()\u0027 te geven om de \u0027iron_bars\u0027 te plaatsen, \u0027agent.turn()\u0027 om de Agent te laten draaien en \u0027agent.move()\u0027 om de Agent door de tuin te verplaatsen.\n",
                                     "\n",
                                     "De functie \u0027agent.give()\u0027 accepteert drie parameters.  \n",
                                     "\n",
                                     "- voorwerp (*tekenreeks*): het inventarisvak waar de Agent het voorwerp ontvangt.\n",
                                     "- aantal (*geheel getal*): hoeveel voorwerpen de Agent ontvangt.\n",
                                     "- vak (*geheel getal*): in welk inventarisvak de Agent het voorwerp ontvangt.\n",
                                     "\n",
                                     "De functie \u0027agent.place()\u0027 accepteert twee parameters.  \n",
                                     "\n",
                                     "- vaknummer (*geheel getal*): welk inventarisvak de Agent moet gebruiken.\n",
                                     "- richting (*tekenreeks*): in welke richting je wilt dat de Agent het voorwerpen plaatst.\n",
                                     "    - Geldige richtingen zijn: \n",
                                     "        - naar voren\n",
                                     "        - naar achteren\n",
                                     "        - naar links\n",
                                     "        - naar rechts\n",
                                     "        - omhoog\n",
                                     "        - omlaag\n",
                                     "\n"
                                 ]
                  },
                  {
                      "cell_type":  "code",
                      "execution_count":  null,
                      "metadata":  {
                                       "minecraft":  {
                                                         "closeCodeBuilderOnRun":  true,
                                                         "readonly":  true
                                                     }
                                   },
                      "outputs":  [

                                  ],
                      "source":  [
                                     "# this will move the Agent forward one block\n",
                                     "# give the Agent iron_bars, and then place \n",
                                     "# the iron_bars below it.\n",
                                     "agent.move(\"forward\")\n",
                                     "agent.give(\"iron_bars\", 2, 1)\n",
                                     "agent.place(1, \"down\")"
                                 ]
                  },
                  {
                      "cell_type":  "markdown",
                      "metadata":  {

                                   },
                      "source":  [
                                     "De functie \u0027agent.move()\u0027 accepteert één parameter: richting.\n",
                                     "\n",
                                     "Geldige richtingen zijn: \n",
                                     "- naar voren\n",
                                     "- naar achteren\n",
                                     "- naar links\n",
                                     "- naar rechts\n",
                                     "- omhoog\n",
                                     "- omlaag\n",
                                     "\n",
                                     "De functie \u0027agent.turn()\u0027 accepteert één parameter: turn_direction.\n",
                                     "\n",
                                     "Geldige richtingen zijn: \n",
                                     "- naar links\n",
                                     "- naar rechts"
                                 ]
                  },
                  {
                      "cell_type":  "code",
                      "execution_count":  null,
                      "metadata":  {
                                       "minecraft":  {
                                                         "closeCodeBuilderOnRun":  true,
                                                         "readonly":  true
                                                     }
                                   },
                      "outputs":  [

                                  ],
                      "source":  [
                                     "# move the Agent forward one block.\n",
                                     "agent.move(\"forward\")\n",
                                     "# move the Agent backward one block.\n",
                                     "agent.move(\"back\")\n",
                                     "# move the Agent left one block.\n",
                                     "agent.move(\"left\")\n",
                                     "# move the Agent right one block.\n",
                                     "agent.move(\"right\")\n",
                                     "\n",
                                     "# this will turn the Agent right\n",
                                     "agent.turn(\"right\")\n",
                                     "# this will turn the Agent left\n",
                                     "agent.turn(\"left\")"
                                 ]
                  },
                  {
                      "cell_type":  "markdown",
                      "metadata":  {

                                   },
                      "source":  [
                                     "# Protip:\n",
                                     "Gebruik een \u0027for\u0027-lus om een groep acties meerdere keren uit te voeren."
                                 ]
                  },
                  {
                      "cell_type":  "code",
                      "execution_count":  null,
                      "metadata":  {
                                       "minecraft":  {
                                                         "closeCodeBuilderOnRun":  true,
                                                         "readonly":  true
                                                     }
                                   },
                      "outputs":  [

                                  ],
                      "source":  [
                                     "# this code will move the Agent forward\n",
                                     "# and place iron_bars below it five times\n",
                                     "for i in range(5):\n",
                                     "    agent.move(\"forward\")\n",
                                     "    agent.give(\"iron_bars\", 2, 1)\n",
                                     "    agent.place(1, \"down\")"
                                 ]
                  },
                  {
                      "cell_type":  "markdown",
                      "metadata":  {

                                   },
                      "source":  [
                                     "# Activiteit:\n",
                                     "Plaats ijzeren stangen tussen de steenblokken rondom de bietentuin. \n",
                                     "\n",
                                     "**Opmerking: je kunt de activiteit opnieuw instellen door met de NPC te spreken of met de knop Activiteit opnieuw instellen.**"
                                 ]
                  },
                  {
                      "cell_type":  "code",
                      "execution_count":  null,
                      "metadata":  {
                                       "minecraft":  {
                                                         "closeCodeBuilderOnRun":  true,
                                                         "default_code":  "# code here\n\n\n",
                                                         "resetWorldCommand":  "execute @e[tag=game] ~ ~ ~ function act/4/reset"
                                                     }
                                   },
                      "outputs":  [

                                  ],
                      "source":  [
                                     "# code here\n",
                                     "\n",
                                     "\n"
                                 ]
                  }
              ],
    "metadata":  {
                     "celltoolbar":  "Edit Metadata",
                     "kernelspec":  {
                                        "display_name":  "Python 3",
                                        "language":  "python",
                                        "name":  "python3"
                                    },
                     "language_info":  {
                                           "codemirror_mode":  {
                                                                   "name":  "ipython",
                                                                   "version":  3
                                                               },
                                           "file_extension":  ".py",
                                           "mimetype":  "text/x-python",
                                           "name":  "python",
                                           "nbconvert_exporter":  "python",
                                           "pygments_lexer":  "ipython3",
                                           "version":  "3.8.6"
                                       },
                     "minecraft":  {
                                       "description":  "Protect those beets",
                                       "page_id":  "1.1",
                                       "page_name":  "Beets",
                                       "style":  "minecraft.css"
                                   }
                 },
    "nbformat":  4,
    "nbformat_minor":  2
}
