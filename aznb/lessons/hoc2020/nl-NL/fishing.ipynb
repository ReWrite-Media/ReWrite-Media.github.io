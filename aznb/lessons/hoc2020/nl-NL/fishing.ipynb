﻿{
    "cells":  [
                  {
                      "cell_type":  "markdown",
                      "metadata":  {

                                   },
                      "source":  [
                                     "# Bouw een kade\n",
                                     "Voordat de verschoppelingen de dorpelingen kunnen leren vissen, hebben ze een kade nodig. Bouw de omtrek van de kade met behulp van \u0027agent.give()\u0027 om de Agent een blok te geven om te plaatsen, \u0027agent.place()\u0027 om het blok te plaatsen, \u0027agent.turn()\u0027 om de Agent te laten draaien en \u0027agent.move()\u0027 om de Agent te verplaatsen.\n",
                                     "\n",
                                     "De functie \u0027agent.give()\u0027 accepteert drie parameters.  \n",
                                     "\n",
                                     "- voorwerp (*tekenreeks*): het voorwerp dat je de Agent wilt geven.\n",
                                     "- aantal (*geheel getal*): hoeveel voorwerpen de Agent ontvangt.\n",
                                     "- vak (*geheel getal*): het inventarisvak waarin de Agent het voorwerp ontvangt.\n",
                                     "\n",
                                     "De functie \u0027agent.place()\u0027 accepteert twee parameters.  \n",
                                     "\n",
                                     "- vaknummer (*geheel getal*): welk inventarisvak de Agent moet gebruiken.\n",
                                     "- richting (*tekenreeks*): in welke richting je wilt dat de Agent het voorwerpen plaatst.\n",
                                     "    - Geldige richtingen zijn: \n",
                                     "        - naar voren\n",
                                     "        - naar achteren\n",
                                     "        - naar links\n",
                                     "        - naar rechts\n",
                                     "        - omhoog\n",
                                     "        - omlaag"
                                 ]
                  },
                  {
                      "cell_type":  "code",
                      "execution_count":  null,
                      "metadata":  {
                                       "minecraft":  {
                                                         "closeCodeBuilderOnRun":  true,
                                                         "readonly":  true
                                                     }
                                   },
                      "outputs":  [

                                  ],
                      "source":  [
                                     "# hiermee geef je de Agent twee planken\n",
                                     "# beweegt hij één vak vooruit\n",
                                     "# en plaatst hij een plank onder zich\n",
                                     "agent.give(\"planks\", 2, 1)\n",
                                     "agent.move(\"forward\")\n",
                                     "agent.place(1,\"down\")"
                                 ]
                  },
                  {
                      "cell_type":  "markdown",
                      "metadata":  {

                                   },
                      "source":  [
                                     "De functie \u0027agent.move()\u0027 accepteert één parameter: richting.\n",
                                     "\n",
                                     "Geldige richtingen zijn: \n",
                                     "- naar voren\n",
                                     "- naar achteren\n",
                                     "- naar links\n",
                                     "- naar rechts\n",
                                     "- omhoog\n",
                                     "- omlaag\n",
                                     "\n",
                                     "De functie \u0027agent.turn()\u0027 accepteert één parameter: turn_direction.\n",
                                     "\n",
                                     "Geldige richtingen zijn: \n",
                                     "- naar links\n",
                                     "- naar rechts"
                                 ]
                  },
                  {
                      "cell_type":  "code",
                      "execution_count":  null,
                      "metadata":  {
                                       "minecraft":  {
                                                         "closeCodeBuilderOnRun":  true,
                                                         "readonly":  true
                                                     }
                                   },
                      "outputs":  [

                                  ],
                      "source":  [
                                     "# verplaats de Agent één blok vooruit.\n",
                                     "agent.move(\"forward\")\n",
                                     "# verplaats de Agent één blok achteruit.\n",
                                     "agent.move(\"back\")\n",
                                     "# verplaats de Agent één blok naar links.\n",
                                     "agent.move(\"left\")\n",
                                     "# verplaats de Agent één blok naar rechts.\n",
                                     "agent.move(\"right\")\n",
                                     "\n",
                                     "# hiermee draait de Agent naar rechts\n",
                                     "agent.turn(\"right\")\n",
                                     "# hiermee draait de Agent naar links\n",
                                     "agent.turn(\"left\")"
                                 ]
                  },
                  {
                      "cell_type":  "markdown",
                      "metadata":  {

                                   },
                      "source":  [
                                     "# Protip:\n",
                                     "Gebruik een \u0027for\u0027-lus om een groep acties meerdere keren uit te voeren."
                                 ]
                  },
                  {
                      "cell_type":  "code",
                      "execution_count":  null,
                      "metadata":  {
                                       "minecraft":  {
                                                         "closeCodeBuilderOnRun":  true,
                                                         "readonly":  true
                                                     }
                                   },
                      "outputs":  [

                                  ],
                      "source":  [
                                     "# met deze code beweegt de Agent vooruit\n",
                                     "# en plaats hij vijf keer een plank onder zich\n",
                                     "for i in range(5):\n",
                                     "    agent.move(\"forward\")\n",
                                     "    agent.give(\"planks\", 2, 1)\n",
                                     "    agent.place(1, \"down\")"
                                 ]
                  },
                  {
                      "cell_type":  "markdown",
                      "metadata":  {

                                   },
                      "source":  [
                                     "# Activiteit:\n",
                                     "Bouw de omtrek van een kade die zich uitstrekt vanaf de keistenen, en 6 blokken lang en 4 blokken breed is.\n",
                                     "\n",
                                     "**Opmerking: je kunt de activiteit opnieuw instellen door met de NPC te spreken of met de knop Activiteit opnieuw instellen.**"
                                 ]
                  },
                  {
                      "cell_type":  "code",
                      "execution_count":  null,
                      "metadata":  {
                                       "minecraft":  {
                                                         "closeCodeBuilderOnRun":  true,
                                                         "default_code":  "# code here\n\n\n",
                                                         "resetWorldCommand":  "execute @e[tag=game] ~ ~ ~ function act/2/reset"
                                                     }
                                   },
                      "outputs":  [

                                  ],
                      "source":  [
                                     "# code hier\n",
                                     "\n",
                                     "\n"
                                 ]
                  }
              ],
    "metadata":  {
                     "celltoolbar":  "Edit Metadata",
                     "kernelspec":  {
                                        "display_name":  "Python 3",
                                        "language":  "python",
                                        "name":  "python3"
                                    },
                     "language_info":  {
                                           "codemirror_mode":  {
                                                                   "name":  "ipython",
                                                                   "version":  3
                                                               },
                                           "file_extension":  ".py",
                                           "mimetype":  "text/x-python",
                                           "name":  "python",
                                           "nbconvert_exporter":  "python",
                                           "pygments_lexer":  "ipython3",
                                           "version":  "3.8.6"
                                       },
                     "minecraft":  {
                                       "description":  "Let\u0027s learn fishing!",
                                       "page_id":  "1.1",
                                       "page_name":  "Vissen",
                                       "style":  "minecraft.css"
                                   }
                 },
    "nbformat":  4,
    "nbformat_minor":  2
}
