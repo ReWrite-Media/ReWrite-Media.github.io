﻿{
    "cells":  [
                  {
                      "cell_type":  "markdown",
                      "metadata":  {

                                   },
                      "source":  [
                                     "#ビートを守ろう\n",
                                     "何かが庭に侵入してビートを盗んでいきます。Agent に農場の周囲に柵を構築させてビートを守ってください。\u0027agent.give()\u0027 を使用して Agent に \u0027iron_bars\u0027 を与え、\u0027agent.place()\u0027 で iron_bars を配置し、\u0027agent.turn()\u0027 で Agent を回転させ \u0027agent.move()\u0027 で Agent を畑の周囲に移動させてください。\n",
                                     "\n",
                                     "\u0027agent.give()\u0027 関数は 3 つの引数を受け取ります。  \n",
                                     "\n",
                                     "- アイテム (*文字列*): Agent がアイテムを受け取るインベントリー スロット。\n",
                                     "- カウント (*整数*): Agent が受け取るアイテムの数。\n",
                                     "- スロット (*整数*): Agent がアイテムを受け取るインベントリー スロット。\n",
                                     "\n",
                                     "\u0027agent.place()\u0027 関数は 2 つの引数を受け取ります。  \n",
                                     "\n",
                                     "- スロット番号 (*整数*): Agent が使用するインベントリー スロット。\n",
                                     "- 方向 (*文字列*): Agent がアイテムを配置する方向。\n",
                                     "- 有効な方向は次の通りです:\n",
                                     "       - 前\n",
                                     "       - 後ろ\n",
                                     "        -左\n",
                                     "       - 右\n",
                                     "       - 上\n",
                                     "       - 下\n",
                                     "\n"
                                 ]
                  },
                  {
                      "cell_type":  "code",
                      "execution_count":  null,
                      "metadata":  {
                                       "minecraft":  {
                                                         "closeCodeBuilderOnRun":  true,
                                                         "readonly":  true
                                                     }
                                   },
                      "outputs":  [

                                  ],
                      "source":  [
                                     "# this will move the Agent forward one block\n",
                                     "# give the Agent iron_bars, and then place \n",
                                     "# the iron_bars below it.\n",
                                     "agent.move(\"forward\")\n",
                                     "agent.give(\"iron_bars\", 2, 1)\n",
                                     "agent.place(1, \"down\")"
                                 ]
                  },
                  {
                      "cell_type":  "markdown",
                      "metadata":  {

                                   },
                      "source":  [
                                     "\u0027agent.move()\u0027 関数は引数 direction を受け取ります。\n",
                                     "\n",
                                     "有効な方向は次の通りです:\n",
                                     "- 前\n",
                                     "- 後ろ\n",
                                     "- 左\n",
                                     "- 右\n",
                                     "- 上\n",
                                     "- 下\n",
                                     "\n",
                                     "\u0027agent.turn()\u0027 関数は引数 turn_direction を受け取ります。\n",
                                     "\n",
                                     "有効な方向は次の通りです:\n",
                                     "- 左\n",
                                     "- 右"
                                 ]
                  },
                  {
                      "cell_type":  "code",
                      "execution_count":  null,
                      "metadata":  {
                                       "minecraft":  {
                                                         "closeCodeBuilderOnRun":  true,
                                                         "readonly":  true
                                                     }
                                   },
                      "outputs":  [

                                  ],
                      "source":  [
                                     "# move the Agent forward one block.\n",
                                     "agent.move(\"forward\")\n",
                                     "# move the Agent backward one block.\n",
                                     "agent.move(\"back\")\n",
                                     "# move the Agent left one block.\n",
                                     "agent.move(\"left\")\n",
                                     "# move the Agent right one block.\n",
                                     "agent.move(\"right\")\n",
                                     "\n",
                                     "# this will turn the Agent right\n",
                                     "agent.turn(\"right\")\n",
                                     "# this will turn the Agent left\n",
                                     "agent.turn(\"left\")"
                                 ]
                  },
                  {
                      "cell_type":  "markdown",
                      "metadata":  {

                                   },
                      "source":  [
                                     "#プロのヒント:\n",
                                     "\u0027for\u0027 ループを使用すれば、アクションのグループを複数回実行できます。"
                                 ]
                  },
                  {
                      "cell_type":  "code",
                      "execution_count":  null,
                      "metadata":  {
                                       "minecraft":  {
                                                         "closeCodeBuilderOnRun":  true,
                                                         "readonly":  true
                                                     }
                                   },
                      "outputs":  [

                                  ],
                      "source":  [
                                     "# this code will move the Agent forward\n",
                                     "# and place iron_bars below it five times\n",
                                     "for i in range(5):\n",
                                     "    agent.move(\"forward\")\n",
                                     "    agent.give(\"iron_bars\", 2, 1)\n",
                                     "    agent.place(1, \"down\")"
                                 ]
                  },
                  {
                      "cell_type":  "markdown",
                      "metadata":  {

                                   },
                      "source":  [
                                     "# アクティビティー:\n",
                                     "鉄のバーをビート畑の周囲にある石ブロックの間に置いてください。\n",
                                     "\n",
                                     "**注: アクティビティーをリセットするには NPC に話しかけるか、世界のリセット ボタンを使用してください。**"
                                 ]
                  },
                  {
                      "cell_type":  "code",
                      "execution_count":  null,
                      "metadata":  {
                                       "minecraft":  {
                                                         "closeCodeBuilderOnRun":  true,
                                                         "default_code":  "# code here\n\n\n",
                                                         "resetWorldCommand":  "execute @e[tag=game] ~ ~ ~ function act/4/reset"
                                                     }
                                   },
                      "outputs":  [

                                  ],
                      "source":  [
                                     "# code here\n",
                                     "\n",
                                     "\n"
                                 ]
                  }
              ],
    "metadata":  {
                     "celltoolbar":  "Edit Metadata",
                     "kernelspec":  {
                                        "display_name":  "Python 3",
                                        "language":  "python",
                                        "name":  "python3"
                                    },
                     "language_info":  {
                                           "codemirror_mode":  {
                                                                   "name":  "ipython",
                                                                   "version":  3
                                                               },
                                           "file_extension":  ".py",
                                           "mimetype":  "text/x-python",
                                           "name":  "python",
                                           "nbconvert_exporter":  "python",
                                           "pygments_lexer":  "ipython3",
                                           "version":  "3.8.6"
                                       },
                     "minecraft":  {
                                       "description":  "Protect those beets",
                                       "page_id":  "1.1",
                                       "page_name":  "Beets",
                                       "style":  "minecraft.css"
                                   }
                 },
    "nbformat":  4,
    "nbformat_minor":  2
}
