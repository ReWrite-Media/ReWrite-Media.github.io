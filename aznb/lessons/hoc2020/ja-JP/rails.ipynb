﻿{
    "cells":  [
                  {
                      "cell_type":  "markdown",
                      "metadata":  {

                                   },
                      "source":  [
                                     "# 町をつなげる\n",
                                     "村人たちがほとんど見本市に来ないので、邪悪な村人たちは自分たちが嫌われているのではないかと感じています。村人が来ない理由は、彼らが町の間にそびえる丘を登れないからです。`agent.give()` を使用して Agent にトロッコの `rail` を与えて、`agent.place()` で 2 つの町の間に鉱山カート鉄道を作りましょう。\n",
                                     "\n",
                                     "`agent.give()` 関数は 3 つの引数を受け取ります。  \n",
                                     "\n",
                                     "- アイテム (*文字列*): Agentに与えるアイテム。\n",
                                     "- カウント (*整数*): Agent が受け取るアイテムの数。\n",
                                     "- スロット (*整数*): Agent がアイテムを受け取るインベントリー スロット。\n",
                                     "\n",
                                     "`agent.place()` 関数は 2 つの引数を受け取ります。  \n",
                                     "\n",
                                     "- スロット番号 (*整数*): Agent が使用するインベントリー スロット。\n",
                                     "- 方向 (*文字列*): Agent がアイテムを配置する方向。\n",
                                     "- 有効な方向は次の通りです:\n",
                                     "        - forward\n",
                                     "        - back\n",
                                     "        - left\n",
                                     "        - right\n",
                                     "        - up\n",
                                     "        - down"
                                 ]
                  },
                  {
                      "cell_type":  "code",
                      "execution_count":  null,
                      "metadata":  {
                                       "minecraft":  {
                                                         "closeCodeBuilderOnRun":  true,
                                                         "readonly":  true
                                                     }
                                   },
                      "outputs":  [

                                  ],
                      "source":  [
                                     "#これは Agent にレールを 2 枚与え\n",
                                     "#その後、1つを足元に置き、前進する\n",
                                     "agent.give(\"rail\", 2, 1)\n",
                                     "agent.place(1, \"down\")\n",
                                     "agent.move(\"forward\")\n",
                                     "\n"
                                 ]
                  },
                  {
                      "cell_type":  "markdown",
                      "metadata":  {

                                   },
                      "source":  [
                                     "`agent.move()` 関数は引数 direction を受け取ります。\n",
                                     "\n",
                                     "有効な方向は次の通りです:\n",
                                     "- forward\n",
                                     "- back\n",
                                     "- left\n",
                                     "- right\n",
                                     "- up\n",
                                     "- down"
                                 ]
                  },
                  {
                      "cell_type":  "code",
                      "execution_count":  null,
                      "metadata":  {
                                       "minecraft":  {
                                                         "closeCodeBuilderOnRun":  true,
                                                         "readonly":  true
                                                     }
                                   },
                      "outputs":  [

                                  ],
                      "source":  [
                                     "#Agent を 1 ブロック前に進める。\n",
                                     "agent.move(\"forward\")\n",
                                     "#Agent を 1 ブロック後方に進める。\n",
                                     "agent.move(\"back\")\n",
                                     "#Agent を 1 ブロック左に進める。\n",
                                     "agent.move(\"left\")\n",
                                     "#Agentを 1 ブロック右に進める。\n",
                                     "agent.move(\"right\")\n"
                                 ]
                  },
                  {
                      "cell_type":  "markdown",
                      "metadata":  {

                                   },
                      "source":  [
                                     "#プロのヒント:\n",
                                     "`for` ループを使用すれば、アクションのグループを複数回実行できます。"
                                 ]
                  },
                  {
                      "cell_type":  "code",
                      "execution_count":  null,
                      "metadata":  {
                                       "minecraft":  {
                                                         "closeCodeBuilderOnRun":  true,
                                                         "readonly":  true
                                                     }
                                   },
                      "outputs":  [

                                  ],
                      "source":  [
                                     "#このコードは Agent が\n",
                                     "#足元にレールを配置し、前方に移動する。\n",
                                     "#これは 4 回繰り返す。\n",
                                     "for i in range(4):\n",
                                     "    agent.give(\"rail\", 2, 1)\n",
                                     "    agent.place(1, \"down\")\n",
                                     "    agent.move(\"forward\")"
                                 ]
                  },
                  {
                      "cell_type":  "markdown",
                      "metadata":  {

                                   },
                      "source":  [
                                     "# アクティビティー:\n",
                                     "2 本の木と石柱の間にあるトンネル内に鉄道を作成してください。\n",
                                     "\n",
                                     "**注: アクティビティーをリセットするには NPC に話しかけるか、[アクティビティーをリセット] ボタンを使用してください。**"
                                 ]
                  },
                  {
                      "cell_type":  "code",
                      "execution_count":  null,
                      "metadata":  {
                                       "minecraft":  {
                                                         "closeCodeBuilderOnRun":  true,
                                                         "default_code":  "# code here\n\n\n",
                                                         "resetWorldCommand":  "execute @e[tag=game] ~ ~ ~ function act/7/reset"
                                                     }
                                   },
                      "outputs":  [

                                  ],
                      "source":  [
                                     "#コードは以下\n",
                                     "\n",
                                     "\n"
                                 ]
                  }
              ],
    "metadata":  {
                     "celltoolbar":  "Edit Metadata",
                     "kernelspec":  {
                                        "display_name":  "Python 3",
                                        "language":  "python",
                                        "name":  "python3"
                                    },
                     "language_info":  {
                                           "codemirror_mode":  {
                                                                   "name":  "ipython",
                                                                   "version":  3
                                                               },
                                           "file_extension":  ".py",
                                           "mimetype":  "text/x-python",
                                           "name":  "python",
                                           "nbconvert_exporter":  "python",
                                           "pygments_lexer":  "ipython3",
                                           "version":  "3.8.6"
                                       },
                     "minecraft":  {
                                       "description":  "Let\u0027s help the party!",
                                       "page_id":  "1.1",
                                       "page_name":  "レール",
                                       "style":  "minecraft.css"
                                   }
                 },
    "nbformat":  4,
    "nbformat_minor":  2
}
