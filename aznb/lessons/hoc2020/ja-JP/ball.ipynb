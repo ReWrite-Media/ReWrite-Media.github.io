﻿{
    "cells":  [
                  {
                      "cell_type":  "markdown",
                      "metadata":  {

                                   },
                      "source":  [
                                     "# ボールをとろう\n",
                                     "\n",
                                     "村人のエレベーターのレバーが引っかかっているようです。`agent.move()` を使用して Agent を配置し、`agent.interact()` を使用してすべてのレバーを動かせば、村人は降りることができて子供のボールを戻してくれます。\n",
                                     "\n",
                                     "`agent.move()` 関数は引数 direction を受け取ります。\n",
                                     "\n",
                                     "有効な方向は次の通りです:\n",
                                     "- forward\n",
                                     "- back\n",
                                     "- left\n",
                                     "- right\n",
                                     "- up\n",
                                     "- down\n",
                                     "\n",
                                     "`agent.interact()` 関数は引数 direction を取ります。\n",
                                     "\n",
                                     "有効な方向は次の通りです:\n",
                                     "- forward\n",
                                     "- back\n",
                                     "- left\n",
                                     "- right\n",
                                     "- up\n",
                                     "- down\n"
                                 ]
                  },
                  {
                      "cell_type":  "code",
                      "execution_count":  null,
                      "metadata":  {
                                       "minecraft":  {
                                                         "closeCodeBuilderOnRun":  true,
                                                         "readonly":  true
                                                     }
                                   },
                      "outputs":  [

                                  ],
                      "source":  [
                                     "#Agent を1ブロック上に移動\n",
                                     "#前にあるレバーを動かす\n",
                                     "agent.move(\"up\")\n",
                                     "agent.interact(\"forward\")"
                                 ]
                  },
                  {
                      "cell_type":  "markdown",
                      "metadata":  {

                                   },
                      "source":  [
                                     "#プロのヒント:\n",
                                     "`for` ループを使用すれば、アクションのグループを複数回実行できます。"
                                 ]
                  },
                  {
                      "cell_type":  "code",
                      "execution_count":  null,
                      "metadata":  {
                                       "minecraft":  {
                                                         "closeCodeBuilderOnRun":  true,
                                                         "readonly":  true
                                                     }
                                   },
                      "outputs":  [

                                  ],
                      "source":  [
                                     "#このコードは Agent を右に動かす\n",
                                     "#3 度\n",
                                     "for i in range(3):\n",
                                     "    agent.move(\"right\")"
                                 ]
                  },
                  {
                      "cell_type":  "markdown",
                      "metadata":  {

                                   },
                      "source":  [
                                     "#アクティビティー:\n",
                                     "Agent を各レバーまで移動させて、インタラクトさせてレバーを動かせばエレベーターをオンにすることができます。\n",
                                     "\n",
                                     "**注: アクティビティーをリセットするには NPC に話しかけるか、[アクティビティーをリセット] ボタンを使用してください。**"
                                 ]
                  },
                  {
                      "cell_type":  "code",
                      "execution_count":  null,
                      "metadata":  {
                                       "minecraft":  {
                                                         "closeCodeBuilderOnRun":  true,
                                                         "default_code":  "# code here\n\n\n",
                                                         "resetWorldCommand":  "execute @e[tag=game] ~ ~ ~ function act/6/reset"
                                                     }
                                   },
                      "outputs":  [

                                  ],
                      "source":  [
                                     "#コードは以下\n",
                                     "\n",
                                     "\n"
                                 ]
                  }
              ],
    "metadata":  {
                     "celltoolbar":  "Edit Metadata",
                     "kernelspec":  {
                                        "display_name":  "Python 3",
                                        "language":  "python",
                                        "name":  "python3"
                                    },
                     "language_info":  {
                                           "codemirror_mode":  {
                                                                   "name":  "ipython",
                                                                   "version":  3
                                                               },
                                           "file_extension":  ".py",
                                           "mimetype":  "text/x-python",
                                           "name":  "python",
                                           "nbconvert_exporter":  "python",
                                           "pygments_lexer":  "ipython3",
                                           "version":  "3.8.6"
                                       },
                     "minecraft":  {
                                       "description":  "Help the kids overcome their bias",
                                       "page_id":  "1.1",
                                       "page_name":  "ボール",
                                       "style":  "minecraft.css"
                                   }
                 },
    "nbformat":  4,
    "nbformat_minor":  2
}
