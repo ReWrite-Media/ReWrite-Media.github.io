{
 "cells": [
  {
   "cell_type": "markdown",
   "metadata": {},
   "source": [
    "# Build a dock\n",
    "Before the Illagers can teach the Villagers how to fish, they need a dock to fish. Build the frame of the dock using `agent.give()` to give the Agent a block to place, `agent.place()` to place the block, `agent.turn()` to turn the Agent and `agent.move()` to move the Agent.\n",
    "\n",
    "The `agent.give()` function takes three parameters.  \n",
    "\n",
    "- item (*string*): The item you want to give the Agent.\n",
    "- count (*integer*): How many items the Agent will receive.\n",
    "- slot (*integer*): What inventory slot the Agent receives the item in.\n",
    "\n",
    "The `agent.place()` function takes two parameters.  \n",
    "\n",
    "- slot number (*integer*): What inventory slot the Agent should place from.\n",
    "- direction (*string*): The direction you want the Agent to place int.\n",
    "    - Valid directions are: \n",
    "        - forward, forwards\n",
    "        - back, backward, backwards\n",
    "        - left\n",
    "        - right\n",
    "        - up\n",
    "        - down"
   ]
  },
  {
   "cell_type": "code",
   "execution_count": null,
   "metadata": {
    "minecraft": {
     "closeCodeBuilderOnRun": true,
     "readonly": true
    }
   },
   "outputs": [],
   "source": [
    "# this will give the Agent two planks\n",
    "# move forward one space\n",
    "# and place a plank below\n",
    "agent.give(\"planks\", 2, 1)\n",
    "agent.move(\"forward\")\n",
    "agent.place(1,\"down\")"
   ]
  },
  {
   "cell_type": "markdown",
   "metadata": {},
   "source": [
    "The `agent.move()` function takes one parameter, direction.\n",
    "\n",
    "Valid directions are: \n",
    "- forward, forwards\n",
    "- back, backward, backwards\n",
    "- left\n",
    "- right\n",
    "- up\n",
    "- down\n",
    "\n",
    "The `agent.turn()` function takes one parameter, turn_direction.\n",
    "\n",
    "Valid directions are: \n",
    "- left\n",
    "- right"
   ]
  },
  {
   "cell_type": "code",
   "execution_count": null,
   "metadata": {
    "minecraft": {
     "closeCodeBuilderOnRun": true,
     "readonly": true
    }
   },
   "outputs": [],
   "source": [
    "# move the Agent forward one block.\n",
    "agent.move(\"forward\")\n",
    "# move the Agent backward one block.\n",
    "agent.move(\"backward\")\n",
    "# move the Agent left one block.\n",
    "agent.move(\"left\")\n",
    "# move the Agent right one block.\n",
    "agent.move(\"right\")\n",
    "\n",
    "# this will turn the Agent right\n",
    "agent.turn(\"right\")\n",
    "# this will turn the Agent left\n",
    "agent.turn(\"left\")"
   ]
  },
  {
   "cell_type": "markdown",
   "metadata": {},
   "source": [
    "# Pro Tip:\n",
    "Use a `for` loop to do a group of actions multiple times."
   ]
  },
  {
   "cell_type": "code",
   "execution_count": null,
   "metadata": {
    "minecraft": {
     "closeCodeBuilderOnRun": true,
     "readonly": true
    }
   },
   "outputs": [],
   "source": [
    "# this code will move the Agent forward\n",
    "# and place a plank under them five times\n",
    "for i in range(5):\n",
    "    agent.move(\"forward\")\n",
    "    agent.give(\"planks\", 2, 1)\n",
    "    agent.place(1, \"down\")"
   ]
  },
  {
   "cell_type": "markdown",
   "metadata": {},
   "source": [
    "# Activity:\n",
    "Create the outside edges of a dock extending from the cobblestone which is six blocks long and four blocks wide.\n",
    "\n",
    "**Note: You can reset the activity by speaking with the NPC or by using the Reset World button.**"
   ]
  },
  {
   "cell_type": "code",
   "execution_count": null,
   "metadata": {
    "minecraft": {
     "closeCodeBuilderOnRun": true,
     "default_code": "# code here\n\n\n",
     "resetWorldCommand": "execute @e[tag=game] ~ ~ ~ function act/2/reset"
    }
   },
   "outputs": [],
   "source": [
    "# code here\n",
    "\n",
    "\n"
   ]
  }
 ],
 "metadata": {
  "celltoolbar": "Edit Metadata",
  "kernelspec": {
   "display_name": "Python 3",
   "language": "python",
   "name": "python3"
  },
  "language_info": {
   "codemirror_mode": {
    "name": "ipython",
    "version": 3
   },
   "file_extension": ".py",
   "mimetype": "text/x-python",
   "name": "python",
   "nbconvert_exporter": "python",
   "pygments_lexer": "ipython3",
   "version": "3.8.6"
  },
  "minecraft": {
   "description": "Let's learn fishing!",
   "page_id": "1.1",
   "page_name": "Fishing",
   "style": "minecraft.css"
  }
 },
 "nbformat": 4,
 "nbformat_minor": 2
}
