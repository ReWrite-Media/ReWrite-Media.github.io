{
 "metadata": {
  "kernelspec": {
   "display_name": "Python 3",
   "language": "python",
   "name": "python3"
  },
  "language_info": {
   "codemirror_mode": {
    "name": "ipython",
    "version": 3
   },
   "file_extension": ".py",
   "mimetype": "text/x-python",
   "name": "python",
   "nbconvert_exporter": "python",
   "pygments_lexer": "ipython3",
   "version": "3.8.6"
  },
  "minecraft": {
   "description": "Let's learn fishing!",
   "page_id": "1.1",
   "page_name": "Fishing",
   "style": "minecraft.css"
  }
 },
 "nbformat": 4,
 "nbformat_minor": 2,
 "cells": [
  {
   "source": [
    "# Teach Fishing\n",
    "Before the illagers can teach the villagers how to fish, they need a dock to fish from. Build the frame of the dock using `agent.give()` to give the Agent a block to place, `agent.place()` to place the block, `agent.turn()` to turn the Agent and `agent.move()` to move the Agent.\n",
    "\n",
    "The `agent.give()` function takes three parameters.  \n",
    "\n",
    "- item (*string*): The item you want to give the Agent.\n",
    "- count (*integer*): The amount of items the Agent will receive.\n",
    "- slot (*integer*): What inventory slot the Agent receives the item in."
   ],
   "cell_type": "markdown",
   "metadata": {}
  },
  {
   "cell_type": "code",
   "execution_count": null,
   "metadata": {"minecraft":{ "readonly": true }},
   "outputs": [],
   "source": [
    "# this will give the Agent a single oak plank  \n",
    "# in the first slot of their inventory\n",
    "agent.give(\"plank\", 1, 1)"
   ]
  },
  {
   "source": [
    "The `agent.place()` function takes two parameters.  \n",
    "\n",
    "- slot number (*integer*): What inventory slot the Agent should place from.\n",
    "- direction (*string*): The direction you want the Agent to place int.\n",
    "    - Valid directions are: \n",
    "        - forward, forwards\n",
    "        - back, backward, backwards\n",
    "        - left\n",
    "        - right\n",
    "        - up\n",
    "        - down"
   ],
   "cell_type": "markdown",
   "metadata": {}
  },
  {
   "cell_type": "code",
   "execution_count": null,
   "metadata": {"minecraft":{ "readonly": true }},
   "outputs": [],
   "source": [
    "# this will place whatever is in \n",
    "# slot 1 under the Agent.\n",
    "agent.place(1,\"down\")"
   ]
  },
  {
   "source": [
    "The `agent.turn()` function takes on parameter, turn_direction.\n",
    "\n",
    "Valid directions are: \n",
    "- left\n",
    "- right"
   ],
   "cell_type": "markdown",
   "metadata": {}
  },
  {
   "cell_type": "code",
   "execution_count": null,
   "metadata": {"minecraft":{ "readonly": true }},
   "outputs": [],
   "source": [
    "# this will turn the Agent right\n",
    "agent.turn(\"right\")"
   ]
  },
  {
   "source": [
    "The `agent.move()` function takes one parameter, direction.\n",
    "\n",
    "Valid directions are: \n",
    "- forward, forwards\n",
    "- back, backward, backwards\n",
    "- left\n",
    "- right\n",
    "- up\n",
    "- down"
   ],
   "cell_type": "markdown",
   "metadata": {}
  },
  {
   "cell_type": "code",
   "execution_count": null,
   "metadata": {"minecraft":{ "readonly": true }},
   "outputs": [],
   "source": [
    "# move the Agent forward one block.\n",
    "agent.move(\"forward\")\n",
    "# move the Agent backward one block.\n",
    "agent.move(\"backward\")\n",
    "# move the Agent left one block.\n",
    "agent.move(\"left\")\n",
    "# move the Agent right one block.\n",
    "agent.move(\"right\")"
   ]
  },
  {
   "source": [
    "# Pro Tip:\n",
    "Use a `for` loop instead of sequencing to do a group of actions mulitple times."
   ],
   "cell_type": "markdown",
   "metadata": {}
  },
  {
   "cell_type": "code",
   "execution_count": null,
   "metadata": {"minecraft":{ "readonly": true }},
   "outputs": [],
   "source": [
    "# this code will move the Agent forward\n",
    "# and place a plank under them five times\n",
    "for i in range(5):\n",
    "    agent.move(\"forward\")\n",
    "    agent.give(\"plank\", 1, 1)\n",
    "    agent.place(1, \"down\")"
   ]
  },
  {
   "source": [
    "# Activity:\n",
    "Create the frame of a dock extending from the cobblestone which is six blocks long and four blocks wide.\n",
    "\n",
    "**Warning: Reset the activity by right-clicking the communicator or speaking with the NPC after running the example code.**"
   ],
   "cell_type": "markdown",
   "metadata": {}
  },
  {
   "cell_type": "code",
   "execution_count": null,
   "metadata": {"resetWorldCommand":"say not yet implemented"},
   "outputs": [],
   "source": [
    "# code here"
   ]
  }
 ]
}