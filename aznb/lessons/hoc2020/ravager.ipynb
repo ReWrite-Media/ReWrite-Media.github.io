{
 "metadata": {
  "kernelspec": {
   "display_name": "Python 3",
   "language": "python",
   "name": "python3"
  },
  "language_info": {
   "codemirror_mode": {
    "name": "ipython",
    "version": 3
   },
   "file_extension": ".py",
   "mimetype": "text/x-python",
   "name": "python",
   "nbconvert_exporter": "python",
   "pygments_lexer": "ipython3",
   "version": "3.8.6"
  },
  "minecraft": {
   "description": "Aww they're so cute!",
   "page_id": "1.1",
   "page_name": "Ravager",
   "style": "minecraft.css"
  }
 },
 "nbformat": 4,
 "nbformat_minor": 2,
 "cells": [
  {
   "source": [
    "# Introduce the Ravager\n",
    "Unlike the illagers, the villagers are afraid of ravagers. They see them as big scary beasts. The ravager trusts the Agent and will follow it. Introduce the ravager to the villagers by leading it around using `agent.move()`\n",
    "\n",
    "The `agent.move()` function takes one parameter, direction.\n",
    "\n",
    "Valid directions are: \n",
    "- forward, forwards\n",
    "- back, backward, backwards\n",
    "- left\n",
    "- right\n",
    "- up\n",
    "- down"
   ],
   "cell_type": "markdown",
   "metadata": {}
  },
  {
   "cell_type": "code",
   "execution_count": null,
   "metadata": {"minecraft":{ "readonly": true }},
   "outputs": [],
   "source": [
    "# move the Agent forward one block.\n",
    "agent.move(\"forward\")\n",
    "# move the Agent backward one block.\n",
    "agent.move(\"backward\")\n",
    "# move the Agent left one block.\n",
    "agent.move(\"left\")\n",
    "# move the Agent right one block.\n",
    "agent.move(\"right\")"
   ]
  },
  {
   "source": [
    "# Pro Tip:\n",
    "Use a `for` loop instead of sequencing `agent.move()` mulitple times."
   ],
   "cell_type": "markdown",
   "metadata": {}
  },
  {
   "cell_type": "code",
   "execution_count": null,
   "metadata": {"minecraft":{ "readonly": true }},
   "outputs": [],
   "source": [
    "# This code will move the Agent forward five times\n",
    "for i in range(5):\n",
    "    agent.move(\"forward\")"
   ]
  },
  {
   "source": [
    "# Activity:\n",
    "Lead the ravager by programming the Agent to walk up to each villager with an arrow above their head.  \n",
    "\n",
    "**Warning: Reset the activity by right-clicking the communicator or speaking with the NPC after running the example code.**\n"
   ],
   "cell_type": "markdown",
   "metadata": {}
  },
  {
   "cell_type": "code",
   "execution_count": null,
   "metadata": {"resetWorldCommand":"say not yet implemented"},
   "outputs": [],
   "source": [
    "# code here"
   ]
  }
 ]
}