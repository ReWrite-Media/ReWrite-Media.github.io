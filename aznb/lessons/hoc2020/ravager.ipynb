{
 "cells": [
  {
   "cell_type": "markdown",
   "metadata": {},
   "source": [
    "# Introduce the Ravager\n",
    "Unlike the Illagers, the Villagers are afraid of ravagers. They see them as big scary beasts. The ravager trusts the Agent and will follow it. Introduce the ravager to the Villagers by leading it around using `agent.move()`.\n",
    "\n",
    "The `agent.move()` function takes one parameter, direction.\n",
    "\n",
    "Valid directions are: \n",
    "- forward, forwards\n",
    "- back, backward, backwards\n",
    "- left\n",
    "- right\n",
    "- up\n",
    "- down\n",
    "\n",
    "The `agent.turn()` function takes one parameter, turn_direction.\n",
    "\n",
    "Valid directions are: \n",
    "- left\n",
    "- right"
   ]
  },
  {
   "cell_type": "code",
   "execution_count": null,
   "metadata": {
    "minecraft": {
     "readonly": true
    }
   },
   "outputs": [],
   "source": [
    "# move the Agent forward three blocks\n",
    "# and then come back to its starting location.\n",
    "agent.move(\"forward\")\n",
    "agent.move(\"forward\")\n",
    "agent.move(\"forward\")\n",
    "agent.turn(\"left\")\n",
    "agent.move(\"forward\")\n",
    "agent.turn(\"left\")\n",
    "agent.move(\"forward\")\n",
    "agent.move(\"forward\")\n",
    "agent.move(\"forward\")\n",
    "agent.turn(\"left\")\n",
    "agent.move(\"forward\")\n",
    "agent.turn(\"left\")"
   ]
  },
  {
   "cell_type": "markdown",
   "metadata": {},
   "source": [
    "# Pro Tip:\n",
    "Use a `for` loop to easily run `agent.move()` mulitple times."
   ]
  },
  {
   "cell_type": "code",
   "execution_count": null,
   "metadata": {
    "minecraft": {
     "readonly": true
    }
   },
   "outputs": [],
   "source": [
    "# This code will move the Agent forward five times\n",
    "for i in range(5):\n",
    "    agent.move(\"forward\")"
   ]
  },
  {
   "cell_type": "markdown",
   "metadata": {},
   "source": [
    "# Activity:\n",
    "Lead the ravager by programming the Agent to walk up to each villager with an arrow above their head.  \n",
    "\n",
    "**Note: You can reset the activity by speaking with the NPC or by using the Reset World button.**\n"
   ]
  },
  {
   "cell_type": "code",
   "execution_count": null,
   "metadata": {
    "minecraft": {
     "closeCodeBuilderOnRun": true,
     "default_code": "# code here\n\n\n",
     "resetWorldCommand": "execute @e[tag=game] ~ ~ ~ function act/3/reset"
    }
   },
   "outputs": [],
   "source": [
    "# code here\n",
    "\n",
    "\n"
   ]
  }
 ],
 "metadata": {
  "celltoolbar": "Edit Metadata",
  "kernelspec": {
   "display_name": "Python 3",
   "language": "python",
   "name": "python3"
  },
  "language_info": {
   "codemirror_mode": {
    "name": "ipython",
    "version": 3
   },
   "file_extension": ".py",
   "mimetype": "text/x-python",
   "name": "python",
   "nbconvert_exporter": "python",
   "pygments_lexer": "ipython3",
   "version": "3.8.6"
  },
  "minecraft": {
   "description": "Aww they're so cute!",
   "page_id": "1.1",
   "page_name": "Ravager",
   "style": "minecraft.css"
  }
 },
 "nbformat": 4,
 "nbformat_minor": 2
}
