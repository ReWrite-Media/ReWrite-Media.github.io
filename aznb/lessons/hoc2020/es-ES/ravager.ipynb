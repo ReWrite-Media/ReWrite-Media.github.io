﻿{
    "cells":  [
                  {
                      "cell_type":  "markdown",
                      "metadata":  {

                                   },
                      "source":  [
                                     "# Presentar al devastador\n",
                                     "A diferencia de los maldeanos, los aldeanos tienen miedo de los devastadores. Ayuda a los aldeanos a superar su miedo conociendo a un devastador. Utiliza el Agent para llevar al devastador a cada aldeano usando \u0027agent.move()\u0027.\n",
                                     "\n",
                                     "La función \u0027agent.move()\u0027 toma un parámetro, direction.\n",
                                     "\n",
                                     "Las direcciones válidas son: \n",
                                     "- adelante\n",
                                     "- atrás\n",
                                     "- izquierda\n",
                                     "- derecha\n",
                                     "- arriba\n",
                                     "- abajo\n",
                                     "\n",
                                     "La función \u0027agent.turn()\u0027 toma un parámetro, turn_direction.\n",
                                     "\n",
                                     "Las direcciones válidas son: \n",
                                     "- izquierda\n",
                                     "- derecha"
                                 ]
                  },
                  {
                      "cell_type":  "code",
                      "execution_count":  null,
                      "metadata":  {
                                       "minecraft":  {
                                                         "closeCodeBuilderOnRun":  true,
                                                         "readonly":  true
                                                     }
                                   },
                      "outputs":  [

                                  ],
                      "source":  [
                                     "# mover el Agent tres bloques hacia delante\n",
                                     "y luego hacerlo volver a su ubicación inicial.\n",
                                     "agent.move(\"forward\")\n",
                                     "agent.move(\"forward\")\n",
                                     "agent.move(\"forward\")\n",
                                     "agent.turn(\"left\")\n",
                                     "agent.move(\"forward\")\n",
                                     "agent.turn(\"left\")\n",
                                     "agent.move(\"forward\")\n",
                                     "agent.move(\"forward\")\n",
                                     "agent.move(\"forward\")\n",
                                     "agent.turn(\"left\")\n",
                                     "agent.move(\"forward\")\n",
                                     "agent.turn(\"left\")"
                                 ]
                  },
                  {
                      "cell_type":  "markdown",
                      "metadata":  {

                                   },
                      "source":  [
                                     "# Consejo Pro:\n",
                                     "Utiliza un bucle \u0027for\u0027 para ejecutar fácilmente \u0027agent.move()\u0027 varias veces."
                                 ]
                  },
                  {
                      "cell_type":  "code",
                      "execution_count":  null,
                      "metadata":  {
                                       "minecraft":  {
                                                         "closeCodeBuilderOnRun":  true,
                                                         "readonly":  true
                                                     }
                                   },
                      "outputs":  [

                                  ],
                      "source":  [
                                     "# este código moverá el Agent hacia delante cinco veces\n",
                                     "for i in range(5):\n",
                                     "    agent.move(\"forward\")"
                                 ]
                  },
                  {
                      "cell_type":  "markdown",
                      "metadata":  {

                                   },
                      "source":  [
                                     "# Actividad:\n",
                                     "Presenta al devastador a los aldeanos programando el Agent para que camine hacia cada aldeano con una flecha sobre su cabeza.\n",
                                     "\n",
                                     "**Nota: Puedes restablecer la actividad hablando con el NPC o utilizando el botón Restablecer actividad.**\n"
                                 ]
                  },
                  {
                      "cell_type":  "code",
                      "execution_count":  null,
                      "metadata":  {
                                       "minecraft":  {
                                                         "closeCodeBuilderOnRun":  true,
                                                         "default_code":  "# code here\n\n\n",
                                                         "resetWorldCommand":  "execute @e[tag=game] ~ ~ ~ function act/3/reset"
                                                     }
                                   },
                      "outputs":  [

                                  ],
                      "source":  [
                                     "# escribe el código aquí\n",
                                     "\n",
                                     "\n"
                                 ]
                  }
              ],
    "metadata":  {
                     "celltoolbar":  "Edit Metadata",
                     "kernelspec":  {
                                        "display_name":  "Python 3",
                                        "language":  "python",
                                        "name":  "python3"
                                    },
                     "language_info":  {
                                           "codemirror_mode":  {
                                                                   "name":  "ipython",
                                                                   "version":  3
                                                               },
                                           "file_extension":  ".py",
                                           "mimetype":  "text/x-python",
                                           "name":  "python",
                                           "nbconvert_exporter":  "python",
                                           "pygments_lexer":  "ipython3",
                                           "version":  "3.8.6"
                                       },
                     "minecraft":  {
                                       "description":  "Aww they\u0027re so cute!",
                                       "page_id":  "1.1",
                                       "page_name":  "Devastador",
                                       "style":  "minecraft.css"
                                   }
                 },
    "nbformat":  4,
    "nbformat_minor":  2
}
