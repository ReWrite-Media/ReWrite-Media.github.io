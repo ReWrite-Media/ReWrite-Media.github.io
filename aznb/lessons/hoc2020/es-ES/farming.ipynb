﻿{
    "cells":  [
                  {
                      "cell_type":  "markdown",
                      "metadata":  {

                                   },
                      "source":  [
                                     "# Construir una granja\n",
                                     "Los aldeanos se ofrecieron a enseñar a los maldeanos a cultivar, pero necesitan ayuda para preparar la tierra. Utiliza \u0027agent.till()\u0027 para hacer que el Agent are los 2 primeros surcos de tierra.\n",
                                     "\n",
                                     "La función \u0027agent.till()\u0027 toma un parámetro, direction.\n",
                                     "\n",
                                     "Las direcciones válidas son: \n",
                                     "- adelante\n",
                                     "- atrás\n",
                                     "- izquierda\n",
                                     "- derecha\n",
                                     "\n",
                                     "La función \u0027agent.move()\u0027 toma un parámetro, direction.\n",
                                     "\n",
                                     "Las direcciones válidas son: \n",
                                     "- adelante\n",
                                     "- atrás\n",
                                     "- izquierda\n",
                                     "- derecha\n",
                                     "- arriba\n",
                                     "- abajo"
                                 ]
                  },
                  {
                      "cell_type":  "code",
                      "execution_count":  null,
                      "metadata":  {
                                       "minecraft":  {
                                                         "closeCodeBuilderOnRun":  true,
                                                         "readonly":  true
                                                     }
                                   },
                      "outputs":  [

                                  ],
                      "source":  [
                                     "# mover el Agent un bloque hacia y labrar\n",
                                     "# el bloque detrás de él\n",
                                     "agent.move(\"forward\")\n",
                                     "agent.till(\"back\")"
                                 ]
                  },
                  {
                      "cell_type":  "markdown",
                      "metadata":  {

                                   },
                      "source":  [
                                     "La función \u0027agent.turn()\u0027 toma un parámetro, turn_direction.\n",
                                     "\n",
                                     "Las direcciones válidas son: \n",
                                     "- izquierda\n",
                                     "- derecha"
                                 ]
                  },
                  {
                      "cell_type":  "code",
                      "execution_count":  null,
                      "metadata":  {
                                       "minecraft":  {
                                                         "closeCodeBuilderOnRun":  true,
                                                         "readonly":  true
                                                     }
                                   },
                      "outputs":  [

                                  ],
                      "source":  [
                                     "# esto girará el Agent a la derecha\n",
                                     "agent.turn(\"right\")\n",
                                     "# esto girará el Agent a la izquierda\n",
                                     "agent.turn(\"left\")"
                                 ]
                  },
                  {
                      "cell_type":  "markdown",
                      "metadata":  {

                                   },
                      "source":  [
                                     "# Consejo Pro:\n",
                                     "Utiliza un bucle \u0027for\u0027 para realizar un grupo de acciones varias veces."
                                 ]
                  },
                  {
                      "cell_type":  "code",
                      "execution_count":  null,
                      "metadata":  {
                                       "minecraft":  {
                                                         "closeCodeBuilderOnRun":  true,
                                                         "readonly":  true
                                                     }
                                   },
                      "outputs":  [

                                  ],
                      "source":  [
                                     "# esto moverá el Agent hacia delante\n",
                                     "# y labrará detrás de él nueve veces\n",
                                     "for i in range(9):\n",
                                     "    agent.move(\"forward\")\n",
                                     "    agent.till(\"back\")"
                                 ]
                  },
                  {
                      "cell_type":  "markdown",
                      "metadata":  {

                                   },
                      "source":  [
                                     "# Actividad:\n",
                                     "Ara los dos primeros surcos de la granja.\n",
                                     "\n",
                                     "**Nota: Puedes restablecer la actividad hablando con el NPC o utilizando el botón Restablecer actividad.**"
                                 ]
                  },
                  {
                      "cell_type":  "code",
                      "execution_count":  null,
                      "metadata":  {
                                       "minecraft":  {
                                                         "closeCodeBuilderOnRun":  true,
                                                         "default_code":  "# code here\n\n\n",
                                                         "resetWorldCommand":  "execute @e[tag=game] ~ ~ ~ function act/5/reset"
                                                     }
                                   },
                      "outputs":  [

                                  ],
                      "source":  [
                                     "# escribe el código aquí\n",
                                     "\n",
                                     "\n"
                                 ]
                  }
              ],
    "metadata":  {
                     "celltoolbar":  "Edit Metadata",
                     "kernelspec":  {
                                        "display_name":  "Python 3",
                                        "language":  "python",
                                        "name":  "python3"
                                    },
                     "language_info":  {
                                           "codemirror_mode":  {
                                                                   "name":  "ipython",
                                                                   "version":  3
                                                               },
                                           "file_extension":  ".py",
                                           "mimetype":  "text/x-python",
                                           "name":  "python",
                                           "nbconvert_exporter":  "python",
                                           "pygments_lexer":  "ipython3",
                                           "version":  "3.8.6"
                                       },
                     "minecraft":  {
                                       "description":  "Let\u0027s learn farming!",
                                       "page_id":  "1.1",
                                       "page_name":  "Cultivar",
                                       "style":  "minecraft.css"
                                   }
                 },
    "nbformat":  4,
    "nbformat_minor":  2
}
