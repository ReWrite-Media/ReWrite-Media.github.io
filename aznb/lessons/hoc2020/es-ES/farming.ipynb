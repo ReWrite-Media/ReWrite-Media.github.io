﻿{
    "cells":  [
                  {
                      "cell_type":  "markdown",
                      "metadata":  {

                                   },
                      "source":  [
                                     "# Construir una granja\n",
                                     "Los aldeanos se ofrecieron a enseñar a los maldeanos a cultivar, pero necesitan ayuda para preparar la tierra. Utiliza \u0027agent.till()\u0027 para hacer que el Agent are los 2 primeros surcos de tierra.\n",
                                     "\n",
                                     "La función \u0027agent.till()\u0027 toma un parámetro, direction.\n",
                                     "\n",
                                     "Las direcciones válidas son: \n",
                                     "- adelante\n",
                                     "- atrás\n",
                                     "- izquierda\n",
                                     "- derecha\n",
                                     "\n",
                                     "La función \u0027agent.move()\u0027 toma un parámetro, direction.\n",
                                     "\n",
                                     "Las direcciones válidas son: \n",
                                     "- adelante\n",
                                     "- atrás\n",
                                     "- izquierda\n",
                                     "- derecha\n",
                                     "- arriba\n",
                                     "- abajo"
                                 ]
                  },
                  {
                      "cell_type":  "code",
                      "execution_count":  null,
                      "metadata":  {
                                       "minecraft":  {
                                                         "closeCodeBuilderOnRun":  true,
                                                         "readonly":  true
                                                     }
                                   },
                      "outputs":  [

                                  ],
                      "source":  [
                                     "# move the agent forward and till\n",
                                     "# the block behind it\n",
                                     "agent.move(\"forward\")\n",
                                     "agent.till(\"back\")"
                                 ]
                  },
                  {
                      "cell_type":  "markdown",
                      "metadata":  {

                                   },
                      "source":  [
                                     "La función \u0027agent.turn()\u0027 toma un parámetro, turn_direction.\n",
                                     "\n",
                                     "Las direcciones válidas son: \n",
                                     "- izquierda\n",
                                     "- derecha"
                                 ]
                  },
                  {
                      "cell_type":  "code",
                      "execution_count":  null,
                      "metadata":  {
                                       "minecraft":  {
                                                         "closeCodeBuilderOnRun":  true,
                                                         "readonly":  true
                                                     }
                                   },
                      "outputs":  [

                                  ],
                      "source":  [
                                     "# this will turn the Agent right\n",
                                     "agent.turn(\"right\")\n",
                                     "# this will turn the Agent left\n",
                                     "agent.turn(\"left\")"
                                 ]
                  },
                  {
                      "cell_type":  "markdown",
                      "metadata":  {

                                   },
                      "source":  [
                                     "# Consejo Pro:\n",
                                     "Utiliza un bucle \u0027for\u0027 para realizar un grupo de acciones varias veces."
                                 ]
                  },
                  {
                      "cell_type":  "code",
                      "execution_count":  null,
                      "metadata":  {
                                       "minecraft":  {
                                                         "closeCodeBuilderOnRun":  true,
                                                         "readonly":  true
                                                     }
                                   },
                      "outputs":  [

                                  ],
                      "source":  [
                                     "# this will move the agent forward\n",
                                     "# and till behind it nine times\n",
                                     "for i in range(9):\n",
                                     "    agent.move(\"forward\")\n",
                                     "    agent.till(\"back\")"
                                 ]
                  },
                  {
                      "cell_type":  "markdown",
                      "metadata":  {

                                   },
                      "source":  [
                                     "# Actividad:\n",
                                     "Ara los dos primeros surcos de la granja.\n",
                                     "\n",
                                     "**Nota: Puedes restablecer la actividad hablando con el NPC o utilizando el botón Restablecer actividad.**"
                                 ]
                  },
                  {
                      "cell_type":  "code",
                      "execution_count":  null,
                      "metadata":  {
                                       "minecraft":  {
                                                         "closeCodeBuilderOnRun":  true,
                                                         "default_code":  "# code here\n\n\n",
                                                         "resetWorldCommand":  "execute @e[tag=game] ~ ~ ~ function act/5/reset"
                                                     }
                                   },
                      "outputs":  [

                                  ],
                      "source":  [
                                     "# code here\n",
                                     "\n",
                                     "\n"
                                 ]
                  }
              ],
    "metadata":  {
                     "celltoolbar":  "Edit Metadata",
                     "kernelspec":  {
                                        "display_name":  "Python 3",
                                        "language":  "python",
                                        "name":  "python3"
                                    },
                     "language_info":  {
                                           "codemirror_mode":  {
                                                                   "name":  "ipython",
                                                                   "version":  3
                                                               },
                                           "file_extension":  ".py",
                                           "mimetype":  "text/x-python",
                                           "name":  "python",
                                           "nbconvert_exporter":  "python",
                                           "pygments_lexer":  "ipython3",
                                           "version":  "3.8.6"
                                       },
                     "minecraft":  {
                                       "description":  "Let\u0027s learn farming!",
                                       "page_id":  "1.1",
                                       "page_name":  "Farming",
                                       "style":  "minecraft.css"
                                   }
                 },
    "nbformat":  4,
    "nbformat_minor":  2
}
