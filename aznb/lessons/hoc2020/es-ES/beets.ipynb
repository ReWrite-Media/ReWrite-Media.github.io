﻿{
    "cells":  [
                  {
                      "cell_type":  "markdown",
                      "metadata":  {

                                   },
                      "source":  [
                                     "# Proteger la remolacha\n",
                                     "Algo sigue entrando en el jardín para llevarse la remolacha. Pide al Agent que cree un recinto alrededor de la granja para proteger las remolachas. Utiliza \u0027agent.give()\u0027 para dar al Agent \u0027iron_bars\u0027, \u0027agent.place()\u0027 para colocar las iron_bars, \u0027agent.turn()\u0027 para girar el Agent y \u0027agent.move()\u0027 para mover al Agent por el jardín.\n",
                                     "\n",
                                     "La función \u0027agent.give()\u0027 toma tres parámetros.  \n",
                                     "\n",
                                     "- item (*cadena*): la ranura de inventario donde el Agent recibe el objeto.\n",
                                     "- count (*entero*): número de objetos que recibirá el Agent.\n",
                                     "- slot (*entero*): la ranura del inventario en la que el Agent recibe el objeto.\n",
                                     "\n",
                                     "La función \u0027agent.place()\u0027 toma dos parámetros.  \n",
                                     "\n",
                                     "- slot number (*entero*): qué ranura de inventario debe usar el Agent.\n",
                                     "- direction (*cadena*): la dirección en la que deseas que el Agent coloque el objeto.\n",
                                     "    - Las direcciones válidas son: \n",
                                     "        - adelante\n",
                                     "        - atrás\n",
                                     "        - izquierda\n",
                                     "        - derecha\n",
                                     "        - arriba\n",
                                     "        - abajo\n",
                                     "\n"
                                 ]
                  },
                  {
                      "cell_type":  "code",
                      "execution_count":  null,
                      "metadata":  {
                                       "minecraft":  {
                                                         "closeCodeBuilderOnRun":  true,
                                                         "readonly":  true
                                                     }
                                   },
                      "outputs":  [

                                  ],
                      "source":  [
                                     "# esto moverá el Agent un bloque hacia delante\n",
                                     "# dar barras de hierro al Agent y luego colocar \n",
                                     "# las barras de hierro debajo de él.\n",
                                     "agent.move(\"forward\")\n",
                                     "agent.give(\"iron_bars\", 2, 1)\n",
                                     "agent.place(1, \"down\")"
                                 ]
                  },
                  {
                      "cell_type":  "markdown",
                      "metadata":  {

                                   },
                      "source":  [
                                     "La función \u0027agent.move()\u0027 toma un parámetro, direction.\n",
                                     "\n",
                                     "Las direcciones válidas son: \n",
                                     "- adelante\n",
                                     "- atrás\n",
                                     "- izquierda\n",
                                     "- derecha\n",
                                     "- arriba\n",
                                     "- abajo\n",
                                     "\n",
                                     "La función \u0027agent.turn()\u0027 toma un parámetro, turn_direction.\n",
                                     "\n",
                                     "Las direcciones válidas son: \n",
                                     "- izquierda\n",
                                     "- derecha"
                                 ]
                  },
                  {
                      "cell_type":  "code",
                      "execution_count":  null,
                      "metadata":  {
                                       "minecraft":  {
                                                         "closeCodeBuilderOnRun":  true,
                                                         "readonly":  true
                                                     }
                                   },
                      "outputs":  [

                                  ],
                      "source":  [
                                     "# mover el Agent un bloque hacia delante.\n",
                                     "agent.move(\"forward\")\n",
                                     "# mover el Agent un bloque hacia atrás.\n",
                                     "agent.move(\"back\")\n",
                                     "# mover el Agent un bloque hacia la izquierda.\n",
                                     "agent.move(\"left\")\n",
                                     "# mover el Agent un bloque hacia la derecha.\n",
                                     "agent.move(\"right\")\n",
                                     "\n",
                                     "# esto girará el Agent a la derecha\n",
                                     "agent.turn(\"right\")\n",
                                     "# esto girará el Agent a la izquierda\n",
                                     "agent.turn(\"left\")"
                                 ]
                  },
                  {
                      "cell_type":  "markdown",
                      "metadata":  {

                                   },
                      "source":  [
                                     "# Consejo Pro:\n",
                                     "Utiliza un bucle \u0027for\u0027 para realizar un grupo de acciones varias veces."
                                 ]
                  },
                  {
                      "cell_type":  "code",
                      "execution_count":  null,
                      "metadata":  {
                                       "minecraft":  {
                                                         "closeCodeBuilderOnRun":  true,
                                                         "readonly":  true
                                                     }
                                   },
                      "outputs":  [

                                  ],
                      "source":  [
                                     "# este código moverá el Agent hacia delante\n",
                                     "# y colocará barras de hierro debajo de él cinco veces\n",
                                     "for i in range(5):\n",
                                     "    agent.move(\"forward\")\n",
                                     "    agent.give(\"iron_bars\", 2, 1)\n",
                                     "    agent.place(1, \"down\")"
                                 ]
                  },
                  {
                      "cell_type":  "markdown",
                      "metadata":  {

                                   },
                      "source":  [
                                     "# Actividad:\n",
                                     "Coloca barras de hierro alrededor del jardín de remolacha entre los bloques de piedra. \n",
                                     "\n",
                                     "**Nota: Puedes restablecer la actividad hablando con el NPC o utilizando el botón Restablecer actividad.**"
                                 ]
                  },
                  {
                      "cell_type":  "code",
                      "execution_count":  null,
                      "metadata":  {
                                       "minecraft":  {
                                                         "closeCodeBuilderOnRun":  true,
                                                         "default_code":  "# code here\n\n\n",
                                                         "resetWorldCommand":  "execute @e[tag=game] ~ ~ ~ function act/4/reset"
                                                     }
                                   },
                      "outputs":  [

                                  ],
                      "source":  [
                                     "# escribe el código aquí\n",
                                     "\n",
                                     "\n"
                                 ]
                  }
              ],
    "metadata":  {
                     "celltoolbar":  "Edit Metadata",
                     "kernelspec":  {
                                        "display_name":  "Python 3",
                                        "language":  "python",
                                        "name":  "python3"
                                    },
                     "language_info":  {
                                           "codemirror_mode":  {
                                                                   "name":  "ipython",
                                                                   "version":  3
                                                               },
                                           "file_extension":  ".py",
                                           "mimetype":  "text/x-python",
                                           "name":  "python",
                                           "nbconvert_exporter":  "python",
                                           "pygments_lexer":  "ipython3",
                                           "version":  "3.8.6"
                                       },
                     "minecraft":  {
                                       "description":  "Protect those beets",
                                       "page_id":  "1.1",
                                       "page_name":  "Remolachas",
                                       "style":  "minecraft.css"
                                   }
                 },
    "nbformat":  4,
    "nbformat_minor":  2
}
