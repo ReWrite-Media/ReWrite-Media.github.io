﻿{
    "cells":  [
                  {
                      "cell_type":  "markdown",
                      "metadata":  {

                                   },
                      "source":  [
                                     "# Esittele tuhokylvyri\n",
                                     "Toisin kuin pahalaiset, kyläläiset pelkäävät tuhokylvyreitä. Auta kyläläisiä pääsemään yli ennakkoasenteestaan tapaamalla tuhokylvyrin. Ohjeista Agent viemään tuhokylvyri kunkin kyläläisen luo toiminnolla agent.move().\n",
                                     "\n",
                                     "Agent.move()-toiminto käyttää yhtä parametria: direction.\n",
                                     "\n",
                                     "Kelvollisia suuntia ovat: \n",
                                     "- eteenpäin\n",
                                     "- taaksepäin\n",
                                     "- vasemmalle\n",
                                     "- oikealle\n",
                                     "- ylös\n",
                                     "- alas\n",
                                     "\n",
                                     "Agent.turn()-toiminto käyttää yhtä parametria: turn_direction,\n",
                                     "\n",
                                     "Kelvollisia suuntia ovat: \n",
                                     "- vasemmalle\n",
                                     "- oikealle"
                                 ]
                  },
                  {
                      "cell_type":  "code",
                      "execution_count":  null,
                      "metadata":  {
                                       "minecraft":  {
                                                         "closeCodeBuilderOnRun":  true,
                                                         "readonly":  true
                                                     }
                                   },
                      "outputs":  [

                                  ],
                      "source":  [
                                     "# move the Agent forward three blocks\n",
                                     "# and then come back to its starting location.\n",
                                     "agent.move(\"forward\")\n",
                                     "agent.move(\"forward\")\n",
                                     "agent.move(\"forward\")\n",
                                     "agent.turn(\"left\")\n",
                                     "agent.move(\"forward\")\n",
                                     "agent.turn(\"left\")\n",
                                     "agent.move(\"forward\")\n",
                                     "agent.move(\"forward\")\n",
                                     "agent.move(\"forward\")\n",
                                     "agent.turn(\"left\")\n",
                                     "agent.move(\"forward\")\n",
                                     "agent.turn(\"left\")"
                                 ]
                  },
                  {
                      "cell_type":  "markdown",
                      "metadata":  {

                                   },
                      "source":  [
                                     "# Ammattilaisvinkki:\n",
                                     "Voit suorittaa agent.move()-toiminnon useita kertoja helposti käyttämällä for-silmukkaa."
                                 ]
                  },
                  {
                      "cell_type":  "code",
                      "execution_count":  null,
                      "metadata":  {
                                       "minecraft":  {
                                                         "closeCodeBuilderOnRun":  true,
                                                         "readonly":  true
                                                     }
                                   },
                      "outputs":  [

                                  ],
                      "source":  [
                                     "# This code will move the Agent forward five times\n",
                                     "for i in range(5):\n",
                                     "    agent.move(\"forward\")"
                                 ]
                  },
                  {
                      "cell_type":  "markdown",
                      "metadata":  {

                                   },
                      "source":  [
                                     "# Tehtävä:\n",
                                     "Esittele tuhokylvyri kyläläisille ohjelmoimalla Agent käymään jokaisen kyläläisen luona, jolla on nuoli päänsä päällä.\n",
                                     "\n",
                                     "**Huomaa: Voit palauttaa tehtävän alkutilaan puhumalla NPC:n kanssa tai käyttämällä Palauta tehtävä -painiketta.**\n"
                                 ]
                  },
                  {
                      "cell_type":  "code",
                      "execution_count":  null,
                      "metadata":  {
                                       "minecraft":  {
                                                         "closeCodeBuilderOnRun":  true,
                                                         "default_code":  "# code here\n\n\n",
                                                         "resetWorldCommand":  "execute @e[tag=game] ~ ~ ~ function act/3/reset"
                                                     }
                                   },
                      "outputs":  [

                                  ],
                      "source":  [
                                     "# code here\n",
                                     "\n",
                                     "\n"
                                 ]
                  }
              ],
    "metadata":  {
                     "celltoolbar":  "Edit Metadata",
                     "kernelspec":  {
                                        "display_name":  "Python 3",
                                        "language":  "python",
                                        "name":  "python3"
                                    },
                     "language_info":  {
                                           "codemirror_mode":  {
                                                                   "name":  "ipython",
                                                                   "version":  3
                                                               },
                                           "file_extension":  ".py",
                                           "mimetype":  "text/x-python",
                                           "name":  "python",
                                           "nbconvert_exporter":  "python",
                                           "pygments_lexer":  "ipython3",
                                           "version":  "3.8.6"
                                       },
                     "minecraft":  {
                                       "description":  "Aww they\u0027re so cute!",
                                       "page_id":  "1.1",
                                       "page_name":  "Ravager",
                                       "style":  "minecraft.css"
                                   }
                 },
    "nbformat":  4,
    "nbformat_minor":  2
}
