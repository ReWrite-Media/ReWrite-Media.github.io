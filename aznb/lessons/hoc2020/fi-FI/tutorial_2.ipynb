﻿{
    "cells":  [
                  {
                      "cell_type":  "markdown",
                      "metadata":  {

                                   },
                      "source":  [
                                     "# Istuta taimi\n",
                                     "Agent on antanut sinulle taimen muistoksi saapumisestasi! Lisäämme taimen pikapalkkiisi \u0027player.give()-toiminnolla.\n",
                                     "\n",
                                     "Player.give()-toiminto käyttää kahta parametria. \n",
                                     "- esine (*merkkijono*): Esine, jonka haluat\n",
                                     "- määrä (*kokonaisluku*): Vastaanottamiesi esineiden määrä"
                                 ]
                  },
                  {
                      "cell_type":  "code",
                      "execution_count":  null,
                      "metadata":  {
                                       "minecraft":  {
                                                         "closeCodeBuilderOnRun":  true,
                                                         "readonly":  true
                                                     }
                                   },
                      "outputs":  [

                                  ],
                      "source":  [
                                     "# anna itsellesi 5 kivikuutiota\n",
                                     "player.give(\"stone\", 5)\n",
                                     "# anna itsellesi 3 hietakuutiota\n",
                                     "player.give(\"dirt\", 3)"
                                 ]
                  },
                  {
                      "cell_type":  "markdown",
                      "metadata":  {

                                   },
                      "source":  [
                                     "# Tehtävä:\n",
                                     "Ota lahja Agentilla vastaan antamalla itsellesi taimi. Kun olet valmis, istuta se manuaalisesti ruohokuutiolle valitsemalla se pikapalkista, viemällä kohdistin ruohokuutiolle ja napsauttamalla hiiren kakkospainiketta.\n",
                                     "\n",
                                     "**Huomaa: Voit aloittaa tehtävän alusta puhumalla NPC:n kanssa tai käyttämällä Aloita alusta -painiketta.**"
                                 ]
                  },
                  {
                      "cell_type":  "code",
                      "execution_count":  null,
                      "metadata":  {
                                       "minecraft":  {
                                                         "closeCodeBuilderOnRun":  true,
                                                         "default_code":  "# code here\nplayer.give()\n\n",
                                                         "resetWorldCommand":  "execute @e[tag=game] ~ ~ ~ function act/1/reset"
                                                     }
                                   },
                      "outputs":  [

                                  ],
                      "source":  [
                                     "# koodaa tässä\n",
                                     "player.give()\n",
                                     "\n"
                                 ]
                  }
              ],
    "metadata":  {
                     "celltoolbar":  "Edit Metadata",
                     "kernelspec":  {
                                        "display_name":  "Python 3",
                                        "language":  "python",
                                        "name":  "python3"
                                    },
                     "language_info":  {
                                           "codemirror_mode":  {
                                                                   "name":  "ipython",
                                                                   "version":  3
                                                               },
                                           "file_extension":  ".py",
                                           "mimetype":  "text/x-python",
                                           "name":  "python",
                                           "nbconvert_exporter":  "python",
                                           "pygments_lexer":  "ipython3",
                                           "version":  "3.8.6"
                                       },
                     "minecraft":  {
                                       "description":  "Plant a tree!",
                                       "page_id":  "1.1",
                                       "page_name":  "Anna",
                                       "style":  "minecraft.css"
                                   }
                 },
    "nbformat":  4,
    "nbformat_minor":  2
}
