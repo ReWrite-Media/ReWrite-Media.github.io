﻿{
    "cells":  [
                  {
                      "cell_type":  "markdown",
                      "metadata":  {

                                   },
                      "source":  [
                                     "# Yhdistä kaupungit\n",
                                     "Pahalaisista tuntuu, että kyläläiset eivät pidä heistä, koska heitä ei juuri näy pahalaisten markkinoilla. Syynä kyläläisten vähyyteen on mäki kylien välissä. Sen huipulle nouseminen nimittäin n liian vaikeaa. Anna Agentille kaivosvaunun \"raide\" toiminnolla agent.give() ja rakenna rautatie kylien välille toiminnolla agent.place().\n",
                                     "\n",
                                     "Agent.give()-toiminto käyttää kolmea parametria.  \n",
                                     "\n",
                                     "- esine (*merkkijono*): Esine, jonka haluat antaa Agentille.\n",
                                     "- määrä (*kokonaisluku*): Agentin vastaanottamien esineiden määrä.\n",
                                     "- paikka (*kokonaisluku*): Tavaraluettelon paikka, johon Agent vastaanottaa esineen.\n",
                                     "\n",
                                     "Agent.place()-toiminto käyttää kahta parametria.  \n",
                                     "\n",
                                     "- paikkanumero (*kokonaisluku*): Tavaraluettelon paikka, jota Agentin pitäisi käyttää.\n",
                                     "- suunta (*merkkijono*): Suunta, johon haluat Agentin asettavan esineen.\n",
                                     "    - Kelvollisia suuntia ovat: \n",
                                     "        - eteenpäin\n",
                                     "        - taaksepäin\n",
                                     "        - vasemmalle\n",
                                     "        - oikealle\n",
                                     "        - ylös\n",
                                     "        - alas"
                                 ]
                  },
                  {
                      "cell_type":  "code",
                      "execution_count":  null,
                      "metadata":  {
                                       "minecraft":  {
                                                         "closeCodeBuilderOnRun":  true,
                                                         "readonly":  true
                                                     }
                                   },
                      "outputs":  [

                                  ],
                      "source":  [
                                     "# tämä antaa Agentille kaksi raidetta\n",
                                     "# asettaa yhden maahan ja siirtyy eteenpäin\n",
                                     "agent.give(\"rail\", 2, 1)\n",
                                     "agent.place(1, \"down\")\n",
                                     "agent.move(\"forward\")\n",
                                     "\n"
                                 ]
                  },
                  {
                      "cell_type":  "markdown",
                      "metadata":  {

                                   },
                      "source":  [
                                     "Agent.move()-toiminto käyttää yhtä parametria: direction.\n",
                                     "\n",
                                     "Kelvollisia suuntia ovat: \n",
                                     "- forward\n",
                                     "- taaksepäin\n",
                                     "- vasemmalle\n",
                                     "- oikealle\n",
                                     "- ylös\n",
                                     "- alas"
                                 ]
                  },
                  {
                      "cell_type":  "code",
                      "execution_count":  null,
                      "metadata":  {
                                       "minecraft":  {
                                                         "closeCodeBuilderOnRun":  true,
                                                         "readonly":  true
                                                     }
                                   },
                      "outputs":  [

                                  ],
                      "source":  [
                                     "# siirrä Agentia yhden kuution mitan eteenpäin.\n",
                                     "agent.move(\"forward\")\n",
                                     "# siirrä Agentia yhden kuution mitan taaksepäin.\n",
                                     "agent.move(\"back\")\n",
                                     "# siirrä Agentia yhden kuution mitan vasemmalle.\n",
                                     "agent.move(\"left\")\n",
                                     "# siirrä Agentia yhden kuution mitan oikealle.\n",
                                     "agent.move(\"right\")\n"
                                 ]
                  },
                  {
                      "cell_type":  "markdown",
                      "metadata":  {

                                   },
                      "source":  [
                                     "# Ammattilaisvinkki:\n",
                                     "For-silmukan avulla voit suorittaa toimintoryhmän useita kertoja."
                                 ]
                  },
                  {
                      "cell_type":  "code",
                      "execution_count":  null,
                      "metadata":  {
                                       "minecraft":  {
                                                         "closeCodeBuilderOnRun":  true,
                                                         "readonly":  true
                                                     }
                                   },
                      "outputs":  [

                                  ],
                      "source":  [
                                     "# tämä laittaa Agentin asettamaan\n",
                                     "# raiteen sen alapuolelle ja siirtymään sitten eteenpäin.\n",
                                     "# tämä toistuu neljä kertaa.\n",
                                     "for i in range(4):\n",
                                     "    agent.give(\"rail\", 2, 1)\n",
                                     "    agent.place(1, \"down\")\n",
                                     "    agent.move(\"forward\")"
                                 ]
                  },
                  {
                      "cell_type":  "markdown",
                      "metadata":  {

                                   },
                      "source":  [
                                     "# Tehtävä:\n",
                                     "Luo rautatie kahden puu ja kivipylvään välissä olevaan tunneliin.\n",
                                     "\n",
                                     "**Huomaa: Voit aloittaa tehtävän alusta puhumalla NPC:n kanssa tai käyttämällä Aloita alusta -painiketta.**"
                                 ]
                  },
                  {
                      "cell_type":  "code",
                      "execution_count":  null,
                      "metadata":  {
                                       "minecraft":  {
                                                         "closeCodeBuilderOnRun":  true,
                                                         "default_code":  "# code here\n\n\n",
                                                         "resetWorldCommand":  "execute @e[tag=game] ~ ~ ~ function act/7/reset"
                                                     }
                                   },
                      "outputs":  [

                                  ],
                      "source":  [
                                     "# koodaa tässä\n",
                                     "\n",
                                     "\n"
                                 ]
                  }
              ],
    "metadata":  {
                     "celltoolbar":  "Edit Metadata",
                     "kernelspec":  {
                                        "display_name":  "Python 3",
                                        "language":  "python",
                                        "name":  "python3"
                                    },
                     "language_info":  {
                                           "codemirror_mode":  {
                                                                   "name":  "ipython",
                                                                   "version":  3
                                                               },
                                           "file_extension":  ".py",
                                           "mimetype":  "text/x-python",
                                           "name":  "python",
                                           "nbconvert_exporter":  "python",
                                           "pygments_lexer":  "ipython3",
                                           "version":  "3.8.6"
                                       },
                     "minecraft":  {
                                       "description":  "Let\u0027s help the party!",
                                       "page_id":  "1.1",
                                       "page_name":  "Raiteet",
                                       "style":  "minecraft.css"
                                   }
                 },
    "nbformat":  4,
    "nbformat_minor":  2
}
