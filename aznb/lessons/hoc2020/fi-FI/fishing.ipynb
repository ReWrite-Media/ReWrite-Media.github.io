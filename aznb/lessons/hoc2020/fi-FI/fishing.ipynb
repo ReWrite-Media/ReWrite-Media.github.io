﻿{
    "cells":  [
                  {
                      "cell_type":  "markdown",
                      "metadata":  {

                                   },
                      "source":  [
                                     "# Rakenna laituri\n",
                                     "Ennen kuin pahalaiset voivat opettaa kyläläisiä kalastamaan, kyläläiset tarvitsevat laiturin. Rakenna laiturin reunat antamalla Agentille kuution asetettavaksi toiminnolla agent.give(). Toiminto agent.place() asettaa kuution, agent.turn() kääntää Agentia ja agent.move() liikuttaa Agentia.\n",
                                     "\n",
                                     "Agent.give()-toiminto käyttää kolmea parametria.  \n",
                                     "\n",
                                     "- esine (*merkkijono*): Esine, jonka haluat antaa Agentille.\n",
                                     "- määrä (*kokonaisluku*): Agentin vastaanottamien esineiden määrä.\n",
                                     "- paikka (*kokonaisluku*): Tavaraluettelon paikka, johon Agent vastaanottaa esineen.\n",
                                     "\n",
                                     "Agent.place()-toiminto käyttää kahta parametria.  \n",
                                     "\n",
                                     "- paikkanumero (*kokonaisluku*): Tavaraluettelon paikka, jota Agentin pitäisi käyttää.\n",
                                     "- suunta (*merkkijono*): Suunta, johon haluat Agentin asettavan esineen.\n",
                                     "    - Kelvollisia suuntia ovat: \n",
                                     "        - forward\n",
                                     "        - back\n",
                                     "        - left\n",
                                     "        - right\n",
                                     "        - up\n",
                                     "        - down"
                                 ]
                  },
                  {
                      "cell_type":  "code",
                      "execution_count":  null,
                      "metadata":  {
                                       "minecraft":  {
                                                         "closeCodeBuilderOnRun":  true,
                                                         "readonly":  true
                                                     }
                                   },
                      "outputs":  [

                                  ],
                      "source":  [
                                     "# tämä antaa Agentille kaksi lautaa\n",
                                     "# siirry yksi askel eteenpäin\n",
                                     "# ja aseta lauta alas\n",
                                     "agent.give(\"planks\", 2, 1)\n",
                                     "agent.move(\"forward\")\n",
                                     "agent.place(1,\"down\")"
                                 ]
                  },
                  {
                      "cell_type":  "markdown",
                      "metadata":  {

                                   },
                      "source":  [
                                     "Agent.move()-toiminto käyttää yhtä parametria: direction.\n",
                                     "\n",
                                     "Kelvollisia suuntia ovat: \n",
                                     "- forward\n",
                                     "- back\n",
                                     "- left\n",
                                     "- right\n",
                                     "- up\n",
                                     "- down\n",
                                     "\n",
                                     "Agent.turn()-toiminto käyttää yhtä parametria: turn_direction,\n",
                                     "\n",
                                     "Kelvollisia suuntia ovat: \n",
                                     "- left\n",
                                     "- right"
                                 ]
                  },
                  {
                      "cell_type":  "code",
                      "execution_count":  null,
                      "metadata":  {
                                       "minecraft":  {
                                                         "closeCodeBuilderOnRun":  true,
                                                         "readonly":  true
                                                     }
                                   },
                      "outputs":  [

                                  ],
                      "source":  [
                                     "# siirrä Agentia yhden kuution mitan eteenpäin.\n",
                                     "agent.move(\"forward\")\n",
                                     "# siirrä Agentia yhden kuution mitan taaksepäin.\n",
                                     "agent.move(\"back\")\n",
                                     "# siirrä Agentia yhden kuution mitan vasemmalle.\n",
                                     "agent.move(\"left\")\n",
                                     "# siirrä Agentia yhden kuution mitan oikealle.\n",
                                     "agent.move(\"right\")\n",
                                     "\n",
                                     "# tämä kääntää Agentia oikealle\n",
                                     "agent.turn(\"right\")\n",
                                     "# tämä kääntää Agentia vasemmalle\n",
                                     "agent.turn(\"left\")"
                                 ]
                  },
                  {
                      "cell_type":  "markdown",
                      "metadata":  {

                                   },
                      "source":  [
                                     "# Ammattilaisvinkki:\n",
                                     "For-silmukan avulla voit suorittaa toimintoryhmän useita kertoja."
                                 ]
                  },
                  {
                      "cell_type":  "code",
                      "execution_count":  null,
                      "metadata":  {
                                       "minecraft":  {
                                                         "closeCodeBuilderOnRun":  true,
                                                         "readonly":  true
                                                     }
                                   },
                      "outputs":  [

                                  ],
                      "source":  [
                                     "# tämä koodi siirtää Agentia eteenpäin\n",
                                     "# ja asettaa laudan niiden alle viisi kertaa\n",
                                     "for i in range(5):\n",
                                     "    agent.move(\"forward\")\n",
                                     "    agent.give(\"planks\", 2, 1)\n",
                                     "    agent.place(1, \"down\")"
                                 ]
                  },
                  {
                      "cell_type":  "markdown",
                      "metadata":  {

                                   },
                      "source":  [
                                     "# Tehtävä:\n",
                                     "Rakenna laiturin ulkoreunat ulottumaan mukulakivistä kuuden kuution pituuteen ja neljän kuution leveyteen.\n",
                                     "\n",
                                     "**Huomaa: Voit aloittaa tehtävän alusta puhumalla NPC:n kanssa tai käyttämällä Aloita alusta -painiketta.**"
                                 ]
                  },
                  {
                      "cell_type":  "code",
                      "execution_count":  null,
                      "metadata":  {
                                       "minecraft":  {
                                                         "closeCodeBuilderOnRun":  true,
                                                         "default_code":  "# code here\n\n\n",
                                                         "resetWorldCommand":  "execute @e[tag=game] ~ ~ ~ function act/2/reset"
                                                     }
                                   },
                      "outputs":  [

                                  ],
                      "source":  [
                                     "# koodaa tässä\n",
                                     "\n",
                                     "\n"
                                 ]
                  }
              ],
    "metadata":  {
                     "celltoolbar":  "Edit Metadata",
                     "kernelspec":  {
                                        "display_name":  "Python 3",
                                        "language":  "python",
                                        "name":  "python3"
                                    },
                     "language_info":  {
                                           "codemirror_mode":  {
                                                                   "name":  "ipython",
                                                                   "version":  3
                                                               },
                                           "file_extension":  ".py",
                                           "mimetype":  "text/x-python",
                                           "name":  "python",
                                           "nbconvert_exporter":  "python",
                                           "pygments_lexer":  "ipython3",
                                           "version":  "3.8.6"
                                       },
                     "minecraft":  {
                                       "description":  "Let\u0027s learn fishing!",
                                       "page_id":  "1.1",
                                       "page_name":  "Kalastus",
                                       "style":  "minecraft.css"
                                   }
                 },
    "nbformat":  4,
    "nbformat_minor":  2
}
