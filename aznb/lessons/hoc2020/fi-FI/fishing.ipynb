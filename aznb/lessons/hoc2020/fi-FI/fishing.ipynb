﻿{
    "cells":  [
                  {
                      "cell_type":  "markdown",
                      "metadata":  {

                                   },
                      "source":  [
                                     "# Rakenna laituri\n",
                                     "Ennen kuin pahalaiset voivat opettaa kyläläisiä kalastamaan, kyläläiset tarvitsevat laiturin. Rakenna laiturin reunat antamalla Agentille kuution asetettavaksi toiminnolla agent.give(). Toiminto agent.place() asettaa kuution, agent.turn() kääntää Agentia ja agent.move() liikuttaa Agentia.\n",
                                     "\n",
                                     "Agent.give()-toiminto käyttää kolmea parametria.  \n",
                                     "\n",
                                     "- esine (*merkkijono*): Esine, jonka haluat antaa Agentille.\n",
                                     "- määrä (*kokonaisluku*): Agentin vastaanottamien esineiden määrä.\n",
                                     "- paikka (*kokonaisluku*): Tavaraluettelon paikka, johon Agent vastaanottaa esineen.\n",
                                     "\n",
                                     "Agent.place()-toiminto käyttää kahta parametria.  \n",
                                     "\n",
                                     "- paikkanumero (*kokonaisluku*): Tavaraluettelon paikka, jota Agentin pitäisi käyttää.\n",
                                     "- suunta (*merkkijono*): Suunta, johon haluat Agentin asettavan esineen.\n",
                                     "    - Kelvollisia suuntia ovat: \n",
                                     "        - eteenpäin\n",
                                     "        - taaksepäin\n",
                                     "        - vasemmalle\n",
                                     "        - oikealle\n",
                                     "        - ylös\n",
                                     "        - alas"
                                 ]
                  },
                  {
                      "cell_type":  "code",
                      "execution_count":  null,
                      "metadata":  {
                                       "minecraft":  {
                                                         "closeCodeBuilderOnRun":  true,
                                                         "readonly":  true
                                                     }
                                   },
                      "outputs":  [

                                  ],
                      "source":  [
                                     "# this will give the Agent two planks\n",
                                     "# move forward one space\n",
                                     "# and place a plank below\n",
                                     "agent.give(\"planks\", 2, 1)\n",
                                     "agent.move(\"forward\")\n",
                                     "agent.place(1,\"down\")"
                                 ]
                  },
                  {
                      "cell_type":  "markdown",
                      "metadata":  {

                                   },
                      "source":  [
                                     "Agent.move()-toiminto käyttää yhtä parametria: direction.\n",
                                     "\n",
                                     "Kelvollisia suuntia ovat: \n",
                                     "- eteenpäin\n",
                                     "- taaksepäin\n",
                                     "- vasemmalle\n",
                                     "- oikealle\n",
                                     "- ylös\n",
                                     "- alas\n",
                                     "\n",
                                     "Agent.turn()-toiminto käyttää yhtä parametria: turn_direction,\n",
                                     "\n",
                                     "Kelvollisia suuntia ovat: \n",
                                     "- vasemmalle\n",
                                     "- oikealle"
                                 ]
                  },
                  {
                      "cell_type":  "code",
                      "execution_count":  null,
                      "metadata":  {
                                       "minecraft":  {
                                                         "closeCodeBuilderOnRun":  true,
                                                         "readonly":  true
                                                     }
                                   },
                      "outputs":  [

                                  ],
                      "source":  [
                                     "# move the Agent forward one block.\n",
                                     "agent.move(\"forward\")\n",
                                     "# move the Agent backward one block.\n",
                                     "agent.move(\"back\")\n",
                                     "# move the Agent left one block.\n",
                                     "agent.move(\"left\")\n",
                                     "# move the Agent right one block.\n",
                                     "agent.move(\"right\")\n",
                                     "\n",
                                     "# this will turn the Agent right\n",
                                     "agent.turn(\"right\")\n",
                                     "# this will turn the Agent left\n",
                                     "agent.turn(\"left\")"
                                 ]
                  },
                  {
                      "cell_type":  "markdown",
                      "metadata":  {

                                   },
                      "source":  [
                                     "# Ammattilaisvinkki:\n",
                                     "For-silmukan avulla voit suorittaa toimintoryhmän useita kertoja."
                                 ]
                  },
                  {
                      "cell_type":  "code",
                      "execution_count":  null,
                      "metadata":  {
                                       "minecraft":  {
                                                         "closeCodeBuilderOnRun":  true,
                                                         "readonly":  true
                                                     }
                                   },
                      "outputs":  [

                                  ],
                      "source":  [
                                     "# this code will move the Agent forward\n",
                                     "# and place a plank under them five times\n",
                                     "for i in range(5):\n",
                                     "    agent.move(\"forward\")\n",
                                     "    agent.give(\"planks\", 2, 1)\n",
                                     "    agent.place(1, \"down\")"
                                 ]
                  },
                  {
                      "cell_type":  "markdown",
                      "metadata":  {

                                   },
                      "source":  [
                                     "# Tehtävä:\n",
                                     "Rakenna laiturin ulkoreunat ulottumaan mukulakivistä kuuden kuution pituuteen ja neljän kuution leveyteen.\n",
                                     "\n",
                                     "**Huomaa: Voit palauttaa tehtävän alkutilaan puhumalla NPC:n kanssa tai käyttämällä Palauta tehtävä -painiketta.**"
                                 ]
                  },
                  {
                      "cell_type":  "code",
                      "execution_count":  null,
                      "metadata":  {
                                       "minecraft":  {
                                                         "closeCodeBuilderOnRun":  true,
                                                         "default_code":  "# code here\n\n\n",
                                                         "resetWorldCommand":  "execute @e[tag=game] ~ ~ ~ function act/2/reset"
                                                     }
                                   },
                      "outputs":  [

                                  ],
                      "source":  [
                                     "# code here\n",
                                     "\n",
                                     "\n"
                                 ]
                  }
              ],
    "metadata":  {
                     "celltoolbar":  "Edit Metadata",
                     "kernelspec":  {
                                        "display_name":  "Python 3",
                                        "language":  "python",
                                        "name":  "python3"
                                    },
                     "language_info":  {
                                           "codemirror_mode":  {
                                                                   "name":  "ipython",
                                                                   "version":  3
                                                               },
                                           "file_extension":  ".py",
                                           "mimetype":  "text/x-python",
                                           "name":  "python",
                                           "nbconvert_exporter":  "python",
                                           "pygments_lexer":  "ipython3",
                                           "version":  "3.8.6"
                                       },
                     "minecraft":  {
                                       "description":  "Let\u0027s learn fishing!",
                                       "page_id":  "1.1",
                                       "page_name":  "Fishing",
                                       "style":  "minecraft.css"
                                   }
                 },
    "nbformat":  4,
    "nbformat_minor":  2
}
