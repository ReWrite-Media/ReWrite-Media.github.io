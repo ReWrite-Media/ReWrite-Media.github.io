﻿{
    "cells":  [
                  {
                      "cell_type":  "markdown",
                      "metadata":  {

                                   },
                      "source":  [
                                     "# Plantera trädplantan\n",
                                     "Agenten har gett dig en \"trädplanta\" för att fira din ankomst! Placera trädplantan i snabbfältet med funktionen \"player.give()\".\n",
                                     "\n",
                                     "Funktionen \"player.give()\" tar två parametrar. \n",
                                     "– item (*string*): Det föremål du vill ha.\n",
                                     "– count (*integer*): antalet föremål du ska få"
                                 ]
                  },
                  {
                      "cell_type":  "code",
                      "execution_count":  null,
                      "metadata":  {
                                       "minecraft":  {
                                                         "closeCodeBuilderOnRun":  true,
                                                         "readonly":  true
                                                     }
                                   },
                      "outputs":  [

                                  ],
                      "source":  [
                                     "# ge dig själv 5 stenblock\n",
                                     "player.give(\"stone\", 5)\n",
                                     "# ge dig själv 3 jordblock\n",
                                     "player.give(\"dirt\", 3)"
                                 ]
                  },
                  {
                      "cell_type":  "markdown",
                      "metadata":  {

                                   },
                      "source":  [
                                     "# Aktivitet:\n",
                                     "Ta emot gåvan från din agent genom att ge dig själv en \"sapling\" (trädplanta). När du är färdig planterar du trädplantan på gräsblocket genom att välja den i snabbfältet, rikta markören mot gräsblocket och högerklicka.\n",
                                     "\n",
                                     "**Obs! Du kan återställa aktiviteten genom att prata med NPC:n eller välja knappen Återställ aktivitet.**"
                                 ]
                  },
                  {
                      "cell_type":  "code",
                      "execution_count":  null,
                      "metadata":  {
                                       "minecraft":  {
                                                         "closeCodeBuilderOnRun":  true,
                                                         "default_code":  "# code here\nplayer.give()\n\n",
                                                         "resetWorldCommand":  "execute @e[tag=game] ~ ~ ~ function act/1/reset"
                                                     }
                                   },
                      "outputs":  [

                                  ],
                      "source":  [
                                     "# kod här\n",
                                     "player.give()\n",
                                     "\n"
                                 ]
                  }
              ],
    "metadata":  {
                     "celltoolbar":  "Edit Metadata",
                     "kernelspec":  {
                                        "display_name":  "Python 3",
                                        "language":  "python",
                                        "name":  "python3"
                                    },
                     "language_info":  {
                                           "codemirror_mode":  {
                                                                   "name":  "ipython",
                                                                   "version":  3
                                                               },
                                           "file_extension":  ".py",
                                           "mimetype":  "text/x-python",
                                           "name":  "python",
                                           "nbconvert_exporter":  "python",
                                           "pygments_lexer":  "ipython3",
                                           "version":  "3.8.6"
                                       },
                     "minecraft":  {
                                       "description":  "Plant a tree!",
                                       "page_id":  "1.1",
                                       "page_name":  "Ge",
                                       "style":  "minecraft.css"
                                   }
                 },
    "nbformat":  4,
    "nbformat_minor":  2
}
