﻿{
    "cells":  [
                  {
                      "cell_type":  "markdown",
                      "metadata":  {

                                   },
                      "source":  [
                                     "# Sammankoppla städerna\n",
                                     "Fyborna tror inte att byborna gillar dem eftersom så få brukar besöka deras marknad. Orsaken till att så få bybor kommer till marknaden är att det är så besvärligt att ta sig över kullen mellan de två städerna. Använd \"agent.give()\" till att ge agenten en \"rail\" (räls) till en gruvvagn och \"agent.place()\" till att skapa en järnväg för gruvvagnar mellan de två städerna.\n",
                                     "\n",
                                     "Funktionen \"agent.give()\"\u0027 tar tre parametrar.  \n",
                                     "\n",
                                     "– item (*string*): Det föremål du vill ge agenten.\n",
                                     "– count (*integer*): Hur många föremål agenten ska få.\n",
                                     "– slot (*integer*): Platsen i förrådet där agenten ska ta emot föremålet.\n",
                                     "\n",
                                     "Funktionen \"agent.place()\" tar två parametrar.  \n",
                                     "\n",
                                     "– slot number (*integer*): Platsen i förrådet som agenten ska använda.\n",
                                     "– direction (*string*): I vilken riktning du vill att agenten ska placera ut föremålet.\n",
                                     "    – Giltiga riktningar är: \n",
                                     "        – forward (framåt)\n",
                                     "        – back (bakåt)\n",
                                     "        – left (vänster)\n",
                                     "        – right (höger)\n",
                                     "        – up (uppåt)\n",
                                     "        – down (nedåt)"
                                 ]
                  },
                  {
                      "cell_type":  "code",
                      "execution_count":  null,
                      "metadata":  {
                                       "minecraft":  {
                                                         "closeCodeBuilderOnRun":  true,
                                                         "readonly":  true
                                                     }
                                   },
                      "outputs":  [

                                  ],
                      "source":  [
                                     "# detta kommer att ge agenten två rälsar\n",
                                     "# sedan placera ner en och flytta framåt\n",
                                     "agent.give(\"rail\", 2, 1)\n",
                                     "agent.place(1, \"down\")\n",
                                     "agent.move(\"forward\")\n",
                                     "\n"
                                 ]
                  },
                  {
                      "cell_type":  "markdown",
                      "metadata":  {

                                   },
                      "source":  [
                                     "Funktionen \"agent.move()\" tar en parameter, som är direction (riktning).\n",
                                     "\n",
                                     "Giltiga riktningar är: \n",
                                     "– forward (framåt)\n",
                                     "– back (bakåt)\n",
                                     "– left (vänster)\n",
                                     "– right (höger)\n",
                                     "– up (uppåt)\n",
                                     "– down (nedåt)"
                                 ]
                  },
                  {
                      "cell_type":  "code",
                      "execution_count":  null,
                      "metadata":  {
                                       "minecraft":  {
                                                         "closeCodeBuilderOnRun":  true,
                                                         "readonly":  true
                                                     }
                                   },
                      "outputs":  [

                                  ],
                      "source":  [
                                     "# flytta agenten ett block framåt.\n",
                                     "agent.move(\"forward\")\n",
                                     "# flytta agenten ett block bakåt.\n",
                                     "agent.move(\"back\")\n",
                                     "# flytta agenten ett block åt vänster.\n",
                                     "agent.move(\"left\")\n",
                                     "# flytta agenten ett block åt höger.\n",
                                     "agent.move(\"right\")\n"
                                 ]
                  },
                  {
                      "cell_type":  "markdown",
                      "metadata":  {

                                   },
                      "source":  [
                                     "# Tips från proffsen:\n",
                                     "Använd en \"for\"-loop om du vill utföra grupper av åtgärder flera gånger."
                                 ]
                  },
                  {
                      "cell_type":  "code",
                      "execution_count":  null,
                      "metadata":  {
                                       "minecraft":  {
                                                         "closeCodeBuilderOnRun":  true,
                                                         "readonly":  true
                                                     }
                                   },
                      "outputs":  [

                                  ],
                      "source":  [
                                     "# detta kommer att få agenten att placera\n",
                                     "# en räls under sig och sedan flytta framåt.\n",
                                     "# detta kommer att upprepas fyra gånger.\n",
                                     "for i in range(4):\n",
                                     "    agent.give(\"rail\", 2, 1)\n",
                                     "    agent.place(1, \"down\")\n",
                                     "    agent.move(\"forward\")"
                                 ]
                  },
                  {
                      "cell_type":  "markdown",
                      "metadata":  {

                                   },
                      "source":  [
                                     "# Aktivitet:\n",
                                     "Skapa en järnväg inuti tunneln mellan de två trä- och stenstolparna.\n",
                                     "\n",
                                     "**Obs! Du kan återställa aktiviteten genom att prata med NPC:n eller välja knappen Återställ aktivitet.**"
                                 ]
                  },
                  {
                      "cell_type":  "code",
                      "execution_count":  null,
                      "metadata":  {
                                       "minecraft":  {
                                                         "closeCodeBuilderOnRun":  true,
                                                         "default_code":  "# code here\n\n\n",
                                                         "resetWorldCommand":  "execute @e[tag=game] ~ ~ ~ function act/7/reset"
                                                     }
                                   },
                      "outputs":  [

                                  ],
                      "source":  [
                                     "# kod här\n",
                                     "\n",
                                     "\n"
                                 ]
                  }
              ],
    "metadata":  {
                     "celltoolbar":  "Edit Metadata",
                     "kernelspec":  {
                                        "display_name":  "Python 3",
                                        "language":  "python",
                                        "name":  "python3"
                                    },
                     "language_info":  {
                                           "codemirror_mode":  {
                                                                   "name":  "ipython",
                                                                   "version":  3
                                                               },
                                           "file_extension":  ".py",
                                           "mimetype":  "text/x-python",
                                           "name":  "python",
                                           "nbconvert_exporter":  "python",
                                           "pygments_lexer":  "ipython3",
                                           "version":  "3.8.6"
                                       },
                     "minecraft":  {
                                       "description":  "Let\u0027s help the party!",
                                       "page_id":  "1.1",
                                       "page_name":  "Rälsar",
                                       "style":  "minecraft.css"
                                   }
                 },
    "nbformat":  4,
    "nbformat_minor":  2
}
