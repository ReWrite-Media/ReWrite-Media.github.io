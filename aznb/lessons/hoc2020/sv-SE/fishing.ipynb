﻿{
    "cells":  [
                  {
                      "cell_type":  "markdown",
                      "metadata":  {

                                   },
                      "source":  [
                                     "# Bygg en hamn\n",
                                     "Innan fyborna kan lära byborna hur man fiskar måste de bygga en brygga. Bygg bryggans ytterkanter med \"agent.give()\" så att agenten får ett block att placera ut, \"agent.place()\" för att placera ut blocket, \"agent.turn()\" för att vrida agenten och \"agent.move()\" för att flytta agenten.\n",
                                     "\n",
                                     "Funktionen \"agent.give()\" tar tre parametrar.  \n",
                                     "\n",
                                     "– item (*string*): Det föremål du vill ge agenten.\n",
                                     "– count (*integer*): Hur många föremål agenten ska få.\n",
                                     "– slot (*integer*): Platsen i förrådet där agenten ska ta emot föremålet.\n",
                                     "\n",
                                     "Funktionen \"agent.place()\" tar två parametrar.  \n",
                                     "\n",
                                     "– slot number (*integer*): Platsen i förrådet som agenten ska använda.\n",
                                     "– direction (*string*): I vilken riktning du vill att agenten ska placera ut föremålet.\n",
                                     "    – Giltiga riktningar är: \n",
                                     "        – forward (framåt)\n",
                                     "        – back (bakåt)\n",
                                     "        – left (vänster)\n",
                                     "        – right (höger)\n",
                                     "        – up (uppåt)\n",
                                     "        – down (nedåt)"
                                 ]
                  },
                  {
                      "cell_type":  "code",
                      "execution_count":  null,
                      "metadata":  {
                                       "minecraft":  {
                                                         "closeCodeBuilderOnRun":  true,
                                                         "readonly":  true
                                                     }
                                   },
                      "outputs":  [

                                  ],
                      "source":  [
                                     "# detta kommer att ge agenten två plankor\n",
                                     "# flytta framåt en plats\n",
                                     "# och placera en planka under\n",
                                     "agent.give(\"planks\", 2, 1)\n",
                                     "agent.move(\"forward\")\n",
                                     "agent.place(1,\"down\")"
                                 ]
                  },
                  {
                      "cell_type":  "markdown",
                      "metadata":  {

                                   },
                      "source":  [
                                     "Funktionen \"agent.move()\" tar en parameter, som är direction (riktning).\n",
                                     "\n",
                                     "Giltiga riktningar är: \n",
                                     "– forward (framåt)\n",
                                     "– back (bakåt)\n",
                                     "– left (vänster)\n",
                                     "– right (höger)\n",
                                     "– up (uppåt)\n",
                                     "– down (nedåt)\n",
                                     "\n",
                                     "Funktionen \"agent.turn()\" tar en parameter, som är turn_direction (vändningsriktning),\n",
                                     "\n",
                                     "Giltiga riktningar är: \n",
                                     "– left (vänster)\n",
                                     "– right (höger)"
                                 ]
                  },
                  {
                      "cell_type":  "code",
                      "execution_count":  null,
                      "metadata":  {
                                       "minecraft":  {
                                                         "closeCodeBuilderOnRun":  true,
                                                         "readonly":  true
                                                     }
                                   },
                      "outputs":  [

                                  ],
                      "source":  [
                                     "# flytta agenten ett block framåt.\n",
                                     "agent.move(\"forward\")\n",
                                     "# flytta agenten ett block bakåt.\n",
                                     "agent.move(\"back\")\n",
                                     "# flytta agenten ett block åt vänster.\n",
                                     "agent.move(\"left\")\n",
                                     "# flytta agenten ett block åt höger.\n",
                                     "agent.move(\"right\")\n",
                                     "\n",
                                     "# detta kommer att vända agenten åt höger\n",
                                     "agent.turn(\"right\")\n",
                                     "# detta kommer att vända agenten åt vänster\n",
                                     "agent.turn(\"left\")"
                                 ]
                  },
                  {
                      "cell_type":  "markdown",
                      "metadata":  {

                                   },
                      "source":  [
                                     "# Tips från proffsen:\n",
                                     "Använd en \"for\"-loop om du vill utföra grupper av åtgärder flera gånger."
                                 ]
                  },
                  {
                      "cell_type":  "code",
                      "execution_count":  null,
                      "metadata":  {
                                       "minecraft":  {
                                                         "closeCodeBuilderOnRun":  true,
                                                         "readonly":  true
                                                     }
                                   },
                      "outputs":  [

                                  ],
                      "source":  [
                                     "# denna kod kommer att flytta agenten framåt\n",
                                     "# och placera en planka under sig fem gånger\n",
                                     "for i in range(5):\n",
                                     "    agent.move(\"forward\")\n",
                                     "    agent.give(\"planks\", 2, 1)\n",
                                     "    agent.place(1, \"down\")"
                                 ]
                  },
                  {
                      "cell_type":  "markdown",
                      "metadata":  {

                                   },
                      "source":  [
                                     "# Aktivitet:\n",
                                     "Bygg ytterkanterna av bryggan som sträcker sig från kullerstenen och är 6 block lång och 4 block bred.\n",
                                     "\n",
                                     "**Obs! Du kan återställa aktiviteten genom att prata med NPC:n eller välja knappen Återställ aktivitet.**"
                                 ]
                  },
                  {
                      "cell_type":  "code",
                      "execution_count":  null,
                      "metadata":  {
                                       "minecraft":  {
                                                         "closeCodeBuilderOnRun":  true,
                                                         "default_code":  "# code here\n\n\n",
                                                         "resetWorldCommand":  "execute @e[tag=game] ~ ~ ~ function act/2/reset"
                                                     }
                                   },
                      "outputs":  [

                                  ],
                      "source":  [
                                     "# kod här\n",
                                     "\n",
                                     "\n"
                                 ]
                  }
              ],
    "metadata":  {
                     "celltoolbar":  "Edit Metadata",
                     "kernelspec":  {
                                        "display_name":  "Python 3",
                                        "language":  "python",
                                        "name":  "python3"
                                    },
                     "language_info":  {
                                           "codemirror_mode":  {
                                                                   "name":  "ipython",
                                                                   "version":  3
                                                               },
                                           "file_extension":  ".py",
                                           "mimetype":  "text/x-python",
                                           "name":  "python",
                                           "nbconvert_exporter":  "python",
                                           "pygments_lexer":  "ipython3",
                                           "version":  "3.8.6"
                                       },
                     "minecraft":  {
                                       "description":  "Let\u0027s learn fishing!",
                                       "page_id":  "1.1",
                                       "page_name":  "Fiske",
                                       "style":  "minecraft.css"
                                   }
                 },
    "nbformat":  4,
    "nbformat_minor":  2
}
