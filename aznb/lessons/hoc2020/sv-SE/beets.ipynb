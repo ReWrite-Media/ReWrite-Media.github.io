﻿{
    "cells":  [
                  {
                      "cell_type":  "markdown",
                      "metadata":  {

                                   },
                      "source":  [
                                     "# Skydda rödbetorna\n",
                                     "Någonting tar sig hela tiden in i trädgården och snor rödbetor. Låt agenten bygga en inhägnad runt gården för att skydda rödbetorna. Använd \"agent.give()\" till att ge agenten \"iron_bar\" (järngaller), \"agent.place()\" till att placera ut \"iron_bar\", \"agent.turn()\" till att vända agenten och \"agent.move()\" till att flytta runt agenten i trädgården.\n",
                                     "\n",
                                     "Funktionen \"agent.give()\" tar tre parametrar.  \n",
                                     "\n",
                                     "– item (*string*): Platsen i förrådet där agenten hämtar föremålet.\n",
                                     "– count (*integer*): Hur många föremål som agenten ska få.\n",
                                     "– slot (*integer*): Platsen i förrådet som agenten tar emot föremålet i.\n",
                                     "\n",
                                     "Funktionen \"agent.place()\" tar två parametrar.  \n",
                                     "\n",
                                     "– slot number (*integer*): Platsen i förrådet som agenten ska använda.\n",
                                     "– direction (*string*): I vilken riktning du vill att agenten ska placera ut föremålet.\n",
                                     "    – Giltiga riktningar är: \n",
                                     "        – forward (framåt)\n",
                                     "        – back (bakåt)\n",
                                     "        – left (vänster)\n",
                                     "        – right (höger)\n",
                                     "        – up (uppåt)\n",
                                     "        – down (nedåt)\n",
                                     "\n"
                                 ]
                  },
                  {
                      "cell_type":  "code",
                      "execution_count":  null,
                      "metadata":  {
                                       "minecraft":  {
                                                         "closeCodeBuilderOnRun":  true,
                                                         "readonly":  true
                                                     }
                                   },
                      "outputs":  [

                                  ],
                      "source":  [
                                     "# detta kommer att flytta agenten ett block framåt\n",
                                     "# ge agenten iron_bars och sedan placera \n",
                                     "# iron_bars under sig.\n",
                                     "agent.move(\"forward\")\n",
                                     "agent.give(\"iron_bars\", 2, 1)\n",
                                     "agent.place(1, \"down\")"
                                 ]
                  },
                  {
                      "cell_type":  "markdown",
                      "metadata":  {

                                   },
                      "source":  [
                                     "Funktionen \"agent.move()\" tar en parameter, som är direction (riktning).\n",
                                     "\n",
                                     "Giltiga riktningar är: \n",
                                     "– forward (framåt)\n",
                                     "– back (bakåt)\n",
                                     "– left (vänster)\n",
                                     "– right (höger)\n",
                                     "– up (uppåt)\n",
                                     "– down (nedåt)\n",
                                     "\n",
                                     "Funktionen \"agent.turn()\" tar en parameter, som är turn_direction (vändningsriktning),\n",
                                     "\n",
                                     "Giltiga riktningar är: \n",
                                     "– left (vänster)\n",
                                     "– right (höger)"
                                 ]
                  },
                  {
                      "cell_type":  "code",
                      "execution_count":  null,
                      "metadata":  {
                                       "minecraft":  {
                                                         "closeCodeBuilderOnRun":  true,
                                                         "readonly":  true
                                                     }
                                   },
                      "outputs":  [

                                  ],
                      "source":  [
                                     "# flytta agenten ett block framåt.\n",
                                     "agent.move(\"forward\")\n",
                                     "# flytta agenten ett block bakåt.\n",
                                     "agent.move(\"back\")\n",
                                     "# flytta agenten ett block åt vänster.\n",
                                     "agent.move(\"left\")\n",
                                     "# flytta agenten ett block åt höger.\n",
                                     "agent.move(\"right\")\n",
                                     "\n",
                                     "# detta kommer att vända agenten åt höger\n",
                                     "agent.turn(\"right\")\n",
                                     "# detta kommer att vända agenten åt vänster\n",
                                     "agent.turn(\"left\")"
                                 ]
                  },
                  {
                      "cell_type":  "markdown",
                      "metadata":  {

                                   },
                      "source":  [
                                     "# Tips från proffsen:\n",
                                     "Använd en \"for\"-loop om du vill utföra grupper av åtgärder flera gånger."
                                 ]
                  },
                  {
                      "cell_type":  "code",
                      "execution_count":  null,
                      "metadata":  {
                                       "minecraft":  {
                                                         "closeCodeBuilderOnRun":  true,
                                                         "readonly":  true
                                                     }
                                   },
                      "outputs":  [

                                  ],
                      "source":  [
                                     "# denna kod kommer att flytta agenten framåt\n",
                                     "# och placera iron_bars under den fem gånger\n",
                                     "for i in range(5):\n",
                                     "    agent.move(\"forward\")\n",
                                     "    agent.give(\"iron_bars\", 2, 1)\n",
                                     "    agent.place(1, \"down\")"
                                 ]
                  },
                  {
                      "cell_type":  "markdown",
                      "metadata":  {

                                   },
                      "source":  [
                                     "# Aktivitet:\n",
                                     "Placera ut järngaller runt rödbetslandet mellan stenblocken. \n",
                                     "\n",
                                     "**Obs! Du kan återställa aktiviteten genom att prata med NPC:n eller välja knappen Återställ aktivitet.**"
                                 ]
                  },
                  {
                      "cell_type":  "code",
                      "execution_count":  null,
                      "metadata":  {
                                       "minecraft":  {
                                                         "closeCodeBuilderOnRun":  true,
                                                         "default_code":  "# code here\n\n\n",
                                                         "resetWorldCommand":  "execute @e[tag=game] ~ ~ ~ function act/4/reset"
                                                     }
                                   },
                      "outputs":  [

                                  ],
                      "source":  [
                                     "# kod här\n",
                                     "\n",
                                     "\n"
                                 ]
                  }
              ],
    "metadata":  {
                     "celltoolbar":  "Edit Metadata",
                     "kernelspec":  {
                                        "display_name":  "Python 3",
                                        "language":  "python",
                                        "name":  "python3"
                                    },
                     "language_info":  {
                                           "codemirror_mode":  {
                                                                   "name":  "ipython",
                                                                   "version":  3
                                                               },
                                           "file_extension":  ".py",
                                           "mimetype":  "text/x-python",
                                           "name":  "python",
                                           "nbconvert_exporter":  "python",
                                           "pygments_lexer":  "ipython3",
                                           "version":  "3.8.6"
                                       },
                     "minecraft":  {
                                       "description":  "Protect those beets",
                                       "page_id":  "1.1",
                                       "page_name":  "Rödbetor",
                                       "style":  "minecraft.css"
                                   }
                 },
    "nbformat":  4,
    "nbformat_minor":  2
}
