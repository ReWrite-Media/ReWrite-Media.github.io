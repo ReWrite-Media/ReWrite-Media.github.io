﻿{
    "cells":  [
                  {
                      "cell_type":  "markdown",
                      "metadata":  {

                                   },
                      "source":  [
                                     "# Вземете топката\n",
                                     "\n",
                                     "Изглежда лостовете са заседнали в асансьора на селянина. Използвайте „agent.move()“, за да позиционирате Agent, след което използвайте „agent.interact()“, за да дръпнете всички лостове и селянинът да свали детската топка.\n",
                                     "\n",
                                     "Функцията „agent.move()“ приема един параметър – direction (посока).\n",
                                     "\n",
                                     "Възможните посоки са: \n",
                                     "- forward (напред)\n",
                                     "- back (назад)\n",
                                     "- left (наляво)\n",
                                     "- right (надясно)\n",
                                     "- up (нагоре)\n",
                                     "- down (надолу)\n",
                                     "\n",
                                     "Функцията „agent.interact()“ приема един параметър – direction (посока).\n",
                                     "\n",
                                     "Възможните посоки са:\n",
                                     "- forward (напред)\n",
                                     "- back (назад)\n",
                                     "- left (наляво)\n",
                                     "- right (надясно)\n",
                                     "- up (нагоре)\n",
                                     "- down (надолу)\n"
                                 ]
                  },
                  {
                      "cell_type":  "code",
                      "execution_count":  null,
                      "metadata":  {
                                       "minecraft":  {
                                                         "closeCodeBuilderOnRun":  true,
                                                         "readonly":  true
                                                     }
                                   },
                      "outputs":  [

                                  ],
                      "source":  [
                                     "# move the agent up one block\n",
                                     "# flip the lever in front of it\n",
                                     "agent.move(\"up\")\n",
                                     "agent.interact(\"forward\")"
                                 ]
                  },
                  {
                      "cell_type":  "markdown",
                      "metadata":  {

                                   },
                      "source":  [
                                     "# Експертен съвет:\n",
                                     "Използвайте цикъл с „for“, за да извършите група от действия няколко пъти."
                                 ]
                  },
                  {
                      "cell_type":  "code",
                      "execution_count":  null,
                      "metadata":  {
                                       "minecraft":  {
                                                         "closeCodeBuilderOnRun":  true,
                                                         "readonly":  true
                                                     }
                                   },
                      "outputs":  [

                                  ],
                      "source":  [
                                     "# this code will move the agent right\n",
                                     "# three times\n",
                                     "for i in range(3):\n",
                                     "    agent.move(\"right\")"
                                 ]
                  },
                  {
                      "cell_type":  "markdown",
                      "metadata":  {

                                   },
                      "source":  [
                                     "# Дейност:\n",
                                     "Преместете Agent до всеки лост и взаимодействайте с него, за да го дръпнете и да включите асансьора.\n",
                                     "\n",
                                     "**Забележка: Можете да нулирате дейността, като говорите с NPC или използвате бутона Reset Activity (Нулиране на дейността).**"
                                 ]
                  },
                  {
                      "cell_type":  "code",
                      "execution_count":  null,
                      "metadata":  {
                                       "minecraft":  {
                                                         "closeCodeBuilderOnRun":  true,
                                                         "default_code":  "# code here\n\n\n",
                                                         "resetWorldCommand":  "execute @e[tag=game] ~ ~ ~ function act/6/reset"
                                                     }
                                   },
                      "outputs":  [

                                  ],
                      "source":  [
                                     "# code here\n",
                                     "\n",
                                     "\n"
                                 ]
                  }
              ],
    "metadata":  {
                     "celltoolbar":  "Edit Metadata",
                     "kernelspec":  {
                                        "display_name":  "Python 3",
                                        "language":  "python",
                                        "name":  "python3"
                                    },
                     "language_info":  {
                                           "codemirror_mode":  {
                                                                   "name":  "ipython",
                                                                   "version":  3
                                                               },
                                           "file_extension":  ".py",
                                           "mimetype":  "text/x-python",
                                           "name":  "python",
                                           "nbconvert_exporter":  "python",
                                           "pygments_lexer":  "ipython3",
                                           "version":  "3.8.6"
                                       },
                     "minecraft":  {
                                       "description":  "Help the kids overcome their bias",
                                       "page_id":  "1.1",
                                       "page_name":  "Ball",
                                       "style":  "minecraft.css"
                                   }
                 },
    "nbformat":  4,
    "nbformat_minor":  2
}
