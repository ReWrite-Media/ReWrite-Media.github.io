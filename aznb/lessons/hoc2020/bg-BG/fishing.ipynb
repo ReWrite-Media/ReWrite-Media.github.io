﻿{
    "cells":  [
                  {
                      "cell_type":  "markdown",
                      "metadata":  {

                                   },
                      "source":  [
                                     "# Конструирайте док\n",
                                     "Преди злобарите да могат да научат селяните как да ловят риба, те се нуждаят от док. Изградете външните краища на дока, като използвате „agent.give()“, за да дадете на Agent блок, който да постави, „agent.place()“ за поставяне на блока, „agent.turn()“ за обръщане на Agent и „agent.move()“ за преместване на Agent.\n",
                                     "\n",
                                     "Функцията „agent.give()“ приема три параметъра.  \n",
                                     "\n",
                                     "- item (*string*): Предметът, който искате да дадете на Agent.\n",
                                     "- count (*integer*): Колко предмети ще получи Agent.\n",
                                     "- slot (*integer*): Слотът в инвентара, в който Agent ще получи предмета.\n",
                                     "\n",
                                     "Функцията „agent.place()“ приема два параметъра.  \n",
                                     "\n",
                                     "- slot number (*integer*): Кой слот в инвентара трябва да използва Agent.\n",
                                     "- direction (*string*): Посоката, в която искате Agent да постави предмета.\n",
                                     "    - Възможните посоки са: \n",
                                     "        - forward (напред)\n",
                                     "        - back (назад)\n",
                                     "        - left (наляво)\n",
                                     "        - right (надясно)\n",
                                     "        - up (нагоре)\n",
                                     "        - down (надолу)"
                                 ]
                  },
                  {
                      "cell_type":  "code",
                      "execution_count":  null,
                      "metadata":  {
                                       "minecraft":  {
                                                         "closeCodeBuilderOnRun":  true,
                                                         "readonly":  true
                                                     }
                                   },
                      "outputs":  [

                                  ],
                      "source":  [
                                     "# this will give the Agent two planks\n",
                                     "# move forward one space\n",
                                     "# and place a plank below\n",
                                     "agent.give(\"planks\", 2, 1)\n",
                                     "agent.move(\"forward\")\n",
                                     "agent.place(1,\"down\")"
                                 ]
                  },
                  {
                      "cell_type":  "markdown",
                      "metadata":  {

                                   },
                      "source":  [
                                     "Функцията „agent.move()“ приема един параметър – direction (посока).\n",
                                     "\n",
                                     "Възможните посоки са: \n",
                                     "- forward (напред)\n",
                                     "- back (назад)\n",
                                     "- left (наляво)\n",
                                     "- right (надясно)\n",
                                     "- up (нагоре)\n",
                                     "- down (надолу)\n",
                                     "\n",
                                     "Функцията „agent.turn()“ приема един параметър – turn_direction (посока на обръщане).\n",
                                     "\n",
                                     "Възможните посоки са: \n",
                                     "- left (наляво)\n",
                                     "- right (надясно)"
                                 ]
                  },
                  {
                      "cell_type":  "code",
                      "execution_count":  null,
                      "metadata":  {
                                       "minecraft":  {
                                                         "closeCodeBuilderOnRun":  true,
                                                         "readonly":  true
                                                     }
                                   },
                      "outputs":  [

                                  ],
                      "source":  [
                                     "# move the Agent forward one block.\n",
                                     "agent.move(\"forward\")\n",
                                     "# move the Agent backward one block.\n",
                                     "agent.move(\"back\")\n",
                                     "# move the Agent left one block.\n",
                                     "agent.move(\"left\")\n",
                                     "# move the Agent right one block.\n",
                                     "agent.move(\"right\")\n",
                                     "\n",
                                     "# this will turn the Agent right\n",
                                     "agent.turn(\"right\")\n",
                                     "# this will turn the Agent left\n",
                                     "agent.turn(\"left\")"
                                 ]
                  },
                  {
                      "cell_type":  "markdown",
                      "metadata":  {

                                   },
                      "source":  [
                                     "# Експертен съвет:\n",
                                     "Използвайте цикъл с „for“, за да извършите група от действия няколко пъти."
                                 ]
                  },
                  {
                      "cell_type":  "code",
                      "execution_count":  null,
                      "metadata":  {
                                       "minecraft":  {
                                                         "closeCodeBuilderOnRun":  true,
                                                         "readonly":  true
                                                     }
                                   },
                      "outputs":  [

                                  ],
                      "source":  [
                                     "# this code will move the Agent forward\n",
                                     "# and place a plank under them five times\n",
                                     "for i in range(5):\n",
                                     "    agent.move(\"forward\")\n",
                                     "    agent.give(\"planks\", 2, 1)\n",
                                     "    agent.place(1, \"down\")"
                                 ]
                  },
                  {
                      "cell_type":  "markdown",
                      "metadata":  {

                                   },
                      "source":  [
                                     "# Дейност:\n",
                                     "Изградете външните краища на дока, започвайки от калдъръма, който ще бъде 6 блока дълъг и 4 блока широк.\n",
                                     "\n",
                                     "**Забележка: Можете да нулирате дейността, като говорите с NPC или използвате бутона Reset Activity (Нулиране на дейността).**"
                                 ]
                  },
                  {
                      "cell_type":  "code",
                      "execution_count":  null,
                      "metadata":  {
                                       "minecraft":  {
                                                         "closeCodeBuilderOnRun":  true,
                                                         "default_code":  "# code here\n\n\n",
                                                         "resetWorldCommand":  "execute @e[tag=game] ~ ~ ~ function act/2/reset"
                                                     }
                                   },
                      "outputs":  [

                                  ],
                      "source":  [
                                     "# code here\n",
                                     "\n",
                                     "\n"
                                 ]
                  }
              ],
    "metadata":  {
                     "celltoolbar":  "Edit Metadata",
                     "kernelspec":  {
                                        "display_name":  "Python 3",
                                        "language":  "python",
                                        "name":  "python3"
                                    },
                     "language_info":  {
                                           "codemirror_mode":  {
                                                                   "name":  "ipython",
                                                                   "version":  3
                                                               },
                                           "file_extension":  ".py",
                                           "mimetype":  "text/x-python",
                                           "name":  "python",
                                           "nbconvert_exporter":  "python",
                                           "pygments_lexer":  "ipython3",
                                           "version":  "3.8.6"
                                       },
                     "minecraft":  {
                                       "description":  "Let\u0027s learn fishing!",
                                       "page_id":  "1.1",
                                       "page_name":  "Fishing",
                                       "style":  "minecraft.css"
                                   }
                 },
    "nbformat":  4,
    "nbformat_minor":  2
}
