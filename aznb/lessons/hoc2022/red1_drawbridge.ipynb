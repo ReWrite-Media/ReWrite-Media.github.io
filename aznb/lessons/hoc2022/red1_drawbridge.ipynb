{
 "cells": [
  {
   "cell_type": "markdown",
   "id": "ceb9b56b",
   "metadata": {},
   "source": [
    "# Drawbridge\n",
    "\n",
    "The enderman butler needs help getting across the river. Teleport them across the river to the diamond block, then move them into position to pull the lever. Use the `teleport_enderman_to_diamond()` to get the enderman across the river, then use `move_enderman_forward()` to position the enderman in front of the lever and `pull_lever_down()` to pull the lever."
   ]
  },
  {
   "cell_type": "code",
   "execution_count": null,
   "id": "dfff7f5e",
   "metadata": {
    "minecraft": {
     "closeCodeBuilderOnRun": true,
     "hidden": false,
     "onCodeCancelledCommand": "scoreboard players set @s code_status 0",
     "onCodeErrorCommand": "scoreboard players set @s code_status 0",
     "onCodeStartedCommand": "scoreboard players set @s code_status 1",
     "onCodeStoppedCommand": "scoreboard players set @s code_status 0",
     "onCodeSuccessfulCommand": "scoreboard players set @s code_status 0",
     "overridePython": "import time\n\ntimeout = 0.100\ncommunicationPos = (0, 64, 0)\n\ntime.sleep(0.250)\n\ndef move_enderman_forward():\n    world.set(communicationPos, \"orange concrete\")\n    time.sleep(timeout)    \n\ndef teleport_enderman_to_diamond():\n    world.set(communicationPos, \"magenta concrete\")\n    time.sleep(timeout)   \n\ndef pull_lever_down():\n    world.set(communicationPos, \"light blue concrete\")\n    time.sleep(timeout)    \n@user-code",
     "readonly": true
    }
   },
   "outputs": [],
   "source": [
    "# move the enderman 2 blocks forward\n",
    "# then teleport them to the diamond block\n",
    "\n",
    "move_enderman_forward()\n",
    "move_enderman_forward()\n",
    "teleport_enderman_to_diamond()"
   ]
  },
  {
   "cell_type": "markdown",
   "id": "a1e86cf5",
   "metadata": {},
   "source": [
    "# Actvitiy:\n",
    "\n",
    "Teleport the enderman over the river to flip the lever and bring down the drawbridge. Be careful not to let the enderman fall into the water. Enderman hate water.\n",
    "\n",
    "The below code is broken, can you fix it? Debug the code by running it to see what it does and then edit it so you get the desired result."
   ]
  },
  {
   "cell_type": "code",
   "execution_count": null,
   "id": "b6f4bd0e",
   "metadata": {
    "minecraft": {
     "closeCodeBuilderOnRun": true,
     "hidden": false,
     "onCodeCancelledCommand": "scoreboard players set @s code_status 0",
     "onCodeErrorCommand": "scoreboard players set @s code_status 0",
     "onCodeStartedCommand": "scoreboard players set @s code_status 1",
     "onCodeStoppedCommand": "scoreboard players set @s code_status 0",
     "onCodeSuccessfulCommand": "scoreboard players set @s code_status 0",
     "overridePython": "import time\n\ntimeout = 0.100\ncommunicationPos = (0, 64, 0)\n\ntime.sleep(0.250)\n\ndef move_enderman_forward():\n    world.set(communicationPos, \"orange concrete\")\n    time.sleep(timeout)    \n\ndef teleport_enderman_to_diamond():\n    world.set(communicationPos, \"magenta concrete\")\n    time.sleep(timeout)   \n\ndef pull_lever_down():\n    world.set(communicationPos, \"light blue concrete\")\n    time.sleep(timeout)    \n@user-code",
     "readonly": false
    }
   },
   "outputs": [],
   "source": [
    "# code here\n",
    "\n",
    "move_enderman_forward()\n",
    "move_enderman_forward()\n",
    "teleport_enderman_to_diamond()\n",
    "move_enderman_forward()\n",
    "move_enderman_forward()\n",
    "pull_lever_down()"
   ]
  }
 ],
 "metadata": {
  "celltoolbar": "Edit Metadata",
  "kernelspec": {
   "display_name": "Python 3 (ipykernel)",
   "language": "python",
   "name": "python3"
  },
  "language_info": {
   "codemirror_mode": {
    "name": "ipython",
    "version": 3
   },
   "file_extension": ".py",
   "mimetype": "text/x-python",
   "name": "python",
   "nbconvert_exporter": "python",
   "pygments_lexer": "ipython3",
   "version": "3.10.7"
  },
  "minecraft": {
   "description": "HOC 2022",
   "page_id": "1.1",
   "page_name": "HOC 2022",
   "style": "minecraft.css"
  }
 },
 "nbformat": 4,
 "nbformat_minor": 5
}
