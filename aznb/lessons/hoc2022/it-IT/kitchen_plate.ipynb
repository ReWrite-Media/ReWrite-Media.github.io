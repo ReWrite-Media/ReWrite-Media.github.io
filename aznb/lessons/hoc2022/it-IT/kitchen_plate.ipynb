﻿{
    "cells":  [
                  {
                      "cell_type":  "markdown",
                      "id":  "8cd0f13a",
                      "metadata":  {

                                   },
                      "source":  [
                                     "# Scambio di piatti\n",
                                     "\n",
                                     "Quello sciocco chef zombi ha distribuito a tutti i piatti sbagliati! Vedi se riesci a capire a chi spetta ogni pasto. Utilizza la funzione `swap_plates()` per scambiare i piatti ai due lati della tovaglia colorata selezionata.\n",
                                     "\n",
                                     "`swap_plates()` richiede un parametro che definisce il colore della tovaglia posta tra i due piatti che si desidera scambiare.\n",
                                     "\n",
                                     "I colori validi sono:\n",
                                     "- \u0027arancione\u0027 ![Freccia arancione](img/orange_arrow.png \"Freccia arancione\")\n",
                                     "- `blue` (blu) ![Freccia blu] (img/blue_arrow.png \"Freccia blu\")\n",
                                     "- `yellow` (giallo) ![Freccia gialla](img/yellow_arrow.png \"Freccia gialla\")\n",
                                     "- `magenta` (magenta) ![Freccia magenta](img/magenta_freccia.png \"Freccia magenta\")"
                                 ]
                  },
                  {
                      "cell_type":  "code",
                      "execution_count":  null,
                      "id":  "ef6ba91d",
                      "metadata":  {
                                       "minecraft":  {
                                                         "closeCodeBuilderOnRun":  true,
                                                         "hidden":  false,
                                                         "onCodeCancelledCommand":  "scoreboard players set @s code_status 0",
                                                         "onCodeErrorCommand":  "scoreboard players set @s code_status 0",
                                                         "onCodeStartedCommand":  "scoreboard players set @s code_status 1",
                                                         "onCodeStoppedCommand":  "scoreboard players set @s code_status 0",
                                                         "onCodeSuccessfulCommand":  "scoreboard players set @s code_status 0",
                                                         "overridePython":  "import time\n\ntimeout = 0.100\ncommunicationPos = (0, 64, 0)\n\ntime.sleep(0.250)\n\ndef swap_plates(color):\n    if color==\"orange\":\n        world.set(communicationPos, \"yellow concrete\")\n        time.sleep(timeout)         \n    elif color==\"blue\":\n        world.set(communicationPos, \"light blue concrete\")\n        time.sleep(timeout)\n    elif color==\"yellow\":\n        world.set(communicationPos, \"magenta concrete\")\n        time.sleep(timeout)\n    elif color==\"magenta\":\n        world.set(communicationPos, \"orange concrete\")\n        time.sleep(timeout)        \n@user-code",
                                                         "readonly":  true
                                                     }
                                   },
                      "outputs":  [

                                  ],
                      "source":  [
                                     "# ESEMPIO DI CODICE - NON È POSSIBILE MODIFICARLO QUI\n",
                                     "# ESEGUILO PER VEDERE COSA ACCADE\n",
                                     "\n",
                                     "# scambia i piatti ai due lati\n",
                                     "# della tovaglia arancione e poi\n",
                                     "# fai la stessa cosa con la tovaglia blu\n",
                                     "\n",
                                     "swap_plates(\"orange\")\n",
                                     "swap_plates(\"blue\")"
                                 ]
                  },
                  {
                      "cell_type":  "markdown",
                      "id":  "86ac232e",
                      "metadata":  {

                                   },
                      "source":  [
                                     "# Attività:\n",
                                     "\n",
                                     "Lo chef zombi ha sbagliato a distribuire i piatti! Che fine avranno fatto? Scopri a chi appartiene ciascun piatto! Poi scrivi un programma per posizionare i piatti davanti alle creature corrispondenti.\n",
                                     "\n",
                                     "Il codice incluso di seguito è rotto. Riesci a sistemarlo? Esegui il codice per vedere cosa accade, quindi esegui il debug modificandolo con la soluzione corretta."
                                 ]
                  },
                  {
                      "cell_type":  "code",
                      "execution_count":  null,
                      "id":  "b6f4bd0e",
                      "metadata":  {
                                       "minecraft":  {
                                                         "closeCodeBuilderOnRun":  true,
                                                         "hidden":  false,
                                                         "onCodeCancelledCommand":  "scoreboard players set @s code_status 0",
                                                         "onCodeErrorCommand":  "scoreboard players set @s code_status 0",
                                                         "onCodeStartedCommand":  "scoreboard players set @s code_status 1",
                                                         "onCodeStoppedCommand":  "scoreboard players set @s code_status 0",
                                                         "onCodeSuccessfulCommand":  "scoreboard players set @s code_status 0",
                                                         "overridePython":  "import time\n\ntimeout = 0.100\ncommunicationPos = (0, 64, 0)\n\ntime.sleep(0.250)\n\ndef swap_plates(color):\n    if color==\"orange\":\n        world.set(communicationPos, \"yellow concrete\")\n        time.sleep(timeout)         \n    elif color==\"blue\":\n        world.set(communicationPos, \"light blue concrete\")\n        time.sleep(timeout)\n    elif color==\"yellow\":\n        world.set(communicationPos, \"magenta concrete\")\n        time.sleep(timeout)\n    elif color==\"magenta\":\n        world.set(communicationPos, \"orange concrete\")\n        time.sleep(timeout)        \n@user-code",
                                                         "readonly":  false
                                                     }
                                   },
                      "outputs":  [

                                  ],
                      "source":  [
                                     "# codice qui\n",
                                     "\n",
                                     "swap_plates(\"orange\")\n",
                                     "swap_plates(\"blue\")\n",
                                     "swap_plates(\"yellow\")\n",
                                     "swap_plates(\"magenta\")\n"
                                 ]
                  }
              ],
    "metadata":  {
                     "celltoolbar":  "Edit Metadata",
                     "kernelspec":  {
                                        "display_name":  "Python 3.10.8 64-bit (microsoft store)",
                                        "language":  "python",
                                        "name":  "python3"
                                    },
                     "language_info":  {
                                           "codemirror_mode":  {
                                                                   "name":  "ipython",
                                                                   "version":  3
                                                               },
                                           "file_extension":  ".py",
                                           "mimetype":  "text/x-python",
                                           "name":  "python",
                                           "nbconvert_exporter":  "python",
                                           "pygments_lexer":  "ipython3",
                                           "version":  "3.10.8"
                                       },
                     "minecraft":  {
                                       "description":  "OdC 2022",
                                       "page_id":  "1.1",
                                       "page_name":  "OdC 2022",
                                       "style":  "minecraft.css"
                                   },
                     "vscode":  {
                                    "interpreter":  {
                                                        "hash":  "34242f13a52f302bd973ebb7ec1f6ba9310bbd38aa2ae877991984a75c84a395"
                                                    }
                                }
                 },
    "nbformat":  4,
    "nbformat_minor":  5
}
