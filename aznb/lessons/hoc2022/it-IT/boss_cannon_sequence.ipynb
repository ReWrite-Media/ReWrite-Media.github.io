﻿{
    "cells":  [
                  {
                      "cell_type":  "markdown",
                      "id":  "fdd844cf",
                      "metadata":  {

                                   },
                      "source":  [
                                     "# Cannoni\n",
                                     "\n",
                                     "Gli Agenti sono sotto la Sfera del tempo! Hanno usato i loro poteri per proteggerla con degli anelli colorati! Usa la funzione \u0027activate_cannon()\u0027 per attivare i cannoni colorati nello stesso ordine degli anelli colorati e disabilitare la Sfera del tempo!\n",
                                     "\n",
                                     "La funzione \u0027activate_cannon()\u0027 richiede un parametro che definisce il colore del cannone che si desidera attivare.\n",
                                     "\n",
                                     "I colori validi sono:\n",
                                     "- `blue` (blu) ![Cannone blu](img/blue_cannon.png \"Cannone blu\")\n",
                                     "- `yellow` (giallo) ![Cannone giallo](img/yellow_cannon.png \"Cannone giallo\")\n",
                                     "- `magenta` (magenta) ![Cannone magenta](img/magenta_cannon.png \"Cannone magenta\")\n",
                                     "- `green` (verde) ![Cannone verde](img/green_cannon.png \"Cannone verde\")"
                                 ]
                  },
                  {
                      "cell_type":  "code",
                      "execution_count":  null,
                      "id":  "fb9282d9",
                      "metadata":  {
                                       "minecraft":  {
                                                         "closeCodeBuilderOnRun":  true,
                                                         "hidden":  false,
                                                         "onCodeCancelledCommand":  "scoreboard players set @s code_status 0",
                                                         "onCodeErrorCommand":  "scoreboard players set @s code_status 0",
                                                         "onCodeStartedCommand":  "scoreboard players set @s code_status 1",
                                                         "onCodeStoppedCommand":  "scoreboard players set @s code_status 0",
                                                         "onCodeSuccessfulCommand":  "scoreboard players set @s code_status 0",
                                                         "overridePython":  "import time\n\ntimeout = 0.100\ncommunicationPos = (0, 64, 0)\n\ntime.sleep(0.250)\n\ndef activate_cannon(color):\n    if color==\"yellow\":\n        world.set(communicationPos, \"yellow concrete\")\n        time.sleep(timeout) \n    elif color==\"green\":\n        world.set(communicationPos, \"lime concrete\")\n        time.sleep(timeout)\n    elif color==\"blue\":\n        world.set(communicationPos, \"light blue concrete\")\n        time.sleep(timeout)\n    elif color==\"magenta\":\n        world.set(communicationPos, \"magenta concrete\")\n        time.sleep(timeout)\n@user-code",
                                                         "readonly":  true
                                                     }
                                   },
                      "outputs":  [

                                  ],
                      "source":  [
                                     "# ESEMPIO DI CODICE - NON È POSSIBILE MODIFICARLO\n",
                                     "# ESEGUI PER VEDERE COSA SUCCEDE\n",
                                     "\n",
                                     "# attiva il blu e il giallo\n",
                                     "# cannoni in quest\u0027ordine\n",
                                     "\n",
                                     "activate_cannon(\"blue\")\n",
                                     "activate_cannon(\"yellow\")"
                                 ]
                  },
                  {
                      "cell_type":  "markdown",
                      "id":  "8fc88ebe",
                      "metadata":  {

                                   },
                      "source":  [
                                     "# Attività:\n",
                                     "\n",
                                     "Sembra che gli anelli colorati che circondano la Sfera del tempo siano disposti in un ordine preciso! Dall\u0027anello più grande al più piccolo, scrivi un programma che attiverà i cannoni colorati corretti per sparare agli anelli e disabilitare la Sfera del tempo!\n",
                                     "\n",
                                     "Il codice di seguito non funziona. Riesci a ripararlo? Esegui il codice per vedere cosa succede, quindi esegui il debug modificandolo per ottenere la soluzione corretta."
                                 ]
                  },
                  {
                      "cell_type":  "code",
                      "execution_count":  null,
                      "id":  "b6f4bd0e",
                      "metadata":  {
                                       "minecraft":  {
                                                         "closeCodeBuilderOnRun":  true,
                                                         "hidden":  false,
                                                         "onCodeCancelledCommand":  "scoreboard players set @s code_status 0",
                                                         "onCodeErrorCommand":  "scoreboard players set @s code_status 0",
                                                         "onCodeStartedCommand":  "scoreboard players set @s code_status 1",
                                                         "onCodeStoppedCommand":  "scoreboard players set @s code_status 0",
                                                         "onCodeSuccessfulCommand":  "scoreboard players set @s code_status 0",
                                                         "overridePython":  "import time\n\ntimeout = 0.100\ncommunicationPos = (0, 64, 0)\n\ntime.sleep(0.250)\n\ndef activate_cannon(color):\n    if color==\"yellow\":\n        world.set(communicationPos, \"yellow concrete\")\n        time.sleep(timeout) \n    elif color==\"green\":\n        world.set(communicationPos, \"lime concrete\")\n        time.sleep(timeout)\n    elif color==\"blue\":\n        world.set(communicationPos, \"light blue concrete\")\n        time.sleep(timeout)\n    elif color==\"magenta\":\n        world.set(communicationPos, \"magenta concrete\")\n        time.sleep(timeout)\n@user-code",
                                                         "readonly":  false
                                                     }
                                   },
                      "outputs":  [

                                  ],
                      "source":  [
                                     "# codice qui\n",
                                     "\n",
                                     "activate_cannon(\"blue\")\n",
                                     "activate_cannon(\"magenta\")\n"
                                 ]
                  }
              ],
    "metadata":  {
                     "celltoolbar":  "Edit Metadata",
                     "kernelspec":  {
                                        "display_name":  "Python 3 (ipykernel)",
                                        "language":  "python",
                                        "name":  "python3"
                                    },
                     "language_info":  {
                                           "codemirror_mode":  {
                                                                   "name":  "ipython",
                                                                   "version":  3
                                                               },
                                           "file_extension":  ".py",
                                           "mimetype":  "text/x-python",
                                           "name":  "python",
                                           "nbconvert_exporter":  "python",
                                           "pygments_lexer":  "ipython3",
                                           "version":  "3.10.7"
                                       },
                     "minecraft":  {
                                       "description":  "OdC 2022",
                                       "page_id":  "1.1",
                                       "page_name":  "OdC 2022",
                                       "style":  "minecraft.css"
                                   }
                 },
    "nbformat":  4,
    "nbformat_minor":  5
}
