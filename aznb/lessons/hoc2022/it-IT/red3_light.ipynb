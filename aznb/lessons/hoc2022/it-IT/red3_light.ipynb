﻿{
    "cells":  [
                  {
                      "cell_type":  "markdown",
                      "id":  "15c6efa9",
                      "metadata":  {

                                   },
                      "source":  [
                                     "# Potenza luce\n",
                                     "\n",
                                     "Per aprire la porta devi fornire energia a tutte le luci! Ogni luce che accendi aprirà la porta solo di una frazione. Usa la funzione \u0027move_cursor()\u0027 per posizionare il cursore su una luce, quindi usa la funzione \u0027turn_light_on()\u0027 per accendere tutte le luci e aprire la porta!\n",
                                     "\n",
                                     "La funzione \u0027move_cursor()\u0027 richiede un parametro che ne definisce la direzione. Tale parametro è il colore della freccia che rappresenta la direzione in cui desideri muoverti.\n",
                                     "\n",
                                     "Le direzioni valide sono:\n",
                                     "- \u0027arancione\u0027 (sposta il cursore verso l\u0027alto) ![Freccia arancione](img/orange_arrow.png \"Freccia arancione\")\n",
                                     "- `magenta` (sposta il cursore verso il basso) ![Freccia magenta](img/magenta_arrow.png \"Freccia magenta\")\n",
                                     "- `blu` (sposta il cursore a sinistra) ![Freccia blu](img/blue_arrow.png \"`Freccia blu`\")\n",
                                     "- `giallo` (sposta il cursore a destra) ![Freccia gialla](img/yellow_arrow.png \"`Freccia gialla`\")"
                                 ]
                  },
                  {
                      "cell_type":  "code",
                      "execution_count":  null,
                      "id":  "677f2ea6",
                      "metadata":  {
                                       "minecraft":  {
                                                         "closeCodeBuilderOnRun":  true,
                                                         "hidden":  false,
                                                         "onCodeCancelledCommand":  "scoreboard players set @s code_status 0",
                                                         "onCodeErrorCommand":  "scoreboard players set @s code_status 0",
                                                         "onCodeStartedCommand":  "scoreboard players set @s code_status 1",
                                                         "onCodeStoppedCommand":  "scoreboard players set @s code_status 0",
                                                         "onCodeSuccessfulCommand":  "scoreboard players set @s code_status 0",
                                                         "overridePython":  "import time\n\ntimeout = 0.100\ncommunicationPos = (0, 64, 0)\n\ntime.sleep(0.250)\n\ndef move_cursor(color):\n    if color == \"orange\":\n        world.set(communicationPos, \"orange concrete\")\n        time.sleep(timeout)\n    elif color == \"magenta\":\n        world.set(communicationPos, \"magenta concrete\")\n        time.sleep(timeout)\n    elif color == \"blue\":\n        world.set(communicationPos, \"light blue concrete\")\n        time.sleep(timeout)\n    elif color == \"yellow\":\n        world.set(communicationPos, \"yellow concrete\")\n        time.sleep(timeout)\n\ndef turn_light_on():\n    world.set(communicationPos, \"lime concrete\")\n    time.sleep(timeout)  \n@user-code",
                                                         "readonly":  true
                                                     }
                                   },
                      "outputs":  [

                                  ],
                      "source":  [
                                     "# ESEMPIO DI CODICE - NON È POSSIBILE MODIFICARLO\n",
                                     "# ESEGUILO PER VEDERE COSA SUCCEDE\n",
                                     "\n",
                                     "# sposta il cursore a destra, quindi accendi\n",
                                     "# la luce. Fallo 3 volte\n",
                                     "\n",
                                     "move_cursor(\"yellow\")\n",
                                     "turn_light_on()\n",
                                     "move_cursor(\"yellow\")\n",
                                     "turn_light_on()\n",
                                     "move_cursor(\"yellow\")\n",
                                     "turn_light_on()"
                                 ]
                  },
                  {
                      "cell_type":  "markdown",
                      "id":  "6997e5fa",
                      "metadata":  {

                                   },
                      "source":  [
                                     "# Per esperti:\n",
                                     "\n",
                                     "Utilizza un loop `for` per eseguire più volte una o più operazioni."
                                 ]
                  },
                  {
                      "cell_type":  "code",
                      "execution_count":  null,
                      "id":  "84c42687",
                      "metadata":  {
                                       "minecraft":  {
                                                         "closeCodeBuilderOnRun":  true,
                                                         "hidden":  false,
                                                         "onCodeCancelledCommand":  "scoreboard players set @s code_status 0",
                                                         "onCodeErrorCommand":  "scoreboard players set @s code_status 0",
                                                         "onCodeStartedCommand":  "scoreboard players set @s code_status 1",
                                                         "onCodeStoppedCommand":  "scoreboard players set @s code_status 0",
                                                         "onCodeSuccessfulCommand":  "scoreboard players set @s code_status 0",
                                                         "overridePython":  "import time\n\ntimeout = 0.100\ncommunicationPos = (0, 64, 0)\n\ntime.sleep(0.250)\n\ndef move_cursor(color):\n    if color == \"orange\":\n        world.set(communicationPos, \"orange concrete\")\n        time.sleep(timeout)\n    elif color == \"magenta\":\n        world.set(communicationPos, \"magenta concrete\")\n        time.sleep(timeout)\n    elif color == \"blue\":\n        world.set(communicationPos, \"light blue concrete\")\n        time.sleep(timeout)\n    elif color == \"yellow\":\n        world.set(communicationPos, \"yellow concrete\")\n        time.sleep(timeout)\n\ndef turn_light_on():\n    world.set(communicationPos, \"lime concrete\")\n    time.sleep(timeout)  \n@user-code",
                                                         "readonly":  true
                                                     }
                                   },
                      "outputs":  [

                                  ],
                      "source":  [
                                     "# ESEMPIO DI CODICE - NON È POSSIBILE MODIFICARLO\n",
                                     "# ESEGUILO PER VEDERE COSA SUCCEDE\n",
                                     "\n",
                                     "# sposta il cursore a destra, quindi accendi\n",
                                     "# la luce. Fallo 3 volte\n",
                                     "\n",
                                     "for i in range(3):\n",
                                     "    move_cursor(\"yellow\")\n",
                                     "    turn_light_on()"
                                 ]
                  },
                  {
                      "cell_type":  "markdown",
                      "id":  "f3cc0e99",
                      "metadata":  {

                                   },
                      "source":  [
                                     "# Attività:\n",
                                     "\n",
                                     "Accendi tutte le luci in modo che la porta si apra completamente e tu possa passare.\n",
                                     "\n",
                                     "Il codice di seguito non funziona. Riesci a ripararlo? Esegui il codice per vedere cosa succede, quindi esegui il debug modificandolo per ottenere la soluzione corretta."
                                 ]
                  },
                  {
                      "cell_type":  "code",
                      "execution_count":  null,
                      "id":  "b6f4bd0e",
                      "metadata":  {
                                       "minecraft":  {
                                                         "closeCodeBuilderOnRun":  true,
                                                         "hidden":  false,
                                                         "onCodeCancelledCommand":  "scoreboard players set @s code_status 0",
                                                         "onCodeErrorCommand":  "scoreboard players set @s code_status 0",
                                                         "onCodeStartedCommand":  "scoreboard players set @s code_status 1",
                                                         "onCodeStoppedCommand":  "scoreboard players set @s code_status 0",
                                                         "onCodeSuccessfulCommand":  "scoreboard players set @s code_status 0",
                                                         "overridePython":  "import time\n\ntimeout = 0.100\ncommunicationPos = (0, 64, 0)\n\ntime.sleep(0.250)\n\ndef move_cursor(color):\n    if color == \"orange\":\n        world.set(communicationPos, \"orange concrete\")\n        time.sleep(timeout)\n    elif color == \"magenta\":\n        world.set(communicationPos, \"magenta concrete\")\n        time.sleep(timeout)\n    elif color == \"blue\":\n        world.set(communicationPos, \"light blue concrete\")\n        time.sleep(timeout)\n    elif color == \"yellow\":\n        world.set(communicationPos, \"yellow concrete\")\n        time.sleep(timeout)\n\ndef turn_light_on():\n    world.set(communicationPos, \"lime concrete\")\n    time.sleep(timeout)  \n@user-code",
                                                         "readonly":  false
                                                     }
                                   },
                      "outputs":  [

                                  ],
                      "source":  [
                                     "# codice qui\n",
                                     "\n",
                                     "move_cursor(\"yellow\")\n",
                                     "move_cursor(\"yellow\")\n",
                                     "turn_light_on()\n",
                                     "move_cursor(\"yellow\")\n",
                                     "move_cursor(\"yellow\")\n",
                                     "turn_light_on()"
                                 ]
                  }
              ],
    "metadata":  {
                     "celltoolbar":  "Edit Metadata",
                     "kernelspec":  {
                                        "display_name":  "Python 3 (ipykernel)",
                                        "language":  "python",
                                        "name":  "python3"
                                    },
                     "language_info":  {
                                           "codemirror_mode":  {
                                                                   "name":  "ipython",
                                                                   "version":  3
                                                               },
                                           "file_extension":  ".py",
                                           "mimetype":  "text/x-python",
                                           "name":  "python",
                                           "nbconvert_exporter":  "python",
                                           "pygments_lexer":  "ipython3",
                                           "version":  "3.10.7"
                                       },
                     "minecraft":  {
                                       "description":  "OdC 2022",
                                       "page_id":  "1.1",
                                       "page_name":  "OdC 2022",
                                       "style":  "minecraft.css"
                                   }
                 },
    "nbformat":  4,
    "nbformat_minor":  5
}
