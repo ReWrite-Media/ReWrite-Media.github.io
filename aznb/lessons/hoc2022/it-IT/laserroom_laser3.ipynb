﻿{
    "cells":  [
                  {
                      "cell_type":  "markdown",
                      "id":  "e678df41",
                      "metadata":  {

                                   },
                      "source":  [
                                     "# Rompicapo con laser (parte 3)\n",
                                     "\n",
                                     "I blocchi solidi fermano il laser! Sposta la fila di blocchi rossi, gialli e verdi per far passare il laser attraverso i blocchi di vetro e accendere la luce dall\u0027altra parte. Utilizza la funzione `shift_row()` per spostare le file a sinistra o a destra e consentire al laser di passare attraverso i blocchi di vetro.\n",
                                     "\n",
                                     "La funzione `shift_row()` richiede due parametri (stringhe). Il primo parametro definisce la fila colorata che si desidera spostare, mentre il secondo definisce la direzione del movimento.\n",
                                     "\n",
                                     "I colori validi sono:\n",
                                     "- `verde` ![Verde](img/green_right.png \"Verde\")\n",
                                     "- `giallo` ![Giallo](img/yellow_right.png \"Giallo\")\n",
                                     "- `rosso` ![Rosso](img/red_right.png \"Rosso\")\n",
                                     "\n",
                                     "Le direzioni valide sono:\n",
                                     "- `a destra` ![A destra](img/gray_right.png \u0027\u0027A destra\u0027\u0027)\n",
                                     "- `a sinistra` ![A sinistra](img/gray_left.png \"A sinistra\")"
                                 ]
                  },
                  {
                      "cell_type":  "code",
                      "execution_count":  null,
                      "id":  "20136327",
                      "metadata":  {
                                       "minecraft":  {
                                                         "closeCodeBuilderOnRun":  true,
                                                         "hidden":  false,
                                                         "onCodeCancelledCommand":  "scoreboard players set @s code_status 0",
                                                         "onCodeErrorCommand":  "scoreboard players set @s code_status 0",
                                                         "onCodeStartedCommand":  "scoreboard players set @s code_status 1",
                                                         "onCodeStoppedCommand":  "scoreboard players set @s code_status 0",
                                                         "onCodeSuccessfulCommand":  "scoreboard players set @s code_status 0",
                                                         "overridePython":  "import time\n\ntimeout = 0.100\ncommunicationPos = (0, 64, 0)\n\ntime.sleep(0.250)\n\ndef shift_row(color, direction):\n    if color==\"green\" and direction == \"left\":\n        world.set(communicationPos, \"orange concrete\")\n        time.sleep(timeout)   \n    elif color==\"green\" and direction == \"right\":\n        world.set(communicationPos, \"magenta concrete\")\n        time.sleep(timeout)                 \n    elif color==\"yellow\" and direction == \"left\":\n        world.set(communicationPos, \"light blue concrete\")\n        time.sleep(timeout)   \n    elif color==\"yellow\" and direction == \"right\":\n        world.set(communicationPos, \"yellow concrete\")\n        time.sleep(timeout)                 \n    elif color==\"red\" and direction == \"left\":\n        world.set(communicationPos, \"lime concrete\")\n        time.sleep(timeout)   \n    elif color==\"red\" and direction == \"right\":\n        world.set(communicationPos, \"pink concrete\")\n        time.sleep(timeout)  \n@user-code",
                                                         "readonly":  true
                                                     }
                                   },
                      "outputs":  [

                                  ],
                      "source":  [
                                     "# ESEMPIO DI CODICE - NON È POSSIBILE MODIFICARLO QUI\n",
                                     "# ESEGUILO PER VEDERE COSA ACCADE\n",
                                     "\n",
                                     "# sposta la fila verde a destra\n",
                                     "# 3 volte, la fila gialla\n",
                                     "# 1 a sinistra una volta e la fila rossa\n",
                                     "# a destra 3 volte.\n",
                                     "\n",
                                     "shift_row(\"green\", \"right\")\n",
                                     "shift_row(\"green\", \"right\")\n",
                                     "shift_row(\"green\", \"right\")\n",
                                     "shift_row(\"yellow\", \"left\")\n",
                                     "shift_row(\"red\", \"right\")\n",
                                     "shift_row(\"red\", \"right\")\n",
                                     "shift_row(\"red\", \"right\")"
                                 ]
                  },
                  {
                      "cell_type":  "markdown",
                      "id":  "a2330714",
                      "metadata":  {

                                   },
                      "source":  [
                                     "# Per esperti:\n",
                                     "\n",
                                     "Utilizza un loop `for` per eseguire più volte una o più operazioni."
                                 ]
                  },
                  {
                      "cell_type":  "code",
                      "execution_count":  null,
                      "id":  "9da21bcf",
                      "metadata":  {
                                       "minecraft":  {
                                                         "closeCodeBuilderOnRun":  true,
                                                         "hidden":  false,
                                                         "onCodeCancelledCommand":  "scoreboard players set @s code_status 0",
                                                         "onCodeErrorCommand":  "scoreboard players set @s code_status 0",
                                                         "onCodeStartedCommand":  "scoreboard players set @s code_status 1",
                                                         "onCodeStoppedCommand":  "scoreboard players set @s code_status 0",
                                                         "onCodeSuccessfulCommand":  "scoreboard players set @s code_status 0",
                                                         "overridePython":  "import time\n\ntimeout = 0.100\ncommunicationPos = (0, 64, 0)\n\ntime.sleep(0.250)\n\ndef shift_row(color, direction):\n    if color==\"green\" and direction == \"left\":\n        world.set(communicationPos, \"orange concrete\")\n        time.sleep(timeout)   \n    elif color==\"green\" and direction == \"right\":\n        world.set(communicationPos, \"magenta concrete\")\n        time.sleep(timeout)                 \n    elif color==\"yellow\" and direction == \"left\":\n        world.set(communicationPos, \"light blue concrete\")\n        time.sleep(timeout)   \n    elif color==\"yellow\" and direction == \"right\":\n        world.set(communicationPos, \"yellow concrete\")\n        time.sleep(timeout)                 \n    elif color==\"red\" and direction == \"left\":\n        world.set(communicationPos, \"lime concrete\")\n        time.sleep(timeout)   \n    elif color==\"red\" and direction == \"right\":\n        world.set(communicationPos, \"pink concrete\")\n        time.sleep(timeout)  \n@user-code",
                                                         "readonly":  true
                                                     }
                                   },
                      "outputs":  [

                                  ],
                      "source":  [
                                     "# ESEMPIO DI CODICE - NON È POSSIBILE MODIFICARLO QUI\n",
                                     "# ESEGUILO PER VEDERE COSA ACCADE\n",
                                     "\n",
                                     "# sposta la fila verde a destra\n",
                                     "# 3 volte, la fila gialla\n",
                                     "# 1 a sinistra una volta e la fila rossa\n",
                                     "# a destra 3 volte.\n",
                                     "\n",
                                     "for i in range(3):\n",
                                     "    shift_row(\"green\", \"right\")\n",
                                     "    \n",
                                     "shift_row(\"yellow\", \"left\")\n",
                                     "\n",
                                     "for i in range(3):\n",
                                     "    shift_row(\"red\", \"right\")"
                                 ]
                  },
                  {
                      "cell_type":  "markdown",
                      "id":  "8a3d50eb",
                      "metadata":  {

                                   },
                      "source":  [
                                     "# Attività:\n",
                                     "\n",
                                     "Sposta le file verdi, gialle e rosse a sinistra o a destra in modo che i laser passino attraverso i blocchi di vetro e accendano le luci.\n",
                                     "\n",
                                     "Il codice incluso di seguito è rotto. Riesci a sistemarlo? Esegui il codice per vedere cosa accade, quindi esegui il debug modificandolo con la soluzione corretta."
                                 ]
                  },
                  {
                      "cell_type":  "code",
                      "execution_count":  null,
                      "id":  "b6f4bd0e",
                      "metadata":  {
                                       "minecraft":  {
                                                         "closeCodeBuilderOnRun":  true,
                                                         "hidden":  false,
                                                         "onCodeCancelledCommand":  "scoreboard players set @s code_status 0",
                                                         "onCodeErrorCommand":  "scoreboard players set @s code_status 0",
                                                         "onCodeStartedCommand":  "scoreboard players set @s code_status 1",
                                                         "onCodeStoppedCommand":  "scoreboard players set @s code_status 0",
                                                         "onCodeSuccessfulCommand":  "scoreboard players set @s code_status 0",
                                                         "overridePython":  "import time\n\ntimeout = 0.100\ncommunicationPos = (0, 64, 0)\n\ntime.sleep(0.250)\n\ndef shift_row(color, direction):\n    if color==\"green\" and direction == \"left\":\n        world.set(communicationPos, \"orange concrete\")\n        time.sleep(timeout)   \n    elif color==\"green\" and direction == \"right\":\n        world.set(communicationPos, \"magenta concrete\")\n        time.sleep(timeout)                 \n    elif color==\"yellow\" and direction == \"left\":\n        world.set(communicationPos, \"light blue concrete\")\n        time.sleep(timeout)   \n    elif color==\"yellow\" and direction == \"right\":\n        world.set(communicationPos, \"yellow concrete\")\n        time.sleep(timeout)                 \n    elif color==\"red\" and direction == \"left\":\n        world.set(communicationPos, \"lime concrete\")\n        time.sleep(timeout)   \n    elif color==\"red\" and direction == \"right\":\n        world.set(communicationPos, \"pink concrete\")\n        time.sleep(timeout)  \n@user-code",
                                                         "readonly":  false
                                                     }
                                   },
                      "outputs":  [

                                  ],
                      "source":  [
                                     "# codice qui\n",
                                     "\n",
                                     "shift_row(\"green\", \"left\")\n",
                                     "shift_row(\"yellow\", \"right\")\n",
                                     "shift_row(\"red\", \"right\")\n",
                                     "shift_row(\"red\", \"right\")\n",
                                     "shift_row(\"red\", \"right\")"
                                 ]
                  }
              ],
    "metadata":  {
                     "celltoolbar":  "Edit Metadata",
                     "kernelspec":  {
                                        "display_name":  "Python 3 (ipykernel)",
                                        "language":  "python",
                                        "name":  "python3"
                                    },
                     "language_info":  {
                                           "codemirror_mode":  {
                                                                   "name":  "ipython",
                                                                   "version":  3
                                                               },
                                           "file_extension":  ".py",
                                           "mimetype":  "text/x-python",
                                           "name":  "python",
                                           "nbconvert_exporter":  "python",
                                           "pygments_lexer":  "ipython3",
                                           "version":  "3.10.7"
                                       },
                     "minecraft":  {
                                       "description":  "OdC 2022",
                                       "page_id":  "1.1",
                                       "page_name":  "OdC 2022",
                                       "style":  "minecraft.css"
                                   }
                 },
    "nbformat":  4,
    "nbformat_minor":  5
}
