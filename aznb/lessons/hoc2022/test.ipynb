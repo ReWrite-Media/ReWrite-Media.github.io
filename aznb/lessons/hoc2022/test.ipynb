{
 "cells": [
  {
   "cell_type": "markdown",
   "id": "07ff444f",
   "metadata": {
    "minecraft":{
        "minecraft": {
            "closeCodeBuilderOnRun": true,
            "onCodeStartedCommand": "scoreboard players set @s code_status 1",
            "onCodeStoppedCommand": "scoreboard players set @s code_status 0"
        }
    }
   },
   "source": [
    "# Codebuilder Runtime Bug\n",
    "Running the command `/codebuilder runtime stop @s` does not stop the execution of code from AZNB causing the code to continuously run. \n",
    "\n",
    "Run the below code and then in game issue the command `/codebuilder runtime stop @s`"
   ]
  },
  {
   "cell_type": "code",
   "execution_count": null,
   "id": "03047e47",
   "metadata": {},
   "outputs": [],
   "source": [
    "for i in range(50):\n",
    "    agent.move(\"forward\")"
   ]
  },
  {
   "cell_type": "markdown",
   "id": "a0db9c4a",
   "metadata": {},
   "source": []
  }
 ],
 "metadata": {
  "celltoolbar": "Edit Metadata",
  "kernelspec": {
   "display_name": "Python 3.10.7 64-bit (microsoft store)",
   "language": "python",
   "name": "python3"
  },
  "language_info": {
   "codemirror_mode": {
    "name": "ipython",
    "version": 3
   },
   "file_extension": ".py",
   "mimetype": "text/x-python",
   "name": "python",
   "nbconvert_exporter": "python",
   "pygments_lexer": "ipython3",
   "version": "3.10.7"
  },
  "minecraft": {
   "description": "HOC 2022",
   "page_id": "1.1",
   "page_name": "HOC 2022",
   "style": "minecraft.css"
  },
  "vscode": {
   "interpreter": {
    "hash": "34242f13a52f302bd973ebb7ec1f6ba9310bbd38aa2ae877991984a75c84a395"
   }
  }
 },
 "nbformat": 4,
 "nbformat_minor": 5
}
