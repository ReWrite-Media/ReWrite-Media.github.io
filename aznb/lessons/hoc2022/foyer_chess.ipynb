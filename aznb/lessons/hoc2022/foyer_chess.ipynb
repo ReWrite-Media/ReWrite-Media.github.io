{
 "cells": [
  {
   "cell_type": "markdown",
   "id": "011de41a",
   "metadata": {},
   "source": [
    "# Chess Pieces\n",
    "\n",
    "We've freed the king and queen! But the door still isn't opening. They must be in the wrong positions. Move them into the correct positions so you can finally escape this place!\n",
    "\n",
    "The chessboard represents a grid of dates. Search the room to figure out what dates the king and queen should be on and then use the ``||hoc22.move king <direction>||`` and ``||hoc22.move queen <direction>||`` blocks to move them into their correct positions.\n"
   ]
  },
  {
   "cell_type": "code",
   "execution_count": null,
   "id": "b6f4bd0e",
   "metadata": {
    "minecraft": {
     "closeCodeBuilderOnRun": true,
     "hidden": false,
     "onCodeCancelledCommand": "scoreboard players set @s code_status 0",
     "onCodeErrorCommand": "scoreboard players set @s code_status 0",
     "onCodeStartedCommand": "scoreboard players set @s code_status 1",
     "onCodeStoppedCommand": "scoreboard players set @s code_status 0",
     "onCodeSuccessfulCommand": "scoreboard players set @s code_status 0",
     "overridePython": "import time\n\ntimeout = 0.100\ncommunicationPos = (0, 64, 0)\n\ntime.sleep(0.250)\n\ndef move_chess_piece(type, color):\n    if type==\"king\" & color==\"orange\":\n        world.set(communicationPos, \"orange concrete\")\n        time.sleep(timeout)            \n    elif type==\"king\" & color==\"magenta\":\n        world.set(communicationPos, \"magenta concrete\")\n        time.sleep(timeout)    \n    elif type==\"king\" & color==\"blue\":\n        world.set(communicationPos, \"light blue concrete\")\n        time.sleep(timeout)    \n    elif type==\"king\" & color==\"yellow\":\n        world.set(communicationPos, \"yellow concrete\")\n        time.sleep(timeout)                \n    elif type==\"queen\" & color==\"orange\":\n        world.set(communicationPos, \"lime concrete\")\n        time.sleep(timeout)    \n    elif type==\"queen\" & color==\"magenta\":\n        world.set(communicationPos, \"pink concrete\")\n        time.sleep(timeout)    \n    elif type==\"queen\" & color==\"blue\":\n        world.set(communicationPos, \"gray concrete\")\n        time.sleep(timeout)    \n    elif type==\"queen\" & color==\"yellow\":\n        world.set(communicationPos, \"light gray concrete\")\n        time.sleep(timeout)    \n\n@user-code",
     "readonly": false
    }
   },
   "outputs": [],
   "source": [
    "move_chess_piece(\"king\", \"orange\")\n",
    "move_chess_piece(\"king\", \"orange\")\n",
    "move_chess_piece(\"king\", \"orange\")\n",
    "move_chess_piece(\"king\", \"blue\")\n",
    "move_chess_piece(\"queen\", \"yellow\")\n",
    "move_chess_piece(\"queen\", \"yellow\")\n",
    "move_chess_piece(\"queen\", \"orange\")\n"
   ]
  }
 ],
 "metadata": {
  "kernelspec": {
   "display_name": "Python 3 (ipykernel)",
   "language": "python",
   "name": "python3"
  },
  "language_info": {
   "codemirror_mode": {
    "name": "ipython",
    "version": 3
   },
   "file_extension": ".py",
   "mimetype": "text/x-python",
   "name": "python",
   "nbconvert_exporter": "python",
   "pygments_lexer": "ipython3",
   "version": "3.10.7"
  },
  "minecraft": {
   "description": "HOC 2022",
   "page_id": "1.1",
   "page_name": "HOC 2022",
   "style": "minecraft.css"
  }
 },
 "nbformat": 4,
 "nbformat_minor": 5
}
