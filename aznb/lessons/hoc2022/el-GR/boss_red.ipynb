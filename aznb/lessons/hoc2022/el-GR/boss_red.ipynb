﻿{
    "cells":  [
                  {
                      "cell_type":  "markdown",
                      "id":  "c96609d4",
                      "metadata":  {

                                   },
                      "source":  [
                                     "# Ανοιχτές Πόρτες\n",
                                     "\n",
                                     "Κάθε τρύπα αντιπροσωπεύει μια πόρτα θαλάμου στις τέσσερις γωνίες της αρένας του αφεντικού! Γέμισε όλες τις τρύπες με το σωστό χρώμα για να ανοίξεις τις πόρτες του θαλάμου! Χρησιμοποίησε τη λειτουργία `move_cursor()` για να τοποθετήσεις τον δρομέα σε μία κενή θέση και, στη συνέχεια, χρησιμοποίησε τη συνάρτηση `place_block()` για να τοποθετήσεις έναν χρωματιστό κύβο και να γεμίσεις κάθε κενό!\n",
                                     "\n",
                                     "Η συνάρτηση `place_block()` παίρνει μία παράμετρο που ορίζει το χρώμα του κύβου που θέλεις να τοποθετήσεις.\n",
                                     "\n",
                                     "Τα έγκυρα χρώματα είναι:\n",
                                     "- `magenta`\n",
                                     "- `green`\n",
                                     "- `yellow`\n",
                                     "- `blue`\n",
                                     "\n",
                                     "Η συνάρτηση `move_cursor()` παίρνει μία παράμετρο που ορίζει την κατεύθυνσή της. Αυτή η παράμετρος είναι το χρώμα του βέλους που αντιπροσωπεύει την κατεύθυνση που θέλεις να μετακινηθείς.\n",
                                     "\n",
                                     "Οι έγκυρες κατευθύνσεις είναι:\n",
                                     "- `orange` (μετακινεί τον δρομέα προς τα πάνω) ![Orange Arrow](img/orange_arrow.png \"Πορτοκαλί βέλος\")\n",
                                     "- `magenta` (μετακινεί τον δρομέα προς τα κάτω)  ![Magenta Arrow](img/magenta_arrow.png \"Ματζέντα βέλος\")\n",
                                     "- `blue` (μετακινεί τον δρομέα αριστερά)  ![Blue Arrow](img/blue_arrow.png \"Μπλε βέλος\")\n",
                                     "- `yellow` (μετακινεί τον δρομέα δεξιά)  ![Yellow Arrow](img/yellow_arrow.png \"Κίτρινο βέλος\")\n"
                                 ]
                  },
                  {
                      "cell_type":  "code",
                      "execution_count":  null,
                      "id":  "28bedf70",
                      "metadata":  {
                                       "minecraft":  {
                                                         "closeCodeBuilderOnRun":  true,
                                                         "hidden":  false,
                                                         "onCodeCancelledCommand":  "scoreboard players set @s code_status 0",
                                                         "onCodeErrorCommand":  "scoreboard players set @s code_status 0",
                                                         "onCodeStartedCommand":  "scoreboard players set @s code_status 1",
                                                         "onCodeStoppedCommand":  "scoreboard players set @s code_status 0",
                                                         "onCodeSuccessfulCommand":  "scoreboard players set @s code_status 0",
                                                         "overridePython":  "import time\n\ntimeout = 0.100\ncommunicationPos = (0, 64, 0)\n\ntime.sleep(0.250)\n\ndef move_cursor(color):\n    if color == \"orange\":\n        world.set(communicationPos, \"orange concrete\")\n        time.sleep(timeout)\n    elif color == \"magenta\":\n        world.set(communicationPos, \"magenta concrete\")\n        time.sleep(timeout)\n    elif color == \"blue\":\n        world.set(communicationPos, \"light blue concrete\")\n        time.sleep(timeout)\n    elif color == \"yellow\":\n        world.set(communicationPos, \"yellow concrete\")\n        time.sleep(timeout)\n\ndef place_block(color):\n    if color==\"magenta\":\n        world.set(communicationPos, \"lime concrete\")\n        time.sleep(timeout)\n    elif color==\"green\":\n        world.set(communicationPos, \"pink concrete\")\n        time.sleep(timeout) \n    elif color==\"yellow\":\n        world.set(communicationPos, \"gray concrete\")\n        time.sleep(timeout)\n    elif color==\"blue\":\n        world.set(communicationPos, \"light gray concrete\")\n        time.sleep(timeout)  \n@user-code",
                                                         "readonly":  true
                                                     }
                                   },
                      "outputs":  [

                                  ],
                      "source":  [
                                     "# ΠΑΡΑΔΕΙΓΜΑ ΚΩΔΙΚΑ - ΔΕΝ ΜΠΟΡΕΙΣ ΝΑ ΕΠΕΞΕΡΓΑΣΤΕΙΣ ΕΔΩ\n",
                                     "# ΕΚΤΕΛΕΣΕ ΤΟ ΓΙΑ ΝΑ ΔΕΙΣ ΤΙ ΘΑ ΣΥΜΒΕΙ\n",
                                     "\n",
                                     "# τοποθέτησε έναν πράσινο κύβο, μετακινήσου\n",
                                     "# 2 κενά δεξιά και μετά τοποθέτησε\n",
                                     "# ένας μπλε κύβος\n",
                                     "\n",
                                     "place_block(\"green\")\n",
                                     "move_cursor(\"yellow\")\n",
                                     "move_cursor(\"yellow\")\n",
                                     "place_block(\"blue\")"
                                 ]
                  },
                  {
                      "cell_type":  "markdown",
                      "id":  "c783d7fe",
                      "metadata":  {

                                   },
                      "source":  [
                                     "# Δραστηριότητα:\n",
                                     "\n",
                                     "Τοποθέτησε χρωματιστούς κύβους στις σωστές θέσεις για να ανοίξεις τις πόρτες του θαλάμου.\n",
                                     "\n",
                                     "Ο παρακάτω κώδικας που περιλαμβάνεται είναι σπασμένος. Μπορείς να τον διορθώσεις; Εκτέλεσε τον κώδικα για να δεις τι συμβαίνει και, στη συνέχεια, εντόπισε σφάλματα καθώς τον επεξεργάζεσαι για να βρεις τη σωστή λύση."
                                 ]
                  },
                  {
                      "cell_type":  "code",
                      "execution_count":  null,
                      "id":  "b6f4bd0e",
                      "metadata":  {
                                       "minecraft":  {
                                                         "closeCodeBuilderOnRun":  true,
                                                         "hidden":  false,
                                                         "onCodeCancelledCommand":  "scoreboard players set @s code_status 0",
                                                         "onCodeErrorCommand":  "scoreboard players set @s code_status 0",
                                                         "onCodeStartedCommand":  "scoreboard players set @s code_status 1",
                                                         "onCodeStoppedCommand":  "scoreboard players set @s code_status 0",
                                                         "onCodeSuccessfulCommand":  "scoreboard players set @s code_status 0",
                                                         "overridePython":  "import time\n\ntimeout = 0.100\ncommunicationPos = (0, 64, 0)\n\ntime.sleep(0.250)\n\ndef move_cursor(color):\n    if color == \"orange\":\n        world.set(communicationPos, \"orange concrete\")\n        time.sleep(timeout)\n    elif color == \"magenta\":\n        world.set(communicationPos, \"magenta concrete\")\n        time.sleep(timeout)\n    elif color == \"blue\":\n        world.set(communicationPos, \"light blue concrete\")\n        time.sleep(timeout)\n    elif color == \"yellow\":\n        world.set(communicationPos, \"yellow concrete\")\n        time.sleep(timeout)\n\ndef place_block(color):\n    if color==\"magenta\":\n        world.set(communicationPos, \"lime concrete\")\n        time.sleep(timeout)\n    elif color==\"green\":\n        world.set(communicationPos, \"pink concrete\")\n        time.sleep(timeout) \n    elif color==\"yellow\":\n        world.set(communicationPos, \"gray concrete\")\n        time.sleep(timeout)\n    elif color==\"blue\":\n        world.set(communicationPos, \"light gray concrete\")\n        time.sleep(timeout)  \n@user-code",
                                                         "readonly":  false
                                                     }
                                   },
                      "outputs":  [

                                  ],
                      "source":  [
                                     "# κώδικας εδώ\n",
                                     "\n",
                                     "place_block(\"green\")\n",
                                     "move_cursor(\"yellow\")\n",
                                     "move_cursor(\"yellow\")\n",
                                     "place_block(\"blue\")\n"
                                 ]
                  }
              ],
    "metadata":  {
                     "celltoolbar":  "Edit Metadata",
                     "kernelspec":  {
                                        "display_name":  "Python 3 (ipykernel)",
                                        "language":  "python",
                                        "name":  "python3"
                                    },
                     "language_info":  {
                                           "codemirror_mode":  {
                                                                   "name":  "ipython",
                                                                   "version":  3
                                                               },
                                           "file_extension":  ".py",
                                           "mimetype":  "text/x-python",
                                           "name":  "python",
                                           "nbconvert_exporter":  "python",
                                           "pygments_lexer":  "ipython3",
                                           "version":  "3.10.7"
                                       },
                     "minecraft":  {
                                       "description":  "Ώρα του Κώδικα 2022",
                                       "page_id":  "1.1",
                                       "page_name":  "Ώρα του Κώδικα 2022",
                                       "style":  "minecraft.css"
                                   }
                 },
    "nbformat":  4,
    "nbformat_minor":  5
}
