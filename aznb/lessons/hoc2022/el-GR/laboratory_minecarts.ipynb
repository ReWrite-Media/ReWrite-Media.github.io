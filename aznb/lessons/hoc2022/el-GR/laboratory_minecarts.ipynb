﻿{
    "cells":  [
                  {
                      "cell_type":  "markdown",
                      "id":  "61daf32d",
                      "metadata":  {

                                   },
                      "source":  [
                                     "# Ανακατεύθυνση Βαγονέτου\n",
                                     "\n",
                                     "Τα πλάσματα πρέπει να ταξινομηθούν στα σωστά περάσματα! Δες τα πλάσματα που βρίσκονται στην ουρά για να ταξινομηθούν και ταξινόμησέ τα με βάση τη σειρά που περιμένουν. Χρησιμοποίησε τη συνάρτηση `sort_mob()` για να ορίσεις τη σειρά με την οποία πρέπει να ταξινομηθούν.\n",
                                     "\n",
                                     "Η συνάρτηση `sort_mob()` παίρνει μία παράμετρο που ορίζει ποιο πλάσμα πρέπει να ταξινομηθεί μετά.\n",
                                     "\n",
                                     "Έγκυρα πλάσματα είναι:\n",
                                     "- `zombie` ![Zombie](img/zombie_head.png \"Ζόμπι\")\n",
                                     "- `skeleton` (Σκελετός) ![Skeleton](img/skeleton_head.png \"Σκελετός\")\n",
                                     "- `creeper` (Creeper) ![Creeper](img/creeper_head.png \"Creeper\")"
                                 ]
                  },
                  {
                      "cell_type":  "code",
                      "execution_count":  null,
                      "id":  "972e35c6",
                      "metadata":  {
                                       "minecraft":  {
                                                         "closeCodeBuilderOnRun":  true,
                                                         "hidden":  false,
                                                         "onCodeCancelledCommand":  "scoreboard players set @s code_status 0",
                                                         "onCodeErrorCommand":  "scoreboard players set @s code_status 0",
                                                         "onCodeStartedCommand":  "scoreboard players set @s code_status 1",
                                                         "onCodeStoppedCommand":  "scoreboard players set @s code_status 0",
                                                         "onCodeSuccessfulCommand":  "scoreboard players set @s code_status 0",
                                                         "overridePython":  "import time\n\ntimeout = 0.100\ncommunicationPos = (0, 64, 0)\n\ntime.sleep(0.250)\n\ndef sort_mob(mob):\n    if mob==\"zombie\":\n        world.set(communicationPos, \"orange concrete\")\n        time.sleep(timeout)         \n    elif mob==\"skeleton\":\n        world.set(communicationPos, \"magenta concrete\")\n        time.sleep(timeout)\n    elif mob==\"creeper\":\n        world.set(communicationPos, \"light blue concrete\")\n        time.sleep(timeout)\n@user-code",
                                                         "readonly":  true
                                                     }
                                   },
                      "outputs":  [

                                  ],
                      "source":  [
                                     "# ΠΑΡΑΔΕΙΓΜΑ ΚΩΔΙΚΑ - ΔΕΝ ΜΠΟΡΕΙΣ ΝΑ ΕΠΕΞΕΡΓΑΣΤΕΙΣ ΕΔΩ\n",
                                     "# ΕΚΤΕΛΕΣΕ ΤΟ ΓΙΑ ΝΑ ΔΕΙΣ ΤΙ ΘΑ ΣΥΜΒΕΙ\n",
                                     "\n",
                                     "# ταξινόμησε τα πρώτα 4 πλάσματα και\n",
                                     "# στο πέρασμα των ζόμπι.\n",
                                     "\n",
                                     "sort_mob(\"zombie\")\n",
                                     "sort_mob(\"zombie\")\n",
                                     "sort_mob(\"zombie\")\n",
                                     "sort_mob(\"zombie\")"
                                 ]
                  },
                  {
                      "cell_type":  "markdown",
                      "id":  "dc88a163",
                      "metadata":  {

                                   },
                      "source":  [
                                     "# Δραστηριότητα:\n",
                                     "\n",
                                     "Δώσε προσοχή στη σειρά που βρίσκονται τα πλάσματα και γράψε τον κώδικά σου για να ταξινομήσεις το κάθε πλάσμα στο σωστό πέρασμα.\n",
                                     "\n",
                                     "Ο παρακάτω κώδικας που περιλαμβάνεται είναι σπασμένος. Μπορείς να τον διορθώσεις; Εκτέλεσε τον κώδικα για να δεις τι συμβαίνει και, στη συνέχεια, εντόπισε σφάλματα καθώς τον επεξεργάζεσαι για να βρεις τη σωστή λύση."
                                 ]
                  },
                  {
                      "cell_type":  "code",
                      "execution_count":  null,
                      "id":  "b6f4bd0e",
                      "metadata":  {
                                       "minecraft":  {
                                                         "closeCodeBuilderOnRun":  true,
                                                         "hidden":  false,
                                                         "onCodeCancelledCommand":  "scoreboard players set @s code_status 0",
                                                         "onCodeErrorCommand":  "scoreboard players set @s code_status 0",
                                                         "onCodeStartedCommand":  "scoreboard players set @s code_status 1",
                                                         "onCodeStoppedCommand":  "scoreboard players set @s code_status 0",
                                                         "onCodeSuccessfulCommand":  "scoreboard players set @s code_status 0",
                                                         "overridePython":  "import time\n\ntimeout = 0.100\ncommunicationPos = (0, 64, 0)\n\ntime.sleep(0.250)\n\ndef sort_mob(mob):\n    if mob==\"zombie\":\n        world.set(communicationPos, \"orange concrete\")\n        time.sleep(timeout)         \n    elif mob==\"skeleton\":\n        world.set(communicationPos, \"magenta concrete\")\n        time.sleep(timeout)\n    elif mob==\"creeper\":\n        world.set(communicationPos, \"light blue concrete\")\n        time.sleep(timeout)\n@user-code",
                                                         "readonly":  false
                                                     }
                                   },
                      "outputs":  [

                                  ],
                      "source":  [
                                     "# κώδικας εδώ\n",
                                     "\n",
                                     "sort_mob(\"zombie\")\n",
                                     "sort_mob(\"zombie\")\n",
                                     "sort_mob(\"skeleton\")\n",
                                     "sort_mob(\"creeper\")\n",
                                     "sort_mob(\"creeper\")\n",
                                     "sort_mob(\"skeleton\")\n",
                                     "sort_mob(\"zombie\")"
                                 ]
                  }
              ],
    "metadata":  {
                     "celltoolbar":  "Edit Metadata",
                     "kernelspec":  {
                                        "display_name":  "Python 3 (ipykernel)",
                                        "language":  "python",
                                        "name":  "python3"
                                    },
                     "language_info":  {
                                           "codemirror_mode":  {
                                                                   "name":  "ipython",
                                                                   "version":  3
                                                               },
                                           "file_extension":  ".py",
                                           "mimetype":  "text/x-python",
                                           "name":  "python",
                                           "nbconvert_exporter":  "python",
                                           "pygments_lexer":  "ipython3",
                                           "version":  "3.10.7"
                                       },
                     "minecraft":  {
                                       "description":  "Ώρα του Κώδικα 2022",
                                       "page_id":  "1.1",
                                       "page_name":  "Ώρα του Κώδικα 2022",
                                       "style":  "minecraft.css"
                                   }
                 },
    "nbformat":  4,
    "nbformat_minor":  5
}
