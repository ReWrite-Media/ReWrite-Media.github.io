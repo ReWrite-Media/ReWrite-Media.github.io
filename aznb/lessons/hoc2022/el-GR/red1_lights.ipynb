﻿{
    "cells":  [
                  {
                      "cell_type":  "markdown",
                      "id":  "78e529f0",
                      "metadata":  {

                                   },
                      "source":  [
                                     "# Φώτα\n",
                                     "\n",
                                     "Φαίνεται να υπάρχει ένα μοτίβο με τον τρόπο που αναβοσβήνουν τα φώτα. Μετακίνησε τον Άνθρωπο του Τελειωτή σε κάθε θέση ακολουθώντας το μοτίβο που δημιουργούν τα φώτα. Χρησιμοποίησε τη λειτουργία `move_enderman()` για να επιλέξεις σε ποια χρωματιστή πλατφόρμα θα μετακινηθεί ο Άνθρωπος του Τελειωτή.\n",
                                     "\n",
                                     "Η συνάρτηση `move_enderman()` παίρνει μία παράμετρο που ορίζει σε ποια χρωματιστή πλατφόρμα πηγαίνει.\n",
                                     "\n",
                                     "Τα έγκυρα χρώματα είναι:\n",
                                     "- `green` ![Green](img/green_glazed.png \"Πράσινο\")\n",
                                     "- `yellow` ![Yellow](img/yellow_glazed.png \"Κίτρινο\")\n",
                                     "- `blue` ![Blue](img/blue_glazed.png \"Μπλε\")\n",
                                     "- `pink` ![Pink](img/pink_glazed.png \"Ροζ\")"
                                 ]
                  },
                  {
                      "cell_type":  "code",
                      "execution_count":  null,
                      "id":  "b48ad815",
                      "metadata":  {
                                       "minecraft":  {
                                                         "closeCodeBuilderOnRun":  true,
                                                         "hidden":  false,
                                                         "onCodeCancelledCommand":  "scoreboard players set @s code_status 0",
                                                         "onCodeErrorCommand":  "scoreboard players set @s code_status 0",
                                                         "onCodeStartedCommand":  "scoreboard players set @s code_status 1",
                                                         "onCodeStoppedCommand":  "scoreboard players set @s code_status 0",
                                                         "onCodeSuccessfulCommand":  "scoreboard players set @s code_status 0",
                                                         "overridePython":  "import time\n\ntimeout = 0.100\ncommunicationPos = (0, 64, 0)\n\ntime.sleep(0.250)\n\ndef move_enderman(color):\n    if color==\"blue\":\n        world.set(communicationPos, \"light blue concrete\")\n        time.sleep(timeout) \n    elif color==\"pink\":\n        world.set(communicationPos, \"pink concrete\")\n        time.sleep(timeout) \n    elif color==\"green\":\n        world.set(communicationPos, \"lime concrete\")\n        time.sleep(timeout) \n    elif color==\"yellow\":\n        world.set(communicationPos, \"yellow concrete\")\n        time.sleep(timeout) \n@user-code",
                                                         "readonly":  true
                                                     }
                                   },
                      "outputs":  [

                                  ],
                      "source":  [
                                     "# ΠΑΡΑΔΕΙΓΜΑ ΚΩΔΙΚΑ - ΔΕΝ ΜΠΟΡΕΙΣ ΝΑ ΕΠΕΞΕΡΓΑΣΤΕΙΣ ΕΔΩ\n",
                                     "# ΕΚΤΕΛΕΣΕ ΤΟ ΓΙΑ ΝΑ ΔΕΙΣ ΤΙ ΘΑ ΣΥΜΒΕΙ\n",
                                     "\n",
                                     "# αρχικά μετακίνησε τον Άνθρωπο του Τελειωτή στο πράσινο\n",
                                     "# πλατφόρμα, μετά στο κίτρινο ένα\n",
                                     "\n",
                                     "move_enderman(\"green\")\n",
                                     "move_enderman(\"yellow\")"
                                 ]
                  },
                  {
                      "cell_type":  "markdown",
                      "id":  "b03d9c40",
                      "metadata":  {

                                   },
                      "source":  [
                                     "# Δραστηριότητα:\n",
                                     "\n",
                                     "Υπάρχουν πολλά στάδια σε αυτή τη δραστηριότητα. Παρατήρησε το μοτίβο που δημιουργούν τα φώτα και γράψε τον κώδικα για να κάνεις τον Άνθρωπο του Τελειωτή να ταιριάξει με αυτό το μοτίβο.\n",
                                     "\n",
                                     "Ο παρακάτω κώδικας που περιλαμβάνεται είναι σπασμένος. Μπορείς να τον διορθώσεις; Εκτέλεσε τον κώδικα για να δεις τι συμβαίνει και, στη συνέχεια, εντόπισε σφάλματα καθώς τον επεξεργάζεσαι για να βρεις τη σωστή λύση."
                                 ]
                  },
                  {
                      "cell_type":  "code",
                      "execution_count":  null,
                      "id":  "b6f4bd0e",
                      "metadata":  {
                                       "minecraft":  {
                                                         "closeCodeBuilderOnRun":  true,
                                                         "hidden":  false,
                                                         "onCodeCancelledCommand":  "scoreboard players set @s code_status 0",
                                                         "onCodeErrorCommand":  "scoreboard players set @s code_status 0",
                                                         "onCodeStartedCommand":  "scoreboard players set @s code_status 1",
                                                         "onCodeStoppedCommand":  "scoreboard players set @s code_status 0",
                                                         "onCodeSuccessfulCommand":  "scoreboard players set @s code_status 0",
                                                         "overridePython":  "import time\n\ntimeout = 0.100\ncommunicationPos = (0, 64, 0)\n\ntime.sleep(0.250)\n\ndef move_enderman(color):\n    if color==\"blue\":\n        world.set(communicationPos, \"light blue concrete\")\n        time.sleep(timeout) \n    elif color==\"pink\":\n        world.set(communicationPos, \"pink concrete\")\n        time.sleep(timeout) \n    elif color==\"green\":\n        world.set(communicationPos, \"lime concrete\")\n        time.sleep(timeout) \n    elif color==\"yellow\":\n        world.set(communicationPos, \"yellow concrete\")\n        time.sleep(timeout) \n@user-code",
                                                         "readonly":  false
                                                     }
                                   },
                      "outputs":  [

                                  ],
                      "source":  [
                                     "# κώδικας εδώ\n",
                                     "\n",
                                     "move_enderman(\"green\")\n",
                                     "move_enderman(\"yellow\")"
                                 ]
                  }
              ],
    "metadata":  {
                     "celltoolbar":  "Edit Metadata",
                     "kernelspec":  {
                                        "display_name":  "Python 3 (ipykernel)",
                                        "language":  "python",
                                        "name":  "python3"
                                    },
                     "language_info":  {
                                           "codemirror_mode":  {
                                                                   "name":  "ipython",
                                                                   "version":  3
                                                               },
                                           "file_extension":  ".py",
                                           "mimetype":  "text/x-python",
                                           "name":  "python",
                                           "nbconvert_exporter":  "python",
                                           "pygments_lexer":  "ipython3",
                                           "version":  "3.10.7"
                                       },
                     "minecraft":  {
                                       "description":  "Ώρα του Κώδικα 2022",
                                       "page_id":  "1.1",
                                       "page_name":  "Ώρα του Κώδικα 2022",
                                       "style":  "minecraft.css"
                                   }
                 },
    "nbformat":  4,
    "nbformat_minor":  5
}
