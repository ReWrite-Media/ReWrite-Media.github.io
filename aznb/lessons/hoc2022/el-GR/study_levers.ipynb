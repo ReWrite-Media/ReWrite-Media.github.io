﻿{
    "cells":  [
                  {
                      "cell_type":  "markdown",
                      "id":  "acba1c10",
                      "metadata":  {

                                   },
                      "source":  [
                                     "# Χρωματιστοί μοχλοί\n",
                                     "\n",
                                     "Θα πρέπει να κατεβάσεις και τους τέσσερις μοχλούς για να ανοίξεις την πόρτα, αλλά δεν είσαι αρκετά γρήγορος για να το κάνεις χειροκίνητα. Δες αν μπορείς να καταλάβεις τη σειρά με την οποία πρέπει να κατεβούν και μετά προγραμμάτισε τον νέο σου φίλο, τον Γρήγορο Ιππότη, να το κάνει για χάρη μας! Χρησιμοποίησε τη συνάρτηση `move_knight()` για να ορίσεις σε ποιο χρώμα θα πρέπει να μετακινηθεί ο Γρήγορος Ιππότης.\n",
                                     "\n",
                                     "Η συνάρτηση `move_knight()` παίρνει μία παράμετρο που ορίζει σε ποιο χρώμα θα πρέπει να μετακινηθεί.\n",
                                     "\n",
                                     "Τα έγκυρα χρώματα είναι:\n",
                                     "- `blue` (μπλε) ![Blue](img/blue_carpet.png \"Μπλε\")\n",
                                     "- `orange` (πορτοκαλί) ![Orange](img/orange_carpet.png \"Πορτοκαλί\")\n",
                                     "- `yellow` (κίτρινο) ![Yellow](img/yellow_carpet.png \"Κίτρινο\")\n",
                                     "- `magenta` (φούξια) ![Magenta](img/magenta_carpet.png \"Ματζέντα\")\n"
                                 ]
                  },
                  {
                      "cell_type":  "code",
                      "execution_count":  null,
                      "id":  "0335d72d",
                      "metadata":  {
                                       "minecraft":  {
                                                         "closeCodeBuilderOnRun":  true,
                                                         "hidden":  false,
                                                         "onCodeCancelledCommand":  "scoreboard players set @s code_status 0",
                                                         "onCodeErrorCommand":  "scoreboard players set @s code_status 0",
                                                         "onCodeStartedCommand":  "scoreboard players set @s code_status 1",
                                                         "onCodeStoppedCommand":  "scoreboard players set @s code_status 0",
                                                         "onCodeSuccessfulCommand":  "scoreboard players set @s code_status 0",
                                                         "overridePython":  "import time\n\ntimeout = 0.100\ncommunicationPos = (0, 64, 0)\n\ntime.sleep(0.250)\n\ndef move_knight(color):\n    if color==\"blue\":\n        world.set(communicationPos, \"light blue concrete\")\n        time.sleep(timeout) \n    elif color==\"magenta\":\n        world.set(communicationPos, \"magenta concrete\")\n        time.sleep(timeout) \n    elif color==\"yellow\":\n        world.set(communicationPos, \"yellow concrete\")\n        time.sleep(timeout) \n    elif color==\"orange\":\n        world.set(communicationPos, \"orange concrete\")\n        time.sleep(timeout) \n@user-code",
                                                         "readonly":  true
                                                     }
                                   },
                      "outputs":  [

                                  ],
                      "source":  [
                                     "# ΠΑΡΑΔΕΙΓΜΑ ΚΩΔΙΚΑ - ΔΕΝ ΜΠΟΡΕΙΣ ΝΑ ΕΠΕΞΕΡΓΑΣΤΕΙΣ ΕΔΩ\n",
                                     "# ΕΚΤΕΛΕΣΕ ΤΟ ΓΙΑ ΝΑ ΔΕΙΣ ΤΙ ΘΑ ΣΥΜΒΕΙ\n",
                                     "\n",
                                     "# μετακίνησε τη Στολή Πανοπλίας μεταξύ\n",
                                     "# διαφορετικά χρώματα\n",
                                     "\n",
                                     "move_knight(\"blue\")\n",
                                     "move_knight(\"orange\")"
                                 ]
                  },
                  {
                      "cell_type":  "markdown",
                      "id":  "a259db5b",
                      "metadata":  {

                                   },
                      "source":  [
                                     "# Δραστηριότητα:\n",
                                     "\n",
                                     "Προσπάθησε να καταλάβεις με ποια σειρά πρέπει να κατέβουν οι μοχλοί δίνοντας ιδιαίτερη προσοχή στα χαλιά μπροστά τους. Στη συνέχεια, μετακίνησε τον Γρήγορο Ιππότη σε κάθε μοχλό με τη σωστή σειρά. Ο Γρήγορος Ιππότης είναι αρκετά έξυπνος για να κατεβάσει τον μοχλό όταν πάει στη θέση του!\n",
                                     "\n",
                                     "Ο παρακάτω κώδικας είναι σπασμένος, μπορείς να τον διορθώσεις; Εντόπισε σφάλματα στον κώδικα εκτελώντας τον για να δεις τι κάνει και, στη συνέχεια, επεξεργάσου τον, ώστε να έχεις το επιθυμητό αποτέλεσμα."
                                 ]
                  },
                  {
                      "cell_type":  "code",
                      "execution_count":  null,
                      "id":  "b6f4bd0e",
                      "metadata":  {
                                       "minecraft":  {
                                                         "closeCodeBuilderOnRun":  true,
                                                         "hidden":  false,
                                                         "onCodeCancelledCommand":  "scoreboard players set @s code_status 0",
                                                         "onCodeErrorCommand":  "scoreboard players set @s code_status 0",
                                                         "onCodeStartedCommand":  "scoreboard players set @s code_status 1",
                                                         "onCodeStoppedCommand":  "scoreboard players set @s code_status 0",
                                                         "onCodeSuccessfulCommand":  "scoreboard players set @s code_status 0",
                                                         "overridePython":  "import time\n\ntimeout = 0.100\ncommunicationPos = (0, 64, 0)\n\ntime.sleep(0.250)\n\ndef move_knight(color):\n    if color==\"blue\":\n        world.set(communicationPos, \"light blue concrete\")\n        time.sleep(timeout) \n    elif color==\"magenta\":\n        world.set(communicationPos, \"magenta concrete\")\n        time.sleep(timeout) \n    elif color==\"yellow\":\n        world.set(communicationPos, \"yellow concrete\")\n        time.sleep(timeout) \n    elif color==\"orange\":\n        world.set(communicationPos, \"orange concrete\")\n        time.sleep(timeout) \n@user-code",
                                                         "readonly":  false
                                                     }
                                   },
                      "outputs":  [

                                  ],
                      "source":  [
                                     "# κώδικας εδώ\n",
                                     "\n",
                                     "move_knight(\"blue\")\n",
                                     "move_knight(\"orange\")\n",
                                     "move_knight(\"yellow\")\n",
                                     "move_knight(\"magenta\")\n"
                                 ]
                  }
              ],
    "metadata":  {
                     "celltoolbar":  "Edit Metadata",
                     "kernelspec":  {
                                        "display_name":  "Python 3 (ipykernel)",
                                        "language":  "python",
                                        "name":  "python3"
                                    },
                     "language_info":  {
                                           "codemirror_mode":  {
                                                                   "name":  "ipython",
                                                                   "version":  3
                                                               },
                                           "file_extension":  ".py",
                                           "mimetype":  "text/x-python",
                                           "name":  "python",
                                           "nbconvert_exporter":  "python",
                                           "pygments_lexer":  "ipython3",
                                           "version":  "3.10.7"
                                       },
                     "minecraft":  {
                                       "description":  "Ώρα του Κώδικα 2022",
                                       "page_id":  "1.1",
                                       "page_name":  "Ώρα του Κώδικα 2022",
                                       "style":  "minecraft.css"
                                   }
                 },
    "nbformat":  4,
    "nbformat_minor":  5
}
