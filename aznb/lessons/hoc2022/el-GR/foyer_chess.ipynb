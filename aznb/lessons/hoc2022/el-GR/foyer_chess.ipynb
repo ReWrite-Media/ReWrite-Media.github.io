﻿{
    "cells":  [
                  {
                      "cell_type":  "markdown",
                      "id":  "011de41a",
                      "metadata":  {

                                   },
                      "source":  [
                                     "# Πιόνια σκακιού\n",
                                     "\n",
                                     "Ελευθέρωσες τον βασιλιά και τη βασίλισσα! Αλλά η πόρτα ακόμα δεν ανοίγει. Πρέπει να βρίσκονται σε λάθος θέση. Μετακινησέ τους στις σωστές θέσεις, ώστε να μπορέσεις επιτέλους να ξεφύγεις από αυτό το μέρος! Χρησιμοποίησε τη συνάρτηση `move_chess_piece()` για να μετακινήσεις τον βασιλιά και τη βασίλισσα στις σωστές θέσεις.\n",
                                     "\n",
                                     "Η συνάρτηση `move_chess_piece()` χρειάζεται δύο παραμέτρους. Η πρώτη είναι ποιο κομμάτι σκακιού θέλεις να μετακινήσεις, η δεύτερη είναι προς ποια κατεύθυνση πρέπει να κινηθεί.\n",
                                     "\n",
                                     "Έγκυρα πιόνια σκακιού είναι:\n",
                                     "- `king` ![King](img/king_icon.png \"Βασιλιάς\")\n",
                                     "- `queen` ![Queen](img/queen_icon.png \"Βασίλισσα\")\n",
                                     "\n",
                                     "Οι έγκυρες κατευθύνσεις είναι:\n",
                                     "- `orange` (μετακινεί το πιόνι σκακιού προς τα μπροστά) ![Orange Arrow](img/orange_arrow.png \"Πορτοκαλί βέλος\")\n",
                                     "- `magenta` (μετακινεί το πιόνι σκακιού προς τα πίσω) ![Magenta Arrow](img/magenta_arrow.png \"Ματζέντα βέλος\")\n",
                                     "- `blue` (μετακινεί το πιόνι σκακιού αριστερά) ![Blue Arrow](img/blue_arrow.png \"Μπλε βέλος\")\n",
                                     "- `yellow` (μετακινεί το πιόνι σκακιού δεξιά) ![Yellow Arrow](img/yellow_arrow.png \"Κίτρινο βέλος\")\n"
                                 ]
                  },
                  {
                      "cell_type":  "code",
                      "execution_count":  null,
                      "id":  "f49dad45",
                      "metadata":  {
                                       "minecraft":  {
                                                         "closeCodeBuilderOnRun":  true,
                                                         "hidden":  false,
                                                         "onCodeCancelledCommand":  "scoreboard players set @s code_status 0",
                                                         "onCodeErrorCommand":  "scoreboard players set @s code_status 0",
                                                         "onCodeStartedCommand":  "scoreboard players set @s code_status 1",
                                                         "onCodeStoppedCommand":  "scoreboard players set @s code_status 0",
                                                         "onCodeSuccessfulCommand":  "scoreboard players set @s code_status 0",
                                                         "overridePython":  "import time\n\ntimeout = 0.100\ncommunicationPos = (0, 64, 0)\n\ntime.sleep(0.250)\n\ndef move_chess_piece(type, color):\n    if type==\"king\" and color==\"orange\":\n        world.set(communicationPos, \"orange concrete\")\n        time.sleep(timeout)            \n    elif type==\"king\" and color==\"magenta\":\n        world.set(communicationPos, \"magenta concrete\")\n        time.sleep(timeout)    \n    elif type==\"king\" and color==\"blue\":\n        world.set(communicationPos, \"light blue concrete\")\n        time.sleep(timeout)    \n    elif type==\"king\" and color==\"yellow\":\n        world.set(communicationPos, \"yellow concrete\")\n        time.sleep(timeout)                \n    elif type==\"queen\" and color==\"orange\":\n        world.set(communicationPos, \"lime concrete\")\n        time.sleep(timeout)    \n    elif type==\"queen\" and color==\"magenta\":\n        world.set(communicationPos, \"pink concrete\")\n        time.sleep(timeout)    \n    elif type==\"queen\" and color==\"blue\":\n        world.set(communicationPos, \"gray concrete\")\n        time.sleep(timeout)    \n    elif type==\"queen\" and color==\"yellow\":\n        world.set(communicationPos, \"light gray concrete\")\n        time.sleep(timeout)  \n@user-code",
                                                         "readonly":  true
                                                     }
                                   },
                      "outputs":  [

                                  ],
                      "source":  [
                                     "# ΠΑΡΑΔΕΙΓΜΑ ΚΩΔΙΚΑ - ΔΕΝ ΜΠΟΡΕΙΣ ΝΑ ΕΠΕΞΕΡΓΑΣΤΕΙΣ ΕΔΩ\n",
                                     "# ΕΚΤΕΛΕΣΕ ΤΟ ΓΙΑ ΝΑ ΔΕΙΣ ΤΙ ΘΑ ΣΥΜΒΕΙ\n",
                                     "\n",
                                     "# μετακίνησε τη βασίλισσα προς τα μπροστά κατά 3 κύβους\n",
                                     "# Μετακίνησε τον βασιλιά αριστερά κατά 3 κύβους\n",
                                     "\n",
                                     "move_chess_piece(\"queen\", \"orange\")\n",
                                     "move_chess_piece(\"queen\", \"orange\")\n",
                                     "move_chess_piece(\"queen\", \"orange\")\n",
                                     "\n",
                                     "move_chess_piece(\"king\", \"blue\")\n",
                                     "move_chess_piece(\"king\", \"blue\")\n",
                                     "move_chess_piece(\"king\", \"blue\")"
                                 ]
                  },
                  {
                      "cell_type":  "markdown",
                      "id":  "4a996193",
                      "metadata":  {

                                   },
                      "source":  [
                                     "# Επαγγελματική συμβουλή:\n",
                                     "\n",
                                     "Χρησιμοποίησε έναν βρόχο `for` (για) για να επαναλαμβάνεις μία ή περισσότερες ενέργειες πολλές φορές."
                                 ]
                  },
                  {
                      "cell_type":  "code",
                      "execution_count":  null,
                      "id":  "0697247a",
                      "metadata":  {
                                       "minecraft":  {
                                                         "closeCodeBuilderOnRun":  true,
                                                         "hidden":  false,
                                                         "onCodeCancelledCommand":  "scoreboard players set @s code_status 0",
                                                         "onCodeErrorCommand":  "scoreboard players set @s code_status 0",
                                                         "onCodeStartedCommand":  "scoreboard players set @s code_status 1",
                                                         "onCodeStoppedCommand":  "scoreboard players set @s code_status 0",
                                                         "onCodeSuccessfulCommand":  "scoreboard players set @s code_status 0",
                                                         "overridePython":  "import time\n\ntimeout = 0.100\ncommunicationPos = (0, 64, 0)\n\ntime.sleep(0.250)\n\ndef move_chess_piece(type, color):\n    if type==\"king\" and color==\"orange\":\n        world.set(communicationPos, \"orange concrete\")\n        time.sleep(timeout)            \n    elif type==\"king\" and color==\"magenta\":\n        world.set(communicationPos, \"magenta concrete\")\n        time.sleep(timeout)    \n    elif type==\"king\" and color==\"blue\":\n        world.set(communicationPos, \"light blue concrete\")\n        time.sleep(timeout)    \n    elif type==\"king\" and color==\"yellow\":\n        world.set(communicationPos, \"yellow concrete\")\n        time.sleep(timeout)                \n    elif type==\"queen\" and color==\"orange\":\n        world.set(communicationPos, \"lime concrete\")\n        time.sleep(timeout)    \n    elif type==\"queen\" and color==\"magenta\":\n        world.set(communicationPos, \"pink concrete\")\n        time.sleep(timeout)    \n    elif type==\"queen\" and color==\"blue\":\n        world.set(communicationPos, \"gray concrete\")\n        time.sleep(timeout)    \n    elif type==\"queen\" and color==\"yellow\":\n        world.set(communicationPos, \"light gray concrete\")\n        time.sleep(timeout)  \n@user-code",
                                                         "readonly":  true
                                                     }
                                   },
                      "outputs":  [

                                  ],
                      "source":  [
                                     "# ΠΑΡΑΔΕΙΓΜΑ ΚΩΔΙΚΑ - ΔΕΝ ΜΠΟΡΕΙΣ ΝΑ ΕΠΕΞΕΡΓΑΣΤΕΙΣ ΕΔΩ\n",
                                     "# ΕΚΤΕΛΕΣΕ ΤΟ ΓΙΑ ΝΑ ΔΕΙΣ ΤΙ ΘΑ ΣΥΜΒΕΙ\n",
                                     "\n",
                                     "# μετακίνησε τη βασίλισσα προς τα μπροστά κατά 3 κύβους\n",
                                     "# Μετακίνησε τον βασιλιά αριστερά κατά 3 κύβους\n",
                                     "\n",
                                     "for i in range(3):\n",
                                     "    move_chess_piece(\"queen\", \"orange\")\n",
                                     "\n",
                                     "for i in range(3):\n",
                                     "    move_chess_piece(\"king\", \"blue\")"
                                 ]
                  },
                  {
                      "cell_type":  "markdown",
                      "id":  "5541dff4",
                      "metadata":  {

                                   },
                      "source":  [
                                     "# Δραστηριότητα:\n",
                                     "\n",
                                     "Ψάξε στο δωμάτιο για να βρεις πού πρέπει να μετακινήσεις το κάθε πιόνι σκακιού και, στη συνέχεια, γράψε κώδικα για να τα τοποθετήσεις στα σωστά σημεία στο ασπρόμαυρο καρό πάτωμα. Βεβαιώσου ότι τα πιόνια σκακιού δεν πέφτουν το ένα στο άλλο.\n",
                                     "\n",
                                     "Ο παρακάτω κώδικας που περιλαμβάνεται είναι σπασμένος. Μπορείς να τον διορθώσεις; Εκτέλεσε τον κώδικα για να δεις τι συμβαίνει και, στη συνέχεια, εντόπισε σφάλματα καθώς τον επεξεργάζεσαι για να βρεις τη σωστή λύση."
                                 ]
                  },
                  {
                      "cell_type":  "code",
                      "execution_count":  null,
                      "id":  "b6f4bd0e",
                      "metadata":  {
                                       "minecraft":  {
                                                         "closeCodeBuilderOnRun":  true,
                                                         "hidden":  false,
                                                         "onCodeCancelledCommand":  "scoreboard players set @s code_status 0",
                                                         "onCodeErrorCommand":  "scoreboard players set @s code_status 0",
                                                         "onCodeStartedCommand":  "scoreboard players set @s code_status 1",
                                                         "onCodeStoppedCommand":  "scoreboard players set @s code_status 0",
                                                         "onCodeSuccessfulCommand":  "scoreboard players set @s code_status 0",
                                                         "overridePython":  "import time\n\ntimeout = 0.100\ncommunicationPos = (0, 64, 0)\n\ntime.sleep(0.250)\n\ndef move_chess_piece(type, color):\n    if type==\"king\" and color==\"orange\":\n        world.set(communicationPos, \"orange concrete\")\n        time.sleep(timeout)            \n    elif type==\"king\" and color==\"magenta\":\n        world.set(communicationPos, \"magenta concrete\")\n        time.sleep(timeout)    \n    elif type==\"king\" and color==\"blue\":\n        world.set(communicationPos, \"light blue concrete\")\n        time.sleep(timeout)    \n    elif type==\"king\" and color==\"yellow\":\n        world.set(communicationPos, \"yellow concrete\")\n        time.sleep(timeout)                \n    elif type==\"queen\" and color==\"orange\":\n        world.set(communicationPos, \"lime concrete\")\n        time.sleep(timeout)    \n    elif type==\"queen\" and color==\"magenta\":\n        world.set(communicationPos, \"pink concrete\")\n        time.sleep(timeout)    \n    elif type==\"queen\" and color==\"blue\":\n        world.set(communicationPos, \"gray concrete\")\n        time.sleep(timeout)    \n    elif type==\"queen\" and color==\"yellow\":\n        world.set(communicationPos, \"light gray concrete\")\n        time.sleep(timeout)  \n@user-code",
                                                         "readonly":  false
                                                     }
                                   },
                      "outputs":  [

                                  ],
                      "source":  [
                                     "# κώδικας εδώ\n",
                                     "\n",
                                     "move_chess_piece(\"king\", \"orange\")\n",
                                     "move_chess_piece(\"king\", \"orange\")\n",
                                     "move_chess_piece(\"king\", \"orange\")\n",
                                     "move_chess_piece(\"king\", \"blue\")\n",
                                     "move_chess_piece(\"queen\", \"yellow\")\n",
                                     "move_chess_piece(\"queen\", \"yellow\")\n",
                                     "move_chess_piece(\"queen\", \"orange\")\n"
                                 ]
                  }
              ],
    "metadata":  {
                     "celltoolbar":  "Edit Metadata",
                     "kernelspec":  {
                                        "display_name":  "Python 3.10.8 64-bit (microsoft store)",
                                        "language":  "python",
                                        "name":  "python3"
                                    },
                     "language_info":  {
                                           "codemirror_mode":  {
                                                                   "name":  "ipython",
                                                                   "version":  3
                                                               },
                                           "file_extension":  ".py",
                                           "mimetype":  "text/x-python",
                                           "name":  "python",
                                           "nbconvert_exporter":  "python",
                                           "pygments_lexer":  "ipython3",
                                           "version":  "3.10.8"
                                       },
                     "minecraft":  {
                                       "description":  "Ώρα του Κώδικα 2022",
                                       "page_id":  "1.1",
                                       "page_name":  "Ώρα του Κώδικα 2022",
                                       "style":  "minecraft.css"
                                   },
                     "vscode":  {
                                    "interpreter":  {
                                                        "hash":  "34242f13a52f302bd973ebb7ec1f6ba9310bbd38aa2ae877991984a75c84a395"
                                                    }
                                }
                 },
    "nbformat":  4,
    "nbformat_minor":  5
}
