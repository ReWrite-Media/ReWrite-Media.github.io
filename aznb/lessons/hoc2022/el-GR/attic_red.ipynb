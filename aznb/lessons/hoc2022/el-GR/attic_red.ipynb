﻿{
    "cells":  [
                  {
                      "cell_type":  "markdown",
                      "id":  "e4ca514f",
                      "metadata":  {

                                   },
                      "source":  [
                                     "# Μάθημα Σοφίτας (Κόκκινο Μονοπάτι)\n",
                                     "\n",
                                     "Για να ανοίξεις την Κόκκινη πόρτα, τόσο εσύ όσο και ο Agent θα πρέπει να συνεργαστείτε. Αναποδογύρισε το επίπεδο για να σηκώσεις τον σιδερένιο τοίχο και, στη συνέχεια, μετακίνησε τον Agent έτσι ώστε να τοποθετηθεί πάνω από τους χρυσούς κύβους μπροστά από την Κόκκινη πόρτα. Χρησιμοποίησε τη συνάρτηση `agent.move()` για να μετακινήσεις τον Agent στους χρυσούς κύβους.\n",
                                     "\n",
                                     "Η συνάρτηση `agent.move()` παίρνει μια παράμετρο που ορίζει την κατεύθυνση στην οποία θα πρέπει να κινηθεί.\n",
                                     "\n",
                                     "Οι έγκυρες κατευθύνσεις είναι: \n",
                                     "- `forward`\n",
                                     "- `back`\n",
                                     "- `left`\n",
                                     "- `right`\n",
                                     "- `up`\n",
                                     "- `down`"
                                 ]
                  },
                  {
                      "cell_type":  "code",
                      "execution_count":  null,
                      "id":  "3af48906",
                      "metadata":  {
                                       "minecraft":  {
                                                         "closeCodeBuilderOnRun":  true,
                                                         "hidden":  false,
                                                         "onCodeCancelledCommand":  "scoreboard players set @s code_status 0",
                                                         "onCodeErrorCommand":  "scoreboard players set @s code_status 0",
                                                         "onCodeStartedCommand":  "scoreboard players set @s code_status 1",
                                                         "onCodeStoppedCommand":  "scoreboard players set @s code_status 0",
                                                         "onCodeSuccessfulCommand":  "scoreboard players set @s code_status 0",
                                                         "readonly":  true
                                                     }
                                   },
                      "outputs":  [

                                  ],
                      "source":  [
                                     "# ΠΑΡΑΔΕΙΓΜΑ ΚΩΔΙΚΑ - ΔΕΝ ΜΠΟΡΕΙΣ ΝΑ ΕΠΕΞΕΡΓΑΣΤΕΙΣ ΕΔΩ\n",
                                     "# ΕΚΤΕΛΕΣΕ ΤΟ ΓΙΑ ΝΑ ΔΕΙΣ ΤΙ ΘΑ ΣΥΜΒΕΙ\n",
                                     "\n",
                                     "# μετακίνησε τον agent 5 κύβους προς τα μπροστά\n",
                                     "\n",
                                     "agent.move(\"forward\")\n",
                                     "agent.move(\"forward\")\n",
                                     "agent.move(\"forward\")\n",
                                     "agent.move(\"forward\")\n",
                                     "agent.move(\"forward\")"
                                 ]
                  },
                  {
                      "cell_type":  "markdown",
                      "id":  "82ff9553",
                      "metadata":  {

                                   },
                      "source":  [
                                     "# Επαγγελματική συμβουλή:\n",
                                     "\n",
                                     "Χρησιμοποίησε έναν βρόχο `for` (για) για να επαναλαμβάνεις μία ή περισσότερες ενέργειες πολλές φορές."
                                 ]
                  },
                  {
                      "cell_type":  "code",
                      "execution_count":  null,
                      "id":  "cab99e35",
                      "metadata":  {
                                       "minecraft":  {
                                                         "closeCodeBuilderOnRun":  true,
                                                         "hidden":  false,
                                                         "onCodeCancelledCommand":  "scoreboard players set @s code_status 0",
                                                         "onCodeErrorCommand":  "scoreboard players set @s code_status 0",
                                                         "onCodeStartedCommand":  "scoreboard players set @s code_status 1",
                                                         "onCodeStoppedCommand":  "scoreboard players set @s code_status 0",
                                                         "onCodeSuccessfulCommand":  "scoreboard players set @s code_status 0",
                                                         "readonly":  true
                                                     }
                                   },
                      "outputs":  [

                                  ],
                      "source":  [
                                     "# ΠΑΡΑΔΕΙΓΜΑ ΚΩΔΙΚΑ - ΔΕΝ ΜΠΟΡΕΙΣ ΝΑ ΕΠΕΞΕΡΓΑΣΤΕΙΣ ΕΔΩ\n",
                                     "# ΕΚΤΕΛΕΣΕ ΤΟ ΓΙΑ ΝΑ ΔΕΙΣ ΤΙ ΘΑ ΣΥΜΒΕΙ\n",
                                     "\n",
                                     "# μετακίνησε τον agent 5 κύβους προς τα μπροστά\n",
                                     "\n",
                                     "for i in range(5):\n",
                                     "    agent.move(\"forward\")"
                                 ]
                  },
                  {
                      "cell_type":  "markdown",
                      "id":  "8c8d99e2",
                      "metadata":  {

                                   },
                      "source":  [
                                     "# Δραστηριότητα:\n",
                                     "\n",
                                     "Για να ανοίξεις την Κόκκινη πόρτα, αναποδογύρισε το επίπεδο για να σηκώσεις τον σιδερένιο τοίχο και, στη συνέχεια, μετακίνησε τον Agent έτσι ώστε να τοποθετηθεί πάνω από τους χρυσούς κύβους μπροστά από την Κόκκινη πόρτα.\n",
                                     "\n",
                                     "Ο παρακάτω κώδικας που περιλαμβάνεται είναι σπασμένος. Μπορείς να τον διορθώσεις; Εκτέλεσε τον κώδικα για να δεις τι συμβαίνει και, στη συνέχεια, εντόπισε σφάλματα καθώς τον επεξεργάζεσαι για να βρεις τη σωστή λύση."
                                 ]
                  },
                  {
                      "cell_type":  "code",
                      "execution_count":  null,
                      "id":  "a0bbae8e",
                      "metadata":  {
                                       "minecraft":  {
                                                         "closeCodeBuilderOnRun":  true,
                                                         "hidden":  false,
                                                         "onCodeCancelledCommand":  "scoreboard players set @s code_status 0",
                                                         "onCodeErrorCommand":  "scoreboard players set @s code_status 0",
                                                         "onCodeStartedCommand":  "scoreboard players set @s code_status 1",
                                                         "onCodeStoppedCommand":  "scoreboard players set @s code_status 0",
                                                         "onCodeSuccessfulCommand":  "scoreboard players set @s code_status 0",
                                                         "readonly":  false
                                                     }
                                   },
                      "outputs":  [

                                  ],
                      "source":  [
                                     "# κώδικας εδώ\n",
                                     "\n",
                                     "agent.move(\"forward\")\n",
                                     "agent.move(\"forward\")\n",
                                     "agent.move(\"forward\")\n",
                                     "agent.move(\"forward\")\n",
                                     "agent.move(\"forward\")"
                                 ]
                  }
              ],
    "metadata":  {
                     "celltoolbar":  "Edit Metadata",
                     "kernelspec":  {
                                        "display_name":  "Python 3 (ipykernel)",
                                        "language":  "python",
                                        "name":  "python3"
                                    },
                     "language_info":  {
                                           "codemirror_mode":  {
                                                                   "name":  "ipython",
                                                                   "version":  3
                                                               },
                                           "file_extension":  ".py",
                                           "mimetype":  "text/x-python",
                                           "name":  "python",
                                           "nbconvert_exporter":  "python",
                                           "pygments_lexer":  "ipython3",
                                           "version":  "3.10.7"
                                       },
                     "minecraft":  {
                                       "description":  "Ώρα του Κώδικα 2022",
                                       "page_id":  "1.1",
                                       "page_name":  "Ώρα του Κώδικα 2022",
                                       "style":  "minecraft.css"
                                   }
                 },
    "nbformat":  4,
    "nbformat_minor":  5
}
