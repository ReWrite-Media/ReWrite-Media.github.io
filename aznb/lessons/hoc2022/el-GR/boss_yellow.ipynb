﻿{
    "cells":  [
                  {
                      "cell_type":  "markdown",
                      "id":  "57511f76",
                      "metadata":  {

                                   },
                      "source":  [
                                     "# Προετοίμασε τα κανόνια\n",
                                     "\n",
                                     "Υπάρχει ένας μοχλός! Μετακίνησε τον Πράκτορα στον μοχλό και, στη συνέχεια, τράβηξέ τον προς τα κάτω! Χρησιμοποίησε το `agent.move()` για να τοποθετήσεις τον Πράκτορα μπροστά από τον μοχλό και, στη συνέχεια, το `pull_lever_down()` για να ενεργοποιήσεις τον μοχλό.\n",
                                     "\n",
                                     "Η συνάρτηση `agent.move()` παίρνει μια παράμετρο που ορίζει την κατεύθυνση στην οποία θα πρέπει να κινηθεί.\n",
                                     "\n",
                                     "Οι έγκυρες κατευθύνσεις είναι: \n",
                                     "- `forward` (μπροστά)\n",
                                     "- `back` (πίσω)\n",
                                     "- `left`\n",
                                     "- `right`\n",
                                     "- `up`\n",
                                     "- `down`"
                                 ]
                  },
                  {
                      "cell_type":  "code",
                      "execution_count":  null,
                      "id":  "a82cd0ab",
                      "metadata":  {
                                       "minecraft":  {
                                                         "closeCodeBuilderOnRun":  true,
                                                         "hidden":  false,
                                                         "onCodeCancelledCommand":  "scoreboard players set @s code_status 0",
                                                         "onCodeErrorCommand":  "scoreboard players set @s code_status 0",
                                                         "onCodeStartedCommand":  "scoreboard players set @s code_status 1",
                                                         "onCodeStoppedCommand":  "scoreboard players set @s code_status 0",
                                                         "onCodeSuccessfulCommand":  "scoreboard players set @s code_status 0",
                                                         "overridePython":  "import time\n\ntimeout = 0.100\ncommunicationPos = (0, 64, 0)\n\ntime.sleep(0.250)\n\ndef pull_lever_down():\n    world.set(communicationPos, \"lime concrete\")\n    time.sleep(timeout)    \n@user-code",
                                                         "readonly":  true
                                                     }
                                   },
                      "outputs":  [

                                  ],
                      "source":  [
                                     "# ΠΑΡΑΔΕΙΓΜΑ ΚΩΔΙΚΑ - ΔΕΝ ΜΠΟΡΕΙΣ ΝΑ ΕΠΕΞΕΡΓΑΣΤΕΙΣ ΕΔΩ\n",
                                     "# ΕΚΤΕΛΕΣΕ ΤΟ ΓΙΑ ΝΑ ΔΕΙΣ ΤΙ ΘΑ ΣΥΜΒΕΙ\n",
                                     "\n",
                                     "# μετακίνησε τον Πράκτορα μπροστά κατά 3 κύβους\n",
                                     "# και μετά τράβηξε τον μοχλό προς τα κάτω\n",
                                     "\n",
                                     "agent.move(\"forward\")\n",
                                     "agent.move(\"forward\")\n",
                                     "agent.move(\"forward\")\n",
                                     "pull_lever_down()"
                                 ]
                  },
                  {
                      "cell_type":  "markdown",
                      "id":  "8cd02c86",
                      "metadata":  {

                                   },
                      "source":  [
                                     "# Επαγγελματική συμβουλή:\n",
                                     "\n",
                                     "Χρησιμοποίησε έναν βρόχο `for` (για) για να επαναλαμβάνεις μία ή περισσότερες ενέργειες πολλές φορές."
                                 ]
                  },
                  {
                      "cell_type":  "code",
                      "execution_count":  null,
                      "id":  "8cd7af59",
                      "metadata":  {
                                       "minecraft":  {
                                                         "closeCodeBuilderOnRun":  true,
                                                         "hidden":  false,
                                                         "onCodeCancelledCommand":  "scoreboard players set @s code_status 0",
                                                         "onCodeErrorCommand":  "scoreboard players set @s code_status 0",
                                                         "onCodeStartedCommand":  "scoreboard players set @s code_status 1",
                                                         "onCodeStoppedCommand":  "scoreboard players set @s code_status 0",
                                                         "onCodeSuccessfulCommand":  "scoreboard players set @s code_status 0",
                                                         "overridePython":  "import time\n\ntimeout = 0.100\ncommunicationPos = (0, 64, 0)\n\ntime.sleep(0.250)\n\ndef pull_lever_down():\n    world.set(communicationPos, \"lime concrete\")\n    time.sleep(timeout)    \n@user-code",
                                                         "readonly":  true
                                                     }
                                   },
                      "outputs":  [

                                  ],
                      "source":  [
                                     "# ΠΑΡΑΔΕΙΓΜΑ ΚΩΔΙΚΑ - ΔΕΝ ΜΠΟΡΕΙΣ ΝΑ ΕΠΕΞΕΡΓΑΣΤΕΙΣ ΕΔΩ\n",
                                     "# ΕΚΤΕΛΕΣΕ ΤΟ ΓΙΑ ΝΑ ΔΕΙΣ ΤΙ ΘΑ ΣΥΜΒΕΙ\n",
                                     "\n",
                                     "# μετακίνησε τον Πράκτορα μπροστά κατά 3 κύβους\n",
                                     "# και μετά τράβηξε τον μοχλό προς τα κάτω\n",
                                     "\n",
                                     "for i in range(3):\n",
                                     "    agent.move(\"forward\")\n",
                                     "\n",
                                     "pull_lever_down()"
                                 ]
                  },
                  {
                      "cell_type":  "markdown",
                      "id":  "49739123",
                      "metadata":  {

                                   },
                      "source":  [
                                     "# Δραστηριότητα:\n",
                                     "\n",
                                     "Υπάρχει ένας μοχλός! Χρησιμοποίησέ τον για να ανοίξεις τη γεννήτρια και να ενεργοποιήσεις το κανόνι αυτού του δωματίου! Τοποθέτησε τον Πράκτορα στον χρυσό κύβο μπροστά από τον μοχλό και, στη συνέχεια, τράβηξέ τον προς τα κάτω!\n",
                                     "\n",
                                     "Ο παρακάτω κώδικας που περιλαμβάνεται είναι σπασμένος. Μπορείς να τον διορθώσεις; Εκτέλεσε τον κώδικα για να δεις τι συμβαίνει και, στη συνέχεια, εντόπισε σφάλματα καθώς τον επεξεργάζεσαι για να βρεις τη σωστή λύση."
                                 ]
                  },
                  {
                      "cell_type":  "code",
                      "execution_count":  null,
                      "id":  "b6f4bd0e",
                      "metadata":  {
                                       "minecraft":  {
                                                         "closeCodeBuilderOnRun":  true,
                                                         "hidden":  false,
                                                         "onCodeCancelledCommand":  "scoreboard players set @s code_status 0",
                                                         "onCodeErrorCommand":  "scoreboard players set @s code_status 0",
                                                         "onCodeStartedCommand":  "scoreboard players set @s code_status 1",
                                                         "onCodeStoppedCommand":  "scoreboard players set @s code_status 0",
                                                         "onCodeSuccessfulCommand":  "scoreboard players set @s code_status 0",
                                                         "overridePython":  "import time\n\ntimeout = 0.100\ncommunicationPos = (0, 64, 0)\n\ntime.sleep(0.250)\n\ndef pull_lever_down():\n    world.set(communicationPos, \"lime concrete\")\n    time.sleep(timeout)    \n@user-code",
                                                         "readonly":  false
                                                     }
                                   },
                      "outputs":  [

                                  ],
                      "source":  [
                                     "# κώδικας εδώ\n",
                                     "\n",
                                     "agent.move(\"forward\")\n",
                                     "agent.move(\"forward\")\n",
                                     "agent.move(\"forward\")\n",
                                     "pull_lever_down()\n"
                                 ]
                  }
              ],
    "metadata":  {
                     "celltoolbar":  "Edit Metadata",
                     "kernelspec":  {
                                        "display_name":  "Python 3 (ipykernel)",
                                        "language":  "python",
                                        "name":  "python3"
                                    },
                     "language_info":  {
                                           "codemirror_mode":  {
                                                                   "name":  "ipython",
                                                                   "version":  3
                                                               },
                                           "file_extension":  ".py",
                                           "mimetype":  "text/x-python",
                                           "name":  "python",
                                           "nbconvert_exporter":  "python",
                                           "pygments_lexer":  "ipython3",
                                           "version":  "3.10.7"
                                       },
                     "minecraft":  {
                                       "description":  "Ώρα του Κώδικα 2022",
                                       "page_id":  "1.1",
                                       "page_name":  "Ώρα του Κώδικα 2022",
                                       "style":  "minecraft.css"
                                   }
                 },
    "nbformat":  4,
    "nbformat_minor":  5
}
