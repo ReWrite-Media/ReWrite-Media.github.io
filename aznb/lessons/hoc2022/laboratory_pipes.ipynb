{
 "cells": [
  {
   "cell_type": "markdown",
   "id": "7592c160",
   "metadata": {},
   "source": [
    "# Pipes\n",
    "\n",
    "You'll need to add a specific amount of blocks to each of the hoppers. Maybe there is something in the room that can tell you how many?\n",
    "\n",
    "Count how many blocks are on the landing behind the puzzle and add that many blocks to the hoppers. Your default code should be the correct amount for the first 3 hoppers. \n"
   ]
  },
  {
   "cell_type": "code",
   "execution_count": null,
   "id": "b6f4bd0e",
   "metadata": {
    "minecraft": {
     "closeCodeBuilderOnRun": true,
     "hidden": false,
     "overridePython": "import time\n\ntimeout = 0.100\nlocation = (-18, 77, 162)\n\ndef dropMagentaBlock(num):\n    for x in range(num):\n        world.set(location, \"magenta concrete\")\n        time.sleep(timeout)\n\ndef dropLightBlueBlock(num):\n    for x in range(num):\n        world.set(location, \"light blue concrete\")\n        time.sleep(timeout)\n\ndef dropYellowBlock(num):\n    for x in range(num):\n        world.set(location, \"yellow concrete\")\n        time.sleep(timeout)\n\ndef dropLimeBlock(num):\n    for x in range(num):\n        world.set(location, \"lime concrete\")\n        time.sleep(timeout)\n\n@user-code",
     "readonly": false
    }
   },
   "outputs": [],
   "source": [
    "dropYellowBlock(1)\n",
    "dropLightBlueBlock(1)\n",
    "dropMagentaBlock(1)"
   ]
  }
 ],
 "metadata": {
  "celltoolbar": "Edit Metadata",
  "kernelspec": {
   "display_name": "Python 3 (ipykernel)",
   "language": "python",
   "name": "python3"
  },
  "language_info": {
   "codemirror_mode": {
    "name": "ipython",
    "version": 3
   },
   "file_extension": ".py",
   "mimetype": "text/x-python",
   "name": "python",
   "nbconvert_exporter": "python",
   "pygments_lexer": "ipython3",
   "version": "3.10.7"
  },
  "minecraft": {
   "description": "HOC 2022",
   "page_id": "1.1",
   "page_name": "HOC 2022",
   "style": "minecraft.css"
  }
 },
 "nbformat": 4,
 "nbformat_minor": 5
}
