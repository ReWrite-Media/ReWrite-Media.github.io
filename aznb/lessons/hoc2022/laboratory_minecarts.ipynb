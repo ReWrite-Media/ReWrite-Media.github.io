{
 "cells": [
  {
   "cell_type": "markdown",
   "id": "61daf32d",
   "metadata": {},
   "source": [
    "# Minecart Redirection\n",
    "\n",
    "The mobs need to be sorted into the right passageways! Look at the mobs queued up to be sorted and sort them based on the order they are waiting. Use the `sort_mob()` function to set the order they should be sorted.\n",
    "\n",
    "The `sort_mob()` function takes one parameter (a string) that defines which mob should be sorted next.\n",
    "\n",
    "Valid mobs are:\n",
    "- `zombie` ![Zombie](img/zombie_head.png \"Zombie\")\n",
    "- `skeleton` ![Skeleton](img/skeleton_head.png \"Skeleton\")\n",
    "- `creeper` ![Creeper](img/creeper_head.png \"Creeper\")"
   ]
  },
  {
   "cell_type": "code",
   "execution_count": null,
   "id": "972e35c6",
   "metadata": {
    "minecraft": {
     "closeCodeBuilderOnRun": true,
     "hidden": false,
     "onCodeCancelledCommand": "scoreboard players set @s code_status 0",
     "onCodeErrorCommand": "scoreboard players set @s code_status 0",
     "onCodeStartedCommand": "scoreboard players set @s code_status 1",
     "onCodeStoppedCommand": "scoreboard players set @s code_status 0",
     "onCodeSuccessfulCommand": "scoreboard players set @s code_status 0",
     "overridePython": "import time\n\ntimeout = 0.100\ncommunicationPos = (0, 64, 0)\n\ntime.sleep(0.250)\n\ndef sort_mob(mob):\n    if mob==\"zombie\":\n        world.set(communicationPos, \"orange concrete\")\n        time.sleep(timeout)         \n    elif mob==\"skeleton\":\n        world.set(communicationPos, \"magenta concrete\")\n        time.sleep(timeout)\n    elif mob==\"creeper\":\n        world.set(communicationPos, \"light blue concrete\")\n        time.sleep(timeout)\n@user-code",
     "readonly": true
    }
   },
   "outputs": [],
   "source": [
    "# sort the first 4 mobs all\n",
    "# to the zombie passageway.\n",
    "\n",
    "sort_mob(\"zombie\")\n",
    "sort_mob(\"zombie\")\n",
    "sort_mob(\"zombie\")\n",
    "sort_mob(\"zombie\")"
   ]
  },
  {
   "cell_type": "markdown",
   "id": "dc88a163",
   "metadata": {},
   "source": [
    "# Activity:\n",
    "\n",
    "Pay attention to the order the mobs are queued in and write your code to sort each mob into the appropriate passageway.\n",
    "\n",
    "The below code is broken, can you fix it? Debug the code by running it to see what it does and then edit it so you get the desired result."
   ]
  },
  {
   "cell_type": "code",
   "execution_count": null,
   "id": "b6f4bd0e",
   "metadata": {
    "minecraft": {
     "closeCodeBuilderOnRun": true,
     "hidden": false,
     "onCodeCancelledCommand": "scoreboard players set @s code_status 0",
     "onCodeErrorCommand": "scoreboard players set @s code_status 0",
     "onCodeStartedCommand": "scoreboard players set @s code_status 1",
     "onCodeStoppedCommand": "scoreboard players set @s code_status 0",
     "onCodeSuccessfulCommand": "scoreboard players set @s code_status 0",
     "overridePython": "import time\n\ntimeout = 0.100\ncommunicationPos = (0, 64, 0)\n\ntime.sleep(0.250)\n\ndef sort_mob(mob):\n    if mob==\"zombie\":\n        world.set(communicationPos, \"orange concrete\")\n        time.sleep(timeout)         \n    elif mob==\"skeleton\":\n        world.set(communicationPos, \"magenta concrete\")\n        time.sleep(timeout)\n    elif mob==\"creeper\":\n        world.set(communicationPos, \"light blue concrete\")\n        time.sleep(timeout)\n@user-code",
     "readonly": false
    }
   },
   "outputs": [],
   "source": [
    "#code here\n",
    "\n",
    "sort_mob(\"zombie\")\n",
    "sort_mob(\"zombie\")\n",
    "sort_mob(\"skelton\")\n",
    "sort_mob(\"creeper\")\n",
    "sort_mob(\"creeper\")\n",
    "sort_mob(\"skeleton\")\n",
    "sort_mob(\"zombie\")"
   ]
  }
 ],
 "metadata": {
  "celltoolbar": "Edit Metadata",
  "kernelspec": {
   "display_name": "Python 3 (ipykernel)",
   "language": "python",
   "name": "python3"
  },
  "language_info": {
   "codemirror_mode": {
    "name": "ipython",
    "version": 3
   },
   "file_extension": ".py",
   "mimetype": "text/x-python",
   "name": "python",
   "nbconvert_exporter": "python",
   "pygments_lexer": "ipython3",
   "version": "3.10.7"
  },
  "minecraft": {
   "description": "HOC 2022",
   "page_id": "1.1",
   "page_name": "HOC 2022",
   "style": "minecraft.css"
  }
 },
 "nbformat": 4,
 "nbformat_minor": 5
}
