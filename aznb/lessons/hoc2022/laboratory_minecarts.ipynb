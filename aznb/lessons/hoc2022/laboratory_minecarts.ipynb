{
 "cells": [
  {
   "cell_type": "markdown",
   "id": "61daf32d",
   "metadata": {},
   "source": [
    "# Minecart Redirection\n",
    "\n",
    "The mobs need to be sorted into the right passageways! Look at the mobs queued up to be sorted and update the code to sort them in the order they are waiting.\n",
    "\n",
    "Use the ``||hoc22.sort||`` blocks to send the mobs to the correct passageways. They will be released from right to left, so make sure you order them correctly in your code.\n"
   ]
  },
  {
   "cell_type": "code",
   "execution_count": null,
   "id": "b6f4bd0e",
   "metadata": {
    "minecraft": {
     "closeCodeBuilderOnRun": true,
     "hidden": false,
     "onCodeCancelledCommand": "scoreboard players set @s code_status 0",
     "onCodeErrorCommand": "scoreboard players set @s code_status 0",
     "onCodeStartedCommand": "scoreboard players set @s code_status 1",
     "onCodeStoppedCommand": "scoreboard players set @s code_status 0",
     "onCodeSuccessfulCommand": "scoreboard players set @s code_status 0",
     "overridePython": "import time\n\ntimeout = 0.100\ncommunicationPos = (0, 64, 0)\n\ntime.sleep(0.250)\n\ndef sort_mob(mob):\n    if color==\"zombie\":\n        world.set(communicationPos, \"orange concrete\")\n        time.sleep(timeout)         \n    elif color==\"skeleton\":\n        world.set(communicationPos, \"magenta concrete\")\n        time.sleep(timeout)\n    elif color==\"creeper\":\n        world.set(communicationPos, \"light blue concrete\")\n        time.sleep(timeout)\n@user-code",
     "readonly": false
    }
   },
   "outputs": [],
   "source": [  
    "sort_mob(\"zombie\")\n",
    "sort_mob(\"zombie\")\n",
    "sort_mob(\"skelton\")\n",
    "sort_mob(\"creeper\")\n",
    "sort_mob(\"creeper\")\n",
    "sort_mob(\"skeleton\")\n",
    "sort_mob(\"zombie\")\n"
    
   ]
  }
 ],
 "metadata": {
  "kernelspec": {
   "display_name": "Python 3 (ipykernel)",
   "language": "python",
   "name": "python3"
  },
  "language_info": {
   "codemirror_mode": {
    "name": "ipython",
    "version": 3
   },
   "file_extension": ".py",
   "mimetype": "text/x-python",
   "name": "python",
   "nbconvert_exporter": "python",
   "pygments_lexer": "ipython3",
   "version": "3.10.7"
  },
  "minecraft": {
   "description": "HOC 2022",
   "page_id": "1.1",
   "page_name": "HOC 2022",
   "style": "minecraft.css"
  }
 },
 "nbformat": 4,
 "nbformat_minor": 5
}
