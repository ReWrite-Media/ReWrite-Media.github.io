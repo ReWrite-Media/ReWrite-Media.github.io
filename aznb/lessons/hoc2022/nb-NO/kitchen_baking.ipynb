﻿{
    "cells":  [
                  {
                      "cell_type":  "markdown",
                      "id":  "bb81fd74",
                      "metadata":  {

                                   },
                      "source":  [
                                     "# Bake brød\n",
                                     "\n",
                                     "Zombiekokken trenger hjelp til å lage brød. Bruk funksjonene nedenfor for å lage en brødoppskrift zombiekokken kan følge!\n",
                                     "\n",
                                     "Det er fire funksjoner tilgjengelig som representerer de forskjellige trinnene i brødbaking.\n",
                                     "- `Harvest_wheat()` (Høste_hvete()) ![Høste hvete](img/bread_wheat.png \"Høste_hvete()\")\n",
                                     "- `bake_brød()` ![Bake brød](img/bread_bake.png \"Bake brød\")\n",
                                     "- `lage_deig()` ![Lage deig](img/bread_dough.png \"Lage deig\")\n",
                                     "- `Mill_wheat()` (Male_hvete()) ![Male hvete](img/bread_mill.png \"Male_hvete()\")"
                                 ]
                  },
                  {
                      "cell_type":  "code",
                      "execution_count":  null,
                      "id":  "bc828814",
                      "metadata":  {
                                       "minecraft":  {
                                                         "closeCodeBuilderOnRun":  true,
                                                         "hidden":  false,
                                                         "onCodeCancelledCommand":  "scoreboard players set @s code_status 0",
                                                         "onCodeErrorCommand":  "scoreboard players set @s code_status 0",
                                                         "onCodeStartedCommand":  "scoreboard players set @s code_status 1",
                                                         "onCodeStoppedCommand":  "scoreboard players set @s code_status 0",
                                                         "onCodeSuccessfulCommand":  "scoreboard players set @s code_status 0",
                                                         "overridePython":  "import time\n\ntimeout = 0.100\ncommunicationPos = (0, 64, 0)\n\ntime.sleep(0.250)\n\ndef harvest_wheat():\n    world.set(communicationPos, \"orange concrete\")\n    time.sleep(timeout)         \ndef mill_wheat():\n    world.set(communicationPos, \"magenta concrete\")\n    time.sleep(timeout)         \ndef make_dough():\n    world.set(communicationPos, \"light blue concrete\")\n    time.sleep(timeout)         \ndef bake_bread():\n    world.set(communicationPos, \"yellow concrete\")\n    time.sleep(timeout) \n@user-code",
                                                         "readonly":  true
                                                     }
                                   },
                      "outputs":  [

                                  ],
                      "source":  [
                                     "# KODEEKSEMPEL – DU KAN IKKE REDIGERE HER\n",
                                     "# KJØR DEN FOR Å SE HVA SOM SKJER\n",
                                     "\n",
                                     "# oppskrifteksempel\n",
                                     "\n",
                                     "harvest_wheat()\n",
                                     "make_dough()\n",
                                     "bake_bread()\n",
                                     "mill_wheat()"
                                 ]
                  },
                  {
                      "cell_type":  "markdown",
                      "id":  "86bde19e",
                      "metadata":  {

                                   },
                      "source":  [
                                     "# Aktivitet:\n",
                                     "\n",
                                     "Kokker har alltid en kopi av oppskriftene sine et sted! Jeg lurer på hvor zombiekokken gjemte sine? Finn ut de riktige trinnene, og programmer deretter en oppskrift som zombiekokken skal følge!\n",
                                     "\n",
                                     "Koden som følger med nedenfor, er ødelagt. Kan du fikse den? Kjør koden for å se hva som skjer, og korriger den ved å redigere til den riktige løsningen."
                                 ]
                  },
                  {
                      "cell_type":  "code",
                      "execution_count":  null,
                      "id":  "b6f4bd0e",
                      "metadata":  {
                                       "minecraft":  {
                                                         "closeCodeBuilderOnRun":  true,
                                                         "hidden":  false,
                                                         "onCodeCancelledCommand":  "scoreboard players set @s code_status 0",
                                                         "onCodeErrorCommand":  "scoreboard players set @s code_status 0",
                                                         "onCodeStartedCommand":  "scoreboard players set @s code_status 1",
                                                         "onCodeStoppedCommand":  "scoreboard players set @s code_status 0",
                                                         "onCodeSuccessfulCommand":  "scoreboard players set @s code_status 0",
                                                         "overridePython":  "import time\n\ntimeout = 0.100\ncommunicationPos = (0, 64, 0)\n\ntime.sleep(0.250)\n\ndef harvest_wheat():\n    world.set(communicationPos, \"orange concrete\")\n    time.sleep(timeout)         \ndef mill_wheat():\n    world.set(communicationPos, \"magenta concrete\")\n    time.sleep(timeout)         \ndef make_dough():\n    world.set(communicationPos, \"light blue concrete\")\n    time.sleep(timeout)         \ndef bake_bread():\n    world.set(communicationPos, \"yellow concrete\")\n    time.sleep(timeout) \n@user-code",
                                                         "readonly":  false
                                                     }
                                   },
                      "outputs":  [

                                  ],
                      "source":  [
                                     "# kode her\n",
                                     "\n",
                                     "harvest_wheat()\n",
                                     "make_dough()\n",
                                     "bake_bread()\n",
                                     "mill_wheat()\n"
                                 ]
                  }
              ],
    "metadata":  {
                     "celltoolbar":  "Edit Metadata",
                     "kernelspec":  {
                                        "display_name":  "Python 3 (ipykernel)",
                                        "language":  "python",
                                        "name":  "python3"
                                    },
                     "language_info":  {
                                           "codemirror_mode":  {
                                                                   "name":  "ipython",
                                                                   "version":  3
                                                               },
                                           "file_extension":  ".py",
                                           "mimetype":  "text/x-python",
                                           "name":  "python",
                                           "nbconvert_exporter":  "python",
                                           "pygments_lexer":  "ipython3",
                                           "version":  "3.10.7"
                                       },
                     "minecraft":  {
                                       "description":  "Kodetimen 2022",
                                       "page_id":  "1.1",
                                       "page_name":  "Kodetimen 2022",
                                       "style":  "minecraft.css"
                                   }
                 },
    "nbformat":  4,
    "nbformat_minor":  5
}
