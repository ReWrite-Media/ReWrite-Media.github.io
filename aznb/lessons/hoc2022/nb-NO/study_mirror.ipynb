﻿{
    "cells":  [
                  {
                      "cell_type":  "markdown",
                      "id":  "7c614f68",
                      "metadata":  {

                                   },
                      "source":  [
                                     "# Feil speilbilde\n",
                                     "\n",
                                     "Ting i speilet ser annerledes ut enn i rommet du er i. Finn alle forskjellene og endre rommet for å få dem til å matche. Bruk `move_cursor()` for å plassere markøren og `place_block()` for å plassere en blokk i posisjonen du har valgt.\n",
                                     "\n",
                                     "Funksjonen `flytt_markør()` har én parameter som definerer retningen. Denne parameteren er fargen på pilen som representerer retningen du vil flytte i.\n",
                                     "\n",
                                     "Gyldige retninger:\n",
                                     "- `orange` (oransje) (flytter markøren opp) ![Oransje pil](img/orange_arrow.png \"Oransje pil\")\n",
                                     "- `magenta` (magentarød) (flytter markøren ned) ![Magentafarget pil](img/magenta_arrow.png \"Magentafarget pil\")\n",
                                     "- `blue` (blå) (flytter markøren til venstre) ![Blå pil](img/blue_arrow.png \"Blå pil\")\n",
                                     "- `yellow` (gul) (flytter markøren til høyre) ![Gul pil](img/yellow_arrow.png \"Gul pil\")\n"
                                 ]
                  },
                  {
                      "cell_type":  "code",
                      "execution_count":  null,
                      "id":  "e486686a",
                      "metadata":  {
                                       "minecraft":  {
                                                         "closeCodeBuilderOnRun":  true,
                                                         "hidden":  false,
                                                         "onCodeCancelledCommand":  "scoreboard players set @s code_status 0",
                                                         "onCodeErrorCommand":  "scoreboard players set @s code_status 0",
                                                         "onCodeStartedCommand":  "scoreboard players set @s code_status 1",
                                                         "onCodeStoppedCommand":  "scoreboard players set @s code_status 0",
                                                         "onCodeSuccessfulCommand":  "scoreboard players set @s code_status 0",
                                                         "overridePython":  "import time\n\ntimeout = 0.100\ncommunicationPos = (0, 64, 0)\n\ntime.sleep(0.250)\n\ndef move_cursor(color):\n    if color == \"orange\":\n        world.set(communicationPos, \"orange concrete\")\n        time.sleep(timeout)\n    elif color == \"magenta\":\n        world.set(communicationPos, \"magenta concrete\")\n        time.sleep(timeout)\n    elif color == \"blue\":\n        world.set(communicationPos, \"light blue concrete\")\n        time.sleep(timeout)\n    elif color == \"yellow\":\n        world.set(communicationPos, \"yellow concrete\")\n        time.sleep(timeout)\n\ndef place_block():\n    world.set(communicationPos, \"lime concrete\")\n    time.sleep(timeout)         \n@user-code",
                                                         "readonly":  true
                                                     }
                                   },
                      "outputs":  [

                                  ],
                      "source":  [
                                     "# KODEEKSEMPEL – DU KAN IKKE REDIGERE HER\n",
                                     "# KJØR DEN FOR Å SE HVA SOM SKJER\n",
                                     "\n",
                                     "# lag en linje med blokker\n",
                                     "\n",
                                     "place_block()\n",
                                     "move_cursor(\"blue\")\n",
                                     "place_block()\n",
                                     "move_cursor(\"blue\")\n",
                                     "place_block()\n",
                                     "move_cursor(\"blue\")"
                                 ]
                  },
                  {
                      "cell_type":  "markdown",
                      "id":  "fd4918c3",
                      "metadata":  {

                                   },
                      "source":  [
                                     "# Tips fra proffene:\n",
                                     "\n",
                                     "Bruk en `for`-løkke for å utføre én eller flere handlinger flere ganger."
                                 ]
                  },
                  {
                      "cell_type":  "code",
                      "execution_count":  null,
                      "id":  "921028b3",
                      "metadata":  {
                                       "minecraft":  {
                                                         "closeCodeBuilderOnRun":  true,
                                                         "hidden":  false,
                                                         "onCodeCancelledCommand":  "scoreboard players set @s code_status 0",
                                                         "onCodeErrorCommand":  "scoreboard players set @s code_status 0",
                                                         "onCodeStartedCommand":  "scoreboard players set @s code_status 1",
                                                         "onCodeStoppedCommand":  "scoreboard players set @s code_status 0",
                                                         "onCodeSuccessfulCommand":  "scoreboard players set @s code_status 0",
                                                         "overridePython":  "import time\n\ntimeout = 0.100\ncommunicationPos = (0, 64, 0)\n\ntime.sleep(0.250)\n\ndef move_cursor(color):\n    if color == \"orange\":\n        world.set(communicationPos, \"orange concrete\")\n        time.sleep(timeout)\n    elif color == \"magenta\":\n        world.set(communicationPos, \"magenta concrete\")\n        time.sleep(timeout)\n    elif color == \"blue\":\n        world.set(communicationPos, \"light blue concrete\")\n        time.sleep(timeout)\n    elif color == \"yellow\":\n        world.set(communicationPos, \"yellow concrete\")\n        time.sleep(timeout)\n\ndef place_block():\n    world.set(communicationPos, \"lime concrete\")\n    time.sleep(timeout)         \n@user-code",
                                                         "readonly":  true
                                                     }
                                   },
                      "outputs":  [

                                  ],
                      "source":  [
                                     "# KODEEKSEMPEL – DU KAN IKKE REDIGERE HER\n",
                                     "# KJØR DEN FOR Å SE HVA SOM SKJER\n",
                                     "\n",
                                     "# lag en linje med blokker\n",
                                     "\n",
                                     "for i in range(3):\n",
                                     "    place_block()\n",
                                     "    move_cursor(\"blue\")"
                                 ]
                  },
                  {
                      "cell_type":  "markdown",
                      "id":  "1428f167",
                      "metadata":  {

                                   },
                      "source":  [
                                     "# Aktivitet:\n",
                                     "\n",
                                     "Se inn i speilet og vær oppmerksom på utformingen av blokkene over peisen. Gjenskap det samme designet over peisen på din side av speilet.\n",
                                     "\n",
                                     "Koden under er ødelagt, kan du fikse den? Feilsøk koden ved å kjøre den for å se hva den gjør, og rediger deretter slik at du får ønsket resultat."
                                 ]
                  },
                  {
                      "cell_type":  "code",
                      "execution_count":  null,
                      "id":  "b6f4bd0e",
                      "metadata":  {
                                       "minecraft":  {
                                                         "closeCodeBuilderOnRun":  true,
                                                         "hidden":  false,
                                                         "onCodeCancelledCommand":  "scoreboard players set @s code_status 0",
                                                         "onCodeErrorCommand":  "scoreboard players set @s code_status 0",
                                                         "onCodeStartedCommand":  "scoreboard players set @s code_status 1",
                                                         "onCodeStoppedCommand":  "scoreboard players set @s code_status 0",
                                                         "onCodeSuccessfulCommand":  "scoreboard players set @s code_status 0",
                                                         "overridePython":  "import time\n\ntimeout = 0.100\ncommunicationPos = (0, 64, 0)\n\ntime.sleep(0.250)\n\ndef move_cursor(color):\n    if color == \"orange\":\n        world.set(communicationPos, \"orange concrete\")\n        time.sleep(timeout)\n    elif color == \"magenta\":\n        world.set(communicationPos, \"magenta concrete\")\n        time.sleep(timeout)\n    elif color == \"blue\":\n        world.set(communicationPos, \"light blue concrete\")\n        time.sleep(timeout)\n    elif color == \"yellow\":\n        world.set(communicationPos, \"yellow concrete\")\n        time.sleep(timeout)\n\ndef place_block():\n    world.set(communicationPos, \"lime concrete\")\n    time.sleep(timeout)         \n@user-code",
                                                         "readonly":  false
                                                     }
                                   },
                      "outputs":  [

                                  ],
                      "source":  [
                                     "# kode her\n",
                                     "\n",
                                     "place_block()\n",
                                     "move_cursor(\"magenta\")\n",
                                     "place_block()\n",
                                     "move_cursor(\"blue\")\n",
                                     "place_block()\n",
                                     "move_cursor(\"blue\")\n",
                                     "place_block()\n",
                                     "move_cursor(\"blue\")\n",
                                     "place_block()\n",
                                     "move_cursor(\"blue\")\n",
                                     "place_block()\n",
                                     "move_cursor(\"orange\")\n",
                                     "place_block()\n"
                                 ]
                  }
              ],
    "metadata":  {
                     "celltoolbar":  "Edit Metadata",
                     "kernelspec":  {
                                        "display_name":  "Python 3 (ipykernel)",
                                        "language":  "python",
                                        "name":  "python3"
                                    },
                     "language_info":  {
                                           "codemirror_mode":  {
                                                                   "name":  "ipython",
                                                                   "version":  3
                                                               },
                                           "file_extension":  ".py",
                                           "mimetype":  "text/x-python",
                                           "name":  "python",
                                           "nbconvert_exporter":  "python",
                                           "pygments_lexer":  "ipython3",
                                           "version":  "3.10.7"
                                       },
                     "minecraft":  {
                                       "description":  "Kodetimen 2022",
                                       "page_id":  "1.1",
                                       "page_name":  "Kodetimen 2022",
                                       "style":  "minecraft.css"
                                   }
                 },
    "nbformat":  4,
    "nbformat_minor":  5
}
