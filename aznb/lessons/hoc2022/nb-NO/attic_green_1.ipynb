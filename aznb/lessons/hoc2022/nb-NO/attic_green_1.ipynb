﻿{
    "cells":  [
                  {
                      "cell_type":  "markdown",
                      "id":  "81ae62a5",
                      "metadata":  {

                                   },
                      "source":  [
                                     "# Opplæring for loft (Grønn sti del 1)\n",
                                     "\n",
                                     "Boksen med pilen på gulvet er markøren din. Du bruker markøren til å manipulere blokker for å løse oppgaver gjennom denne opplevelsen. I denne aktiviteten skal du bruke den til å åpne falldøren og befri agenten. Bruk `move_cursor()` for å plassere markøren og `open_trapdoor()` for å åpne falldøren du har valgt.\n",
                                     "\n",
                                     "Funksjonen `move_cursor()` har én parameter som definerer retningen. Denne parameteren er fargen på pilen som representerer retningen du vil flytte i.\n",
                                     "\n",
                                     "Gyldige retninger:\n",
                                     "– \"oransje\" (flytter markøren fremover) ![Oransje pil](img/orange_arrow.png \"Oransje pil\")"
                                 ]
                  },
                  {
                      "cell_type":  "code",
                      "execution_count":  null,
                      "id":  "9efa0261",
                      "metadata":  {
                                       "minecraft":  {
                                                         "closeCodeBuilderOnRun":  true,
                                                         "hidden":  false,
                                                         "onCodeCancelledCommand":  "scoreboard players set @s code_status 0",
                                                         "onCodeErrorCommand":  "scoreboard players set @s code_status 0",
                                                         "onCodeStartedCommand":  "scoreboard players set @s code_status 1",
                                                         "onCodeStoppedCommand":  "scoreboard players set @s code_status 0",
                                                         "onCodeSuccessfulCommand":  "scoreboard players set @s code_status 0",
                                                         "overridePython":  "import time\n\ntimeout = 0.100\ncommunicationPos = (0, 64, 0)\n\ntime.sleep(0.250)\n\ndef move_cursor(color):\n    if color == \"orange\":\n        world.set(communicationPos, \"orange concrete\")\n        time.sleep(timeout)\n\ndef open_trapdoor():\n    world.set(communicationPos, \"lime concrete\")\n    time.sleep(timeout) \n@user-code",
                                                         "readonly":  true
                                                     }
                                   },
                      "outputs":  [

                                  ],
                      "source":  [
                                     "# KODEEKSEMPEL – DU KAN IKKE REDIGERE HER\n",
                                     "# KJØR DEN FOR Å SE HVA SOM SKJER\n",
                                     "\n",
                                     "# flytt markøren fremover 3 blokker\n",
                                     "# åpne falldøren som er valgt\n",
                                     "\n",
                                     "move_cursor(\"orange\")\n",
                                     "move_cursor(\"orange\")\n",
                                     "open_trapdoor()"
                                 ]
                  },
                  {
                      "cell_type":  "markdown",
                      "id":  "70d03930",
                      "metadata":  {

                                   },
                      "source":  [
                                     "# Aktivitet:\n",
                                     "\n",
                                     "Flytt markøren, slik at den er plassert over falldøren i midt av loftet, og åpne deretter falldøren for å slippe ut agenten som er fanget under den.\n",
                                     "\n",
                                     "Koden som følger med nedenfor, er ødelagt. Kan du fikse den? Kjør koden for å se hva som skjer, og korriger den ved å redigere til den riktige løsningen."
                                 ]
                  },
                  {
                      "cell_type":  "code",
                      "execution_count":  null,
                      "id":  "b6f4bd0e",
                      "metadata":  {
                                       "minecraft":  {
                                                         "closeCodeBuilderOnRun":  true,
                                                         "hidden":  false,
                                                         "onCodeCancelledCommand":  "scoreboard players set @s code_status 0",
                                                         "onCodeErrorCommand":  "scoreboard players set @s code_status 0",
                                                         "onCodeStartedCommand":  "scoreboard players set @s code_status 1",
                                                         "onCodeStoppedCommand":  "scoreboard players set @s code_status 0",
                                                         "onCodeSuccessfulCommand":  "scoreboard players set @s code_status 0",
                                                         "overridePython":  "import time\n\ntimeout = 0.100\ncommunicationPos = (0, 64, 0)\n\ntime.sleep(0.250)\n\ndef move_cursor(color):\n    if color == \"orange\":\n        world.set(communicationPos, \"orange concrete\")\n        time.sleep(timeout)\n\ndef open_trapdoor():\n    world.set(communicationPos, \"lime concrete\")\n    time.sleep(timeout) \n@user-code",
                                                         "readonly":  false
                                                     }
                                   },
                      "outputs":  [

                                  ],
                      "source":  [
                                     "# kode her\n",
                                     "\n",
                                     "move_cursor(\"orange\")\n",
                                     "move_cursor(\"orange\")\n",
                                     "open_trapdoor()\n"
                                 ]
                  }
              ],
    "metadata":  {
                     "celltoolbar":  "Edit Metadata",
                     "kernelspec":  {
                                        "display_name":  "Python 3 (ipykernel)",
                                        "language":  "python",
                                        "name":  "python3"
                                    },
                     "language_info":  {
                                           "codemirror_mode":  {
                                                                   "name":  "ipython",
                                                                   "version":  3
                                                               },
                                           "file_extension":  ".py",
                                           "mimetype":  "text/x-python",
                                           "name":  "python",
                                           "nbconvert_exporter":  "python",
                                           "pygments_lexer":  "ipython3",
                                           "version":  "3.10.7"
                                       },
                     "minecraft":  {
                                       "description":  "Kodetimen 2022",
                                       "page_id":  "1.1",
                                       "page_name":  "Kodetimen 2022",
                                       "style":  "minecraft.css"
                                   }
                 },
    "nbformat":  4,
    "nbformat_minor":  5
}
