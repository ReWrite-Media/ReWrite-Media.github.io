﻿{
    "cells":  [
                  {
                      "cell_type":  "markdown",
                      "id":  "ceb9b56b",
                      "metadata":  {

                                   },
                      "source":  [
                                     "# Vindebro\n",
                                     "\n",
                                     "Du må styre endermann-butleren slik at den kommer seg over elven! Be den bruke magien sin til å teleportere til diamantblokken, få den deretter til å flytte seg til spaken som slipper ned vindebroen! Bruk funksjonen \u0027teleporter_endermann_til_diamant() for å få endermannen over elven, bruk deretter \u0027flytt_endermann_forover() for å plassere den foran spaken og \u0027trekk_spak_ned()\u0027 for å trekke i spaken. Endermann-butleren vil automatisk snu seg mot spaken når den er i riktig posisjon! "
                                 ]
                  },
                  {
                      "cell_type":  "code",
                      "execution_count":  null,
                      "id":  "dfff7f5e",
                      "metadata":  {
                                       "minecraft":  {
                                                         "closeCodeBuilderOnRun":  true,
                                                         "hidden":  false,
                                                         "onCodeCancelledCommand":  "scoreboard players set @s code_status 0",
                                                         "onCodeErrorCommand":  "scoreboard players set @s code_status 0",
                                                         "onCodeStartedCommand":  "scoreboard players set @s code_status 1",
                                                         "onCodeStoppedCommand":  "scoreboard players set @s code_status 0",
                                                         "onCodeSuccessfulCommand":  "scoreboard players set @s code_status 0",
                                                         "overridePython":  "import time\n\ntimeout = 0.100\ncommunicationPos = (0, 64, 0)\n\ntime.sleep(0.250)\n\ndef move_enderman_forward():\n    world.set(communicationPos, \"orange concrete\")\n    time.sleep(timeout)    \n\ndef teleport_enderman_to_diamond():\n    world.set(communicationPos, \"magenta concrete\")\n    time.sleep(timeout)   \n\ndef pull_lever_down():\n    world.set(communicationPos, \"light blue concrete\")\n    time.sleep(timeout)    \n@user-code",
                                                         "readonly":  true
                                                     }
                                   },
                      "outputs":  [

                                  ],
                      "source":  [
                                     "# KODEEKSEMPEL - DU KAN IKKE REDIGERE HER\n",
                                     "# KJØR DEN FOR Å SE HVA SOM SKJER\n",
                                     "\n",
                                     "# flytt endermannen 2 blokker forover\n",
                                     "# teleporter den deretter til diamantblokken\n",
                                     "\n",
                                     "move_enderman_forward()\n",
                                     "move_enderman_forward()\n",
                                     "teleport_enderman_to_diamond()"
                                 ]
                  },
                  {
                      "cell_type":  "markdown",
                      "id":  "a1e86cf5",
                      "metadata":  {

                                   },
                      "source":  [
                                     "# Aktivitet:\n",
                                     "\n",
                                     "Teleporter endermannen over elven slik at den kan dra i spaken og slippe ned vindebroen. Vær forsiktig så ikke endermannen faller i vannet. De hater vann!\n",
                                     "\n",
                                     "Koden som følger med under er ødelagt. Kan du fikse den? Kjør koden for å se hva som skjer, og feilsøk deretter ved å redigere den til løsningen er riktig."
                                 ]
                  },
                  {
                      "cell_type":  "code",
                      "execution_count":  null,
                      "id":  "b6f4bd0e",
                      "metadata":  {
                                       "minecraft":  {
                                                         "closeCodeBuilderOnRun":  true,
                                                         "hidden":  false,
                                                         "onCodeCancelledCommand":  "scoreboard players set @s code_status 0",
                                                         "onCodeErrorCommand":  "scoreboard players set @s code_status 0",
                                                         "onCodeStartedCommand":  "scoreboard players set @s code_status 1",
                                                         "onCodeStoppedCommand":  "scoreboard players set @s code_status 0",
                                                         "onCodeSuccessfulCommand":  "scoreboard players set @s code_status 0",
                                                         "overridePython":  "import time\n\ntimeout = 0.100\ncommunicationPos = (0, 64, 0)\n\ntime.sleep(0.250)\n\ndef move_enderman_forward():\n    world.set(communicationPos, \"orange concrete\")\n    time.sleep(timeout)    \n\ndef teleport_enderman_to_diamond():\n    world.set(communicationPos, \"magenta concrete\")\n    time.sleep(timeout)   \n\ndef pull_lever_down():\n    world.set(communicationPos, \"light blue concrete\")\n    time.sleep(timeout)    \n@user-code",
                                                         "readonly":  false
                                                     }
                                   },
                      "outputs":  [

                                  ],
                      "source":  [
                                     "# kode her\n",
                                     "\n",
                                     "move_enderman_forward()\n",
                                     "move_enderman_forward()\n",
                                     "teleport_enderman_to_diamond()\n",
                                     "move_enderman_forward()\n",
                                     "move_enderman_forward()\n",
                                     "pull_lever_down()"
                                 ]
                  }
              ],
    "metadata":  {
                     "celltoolbar":  "Edit Metadata",
                     "kernelspec":  {
                                        "display_name":  "Python 3 (ipykernel)",
                                        "language":  "python",
                                        "name":  "python3"
                                    },
                     "language_info":  {
                                           "codemirror_mode":  {
                                                                   "name":  "ipython",
                                                                   "version":  3
                                                               },
                                           "file_extension":  ".py",
                                           "mimetype":  "text/x-python",
                                           "name":  "python",
                                           "nbconvert_exporter":  "python",
                                           "pygments_lexer":  "ipython3",
                                           "version":  "3.10.7"
                                       },
                     "minecraft":  {
                                       "description":  "Kodetimen 2022",
                                       "page_id":  "1.1",
                                       "page_name":  "Kodetimen 2022",
                                       "style":  "minecraft.css"
                                   }
                 },
    "nbformat":  4,
    "nbformat_minor":  5
}
