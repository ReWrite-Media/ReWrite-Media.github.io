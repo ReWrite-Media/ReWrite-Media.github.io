﻿{
    "cells":  [
                  {
                      "cell_type":  "markdown",
                      "id":  "145bed8e",
                      "metadata":  {

                                   },
                      "source":  [
                                     "# Підводний камінь\n",
                                     "\n",
                                     "Воа, ноги, більше не перевертайтеся за цього голема! Нам потрібно допомогти йому безпечно зорієнтуватися в смарагдовому блоці. Коли голем переміщається на притискну пластину, блок, який йому потрібен, на мить втягується. Якщо ми почекаємо, він ніби повернеться! Використовуйте функцію «move_golem_forward()», щоб перемістити голема, і функцію «wait()», щоб змусити його чекати повернення блоку!"
                                 ]
                  },
                  {
                      "cell_type":  "code",
                      "execution_count":  null,
                      "id":  "e5dcd9e8",
                      "metadata":  {
                                       "minecraft":  {
                                                         "closeCodeBuilderOnRun":  true,
                                                         "hidden":  false,
                                                         "onCodeCancelledCommand":  "scoreboard players set @s code_status 0",
                                                         "onCodeErrorCommand":  "scoreboard players set @s code_status 0",
                                                         "onCodeStartedCommand":  "scoreboard players set @s code_status 1",
                                                         "onCodeStoppedCommand":  "scoreboard players set @s code_status 0",
                                                         "onCodeSuccessfulCommand":  "scoreboard players set @s code_status 0",
                                                         "overridePython":  "import time\n\ntimeout = 0.100\ncommunicationPos = (0, 64, 0)\n\ntime.sleep(0.250)\n\ndef move_golem_forward():\n    world.set(communicationPos, \"orange concrete\")\n    time.sleep(timeout)     \n\ndef wait():\n    world.set(communicationPos, \"magenta concrete\")\n    time.sleep(timeout)   \n@user-code",
                                                         "readonly":  true
                                                     }
                                   },
                      "outputs":  [

                                  ],
                      "source":  [
                                     "# ПРИКЛАД КОДУ - ТУТ НЕ МОЖНА РЕДАГУВАТИ\n",
                                     "# ЗАПУСТІТЬ ЙОГО, ЩОБ ПОБАЧИТИ, ЩО ВІДБУВАЄТЬСЯ\n",
                                     "\n",
                                     "# перемістити голема вперед на 2 пробіли\n",
                                     "# зачекайте одну секунду, а потім перейдіть \n",
                                     "# 2 більше пробілів\n",
                                     "\n",
                                     "move_golem_forward()\n",
                                     "move_golem_forward()\n",
                                     "wait()\n",
                                     "move_golem_forward()\n",
                                     "move_golem_forward()"
                                 ]
                  },
                  {
                      "cell_type":  "markdown",
                      "id":  "64663469",
                      "metadata":  {

                                   },
                      "source":  [
                                     "# Задача:\n",
                                     "\n",
                                     "Перемістіть голема до кінця, не впадаючи в яму. Обов\u0027язково дочекайтеся повернення блоку після того, як голем встане на притискну пластину.\n",
                                     "\n",
                                     "Включений нижче код зламаний. Чи можете ви це виправити? Запустіть код, щоб побачити, що станеться, а потім налагодьте його, відредагувавши до правильного рішення."
                                 ]
                  },
                  {
                      "cell_type":  "code",
                      "execution_count":  null,
                      "id":  "b6f4bd0e",
                      "metadata":  {
                                       "minecraft":  {
                                                         "closeCodeBuilderOnRun":  true,
                                                         "hidden":  false,
                                                         "onCodeCancelledCommand":  "scoreboard players set @s code_status 0",
                                                         "onCodeErrorCommand":  "scoreboard players set @s code_status 0",
                                                         "onCodeStartedCommand":  "scoreboard players set @s code_status 1",
                                                         "onCodeStoppedCommand":  "scoreboard players set @s code_status 0",
                                                         "onCodeSuccessfulCommand":  "scoreboard players set @s code_status 0",
                                                         "overridePython":  "import time\n\ntimeout = 0.100\ncommunicationPos = (0, 64, 0)\n\ntime.sleep(0.250)\n\ndef move_golem_forward():\n    world.set(communicationPos, \"orange concrete\")\n    time.sleep(timeout)     \n\ndef wait():\n    world.set(communicationPos, \"magenta concrete\")\n    time.sleep(timeout)   \n@user-code",
                                                         "readonly":  false
                                                     }
                                   },
                      "outputs":  [

                                  ],
                      "source":  [
                                     "# тут код\n",
                                     "\n",
                                     "move_golem_forward()\n",
                                     "move_golem_forward()\n",
                                     "wait()\n",
                                     "move_golem_forward()\n",
                                     "move_golem_forward()\n",
                                     "move_golem_forward()\n"
                                 ]
                  }
              ],
    "metadata":  {
                     "celltoolbar":  "Edit Metadata",
                     "kernelspec":  {
                                        "display_name":  "Python 3 (ipykernel)",
                                        "language":  "python",
                                        "name":  "python3"
                                    },
                     "language_info":  {
                                           "codemirror_mode":  {
                                                                   "name":  "ipython",
                                                                   "version":  3
                                                               },
                                           "file_extension":  ".py",
                                           "mimetype":  "text/x-python",
                                           "name":  "python",
                                           "nbconvert_exporter":  "python",
                                           "pygments_lexer":  "ipython3",
                                           "version":  "3.10.7"
                                       },
                     "minecraft":  {
                                       "description":  "HOC 2022",
                                       "page_id":  "1.1",
                                       "page_name":  "HOC 2022",
                                       "style":  "minecraft.css"
                                   }
                 },
    "nbformat":  4,
    "nbformat_minor":  5
}
