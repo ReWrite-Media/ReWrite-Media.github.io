﻿{
    "cells":  [
                  {
                      "cell_type":  "markdown",
                      "id":  "f0d858d0",
                      "metadata":  {

                                   },
                      "source":  [
                                     "# Лабіринт глиняної кульки\n",
                                     "\n",
                                     "Перемістіть глиняну кульку до золотого блоку. Використовуйте функцію \u0027clay_ball_move()\u0027, щоб переміщувати кульку по лабіринту.\n",
                                     "\n",
                                     "Функція \u0027clay_ball_move()\u0027 використовує один параметр, який визначає, в якому напрямку треба рухатися.\n",
                                     "\n",
                                     "Допустимі напрямки: \n",
                                     "- `up` (нагоре)\n",
                                     "-  `down` (вниз)\n",
                                     "- `left` (ліворуч)\n",
                                     "- `right` (вправо)"
                                 ]
                  },
                  {
                      "cell_type":  "code",
                      "execution_count":  null,
                      "id":  "aabed157",
                      "metadata":  {
                                       "minecraft":  {
                                                         "closeCodeBuilderOnRun":  true,
                                                         "hidden":  false,
                                                         "onCodeCancelledCommand":  "scoreboard players set @s code_status 0",
                                                         "onCodeErrorCommand":  "scoreboard players set @s code_status 0",
                                                         "onCodeStartedCommand":  "scoreboard players set @s code_status 1",
                                                         "onCodeStoppedCommand":  "scoreboard players set @s code_status 0",
                                                         "onCodeSuccessfulCommand":  "scoreboard players set @s code_status 0",
                                                         "overridePython":  "import time\n\ntimeout = 0.100\ncommunicationPos = (0, 64, 0)\n\ntime.sleep(0.250)\n\ndef clay_ball_move(direction):\n       agent.move(direction)\n@user-code",
                                                         "readonly":  true
                                                     }
                                   },
                      "outputs":  [

                                  ],
                      "source":  [
                                     "# перемістити глиняну кульку вгору\n",
                                     "# на 3 блоки\n",
                                     "\n",
                                     "clay_ball_move(\"up\")\n",
                                     "clay_ball_move(\"up\")\n",
                                     "clay_ball_move(\"up\")"
                                 ]
                  },
                  {
                      "cell_type":  "markdown",
                      "id":  "7a06b33f",
                      "metadata":  {

                                   },
                      "source":  [
                                     "# Професійна порада:\n",
                                     "\n",
                                     "Використовуйте цикл `for`, щоб виконувати одну або групу дій кілька разів."
                                 ]
                  },
                  {
                      "cell_type":  "code",
                      "execution_count":  null,
                      "id":  "c3f9d31a",
                      "metadata":  {
                                       "minecraft":  {
                                                         "closeCodeBuilderOnRun":  true,
                                                         "hidden":  false,
                                                         "onCodeCancelledCommand":  "scoreboard players set @s code_status 0",
                                                         "onCodeErrorCommand":  "scoreboard players set @s code_status 0",
                                                         "onCodeStartedCommand":  "scoreboard players set @s code_status 1",
                                                         "onCodeStoppedCommand":  "scoreboard players set @s code_status 0",
                                                         "onCodeSuccessfulCommand":  "scoreboard players set @s code_status 0",
                                                         "overridePython":  "import time\n\ntimeout = 0.100\ncommunicationPos = (0, 64, 0)\n\ntime.sleep(0.250)\n\ndef clay_ball_move(direction):\n       agent.move(direction)\n@user-code",
                                                         "readonly":  true
                                                     }
                                   },
                      "outputs":  [

                                  ],
                      "source":  [
                                     "# перемістити глиняну кульку вгору\n",
                                     "# на 3 блоки\n",
                                     "\n",
                                     "for i in range(3):\n",
                                     "    clay_ball_move(\"up\")"
                                 ]
                  },
                  {
                      "cell_type":  "markdown",
                      "id":  "03d64374",
                      "metadata":  {

                                   },
                      "source":  [
                                     "# Задача:\n",
                                     "\n",
                                     "Переміщуйте глиняну кульку лабіринтом, щоб дістатися до золотого блоку.\n",
                                     "\n",
                                     "Наведений нижче код зламаний, чи можете ви його виправити? Полагодьте код, запустивши його, щоб побачити, як він працює, а потім відредагуйте його, щоб отримати бажаний результат."
                                 ]
                  },
                  {
                      "cell_type":  "code",
                      "execution_count":  null,
                      "id":  "b6f4bd0e",
                      "metadata":  {
                                       "minecraft":  {
                                                         "closeCodeBuilderOnRun":  true,
                                                         "hidden":  false,
                                                         "onCodeCancelledCommand":  "scoreboard players set @s code_status 0",
                                                         "onCodeErrorCommand":  "scoreboard players set @s code_status 0",
                                                         "onCodeStartedCommand":  "scoreboard players set @s code_status 1",
                                                         "onCodeStoppedCommand":  "scoreboard players set @s code_status 0",
                                                         "onCodeSuccessfulCommand":  "scoreboard players set @s code_status 0",
                                                         "overridePython":  "import time\n\ntimeout = 0.100\ncommunicationPos = (0, 64, 0)\n\ntime.sleep(0.250)\n\ndef clay_ball_move(direction):\n       agent.move(direction)\n@user-code",
                                                         "readonly":  false
                                                     }
                                   },
                      "outputs":  [

                                  ],
                      "source":  [
                                     "clay_ball_move(\"up\")\n",
                                     "clay_ball_move(\"up\")\n",
                                     "clay_ball_move(\"up\")\n",
                                     "clay_ball_move(\"left\")\n",
                                     "clay_ball_move(\"left\")\n",
                                     "clay_ball_move(\"down\")\n",
                                     "clay_ball_move(\"down\")\n",
                                     "clay_ball_move(\"down\")\n"
                                 ]
                  }
              ],
    "metadata":  {
                     "celltoolbar":  "Edit Metadata",
                     "kernelspec":  {
                                        "display_name":  "Python 3 (ipykernel)",
                                        "language":  "python",
                                        "name":  "python3"
                                    },
                     "language_info":  {
                                           "codemirror_mode":  {
                                                                   "name":  "ipython",
                                                                   "version":  3
                                                               },
                                           "file_extension":  ".py",
                                           "mimetype":  "text/x-python",
                                           "name":  "python",
                                           "nbconvert_exporter":  "python",
                                           "pygments_lexer":  "ipython3",
                                           "version":  "3.10.7"
                                       },
                     "minecraft":  {
                                       "description":  "Година програмування 2022",
                                       "page_id":  "1.1",
                                       "page_name":  "Година програмування 2022",
                                       "style":  "minecraft.css"
                                   }
                 },
    "nbformat":  4,
    "nbformat_minor":  5
}
