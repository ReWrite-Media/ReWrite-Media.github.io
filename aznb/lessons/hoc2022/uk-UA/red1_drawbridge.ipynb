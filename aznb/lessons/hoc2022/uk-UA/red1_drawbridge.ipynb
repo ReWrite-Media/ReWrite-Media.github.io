﻿{
    "cells":  [
                  {
                      "cell_type":  "markdown",
                      "id":  "ceb9b56b",
                      "metadata":  {

                                   },
                      "source":  [
                                     "# Розвідний міст\n",
                                     "\n",
                                     "Дворецький Ендерман потребує вашого напрямку, щоб перебратися через річку! Будь ласка, направте їх використовувати свою магію, щоб телепортуватися до алмазного блоку, а потім попросіть їх переміститися в положення, щоб потягнути важіль, щоб опустити розвідний міст! Використовуйте функцію «teleport_enderman_to_diamond()», щоб переправити Ендермана через річку, потім використовуйте функцію «move_enderman_forward()», щоб розташувати Ендермана перед важелем, і «pull_lever_down()», щоб потягнути важіль. Ендерман Батлер автоматично повернеться обличчям до важеля, коли він буде в правильному положенні! "
                                 ]
                  },
                  {
                      "cell_type":  "code",
                      "execution_count":  null,
                      "id":  "dfff7f5e",
                      "metadata":  {
                                       "minecraft":  {
                                                         "closeCodeBuilderOnRun":  true,
                                                         "hidden":  false,
                                                         "onCodeCancelledCommand":  "scoreboard players set @s code_status 0",
                                                         "onCodeErrorCommand":  "scoreboard players set @s code_status 0",
                                                         "onCodeStartedCommand":  "scoreboard players set @s code_status 1",
                                                         "onCodeStoppedCommand":  "scoreboard players set @s code_status 0",
                                                         "onCodeSuccessfulCommand":  "scoreboard players set @s code_status 0",
                                                         "overridePython":  "import time\n\ntimeout = 0.100\ncommunicationPos = (0, 64, 0)\n\ntime.sleep(0.250)\n\ndef move_enderman_forward():\n    world.set(communicationPos, \"orange concrete\")\n    time.sleep(timeout)    \n\ndef teleport_enderman_to_diamond():\n    world.set(communicationPos, \"magenta concrete\")\n    time.sleep(timeout)   \n\ndef pull_lever_down():\n    world.set(communicationPos, \"light blue concrete\")\n    time.sleep(timeout)    \n@user-code",
                                                         "readonly":  true
                                                     }
                                   },
                      "outputs":  [

                                  ],
                      "source":  [
                                     "# ПРИКЛАД КОДУ - ТУТ НЕ МОЖНА РЕДАГУВАТИ\n",
                                     "# ЗАПУСТІТЬ ЙОГО, ЩОБ ПОБАЧИТИ, ЩО ВІДБУВАЄТЬСЯ\n",
                                     "\n",
                                     "# перемістити Agent угору на 2 блоки та вперед на 2 блоки\n",
                                     "# потім телепортуйте їх до алмазного блоку\n",
                                     "\n",
                                     "move_enderman_forward()\n",
                                     "move_enderman_forward()\n",
                                     "teleport_enderman_to_diamond()"
                                 ]
                  },
                  {
                      "cell_type":  "markdown",
                      "id":  "a1e86cf5",
                      "metadata":  {

                                   },
                      "source":  [
                                     "# Актвітій:\n",
                                     "\n",
                                     "Телепортуйте Ендермана через річку, щоб перевернути важіль і збити розвідний міст. Будьте обережні, щоб не дати Ендерману впасти в воду. Вони ненавидять воду!\n",
                                     "\n",
                                     "Включений нижче код зламаний. Чи можете ви це виправити? Запустіть код, щоб побачити, що станеться, а потім налагодьте його, відредагувавши до правильного рішення."
                                 ]
                  },
                  {
                      "cell_type":  "code",
                      "execution_count":  null,
                      "id":  "b6f4bd0e",
                      "metadata":  {
                                       "minecraft":  {
                                                         "closeCodeBuilderOnRun":  true,
                                                         "hidden":  false,
                                                         "onCodeCancelledCommand":  "scoreboard players set @s code_status 0",
                                                         "onCodeErrorCommand":  "scoreboard players set @s code_status 0",
                                                         "onCodeStartedCommand":  "scoreboard players set @s code_status 1",
                                                         "onCodeStoppedCommand":  "scoreboard players set @s code_status 0",
                                                         "onCodeSuccessfulCommand":  "scoreboard players set @s code_status 0",
                                                         "overridePython":  "import time\n\ntimeout = 0.100\ncommunicationPos = (0, 64, 0)\n\ntime.sleep(0.250)\n\ndef move_enderman_forward():\n    world.set(communicationPos, \"orange concrete\")\n    time.sleep(timeout)    \n\ndef teleport_enderman_to_diamond():\n    world.set(communicationPos, \"magenta concrete\")\n    time.sleep(timeout)   \n\ndef pull_lever_down():\n    world.set(communicationPos, \"light blue concrete\")\n    time.sleep(timeout)    \n@user-code",
                                                         "readonly":  false
                                                     }
                                   },
                      "outputs":  [

                                  ],
                      "source":  [
                                     "# тут код\n",
                                     "\n",
                                     "move_enderman_forward()\n",
                                     "move_enderman_forward()\n",
                                     "teleport_enderman_to_diamond()\n",
                                     "move_enderman_forward()\n",
                                     "move_enderman_forward()\n",
                                     "pull_lever_down()"
                                 ]
                  }
              ],
    "metadata":  {
                     "celltoolbar":  "Edit Metadata",
                     "kernelspec":  {
                                        "display_name":  "Python 3 (ipykernel)",
                                        "language":  "python",
                                        "name":  "python3"
                                    },
                     "language_info":  {
                                           "codemirror_mode":  {
                                                                   "name":  "ipython",
                                                                   "version":  3
                                                               },
                                           "file_extension":  ".py",
                                           "mimetype":  "text/x-python",
                                           "name":  "python",
                                           "nbconvert_exporter":  "python",
                                           "pygments_lexer":  "ipython3",
                                           "version":  "3.10.7"
                                       },
                     "minecraft":  {
                                       "description":  "HOC 2022",
                                       "page_id":  "1.1",
                                       "page_name":  "HOC 2022",
                                       "style":  "minecraft.css"
                                   }
                 },
    "nbformat":  4,
    "nbformat_minor":  5
}
