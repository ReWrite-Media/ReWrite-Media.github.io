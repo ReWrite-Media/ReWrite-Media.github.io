﻿{
    "cells":  [
                  {
                      "cell_type":  "markdown",
                      "id":  "44001b61",
                      "metadata":  {

                                   },
                      "source":  [
                                     "#\n посадки квітів",
                                     "\n",
                                     "З цими квітами є певна закономірність. З\u0027ясуйте візерунок і посадіть квіти на порожній бруд, використовуючи \"move_cusor()\", щоб розташувати курсор, а потім \"plant_flower()\", щоб посадити квітку.\n",
                                     "\n",
                                     "Функція \u0027move_cursor()\u0027 приймає один параметр, який визначає її напрямок. Цей параметр є кольором стрілки, яка представляє напрямок, в якому ви хочете рухатися.\n",
                                     "\n",
                                     "Допустимі напрямки:\n",
                                     "- \u0027помаранчевий\u0027 (переміщує курсор вперед) ! [Помаранчева стрілка] (img/orange_arrow.png «Помаранчева стріла»)\n",
                                     "- \u0027magenta\u0027 (переміщує курсор назад) ! [Пурпурова стріла] (img/magenta_arrow.png \"Пурпурова стріла\")\n",
                                     "- \u0027синій\u0027 (переміщує курсор вліво) ! [Синя стріла] (img/blue_arrow.png \"Блакитна стріла\")\n",
                                     "- \u0027жовтий\u0027 (рухає курсор вправо) ! [Жовта стрілка] (img/yellow_arrow.png \"Жовта стріла\")\n",
                                     "\n",
                                     "Функція \u0027plant_flower()\u0027 приймає один параметр, який визначає, який тип квітки слід посадити.\n",
                                     "\n",
                                     "Допустимими квітами є:\n",
                                     "- `blue` ![Blue Flower](img/blue_flower.png \"Blue Flower\") \n",
                                     "- `yellow` ![Yellow Flower](img/yellow_flower.png \"Yellow Flower\") \n",
                                     "- `red` ![Red Flower](img/red_flower.png \"Red Flower\") "
                                 ]
                  },
                  {
                      "cell_type":  "code",
                      "execution_count":  null,
                      "id":  "1c8f47ac",
                      "metadata":  {
                                       "minecraft":  {
                                                         "closeCodeBuilderOnRun":  true,
                                                         "hidden":  false,
                                                         "onCodeCancelledCommand":  "scoreboard players set @s code_status 0",
                                                         "onCodeErrorCommand":  "scoreboard players set @s code_status 0",
                                                         "onCodeStartedCommand":  "scoreboard players set @s code_status 1",
                                                         "onCodeStoppedCommand":  "scoreboard players set @s code_status 0",
                                                         "onCodeSuccessfulCommand":  "scoreboard players set @s code_status 0",
                                                         "overridePython":  "import time\n\ntimeout = 0.100\ncommunicationPos = (0, 64, 0)\n\ntime.sleep(0.250)\n\ndef move_cursor(color):\n    if color == \"orange\":\n        world.set(communicationPos, \"orange concrete\")\n        time.sleep(timeout)\n    elif color == \"magenta\":\n        world.set(communicationPos, \"magenta concrete\")\n        time.sleep(timeout)\n    elif color == \"blue\":\n        world.set(communicationPos, \"light blue concrete\")\n        time.sleep(timeout)\n    elif color == \"yellow\":\n        world.set(communicationPos, \"yellow concrete\")\n        time.sleep(timeout)\n\ndef plant_flower(color):\n    if color==\"red\":\n        world.set(communicationPos, \"lime concrete\")\n        time.sleep(timeout)         \n    elif color==\"yellow\":\n        world.set(communicationPos, \"pink concrete\")\n        time.sleep(timeout)\n    elif color==\"blue\":\n        world.set(communicationPos, \"gray concrete\")\n        time.sleep(timeout)\n@user-code",
                                                         "readonly":  true
                                                     }
                                   },
                      "outputs":  [

                                  ],
                      "source":  [
                                     "# ПРИКЛАД КОДУ - ТУТ НЕ МОЖНА РЕДАГУВАТИ\n",
                                     "# ЗАПУСТІТЬ ЙОГО, ЩОБ ПОБАЧИТИ, ЩО ВІДБУВАЄТЬСЯ\n",
                                     "\n",
                                     "# рухайтеся вправо і висаджуйте синю квітку \n",
                                     "# 5 разів, потім рухайтеся назад один і\n",
                                     "# посадити червону квітку\n",
                                     "\n",
                                     "plant_flower(\"blue\")\n",
                                     "move_cursor(\"yellow\")\n",
                                     "plant_flower(\"blue\")\n",
                                     "move_cursor(\"yellow\")\n",
                                     "plant_flower(\"blue\")\n",
                                     "move_cursor(\"yellow\")\n",
                                     "plant_flower(\"blue\")\n",
                                     "move_cursor(\"yellow\")\n",
                                     "plant_flower(\"blue\")\n",
                                     "move_cursor(\"yellow\")\n",
                                     "move_cursor(\"magenta\")\n",
                                     "plant_flower(\"red\")"
                                 ]
                  },
                  {
                      "cell_type":  "markdown",
                      "id":  "7bf72b7f",
                      "metadata":  {

                                   },
                      "source":  [
                                     "# Професійна порада:\n",
                                     "\n",
                                     "Використовуйте цикл `for`, щоб виконувати одну або групу дій кілька разів."
                                 ]
                  },
                  {
                      "cell_type":  "code",
                      "execution_count":  null,
                      "id":  "db97ed1f",
                      "metadata":  {
                                       "minecraft":  {
                                                         "closeCodeBuilderOnRun":  true,
                                                         "hidden":  false,
                                                         "onCodeCancelledCommand":  "scoreboard players set @s code_status 0",
                                                         "onCodeErrorCommand":  "scoreboard players set @s code_status 0",
                                                         "onCodeStartedCommand":  "scoreboard players set @s code_status 1",
                                                         "onCodeStoppedCommand":  "scoreboard players set @s code_status 0",
                                                         "onCodeSuccessfulCommand":  "scoreboard players set @s code_status 0",
                                                         "overridePython":  "import time\n\ntimeout = 0.100\ncommunicationPos = (0, 64, 0)\n\ntime.sleep(0.250)\n\ndef move_cursor(color):\n    if color == \"orange\":\n        world.set(communicationPos, \"orange concrete\")\n        time.sleep(timeout)\n    elif color == \"magenta\":\n        world.set(communicationPos, \"magenta concrete\")\n        time.sleep(timeout)\n    elif color == \"blue\":\n        world.set(communicationPos, \"light blue concrete\")\n        time.sleep(timeout)\n    elif color == \"yellow\":\n        world.set(communicationPos, \"yellow concrete\")\n        time.sleep(timeout)\n\ndef plant_flower(color):\n    if color==\"red\":\n        world.set(communicationPos, \"lime concrete\")\n        time.sleep(timeout)         \n    elif color==\"yellow\":\n        world.set(communicationPos, \"pink concrete\")\n        time.sleep(timeout)\n    elif color==\"blue\":\n        world.set(communicationPos, \"gray concrete\")\n        time.sleep(timeout)\n@user-code",
                                                         "readonly":  true
                                                     }
                                   },
                      "outputs":  [

                                  ],
                      "source":  [
                                     "# ПРИКЛАД КОДУ - ТУТ НЕ МОЖНА РЕДАГУВАТИ\n",
                                     "# ЗАПУСТІТЬ ЙОГО, ЩОБ ПОБАЧИТИ, ЩО ВІДБУВАЄТЬСЯ\n",
                                     "\n",
                                     "# рухайтеся вправо і висаджуйте синю квітку \n",
                                     "# 5 разів, потім рухайтеся назад один і\n",
                                     "# посадити червону квітку\n",
                                     "\n",
                                     "for i in range(5):\n",
                                     "    plant_flower(\"blue\")\n",
                                     "    move_cursor(\"yellow\")\n",
                                     "\n",
                                     "move_cursor(\"magenta\")\n",
                                     "plant_flower(\"red\")"
                                 ]
                  },
                  {
                      "cell_type":  "markdown",
                      "id":  "b2b2cb43",
                      "metadata":  {

                                   },
                      "source":  [
                                     "# Задача:\n",
                                     "\n",
                                     "Клумби з боків начебто мають до них малюнок! Це, мабуть, підказка для заповнення більшої клумби в середині! \n",
                                     "\n",
                                     "Включений нижче код зламаний. Чи можете ви це виправити? Запустіть код, щоб побачити, що станеться, а потім налагодьте його, відредагувавши до правильного рішення."
                                 ]
                  },
                  {
                      "cell_type":  "code",
                      "execution_count":  null,
                      "id":  "b6f4bd0e",
                      "metadata":  {
                                       "minecraft":  {
                                                         "closeCodeBuilderOnRun":  true,
                                                         "hidden":  false,
                                                         "onCodeCancelledCommand":  "scoreboard players set @s code_status 0",
                                                         "onCodeErrorCommand":  "scoreboard players set @s code_status 0",
                                                         "onCodeStartedCommand":  "scoreboard players set @s code_status 1",
                                                         "onCodeStoppedCommand":  "scoreboard players set @s code_status 0",
                                                         "onCodeSuccessfulCommand":  "scoreboard players set @s code_status 0",
                                                         "overridePython":  "import time\n\ntimeout = 0.100\ncommunicationPos = (0, 64, 0)\n\ntime.sleep(0.250)\n\ndef move_cursor(color):\n    if color == \"orange\":\n        world.set(communicationPos, \"orange concrete\")\n        time.sleep(timeout)\n    elif color == \"magenta\":\n        world.set(communicationPos, \"magenta concrete\")\n        time.sleep(timeout)\n    elif color == \"blue\":\n        world.set(communicationPos, \"light blue concrete\")\n        time.sleep(timeout)\n    elif color == \"yellow\":\n        world.set(communicationPos, \"yellow concrete\")\n        time.sleep(timeout)\n\ndef plant_flower(color):\n    if color==\"red\":\n        world.set(communicationPos, \"lime concrete\")\n        time.sleep(timeout)         \n    elif color==\"yellow\":\n        world.set(communicationPos, \"pink concrete\")\n        time.sleep(timeout)\n    elif color==\"blue\":\n        world.set(communicationPos, \"gray concrete\")\n        time.sleep(timeout)\n@user-code",
                                                         "readonly":  false
                                                     }
                                   },
                      "outputs":  [

                                  ],
                      "source":  [
                                     "# тут код\n",
                                     "\n",
                                     "plant_flower(\"blue\")\n",
                                     "move_cursor(\"yellow\")\n",
                                     "move_cursor(\"yellow\")\n",
                                     "move_cursor(\"yellow\")\n",
                                     "move_cursor(\"magenta\")\n",
                                     "plant_flower(\"yellow\")\n",
                                     "move_cursor(\"blue\")\n",
                                     "move_cursor(\"magenta\")\n",
                                     "plant_flower(\"red\")\n"
                                 ]
                  }
              ],
    "metadata":  {
                     "celltoolbar":  "Edit Metadata",
                     "kernelspec":  {
                                        "display_name":  "Python 3 (ipykernel)",
                                        "language":  "python",
                                        "name":  "python3"
                                    },
                     "language_info":  {
                                           "codemirror_mode":  {
                                                                   "name":  "ipython",
                                                                   "version":  3
                                                               },
                                           "file_extension":  ".py",
                                           "mimetype":  "text/x-python",
                                           "name":  "python",
                                           "nbconvert_exporter":  "python",
                                           "pygments_lexer":  "ipython3",
                                           "version":  "3.10.7"
                                       },
                     "minecraft":  {
                                       "description":  "HOC 2022",
                                       "page_id":  "1.1",
                                       "page_name":  "HOC 2022",
                                       "style":  "minecraft.css"
                                   }
                 },
    "nbformat":  4,
    "nbformat_minor":  5
}
