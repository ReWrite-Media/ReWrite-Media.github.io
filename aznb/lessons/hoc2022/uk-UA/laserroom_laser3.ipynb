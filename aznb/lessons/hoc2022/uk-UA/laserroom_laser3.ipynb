﻿{
    "cells":  [
                  {
                      "cell_type":  "markdown",
                      "id":  "e678df41",
                      "metadata":  {

                                   },
                      "source":  [
                                     "# Лазерна головоломка (частина 3)\n",
                                     "\n",
                                     "Тверді блоки зупиняють лазер! Посуньте ряд червоних, жовтих і зелених блоків, щоб лазер пройшов через скляні блоки й увімкнулося світло з іншого боку. Використовуйте функцію \u0027shift_row()\u0027, щоб змістити ряди ліворуч або праворуч, аби лазер міг пройти крізь скляні блоки.\n",
                                     "\n",
                                     "Функція \u0027shift_row()\u0027 використовує два параметри (рядки). Перший параметр визначає, рядок якого кольору потрібно посунути, а другий — напрямок переміщення рядка.\n",
                                     "\n",
                                     "Допустимі кольори:\n",
                                     "- `green` (зелений) ![Зелений](img/green_right.png \"Зелений\")\n",
                                     "- `yellow` (жовтий) ![Жовтий](img/yellow_right.png \"Жовтий\")\n",
                                     "- `red` (червоний) ![Червоний](img/red_right.png \"Червоний\")\n",
                                     "\n",
                                     "Допустимі напрямки:\n",
                                     "- `right` (вправо) ![Праворуч](img/gray_right.png \"Праворуч\")\n",
                                     "- `left` (ліворуч) ![Ліворуч](img/gray_left.png \"Ліворуч\")"
                                 ]
                  },
                  {
                      "cell_type":  "code",
                      "execution_count":  null,
                      "id":  "20136327",
                      "metadata":  {
                                       "minecraft":  {
                                                         "closeCodeBuilderOnRun":  true,
                                                         "hidden":  false,
                                                         "onCodeCancelledCommand":  "scoreboard players set @s code_status 0",
                                                         "onCodeErrorCommand":  "scoreboard players set @s code_status 0",
                                                         "onCodeStartedCommand":  "scoreboard players set @s code_status 1",
                                                         "onCodeStoppedCommand":  "scoreboard players set @s code_status 0",
                                                         "onCodeSuccessfulCommand":  "scoreboard players set @s code_status 0",
                                                         "overridePython":  "import time\n\ntimeout = 0.100\ncommunicationPos = (0, 64, 0)\n\ntime.sleep(0.250)\n\ndef shift_row(color, direction):\n    if color==\"green\" and direction == \"left\":\n        world.set(communicationPos, \"orange concrete\")\n        time.sleep(timeout)   \n    elif color==\"green\" and direction == \"right\":\n        world.set(communicationPos, \"magenta concrete\")\n        time.sleep(timeout)                 \n    elif color==\"yellow\" and direction == \"left\":\n        world.set(communicationPos, \"light blue concrete\")\n        time.sleep(timeout)   \n    elif color==\"yellow\" and direction == \"right\":\n        world.set(communicationPos, \"yellow concrete\")\n        time.sleep(timeout)                 \n    elif color==\"red\" and direction == \"left\":\n        world.set(communicationPos, \"lime concrete\")\n        time.sleep(timeout)   \n    elif color==\"red\" and direction == \"right\":\n        world.set(communicationPos, \"pink concrete\")\n        time.sleep(timeout)  \n@user-code",
                                                         "readonly":  true
                                                     }
                                   },
                      "outputs":  [

                                  ],
                      "source":  [
                                     "# ПРИКЛАД КОДУ — ТУТ НЕ МОЖНА РЕДАГУВАТИ\n",
                                     "# ЗАПУСТІТЬ ЙОГО, ЩОБ ПОБАЧИТИ, ЩО ВІДБУВАТИМЕТЬСЯ\n",
                                     "\n",
                                     "# посунути зелений ряд праворуч\n",
                                     "# 3 рази, жовтий ряд\n",
                                     "# ліворуч 1 раз і червоний ряд\n",
                                     "# праворуч 3 рази.\n",
                                     "\n",
                                     "shift_row(\"green\", \"right\")\n",
                                     "shift_row(\"green\", \"right\")\n",
                                     "shift_row(\"green\", \"right\")\n",
                                     "shift_row(\"yellow\", \"left\")\n",
                                     "shift_row(\"red\", \"right\")\n",
                                     "shift_row(\"red\", \"right\")\n",
                                     "shift_row(\"red\", \"right\")"
                                 ]
                  },
                  {
                      "cell_type":  "markdown",
                      "id":  "a2330714",
                      "metadata":  {

                                   },
                      "source":  [
                                     "# Професійна порада:\n",
                                     "\n",
                                     "Використовуйте цикл `for`, щоб виконувати одну або групу дій кілька разів."
                                 ]
                  },
                  {
                      "cell_type":  "code",
                      "execution_count":  null,
                      "id":  "9da21bcf",
                      "metadata":  {
                                       "minecraft":  {
                                                         "closeCodeBuilderOnRun":  true,
                                                         "hidden":  false,
                                                         "onCodeCancelledCommand":  "scoreboard players set @s code_status 0",
                                                         "onCodeErrorCommand":  "scoreboard players set @s code_status 0",
                                                         "onCodeStartedCommand":  "scoreboard players set @s code_status 1",
                                                         "onCodeStoppedCommand":  "scoreboard players set @s code_status 0",
                                                         "onCodeSuccessfulCommand":  "scoreboard players set @s code_status 0",
                                                         "overridePython":  "import time\n\ntimeout = 0.100\ncommunicationPos = (0, 64, 0)\n\ntime.sleep(0.250)\n\ndef shift_row(color, direction):\n    if color==\"green\" and direction == \"left\":\n        world.set(communicationPos, \"orange concrete\")\n        time.sleep(timeout)   \n    elif color==\"green\" and direction == \"right\":\n        world.set(communicationPos, \"magenta concrete\")\n        time.sleep(timeout)                 \n    elif color==\"yellow\" and direction == \"left\":\n        world.set(communicationPos, \"light blue concrete\")\n        time.sleep(timeout)   \n    elif color==\"yellow\" and direction == \"right\":\n        world.set(communicationPos, \"yellow concrete\")\n        time.sleep(timeout)                 \n    elif color==\"red\" and direction == \"left\":\n        world.set(communicationPos, \"lime concrete\")\n        time.sleep(timeout)   \n    elif color==\"red\" and direction == \"right\":\n        world.set(communicationPos, \"pink concrete\")\n        time.sleep(timeout)  \n@user-code",
                                                         "readonly":  true
                                                     }
                                   },
                      "outputs":  [

                                  ],
                      "source":  [
                                     "# ПРИКЛАД КОДУ — ТУТ НЕ МОЖНА РЕДАГУВАТИ\n",
                                     "# ЗАПУСТІТЬ ЙОГО, ЩОБ ПОБАЧИТИ, ЩО ВІДБУВАТИМЕТЬСЯ\n",
                                     "\n",
                                     "# посунути зелений ряд праворуч\n",
                                     "# 3 рази, жовтий ряд\n",
                                     "# ліворуч 1 раз і червоний ряд\n",
                                     "# праворуч 3 рази.\n",
                                     "\n",
                                     "for i in range(3):\n",
                                     "    shift_row(\"green\", \"right\")\n",
                                     "    \n",
                                     "shift_row(\"yellow\", \"left\")\n",
                                     "\n",
                                     "for i in range(3):\n",
                                     "    shift_row(\"red\", \"right\")"
                                 ]
                  },
                  {
                      "cell_type":  "markdown",
                      "id":  "8a3d50eb",
                      "metadata":  {

                                   },
                      "source":  [
                                     "# Задача:\n",
                                     "\n",
                                     "Посуньте зелений, жовтий і червоний ряди ліворуч або праворуч, щоб лазери пройшли через скляні блоки й увімкнулося світло.\n",
                                     "\n",
                                     "Цей код унизу не працює. Ви можете виправити? Запустіть його, щоб знайти проблему. Після цього внесіть зміни й отримайте бажаний результат."
                                 ]
                  },
                  {
                      "cell_type":  "code",
                      "execution_count":  null,
                      "id":  "b6f4bd0e",
                      "metadata":  {
                                       "minecraft":  {
                                                         "closeCodeBuilderOnRun":  true,
                                                         "hidden":  false,
                                                         "onCodeCancelledCommand":  "scoreboard players set @s code_status 0",
                                                         "onCodeErrorCommand":  "scoreboard players set @s code_status 0",
                                                         "onCodeStartedCommand":  "scoreboard players set @s code_status 1",
                                                         "onCodeStoppedCommand":  "scoreboard players set @s code_status 0",
                                                         "onCodeSuccessfulCommand":  "scoreboard players set @s code_status 0",
                                                         "overridePython":  "import time\n\ntimeout = 0.100\ncommunicationPos = (0, 64, 0)\n\ntime.sleep(0.250)\n\ndef shift_row(color, direction):\n    if color==\"green\" and direction == \"left\":\n        world.set(communicationPos, \"orange concrete\")\n        time.sleep(timeout)   \n    elif color==\"green\" and direction == \"right\":\n        world.set(communicationPos, \"magenta concrete\")\n        time.sleep(timeout)                 \n    elif color==\"yellow\" and direction == \"left\":\n        world.set(communicationPos, \"light blue concrete\")\n        time.sleep(timeout)   \n    elif color==\"yellow\" and direction == \"right\":\n        world.set(communicationPos, \"yellow concrete\")\n        time.sleep(timeout)                 \n    elif color==\"red\" and direction == \"left\":\n        world.set(communicationPos, \"lime concrete\")\n        time.sleep(timeout)   \n    elif color==\"red\" and direction == \"right\":\n        world.set(communicationPos, \"pink concrete\")\n        time.sleep(timeout)  \n@user-code",
                                                         "readonly":  false
                                                     }
                                   },
                      "outputs":  [

                                  ],
                      "source":  [
                                     "# тут код\n",
                                     "\n",
                                     "shift_row(\"green\", \"left\")\n",
                                     "shift_row(\"yellow\", \"right\")\n",
                                     "shift_row(\"red\", \"right\")\n",
                                     "shift_row(\"red\", \"right\")\n",
                                     "shift_row(\"red\", \"right\")"
                                 ]
                  }
              ],
    "metadata":  {
                     "celltoolbar":  "Edit Metadata",
                     "kernelspec":  {
                                        "display_name":  "Python 3 (ipykernel)",
                                        "language":  "python",
                                        "name":  "python3"
                                    },
                     "language_info":  {
                                           "codemirror_mode":  {
                                                                   "name":  "ipython",
                                                                   "version":  3
                                                               },
                                           "file_extension":  ".py",
                                           "mimetype":  "text/x-python",
                                           "name":  "python",
                                           "nbconvert_exporter":  "python",
                                           "pygments_lexer":  "ipython3",
                                           "version":  "3.10.7"
                                       },
                     "minecraft":  {
                                       "description":  "Година програмування 2022",
                                       "page_id":  "1.1",
                                       "page_name":  "Година програмування 2022",
                                       "style":  "minecraft.css"
                                   }
                 },
    "nbformat":  4,
    "nbformat_minor":  5
}
