﻿{
    "cells":  [
                  {
                      "cell_type":  "markdown",
                      "id":  "5af69546",
                      "metadata":  {

                                   },
                      "source":  [
                                     "# Активація\n трепінгу",
                                     "\n",
                                     "Тепер ваш шанс захопити Агентів Часу! Прямуйте в центр бос-арени і дивіться вниз! Вам потрібно буде вирівняти всі 3 кільця з центральними кольорами пастки, щоб активувати її! Використовуйте функцію «rotate_ring()» для повороту кожного кільця за годинниковою стрілкою або проти годинникової стрілки, щоб вирівняти всі кольори!\n",
                                     "\n",
                                     "Функція \u0027rotate_ring()\u0027 приймає два параметри. Перший визначає, яке кільце ви хочете повернути, а другий визначає, в якому напрямку він повинен обертатися.\n",
                                     "\n",
                                     "Допустимими кільцями є:\n",
                                     "- `outer` ![Outer Ring](img/outer_ring.png \"Outer Ring\")\n",
                                     "- `middle` ![Middle Ring](img/middle_ring.png \"Middle Ring\")\n",
                                     "- `inner` ![Inner Ring](img/inner_ring.png \"Inner Ring\")\n",
                                     "\n",
                                     "Допустимі напрямки:\n",
                                     "- `clockwise` ![Clockwise Rotation](img/clockwise_ring.png \"Outer Ring\")\n",
                                     "- «проти годинникової стрілки» ! [Обертання проти годинникової стрілки] (img/counterclockwise_ring.png \"Обертання проти годинникової стрілки\")"
                                 ]
                  },
                  {
                      "cell_type":  "code",
                      "execution_count":  null,
                      "id":  "dc90f846",
                      "metadata":  {
                                       "minecraft":  {
                                                         "closeCodeBuilderOnRun":  true,
                                                         "hidden":  false,
                                                         "onCodeCancelledCommand":  "scoreboard players set @s code_status 0",
                                                         "onCodeErrorCommand":  "scoreboard players set @s code_status 0",
                                                         "onCodeStartedCommand":  "scoreboard players set @s code_status 1",
                                                         "onCodeStoppedCommand":  "scoreboard players set @s code_status 0",
                                                         "onCodeSuccessfulCommand":  "scoreboard players set @s code_status 0",
                                                         "overridePython":  "import time\n\ntimeout = 0.100\ncommunicationPos = (0, 64, 0)\n\ntime.sleep(0.250)\n\ndef rotate_ring(position, direction):\n    if position==\"outer\" and direction==\"clockwise\":\n        world.set(communicationPos, \"orange concrete\")\n        time.sleep(timeout)\n    elif position==\"outer\" and direction==\"counterclockwise\":\n        world.set(communicationPos, \"magenta concrete\")\n        time.sleep(timeout)\n    elif position==\"middle\" and direction==\"clockwise\":\n        world.set(communicationPos, \"light blue concrete\")\n        time.sleep(timeout)\n    elif position==\"middle\" and direction==\"counterclockwise\":\n        world.set(communicationPos, \"yellow concrete\")\n        time.sleep(timeout)\n    elif position==\"inner\" and direction==\"clockwise\":\n        world.set(communicationPos, \"lime concrete\")\n        time.sleep(timeout)\n    elif position==\"inner\" and direction==\"counterclockwise\":\n        world.set(communicationPos, \"pink concrete\")\n        time.sleep(timeout)\n@user-code",
                                                         "readonly":  true
                                                     }
                                   },
                      "outputs":  [

                                  ],
                      "source":  [
                                     "# ПРИКЛАД КОДУ - ТУТ НЕ МОЖНА РЕДАГУВАТИ\n",
                                     "# ЗАПУСТІТЬ ЙОГО, ЩОБ ПОБАЧИТИ, ЩО ВІДБУВАЄТЬСЯ\n",
                                     "\n",
                                     "# повернути зовнішнє кільце 3 рази за годинниковою стрілкою\n",
                                     "# а потім повернути середнє кільце 1 раз\n",
                                     "#\n проти годинникової стрілки",
                                     "\n",
                                     "rotate_ring(\"outer\", \"clockwise\")\n",
                                     "rotate_ring(\"outer\", \"clockwise\")\n",
                                     "rotate_ring(\"outer\", \"clockwise\")\n",
                                     "rotate_ring(\"inner\", \"counterclockwise\")"
                                 ]
                  },
                  {
                      "cell_type":  "markdown",
                      "id":  "39bd345c",
                      "metadata":  {

                                   },
                      "source":  [
                                     "# Професійна порада:\n",
                                     "\n",
                                     "Використовуйте цикл `for`, щоб виконувати одну або групу дій кілька разів."
                                 ]
                  },
                  {
                      "cell_type":  "code",
                      "execution_count":  null,
                      "id":  "bb313844",
                      "metadata":  {
                                       "minecraft":  {
                                                         "closeCodeBuilderOnRun":  true,
                                                         "hidden":  false,
                                                         "onCodeCancelledCommand":  "scoreboard players set @s code_status 0",
                                                         "onCodeErrorCommand":  "scoreboard players set @s code_status 0",
                                                         "onCodeStartedCommand":  "scoreboard players set @s code_status 1",
                                                         "onCodeStoppedCommand":  "scoreboard players set @s code_status 0",
                                                         "onCodeSuccessfulCommand":  "scoreboard players set @s code_status 0",
                                                         "overridePython":  "import time\n\ntimeout = 0.100\ncommunicationPos = (0, 64, 0)\n\ntime.sleep(0.250)\n\ndef rotate_ring(position, direction):\n    if position==\"outer\" and direction==\"clockwise\":\n        world.set(communicationPos, \"orange concrete\")\n        time.sleep(timeout)\n    elif position==\"outer\" and direction==\"counterclockwise\":\n        world.set(communicationPos, \"magenta concrete\")\n        time.sleep(timeout)\n    elif position==\"middle\" and direction==\"clockwise\":\n        world.set(communicationPos, \"light blue concrete\")\n        time.sleep(timeout)\n    elif position==\"middle\" and direction==\"counterclockwise\":\n        world.set(communicationPos, \"yellow concrete\")\n        time.sleep(timeout)\n    elif position==\"inner\" and direction==\"clockwise\":\n        world.set(communicationPos, \"lime concrete\")\n        time.sleep(timeout)\n    elif position==\"inner\" and direction==\"counterclockwise\":\n        world.set(communicationPos, \"pink concrete\")\n        time.sleep(timeout)\n@user-code",
                                                         "readonly":  true
                                                     }
                                   },
                      "outputs":  [

                                  ],
                      "source":  [
                                     "# ПРИКЛАД КОДУ - ТУТ НЕ МОЖНА РЕДАГУВАТИ\n",
                                     "# ЗАПУСТІТЬ ЙОГО, ЩОБ ПОБАЧИТИ, ЩО ВІДБУВАЄТЬСЯ\n",
                                     "\n",
                                     "# повернути зовнішнє кільце 3 рази за годинниковою стрілкою\n",
                                     "# а потім повернути середнє кільце 1 раз\n",
                                     "#\n проти годинникової стрілки",
                                     "\n",
                                     "for i in range(3):\n",
                                     "    rotate_ring(\"outer\", \"clockwise\")\n",
                                     "\n",
                                     "rotate_ring(\"inner\", \"counterclockwise\")"
                                 ]
                  },
                  {
                      "cell_type":  "markdown",
                      "id":  "0cbb6950",
                      "metadata":  {

                                   },
                      "source":  [
                                     "# Задача:\n",
                                     "\n",
                                     "Обертайте кільця! Вирівняйте всі три кільця з центральними кольорами трепінгу, щоб активувати його!\n",
                                     "\n",
                                     "Включений нижче код зламаний. Чи можете ви це виправити? Запустіть код, щоб побачити, що станеться, а потім налагодьте його, відредагувавши до правильного рішення."
                                 ]
                  },
                  {
                      "cell_type":  "code",
                      "execution_count":  null,
                      "id":  "b6f4bd0e",
                      "metadata":  {
                                       "minecraft":  {
                                                         "closeCodeBuilderOnRun":  true,
                                                         "hidden":  false,
                                                         "onCodeCancelledCommand":  "scoreboard players set @s code_status 0",
                                                         "onCodeErrorCommand":  "scoreboard players set @s code_status 0",
                                                         "onCodeStartedCommand":  "scoreboard players set @s code_status 1",
                                                         "onCodeStoppedCommand":  "scoreboard players set @s code_status 0",
                                                         "onCodeSuccessfulCommand":  "scoreboard players set @s code_status 0",
                                                         "overridePython":  "import time\n\ntimeout = 0.100\ncommunicationPos = (0, 64, 0)\n\ntime.sleep(0.250)\n\ndef rotate_ring(position, direction):\n    if position==\"outer\" and direction==\"clockwise\":\n        world.set(communicationPos, \"orange concrete\")\n        time.sleep(timeout)\n    elif position==\"outer\" and direction==\"counterclockwise\":\n        world.set(communicationPos, \"magenta concrete\")\n        time.sleep(timeout)\n    elif position==\"middle\" and direction==\"clockwise\":\n        world.set(communicationPos, \"light blue concrete\")\n        time.sleep(timeout)\n    elif position==\"middle\" and direction==\"counterclockwise\":\n        world.set(communicationPos, \"yellow concrete\")\n        time.sleep(timeout)\n    elif position==\"inner\" and direction==\"clockwise\":\n        world.set(communicationPos, \"lime concrete\")\n        time.sleep(timeout)\n    elif position==\"inner\" and direction==\"counterclockwise\":\n        world.set(communicationPos, \"pink concrete\")\n        time.sleep(timeout)\n@user-code",
                                                         "readonly":  false
                                                     }
                                   },
                      "outputs":  [

                                  ],
                      "source":  [
                                     "# тут код\n",
                                     "\n",
                                     "rotate_ring(\"outer\", \"clockwise\")\n",
                                     "rotate_ring(\"middle\", \"counterclockwise\")\n",
                                     "rotate_ring(\"middle\", \"counterclockwise\")\n",
                                     "rotate_ring(\"middle\", \"counterclockwise\")"
                                 ]
                  }
              ],
    "metadata":  {
                     "celltoolbar":  "Edit Metadata",
                     "kernelspec":  {
                                        "display_name":  "Python 3 (ipykernel)",
                                        "language":  "python",
                                        "name":  "python3"
                                    },
                     "language_info":  {
                                           "codemirror_mode":  {
                                                                   "name":  "ipython",
                                                                   "version":  3
                                                               },
                                           "file_extension":  ".py",
                                           "mimetype":  "text/x-python",
                                           "name":  "python",
                                           "nbconvert_exporter":  "python",
                                           "pygments_lexer":  "ipython3",
                                           "version":  "3.10.7"
                                       },
                     "minecraft":  {
                                       "description":  "HOC 2022",
                                       "page_id":  "1.1",
                                       "page_name":  "HOC 2022",
                                       "style":  "minecraft.css"
                                   }
                 },
    "nbformat":  4,
    "nbformat_minor":  5
}
