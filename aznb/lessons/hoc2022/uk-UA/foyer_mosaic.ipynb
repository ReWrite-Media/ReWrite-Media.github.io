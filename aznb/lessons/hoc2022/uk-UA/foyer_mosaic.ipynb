﻿{
    "cells":  [
                  {
                      "cell_type":  "markdown",
                      "id":  "19cb30b6",
                      "metadata":  {

                                   },
                      "source":  [
                                     "# Зображення слайда\n",
                                     "\n",
                                     "Схоже, ці твори є частиною неповної картини! Спробуйте переупорядкувати їх, щоб побачити, яким він має бути! Використовуйте функцію «push_pieces()», щоб запустити поршні, щоб перемістити шматки в цьому напрямку. \n",
                                     "\n",
                                     "Функція \u0027push_pieces()\u0027 приймає один параметр, напрямок, в якому ви хочете натиснути на шматки.\n",
                                     "\n",
                                     "Допустимі напрямки:\n",
                                     "- `up` ![Blue Up](img/chess_blue_up.png \"Blue Up\")\n",
                                     "- `down` ![Red Down](img/chess_red_down.png \"Red Down\")\n",
                                     "- `left` ![Yellow Left](img/chess_yellow_left.png \"Yellow Left\")\n",
                                     "- \"правильно\" ! [Праворуч від зеленого кольору] (img/chess_green_right.png \"Зелене право\")"
                                 ]
                  },
                  {
                      "cell_type":  "code",
                      "execution_count":  null,
                      "id":  "45ce451c",
                      "metadata":  {
                                       "minecraft":  {
                                                         "closeCodeBuilderOnRun":  true,
                                                         "hidden":  false,
                                                         "onCodeCancelledCommand":  "scoreboard players set @s code_status 0",
                                                         "onCodeErrorCommand":  "scoreboard players set @s code_status 0",
                                                         "onCodeStartedCommand":  "scoreboard players set @s code_status 1",
                                                         "onCodeStoppedCommand":  "scoreboard players set @s code_status 0",
                                                         "onCodeSuccessfulCommand":  "scoreboard players set @s code_status 0",
                                                         "overridePython":  "import time\n\ntimeout = 0.100\ncommunicationPos = (0, 64, 0)\n\ntime.sleep(0.250)\n\ndef push_pieces(direction):\n    if direction==\"up\":\n        world.set(communicationPos, \"orange concrete\")\n        time.sleep(timeout)    \n    elif direction==\"down\":\n        world.set(communicationPos, \"magenta concrete\")\n        time.sleep(timeout) \n    elif direction==\"left\":\n        world.set(communicationPos, \"light blue concrete\")\n        time.sleep(timeout) \n    elif direction==\"right\":\n        world.set(communicationPos, \"yellow concrete\")\n        time.sleep(timeout) \n@user-code",
                                                         "readonly":  true
                                                     }
                                   },
                      "outputs":  [

                                  ],
                      "source":  [
                                     "# ПРИКЛАД КОДУ - ТУТ НЕ МОЖНА РЕДАГУВАТИ\n",
                                     "# ЗАПУСТІТЬ ЙОГО, ЩОБ ПОБАЧИТИ, ЩО ВІДБУВАЄТЬСЯ\n",
                                     "\n",
                                     "# переміщувати шматки у всіх\n",
                                     "# 4 напрямки\n",
                                     "\n",
                                     "push_pieces(\"left\")\n",
                                     "push_pieces(\"right\")\n",
                                     "push_pieces(\"down\")\n",
                                     "push_pieces(\"up\")"
                                 ]
                  },
                  {
                      "cell_type":  "markdown",
                      "id":  "aafe5d6a",
                      "metadata":  {

                                   },
                      "source":  [
                                     "# Задача:\n",
                                     "\n",
                                     "Натисніть блоки, щоб змінити їх порядок, щоб усі різні частини дали повну картину!\n",
                                     "\n",
                                     "Включений нижче код зламаний. Чи можете ви це виправити? Запустіть код, щоб побачити, що станеться, а потім налагодьте його, відредагувавши до правильного рішення."
                                 ]
                  },
                  {
                      "cell_type":  "code",
                      "execution_count":  null,
                      "id":  "b6f4bd0e",
                      "metadata":  {
                                       "minecraft":  {
                                                         "closeCodeBuilderOnRun":  true,
                                                         "hidden":  false,
                                                         "onCodeCancelledCommand":  "scoreboard players set @s code_status 0",
                                                         "onCodeErrorCommand":  "scoreboard players set @s code_status 0",
                                                         "onCodeStartedCommand":  "scoreboard players set @s code_status 1",
                                                         "onCodeStoppedCommand":  "scoreboard players set @s code_status 0",
                                                         "onCodeSuccessfulCommand":  "scoreboard players set @s code_status 0",
                                                         "overridePython":  "import time\n\ntimeout = 0.100\ncommunicationPos = (0, 64, 0)\n\ntime.sleep(0.250)\n\ndef push_pieces(direction):\n    if direction==\"up\":\n        world.set(communicationPos, \"orange concrete\")\n        time.sleep(timeout)    \n    elif direction==\"down\":\n        world.set(communicationPos, \"magenta concrete\")\n        time.sleep(timeout) \n    elif direction==\"left\":\n        world.set(communicationPos, \"light blue concrete\")\n        time.sleep(timeout) \n    elif direction==\"right\":\n        world.set(communicationPos, \"yellow concrete\")\n        time.sleep(timeout) \n@user-code",
                                                         "readonly":  false
                                                     }
                                   },
                      "outputs":  [

                                  ],
                      "source":  [
                                     "# тут код\n",
                                     "\n",
                                     "push_pieces(\"left\")\n",
                                     "push_pieces(\"right\")\n",
                                     "push_pieces(\"down\")\n"
                                 ]
                  }
              ],
    "metadata":  {
                     "celltoolbar":  "Edit Metadata",
                     "kernelspec":  {
                                        "display_name":  "Python 3 (ipykernel)",
                                        "language":  "python",
                                        "name":  "python3"
                                    },
                     "language_info":  {
                                           "codemirror_mode":  {
                                                                   "name":  "ipython",
                                                                   "version":  3
                                                               },
                                           "file_extension":  ".py",
                                           "mimetype":  "text/x-python",
                                           "name":  "python",
                                           "nbconvert_exporter":  "python",
                                           "pygments_lexer":  "ipython3",
                                           "version":  "3.10.7"
                                       },
                     "minecraft":  {
                                       "description":  "HOC 2022",
                                       "page_id":  "1.1",
                                       "page_name":  "HOC 2022",
                                       "style":  "minecraft.css"
                                   }
                 },
    "nbformat":  4,
    "nbformat_minor":  5
}
