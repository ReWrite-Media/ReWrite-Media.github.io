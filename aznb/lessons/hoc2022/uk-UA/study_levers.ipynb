﻿{
    "cells":  [
                  {
                      "cell_type":  "markdown",
                      "id":  "acba1c10",
                      "metadata":  {

                                   },
                      "source":  [
                                     "# Кольорові важелі\n",
                                     "\n",
                                     "Вам потрібно буде перевернути всі чотири важелі, щоб відкрити двері, але ви недостатньо швидко, щоб зробити це вручну. Подивіться, чи можете ви зрозуміти порядок, який їм потрібно перевернути, а потім запрограмуйте свого нового друга Speedy Knight, щоб зробити це за нас! Використовуйте функцію «move_knight()», щоб визначити, до якого кольору слід перейти Speedy Knight.\n",
                                     "\n",
                                     "Функція \u0027move_knight()\u0027\u0027 приймає один параметр, який визначає, до якого кольору вона повинна переміститися.\n",
                                     "\n",
                                     "Допустимими кольорами є:\n",
                                     "- `blue` ![Blue](img/blue_carpet.png \"Blue\")\n",
                                     "- `orange` ![Orange](img/orange_carpet.png \"Orange\")\n",
                                     "- `yellow` ![Yellow](img/yellow_carpet.png \"Yellow\")\n",
                                     "- `magenta` ![Magenta](img/magenta_carpet.png \"Magenta\")\n"
                                 ]
                  },
                  {
                      "cell_type":  "code",
                      "execution_count":  null,
                      "id":  "0335d72d",
                      "metadata":  {
                                       "minecraft":  {
                                                         "closeCodeBuilderOnRun":  true,
                                                         "hidden":  false,
                                                         "onCodeCancelledCommand":  "scoreboard players set @s code_status 0",
                                                         "onCodeErrorCommand":  "scoreboard players set @s code_status 0",
                                                         "onCodeStartedCommand":  "scoreboard players set @s code_status 1",
                                                         "onCodeStoppedCommand":  "scoreboard players set @s code_status 0",
                                                         "onCodeSuccessfulCommand":  "scoreboard players set @s code_status 0",
                                                         "overridePython":  "import time\n\ntimeout = 0.100\ncommunicationPos = (0, 64, 0)\n\ntime.sleep(0.250)\n\ndef move_knight(color):\n    if color==\"blue\":\n        world.set(communicationPos, \"light blue concrete\")\n        time.sleep(timeout) \n    elif color==\"magenta\":\n        world.set(communicationPos, \"magenta concrete\")\n        time.sleep(timeout) \n    elif color==\"yellow\":\n        world.set(communicationPos, \"yellow concrete\")\n        time.sleep(timeout) \n    elif color==\"orange\":\n        world.set(communicationPos, \"orange concrete\")\n        time.sleep(timeout) \n@user-code",
                                                         "readonly":  true
                                                     }
                                   },
                      "outputs":  [

                                  ],
                      "source":  [
                                     "# ПРИКЛАД КОДУ - ТУТ НЕ МОЖНА РЕДАГУВАТИ\n",
                                     "# ЗАПУСТІТЬ ЙОГО, ЩОБ ПОБАЧИТИ, ЩО ВІДБУВАЄТЬСЯ\n",
                                     "\n",
                                     "# перемістити костюм броні між\n",
                                     "# різні кольори\n",
                                     "\n",
                                     "move_knight(\"blue\")\n",
                                     "move_knight(\"orange\")"
                                 ]
                  },
                  {
                      "cell_type":  "markdown",
                      "id":  "a259db5b",
                      "metadata":  {

                                   },
                      "source":  [
                                     "# Задача:\n",
                                     "\n",
                                     "З\u0027ясуйте, в якому порядку слід перевернути важелі, приділивши пильну увагу килимів перед ними. Потім перемістіть Speedy Knight до кожного важеля в правильному порядку. Швидкий лицар досить розумний, щоб перевернути важіль, коли він знаходиться в положенні!\n",
                                     "\n",
                                     "Наведений нижче код зламаний, чи можете ви це виправити? Відладьте код, запустивши його, щоб побачити, що він робить, а потім відредагуйте його, щоб отримати бажаний результат."
                                 ]
                  },
                  {
                      "cell_type":  "code",
                      "execution_count":  null,
                      "id":  "b6f4bd0e",
                      "metadata":  {
                                       "minecraft":  {
                                                         "closeCodeBuilderOnRun":  true,
                                                         "hidden":  false,
                                                         "onCodeCancelledCommand":  "scoreboard players set @s code_status 0",
                                                         "onCodeErrorCommand":  "scoreboard players set @s code_status 0",
                                                         "onCodeStartedCommand":  "scoreboard players set @s code_status 1",
                                                         "onCodeStoppedCommand":  "scoreboard players set @s code_status 0",
                                                         "onCodeSuccessfulCommand":  "scoreboard players set @s code_status 0",
                                                         "overridePython":  "import time\n\ntimeout = 0.100\ncommunicationPos = (0, 64, 0)\n\ntime.sleep(0.250)\n\ndef move_knight(color):\n    if color==\"blue\":\n        world.set(communicationPos, \"light blue concrete\")\n        time.sleep(timeout) \n    elif color==\"magenta\":\n        world.set(communicationPos, \"magenta concrete\")\n        time.sleep(timeout) \n    elif color==\"yellow\":\n        world.set(communicationPos, \"yellow concrete\")\n        time.sleep(timeout) \n    elif color==\"orange\":\n        world.set(communicationPos, \"orange concrete\")\n        time.sleep(timeout) \n@user-code",
                                                         "readonly":  false
                                                     }
                                   },
                      "outputs":  [

                                  ],
                      "source":  [
                                     "# тут код\n",
                                     "\n",
                                     "move_knight(\"blue\")\n",
                                     "move_knight(\"orange\")\n",
                                     "move_knight(\"yellow\")\n",
                                     "move_knight(\"magenta\")\n"
                                 ]
                  }
              ],
    "metadata":  {
                     "celltoolbar":  "Edit Metadata",
                     "kernelspec":  {
                                        "display_name":  "Python 3 (ipykernel)",
                                        "language":  "python",
                                        "name":  "python3"
                                    },
                     "language_info":  {
                                           "codemirror_mode":  {
                                                                   "name":  "ipython",
                                                                   "version":  3
                                                               },
                                           "file_extension":  ".py",
                                           "mimetype":  "text/x-python",
                                           "name":  "python",
                                           "nbconvert_exporter":  "python",
                                           "pygments_lexer":  "ipython3",
                                           "version":  "3.10.7"
                                       },
                     "minecraft":  {
                                       "description":  "HOC 2022",
                                       "page_id":  "1.1",
                                       "page_name":  "HOC 2022",
                                       "style":  "minecraft.css"
                                   }
                 },
    "nbformat":  4,
    "nbformat_minor":  5
}
