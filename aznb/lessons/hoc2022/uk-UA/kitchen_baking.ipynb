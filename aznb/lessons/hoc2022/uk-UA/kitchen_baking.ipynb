﻿{
    "cells":  [
                  {
                      "cell_type":  "markdown",
                      "id":  "bb81fd74",
                      "metadata":  {

                                   },
                      "source":  [
                                     "# Спекти хліб\n",
                                     "\n",
                                     "Шеф-кухар зомбі потребує допомоги у приготуванні хліба. Використовуйте наведені нижче функції, щоб створити рецепт хліба, за яким може слідувати зомбі-кухар!\n",
                                     "\n",
                                     "Доступні чотири функції, які представляють різні етапи випікання хліба.\n",
                                     "- `harvest_wheat()` ![Harvest Wheat](img/bread_wheat.png \"Harvest Wheat\")\n",
                                     "- \u0027bake_bread()\u0027 ! [Спекти хліб] (img/bread_bake.png «Спекти хліб»)\n",
                                     "- `make_dough()` ![Make Dough](img/bread_dough.png \"Make Dough\")\n",
                                     "- \u0027mill_wheat()\u0027 ! [Млин пшениці] (img/bread_mill.png «Борошномельна пшениця»)"
                                 ]
                  },
                  {
                      "cell_type":  "code",
                      "execution_count":  null,
                      "id":  "bc828814",
                      "metadata":  {
                                       "minecraft":  {
                                                         "closeCodeBuilderOnRun":  true,
                                                         "hidden":  false,
                                                         "onCodeCancelledCommand":  "scoreboard players set @s code_status 0",
                                                         "onCodeErrorCommand":  "scoreboard players set @s code_status 0",
                                                         "onCodeStartedCommand":  "scoreboard players set @s code_status 1",
                                                         "onCodeStoppedCommand":  "scoreboard players set @s code_status 0",
                                                         "onCodeSuccessfulCommand":  "scoreboard players set @s code_status 0",
                                                         "overridePython":  "import time\n\ntimeout = 0.100\ncommunicationPos = (0, 64, 0)\n\ntime.sleep(0.250)\n\ndef harvest_wheat():\n    world.set(communicationPos, \"orange concrete\")\n    time.sleep(timeout)         \ndef mill_wheat():\n    world.set(communicationPos, \"magenta concrete\")\n    time.sleep(timeout)         \ndef make_dough():\n    world.set(communicationPos, \"light blue concrete\")\n    time.sleep(timeout)         \ndef bake_bread():\n    world.set(communicationPos, \"yellow concrete\")\n    time.sleep(timeout) \n@user-code",
                                                         "readonly":  true
                                                     }
                                   },
                      "outputs":  [

                                  ],
                      "source":  [
                                     "# ПРИКЛАД КОДУ - ТУТ НЕ МОЖНА РЕДАГУВАТИ\n",
                                     "# ЗАПУСТІТЬ ЙОГО, ЩОБ ПОБАЧИТИ, ЩО ВІДБУВАЄТЬСЯ\n",
                                     "\n",
                                     "# приклад рецепта\n",
                                     "\n",
                                     "harvest_wheat()\n",
                                     "make_dough()\n",
                                     "bake_bread()\n",
                                     "mill_wheat()"
                                 ]
                  },
                  {
                      "cell_type":  "markdown",
                      "id":  "86bde19e",
                      "metadata":  {

                                   },
                      "source":  [
                                     "# Задача:\n",
                                     "\n",
                                     "Кухарі завжди зберігають копію своїх рецептів! Цікаво, де зомбі-шеф сховався їх? З\u0027ясуйте правильні кроки, а потім запрограмуйте рецепт для шеф-кухаря-зомбі! \n",
                                     "\n",
                                     "Включений нижче код зламаний. Чи можете ви це виправити? Запустіть код, щоб побачити, що станеться, а потім налагодьте його, відредагувавши до правильного рішення."
                                 ]
                  },
                  {
                      "cell_type":  "code",
                      "execution_count":  null,
                      "id":  "b6f4bd0e",
                      "metadata":  {
                                       "minecraft":  {
                                                         "closeCodeBuilderOnRun":  true,
                                                         "hidden":  false,
                                                         "onCodeCancelledCommand":  "scoreboard players set @s code_status 0",
                                                         "onCodeErrorCommand":  "scoreboard players set @s code_status 0",
                                                         "onCodeStartedCommand":  "scoreboard players set @s code_status 1",
                                                         "onCodeStoppedCommand":  "scoreboard players set @s code_status 0",
                                                         "onCodeSuccessfulCommand":  "scoreboard players set @s code_status 0",
                                                         "overridePython":  "import time\n\ntimeout = 0.100\ncommunicationPos = (0, 64, 0)\n\ntime.sleep(0.250)\n\ndef harvest_wheat():\n    world.set(communicationPos, \"orange concrete\")\n    time.sleep(timeout)         \ndef mill_wheat():\n    world.set(communicationPos, \"magenta concrete\")\n    time.sleep(timeout)         \ndef make_dough():\n    world.set(communicationPos, \"light blue concrete\")\n    time.sleep(timeout)         \ndef bake_bread():\n    world.set(communicationPos, \"yellow concrete\")\n    time.sleep(timeout) \n@user-code",
                                                         "readonly":  false
                                                     }
                                   },
                      "outputs":  [

                                  ],
                      "source":  [
                                     "# тут код\n",
                                     "\n",
                                     "harvest_wheat()\n",
                                     "make_dough()\n",
                                     "bake_bread()\n",
                                     "mill_wheat()\n"
                                 ]
                  }
              ],
    "metadata":  {
                     "celltoolbar":  "Edit Metadata",
                     "kernelspec":  {
                                        "display_name":  "Python 3 (ipykernel)",
                                        "language":  "python",
                                        "name":  "python3"
                                    },
                     "language_info":  {
                                           "codemirror_mode":  {
                                                                   "name":  "ipython",
                                                                   "version":  3
                                                               },
                                           "file_extension":  ".py",
                                           "mimetype":  "text/x-python",
                                           "name":  "python",
                                           "nbconvert_exporter":  "python",
                                           "pygments_lexer":  "ipython3",
                                           "version":  "3.10.7"
                                       },
                     "minecraft":  {
                                       "description":  "HOC 2022",
                                       "page_id":  "1.1",
                                       "page_name":  "HOC 2022",
                                       "style":  "minecraft.css"
                                   }
                 },
    "nbformat":  4,
    "nbformat_minor":  5
}
