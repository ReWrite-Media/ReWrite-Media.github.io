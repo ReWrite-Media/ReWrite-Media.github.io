﻿{
    "cells":  [
                  {
                      "cell_type":  "markdown",
                      "id":  "7592c160",
                      "metadata":  {

                                   },
                      "source":  [
                                     "# Труби\n",
                                     "\n",
                                     "Вам потрібно буде додати певну кількість блоків до кожного з бункерів. Може бути, в кімнаті є щось таке, що може підказати вам скільки? Використовуйте функцію «drop_block()», щоб скинути потрібну кількість кольорового блоку в труби.\n",
                                     "\n",
                                     "Функція \"drop_block()\" приймає один параматери (рядок), який визначає, який колірний блок слід скинути.\n",
                                     "\n",
                                     "Допустимими кольорами є:\n",
                                     "- \u0027жовтий\u0027 ! [Жовта стрілка] (img/yellow_arrow.png \"Жовта стріла\")\n",
                                     "- \u0027синій\u0027 ! [Синя стріла] (img/blue_arrow.png \"Синя стріла\")\n",
                                     "- \u0027помаранчевий\u0027 ! [Помаранчева стрілка] (img/orange_arrow.png \"Помаранчева стріла\")\n",
                                     "- \u0027пурпуровий\u0027 ! [Пурпурова стріла] (img/magenta_arrow.png \"Пурпурова стріла\")"
                                 ]
                  },
                  {
                      "cell_type":  "code",
                      "execution_count":  null,
                      "id":  "867b6d86",
                      "metadata":  {
                                       "minecraft":  {
                                                         "closeCodeBuilderOnRun":  true,
                                                         "hidden":  false,
                                                         "onCodeCancelledCommand":  "scoreboard players set @s code_status 0",
                                                         "onCodeErrorCommand":  "scoreboard players set @s code_status 0",
                                                         "onCodeStartedCommand":  "scoreboard players set @s code_status 1",
                                                         "onCodeStoppedCommand":  "scoreboard players set @s code_status 0",
                                                         "onCodeSuccessfulCommand":  "scoreboard players set @s code_status 0",
                                                         "overridePython":  "import time\n\ntimeout = 0.100\ncommunicationPos = (0, 64, 0)\n\ntime.sleep(0.250)\n\ndef drop_block(color):\n    if color==\"magenta\":\n        world.set(communicationPos, \"magenta concrete\")\n        time.sleep(timeout)         \n    elif color==\"blue\":\n        world.set(communicationPos, \"light blue concrete\")\n        time.sleep(timeout)\n    elif color==\"yellow\":\n        world.set(communicationPos, \"yellow concrete\")\n        time.sleep(timeout)\n    elif color==\"orange\":\n        world.set(communicationPos, \"lime concrete\")\n        time.sleep(timeout)            \n@user-code",
                                                         "readonly":  true
                                                     }
                                   },
                      "outputs":  [

                                  ],
                      "source":  [
                                     "# ПРИКЛАД КОДУ - ТУТ НЕ МОЖНА РЕДАГУВАТИ\n",
                                     "# ЗАПУСТІТЬ ЙОГО, ЩОБ ПОБАЧИТИ, ЩО ВІДБУВАЄТЬСЯ\n",
                                     "\n",
                                     "# падіння 4 жовтих блоків і\n",
                                     "# 1 синій блоковий\n",
                                     "\n",
                                     "drop_block(\"yellow\")\n",
                                     "drop_block(\"yellow\")\n",
                                     "drop_block(\"yellow\")\n",
                                     "drop_block(\"yellow\")\n",
                                     "drop_block(\"blue\")"
                                 ]
                  },
                  {
                      "cell_type":  "markdown",
                      "id":  "1a242787",
                      "metadata":  {

                                   },
                      "source":  [
                                     "# Професійна порада:\n",
                                     "\n",
                                     "Використовуйте цикл `for`, щоб виконувати одну або групу дій кілька разів."
                                 ]
                  },
                  {
                      "cell_type":  "code",
                      "execution_count":  null,
                      "id":  "c18994a1",
                      "metadata":  {
                                       "minecraft":  {
                                                         "closeCodeBuilderOnRun":  true,
                                                         "hidden":  false,
                                                         "onCodeCancelledCommand":  "scoreboard players set @s code_status 0",
                                                         "onCodeErrorCommand":  "scoreboard players set @s code_status 0",
                                                         "onCodeStartedCommand":  "scoreboard players set @s code_status 1",
                                                         "onCodeStoppedCommand":  "scoreboard players set @s code_status 0",
                                                         "onCodeSuccessfulCommand":  "scoreboard players set @s code_status 0",
                                                         "overridePython":  "import time\n\ntimeout = 0.100\ncommunicationPos = (0, 64, 0)\n\ntime.sleep(0.250)\n\ndef drop_block(color):\n    if color==\"magenta\":\n        world.set(communicationPos, \"magenta concrete\")\n        time.sleep(timeout)         \n    elif color==\"blue\":\n        world.set(communicationPos, \"light blue concrete\")\n        time.sleep(timeout)\n    elif color==\"yellow\":\n        world.set(communicationPos, \"yellow concrete\")\n        time.sleep(timeout)\n    elif color==\"orange\":\n        world.set(communicationPos, \"lime concrete\")\n        time.sleep(timeout)            \n@user-code",
                                                         "readonly":  true
                                                     }
                                   },
                      "outputs":  [

                                  ],
                      "source":  [
                                     "# ПРИКЛАД КОДУ - ТУТ НЕ МОЖНА РЕДАГУВАТИ\n",
                                     "# ЗАПУСТІТЬ ЙОГО, ЩОБ ПОБАЧИТИ, ЩО ВІДБУВАЄТЬСЯ\n",
                                     "\n",
                                     "# падіння 4 жовтих блоків і\n",
                                     "# 1 синій блоковий\n",
                                     "\n",
                                     "for i in range(4):\n",
                                     "    drop_block(\"yellow\")\n",
                                     "\n",
                                     "drop_block(\"blue\")"
                                 ]
                  },
                  {
                      "cell_type":  "markdown",
                      "id":  "3d7f25ac",
                      "metadata":  {

                                   },
                      "source":  [
                                     "# Задача:\n",
                                     "\n",
                                     "Озирніться навколо області, щоб з\u0027ясувати, скільки кожного кольорового блоку слід опустити в труби, і напишіть код, щоб він відповідав цій кількості.\n",
                                     "\n",
                                     "Включений нижче код зламаний. Чи можете ви це виправити? Запустіть код, щоб побачити, що станеться, а потім налагодьте його, відредагувавши до правильного рішення."
                                 ]
                  },
                  {
                      "cell_type":  "code",
                      "execution_count":  null,
                      "id":  "b6f4bd0e",
                      "metadata":  {
                                       "minecraft":  {
                                                         "closeCodeBuilderOnRun":  true,
                                                         "hidden":  false,
                                                         "onCodeCancelledCommand":  "scoreboard players set @s code_status 0",
                                                         "onCodeErrorCommand":  "scoreboard players set @s code_status 0",
                                                         "onCodeStartedCommand":  "scoreboard players set @s code_status 1",
                                                         "onCodeStoppedCommand":  "scoreboard players set @s code_status 0",
                                                         "onCodeSuccessfulCommand":  "scoreboard players set @s code_status 0",
                                                         "overridePython":  "import time\n\ntimeout = 0.100\ncommunicationPos = (0, 64, 0)\n\ntime.sleep(0.250)\n\ndef drop_block(color):\n    if color==\"magenta\":\n        world.set(communicationPos, \"magenta concrete\")\n        time.sleep(timeout)         \n    elif color==\"blue\":\n        world.set(communicationPos, \"light blue concrete\")\n        time.sleep(timeout)\n    elif color==\"yellow\":\n        world.set(communicationPos, \"yellow concrete\")\n        time.sleep(timeout)\n    elif color==\"orange\":\n        world.set(communicationPos, \"lime concrete\")\n        time.sleep(timeout)            \n@user-code",
                                                         "readonly":  false
                                                     }
                                   },
                      "outputs":  [

                                  ],
                      "source":  [
                                     "# тут код\n",
                                     "\n",
                                     "drop_block(\"yellow\")\n",
                                     "drop_block(\"blue\")\n",
                                     "drop_block(\"orange\")\n",
                                     "drop_block(\"magenta\")\n",
                                     "drop_block(\"magenta\")"
                                 ]
                  }
              ],
    "metadata":  {
                     "celltoolbar":  "Edit Metadata",
                     "kernelspec":  {
                                        "display_name":  "Python 3.10.8 64-bit (microsoft store)",
                                        "language":  "python",
                                        "name":  "python3"
                                    },
                     "language_info":  {
                                           "codemirror_mode":  {
                                                                   "name":  "ipython",
                                                                   "version":  3
                                                               },
                                           "file_extension":  ".py",
                                           "mimetype":  "text/x-python",
                                           "name":  "python",
                                           "nbconvert_exporter":  "python",
                                           "pygments_lexer":  "ipython3",
                                           "version":  "3.10.8"
                                       },
                     "minecraft":  {
                                       "description":  "HOC 2022",
                                       "page_id":  "1.1",
                                       "page_name":  "HOC 2022",
                                       "style":  "minecraft.css"
                                   },
                     "vscode":  {
                                    "interpreter":  {
                                                        "hash":  "34242f13a52f302bd973ebb7ec1f6ba9310bbd38aa2ae877991984a75c84a395"
                                                    }
                                }
                 },
    "nbformat":  4,
    "nbformat_minor":  5
}
