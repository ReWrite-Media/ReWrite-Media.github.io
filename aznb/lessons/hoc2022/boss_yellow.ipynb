{
 "cells": [
  {
   "cell_type": "markdown",
   "id": "57511f76",
   "metadata": {},
   "source": [
    "# Prepare the Cannons\n",
    "\n",
    "There's a lever! Move the Agent to the lever and then pull it down! Use `agent.move()` to position the Agent in front of the lever and then `pull_lever_down()` to flip the lever on.\n",
    "\n",
    "The `agent.move()` function takes one parameter that defines what direction it should move in.\n",
    "\n",
    "Valid directions are: \n",
    "- `forward`\n",
    "- `back`\n",
    "- `left`\n",
    "- `right`\n",
    "- `up`\n",
    "- `down`"
   ]
  },
  {
   "cell_type": "code",
   "execution_count": null,
   "id": "a82cd0ab",
   "metadata": {
    "minecraft": {
     "closeCodeBuilderOnRun": true,
     "hidden": false,
     "onCodeCancelledCommand": "scoreboard players set @s code_status 0",
     "onCodeErrorCommand": "scoreboard players set @s code_status 0",
     "onCodeStartedCommand": "scoreboard players set @s code_status 1",
     "onCodeStoppedCommand": "scoreboard players set @s code_status 0",
     "onCodeSuccessfulCommand": "scoreboard players set @s code_status 0",
     "overridePython": "import time\n\ntimeout = 0.100\ncommunicationPos = (0, 64, 0)\n\ntime.sleep(0.250)\n\ndef pull_lever_down():\n    world.set(communicationPos, \"lime concrete\")\n    time.sleep(timeout)    \n@user-code",
     "readonly": true
    }
   },
   "outputs": [],
   "source": [
    "# CODE EXAMPLE - YOU CAN NOT EDIT HERE\n",
    "# RUN IT TO SEE WHAT HAPPENS\n",
    "\n",
    "# move the agent 3 blocks forward\n",
    "# and then pull the lever down\n",
    "\n",
    "agent.move(\"forward\")\n",
    "agent.move(\"forward\")\n",
    "agent.move(\"forward\")\n",
    "pull_lever_down()"
   ]
  },
  {
   "cell_type": "markdown",
   "id": "8cd02c86",
   "metadata": {},
   "source": [
    "# Pro Tip:\n",
    "\n",
    "Use a `for` loop to do one or more actions multiple times."
   ]
  },
  {
   "cell_type": "code",
   "execution_count": null,
   "id": "8cd7af59",
   "metadata": {
    "minecraft": {
     "closeCodeBuilderOnRun": true,
     "hidden": false,
     "onCodeCancelledCommand": "scoreboard players set @s code_status 0",
     "onCodeErrorCommand": "scoreboard players set @s code_status 0",
     "onCodeStartedCommand": "scoreboard players set @s code_status 1",
     "onCodeStoppedCommand": "scoreboard players set @s code_status 0",
     "onCodeSuccessfulCommand": "scoreboard players set @s code_status 0",
     "overridePython": "import time\n\ntimeout = 0.100\ncommunicationPos = (0, 64, 0)\n\ntime.sleep(0.250)\n\ndef pull_lever_down():\n    world.set(communicationPos, \"lime concrete\")\n    time.sleep(timeout)    \n@user-code",
     "readonly": true
    }
   },
   "outputs": [],
   "source": [
    "# CODE EXAMPLE - YOU CAN NOT EDIT HERE\n",
    "# RUN IT TO SEE WHAT HAPPENS\n",
    "\n",
    "# move the agent 3 blocks forward\n",
    "# and then pull the lever down\n",
    "\n",
    "for i in range(3):\n",
    "    agent.move(\"forward\")\n",
    "\n",
    "pull_lever_down()"
   ]
  },
  {
   "cell_type": "markdown",
   "id": "49739123",
   "metadata": {},
   "source": [
    "# Activity:\n",
    "\n",
    "There's a lever! Use that to power up the generator to activate this room's cannon! Position the Agent on the Gold block in front of the lever, then pull it down! \n",
    "\n",
    "The below code is broken, can you fix it? Debug the code by running it to see what it does and then edit it so you get the desired result."
   ]
  },
  {
   "cell_type": "code",
   "execution_count": null,
   "id": "b6f4bd0e",
   "metadata": {
    "minecraft": {
     "closeCodeBuilderOnRun": true,
     "hidden": false,
     "onCodeCancelledCommand": "scoreboard players set @s code_status 0",
     "onCodeErrorCommand": "scoreboard players set @s code_status 0",
     "onCodeStartedCommand": "scoreboard players set @s code_status 1",
     "onCodeStoppedCommand": "scoreboard players set @s code_status 0",
     "onCodeSuccessfulCommand": "scoreboard players set @s code_status 0",
     "overridePython": "import time\n\ntimeout = 0.100\ncommunicationPos = (0, 64, 0)\n\ntime.sleep(0.250)\n\ndef pull_lever_down():\n    world.set(communicationPos, \"lime concrete\")\n    time.sleep(timeout)    \n@user-code",
     "readonly": false
    }
   },
   "outputs": [],
   "source": [
    "# code here\n",
    "\n",
    "agent.move(\"forward\")\n",
    "agent.move(\"forward\")\n",
    "agent.move(\"forward\")\n",
    "pull_lever_down()\n"
   ]
  }
 ],
 "metadata": {
  "celltoolbar": "Edit Metadata",
  "kernelspec": {
   "display_name": "Python 3 (ipykernel)",
   "language": "python",
   "name": "python3"
  },
  "language_info": {
   "codemirror_mode": {
    "name": "ipython",
    "version": 3
   },
   "file_extension": ".py",
   "mimetype": "text/x-python",
   "name": "python",
   "nbconvert_exporter": "python",
   "pygments_lexer": "ipython3",
   "version": "3.10.7"
  },
  "minecraft": {
   "description": "HOC 2022",
   "page_id": "1.1",
   "page_name": "HOC 2022",
   "style": "minecraft.css"
  }
 },
 "nbformat": 4,
 "nbformat_minor": 5
}
