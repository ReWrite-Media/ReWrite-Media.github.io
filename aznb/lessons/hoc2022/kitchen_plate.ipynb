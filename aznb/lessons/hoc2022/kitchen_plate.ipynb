{
 "cells": [
  {
   "cell_type": "markdown",
   "id": "8cd0f13a",
   "metadata": {},
   "source": [
    "# Plate Swap\n",
    "\n",
    "The silly zombie chef gave everyone the wrong meals! See if you could figure out who wants what meal. Use the `swap_plates()` function to swap the plates on either side of the colored tablecloth you define.\n",
    "\n",
    "The `swap_plates()` takes one parameter (a string) that defines the color of the tablecloth that's between the two plates you want to swap.\n",
    "\n",
    "Valid colors are:\n",
    "- `green`\n",
    "- `blue`\n",
    "- `yellow`\n",
    "- `red`\n"
   ]
  },
  {
   "cell_type": "code",
   "execution_count": null,
   "id": "ef6ba91d",
   "metadata": {
    "minecraft": {
     "closeCodeBuilderOnRun": true,
     "hidden": false,
     "onCodeCancelledCommand": "scoreboard players set @s code_status 0",
     "onCodeErrorCommand": "scoreboard players set @s code_status 0",
     "onCodeStartedCommand": "scoreboard players set @s code_status 1",
     "onCodeStoppedCommand": "scoreboard players set @s code_status 0",
     "onCodeSuccessfulCommand": "scoreboard players set @s code_status 0",
     "overridePython": "import time\n\ntimeout = 0.100\ncommunicationPos = (0, 64, 0)\n\ntime.sleep(0.250)\n\ndef swap_plates(color):\n    if color==\"green\":\n        world.set(communicationPos, \"yellow concrete\")\n        time.sleep(timeout)         \n    elif color==\"blue\":\n        world.set(communicationPos, \"light blue concrete\")\n        time.sleep(timeout)\n    elif color==\"yellow\":\n        world.set(communicationPos, \"magenta concrete\")\n        time.sleep(timeout)\n    elif color==\"red\":\n        world.set(communicationPos, \"orange concrete\")\n        time.sleep(timeout)        \n@user-code",
     "readonly": true
    }
   },
   "outputs": [],
   "source": [
    "# swap the plates on either side\n",
    "# of the green tablecloth and then\n",
    "# do the same for the blue tablecloth\n",
    "\n",
    "swap_plates(\"green\")\n",
    "swap_plates(\"blue\")"
   ]
  },
  {
   "cell_type": "markdown",
   "id": "86ac232e",
   "metadata": {},
   "source": [
    "# Activity:\n",
    "\n",
    "Search the room for a menu that tells you who wants which food, and then write code that will place the plates in front of who wants the meal.\n",
    "\n",
    "The below code is broken, can you fix it? Debug the code by running it to see what it does and then edit it so you get the desired result."
   ]
  },
  {
   "cell_type": "code",
   "execution_count": null,
   "id": "b6f4bd0e",
   "metadata": {
    "minecraft": {
     "closeCodeBuilderOnRun": true,
     "hidden": false,
     "onCodeCancelledCommand": "scoreboard players set @s code_status 0",
     "onCodeErrorCommand": "scoreboard players set @s code_status 0",
     "onCodeStartedCommand": "scoreboard players set @s code_status 1",
     "onCodeStoppedCommand": "scoreboard players set @s code_status 0",
     "onCodeSuccessfulCommand": "scoreboard players set @s code_status 0",
     "overridePython": "import time\n\ntimeout = 0.100\ncommunicationPos = (0, 64, 0)\n\ntime.sleep(0.250)\n\ndef swap_plates(color):\n    if color==\"green\":\n        world.set(communicationPos, \"yellow concrete\")\n        time.sleep(timeout)         \n    elif color==\"blue\":\n        world.set(communicationPos, \"light blue concrete\")\n        time.sleep(timeout)\n    elif color==\"yellow\":\n        world.set(communicationPos, \"magenta concrete\")\n        time.sleep(timeout)\n    elif color==\"red\":\n        world.set(communicationPos, \"orange concrete\")\n        time.sleep(timeout)        \n@user-code",
     "readonly": false
    }
   },
   "outputs": [],
   "source": [
    "# code here\n",
    "\n",
    "swap_plates(\"green\")\n",
    "swap_plates(\"blue\")\n",
    "swap_plates(\"yellow\")\n",
    "swap_plates(\"red\")\n"
   ]
  }
 ],
 "metadata": {
  "celltoolbar": "Edit Metadata",
  "kernelspec": {
   "display_name": "Python 3 (ipykernel)",
   "language": "python",
   "name": "python3"
  },
  "language_info": {
   "codemirror_mode": {
    "name": "ipython",
    "version": 3
   },
   "file_extension": ".py",
   "mimetype": "text/x-python",
   "name": "python",
   "nbconvert_exporter": "python",
   "pygments_lexer": "ipython3",
   "version": "3.10.7"
  },
  "minecraft": {
   "description": "HOC 2022",
   "page_id": "1.1",
   "page_name": "HOC 2022",
   "style": "minecraft.css"
  }
 },
 "nbformat": 4,
 "nbformat_minor": 5
}
