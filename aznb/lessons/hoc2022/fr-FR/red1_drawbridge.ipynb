﻿{
    "cells":  [
                  {
                      "cell_type":  "markdown",
                      "id":  "ceb9b56b",
                      "metadata":  {

                                   },
                      "source":  [
                                     "# Pont-levis\n",
                                     "\n",
                                     "L\u0027enderman majordome a besoin de votre aide pour traverser la rivière ! Ordonnez-lui d’utiliser sa magie pour se téléporter sur le bloc de diamant, puis placez-le en position pour tirer sur le levier et abaisser le pont-levis ! Utilisez la fonction \u0027teleport_enderman_to_diamond()\u0027 pour faire traverser la rivière à l’enderman, puis utilisez la fonction \u0027move_enderman_forward()\u0027 pour positionner l’enderman devant le levier et \u0027pull_lever_down()\u0027 pour tirer sur le levier. L’enderman majordome pivotera automatiquement pour faire face au levier quand sera dans la bonne position ! "
                                 ]
                  },
                  {
                      "cell_type":  "code",
                      "execution_count":  null,
                      "id":  "dfff7f5e",
                      "metadata":  {
                                       "minecraft":  {
                                                         "closeCodeBuilderOnRun":  true,
                                                         "hidden":  false,
                                                         "onCodeCancelledCommand":  "scoreboard players set @s code_status 0",
                                                         "onCodeErrorCommand":  "scoreboard players set @s code_status 0",
                                                         "onCodeStartedCommand":  "scoreboard players set @s code_status 1",
                                                         "onCodeStoppedCommand":  "scoreboard players set @s code_status 0",
                                                         "onCodeSuccessfulCommand":  "scoreboard players set @s code_status 0",
                                                         "overridePython":  "import time\n\ntimeout = 0.100\ncommunicationPos = (0, 64, 0)\n\ntime.sleep(0.250)\n\ndef move_enderman_forward():\n    world.set(communicationPos, \"orange concrete\")\n    time.sleep(timeout)    \n\ndef teleport_enderman_to_diamond():\n    world.set(communicationPos, \"magenta concrete\")\n    time.sleep(timeout)   \n\ndef pull_lever_down():\n    world.set(communicationPos, \"light blue concrete\")\n    time.sleep(timeout)    \n@user-code",
                                                         "readonly":  true
                                                     }
                                   },
                      "outputs":  [

                                  ],
                      "source":  [
                                     "# EXEMPLE DE CODE - VOUS NE POUVEZ PAS MODIFIER ICI\n",
                                     "# EXÉCUTEZ-LE POUR VOIR CE QUI SE PASSE\n",
                                     "\n",
                                     "# déplacer l’enderman de 2 blocs vers l’avant\n",
                                     "# puis le téléporter sur le bloc de diamant\n",
                                     "\n",
                                     "move_enderman_forward()\n",
                                     "move_enderman_forward()\n",
                                     "teleport_enderman_to_diamond()"
                                 ]
                  },
                  {
                      "cell_type":  "markdown",
                      "id":  "a1e86cf5",
                      "metadata":  {

                                   },
                      "source":  [
                                     "# Activité :\n",
                                     "\n",
                                     "Téléportez l’enderman de l\u0027autre côté de la rivière pour tirer sur le levier pour abaisser le pont-levis. Attention, ne laissez pas l’enderman tomber à l’eau, ils détestent ça !\n",
                                     "\n",
                                     "Le code inclus ci-dessous est défectueux. Pouvez-vous le réparer ? Exécutez le code pour voir ce qui se passe, puis déboguez-le en le modifiant pour trouver la solution appropriée."
                                 ]
                  },
                  {
                      "cell_type":  "code",
                      "execution_count":  null,
                      "id":  "b6f4bd0e",
                      "metadata":  {
                                       "minecraft":  {
                                                         "closeCodeBuilderOnRun":  true,
                                                         "hidden":  false,
                                                         "onCodeCancelledCommand":  "scoreboard players set @s code_status 0",
                                                         "onCodeErrorCommand":  "scoreboard players set @s code_status 0",
                                                         "onCodeStartedCommand":  "scoreboard players set @s code_status 1",
                                                         "onCodeStoppedCommand":  "scoreboard players set @s code_status 0",
                                                         "onCodeSuccessfulCommand":  "scoreboard players set @s code_status 0",
                                                         "overridePython":  "import time\n\ntimeout = 0.100\ncommunicationPos = (0, 64, 0)\n\ntime.sleep(0.250)\n\ndef move_enderman_forward():\n    world.set(communicationPos, \"orange concrete\")\n    time.sleep(timeout)    \n\ndef teleport_enderman_to_diamond():\n    world.set(communicationPos, \"magenta concrete\")\n    time.sleep(timeout)   \n\ndef pull_lever_down():\n    world.set(communicationPos, \"light blue concrete\")\n    time.sleep(timeout)    \n@user-code",
                                                         "readonly":  false
                                                     }
                                   },
                      "outputs":  [

                                  ],
                      "source":  [
                                     "# code ici\n",
                                     "\n",
                                     "move_enderman_forward()\n",
                                     "move_enderman_forward()\n",
                                     "teleport_enderman_to_diamond()\n",
                                     "move_enderman_forward()\n",
                                     "move_enderman_forward()\n",
                                     "pull_lever_down()"
                                 ]
                  }
              ],
    "metadata":  {
                     "celltoolbar":  "Edit Metadata",
                     "kernelspec":  {
                                        "display_name":  "Python 3 (ipykernel)",
                                        "language":  "python",
                                        "name":  "python3"
                                    },
                     "language_info":  {
                                           "codemirror_mode":  {
                                                                   "name":  "ipython",
                                                                   "version":  3
                                                               },
                                           "file_extension":  ".py",
                                           "mimetype":  "text/x-python",
                                           "name":  "python",
                                           "nbconvert_exporter":  "python",
                                           "pygments_lexer":  "ipython3",
                                           "version":  "3.10.7"
                                       },
                     "minecraft":  {
                                       "description":  "HdC 2022",
                                       "page_id":  "1.1",
                                       "page_name":  "HdC 2022",
                                       "style":  "minecraft.css"
                                   }
                 },
    "nbformat":  4,
    "nbformat_minor":  5
}
