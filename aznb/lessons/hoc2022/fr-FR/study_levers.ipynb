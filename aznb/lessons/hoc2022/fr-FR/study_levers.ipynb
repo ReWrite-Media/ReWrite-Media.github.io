﻿{
    "cells":  [
                  {
                      "cell_type":  "markdown",
                      "id":  "acba1c10",
                      "metadata":  {

                                   },
                      "source":  [
                                     "# Leviers colorés\n",
                                     "\n",
                                     "Vous devrez actionner les quatre leviers pour ouvrir la porte, mais vous n’êtes pas assez rapide pour le faire manuellement. Déterminez l’ordre dans lequel ils doivent être activés, puis programmez votre nouvel ami le Chevalier Rapide pour le faire à notre place ! Utilisez la fonction \u0027move_knight()\u0027 pour définir la couleur vers laquelle le Chevalier Rapide doit se déplacer.\n",
                                     "\n",
                                     "La fonction \u0027move_knight()\u0027 est influencée par un paramètre qui définit la couleur vers laquelle il doit se déplacer.\n",
                                     "\n",
                                     "Les couleurs valides sont :\n",
                                     "- \u0027bleu\u0027 ![Bleu](img/blue_carpet.png « Bleu »)\n",
                                     "- \u0027orange\u0027 ![Orange](img/orange_carpet.png « Orange »)\n",
                                     "- \u0027jaune\u0027 ![Jaune](img/yellow_carpet.png « Jaune »)\n",
                                     "- \u0027magenta\u0027 ![Magenta](img/magenta_carpet.png « Magenta »)\n"
                                 ]
                  },
                  {
                      "cell_type":  "code",
                      "execution_count":  null,
                      "id":  "0335d72d",
                      "metadata":  {
                                       "minecraft":  {
                                                         "closeCodeBuilderOnRun":  true,
                                                         "hidden":  false,
                                                         "onCodeCancelledCommand":  "scoreboard players set @s code_status 0",
                                                         "onCodeErrorCommand":  "scoreboard players set @s code_status 0",
                                                         "onCodeStartedCommand":  "scoreboard players set @s code_status 1",
                                                         "onCodeStoppedCommand":  "scoreboard players set @s code_status 0",
                                                         "onCodeSuccessfulCommand":  "scoreboard players set @s code_status 0",
                                                         "overridePython":  "import time\n\ntimeout = 0.100\ncommunicationPos = (0, 64, 0)\n\ntime.sleep(0.250)\n\ndef move_knight(color):\n    if color==\"blue\":\n        world.set(communicationPos, \"light blue concrete\")\n        time.sleep(timeout) \n    elif color==\"magenta\":\n        world.set(communicationPos, \"magenta concrete\")\n        time.sleep(timeout) \n    elif color==\"yellow\":\n        world.set(communicationPos, \"yellow concrete\")\n        time.sleep(timeout) \n    elif color==\"orange\":\n        world.set(communicationPos, \"orange concrete\")\n        time.sleep(timeout) \n@user-code",
                                                         "readonly":  true
                                                     }
                                   },
                      "outputs":  [

                                  ],
                      "source":  [
                                     "# EXEMPLE DE CODE - VOUS NE POUVEZ PAS MODIFIER ICI\n",
                                     "# EXÉCUTEZ-LE POUR VOIR CE QUI SE PASSE\n",
                                     "\n",
                                     "# déplacer l\u0027armure entre\n",
                                     "# différentes couleurs\n",
                                     "\n",
                                     "move_knight(\"blue\")\n",
                                     "move_knight(\"orange\")"
                                 ]
                  },
                  {
                      "cell_type":  "markdown",
                      "id":  "a259db5b",
                      "metadata":  {

                                   },
                      "source":  [
                                     "# Activité :\n",
                                     "\n",
                                     "Déterminez dans quel ordre les leviers doivent être activés en faisant attention aux tapis devant eux. Déplacez ensuite le Chevalier Rapide vers chaque levier dans le bon ordre. Le Chevalier Rapide est assez intelligent pour actionner le levier quand il est en position !\n",
                                     "\n",
                                     "Le code ci-dessous est défectueux, pouvez-vous le réparer ? Déboguez le code en commençant par l\u0027exécuter pour voir ce qu’il fait, puis modifiez-le afin d’obtenir le résultat souhaité."
                                 ]
                  },
                  {
                      "cell_type":  "code",
                      "execution_count":  null,
                      "id":  "b6f4bd0e",
                      "metadata":  {
                                       "minecraft":  {
                                                         "closeCodeBuilderOnRun":  true,
                                                         "hidden":  false,
                                                         "onCodeCancelledCommand":  "scoreboard players set @s code_status 0",
                                                         "onCodeErrorCommand":  "scoreboard players set @s code_status 0",
                                                         "onCodeStartedCommand":  "scoreboard players set @s code_status 1",
                                                         "onCodeStoppedCommand":  "scoreboard players set @s code_status 0",
                                                         "onCodeSuccessfulCommand":  "scoreboard players set @s code_status 0",
                                                         "overridePython":  "import time\n\ntimeout = 0.100\ncommunicationPos = (0, 64, 0)\n\ntime.sleep(0.250)\n\ndef move_knight(color):\n    if color==\"blue\":\n        world.set(communicationPos, \"light blue concrete\")\n        time.sleep(timeout) \n    elif color==\"magenta\":\n        world.set(communicationPos, \"magenta concrete\")\n        time.sleep(timeout) \n    elif color==\"yellow\":\n        world.set(communicationPos, \"yellow concrete\")\n        time.sleep(timeout) \n    elif color==\"orange\":\n        world.set(communicationPos, \"orange concrete\")\n        time.sleep(timeout) \n@user-code",
                                                         "readonly":  false
                                                     }
                                   },
                      "outputs":  [

                                  ],
                      "source":  [
                                     "# code ici\n",
                                     "\n",
                                     "move_knight(\"blue\")\n",
                                     "move_knight(\"orange\")\n",
                                     "move_knight(\"yellow\")\n",
                                     "move_knight(\"magenta\")\n"
                                 ]
                  }
              ],
    "metadata":  {
                     "celltoolbar":  "Edit Metadata",
                     "kernelspec":  {
                                        "display_name":  "Python 3 (ipykernel)",
                                        "language":  "python",
                                        "name":  "python3"
                                    },
                     "language_info":  {
                                           "codemirror_mode":  {
                                                                   "name":  "ipython",
                                                                   "version":  3
                                                               },
                                           "file_extension":  ".py",
                                           "mimetype":  "text/x-python",
                                           "name":  "python",
                                           "nbconvert_exporter":  "python",
                                           "pygments_lexer":  "ipython3",
                                           "version":  "3.10.7"
                                       },
                     "minecraft":  {
                                       "description":  "HdC 2022",
                                       "page_id":  "1.1",
                                       "page_name":  "HdC 2022",
                                       "style":  "minecraft.css"
                                   }
                 },
    "nbformat":  4,
    "nbformat_minor":  5
}
