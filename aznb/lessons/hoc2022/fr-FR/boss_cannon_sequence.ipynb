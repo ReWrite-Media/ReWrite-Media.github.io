﻿{
    "cells":  [
                  {
                      "cell_type":  "markdown",
                      "id":  "fdd844cf",
                      "metadata":  {

                                   },
                      "source":  [
                                     "# Canons\n",
                                     "\n",
                                     "Les Agents du temps se cachent sous l’Orbe du temps ! Ils ont utilisé leurs pouvoirs pour créer des anneaux de protection colorés autour de lui ! Utilisez la fonction \u0027activate_cannon()\u0027 pour activer les canons colorés dans le même ordre que les anneaux colorés afin de désactiver l’Orbe du temps !\n",
                                     "\n",
                                     "La fonction \u0027activate_cannon()\u0027 est influencée par un paramètre qui définit le canon coloré que vous souhaitez activer.\n",
                                     "\n",
                                     "Les couleurs valides sont :\n",
                                     "- \u0027bleu\u0027 ![Canon bleu](img/blue_cannon.png « Canon bleu »)\n",
                                     "- \u0027jaune\u0027 ![Canon jaune](img/yellow_cannon.png « Canon jaune »)\n",
                                     "- \u0027magenta\u0027 ![Canon magenta](img/magenta_cannon.png « Magenta Cannon »)\n",
                                     "- \u0027vert\u0027 ![Canon vert](img/green_cannon.png « Canon vert »)"
                                 ]
                  },
                  {
                      "cell_type":  "code",
                      "execution_count":  null,
                      "id":  "fb9282d9",
                      "metadata":  {
                                       "minecraft":  {
                                                         "closeCodeBuilderOnRun":  true,
                                                         "hidden":  false,
                                                         "onCodeCancelledCommand":  "scoreboard players set @s code_status 0",
                                                         "onCodeErrorCommand":  "scoreboard players set @s code_status 0",
                                                         "onCodeStartedCommand":  "scoreboard players set @s code_status 1",
                                                         "onCodeStoppedCommand":  "scoreboard players set @s code_status 0",
                                                         "onCodeSuccessfulCommand":  "scoreboard players set @s code_status 0",
                                                         "overridePython":  "import time\n\ntimeout = 0.100\ncommunicationPos = (0, 64, 0)\n\ntime.sleep(0.250)\n\ndef activate_cannon(color):\n    if color==\"yellow\":\n        world.set(communicationPos, \"yellow concrete\")\n        time.sleep(timeout) \n    elif color==\"green\":\n        world.set(communicationPos, \"lime concrete\")\n        time.sleep(timeout)\n    elif color==\"blue\":\n        world.set(communicationPos, \"light blue concrete\")\n        time.sleep(timeout)\n    elif color==\"magenta\":\n        world.set(communicationPos, \"magenta concrete\")\n        time.sleep(timeout)\n@user-code",
                                                         "readonly":  true
                                                     }
                                   },
                      "outputs":  [

                                  ],
                      "source":  [
                                     "# EXEMPLE DE CODE - VOUS NE POUVEZ PAS MODIFIER ICI\n",
                                     "# EXÉCUTEZ-LE POUR VOIR CE QUI SE PASSE\n",
                                     "\n",
                                     "# activer le bleu et le jaune\n",
                                     "# canons dans cet ordre\n",
                                     "\n",
                                     "activate_cannon(\"blue\")\n",
                                     "activate_cannon(\"yellow\")"
                                 ]
                  },
                  {
                      "cell_type":  "markdown",
                      "id":  "8fc88ebe",
                      "metadata":  {

                                   },
                      "source":  [
                                     "# Activité :\n",
                                     "\n",
                                     "On dirait qu\u0027il y a un ordre à ces anneaux colorés qui encerclent l’Orbe du temps ! En partant du plus grand anneau, écrivez un programme qui activera les canons de la bonne couleur pour tirer sur les anneaux colorés afin de désactiver l’Orbe du temps !\n",
                                     "\n",
                                     "Le code inclus ci-dessous est défectueux. Pouvez-vous le réparer ? Exécutez le code pour voir ce qui se passe, puis déboguez-le en le modifiant pour trouver la solution appropriée."
                                 ]
                  },
                  {
                      "cell_type":  "code",
                      "execution_count":  null,
                      "id":  "b6f4bd0e",
                      "metadata":  {
                                       "minecraft":  {
                                                         "closeCodeBuilderOnRun":  true,
                                                         "hidden":  false,
                                                         "onCodeCancelledCommand":  "scoreboard players set @s code_status 0",
                                                         "onCodeErrorCommand":  "scoreboard players set @s code_status 0",
                                                         "onCodeStartedCommand":  "scoreboard players set @s code_status 1",
                                                         "onCodeStoppedCommand":  "scoreboard players set @s code_status 0",
                                                         "onCodeSuccessfulCommand":  "scoreboard players set @s code_status 0",
                                                         "overridePython":  "import time\n\ntimeout = 0.100\ncommunicationPos = (0, 64, 0)\n\ntime.sleep(0.250)\n\ndef activate_cannon(color):\n    if color==\"yellow\":\n        world.set(communicationPos, \"yellow concrete\")\n        time.sleep(timeout) \n    elif color==\"green\":\n        world.set(communicationPos, \"lime concrete\")\n        time.sleep(timeout)\n    elif color==\"blue\":\n        world.set(communicationPos, \"light blue concrete\")\n        time.sleep(timeout)\n    elif color==\"magenta\":\n        world.set(communicationPos, \"magenta concrete\")\n        time.sleep(timeout)\n@user-code",
                                                         "readonly":  false
                                                     }
                                   },
                      "outputs":  [

                                  ],
                      "source":  [
                                     "# code ici\n",
                                     "\n",
                                     "activate_cannon(\"blue\")\n",
                                     "activate_cannon(\"magenta\")\n"
                                 ]
                  }
              ],
    "metadata":  {
                     "celltoolbar":  "Edit Metadata",
                     "kernelspec":  {
                                        "display_name":  "Python 3 (ipykernel)",
                                        "language":  "python",
                                        "name":  "python3"
                                    },
                     "language_info":  {
                                           "codemirror_mode":  {
                                                                   "name":  "ipython",
                                                                   "version":  3
                                                               },
                                           "file_extension":  ".py",
                                           "mimetype":  "text/x-python",
                                           "name":  "python",
                                           "nbconvert_exporter":  "python",
                                           "pygments_lexer":  "ipython3",
                                           "version":  "3.10.7"
                                       },
                     "minecraft":  {
                                       "description":  "HdC 2022",
                                       "page_id":  "1.1",
                                       "page_name":  "HdC 2022",
                                       "style":  "minecraft.css"
                                   }
                 },
    "nbformat":  4,
    "nbformat_minor":  5
}
