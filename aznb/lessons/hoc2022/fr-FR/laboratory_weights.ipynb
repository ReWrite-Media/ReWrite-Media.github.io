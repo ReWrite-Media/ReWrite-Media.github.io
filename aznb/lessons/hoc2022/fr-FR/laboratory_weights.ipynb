﻿{
    "cells":  [
                  {
                      "cell_type":  "markdown",
                      "id":  "bcc5bf7e",
                      "metadata":  {

                                   },
                      "source":  [
                                     "# Poids\n",
                                     "\n",
                                     "La balance doit atteindre un poids d’exactement 10,43 kg. Il y a peut-être un panneau dans le coin qui pourra me dire combien pèse chaque créature ? Utilisez la fonction \u0027summon_animal()\u0027 pour invoquer une combinaison d’animaux qui pèse au total 10,43 kg.\n",
                                     "\n",
                                     "La fonction `summon_animal()` est influencée par le paramètre qui définit quel animal doit être invoqué.\n",
                                     "\n",
                                     "Les animaux valides sont :\n",
                                     "- `poulet` ! [Poulet] (img/chicken_weight.png « Poulet »)\n",
                                     "- `moutons` ! [Moutons] (img/sheep_weight.png « Moutons »)\n",
                                     "- `vache` ! [Vache] (img/cow_weight.png « Vache »)"
                                 ]
                  },
                  {
                      "cell_type":  "code",
                      "execution_count":  null,
                      "id":  "35b4de77",
                      "metadata":  {
                                       "minecraft":  {
                                                         "closeCodeBuilderOnRun":  true,
                                                         "hidden":  false,
                                                         "onCodeCancelledCommand":  "scoreboard players set @s code_status 0",
                                                         "onCodeErrorCommand":  "scoreboard players set @s code_status 0",
                                                         "onCodeStartedCommand":  "scoreboard players set @s code_status 1",
                                                         "onCodeStoppedCommand":  "scoreboard players set @s code_status 0",
                                                         "onCodeSuccessfulCommand":  "scoreboard players set @s code_status 0",
                                                         "overridePython":  "import time\n\ntimeout = 0.100\ncommunicationPos = (0, 64, 0)\nweightDropPosition = (-18, 77, 162)\n\ntime.sleep(0.250)\n\ndef summon_animal(mob):\n    if mob==\"chicken\":\n        summon(\"chicken\",weightDropPosition)\n        time.sleep(timeout)         \n    elif mob==\"sheep\":\n        summon(\"sheep\",weightDropPosition)\n        time.sleep(timeout)\n    elif mob==\"cow\":\n        summon(\"cow\",weightDropPosition)\n        time.sleep(timeout)\n@user-code",
                                                         "readonly":  true
                                                     }
                                   },
                      "outputs":  [

                                  ],
                      "source":  [
                                     "# EXEMPLE DE CODE - VOUS NE POUVEZ PAS MODIFIER ICI\n",
                                     "# EXÉCUTEZ-LE POUR VOIR CE QUI SE PASSE\n",
                                     "\n",
                                     "# invoquer 5 poulets et\n",
                                     "# deux vaches\n",
                                     "\n",
                                     "summon_animal(\"chicken\")\n",
                                     "summon_animal(\"chicken\")\n",
                                     "summon_animal(\"chicken\")\n",
                                     "summon_animal(\"chicken\")\n",
                                     "summon_animal(\"chicken\")\n",
                                     "summon_animal(\"cow\")"
                                 ]
                  },
                  {
                      "cell_type":  "markdown",
                      "id":  "75196082",
                      "metadata":  {

                                   },
                      "source":  [
                                     "# Conseil de pro :\n",
                                     "\n",
                                     "Utilisez une boucle `for` (pour) afin d\u0027effectuer une ou plusieurs actions plusieurs fois."
                                 ]
                  },
                  {
                      "cell_type":  "code",
                      "execution_count":  null,
                      "id":  "2dd552bd",
                      "metadata":  {
                                       "minecraft":  {
                                                         "closeCodeBuilderOnRun":  true,
                                                         "hidden":  false,
                                                         "onCodeCancelledCommand":  "scoreboard players set @s code_status 0",
                                                         "onCodeErrorCommand":  "scoreboard players set @s code_status 0",
                                                         "onCodeStartedCommand":  "scoreboard players set @s code_status 1",
                                                         "onCodeStoppedCommand":  "scoreboard players set @s code_status 0",
                                                         "onCodeSuccessfulCommand":  "scoreboard players set @s code_status 0",
                                                         "overridePython":  "import time\n\ntimeout = 0.100\ncommunicationPos = (0, 64, 0)\nweightDropPosition = (-18, 77, 162)\n\ntime.sleep(0.250)\n\ndef summon_animal(mob):\n    if mob==\"chicken\":\n        summon(\"chicken\",weightDropPosition)\n        time.sleep(timeout)         \n    elif mob==\"sheep\":\n        summon(\"sheep\",weightDropPosition)\n        time.sleep(timeout)\n    elif mob==\"cow\":\n        summon(\"cow\",weightDropPosition)\n        time.sleep(timeout)\n@user-code",
                                                         "readonly":  true
                                                     }
                                   },
                      "outputs":  [

                                  ],
                      "source":  [
                                     "# EXEMPLE DE CODE - VOUS NE POUVEZ PAS MODIFIER ICI\n",
                                     "# EXÉCUTEZ-LE POUR VOIR CE QUI SE PASSE\n",
                                     "\n",
                                     "# invoquer 5 poulets et\n",
                                     "# deux vaches\n",
                                     "\n",
                                     "for i in range(5):\n",
                                     "    summon_animal(\"chicken\")\n",
                                     "\n",
                                     "summon_animal(\"cow\")"
                                 ]
                  },
                  {
                      "cell_type":  "markdown",
                      "id":  "7c5e56fb",
                      "metadata":  {

                                   },
                      "source":  [
                                     "# Activité :\n",
                                     "\n",
                                     "Fouillez la zone à la recherche d\u0027informations sur le poids de chaque animal, puis écrivez un code pour invoquer exactement 10,43 kg d’animaux.\n",
                                     "\n",
                                     "Le code inclus ci-dessous est défectueux. Pouvez-vous le réparer ? Exécutez le code pour voir ce qui se passe, puis déboguez-le en le modifiant pour trouver la solution appropriée."
                                 ]
                  },
                  {
                      "cell_type":  "code",
                      "execution_count":  null,
                      "id":  "b6f4bd0e",
                      "metadata":  {
                                       "minecraft":  {
                                                         "closeCodeBuilderOnRun":  true,
                                                         "hidden":  false,
                                                         "onCodeCancelledCommand":  "scoreboard players set @s code_status 0",
                                                         "onCodeErrorCommand":  "scoreboard players set @s code_status 0",
                                                         "onCodeStartedCommand":  "scoreboard players set @s code_status 1",
                                                         "onCodeStoppedCommand":  "scoreboard players set @s code_status 0",
                                                         "onCodeSuccessfulCommand":  "scoreboard players set @s code_status 0",
                                                         "overridePython":  "import time\n\ntimeout = 0.100\ncommunicationPos = (0, 64, 0)\nweightDropPosition = (-18, 77, 162)\n\ntime.sleep(0.250)\n\ndef summon_animal(mob):\n    if mob==\"chicken\":\n        summon(\"chicken\",weightDropPosition)\n        time.sleep(timeout)         \n    elif mob==\"sheep\":\n        summon(\"sheep\",weightDropPosition)\n        time.sleep(timeout)\n    elif mob==\"cow\":\n        summon(\"cow\",weightDropPosition)\n        time.sleep(timeout)\n@user-code",
                                                         "readonly":  false
                                                     }
                                   },
                      "outputs":  [

                                  ],
                      "source":  [
                                     "# code ici\n",
                                     "\n",
                                     "summon_animal(\"chicken\")\n",
                                     "summon_animal(\"chicken\")\n",
                                     "summon_animal(\"sheep\")\n",
                                     "summon_animal(\"cow\")\n"
                                 ]
                  }
              ],
    "metadata":  {
                     "celltoolbar":  "Edit Metadata",
                     "kernelspec":  {
                                        "display_name":  "Python 3 (ipykernel)",
                                        "language":  "python",
                                        "name":  "python3"
                                    },
                     "language_info":  {
                                           "codemirror_mode":  {
                                                                   "name":  "ipython",
                                                                   "version":  3
                                                               },
                                           "file_extension":  ".py",
                                           "mimetype":  "text/x-python",
                                           "name":  "python",
                                           "nbconvert_exporter":  "python",
                                           "pygments_lexer":  "ipython3",
                                           "version":  "3.10.7"
                                       },
                     "minecraft":  {
                                       "description":  "HdC 2022",
                                       "page_id":  "1.1",
                                       "page_name":  "HdC 2022",
                                       "style":  "minecraft.css"
                                   }
                 },
    "nbformat":  4,
    "nbformat_minor":  5
}
