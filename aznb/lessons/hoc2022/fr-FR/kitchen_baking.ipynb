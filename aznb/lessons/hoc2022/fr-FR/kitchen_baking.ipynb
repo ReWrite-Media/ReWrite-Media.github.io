﻿{
    "cells":  [
                  {
                      "cell_type":  "markdown",
                      "id":  "bb81fd74",
                      "metadata":  {

                                   },
                      "source":  [
                                     "# Cuire le pain\n",
                                     "\n",
                                     "Le zombie-chef a besoin d’aide pour préparer son pain. Utilisez les fonctions ci-dessous pour créer une recette de pain que le zombie-chef pourra suivre !\n",
                                     "\n",
                                     "Il existe quatre fonctions disponibles qui représentent les différentes étapes de la cuisson du pain.\n",
                                     "- \u0027harvest_wheat()\u0027 ! [Récolter le blé] (img/bread_wheat.png « Récolter le blé »)\n",
                                     "- \u0027bake_bread()\u0027 ! [Cuire du pain] (img/bread_bake.png « Cuire du pain »)\n",
                                     "- \u0027make_dough()\u0027 ! [Faire de la pâte] (img/bread_dough.png « Faire de la pâte »)\n",
                                     "- \u0027mill_wheat()\u0027 ! [Moudre du blé] (img/bread_mill.png « Moudre du blé »)"
                                 ]
                  },
                  {
                      "cell_type":  "code",
                      "execution_count":  null,
                      "id":  "bc828814",
                      "metadata":  {
                                       "minecraft":  {
                                                         "closeCodeBuilderOnRun":  true,
                                                         "hidden":  false,
                                                         "onCodeCancelledCommand":  "scoreboard players set @s code_status 0",
                                                         "onCodeErrorCommand":  "scoreboard players set @s code_status 0",
                                                         "onCodeStartedCommand":  "scoreboard players set @s code_status 1",
                                                         "onCodeStoppedCommand":  "scoreboard players set @s code_status 0",
                                                         "onCodeSuccessfulCommand":  "scoreboard players set @s code_status 0",
                                                         "overridePython":  "import time\n\ntimeout = 0.100\ncommunicationPos = (0, 64, 0)\n\ntime.sleep(0.250)\n\ndef harvest_wheat():\n    world.set(communicationPos, \"orange concrete\")\n    time.sleep(timeout)         \ndef mill_wheat():\n    world.set(communicationPos, \"magenta concrete\")\n    time.sleep(timeout)         \ndef make_dough():\n    world.set(communicationPos, \"light blue concrete\")\n    time.sleep(timeout)         \ndef bake_bread():\n    world.set(communicationPos, \"yellow concrete\")\n    time.sleep(timeout) \n@user-code",
                                                         "readonly":  true
                                                     }
                                   },
                      "outputs":  [

                                  ],
                      "source":  [
                                     "# EXEMPLE DE CODE - VOUS NE POUVEZ PAS MODIFIER ICI\n",
                                     "# EXÉCUTEZ-LE POUR VOIR CE QUI SE PASSE\n",
                                     "\n",
                                     "# exemple de recette\n",
                                     "\n",
                                     "harvest_wheat()\n",
                                     "make_dough()\n",
                                     "bake_bread()\n",
                                     "mill_wheat()"
                                 ]
                  },
                  {
                      "cell_type":  "markdown",
                      "id":  "86bde19e",
                      "metadata":  {

                                   },
                      "source":  [
                                     "# Activité :\n",
                                     "\n",
                                     "Les chefs gardent toujours une copie de leurs recettes à proximité ! Je me demande où le zombie-chef a caché les siennes ? Déterminez les bonnes étapes, puis programmez la recette que le zombie-chef devra suivre !\n",
                                     "\n",
                                     "Le code inclus ci-dessous est défectueux. Pouvez-vous le réparer ? Exécutez le code pour voir ce qui se passe, puis déboguez-le en le modifiant pour trouver la solution appropriée."
                                 ]
                  },
                  {
                      "cell_type":  "code",
                      "execution_count":  null,
                      "id":  "b6f4bd0e",
                      "metadata":  {
                                       "minecraft":  {
                                                         "closeCodeBuilderOnRun":  true,
                                                         "hidden":  false,
                                                         "onCodeCancelledCommand":  "scoreboard players set @s code_status 0",
                                                         "onCodeErrorCommand":  "scoreboard players set @s code_status 0",
                                                         "onCodeStartedCommand":  "scoreboard players set @s code_status 1",
                                                         "onCodeStoppedCommand":  "scoreboard players set @s code_status 0",
                                                         "onCodeSuccessfulCommand":  "scoreboard players set @s code_status 0",
                                                         "overridePython":  "import time\n\ntimeout = 0.100\ncommunicationPos = (0, 64, 0)\n\ntime.sleep(0.250)\n\ndef harvest_wheat():\n    world.set(communicationPos, \"orange concrete\")\n    time.sleep(timeout)         \ndef mill_wheat():\n    world.set(communicationPos, \"magenta concrete\")\n    time.sleep(timeout)         \ndef make_dough():\n    world.set(communicationPos, \"light blue concrete\")\n    time.sleep(timeout)         \ndef bake_bread():\n    world.set(communicationPos, \"yellow concrete\")\n    time.sleep(timeout) \n@user-code",
                                                         "readonly":  false
                                                     }
                                   },
                      "outputs":  [

                                  ],
                      "source":  [
                                     "# code ici\n",
                                     "\n",
                                     "harvest_wheat()\n",
                                     "make_dough()\n",
                                     "bake_bread()\n",
                                     "mill_wheat()\n"
                                 ]
                  }
              ],
    "metadata":  {
                     "celltoolbar":  "Edit Metadata",
                     "kernelspec":  {
                                        "display_name":  "Python 3 (ipykernel)",
                                        "language":  "python",
                                        "name":  "python3"
                                    },
                     "language_info":  {
                                           "codemirror_mode":  {
                                                                   "name":  "ipython",
                                                                   "version":  3
                                                               },
                                           "file_extension":  ".py",
                                           "mimetype":  "text/x-python",
                                           "name":  "python",
                                           "nbconvert_exporter":  "python",
                                           "pygments_lexer":  "ipython3",
                                           "version":  "3.10.7"
                                       },
                     "minecraft":  {
                                       "description":  "HdC 2022",
                                       "page_id":  "1.1",
                                       "page_name":  "HdC 2022",
                                       "style":  "minecraft.css"
                                   }
                 },
    "nbformat":  4,
    "nbformat_minor":  5
}
