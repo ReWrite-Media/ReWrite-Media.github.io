﻿{
    "cells":  [
                  {
                      "cell_type":  "markdown",
                      "id":  "33f4763c",
                      "metadata":  {

                                   },
                      "source":  [
                                     "#\n de disjoncteur de bloc",
                                     "\n",
                                     "Vous devez casser les blocs bloquant la porte pour pouvoir sortir! Utilisez \u0027move_cursor()\u0027 pour positionner le curseur et \u0027break_block()\u0027 pour casser le bloc dans la position que vous avez sélectionnée.\n",
                                     "\n",
                                     "La fonction \u0027move_cursor()\u0027 prend un paramètre qui définit sa direction. Ce paramètre est la couleur de la flèche qui représente la direction dans laquelle vous souhaitez vous déplacer.\n",
                                     "\n",
                                     "Les directions valides sont :\n",
                                     "- \u0027orange\u0027 (déplace le curseur vers le haut) ! [Flèche orange] (img/orange_arrow.png « Flèche orange »)\n",
                                     "- \u0027magenta\u0027 (déplace le curseur vers le bas) ! [Flèche magenta] (img/magenta_arrow.png « Flèche magenta »)\n",
                                     "- \u0027bleu\u0027 (déplace le curseur vers la gauche) ! [Flèche bleue] (img/blue_arrow.png « Flèche bleue »)\n",
                                     "- \u0027jaune\u0027 (déplace le curseur vers la droite) ! [Flèche jaune] (img/yellow_arrow.png « Flèche jaune »)"
                                 ]
                  },
                  {
                      "cell_type":  "code",
                      "execution_count":  null,
                      "id":  "1d486a35",
                      "metadata":  {
                                       "minecraft":  {
                                                         "closeCodeBuilderOnRun":  true,
                                                         "hidden":  false,
                                                         "onCodeCancelledCommand":  "scoreboard players set @s code_status 0",
                                                         "onCodeErrorCommand":  "scoreboard players set @s code_status 0",
                                                         "onCodeStartedCommand":  "scoreboard players set @s code_status 1",
                                                         "onCodeStoppedCommand":  "scoreboard players set @s code_status 0",
                                                         "onCodeSuccessfulCommand":  "scoreboard players set @s code_status 0",
                                                         "overridePython":  "import time\n\ntimeout = 0.100\ncommunicationPos = (0, 64, 0)\n\ntime.sleep(0.250)\n\ndef move_cursor(color):\n    if color == \"orange\":\n        world.set(communicationPos, \"orange concrete\")\n        time.sleep(timeout)\n    elif color == \"magenta\":\n        world.set(communicationPos, \"magenta concrete\")\n        time.sleep(timeout)\n    elif color == \"blue\":\n        world.set(communicationPos, \"light blue concrete\")\n        time.sleep(timeout)\n    elif color == \"yellow\":\n        world.set(communicationPos, \"yellow concrete\")\n        time.sleep(timeout)\n\ndef break_block():\n    world.set(communicationPos, \"lime concrete\")\n    time.sleep(timeout) \n@user-code",
                                                         "readonly":  true
                                                     }
                                   },
                      "outputs":  [

                                  ],
                      "source":  [
                                     "# EXEMPLE DE CODE - VOUS NE POUVEZ PAS MODIFIER ICI\n",
                                     "# EXÉCUTEZ-LE POUR VOIR CE QUI SE PASSE\n",
                                     "\n",
                                     "# casser le bloc sélectionné et\n",
                                     "# puis déplacez le curseur vers la droite\n",
                                     "# faites-le 4 fois.\n",
                                     "\n",
                                     "break_block()\n",
                                     "move_cursor(\"yellow\")\n",
                                     "break_block()\n",
                                     "move_cursor(\"yellow\")\n",
                                     "break_block()\n",
                                     "move_cursor(\"yellow\")\n",
                                     "break_block()\n",
                                     "move_cursor(\"yellow\")"
                                 ]
                  },
                  {
                      "cell_type":  "markdown",
                      "id":  "ff50ac44",
                      "metadata":  {

                                   },
                      "source":  [
                                     "# Conseil de pro :\n",
                                     "\n",
                                     "Utilisez une boucle `for` (pour) afin d\u0027effectuer une ou plusieurs actions plusieurs fois."
                                 ]
                  },
                  {
                      "cell_type":  "code",
                      "execution_count":  null,
                      "id":  "df38a478",
                      "metadata":  {
                                       "minecraft":  {
                                                         "closeCodeBuilderOnRun":  true,
                                                         "hidden":  false,
                                                         "onCodeCancelledCommand":  "scoreboard players set @s code_status 0",
                                                         "onCodeErrorCommand":  "scoreboard players set @s code_status 0",
                                                         "onCodeStartedCommand":  "scoreboard players set @s code_status 1",
                                                         "onCodeStoppedCommand":  "scoreboard players set @s code_status 0",
                                                         "onCodeSuccessfulCommand":  "scoreboard players set @s code_status 0",
                                                         "overridePython":  "import time\n\ntimeout = 0.100\ncommunicationPos = (0, 64, 0)\n\ntime.sleep(0.250)\n\ndef move_cursor(color):\n    if color == \"orange\":\n        world.set(communicationPos, \"orange concrete\")\n        time.sleep(timeout)\n    elif color == \"magenta\":\n        world.set(communicationPos, \"magenta concrete\")\n        time.sleep(timeout)\n    elif color == \"blue\":\n        world.set(communicationPos, \"light blue concrete\")\n        time.sleep(timeout)\n    elif color == \"yellow\":\n        world.set(communicationPos, \"yellow concrete\")\n        time.sleep(timeout)\n\ndef break_block():\n    world.set(communicationPos, \"lime concrete\")\n    time.sleep(timeout) \n@user-code",
                                                         "readonly":  true
                                                     }
                                   },
                      "outputs":  [

                                  ],
                      "source":  [
                                     "# EXEMPLE DE CODE - VOUS NE POUVEZ PAS MODIFIER ICI\n",
                                     "# EXÉCUTEZ-LE POUR VOIR CE QUI SE PASSE\n",
                                     "\n",
                                     "# casser le bloc sélectionné et\n",
                                     "# puis déplacez le curseur vers la droite\n",
                                     "# faites-le 4 fois.\n",
                                     "\n",
                                     "for i in range(4):\n",
                                     "    break_block()\n",
                                     "    move_cursor(\"yellow\")"
                                 ]
                  },
                  {
                      "cell_type":  "markdown",
                      "id":  "fb7af231",
                      "metadata":  {

                                   },
                      "source":  [
                                     "# Activité :\n",
                                     "\n",
                                     "Utilisez votre curseur pour ouvrir un chemin à travers le mur pour quitter cette pièce!\n",
                                     "\n",
                                     "Le code inclus ci-dessous est cassé. Pouvez-vous le réparer? Exécutez le code pour voir ce qui se passe, puis déboguez-le en le modifiant pour trouver la solution appropriée."
                                 ]
                  },
                  {
                      "cell_type":  "code",
                      "execution_count":  null,
                      "id":  "b6f4bd0e",
                      "metadata":  {
                                       "minecraft":  {
                                                         "closeCodeBuilderOnRun":  true,
                                                         "hidden":  false,
                                                         "onCodeCancelledCommand":  "scoreboard players set @s code_status 0",
                                                         "onCodeErrorCommand":  "scoreboard players set @s code_status 0",
                                                         "onCodeStartedCommand":  "scoreboard players set @s code_status 1",
                                                         "onCodeStoppedCommand":  "scoreboard players set @s code_status 0",
                                                         "onCodeSuccessfulCommand":  "scoreboard players set @s code_status 0",
                                                         "overridePython":  "import time\n\ntimeout = 0.100\ncommunicationPos = (0, 64, 0)\n\ntime.sleep(0.250)\n\ndef move_cursor(color):\n    if color == \"orange\":\n        world.set(communicationPos, \"orange concrete\")\n        time.sleep(timeout)\n    elif color == \"magenta\":\n        world.set(communicationPos, \"magenta concrete\")\n        time.sleep(timeout)\n    elif color == \"blue\":\n        world.set(communicationPos, \"light blue concrete\")\n        time.sleep(timeout)\n    elif color == \"yellow\":\n        world.set(communicationPos, \"yellow concrete\")\n        time.sleep(timeout)\n\ndef break_block():\n    world.set(communicationPos, \"lime concrete\")\n    time.sleep(timeout) \n@user-code",
                                                         "readonly":  false
                                                     }
                                   },
                      "outputs":  [

                                  ],
                      "source":  [
                                     "# code ici\n",
                                     "\n",
                                     "move_cursor(\"yellow\")\n",
                                     "move_cursor(\"yellow\")\n",
                                     "break_block()"
                                 ]
                  }
              ],
    "metadata":  {
                     "celltoolbar":  "Edit Metadata",
                     "kernelspec":  {
                                        "display_name":  "Python 3 (ipykernel)",
                                        "language":  "python",
                                        "name":  "python3"
                                    },
                     "language_info":  {
                                           "codemirror_mode":  {
                                                                   "name":  "ipython",
                                                                   "version":  3
                                                               },
                                           "file_extension":  ".py",
                                           "mimetype":  "text/x-python",
                                           "name":  "python",
                                           "nbconvert_exporter":  "python",
                                           "pygments_lexer":  "ipython3",
                                           "version":  "3.10.7"
                                       },
                     "minecraft":  {
                                       "description":  "HOC 2022",
                                       "page_id":  "1.1",
                                       "page_name":  "HOC 2022",
                                       "style":  "minecraft.css"
                                   }
                 },
    "nbformat":  4,
    "nbformat_minor":  5
}
