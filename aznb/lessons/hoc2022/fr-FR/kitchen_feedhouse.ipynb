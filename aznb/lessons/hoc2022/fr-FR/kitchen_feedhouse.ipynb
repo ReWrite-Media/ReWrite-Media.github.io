﻿{
    "cells":  [
                  {
                      "cell_type":  "markdown",
                      "id":  "030c2673",
                      "metadata":  {

                                   },
                      "source":  [
                                     "# Nourrissez la maison\n",
                                     "\n",
                                     "La maison a faim ! Et quoi de mieux pour la nourrir que des pommes, du saumon et du ragoût de champignons ! Voyez si vous pouvez déterminer combien de chaque ingrédient la maison a besoin. Utilisez la fonction \u0027feed_house()\u0027 pour définir les éléments que vous souhaitez donner à manger.\n",
                                     "\n",
                                     "La fonction \u0027feed_house()\u0027 est influencée par un paramètre qui définit l’élément que vous allez lui donner à manger.\n",
                                     "\n",
                                     "Les options valides sont :\n",
                                     "- `apple` (pomme)  ![Pomme] (img/apple.png \"pomme\")\n",
                                     "- `ragoût de champignons` ![Ragoût de champignons] (img/mushroom_stew.png \"Ragoût de champignons\")\n",
                                     "- `saumon`  ![Saumon] (img/salmon.png \"Saumon\")\n"
                                 ]
                  },
                  {
                      "cell_type":  "code",
                      "execution_count":  null,
                      "id":  "b6f4bd0e",
                      "metadata":  {
                                       "minecraft":  {
                                                         "closeCodeBuilderOnRun":  true,
                                                         "hidden":  false,
                                                         "onCodeCancelledCommand":  "scoreboard players set @s code_status 0",
                                                         "onCodeErrorCommand":  "scoreboard players set @s code_status 0",
                                                         "onCodeStartedCommand":  "scoreboard players set @s code_status 1",
                                                         "onCodeStoppedCommand":  "scoreboard players set @s code_status 0",
                                                         "onCodeSuccessfulCommand":  "scoreboard players set @s code_status 0",
                                                         "overridePython":  "import time\n\ntimeout = 0.100\ncommunicationPos = (0, 64, 0)\n\ntime.sleep(0.250)\n\ndef feed_house(food):\n    if food==\"apple\":\n        world.set(communicationPos, \"orange concrete\")\n        time.sleep(timeout)         \n    elif food==\"salmon\":\n        world.set(communicationPos, \"magenta concrete\")\n        time.sleep(timeout)\n    elif food==\"mushroom stew\":\n        world.set(communicationPos, \"light blue concrete\")\n        time.sleep(timeout)\n@user-code",
                                                         "readonly":  true
                                                     }
                                   },
                      "outputs":  [

                                  ],
                      "source":  [
                                     "# EXEMPLE DE CODE - VOUS NE POUVEZ PAS MODIFIER ICI\n",
                                     "# EXÉCUTEZ-LE POUR VOIR CE QUI SE PASSE\n",
                                     "\n",
                                     "# nourrir la maison avec 4 pommes et\n",
                                     "# 1 ragoût de champignons\n",
                                     "\n",
                                     "feed_house(\"apple\")\n",
                                     "feed_house(\"apple\")\n",
                                     "feed_house(\"apple\")\n",
                                     "feed_house(\"apple\")\n",
                                     "feed_house(\"mushroom stew\")"
                                 ]
                  },
                  {
                      "cell_type":  "markdown",
                      "id":  "d29da26d",
                      "metadata":  {

                                   },
                      "source":  [
                                     "# Conseil de pro :\n",
                                     "\n",
                                     "Utilisez une boucle `for` (pour) afin d\u0027effectuer une ou plusieurs actions plusieurs fois."
                                 ]
                  },
                  {
                      "cell_type":  "code",
                      "execution_count":  null,
                      "id":  "c811a834",
                      "metadata":  {
                                       "minecraft":  {
                                                         "closeCodeBuilderOnRun":  true,
                                                         "hidden":  false,
                                                         "onCodeCancelledCommand":  "scoreboard players set @s code_status 0",
                                                         "onCodeErrorCommand":  "scoreboard players set @s code_status 0",
                                                         "onCodeStartedCommand":  "scoreboard players set @s code_status 1",
                                                         "onCodeStoppedCommand":  "scoreboard players set @s code_status 0",
                                                         "onCodeSuccessfulCommand":  "scoreboard players set @s code_status 0",
                                                         "overridePython":  "import time\n\ntimeout = 0.100\ncommunicationPos = (0, 64, 0)\n\ntime.sleep(0.250)\n\ndef feed_house(food):\n    if food==\"apple\":\n        world.set(communicationPos, \"orange concrete\")\n        time.sleep(timeout)         \n    elif food==\"salmon\":\n        world.set(communicationPos, \"magenta concrete\")\n        time.sleep(timeout)\n    elif food==\"mushroom stew\":\n        world.set(communicationPos, \"light blue concrete\")\n        time.sleep(timeout)\n@user-code",
                                                         "readonly":  true
                                                     }
                                   },
                      "outputs":  [

                                  ],
                      "source":  [
                                     "# EXEMPLE DE CODE - VOUS NE POUVEZ PAS MODIFIER ICI\n",
                                     "# EXÉCUTEZ-LE POUR VOIR CE QUI SE PASSE\n",
                                     "\n",
                                     "# nourrir la maison avec 4 pommes et\n",
                                     "# 1 ragoût de champignons\n",
                                     "\n",
                                     "for i in range(4):\n",
                                     "    feed_house(\"apple\")\n",
                                     "\n",
                                     "feed_house(\"mushroom stew\")"
                                 ]
                  },
                  {
                      "cell_type":  "markdown",
                      "id":  "0e133078",
                      "metadata":  {

                                   },
                      "source":  [
                                     "# Activité :\n",
                                     "\n",
                                     "Les chefs zombies tiennent de la nourriture pendant qu’ils défilent sur des plateaux ! Il semble y avoir un schéma ici... je me demande s’ils sont là pour nourrir la maison ? Déterminez combien de chaque aliment la maison a besoin, puis créez un programme pour alimenter la maison avec la bonne quantité !\n",
                                     "\n",
                                     "Le code inclus ci-dessous est défectueux. Pouvez-vous le réparer ? Exécutez le code pour voir ce qui se passe, puis déboguez-le en le modifiant pour trouver la solution appropriée."
                                 ]
                  },
                  {
                      "cell_type":  "code",
                      "execution_count":  null,
                      "id":  "675f27bf",
                      "metadata":  {
                                       "minecraft":  {
                                                         "closeCodeBuilderOnRun":  true,
                                                         "hidden":  false,
                                                         "onCodeCancelledCommand":  "scoreboard players set @s code_status 0",
                                                         "onCodeErrorCommand":  "scoreboard players set @s code_status 0",
                                                         "onCodeStartedCommand":  "scoreboard players set @s code_status 1",
                                                         "onCodeStoppedCommand":  "scoreboard players set @s code_status 0",
                                                         "onCodeSuccessfulCommand":  "scoreboard players set @s code_status 0",
                                                         "overridePython":  "import time\n\ntimeout = 0.100\ncommunicationPos = (0, 64, 0)\n\ntime.sleep(0.250)\n\ndef feed_house(food):\n    if food==\"apple\":\n        world.set(communicationPos, \"orange concrete\")\n        time.sleep(timeout)         \n    elif food==\"salmon\":\n        world.set(communicationPos, \"magenta concrete\")\n        time.sleep(timeout)\n    elif food==\"mushroom stew\":\n        world.set(communicationPos, \"light blue concrete\")\n        time.sleep(timeout)\n@user-code",
                                                         "readonly":  false
                                                     }
                                   },
                      "outputs":  [

                                  ],
                      "source":  [
                                     "# code ici\n",
                                     "\n",
                                     "feed_house(\"apple\")\n",
                                     "feed_house(\"apple\")\n",
                                     "feed_house(\"salmon\")"
                                 ]
                  }
              ],
    "metadata":  {
                     "celltoolbar":  "Edit Metadata",
                     "kernelspec":  {
                                        "display_name":  "Python 3 (ipykernel)",
                                        "language":  "python",
                                        "name":  "python3"
                                    },
                     "language_info":  {
                                           "codemirror_mode":  {
                                                                   "name":  "ipython",
                                                                   "version":  3
                                                               },
                                           "file_extension":  ".py",
                                           "mimetype":  "text/x-python",
                                           "name":  "python",
                                           "nbconvert_exporter":  "python",
                                           "pygments_lexer":  "ipython3",
                                           "version":  "3.10.7"
                                       },
                     "minecraft":  {
                                       "description":  "HdC 2022",
                                       "page_id":  "1.1",
                                       "page_name":  "HdC 2022",
                                       "style":  "minecraft.css"
                                   }
                 },
    "nbformat":  4,
    "nbformat_minor":  5
}
