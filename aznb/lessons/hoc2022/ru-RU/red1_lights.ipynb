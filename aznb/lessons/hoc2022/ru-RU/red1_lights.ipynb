﻿{
    "cells":  [
                  {
                      "cell_type":  "markdown",
                      "id":  "78e529f0",
                      "metadata":  {

                                   },
                      "source":  [
                                     "# Огни\n",
                                     "\n",
                                     "Кажется, что есть закономерность с тем, как мигают огни. Переместите странника Края в каждое положение, следуя шаблону, который создают огни. Используйте функцию `move_enderman()`, чтобы выбрать, на какую цветную платформу переходит странник Края.\n",
                                     "\n",
                                     "Функция `move_enderman()` поддерживает только один параметр, который определяет, на какую цветную платформу он должен перейти.\n",
                                     "\n",
                                     "Допустимые цвета:\n",
                                     "- `green` (зеленый) ![Зеленый](img/green_glazed.png \"Зеленый\")\n",
                                     "- `yellow` (желтый) ![Желтый](img/yellow_glazed.png \"Желтый\")\n",
                                     "- `blue` (синий) ![Синий](img/blue_glazed.png \"Синий\")\n",
                                     "— `pink` ![Розовый](img/pink_glazed.png \"Розовый\")"
                                 ]
                  },
                  {
                      "cell_type":  "code",
                      "execution_count":  null,
                      "id":  "b48ad815",
                      "metadata":  {
                                       "minecraft":  {
                                                         "closeCodeBuilderOnRun":  true,
                                                         "hidden":  false,
                                                         "onCodeCancelledCommand":  "scoreboard players set @s code_status 0",
                                                         "onCodeErrorCommand":  "scoreboard players set @s code_status 0",
                                                         "onCodeStartedCommand":  "scoreboard players set @s code_status 1",
                                                         "onCodeStoppedCommand":  "scoreboard players set @s code_status 0",
                                                         "onCodeSuccessfulCommand":  "scoreboard players set @s code_status 0",
                                                         "overridePython":  "import time\n\ntimeout = 0.100\ncommunicationPos = (0, 64, 0)\n\ntime.sleep(0.250)\n\ndef move_enderman(color):\n    if color==\"blue\":\n        world.set(communicationPos, \"light blue concrete\")\n        time.sleep(timeout) \n    elif color==\"pink\":\n        world.set(communicationPos, \"pink concrete\")\n        time.sleep(timeout) \n    elif color==\"green\":\n        world.set(communicationPos, \"lime concrete\")\n        time.sleep(timeout) \n    elif color==\"yellow\":\n        world.set(communicationPos, \"yellow concrete\")\n        time.sleep(timeout) \n@user-code",
                                                         "readonly":  true
                                                     }
                                   },
                      "outputs":  [

                                  ],
                      "source":  [
                                     "# ПРИМЕР КОДА — ВЫ НЕ МОЖЕТЕ РЕДАКТИРОВАТЬ ЭТО\n",
                                     "# ЗАПУСТИТЕ, ЧТОБЫ УВИДЕТЬ, ЧТО ПРОИЗОЙДЕТ\n",
                                     "\n",
                                     "# сначала переместите странника Края на зеленую\n",
                                     "# платформа, затем на желтую\n",
                                     "\n",
                                     "move_enderman(\"green\")\n",
                                     "move_enderman(\"yellow\")"
                                 ]
                  },
                  {
                      "cell_type":  "markdown",
                      "id":  "b03d9c40",
                      "metadata":  {

                                   },
                      "source":  [
                                     "# Задание:\n",
                                     "\n",
                                     "Здесь несколько этапов. Посмотрите какой узор создают огни, и напишите код, чтобы странник Края повторил этому узор.\n",
                                     "\n",
                                     "Приведенный ниже код не работает. Сможете ли вы исправить его? Запустите код, чтобы увидеть результат, а затем займитесь отладкой и отредактируйте его так, чтобы это привело к правильному решению."
                                 ]
                  },
                  {
                      "cell_type":  "code",
                      "execution_count":  null,
                      "id":  "b6f4bd0e",
                      "metadata":  {
                                       "minecraft":  {
                                                         "closeCodeBuilderOnRun":  true,
                                                         "hidden":  false,
                                                         "onCodeCancelledCommand":  "scoreboard players set @s code_status 0",
                                                         "onCodeErrorCommand":  "scoreboard players set @s code_status 0",
                                                         "onCodeStartedCommand":  "scoreboard players set @s code_status 1",
                                                         "onCodeStoppedCommand":  "scoreboard players set @s code_status 0",
                                                         "onCodeSuccessfulCommand":  "scoreboard players set @s code_status 0",
                                                         "overridePython":  "import time\n\ntimeout = 0.100\ncommunicationPos = (0, 64, 0)\n\ntime.sleep(0.250)\n\ndef move_enderman(color):\n    if color==\"blue\":\n        world.set(communicationPos, \"light blue concrete\")\n        time.sleep(timeout) \n    elif color==\"pink\":\n        world.set(communicationPos, \"pink concrete\")\n        time.sleep(timeout) \n    elif color==\"green\":\n        world.set(communicationPos, \"lime concrete\")\n        time.sleep(timeout) \n    elif color==\"yellow\":\n        world.set(communicationPos, \"yellow concrete\")\n        time.sleep(timeout) \n@user-code",
                                                         "readonly":  false
                                                     }
                                   },
                      "outputs":  [

                                  ],
                      "source":  [
                                     "# код здесь\n",
                                     "\n",
                                     "move_enderman(\"green\")\n",
                                     "move_enderman(\"yellow\")"
                                 ]
                  }
              ],
    "metadata":  {
                     "celltoolbar":  "Edit Metadata",
                     "kernelspec":  {
                                        "display_name":  "Python 3 (ipykernel)",
                                        "language":  "python",
                                        "name":  "python3"
                                    },
                     "language_info":  {
                                           "codemirror_mode":  {
                                                                   "name":  "ipython",
                                                                   "version":  3
                                                               },
                                           "file_extension":  ".py",
                                           "mimetype":  "text/x-python",
                                           "name":  "python",
                                           "nbconvert_exporter":  "python",
                                           "pygments_lexer":  "ipython3",
                                           "version":  "3.10.7"
                                       },
                     "minecraft":  {
                                       "description":  "ЧК 2022",
                                       "page_id":  "1.1",
                                       "page_name":  "ЧК 2022",
                                       "style":  "minecraft.css"
                                   }
                 },
    "nbformat":  4,
    "nbformat_minor":  5
}
