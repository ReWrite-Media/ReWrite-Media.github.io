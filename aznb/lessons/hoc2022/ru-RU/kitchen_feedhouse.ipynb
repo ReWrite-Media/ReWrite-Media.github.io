﻿{
    "cells":  [
                  {
                      "cell_type":  "markdown",
                      "id":  "030c2673",
                      "metadata":  {

                                   },
                      "source":  [
                                     "# Накормить дом\n",
                                     "\n",
                                     "Дом проголодался! А чем его накормить, как не яблоками, лососем и тушеными грибами! Попробуйте выяснить, сколько каждого ингредиента нужно дому. Используйте функцию `feed_house()`, чтобы определить, какими ингредиентами вы хотите его накормить.\n",
                                     "\n",
                                     "Функция `feed_house()` поддерживает только один параметр, который определяет предмет, которым вы его накормите.\n",
                                     "\n",
                                     "Допустимые варианты:\n",
                                     "- `apple` (яблоко) ![Яблоко](img/apple.png \"Яблоко\")\n",
                                     "- `mushroom stew` (Тушеные грибы) ![Тушеные грибы](img/mushroom_stew.png \"Тушеные грибы\")\n",
                                     "- `salmon` (Лосось) ![Лосось](img/salmon.png \"Лосось\")\n"
                                 ]
                  },
                  {
                      "cell_type":  "code",
                      "execution_count":  null,
                      "id":  "b6f4bd0e",
                      "metadata":  {
                                       "minecraft":  {
                                                         "closeCodeBuilderOnRun":  true,
                                                         "hidden":  false,
                                                         "onCodeCancelledCommand":  "scoreboard players set @s code_status 0",
                                                         "onCodeErrorCommand":  "scoreboard players set @s code_status 0",
                                                         "onCodeStartedCommand":  "scoreboard players set @s code_status 1",
                                                         "onCodeStoppedCommand":  "scoreboard players set @s code_status 0",
                                                         "onCodeSuccessfulCommand":  "scoreboard players set @s code_status 0",
                                                         "overridePython":  "import time\n\ntimeout = 0.100\ncommunicationPos = (0, 64, 0)\n\ntime.sleep(0.250)\n\ndef feed_house(food):\n    if food==\"apple\":\n        world.set(communicationPos, \"orange concrete\")\n        time.sleep(timeout)         \n    elif food==\"salmon\":\n        world.set(communicationPos, \"magenta concrete\")\n        time.sleep(timeout)\n    elif food==\"mushroom stew\":\n        world.set(communicationPos, \"light blue concrete\")\n        time.sleep(timeout)\n@user-code",
                                                         "readonly":  true
                                                     }
                                   },
                      "outputs":  [

                                  ],
                      "source":  [
                                     "# ПРИМЕР КОДА — ВЫ НЕ МОЖЕТЕ РЕДАКТИРОВАТЬ ЭТО\n",
                                     "# ЗАПУСТИТЕ, ЧТОБЫ УВИДЕТЬ, ЧТО ПРОИЗОЙДЕТ\n",
                                     "\n",
                                     "# накормить дом 4 яблоками и\n",
                                     "# 1 тушеные грибы\n",
                                     "\n",
                                     "feed_house(\"apple\")\n",
                                     "feed_house(\"apple\")\n",
                                     "feed_house(\"apple\")\n",
                                     "feed_house(\"apple\")\n",
                                     "feed_house(\"mushroom stew\")"
                                 ]
                  },
                  {
                      "cell_type":  "markdown",
                      "id":  "d29da26d",
                      "metadata":  {

                                   },
                      "source":  [
                                     "# Совет:\n",
                                     "\n",
                                     "Используйте цикл \u0027for\u0027, чтобы выполнить одно или несколько действий несколько раз."
                                 ]
                  },
                  {
                      "cell_type":  "code",
                      "execution_count":  null,
                      "id":  "c811a834",
                      "metadata":  {
                                       "minecraft":  {
                                                         "closeCodeBuilderOnRun":  true,
                                                         "hidden":  false,
                                                         "onCodeCancelledCommand":  "scoreboard players set @s code_status 0",
                                                         "onCodeErrorCommand":  "scoreboard players set @s code_status 0",
                                                         "onCodeStartedCommand":  "scoreboard players set @s code_status 1",
                                                         "onCodeStoppedCommand":  "scoreboard players set @s code_status 0",
                                                         "onCodeSuccessfulCommand":  "scoreboard players set @s code_status 0",
                                                         "overridePython":  "import time\n\ntimeout = 0.100\ncommunicationPos = (0, 64, 0)\n\ntime.sleep(0.250)\n\ndef feed_house(food):\n    if food==\"apple\":\n        world.set(communicationPos, \"orange concrete\")\n        time.sleep(timeout)         \n    elif food==\"salmon\":\n        world.set(communicationPos, \"magenta concrete\")\n        time.sleep(timeout)\n    elif food==\"mushroom stew\":\n        world.set(communicationPos, \"light blue concrete\")\n        time.sleep(timeout)\n@user-code",
                                                         "readonly":  true
                                                     }
                                   },
                      "outputs":  [

                                  ],
                      "source":  [
                                     "# ПРИМЕР КОДА — ВЫ НЕ МОЖЕТЕ РЕДАКТИРОВАТЬ ЭТО\n",
                                     "# ЗАПУСТИТЕ, ЧТОБЫ УВИДЕТЬ, ЧТО ПРОИЗОЙДЕТ\n",
                                     "\n",
                                     "# накормить дом 4 яблоками и\n",
                                     "# 1 тушеные грибы\n",
                                     "\n",
                                     "for i in range(4):\n",
                                     "    feed_house(\"apple\")\n",
                                     "\n",
                                     "feed_house(\"mushroom stew\")"
                                 ]
                  },
                  {
                      "cell_type":  "markdown",
                      "id":  "0e133078",
                      "metadata":  {

                                   },
                      "source":  [
                                     "# Задание:\n",
                                     "\n",
                                     "Повара-зомби держат в руках еду, проносясь мимо на тарелках! Похоже, здесь есть какая-то деталь... Интересно, они хотят накормить дом? Определите, сколько каждого вида еды нужно дому, а затем напишите программу, которая накормит дом!\n",
                                     "\n",
                                     "Приведенный ниже код не работает. Сможете ли вы исправить его? Запустите код, чтобы увидеть результат, а затем займитесь отладкой и отредактируйте его так, чтобы это привело к правильному решению."
                                 ]
                  },
                  {
                      "cell_type":  "code",
                      "execution_count":  null,
                      "id":  "675f27bf",
                      "metadata":  {
                                       "minecraft":  {
                                                         "closeCodeBuilderOnRun":  true,
                                                         "hidden":  false,
                                                         "onCodeCancelledCommand":  "scoreboard players set @s code_status 0",
                                                         "onCodeErrorCommand":  "scoreboard players set @s code_status 0",
                                                         "onCodeStartedCommand":  "scoreboard players set @s code_status 1",
                                                         "onCodeStoppedCommand":  "scoreboard players set @s code_status 0",
                                                         "onCodeSuccessfulCommand":  "scoreboard players set @s code_status 0",
                                                         "overridePython":  "import time\n\ntimeout = 0.100\ncommunicationPos = (0, 64, 0)\n\ntime.sleep(0.250)\n\ndef feed_house(food):\n    if food==\"apple\":\n        world.set(communicationPos, \"orange concrete\")\n        time.sleep(timeout)         \n    elif food==\"salmon\":\n        world.set(communicationPos, \"magenta concrete\")\n        time.sleep(timeout)\n    elif food==\"mushroom stew\":\n        world.set(communicationPos, \"light blue concrete\")\n        time.sleep(timeout)\n@user-code",
                                                         "readonly":  false
                                                     }
                                   },
                      "outputs":  [

                                  ],
                      "source":  [
                                     "# код здесь\n",
                                     "\n",
                                     "feed_house(\"apple\")\n",
                                     "feed_house(\"apple\")\n",
                                     "feed_house(\"salmon\")"
                                 ]
                  }
              ],
    "metadata":  {
                     "celltoolbar":  "Edit Metadata",
                     "kernelspec":  {
                                        "display_name":  "Python 3 (ipykernel)",
                                        "language":  "python",
                                        "name":  "python3"
                                    },
                     "language_info":  {
                                           "codemirror_mode":  {
                                                                   "name":  "ipython",
                                                                   "version":  3
                                                               },
                                           "file_extension":  ".py",
                                           "mimetype":  "text/x-python",
                                           "name":  "python",
                                           "nbconvert_exporter":  "python",
                                           "pygments_lexer":  "ipython3",
                                           "version":  "3.10.7"
                                       },
                     "minecraft":  {
                                       "description":  "ЧК 2022",
                                       "page_id":  "1.1",
                                       "page_name":  "ЧК 2022",
                                       "style":  "minecraft.css"
                                   }
                 },
    "nbformat":  4,
    "nbformat_minor":  5
}
