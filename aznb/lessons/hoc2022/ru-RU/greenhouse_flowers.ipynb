﻿{
    "cells":  [
                  {
                      "cell_type":  "markdown",
                      "id":  "44001b61",
                      "metadata":  {

                                   },
                      "source":  [
                                     "# Посадка цветов\n",
                                     "\n",
                                     "Цветы на клумбе образуют узор. Определите нужный порядок и посадите цветы на свободное место, используя функцию `move_cusor()`, чтобы навести курсор, а затем `plant_flower()`, чтобы посадить цветок.\n",
                                     "\n",
                                     "Функция \u0027move_cursor()\u0027 поддерживает только один параметр, который определяет направление. Этот параметр — цвет стрелки, представляющий нужное направление движения.\n",
                                     "\n",
                                     "Допустимые направления:\n",
                                     "— `orange` (перемещает курсор вперед) ![Оранжевая стрелка](img/orange_arrow.png \"Оранжевая стрелка\")\n",
                                     "— `пурпурный` (перемещает курсор назад)  ![Пурпурная стрелка](img/magenta_arrow.png \"Пурпурная стрелка\")\n",
                                     "— `синий` (перемещает курсор влево)  ![Синяя стрелка](img/blue_arrow.png \"Синяя стрелка\")\n",
                                     "— `yellow` (перемещает курсор вправо) ![Желтая стрелка](img/yellow_arrow.png \"Желтая стрелка\")\n",
                                     "\n",
                                     "Функция \u0027plant_flower()\u0027 поддерживает только один параметр, который определяет, какой цветок вы собираетесь посадить.\n",
                                     "\n",
                                     "Допустимые цветы:\n",
                                     "- `blue` (синий) ![Синий цветок](img/blue_flower.png \"Синий цветок\")\n",
                                     "- `yellow` (желтый) ![Желтый цветок](img/yellow_flower.png \"Желтый цветок\")\n",
                                     "- `red` (красный) ![Красный цветок](img/red_flower.png \"Красный цветок\") "
                                 ]
                  },
                  {
                      "cell_type":  "code",
                      "execution_count":  null,
                      "id":  "1c8f47ac",
                      "metadata":  {
                                       "minecraft":  {
                                                         "closeCodeBuilderOnRun":  true,
                                                         "hidden":  false,
                                                         "onCodeCancelledCommand":  "scoreboard players set @s code_status 0",
                                                         "onCodeErrorCommand":  "scoreboard players set @s code_status 0",
                                                         "onCodeStartedCommand":  "scoreboard players set @s code_status 1",
                                                         "onCodeStoppedCommand":  "scoreboard players set @s code_status 0",
                                                         "onCodeSuccessfulCommand":  "scoreboard players set @s code_status 0",
                                                         "overridePython":  "import time\n\ntimeout = 0.100\ncommunicationPos = (0, 64, 0)\n\ntime.sleep(0.250)\n\ndef move_cursor(color):\n    if color == \"orange\":\n        world.set(communicationPos, \"orange concrete\")\n        time.sleep(timeout)\n    elif color == \"magenta\":\n        world.set(communicationPos, \"magenta concrete\")\n        time.sleep(timeout)\n    elif color == \"blue\":\n        world.set(communicationPos, \"light blue concrete\")\n        time.sleep(timeout)\n    elif color == \"yellow\":\n        world.set(communicationPos, \"yellow concrete\")\n        time.sleep(timeout)\n\ndef plant_flower(color):\n    if color==\"red\":\n        world.set(communicationPos, \"lime concrete\")\n        time.sleep(timeout)         \n    elif color==\"yellow\":\n        world.set(communicationPos, \"pink concrete\")\n        time.sleep(timeout)\n    elif color==\"blue\":\n        world.set(communicationPos, \"gray concrete\")\n        time.sleep(timeout)\n@user-code",
                                                         "readonly":  true
                                                     }
                                   },
                      "outputs":  [

                                  ],
                      "source":  [
                                     "# ПРИМЕР КОДА — ВЫ НЕ МОЖЕТЕ РЕДАКТИРОВАТЬ ЭТО\n",
                                     "# ЗАПУСТИТЕ, ЧТОБЫ УВИДЕТЬ, ЧТО ПРОИЗОЙДЕТ\n",
                                     "\n",
                                     "# переместить вправо и посадить синий цветок\n",
                                     "# 5 раз, затем переместить на один блок назад и\n",
                                     "# посадить красный цветок\n",
                                     "\n",
                                     "plant_flower(\"blue\")\n",
                                     "move_cursor(\"yellow\")\n",
                                     "plant_flower(\"blue\")\n",
                                     "move_cursor(\"yellow\")\n",
                                     "plant_flower(\"blue\")\n",
                                     "move_cursor(\"yellow\")\n",
                                     "plant_flower(\"blue\")\n",
                                     "move_cursor(\"yellow\")\n",
                                     "plant_flower(\"blue\")\n",
                                     "move_cursor(\"yellow\")\n",
                                     "move_cursor(\"magenta\")\n",
                                     "plant_flower(\"red\")"
                                 ]
                  },
                  {
                      "cell_type":  "markdown",
                      "id":  "7bf72b7f",
                      "metadata":  {

                                   },
                      "source":  [
                                     "# Совет:\n",
                                     "\n",
                                     "Используйте цикл \u0027for\u0027, чтобы выполнить одно или несколько действий несколько раз."
                                 ]
                  },
                  {
                      "cell_type":  "code",
                      "execution_count":  null,
                      "id":  "db97ed1f",
                      "metadata":  {
                                       "minecraft":  {
                                                         "closeCodeBuilderOnRun":  true,
                                                         "hidden":  false,
                                                         "onCodeCancelledCommand":  "scoreboard players set @s code_status 0",
                                                         "onCodeErrorCommand":  "scoreboard players set @s code_status 0",
                                                         "onCodeStartedCommand":  "scoreboard players set @s code_status 1",
                                                         "onCodeStoppedCommand":  "scoreboard players set @s code_status 0",
                                                         "onCodeSuccessfulCommand":  "scoreboard players set @s code_status 0",
                                                         "overridePython":  "import time\n\ntimeout = 0.100\ncommunicationPos = (0, 64, 0)\n\ntime.sleep(0.250)\n\ndef move_cursor(color):\n    if color == \"orange\":\n        world.set(communicationPos, \"orange concrete\")\n        time.sleep(timeout)\n    elif color == \"magenta\":\n        world.set(communicationPos, \"magenta concrete\")\n        time.sleep(timeout)\n    elif color == \"blue\":\n        world.set(communicationPos, \"light blue concrete\")\n        time.sleep(timeout)\n    elif color == \"yellow\":\n        world.set(communicationPos, \"yellow concrete\")\n        time.sleep(timeout)\n\ndef plant_flower(color):\n    if color==\"red\":\n        world.set(communicationPos, \"lime concrete\")\n        time.sleep(timeout)         \n    elif color==\"yellow\":\n        world.set(communicationPos, \"pink concrete\")\n        time.sleep(timeout)\n    elif color==\"blue\":\n        world.set(communicationPos, \"gray concrete\")\n        time.sleep(timeout)\n@user-code",
                                                         "readonly":  true
                                                     }
                                   },
                      "outputs":  [

                                  ],
                      "source":  [
                                     "# ПРИМЕР КОДА — ВЫ НЕ МОЖЕТЕ РЕДАКТИРОВАТЬ ЭТО\n",
                                     "# ЗАПУСТИТЕ, ЧТОБЫ УВИДЕТЬ, ЧТО ПРОИЗОЙДЕТ\n",
                                     "\n",
                                     "# переместить вправо и посадить синий цветок\n",
                                     "# 5 раз, затем переместить на один блок назад и\n",
                                     "# посадить красный цветок\n",
                                     "\n",
                                     "for i in range(5):\n",
                                     "    plant_flower(\"blue\")\n",
                                     "    move_cursor(\"yellow\")\n",
                                     "\n",
                                     "move_cursor(\"magenta\")\n",
                                     "plant_flower(\"red\")"
                                 ]
                  },
                  {
                      "cell_type":  "markdown",
                      "id":  "b2b2cb43",
                      "metadata":  {

                                   },
                      "source":  [
                                     "# Задание:\n",
                                     "\n",
                                     "Кажется, на цветочных клумбах, расположенных по бокам, есть какой-то узор! Должно быть, это подсказка, которая поможет заполнить большую клумбу посередине!\n",
                                     "\n",
                                     "Приведенный ниже код не работает. Сможете ли вы исправить его? Запустите код, чтобы увидеть результат, а затем займитесь отладкой и отредактируйте его так, чтобы это привело к правильному решению."
                                 ]
                  },
                  {
                      "cell_type":  "code",
                      "execution_count":  null,
                      "id":  "b6f4bd0e",
                      "metadata":  {
                                       "minecraft":  {
                                                         "closeCodeBuilderOnRun":  true,
                                                         "hidden":  false,
                                                         "onCodeCancelledCommand":  "scoreboard players set @s code_status 0",
                                                         "onCodeErrorCommand":  "scoreboard players set @s code_status 0",
                                                         "onCodeStartedCommand":  "scoreboard players set @s code_status 1",
                                                         "onCodeStoppedCommand":  "scoreboard players set @s code_status 0",
                                                         "onCodeSuccessfulCommand":  "scoreboard players set @s code_status 0",
                                                         "overridePython":  "import time\n\ntimeout = 0.100\ncommunicationPos = (0, 64, 0)\n\ntime.sleep(0.250)\n\ndef move_cursor(color):\n    if color == \"orange\":\n        world.set(communicationPos, \"orange concrete\")\n        time.sleep(timeout)\n    elif color == \"magenta\":\n        world.set(communicationPos, \"magenta concrete\")\n        time.sleep(timeout)\n    elif color == \"blue\":\n        world.set(communicationPos, \"light blue concrete\")\n        time.sleep(timeout)\n    elif color == \"yellow\":\n        world.set(communicationPos, \"yellow concrete\")\n        time.sleep(timeout)\n\ndef plant_flower(color):\n    if color==\"red\":\n        world.set(communicationPos, \"lime concrete\")\n        time.sleep(timeout)         \n    elif color==\"yellow\":\n        world.set(communicationPos, \"pink concrete\")\n        time.sleep(timeout)\n    elif color==\"blue\":\n        world.set(communicationPos, \"gray concrete\")\n        time.sleep(timeout)\n@user-code",
                                                         "readonly":  false
                                                     }
                                   },
                      "outputs":  [

                                  ],
                      "source":  [
                                     "# код здесь\n",
                                     "\n",
                                     "plant_flower(\"blue\")\n",
                                     "move_cursor(\"yellow\")\n",
                                     "move_cursor(\"yellow\")\n",
                                     "move_cursor(\"yellow\")\n",
                                     "move_cursor(\"magenta\")\n",
                                     "plant_flower(\"yellow\")\n",
                                     "move_cursor(\"blue\")\n",
                                     "move_cursor(\"magenta\")\n",
                                     "plant_flower(\"red\")\n"
                                 ]
                  }
              ],
    "metadata":  {
                     "celltoolbar":  "Edit Metadata",
                     "kernelspec":  {
                                        "display_name":  "Python 3 (ipykernel)",
                                        "language":  "python",
                                        "name":  "python3"
                                    },
                     "language_info":  {
                                           "codemirror_mode":  {
                                                                   "name":  "ipython",
                                                                   "version":  3
                                                               },
                                           "file_extension":  ".py",
                                           "mimetype":  "text/x-python",
                                           "name":  "python",
                                           "nbconvert_exporter":  "python",
                                           "pygments_lexer":  "ipython3",
                                           "version":  "3.10.7"
                                       },
                     "minecraft":  {
                                       "description":  "ЧК 2022",
                                       "page_id":  "1.1",
                                       "page_name":  "ЧК 2022",
                                       "style":  "minecraft.css"
                                   }
                 },
    "nbformat":  4,
    "nbformat_minor":  5
}
