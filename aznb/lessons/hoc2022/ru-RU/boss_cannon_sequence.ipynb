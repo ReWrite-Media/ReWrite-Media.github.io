﻿{
    "cells":  [
                  {
                      "cell_type":  "markdown",
                      "id":  "fdd844cf",
                      "metadata":  {

                                   },
                      "source":  [
                                     "# Пушки\n",
                                     "\n",
                                     "Агенты времени находятся под шаром времени! Они создали вокруг него защитные цветные кольца! Используйте функцию \u0027activate_cannon()\u0027, чтобы активировать цветные пушки в том же порядке, что и цветные кольца, и попытайтесь отключить шар времени!\n",
                                     "\n",
                                     "Функция \u0027activate_cannon()\u0027 поддерживает только один параметр, определяющий цвет пушки, которую вы хотите активировать.\n",
                                     "\n",
                                     "Допустимые цвета:\n",
                                     "— `blue` ![Синяя пушка](img/blue_cannon.png \"Синяя пушка\")\n",
                                     "— `yellow` ![Желтая пушка](img/yellow_cannon.png \"Желтая пушка\")\n",
                                     "— `magenta` ![Пурпурная пушка](img/magenta_cannon.png \"Пурпурная пушка\")\n",
                                     "— `green` ![Зеленая пушка](img/green_cannon.png \"Зеленая пушка\")"
                                 ]
                  },
                  {
                      "cell_type":  "code",
                      "execution_count":  null,
                      "id":  "fb9282d9",
                      "metadata":  {
                                       "minecraft":  {
                                                         "closeCodeBuilderOnRun":  true,
                                                         "hidden":  false,
                                                         "onCodeCancelledCommand":  "scoreboard players set @s code_status 0",
                                                         "onCodeErrorCommand":  "scoreboard players set @s code_status 0",
                                                         "onCodeStartedCommand":  "scoreboard players set @s code_status 1",
                                                         "onCodeStoppedCommand":  "scoreboard players set @s code_status 0",
                                                         "onCodeSuccessfulCommand":  "scoreboard players set @s code_status 0",
                                                         "overridePython":  "import time\n\ntimeout = 0.100\ncommunicationPos = (0, 64, 0)\n\ntime.sleep(0.250)\n\ndef activate_cannon(color):\n    if color==\"yellow\":\n        world.set(communicationPos, \"yellow concrete\")\n        time.sleep(timeout) \n    elif color==\"green\":\n        world.set(communicationPos, \"lime concrete\")\n        time.sleep(timeout)\n    elif color==\"blue\":\n        world.set(communicationPos, \"light blue concrete\")\n        time.sleep(timeout)\n    elif color==\"magenta\":\n        world.set(communicationPos, \"magenta concrete\")\n        time.sleep(timeout)\n@user-code",
                                                         "readonly":  true
                                                     }
                                   },
                      "outputs":  [

                                  ],
                      "source":  [
                                     "# ПРИМЕР КОДА — ВЫ НЕ МОЖЕТЕ РЕДАКТИРОВАТЬ ЭТО\n",
                                     "# ЗАПУСТИТЕ, ЧТОБЫ УВИДЕТЬ, ЧТО ПРОИЗОЙДЕТ\n",
                                     "\n",
                                     "# активировать синюю и желтую\n",
                                     "# пушки в таком порядке\n",
                                     "\n",
                                     "activate_cannon(\"blue\")\n",
                                     "activate_cannon(\"yellow\")"
                                 ]
                  },
                  {
                      "cell_type":  "markdown",
                      "id":  "8fc88ebe",
                      "metadata":  {

                                   },
                      "source":  [
                                     "# Задание:\n",
                                     "\n",
                                     "Похоже, цветные кольца, окружающие шар времени, расположены в определенном порядке — от самого большого к самому маленькому! Напишите программу, которая активирует пушки нужного цвета, и стреляйте по кольцам, чтобы отключить шар времени!\n",
                                     "\n",
                                     "Приведенный ниже код не работает. Сможете ли вы исправить его? Запустите код, чтобы увидеть результат, а затем займитесь отладкой и отредактируйте его так, чтобы это привело к правильному решению."
                                 ]
                  },
                  {
                      "cell_type":  "code",
                      "execution_count":  null,
                      "id":  "b6f4bd0e",
                      "metadata":  {
                                       "minecraft":  {
                                                         "closeCodeBuilderOnRun":  true,
                                                         "hidden":  false,
                                                         "onCodeCancelledCommand":  "scoreboard players set @s code_status 0",
                                                         "onCodeErrorCommand":  "scoreboard players set @s code_status 0",
                                                         "onCodeStartedCommand":  "scoreboard players set @s code_status 1",
                                                         "onCodeStoppedCommand":  "scoreboard players set @s code_status 0",
                                                         "onCodeSuccessfulCommand":  "scoreboard players set @s code_status 0",
                                                         "overridePython":  "import time\n\ntimeout = 0.100\ncommunicationPos = (0, 64, 0)\n\ntime.sleep(0.250)\n\ndef activate_cannon(color):\n    if color==\"yellow\":\n        world.set(communicationPos, \"yellow concrete\")\n        time.sleep(timeout) \n    elif color==\"green\":\n        world.set(communicationPos, \"lime concrete\")\n        time.sleep(timeout)\n    elif color==\"blue\":\n        world.set(communicationPos, \"light blue concrete\")\n        time.sleep(timeout)\n    elif color==\"magenta\":\n        world.set(communicationPos, \"magenta concrete\")\n        time.sleep(timeout)\n@user-code",
                                                         "readonly":  false
                                                     }
                                   },
                      "outputs":  [

                                  ],
                      "source":  [
                                     "# код здесь\n",
                                     "\n",
                                     "activate_cannon(\"blue\")\n",
                                     "activate_cannon(\"magenta\")\n"
                                 ]
                  }
              ],
    "metadata":  {
                     "celltoolbar":  "Edit Metadata",
                     "kernelspec":  {
                                        "display_name":  "Python 3 (ipykernel)",
                                        "language":  "python",
                                        "name":  "python3"
                                    },
                     "language_info":  {
                                           "codemirror_mode":  {
                                                                   "name":  "ipython",
                                                                   "version":  3
                                                               },
                                           "file_extension":  ".py",
                                           "mimetype":  "text/x-python",
                                           "name":  "python",
                                           "nbconvert_exporter":  "python",
                                           "pygments_lexer":  "ipython3",
                                           "version":  "3.10.7"
                                       },
                     "minecraft":  {
                                       "description":  "ЧК 2022",
                                       "page_id":  "1.1",
                                       "page_name":  "ЧК 2022",
                                       "style":  "minecraft.css"
                                   }
                 },
    "nbformat":  4,
    "nbformat_minor":  5
}
