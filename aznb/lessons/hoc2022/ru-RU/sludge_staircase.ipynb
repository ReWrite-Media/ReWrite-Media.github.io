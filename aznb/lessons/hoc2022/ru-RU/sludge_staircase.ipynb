﻿{
    "cells":  [
                  {
                      "cell_type":  "markdown",
                      "id":  "82cddf13",
                      "metadata":  {

                                   },
                      "source":  [
                                     "# Лестница\n",
                                     "\n",
                                     "Используйте курсор, чтобы построить лестницу для доступа к верхнему уровню! Используйте `move_cursor()` для позиционирования курсора и `place_block()`, чтобы поместить блок в выбранное положение.\n",
                                     "\n",
                                     "Функция \u0027move_cursor()\u0027 поддерживает только один параметр, который определяет направление. Этот параметр — цвет стрелки, представляющий нужное направление движения.\n",
                                     "\n",
                                     "Допустимые направления:\n",
                                     "— `orange` (перемещает курсор вверх) ![Оранжевая стрелка](img/orange_arrow.png \"Оранжевая стрелка\")\n",
                                     "— `magenta` (перемещает курсор вниз) ![Пурпурная стрелка](img/magenta_arrow.png \"Пурпурная стрелка\")\n",
                                     "— `синий` (перемещает курсор влево)  ![Синяя стрелка](img/blue_arrow.png \"Синяя стрелка\")\n",
                                     "— `желтый` (перемещает курсор вправо)  ![Желтая стрелка](img/yellow_arrow.png \"Желтая стрелка\")"
                                 ]
                  },
                  {
                      "cell_type":  "code",
                      "execution_count":  null,
                      "id":  "41d3a416",
                      "metadata":  {
                                       "minecraft":  {
                                                         "closeCodeBuilderOnRun":  true,
                                                         "hidden":  false,
                                                         "onCodeCancelledCommand":  "scoreboard players set @s code_status 0",
                                                         "onCodeErrorCommand":  "scoreboard players set @s code_status 0",
                                                         "onCodeStartedCommand":  "scoreboard players set @s code_status 1",
                                                         "onCodeStoppedCommand":  "scoreboard players set @s code_status 0",
                                                         "onCodeSuccessfulCommand":  "scoreboard players set @s code_status 0",
                                                         "overridePython":  "import time\n\ntimeout = 0.100\ncommunicationPos = (0, 64, 0)\n\ntime.sleep(0.250)\n\ndef move_cursor(color):\n    if color == \"orange\":\n        world.set(communicationPos, \"orange concrete\")\n        time.sleep(timeout)\n    elif color == \"magenta\":\n        world.set(communicationPos, \"magenta concrete\")\n        time.sleep(timeout)\n    elif color == \"blue\":\n        world.set(communicationPos, \"light blue concrete\")\n        time.sleep(timeout)\n    elif color == \"yellow\":\n        world.set(communicationPos, \"yellow concrete\")\n        time.sleep(timeout)\n\ndef place_block():\n    world.set(communicationPos, \"lime concrete\")\n    time.sleep(timeout) \n@user-code",
                                                         "readonly":  true
                                                     }
                                   },
                      "outputs":  [

                                  ],
                      "source":  [
                                     "# ПРИМЕР КОДА — ВЫ НЕ МОЖЕТЕ РЕДАКТИРОВАТЬ ЭТО\n",
                                     "# ЗАПУСТИТЕ, ЧТОБЫ УВИДЕТЬ, ЧТО ПРОИЗОЙДЕТ\n",
                                     "\n",
                                     "# поместить блок, переместить курсор\n",
                                     "# повторить действие два раза\n",
                                     "\n",
                                     "place_block()\n",
                                     "move_cursor(\"yellow\")\n",
                                     "place_block()\n",
                                     "move_cursor(\"yellow\")\n"
                                 ]
                  },
                  {
                      "cell_type":  "markdown",
                      "id":  "d844c9d1",
                      "metadata":  {

                                   },
                      "source":  [
                                     "# Совет:\n",
                                     "\n",
                                     "Используйте цикл \u0027for\u0027, чтобы выполнить одно или несколько действий несколько раз."
                                 ]
                  },
                  {
                      "cell_type":  "code",
                      "execution_count":  null,
                      "id":  "e62a6dce",
                      "metadata":  {
                                       "minecraft":  {
                                                         "closeCodeBuilderOnRun":  true,
                                                         "hidden":  false,
                                                         "onCodeCancelledCommand":  "scoreboard players set @s code_status 0",
                                                         "onCodeErrorCommand":  "scoreboard players set @s code_status 0",
                                                         "onCodeStartedCommand":  "scoreboard players set @s code_status 1",
                                                         "onCodeStoppedCommand":  "scoreboard players set @s code_status 0",
                                                         "onCodeSuccessfulCommand":  "scoreboard players set @s code_status 0",
                                                         "overridePython":  "import time\n\ntimeout = 0.100\ncommunicationPos = (0, 64, 0)\n\ntime.sleep(0.250)\n\ndef move_cursor(color):\n    if color == \"orange\":\n        world.set(communicationPos, \"orange concrete\")\n        time.sleep(timeout)\n    elif color == \"magenta\":\n        world.set(communicationPos, \"magenta concrete\")\n        time.sleep(timeout)\n    elif color == \"blue\":\n        world.set(communicationPos, \"light blue concrete\")\n        time.sleep(timeout)\n    elif color == \"yellow\":\n        world.set(communicationPos, \"yellow concrete\")\n        time.sleep(timeout)\n\ndef place_block():\n    world.set(communicationPos, \"lime concrete\")\n    time.sleep(timeout) \n@user-code",
                                                         "readonly":  true
                                                     }
                                   },
                      "outputs":  [

                                  ],
                      "source":  [
                                     "# ПРИМЕР КОДА — ВЫ НЕ МОЖЕТЕ РЕДАКТИРОВАТЬ ЭТО\n",
                                     "# ЗАПУСТИТЕ, ЧТОБЫ УВИДЕТЬ, ЧТО ПРОИЗОЙДЕТ\n",
                                     "\n",
                                     "# поместить блок, переместить курсор\n",
                                     "# повторить действие два раза\n",
                                     "\n",
                                     "for i in range(2):\n",
                                     "    place_block()\n",
                                     "    move_cursor(\"yellow\")\n"
                                 ]
                  },
                  {
                      "cell_type":  "markdown",
                      "id":  "65041841",
                      "metadata":  {

                                   },
                      "source":  [
                                     "# Задание:\n",
                                     "\n",
                                     "Используйте курсор для создания лестницы, чтобы добраться до следующей области.\n",
                                     "\n",
                                     "Приведенный ниже код не работает. Сможете ли вы исправить его? Запустите код, чтобы увидеть результат, а затем займитесь отладкой и отредактируйте его так, чтобы это привело к правильному решению."
                                 ]
                  },
                  {
                      "cell_type":  "code",
                      "execution_count":  null,
                      "id":  "b6f4bd0e",
                      "metadata":  {
                                       "minecraft":  {
                                                         "closeCodeBuilderOnRun":  true,
                                                         "hidden":  false,
                                                         "onCodeCancelledCommand":  "scoreboard players set @s code_status 0",
                                                         "onCodeErrorCommand":  "scoreboard players set @s code_status 0",
                                                         "onCodeStartedCommand":  "scoreboard players set @s code_status 1",
                                                         "onCodeStoppedCommand":  "scoreboard players set @s code_status 0",
                                                         "onCodeSuccessfulCommand":  "scoreboard players set @s code_status 0",
                                                         "overridePython":  "import time\n\ntimeout = 0.100\ncommunicationPos = (0, 64, 0)\n\ntime.sleep(0.250)\n\ndef move_cursor(color):\n    if color == \"orange\":\n        world.set(communicationPos, \"orange concrete\")\n        time.sleep(timeout)\n    elif color == \"magenta\":\n        world.set(communicationPos, \"magenta concrete\")\n        time.sleep(timeout)\n    elif color == \"blue\":\n        world.set(communicationPos, \"light blue concrete\")\n        time.sleep(timeout)\n    elif color == \"yellow\":\n        world.set(communicationPos, \"yellow concrete\")\n        time.sleep(timeout)\n\ndef place_block():\n    world.set(communicationPos, \"lime concrete\")\n    time.sleep(timeout) \n@user-code",
                                                         "readonly":  false
                                                     }
                                   },
                      "outputs":  [

                                  ],
                      "source":  [
                                     "# код здесь\n",
                                     "\n",
                                     "place_block()\n",
                                     "move_cursor(\"yellow\")\n",
                                     "move_cursor(\"yellow\")\n",
                                     "place_block()\n"
                                 ]
                  }
              ],
    "metadata":  {
                     "celltoolbar":  "Edit Metadata",
                     "kernelspec":  {
                                        "display_name":  "Python 3 (ipykernel)",
                                        "language":  "python",
                                        "name":  "python3"
                                    },
                     "language_info":  {
                                           "codemirror_mode":  {
                                                                   "name":  "ipython",
                                                                   "version":  3
                                                               },
                                           "file_extension":  ".py",
                                           "mimetype":  "text/x-python",
                                           "name":  "python",
                                           "nbconvert_exporter":  "python",
                                           "pygments_lexer":  "ipython3",
                                           "version":  "3.10.7"
                                       },
                     "minecraft":  {
                                       "description":  "ЧК 2022",
                                       "page_id":  "1.1",
                                       "page_name":  "ЧК 2022",
                                       "style":  "minecraft.css"
                                   }
                 },
    "nbformat":  4,
    "nbformat_minor":  5
}
