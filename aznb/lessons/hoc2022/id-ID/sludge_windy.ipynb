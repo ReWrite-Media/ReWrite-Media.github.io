﻿{
    "cells":  [
                  {
                      "cell_type":  "markdown",
                      "id":  "557185e1",
                      "metadata":  {

                                   },
                      "source":  [
                                     "# Jembatan Berangin\n",
                                     "\n",
                                     "Kamu harus menyeberangi jembatan, tetapi anginnya terlalu kencang! Kamu harus menempatkan blok di dalam lubang tempat angin berasal untuk menghalanginya. Gunakan `move_cursor()` untuk memosisikan kursor dan `place_block()` untuk menempatkan blok di posisi yang kamu pilih.\n",
                                     "\n",
                                     "Fungsi `move_cursor()` mengambil satu parameter yang menentukan arahnya. Parameter itu adalah warna panah yang mewakili arah kamu ingin bergerak.\n",
                                     "\n",
                                     "Arah yang valid adalah:\n",
                                     "- `orange` (oranye) (menggerakkan kursor ke atas) ![Panah Oranye](img/orange_arrow.png \"Panah Oranye\")\n",
                                     "- `magenta` (magenta) (menggerakkan kursor ke bawah) ![Panah Magenta](img/magenta_arrow.png \"Magenta Arrow\")\n",
                                     "- `blue` (biru) (menggerakkan kursor ke kiri) ![Panah Biru](img/blue_arrow.png \"Panah Biru\")\n",
                                     "- `yellow` (kuning) (menggerakkan kursor ke kanan) ![Panah Kuning](img/yellow_arrow.png \"Panah Kuning\")"
                                 ]
                  },
                  {
                      "cell_type":  "code",
                      "execution_count":  null,
                      "id":  "4540d55a",
                      "metadata":  {
                                       "minecraft":  {
                                                         "closeCodeBuilderOnRun":  true,
                                                         "hidden":  false,
                                                         "onCodeCancelledCommand":  "scoreboard players set @s code_status 0",
                                                         "onCodeErrorCommand":  "scoreboard players set @s code_status 0",
                                                         "onCodeStartedCommand":  "scoreboard players set @s code_status 1",
                                                         "onCodeStoppedCommand":  "scoreboard players set @s code_status 0",
                                                         "onCodeSuccessfulCommand":  "scoreboard players set @s code_status 0",
                                                         "overridePython":  "import time\n\ntimeout = 0.100\ncommunicationPos = (0, 64, 0)\n\ntime.sleep(0.250)\n\ndef move_cursor(color):\n    if color == \"orange\":\n        world.set(communicationPos, \"orange concrete\")\n        time.sleep(timeout)\n    elif color == \"magenta\":\n        world.set(communicationPos, \"magenta concrete\")\n        time.sleep(timeout)\n    elif color == \"blue\":\n        world.set(communicationPos, \"light blue concrete\")\n        time.sleep(timeout)\n    elif color == \"yellow\":\n        world.set(communicationPos, \"yellow concrete\")\n        time.sleep(timeout)\n\ndef place_block():\n    world.set(communicationPos, \"lime concrete\")\n    time.sleep(timeout) \n@user-code",
                                                         "readonly":  true
                                                     }
                                   },
                      "outputs":  [

                                  ],
                      "source":  [
                                     "# CONTOH KODE - KAMU TIDAK DAPAT MENGEDIT DI SINI\n",
                                     "# JALANKAN UNTUK MELIHAT APA YANG TERJADI\n",
                                     "\n",
                                     "# gerakkan kursor ke kanan 1 blok,\n",
                                     "# tempatkan blok, lalu gerakkan kursor\n",
                                     "# kanan 4 kali lagi.\n",
                                     "\n",
                                     "move_cursor(\"yellow\")\n",
                                     "place_block()\n",
                                     "move_cursor(\"yellow\")\n",
                                     "move_cursor(\"yellow\")\n",
                                     "move_cursor(\"yellow\")\n",
                                     "move_cursor(\"yellow\")"
                                 ]
                  },
                  {
                      "cell_type":  "markdown",
                      "id":  "6a21fa82",
                      "metadata":  {

                                   },
                      "source":  [
                                     "# Aktivitas:\n",
                                     "\n",
                                     "Isi semua lubang yang menjadi asal tiupan angin sehingga kamu bisa menyeberangi jembatan dengan aman!\n",
                                     "\n",
                                     "Kode di bawah ini rusak, bisakah kamu memperbaikinya? Debug kode dengan menjalankannya untuk melihat apa yang dilakukannya, lalu edit sehingga kamu mendapatkan hasil yang diinginkan."
                                 ]
                  },
                  {
                      "cell_type":  "code",
                      "execution_count":  null,
                      "id":  "b6f4bd0e",
                      "metadata":  {
                                       "minecraft":  {
                                                         "closeCodeBuilderOnRun":  true,
                                                         "hidden":  false,
                                                         "onCodeCancelledCommand":  "scoreboard players set @s code_status 0",
                                                         "onCodeErrorCommand":  "scoreboard players set @s code_status 0",
                                                         "onCodeStartedCommand":  "scoreboard players set @s code_status 1",
                                                         "onCodeStoppedCommand":  "scoreboard players set @s code_status 0",
                                                         "onCodeSuccessfulCommand":  "scoreboard players set @s code_status 0",
                                                         "overridePython":  "import time\n\ntimeout = 0.100\ncommunicationPos = (0, 64, 0)\n\ntime.sleep(0.250)\n\ndef move_cursor(color):\n    if color == \"orange\":\n        world.set(communicationPos, \"orange concrete\")\n        time.sleep(timeout)\n    elif color == \"magenta\":\n        world.set(communicationPos, \"magenta concrete\")\n        time.sleep(timeout)\n    elif color == \"blue\":\n        world.set(communicationPos, \"light blue concrete\")\n        time.sleep(timeout)\n    elif color == \"yellow\":\n        world.set(communicationPos, \"yellow concrete\")\n        time.sleep(timeout)\n\ndef place_block():\n    world.set(communicationPos, \"lime concrete\")\n    time.sleep(timeout) \n@user-code",
                                                         "readonly":  false
                                                     }
                                   },
                      "outputs":  [

                                  ],
                      "source":  [
                                     "# kode di sini\n",
                                     "\n",
                                     "move_cursor(\"yellow\")\n",
                                     "place_block()\n"
                                 ]
                  }
              ],
    "metadata":  {
                     "celltoolbar":  "Edit Metadata",
                     "kernelspec":  {
                                        "display_name":  "Python 3 (ipykernel)",
                                        "language":  "python",
                                        "name":  "python3"
                                    },
                     "language_info":  {
                                           "codemirror_mode":  {
                                                                   "name":  "ipython",
                                                                   "version":  3
                                                               },
                                           "file_extension":  ".py",
                                           "mimetype":  "text/x-python",
                                           "name":  "python",
                                           "nbconvert_exporter":  "python",
                                           "pygments_lexer":  "ipython3",
                                           "version":  "3.10.7"
                                       },
                     "minecraft":  {
                                       "description":  "HOC 2022",
                                       "page_id":  "1.1",
                                       "page_name":  "HOC 2022",
                                       "style":  "minecraft.css"
                                   }
                 },
    "nbformat":  4,
    "nbformat_minor":  5
}
