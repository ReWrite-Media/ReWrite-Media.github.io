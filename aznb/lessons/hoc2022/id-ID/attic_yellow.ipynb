﻿{
    "cells":  [
                  {
                      "cell_type":  "markdown",
                      "id":  "6082a739",
                      "metadata":  {

                                   },
                      "source":  [
                                     "# Tutorial Loteng (Jalur Kuning)\n",
                                     "\n",
                                     "Kamu harus memberi lebih banyak kekuatan kepada Agent untuk membuka pintu Kuning! Ada pintu perangkap di atas Agent yang menghalangi cahaya bulan masuk. Mungkin kamu bisa menggunakannya untuk mengisi daya Agent? Gunakan fungsi `move_cursor()` untuk memosisikan kursor dan `open_trapdoor()` untuk membuka pintu perangkap yang dipilih.\n",
                                     "\n",
                                     "Fungsi `move_cursor()` mengambil satu parameter yang menentukan arahnya. Parameter itu adalah warna panah yang mewakili arah kamu ingin bergerak.\n",
                                     "\n",
                                     "Arah yang valid adalah:\n",
                                     "- `orange` (oranye) (menggerakkan kursor ke depan) ![Panah Oranye](img/orange_arrow.png \"Panah Oranye\")\n",
                                     "- `magenta` (magenta) (menggerakkan kursor ke belakang) ![Panah Magenta](img/magenta_arrow.png \"Panah Magenta\")\n",
                                     "- `blue` (biru) (menggerakkan kursor ke kiri) ![Panah Biru](img/blue_arrow.png \"Panah Biru\")\n",
                                     "- `yellow` (kuning) (menggerakkan kursor ke kanan) ![Panah Kuning](img/yellow_arrow.png \"Panah Kuning\")"
                                 ]
                  },
                  {
                      "cell_type":  "code",
                      "execution_count":  null,
                      "id":  "40be8d5a",
                      "metadata":  {
                                       "minecraft":  {
                                                         "closeCodeBuilderOnRun":  true,
                                                         "hidden":  false,
                                                         "onCodeCancelledCommand":  "scoreboard players set @s code_status 0",
                                                         "onCodeErrorCommand":  "scoreboard players set @s code_status 0",
                                                         "onCodeStartedCommand":  "scoreboard players set @s code_status 1",
                                                         "onCodeStoppedCommand":  "scoreboard players set @s code_status 0",
                                                         "onCodeSuccessfulCommand":  "scoreboard players set @s code_status 0",
                                                         "overridePython":  "import time\n\ntimeout = 0.100\ncommunicationPos = (0, 64, 0)\n\ntime.sleep(0.250)\n\ndef move_cursor(color):\n    if color == \"orange\":\n        world.set(communicationPos, \"orange concrete\")\n        time.sleep(timeout)\n    elif color == \"magenta\":\n        world.set(communicationPos, \"magenta concrete\")\n        time.sleep(timeout)\n    elif color == \"blue\":\n        world.set(communicationPos, \"light blue concrete\")\n        time.sleep(timeout)\n    elif color == \"yellow\":\n        world.set(communicationPos, \"yellow concrete\")\n        time.sleep(timeout)\n\ndef open_trapdoor():\n    world.set(communicationPos, \"lime concrete\")\n    time.sleep(timeout) \n@user-code",
                                                         "readonly":  true
                                                     }
                                   },
                      "outputs":  [

                                  ],
                      "source":  [
                                     "# CONTOH KODE - KAMU TIDAK DAPAT MENGEDIT DI SINI\n",
                                     "# JALANKAN UNTUK MELIHAT APA YANG TERJADI\n",
                                     "\n",
                                     "# buka pintu perangkap pertama dan\n",
                                     "# lalu gerakkan Agent 4 blok ke depan\n",
                                     "\n",
                                     "open_trapdoor()\n",
                                     "move_cursor(\"yellow\")\n",
                                     "move_cursor(\"yellow\")\n",
                                     "move_cursor(\"yellow\")\n",
                                     "move_cursor(\"yellow\")"
                                 ]
                  },
                  {
                      "cell_type":  "markdown",
                      "id":  "b0b57e37",
                      "metadata":  {

                                   },
                      "source":  [
                                     "# Tips Pro:\n",
                                     "\n",
                                     "Gunakan perulangan `for` (untuk) untuk melakukan satu atau lebih tindakan beberapa kali."
                                 ]
                  },
                  {
                      "cell_type":  "code",
                      "execution_count":  null,
                      "id":  "e38faaf6",
                      "metadata":  {
                                       "minecraft":  {
                                                         "closeCodeBuilderOnRun":  true,
                                                         "hidden":  false,
                                                         "onCodeCancelledCommand":  "scoreboard players set @s code_status 0",
                                                         "onCodeErrorCommand":  "scoreboard players set @s code_status 0",
                                                         "onCodeStartedCommand":  "scoreboard players set @s code_status 1",
                                                         "onCodeStoppedCommand":  "scoreboard players set @s code_status 0",
                                                         "onCodeSuccessfulCommand":  "scoreboard players set @s code_status 0",
                                                         "overridePython":  "import time\n\ntimeout = 0.100\ncommunicationPos = (0, 64, 0)\n\ntime.sleep(0.250)\n\ndef move_cursor(color):\n    if color == \"orange\":\n        world.set(communicationPos, \"orange concrete\")\n        time.sleep(timeout)\n    elif color == \"magenta\":\n        world.set(communicationPos, \"magenta concrete\")\n        time.sleep(timeout)\n    elif color == \"blue\":\n        world.set(communicationPos, \"light blue concrete\")\n        time.sleep(timeout)\n    elif color == \"yellow\":\n        world.set(communicationPos, \"yellow concrete\")\n        time.sleep(timeout)\n\ndef open_trapdoor():\n    world.set(communicationPos, \"lime concrete\")\n    time.sleep(timeout) \n@user-code",
                                                         "readonly":  true
                                                     }
                                   },
                      "outputs":  [

                                  ],
                      "source":  [
                                     "# CONTOH KODE - KAMU TIDAK DAPAT MENGEDIT DI SINI\n",
                                     "# JALANKAN UNTUK MELIHAT APA YANG TERJADI\n",
                                     "\n",
                                     "# buka pintu perangkap pertama dan\n",
                                     "# lalu gerakkan Agent 4 blok ke depan\n",
                                     "\n",
                                     "open_trapdoor()\n",
                                     "\n",
                                     "for i in range(4):\n",
                                     "    move_cursor(\"yellow\")"
                                 ]
                  },
                  {
                      "cell_type":  "markdown",
                      "id":  "f08f8db3",
                      "metadata":  {

                                   },
                      "source":  [
                                     "# Aktivitas:\n",
                                     "\n",
                                     "Kita perlu memberi lebih banyak kekuatan kepada Agent! Pintu perangkap di langit-langit itu membiarkan sedikit cahaya bulan masuk. Mungkin membukanya menggunakan kode akan cukup untuk mengisi daya Agent!\n",
                                     "\n",
                                     "Kode yang disertakan di bawah ini rusak. Bisakah kamu memperbaikinya? Jalankan kode untuk melihat apa yang terjadi, lalu debug dengan mengeditnya ke solusi yang benar."
                                 ]
                  },
                  {
                      "cell_type":  "code",
                      "execution_count":  null,
                      "id":  "b6f4bd0e",
                      "metadata":  {
                                       "minecraft":  {
                                                         "closeCodeBuilderOnRun":  true,
                                                         "hidden":  false,
                                                         "onCodeCancelledCommand":  "scoreboard players set @s code_status 0",
                                                         "onCodeErrorCommand":  "scoreboard players set @s code_status 0",
                                                         "onCodeStartedCommand":  "scoreboard players set @s code_status 1",
                                                         "onCodeStoppedCommand":  "scoreboard players set @s code_status 0",
                                                         "onCodeSuccessfulCommand":  "scoreboard players set @s code_status 0",
                                                         "overridePython":  "import time\n\ntimeout = 0.100\ncommunicationPos = (0, 64, 0)\n\ntime.sleep(0.250)\n\ndef move_cursor(color):\n    if color == \"orange\":\n        world.set(communicationPos, \"orange concrete\")\n        time.sleep(timeout)\n    elif color == \"magenta\":\n        world.set(communicationPos, \"magenta concrete\")\n        time.sleep(timeout)\n    elif color == \"blue\":\n        world.set(communicationPos, \"light blue concrete\")\n        time.sleep(timeout)\n    elif color == \"yellow\":\n        world.set(communicationPos, \"yellow concrete\")\n        time.sleep(timeout)\n\ndef open_trapdoor():\n    world.set(communicationPos, \"lime concrete\")\n    time.sleep(timeout) \n@user-code",
                                                         "readonly":  false
                                                     }
                                   },
                      "outputs":  [

                                  ],
                      "source":  [
                                     "# kode di sini\n",
                                     "\n",
                                     "open_trapdoor()\n",
                                     "move_cursor(\"yellow\")\n",
                                     "move_cursor(\"yellow\")\n",
                                     "move_cursor(\"orange\")\n"
                                 ]
                  }
              ],
    "metadata":  {
                     "celltoolbar":  "Edit Metadata",
                     "kernelspec":  {
                                        "display_name":  "Python 3 (ipykernel)",
                                        "language":  "python",
                                        "name":  "python3"
                                    },
                     "language_info":  {
                                           "codemirror_mode":  {
                                                                   "name":  "ipython",
                                                                   "version":  3
                                                               },
                                           "file_extension":  ".py",
                                           "mimetype":  "text/x-python",
                                           "name":  "python",
                                           "nbconvert_exporter":  "python",
                                           "pygments_lexer":  "ipython3",
                                           "version":  "3.10.7"
                                       },
                     "minecraft":  {
                                       "description":  "HOC 2022",
                                       "page_id":  "1.1",
                                       "page_name":  "HOC 2022",
                                       "style":  "minecraft.css"
                                   }
                 },
    "nbformat":  4,
    "nbformat_minor":  5
}
