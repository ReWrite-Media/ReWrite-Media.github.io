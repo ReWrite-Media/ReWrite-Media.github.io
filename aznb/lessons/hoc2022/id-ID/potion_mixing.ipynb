﻿{
    "cells":  [
                  {
                      "cell_type":  "markdown",
                      "id":  "07d89aae",
                      "metadata":  {

                                   },
                      "source":  [
                                     "# Pencampuran Ramuan\n",
                                     "\n",
                                     "Sepertinya kamu bisa membuat sesuatu di sini! Mungkin ada resep ramuan di suatu tempat di ruangan ini yang bisa membantu? Temukan resep, lalu gunakan fungsi `summon_item()` untuk memanggil bahan-bahan dalam urutan yang benar untuk melengkapi ramuan!\n",
                                     "\n",
                                     "Fungsi `summon_item()` mengambil satu parameter untuk menentukan item mana yang harus dipanggil.\n",
                                     "\n",
                                     "Item yang valid adalah:\n",
                                     "- `netherwart` ![Netherwart] (img/netherwart.png \"Netherwart\")\n",
                                     "- `fermented spider eye` ![Mata Laba-laba Fermentasi] (img/fermented_spider_eye.png \"Mata Laba-laba Fermentasi\")\n",
                                     "- `phantom membrane` ![Membran Hantu] (img/phantom_membrane.png \"Membran Hantu\")\n"
                                 ]
                  },
                  {
                      "cell_type":  "code",
                      "execution_count":  null,
                      "id":  "c319c10e",
                      "metadata":  {
                                       "minecraft":  {
                                                         "closeCodeBuilderOnRun":  true,
                                                         "hidden":  false,
                                                         "onCodeCancelledCommand":  "scoreboard players set @s code_status 0",
                                                         "onCodeErrorCommand":  "scoreboard players set @s code_status 0",
                                                         "onCodeStartedCommand":  "scoreboard players set @s code_status 1",
                                                         "onCodeStoppedCommand":  "scoreboard players set @s code_status 0",
                                                         "onCodeSuccessfulCommand":  "scoreboard players set @s code_status 0",
                                                         "overridePython":  "import time\n\ntimeout = 0.100\ncommunicationPos = (0, 64, 0)\n\ntime.sleep(0.250)\n\ndef summon_item(item):\n    if item==\"netherwart\":\n        world.set(communicationPos, \"orange concrete\")\n        time.sleep(timeout)         \n    elif item==\"phantom membrane\":\n        world.set(communicationPos, \"magenta concrete\")\n        time.sleep(timeout)\n    elif item==\"fermented spider eye\":\n        world.set(communicationPos, \"light blue concrete\")\n        time.sleep(timeout)\n@user-code",
                                                         "readonly":  true
                                                     }
                                   },
                      "outputs":  [

                                  ],
                      "source":  [
                                     "# CONTOH KODE - KAMU TIDAK DAPAT MENGEDIT DI SINI\n",
                                     "# JALANKAN UNTUK MELIHAT APA YANG TERJADI\n",
                                     "\n",
                                     "# panggil satu netherwart\n",
                                     "\n",
                                     "summon_item(\"netherwart\")"
                                 ]
                  },
                  {
                      "cell_type":  "markdown",
                      "id":  "6a387d30",
                      "metadata":  {

                                   },
                      "source":  [
                                     "# Aktivitas:\n",
                                     "\n",
                                     "Cari resep ramuan di ruangan, lalu panggil bahan-bahannya dengan urutan yang benar untuk menjatuhkannya ke dalam kaldron dan membuat ramuan!\n",
                                     "\n",
                                     "Kode yang disertakan di bawah ini rusak. Bisakah kamu memperbaikinya? Jalankan kode untuk melihat apa yang terjadi, lalu debug dengan mengeditnya ke solusi yang benar."
                                 ]
                  },
                  {
                      "cell_type":  "code",
                      "execution_count":  null,
                      "id":  "b6f4bd0e",
                      "metadata":  {
                                       "minecraft":  {
                                                         "closeCodeBuilderOnRun":  true,
                                                         "hidden":  false,
                                                         "onCodeCancelledCommand":  "scoreboard players set @s code_status 0",
                                                         "onCodeErrorCommand":  "scoreboard players set @s code_status 0",
                                                         "onCodeStartedCommand":  "scoreboard players set @s code_status 1",
                                                         "onCodeStoppedCommand":  "scoreboard players set @s code_status 0",
                                                         "onCodeSuccessfulCommand":  "scoreboard players set @s code_status 0",
                                                         "overridePython":  "import time\n\ntimeout = 0.100\ncommunicationPos = (0, 64, 0)\n\ntime.sleep(0.250)\n\ndef summon_item(item):\n    if item==\"netherwart\":\n        world.set(communicationPos, \"orange concrete\")\n        time.sleep(timeout)         \n    elif item==\"phantom membrane\":\n        world.set(communicationPos, \"magenta concrete\")\n        time.sleep(timeout)\n    elif item==\"fermented spider eye\":\n        world.set(communicationPos, \"light blue concrete\")\n        time.sleep(timeout)\n@user-code",
                                                         "readonly":  false
                                                     }
                                   },
                      "outputs":  [

                                  ],
                      "source":  [
                                     "# kode di sini\n",
                                     "\n",
                                     "summon_item(\"netherwart\")\n",
                                     "summon_item(\"phantom membrane\")"
                                 ]
                  }
              ],
    "metadata":  {
                     "celltoolbar":  "Edit Metadata",
                     "kernelspec":  {
                                        "display_name":  "Python 3 (ipykernel)",
                                        "language":  "python",
                                        "name":  "python3"
                                    },
                     "language_info":  {
                                           "codemirror_mode":  {
                                                                   "name":  "ipython",
                                                                   "version":  3
                                                               },
                                           "file_extension":  ".py",
                                           "mimetype":  "text/x-python",
                                           "name":  "python",
                                           "nbconvert_exporter":  "python",
                                           "pygments_lexer":  "ipython3",
                                           "version":  "3.10.7"
                                       },
                     "minecraft":  {
                                       "description":  "HOC 2022",
                                       "page_id":  "1.1",
                                       "page_name":  "HOC 2022",
                                       "style":  "minecraft.css"
                                   }
                 },
    "nbformat":  4,
    "nbformat_minor":  5
}
