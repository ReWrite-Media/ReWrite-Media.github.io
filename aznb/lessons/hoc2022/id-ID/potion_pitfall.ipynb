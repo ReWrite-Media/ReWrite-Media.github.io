﻿{
    "cells":  [
                  {
                      "cell_type":  "markdown",
                      "id":  "145bed8e",
                      "metadata":  {

                                   },
                      "source":  [
                                     "# Jebakan\n",
                                     "\n",
                                     "Woah, kaki, tak perlu lagi berguling untuk golem ini! Kita perlu membantunya mencari arah yang aman ke blok zamrud. Ketika golem bergerak ke pelat tekanan, blok yang dibutuhkannya ditarik sejenak. Jika kita menunggu, blok sepertinya akan kembali! Gunakan fungsi `move_golem_forward()` untuk memindahkan golem dan fungsi `wait()` untuk membuatnya menunggu blok kembali!"
                                 ]
                  },
                  {
                      "cell_type":  "code",
                      "execution_count":  null,
                      "id":  "e5dcd9e8",
                      "metadata":  {
                                       "minecraft":  {
                                                         "closeCodeBuilderOnRun":  true,
                                                         "hidden":  false,
                                                         "onCodeCancelledCommand":  "scoreboard players set @s code_status 0",
                                                         "onCodeErrorCommand":  "scoreboard players set @s code_status 0",
                                                         "onCodeStartedCommand":  "scoreboard players set @s code_status 1",
                                                         "onCodeStoppedCommand":  "scoreboard players set @s code_status 0",
                                                         "onCodeSuccessfulCommand":  "scoreboard players set @s code_status 0",
                                                         "overridePython":  "import time\n\ntimeout = 0.100\ncommunicationPos = (0, 64, 0)\n\ntime.sleep(0.250)\n\ndef move_golem_forward():\n    world.set(communicationPos, \"orange concrete\")\n    time.sleep(timeout)     \n\ndef wait():\n    world.set(communicationPos, \"magenta concrete\")\n    time.sleep(timeout)   \n@user-code",
                                                         "readonly":  true
                                                     }
                                   },
                      "outputs":  [

                                  ],
                      "source":  [
                                     "# CONTOH KODE - KAMU TIDAK DAPAT MENGEDIT DI SINI\n",
                                     "# JALANKAN UNTUK MELIHAT APA YANG TERJADI\n",
                                     "\n",
                                     "# gerakkan golem ke depan sebanyak 2 ruang\n",
                                     "# tunggu satu detik lalu bergerak\n",
                                     "# 2 ruang lagi\n",
                                     "\n",
                                     "move_golem_forward()\n",
                                     "move_golem_forward()\n",
                                     "wait()\n",
                                     "move_golem_forward()\n",
                                     "move_golem_forward()"
                                 ]
                  },
                  {
                      "cell_type":  "markdown",
                      "id":  "64663469",
                      "metadata":  {

                                   },
                      "source":  [
                                     "# Aktivitas:\n",
                                     "\n",
                                     "Gerakkan golem ke akhir tanpa jatuh ke dalam lubang. Pastikan untuk menunggu blok kembali setelah golem berdiri di atas pelat tekanan.\n",
                                     "\n",
                                     "Kode yang disertakan di bawah ini rusak. Bisakah kamu memperbaikinya? Jalankan kode untuk melihat apa yang terjadi, lalu debug dengan mengeditnya ke solusi yang benar."
                                 ]
                  },
                  {
                      "cell_type":  "code",
                      "execution_count":  null,
                      "id":  "b6f4bd0e",
                      "metadata":  {
                                       "minecraft":  {
                                                         "closeCodeBuilderOnRun":  true,
                                                         "hidden":  false,
                                                         "onCodeCancelledCommand":  "scoreboard players set @s code_status 0",
                                                         "onCodeErrorCommand":  "scoreboard players set @s code_status 0",
                                                         "onCodeStartedCommand":  "scoreboard players set @s code_status 1",
                                                         "onCodeStoppedCommand":  "scoreboard players set @s code_status 0",
                                                         "onCodeSuccessfulCommand":  "scoreboard players set @s code_status 0",
                                                         "overridePython":  "import time\n\ntimeout = 0.100\ncommunicationPos = (0, 64, 0)\n\ntime.sleep(0.250)\n\ndef move_golem_forward():\n    world.set(communicationPos, \"orange concrete\")\n    time.sleep(timeout)     \n\ndef wait():\n    world.set(communicationPos, \"magenta concrete\")\n    time.sleep(timeout)   \n@user-code",
                                                         "readonly":  false
                                                     }
                                   },
                      "outputs":  [

                                  ],
                      "source":  [
                                     "# kode di sini\n",
                                     "\n",
                                     "move_golem_forward()\n",
                                     "move_golem_forward()\n",
                                     "wait()\n",
                                     "move_golem_forward()\n",
                                     "move_golem_forward()\n",
                                     "move_golem_forward()\n"
                                 ]
                  }
              ],
    "metadata":  {
                     "celltoolbar":  "Edit Metadata",
                     "kernelspec":  {
                                        "display_name":  "Python 3 (ipykernel)",
                                        "language":  "python",
                                        "name":  "python3"
                                    },
                     "language_info":  {
                                           "codemirror_mode":  {
                                                                   "name":  "ipython",
                                                                   "version":  3
                                                               },
                                           "file_extension":  ".py",
                                           "mimetype":  "text/x-python",
                                           "name":  "python",
                                           "nbconvert_exporter":  "python",
                                           "pygments_lexer":  "ipython3",
                                           "version":  "3.10.7"
                                       },
                     "minecraft":  {
                                       "description":  "HOC 2022",
                                       "page_id":  "1.1",
                                       "page_name":  "HOC 2022",
                                       "style":  "minecraft.css"
                                   }
                 },
    "nbformat":  4,
    "nbformat_minor":  5
}
