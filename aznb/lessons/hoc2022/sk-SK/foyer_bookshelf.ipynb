﻿{
    "cells":  [
                  {
                      "cell_type":  "markdown",
                      "id":  "6b956074",
                      "metadata":  {

                                   },
                      "source":  [
                                     "# Knižničné schodisko\n",
                                     "\n",
                                     "Zdá sa, že v hornej časti knižnice niečo je. Zistite, či by ste mohli vytvoriť spôsob, ako sa tam dostať. Použite \"posunúť_kurzor()\" na umiestnenie kurzora a \"umiestniť_blok()\" na umiestnenie bloku do vybratej pozície.\n",
                                     "\n",
                                     "Funkcia \"posunúť_kurzor()\" má jeden parameter, ktorý definuje jej smer. Tento parameter je farba šípu, ktorý predstavuje smer, ktorým sa chcete pohybovať.\n",
                                     "\n",
                                     "Platné smery sú:\n",
                                     "- `orange` (oranžová) (posunie kurzor nahor)  ![Oranžový šíp] (img/orange_arrow.png \"Oranžový šíp\")\n",
                                     "- `magenta` (purpurová) (posunie kurzor nadol)  ![Purpurový šíp] (img/magenta_arrow.png \"Purpurový šíp\")\n",
                                     "- `blue` (modrá) (pohybuje kurzorom doľava)  ![Modrý šíp] (img/blue_arrow.png \"Modrý šíp\")\n",
                                     "- `yellow` (žltá) (posunie kurzor doprava)  ![Žltý šíp] (img/yellow_arrow.png \"Žltý šíp\")"
                                 ]
                  },
                  {
                      "cell_type":  "code",
                      "execution_count":  null,
                      "id":  "478d42ea",
                      "metadata":  {
                                       "minecraft":  {
                                                         "closeCodeBuilderOnRun":  true,
                                                         "hidden":  false,
                                                         "onCodeCancelledCommand":  "scoreboard players set @s code_status 0",
                                                         "onCodeErrorCommand":  "scoreboard players set @s code_status 0",
                                                         "onCodeStartedCommand":  "scoreboard players set @s code_status 1",
                                                         "onCodeStoppedCommand":  "scoreboard players set @s code_status 0",
                                                         "onCodeSuccessfulCommand":  "scoreboard players set @s code_status 0",
                                                         "overridePython":  "import time\n\ntimeout = 0.100\ncommunicationPos = (0, 64, 0)\n\ntime.sleep(0.250)\n\ndef move_cursor(color):\n    if color == \"orange\":\n        world.set(communicationPos, \"orange concrete\")\n        time.sleep(timeout)\n    elif color == \"magenta\":\n        world.set(communicationPos, \"magenta concrete\")\n        time.sleep(timeout)\n    elif color == \"blue\":\n        world.set(communicationPos, \"light blue concrete\")\n        time.sleep(timeout)\n    elif color == \"yellow\":\n        world.set(communicationPos, \"yellow concrete\")\n        time.sleep(timeout)\n\ndef place_block():\n    world.set(communicationPos, \"lime concrete\")\n    time.sleep(timeout)         \n@user-code",
                                                         "readonly":  true
                                                     }
                                   },
                      "outputs":  [

                                  ],
                      "source":  [
                                     "# PRÍKLAD KÓDU – TU NEMÔŽETE UPRAVOVAŤ\n",
                                     "# SPUSTITE HO A ZISTITE, ČO SA STANE\n",
                                     "\n",
                                     "# posuňte kurzor doprava 4-krát\n",
                                     "# pri umiestňovaní bloku pred\n",
                                     "# každý pohyb\n",
                                     "\n",
                                     "place_block()\n",
                                     "move_cursor(\"yellow\")\n",
                                     "place_block()\n",
                                     "move_cursor(\"yellow\")\n",
                                     "place_block()\n",
                                     "move_cursor(\"yellow\")\n",
                                     "place_block()\n",
                                     "move_cursor(\"yellow\")"
                                 ]
                  },
                  {
                      "cell_type":  "markdown",
                      "id":  "3f299bc3",
                      "metadata":  {

                                   },
                      "source":  [
                                     "# Profesionálny tip:\n",
                                     "\n",
                                     "Pomocou slučky `for` (pre) vykonajte jednu alebo viac akcií niekoľkokrát."
                                 ]
                  },
                  {
                      "cell_type":  "code",
                      "execution_count":  null,
                      "id":  "876936ee",
                      "metadata":  {
                                       "minecraft":  {
                                                         "closeCodeBuilderOnRun":  true,
                                                         "hidden":  false,
                                                         "onCodeCancelledCommand":  "scoreboard players set @s code_status 0",
                                                         "onCodeErrorCommand":  "scoreboard players set @s code_status 0",
                                                         "onCodeStartedCommand":  "scoreboard players set @s code_status 1",
                                                         "onCodeStoppedCommand":  "scoreboard players set @s code_status 0",
                                                         "onCodeSuccessfulCommand":  "scoreboard players set @s code_status 0",
                                                         "overridePython":  "import time\n\ntimeout = 0.100\ncommunicationPos = (0, 64, 0)\n\ntime.sleep(0.250)\n\ndef move_cursor(color):\n    if color == \"orange\":\n        world.set(communicationPos, \"orange concrete\")\n        time.sleep(timeout)\n    elif color == \"magenta\":\n        world.set(communicationPos, \"magenta concrete\")\n        time.sleep(timeout)\n    elif color == \"blue\":\n        world.set(communicationPos, \"light blue concrete\")\n        time.sleep(timeout)\n    elif color == \"yellow\":\n        world.set(communicationPos, \"yellow concrete\")\n        time.sleep(timeout)\n\ndef place_block():\n    world.set(communicationPos, \"lime concrete\")\n    time.sleep(timeout)         \n@user-code",
                                                         "readonly":  true
                                                     }
                                   },
                      "outputs":  [

                                  ],
                      "source":  [
                                     "# PRÍKLAD KÓDU – TU NEMÔŽETE UPRAVOVAŤ\n",
                                     "# SPUSTITE HO A ZISTITE, ČO SA STANE\n",
                                     "\n",
                                     "# posuňte kurzor doprava 4-krát\n",
                                     "# pri umiestňovaní bloku pred\n",
                                     "# každý pohyb\n",
                                     "\n",
                                     "for i in range(4):\n",
                                     "    place_block()\n",
                                     "    move_cursor(\"yellow\")"
                                 ]
                  },
                  {
                      "cell_type":  "markdown",
                      "id":  "32797063",
                      "metadata":  {

                                   },
                      "source":  [
                                     "# Aktivita:\n",
                                     "\n",
                                     "Vytvorte schodisko, ktoré vás dostane do hornej časti knižnice a uvidíte, čo vás tam čaká.\n",
                                     "\n",
                                     "Priložený kód nižšie je nefunkčný. Dokážete ho opraviť? Spustite kód, aby ste videli, čo sa stane, a potom ho upravte na správne riešenie."
                                 ]
                  },
                  {
                      "cell_type":  "code",
                      "execution_count":  null,
                      "id":  "b6f4bd0e",
                      "metadata":  {
                                       "minecraft":  {
                                                         "closeCodeBuilderOnRun":  true,
                                                         "hidden":  false,
                                                         "onCodeCancelledCommand":  "scoreboard players set @s code_status 0",
                                                         "onCodeErrorCommand":  "scoreboard players set @s code_status 0",
                                                         "onCodeStartedCommand":  "scoreboard players set @s code_status 1",
                                                         "onCodeStoppedCommand":  "scoreboard players set @s code_status 0",
                                                         "onCodeSuccessfulCommand":  "scoreboard players set @s code_status 0",
                                                         "overridePython":  "import time\n\ntimeout = 0.100\ncommunicationPos = (0, 64, 0)\n\ntime.sleep(0.250)\n\ndef move_cursor(color):\n    if color == \"orange\":\n        world.set(communicationPos, \"orange concrete\")\n        time.sleep(timeout)\n    elif color == \"magenta\":\n        world.set(communicationPos, \"magenta concrete\")\n        time.sleep(timeout)\n    elif color == \"blue\":\n        world.set(communicationPos, \"light blue concrete\")\n        time.sleep(timeout)\n    elif color == \"yellow\":\n        world.set(communicationPos, \"yellow concrete\")\n        time.sleep(timeout)\n\ndef place_block():\n    world.set(communicationPos, \"lime concrete\")\n    time.sleep(timeout)         \n@user-code",
                                                         "readonly":  false
                                                     }
                                   },
                      "outputs":  [

                                  ],
                      "source":  [
                                     "# zadajte kód sem\n",
                                     "\n",
                                     "place_block()\n",
                                     "move_cursor(\"yellow\")\n",
                                     "place_block()\n",
                                     "move_cursor(\"yellow\")\n",
                                     "place_block()\n",
                                     "move_cursor(\"yellow\")\n",
                                     "place_block()\n",
                                     "move_cursor(\"yellow\")"
                                 ]
                  }
              ],
    "metadata":  {
                     "celltoolbar":  "Edit Metadata",
                     "kernelspec":  {
                                        "display_name":  "Python 3 (ipykernel)",
                                        "language":  "python",
                                        "name":  "python3"
                                    },
                     "language_info":  {
                                           "codemirror_mode":  {
                                                                   "name":  "ipython",
                                                                   "version":  3
                                                               },
                                           "file_extension":  ".py",
                                           "mimetype":  "text/x-python",
                                           "name":  "python",
                                           "nbconvert_exporter":  "python",
                                           "pygments_lexer":  "ipython3",
                                           "version":  "3.10.7"
                                       },
                     "minecraft":  {
                                       "description":  "HOC 2022",
                                       "page_id":  "1.1",
                                       "page_name":  "HOC 2022",
                                       "style":  "minecraft.css"
                                   }
                 },
    "nbformat":  4,
    "nbformat_minor":  5
}
