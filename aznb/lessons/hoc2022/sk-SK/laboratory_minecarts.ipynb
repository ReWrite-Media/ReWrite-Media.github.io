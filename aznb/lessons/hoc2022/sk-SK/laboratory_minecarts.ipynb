﻿{
    "cells":  [
                  {
                      "cell_type":  "markdown",
                      "id":  "61daf32d",
                      "metadata":  {

                                   },
                      "source":  [
                                     "# presmerovanie banského vozíka\n",
                                     "\n",
                                     "Tvory treba roztriediť do správnych chodieb. Pozrite sa na tvory, ktoré čakajú v rade na triedenie, a zoraďte ich podľa poradia, v ktorom čakajú. Pomocou funkcie „zoradiť_tvora()“ nastavte poradie, v ktorom majú byť zoradené.\n",
                                     "\n",
                                     "Funkcia „zoradiť_tvora()“ má jeden parameter, ktorý definuje, ktorý tvor by sa mal triediť ako ďalší.\n",
                                     "\n",
                                     "Platné tvory sú:\n",
                                     "- „zombie“ ![Zombie] (img/zombie_head.png „Zombie“)\n",
                                     "– „kostlivec“ ![kostlivec](img/skeleton_head.png „Kostlivec“)\n",
                                     "– „creeper“ ![Creeper] (img/creeper_head.png „Creeper“)"
                                 ]
                  },
                  {
                      "cell_type":  "code",
                      "execution_count":  null,
                      "id":  "972e35c6",
                      "metadata":  {
                                       "minecraft":  {
                                                         "closeCodeBuilderOnRun":  true,
                                                         "hidden":  false,
                                                         "onCodeCancelledCommand":  "scoreboard players set @s code_status 0",
                                                         "onCodeErrorCommand":  "scoreboard players set @s code_status 0",
                                                         "onCodeStartedCommand":  "scoreboard players set @s code_status 1",
                                                         "onCodeStoppedCommand":  "scoreboard players set @s code_status 0",
                                                         "onCodeSuccessfulCommand":  "scoreboard players set @s code_status 0",
                                                         "overridePython":  "import time\n\ntimeout = 0.100\ncommunicationPos = (0, 64, 0)\n\ntime.sleep(0.250)\n\ndef sort_mob(mob):\n    if mob==\"zombie\":\n        world.set(communicationPos, \"orange concrete\")\n        time.sleep(timeout)         \n    elif mob==\"skeleton\":\n        world.set(communicationPos, \"magenta concrete\")\n        time.sleep(timeout)\n    elif mob==\"creeper\":\n        world.set(communicationPos, \"light blue concrete\")\n        time.sleep(timeout)\n@user-code",
                                                         "readonly":  true
                                                     }
                                   },
                      "outputs":  [

                                  ],
                      "source":  [
                                     "# PRÍKLAD KÓDU – TU NEMÔŽETE UPRAVOVAŤ\n",
                                     "# SPUSTITE HO A ZISTITE, ČO SA STANE\n",
                                     "\n",
                                     "# zoraďte prvé 4 tvory všetky\n",
                                     "# na chodbu zombie.\n",
                                     "\n",
                                     "sort_mob(\"zombie\")\n",
                                     "sort_mob(\"zombie\")\n",
                                     "sort_mob(\"zombie\")\n",
                                     "sort_mob(\"zombie\")"
                                 ]
                  },
                  {
                      "cell_type":  "markdown",
                      "id":  "dc88a163",
                      "metadata":  {

                                   },
                      "source":  [
                                     "# Aktivita:\n",
                                     "\n",
                                     "Venujte pozornosť poradiu, v ktorom sa tvory nachádzajú, a napíšte svoj kód, aby ste každý tvor zoradil do správnej chodby.\n",
                                     "\n",
                                     "Priložený kód nižšie je nefunkčný. Môžete to opraviť? Spustite kód, aby ste videli, čo sa stane, a potom ho upravte úpravou na správne riešenie."
                                 ]
                  },
                  {
                      "cell_type":  "code",
                      "execution_count":  null,
                      "id":  "b6f4bd0e",
                      "metadata":  {
                                       "minecraft":  {
                                                         "closeCodeBuilderOnRun":  true,
                                                         "hidden":  false,
                                                         "onCodeCancelledCommand":  "scoreboard players set @s code_status 0",
                                                         "onCodeErrorCommand":  "scoreboard players set @s code_status 0",
                                                         "onCodeStartedCommand":  "scoreboard players set @s code_status 1",
                                                         "onCodeStoppedCommand":  "scoreboard players set @s code_status 0",
                                                         "onCodeSuccessfulCommand":  "scoreboard players set @s code_status 0",
                                                         "overridePython":  "import time\n\ntimeout = 0.100\ncommunicationPos = (0, 64, 0)\n\ntime.sleep(0.250)\n\ndef sort_mob(mob):\n    if mob==\"zombie\":\n        world.set(communicationPos, \"orange concrete\")\n        time.sleep(timeout)         \n    elif mob==\"skeleton\":\n        world.set(communicationPos, \"magenta concrete\")\n        time.sleep(timeout)\n    elif mob==\"creeper\":\n        world.set(communicationPos, \"light blue concrete\")\n        time.sleep(timeout)\n@user-code",
                                                         "readonly":  false
                                                     }
                                   },
                      "outputs":  [

                                  ],
                      "source":  [
                                     "#kód tu\n",
                                     "\n",
                                     "sort_mob(\"zombie\")\n",
                                     "sort_mob(\"zombie\")\n",
                                     "sort_mob(\"skeleton\")\n",
                                     "sort_mob(\"creeper\")\n",
                                     "sort_mob(\"creeper\")\n",
                                     "sort_mob(\"skeleton\")\n",
                                     "sort_mob(\"zombie\")"
                                 ]
                  }
              ],
    "metadata":  {
                     "celltoolbar":  "Edit Metadata",
                     "kernelspec":  {
                                        "display_name":  "Python 3 (ipykernel)",
                                        "language":  "python",
                                        "name":  "python3"
                                    },
                     "language_info":  {
                                           "codemirror_mode":  {
                                                                   "name":  "ipython",
                                                                   "version":  3
                                                               },
                                           "file_extension":  ".py",
                                           "mimetype":  "text/x-python",
                                           "name":  "python",
                                           "nbconvert_exporter":  "python",
                                           "pygments_lexer":  "ipython3",
                                           "version":  "3.10.7"
                                       },
                     "minecraft":  {
                                       "description":  "HOC 2022",
                                       "page_id":  "1.1",
                                       "page_name":  "HOC 2022",
                                       "style":  "minecraft.css"
                                   }
                 },
    "nbformat":  4,
    "nbformat_minor":  5
}
