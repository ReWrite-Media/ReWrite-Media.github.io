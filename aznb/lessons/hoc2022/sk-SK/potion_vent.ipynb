﻿{
    "cells":  [
                  {
                      "cell_type":  "markdown",
                      "id":  "4c8d2435",
                      "metadata":  {

                                   },
                      "source":  [
                                     "# Vetracia\n",
                                     "\n",
                                     "Presuňte ílovú guľu do zlatého bloku, aby mohla otvoriť dvere do ďalšej časti. Použite funkciu \"pohnúť_ílovú_guľu()\" na nasmerovanie lopty cez stenu.\n",
                                     "\n",
                                     "Funkcia \"posunúť_ílovú_guľu()\" má jeden parameter, ktorý definuje, akým smerom by sa mala pohybovať.\n",
                                     "\n",
                                     "Platné smery sú: \n",
                                     "- `nahor`\n",
                                     "- `nadol`\n",
                                     "- `doľava`\n",
                                     "- „doprava“"
                                 ]
                  },
                  {
                      "cell_type":  "code",
                      "execution_count":  null,
                      "id":  "328acf46",
                      "metadata":  {
                                       "minecraft":  {
                                                         "closeCodeBuilderOnRun":  true,
                                                         "hidden":  false,
                                                         "onCodeCancelledCommand":  "scoreboard players set @s code_status 0",
                                                         "onCodeErrorCommand":  "scoreboard players set @s code_status 0",
                                                         "onCodeStartedCommand":  "scoreboard players set @s code_status 1",
                                                         "onCodeStoppedCommand":  "scoreboard players set @s code_status 0",
                                                         "onCodeSuccessfulCommand":  "scoreboard players set @s code_status 0",
                                                         "overridePython":  "import time\n\ntimeout = 0.100\ncommunicationPos = (0, 64, 0)\n\ntime.sleep(0.250)\n\ndef clay_ball_move(direction):\n       agent.move(direction)\n@user-code",
                                                         "readonly":  false
                                                     }
                                   },
                      "outputs":  [

                                  ],
                      "source":  [
                                     "# PRÍKLAD KÓDU – TU NEMÔŽETE UPRAVOVAŤ\n",
                                     "# SPUSTITE HO A ZISTITE, ČO SA STANE\n",
                                     "\n",
                                     "# posuňte ílovú guľu\n",
                                     "# nechal jedno miesto a potom\n",
                                     "# dopredu tri miesta\n",
                                     "\n",
                                     "clay_ball_move(\"left\")\n",
                                     "clay_ball_move(\"right\")\n",
                                     "clay_ball_move(\"right\")\n",
                                     "clay_ball_move(\"right\")"
                                 ]
                  },
                  {
                      "cell_type":  "markdown",
                      "id":  "a327d84f",
                      "metadata":  {

                                   },
                      "source":  [
                                     "# Profesionálny tip:\n",
                                     "\n",
                                     "Pomocou slučky `for` (pre) vykonajte jednu alebo viac akcií niekoľkokrát."
                                 ]
                  },
                  {
                      "cell_type":  "code",
                      "execution_count":  null,
                      "id":  "f4c88099",
                      "metadata":  {
                                       "minecraft":  {
                                                         "closeCodeBuilderOnRun":  true,
                                                         "hidden":  false,
                                                         "onCodeCancelledCommand":  "scoreboard players set @s code_status 0",
                                                         "onCodeErrorCommand":  "scoreboard players set @s code_status 0",
                                                         "onCodeStartedCommand":  "scoreboard players set @s code_status 1",
                                                         "onCodeStoppedCommand":  "scoreboard players set @s code_status 0",
                                                         "onCodeSuccessfulCommand":  "scoreboard players set @s code_status 0",
                                                         "overridePython":  "import time\n\ntimeout = 0.100\ncommunicationPos = (0, 64, 0)\n\ntime.sleep(0.250)\n\ndef clay_ball_move(direction):\n       agent.move(direction)\n@user-code",
                                                         "readonly":  true
                                                     }
                                   },
                      "outputs":  [

                                  ],
                      "source":  [
                                     "# PRÍKLAD KÓDU – TU NEMÔŽETE UPRAVOVAŤ\n",
                                     "# SPUSTITE HO A ZISTITE, ČO SA STANE\n",
                                     "\n",
                                     "# posuňte ílovú guľu\n",
                                     "# nechal jedno miesto a potom\n",
                                     "# dopredu tri miesta\n",
                                     "\n",
                                     "clay_ball_move(\"left\")\n",
                                     "\n",
                                     "for i in range(3):\n",
                                     "    clay_ball_move(\"forward\")"
                                 ]
                  },
                  {
                      "cell_type":  "markdown",
                      "id":  "49cdce6f",
                      "metadata":  {

                                   },
                      "source":  [
                                     "# Aktivita:\n",
                                     "\n",
                                     "Ílovou guľou prejdite cez stenu, aby ste sa na konci dostali k zlatému bloku.\n",
                                     "\n",
                                     "Priložený kód nižšie je nefunkčný. Dokážete ho opraviť? Spustite kód, aby ste videli, čo sa stane, a potom ho upravte na správne riešenie."
                                 ]
                  },
                  {
                      "cell_type":  "code",
                      "execution_count":  null,
                      "id":  "b6f4bd0e",
                      "metadata":  {
                                       "minecraft":  {
                                                         "closeCodeBuilderOnRun":  true,
                                                         "hidden":  false,
                                                         "onCodeCancelledCommand":  "scoreboard players set @s code_status 0",
                                                         "onCodeErrorCommand":  "scoreboard players set @s code_status 0",
                                                         "onCodeStartedCommand":  "scoreboard players set @s code_status 1",
                                                         "onCodeStoppedCommand":  "scoreboard players set @s code_status 0",
                                                         "onCodeSuccessfulCommand":  "scoreboard players set @s code_status 0",
                                                         "overridePython":  "import time\n\ntimeout = 0.100\ncommunicationPos = (0, 64, 0)\n\ntime.sleep(0.250)\n\ndef clay_ball_move(direction):\n       agent.move(direction)\n@user-code",
                                                         "readonly":  false
                                                     }
                                   },
                      "outputs":  [

                                  ],
                      "source":  [
                                     "# zadajte kód sem\n",
                                     "\n",
                                     "clay_ball_move(\"right\")\n",
                                     "clay_ball_move(\"right\")\n",
                                     "clay_ball_move(\"left\")\n",
                                     "clay_ball_move(\"left\")"
                                 ]
                  }
              ],
    "metadata":  {
                     "celltoolbar":  "Edit Metadata",
                     "kernelspec":  {
                                        "display_name":  "Python 3 (ipykernel)",
                                        "language":  "python",
                                        "name":  "python3"
                                    },
                     "language_info":  {
                                           "codemirror_mode":  {
                                                                   "name":  "ipython",
                                                                   "version":  3
                                                               },
                                           "file_extension":  ".py",
                                           "mimetype":  "text/x-python",
                                           "name":  "python",
                                           "nbconvert_exporter":  "python",
                                           "pygments_lexer":  "ipython3",
                                           "version":  "3.10.7"
                                       },
                     "minecraft":  {
                                       "description":  "HOC 2022",
                                       "page_id":  "1.1",
                                       "page_name":  "HOC 2022",
                                       "style":  "minecraft.css"
                                   }
                 },
    "nbformat":  4,
    "nbformat_minor":  5
}
