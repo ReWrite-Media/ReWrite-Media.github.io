﻿{
    "cells":  [
                  {
                      "cell_type":  "markdown",
                      "id":  "e4ca514f",
                      "metadata":  {

                                   },
                      "source":  [
                                     "# Podkrovný tutoriál (červená cesta)\n",
                                     "\n",
                                     "Ak chcete otvoriť červené dvere, musíte vy aj agent spolupracovať. Otočte úroveň, aby ste zdvihli železnú stenu, potom presuňte agenta tak, aby sa nachádzal nad zlatými blokmi pred červenými dverami. Pomocou funkcie \"posunúť.agenta()\" presuňte agenta na zlaté bloky.\n",
                                     "\n",
                                     "Funkcia \"pohnúť.agenta()\" má jeden parameter, ktorý definuje, akým smerom by sa mala pohybovať.\n",
                                     "\n",
                                     "Platné smery sú: \n",
                                     "- `forward` (dopredu)\n",
                                     "- `back` (dozadu)\n",
                                     "- `left` (doľava)\n",
                                     "- `right` (doprava)\n",
                                     "- `up` (hore)\n",
                                     "- `down` (dole)"
                                 ]
                  },
                  {
                      "cell_type":  "code",
                      "execution_count":  null,
                      "id":  "3af48906",
                      "metadata":  {
                                       "minecraft":  {
                                                         "closeCodeBuilderOnRun":  true,
                                                         "hidden":  false,
                                                         "onCodeCancelledCommand":  "scoreboard players set @s code_status 0",
                                                         "onCodeErrorCommand":  "scoreboard players set @s code_status 0",
                                                         "onCodeStartedCommand":  "scoreboard players set @s code_status 1",
                                                         "onCodeStoppedCommand":  "scoreboard players set @s code_status 0",
                                                         "onCodeSuccessfulCommand":  "scoreboard players set @s code_status 0",
                                                         "readonly":  true
                                                     }
                                   },
                      "outputs":  [

                                  ],
                      "source":  [
                                     "# PRÍKLAD KÓDU – TU NEMÔŽETE UPRAVOVAŤ\n",
                                     "# SPUSTITE HO A ZISTITE, ČO SA STANE\n",
                                     "\n",
                                     "# presuňte agenta o 5 blokov dopredu\n",
                                     "\n",
                                     "agent.move(\"forward\")\n",
                                     "agent.move(\"forward\")\n",
                                     "agent.move(\"forward\")\n",
                                     "agent.move(\"forward\")\n",
                                     "agent.move(\"forward\")"
                                 ]
                  },
                  {
                      "cell_type":  "markdown",
                      "id":  "82ff9553",
                      "metadata":  {

                                   },
                      "source":  [
                                     "# Profesionálny tip:\n",
                                     "\n",
                                     "Pomocou slučky `for` (pre) vykonajte jednu alebo viac akcií niekoľkokrát."
                                 ]
                  },
                  {
                      "cell_type":  "code",
                      "execution_count":  null,
                      "id":  "cab99e35",
                      "metadata":  {
                                       "minecraft":  {
                                                         "closeCodeBuilderOnRun":  true,
                                                         "hidden":  false,
                                                         "onCodeCancelledCommand":  "scoreboard players set @s code_status 0",
                                                         "onCodeErrorCommand":  "scoreboard players set @s code_status 0",
                                                         "onCodeStartedCommand":  "scoreboard players set @s code_status 1",
                                                         "onCodeStoppedCommand":  "scoreboard players set @s code_status 0",
                                                         "onCodeSuccessfulCommand":  "scoreboard players set @s code_status 0",
                                                         "readonly":  true
                                                     }
                                   },
                      "outputs":  [

                                  ],
                      "source":  [
                                     "# PRÍKLAD KÓDU – TU NEMÔŽETE UPRAVOVAŤ\n",
                                     "# SPUSTITE HO A ZISTITE, ČO SA STANE\n",
                                     "\n",
                                     "# presuňte agenta o 5 blokov dopredu\n",
                                     "\n",
                                     "for i in range(5):\n",
                                     "    agent.move(\"forward\")"
                                 ]
                  },
                  {
                      "cell_type":  "markdown",
                      "id":  "8c8d99e2",
                      "metadata":  {

                                   },
                      "source":  [
                                     "# Aktivita:\n",
                                     "\n",
                                     "Ak chcete otvoriť červené dvere, otočte úroveň, aby ste zdvihli železnú stenu, a potom presuňte agenta tak, aby sa nachádzal nad zlatými blokmi pred červenými dverami.\n",
                                     "\n",
                                     "Priložený kód nižšie je nefunkčný. Dokážete ho opraviť? Spustite kód, aby ste videli, čo sa stane, a potom ho upravte na správne riešenie."
                                 ]
                  },
                  {
                      "cell_type":  "code",
                      "execution_count":  null,
                      "id":  "a0bbae8e",
                      "metadata":  {
                                       "minecraft":  {
                                                         "closeCodeBuilderOnRun":  true,
                                                         "hidden":  false,
                                                         "onCodeCancelledCommand":  "scoreboard players set @s code_status 0",
                                                         "onCodeErrorCommand":  "scoreboard players set @s code_status 0",
                                                         "onCodeStartedCommand":  "scoreboard players set @s code_status 1",
                                                         "onCodeStoppedCommand":  "scoreboard players set @s code_status 0",
                                                         "onCodeSuccessfulCommand":  "scoreboard players set @s code_status 0",
                                                         "readonly":  false
                                                     }
                                   },
                      "outputs":  [

                                  ],
                      "source":  [
                                     "# zadajte kód sem\n",
                                     "\n",
                                     "agent.move(\"forward\")\n",
                                     "agent.move(\"forward\")\n",
                                     "agent.move(\"forward\")\n",
                                     "agent.move(\"forward\")\n",
                                     "agent.move(\"forward\")"
                                 ]
                  }
              ],
    "metadata":  {
                     "celltoolbar":  "Edit Metadata",
                     "kernelspec":  {
                                        "display_name":  "Python 3 (ipykernel)",
                                        "language":  "python",
                                        "name":  "python3"
                                    },
                     "language_info":  {
                                           "codemirror_mode":  {
                                                                   "name":  "ipython",
                                                                   "version":  3
                                                               },
                                           "file_extension":  ".py",
                                           "mimetype":  "text/x-python",
                                           "name":  "python",
                                           "nbconvert_exporter":  "python",
                                           "pygments_lexer":  "ipython3",
                                           "version":  "3.10.7"
                                       },
                     "minecraft":  {
                                       "description":  "HOC 2022",
                                       "page_id":  "1.1",
                                       "page_name":  "HOC 2022",
                                       "style":  "minecraft.css"
                                   }
                 },
    "nbformat":  4,
    "nbformat_minor":  5
}
