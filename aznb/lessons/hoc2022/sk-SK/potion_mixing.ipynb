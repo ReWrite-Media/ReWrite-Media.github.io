﻿{
    "cells":  [
                  {
                      "cell_type":  "markdown",
                      "id":  "07d89aae",
                      "metadata":  {

                                   },
                      "source":  [
                                     "#\n miešania elixírov",
                                     "\n",
                                     "Vyzerá to, že tu môžete niečo urobiť! Možno je niekde v tejto miestnosti recept na elixír, ktorý vám môže pomôcť? Nájdite recept a potom pomocou funkcie \"summon_item()\" privolajte ingrediencie v správnom poradí na dokončenie elixíru! \n",
                                     "\n",
                                     "Funkcia \"summon_item()\" má jeden parameter na definovanie položky, ktorú má vyvolať.\n",
                                     "\n",
                                     "Platné položky sú:\n",
                                     "- `netherwart` ![Netherwart](img/netherwart.png \"Netherwart\")\n",
                                     "- `fermented spider eye` ![Fermented Spider Eye](img/fermented_spider_eye.png \"Fermented Spider Eye\")\n",
                                     "- `phantom membrane` ![Phantom Membrane](img/phantom_membrane.png \"Phantom Membrane\")\n"
                                 ]
                  },
                  {
                      "cell_type":  "code",
                      "execution_count":  null,
                      "id":  "c319c10e",
                      "metadata":  {
                                       "minecraft":  {
                                                         "closeCodeBuilderOnRun":  true,
                                                         "hidden":  false,
                                                         "onCodeCancelledCommand":  "scoreboard players set @s code_status 0",
                                                         "onCodeErrorCommand":  "scoreboard players set @s code_status 0",
                                                         "onCodeStartedCommand":  "scoreboard players set @s code_status 1",
                                                         "onCodeStoppedCommand":  "scoreboard players set @s code_status 0",
                                                         "onCodeSuccessfulCommand":  "scoreboard players set @s code_status 0",
                                                         "overridePython":  "import time\n\ntimeout = 0.100\ncommunicationPos = (0, 64, 0)\n\ntime.sleep(0.250)\n\ndef summon_item(item):\n    if item==\"netherwart\":\n        world.set(communicationPos, \"orange concrete\")\n        time.sleep(timeout)         \n    elif item==\"phantom membrane\":\n        world.set(communicationPos, \"magenta concrete\")\n        time.sleep(timeout)\n    elif item==\"fermented spider eye\":\n        world.set(communicationPos, \"light blue concrete\")\n        time.sleep(timeout)\n@user-code",
                                                         "readonly":  true
                                                     }
                                   },
                      "outputs":  [

                                  ],
                      "source":  [
                                     "# PRÍKLAD KÓDU - TU NEMÔŽETE UPRAVOVAŤ\n",
                                     "# SPUSTITE HO, ABY STE VIDELI, ČO SA STANE\n",
                                     "\n",
                                     "# privolajte jedného neterwart\n",
                                     "\n",
                                     "summon_item(\"netherwart\")"
                                 ]
                  },
                  {
                      "cell_type":  "markdown",
                      "id":  "6a387d30",
                      "metadata":  {

                                   },
                      "source":  [
                                     "# Aktivita:\n",
                                     "\n",
                                     "Prehľadajte miestnosť, aby ste našli recept na elixír, a potom privolajte ingrediencie v správnom poradí, aby ste ich vložili do kotlov, aby ste vytvorili elixír! \n",
                                     "\n",
                                     "Priložený kód nižšie je nefunkčný. Môžete to opraviť? Spustite kód, aby ste videli, čo sa stane, a potom ho upravte úpravou na správne riešenie."
                                 ]
                  },
                  {
                      "cell_type":  "code",
                      "execution_count":  null,
                      "id":  "b6f4bd0e",
                      "metadata":  {
                                       "minecraft":  {
                                                         "closeCodeBuilderOnRun":  true,
                                                         "hidden":  false,
                                                         "onCodeCancelledCommand":  "scoreboard players set @s code_status 0",
                                                         "onCodeErrorCommand":  "scoreboard players set @s code_status 0",
                                                         "onCodeStartedCommand":  "scoreboard players set @s code_status 1",
                                                         "onCodeStoppedCommand":  "scoreboard players set @s code_status 0",
                                                         "onCodeSuccessfulCommand":  "scoreboard players set @s code_status 0",
                                                         "overridePython":  "import time\n\ntimeout = 0.100\ncommunicationPos = (0, 64, 0)\n\ntime.sleep(0.250)\n\ndef summon_item(item):\n    if item==\"netherwart\":\n        world.set(communicationPos, \"orange concrete\")\n        time.sleep(timeout)         \n    elif item==\"phantom membrane\":\n        world.set(communicationPos, \"magenta concrete\")\n        time.sleep(timeout)\n    elif item==\"fermented spider eye\":\n        world.set(communicationPos, \"light blue concrete\")\n        time.sleep(timeout)\n@user-code",
                                                         "readonly":  false
                                                     }
                                   },
                      "outputs":  [

                                  ],
                      "source":  [
                                     "# zadajte kód sem\n",
                                     "\n",
                                     "summon_item(\"netherwart\")\n",
                                     "summon_item(\"phantom membrane\")"
                                 ]
                  }
              ],
    "metadata":  {
                     "celltoolbar":  "Edit Metadata",
                     "kernelspec":  {
                                        "display_name":  "Python 3 (ipykernel)",
                                        "language":  "python",
                                        "name":  "python3"
                                    },
                     "language_info":  {
                                           "codemirror_mode":  {
                                                                   "name":  "ipython",
                                                                   "version":  3
                                                               },
                                           "file_extension":  ".py",
                                           "mimetype":  "text/x-python",
                                           "name":  "python",
                                           "nbconvert_exporter":  "python",
                                           "pygments_lexer":  "ipython3",
                                           "version":  "3.10.7"
                                       },
                     "minecraft":  {
                                       "description":  "HOC 2022",
                                       "page_id":  "1.1",
                                       "page_name":  "HOC 2022",
                                       "style":  "minecraft.css"
                                   }
                 },
    "nbformat":  4,
    "nbformat_minor":  5
}
