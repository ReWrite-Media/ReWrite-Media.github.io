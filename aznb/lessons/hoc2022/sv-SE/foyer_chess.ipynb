﻿{
    "cells":  [
                  {
                      "cell_type":  "markdown",
                      "id":  "011de41a",
                      "metadata":  {

                                   },
                      "source":  [
                                     "# Schackpjäser\n",
                                     "\n",
                                     "Du har befriat kungen och drottningen! Men dörren öppnas fortfarande inte. De måste vara i fel position. Flytta dem till rätt positioner så att du äntligen kan fly från denna plats! Använd funktionen \"move_chess_piece()\" för att flytta kungen och drottningen till rätt positioner.\n",
                                     "\n",
                                     "Funktionen \u0027move_chess_piece()\u0027 tar två parametrar. Den första är vilken bröstbit du vill flytta, den andra är vilken riktning den ska röra sig i.\n",
                                     "\n",
                                     "Giltiga schackpjäser är:\n",
                                     "- \"kung\" ! [Kungl] (img/king_icon.png \"Kung\")\n",
                                     "- \"drottning\" ! [Drottning] (img/queen_icon.png \"Drottning\")\n",
                                     "\n",
                                     "Giltiga riktningar är:\n",
                                     "- \u0027orange\u0027 (flyttar schackpjäsen framåt) ! [Orange pil] (img/orange_arrow.png \"Orange pil\")\n",
                                     "- \u0027magenta\u0027 (flyttar schackpjäsen tillbaka) ! [Magenta pil] (img/magenta_arrow.png \"Magentapil\")\n",
                                     "- \u0027blå\u0027 (flyttar schackpjäsen åt vänster) ! [Blå pil] (img/blue_arrow.png \"Blå pil\")\n",
                                     "- \u0027gul\u0027 (flyttar schackpjäsen rätt) ! [Gul pil] (img/yellow_arrow.png \"Gul pil\")\n"
                                 ]
                  },
                  {
                      "cell_type":  "code",
                      "execution_count":  null,
                      "id":  "f49dad45",
                      "metadata":  {
                                       "minecraft":  {
                                                         "closeCodeBuilderOnRun":  true,
                                                         "hidden":  false,
                                                         "onCodeCancelledCommand":  "scoreboard players set @s code_status 0",
                                                         "onCodeErrorCommand":  "scoreboard players set @s code_status 0",
                                                         "onCodeStartedCommand":  "scoreboard players set @s code_status 1",
                                                         "onCodeStoppedCommand":  "scoreboard players set @s code_status 0",
                                                         "onCodeSuccessfulCommand":  "scoreboard players set @s code_status 0",
                                                         "overridePython":  "import time\n\ntimeout = 0.100\ncommunicationPos = (0, 64, 0)\n\ntime.sleep(0.250)\n\ndef move_chess_piece(type, color):\n    if type==\"king\" and color==\"orange\":\n        world.set(communicationPos, \"orange concrete\")\n        time.sleep(timeout)            \n    elif type==\"king\" and color==\"magenta\":\n        world.set(communicationPos, \"magenta concrete\")\n        time.sleep(timeout)    \n    elif type==\"king\" and color==\"blue\":\n        world.set(communicationPos, \"light blue concrete\")\n        time.sleep(timeout)    \n    elif type==\"king\" and color==\"yellow\":\n        world.set(communicationPos, \"yellow concrete\")\n        time.sleep(timeout)                \n    elif type==\"queen\" and color==\"orange\":\n        world.set(communicationPos, \"lime concrete\")\n        time.sleep(timeout)    \n    elif type==\"queen\" and color==\"magenta\":\n        world.set(communicationPos, \"pink concrete\")\n        time.sleep(timeout)    \n    elif type==\"queen\" and color==\"blue\":\n        world.set(communicationPos, \"gray concrete\")\n        time.sleep(timeout)    \n    elif type==\"queen\" and color==\"yellow\":\n        world.set(communicationPos, \"light gray concrete\")\n        time.sleep(timeout)  \n@user-code",
                                                         "readonly":  true
                                                     }
                                   },
                      "outputs":  [

                                  ],
                      "source":  [
                                     "# KODEXEMPEL - DU KAN INTE REDIGERA HÄR\n",
                                     "# KÖR DET FÖR ATT SE VAD SOM HÄNDER\n",
                                     "\n",
                                     "# flytta drottningen framåt 3 kvarter\n",
                                     "# flytta kungen åt vänster 3 kvarter\n",
                                     "\n",
                                     "move_chess_piece(\"queen\", \"orange\")\n",
                                     "move_chess_piece(\"queen\", \"orange\")\n",
                                     "move_chess_piece(\"queen\", \"orange\")\n",
                                     "\n",
                                     "move_chess_piece(\"king\", \"blue\")\n",
                                     "move_chess_piece(\"king\", \"blue\")\n",
                                     "move_chess_piece(\"king\", \"blue\")"
                                 ]
                  },
                  {
                      "cell_type":  "markdown",
                      "id":  "4a996193",
                      "metadata":  {

                                   },
                      "source":  [
                                     "# Tips från proffsen:\n",
                                     "\n",
                                     "Använd en ”for”-loop till att göra en eller flera åtgärder upprepade gånger."
                                 ]
                  },
                  {
                      "cell_type":  "code",
                      "execution_count":  null,
                      "id":  "0697247a",
                      "metadata":  {
                                       "minecraft":  {
                                                         "closeCodeBuilderOnRun":  true,
                                                         "hidden":  false,
                                                         "onCodeCancelledCommand":  "scoreboard players set @s code_status 0",
                                                         "onCodeErrorCommand":  "scoreboard players set @s code_status 0",
                                                         "onCodeStartedCommand":  "scoreboard players set @s code_status 1",
                                                         "onCodeStoppedCommand":  "scoreboard players set @s code_status 0",
                                                         "onCodeSuccessfulCommand":  "scoreboard players set @s code_status 0",
                                                         "overridePython":  "import time\n\ntimeout = 0.100\ncommunicationPos = (0, 64, 0)\n\ntime.sleep(0.250)\n\ndef move_chess_piece(type, color):\n    if type==\"king\" and color==\"orange\":\n        world.set(communicationPos, \"orange concrete\")\n        time.sleep(timeout)            \n    elif type==\"king\" and color==\"magenta\":\n        world.set(communicationPos, \"magenta concrete\")\n        time.sleep(timeout)    \n    elif type==\"king\" and color==\"blue\":\n        world.set(communicationPos, \"light blue concrete\")\n        time.sleep(timeout)    \n    elif type==\"king\" and color==\"yellow\":\n        world.set(communicationPos, \"yellow concrete\")\n        time.sleep(timeout)                \n    elif type==\"queen\" and color==\"orange\":\n        world.set(communicationPos, \"lime concrete\")\n        time.sleep(timeout)    \n    elif type==\"queen\" and color==\"magenta\":\n        world.set(communicationPos, \"pink concrete\")\n        time.sleep(timeout)    \n    elif type==\"queen\" and color==\"blue\":\n        world.set(communicationPos, \"gray concrete\")\n        time.sleep(timeout)    \n    elif type==\"queen\" and color==\"yellow\":\n        world.set(communicationPos, \"light gray concrete\")\n        time.sleep(timeout)  \n@user-code",
                                                         "readonly":  true
                                                     }
                                   },
                      "outputs":  [

                                  ],
                      "source":  [
                                     "# KODEXEMPEL - DU KAN INTE REDIGERA HÄR\n",
                                     "# KÖR DET FÖR ATT SE VAD SOM HÄNDER\n",
                                     "\n",
                                     "# flytta drottningen framåt 3 kvarter\n",
                                     "# flytta kungen åt vänster 3 kvarter\n",
                                     "\n",
                                     "for i in range(3):\n",
                                     "    move_chess_piece(\"queen\", \"orange\")\n",
                                     "\n",
                                     "for i in range(3):\n",
                                     "    move_chess_piece(\"king\", \"blue\")"
                                 ]
                  },
                  {
                      "cell_type":  "markdown",
                      "id":  "5541dff4",
                      "metadata":  {

                                   },
                      "source":  [
                                     "# Aktvitiy:\n",
                                     "\n",
                                     "Sök i rummet för att hitta var du ska flytta varje schackpjäs och skriv sedan kod för att placera dem på rätt platser på det svartvitrutiga golvet. Se till att schackpjäserna inte stöter på varandra.\n",
                                     "\n",
                                     "Den medföljande koden nedan är trasig. Kan du fixa det? Kör koden för att se vad som händer och felsök den sedan genom att redigera den till rätt lösning."
                                 ]
                  },
                  {
                      "cell_type":  "code",
                      "execution_count":  null,
                      "id":  "b6f4bd0e",
                      "metadata":  {
                                       "minecraft":  {
                                                         "closeCodeBuilderOnRun":  true,
                                                         "hidden":  false,
                                                         "onCodeCancelledCommand":  "scoreboard players set @s code_status 0",
                                                         "onCodeErrorCommand":  "scoreboard players set @s code_status 0",
                                                         "onCodeStartedCommand":  "scoreboard players set @s code_status 1",
                                                         "onCodeStoppedCommand":  "scoreboard players set @s code_status 0",
                                                         "onCodeSuccessfulCommand":  "scoreboard players set @s code_status 0",
                                                         "overridePython":  "import time\n\ntimeout = 0.100\ncommunicationPos = (0, 64, 0)\n\ntime.sleep(0.250)\n\ndef move_chess_piece(type, color):\n    if type==\"king\" and color==\"orange\":\n        world.set(communicationPos, \"orange concrete\")\n        time.sleep(timeout)            \n    elif type==\"king\" and color==\"magenta\":\n        world.set(communicationPos, \"magenta concrete\")\n        time.sleep(timeout)    \n    elif type==\"king\" and color==\"blue\":\n        world.set(communicationPos, \"light blue concrete\")\n        time.sleep(timeout)    \n    elif type==\"king\" and color==\"yellow\":\n        world.set(communicationPos, \"yellow concrete\")\n        time.sleep(timeout)                \n    elif type==\"queen\" and color==\"orange\":\n        world.set(communicationPos, \"lime concrete\")\n        time.sleep(timeout)    \n    elif type==\"queen\" and color==\"magenta\":\n        world.set(communicationPos, \"pink concrete\")\n        time.sleep(timeout)    \n    elif type==\"queen\" and color==\"blue\":\n        world.set(communicationPos, \"gray concrete\")\n        time.sleep(timeout)    \n    elif type==\"queen\" and color==\"yellow\":\n        world.set(communicationPos, \"light gray concrete\")\n        time.sleep(timeout)  \n@user-code",
                                                         "readonly":  false
                                                     }
                                   },
                      "outputs":  [

                                  ],
                      "source":  [
                                     "# kod här\n",
                                     "\n",
                                     "move_chess_piece(\"king\", \"orange\")\n",
                                     "move_chess_piece(\"king\", \"orange\")\n",
                                     "move_chess_piece(\"king\", \"orange\")\n",
                                     "move_chess_piece(\"king\", \"blue\")\n",
                                     "move_chess_piece(\"queen\", \"yellow\")\n",
                                     "move_chess_piece(\"queen\", \"yellow\")\n",
                                     "move_chess_piece(\"queen\", \"orange\")\n"
                                 ]
                  }
              ],
    "metadata":  {
                     "celltoolbar":  "Edit Metadata",
                     "kernelspec":  {
                                        "display_name":  "Python 3.10.8 64-bit (microsoft store)",
                                        "language":  "python",
                                        "name":  "python3"
                                    },
                     "language_info":  {
                                           "codemirror_mode":  {
                                                                   "name":  "ipython",
                                                                   "version":  3
                                                               },
                                           "file_extension":  ".py",
                                           "mimetype":  "text/x-python",
                                           "name":  "python",
                                           "nbconvert_exporter":  "python",
                                           "pygments_lexer":  "ipython3",
                                           "version":  "3.10.8"
                                       },
                     "minecraft":  {
                                       "description":  "HOC 2022",
                                       "page_id":  "1.1",
                                       "page_name":  "HOC 2022",
                                       "style":  "minecraft.css"
                                   },
                     "vscode":  {
                                    "interpreter":  {
                                                        "hash":  "34242f13a52f302bd973ebb7ec1f6ba9310bbd38aa2ae877991984a75c84a395"
                                                    }
                                }
                 },
    "nbformat":  4,
    "nbformat_minor":  5
}
