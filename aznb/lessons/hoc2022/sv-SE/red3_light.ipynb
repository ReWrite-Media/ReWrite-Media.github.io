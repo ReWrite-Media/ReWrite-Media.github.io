﻿{
    "cells":  [
                  {
                      "cell_type":  "markdown",
                      "id":  "15c6efa9",
                      "metadata":  {

                                   },
                      "source":  [
                                     "#Ljuskraft\n",
                                     "\n",
                                     "Du måste öppna dörren genom att ge ström åt alla lampor! Varje lampa du tänder öppnar dörren ytterligare lite mer. Använd funktionen `move_cursor()` för att placera markören över en lampa och använd sedan funktionen `turn_light_on()` för att tända alla lampor för att öppna dörren!\n",
                                     "\n",
                                     "Funktionen `move_cursor()` tar en parameter som definierar dess riktning. Den parametern är färgen på pilen som representerar den riktning du vill flytta.\n",
                                     "\n",
                                     "Giltiga riktningar är:\n",
                                     "- `orange` (flyttar markören uppåt) ![Orange pil](img/orange_arrow.png \"Orange pil\")\n",
                                     "- `magenta` (ljuslila) (flyttar markören nedåt) ![Ljuslila pil](img/magenta_arrow.png \"Ljuslila pil\")\n",
                                     "- `blue` (blå) (flyttar markören till vänster)  ![Blå pil](img/blue_arrow.png \"Blå pil\")\n",
                                     "- `yellow` (gul) (flyttar markören åt höger) ![Gul pil](img/yellow_arrow.png \"Gul pil\")"
                                 ]
                  },
                  {
                      "cell_type":  "code",
                      "execution_count":  null,
                      "id":  "677f2ea6",
                      "metadata":  {
                                       "minecraft":  {
                                                         "closeCodeBuilderOnRun":  true,
                                                         "hidden":  false,
                                                         "onCodeCancelledCommand":  "scoreboard players set @s code_status 0",
                                                         "onCodeErrorCommand":  "scoreboard players set @s code_status 0",
                                                         "onCodeStartedCommand":  "scoreboard players set @s code_status 1",
                                                         "onCodeStoppedCommand":  "scoreboard players set @s code_status 0",
                                                         "onCodeSuccessfulCommand":  "scoreboard players set @s code_status 0",
                                                         "overridePython":  "import time\n\ntimeout = 0.100\ncommunicationPos = (0, 64, 0)\n\ntime.sleep(0.250)\n\ndef move_cursor(color):\n    if color == \"orange\":\n        world.set(communicationPos, \"orange concrete\")\n        time.sleep(timeout)\n    elif color == \"magenta\":\n        world.set(communicationPos, \"magenta concrete\")\n        time.sleep(timeout)\n    elif color == \"blue\":\n        world.set(communicationPos, \"light blue concrete\")\n        time.sleep(timeout)\n    elif color == \"yellow\":\n        world.set(communicationPos, \"yellow concrete\")\n        time.sleep(timeout)\n\ndef turn_light_on():\n    world.set(communicationPos, \"lime concrete\")\n    time.sleep(timeout)  \n@user-code",
                                                         "readonly":  true
                                                     }
                                   },
                      "outputs":  [

                                  ],
                      "source":  [
                                     "# KODEXEMPEL – DU KAN INTE REDIGERA HÄR\n",
                                     "# KÖR DEN FÖR ATT SE VAD SOM HÄNDER\n",
                                     "\n",
                                     "# flytta markören åt höger och tänd sedan\n",
                                     "# lampan. upprepa 3 gånger\n",
                                     "\n",
                                     "move_cursor(\"yellow\")\n",
                                     "turn_light_on()\n",
                                     "move_cursor(\"yellow\")\n",
                                     "turn_light_on()\n",
                                     "move_cursor(\"yellow\")\n",
                                     "turn_light_on()"
                                 ]
                  },
                  {
                      "cell_type":  "markdown",
                      "id":  "6997e5fa",
                      "metadata":  {

                                   },
                      "source":  [
                                     "# Tips från proffsen:\n",
                                     "\n",
                                     "Använd en ”for”-loop till att göra en eller flera åtgärder upprepade gånger."
                                 ]
                  },
                  {
                      "cell_type":  "code",
                      "execution_count":  null,
                      "id":  "84c42687",
                      "metadata":  {
                                       "minecraft":  {
                                                         "closeCodeBuilderOnRun":  true,
                                                         "hidden":  false,
                                                         "onCodeCancelledCommand":  "scoreboard players set @s code_status 0",
                                                         "onCodeErrorCommand":  "scoreboard players set @s code_status 0",
                                                         "onCodeStartedCommand":  "scoreboard players set @s code_status 1",
                                                         "onCodeStoppedCommand":  "scoreboard players set @s code_status 0",
                                                         "onCodeSuccessfulCommand":  "scoreboard players set @s code_status 0",
                                                         "overridePython":  "import time\n\ntimeout = 0.100\ncommunicationPos = (0, 64, 0)\n\ntime.sleep(0.250)\n\ndef move_cursor(color):\n    if color == \"orange\":\n        world.set(communicationPos, \"orange concrete\")\n        time.sleep(timeout)\n    elif color == \"magenta\":\n        world.set(communicationPos, \"magenta concrete\")\n        time.sleep(timeout)\n    elif color == \"blue\":\n        world.set(communicationPos, \"light blue concrete\")\n        time.sleep(timeout)\n    elif color == \"yellow\":\n        world.set(communicationPos, \"yellow concrete\")\n        time.sleep(timeout)\n\ndef turn_light_on():\n    world.set(communicationPos, \"lime concrete\")\n    time.sleep(timeout)  \n@user-code",
                                                         "readonly":  true
                                                     }
                                   },
                      "outputs":  [

                                  ],
                      "source":  [
                                     "# KODEXEMPEL – DU KAN INTE REDIGERA HÄR\n",
                                     "# KÖR DEN FÖR ATT SE VAD SOM HÄNDER\n",
                                     "\n",
                                     "# flytta markören åt höger och tänd sedan\n",
                                     "# lampan. upprepa 3 gånger\n",
                                     "\n",
                                     "for i in range(3):\n",
                                     "    move_cursor(\"yellow\")\n",
                                     "    turn_light_on()"
                                 ]
                  },
                  {
                      "cell_type":  "markdown",
                      "id":  "f3cc0e99",
                      "metadata":  {

                                   },
                      "source":  [
                                     "# Aktivitet:\n",
                                     "\n",
                                     "Tänd alla lampor så att dörren öppnas helt och du kan komma igenom.\n",
                                     "\n",
                                     "Koden nedan fungerar inte. Kan du lösa problemet? Kör koden för att se vad som händer och felsök den sedan genom att redigera tills du hittar rätt lösning."
                                 ]
                  },
                  {
                      "cell_type":  "code",
                      "execution_count":  null,
                      "id":  "b6f4bd0e",
                      "metadata":  {
                                       "minecraft":  {
                                                         "closeCodeBuilderOnRun":  true,
                                                         "hidden":  false,
                                                         "onCodeCancelledCommand":  "scoreboard players set @s code_status 0",
                                                         "onCodeErrorCommand":  "scoreboard players set @s code_status 0",
                                                         "onCodeStartedCommand":  "scoreboard players set @s code_status 1",
                                                         "onCodeStoppedCommand":  "scoreboard players set @s code_status 0",
                                                         "onCodeSuccessfulCommand":  "scoreboard players set @s code_status 0",
                                                         "overridePython":  "import time\n\ntimeout = 0.100\ncommunicationPos = (0, 64, 0)\n\ntime.sleep(0.250)\n\ndef move_cursor(color):\n    if color == \"orange\":\n        world.set(communicationPos, \"orange concrete\")\n        time.sleep(timeout)\n    elif color == \"magenta\":\n        world.set(communicationPos, \"magenta concrete\")\n        time.sleep(timeout)\n    elif color == \"blue\":\n        world.set(communicationPos, \"light blue concrete\")\n        time.sleep(timeout)\n    elif color == \"yellow\":\n        world.set(communicationPos, \"yellow concrete\")\n        time.sleep(timeout)\n\ndef turn_light_on():\n    world.set(communicationPos, \"lime concrete\")\n    time.sleep(timeout)  \n@user-code",
                                                         "readonly":  false
                                                     }
                                   },
                      "outputs":  [

                                  ],
                      "source":  [
                                     "# kod här\n",
                                     "\n",
                                     "move_cursor(\"yellow\")\n",
                                     "move_cursor(\"yellow\")\n",
                                     "turn_light_on()\n",
                                     "move_cursor(\"yellow\")\n",
                                     "move_cursor(\"yellow\")\n",
                                     "turn_light_on()"
                                 ]
                  }
              ],
    "metadata":  {
                     "celltoolbar":  "Edit Metadata",
                     "kernelspec":  {
                                        "display_name":  "Python 3 (ipykernel)",
                                        "language":  "python",
                                        "name":  "python3"
                                    },
                     "language_info":  {
                                           "codemirror_mode":  {
                                                                   "name":  "ipython",
                                                                   "version":  3
                                                               },
                                           "file_extension":  ".py",
                                           "mimetype":  "text/x-python",
                                           "name":  "python",
                                           "nbconvert_exporter":  "python",
                                           "pygments_lexer":  "ipython3",
                                           "version":  "3.10.7"
                                       },
                     "minecraft":  {
                                       "description":  "TMK 2022",
                                       "page_id":  "1.1",
                                       "page_name":  "TMK 2022",
                                       "style":  "minecraft.css"
                                   }
                 },
    "nbformat":  4,
    "nbformat_minor":  5
}
