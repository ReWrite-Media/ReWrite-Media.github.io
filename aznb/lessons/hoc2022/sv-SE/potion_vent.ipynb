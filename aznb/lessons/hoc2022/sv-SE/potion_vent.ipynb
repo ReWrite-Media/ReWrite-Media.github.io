﻿{
    "cells":  [
                  {
                      "cell_type":  "markdown",
                      "id":  "4c8d2435",
                      "metadata":  {

                                   },
                      "source":  [
                                     "#\n",
                                     "\n",
                                     "Flytta lerkulan till guldblocket så att den kan öppna dörren till nästa sektion. Använd funktionen \u0027clay_ball_move()\u0027 för att navigera bollen genom väggen.\n",
                                     "\n",
                                     "Funktionen \u0027clay_ball_move()\u0027 tar en parameter som definierar vilken riktning den ska röra sig i.\n",
                                     "\n",
                                     "Giltiga riktningar är: \n",
                                     "- `up`\n",
                                     "- `down`\n",
                                     "– left (vänster)\n",
                                     "- `right`"
                                 ]
                  },
                  {
                      "cell_type":  "code",
                      "execution_count":  null,
                      "id":  "328acf46",
                      "metadata":  {
                                       "minecraft":  {
                                                         "closeCodeBuilderOnRun":  true,
                                                         "hidden":  false,
                                                         "onCodeCancelledCommand":  "scoreboard players set @s code_status 0",
                                                         "onCodeErrorCommand":  "scoreboard players set @s code_status 0",
                                                         "onCodeStartedCommand":  "scoreboard players set @s code_status 1",
                                                         "onCodeStoppedCommand":  "scoreboard players set @s code_status 0",
                                                         "onCodeSuccessfulCommand":  "scoreboard players set @s code_status 0",
                                                         "overridePython":  "import time\n\ntimeout = 0.100\ncommunicationPos = (0, 64, 0)\n\ntime.sleep(0.250)\n\ndef clay_ball_move(direction):\n       agent.move(direction)\n@user-code",
                                                         "readonly":  false
                                                     }
                                   },
                      "outputs":  [

                                  ],
                      "source":  [
                                     "# KODEXEMPEL - DU KAN INTE REDIGERA HÄR\n",
                                     "# KÖR DET FÖR ATT SE VAD SOM HÄNDER\n",
                                     "\n",
                                     "# flytta lerkulan\n",
                                     "# lämnade ett mellanslag och\n",
                                     "# framåt tre mellanslag\n",
                                     "\n",
                                     "clay_ball_move(\"left\")\n",
                                     "clay_ball_move(\"right\")\n",
                                     "clay_ball_move(\"right\")\n",
                                     "clay_ball_move(\"right\")"
                                 ]
                  },
                  {
                      "cell_type":  "markdown",
                      "id":  "a327d84f",
                      "metadata":  {

                                   },
                      "source":  [
                                     "# Tips från proffsen:\n",
                                     "\n",
                                     "Använd en ”for”-loop till att göra en eller flera åtgärder upprepade gånger."
                                 ]
                  },
                  {
                      "cell_type":  "code",
                      "execution_count":  null,
                      "id":  "f4c88099",
                      "metadata":  {
                                       "minecraft":  {
                                                         "closeCodeBuilderOnRun":  true,
                                                         "hidden":  false,
                                                         "onCodeCancelledCommand":  "scoreboard players set @s code_status 0",
                                                         "onCodeErrorCommand":  "scoreboard players set @s code_status 0",
                                                         "onCodeStartedCommand":  "scoreboard players set @s code_status 1",
                                                         "onCodeStoppedCommand":  "scoreboard players set @s code_status 0",
                                                         "onCodeSuccessfulCommand":  "scoreboard players set @s code_status 0",
                                                         "overridePython":  "import time\n\ntimeout = 0.100\ncommunicationPos = (0, 64, 0)\n\ntime.sleep(0.250)\n\ndef clay_ball_move(direction):\n       agent.move(direction)\n@user-code",
                                                         "readonly":  true
                                                     }
                                   },
                      "outputs":  [

                                  ],
                      "source":  [
                                     "# KODEXEMPEL - DU KAN INTE REDIGERA HÄR\n",
                                     "# KÖR DET FÖR ATT SE VAD SOM HÄNDER\n",
                                     "\n",
                                     "# flytta lerkulan\n",
                                     "# lämnade ett mellanslag och\n",
                                     "# framåt tre mellanslag\n",
                                     "\n",
                                     "clay_ball_move(\"left\")\n",
                                     "\n",
                                     "for i in range(3):\n",
                                     "    clay_ball_move(\"forward\")"
                                 ]
                  },
                  {
                      "cell_type":  "markdown",
                      "id":  "49cdce6f",
                      "metadata":  {

                                   },
                      "source":  [
                                     "# Aktivitet:\n",
                                     "\n",
                                     "Flytta lerkulan genom väggen för att nå guldblocket i slutet.\n",
                                     "\n",
                                     "Den medföljande koden nedan är trasig. Kan du fixa det? Kör koden för att se vad som händer och felsök den sedan genom att redigera den till rätt lösning."
                                 ]
                  },
                  {
                      "cell_type":  "code",
                      "execution_count":  null,
                      "id":  "b6f4bd0e",
                      "metadata":  {
                                       "minecraft":  {
                                                         "closeCodeBuilderOnRun":  true,
                                                         "hidden":  false,
                                                         "onCodeCancelledCommand":  "scoreboard players set @s code_status 0",
                                                         "onCodeErrorCommand":  "scoreboard players set @s code_status 0",
                                                         "onCodeStartedCommand":  "scoreboard players set @s code_status 1",
                                                         "onCodeStoppedCommand":  "scoreboard players set @s code_status 0",
                                                         "onCodeSuccessfulCommand":  "scoreboard players set @s code_status 0",
                                                         "overridePython":  "import time\n\ntimeout = 0.100\ncommunicationPos = (0, 64, 0)\n\ntime.sleep(0.250)\n\ndef clay_ball_move(direction):\n       agent.move(direction)\n@user-code",
                                                         "readonly":  false
                                                     }
                                   },
                      "outputs":  [

                                  ],
                      "source":  [
                                     "# kod här\n",
                                     "\n",
                                     "clay_ball_move(\"right\")\n",
                                     "clay_ball_move(\"right\")\n",
                                     "clay_ball_move(\"left\")\n",
                                     "clay_ball_move(\"left\")"
                                 ]
                  }
              ],
    "metadata":  {
                     "celltoolbar":  "Edit Metadata",
                     "kernelspec":  {
                                        "display_name":  "Python 3 (ipykernel)",
                                        "language":  "python",
                                        "name":  "python3"
                                    },
                     "language_info":  {
                                           "codemirror_mode":  {
                                                                   "name":  "ipython",
                                                                   "version":  3
                                                               },
                                           "file_extension":  ".py",
                                           "mimetype":  "text/x-python",
                                           "name":  "python",
                                           "nbconvert_exporter":  "python",
                                           "pygments_lexer":  "ipython3",
                                           "version":  "3.10.7"
                                       },
                     "minecraft":  {
                                       "description":  "HOC 2022",
                                       "page_id":  "1.1",
                                       "page_name":  "HOC 2022",
                                       "style":  "minecraft.css"
                                   }
                 },
    "nbformat":  4,
    "nbformat_minor":  5
}
