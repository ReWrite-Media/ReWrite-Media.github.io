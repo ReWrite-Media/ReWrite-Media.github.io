﻿{
    "cells":  [
                  {
                      "cell_type":  "markdown",
                      "id":  "d98fd2c2",
                      "metadata":  {

                                   },
                      "source":  [
                                     "# Labyrint\n",
                                     "\n",
                                     "Led endermanbetjänten till smaragdblocken på andra sidan labyrinten! Spakarna på väggen verkar ha en färg som matchar ett antal dörröppningar i labyrinten. Du måste dra i spakarna för att skapa en säker väg åt endermanbetjänten! Använd sedan funktionen `move_enderman_direction()` för att vägleda den genom labyrinten.\n",
                                     "\n",
                                     "Funktionen `move_enderman_direction()` tar en parameter som definierar i vilken riktning den ska röra sig.\n",
                                     "\n",
                                     "Giltiga riktningar är:\n",
                                     "- `forward` (framåt)\n",
                                     "- `back` (bakåt)\n",
                                     "- `left` (vänster)\n",
                                     "- `right` (höger)"
                                 ]
                  },
                  {
                      "cell_type":  "code",
                      "execution_count":  null,
                      "id":  "e17b4052",
                      "metadata":  {
                                       "minecraft":  {
                                                         "closeCodeBuilderOnRun":  true,
                                                         "hidden":  false,
                                                         "onCodeCancelledCommand":  "scoreboard players set @s code_status 0",
                                                         "onCodeErrorCommand":  "scoreboard players set @s code_status 0",
                                                         "onCodeStartedCommand":  "scoreboard players set @s code_status 1",
                                                         "onCodeStoppedCommand":  "scoreboard players set @s code_status 0",
                                                         "onCodeSuccessfulCommand":  "scoreboard players set @s code_status 0",
                                                         "overridePython":  "import time\n\ntimeout = 0.100\ncommunicationPos = (0, 64, 0)\n\ntime.sleep(0.250)\n\ndef move_enderman_direction(direction):\n    if direction==\"forward\":\n        world.set(communicationPos, \"orange concrete\")\n        time.sleep(timeout) \n    elif direction==\"back\":\n        world.set(communicationPos, \"magenta concrete\")\n        time.sleep(timeout) \n    elif direction==\"left\":\n        world.set(communicationPos, \"light blue concrete\")\n        time.sleep(timeout) \n    elif direction==\"right\":\n        world.set(communicationPos, \"yellow concrete\")\n        time.sleep(timeout) \n            \n@user-code",
                                                         "readonly":  true
                                                     }
                                   },
                      "outputs":  [

                                  ],
                      "source":  [
                                     "# KODEXEMPEL – DU KAN INTE REDIGERA HÄR\n",
                                     "# KÖR DEN FÖR ATT SE VAD SOM HÄNDER\n",
                                     "\n",
                                     "# flytta endermannen 4 block framåt\n",
                                     "# och sedan 1 block åt höger\n",
                                     "\n",
                                     "move_enderman_direction(\"forward\")\n",
                                     "move_enderman_direction(\"forward\")\n",
                                     "move_enderman_direction(\"forward\")\n",
                                     "move_enderman_direction(\"forward\")\n",
                                     "move_enderman_direction(\"right\")"
                                 ]
                  },
                  {
                      "cell_type":  "markdown",
                      "id":  "6acea1bb",
                      "metadata":  {

                                   },
                      "source":  [
                                     "# Tips från proffsen:\n",
                                     "\n",
                                     "Använd en ”for”-loop till att göra en eller flera åtgärder upprepade gånger."
                                 ]
                  },
                  {
                      "cell_type":  "code",
                      "execution_count":  null,
                      "id":  "da2f29e0",
                      "metadata":  {
                                       "minecraft":  {
                                                         "closeCodeBuilderOnRun":  true,
                                                         "hidden":  false,
                                                         "onCodeCancelledCommand":  "scoreboard players set @s code_status 0",
                                                         "onCodeErrorCommand":  "scoreboard players set @s code_status 0",
                                                         "onCodeStartedCommand":  "scoreboard players set @s code_status 1",
                                                         "onCodeStoppedCommand":  "scoreboard players set @s code_status 0",
                                                         "onCodeSuccessfulCommand":  "scoreboard players set @s code_status 0",
                                                         "overridePython":  "import time\n\ntimeout = 0.100\ncommunicationPos = (0, 64, 0)\n\ntime.sleep(0.250)\n\ndef move_enderman_direction(direction):\n    if direction==\"forward\":\n        world.set(communicationPos, \"orange concrete\")\n        time.sleep(timeout) \n    elif direction==\"back\":\n        world.set(communicationPos, \"magenta concrete\")\n        time.sleep(timeout) \n    elif direction==\"left\":\n        world.set(communicationPos, \"light blue concrete\")\n        time.sleep(timeout) \n    elif direction==\"right\":\n        world.set(communicationPos, \"yellow concrete\")\n        time.sleep(timeout) \n            \n@user-code",
                                                         "readonly":  true
                                                     }
                                   },
                      "outputs":  [

                                  ],
                      "source":  [
                                     "# KODEXEMPEL – DU KAN INTE REDIGERA HÄR\n",
                                     "# KÖR DEN FÖR ATT SE VAD SOM HÄNDER\n",
                                     "\n",
                                     "# flytta endermannen 4 block framåt\n",
                                     "# och sedan 1 block åt höger\n",
                                     "\n",
                                     "for i in range(4):\n",
                                     "    move_enderman_direction(\"forward\")\n",
                                     "\n",
                                     "move_enderman_direction(\"right\")"
                                 ]
                  },
                  {
                      "cell_type":  "markdown",
                      "id":  "4bdf0a08",
                      "metadata":  {

                                   },
                      "source":  [
                                     "# Aktivitet:\n",
                                     "\n",
                                     "Spakarna på väggen verkar ha en färg som matchar ett antal dörröppningar i labyrinten. Du måste dra i spakarna så att endermanbetjänten tryggt kan ta sig fram till smaragdblocken!\n",
                                     "\n",
                                     "Koden nedan fungerar inte. Kan du lösa problemet? Kör koden för att se vad som händer och felsök den sedan genom att redigera tills du hittar rätt lösning."
                                 ]
                  },
                  {
                      "cell_type":  "code",
                      "execution_count":  null,
                      "id":  "b6f4bd0e",
                      "metadata":  {
                                       "minecraft":  {
                                                         "closeCodeBuilderOnRun":  true,
                                                         "hidden":  false,
                                                         "onCodeCancelledCommand":  "scoreboard players set @s code_status 0",
                                                         "onCodeErrorCommand":  "scoreboard players set @s code_status 0",
                                                         "onCodeStartedCommand":  "scoreboard players set @s code_status 1",
                                                         "onCodeStoppedCommand":  "scoreboard players set @s code_status 0",
                                                         "onCodeSuccessfulCommand":  "scoreboard players set @s code_status 0",
                                                         "overridePython":  "import time\n\ntimeout = 0.100\ncommunicationPos = (0, 64, 0)\n\ntime.sleep(0.250)\n\ndef move_enderman_direction(direction):\n    if direction==\"forward\":\n        world.set(communicationPos, \"orange concrete\")\n        time.sleep(timeout) \n    elif direction==\"back\":\n        world.set(communicationPos, \"magenta concrete\")\n        time.sleep(timeout) \n    elif direction==\"left\":\n        world.set(communicationPos, \"light blue concrete\")\n        time.sleep(timeout) \n    elif direction==\"right\":\n        world.set(communicationPos, \"yellow concrete\")\n        time.sleep(timeout) \n            \n@user-code",
                                                         "readonly":  false
                                                     }
                                   },
                      "outputs":  [

                                  ],
                      "source":  [
                                     "# kod här\n",
                                     "\n",
                                     "move_enderman_direction(\"forward\")\n",
                                     "move_enderman_direction(\"forward\")\n",
                                     "move_enderman_direction(\"forward\")\n",
                                     "move_enderman_direction(\"right\")\n",
                                     "move_enderman_direction(\"right\")"
                                 ]
                  }
              ],
    "metadata":  {
                     "celltoolbar":  "Edit Metadata",
                     "kernelspec":  {
                                        "display_name":  "Python 3 (ipykernel)",
                                        "language":  "python",
                                        "name":  "python3"
                                    },
                     "language_info":  {
                                           "codemirror_mode":  {
                                                                   "name":  "ipython",
                                                                   "version":  3
                                                               },
                                           "file_extension":  ".py",
                                           "mimetype":  "text/x-python",
                                           "name":  "python",
                                           "nbconvert_exporter":  "python",
                                           "pygments_lexer":  "ipython3",
                                           "version":  "3.10.7"
                                       },
                     "minecraft":  {
                                       "description":  "TMK 2022",
                                       "page_id":  "1.1",
                                       "page_name":  "TMK 2022",
                                       "style":  "minecraft.css"
                                   }
                 },
    "nbformat":  4,
    "nbformat_minor":  5
}
