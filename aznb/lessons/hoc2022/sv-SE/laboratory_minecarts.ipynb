﻿{
    "cells":  [
                  {
                      "cell_type":  "markdown",
                      "id":  "61daf32d",
                      "metadata":  {

                                   },
                      "source":  [
                                     "# Minecart omdirigering\n",
                                     "\n",
                                     "Pöbelhoparna måste sorteras in i rätt gångar! Titta på mobben som står i kö för att sorteras och sortera dem baserat på den ordning de väntar. Använd funktionen \u0027sort_mob()\u0027 för att ställa in ordningen de ska sorteras.\n",
                                     "\n",
                                     "Funktionen \u0027sort_mob()\u0027 tar en parameter som definierar vilken mob som ska sorteras nästa.\n",
                                     "\n",
                                     "Giltiga mobbar är:\n",
                                     "- \"zombie\" ! [Zombie] (img/zombie_head.png \"Zombie\")\n",
                                     "- \"skelett\" ! [Skelett] (img/skeleton_head.png \"Skelett\")\n",
                                     "- \"creeper\" ! [Creeper] (img/creeper_head.png \"Creeper\")"
                                 ]
                  },
                  {
                      "cell_type":  "code",
                      "execution_count":  null,
                      "id":  "972e35c6",
                      "metadata":  {
                                       "minecraft":  {
                                                         "closeCodeBuilderOnRun":  true,
                                                         "hidden":  false,
                                                         "onCodeCancelledCommand":  "scoreboard players set @s code_status 0",
                                                         "onCodeErrorCommand":  "scoreboard players set @s code_status 0",
                                                         "onCodeStartedCommand":  "scoreboard players set @s code_status 1",
                                                         "onCodeStoppedCommand":  "scoreboard players set @s code_status 0",
                                                         "onCodeSuccessfulCommand":  "scoreboard players set @s code_status 0",
                                                         "overridePython":  "import time\n\ntimeout = 0.100\ncommunicationPos = (0, 64, 0)\n\ntime.sleep(0.250)\n\ndef sort_mob(mob):\n    if mob==\"zombie\":\n        world.set(communicationPos, \"orange concrete\")\n        time.sleep(timeout)         \n    elif mob==\"skeleton\":\n        world.set(communicationPos, \"magenta concrete\")\n        time.sleep(timeout)\n    elif mob==\"creeper\":\n        world.set(communicationPos, \"light blue concrete\")\n        time.sleep(timeout)\n@user-code",
                                                         "readonly":  true
                                                     }
                                   },
                      "outputs":  [

                                  ],
                      "source":  [
                                     "# KODEXEMPEL - DU KAN INTE REDIGERA HÄR\n",
                                     "# KÖR DET FÖR ATT SE VAD SOM HÄNDER\n",
                                     "\n",
                                     "# sortera de första 4 mobben alla\n",
                                     "# till zombiepassagen.\n",
                                     "\n",
                                     "sort_mob(\"zombie\")\n",
                                     "sort_mob(\"zombie\")\n",
                                     "sort_mob(\"zombie\")\n",
                                     "sort_mob(\"zombie\")"
                                 ]
                  },
                  {
                      "cell_type":  "markdown",
                      "id":  "dc88a163",
                      "metadata":  {

                                   },
                      "source":  [
                                     "# Aktivitet:\n",
                                     "\n",
                                     "Var uppmärksam på den ordning mobben är i och skriv din kod för att sortera varje mob i rätt passage.\n",
                                     "\n",
                                     "Den medföljande koden nedan är trasig. Kan du fixa det? Kör koden för att se vad som händer och felsök den sedan genom att redigera den till rätt lösning."
                                 ]
                  },
                  {
                      "cell_type":  "code",
                      "execution_count":  null,
                      "id":  "b6f4bd0e",
                      "metadata":  {
                                       "minecraft":  {
                                                         "closeCodeBuilderOnRun":  true,
                                                         "hidden":  false,
                                                         "onCodeCancelledCommand":  "scoreboard players set @s code_status 0",
                                                         "onCodeErrorCommand":  "scoreboard players set @s code_status 0",
                                                         "onCodeStartedCommand":  "scoreboard players set @s code_status 1",
                                                         "onCodeStoppedCommand":  "scoreboard players set @s code_status 0",
                                                         "onCodeSuccessfulCommand":  "scoreboard players set @s code_status 0",
                                                         "overridePython":  "import time\n\ntimeout = 0.100\ncommunicationPos = (0, 64, 0)\n\ntime.sleep(0.250)\n\ndef sort_mob(mob):\n    if mob==\"zombie\":\n        world.set(communicationPos, \"orange concrete\")\n        time.sleep(timeout)         \n    elif mob==\"skeleton\":\n        world.set(communicationPos, \"magenta concrete\")\n        time.sleep(timeout)\n    elif mob==\"creeper\":\n        world.set(communicationPos, \"light blue concrete\")\n        time.sleep(timeout)\n@user-code",
                                                         "readonly":  false
                                                     }
                                   },
                      "outputs":  [

                                  ],
                      "source":  [
                                     "#code här\n",
                                     "\n",
                                     "sort_mob(\"zombie\")\n",
                                     "sort_mob(\"zombie\")\n",
                                     "sort_mob(\"skeleton\")\n",
                                     "sort_mob(\"creeper\")\n",
                                     "sort_mob(\"creeper\")\n",
                                     "sort_mob(\"skeleton\")\n",
                                     "sort_mob(\"zombie\")"
                                 ]
                  }
              ],
    "metadata":  {
                     "celltoolbar":  "Edit Metadata",
                     "kernelspec":  {
                                        "display_name":  "Python 3 (ipykernel)",
                                        "language":  "python",
                                        "name":  "python3"
                                    },
                     "language_info":  {
                                           "codemirror_mode":  {
                                                                   "name":  "ipython",
                                                                   "version":  3
                                                               },
                                           "file_extension":  ".py",
                                           "mimetype":  "text/x-python",
                                           "name":  "python",
                                           "nbconvert_exporter":  "python",
                                           "pygments_lexer":  "ipython3",
                                           "version":  "3.10.7"
                                       },
                     "minecraft":  {
                                       "description":  "HOC 2022",
                                       "page_id":  "1.1",
                                       "page_name":  "HOC 2022",
                                       "style":  "minecraft.css"
                                   }
                 },
    "nbformat":  4,
    "nbformat_minor":  5
}
