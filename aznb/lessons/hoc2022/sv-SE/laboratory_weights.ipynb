﻿{
    "cells":  [
                  {
                      "cell_type":  "markdown",
                      "id":  "bcc5bf7e",
                      "metadata":  {

                                   },
                      "source":  [
                                     "# Vikter\n",
                                     "\n",
                                     "Du behöver få vågen att nå den exakta vikten 23 lbs. Det kanske finns en skylt här i närheten som kan berätta hur mycket varje varelse väger? Använd funktionen `summon_animal()` för att kalla till dig en kombination av djur som tillsammans blir 23 lbs.\n",
                                     "\n",
                                     "Funktionen `summon_animal()` tar en parameter som definierar vilket djur som ska kallas på.\n",
                                     "\n",
                                     "Giltiga djur är:\n",
                                     "- `chicken` ![Höna](img/chicken_weight.png \"Höna\")\n",
                                     "- `sheep` ![Får](img/sheep_weight.png \"Får\")\n",
                                     "- `cow` ![Ko](img/cow_weight.png \"Ko\")"
                                 ]
                  },
                  {
                      "cell_type":  "code",
                      "execution_count":  null,
                      "id":  "35b4de77",
                      "metadata":  {
                                       "minecraft":  {
                                                         "closeCodeBuilderOnRun":  true,
                                                         "hidden":  false,
                                                         "onCodeCancelledCommand":  "scoreboard players set @s code_status 0",
                                                         "onCodeErrorCommand":  "scoreboard players set @s code_status 0",
                                                         "onCodeStartedCommand":  "scoreboard players set @s code_status 1",
                                                         "onCodeStoppedCommand":  "scoreboard players set @s code_status 0",
                                                         "onCodeSuccessfulCommand":  "scoreboard players set @s code_status 0",
                                                         "overridePython":  "import time\n\ntimeout = 0.100\ncommunicationPos = (0, 64, 0)\nweightDropPosition = (-18, 77, 162)\n\ntime.sleep(0.250)\n\ndef summon_animal(mob):\n    if mob==\"chicken\":\n        summon(\"chicken\",weightDropPosition)\n        time.sleep(timeout)         \n    elif mob==\"sheep\":\n        summon(\"sheep\",weightDropPosition)\n        time.sleep(timeout)\n    elif mob==\"cow\":\n        summon(\"cow\",weightDropPosition)\n        time.sleep(timeout)\n@user-code",
                                                         "readonly":  true
                                                     }
                                   },
                      "outputs":  [

                                  ],
                      "source":  [
                                     "# KODEXEMPEL – DU KAN INTE REDIGERA HÄR\n",
                                     "# KÖR DEN FÖR ATT SE VAD SOM HÄNDER\n",
                                     "\n",
                                     "# kalla på 5 hönor och\n",
                                     "# två kor\n",
                                     "\n",
                                     "summon_animal(\"chicken\")\n",
                                     "summon_animal(\"chicken\")\n",
                                     "summon_animal(\"chicken\")\n",
                                     "summon_animal(\"chicken\")\n",
                                     "summon_animal(\"chicken\")\n",
                                     "summon_animal(\"cow\")"
                                 ]
                  },
                  {
                      "cell_type":  "markdown",
                      "id":  "75196082",
                      "metadata":  {

                                   },
                      "source":  [
                                     "# Tips från proffsen:\n",
                                     "\n",
                                     "Använd en ”for”-loop till att göra en eller flera åtgärder upprepade gånger."
                                 ]
                  },
                  {
                      "cell_type":  "code",
                      "execution_count":  null,
                      "id":  "2dd552bd",
                      "metadata":  {
                                       "minecraft":  {
                                                         "closeCodeBuilderOnRun":  true,
                                                         "hidden":  false,
                                                         "onCodeCancelledCommand":  "scoreboard players set @s code_status 0",
                                                         "onCodeErrorCommand":  "scoreboard players set @s code_status 0",
                                                         "onCodeStartedCommand":  "scoreboard players set @s code_status 1",
                                                         "onCodeStoppedCommand":  "scoreboard players set @s code_status 0",
                                                         "onCodeSuccessfulCommand":  "scoreboard players set @s code_status 0",
                                                         "overridePython":  "import time\n\ntimeout = 0.100\ncommunicationPos = (0, 64, 0)\nweightDropPosition = (-18, 77, 162)\n\ntime.sleep(0.250)\n\ndef summon_animal(mob):\n    if mob==\"chicken\":\n        summon(\"chicken\",weightDropPosition)\n        time.sleep(timeout)         \n    elif mob==\"sheep\":\n        summon(\"sheep\",weightDropPosition)\n        time.sleep(timeout)\n    elif mob==\"cow\":\n        summon(\"cow\",weightDropPosition)\n        time.sleep(timeout)\n@user-code",
                                                         "readonly":  true
                                                     }
                                   },
                      "outputs":  [

                                  ],
                      "source":  [
                                     "# KODEXEMPEL – DU KAN INTE REDIGERA HÄR\n",
                                     "# KÖR DEN FÖR ATT SE VAD SOM HÄNDER\n",
                                     "\n",
                                     "# kalla på 5 hönor och\n",
                                     "# två kor\n",
                                     "\n",
                                     "for i in range(5):\n",
                                     "    summon_animal(\"chicken\")\n",
                                     "\n",
                                     "summon_animal(\"cow\")"
                                 ]
                  },
                  {
                      "cell_type":  "markdown",
                      "id":  "7c5e56fb",
                      "metadata":  {

                                   },
                      "source":  [
                                     "# Aktivitet:\n",
                                     "\n",
                                     "Leta information om hur mycket varje djur väger i området och skriv sedan kod för att kalla på tillräckligt många djur för att väga exakt 23 lbs.\n",
                                     "\n",
                                     "Koden nedan fungerar inte. Kan du lösa problemet? Kör koden för att se vad som händer och felsök den sedan genom att redigera tills du hittar rätt lösning."
                                 ]
                  },
                  {
                      "cell_type":  "code",
                      "execution_count":  null,
                      "id":  "b6f4bd0e",
                      "metadata":  {
                                       "minecraft":  {
                                                         "closeCodeBuilderOnRun":  true,
                                                         "hidden":  false,
                                                         "onCodeCancelledCommand":  "scoreboard players set @s code_status 0",
                                                         "onCodeErrorCommand":  "scoreboard players set @s code_status 0",
                                                         "onCodeStartedCommand":  "scoreboard players set @s code_status 1",
                                                         "onCodeStoppedCommand":  "scoreboard players set @s code_status 0",
                                                         "onCodeSuccessfulCommand":  "scoreboard players set @s code_status 0",
                                                         "overridePython":  "import time\n\ntimeout = 0.100\ncommunicationPos = (0, 64, 0)\nweightDropPosition = (-18, 77, 162)\n\ntime.sleep(0.250)\n\ndef summon_animal(mob):\n    if mob==\"chicken\":\n        summon(\"chicken\",weightDropPosition)\n        time.sleep(timeout)         \n    elif mob==\"sheep\":\n        summon(\"sheep\",weightDropPosition)\n        time.sleep(timeout)\n    elif mob==\"cow\":\n        summon(\"cow\",weightDropPosition)\n        time.sleep(timeout)\n@user-code",
                                                         "readonly":  false
                                                     }
                                   },
                      "outputs":  [

                                  ],
                      "source":  [
                                     "# kod här\n",
                                     "\n",
                                     "summon_animal(\"chicken\")\n",
                                     "summon_animal(\"chicken\")\n",
                                     "summon_animal(\"sheep\")\n",
                                     "summon_animal(\"cow\")\n"
                                 ]
                  }
              ],
    "metadata":  {
                     "celltoolbar":  "Edit Metadata",
                     "kernelspec":  {
                                        "display_name":  "Python 3 (ipykernel)",
                                        "language":  "python",
                                        "name":  "python3"
                                    },
                     "language_info":  {
                                           "codemirror_mode":  {
                                                                   "name":  "ipython",
                                                                   "version":  3
                                                               },
                                           "file_extension":  ".py",
                                           "mimetype":  "text/x-python",
                                           "name":  "python",
                                           "nbconvert_exporter":  "python",
                                           "pygments_lexer":  "ipython3",
                                           "version":  "3.10.7"
                                       },
                     "minecraft":  {
                                       "description":  "TMK 2022",
                                       "page_id":  "1.1",
                                       "page_name":  "TMK 2022",
                                       "style":  "minecraft.css"
                                   }
                 },
    "nbformat":  4,
    "nbformat_minor":  5
}
