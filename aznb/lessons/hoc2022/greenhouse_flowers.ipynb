{
 "cells": [
  {
   "cell_type": "markdown",
   "id": "44001b61",
   "metadata": {},
   "source": [
    "# Flower Planting\n",
    "\n",
    "It looks like there is some type of pattern I need to follow to plant these flowers. Maybe the planters to the left and right could show me how I'm suppose to be planting these.\n",
    "\n",
    "Move the cursor using the ``||hoc22.cursor move <direction>||`` block and then use ``||hoc22.place <flower>||`` to place the correct flower. Match the pattern on the left and right to complete the puzzle.\n"
   ]
  },
  {
   "cell_type": "code",
   "execution_count": null,
   "id": "b6f4bd0e",
   "metadata": {
    "minecraft": {
     "closeCodeBuilderOnRun": true,
     "hidden": false,
     "onCodeCancelledCommand": "scoreboard players set @s code_status 0",
     "onCodeErrorCommand": "scoreboard players set @s code_status 0",
     "onCodeStartedCommand": "scoreboard players set @s code_status 1",
     "onCodeStoppedCommand": "scoreboard players set @s code_status 0",
     "onCodeSuccessfulCommand": "scoreboard players set @s code_status 0",
     "overridePython": "import time\n\ntimeout = 0.100\ncommunicationPos = (0, 64, 0)\n\ntime.sleep(0.250)\n\ndef move_cursor(color):\n    if color == \"orange\":\n        world.set(communicationPos, \"orange concrete\")\n        time.sleep(timeout)\n    elif color == \"magenta\":\n        world.set(communicationPos, \"magenta concrete\")\n        time.sleep(timeout)\n    elif color == \"blue\":\n        world.set(communicationPos, \"light blue concrete\")\n        time.sleep(timeout)\n    elif color == \"yellow\":\n        world.set(communicationPos, \"yellow concrete\")\n        time.sleep(timeout)\n\ndef plant_flower(color):\n    if color==\"red\":\n        world.set(communicationPos, \"lime concrete\")\n        time.sleep(timeout)         \n    elif color==\"yellow\":\n        world.set(communicationPos, \"pink concrete\")\n        time.sleep(timeout)\n    elif color==\"blue\":\n        world.set(communicationPos, \"gray concrete\")\n        time.sleep(timeout)\n@user-code",
     "readonly": false
    }
   },
   "outputs": [],
   "source": [
    "plant_flower(\"blue\")\n",    
    "move_cursor(\"yellow\")\n",
    "move_cursor(\"yellow\")\n",
    "move_cursor(\"yellow\")\n",
    "move_cursor(\"magenta\")\n",
    "plant_flower(\"yellow\")\n",    
    "move_cursor(\"blue\")\n",
    "move_cursor(\"magenta\")\n",
    "plant_flower(\"red\")\n"
   ]
  }
 ],
 "metadata": {
  "kernelspec": {
   "display_name": "Python 3 (ipykernel)",
   "language": "python",
   "name": "python3"
  },
  "language_info": {
   "codemirror_mode": {
    "name": "ipython",
    "version": 3
   },
   "file_extension": ".py",
   "mimetype": "text/x-python",
   "name": "python",
   "nbconvert_exporter": "python",
   "pygments_lexer": "ipython3",
   "version": "3.10.7"
  },
  "minecraft": {
   "description": "HOC 2022",
   "page_id": "1.1",
   "page_name": "HOC 2022",
   "style": "minecraft.css"
  }
 },
 "nbformat": 4,
 "nbformat_minor": 5
}
