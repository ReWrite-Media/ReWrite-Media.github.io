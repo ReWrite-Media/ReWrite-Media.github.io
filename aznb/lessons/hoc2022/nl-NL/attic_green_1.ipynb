﻿{
    "cells":  [
                  {
                      "cell_type":  "markdown",
                      "id":  "81ae62a5",
                      "metadata":  {

                                   },
                      "source":  [
                                     "# Zolder-tutorial (Groen pad deel 1)\n",
                                     "\n",
                                     "Het vak met de pijl op de vloer is je cursor. Je gebruikt de cursor om blokken te manipuleren om tijdens deze ervaring puzzels op te lossen tijdens. In deze activiteit gebruik je hem om het valluik te openen en de agent te bevrijden. Gebruik \u0027move_cursor()\u0027 om de cursor te positioneren en \u0027open_trapdoor()\u0027 om het door jou geselecteerde valluik te openen.\n",
                                     "\n",
                                     "De functie \u0027move_cursor()\u0027 accepteert één parameter die de richting bepaalt. Die parameter is de kleur van de pijl die de richting aangeeft waarin jij je wilt verplaatsen.\n",
                                     "\n",
                                     "Geldige richtingen zijn:\n",
                                     "- \u0027orange\u0027 (beweegt de cursor omhoog) ![Oranje pijl](img/orange_arrow.png \u0027Oranje pijl\u0027)"
                                 ]
                  },
                  {
                      "cell_type":  "code",
                      "execution_count":  null,
                      "id":  "9efa0261",
                      "metadata":  {
                                       "minecraft":  {
                                                         "closeCodeBuilderOnRun":  true,
                                                         "hidden":  false,
                                                         "onCodeCancelledCommand":  "scoreboard players set @s code_status 0",
                                                         "onCodeErrorCommand":  "scoreboard players set @s code_status 0",
                                                         "onCodeStartedCommand":  "scoreboard players set @s code_status 1",
                                                         "onCodeStoppedCommand":  "scoreboard players set @s code_status 0",
                                                         "onCodeSuccessfulCommand":  "scoreboard players set @s code_status 0",
                                                         "overridePython":  "import time\n\ntimeout = 0.100\ncommunicationPos = (0, 64, 0)\n\ntime.sleep(0.250)\n\ndef move_cursor(color):\n    if color == \"orange\":\n        world.set(communicationPos, \"orange concrete\")\n        time.sleep(timeout)\n\ndef open_trapdoor():\n    world.set(communicationPos, \"lime concrete\")\n    time.sleep(timeout) \n@user-code",
                                                         "readonly":  true
                                                     }
                                   },
                      "outputs":  [

                                  ],
                      "source":  [
                                     "# CODEVOORBEELD - JE KUNT HIER NIETS BEWERKEN\n",
                                     "# VOER HET UIT EN KIJK WAT ER GEBEURT\n",
                                     "\n",
                                     "# beweeg de cursor 3 blokken naar voren\n",
                                     "# open het valluik dat is geselecteerd\n",
                                     "\n",
                                     "move_cursor(\"orange\")\n",
                                     "move_cursor(\"orange\")\n",
                                     "open_trapdoor()"
                                 ]
                  },
                  {
                      "cell_type":  "markdown",
                      "id":  "70d03930",
                      "metadata":  {

                                   },
                      "source":  [
                                     "# Activiteit:\n",
                                     "\n",
                                     "Beweeg de cursor, zodat deze zich boven het houten valluik in het midden van de zolder bevindt. Open vervolgens het valluik om de agent die eronder gevangen zit te bevrijden.\n",
                                     "\n",
                                     "De onderstaande code is defect. Kun je hem maken? Voer de code uit om te zien wat er gebeurt en debug hem vervolgens door hem te bewerken naar de juiste oplossing."
                                 ]
                  },
                  {
                      "cell_type":  "code",
                      "execution_count":  null,
                      "id":  "b6f4bd0e",
                      "metadata":  {
                                       "minecraft":  {
                                                         "closeCodeBuilderOnRun":  true,
                                                         "hidden":  false,
                                                         "onCodeCancelledCommand":  "scoreboard players set @s code_status 0",
                                                         "onCodeErrorCommand":  "scoreboard players set @s code_status 0",
                                                         "onCodeStartedCommand":  "scoreboard players set @s code_status 1",
                                                         "onCodeStoppedCommand":  "scoreboard players set @s code_status 0",
                                                         "onCodeSuccessfulCommand":  "scoreboard players set @s code_status 0",
                                                         "overridePython":  "import time\n\ntimeout = 0.100\ncommunicationPos = (0, 64, 0)\n\ntime.sleep(0.250)\n\ndef move_cursor(color):\n    if color == \"orange\":\n        world.set(communicationPos, \"orange concrete\")\n        time.sleep(timeout)\n\ndef open_trapdoor():\n    world.set(communicationPos, \"lime concrete\")\n    time.sleep(timeout) \n@user-code",
                                                         "readonly":  false
                                                     }
                                   },
                      "outputs":  [

                                  ],
                      "source":  [
                                     "# code hier\n",
                                     "\n",
                                     "move_cursor(\"orange\")\n",
                                     "move_cursor(\"orange\")\n",
                                     "open_trapdoor()\n"
                                 ]
                  }
              ],
    "metadata":  {
                     "celltoolbar":  "Edit Metadata",
                     "kernelspec":  {
                                        "display_name":  "Python 3 (ipykernel)",
                                        "language":  "python",
                                        "name":  "python3"
                                    },
                     "language_info":  {
                                           "codemirror_mode":  {
                                                                   "name":  "ipython",
                                                                   "version":  3
                                                               },
                                           "file_extension":  ".py",
                                           "mimetype":  "text/x-python",
                                           "name":  "python",
                                           "nbconvert_exporter":  "python",
                                           "pygments_lexer":  "ipython3",
                                           "version":  "3.10.7"
                                       },
                     "minecraft":  {
                                       "description":  "HOC 2022",
                                       "page_id":  "1.1",
                                       "page_name":  "HOC 2022",
                                       "style":  "minecraft.css"
                                   }
                 },
    "nbformat":  4,
    "nbformat_minor":  5
}
