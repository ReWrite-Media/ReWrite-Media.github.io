﻿{
    "cells":  [
                  {
                      "cell_type":  "markdown",
                      "id":  "d98fd2c2",
                      "metadata":  {

                                   },
                      "source":  [
                                     "# Doolhof\n",
                                     "\n",
                                     "Leid de Endermanbutler naar de smaragdgroene blokken aan de andere kant van het doolhof! De hendels aan de muur lijken kleuren te hebben die overeenkomen met een reeks deuropeningen in het doolhof. Je moet deze hendels overhalen om een veilig pad te creëren om de Endermanbutler naar de smaragdgroene blokken te leiden! Gebruik vervolgens de functie \u0027move_enderman_direction()\u0027 om ze door het doolhof te navigeren.\n",
                                     "\n",
                                     "De functie \u0027move_enderman_direction()\u0027 accpteert één parameter die definieert in welke richting deze moet bewegen.\n",
                                     "\n",
                                     "Geldige richtingen zijn:\n",
                                     "- `forward` (naar voren)\n",
                                     "- `back` (terug)\n",
                                     "- `left` (naar links)\n",
                                     "- `right` (naar rechts)"
                                 ]
                  },
                  {
                      "cell_type":  "code",
                      "execution_count":  null,
                      "id":  "e17b4052",
                      "metadata":  {
                                       "minecraft":  {
                                                         "closeCodeBuilderOnRun":  true,
                                                         "hidden":  false,
                                                         "onCodeCancelledCommand":  "scoreboard players set @s code_status 0",
                                                         "onCodeErrorCommand":  "scoreboard players set @s code_status 0",
                                                         "onCodeStartedCommand":  "scoreboard players set @s code_status 1",
                                                         "onCodeStoppedCommand":  "scoreboard players set @s code_status 0",
                                                         "onCodeSuccessfulCommand":  "scoreboard players set @s code_status 0",
                                                         "overridePython":  "import time\n\ntimeout = 0.100\ncommunicationPos = (0, 64, 0)\n\ntime.sleep(0.250)\n\ndef move_enderman_direction(direction):\n    if direction==\"forward\":\n        world.set(communicationPos, \"orange concrete\")\n        time.sleep(timeout) \n    elif direction==\"back\":\n        world.set(communicationPos, \"magenta concrete\")\n        time.sleep(timeout) \n    elif direction==\"left\":\n        world.set(communicationPos, \"light blue concrete\")\n        time.sleep(timeout) \n    elif direction==\"right\":\n        world.set(communicationPos, \"yellow concrete\")\n        time.sleep(timeout) \n            \n@user-code",
                                                         "readonly":  true
                                                     }
                                   },
                      "outputs":  [

                                  ],
                      "source":  [
                                     "# CODEVOORBEELD - JE KUNT HIER NIETS BEWERKEN\n",
                                     "# VOER HET UIT EN KIJK WAT ER GEBEURT\n",
                                     "\n",
                                     "# verplaats de Enderman 4 blokken naar voren\n",
                                     "# en vervolgens 1 blok naar rechts\n",
                                     "\n",
                                     "move_enderman_direction(\"forward\")\n",
                                     "move_enderman_direction(\"forward\")\n",
                                     "move_enderman_direction(\"forward\")\n",
                                     "move_enderman_direction(\"forward\")\n",
                                     "move_enderman_direction(\"right\")"
                                 ]
                  },
                  {
                      "cell_type":  "markdown",
                      "id":  "6acea1bb",
                      "metadata":  {

                                   },
                      "source":  [
                                     "# Protip:\n",
                                     "\n",
                                     "Gebruik een `for`-lus om een of meerdere acties meerdere keren uit te voeren."
                                 ]
                  },
                  {
                      "cell_type":  "code",
                      "execution_count":  null,
                      "id":  "da2f29e0",
                      "metadata":  {
                                       "minecraft":  {
                                                         "closeCodeBuilderOnRun":  true,
                                                         "hidden":  false,
                                                         "onCodeCancelledCommand":  "scoreboard players set @s code_status 0",
                                                         "onCodeErrorCommand":  "scoreboard players set @s code_status 0",
                                                         "onCodeStartedCommand":  "scoreboard players set @s code_status 1",
                                                         "onCodeStoppedCommand":  "scoreboard players set @s code_status 0",
                                                         "onCodeSuccessfulCommand":  "scoreboard players set @s code_status 0",
                                                         "overridePython":  "import time\n\ntimeout = 0.100\ncommunicationPos = (0, 64, 0)\n\ntime.sleep(0.250)\n\ndef move_enderman_direction(direction):\n    if direction==\"forward\":\n        world.set(communicationPos, \"orange concrete\")\n        time.sleep(timeout) \n    elif direction==\"back\":\n        world.set(communicationPos, \"magenta concrete\")\n        time.sleep(timeout) \n    elif direction==\"left\":\n        world.set(communicationPos, \"light blue concrete\")\n        time.sleep(timeout) \n    elif direction==\"right\":\n        world.set(communicationPos, \"yellow concrete\")\n        time.sleep(timeout) \n            \n@user-code",
                                                         "readonly":  true
                                                     }
                                   },
                      "outputs":  [

                                  ],
                      "source":  [
                                     "# CODEVOORBEELD - JE KUNT HIER NIETS BEWERKEN\n",
                                     "# VOER HET UIT EN KIJK WAT ER GEBEURT\n",
                                     "\n",
                                     "# verplaats de Enderman 4 blokken naar voren\n",
                                     "# en vervolgens 1 blok naar rechts\n",
                                     "\n",
                                     "for i in range(4):\n",
                                     "    move_enderman_direction(\"forward\")\n",
                                     "\n",
                                     "move_enderman_direction(\"right\")"
                                 ]
                  },
                  {
                      "cell_type":  "markdown",
                      "id":  "4bdf0a08",
                      "metadata":  {

                                   },
                      "source":  [
                                     "# Activiteit:\n",
                                     "\n",
                                     "De hendels aan de muur lijken kleuren te hebben die overeenkomen met een reeks deuropeningen in het doolhof. Je moet deze hendels overhalen om een veilig pad te creëren om de Endermanbutler naar de smaragdgroene blokken te leiden!\n",
                                     "\n",
                                     "De onderstaande code is defect. Kun je hem maken? Voer de code uit om te zien wat er gebeurt en debug hem vervolgens door hem te bewerken naar de juiste oplossing."
                                 ]
                  },
                  {
                      "cell_type":  "code",
                      "execution_count":  null,
                      "id":  "b6f4bd0e",
                      "metadata":  {
                                       "minecraft":  {
                                                         "closeCodeBuilderOnRun":  true,
                                                         "hidden":  false,
                                                         "onCodeCancelledCommand":  "scoreboard players set @s code_status 0",
                                                         "onCodeErrorCommand":  "scoreboard players set @s code_status 0",
                                                         "onCodeStartedCommand":  "scoreboard players set @s code_status 1",
                                                         "onCodeStoppedCommand":  "scoreboard players set @s code_status 0",
                                                         "onCodeSuccessfulCommand":  "scoreboard players set @s code_status 0",
                                                         "overridePython":  "import time\n\ntimeout = 0.100\ncommunicationPos = (0, 64, 0)\n\ntime.sleep(0.250)\n\ndef move_enderman_direction(direction):\n    if direction==\"forward\":\n        world.set(communicationPos, \"orange concrete\")\n        time.sleep(timeout) \n    elif direction==\"back\":\n        world.set(communicationPos, \"magenta concrete\")\n        time.sleep(timeout) \n    elif direction==\"left\":\n        world.set(communicationPos, \"light blue concrete\")\n        time.sleep(timeout) \n    elif direction==\"right\":\n        world.set(communicationPos, \"yellow concrete\")\n        time.sleep(timeout) \n            \n@user-code",
                                                         "readonly":  false
                                                     }
                                   },
                      "outputs":  [

                                  ],
                      "source":  [
                                     "# code hier\n",
                                     "\n",
                                     "move_enderman_direction(\"forward\")\n",
                                     "move_enderman_direction(\"forward\")\n",
                                     "move_enderman_direction(\"forward\")\n",
                                     "move_enderman_direction(\"right\")\n",
                                     "move_enderman_direction(\"right\")"
                                 ]
                  }
              ],
    "metadata":  {
                     "celltoolbar":  "Edit Metadata",
                     "kernelspec":  {
                                        "display_name":  "Python 3 (ipykernel)",
                                        "language":  "python",
                                        "name":  "python3"
                                    },
                     "language_info":  {
                                           "codemirror_mode":  {
                                                                   "name":  "ipython",
                                                                   "version":  3
                                                               },
                                           "file_extension":  ".py",
                                           "mimetype":  "text/x-python",
                                           "name":  "python",
                                           "nbconvert_exporter":  "python",
                                           "pygments_lexer":  "ipython3",
                                           "version":  "3.10.7"
                                       },
                     "minecraft":  {
                                       "description":  "HOC 2022",
                                       "page_id":  "1.1",
                                       "page_name":  "HOC 2022",
                                       "style":  "minecraft.css"
                                   }
                 },
    "nbformat":  4,
    "nbformat_minor":  5
}
