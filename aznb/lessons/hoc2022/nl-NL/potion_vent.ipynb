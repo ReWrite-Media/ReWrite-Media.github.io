﻿{
    "cells":  [
                  {
                      "cell_type":  "markdown",
                      "id":  "4c8d2435",
                      "metadata":  {

                                   },
                      "source":  [
                                     "# Opening\n",
                                     "\n",
                                     "Verplaats de kleibal naar het gouden blok, zodat deze de deur naar het volgende gedeelte kan openen. Gebruik de functie \u0027clay_ball_move()\u0027 om de bal door de muur te navigeren.\n",
                                     "\n",
                                     "De functie \u0027clay_ball_move()\u0027 accepteert één parameter die definieert in welke richting deze moet bewegen.\n",
                                     "\n",
                                     "Geldige richtingen zijn: \n",
                                     "- \u0027up\u0027\n",
                                     "- \u0027down\u0027\n",
                                     "- \u0027left\u0027\n",
                                     "- `right`"
                                 ]
                  },
                  {
                      "cell_type":  "code",
                      "execution_count":  null,
                      "id":  "328acf46",
                      "metadata":  {
                                       "minecraft":  {
                                                         "closeCodeBuilderOnRun":  true,
                                                         "hidden":  false,
                                                         "onCodeCancelledCommand":  "scoreboard players set @s code_status 0",
                                                         "onCodeErrorCommand":  "scoreboard players set @s code_status 0",
                                                         "onCodeStartedCommand":  "scoreboard players set @s code_status 1",
                                                         "onCodeStoppedCommand":  "scoreboard players set @s code_status 0",
                                                         "onCodeSuccessfulCommand":  "scoreboard players set @s code_status 0",
                                                         "overridePython":  "import time\n\ntimeout = 0.100\ncommunicationPos = (0, 64, 0)\n\ntime.sleep(0.250)\n\ndef clay_ball_move(direction):\n       agent.move(direction)\n@user-code",
                                                         "readonly":  false
                                                     }
                                   },
                      "outputs":  [

                                  ],
                      "source":  [
                                     "# CODEVOORBEELD - JE KUNT HIER NIETS BEWERKEN\n",
                                     "# VOER HET UIT EN KIJK WAT ER GEBEURT\n",
                                     "\n",
                                     "# verplaats de kleibal\n",
                                     "# één plek naar links en vervolgens\n",
                                     "# drie plekken vooruit\n",
                                     "\n",
                                     "clay_ball_move(\"left\")\n",
                                     "clay_ball_move(\"right\")\n",
                                     "clay_ball_move(\"right\")\n",
                                     "clay_ball_move(\"right\")"
                                 ]
                  },
                  {
                      "cell_type":  "markdown",
                      "id":  "a327d84f",
                      "metadata":  {

                                   },
                      "source":  [
                                     "# Protip:\n",
                                     "\n",
                                     "Gebruik een `for`-lus om een of meerdere acties meerdere keren uit te voeren."
                                 ]
                  },
                  {
                      "cell_type":  "code",
                      "execution_count":  null,
                      "id":  "f4c88099",
                      "metadata":  {
                                       "minecraft":  {
                                                         "closeCodeBuilderOnRun":  true,
                                                         "hidden":  false,
                                                         "onCodeCancelledCommand":  "scoreboard players set @s code_status 0",
                                                         "onCodeErrorCommand":  "scoreboard players set @s code_status 0",
                                                         "onCodeStartedCommand":  "scoreboard players set @s code_status 1",
                                                         "onCodeStoppedCommand":  "scoreboard players set @s code_status 0",
                                                         "onCodeSuccessfulCommand":  "scoreboard players set @s code_status 0",
                                                         "overridePython":  "import time\n\ntimeout = 0.100\ncommunicationPos = (0, 64, 0)\n\ntime.sleep(0.250)\n\ndef clay_ball_move(direction):\n       agent.move(direction)\n@user-code",
                                                         "readonly":  true
                                                     }
                                   },
                      "outputs":  [

                                  ],
                      "source":  [
                                     "# CODEVOORBEELD - JE KUNT HIER NIETS BEWERKEN\n",
                                     "# VOER HET UIT EN KIJK WAT ER GEBEURT\n",
                                     "\n",
                                     "# verplaats de kleibal\n",
                                     "# één plek naar links en vervolgens\n",
                                     "# drie plekken vooruit\n",
                                     "\n",
                                     "clay_ball_move(\"left\")\n",
                                     "\n",
                                     "for i in range(3):\n",
                                     "    clay_ball_move(\"forward\")"
                                 ]
                  },
                  {
                      "cell_type":  "markdown",
                      "id":  "49cdce6f",
                      "metadata":  {

                                   },
                      "source":  [
                                     "# Activiteit:\n",
                                     "\n",
                                     "Beweeg de kleibal door de muur om het gouden blok aan het einde te bereiken.\n",
                                     "\n",
                                     "De onderstaande code is defect. Kun je hem maken? Voer de code uit om te zien wat er gebeurt en debug hem vervolgens door hem te bewerken naar de juiste oplossing."
                                 ]
                  },
                  {
                      "cell_type":  "code",
                      "execution_count":  null,
                      "id":  "b6f4bd0e",
                      "metadata":  {
                                       "minecraft":  {
                                                         "closeCodeBuilderOnRun":  true,
                                                         "hidden":  false,
                                                         "onCodeCancelledCommand":  "scoreboard players set @s code_status 0",
                                                         "onCodeErrorCommand":  "scoreboard players set @s code_status 0",
                                                         "onCodeStartedCommand":  "scoreboard players set @s code_status 1",
                                                         "onCodeStoppedCommand":  "scoreboard players set @s code_status 0",
                                                         "onCodeSuccessfulCommand":  "scoreboard players set @s code_status 0",
                                                         "overridePython":  "import time\n\ntimeout = 0.100\ncommunicationPos = (0, 64, 0)\n\ntime.sleep(0.250)\n\ndef clay_ball_move(direction):\n       agent.move(direction)\n@user-code",
                                                         "readonly":  false
                                                     }
                                   },
                      "outputs":  [

                                  ],
                      "source":  [
                                     "# code hier\n",
                                     "\n",
                                     "clay_ball_move(\"right\")\n",
                                     "clay_ball_move(\"right\")\n",
                                     "clay_ball_move(\"left\")\n",
                                     "clay_ball_move(\"left\")"
                                 ]
                  }
              ],
    "metadata":  {
                     "celltoolbar":  "Edit Metadata",
                     "kernelspec":  {
                                        "display_name":  "Python 3 (ipykernel)",
                                        "language":  "python",
                                        "name":  "python3"
                                    },
                     "language_info":  {
                                           "codemirror_mode":  {
                                                                   "name":  "ipython",
                                                                   "version":  3
                                                               },
                                           "file_extension":  ".py",
                                           "mimetype":  "text/x-python",
                                           "name":  "python",
                                           "nbconvert_exporter":  "python",
                                           "pygments_lexer":  "ipython3",
                                           "version":  "3.10.7"
                                       },
                     "minecraft":  {
                                       "description":  "HOC 2022",
                                       "page_id":  "1.1",
                                       "page_name":  "HOC 2022",
                                       "style":  "minecraft.css"
                                   }
                 },
    "nbformat":  4,
    "nbformat_minor":  5
}
