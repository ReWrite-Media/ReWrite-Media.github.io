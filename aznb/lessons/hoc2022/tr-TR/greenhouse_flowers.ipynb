﻿{
    "cells":  [
                  {
                      "cell_type":  "markdown",
                      "id":  "44001b61",
                      "metadata":  {

                                   },
                      "source":  [
                                     "# Çiçek Ekme\n",
                                     "\n",
                                     "Bu çiçeklerin oluşturduğu bir desen var. Bu deseni bulup imleci konumlandırmak için \u0027move_cusor()\u0027 ve ardından bir çiçek dikmek için \u0027plant_flower()\u0027 işlevini kullanarak çiçekleri boş toprağa dikin.\n",
                                     "\n",
                                     "\u0027move_cursor()\u0027 işlevi için yönünü tanımlayan bir parametre gerekir. Bu parametre, taşımak istediğiniz yönü temsil eden okun rengidir.\n",
                                     "\n",
                                     "Geçerli yönler şunlardır:\n",
                                     "- \u0027turuncu\u0027 (imleci ileri doğru hareket ettirir) ![Turuncu Ok](img/orange_arrow.png \"Orange Arrow\")\n",
                                     "- \u0027eflatun\u0027 (imleci geri hareket ettirir)  ![Eflatun Ok](img/magenta_arrow.png \"Magenta Arrow\")\n",
                                     "- \u0027mavi\u0027 (imleci sola hareket ettirir)  ![Mavi Ok](img/blue_arrow.png \"Blue Arrow\")\n",
                                     "- \u0027sarı\u0027 (imleci sağa hareket ettirir) ! [Sarı Ok] (img/yellow_arrow.png \"Yellow Arrow\")\n",
                                     "\n",
                                     "\u0027plant_flower()\u0027 işlevi için ekilmesi gereken çiçek türünü tanımlayan bir parametre gerekir.\n",
                                     "\n",
                                     "Geçerli çiçekler şunlardır:\n",
                                     "- \u0027mavi\u0027 ! [Mavi Çiçek] (img/blue_flower.png \"Blue Flower\")\n",
                                     "- \u0027sarı\u0027 ! [Sarı Çiçek] (img/yellow_flower.png \"Yellow Flower\")\n",
                                     "- \u0027kırmızı\u0027 ![Kırmızı Çiçek](img/red_flower.png \"Red Flower\") "
                                 ]
                  },
                  {
                      "cell_type":  "code",
                      "execution_count":  null,
                      "id":  "1c8f47ac",
                      "metadata":  {
                                       "minecraft":  {
                                                         "closeCodeBuilderOnRun":  true,
                                                         "hidden":  false,
                                                         "onCodeCancelledCommand":  "scoreboard players set @s code_status 0",
                                                         "onCodeErrorCommand":  "scoreboard players set @s code_status 0",
                                                         "onCodeStartedCommand":  "scoreboard players set @s code_status 1",
                                                         "onCodeStoppedCommand":  "scoreboard players set @s code_status 0",
                                                         "onCodeSuccessfulCommand":  "scoreboard players set @s code_status 0",
                                                         "overridePython":  "import time\n\ntimeout = 0.100\ncommunicationPos = (0, 64, 0)\n\ntime.sleep(0.250)\n\ndef move_cursor(color):\n    if color == \"orange\":\n        world.set(communicationPos, \"orange concrete\")\n        time.sleep(timeout)\n    elif color == \"magenta\":\n        world.set(communicationPos, \"magenta concrete\")\n        time.sleep(timeout)\n    elif color == \"blue\":\n        world.set(communicationPos, \"light blue concrete\")\n        time.sleep(timeout)\n    elif color == \"yellow\":\n        world.set(communicationPos, \"yellow concrete\")\n        time.sleep(timeout)\n\ndef plant_flower(color):\n    if color==\"red\":\n        world.set(communicationPos, \"lime concrete\")\n        time.sleep(timeout)         \n    elif color==\"yellow\":\n        world.set(communicationPos, \"pink concrete\")\n        time.sleep(timeout)\n    elif color==\"blue\":\n        world.set(communicationPos, \"gray concrete\")\n        time.sleep(timeout)\n@user-code",
                                                         "readonly":  true
                                                     }
                                   },
                      "outputs":  [

                                  ],
                      "source":  [
                                     "# KOD ÖRNEĞİ - BURAYI DÜZENLEYEMEZSİNİZ\n",
                                     "# NE OLACAĞINI GÖRMEK İÇİN ÇALIŞTIRIN\n",
                                     "\n",
                                     "# Sağa hareket edin ve mavi bir çiçek ekin\n",
                                     "# 5 kez, sonra bir ve\ngeri hareket edin",
                                     "# Kırmızı bir çiçek ekin\n",
                                     "\n",
                                     "plant_flower(\"blue\")\n",
                                     "move_cursor(\"yellow\")\n",
                                     "plant_flower(\"blue\")\n",
                                     "move_cursor(\"yellow\")\n",
                                     "plant_flower(\"blue\")\n",
                                     "move_cursor(\"yellow\")\n",
                                     "plant_flower(\"blue\")\n",
                                     "move_cursor(\"yellow\")\n",
                                     "plant_flower(\"blue\")\n",
                                     "move_cursor(\"yellow\")\n",
                                     "move_cursor(\"magenta\")\n",
                                     "plant_flower(\"red\")"
                                 ]
                  },
                  {
                      "cell_type":  "markdown",
                      "id":  "7bf72b7f",
                      "metadata":  {

                                   },
                      "source":  [
                                     "# Profesyonel İpucu:\n",
                                     "\n",
                                     "Bir veya daha fazla eylemi birden çok kez uygulamak için `for` döngüsü kullan."
                                 ]
                  },
                  {
                      "cell_type":  "code",
                      "execution_count":  null,
                      "id":  "db97ed1f",
                      "metadata":  {
                                       "minecraft":  {
                                                         "closeCodeBuilderOnRun":  true,
                                                         "hidden":  false,
                                                         "onCodeCancelledCommand":  "scoreboard players set @s code_status 0",
                                                         "onCodeErrorCommand":  "scoreboard players set @s code_status 0",
                                                         "onCodeStartedCommand":  "scoreboard players set @s code_status 1",
                                                         "onCodeStoppedCommand":  "scoreboard players set @s code_status 0",
                                                         "onCodeSuccessfulCommand":  "scoreboard players set @s code_status 0",
                                                         "overridePython":  "import time\n\ntimeout = 0.100\ncommunicationPos = (0, 64, 0)\n\ntime.sleep(0.250)\n\ndef move_cursor(color):\n    if color == \"orange\":\n        world.set(communicationPos, \"orange concrete\")\n        time.sleep(timeout)\n    elif color == \"magenta\":\n        world.set(communicationPos, \"magenta concrete\")\n        time.sleep(timeout)\n    elif color == \"blue\":\n        world.set(communicationPos, \"light blue concrete\")\n        time.sleep(timeout)\n    elif color == \"yellow\":\n        world.set(communicationPos, \"yellow concrete\")\n        time.sleep(timeout)\n\ndef plant_flower(color):\n    if color==\"red\":\n        world.set(communicationPos, \"lime concrete\")\n        time.sleep(timeout)         \n    elif color==\"yellow\":\n        world.set(communicationPos, \"pink concrete\")\n        time.sleep(timeout)\n    elif color==\"blue\":\n        world.set(communicationPos, \"gray concrete\")\n        time.sleep(timeout)\n@user-code",
                                                         "readonly":  true
                                                     }
                                   },
                      "outputs":  [

                                  ],
                      "source":  [
                                     "# KOD ÖRNEĞİ - BURAYI DÜZENLEYEMEZSİNİZ\n",
                                     "# NE OLACAĞINI GÖRMEK İÇİN ÇALIŞTIRIN\n",
                                     "\n",
                                     "# Sağa hareket edin ve mavi bir çiçek ekin\n",
                                     "# 5 kez, sonra bir ve\ngeri hareket edin",
                                     "# Kırmızı bir çiçek ekin\n",
                                     "\n",
                                     "for i in range(5):\n",
                                     "    plant_flower(\"blue\")\n",
                                     "    move_cursor(\"yellow\")\n",
                                     "\n",
                                     "move_cursor(\"magenta\")\n",
                                     "plant_flower(\"red\")"
                                 ]
                  },
                  {
                      "cell_type":  "markdown",
                      "id":  "b2b2cb43",
                      "metadata":  {

                                   },
                      "source":  [
                                     "# Etkinlik:\n",
                                     "\n",
                                     "Kenarlardaki çiçek yataklarının bir deseni var gibi görünüyor! Bu, ortadaki daha büyük çiçek yatağını doldurmak için bir ipucu olmalı!\n",
                                     "\n",
                                     "Aşağıdaki kod bozuk. Bu kodu düzeltebilir misiniz? Ne olacağını görmek için kodu çalıştırın, ardından doğru çözüm için düzenleyerek hata ayıklayın."
                                 ]
                  },
                  {
                      "cell_type":  "code",
                      "execution_count":  null,
                      "id":  "b6f4bd0e",
                      "metadata":  {
                                       "minecraft":  {
                                                         "closeCodeBuilderOnRun":  true,
                                                         "hidden":  false,
                                                         "onCodeCancelledCommand":  "scoreboard players set @s code_status 0",
                                                         "onCodeErrorCommand":  "scoreboard players set @s code_status 0",
                                                         "onCodeStartedCommand":  "scoreboard players set @s code_status 1",
                                                         "onCodeStoppedCommand":  "scoreboard players set @s code_status 0",
                                                         "onCodeSuccessfulCommand":  "scoreboard players set @s code_status 0",
                                                         "overridePython":  "import time\n\ntimeout = 0.100\ncommunicationPos = (0, 64, 0)\n\ntime.sleep(0.250)\n\ndef move_cursor(color):\n    if color == \"orange\":\n        world.set(communicationPos, \"orange concrete\")\n        time.sleep(timeout)\n    elif color == \"magenta\":\n        world.set(communicationPos, \"magenta concrete\")\n        time.sleep(timeout)\n    elif color == \"blue\":\n        world.set(communicationPos, \"light blue concrete\")\n        time.sleep(timeout)\n    elif color == \"yellow\":\n        world.set(communicationPos, \"yellow concrete\")\n        time.sleep(timeout)\n\ndef plant_flower(color):\n    if color==\"red\":\n        world.set(communicationPos, \"lime concrete\")\n        time.sleep(timeout)         \n    elif color==\"yellow\":\n        world.set(communicationPos, \"pink concrete\")\n        time.sleep(timeout)\n    elif color==\"blue\":\n        world.set(communicationPos, \"gray concrete\")\n        time.sleep(timeout)\n@user-code",
                                                         "readonly":  false
                                                     }
                                   },
                      "outputs":  [

                                  ],
                      "source":  [
                                     "# kod buraya\n",
                                     "\n",
                                     "plant_flower(\"blue\")\n",
                                     "move_cursor(\"yellow\")\n",
                                     "move_cursor(\"yellow\")\n",
                                     "move_cursor(\"yellow\")\n",
                                     "move_cursor(\"magenta\")\n",
                                     "plant_flower(\"yellow\")\n",
                                     "move_cursor(\"blue\")\n",
                                     "move_cursor(\"magenta\")\n",
                                     "plant_flower(\"red\")\n"
                                 ]
                  }
              ],
    "metadata":  {
                     "celltoolbar":  "Edit Metadata",
                     "kernelspec":  {
                                        "display_name":  "Python 3 (ipykernel)",
                                        "language":  "python",
                                        "name":  "python3"
                                    },
                     "language_info":  {
                                           "codemirror_mode":  {
                                                                   "name":  "ipython",
                                                                   "version":  3
                                                               },
                                           "file_extension":  ".py",
                                           "mimetype":  "text/x-python",
                                           "name":  "python",
                                           "nbconvert_exporter":  "python",
                                           "pygments_lexer":  "ipython3",
                                           "version":  "3.10.7"
                                       },
                     "minecraft":  {
                                       "description":  "KS 2022",
                                       "page_id":  "1.1",
                                       "page_name":  "KS 2022",
                                       "style":  "minecraft.css"
                                   }
                 },
    "nbformat":  4,
    "nbformat_minor":  5
}
