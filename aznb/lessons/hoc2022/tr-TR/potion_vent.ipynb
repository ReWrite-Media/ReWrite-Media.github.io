﻿{
    "cells":  [
                  {
                      "cell_type":  "markdown",
                      "id":  "4c8d2435",
                      "metadata":  {

                                   },
                      "source":  [
                                     "# Havalandırma\n",
                                     "\n",
                                     "Bir sonraki bölümün kapısını açmak için kil topu Altın bloğa doğru hareket ettirin. Topu duvarda gezdirmek için \u0027clay_ball_move()\u0027 işlevini kullanın.\n",
                                     "\n",
                                     "`clay_ball_move()` işlevi için hangi yönde hareket etmesi gerektiğini tanımlayan bir parametre gerekir.\n",
                                     "\n",
                                     "Geçerli yönler şunlardır: \n",
                                     "- `up` (yukarı)\n",
                                     "- `down` (aşağı)\n",
                                     "- `left` (sol)\n",
                                     "- `right`(sağ)"
                                 ]
                  },
                  {
                      "cell_type":  "code",
                      "execution_count":  null,
                      "id":  "328acf46",
                      "metadata":  {
                                       "minecraft":  {
                                                         "closeCodeBuilderOnRun":  true,
                                                         "hidden":  false,
                                                         "onCodeCancelledCommand":  "scoreboard players set @s code_status 0",
                                                         "onCodeErrorCommand":  "scoreboard players set @s code_status 0",
                                                         "onCodeStartedCommand":  "scoreboard players set @s code_status 1",
                                                         "onCodeStoppedCommand":  "scoreboard players set @s code_status 0",
                                                         "onCodeSuccessfulCommand":  "scoreboard players set @s code_status 0",
                                                         "overridePython":  "import time\n\ntimeout = 0.100\ncommunicationPos = (0, 64, 0)\n\ntime.sleep(0.250)\n\ndef clay_ball_move(direction):\n       agent.move(direction)\n@user-code",
                                                         "readonly":  false
                                                     }
                                   },
                      "outputs":  [

                                  ],
                      "source":  [
                                     "# KOD ÖRNEĞİ - BURAYI DÜZENLEYEMEZSİNİZ\n",
                                     "# NE OLACAĞINI GÖRMEK İÇİN ÇALIŞTIRIN\n",
                                     "\n",
                                     "# kil topu hareket ettirin\n",
                                     "# bir boşluk sola ve sonra\n",
                                     "# üç boşluk ileri\n",
                                     "\n",
                                     "clay_ball_move(\"left\")\n",
                                     "clay_ball_move(\"right\")\n",
                                     "clay_ball_move(\"right\")\n",
                                     "clay_ball_move(\"right\")"
                                 ]
                  },
                  {
                      "cell_type":  "markdown",
                      "id":  "a327d84f",
                      "metadata":  {

                                   },
                      "source":  [
                                     "# Profesyonel İpucu:\n",
                                     "\n",
                                     "Bir veya daha fazla eylemi birden çok kez uygulamak için `for` döngüsü kullan."
                                 ]
                  },
                  {
                      "cell_type":  "code",
                      "execution_count":  null,
                      "id":  "f4c88099",
                      "metadata":  {
                                       "minecraft":  {
                                                         "closeCodeBuilderOnRun":  true,
                                                         "hidden":  false,
                                                         "onCodeCancelledCommand":  "scoreboard players set @s code_status 0",
                                                         "onCodeErrorCommand":  "scoreboard players set @s code_status 0",
                                                         "onCodeStartedCommand":  "scoreboard players set @s code_status 1",
                                                         "onCodeStoppedCommand":  "scoreboard players set @s code_status 0",
                                                         "onCodeSuccessfulCommand":  "scoreboard players set @s code_status 0",
                                                         "overridePython":  "import time\n\ntimeout = 0.100\ncommunicationPos = (0, 64, 0)\n\ntime.sleep(0.250)\n\ndef clay_ball_move(direction):\n       agent.move(direction)\n@user-code",
                                                         "readonly":  true
                                                     }
                                   },
                      "outputs":  [

                                  ],
                      "source":  [
                                     "# KOD ÖRNEĞİ - BURAYI DÜZENLEYEMEZSİNİZ\n",
                                     "# NE OLACAĞINI GÖRMEK İÇİN ÇALIŞTIRIN\n",
                                     "\n",
                                     "# kil topu hareket ettirin\n",
                                     "# bir boşluk sola ve sonra\n",
                                     "# üç boşluk ileri\n",
                                     "\n",
                                     "clay_ball_move(\"left\")\n",
                                     "\n",
                                     "for i in range(3):\n",
                                     "    clay_ball_move(\"forward\")"
                                 ]
                  },
                  {
                      "cell_type":  "markdown",
                      "id":  "49cdce6f",
                      "metadata":  {

                                   },
                      "source":  [
                                     "# Etkinlik:\n",
                                     "\n",
                                     "Kil topunu duvarda hareket ettirerek bitişteki altın bloğa ulaştırın.\n",
                                     "\n",
                                     "Aşağıdaki kod bozuk. Bu kodu düzeltebilir misiniz? Ne olacağını görmek için kodu çalıştırın, ardından doğru çözüm için düzenleyerek hata ayıklayın."
                                 ]
                  },
                  {
                      "cell_type":  "code",
                      "execution_count":  null,
                      "id":  "b6f4bd0e",
                      "metadata":  {
                                       "minecraft":  {
                                                         "closeCodeBuilderOnRun":  true,
                                                         "hidden":  false,
                                                         "onCodeCancelledCommand":  "scoreboard players set @s code_status 0",
                                                         "onCodeErrorCommand":  "scoreboard players set @s code_status 0",
                                                         "onCodeStartedCommand":  "scoreboard players set @s code_status 1",
                                                         "onCodeStoppedCommand":  "scoreboard players set @s code_status 0",
                                                         "onCodeSuccessfulCommand":  "scoreboard players set @s code_status 0",
                                                         "overridePython":  "import time\n\ntimeout = 0.100\ncommunicationPos = (0, 64, 0)\n\ntime.sleep(0.250)\n\ndef clay_ball_move(direction):\n       agent.move(direction)\n@user-code",
                                                         "readonly":  false
                                                     }
                                   },
                      "outputs":  [

                                  ],
                      "source":  [
                                     "# kod buraya\n",
                                     "\n",
                                     "clay_ball_move(\"right\")\n",
                                     "clay_ball_move(\"right\")\n",
                                     "clay_ball_move(\"left\")\n",
                                     "clay_ball_move(\"left\")"
                                 ]
                  }
              ],
    "metadata":  {
                     "celltoolbar":  "Edit Metadata",
                     "kernelspec":  {
                                        "display_name":  "Python 3 (ipykernel)",
                                        "language":  "python",
                                        "name":  "python3"
                                    },
                     "language_info":  {
                                           "codemirror_mode":  {
                                                                   "name":  "ipython",
                                                                   "version":  3
                                                               },
                                           "file_extension":  ".py",
                                           "mimetype":  "text/x-python",
                                           "name":  "python",
                                           "nbconvert_exporter":  "python",
                                           "pygments_lexer":  "ipython3",
                                           "version":  "3.10.7"
                                       },
                     "minecraft":  {
                                       "description":  "KS 2022",
                                       "page_id":  "1.1",
                                       "page_name":  "KS 2022",
                                       "style":  "minecraft.css"
                                   }
                 },
    "nbformat":  4,
    "nbformat_minor":  5
}
