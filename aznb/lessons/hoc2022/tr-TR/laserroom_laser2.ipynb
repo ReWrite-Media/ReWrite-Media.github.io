﻿{
    "cells":  [
                  {
                      "cell_type":  "markdown",
                      "id":  "2b35a6c4",
                      "metadata":  {

                                   },
                      "source":  [
                                     "# Lazer Bulmaca\n",
                                     "\n",
                                     "Sert bloklar lazeri durdurur! Lazerin cam bloklardan geçmesini sağlamak ve diğer taraftaki ışığı açmak için sarı ve yeşil blokların sıralarını değiştirin. Lazerin cam bloklardan geçmesi için sıraları sola veya sağa kaydırmak üzere \u0027shift_row()\u0027 işlevini kullanın.\n",
                                     "\n",
                                     "\u0027shift_row()\u0027 işlevi için iki parametre (dize) gerekir. İlk parametre, değiştirmek istediğiniz renk satırını, ikinci parametre ise satırın değiştirilmesi gereken yönü tanımlar.\n",
                                     "\n",
                                     "Geçerli renkler şunlardır:\n",
                                     "- \u0027yeşil\u0027  ![Yeşil](img/green_right.png \"Green\")\n",
                                     "- \u0027sarı\u0027  ![Sarı](img/yellow_right.png \"Yellow\")\n",
                                     "\n",
                                     "Geçerli yönler şunlardır:\n",
                                     "- \u0027sağ\u0027  ![Sağ](img/gray_right.png \"Right\")\n",
                                     "- \u0027sol\u0027 ! [Sol] (img/gray_left.png \"Left\")"
                                 ]
                  },
                  {
                      "cell_type":  "code",
                      "execution_count":  null,
                      "id":  "a2c9701a",
                      "metadata":  {
                                       "minecraft":  {
                                                         "closeCodeBuilderOnRun":  true,
                                                         "hidden":  false,
                                                         "onCodeCancelledCommand":  "scoreboard players set @s code_status 0",
                                                         "onCodeErrorCommand":  "scoreboard players set @s code_status 0",
                                                         "onCodeStartedCommand":  "scoreboard players set @s code_status 1",
                                                         "onCodeStoppedCommand":  "scoreboard players set @s code_status 0",
                                                         "onCodeSuccessfulCommand":  "scoreboard players set @s code_status 0",
                                                         "overridePython":  "import time\n\ntimeout = 0.100\ncommunicationPos = (0, 64, 0)\n\ntime.sleep(0.250)\n\ndef shift_row(color, direction):\n    if color==\"green\" and direction == \"left\":\n        world.set(communicationPos, \"orange concrete\")\n        time.sleep(timeout)   \n    elif color==\"green\" and direction == \"right\":\n        world.set(communicationPos, \"magenta concrete\")\n        time.sleep(timeout)                 \n    elif color==\"yellow\" and direction == \"left\":\n        world.set(communicationPos, \"light blue concrete\")\n        time.sleep(timeout)   \n    elif color==\"yellow\" and direction == \"right\":\n        world.set(communicationPos, \"yellow concrete\")\n        time.sleep(timeout)                 \n@user-code",
                                                         "readonly":  true
                                                     }
                                   },
                      "outputs":  [

                                  ],
                      "source":  [
                                     "# KOD ÖRNEĞİ - BURAYI DÜZENLEYEMEZSİNİZ\n",
                                     "# NE OLACAĞINI GÖRMEK İÇİN ÇALIŞTIRIN\n",
                                     "\n",
                                     "# yeşil satırı sağa kaydırın\n",
                                     "# 3 kez ve sarı satır\n",
                                     "# bir kez 1\u0027den ayrıldı.\n",
                                     "\n",
                                     "shift_row(\"green\", \"right\")\n",
                                     "shift_row(\"green\", \"right\")\n",
                                     "shift_row(\"green\", \"right\")\n",
                                     "shift_row(\"yellow\", \"left\")"
                                 ]
                  },
                  {
                      "cell_type":  "markdown",
                      "id":  "fc92bbf7",
                      "metadata":  {

                                   },
                      "source":  [
                                     "# Profesyonel İpucu:\n",
                                     "\n",
                                     "Bir veya daha fazla eylemi birden çok kez uygulamak için `for` döngüsü kullan."
                                 ]
                  },
                  {
                      "cell_type":  "code",
                      "execution_count":  null,
                      "id":  "a4f846a3",
                      "metadata":  {
                                       "minecraft":  {
                                                         "closeCodeBuilderOnRun":  true,
                                                         "hidden":  false,
                                                         "onCodeCancelledCommand":  "scoreboard players set @s code_status 0",
                                                         "onCodeErrorCommand":  "scoreboard players set @s code_status 0",
                                                         "onCodeStartedCommand":  "scoreboard players set @s code_status 1",
                                                         "onCodeStoppedCommand":  "scoreboard players set @s code_status 0",
                                                         "onCodeSuccessfulCommand":  "scoreboard players set @s code_status 0",
                                                         "overridePython":  "import time\n\ntimeout = 0.100\ncommunicationPos = (0, 64, 0)\n\ntime.sleep(0.250)\n\ndef shift_row(color, direction):\n    if color==\"green\" and direction == \"left\":\n        world.set(communicationPos, \"orange concrete\")\n        time.sleep(timeout)   \n    elif color==\"green\" and direction == \"right\":\n        world.set(communicationPos, \"magenta concrete\")\n        time.sleep(timeout)                 \n    elif color==\"yellow\" and direction == \"left\":\n        world.set(communicationPos, \"light blue concrete\")\n        time.sleep(timeout)   \n    elif color==\"yellow\" and direction == \"right\":\n        world.set(communicationPos, \"yellow concrete\")\n        time.sleep(timeout)                 \n@user-code",
                                                         "readonly":  true
                                                     }
                                   },
                      "outputs":  [

                                  ],
                      "source":  [
                                     "# KOD ÖRNEĞİ - BURAYI DÜZENLEYEMEZSİNİZ\n",
                                     "# NE OLACAĞINI GÖRMEK İÇİN ÇALIŞTIRIN\n",
                                     "\n",
                                     "# yeşil satırı sağa kaydırın\n",
                                     "# 3 kez ve sarı satır\n",
                                     "# bir kez 1\u0027den ayrıldı.\n",
                                     "\n",
                                     "for i in range(3):\n",
                                     "    shift_row(\"green\", \"right\")\n",
                                     "    \n",
                                     "shift_row(\"yellow\", \"left\")"
                                 ]
                  },
                  {
                      "cell_type":  "markdown",
                      "id":  "0147b7a7",
                      "metadata":  {

                                   },
                      "source":  [
                                     "# Etkinlik:\n",
                                     "\n",
                                     "Lazerlerin cam bloklardan geçip ışıkları açması için sarı ve yeşil sıraları sola veya sağa kaydırın.\n",
                                     "\n",
                                     "Aşağıdaki kod bozuk. Bu kodu düzeltebilir misiniz? Ne olacağını görmek için kodu çalıştırın, ardından doğru çözüm için düzenleyerek hata ayıklayın."
                                 ]
                  },
                  {
                      "cell_type":  "code",
                      "execution_count":  null,
                      "id":  "b6f4bd0e",
                      "metadata":  {
                                       "minecraft":  {
                                                         "closeCodeBuilderOnRun":  true,
                                                         "hidden":  false,
                                                         "onCodeCancelledCommand":  "scoreboard players set @s code_status 0",
                                                         "onCodeErrorCommand":  "scoreboard players set @s code_status 0",
                                                         "onCodeStartedCommand":  "scoreboard players set @s code_status 1",
                                                         "onCodeStoppedCommand":  "scoreboard players set @s code_status 0",
                                                         "onCodeSuccessfulCommand":  "scoreboard players set @s code_status 0",
                                                         "overridePython":  "import time\n\ntimeout = 0.100\ncommunicationPos = (0, 64, 0)\n\ntime.sleep(0.250)\n\ndef shift_row(color, direction):\n    if color==\"green\" and direction == \"left\":\n        world.set(communicationPos, \"orange concrete\")\n        time.sleep(timeout)   \n    elif color==\"green\" and direction == \"right\":\n        world.set(communicationPos, \"magenta concrete\")\n        time.sleep(timeout)                 \n    elif color==\"yellow\" and direction == \"left\":\n        world.set(communicationPos, \"light blue concrete\")\n        time.sleep(timeout)   \n    elif color==\"yellow\" and direction == \"right\":\n        world.set(communicationPos, \"yellow concrete\")\n        time.sleep(timeout)                 \n@user-code",
                                                         "readonly":  false
                                                     }
                                   },
                      "outputs":  [

                                  ],
                      "source":  [
                                     "# kod buraya\n",
                                     "\n",
                                     "shift_row(\"green\", \"left\")\n",
                                     "shift_row(\"green\", \"left\")\n",
                                     "shift_row(\"yellow\", \"right\")"
                                 ]
                  }
              ],
    "metadata":  {
                     "celltoolbar":  "Edit Metadata",
                     "kernelspec":  {
                                        "display_name":  "Python 3 (ipykernel)",
                                        "language":  "python",
                                        "name":  "python3"
                                    },
                     "language_info":  {
                                           "codemirror_mode":  {
                                                                   "name":  "ipython",
                                                                   "version":  3
                                                               },
                                           "file_extension":  ".py",
                                           "mimetype":  "text/x-python",
                                           "name":  "python",
                                           "nbconvert_exporter":  "python",
                                           "pygments_lexer":  "ipython3",
                                           "version":  "3.10.7"
                                       },
                     "minecraft":  {
                                       "description":  "KS 2022",
                                       "page_id":  "1.1",
                                       "page_name":  "KS 2022",
                                       "style":  "minecraft.css"
                                   }
                 },
    "nbformat":  4,
    "nbformat_minor":  5
}
