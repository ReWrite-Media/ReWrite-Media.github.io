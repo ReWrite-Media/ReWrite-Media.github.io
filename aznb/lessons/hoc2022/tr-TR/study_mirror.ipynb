﻿{
    "cells":  [
                  {
                      "cell_type":  "markdown",
                      "id":  "7c614f68",
                      "metadata":  {

                                   },
                      "source":  [
                                     "# Yanlış Yansıma\n",
                                     "\n",
                                     "Aynadaki şeyler, bulunduğunuz odadakinden farklı görünür. Tüm farklılıkları bulun ve iki odayı da aynı yapacak şekilde değiştirin. İmleci konumlandırmak için `move_cursor()` işlevini, seçtiğiniz konuma bir blok yerleştirmek için `place_block()` işlevini kullanın.\n",
                                     "\n",
                                     "`move_cursor()` işlevi için yönünü tanımlayan bir parametre gerekir. Bu parametre, taşımak istediğiniz yönü temsil eden okun rengidir.\n",
                                     "\n",
                                     "Geçerli yönler şunlardır:\n",
                                     "- `orange` (imleci yukarı doğru hareket ettirir) ![Turuncu Ok](img/orange_arrow.png \"Turuncu Ok\")\n",
                                     "- `magenta` (imleci aşağı doğru hareket ettirir) ![Eflatun Ok] (img/magenta_arrow.png \"Eflatun Ok\")\n",
                                     "- `blue` (imleci sola hareket ettirir) ![Mavi Ok] (img/blue_arrow.png \"Mavi Ok\")\n",
                                     "- `yellow` (imleci sağa hareket ettirir) ![Sarı Ok] (img/yellow_arrow.png \"Sarı Ok\")\n"
                                 ]
                  },
                  {
                      "cell_type":  "code",
                      "execution_count":  null,
                      "id":  "e486686a",
                      "metadata":  {
                                       "minecraft":  {
                                                         "closeCodeBuilderOnRun":  true,
                                                         "hidden":  false,
                                                         "onCodeCancelledCommand":  "scoreboard players set @s code_status 0",
                                                         "onCodeErrorCommand":  "scoreboard players set @s code_status 0",
                                                         "onCodeStartedCommand":  "scoreboard players set @s code_status 1",
                                                         "onCodeStoppedCommand":  "scoreboard players set @s code_status 0",
                                                         "onCodeSuccessfulCommand":  "scoreboard players set @s code_status 0",
                                                         "overridePython":  "import time\n\ntimeout = 0.100\ncommunicationPos = (0, 64, 0)\n\ntime.sleep(0.250)\n\ndef move_cursor(color):\n    if color == \"orange\":\n        world.set(communicationPos, \"orange concrete\")\n        time.sleep(timeout)\n    elif color == \"magenta\":\n        world.set(communicationPos, \"magenta concrete\")\n        time.sleep(timeout)\n    elif color == \"blue\":\n        world.set(communicationPos, \"light blue concrete\")\n        time.sleep(timeout)\n    elif color == \"yellow\":\n        world.set(communicationPos, \"yellow concrete\")\n        time.sleep(timeout)\n\ndef place_block():\n    world.set(communicationPos, \"lime concrete\")\n    time.sleep(timeout)         \n@user-code",
                                                         "readonly":  true
                                                     }
                                   },
                      "outputs":  [

                                  ],
                      "source":  [
                                     "# KOD ÖRNEĞİ - BURAYI DÜZENLEYEMEZSİNİZ\n",
                                     "# NE OLACAĞINI GÖRMEK İÇİN ÇALIŞTIRIN\n",
                                     "\n",
                                     "# bir sıra blok oluşturun\n",
                                     "\n",
                                     "place_block()\n",
                                     "move_cursor(\"blue\")\n",
                                     "place_block()\n",
                                     "move_cursor(\"blue\")\n",
                                     "place_block()\n",
                                     "move_cursor(\"blue\")"
                                 ]
                  },
                  {
                      "cell_type":  "markdown",
                      "id":  "fd4918c3",
                      "metadata":  {

                                   },
                      "source":  [
                                     "# Profesyonel İpucu:\n",
                                     "\n",
                                     "Bir veya daha fazla eylemi birden çok kez uygulamak için `for` döngüsü kullan."
                                 ]
                  },
                  {
                      "cell_type":  "code",
                      "execution_count":  null,
                      "id":  "921028b3",
                      "metadata":  {
                                       "minecraft":  {
                                                         "closeCodeBuilderOnRun":  true,
                                                         "hidden":  false,
                                                         "onCodeCancelledCommand":  "scoreboard players set @s code_status 0",
                                                         "onCodeErrorCommand":  "scoreboard players set @s code_status 0",
                                                         "onCodeStartedCommand":  "scoreboard players set @s code_status 1",
                                                         "onCodeStoppedCommand":  "scoreboard players set @s code_status 0",
                                                         "onCodeSuccessfulCommand":  "scoreboard players set @s code_status 0",
                                                         "overridePython":  "import time\n\ntimeout = 0.100\ncommunicationPos = (0, 64, 0)\n\ntime.sleep(0.250)\n\ndef move_cursor(color):\n    if color == \"orange\":\n        world.set(communicationPos, \"orange concrete\")\n        time.sleep(timeout)\n    elif color == \"magenta\":\n        world.set(communicationPos, \"magenta concrete\")\n        time.sleep(timeout)\n    elif color == \"blue\":\n        world.set(communicationPos, \"light blue concrete\")\n        time.sleep(timeout)\n    elif color == \"yellow\":\n        world.set(communicationPos, \"yellow concrete\")\n        time.sleep(timeout)\n\ndef place_block():\n    world.set(communicationPos, \"lime concrete\")\n    time.sleep(timeout)         \n@user-code",
                                                         "readonly":  true
                                                     }
                                   },
                      "outputs":  [

                                  ],
                      "source":  [
                                     "# KOD ÖRNEĞİ - BURAYI DÜZENLEYEMEZSİNİZ\n",
                                     "# NE OLACAĞINI GÖRMEK İÇİN ÇALIŞTIRIN\n",
                                     "\n",
                                     "# bir sıra blok oluşturun\n",
                                     "\n",
                                     "for i in range(3):\n",
                                     "    place_block()\n",
                                     "    move_cursor(\"blue\")"
                                 ]
                  },
                  {
                      "cell_type":  "markdown",
                      "id":  "1428f167",
                      "metadata":  {

                                   },
                      "source":  [
                                     "# Etkinlik:\n",
                                     "\n",
                                     "Aynaya bakın ve şöminenin üzerindeki blokların tasarımına dikkat edin. Aynı tasarımı, aynanın sizin olduğunuz tarafındaki şöminenin üzerinde yeniden yaratın.\n",
                                     "\n",
                                     "Aşağıdaki kod bozuk, düzeltebilir misiniz? Ne yaptığını görmek için kodu çalıştırarak hata ayıklayın ve ardından istediğiniz sonucu elde etmek için kodu düzenleyin."
                                 ]
                  },
                  {
                      "cell_type":  "code",
                      "execution_count":  null,
                      "id":  "b6f4bd0e",
                      "metadata":  {
                                       "minecraft":  {
                                                         "closeCodeBuilderOnRun":  true,
                                                         "hidden":  false,
                                                         "onCodeCancelledCommand":  "scoreboard players set @s code_status 0",
                                                         "onCodeErrorCommand":  "scoreboard players set @s code_status 0",
                                                         "onCodeStartedCommand":  "scoreboard players set @s code_status 1",
                                                         "onCodeStoppedCommand":  "scoreboard players set @s code_status 0",
                                                         "onCodeSuccessfulCommand":  "scoreboard players set @s code_status 0",
                                                         "overridePython":  "import time\n\ntimeout = 0.100\ncommunicationPos = (0, 64, 0)\n\ntime.sleep(0.250)\n\ndef move_cursor(color):\n    if color == \"orange\":\n        world.set(communicationPos, \"orange concrete\")\n        time.sleep(timeout)\n    elif color == \"magenta\":\n        world.set(communicationPos, \"magenta concrete\")\n        time.sleep(timeout)\n    elif color == \"blue\":\n        world.set(communicationPos, \"light blue concrete\")\n        time.sleep(timeout)\n    elif color == \"yellow\":\n        world.set(communicationPos, \"yellow concrete\")\n        time.sleep(timeout)\n\ndef place_block():\n    world.set(communicationPos, \"lime concrete\")\n    time.sleep(timeout)         \n@user-code",
                                                         "readonly":  false
                                                     }
                                   },
                      "outputs":  [

                                  ],
                      "source":  [
                                     "# kod buraya\n",
                                     "\n",
                                     "place_block()\n",
                                     "move_cursor(\"magenta\")\n",
                                     "place_block()\n",
                                     "move_cursor(\"blue\")\n",
                                     "place_block()\n",
                                     "move_cursor(\"blue\")\n",
                                     "place_block()\n",
                                     "move_cursor(\"blue\")\n",
                                     "place_block()\n",
                                     "move_cursor(\"blue\")\n",
                                     "place_block()\n",
                                     "move_cursor(\"orange\")\n",
                                     "place_block()\n"
                                 ]
                  }
              ],
    "metadata":  {
                     "celltoolbar":  "Edit Metadata",
                     "kernelspec":  {
                                        "display_name":  "Python 3 (ipykernel)",
                                        "language":  "python",
                                        "name":  "python3"
                                    },
                     "language_info":  {
                                           "codemirror_mode":  {
                                                                   "name":  "ipython",
                                                                   "version":  3
                                                               },
                                           "file_extension":  ".py",
                                           "mimetype":  "text/x-python",
                                           "name":  "python",
                                           "nbconvert_exporter":  "python",
                                           "pygments_lexer":  "ipython3",
                                           "version":  "3.10.7"
                                       },
                     "minecraft":  {
                                       "description":  "KS 2022",
                                       "page_id":  "1.1",
                                       "page_name":  "KS 2022",
                                       "style":  "minecraft.css"
                                   }
                 },
    "nbformat":  4,
    "nbformat_minor":  5
}
