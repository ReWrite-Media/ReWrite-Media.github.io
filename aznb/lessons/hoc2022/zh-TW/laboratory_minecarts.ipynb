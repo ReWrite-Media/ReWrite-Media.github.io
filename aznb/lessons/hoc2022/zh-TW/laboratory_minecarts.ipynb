﻿{
    "cells":  [
                  {
                      "cell_type":  "markdown",
                      "id":  "61daf32d",
                      "metadata":  {

                                   },
                      "source":  [
                                     "# 礦車重新導向\n",
                                     "\n",
                                     "你必須將生物分類到正確的通道！先看看這些排隊等候分類的生物，然後根據牠們等候的順序來分類。使用 `sort_mob()` 函式來設定牠們的分類順序吧。\n",
                                     "\n",
                                     "`sort_mob()` 函式採用的參數定義了下一種要接受分類的生物。\n",
                                     "\n",
                                     "有效生物為：\n",
                                     "- `zombie` ![殭屍](img/zombie_head.png \"殭屍\")\n",
                                     "- `skeleton` (骷髏) ![骷髏](img/skeleton_head.png \"骷髏\")\n",
                                     "- `creeper` (苦力怕) ![苦力怕](img/creeper_head.png \"苦力怕\")"
                                 ]
                  },
                  {
                      "cell_type":  "code",
                      "execution_count":  null,
                      "id":  "972e35c6",
                      "metadata":  {
                                       "minecraft":  {
                                                         "closeCodeBuilderOnRun":  true,
                                                         "hidden":  false,
                                                         "onCodeCancelledCommand":  "scoreboard players set @s code_status 0",
                                                         "onCodeErrorCommand":  "scoreboard players set @s code_status 0",
                                                         "onCodeStartedCommand":  "scoreboard players set @s code_status 1",
                                                         "onCodeStoppedCommand":  "scoreboard players set @s code_status 0",
                                                         "onCodeSuccessfulCommand":  "scoreboard players set @s code_status 0",
                                                         "overridePython":  "import time\n\ntimeout = 0.100\ncommunicationPos = (0, 64, 0)\n\ntime.sleep(0.250)\n\ndef sort_mob(mob):\n    if mob==\"zombie\":\n        world.set(communicationPos, \"orange concrete\")\n        time.sleep(timeout)         \n    elif mob==\"skeleton\":\n        world.set(communicationPos, \"magenta concrete\")\n        time.sleep(timeout)\n    elif mob==\"creeper\":\n        world.set(communicationPos, \"light blue concrete\")\n        time.sleep(timeout)\n@user-code",
                                                         "readonly":  true
                                                     }
                                   },
                      "outputs":  [

                                  ],
                      "source":  [
                                     "# 程式碼範例 - 你不能在這裡編輯\n",
                                     "# 執行看看會發生什麼事\n",
                                     "\n",
                                     "# 將前 4 個生物全部分類到\n",
                                     "# 殭屍通道。\n",
                                     "\n",
                                     "sort_mob(\"zombie\")\n",
                                     "sort_mob(\"zombie\")\n",
                                     "sort_mob(\"zombie\")\n",
                                     "sort_mob(\"zombie\")"
                                 ]
                  },
                  {
                      "cell_type":  "markdown",
                      "id":  "dc88a163",
                      "metadata":  {

                                   },
                      "source":  [
                                     "# 活動：\n",
                                     "\n",
                                     "注意看生物們的順序，然後撰寫程式碼將個別生物分類到正確的通道中。\n",
                                     "\n",
                                     "下面包含的程式碼已損壞。你能修復嗎？執行程式碼看看會發生什麼事，並將其編輯為正確解決方案來偵錯。"
                                 ]
                  },
                  {
                      "cell_type":  "code",
                      "execution_count":  null,
                      "id":  "b6f4bd0e",
                      "metadata":  {
                                       "minecraft":  {
                                                         "closeCodeBuilderOnRun":  true,
                                                         "hidden":  false,
                                                         "onCodeCancelledCommand":  "scoreboard players set @s code_status 0",
                                                         "onCodeErrorCommand":  "scoreboard players set @s code_status 0",
                                                         "onCodeStartedCommand":  "scoreboard players set @s code_status 1",
                                                         "onCodeStoppedCommand":  "scoreboard players set @s code_status 0",
                                                         "onCodeSuccessfulCommand":  "scoreboard players set @s code_status 0",
                                                         "overridePython":  "import time\n\ntimeout = 0.100\ncommunicationPos = (0, 64, 0)\n\ntime.sleep(0.250)\n\ndef sort_mob(mob):\n    if mob==\"zombie\":\n        world.set(communicationPos, \"orange concrete\")\n        time.sleep(timeout)         \n    elif mob==\"skeleton\":\n        world.set(communicationPos, \"magenta concrete\")\n        time.sleep(timeout)\n    elif mob==\"creeper\":\n        world.set(communicationPos, \"light blue concrete\")\n        time.sleep(timeout)\n@user-code",
                                                         "readonly":  false
                                                     }
                                   },
                      "outputs":  [

                                  ],
                      "source":  [
                                     "#在此編碼\n",
                                     "\n",
                                     "sort_mob(\"zombie\")\n",
                                     "sort_mob(\"zombie\")\n",
                                     "sort_mob(\"skeleton\")\n",
                                     "sort_mob(\"creeper\")\n",
                                     "sort_mob(\"creeper\")\n",
                                     "sort_mob(\"skeleton\")\n",
                                     "sort_mob(\"zombie\")"
                                 ]
                  }
              ],
    "metadata":  {
                     "celltoolbar":  "Edit Metadata",
                     "kernelspec":  {
                                        "display_name":  "Python 3 (ipykernel)",
                                        "language":  "python",
                                        "name":  "python3"
                                    },
                     "language_info":  {
                                           "codemirror_mode":  {
                                                                   "name":  "ipython",
                                                                   "version":  3
                                                               },
                                           "file_extension":  ".py",
                                           "mimetype":  "text/x-python",
                                           "name":  "python",
                                           "nbconvert_exporter":  "python",
                                           "pygments_lexer":  "ipython3",
                                           "version":  "3.10.7"
                                       },
                     "minecraft":  {
                                       "description":  "一小時玩程式 2022",
                                       "page_id":  "1.1",
                                       "page_name":  "一小時玩程式 2022",
                                       "style":  "minecraft.css"
                                   }
                 },
    "nbformat":  4,
    "nbformat_minor":  5
}
