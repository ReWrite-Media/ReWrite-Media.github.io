﻿{
    "cells":  [
                  {
                      "cell_type":  "markdown",
                      "id":  "d98fd2c2",
                      "metadata":  {

                                   },
                      "source":  [
                                     "# 迷宮\n",
                                     "\n",
                                     "將終界使者管家引導往迷宮另一邊的翡翠方塊！牆上的拉桿似乎有和迷宮中的一組入口相符的顏色。你應拉動這些拉桿，創造一條安全的路徑，引導終界使者管家前往翡翠方塊！然後使用 `move_enderman_direction()` 函數來幫助他們在迷宮中導航方向。\n",
                                     "\n",
                                     "`move_enderman_direction()`  函數採用定義應往哪個方向移動的參數。\n",
                                     "\n",
                                     "有效的方向為：\n",
                                     "- `forward`(前進)\n",
                                     "- `back` (後)\n",
                                     "- `left`\n",
                                     "- `right` (右)"
                                 ]
                  },
                  {
                      "cell_type":  "code",
                      "execution_count":  null,
                      "id":  "e17b4052",
                      "metadata":  {
                                       "minecraft":  {
                                                         "closeCodeBuilderOnRun":  true,
                                                         "hidden":  false,
                                                         "onCodeCancelledCommand":  "scoreboard players set @s code_status 0",
                                                         "onCodeErrorCommand":  "scoreboard players set @s code_status 0",
                                                         "onCodeStartedCommand":  "scoreboard players set @s code_status 1",
                                                         "onCodeStoppedCommand":  "scoreboard players set @s code_status 0",
                                                         "onCodeSuccessfulCommand":  "scoreboard players set @s code_status 0",
                                                         "overridePython":  "import time\n\ntimeout = 0.100\ncommunicationPos = (0, 64, 0)\n\ntime.sleep(0.250)\n\ndef move_enderman_direction(direction):\n    if direction==\"forward\":\n        world.set(communicationPos, \"orange concrete\")\n        time.sleep(timeout) \n    elif direction==\"back\":\n        world.set(communicationPos, \"magenta concrete\")\n        time.sleep(timeout) \n    elif direction==\"left\":\n        world.set(communicationPos, \"light blue concrete\")\n        time.sleep(timeout) \n    elif direction==\"right\":\n        world.set(communicationPos, \"yellow concrete\")\n        time.sleep(timeout) \n            \n@user-code",
                                                         "readonly":  true
                                                     }
                                   },
                      "outputs":  [

                                  ],
                      "source":  [
                                     "# 程式碼範例 - 你不能在這裡編輯\n",
                                     "# 執行看看會發生什麼事\n",
                                     "\n",
                                     "# 移動終界使者前進 4 個方塊\n",
                                     "# 然後向右 1 個方塊\n",
                                     "\n",
                                     "move_enderman_direction(\"forward\")\n",
                                     "move_enderman_direction(\"forward\")\n",
                                     "move_enderman_direction(\"forward\")\n",
                                     "move_enderman_direction(\"forward\")\n",
                                     "move_enderman_direction(\"right\")"
                                 ]
                  },
                  {
                      "cell_type":  "markdown",
                      "id":  "6acea1bb",
                      "metadata":  {

                                   },
                      "source":  [
                                     "# 專業提示：\n",
                                     "\n",
                                     "使用 `for` 迴圈多次執行一個或多個動作。"
                                 ]
                  },
                  {
                      "cell_type":  "code",
                      "execution_count":  null,
                      "id":  "da2f29e0",
                      "metadata":  {
                                       "minecraft":  {
                                                         "closeCodeBuilderOnRun":  true,
                                                         "hidden":  false,
                                                         "onCodeCancelledCommand":  "scoreboard players set @s code_status 0",
                                                         "onCodeErrorCommand":  "scoreboard players set @s code_status 0",
                                                         "onCodeStartedCommand":  "scoreboard players set @s code_status 1",
                                                         "onCodeStoppedCommand":  "scoreboard players set @s code_status 0",
                                                         "onCodeSuccessfulCommand":  "scoreboard players set @s code_status 0",
                                                         "overridePython":  "import time\n\ntimeout = 0.100\ncommunicationPos = (0, 64, 0)\n\ntime.sleep(0.250)\n\ndef move_enderman_direction(direction):\n    if direction==\"forward\":\n        world.set(communicationPos, \"orange concrete\")\n        time.sleep(timeout) \n    elif direction==\"back\":\n        world.set(communicationPos, \"magenta concrete\")\n        time.sleep(timeout) \n    elif direction==\"left\":\n        world.set(communicationPos, \"light blue concrete\")\n        time.sleep(timeout) \n    elif direction==\"right\":\n        world.set(communicationPos, \"yellow concrete\")\n        time.sleep(timeout) \n            \n@user-code",
                                                         "readonly":  true
                                                     }
                                   },
                      "outputs":  [

                                  ],
                      "source":  [
                                     "# 程式碼範例 - 你不能在這裡編輯\n",
                                     "# 執行看看會發生什麼事\n",
                                     "\n",
                                     "# 移動終界使者前進 4 個方塊\n",
                                     "# 然後向右 1 個方塊\n",
                                     "\n",
                                     "for i in range(4):\n",
                                     "    move_enderman_direction(\"forward\")\n",
                                     "\n",
                                     "move_enderman_direction(\"right\")"
                                 ]
                  },
                  {
                      "cell_type":  "markdown",
                      "id":  "4bdf0a08",
                      "metadata":  {

                                   },
                      "source":  [
                                     "# 活動：\n",
                                     "\n",
                                     "牆上的拉桿似乎有和迷宮中的一組入口相符的顏色。你應拉動這些拉桿，創造一條安全的路徑，引導終界使者管家前往翡翠方塊！\n",
                                     "\n",
                                     "下面包含的程式碼已損壞。你能修復嗎？執行程式碼看看會發生什麼事，並將其編輯為正確解決方案來偵錯。"
                                 ]
                  },
                  {
                      "cell_type":  "code",
                      "execution_count":  null,
                      "id":  "b6f4bd0e",
                      "metadata":  {
                                       "minecraft":  {
                                                         "closeCodeBuilderOnRun":  true,
                                                         "hidden":  false,
                                                         "onCodeCancelledCommand":  "scoreboard players set @s code_status 0",
                                                         "onCodeErrorCommand":  "scoreboard players set @s code_status 0",
                                                         "onCodeStartedCommand":  "scoreboard players set @s code_status 1",
                                                         "onCodeStoppedCommand":  "scoreboard players set @s code_status 0",
                                                         "onCodeSuccessfulCommand":  "scoreboard players set @s code_status 0",
                                                         "overridePython":  "import time\n\ntimeout = 0.100\ncommunicationPos = (0, 64, 0)\n\ntime.sleep(0.250)\n\ndef move_enderman_direction(direction):\n    if direction==\"forward\":\n        world.set(communicationPos, \"orange concrete\")\n        time.sleep(timeout) \n    elif direction==\"back\":\n        world.set(communicationPos, \"magenta concrete\")\n        time.sleep(timeout) \n    elif direction==\"left\":\n        world.set(communicationPos, \"light blue concrete\")\n        time.sleep(timeout) \n    elif direction==\"right\":\n        world.set(communicationPos, \"yellow concrete\")\n        time.sleep(timeout) \n            \n@user-code",
                                                         "readonly":  false
                                                     }
                                   },
                      "outputs":  [

                                  ],
                      "source":  [
                                     "# 在這裡編寫程式碼\n",
                                     "\n",
                                     "move_enderman_direction(\"forward\")\n",
                                     "move_enderman_direction(\"forward\")\n",
                                     "move_enderman_direction(\"forward\")\n",
                                     "move_enderman_direction(\"right\")\n",
                                     "move_enderman_direction(\"right\")"
                                 ]
                  }
              ],
    "metadata":  {
                     "celltoolbar":  "Edit Metadata",
                     "kernelspec":  {
                                        "display_name":  "Python 3 (ipykernel)",
                                        "language":  "python",
                                        "name":  "python3"
                                    },
                     "language_info":  {
                                           "codemirror_mode":  {
                                                                   "name":  "ipython",
                                                                   "version":  3
                                                               },
                                           "file_extension":  ".py",
                                           "mimetype":  "text/x-python",
                                           "name":  "python",
                                           "nbconvert_exporter":  "python",
                                           "pygments_lexer":  "ipython3",
                                           "version":  "3.10.7"
                                       },
                     "minecraft":  {
                                       "description":  "一小時玩程式 2022",
                                       "page_id":  "1.1",
                                       "page_name":  "一小時玩程式 2022",
                                       "style":  "minecraft.css"
                                   }
                 },
    "nbformat":  4,
    "nbformat_minor":  5
}
