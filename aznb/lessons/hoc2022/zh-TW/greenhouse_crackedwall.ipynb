﻿{
    "cells":  [
                  {
                      "cell_type":  "markdown",
                      "id":  "6d4701be",
                      "metadata":  {

                                   },
                      "source":  [
                                     "# 裂開的牆\n",
                                     "\n",
                                     "你需要更多的水，而那些破裂的方塊看起來正在漏水！使用 `move_cursor()` 函數將游標放在破裂的方塊上，然後 `break_block()` 將其破壞並讓水流入運河！\n",
                                     "\n",
                                     "`move_cursor()` 函數採用一個定義其方向的參數。該參數是箭頭的顏色，表示要移動的方向。\n",
                                     "\n",
                                     "有效的方向為：\n",
                                     "- `orange` (橙色) (將游標向上移動) ![橙色箭頭](img/orange_arrow.png\"橙色箭頭\")\n",
                                     "- `magenta` (洋紅色) (將游標向下移動) ![洋紅色箭頭](img/magenta_arrow.png \"洋紅色箭頭\")\n",
                                     "- `blue` (藍色) (將游標向左移動) ![藍色箭頭](img/blue_arrow.png \"藍色箭頭\")\n",
                                     "- `yellow` (黃色) (將游標向右移動) ![黃色箭頭](img/yellow_arrow.png\"黃色箭頭\")"
                                 ]
                  },
                  {
                      "cell_type":  "code",
                      "execution_count":  null,
                      "id":  "eb95dd59",
                      "metadata":  {
                                       "minecraft":  {
                                                         "closeCodeBuilderOnRun":  true,
                                                         "hidden":  false,
                                                         "onCodeCancelledCommand":  "scoreboard players set @s code_status 0",
                                                         "onCodeErrorCommand":  "scoreboard players set @s code_status 0",
                                                         "onCodeStartedCommand":  "scoreboard players set @s code_status 1",
                                                         "onCodeStoppedCommand":  "scoreboard players set @s code_status 0",
                                                         "onCodeSuccessfulCommand":  "scoreboard players set @s code_status 0",
                                                         "overridePython":  "import time\n\ntimeout = 0.100\ncommunicationPos = (0, 64, 0)\n\ntime.sleep(0.250)\n\ndef move_cursor(color):\n    if color == \"orange\":\n        world.set(communicationPos, \"orange concrete\")\n        time.sleep(timeout)\n    elif color == \"magenta\":\n        world.set(communicationPos, \"magenta concrete\")\n        time.sleep(timeout)\n    elif color == \"blue\":\n        world.set(communicationPos, \"light blue concrete\")\n        time.sleep(timeout)\n    elif color == \"yellow\":\n        world.set(communicationPos, \"yellow concrete\")\n        time.sleep(timeout)\n\ndef break_block():\n    world.set(communicationPos, \"lime concrete\")\n    time.sleep(timeout)   \n@user-code",
                                                         "readonly":  true
                                                     }
                                   },
                      "outputs":  [

                                  ],
                      "source":  [
                                     "# 程式碼範例 - 你不能在這裡編輯\n",
                                     "# 執行看看會發生什麼事\n",
                                     "\n",
                                     "# 向下移動游標並打破方塊\n",
                                     "# 然後將 4 個方塊移動到右側\n",
                                     "\n",
                                     "move_cursor(\"magenta\")\n",
                                     "break_block()\n",
                                     "move_cursor(\"yellow\")\n",
                                     "move_cursor(\"yellow\")\n",
                                     "move_cursor(\"yellow\")\n",
                                     "move_cursor(\"yellow\")"
                                 ]
                  },
                  {
                      "cell_type":  "markdown",
                      "id":  "bc688189",
                      "metadata":  {

                                   },
                      "source":  [
                                     "# 專業提示：\n",
                                     "\n",
                                     "使用 `for` 迴圈多次執行一個或多個動作。"
                                 ]
                  },
                  {
                      "cell_type":  "code",
                      "execution_count":  null,
                      "id":  "717a2652",
                      "metadata":  {
                                       "minecraft":  {
                                                         "closeCodeBuilderOnRun":  true,
                                                         "hidden":  false,
                                                         "onCodeCancelledCommand":  "scoreboard players set @s code_status 0",
                                                         "onCodeErrorCommand":  "scoreboard players set @s code_status 0",
                                                         "onCodeStartedCommand":  "scoreboard players set @s code_status 1",
                                                         "onCodeStoppedCommand":  "scoreboard players set @s code_status 0",
                                                         "onCodeSuccessfulCommand":  "scoreboard players set @s code_status 0",
                                                         "overridePython":  "import time\n\ntimeout = 0.100\ncommunicationPos = (0, 64, 0)\n\ntime.sleep(0.250)\n\ndef move_cursor(color):\n    if color == \"orange\":\n        world.set(communicationPos, \"orange concrete\")\n        time.sleep(timeout)\n    elif color == \"magenta\":\n        world.set(communicationPos, \"magenta concrete\")\n        time.sleep(timeout)\n    elif color == \"blue\":\n        world.set(communicationPos, \"light blue concrete\")\n        time.sleep(timeout)\n    elif color == \"yellow\":\n        world.set(communicationPos, \"yellow concrete\")\n        time.sleep(timeout)\n\ndef break_block():\n    world.set(communicationPos, \"lime concrete\")\n    time.sleep(timeout)   \n@user-code",
                                                         "readonly":  true
                                                     }
                                   },
                      "outputs":  [

                                  ],
                      "source":  [
                                     "# 程式碼範例 - 你不能在這裡編輯\n",
                                     "# 執行看看會發生什麼事\n",
                                     "\n",
                                     "# 向下移動游標並打破方塊\n",
                                     "# 然後將 4 個方塊移動到右側\n",
                                     "\n",
                                     "move_cursor(\"magenta\")\n",
                                     "break_block()\n",
                                     "\n",
                                     "for i in range(4):\n",
                                     "    move_cursor(\"yellow\")"
                                 ]
                  },
                  {
                      "cell_type":  "markdown",
                      "id":  "2bf7ceb6",
                      "metadata":  {

                                   },
                      "source":  [
                                     "# 活動：\n",
                                     "\n",
                                     "打破所有漏水的破裂方塊，填滿運河！\n",
                                     "\n",
                                     "下面包含的程式碼已損壞。你能修復它嗎？執行程式碼看看會發生什麼事，並將其編輯為正確的解決方案以進行偵錯。"
                                 ]
                  },
                  {
                      "cell_type":  "code",
                      "execution_count":  null,
                      "id":  "b6f4bd0e",
                      "metadata":  {
                                       "minecraft":  {
                                                         "closeCodeBuilderOnRun":  true,
                                                         "hidden":  false,
                                                         "onCodeCancelledCommand":  "scoreboard players set @s code_status 0",
                                                         "onCodeErrorCommand":  "scoreboard players set @s code_status 0",
                                                         "onCodeStartedCommand":  "scoreboard players set @s code_status 1",
                                                         "onCodeStoppedCommand":  "scoreboard players set @s code_status 0",
                                                         "onCodeSuccessfulCommand":  "scoreboard players set @s code_status 0",
                                                         "overridePython":  "import time\n\ntimeout = 0.100\ncommunicationPos = (0, 64, 0)\n\ntime.sleep(0.250)\n\ndef move_cursor(color):\n    if color == \"orange\":\n        world.set(communicationPos, \"orange concrete\")\n        time.sleep(timeout)\n    elif color == \"magenta\":\n        world.set(communicationPos, \"magenta concrete\")\n        time.sleep(timeout)\n    elif color == \"blue\":\n        world.set(communicationPos, \"light blue concrete\")\n        time.sleep(timeout)\n    elif color == \"yellow\":\n        world.set(communicationPos, \"yellow concrete\")\n        time.sleep(timeout)\n\ndef break_block():\n    world.set(communicationPos, \"lime concrete\")\n    time.sleep(timeout)   \n@user-code",
                                                         "readonly":  false
                                                     }
                                   },
                      "outputs":  [

                                  ],
                      "source":  [
                                     "# 在這裡編寫程式碼\n",
                                     "\n",
                                     "move_cursor(\"magenta\")\n",
                                     "break_block()\n",
                                     "move_cursor(\"yellow\")\n",
                                     "move_cursor(\"yellow\")\n",
                                     "break_block()"
                                 ]
                  }
              ],
    "metadata":  {
                     "celltoolbar":  "Edit Metadata",
                     "kernelspec":  {
                                        "display_name":  "Python 3 (ipykernel)",
                                        "language":  "python",
                                        "name":  "python3"
                                    },
                     "language_info":  {
                                           "codemirror_mode":  {
                                                                   "name":  "ipython",
                                                                   "version":  3
                                                               },
                                           "file_extension":  ".py",
                                           "mimetype":  "text/x-python",
                                           "name":  "python",
                                           "nbconvert_exporter":  "python",
                                           "pygments_lexer":  "ipython3",
                                           "version":  "3.10.7"
                                       },
                     "minecraft":  {
                                       "description":  "HOC 2022",
                                       "page_id":  "1.1",
                                       "page_name":  "HOC 2022",
                                       "style":  "minecraft.css"
                                   }
                 },
    "nbformat":  4,
    "nbformat_minor":  5
}
