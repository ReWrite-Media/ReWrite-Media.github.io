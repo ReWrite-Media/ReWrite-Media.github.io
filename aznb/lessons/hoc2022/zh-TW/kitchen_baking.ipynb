﻿{
    "cells":  [
                  {
                      "cell_type":  "markdown",
                      "id":  "bb81fd74",
                      "metadata":  {

                                   },
                      "source":  [
                                     "# 烤麵包\n",
                                     "\n",
                                     "殭屍廚師需要你的幫助來製作麵包。使用以下功能創建殭屍廚師可以跟著做的麵包配方！\n",
                                     "\n",
                                     "有四個函數可用於表示烤麵包的不同步驟。\n",
                                     "- `harvest_wheat()” ！[收割小麥](img/bread_wheat.png \"收割小麥\")\n",
                                     "- `bake_bread()” ！[烤麵包](img/bread_bake.png\"烤麵包\")\n",
                                     "- `make_dough()” ！[製作麵糰](img/bread_dough.png\"製作麵糰\")\n",
                                     "- `mill_wheat()” ！[碾磨小麥](img/bread_mill.png \"碾磨小麥\")"
                                 ]
                  },
                  {
                      "cell_type":  "code",
                      "execution_count":  null,
                      "id":  "bc828814",
                      "metadata":  {
                                       "minecraft":  {
                                                         "closeCodeBuilderOnRun":  true,
                                                         "hidden":  false,
                                                         "onCodeCancelledCommand":  "scoreboard players set @s code_status 0",
                                                         "onCodeErrorCommand":  "scoreboard players set @s code_status 0",
                                                         "onCodeStartedCommand":  "scoreboard players set @s code_status 1",
                                                         "onCodeStoppedCommand":  "scoreboard players set @s code_status 0",
                                                         "onCodeSuccessfulCommand":  "scoreboard players set @s code_status 0",
                                                         "overridePython":  "import time\n\ntimeout = 0.100\ncommunicationPos = (0, 64, 0)\n\ntime.sleep(0.250)\n\ndef harvest_wheat():\n    world.set(communicationPos, \"orange concrete\")\n    time.sleep(timeout)         \ndef mill_wheat():\n    world.set(communicationPos, \"magenta concrete\")\n    time.sleep(timeout)         \ndef make_dough():\n    world.set(communicationPos, \"light blue concrete\")\n    time.sleep(timeout)         \ndef bake_bread():\n    world.set(communicationPos, \"yellow concrete\")\n    time.sleep(timeout) \n@user-code",
                                                         "readonly":  true
                                                     }
                                   },
                      "outputs":  [

                                  ],
                      "source":  [
                                     "# 程式碼範例 - 你不能在這裡編輯\n",
                                     "# 執行看看會發生什麼事\n",
                                     "\n",
                                     "# 示範配方\n",
                                     "\n",
                                     "harvest_wheat()\n",
                                     "make_dough()\n",
                                     "bake_bread()\n",
                                     "mill_wheat()"
                                 ]
                  },
                  {
                      "cell_type":  "markdown",
                      "id":  "86bde19e",
                      "metadata":  {

                                   },
                      "source":  [
                                     "# 活動：\n",
                                     "\n",
                                     "廚師們總是隨身攜帶一份食物配方的副本！我好奇殭屍廚師會把它們藏在哪裡？規劃正確的步驟，然後為殭屍廚師編寫它們可以跟著做的配方！\n",
                                     "\n",
                                     "下面包含的程式碼已損壞。你能修復它嗎？執行程式碼看看會發生什麼事，並將其編輯為正確的解決方案以進行偵錯。"
                                 ]
                  },
                  {
                      "cell_type":  "code",
                      "execution_count":  null,
                      "id":  "b6f4bd0e",
                      "metadata":  {
                                       "minecraft":  {
                                                         "closeCodeBuilderOnRun":  true,
                                                         "hidden":  false,
                                                         "onCodeCancelledCommand":  "scoreboard players set @s code_status 0",
                                                         "onCodeErrorCommand":  "scoreboard players set @s code_status 0",
                                                         "onCodeStartedCommand":  "scoreboard players set @s code_status 1",
                                                         "onCodeStoppedCommand":  "scoreboard players set @s code_status 0",
                                                         "onCodeSuccessfulCommand":  "scoreboard players set @s code_status 0",
                                                         "overridePython":  "import time\n\ntimeout = 0.100\ncommunicationPos = (0, 64, 0)\n\ntime.sleep(0.250)\n\ndef harvest_wheat():\n    world.set(communicationPos, \"orange concrete\")\n    time.sleep(timeout)         \ndef mill_wheat():\n    world.set(communicationPos, \"magenta concrete\")\n    time.sleep(timeout)         \ndef make_dough():\n    world.set(communicationPos, \"light blue concrete\")\n    time.sleep(timeout)         \ndef bake_bread():\n    world.set(communicationPos, \"yellow concrete\")\n    time.sleep(timeout) \n@user-code",
                                                         "readonly":  false
                                                     }
                                   },
                      "outputs":  [

                                  ],
                      "source":  [
                                     "# 在這裡編寫程式碼\n",
                                     "\n",
                                     "harvest_wheat()\n",
                                     "make_dough()\n",
                                     "bake_bread()\n",
                                     "mill_wheat()\n"
                                 ]
                  }
              ],
    "metadata":  {
                     "celltoolbar":  "Edit Metadata",
                     "kernelspec":  {
                                        "display_name":  "Python 3 (ipykernel)",
                                        "language":  "python",
                                        "name":  "python3"
                                    },
                     "language_info":  {
                                           "codemirror_mode":  {
                                                                   "name":  "ipython",
                                                                   "version":  3
                                                               },
                                           "file_extension":  ".py",
                                           "mimetype":  "text/x-python",
                                           "name":  "python",
                                           "nbconvert_exporter":  "python",
                                           "pygments_lexer":  "ipython3",
                                           "version":  "3.10.7"
                                       },
                     "minecraft":  {
                                       "description":  "HOC 2022",
                                       "page_id":  "1.1",
                                       "page_name":  "HOC 2022",
                                       "style":  "minecraft.css"
                                   }
                 },
    "nbformat":  4,
    "nbformat_minor":  5
}
