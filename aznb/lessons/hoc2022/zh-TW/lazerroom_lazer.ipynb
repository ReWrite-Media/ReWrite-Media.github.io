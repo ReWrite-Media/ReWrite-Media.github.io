﻿{
    "cells":  [
                  {
                      "cell_type":  "markdown",
                      "id":  "c5e22680",
                      "metadata":  {

                                   },
                      "source":  [
                                     "# 雷射拼圖\n",
                                     "\n",
                                     "固體方塊阻止雷射！移動一排綠色方塊，使雷射穿過玻璃方塊，打開另一側的燈。使用 \u0027shift_row()\u0027 函數向左或向右移動行，讓雷射能夠通過玻璃方塊\n",
                                     "\n",
                                     "`shift_row()` 函式需使用兩個參數 (字串)。第一個參數定義的是你想移動的顏色方塊列，第二個則定義該列應該移動的方向。\n",
                                     "\n",
                                     "有效顏色為：\n",
                                     "- `green` (紅色) ![綠色](img/green_right.png\"綠色\")\n",
                                     "\n",
                                     "有效的方向為：\n",
                                     "- \u0027right\u0027！[右](img/gray_right.png“右”)\n",
                                     "- `left` ![左](img/gray_left.png \"左\")"
                                 ]
                  },
                  {
                      "cell_type":  "code",
                      "execution_count":  null,
                      "id":  "45ae79c1",
                      "metadata":  {
                                       "minecraft":  {
                                                         "closeCodeBuilderOnRun":  true,
                                                         "hidden":  false,
                                                         "onCodeCancelledCommand":  "scoreboard players set @s code_status 0",
                                                         "onCodeErrorCommand":  "scoreboard players set @s code_status 0",
                                                         "onCodeStartedCommand":  "scoreboard players set @s code_status 1",
                                                         "onCodeStoppedCommand":  "scoreboard players set @s code_status 0",
                                                         "onCodeSuccessfulCommand":  "scoreboard players set @s code_status 0",
                                                         "overridePython":  "import time\n\ntimeout = 0.100\ncommunicationPos = (0, 64, 0)\n\ntime.sleep(0.250)\n\ndef shift_row(color, direction):\n    if color==\"green\" and direction == \"left\":\n        world.set(communicationPos, \"orange concrete\")\n        time.sleep(timeout)   \n    elif color==\"green\" and direction == \"right\":\n        world.set(communicationPos, \"magenta concrete\")\n        time.sleep(timeout)                 \n@user-code",
                                                         "readonly":  true
                                                     }
                                   },
                      "outputs":  [

                                  ],
                      "source":  [
                                     "# 程式碼範例 - 你不能在這裡編輯\n",
                                     "# 執行看看會發生什麼事\n",
                                     "\n",
                                     "# 將綠色行向右移動\n",
                                     "# 3 次\n",
                                     "\n",
                                     "shift_row(\"green\", \"right\")\n",
                                     "shift_row(\"green\", \"right\")\n",
                                     "shift_row(\"green\", \"right\")"
                                 ]
                  },
                  {
                      "cell_type":  "markdown",
                      "id":  "76fd662f",
                      "metadata":  {

                                   },
                      "source":  [
                                     "# 專業提示：\n",
                                     "\n",
                                     "使用 `for` 迴圈多次執行一個或多個動作。"
                                 ]
                  },
                  {
                      "cell_type":  "code",
                      "execution_count":  null,
                      "id":  "37d767ab",
                      "metadata":  {
                                       "minecraft":  {
                                                         "closeCodeBuilderOnRun":  true,
                                                         "hidden":  false,
                                                         "onCodeCancelledCommand":  "scoreboard players set @s code_status 0",
                                                         "onCodeErrorCommand":  "scoreboard players set @s code_status 0",
                                                         "onCodeStartedCommand":  "scoreboard players set @s code_status 1",
                                                         "onCodeStoppedCommand":  "scoreboard players set @s code_status 0",
                                                         "onCodeSuccessfulCommand":  "scoreboard players set @s code_status 0",
                                                         "overridePython":  "import time\n\ntimeout = 0.100\ncommunicationPos = (0, 64, 0)\n\ntime.sleep(0.250)\n\ndef shift_row(color, direction):\n    if color==\"green\" and direction == \"left\":\n        world.set(communicationPos, \"orange concrete\")\n        time.sleep(timeout)   \n    elif color==\"green\" and direction == \"right\":\n        world.set(communicationPos, \"magenta concrete\")\n        time.sleep(timeout)                 \n@user-code",
                                                         "readonly":  true
                                                     }
                                   },
                      "outputs":  [

                                  ],
                      "source":  [
                                     "# 程式碼範例 - 你不能在這裡編輯\n",
                                     "# 執行看看會發生什麼事\n",
                                     "\n",
                                     "# 將綠色行向右移動\n",
                                     "# 3 次\n",
                                     "\n",
                                     "for i in range(3):\n",
                                     "    shift_row(\"green\", \"right\")"
                                 ]
                  },
                  {
                      "cell_type":  "markdown",
                      "id":  "cf227c68",
                      "metadata":  {

                                   },
                      "source":  [
                                     "# 活動：\n",
                                     "\n",
                                     "向左或向右移動綠色行，以便雷射穿過玻璃方塊並打開燈\n",
                                     "\n",
                                     "下面包含的程式碼已損壞。你能修復嗎？執行程式碼看看會發生什麼事，並將其編輯為正確解決方案來偵錯。"
                                 ]
                  },
                  {
                      "cell_type":  "code",
                      "execution_count":  null,
                      "id":  "b6f4bd0e",
                      "metadata":  {
                                       "minecraft":  {
                                                         "closeCodeBuilderOnRun":  true,
                                                         "hidden":  false,
                                                         "onCodeCancelledCommand":  "scoreboard players set @s code_status 0",
                                                         "onCodeErrorCommand":  "scoreboard players set @s code_status 0",
                                                         "onCodeStartedCommand":  "scoreboard players set @s code_status 1",
                                                         "onCodeStoppedCommand":  "scoreboard players set @s code_status 0",
                                                         "onCodeSuccessfulCommand":  "scoreboard players set @s code_status 0",
                                                         "overridePython":  "import time\n\ntimeout = 0.100\ncommunicationPos = (0, 64, 0)\n\ntime.sleep(0.250)\n\ndef shift_row(color, direction):\n    if color==\"green\" and direction == \"left\":\n        world.set(communicationPos, \"orange concrete\")\n        time.sleep(timeout)   \n    elif color==\"green\" and direction == \"right\":\n        world.set(communicationPos, \"magenta concrete\")\n        time.sleep(timeout)                 \n@user-code",
                                                         "readonly":  false
                                                     }
                                   },
                      "outputs":  [

                                  ],
                      "source":  [
                                     "# 在這裡編寫程式碼\n",
                                     "\n",
                                     "shift_row(\"green\", \"right\")\n",
                                     "shift_row(\"green\", \"right\")"
                                 ]
                  }
              ],
    "metadata":  {
                     "celltoolbar":  "Edit Metadata",
                     "kernelspec":  {
                                        "display_name":  "Python 3 (ipykernel)",
                                        "language":  "python",
                                        "name":  "python3"
                                    },
                     "language_info":  {
                                           "codemirror_mode":  {
                                                                   "name":  "ipython",
                                                                   "version":  3
                                                               },
                                           "file_extension":  ".py",
                                           "mimetype":  "text/x-python",
                                           "name":  "python",
                                           "nbconvert_exporter":  "python",
                                           "pygments_lexer":  "ipython3",
                                           "version":  "3.10.7"
                                       },
                     "minecraft":  {
                                       "description":  "一小時玩程式 2022",
                                       "page_id":  "1.1",
                                       "page_name":  "一小時玩程式 2022",
                                       "style":  "minecraft.css"
                                   }
                 },
    "nbformat":  4,
    "nbformat_minor":  5
}
