﻿{
    "cells":  [
                  {
                      "cell_type":  "markdown",
                      "id":  "030c2673",
                      "metadata":  {

                                   },
                      "source":  [
                                     "# 餵房子\n",
                                     "\n",
                                     "房子餓了！還有什麼比蘋果，鮭魚和蘑菇燉菜更好的食物可以餵它！看看你能不能弄清楚房子需要多少種原料。使用\"feed_house()” 函數來定義要提餵給它的物品。\n",
                                     "\n",
                                     "`feed_house()` 函數採用定義應往哪個方向移動的參數。\n",
                                     "\n",
                                     "有效選項為：\n",
                                     "- `apple` (蘋果) ![蘋果](img/蘋果.png \"蘋果\")\n",
                                     "- `mushroom stew` (燉蘑菇) ![燉蘑菇](img/mushroom_stew.png \"燉蘑菇\")\n",
                                     "- `salmon` (鮭魚) ![鮭魚](img/鲑鱼/salmon.png\"鮭魚\")\n"
                                 ]
                  },
                  {
                      "cell_type":  "code",
                      "execution_count":  null,
                      "id":  "b6f4bd0e",
                      "metadata":  {
                                       "minecraft":  {
                                                         "closeCodeBuilderOnRun":  true,
                                                         "hidden":  false,
                                                         "onCodeCancelledCommand":  "scoreboard players set @s code_status 0",
                                                         "onCodeErrorCommand":  "scoreboard players set @s code_status 0",
                                                         "onCodeStartedCommand":  "scoreboard players set @s code_status 1",
                                                         "onCodeStoppedCommand":  "scoreboard players set @s code_status 0",
                                                         "onCodeSuccessfulCommand":  "scoreboard players set @s code_status 0",
                                                         "overridePython":  "import time\n\ntimeout = 0.100\ncommunicationPos = (0, 64, 0)\n\ntime.sleep(0.250)\n\ndef feed_house(food):\n    if food==\"apple\":\n        world.set(communicationPos, \"orange concrete\")\n        time.sleep(timeout)         \n    elif food==\"salmon\":\n        world.set(communicationPos, \"magenta concrete\")\n        time.sleep(timeout)\n    elif food==\"mushroom stew\":\n        world.set(communicationPos, \"light blue concrete\")\n        time.sleep(timeout)\n@user-code",
                                                         "readonly":  true
                                                     }
                                   },
                      "outputs":  [

                                  ],
                      "source":  [
                                     "# 程式碼範例 - 你不能在這裡編輯\n",
                                     "# 執行看看會發生什麼事\n",
                                     "\n",
                                     "# 餵房子4顆蘋果和\n",
                                     "#1個燉蘑菇\n",
                                     "\n",
                                     "feed_house(\"apple\")\n",
                                     "feed_house(\"apple\")\n",
                                     "feed_house(\"apple\")\n",
                                     "feed_house(\"apple\")\n",
                                     "feed_house(\"mushroom stew\")"
                                 ]
                  },
                  {
                      "cell_type":  "markdown",
                      "id":  "d29da26d",
                      "metadata":  {

                                   },
                      "source":  [
                                     "# 專業提示：\n",
                                     "\n",
                                     "使用 `for` 迴圈多次執行一個或多個動作。"
                                 ]
                  },
                  {
                      "cell_type":  "code",
                      "execution_count":  null,
                      "id":  "c811a834",
                      "metadata":  {
                                       "minecraft":  {
                                                         "closeCodeBuilderOnRun":  true,
                                                         "hidden":  false,
                                                         "onCodeCancelledCommand":  "scoreboard players set @s code_status 0",
                                                         "onCodeErrorCommand":  "scoreboard players set @s code_status 0",
                                                         "onCodeStartedCommand":  "scoreboard players set @s code_status 1",
                                                         "onCodeStoppedCommand":  "scoreboard players set @s code_status 0",
                                                         "onCodeSuccessfulCommand":  "scoreboard players set @s code_status 0",
                                                         "overridePython":  "import time\n\ntimeout = 0.100\ncommunicationPos = (0, 64, 0)\n\ntime.sleep(0.250)\n\ndef feed_house(food):\n    if food==\"apple\":\n        world.set(communicationPos, \"orange concrete\")\n        time.sleep(timeout)         \n    elif food==\"salmon\":\n        world.set(communicationPos, \"magenta concrete\")\n        time.sleep(timeout)\n    elif food==\"mushroom stew\":\n        world.set(communicationPos, \"light blue concrete\")\n        time.sleep(timeout)\n@user-code",
                                                         "readonly":  true
                                                     }
                                   },
                      "outputs":  [

                                  ],
                      "source":  [
                                     "# 程式碼範例 - 你不能在這裡編輯\n",
                                     "# 執行看看會發生什麼事\n",
                                     "\n",
                                     "# 餵房子4顆蘋果和\n",
                                     "#1個燉蘑菇\n",
                                     "\n",
                                     "for i in range(4):\n",
                                     "    feed_house(\"apple\")\n",
                                     "\n",
                                     "feed_house(\"mushroom stew\")"
                                 ]
                  },
                  {
                      "cell_type":  "markdown",
                      "id":  "0e133078",
                      "metadata":  {

                                   },
                      "source":  [
                                     "# 活動：\n",
                                     "\n",
                                     "殭屍廚師手拿食物騎在盤子上！這裡似乎有一個圖騰…不知道他們是不是來餵房子的？弄清楚房子想要多少種食物，然後編寫程式來餵給房子正確的食物數量！\n",
                                     "\n",
                                     "下面包含的程式碼已損壞。你能修復它嗎？執行程式碼看看會發生什麼事，並將其編輯為正確的解決方案以進行偵錯。"
                                 ]
                  },
                  {
                      "cell_type":  "code",
                      "execution_count":  null,
                      "id":  "675f27bf",
                      "metadata":  {
                                       "minecraft":  {
                                                         "closeCodeBuilderOnRun":  true,
                                                         "hidden":  false,
                                                         "onCodeCancelledCommand":  "scoreboard players set @s code_status 0",
                                                         "onCodeErrorCommand":  "scoreboard players set @s code_status 0",
                                                         "onCodeStartedCommand":  "scoreboard players set @s code_status 1",
                                                         "onCodeStoppedCommand":  "scoreboard players set @s code_status 0",
                                                         "onCodeSuccessfulCommand":  "scoreboard players set @s code_status 0",
                                                         "overridePython":  "import time\n\ntimeout = 0.100\ncommunicationPos = (0, 64, 0)\n\ntime.sleep(0.250)\n\ndef feed_house(food):\n    if food==\"apple\":\n        world.set(communicationPos, \"orange concrete\")\n        time.sleep(timeout)         \n    elif food==\"salmon\":\n        world.set(communicationPos, \"magenta concrete\")\n        time.sleep(timeout)\n    elif food==\"mushroom stew\":\n        world.set(communicationPos, \"light blue concrete\")\n        time.sleep(timeout)\n@user-code",
                                                         "readonly":  false
                                                     }
                                   },
                      "outputs":  [

                                  ],
                      "source":  [
                                     "# 在這裡編寫程式碼\n",
                                     "\n",
                                     "feed_house(\"apple\")\n",
                                     "feed_house(\"apple\")\n",
                                     "feed_house(\"salmon\")"
                                 ]
                  }
              ],
    "metadata":  {
                     "celltoolbar":  "Edit Metadata",
                     "kernelspec":  {
                                        "display_name":  "Python 3 (ipykernel)",
                                        "language":  "python",
                                        "name":  "python3"
                                    },
                     "language_info":  {
                                           "codemirror_mode":  {
                                                                   "name":  "ipython",
                                                                   "version":  3
                                                               },
                                           "file_extension":  ".py",
                                           "mimetype":  "text/x-python",
                                           "name":  "python",
                                           "nbconvert_exporter":  "python",
                                           "pygments_lexer":  "ipython3",
                                           "version":  "3.10.7"
                                       },
                     "minecraft":  {
                                       "description":  "HOC 2022",
                                       "page_id":  "1.1",
                                       "page_name":  "HOC 2022",
                                       "style":  "minecraft.css"
                                   }
                 },
    "nbformat":  4,
    "nbformat_minor":  5
}
