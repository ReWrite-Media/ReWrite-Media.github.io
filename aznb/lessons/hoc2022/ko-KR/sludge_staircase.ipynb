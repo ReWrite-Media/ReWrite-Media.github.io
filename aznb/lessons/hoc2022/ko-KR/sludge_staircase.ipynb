﻿{
    "cells":  [
                  {
                      "cell_type":  "markdown",
                      "id":  "82cddf13",
                      "metadata":  {

                                   },
                      "source":  [
                                     "# 계단\n",
                                     "\n",
                                     "커서를 사용하여 상층에 접근 할 수 있는 계단을 만드세요! \u0027move_cursor()\u0027를 사용하여 커서를 배치하고 \u0027place_block()\u0027를 사용하여 블록을 선택한 위치에 배치합니다.\n",
                                     "\n",
                                     "\u0027move_cursor()\u0027 함수는 방향을 정의하는 하나의 매개 변수를 사용합니다. 이 매개 변수는 이동하려는 방향을 나타내는 화살표의 색입니다.\n",
                                     "\n",
                                     "유효한 방향은 다음과 같습니다:\n",
                                     "- `orange` (오렌지) (커서를 위로 이동) ![오렌지 화살표](img/orange_arrow.png \"오렌지 화살표\")\n",
                                     "- `magenta` (자홍색) (커서를 아래로 이동)  ![자홍색 화살표](img/magenta_arrow.png \"자홍색 화살표\")\n",
                                     "- `blue` (파란색) (커서를 왼쪽으로 이동)  ![파란색 화살표](img/blue_arrow.png \"파란색 화살표\")\n",
                                     "- `yellow` (노란색) (커서를 오른쪽으로 이동)  ![노란색 화살표](img/yellow_arrow.png \"노란색 화살표\")"
                                 ]
                  },
                  {
                      "cell_type":  "code",
                      "execution_count":  null,
                      "id":  "41d3a416",
                      "metadata":  {
                                       "minecraft":  {
                                                         "closeCodeBuilderOnRun":  true,
                                                         "hidden":  false,
                                                         "onCodeCancelledCommand":  "scoreboard players set @s code_status 0",
                                                         "onCodeErrorCommand":  "scoreboard players set @s code_status 0",
                                                         "onCodeStartedCommand":  "scoreboard players set @s code_status 1",
                                                         "onCodeStoppedCommand":  "scoreboard players set @s code_status 0",
                                                         "onCodeSuccessfulCommand":  "scoreboard players set @s code_status 0",
                                                         "overridePython":  "import time\n\ntimeout = 0.100\ncommunicationPos = (0, 64, 0)\n\ntime.sleep(0.250)\n\ndef move_cursor(color):\n    if color == \"orange\":\n        world.set(communicationPos, \"orange concrete\")\n        time.sleep(timeout)\n    elif color == \"magenta\":\n        world.set(communicationPos, \"magenta concrete\")\n        time.sleep(timeout)\n    elif color == \"blue\":\n        world.set(communicationPos, \"light blue concrete\")\n        time.sleep(timeout)\n    elif color == \"yellow\":\n        world.set(communicationPos, \"yellow concrete\")\n        time.sleep(timeout)\n\ndef place_block():\n    world.set(communicationPos, \"lime concrete\")\n    time.sleep(timeout) \n@user-code",
                                                         "readonly":  true
                                                     }
                                   },
                      "outputs":  [

                                  ],
                      "source":  [
                                     "# 코드 예제 - 여기에서 편집할 수 없습니다\n",
                                     "# 무슨 일이 일어나는지 보려면 실행하세요\n",
                                     "\n",
                                     "# 블록을 배치하고 커서를 이동하세요\n",
                                     "# 두 번 반복하세요\n",
                                     "\n",
                                     "place_block()\n",
                                     "move_cursor(\"yellow\")\n",
                                     "place_block()\n",
                                     "move_cursor(\"yellow\")\n"
                                 ]
                  },
                  {
                      "cell_type":  "markdown",
                      "id":  "d844c9d1",
                      "metadata":  {

                                   },
                      "source":  [
                                     "# 프로 팁:\n",
                                     "\n",
                                     "`for` 루프를 사용하면 하나 이상의 행동을 여러 번 반복할 수 있어요."
                                 ]
                  },
                  {
                      "cell_type":  "code",
                      "execution_count":  null,
                      "id":  "e62a6dce",
                      "metadata":  {
                                       "minecraft":  {
                                                         "closeCodeBuilderOnRun":  true,
                                                         "hidden":  false,
                                                         "onCodeCancelledCommand":  "scoreboard players set @s code_status 0",
                                                         "onCodeErrorCommand":  "scoreboard players set @s code_status 0",
                                                         "onCodeStartedCommand":  "scoreboard players set @s code_status 1",
                                                         "onCodeStoppedCommand":  "scoreboard players set @s code_status 0",
                                                         "onCodeSuccessfulCommand":  "scoreboard players set @s code_status 0",
                                                         "overridePython":  "import time\n\ntimeout = 0.100\ncommunicationPos = (0, 64, 0)\n\ntime.sleep(0.250)\n\ndef move_cursor(color):\n    if color == \"orange\":\n        world.set(communicationPos, \"orange concrete\")\n        time.sleep(timeout)\n    elif color == \"magenta\":\n        world.set(communicationPos, \"magenta concrete\")\n        time.sleep(timeout)\n    elif color == \"blue\":\n        world.set(communicationPos, \"light blue concrete\")\n        time.sleep(timeout)\n    elif color == \"yellow\":\n        world.set(communicationPos, \"yellow concrete\")\n        time.sleep(timeout)\n\ndef place_block():\n    world.set(communicationPos, \"lime concrete\")\n    time.sleep(timeout) \n@user-code",
                                                         "readonly":  true
                                                     }
                                   },
                      "outputs":  [

                                  ],
                      "source":  [
                                     "# 코드 예제 - 여기에서 편집할 수 없습니다\n",
                                     "# 무슨 일이 일어나는지 보려면 실행하세요\n",
                                     "\n",
                                     "# 블록을 배치하고 커서를 이동하세요\n",
                                     "# 두 번 반복하세요\n",
                                     "\n",
                                     "for i in range(2):\n",
                                     "    place_block()\n",
                                     "    move_cursor(\"yellow\")\n"
                                 ]
                  },
                  {
                      "cell_type":  "markdown",
                      "id":  "65041841",
                      "metadata":  {

                                   },
                      "source":  [
                                     "# 활동:\n",
                                     "\n",
                                     "커서를 사용하여 계단을 만들어 다음 영역에 도달할 수 있습니다.\n",
                                     "\n",
                                     "아래 코드가 손상되었습니다. 손상된 코드를 고칠 수 있나요? 코드를 수행하는 작업을 확인하여 디버그한 다음 원하는 결과를 얻을 수 있도록 코드를 편집하세요."
                                 ]
                  },
                  {
                      "cell_type":  "code",
                      "execution_count":  null,
                      "id":  "b6f4bd0e",
                      "metadata":  {
                                       "minecraft":  {
                                                         "closeCodeBuilderOnRun":  true,
                                                         "hidden":  false,
                                                         "onCodeCancelledCommand":  "scoreboard players set @s code_status 0",
                                                         "onCodeErrorCommand":  "scoreboard players set @s code_status 0",
                                                         "onCodeStartedCommand":  "scoreboard players set @s code_status 1",
                                                         "onCodeStoppedCommand":  "scoreboard players set @s code_status 0",
                                                         "onCodeSuccessfulCommand":  "scoreboard players set @s code_status 0",
                                                         "overridePython":  "import time\n\ntimeout = 0.100\ncommunicationPos = (0, 64, 0)\n\ntime.sleep(0.250)\n\ndef move_cursor(color):\n    if color == \"orange\":\n        world.set(communicationPos, \"orange concrete\")\n        time.sleep(timeout)\n    elif color == \"magenta\":\n        world.set(communicationPos, \"magenta concrete\")\n        time.sleep(timeout)\n    elif color == \"blue\":\n        world.set(communicationPos, \"light blue concrete\")\n        time.sleep(timeout)\n    elif color == \"yellow\":\n        world.set(communicationPos, \"yellow concrete\")\n        time.sleep(timeout)\n\ndef place_block():\n    world.set(communicationPos, \"lime concrete\")\n    time.sleep(timeout) \n@user-code",
                                                         "readonly":  false
                                                     }
                                   },
                      "outputs":  [

                                  ],
                      "source":  [
                                     "# 코드를 여기에 넣으세요\n",
                                     "\n",
                                     "place_block()\n",
                                     "move_cursor(\"yellow\")\n",
                                     "move_cursor(\"yellow\")\n",
                                     "place_block()\n"
                                 ]
                  }
              ],
    "metadata":  {
                     "celltoolbar":  "Edit Metadata",
                     "kernelspec":  {
                                        "display_name":  "Python 3 (ipykernel)",
                                        "language":  "python",
                                        "name":  "python3"
                                    },
                     "language_info":  {
                                           "codemirror_mode":  {
                                                                   "name":  "ipython",
                                                                   "version":  3
                                                               },
                                           "file_extension":  ".py",
                                           "mimetype":  "text/x-python",
                                           "name":  "python",
                                           "nbconvert_exporter":  "python",
                                           "pygments_lexer":  "ipython3",
                                           "version":  "3.10.7"
                                       },
                     "minecraft":  {
                                       "description":  "HOC 2022",
                                       "page_id":  "1.1",
                                       "page_name":  "HOC 2022",
                                       "style":  "minecraft.css"
                                   }
                 },
    "nbformat":  4,
    "nbformat_minor":  5
}
