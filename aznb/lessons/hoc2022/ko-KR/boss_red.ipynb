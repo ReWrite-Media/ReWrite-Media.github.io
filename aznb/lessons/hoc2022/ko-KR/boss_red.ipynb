﻿{
    "cells":  [
                  {
                      "cell_type":  "markdown",
                      "id":  "c96609d4",
                      "metadata":  {

                                   },
                      "source":  [
                                     "# 열린 문\n",
                                     "\n",
                                     "각 구멍은 보스 경기장의 네 모서리에 있는 챔버 문을 나타냅니다! 챔버 문을 열기 위해 올바른 색상으로 모든 구멍을 채우세요! `move_cursor()` 함수를 사용하여 커서를 공간에 배치한 다음 `place_block()` 함수로 색깔 블록을 배치하여 공간을 채웁니다!\n",
                                     "\n",
                                     "`place_block()` 함수는 배치하려는 블록의 색상을 정의하는 하나의 매개 변수를 사용합니다.\n",
                                     "\n",
                                     "유효한 색상은 다음과 같습니다:\n",
                                     "- `자홍색`\n",
                                     "- `녹색`\n",
                                     "- `노란색`\n",
                                     "- `파란색`\n",
                                     "\n",
                                     "\u0027move_cursor()\u0027 함수는 방향을 정의하는 하나의 매개 변수를 사용합니다. 이 매개 변수는 이동하려는 방향을 나타내는 화살표의 색입니다.\n",
                                     "\n",
                                     "유효한 방향은 다음과 같습니다:\n",
                                     "- `주황색` (커서를 위로 이동) ![주황색 화살표](img / orange_arrow.png \"주황색 화살표\")\n",
                                     "- \u0027자홍색\u0027 (커서를 아래로 이동)  ![자홍색 화살표](img/magenta_arrow.png \"자홍색 화살표\")\n",
                                     "- \u0027파란색\u0027 (커서를 왼쪽으로 이동)  ![파란색 화살표](img/blue_arrow.png \"파란색 화살표\")\n",
                                     "- `노란색` (커서를 오른쪽으로 이동)  ![노란색 화살표](img / yellow_arrow.png \"노란색 화살표\")\n"
                                 ]
                  },
                  {
                      "cell_type":  "code",
                      "execution_count":  null,
                      "id":  "28bedf70",
                      "metadata":  {
                                       "minecraft":  {
                                                         "closeCodeBuilderOnRun":  true,
                                                         "hidden":  false,
                                                         "onCodeCancelledCommand":  "scoreboard players set @s code_status 0",
                                                         "onCodeErrorCommand":  "scoreboard players set @s code_status 0",
                                                         "onCodeStartedCommand":  "scoreboard players set @s code_status 1",
                                                         "onCodeStoppedCommand":  "scoreboard players set @s code_status 0",
                                                         "onCodeSuccessfulCommand":  "scoreboard players set @s code_status 0",
                                                         "overridePython":  "import time\n\ntimeout = 0.100\ncommunicationPos = (0, 64, 0)\n\ntime.sleep(0.250)\n\ndef move_cursor(color):\n    if color == \"orange\":\n        world.set(communicationPos, \"orange concrete\")\n        time.sleep(timeout)\n    elif color == \"magenta\":\n        world.set(communicationPos, \"magenta concrete\")\n        time.sleep(timeout)\n    elif color == \"blue\":\n        world.set(communicationPos, \"light blue concrete\")\n        time.sleep(timeout)\n    elif color == \"yellow\":\n        world.set(communicationPos, \"yellow concrete\")\n        time.sleep(timeout)\n\ndef place_block(color):\n    if color==\"magenta\":\n        world.set(communicationPos, \"lime concrete\")\n        time.sleep(timeout)\n    elif color==\"green\":\n        world.set(communicationPos, \"pink concrete\")\n        time.sleep(timeout) \n    elif color==\"yellow\":\n        world.set(communicationPos, \"gray concrete\")\n        time.sleep(timeout)\n    elif color==\"blue\":\n        world.set(communicationPos, \"light gray concrete\")\n        time.sleep(timeout)  \n@user-code",
                                                         "readonly":  true
                                                     }
                                   },
                      "outputs":  [

                                  ],
                      "source":  [
                                     "# 코드 예제 - 여기에서 편집할 수 없습니다\n",
                                     "# 무슨 일이 일어나는지 보려면 실행하세요\n",
                                     "\n",
                                     "# 녹색 블록을 배치하고 이동합니다\n",
                                     "# 오른쪽에 2개의 공간을 두고 배치합니다\n",
                                     "# 파란색 블록\n",
                                     "\n",
                                     "place_block(\"green\")\n",
                                     "move_cursor(\"yellow\")\n",
                                     "move_cursor(\"yellow\")\n",
                                     "place_block(\"blue\")"
                                 ]
                  },
                  {
                      "cell_type":  "markdown",
                      "id":  "c783d7fe",
                      "metadata":  {

                                   },
                      "source":  [
                                     "# 활동:\n",
                                     "\n",
                                     "색깔 블록을 올바른 공간에 배치하여 챔버 문을 엽니다.\n",
                                     "\n",
                                     "아래 포함된 코드가 손상되었습니다. 손상된 코드를 고칠 수 있나요? 코드를 실행하여 어떤 일이 발생하는지 확인한 다음 올바른 솔루션으로 편집하여 디버그 하세요."
                                 ]
                  },
                  {
                      "cell_type":  "code",
                      "execution_count":  null,
                      "id":  "b6f4bd0e",
                      "metadata":  {
                                       "minecraft":  {
                                                         "closeCodeBuilderOnRun":  true,
                                                         "hidden":  false,
                                                         "onCodeCancelledCommand":  "scoreboard players set @s code_status 0",
                                                         "onCodeErrorCommand":  "scoreboard players set @s code_status 0",
                                                         "onCodeStartedCommand":  "scoreboard players set @s code_status 1",
                                                         "onCodeStoppedCommand":  "scoreboard players set @s code_status 0",
                                                         "onCodeSuccessfulCommand":  "scoreboard players set @s code_status 0",
                                                         "overridePython":  "import time\n\ntimeout = 0.100\ncommunicationPos = (0, 64, 0)\n\ntime.sleep(0.250)\n\ndef move_cursor(color):\n    if color == \"orange\":\n        world.set(communicationPos, \"orange concrete\")\n        time.sleep(timeout)\n    elif color == \"magenta\":\n        world.set(communicationPos, \"magenta concrete\")\n        time.sleep(timeout)\n    elif color == \"blue\":\n        world.set(communicationPos, \"light blue concrete\")\n        time.sleep(timeout)\n    elif color == \"yellow\":\n        world.set(communicationPos, \"yellow concrete\")\n        time.sleep(timeout)\n\ndef place_block(color):\n    if color==\"magenta\":\n        world.set(communicationPos, \"lime concrete\")\n        time.sleep(timeout)\n    elif color==\"green\":\n        world.set(communicationPos, \"pink concrete\")\n        time.sleep(timeout) \n    elif color==\"yellow\":\n        world.set(communicationPos, \"gray concrete\")\n        time.sleep(timeout)\n    elif color==\"blue\":\n        world.set(communicationPos, \"light gray concrete\")\n        time.sleep(timeout)  \n@user-code",
                                                         "readonly":  false
                                                     }
                                   },
                      "outputs":  [

                                  ],
                      "source":  [
                                     "# 코드를 여기에 넣으세요\n",
                                     "\n",
                                     "place_block(\"green\")\n",
                                     "move_cursor(\"yellow\")\n",
                                     "move_cursor(\"yellow\")\n",
                                     "place_block(\"blue\")\n"
                                 ]
                  }
              ],
    "metadata":  {
                     "celltoolbar":  "Edit Metadata",
                     "kernelspec":  {
                                        "display_name":  "Python 3 (ipykernel)",
                                        "language":  "python",
                                        "name":  "python3"
                                    },
                     "language_info":  {
                                           "codemirror_mode":  {
                                                                   "name":  "ipython",
                                                                   "version":  3
                                                               },
                                           "file_extension":  ".py",
                                           "mimetype":  "text/x-python",
                                           "name":  "python",
                                           "nbconvert_exporter":  "python",
                                           "pygments_lexer":  "ipython3",
                                           "version":  "3.10.7"
                                       },
                     "minecraft":  {
                                       "description":  "HOC 2022",
                                       "page_id":  "1.1",
                                       "page_name":  "HOC 2022",
                                       "style":  "minecraft.css"
                                   }
                 },
    "nbformat":  4,
    "nbformat_minor":  5
}
