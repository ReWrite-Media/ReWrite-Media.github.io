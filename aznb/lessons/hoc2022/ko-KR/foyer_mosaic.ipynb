﻿{
    "cells":  [
                  {
                      "cell_type":  "markdown",
                      "id":  "19cb30b6",
                      "metadata":  {

                                   },
                      "source":  [
                                     "# 그림 슬라이드\n",
                                     "\n",
                                     "이 조각들은 불완전한 그림의 일부인 것 같습니다! 순서를 바꿔 무엇인지 알아보세요! `push_pieces()` 함수를 사용하여 피스톤이 해당 방향으로 조각을 움직이도록 합니다.\n",
                                     "\n",
                                     "`push_pieces()` 함수는 조각을 밀어 넣으려는 방향을 정의하는 하나의 매개 변수를 사용합니다.\n",
                                     "\n",
                                     "유효한 방향은 다음과 같습니다:\n",
                                     "- `up` (위) ![파란색 위](img/chess_blue_up.png \"파란색 위\")\n",
                                     "- `down` (아래) ![빨간색 아래](img/chess_red_down.png \"빨간색 아래\")\n",
                                     "- `left` (왼쪽) ![노란색 왼쪽](img/chess_yellow_left.png \"노란색 왼쪽\")\n",
                                     "- `right` (오른쪽) ![녹색 오른쪽](img/chess_green_right.png \"녹색 오른쪽\")"
                                 ]
                  },
                  {
                      "cell_type":  "code",
                      "execution_count":  null,
                      "id":  "45ce451c",
                      "metadata":  {
                                       "minecraft":  {
                                                         "closeCodeBuilderOnRun":  true,
                                                         "hidden":  false,
                                                         "onCodeCancelledCommand":  "scoreboard players set @s code_status 0",
                                                         "onCodeErrorCommand":  "scoreboard players set @s code_status 0",
                                                         "onCodeStartedCommand":  "scoreboard players set @s code_status 1",
                                                         "onCodeStoppedCommand":  "scoreboard players set @s code_status 0",
                                                         "onCodeSuccessfulCommand":  "scoreboard players set @s code_status 0",
                                                         "overridePython":  "import time\n\ntimeout = 0.100\ncommunicationPos = (0, 64, 0)\n\ntime.sleep(0.250)\n\ndef push_pieces(direction):\n    if direction==\"up\":\n        world.set(communicationPos, \"orange concrete\")\n        time.sleep(timeout)    \n    elif direction==\"down\":\n        world.set(communicationPos, \"magenta concrete\")\n        time.sleep(timeout) \n    elif direction==\"left\":\n        world.set(communicationPos, \"light blue concrete\")\n        time.sleep(timeout) \n    elif direction==\"right\":\n        world.set(communicationPos, \"yellow concrete\")\n        time.sleep(timeout) \n@user-code",
                                                         "readonly":  true
                                                     }
                                   },
                      "outputs":  [

                                  ],
                      "source":  [
                                     "# 코드 예제 - 여기에서 편집할 수 없습니다\n",
                                     "# 무슨 일이 일어나는지 보려면 실행하세요\n",
                                     "\n",
                                     "# 모두에서 조각 이동\n",
                                     "# 4방향\n",
                                     "\n",
                                     "push_pieces(\"left\")\n",
                                     "push_pieces(\"right\")\n",
                                     "push_pieces(\"down\")\n",
                                     "push_pieces(\"up\")"
                                 ]
                  },
                  {
                      "cell_type":  "markdown",
                      "id":  "aafe5d6a",
                      "metadata":  {

                                   },
                      "source":  [
                                     "# 활동:\n",
                                     "\n",
                                     "블록을 밀고 순서를 바꿔 모든 조각이 완전한 그림을 만들 수 있도록 하세요!\n",
                                     "\n",
                                     "아래 포함된 코드가 손상되었습니다. 손상된 코드를 고칠 수 있나요? 코드를 실행하여 어떤 일이 발생하는지 확인한 다음 올바른 솔루션으로 편집하여 디버그 하세요."
                                 ]
                  },
                  {
                      "cell_type":  "code",
                      "execution_count":  null,
                      "id":  "b6f4bd0e",
                      "metadata":  {
                                       "minecraft":  {
                                                         "closeCodeBuilderOnRun":  true,
                                                         "hidden":  false,
                                                         "onCodeCancelledCommand":  "scoreboard players set @s code_status 0",
                                                         "onCodeErrorCommand":  "scoreboard players set @s code_status 0",
                                                         "onCodeStartedCommand":  "scoreboard players set @s code_status 1",
                                                         "onCodeStoppedCommand":  "scoreboard players set @s code_status 0",
                                                         "onCodeSuccessfulCommand":  "scoreboard players set @s code_status 0",
                                                         "overridePython":  "import time\n\ntimeout = 0.100\ncommunicationPos = (0, 64, 0)\n\ntime.sleep(0.250)\n\ndef push_pieces(direction):\n    if direction==\"up\":\n        world.set(communicationPos, \"orange concrete\")\n        time.sleep(timeout)    \n    elif direction==\"down\":\n        world.set(communicationPos, \"magenta concrete\")\n        time.sleep(timeout) \n    elif direction==\"left\":\n        world.set(communicationPos, \"light blue concrete\")\n        time.sleep(timeout) \n    elif direction==\"right\":\n        world.set(communicationPos, \"yellow concrete\")\n        time.sleep(timeout) \n@user-code",
                                                         "readonly":  false
                                                     }
                                   },
                      "outputs":  [

                                  ],
                      "source":  [
                                     "# 코드를 여기에 넣으세요\n",
                                     "\n",
                                     "push_pieces(\"left\")\n",
                                     "push_pieces(\"right\")\n",
                                     "push_pieces(\"down\")\n"
                                 ]
                  }
              ],
    "metadata":  {
                     "celltoolbar":  "Edit Metadata",
                     "kernelspec":  {
                                        "display_name":  "Python 3 (ipykernel)",
                                        "language":  "python",
                                        "name":  "python3"
                                    },
                     "language_info":  {
                                           "codemirror_mode":  {
                                                                   "name":  "ipython",
                                                                   "version":  3
                                                               },
                                           "file_extension":  ".py",
                                           "mimetype":  "text/x-python",
                                           "name":  "python",
                                           "nbconvert_exporter":  "python",
                                           "pygments_lexer":  "ipython3",
                                           "version":  "3.10.7"
                                       },
                     "minecraft":  {
                                       "description":  "HOC 2022",
                                       "page_id":  "1.1",
                                       "page_name":  "HOC 2022",
                                       "style":  "minecraft.css"
                                   }
                 },
    "nbformat":  4,
    "nbformat_minor":  5
}
