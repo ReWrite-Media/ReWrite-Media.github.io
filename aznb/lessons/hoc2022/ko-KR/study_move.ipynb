﻿{
    "cells":  [
                  {
                      "cell_type":  "markdown",
                      "id":  "f0d858d0",
                      "metadata":  {

                                   },
                      "source":  [
                                     "# 점토 볼 미로\n",
                                     "\n",
                                     "점토 공을 금 블록으로 이동합니다. \u0027clay_ball_move()\u0027 함수를 사용하여 미로를 통해 공을 탐색합니다.\n",
                                     "\n",
                                     "`clay_ball_move()` 함수는 어떤 방향으로 이동해야 하는지를 정의하는 하나의 매개 변수를 사용합니다.\n",
                                     "\n",
                                     "유효한 방향은 다음과 같습니다: \n",
                                     "- `up` (위)\n",
                                     "- `down` (아래)\n",
                                     "- `left` (왼쪽)\n",
                                     "- `right` (오른쪽)"
                                 ]
                  },
                  {
                      "cell_type":  "code",
                      "execution_count":  null,
                      "id":  "aabed157",
                      "metadata":  {
                                       "minecraft":  {
                                                         "closeCodeBuilderOnRun":  true,
                                                         "hidden":  false,
                                                         "onCodeCancelledCommand":  "scoreboard players set @s code_status 0",
                                                         "onCodeErrorCommand":  "scoreboard players set @s code_status 0",
                                                         "onCodeStartedCommand":  "scoreboard players set @s code_status 1",
                                                         "onCodeStoppedCommand":  "scoreboard players set @s code_status 0",
                                                         "onCodeSuccessfulCommand":  "scoreboard players set @s code_status 0",
                                                         "overridePython":  "import time\n\ntimeout = 0.100\ncommunicationPos = (0, 64, 0)\n\ntime.sleep(0.250)\n\ndef clay_ball_move(direction):\n       agent.move(direction)\n@user-code",
                                                         "readonly":  true
                                                     }
                                   },
                      "outputs":  [

                                  ],
                      "source":  [
                                     "# 점토 공을 위로 이동하기\n",
                                     "# 3블록\n",
                                     "\n",
                                     "clay_ball_move(\"up\")\n",
                                     "clay_ball_move(\"up\")\n",
                                     "clay_ball_move(\"up\")"
                                 ]
                  },
                  {
                      "cell_type":  "markdown",
                      "id":  "7a06b33f",
                      "metadata":  {

                                   },
                      "source":  [
                                     "# 프로 팁:\n",
                                     "\n",
                                     "`for` 루프를 사용하면 하나 이상의 행동을 여러 번 반복할 수 있어요."
                                 ]
                  },
                  {
                      "cell_type":  "code",
                      "execution_count":  null,
                      "id":  "c3f9d31a",
                      "metadata":  {
                                       "minecraft":  {
                                                         "closeCodeBuilderOnRun":  true,
                                                         "hidden":  false,
                                                         "onCodeCancelledCommand":  "scoreboard players set @s code_status 0",
                                                         "onCodeErrorCommand":  "scoreboard players set @s code_status 0",
                                                         "onCodeStartedCommand":  "scoreboard players set @s code_status 1",
                                                         "onCodeStoppedCommand":  "scoreboard players set @s code_status 0",
                                                         "onCodeSuccessfulCommand":  "scoreboard players set @s code_status 0",
                                                         "overridePython":  "import time\n\ntimeout = 0.100\ncommunicationPos = (0, 64, 0)\n\ntime.sleep(0.250)\n\ndef clay_ball_move(direction):\n       agent.move(direction)\n@user-code",
                                                         "readonly":  true
                                                     }
                                   },
                      "outputs":  [

                                  ],
                      "source":  [
                                     "# 점토 공을 위로 이동하기\n",
                                     "# 3블록\n",
                                     "\n",
                                     "for i in range(3):\n",
                                     "    clay_ball_move(\"up\")"
                                 ]
                  },
                  {
                      "cell_type":  "markdown",
                      "id":  "03d64374",
                      "metadata":  {

                                   },
                      "source":  [
                                     "# 활동:\n",
                                     "\n",
                                     "미로를 통해 점토 공을 탐색하고 금 블록에 도달하세요.\n",
                                     "\n",
                                     "아래 코드가 손상되었습니다. 손상된 코드를 고칠 수 있나요? 코드를 수행하는 작업을 확인하여 디버그한 다음 원하는 결과를 얻을 수 있도록 코드를 편집하세요."
                                 ]
                  },
                  {
                      "cell_type":  "code",
                      "execution_count":  null,
                      "id":  "b6f4bd0e",
                      "metadata":  {
                                       "minecraft":  {
                                                         "closeCodeBuilderOnRun":  true,
                                                         "hidden":  false,
                                                         "onCodeCancelledCommand":  "scoreboard players set @s code_status 0",
                                                         "onCodeErrorCommand":  "scoreboard players set @s code_status 0",
                                                         "onCodeStartedCommand":  "scoreboard players set @s code_status 1",
                                                         "onCodeStoppedCommand":  "scoreboard players set @s code_status 0",
                                                         "onCodeSuccessfulCommand":  "scoreboard players set @s code_status 0",
                                                         "overridePython":  "import time\n\ntimeout = 0.100\ncommunicationPos = (0, 64, 0)\n\ntime.sleep(0.250)\n\ndef clay_ball_move(direction):\n       agent.move(direction)\n@user-code",
                                                         "readonly":  false
                                                     }
                                   },
                      "outputs":  [

                                  ],
                      "source":  [
                                     "clay_ball_move(\"up\")\n",
                                     "clay_ball_move(\"up\")\n",
                                     "clay_ball_move(\"up\")\n",
                                     "clay_ball_move(\"left\")\n",
                                     "clay_ball_move(\"left\")\n",
                                     "clay_ball_move(\"down\")\n",
                                     "clay_ball_move(\"down\")\n",
                                     "clay_ball_move(\"down\")\n"
                                 ]
                  }
              ],
    "metadata":  {
                     "celltoolbar":  "Edit Metadata",
                     "kernelspec":  {
                                        "display_name":  "Python 3 (ipykernel)",
                                        "language":  "python",
                                        "name":  "python3"
                                    },
                     "language_info":  {
                                           "codemirror_mode":  {
                                                                   "name":  "ipython",
                                                                   "version":  3
                                                               },
                                           "file_extension":  ".py",
                                           "mimetype":  "text/x-python",
                                           "name":  "python",
                                           "nbconvert_exporter":  "python",
                                           "pygments_lexer":  "ipython3",
                                           "version":  "3.10.7"
                                       },
                     "minecraft":  {
                                       "description":  "HOC 2022",
                                       "page_id":  "1.1",
                                       "page_name":  "HOC 2022",
                                       "style":  "minecraft.css"
                                   }
                 },
    "nbformat":  4,
    "nbformat_minor":  5
}
