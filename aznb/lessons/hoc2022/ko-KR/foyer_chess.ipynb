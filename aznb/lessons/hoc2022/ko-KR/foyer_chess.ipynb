﻿{
    "cells":  [
                  {
                      "cell_type":  "markdown",
                      "id":  "011de41a",
                      "metadata":  {

                                   },
                      "source":  [
                                     "# 체스 말\n",
                                     "\n",
                                     "당신은 킹과 퀸을 해방했습니다! 그러나 문은 여전히 열리지 않습니다. 둘이 잘못된 위치에 있는 것 같습니다. 마침내 이곳을 탈출할 수 있도록 올바른 위치로 이동하세요! \u0027move_chess_piece()\u0027 기능을 사용하여 킹과 퀸을 올바른 위치로 옮깁니다.\n",
                                     "\n",
                                     "\u0027move_chess_piece()\u0027 함수는 두 개의 매개 변수를 사용합니다. 첫 번째는 어떤 체스 말을 움직이고 싶은지, 두 번째는 어떤 방향으로 움직여야 하는지입니다.\n",
                                     "\n",
                                     "유효한 체스 말은 다음과 같습니다:\n",
                                     "- `king` (킹) ![킹](img/king_icon.png \"킹\")\n",
                                     "- `queen` (퀸) ![퀸] (img/queen_icon.png \"퀸\")\n",
                                     "\n",
                                     "유효한 방향은 다음과 같습니다:\n",
                                     "- `주황색` (체스 말을 앞으로 이동) ![주황색 화살표](img/orange_arrow.png \"주황색 화살표\")\n",
                                     "- `자홍색` (체스 말을 뒤로 이동) ![자홍색 화살표] (img/magenta_arrow.png \"자홍색 화살표\")\n",
                                     "- `파란색` (체스 말을 왼쪽으로 이동) ![파란색 화살표] (img/blue_arrow.png \"파란색 화살표\")\n",
                                     "- `노란색` (체스 말을 오른쪽으로 움직인다) ![노란색 화살표](img/yellow_arrow.png \"노란색 화살표\")\n"
                                 ]
                  },
                  {
                      "cell_type":  "code",
                      "execution_count":  null,
                      "id":  "f49dad45",
                      "metadata":  {
                                       "minecraft":  {
                                                         "closeCodeBuilderOnRun":  true,
                                                         "hidden":  false,
                                                         "onCodeCancelledCommand":  "scoreboard players set @s code_status 0",
                                                         "onCodeErrorCommand":  "scoreboard players set @s code_status 0",
                                                         "onCodeStartedCommand":  "scoreboard players set @s code_status 1",
                                                         "onCodeStoppedCommand":  "scoreboard players set @s code_status 0",
                                                         "onCodeSuccessfulCommand":  "scoreboard players set @s code_status 0",
                                                         "overridePython":  "import time\n\ntimeout = 0.100\ncommunicationPos = (0, 64, 0)\n\ntime.sleep(0.250)\n\ndef move_chess_piece(type, color):\n    if type==\"king\" and color==\"orange\":\n        world.set(communicationPos, \"orange concrete\")\n        time.sleep(timeout)            \n    elif type==\"king\" and color==\"magenta\":\n        world.set(communicationPos, \"magenta concrete\")\n        time.sleep(timeout)    \n    elif type==\"king\" and color==\"blue\":\n        world.set(communicationPos, \"light blue concrete\")\n        time.sleep(timeout)    \n    elif type==\"king\" and color==\"yellow\":\n        world.set(communicationPos, \"yellow concrete\")\n        time.sleep(timeout)                \n    elif type==\"queen\" and color==\"orange\":\n        world.set(communicationPos, \"lime concrete\")\n        time.sleep(timeout)    \n    elif type==\"queen\" and color==\"magenta\":\n        world.set(communicationPos, \"pink concrete\")\n        time.sleep(timeout)    \n    elif type==\"queen\" and color==\"blue\":\n        world.set(communicationPos, \"gray concrete\")\n        time.sleep(timeout)    \n    elif type==\"queen\" and color==\"yellow\":\n        world.set(communicationPos, \"light gray concrete\")\n        time.sleep(timeout)  \n@user-code",
                                                         "readonly":  true
                                                     }
                                   },
                      "outputs":  [

                                  ],
                      "source":  [
                                     "# 코드 예제 - 여기에서 편집할 수 없습니다\n",
                                     "# 무슨 일이 일어나는지 보려면 실행하세요\n",
                                     "\n",
                                     "# 퀸을 3블록 앞으로 이동\n",
                                     "# 킹을 왼쪽으로 3블록 이동\n",
                                     "\n",
                                     "move_chess_piece(\"queen\", \"orange\")\n",
                                     "move_chess_piece(\"queen\", \"orange\")\n",
                                     "move_chess_piece(\"queen\", \"orange\")\n",
                                     "\n",
                                     "move_chess_piece(\"king\", \"blue\")\n",
                                     "move_chess_piece(\"king\", \"blue\")\n",
                                     "move_chess_piece(\"king\", \"blue\")"
                                 ]
                  },
                  {
                      "cell_type":  "markdown",
                      "id":  "4a996193",
                      "metadata":  {

                                   },
                      "source":  [
                                     "# 프로 팁:\n",
                                     "\n",
                                     "`for` 루프를 사용하면 하나 이상의 행동을 여러 번 반복할 수 있어요."
                                 ]
                  },
                  {
                      "cell_type":  "code",
                      "execution_count":  null,
                      "id":  "0697247a",
                      "metadata":  {
                                       "minecraft":  {
                                                         "closeCodeBuilderOnRun":  true,
                                                         "hidden":  false,
                                                         "onCodeCancelledCommand":  "scoreboard players set @s code_status 0",
                                                         "onCodeErrorCommand":  "scoreboard players set @s code_status 0",
                                                         "onCodeStartedCommand":  "scoreboard players set @s code_status 1",
                                                         "onCodeStoppedCommand":  "scoreboard players set @s code_status 0",
                                                         "onCodeSuccessfulCommand":  "scoreboard players set @s code_status 0",
                                                         "overridePython":  "import time\n\ntimeout = 0.100\ncommunicationPos = (0, 64, 0)\n\ntime.sleep(0.250)\n\ndef move_chess_piece(type, color):\n    if type==\"king\" and color==\"orange\":\n        world.set(communicationPos, \"orange concrete\")\n        time.sleep(timeout)            \n    elif type==\"king\" and color==\"magenta\":\n        world.set(communicationPos, \"magenta concrete\")\n        time.sleep(timeout)    \n    elif type==\"king\" and color==\"blue\":\n        world.set(communicationPos, \"light blue concrete\")\n        time.sleep(timeout)    \n    elif type==\"king\" and color==\"yellow\":\n        world.set(communicationPos, \"yellow concrete\")\n        time.sleep(timeout)                \n    elif type==\"queen\" and color==\"orange\":\n        world.set(communicationPos, \"lime concrete\")\n        time.sleep(timeout)    \n    elif type==\"queen\" and color==\"magenta\":\n        world.set(communicationPos, \"pink concrete\")\n        time.sleep(timeout)    \n    elif type==\"queen\" and color==\"blue\":\n        world.set(communicationPos, \"gray concrete\")\n        time.sleep(timeout)    \n    elif type==\"queen\" and color==\"yellow\":\n        world.set(communicationPos, \"light gray concrete\")\n        time.sleep(timeout)  \n@user-code",
                                                         "readonly":  true
                                                     }
                                   },
                      "outputs":  [

                                  ],
                      "source":  [
                                     "# 코드 예제 - 여기에서 편집할 수 없습니다\n",
                                     "# 무슨 일이 일어나는지 보려면 실행하세요\n",
                                     "\n",
                                     "# 퀸을 3블록 앞으로 이동\n",
                                     "# 킹을 왼쪽으로 3블록 이동\n",
                                     "\n",
                                     "for i in range(3):\n",
                                     "    move_chess_piece(\"queen\", \"orange\")\n",
                                     "\n",
                                     "for i in range(3):\n",
                                     "    move_chess_piece(\"king\", \"blue\")"
                                 ]
                  },
                  {
                      "cell_type":  "markdown",
                      "id":  "5541dff4",
                      "metadata":  {

                                   },
                      "source":  [
                                     "# 활동:\n",
                                     "\n",
                                     "방을 검색하여 각 체스 말을 이동할 위치를 찾은 다음 흑백 체크 무늬 바닥의 올바른 지점에 배치하는 코드를 작성하세요. 체스 말들이 서로 부딪히지 않도록 하세요.\n",
                                     "\n",
                                     "아래 포함된 코드가 손상되었습니다. 손상된 코드를 고칠 수 있나요? 코드를 실행하여 어떤 일이 발생하는지 확인한 다음 올바른 솔루션으로 편집하여 디버그 하세요."
                                 ]
                  },
                  {
                      "cell_type":  "code",
                      "execution_count":  null,
                      "id":  "b6f4bd0e",
                      "metadata":  {
                                       "minecraft":  {
                                                         "closeCodeBuilderOnRun":  true,
                                                         "hidden":  false,
                                                         "onCodeCancelledCommand":  "scoreboard players set @s code_status 0",
                                                         "onCodeErrorCommand":  "scoreboard players set @s code_status 0",
                                                         "onCodeStartedCommand":  "scoreboard players set @s code_status 1",
                                                         "onCodeStoppedCommand":  "scoreboard players set @s code_status 0",
                                                         "onCodeSuccessfulCommand":  "scoreboard players set @s code_status 0",
                                                         "overridePython":  "import time\n\ntimeout = 0.100\ncommunicationPos = (0, 64, 0)\n\ntime.sleep(0.250)\n\ndef move_chess_piece(type, color):\n    if type==\"king\" and color==\"orange\":\n        world.set(communicationPos, \"orange concrete\")\n        time.sleep(timeout)            \n    elif type==\"king\" and color==\"magenta\":\n        world.set(communicationPos, \"magenta concrete\")\n        time.sleep(timeout)    \n    elif type==\"king\" and color==\"blue\":\n        world.set(communicationPos, \"light blue concrete\")\n        time.sleep(timeout)    \n    elif type==\"king\" and color==\"yellow\":\n        world.set(communicationPos, \"yellow concrete\")\n        time.sleep(timeout)                \n    elif type==\"queen\" and color==\"orange\":\n        world.set(communicationPos, \"lime concrete\")\n        time.sleep(timeout)    \n    elif type==\"queen\" and color==\"magenta\":\n        world.set(communicationPos, \"pink concrete\")\n        time.sleep(timeout)    \n    elif type==\"queen\" and color==\"blue\":\n        world.set(communicationPos, \"gray concrete\")\n        time.sleep(timeout)    \n    elif type==\"queen\" and color==\"yellow\":\n        world.set(communicationPos, \"light gray concrete\")\n        time.sleep(timeout)  \n@user-code",
                                                         "readonly":  false
                                                     }
                                   },
                      "outputs":  [

                                  ],
                      "source":  [
                                     "# 코드를 여기에 넣으세요\n",
                                     "\n",
                                     "move_chess_piece(\"king\", \"orange\")\n",
                                     "move_chess_piece(\"king\", \"orange\")\n",
                                     "move_chess_piece(\"king\", \"orange\")\n",
                                     "move_chess_piece(\"king\", \"blue\")\n",
                                     "move_chess_piece(\"queen\", \"yellow\")\n",
                                     "move_chess_piece(\"queen\", \"yellow\")\n",
                                     "move_chess_piece(\"queen\", \"orange\")\n"
                                 ]
                  }
              ],
    "metadata":  {
                     "celltoolbar":  "Edit Metadata",
                     "kernelspec":  {
                                        "display_name":  "Python 3.10.8 64-bit (microsoft store)",
                                        "language":  "python",
                                        "name":  "python3"
                                    },
                     "language_info":  {
                                           "codemirror_mode":  {
                                                                   "name":  "ipython",
                                                                   "version":  3
                                                               },
                                           "file_extension":  ".py",
                                           "mimetype":  "text/x-python",
                                           "name":  "python",
                                           "nbconvert_exporter":  "python",
                                           "pygments_lexer":  "ipython3",
                                           "version":  "3.10.8"
                                       },
                     "minecraft":  {
                                       "description":  "HOC 2022",
                                       "page_id":  "1.1",
                                       "page_name":  "HOC 2022",
                                       "style":  "minecraft.css"
                                   },
                     "vscode":  {
                                    "interpreter":  {
                                                        "hash":  "34242f13a52f302bd973ebb7ec1f6ba9310bbd38aa2ae877991984a75c84a395"
                                                    }
                                }
                 },
    "nbformat":  4,
    "nbformat_minor":  5
}
