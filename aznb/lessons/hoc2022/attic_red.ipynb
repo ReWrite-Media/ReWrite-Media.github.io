{
 "cells": [
  {
   "cell_type": "markdown",
   "id": "e4ca514f",
   "metadata": {},
   "source": [
    "# Attic Tutorial (Red Path)\n",
    "\n",
    "To open the Red door, the Agent will need some help. Flip the lever to bring up the iron wall, and then position the Agent onto the gold blocks. Use the `agent.move()` function to move the Agent onto the gold blocks.\n",
    "\n",
    "The `agent.move()` function takes one parameter (a string) that defines what direction it should move in.\n",
    "\n",
    "Valid directions are: \n",
    "- `forward`\n",
    "- `back`\n",
    "- `left`\n",
    "- `right`\n",
    "- `up`\n",
    "- `down`"
   ]
  },
  {
   "cell_type": "code",
   "execution_count": null,
   "id": "3af48906",
   "metadata": {
    "minecraft": {
     "closeCodeBuilderOnRun": true,
     "hidden": false,
     "onCodeCancelledCommand": "scoreboard players set @s code_status 0",
     "onCodeErrorCommand": "scoreboard players set @s code_status 0",
     "onCodeStartedCommand": "scoreboard players set @s code_status 1",
     "onCodeStoppedCommand": "scoreboard players set @s code_status 0",
     "onCodeSuccessfulCommand": "scoreboard players set @s code_status 0",
     "readonly": true
    }
   },
   "outputs": [],
   "source": [
    "# move the agent 5 blocks forward\n",
    "\n",
    "agent.move(\"forward\")\n",
    "agent.move(\"forward\")\n",
    "agent.move(\"forward\")\n",
    "agent.move(\"forward\")\n",
    "agent.move(\"forward\")"
   ]
  },
  {
   "cell_type": "markdown",
   "id": "82ff9553",
   "metadata": {},
   "source": [
    "# Pro Tip:\n",
    "\n",
    "Use a `for` loop to do one or more actions multiple times."
   ]
  },
  {
   "cell_type": "code",
   "execution_count": null,
   "id": "cab99e35",
   "metadata": {
    "minecraft": {
     "closeCodeBuilderOnRun": true,
     "hidden": false,
     "onCodeCancelledCommand": "scoreboard players set @s code_status 0",
     "onCodeErrorCommand": "scoreboard players set @s code_status 0",
     "onCodeStartedCommand": "scoreboard players set @s code_status 1",
     "onCodeStoppedCommand": "scoreboard players set @s code_status 0",
     "onCodeSuccessfulCommand": "scoreboard players set @s code_status 0",
     "readonly": true
    }
   },
   "outputs": [],
   "source": [
    "# move the agent 5 blocks forward\n",
    "\n",
    "for i in range(5):\n",
    "    agent.move(\"forward\")"
   ]
  },
  {
   "cell_type": "markdown",
   "id": "8c8d99e2",
   "metadata": {},
   "source": [
    "# Activity:\n",
    "\n",
    "Open the iron wall and then move the Agent onto the gold blocks to open the red path.\n",
    "\n",
    "The below code is broken, can you fix it? Debug the code by running it to see what it does and then edit it so you get the desired result."
   ]
  },
  {
   "cell_type": "code",
   "execution_count": null,
   "id": "a0bbae8e",
   "metadata": {
    "minecraft": {
     "closeCodeBuilderOnRun": true,
     "hidden": false,
     "onCodeCancelledCommand": "scoreboard players set @s code_status 0",
     "onCodeErrorCommand": "scoreboard players set @s code_status 0",
     "onCodeStartedCommand": "scoreboard players set @s code_status 1",
     "onCodeStoppedCommand": "scoreboard players set @s code_status 0",
     "onCodeSuccessfulCommand": "scoreboard players set @s code_status 0",
     "readonly": false
    }
   },
   "outputs": [],
   "source": [
    "# code here\n",
    "\n",
    "agent.move(\"forward\")\n",
    "agent.move(\"forward\")\n",
    "agent.move(\"forward\")\n",
    "agent.move(\"forward\")\n",
    "agent.move(\"forward\")"
   ]
  }
 ],
 "metadata": {
  "celltoolbar": "Edit Metadata",
  "kernelspec": {
   "display_name": "Python 3 (ipykernel)",
   "language": "python",
   "name": "python3"
  },
  "language_info": {
   "codemirror_mode": {
    "name": "ipython",
    "version": 3
   },
   "file_extension": ".py",
   "mimetype": "text/x-python",
   "name": "python",
   "nbconvert_exporter": "python",
   "pygments_lexer": "ipython3",
   "version": "3.10.7"
  },
  "minecraft": {
   "description": "HOC 2022",
   "page_id": "1.1",
   "page_name": "HOC 2022",
   "style": "minecraft.css"
  }
 },
 "nbformat": 4,
 "nbformat_minor": 5
}
