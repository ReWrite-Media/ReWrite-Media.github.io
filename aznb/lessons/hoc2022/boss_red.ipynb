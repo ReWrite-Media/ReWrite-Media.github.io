{
 "cells": [
  {
   "cell_type": "markdown",
   "id": "c96609d4",
   "metadata": {},
   "source": [
    "# Open Doors\n",
    "\n",
    "Each one of those holes represent a chamber door. Fill all four corners to open the chambers so we could get inside!\n",
    "\n",
    "Use the ``||hoc22.cursor move <direction>||`` block to move the cursor into position and then use ``||hoc22.place block||`` to fill the hole. Once all the holes are filled, the chamber doors should open.\n"
   ]
  }
 ],
 "metadata": {
  "kernelspec": {
   "display_name": "Python 3 (ipykernel)",
   "language": "python",
   "name": "python3"
  },
  "language_info": {
   "codemirror_mode": {
    "name": "ipython",
    "version": 3
   },
   "file_extension": ".py",
   "mimetype": "text/x-python",
   "name": "python",
   "nbconvert_exporter": "python",
   "pygments_lexer": "ipython3",
   "version": "3.10.7"
  },
  "minecraft": {
   "description": "HOC 2022",
   "page_id": "1.1",
   "page_name": "HOC 2022",
   "style": "minecraft.css"
  }
 },
 "nbformat": 4,
 "nbformat_minor": 5
}
