﻿{
    "cells":  [
                  {
                      "cell_type":  "markdown",
                      "id":  "d98fd2c2",
                      "metadata":  {

                                   },
                      "source":  [
                                     "# Labirintus\n",
                                     "\n",
                                     "Irányítsd a komornyik bevégzőt a labirintus másik oldalán lévő smaragdblokkokhoz! Úgy tűnik, hogy a falon lévő karok színe megegyezik a labirintusban lévő ajtókéval. Át kell kapcsolnod ezeket a karokat, hogy a komornyik bevégzőnek biztonságos utat alakíts ki a smaragdblokkokhoz. Ezután használd a \"move_enderman_direction()” függvényt, hogy segíts neki eligazodni a labirintusban.\n",
                                     "\n",
                                     "A \"move_enderman_direction()” függvény egy paramétert igényel, amely meghatározza a mozgás irányát.\n",
                                     "\n",
                                     "Érvényes irányok:\n",
                                     "- `forward` (előre)\n",
                                     "- `back` (vissza)\n",
                                     "- `left` (balra)\n",
                                     "- `right` (jobbra)"
                                 ]
                  },
                  {
                      "cell_type":  "code",
                      "execution_count":  null,
                      "id":  "e17b4052",
                      "metadata":  {
                                       "minecraft":  {
                                                         "closeCodeBuilderOnRun":  true,
                                                         "hidden":  false,
                                                         "onCodeCancelledCommand":  "scoreboard players set @s code_status 0",
                                                         "onCodeErrorCommand":  "scoreboard players set @s code_status 0",
                                                         "onCodeStartedCommand":  "scoreboard players set @s code_status 1",
                                                         "onCodeStoppedCommand":  "scoreboard players set @s code_status 0",
                                                         "onCodeSuccessfulCommand":  "scoreboard players set @s code_status 0",
                                                         "overridePython":  "import time\n\ntimeout = 0.100\ncommunicationPos = (0, 64, 0)\n\ntime.sleep(0.250)\n\ndef move_enderman_direction(direction):\n    if direction==\"forward\":\n        world.set(communicationPos, \"orange concrete\")\n        time.sleep(timeout) \n    elif direction==\"back\":\n        world.set(communicationPos, \"magenta concrete\")\n        time.sleep(timeout) \n    elif direction==\"left\":\n        world.set(communicationPos, \"light blue concrete\")\n        time.sleep(timeout) \n    elif direction==\"right\":\n        world.set(communicationPos, \"yellow concrete\")\n        time.sleep(timeout) \n            \n@user-code",
                                                         "readonly":  true
                                                     }
                                   },
                      "outputs":  [

                                  ],
                      "source":  [
                                     "# KÓDPÉLDA – ITT NEM LEHET SZERKESZTENI\n",
                                     "# FUTTASD, ÉS NÉZD MEG, MI TÖRTÉNIK\n",
                                     "\n",
                                     "# mozgassa előre a bevégzőt 4 blokkal\n",
                                     "# majd 1 blokknyit jobbra\n",
                                     "\n",
                                     "move_enderman_direction(\"forward\")\n",
                                     "move_enderman_direction(\"forward\")\n",
                                     "move_enderman_direction(\"forward\")\n",
                                     "move_enderman_direction(\"forward\")\n",
                                     "move_enderman_direction(\"right\")"
                                 ]
                  },
                  {
                      "cell_type":  "markdown",
                      "id":  "6acea1bb",
                      "metadata":  {

                                   },
                      "source":  [
                                     "# Profi tipp:\n",
                                     "\n",
                                     "Használd a `for` ciklust, ha egy vagy több műveletet többször is szeretnél elvégezni."
                                 ]
                  },
                  {
                      "cell_type":  "code",
                      "execution_count":  null,
                      "id":  "da2f29e0",
                      "metadata":  {
                                       "minecraft":  {
                                                         "closeCodeBuilderOnRun":  true,
                                                         "hidden":  false,
                                                         "onCodeCancelledCommand":  "scoreboard players set @s code_status 0",
                                                         "onCodeErrorCommand":  "scoreboard players set @s code_status 0",
                                                         "onCodeStartedCommand":  "scoreboard players set @s code_status 1",
                                                         "onCodeStoppedCommand":  "scoreboard players set @s code_status 0",
                                                         "onCodeSuccessfulCommand":  "scoreboard players set @s code_status 0",
                                                         "overridePython":  "import time\n\ntimeout = 0.100\ncommunicationPos = (0, 64, 0)\n\ntime.sleep(0.250)\n\ndef move_enderman_direction(direction):\n    if direction==\"forward\":\n        world.set(communicationPos, \"orange concrete\")\n        time.sleep(timeout) \n    elif direction==\"back\":\n        world.set(communicationPos, \"magenta concrete\")\n        time.sleep(timeout) \n    elif direction==\"left\":\n        world.set(communicationPos, \"light blue concrete\")\n        time.sleep(timeout) \n    elif direction==\"right\":\n        world.set(communicationPos, \"yellow concrete\")\n        time.sleep(timeout) \n            \n@user-code",
                                                         "readonly":  true
                                                     }
                                   },
                      "outputs":  [

                                  ],
                      "source":  [
                                     "# KÓDPÉLDA – ITT NEM LEHET SZERKESZTENI\n",
                                     "# FUTTASD, ÉS NÉZD MEG, MI TÖRTÉNIK\n",
                                     "\n",
                                     "# mozgassa előre a bevégzőt 4 blokkal\n",
                                     "# majd 1 blokknyit jobbra\n",
                                     "\n",
                                     "for i in range(4):\n",
                                     "    move_enderman_direction(\"forward\")\n",
                                     "\n",
                                     "move_enderman_direction(\"right\")"
                                 ]
                  },
                  {
                      "cell_type":  "markdown",
                      "id":  "4bdf0a08",
                      "metadata":  {

                                   },
                      "source":  [
                                     "# Tevékenység:\n",
                                     "\n",
                                     "Át kell kapcsolnod ezeket a karokat, hogy a komornyik bevégzőnek biztonságos utat alakíts ki a smaragdblokkokhoz.\n",
                                     "\n",
                                     "Az alábbi kód nem működik. Meg tudod javítani? Futtasd a kódot, hogy lásd, mi történik, majd a hibakereséskor szerkeszd a kódot, hogy jó legyen."
                                 ]
                  },
                  {
                      "cell_type":  "code",
                      "execution_count":  null,
                      "id":  "b6f4bd0e",
                      "metadata":  {
                                       "minecraft":  {
                                                         "closeCodeBuilderOnRun":  true,
                                                         "hidden":  false,
                                                         "onCodeCancelledCommand":  "scoreboard players set @s code_status 0",
                                                         "onCodeErrorCommand":  "scoreboard players set @s code_status 0",
                                                         "onCodeStartedCommand":  "scoreboard players set @s code_status 1",
                                                         "onCodeStoppedCommand":  "scoreboard players set @s code_status 0",
                                                         "onCodeSuccessfulCommand":  "scoreboard players set @s code_status 0",
                                                         "overridePython":  "import time\n\ntimeout = 0.100\ncommunicationPos = (0, 64, 0)\n\ntime.sleep(0.250)\n\ndef move_enderman_direction(direction):\n    if direction==\"forward\":\n        world.set(communicationPos, \"orange concrete\")\n        time.sleep(timeout) \n    elif direction==\"back\":\n        world.set(communicationPos, \"magenta concrete\")\n        time.sleep(timeout) \n    elif direction==\"left\":\n        world.set(communicationPos, \"light blue concrete\")\n        time.sleep(timeout) \n    elif direction==\"right\":\n        world.set(communicationPos, \"yellow concrete\")\n        time.sleep(timeout) \n            \n@user-code",
                                                         "readonly":  false
                                                     }
                                   },
                      "outputs":  [

                                  ],
                      "source":  [
                                     "# ide írd a kódot\n",
                                     "\n",
                                     "move_enderman_direction(\"forward\")\n",
                                     "move_enderman_direction(\"forward\")\n",
                                     "move_enderman_direction(\"forward\")\n",
                                     "move_enderman_direction(\"right\")\n",
                                     "move_enderman_direction(\"right\")"
                                 ]
                  }
              ],
    "metadata":  {
                     "celltoolbar":  "Edit Metadata",
                     "kernelspec":  {
                                        "display_name":  "Python 3 (ipykernel)",
                                        "language":  "python",
                                        "name":  "python3"
                                    },
                     "language_info":  {
                                           "codemirror_mode":  {
                                                                   "name":  "ipython",
                                                                   "version":  3
                                                               },
                                           "file_extension":  ".py",
                                           "mimetype":  "text/x-python",
                                           "name":  "python",
                                           "nbconvert_exporter":  "python",
                                           "pygments_lexer":  "ipython3",
                                           "version":  "3.10.7"
                                       },
                     "minecraft":  {
                                       "description":  "HOC 2022",
                                       "page_id":  "1.1",
                                       "page_name":  "HOC 2022",
                                       "style":  "minecraft.css"
                                   }
                 },
    "nbformat":  4,
    "nbformat_minor":  5
}
