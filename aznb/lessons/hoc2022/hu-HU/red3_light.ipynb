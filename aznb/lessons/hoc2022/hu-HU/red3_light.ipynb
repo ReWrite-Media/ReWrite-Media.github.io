﻿{
    "cells":  [
                  {
                      "cell_type":  "markdown",
                      "id":  "15c6efa9",
                      "metadata":  {

                                   },
                      "source":  [
                                     "# Fényerő\n",
                                     "\n",
                                     "Ki kell nyitni az ajtót az összes lámpa bekapcsolásával. Minden egyes bekapcsolt lámpa egy kicsit jobban kinyitja az ajtót. A „move_cursor()” függvénnyel a kurzort a lámpa fölé helyezheted, majd a „turn_light_on()” függvénnyel felkapcsolhatod a lámpát. Ha az összes lámpát felkapcsoltad, az ajtó kinyílik!\n",
                                     "\n",
                                     "A „move_cursor()” függvény egy paramétert fogad, amely meghatározza az irányt. Ez a paraméter annak a nyílnak a színe, amely a mozgatás kívánt irányát jelöli.\n",
                                     "\n",
                                     "Érvényes irányok:\n",
                                     "- `orange` (felfelé mozgatja a kurzort) ![Orange Arrow](img/orange_arrow.png \"Orange Arrow\")\n",
                                     "- `magenta` (lefelé mozgatja a kurzort)  ![Magenta Arrow](img/magenta_arrow.png \"Magenta Arrow\")\n",
                                     "- `blue` (balra mozgatja a kurzort)  ![Blue Arrow](img/blue_arrow.png \"Blue Arrow\")\n",
                                     "- `yellow` (jobbra mozgatja a kurzort)  ![Yellow Arrow](img/yellow_arrow.png \"Yellow Arrow\")"
                                 ]
                  },
                  {
                      "cell_type":  "code",
                      "execution_count":  null,
                      "id":  "677f2ea6",
                      "metadata":  {
                                       "minecraft":  {
                                                         "closeCodeBuilderOnRun":  true,
                                                         "hidden":  false,
                                                         "onCodeCancelledCommand":  "scoreboard players set @s code_status 0",
                                                         "onCodeErrorCommand":  "scoreboard players set @s code_status 0",
                                                         "onCodeStartedCommand":  "scoreboard players set @s code_status 1",
                                                         "onCodeStoppedCommand":  "scoreboard players set @s code_status 0",
                                                         "onCodeSuccessfulCommand":  "scoreboard players set @s code_status 0",
                                                         "overridePython":  "import time\n\ntimeout = 0.100\ncommunicationPos = (0, 64, 0)\n\ntime.sleep(0.250)\n\ndef move_cursor(color):\n    if color == \"orange\":\n        world.set(communicationPos, \"orange concrete\")\n        time.sleep(timeout)\n    elif color == \"magenta\":\n        world.set(communicationPos, \"magenta concrete\")\n        time.sleep(timeout)\n    elif color == \"blue\":\n        world.set(communicationPos, \"light blue concrete\")\n        time.sleep(timeout)\n    elif color == \"yellow\":\n        world.set(communicationPos, \"yellow concrete\")\n        time.sleep(timeout)\n\ndef turn_light_on():\n    world.set(communicationPos, \"lime concrete\")\n    time.sleep(timeout)  \n@user-code",
                                                         "readonly":  true
                                                     }
                                   },
                      "outputs":  [

                                  ],
                      "source":  [
                                     "# KÓDPÉLDA – ITT NEM LEHET SZERKESZTENI\n",
                                     "# FUTTASD, ÉS NÉZD MEG, MI TÖRTÉNIK\n",
                                     "\n",
                                     "# mozgassa a kurzort jobbra, majd kapcsolja\n",
                                     "# fel a fényt, ismételje meg ezt 3-szor\n",
                                     "\n",
                                     "move_cursor(\"yellow\")\n",
                                     "turn_light_on()\n",
                                     "move_cursor(\"yellow\")\n",
                                     "turn_light_on()\n",
                                     "move_cursor(\"yellow\")\n",
                                     "turn_light_on()"
                                 ]
                  },
                  {
                      "cell_type":  "markdown",
                      "id":  "6997e5fa",
                      "metadata":  {

                                   },
                      "source":  [
                                     "# Profi tipp:\n",
                                     "\n",
                                     "Használd a `for` ciklust, ha egy vagy több műveletet többször is szeretnél elvégezni."
                                 ]
                  },
                  {
                      "cell_type":  "code",
                      "execution_count":  null,
                      "id":  "84c42687",
                      "metadata":  {
                                       "minecraft":  {
                                                         "closeCodeBuilderOnRun":  true,
                                                         "hidden":  false,
                                                         "onCodeCancelledCommand":  "scoreboard players set @s code_status 0",
                                                         "onCodeErrorCommand":  "scoreboard players set @s code_status 0",
                                                         "onCodeStartedCommand":  "scoreboard players set @s code_status 1",
                                                         "onCodeStoppedCommand":  "scoreboard players set @s code_status 0",
                                                         "onCodeSuccessfulCommand":  "scoreboard players set @s code_status 0",
                                                         "overridePython":  "import time\n\ntimeout = 0.100\ncommunicationPos = (0, 64, 0)\n\ntime.sleep(0.250)\n\ndef move_cursor(color):\n    if color == \"orange\":\n        world.set(communicationPos, \"orange concrete\")\n        time.sleep(timeout)\n    elif color == \"magenta\":\n        world.set(communicationPos, \"magenta concrete\")\n        time.sleep(timeout)\n    elif color == \"blue\":\n        world.set(communicationPos, \"light blue concrete\")\n        time.sleep(timeout)\n    elif color == \"yellow\":\n        world.set(communicationPos, \"yellow concrete\")\n        time.sleep(timeout)\n\ndef turn_light_on():\n    world.set(communicationPos, \"lime concrete\")\n    time.sleep(timeout)  \n@user-code",
                                                         "readonly":  true
                                                     }
                                   },
                      "outputs":  [

                                  ],
                      "source":  [
                                     "# KÓDPÉLDA – ITT NEM LEHET SZERKESZTENI\n",
                                     "# FUTTASD, ÉS NÉZD MEG, MI TÖRTÉNIK\n",
                                     "\n",
                                     "# mozgassa a kurzort jobbra, majd kapcsolja\n",
                                     "# fel a fényt, ismételje meg ezt 3-szor\n",
                                     "\n",
                                     "for i in range(3):\n",
                                     "    move_cursor(\"yellow\")\n",
                                     "    turn_light_on()"
                                 ]
                  },
                  {
                      "cell_type":  "markdown",
                      "id":  "f3cc0e99",
                      "metadata":  {

                                   },
                      "source":  [
                                     "# Tevékenység:\n",
                                     "\n",
                                     "Kapcsold be az összes lámpát, hogy az ajtó teljesen kinyíljon, és átjuthass.\n",
                                     "\n",
                                     "Az alábbi kód nem működik. Meg tudod javítani? Futtasd a kódot, hogy lásd, mi történik, majd a hibakereséskor szerkeszd a kódot, hogy jó legyen."
                                 ]
                  },
                  {
                      "cell_type":  "code",
                      "execution_count":  null,
                      "id":  "b6f4bd0e",
                      "metadata":  {
                                       "minecraft":  {
                                                         "closeCodeBuilderOnRun":  true,
                                                         "hidden":  false,
                                                         "onCodeCancelledCommand":  "scoreboard players set @s code_status 0",
                                                         "onCodeErrorCommand":  "scoreboard players set @s code_status 0",
                                                         "onCodeStartedCommand":  "scoreboard players set @s code_status 1",
                                                         "onCodeStoppedCommand":  "scoreboard players set @s code_status 0",
                                                         "onCodeSuccessfulCommand":  "scoreboard players set @s code_status 0",
                                                         "overridePython":  "import time\n\ntimeout = 0.100\ncommunicationPos = (0, 64, 0)\n\ntime.sleep(0.250)\n\ndef move_cursor(color):\n    if color == \"orange\":\n        world.set(communicationPos, \"orange concrete\")\n        time.sleep(timeout)\n    elif color == \"magenta\":\n        world.set(communicationPos, \"magenta concrete\")\n        time.sleep(timeout)\n    elif color == \"blue\":\n        world.set(communicationPos, \"light blue concrete\")\n        time.sleep(timeout)\n    elif color == \"yellow\":\n        world.set(communicationPos, \"yellow concrete\")\n        time.sleep(timeout)\n\ndef turn_light_on():\n    world.set(communicationPos, \"lime concrete\")\n    time.sleep(timeout)  \n@user-code",
                                                         "readonly":  false
                                                     }
                                   },
                      "outputs":  [

                                  ],
                      "source":  [
                                     "# ide írd a kódot\n",
                                     "\n",
                                     "move_cursor(\"yellow\")\n",
                                     "move_cursor(\"yellow\")\n",
                                     "turn_light_on()\n",
                                     "move_cursor(\"yellow\")\n",
                                     "move_cursor(\"yellow\")\n",
                                     "turn_light_on()"
                                 ]
                  }
              ],
    "metadata":  {
                     "celltoolbar":  "Edit Metadata",
                     "kernelspec":  {
                                        "display_name":  "Python 3 (ipykernel)",
                                        "language":  "python",
                                        "name":  "python3"
                                    },
                     "language_info":  {
                                           "codemirror_mode":  {
                                                                   "name":  "ipython",
                                                                   "version":  3
                                                               },
                                           "file_extension":  ".py",
                                           "mimetype":  "text/x-python",
                                           "name":  "python",
                                           "nbconvert_exporter":  "python",
                                           "pygments_lexer":  "ipython3",
                                           "version":  "3.10.7"
                                       },
                     "minecraft":  {
                                       "description":  "HOC 2022",
                                       "page_id":  "1.1",
                                       "page_name":  "HOC 2022",
                                       "style":  "minecraft.css"
                                   }
                 },
    "nbformat":  4,
    "nbformat_minor":  5
}
