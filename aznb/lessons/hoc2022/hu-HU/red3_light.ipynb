﻿{
    "cells":  [
                  {
                      "cell_type":  "markdown",
                      "id":  "15c6efa9",
                      "metadata":  {

                                   },
                      "source":  [
                                     "# Fényerő\n",
                                     "\n",
                                     "Ki kell nyitnia az ajtót az összes lámpa bekapcsolásával! Minden egyes lámpa, amelyet bekapcsol, csak egy kicsit jobban kinyitja az ajtót. A \"move_cursor()\" funkcióval a kurzort a lámpa fölé helyezheti, majd a \"turn_light_on()\" funkcióval felkapcsolhatja az összes lámpát az ajtó kinyitásához! \n",
                                     "\n",
                                     "A \"move_cursor()\" függvény egy paramétert vesz fel, amely meghatározza annak irányát. Ez a paraméter annak a nyílnak a színe, amely a mozgatni kívánt irányt jelöli.\n",
                                     "\n",
                                     "Érvényes irányok:\n",
                                     "- \u0027narancs\u0027 (felfelé mozgatja a kurzort) ! [Narancssárga nyíl] (img/orange_arrow.png \"Narancssárga nyíl\")\n",
                                     "- \"bíbor\" (lefelé mozgatja a kurzort) ! [Bíbor nyíl] (img/magenta_arrow.png \"Magenta Arrow\")\n",
                                     "- \u0027kék\u0027 (balra mozgatja a kurzort) ! [Kék nyíl] (img/blue_arrow.png \"Kék nyíl\")\n",
                                     "- \u0027sárga\u0027 (jobbra mozgatja a kurzort) ! [Sárga nyíl] (img/yellow_arrow.png \"Sárga nyíl\")"
                                 ]
                  },
                  {
                      "cell_type":  "code",
                      "execution_count":  null,
                      "id":  "677f2ea6",
                      "metadata":  {
                                       "minecraft":  {
                                                         "closeCodeBuilderOnRun":  true,
                                                         "hidden":  false,
                                                         "onCodeCancelledCommand":  "scoreboard players set @s code_status 0",
                                                         "onCodeErrorCommand":  "scoreboard players set @s code_status 0",
                                                         "onCodeStartedCommand":  "scoreboard players set @s code_status 1",
                                                         "onCodeStoppedCommand":  "scoreboard players set @s code_status 0",
                                                         "onCodeSuccessfulCommand":  "scoreboard players set @s code_status 0",
                                                         "overridePython":  "import time\n\ntimeout = 0.100\ncommunicationPos = (0, 64, 0)\n\ntime.sleep(0.250)\n\ndef move_cursor(color):\n    if color == \"orange\":\n        world.set(communicationPos, \"orange concrete\")\n        time.sleep(timeout)\n    elif color == \"magenta\":\n        world.set(communicationPos, \"magenta concrete\")\n        time.sleep(timeout)\n    elif color == \"blue\":\n        world.set(communicationPos, \"light blue concrete\")\n        time.sleep(timeout)\n    elif color == \"yellow\":\n        world.set(communicationPos, \"yellow concrete\")\n        time.sleep(timeout)\n\ndef turn_light_on():\n    world.set(communicationPos, \"lime concrete\")\n    time.sleep(timeout)  \n@user-code",
                                                         "readonly":  true
                                                     }
                                   },
                      "outputs":  [

                                  ],
                      "source":  [
                                     "# KÓD PÉLDA - ITT NEM LEHET SZERKESZTENI\n",
                                     "# FUTTASSA, HOGY MEGNÉZZE, MI TÖRTÉNIK\n",
                                     "\n",
                                     "# mozgassa a kurzort jobbra, majd forgassa el \n",
                                     "# a fényen. ismételje meg ezt 3-szor\n",
                                     "\n",
                                     "move_cursor(\"yellow\")\n",
                                     "turn_light_on()\n",
                                     "move_cursor(\"yellow\")\n",
                                     "turn_light_on()\n",
                                     "move_cursor(\"yellow\")\n",
                                     "turn_light_on()"
                                 ]
                  },
                  {
                      "cell_type":  "markdown",
                      "id":  "6997e5fa",
                      "metadata":  {

                                   },
                      "source":  [
                                     "# Profi tipp:\n",
                                     "\n",
                                     "Használd a `for` ciklust, ha egy vagy több műveletet többször is szeretnél elvégezni."
                                 ]
                  },
                  {
                      "cell_type":  "code",
                      "execution_count":  null,
                      "id":  "84c42687",
                      "metadata":  {
                                       "minecraft":  {
                                                         "closeCodeBuilderOnRun":  true,
                                                         "hidden":  false,
                                                         "onCodeCancelledCommand":  "scoreboard players set @s code_status 0",
                                                         "onCodeErrorCommand":  "scoreboard players set @s code_status 0",
                                                         "onCodeStartedCommand":  "scoreboard players set @s code_status 1",
                                                         "onCodeStoppedCommand":  "scoreboard players set @s code_status 0",
                                                         "onCodeSuccessfulCommand":  "scoreboard players set @s code_status 0",
                                                         "overridePython":  "import time\n\ntimeout = 0.100\ncommunicationPos = (0, 64, 0)\n\ntime.sleep(0.250)\n\ndef move_cursor(color):\n    if color == \"orange\":\n        world.set(communicationPos, \"orange concrete\")\n        time.sleep(timeout)\n    elif color == \"magenta\":\n        world.set(communicationPos, \"magenta concrete\")\n        time.sleep(timeout)\n    elif color == \"blue\":\n        world.set(communicationPos, \"light blue concrete\")\n        time.sleep(timeout)\n    elif color == \"yellow\":\n        world.set(communicationPos, \"yellow concrete\")\n        time.sleep(timeout)\n\ndef turn_light_on():\n    world.set(communicationPos, \"lime concrete\")\n    time.sleep(timeout)  \n@user-code",
                                                         "readonly":  true
                                                     }
                                   },
                      "outputs":  [

                                  ],
                      "source":  [
                                     "# KÓD PÉLDA - ITT NEM LEHET SZERKESZTENI\n",
                                     "# FUTTASSA, HOGY MEGNÉZZE, MI TÖRTÉNIK\n",
                                     "\n",
                                     "# mozgassa a kurzort jobbra, majd forgassa el \n",
                                     "# a fényen. ismételje meg ezt 3-szor\n",
                                     "\n",
                                     "for i in range(3):\n",
                                     "    move_cursor(\"yellow\")\n",
                                     "    turn_light_on()"
                                 ]
                  },
                  {
                      "cell_type":  "markdown",
                      "id":  "f3cc0e99",
                      "metadata":  {

                                   },
                      "source":  [
                                     "# Tevékenység:\n",
                                     "\n",
                                     "Kapcsolja be az összes lámpát, hogy az ajtó teljesen kinyíljon, és átjuthasson.\n",
                                     "\n",
                                     "Az alábbi kód nem működik. Meg tudod javítani? Futtassa a kódot, hogy lássa, mi történik, majd hibakeresést végezzen a megfelelő megoldásra való szerkesztéssel."
                                 ]
                  },
                  {
                      "cell_type":  "code",
                      "execution_count":  null,
                      "id":  "b6f4bd0e",
                      "metadata":  {
                                       "minecraft":  {
                                                         "closeCodeBuilderOnRun":  true,
                                                         "hidden":  false,
                                                         "onCodeCancelledCommand":  "scoreboard players set @s code_status 0",
                                                         "onCodeErrorCommand":  "scoreboard players set @s code_status 0",
                                                         "onCodeStartedCommand":  "scoreboard players set @s code_status 1",
                                                         "onCodeStoppedCommand":  "scoreboard players set @s code_status 0",
                                                         "onCodeSuccessfulCommand":  "scoreboard players set @s code_status 0",
                                                         "overridePython":  "import time\n\ntimeout = 0.100\ncommunicationPos = (0, 64, 0)\n\ntime.sleep(0.250)\n\ndef move_cursor(color):\n    if color == \"orange\":\n        world.set(communicationPos, \"orange concrete\")\n        time.sleep(timeout)\n    elif color == \"magenta\":\n        world.set(communicationPos, \"magenta concrete\")\n        time.sleep(timeout)\n    elif color == \"blue\":\n        world.set(communicationPos, \"light blue concrete\")\n        time.sleep(timeout)\n    elif color == \"yellow\":\n        world.set(communicationPos, \"yellow concrete\")\n        time.sleep(timeout)\n\ndef turn_light_on():\n    world.set(communicationPos, \"lime concrete\")\n    time.sleep(timeout)  \n@user-code",
                                                         "readonly":  false
                                                     }
                                   },
                      "outputs":  [

                                  ],
                      "source":  [
                                     "# ide írd a kódot\n",
                                     "\n",
                                     "move_cursor(\"yellow\")\n",
                                     "move_cursor(\"yellow\")\n",
                                     "turn_light_on()\n",
                                     "move_cursor(\"yellow\")\n",
                                     "move_cursor(\"yellow\")\n",
                                     "turn_light_on()"
                                 ]
                  }
              ],
    "metadata":  {
                     "celltoolbar":  "Edit Metadata",
                     "kernelspec":  {
                                        "display_name":  "Python 3 (ipykernel)",
                                        "language":  "python",
                                        "name":  "python3"
                                    },
                     "language_info":  {
                                           "codemirror_mode":  {
                                                                   "name":  "ipython",
                                                                   "version":  3
                                                               },
                                           "file_extension":  ".py",
                                           "mimetype":  "text/x-python",
                                           "name":  "python",
                                           "nbconvert_exporter":  "python",
                                           "pygments_lexer":  "ipython3",
                                           "version":  "3.10.7"
                                       },
                     "minecraft":  {
                                       "description":  "HOC 2022",
                                       "page_id":  "1.1",
                                       "page_name":  "HOC 2022",
                                       "style":  "minecraft.css"
                                   }
                 },
    "nbformat":  4,
    "nbformat_minor":  5
}
