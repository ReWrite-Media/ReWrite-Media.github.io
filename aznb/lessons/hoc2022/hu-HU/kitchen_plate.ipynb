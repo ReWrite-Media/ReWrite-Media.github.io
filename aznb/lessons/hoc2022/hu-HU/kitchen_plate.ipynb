﻿{
    "cells":  [
                  {
                      "cell_type":  "markdown",
                      "id":  "8cd0f13a",
                      "metadata":  {

                                   },
                      "source":  [
                                     "# Tányércsere\n",
                                     "\n",
                                     "A lüke zombiséf mindenkinek rossz ételt adott! Próbáld meg kitalálni, ki melyik ételt kéri. Használd a „swap_plates()” függvényt, hogy felcseréld a tányérokat az általad meghatározott színes terítő két oldalán.\n",
                                     "\n",
                                     "A „swap_plates()” függvény egy paramétert fogad, amely meghatározza a két cserélni kívánt tányér között lévő terítő színét.\n",
                                     "\n",
                                     "Az érvényes színek a következők:\n",
                                     "- `orange` ![Orange Arrow](img/orange_arrow.png \"Orange Arrow\")\n",
                                     "- `blue` ![Blue Arrow](img/blue_arrow.png \"Blue Arrow\")\n",
                                     "- `yellow` ![Yellow Arrow](img/yellow_arrow.png \"Yellow Arrow\")\n",
                                     "- `magenta` ![Magenta Arrow](img/magenta_arrow.png \"Magenta Arrow\")"
                                 ]
                  },
                  {
                      "cell_type":  "code",
                      "execution_count":  null,
                      "id":  "ef6ba91d",
                      "metadata":  {
                                       "minecraft":  {
                                                         "closeCodeBuilderOnRun":  true,
                                                         "hidden":  false,
                                                         "onCodeCancelledCommand":  "scoreboard players set @s code_status 0",
                                                         "onCodeErrorCommand":  "scoreboard players set @s code_status 0",
                                                         "onCodeStartedCommand":  "scoreboard players set @s code_status 1",
                                                         "onCodeStoppedCommand":  "scoreboard players set @s code_status 0",
                                                         "onCodeSuccessfulCommand":  "scoreboard players set @s code_status 0",
                                                         "overridePython":  "import time\n\ntimeout = 0.100\ncommunicationPos = (0, 64, 0)\n\ntime.sleep(0.250)\n\ndef swap_plates(color):\n    if color==\"orange\":\n        world.set(communicationPos, \"yellow concrete\")\n        time.sleep(timeout)         \n    elif color==\"blue\":\n        world.set(communicationPos, \"light blue concrete\")\n        time.sleep(timeout)\n    elif color==\"yellow\":\n        world.set(communicationPos, \"magenta concrete\")\n        time.sleep(timeout)\n    elif color==\"magenta\":\n        world.set(communicationPos, \"orange concrete\")\n        time.sleep(timeout)        \n@user-code",
                                                         "readonly":  true
                                                     }
                                   },
                      "outputs":  [

                                  ],
                      "source":  [
                                     "# KÓDPÉLDA – ITT NEM LEHET SZERKESZTENI\n",
                                     "# FUTTASD, ÉS NÉZD MEG, MI TÖRTÉNIK\n",
                                     "\n",
                                     "# cserélje ki a tányérokat mindkét oldalon\n",
                                     "# a narancssárga terítő esetében, majd\n",
                                     "# tegye ugyanezt a kék terítővel\n",
                                     "\n",
                                     "swap_plates(\"orange\")\n",
                                     "swap_plates(\"blue\")"
                                 ]
                  },
                  {
                      "cell_type":  "markdown",
                      "id":  "86ac232e",
                      "metadata":  {

                                   },
                      "source":  [
                                     "# Tevékenység:\n",
                                     "\n",
                                     "A zombi szakács eltévesztette a rendelést! Hová mehetett volna? Találd ki, melyik étel kié! Ezután írj egy programot, hogy a tányérokat a megfelelő mob elé helyezd.\n",
                                     "\n",
                                     "Az alábbi kód nem működik. Meg tudod javítani? Futtasd a kódot, hogy lásd, mi történik, majd a hibakereséskor szerkeszd a kódot, hogy jó legyen."
                                 ]
                  },
                  {
                      "cell_type":  "code",
                      "execution_count":  null,
                      "id":  "b6f4bd0e",
                      "metadata":  {
                                       "minecraft":  {
                                                         "closeCodeBuilderOnRun":  true,
                                                         "hidden":  false,
                                                         "onCodeCancelledCommand":  "scoreboard players set @s code_status 0",
                                                         "onCodeErrorCommand":  "scoreboard players set @s code_status 0",
                                                         "onCodeStartedCommand":  "scoreboard players set @s code_status 1",
                                                         "onCodeStoppedCommand":  "scoreboard players set @s code_status 0",
                                                         "onCodeSuccessfulCommand":  "scoreboard players set @s code_status 0",
                                                         "overridePython":  "import time\n\ntimeout = 0.100\ncommunicationPos = (0, 64, 0)\n\ntime.sleep(0.250)\n\ndef swap_plates(color):\n    if color==\"orange\":\n        world.set(communicationPos, \"yellow concrete\")\n        time.sleep(timeout)         \n    elif color==\"blue\":\n        world.set(communicationPos, \"light blue concrete\")\n        time.sleep(timeout)\n    elif color==\"yellow\":\n        world.set(communicationPos, \"magenta concrete\")\n        time.sleep(timeout)\n    elif color==\"magenta\":\n        world.set(communicationPos, \"orange concrete\")\n        time.sleep(timeout)        \n@user-code",
                                                         "readonly":  false
                                                     }
                                   },
                      "outputs":  [

                                  ],
                      "source":  [
                                     "# ide írd a kódot\n",
                                     "\n",
                                     "swap_plates(\"orange\")\n",
                                     "swap_plates(\"blue\")\n",
                                     "swap_plates(\"yellow\")\n",
                                     "swap_plates(\"magenta\")\n"
                                 ]
                  }
              ],
    "metadata":  {
                     "celltoolbar":  "Edit Metadata",
                     "kernelspec":  {
                                        "display_name":  "Python 3.10.8 64-bit (microsoft store)",
                                        "language":  "python",
                                        "name":  "python3"
                                    },
                     "language_info":  {
                                           "codemirror_mode":  {
                                                                   "name":  "ipython",
                                                                   "version":  3
                                                               },
                                           "file_extension":  ".py",
                                           "mimetype":  "text/x-python",
                                           "name":  "python",
                                           "nbconvert_exporter":  "python",
                                           "pygments_lexer":  "ipython3",
                                           "version":  "3.10.8"
                                       },
                     "minecraft":  {
                                       "description":  "HOC 2022",
                                       "page_id":  "1.1",
                                       "page_name":  "HOC 2022",
                                       "style":  "minecraft.css"
                                   },
                     "vscode":  {
                                    "interpreter":  {
                                                        "hash":  "34242f13a52f302bd973ebb7ec1f6ba9310bbd38aa2ae877991984a75c84a395"
                                                    }
                                }
                 },
    "nbformat":  4,
    "nbformat_minor":  5
}
