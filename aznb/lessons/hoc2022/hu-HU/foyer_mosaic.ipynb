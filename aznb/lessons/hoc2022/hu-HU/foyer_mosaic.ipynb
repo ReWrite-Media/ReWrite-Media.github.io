﻿{
    "cells":  [
                  {
                      "cell_type":  "markdown",
                      "id":  "19cb30b6",
                      "metadata":  {

                                   },
                      "source":  [
                                     "# Kép dia\n",
                                     "\n",
                                     "Úgy tűnik, hogy ezek a darabok egy hiányos kép részei! Próbáld meg átrendezni őket, hogy lásd, minek kell lennie! A \"push_pieces()\" funkcióval indítsd el a dugattyúkat, hogy a darabokat ebbe az irányba tereljék. \n",
                                     "\n",
                                     "A \"push_pieces()\" függvény egy paramétert vesz fel, azt az irányt, amerre a darabokat szeretné megnyomni.\n",
                                     "\n",
                                     "Érvényes irányok:\n",
                                     "- `up` ![Blue Up](img/chess_blue_up.png \"Blue Up\")\n",
                                     "- \"le\" ! [Piros le] (img/chess_red_down.png \"Red Down\")\n",
                                     "- \"balra\" ! [Sárga balra] (img/chess_yellow_left.png \"Sárga balra\")\n",
                                     "- `right` ![Green Right](img/chess_green_right.png \"Green Right\")"
                                 ]
                  },
                  {
                      "cell_type":  "code",
                      "execution_count":  null,
                      "id":  "45ce451c",
                      "metadata":  {
                                       "minecraft":  {
                                                         "closeCodeBuilderOnRun":  true,
                                                         "hidden":  false,
                                                         "onCodeCancelledCommand":  "scoreboard players set @s code_status 0",
                                                         "onCodeErrorCommand":  "scoreboard players set @s code_status 0",
                                                         "onCodeStartedCommand":  "scoreboard players set @s code_status 1",
                                                         "onCodeStoppedCommand":  "scoreboard players set @s code_status 0",
                                                         "onCodeSuccessfulCommand":  "scoreboard players set @s code_status 0",
                                                         "overridePython":  "import time\n\ntimeout = 0.100\ncommunicationPos = (0, 64, 0)\n\ntime.sleep(0.250)\n\ndef push_pieces(direction):\n    if direction==\"up\":\n        world.set(communicationPos, \"orange concrete\")\n        time.sleep(timeout)    \n    elif direction==\"down\":\n        world.set(communicationPos, \"magenta concrete\")\n        time.sleep(timeout) \n    elif direction==\"left\":\n        world.set(communicationPos, \"light blue concrete\")\n        time.sleep(timeout) \n    elif direction==\"right\":\n        world.set(communicationPos, \"yellow concrete\")\n        time.sleep(timeout) \n@user-code",
                                                         "readonly":  true
                                                     }
                                   },
                      "outputs":  [

                                  ],
                      "source":  [
                                     "# KÓD PÉLDA - ITT NEM LEHET SZERKESZTENI\n",
                                     "# FUTTASSA, HOGY MEGNÉZZE, MI TÖRTÉNIK\n",
                                     "\n",
                                     "# mozgassa a darabokat minden\n",
                                     "# 4 útbaigazítás\n",
                                     "\n",
                                     "push_pieces(\"left\")\n",
                                     "push_pieces(\"right\")\n",
                                     "push_pieces(\"down\")\n",
                                     "push_pieces(\"up\")"
                                 ]
                  },
                  {
                      "cell_type":  "markdown",
                      "id":  "aafe5d6a",
                      "metadata":  {

                                   },
                      "source":  [
                                     "# Tevékenység:\n",
                                     "\n",
                                     "Nyomja meg a blokkokat, hogy átrendezze őket, hogy a különböző darabok teljes képet alkossanak!\n",
                                     "\n",
                                     "Az alábbi kód nem működik. Meg tudod javítani? Futtassa a kódot, hogy lássa, mi történik, majd hibakeresést végezzen a megfelelő megoldásra való szerkesztéssel."
                                 ]
                  },
                  {
                      "cell_type":  "code",
                      "execution_count":  null,
                      "id":  "b6f4bd0e",
                      "metadata":  {
                                       "minecraft":  {
                                                         "closeCodeBuilderOnRun":  true,
                                                         "hidden":  false,
                                                         "onCodeCancelledCommand":  "scoreboard players set @s code_status 0",
                                                         "onCodeErrorCommand":  "scoreboard players set @s code_status 0",
                                                         "onCodeStartedCommand":  "scoreboard players set @s code_status 1",
                                                         "onCodeStoppedCommand":  "scoreboard players set @s code_status 0",
                                                         "onCodeSuccessfulCommand":  "scoreboard players set @s code_status 0",
                                                         "overridePython":  "import time\n\ntimeout = 0.100\ncommunicationPos = (0, 64, 0)\n\ntime.sleep(0.250)\n\ndef push_pieces(direction):\n    if direction==\"up\":\n        world.set(communicationPos, \"orange concrete\")\n        time.sleep(timeout)    \n    elif direction==\"down\":\n        world.set(communicationPos, \"magenta concrete\")\n        time.sleep(timeout) \n    elif direction==\"left\":\n        world.set(communicationPos, \"light blue concrete\")\n        time.sleep(timeout) \n    elif direction==\"right\":\n        world.set(communicationPos, \"yellow concrete\")\n        time.sleep(timeout) \n@user-code",
                                                         "readonly":  false
                                                     }
                                   },
                      "outputs":  [

                                  ],
                      "source":  [
                                     "# ide írd a kódot\n",
                                     "\n",
                                     "push_pieces(\"left\")\n",
                                     "push_pieces(\"right\")\n",
                                     "push_pieces(\"down\")\n"
                                 ]
                  }
              ],
    "metadata":  {
                     "celltoolbar":  "Edit Metadata",
                     "kernelspec":  {
                                        "display_name":  "Python 3 (ipykernel)",
                                        "language":  "python",
                                        "name":  "python3"
                                    },
                     "language_info":  {
                                           "codemirror_mode":  {
                                                                   "name":  "ipython",
                                                                   "version":  3
                                                               },
                                           "file_extension":  ".py",
                                           "mimetype":  "text/x-python",
                                           "name":  "python",
                                           "nbconvert_exporter":  "python",
                                           "pygments_lexer":  "ipython3",
                                           "version":  "3.10.7"
                                       },
                     "minecraft":  {
                                       "description":  "HOC 2022",
                                       "page_id":  "1.1",
                                       "page_name":  "HOC 2022",
                                       "style":  "minecraft.css"
                                   }
                 },
    "nbformat":  4,
    "nbformat_minor":  5
}
