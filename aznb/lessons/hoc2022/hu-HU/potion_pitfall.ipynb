﻿{
    "cells":  [
                  {
                      "cell_type":  "markdown",
                      "id":  "145bed8e",
                      "metadata":  {

                                   },
                      "source":  [
                                     "# Verem\n",
                                     "\n",
                                     "De jó! Lábak! Nem kell többé gurulnia a gólemnek! Segítenünk kell neki, hogy biztonságosan odataláljon a smaragdblokkhoz. Amikor a gólem a nyomólemezre mozog, a szükséges blokk egy pillanatra visszahúzódik. Úgy tűnik, hogy ha várunk, akkor visszajön! Használd a „move_golem_forward()” függvényt a gólem mozgatásához, a „wait()” függvénnyel pedig megvárhatod, hogy a blokk visszatérjen!"
                                 ]
                  },
                  {
                      "cell_type":  "code",
                      "execution_count":  null,
                      "id":  "e5dcd9e8",
                      "metadata":  {
                                       "minecraft":  {
                                                         "closeCodeBuilderOnRun":  true,
                                                         "hidden":  false,
                                                         "onCodeCancelledCommand":  "scoreboard players set @s code_status 0",
                                                         "onCodeErrorCommand":  "scoreboard players set @s code_status 0",
                                                         "onCodeStartedCommand":  "scoreboard players set @s code_status 1",
                                                         "onCodeStoppedCommand":  "scoreboard players set @s code_status 0",
                                                         "onCodeSuccessfulCommand":  "scoreboard players set @s code_status 0",
                                                         "overridePython":  "import time\n\ntimeout = 0.100\ncommunicationPos = (0, 64, 0)\n\ntime.sleep(0.250)\n\ndef move_golem_forward():\n    world.set(communicationPos, \"orange concrete\")\n    time.sleep(timeout)     \n\ndef wait():\n    world.set(communicationPos, \"magenta concrete\")\n    time.sleep(timeout)   \n@user-code",
                                                         "readonly":  true
                                                     }
                                   },
                      "outputs":  [

                                  ],
                      "source":  [
                                     "# KÓDPÉLDA – ITT NEM LEHET SZERKESZTENI\n",
                                     "# FUTTASD, ÉS NÉZD MEG, MI TÖRTÉNIK\n",
                                     "\n",
                                     "# mozgassa előre a gólemet 2 hellyel\n",
                                     "# várjon egy másodpercet, majd mozogjon\n",
                                     "# 2 további hellyel\n",
                                     "\n",
                                     "move_golem_forward()\n",
                                     "move_golem_forward()\n",
                                     "wait()\n",
                                     "move_golem_forward()\n",
                                     "move_golem_forward()"
                                 ]
                  },
                  {
                      "cell_type":  "markdown",
                      "id":  "64663469",
                      "metadata":  {

                                   },
                      "source":  [
                                     "# Tevékenység:\n",
                                     "\n",
                                     "Mozgasd a gólemet a végére anélkül, hogy beleesne a gödörbe. Várd meg, hogy a blokk visszajöjjön, miután a gólem egy nyomólemezre állt.\n",
                                     "\n",
                                     "Az alábbi kód nem működik. Meg tudod javítani? Futtasd a kódot, hogy lásd, mi történik, majd a hibakereséskor szerkeszd a kódot, hogy jó legyen."
                                 ]
                  },
                  {
                      "cell_type":  "code",
                      "execution_count":  null,
                      "id":  "b6f4bd0e",
                      "metadata":  {
                                       "minecraft":  {
                                                         "closeCodeBuilderOnRun":  true,
                                                         "hidden":  false,
                                                         "onCodeCancelledCommand":  "scoreboard players set @s code_status 0",
                                                         "onCodeErrorCommand":  "scoreboard players set @s code_status 0",
                                                         "onCodeStartedCommand":  "scoreboard players set @s code_status 1",
                                                         "onCodeStoppedCommand":  "scoreboard players set @s code_status 0",
                                                         "onCodeSuccessfulCommand":  "scoreboard players set @s code_status 0",
                                                         "overridePython":  "import time\n\ntimeout = 0.100\ncommunicationPos = (0, 64, 0)\n\ntime.sleep(0.250)\n\ndef move_golem_forward():\n    world.set(communicationPos, \"orange concrete\")\n    time.sleep(timeout)     \n\ndef wait():\n    world.set(communicationPos, \"magenta concrete\")\n    time.sleep(timeout)   \n@user-code",
                                                         "readonly":  false
                                                     }
                                   },
                      "outputs":  [

                                  ],
                      "source":  [
                                     "# ide írd a kódot\n",
                                     "\n",
                                     "move_golem_forward()\n",
                                     "move_golem_forward()\n",
                                     "wait()\n",
                                     "move_golem_forward()\n",
                                     "move_golem_forward()\n",
                                     "move_golem_forward()\n"
                                 ]
                  }
              ],
    "metadata":  {
                     "celltoolbar":  "Edit Metadata",
                     "kernelspec":  {
                                        "display_name":  "Python 3 (ipykernel)",
                                        "language":  "python",
                                        "name":  "python3"
                                    },
                     "language_info":  {
                                           "codemirror_mode":  {
                                                                   "name":  "ipython",
                                                                   "version":  3
                                                               },
                                           "file_extension":  ".py",
                                           "mimetype":  "text/x-python",
                                           "name":  "python",
                                           "nbconvert_exporter":  "python",
                                           "pygments_lexer":  "ipython3",
                                           "version":  "3.10.7"
                                       },
                     "minecraft":  {
                                       "description":  "HOC 2022",
                                       "page_id":  "1.1",
                                       "page_name":  "HOC 2022",
                                       "style":  "minecraft.css"
                                   }
                 },
    "nbformat":  4,
    "nbformat_minor":  5
}
