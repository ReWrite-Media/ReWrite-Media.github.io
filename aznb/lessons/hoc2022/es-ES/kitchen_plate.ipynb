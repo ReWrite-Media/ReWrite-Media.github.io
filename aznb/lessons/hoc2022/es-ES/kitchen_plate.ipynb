﻿{
    "cells":  [
                  {
                      "cell_type":  "markdown",
                      "id":  "8cd0f13a",
                      "metadata":  {

                                   },
                      "source":  [
                                     "# Cambio de platos\n",
                                     "\n",
                                     "¡El tonto del chef zombi les ha dado a todos la comida equivocada! Intenta averiguar quién quiere cada comida. Utiliza la función \u0027swap_plates()\u0027 para intercambiar los platos de cada lado del mantel del color que definas.\n",
                                     "\n",
                                     "\u0027swap_plates()\u0027 usa un parámetro que define el color del mantel que hay entre los dos platos que quieres intercambiar.\n",
                                     "\n",
                                     "Los colores válidos son:\n",
                                     "- `orange` (orange) ![Flecha naranja](img/orange_arrow.png \"Flecha naranja\")\n",
                                     "- `blue` (azul) ![Flecha blue](img/blue_arrow.png \"Flecha blue\")\n",
                                     "- `yellow` (amarillo) ![Flecha amarilla](img/yellow_arrow.png \"Flecha amarilla\")\n",
                                     "- `magenta` (magenta) ![Flecha magenta](img/magenta_arrow.png \"Flecha magenta\")"
                                 ]
                  },
                  {
                      "cell_type":  "code",
                      "execution_count":  null,
                      "id":  "ef6ba91d",
                      "metadata":  {
                                       "minecraft":  {
                                                         "closeCodeBuilderOnRun":  true,
                                                         "hidden":  false,
                                                         "onCodeCancelledCommand":  "scoreboard players set @s code_status 0",
                                                         "onCodeErrorCommand":  "scoreboard players set @s code_status 0",
                                                         "onCodeStartedCommand":  "scoreboard players set @s code_status 1",
                                                         "onCodeStoppedCommand":  "scoreboard players set @s code_status 0",
                                                         "onCodeSuccessfulCommand":  "scoreboard players set @s code_status 0",
                                                         "overridePython":  "import time\n\ntimeout = 0.100\ncommunicationPos = (0, 64, 0)\n\ntime.sleep(0.250)\n\ndef swap_plates(color):\n    if color==\"orange\":\n        world.set(communicationPos, \"yellow concrete\")\n        time.sleep(timeout)         \n    elif color==\"blue\":\n        world.set(communicationPos, \"light blue concrete\")\n        time.sleep(timeout)\n    elif color==\"yellow\":\n        world.set(communicationPos, \"magenta concrete\")\n        time.sleep(timeout)\n    elif color==\"magenta\":\n        world.set(communicationPos, \"orange concrete\")\n        time.sleep(timeout)        \n@user-code",
                                                         "readonly":  true
                                                     }
                                   },
                      "outputs":  [

                                  ],
                      "source":  [
                                     "# EJEMPLO DE CÓDIGO - NO SE PUEDE EDITAR AQUÍ\n",
                                     "# EJECÚTALO PARA VER QUÉ SUCEDE\n",
                                     "\n",
                                     "# cambiar los platos de cada lado\n",
                                     "# del mantel naranja y luego\n",
                                     "# hacer lo mismo con el mantel azul\n",
                                     "\n",
                                     "swap_plates(\"orange\")\n",
                                     "swap_plates(\"blue\")"
                                 ]
                  },
                  {
                      "cell_type":  "markdown",
                      "id":  "86ac232e",
                      "metadata":  {

                                   },
                      "source":  [
                                     "# Actividad:\n",
                                     "\n",
                                     "¡El chef zombi ha perdido la comanda! ¿Dónde la habrá puesto? ¡Averigua qué comida pertenece a quién! A continuación, escribe un programa para colocar los platos frente a la criatura correcta.\n",
                                     "\n",
                                     "El código incluido a continuación está roto. ¿Puedes arreglarlo? Ejecuta el código para ver qué sucede y, a continuación, depúralo editándolo con la solución correcta."
                                 ]
                  },
                  {
                      "cell_type":  "code",
                      "execution_count":  null,
                      "id":  "b6f4bd0e",
                      "metadata":  {
                                       "minecraft":  {
                                                         "closeCodeBuilderOnRun":  true,
                                                         "hidden":  false,
                                                         "onCodeCancelledCommand":  "scoreboard players set @s code_status 0",
                                                         "onCodeErrorCommand":  "scoreboard players set @s code_status 0",
                                                         "onCodeStartedCommand":  "scoreboard players set @s code_status 1",
                                                         "onCodeStoppedCommand":  "scoreboard players set @s code_status 0",
                                                         "onCodeSuccessfulCommand":  "scoreboard players set @s code_status 0",
                                                         "overridePython":  "import time\n\ntimeout = 0.100\ncommunicationPos = (0, 64, 0)\n\ntime.sleep(0.250)\n\ndef swap_plates(color):\n    if color==\"orange\":\n        world.set(communicationPos, \"yellow concrete\")\n        time.sleep(timeout)         \n    elif color==\"blue\":\n        world.set(communicationPos, \"light blue concrete\")\n        time.sleep(timeout)\n    elif color==\"yellow\":\n        world.set(communicationPos, \"magenta concrete\")\n        time.sleep(timeout)\n    elif color==\"magenta\":\n        world.set(communicationPos, \"orange concrete\")\n        time.sleep(timeout)        \n@user-code",
                                                         "readonly":  false
                                                     }
                                   },
                      "outputs":  [

                                  ],
                      "source":  [
                                     "# escribe el código aquí\n",
                                     "\n",
                                     "swap_plates(\"orange\")\n",
                                     "swap_plates(\"blue\")\n",
                                     "swap_plates(\"yellow\")\n",
                                     "swap_plates(\"magenta\")\n"
                                 ]
                  }
              ],
    "metadata":  {
                     "celltoolbar":  "Edit Metadata",
                     "kernelspec":  {
                                        "display_name":  "Python 3.10.8 64-bit (microsoft store)",
                                        "language":  "python",
                                        "name":  "python3"
                                    },
                     "language_info":  {
                                           "codemirror_mode":  {
                                                                   "name":  "ipython",
                                                                   "version":  3
                                                               },
                                           "file_extension":  ".py",
                                           "mimetype":  "text/x-python",
                                           "name":  "python",
                                           "nbconvert_exporter":  "python",
                                           "pygments_lexer":  "ipython3",
                                           "version":  "3.10.8"
                                       },
                     "minecraft":  {
                                       "description":  "HOC 2022",
                                       "page_id":  "1.1",
                                       "page_name":  "HOC 2022",
                                       "style":  "minecraft.css"
                                   },
                     "vscode":  {
                                    "interpreter":  {
                                                        "hash":  "34242f13a52f302bd973ebb7ec1f6ba9310bbd38aa2ae877991984a75c84a395"
                                                    }
                                }
                 },
    "nbformat":  4,
    "nbformat_minor":  5
}
