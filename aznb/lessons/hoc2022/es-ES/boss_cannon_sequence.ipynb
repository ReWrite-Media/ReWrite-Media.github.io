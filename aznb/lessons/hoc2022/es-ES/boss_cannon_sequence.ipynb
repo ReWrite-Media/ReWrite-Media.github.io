﻿{
    "cells":  [
                  {
                      "cell_type":  "markdown",
                      "id":  "fdd844cf",
                      "metadata":  {

                                   },
                      "source":  [
                                     "# Cañones\n",
                                     "\n",
                                     "¡Los Agentes del tiempo están debajo del Orbe del tiempo! ¡Han usado sus poderes para crear anillos protectores de colores a su alrededor! ¡Usa función «activate_cannon()» para activar los cañones de colores en el mismo orden que los anillos de colores y poder desactivar el Orbe del tiempo!\n",
                                     "\n",
                                     "La función «activate_cannon()» usa un parámetro que define el cañón de color que quieres activar.\n",
                                     "\n",
                                     "Los colores válidos son:\n",
                                     "- «azul» ![Cañón azul](img/blue_cannon.png «Cañón azul»)\n",
                                     "- «amarillo» ![Cañón amarillo](img/yellow_cannon.png «Cañón amarillo»)\n",
                                     "- «magenta» ![Cañón magenta](img/magenta_cannon.png «Cañón magenta»)\n",
                                     "- «verde» ![Cañón verde](img/green_cannon.png «Cañón verde»)"
                                 ]
                  },
                  {
                      "cell_type":  "code",
                      "execution_count":  null,
                      "id":  "fb9282d9",
                      "metadata":  {
                                       "minecraft":  {
                                                         "closeCodeBuilderOnRun":  true,
                                                         "hidden":  false,
                                                         "onCodeCancelledCommand":  "scoreboard players set @s code_status 0",
                                                         "onCodeErrorCommand":  "scoreboard players set @s code_status 0",
                                                         "onCodeStartedCommand":  "scoreboard players set @s code_status 1",
                                                         "onCodeStoppedCommand":  "scoreboard players set @s code_status 0",
                                                         "onCodeSuccessfulCommand":  "scoreboard players set @s code_status 0",
                                                         "overridePython":  "import time\n\ntimeout = 0.100\ncommunicationPos = (0, 64, 0)\n\ntime.sleep(0.250)\n\ndef activate_cannon(color):\n    if color==\"yellow\":\n        world.set(communicationPos, \"yellow concrete\")\n        time.sleep(timeout) \n    elif color==\"green\":\n        world.set(communicationPos, \"lime concrete\")\n        time.sleep(timeout)\n    elif color==\"blue\":\n        world.set(communicationPos, \"light blue concrete\")\n        time.sleep(timeout)\n    elif color==\"magenta\":\n        world.set(communicationPos, \"magenta concrete\")\n        time.sleep(timeout)\n@user-code",
                                                         "readonly":  true
                                                     }
                                   },
                      "outputs":  [

                                  ],
                      "source":  [
                                     "# EJEMPLO DE CÓDIGO - NO SE PUEDE EDITAR AQUÍ\n",
                                     "# EJECÚTALO PARA VER QUÉ SUCEDE\n",
                                     "\n",
                                     "# activar azul y amarillo\n",
                                     "# los cañones van en ese orden\n",
                                     "\n",
                                     "activate_cannon(\"blue\")\n",
                                     "activate_cannon(\"yellow\")"
                                 ]
                  },
                  {
                      "cell_type":  "markdown",
                      "id":  "8fc88ebe",
                      "metadata":  {

                                   },
                      "source":  [
                                     "# Actividad:\n",
                                     "\n",
                                     "¡Parece haber un orden concreto para estos anillos de colores que rodean el Orbe del tiempo! Van desde el más grande hasta el más pequeño. ¡Escribe un código que active los cañones de colores correctos para disparar a los anillos de colores y desactivar el Orbe del tiempo!\n",
                                     "\n",
                                     "El código que se incluye a continuación no funciona. ¿Puedes arreglarlo? Ejecuta el código para ver qué pasa y edítalo con la solución correcta para depurarlo."
                                 ]
                  },
                  {
                      "cell_type":  "code",
                      "execution_count":  null,
                      "id":  "b6f4bd0e",
                      "metadata":  {
                                       "minecraft":  {
                                                         "closeCodeBuilderOnRun":  true,
                                                         "hidden":  false,
                                                         "onCodeCancelledCommand":  "scoreboard players set @s code_status 0",
                                                         "onCodeErrorCommand":  "scoreboard players set @s code_status 0",
                                                         "onCodeStartedCommand":  "scoreboard players set @s code_status 1",
                                                         "onCodeStoppedCommand":  "scoreboard players set @s code_status 0",
                                                         "onCodeSuccessfulCommand":  "scoreboard players set @s code_status 0",
                                                         "overridePython":  "import time\n\ntimeout = 0.100\ncommunicationPos = (0, 64, 0)\n\ntime.sleep(0.250)\n\ndef activate_cannon(color):\n    if color==\"yellow\":\n        world.set(communicationPos, \"yellow concrete\")\n        time.sleep(timeout) \n    elif color==\"green\":\n        world.set(communicationPos, \"lime concrete\")\n        time.sleep(timeout)\n    elif color==\"blue\":\n        world.set(communicationPos, \"light blue concrete\")\n        time.sleep(timeout)\n    elif color==\"magenta\":\n        world.set(communicationPos, \"magenta concrete\")\n        time.sleep(timeout)\n@user-code",
                                                         "readonly":  false
                                                     }
                                   },
                      "outputs":  [

                                  ],
                      "source":  [
                                     "# escribe el código aquí\n",
                                     "\n",
                                     "activate_cannon(\"blue\")\n",
                                     "activate_cannon(\"magenta\")\n"
                                 ]
                  }
              ],
    "metadata":  {
                     "celltoolbar":  "Edit Metadata",
                     "kernelspec":  {
                                        "display_name":  "Python 3 (ipykernel)",
                                        "language":  "python",
                                        "name":  "python3"
                                    },
                     "language_info":  {
                                           "codemirror_mode":  {
                                                                   "name":  "ipython",
                                                                   "version":  3
                                                               },
                                           "file_extension":  ".py",
                                           "mimetype":  "text/x-python",
                                           "name":  "python",
                                           "nbconvert_exporter":  "python",
                                           "pygments_lexer":  "ipython3",
                                           "version":  "3.10.7"
                                       },
                     "minecraft":  {
                                       "description":  "HOC 2022",
                                       "page_id":  "1.1",
                                       "page_name":  "HOC 2022",
                                       "style":  "minecraft.css"
                                   }
                 },
    "nbformat":  4,
    "nbformat_minor":  5
}
