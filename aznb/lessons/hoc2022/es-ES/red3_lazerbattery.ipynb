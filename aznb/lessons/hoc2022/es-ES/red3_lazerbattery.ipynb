﻿{
    "cells":  [
                  {
                      "cell_type":  "markdown",
                      "id":  "0c1bf47c",
                      "metadata":  {

                                   },
                      "source":  [
                                     "# revelar el láser\n",
                                     "\n",
                                     "Rellena todos los agujeros del suelo con el cursor para abrir la cortina. Utiliza `move_cursor()` para colocar el cursor y `place_block()` para colocar un bloque en la posición que hayas seleccionado.\n",
                                     "\n",
                                     "La función `move_cursor()` usa un parámetro que define la dirección del cursor. El valor de ese parámetro es el color de la flecha que representa la dirección en que quieres moverlo.\n",
                                     "\n",
                                     "Las direcciones válidas son:\n",
                                     "- `orange` (naranja) (mueve el cursor hacia delante) ![Flecha naranja](img/orange_arrow.png \"Flecha naranja\")\n",
                                     "- `magenta` (magenta) (mueve el cursor hacia atrás)  ![Flecha magenta](img/magenta_arrow.png \"Flecha magenta\")\n",
                                     "- `blue` (azul) (mueve el cursor hacia la izquierda)  ![Flecha azul](img/blue_arrow.png \"Flecha Azul\")\n",
                                     "- `yellow` (amarillo) (mueve el cursor hacia la derecha)  ![Flecha amarilla](img/yellow_arrow.png \"Flecha Amarilla\")"
                                 ]
                  },
                  {
                      "cell_type":  "code",
                      "execution_count":  null,
                      "id":  "e73e6e03",
                      "metadata":  {
                                       "minecraft":  {
                                                         "closeCodeBuilderOnRun":  true,
                                                         "hidden":  false,
                                                         "onCodeCancelledCommand":  "scoreboard players set @s code_status 0",
                                                         "onCodeErrorCommand":  "scoreboard players set @s code_status 0",
                                                         "onCodeStartedCommand":  "scoreboard players set @s code_status 1",
                                                         "onCodeStoppedCommand":  "scoreboard players set @s code_status 0",
                                                         "onCodeSuccessfulCommand":  "scoreboard players set @s code_status 0",
                                                         "overridePython":  "import time\n\ntimeout = 0.100\ncommunicationPos = (0, 64, 0)\n\ntime.sleep(0.250)\n\ndef move_cursor(color):\n    if color == \"orange\":\n        world.set(communicationPos, \"orange concrete\")\n        time.sleep(timeout)\n    elif color == \"magenta\":\n        world.set(communicationPos, \"magenta concrete\")\n        time.sleep(timeout)\n    elif color == \"blue\":\n        world.set(communicationPos, \"light blue concrete\")\n        time.sleep(timeout)\n    elif color == \"yellow\":\n        world.set(communicationPos, \"yellow concrete\")\n        time.sleep(timeout)\n\ndef place_block():\n    world.set(communicationPos, \"lime concrete\")\n    time.sleep(timeout) \n@user-code",
                                                         "readonly":  true
                                                     }
                                   },
                      "outputs":  [

                                  ],
                      "source":  [
                                     "# EJEMPLO DE CÓDIGO - NO SE PUEDE EDITAR AQUÍ\n",
                                     "# EJECÚTALO PARA VER QUÉ SUCEDE\n",
                                     "\n",
                                     "# coloca un bloque y luego avanza\n",
                                     "#por 4 bloques\n",
                                     "\n",
                                     "place_block()\n",
                                     "move_cursor(\"orange\")\n",
                                     "move_cursor(\"orange\")\n",
                                     "move_cursor(\"orange\")\n",
                                     "move_cursor(\"orange\")"
                                 ]
                  },
                  {
                      "cell_type":  "markdown",
                      "id":  "506402ca",
                      "metadata":  {

                                   },
                      "source":  [
                                     "# Consejo Pro:\n",
                                     "\n",
                                     "Utiliza un bucle \u0027for\u0027 para realizar una acción o más acciones varias veces."
                                 ]
                  },
                  {
                      "cell_type":  "code",
                      "execution_count":  null,
                      "id":  "303a46c5",
                      "metadata":  {
                                       "minecraft":  {
                                                         "closeCodeBuilderOnRun":  true,
                                                         "hidden":  false,
                                                         "onCodeCancelledCommand":  "scoreboard players set @s code_status 0",
                                                         "onCodeErrorCommand":  "scoreboard players set @s code_status 0",
                                                         "onCodeStartedCommand":  "scoreboard players set @s code_status 1",
                                                         "onCodeStoppedCommand":  "scoreboard players set @s code_status 0",
                                                         "onCodeSuccessfulCommand":  "scoreboard players set @s code_status 0",
                                                         "overridePython":  "import time\n\ntimeout = 0.100\ncommunicationPos = (0, 64, 0)\n\ntime.sleep(0.250)\n\ndef move_cursor(color):\n    if color == \"orange\":\n        world.set(communicationPos, \"orange concrete\")\n        time.sleep(timeout)\n    elif color == \"magenta\":\n        world.set(communicationPos, \"magenta concrete\")\n        time.sleep(timeout)\n    elif color == \"blue\":\n        world.set(communicationPos, \"light blue concrete\")\n        time.sleep(timeout)\n    elif color == \"yellow\":\n        world.set(communicationPos, \"yellow concrete\")\n        time.sleep(timeout)\n\ndef place_block():\n    world.set(communicationPos, \"lime concrete\")\n    time.sleep(timeout) \n@user-code",
                                                         "readonly":  true
                                                     }
                                   },
                      "outputs":  [

                                  ],
                      "source":  [
                                     "# EJEMPLO DE CÓDIGO - NO SE PUEDE EDITAR AQUÍ\n",
                                     "# EJECÚTALO PARA VER QUÉ SUCEDE\n",
                                     "\n",
                                     "# coloca un bloque y luego avanza\n",
                                     "#por 4 bloques\n",
                                     "\n",
                                     "place_block()\n",
                                     "\n",
                                     "for i in range(4):\n",
                                     "    move_cursor(\"orange\")"
                                 ]
                  },
                  {
                      "cell_type":  "markdown",
                      "id":  "a2d53d12",
                      "metadata":  {

                                   },
                      "source":  [
                                     "# Actividad:\n",
                                     "\n",
                                     "Rellena todos los agujeros del suelo para abrir la cortina y revelar la última actividad.\n",
                                     "\n",
                                     "El código incluido a continuación está roto. ¿Puedes arreglarlo? Ejecuta el código para ver qué sucede y, a continuación, depúralo editándolo con la solución correcta."
                                 ]
                  },
                  {
                      "cell_type":  "code",
                      "execution_count":  null,
                      "id":  "b6f4bd0e",
                      "metadata":  {
                                       "minecraft":  {
                                                         "closeCodeBuilderOnRun":  true,
                                                         "hidden":  false,
                                                         "onCodeCancelledCommand":  "scoreboard players set @s code_status 0",
                                                         "onCodeErrorCommand":  "scoreboard players set @s code_status 0",
                                                         "onCodeStartedCommand":  "scoreboard players set @s code_status 1",
                                                         "onCodeStoppedCommand":  "scoreboard players set @s code_status 0",
                                                         "onCodeSuccessfulCommand":  "scoreboard players set @s code_status 0",
                                                         "overridePython":  "import time\n\ntimeout = 0.100\ncommunicationPos = (0, 64, 0)\n\ntime.sleep(0.250)\n\ndef move_cursor(color):\n    if color == \"orange\":\n        world.set(communicationPos, \"orange concrete\")\n        time.sleep(timeout)\n    elif color == \"magenta\":\n        world.set(communicationPos, \"magenta concrete\")\n        time.sleep(timeout)\n    elif color == \"blue\":\n        world.set(communicationPos, \"light blue concrete\")\n        time.sleep(timeout)\n    elif color == \"yellow\":\n        world.set(communicationPos, \"yellow concrete\")\n        time.sleep(timeout)\n\ndef place_block():\n    world.set(communicationPos, \"lime concrete\")\n    time.sleep(timeout) \n@user-code",
                                                         "readonly":  false
                                                     }
                                   },
                      "outputs":  [

                                  ],
                      "source":  [
                                     "# escribe el código aquí\n",
                                     "\n",
                                     "place_block()\n",
                                     "move_cursor(\"orange\")\n",
                                     "move_cursor(\"orange\")\n",
                                     "move_cursor(\"orange\")\n",
                                     "place_block()\n",
                                     "move_cursor(\"yellow\")\n",
                                     "move_cursor(\"yellow\")\n",
                                     "move_cursor(\"yellow\")\n",
                                     "move_cursor(\"yellow\")\n",
                                     "move_cursor(\"yellow\")\n"
                                 ]
                  }
              ],
    "metadata":  {
                     "celltoolbar":  "Edit Metadata",
                     "kernelspec":  {
                                        "display_name":  "Python 3 (ipykernel)",
                                        "language":  "python",
                                        "name":  "python3"
                                    },
                     "language_info":  {
                                           "codemirror_mode":  {
                                                                   "name":  "ipython",
                                                                   "version":  3
                                                               },
                                           "file_extension":  ".py",
                                           "mimetype":  "text/x-python",
                                           "name":  "python",
                                           "nbconvert_exporter":  "python",
                                           "pygments_lexer":  "ipython3",
                                           "version":  "3.10.7"
                                       },
                     "minecraft":  {
                                       "description":  "HOC 2022",
                                       "page_id":  "1.1",
                                       "page_name":  "HOC 2022",
                                       "style":  "minecraft.css"
                                   }
                 },
    "nbformat":  4,
    "nbformat_minor":  5
}
