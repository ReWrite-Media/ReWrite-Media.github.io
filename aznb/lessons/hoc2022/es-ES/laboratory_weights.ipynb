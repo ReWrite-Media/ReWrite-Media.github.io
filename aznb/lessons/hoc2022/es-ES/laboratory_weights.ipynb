﻿{
    "cells":  [
                  {
                      "cell_type":  "markdown",
                      "id":  "bcc5bf7e",
                      "metadata":  {

                                   },
                      "source":  [
                                     "# Pesos\n",
                                     "\n",
                                     "Tienes que conseguir que la báscula alcance un peso exacto de 23 libras. Puede que haya un letrero por aquí con el peso de cada criatura... Usa la función `summon_animal()` para invocar a varios animales cuyos pesos sumen 23 lb.\n",
                                     "\n",
                                     "La función `summon_animal()` usa un parámetro que define qué animal debe convocarse.\n",
                                     "\n",
                                     "Los animales válidos son:\n",
                                     "- `chicken` ![Gallina](img/chicken_weight.png \"Gallina\")\n",
                                     "- `sheep` ![Oveja](img/sheep_weight.png \"Oveja\")\n",
                                     "- `cow` ![Vaca](img/cow_weight.png \"Vaca\")"
                                 ]
                  },
                  {
                      "cell_type":  "code",
                      "execution_count":  null,
                      "id":  "35b4de77",
                      "metadata":  {
                                       "minecraft":  {
                                                         "closeCodeBuilderOnRun":  true,
                                                         "hidden":  false,
                                                         "onCodeCancelledCommand":  "scoreboard players set @s code_status 0",
                                                         "onCodeErrorCommand":  "scoreboard players set @s code_status 0",
                                                         "onCodeStartedCommand":  "scoreboard players set @s code_status 1",
                                                         "onCodeStoppedCommand":  "scoreboard players set @s code_status 0",
                                                         "onCodeSuccessfulCommand":  "scoreboard players set @s code_status 0",
                                                         "overridePython":  "import time\n\ntimeout = 0.100\ncommunicationPos = (0, 64, 0)\nweightDropPosition = (-18, 77, 162)\n\ntime.sleep(0.250)\n\ndef summon_animal(mob):\n    if mob==\"chicken\":\n        summon(\"chicken\",weightDropPosition)\n        time.sleep(timeout)         \n    elif mob==\"sheep\":\n        summon(\"sheep\",weightDropPosition)\n        time.sleep(timeout)\n    elif mob==\"cow\":\n        summon(\"cow\",weightDropPosition)\n        time.sleep(timeout)\n@user-code",
                                                         "readonly":  true
                                                     }
                                   },
                      "outputs":  [

                                  ],
                      "source":  [
                                     "# EJEMPLO DE CÓDIGO - NO PUEDES EDITARLO\n",
                                     "# EJECÚTALO PARA VER QUÉ SUCEDE\n",
                                     "\n",
                                     "# invoca a 5 gallinas y\n",
                                     "# dos vacas\n",
                                     "\n",
                                     "summon_animal(\"chicken\")\n",
                                     "summon_animal(\"chicken\")\n",
                                     "summon_animal(\"chicken\")\n",
                                     "summon_animal(\"chicken\")\n",
                                     "summon_animal(\"chicken\")\n",
                                     "summon_animal(\"cow\")"
                                 ]
                  },
                  {
                      "cell_type":  "markdown",
                      "id":  "75196082",
                      "metadata":  {

                                   },
                      "source":  [
                                     "# Consejo Pro:\n",
                                     "\n",
                                     "Utiliza un bucle \u0027for\u0027 para realizar una acción o más acciones varias veces."
                                 ]
                  },
                  {
                      "cell_type":  "code",
                      "execution_count":  null,
                      "id":  "2dd552bd",
                      "metadata":  {
                                       "minecraft":  {
                                                         "closeCodeBuilderOnRun":  true,
                                                         "hidden":  false,
                                                         "onCodeCancelledCommand":  "scoreboard players set @s code_status 0",
                                                         "onCodeErrorCommand":  "scoreboard players set @s code_status 0",
                                                         "onCodeStartedCommand":  "scoreboard players set @s code_status 1",
                                                         "onCodeStoppedCommand":  "scoreboard players set @s code_status 0",
                                                         "onCodeSuccessfulCommand":  "scoreboard players set @s code_status 0",
                                                         "overridePython":  "import time\n\ntimeout = 0.100\ncommunicationPos = (0, 64, 0)\nweightDropPosition = (-18, 77, 162)\n\ntime.sleep(0.250)\n\ndef summon_animal(mob):\n    if mob==\"chicken\":\n        summon(\"chicken\",weightDropPosition)\n        time.sleep(timeout)         \n    elif mob==\"sheep\":\n        summon(\"sheep\",weightDropPosition)\n        time.sleep(timeout)\n    elif mob==\"cow\":\n        summon(\"cow\",weightDropPosition)\n        time.sleep(timeout)\n@user-code",
                                                         "readonly":  true
                                                     }
                                   },
                      "outputs":  [

                                  ],
                      "source":  [
                                     "# EJEMPLO DE CÓDIGO - NO PUEDES EDITARLO\n",
                                     "# EJECÚTALO PARA VER QUÉ SUCEDE\n",
                                     "\n",
                                     "# invoca a 5 gallinas y\n",
                                     "# dos vacas\n",
                                     "\n",
                                     "for i in range(5):\n",
                                     "    summon_animal(\"chicken\")\n",
                                     "\n",
                                     "summon_animal(\"cow\")"
                                 ]
                  },
                  {
                      "cell_type":  "markdown",
                      "id":  "7c5e56fb",
                      "metadata":  {

                                   },
                      "source":  [
                                     "# Actividad:\n",
                                     "\n",
                                     "Investiga la zona para obtener información sobre el peso de cada animal. Después, escribe un código para invocar animales hasta alcanzar un peso exacto de 23 lb.\n",
                                     "\n",
                                     "El código que se incluye a continuación no funciona. ¿Puedes arreglarlo? Ejecuta el código para ver qué pasa y edítalo con la solución correcta para depurarlo."
                                 ]
                  },
                  {
                      "cell_type":  "code",
                      "execution_count":  null,
                      "id":  "b6f4bd0e",
                      "metadata":  {
                                       "minecraft":  {
                                                         "closeCodeBuilderOnRun":  true,
                                                         "hidden":  false,
                                                         "onCodeCancelledCommand":  "scoreboard players set @s code_status 0",
                                                         "onCodeErrorCommand":  "scoreboard players set @s code_status 0",
                                                         "onCodeStartedCommand":  "scoreboard players set @s code_status 1",
                                                         "onCodeStoppedCommand":  "scoreboard players set @s code_status 0",
                                                         "onCodeSuccessfulCommand":  "scoreboard players set @s code_status 0",
                                                         "overridePython":  "import time\n\ntimeout = 0.100\ncommunicationPos = (0, 64, 0)\nweightDropPosition = (-18, 77, 162)\n\ntime.sleep(0.250)\n\ndef summon_animal(mob):\n    if mob==\"chicken\":\n        summon(\"chicken\",weightDropPosition)\n        time.sleep(timeout)         \n    elif mob==\"sheep\":\n        summon(\"sheep\",weightDropPosition)\n        time.sleep(timeout)\n    elif mob==\"cow\":\n        summon(\"cow\",weightDropPosition)\n        time.sleep(timeout)\n@user-code",
                                                         "readonly":  false
                                                     }
                                   },
                      "outputs":  [

                                  ],
                      "source":  [
                                     "# escribe el código aquí\n",
                                     "\n",
                                     "summon_animal(\"chicken\")\n",
                                     "summon_animal(\"chicken\")\n",
                                     "summon_animal(\"sheep\")\n",
                                     "summon_animal(\"cow\")\n"
                                 ]
                  }
              ],
    "metadata":  {
                     "celltoolbar":  "Edit Metadata",
                     "kernelspec":  {
                                        "display_name":  "Python 3 (ipykernel)",
                                        "language":  "python",
                                        "name":  "python3"
                                    },
                     "language_info":  {
                                           "codemirror_mode":  {
                                                                   "name":  "ipython",
                                                                   "version":  3
                                                               },
                                           "file_extension":  ".py",
                                           "mimetype":  "text/x-python",
                                           "name":  "python",
                                           "nbconvert_exporter":  "python",
                                           "pygments_lexer":  "ipython3",
                                           "version":  "3.10.7"
                                       },
                     "minecraft":  {
                                       "description":  "HOC 2022",
                                       "page_id":  "1.1",
                                       "page_name":  "HOC 2022",
                                       "style":  "minecraft.css"
                                   }
                 },
    "nbformat":  4,
    "nbformat_minor":  5
}
