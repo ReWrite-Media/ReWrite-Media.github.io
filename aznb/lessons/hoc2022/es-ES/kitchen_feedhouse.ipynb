﻿{
    "cells":  [
                  {
                      "cell_type":  "markdown",
                      "id":  "030c2673",
                      "metadata":  {

                                   },
                      "source":  [
                                     "# Alimentar a la casa\n",
                                     "\n",
                                     "¡La casa tiene hambre! ¿Y qué mejor para alimentarla que las manzanas, el salmón y el estofado de champiñones? Intenta averiguar qué cantidad de cada ingrediente necesita la casa. Utiliza la función \u0027feed_house()\u0027 para definir con qué elementos quieres alimentarla.\n",
                                     "\n",
                                     "La función \u0027feed_house()\u0027 usa un parámetro que define con qué elemento vas a alimentarla.\n",
                                     "\n",
                                     "Las opciones válidas son:\n",
                                     "- `apple` (manzana) ![Manzana] (img/apple.png \"Manzana\")\n",
                                     "- `Mushroom stew` (Estofado de champiñones) ![Estofado de champiñones](img/mushroom_stew.png \"Estofado de champiñones\")\n",
                                     "- `salmón` ![Salmón] (img/salmon.png \"Salmón\")\n"
                                 ]
                  },
                  {
                      "cell_type":  "code",
                      "execution_count":  null,
                      "id":  "b6f4bd0e",
                      "metadata":  {
                                       "minecraft":  {
                                                         "closeCodeBuilderOnRun":  true,
                                                         "hidden":  false,
                                                         "onCodeCancelledCommand":  "scoreboard players set @s code_status 0",
                                                         "onCodeErrorCommand":  "scoreboard players set @s code_status 0",
                                                         "onCodeStartedCommand":  "scoreboard players set @s code_status 1",
                                                         "onCodeStoppedCommand":  "scoreboard players set @s code_status 0",
                                                         "onCodeSuccessfulCommand":  "scoreboard players set @s code_status 0",
                                                         "overridePython":  "import time\n\ntimeout = 0.100\ncommunicationPos = (0, 64, 0)\n\ntime.sleep(0.250)\n\ndef feed_house(food):\n    if food==\"apple\":\n        world.set(communicationPos, \"orange concrete\")\n        time.sleep(timeout)         \n    elif food==\"salmon\":\n        world.set(communicationPos, \"magenta concrete\")\n        time.sleep(timeout)\n    elif food==\"mushroom stew\":\n        world.set(communicationPos, \"light blue concrete\")\n        time.sleep(timeout)\n@user-code",
                                                         "readonly":  true
                                                     }
                                   },
                      "outputs":  [

                                  ],
                      "source":  [
                                     "# EJEMPLO DE CÓDIGO - NO SE PUEDE EDITAR AQUÍ\n",
                                     "# EJECÚTALO PARA VER QUÉ SUCEDE\n",
                                     "\n",
                                     "# alimentar a la casa con 4 manzanas y\n",
                                     "# 1 estofado de champiñones\n",
                                     "\n",
                                     "feed_house(\"apple\")\n",
                                     "feed_house(\"apple\")\n",
                                     "feed_house(\"apple\")\n",
                                     "feed_house(\"apple\")\n",
                                     "feed_house(\"mushroom stew\")"
                                 ]
                  },
                  {
                      "cell_type":  "markdown",
                      "id":  "d29da26d",
                      "metadata":  {

                                   },
                      "source":  [
                                     "# Consejo Pro:\n",
                                     "\n",
                                     "Utiliza un bucle \u0027for\u0027 para realizar una acción o más acciones varias veces."
                                 ]
                  },
                  {
                      "cell_type":  "code",
                      "execution_count":  null,
                      "id":  "c811a834",
                      "metadata":  {
                                       "minecraft":  {
                                                         "closeCodeBuilderOnRun":  true,
                                                         "hidden":  false,
                                                         "onCodeCancelledCommand":  "scoreboard players set @s code_status 0",
                                                         "onCodeErrorCommand":  "scoreboard players set @s code_status 0",
                                                         "onCodeStartedCommand":  "scoreboard players set @s code_status 1",
                                                         "onCodeStoppedCommand":  "scoreboard players set @s code_status 0",
                                                         "onCodeSuccessfulCommand":  "scoreboard players set @s code_status 0",
                                                         "overridePython":  "import time\n\ntimeout = 0.100\ncommunicationPos = (0, 64, 0)\n\ntime.sleep(0.250)\n\ndef feed_house(food):\n    if food==\"apple\":\n        world.set(communicationPos, \"orange concrete\")\n        time.sleep(timeout)         \n    elif food==\"salmon\":\n        world.set(communicationPos, \"magenta concrete\")\n        time.sleep(timeout)\n    elif food==\"mushroom stew\":\n        world.set(communicationPos, \"light blue concrete\")\n        time.sleep(timeout)\n@user-code",
                                                         "readonly":  true
                                                     }
                                   },
                      "outputs":  [

                                  ],
                      "source":  [
                                     "# EJEMPLO DE CÓDIGO - NO SE PUEDE EDITAR AQUÍ\n",
                                     "# EJECÚTALO PARA VER QUÉ SUCEDE\n",
                                     "\n",
                                     "# alimentar a la casa con 4 manzanas y\n",
                                     "# 1 estofado de champiñones\n",
                                     "\n",
                                     "for i in range(4):\n",
                                     "    feed_house(\"apple\")\n",
                                     "\n",
                                     "feed_house(\"mushroom stew\")"
                                 ]
                  },
                  {
                      "cell_type":  "markdown",
                      "id":  "0e133078",
                      "metadata":  {

                                   },
                      "source":  [
                                     "# Actividad:\n",
                                     "\n",
                                     "¡Los chefs zombis llevan comida mientras se pasean con bandejas! Parece que aquí hay un patrón... ¿Estarán alimentando a la casa? ¡Averigua qué cantidad de cada comida quiere la casa y escribe un programa para alimentarla con la cantidad correcta!\n",
                                     "\n",
                                     "El código incluido a continuación está roto. ¿Puedes arreglarlo? Ejecuta el código para ver qué sucede y, a continuación, depúralo editándolo con la solución correcta."
                                 ]
                  },
                  {
                      "cell_type":  "code",
                      "execution_count":  null,
                      "id":  "675f27bf",
                      "metadata":  {
                                       "minecraft":  {
                                                         "closeCodeBuilderOnRun":  true,
                                                         "hidden":  false,
                                                         "onCodeCancelledCommand":  "scoreboard players set @s code_status 0",
                                                         "onCodeErrorCommand":  "scoreboard players set @s code_status 0",
                                                         "onCodeStartedCommand":  "scoreboard players set @s code_status 1",
                                                         "onCodeStoppedCommand":  "scoreboard players set @s code_status 0",
                                                         "onCodeSuccessfulCommand":  "scoreboard players set @s code_status 0",
                                                         "overridePython":  "import time\n\ntimeout = 0.100\ncommunicationPos = (0, 64, 0)\n\ntime.sleep(0.250)\n\ndef feed_house(food):\n    if food==\"apple\":\n        world.set(communicationPos, \"orange concrete\")\n        time.sleep(timeout)         \n    elif food==\"salmon\":\n        world.set(communicationPos, \"magenta concrete\")\n        time.sleep(timeout)\n    elif food==\"mushroom stew\":\n        world.set(communicationPos, \"light blue concrete\")\n        time.sleep(timeout)\n@user-code",
                                                         "readonly":  false
                                                     }
                                   },
                      "outputs":  [

                                  ],
                      "source":  [
                                     "# escribe el código aquí\n",
                                     "\n",
                                     "feed_house(\"apple\")\n",
                                     "feed_house(\"apple\")\n",
                                     "feed_house(\"salmon\")"
                                 ]
                  }
              ],
    "metadata":  {
                     "celltoolbar":  "Edit Metadata",
                     "kernelspec":  {
                                        "display_name":  "Python 3 (ipykernel)",
                                        "language":  "python",
                                        "name":  "python3"
                                    },
                     "language_info":  {
                                           "codemirror_mode":  {
                                                                   "name":  "ipython",
                                                                   "version":  3
                                                               },
                                           "file_extension":  ".py",
                                           "mimetype":  "text/x-python",
                                           "name":  "python",
                                           "nbconvert_exporter":  "python",
                                           "pygments_lexer":  "ipython3",
                                           "version":  "3.10.7"
                                       },
                     "minecraft":  {
                                       "description":  "HOC 2022",
                                       "page_id":  "1.1",
                                       "page_name":  "HOC 2022",
                                       "style":  "minecraft.css"
                                   }
                 },
    "nbformat":  4,
    "nbformat_minor":  5
}
