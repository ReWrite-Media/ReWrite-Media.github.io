{
 "cells": [
  {
   "cell_type": "markdown",
   "id": "4c8d2435",
   "metadata": {},
   "source": [
    "# Vent\n",
    "\n",
    "Move the clay ball to the chest so it could open up the next section. Use the `clay_ball_move()` function to navigate the ball through the vent.\n",
    "\n",
    "The `clay_ball_move()` function takes one parameter (a string) that defines what direction it should move in.\n",
    "\n",
    "Valid directions are: \n",
    "- `forward`\n",
    "- `back`\n",
    "- `left`\n",
    "- `right`"
   ]
  },
  {
   "cell_type": "code",
   "execution_count": null,
   "id": "328acf46",
   "metadata": {
    "minecraft": {
     "closeCodeBuilderOnRun": true,
     "hidden": false,
     "onCodeCancelledCommand": "scoreboard players set @s code_status 0",
     "onCodeErrorCommand": "scoreboard players set @s code_status 0",
     "onCodeStartedCommand": "scoreboard players set @s code_status 1",
     "onCodeStoppedCommand": "scoreboard players set @s code_status 0",
     "onCodeSuccessfulCommand": "scoreboard players set @s code_status 0",
     "overridePython": "import time\n\ntimeout = 0.100\ncommunicationPos = (0, 64, 0)\n\ntime.sleep(0.250)\n\ndef clay_ball_move(direction):\n       agent.move(direction)\n@user-code",
     "readonly": false
    }
   },
   "outputs": [],
   "source": [
    "# move the clay ball\n",
    "# forward three spaces\n",
    "\n",
    "clay_ball_move(\"forward\")\n",
    "clay_ball_move(\"forward\")\n",
    "clay_ball_move(\"forward\")"
   ]
  },
  {
   "cell_type": "markdown",
   "id": "a327d84f",
   "metadata": {},
   "source": [
    "# Pro Tip:\n",
    "\n",
    "Use a `for` loop to do one or more actions multiple times."
   ]
  },
  {
   "cell_type": "code",
   "execution_count": null,
   "id": "f4c88099",
   "metadata": {
    "minecraft": {
     "closeCodeBuilderOnRun": true,
     "hidden": false,
     "onCodeCancelledCommand": "scoreboard players set @s code_status 0",
     "onCodeErrorCommand": "scoreboard players set @s code_status 0",
     "onCodeStartedCommand": "scoreboard players set @s code_status 1",
     "onCodeStoppedCommand": "scoreboard players set @s code_status 0",
     "onCodeSuccessfulCommand": "scoreboard players set @s code_status 0",
     "overridePython": "import time\n\ntimeout = 0.100\ncommunicationPos = (0, 64, 0)\n\ntime.sleep(0.250)\n\ndef clay_ball_move(direction):\n       agent.move(direction)\n@user-code",
     "readonly": true
    }
   },
   "outputs": [],
   "source": [
    "# move the clay ball\n",
    "# forward three spaces\n",
    "\n",
    "for i in range(3):\n",
    "    clay_ball_move(\"forward\")"
   ]
  },
  {
   "cell_type": "markdown",
   "id": "49cdce6f",
   "metadata": {},
   "source": [
    "# Activity:\n",
    "\n",
    "Move the clay ball through the vent to reach the chest at the end.\n",
    "\n",
    "The below code is broken, can you fix it? Debug the code by running it to see what it does and then edit it so you get the desired result."
   ]
  },
  {
   "cell_type": "code",
   "execution_count": null,
   "id": "b6f4bd0e",
   "metadata": {
    "minecraft": {
     "closeCodeBuilderOnRun": true,
     "hidden": false,
     "onCodeCancelledCommand": "scoreboard players set @s code_status 0",
     "onCodeErrorCommand": "scoreboard players set @s code_status 0",
     "onCodeStartedCommand": "scoreboard players set @s code_status 1",
     "onCodeStoppedCommand": "scoreboard players set @s code_status 0",
     "onCodeSuccessfulCommand": "scoreboard players set @s code_status 0",
     "overridePython": "import time\n\ntimeout = 0.100\ncommunicationPos = (0, 64, 0)\n\ntime.sleep(0.250)\n\ndef clay_ball_move(direction):\n       agent.move(direction)\n@user-code",
     "readonly": false
    }
   },
   "outputs": [],
   "source": [
    "# code here\n",
    "\n",
    "clay_ball_move(\"forward\")\n",
    "clay_ball_move(\"forward\")\n",
    "clay_ball_move(\"left\")\n",
    "clay_ball_move(\"left\")\n",
    "clay_ball_move(\"left\")"
   ]
  }
 ],
 "metadata": {
  "celltoolbar": "Edit Metadata",
  "kernelspec": {
   "display_name": "Python 3 (ipykernel)",
   "language": "python",
   "name": "python3"
  },
  "language_info": {
   "codemirror_mode": {
    "name": "ipython",
    "version": 3
   },
   "file_extension": ".py",
   "mimetype": "text/x-python",
   "name": "python",
   "nbconvert_exporter": "python",
   "pygments_lexer": "ipython3",
   "version": "3.10.7"
  },
  "minecraft": {
   "description": "HOC 2022",
   "page_id": "1.1",
   "page_name": "HOC 2022",
   "style": "minecraft.css"
  }
 },
 "nbformat": 4,
 "nbformat_minor": 5
}
