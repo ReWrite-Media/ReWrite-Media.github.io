﻿{
    "cells":  [
                  {
                      "cell_type":  "markdown",
                      "id":  "6d4701be",
                      "metadata":  {

                                   },
                      "source":  [
                                     "# ひびの入った壁\n",
                                     "\n",
                                     "もっと水が必要です。ひびの入ったブロックが漏れているようです ! \u0027move_cursor()\u0027 関数を使ってひびの入ったブロックの上にカーソルを置き、次に \u0027break_block()\u0027 を使ってそれを壊し、水を運河に流しましょう !\n",
                                     "\n",
                                     "\u0027move_cursor()\u0027 関数は、その方向を定義するパラメータを 1 つ受け取ります。このパラメーターは、移動する方向を表す矢印の色です。\n",
                                     "\n",
                                     "有効な方向は次の通りです :\n",
                                     "- `orange` (オレンジ) (カーソルを上に移動) ![オレンジ矢印](img/orange_arrow.png \"オレンジ矢印\")\n",
                                     "- `magenta` (赤紫) (カーソルを下に移動) ![赤紫の矢印](img/magenta_arrow.png \"赤紫の矢印\")\n",
                                     "- `blue` (青) (カーソルを左に移動) ![青い矢印](img/blue_arrow.png \"青い矢印\")\n",
                                     "- `yellow` (黄色) (カーソルを右に移動)  ![黄色い矢印](img/yellow_arrow.png \"黄色い矢印\")"
                                 ]
                  },
                  {
                      "cell_type":  "code",
                      "execution_count":  null,
                      "id":  "eb95dd59",
                      "metadata":  {
                                       "minecraft":  {
                                                         "closeCodeBuilderOnRun":  true,
                                                         "hidden":  false,
                                                         "onCodeCancelledCommand":  "scoreboard players set @s code_status 0",
                                                         "onCodeErrorCommand":  "scoreboard players set @s code_status 0",
                                                         "onCodeStartedCommand":  "scoreboard players set @s code_status 1",
                                                         "onCodeStoppedCommand":  "scoreboard players set @s code_status 0",
                                                         "onCodeSuccessfulCommand":  "scoreboard players set @s code_status 0",
                                                         "overridePython":  "import time\n\ntimeout = 0.100\ncommunicationPos = (0, 64, 0)\n\ntime.sleep(0.250)\n\ndef move_cursor(color):\n    if color == \"orange\":\n        world.set(communicationPos, \"orange concrete\")\n        time.sleep(timeout)\n    elif color == \"magenta\":\n        world.set(communicationPos, \"magenta concrete\")\n        time.sleep(timeout)\n    elif color == \"blue\":\n        world.set(communicationPos, \"light blue concrete\")\n        time.sleep(timeout)\n    elif color == \"yellow\":\n        world.set(communicationPos, \"yellow concrete\")\n        time.sleep(timeout)\n\ndef break_block():\n    world.set(communicationPos, \"lime concrete\")\n    time.sleep(timeout)   \n@user-code",
                                                         "readonly":  true
                                                     }
                                   },
                      "outputs":  [

                                  ],
                      "source":  [
                                     "# コード例 - ここでは編集できません\n",
                                     "# 実行して、何が起きるか確認してみましょう\n",
                                     "\n",
                                     "# カーソルを下に移動し、ブロックを分割する\n",
                                     "# 次に、4 つのブロックを右に移動\n",
                                     "\n",
                                     "move_cursor(\"magenta\")\n",
                                     "break_block()\n",
                                     "move_cursor(\"yellow\")\n",
                                     "move_cursor(\"yellow\")\n",
                                     "move_cursor(\"yellow\")\n",
                                     "move_cursor(\"yellow\")"
                                 ]
                  },
                  {
                      "cell_type":  "markdown",
                      "id":  "bc688189",
                      "metadata":  {

                                   },
                      "source":  [
                                     "#プロのヒント:\n",
                                     "\n",
                                     "\u0027for\u0027 ループを使用すれば、1 つ以上のアクションを複数回実行できます。"
                                 ]
                  },
                  {
                      "cell_type":  "code",
                      "execution_count":  null,
                      "id":  "717a2652",
                      "metadata":  {
                                       "minecraft":  {
                                                         "closeCodeBuilderOnRun":  true,
                                                         "hidden":  false,
                                                         "onCodeCancelledCommand":  "scoreboard players set @s code_status 0",
                                                         "onCodeErrorCommand":  "scoreboard players set @s code_status 0",
                                                         "onCodeStartedCommand":  "scoreboard players set @s code_status 1",
                                                         "onCodeStoppedCommand":  "scoreboard players set @s code_status 0",
                                                         "onCodeSuccessfulCommand":  "scoreboard players set @s code_status 0",
                                                         "overridePython":  "import time\n\ntimeout = 0.100\ncommunicationPos = (0, 64, 0)\n\ntime.sleep(0.250)\n\ndef move_cursor(color):\n    if color == \"orange\":\n        world.set(communicationPos, \"orange concrete\")\n        time.sleep(timeout)\n    elif color == \"magenta\":\n        world.set(communicationPos, \"magenta concrete\")\n        time.sleep(timeout)\n    elif color == \"blue\":\n        world.set(communicationPos, \"light blue concrete\")\n        time.sleep(timeout)\n    elif color == \"yellow\":\n        world.set(communicationPos, \"yellow concrete\")\n        time.sleep(timeout)\n\ndef break_block():\n    world.set(communicationPos, \"lime concrete\")\n    time.sleep(timeout)   \n@user-code",
                                                         "readonly":  true
                                                     }
                                   },
                      "outputs":  [

                                  ],
                      "source":  [
                                     "# コード例 - ここでは編集できません\n",
                                     "# 実行して、何が起きるか確認してみましょう\n",
                                     "\n",
                                     "# カーソルを下に移動し、ブロックを分割する\n",
                                     "# 次に、4 つのブロックを右に移動\n",
                                     "\n",
                                     "move_cursor(\"magenta\")\n",
                                     "break_block()\n",
                                     "\n",
                                     "for i in range(4):\n",
                                     "    move_cursor(\"yellow\")"
                                 ]
                  },
                  {
                      "cell_type":  "markdown",
                      "id":  "2bf7ceb6",
                      "metadata":  {

                                   },
                      "source":  [
                                     "# アクティビティー:\n",
                                     "\n",
                                     "水漏れしているひびの入ったブロックを全部壊して運河をいっぱいにしましょう !\n",
                                     "\n",
                                     "下のインクルード コードが壊れています。修正できますか ? コードを実行して何が起きるか確認し、正しいソリューションが導かれるように、編集してデバッグしてください。"
                                 ]
                  },
                  {
                      "cell_type":  "code",
                      "execution_count":  null,
                      "id":  "b6f4bd0e",
                      "metadata":  {
                                       "minecraft":  {
                                                         "closeCodeBuilderOnRun":  true,
                                                         "hidden":  false,
                                                         "onCodeCancelledCommand":  "scoreboard players set @s code_status 0",
                                                         "onCodeErrorCommand":  "scoreboard players set @s code_status 0",
                                                         "onCodeStartedCommand":  "scoreboard players set @s code_status 1",
                                                         "onCodeStoppedCommand":  "scoreboard players set @s code_status 0",
                                                         "onCodeSuccessfulCommand":  "scoreboard players set @s code_status 0",
                                                         "overridePython":  "import time\n\ntimeout = 0.100\ncommunicationPos = (0, 64, 0)\n\ntime.sleep(0.250)\n\ndef move_cursor(color):\n    if color == \"orange\":\n        world.set(communicationPos, \"orange concrete\")\n        time.sleep(timeout)\n    elif color == \"magenta\":\n        world.set(communicationPos, \"magenta concrete\")\n        time.sleep(timeout)\n    elif color == \"blue\":\n        world.set(communicationPos, \"light blue concrete\")\n        time.sleep(timeout)\n    elif color == \"yellow\":\n        world.set(communicationPos, \"yellow concrete\")\n        time.sleep(timeout)\n\ndef break_block():\n    world.set(communicationPos, \"lime concrete\")\n    time.sleep(timeout)   \n@user-code",
                                                         "readonly":  false
                                                     }
                                   },
                      "outputs":  [

                                  ],
                      "source":  [
                                     "#コードは以下\n",
                                     "\n",
                                     "move_cursor(\"magenta\")\n",
                                     "break_block()\n",
                                     "move_cursor(\"yellow\")\n",
                                     "move_cursor(\"yellow\")\n",
                                     "break_block()"
                                 ]
                  }
              ],
    "metadata":  {
                     "celltoolbar":  "Edit Metadata",
                     "kernelspec":  {
                                        "display_name":  "Python 3 (ipykernel)",
                                        "language":  "python",
                                        "name":  "python3"
                                    },
                     "language_info":  {
                                           "codemirror_mode":  {
                                                                   "name":  "ipython",
                                                                   "version":  3
                                                               },
                                           "file_extension":  ".py",
                                           "mimetype":  "text/x-python",
                                           "name":  "python",
                                           "nbconvert_exporter":  "python",
                                           "pygments_lexer":  "ipython3",
                                           "version":  "3.10.7"
                                       },
                     "minecraft":  {
                                       "description":  "HOC 2022",
                                       "page_id":  "1.1",
                                       "page_name":  "HOC 2022",
                                       "style":  "minecraft.css"
                                   }
                 },
    "nbformat":  4,
    "nbformat_minor":  5
}
