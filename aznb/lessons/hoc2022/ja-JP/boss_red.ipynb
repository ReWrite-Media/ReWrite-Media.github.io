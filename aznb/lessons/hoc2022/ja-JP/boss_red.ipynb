﻿{
    "cells":  [
                  {
                      "cell_type":  "markdown",
                      "id":  "c96609d4",
                      "metadata":  {

                                   },
                      "source":  [
                                     "# 扉を開ける\n",
                                     "\n",
                                     "穴はそれぞれ、ボス アリーナの四隅にある部屋の扉を表しています! すべての穴を正しい色で埋めると、部屋の扉が開きます! \u0027move_cursor()\u0027 関数を使用してカーソルをスペースに配置し、次に \u0027place_block()\u0027 関数を使用して色付きのブロックを配置して各スペースを埋めましょう!\n",
                                     "\n",
                                     "\u0027place_block()\u0027 関数は、配置するブロックの色を定義するパラメータを 1 つ受け取ります。\n",
                                     "\n",
                                     "有効な色は次の通りです:\n",
                                     "- `magenta` (赤紫)\n",
                                     "- `green` (緑)\n",
                                     "- `yellow` (黄色)\n",
                                     "- `blue` (青)\n",
                                     "\n",
                                     "関数 `move_cursor()` は、その方向を定義する 1 つのパラメータを受け取ります。このパラメータは、移動したい方向を表す矢印の色です。\n",
                                     "\n",
                                     "有効な方向は次の通りです:\n",
                                     "- `orange` (オレンジ) (カーソルを上に移動) ![オレンジ矢印](img/orange_arrow.png \"オレンジ矢印\")\n",
                                     "- `magenta` (赤紫) (カーソルを下に移動) ![赤紫の矢印](img/magenta_arrow.png \"赤紫の矢印\")\n",
                                     "- `blue` (青) (カーソルを左に移動) ![青矢印](img/blue_arrow.png \"青矢印\")\n",
                                     "- `yellow` (黄色) (カーソルを右に移動) ![黄色矢印](img/yellow_arrow.png \"黄色矢印\")\n"
                                 ]
                  },
                  {
                      "cell_type":  "code",
                      "execution_count":  null,
                      "id":  "28bedf70",
                      "metadata":  {
                                       "minecraft":  {
                                                         "closeCodeBuilderOnRun":  true,
                                                         "hidden":  false,
                                                         "onCodeCancelledCommand":  "scoreboard players set @s code_status 0",
                                                         "onCodeErrorCommand":  "scoreboard players set @s code_status 0",
                                                         "onCodeStartedCommand":  "scoreboard players set @s code_status 1",
                                                         "onCodeStoppedCommand":  "scoreboard players set @s code_status 0",
                                                         "onCodeSuccessfulCommand":  "scoreboard players set @s code_status 0",
                                                         "overridePython":  "import time\n\ntimeout = 0.100\ncommunicationPos = (0, 64, 0)\n\ntime.sleep(0.250)\n\ndef move_cursor(color):\n    if color == \"orange\":\n        world.set(communicationPos, \"orange concrete\")\n        time.sleep(timeout)\n    elif color == \"magenta\":\n        world.set(communicationPos, \"magenta concrete\")\n        time.sleep(timeout)\n    elif color == \"blue\":\n        world.set(communicationPos, \"light blue concrete\")\n        time.sleep(timeout)\n    elif color == \"yellow\":\n        world.set(communicationPos, \"yellow concrete\")\n        time.sleep(timeout)\n\ndef place_block(color):\n    if color==\"magenta\":\n        world.set(communicationPos, \"lime concrete\")\n        time.sleep(timeout)\n    elif color==\"green\":\n        world.set(communicationPos, \"pink concrete\")\n        time.sleep(timeout) \n    elif color==\"yellow\":\n        world.set(communicationPos, \"gray concrete\")\n        time.sleep(timeout)\n    elif color==\"blue\":\n        world.set(communicationPos, \"light gray concrete\")\n        time.sleep(timeout)  \n@user-code",
                                                         "readonly":  true
                                                     }
                                   },
                      "outputs":  [

                                  ],
                      "source":  [
                                     "# コード例 - ここは編集できません\n",
                                     "# 実行して、何が起きるか確認してみましょう\n",
                                     "\n",
                                     "# 緑色のブロックを配置し、移動します\n",
                                     "# 右に 2 スペース、その後配置\n",
                                     "# 青いブロック\n",
                                     "\n",
                                     "place_block(\"green\")\n",
                                     "move_cursor(\"yellow\")\n",
                                     "move_cursor(\"yellow\")\n",
                                     "place_block(\"blue\")"
                                 ]
                  },
                  {
                      "cell_type":  "markdown",
                      "id":  "c783d7fe",
                      "metadata":  {

                                   },
                      "source":  [
                                     "# アクティビティー:\n",
                                     "\n",
                                     "色付きのブロックを正しいスペースに配置して、部屋の扉を開けます。\n",
                                     "\n",
                                     "下のインクルード コードが壊れています。修正できますか? コードを実行して何が起きるか確認し、正しいソリューションが導かれるように、編集してデバッグしてください。"
                                 ]
                  },
                  {
                      "cell_type":  "code",
                      "execution_count":  null,
                      "id":  "b6f4bd0e",
                      "metadata":  {
                                       "minecraft":  {
                                                         "closeCodeBuilderOnRun":  true,
                                                         "hidden":  false,
                                                         "onCodeCancelledCommand":  "scoreboard players set @s code_status 0",
                                                         "onCodeErrorCommand":  "scoreboard players set @s code_status 0",
                                                         "onCodeStartedCommand":  "scoreboard players set @s code_status 1",
                                                         "onCodeStoppedCommand":  "scoreboard players set @s code_status 0",
                                                         "onCodeSuccessfulCommand":  "scoreboard players set @s code_status 0",
                                                         "overridePython":  "import time\n\ntimeout = 0.100\ncommunicationPos = (0, 64, 0)\n\ntime.sleep(0.250)\n\ndef move_cursor(color):\n    if color == \"orange\":\n        world.set(communicationPos, \"orange concrete\")\n        time.sleep(timeout)\n    elif color == \"magenta\":\n        world.set(communicationPos, \"magenta concrete\")\n        time.sleep(timeout)\n    elif color == \"blue\":\n        world.set(communicationPos, \"light blue concrete\")\n        time.sleep(timeout)\n    elif color == \"yellow\":\n        world.set(communicationPos, \"yellow concrete\")\n        time.sleep(timeout)\n\ndef place_block(color):\n    if color==\"magenta\":\n        world.set(communicationPos, \"lime concrete\")\n        time.sleep(timeout)\n    elif color==\"green\":\n        world.set(communicationPos, \"pink concrete\")\n        time.sleep(timeout) \n    elif color==\"yellow\":\n        world.set(communicationPos, \"gray concrete\")\n        time.sleep(timeout)\n    elif color==\"blue\":\n        world.set(communicationPos, \"light gray concrete\")\n        time.sleep(timeout)  \n@user-code",
                                                         "readonly":  false
                                                     }
                                   },
                      "outputs":  [

                                  ],
                      "source":  [
                                     "#コードは以下\n",
                                     "\n",
                                     "place_block(\"green\")\n",
                                     "move_cursor(\"yellow\")\n",
                                     "move_cursor(\"yellow\")\n",
                                     "place_block(\"blue\")\n"
                                 ]
                  }
              ],
    "metadata":  {
                     "celltoolbar":  "Edit Metadata",
                     "kernelspec":  {
                                        "display_name":  "Python 3 (ipykernel)",
                                        "language":  "python",
                                        "name":  "python3"
                                    },
                     "language_info":  {
                                           "codemirror_mode":  {
                                                                   "name":  "ipython",
                                                                   "version":  3
                                                               },
                                           "file_extension":  ".py",
                                           "mimetype":  "text/x-python",
                                           "name":  "python",
                                           "nbconvert_exporter":  "python",
                                           "pygments_lexer":  "ipython3",
                                           "version":  "3.10.7"
                                       },
                     "minecraft":  {
                                       "description":  "HOC 2022",
                                       "page_id":  "1.1",
                                       "page_name":  "HOC 2022",
                                       "style":  "minecraft.css"
                                   }
                 },
    "nbformat":  4,
    "nbformat_minor":  5
}
