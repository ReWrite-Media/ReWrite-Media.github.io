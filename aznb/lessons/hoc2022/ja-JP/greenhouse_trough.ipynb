﻿{
    "cells":  [
                  {
                      "cell_type":  "markdown",
                      "id":  "79ecde0b",
                      "metadata":  {

                                   },
                      "source":  [
                                     "# おけ (桶)\n",
                                     "\n",
                                     "水路に穴が開いていて、庭に水が流れなくなってしまった! その穴を埋めて、水が流れるようにしましょう! 関数 `move_cursor()` を使ってカーソルを穴の上に置き、`place_block()` で穴を埋めてください。\n",
                                     "\n",
                                     "関数 `move_cursor()` は、その方向を定義する 1 つのパラメータを受け取ります。このパラメータは、移動したい方向を表す矢印の色です。\n",
                                     "\n",
                                     "有効な方向は次の通りです:\n",
                                     "- 「オレンジ」(カーソルを前方に移動) ![オレンジの矢印](img/orange_arrow.png \"Orange Arrow\")\n",
                                     "- `magenta` (カーソルを後ろに移動)  ![赤紫の矢印](img/magenta_arrow.png \"Magenta Arrow\")\n",
                                     "- `blue` (カーソルを左に移動) ![青矢印](img/blue_arrow.png \"青矢印\")\n",
                                     "- `yellow` (カーソルを右に移動) ![黄色矢印](img/yellow_arrow.png \"黄色矢印\")"
                                 ]
                  },
                  {
                      "cell_type":  "code",
                      "execution_count":  null,
                      "id":  "5fac987e",
                      "metadata":  {
                                       "minecraft":  {
                                                         "closeCodeBuilderOnRun":  true,
                                                         "hidden":  false,
                                                         "onCodeCancelledCommand":  "scoreboard players set @s code_status 0",
                                                         "onCodeErrorCommand":  "scoreboard players set @s code_status 0",
                                                         "onCodeStartedCommand":  "scoreboard players set @s code_status 1",
                                                         "onCodeStoppedCommand":  "scoreboard players set @s code_status 0",
                                                         "onCodeSuccessfulCommand":  "scoreboard players set @s code_status 0",
                                                         "overridePython":  "import time\n\ntimeout = 0.100\ncommunicationPos = (0, 64, 0)\n\ntime.sleep(0.250)\n\ndef move_cursor(color):\n    if color == \"orange\":\n        world.set(communicationPos, \"orange concrete\")\n        time.sleep(timeout)\n    elif color == \"magenta\":\n        world.set(communicationPos, \"magenta concrete\")\n        time.sleep(timeout)\n    elif color == \"blue\":\n        world.set(communicationPos, \"light blue concrete\")\n        time.sleep(timeout)\n    elif color == \"yellow\":\n        world.set(communicationPos, \"yellow concrete\")\n        time.sleep(timeout)\n\ndef place_block():\n    world.set(communicationPos, \"lime concrete\")\n    time.sleep(timeout) \n@user-code",
                                                         "readonly":  true
                                                     }
                                   },
                      "outputs":  [

                                  ],
                      "source":  [
                                     "# コード例 - ここは編集できません\n",
                                     "# 実行して、何が起きるか確認してみましょう\n",
                                     "\n",
                                     "# カーソルを移動し、ブロックを 2 回配置\n",
                                     "# 次に、右へ 2 ブロック移動します。\n",
                                     "\n",
                                     "move_cursor(\"orange\")\n",
                                     "place_block()\n",
                                     "move_cursor(\"orange\")\n",
                                     "place_block()\n",
                                     "move_cursor(\"yellow\")\n",
                                     "move_cursor(\"yellow\")"
                                 ]
                  },
                  {
                      "cell_type":  "markdown",
                      "id":  "bc2dc5e1",
                      "metadata":  {

                                   },
                      "source":  [
                                     "#プロのヒント:\n",
                                     "\n",
                                     "\u0027for\u0027 ループを使用すれば、1 つ以上のアクションを複数回実行できます。"
                                 ]
                  },
                  {
                      "cell_type":  "code",
                      "execution_count":  null,
                      "id":  "75a63229",
                      "metadata":  {
                                       "minecraft":  {
                                                         "closeCodeBuilderOnRun":  true,
                                                         "hidden":  false,
                                                         "onCodeCancelledCommand":  "scoreboard players set @s code_status 0",
                                                         "onCodeErrorCommand":  "scoreboard players set @s code_status 0",
                                                         "onCodeStartedCommand":  "scoreboard players set @s code_status 1",
                                                         "onCodeStoppedCommand":  "scoreboard players set @s code_status 0",
                                                         "onCodeSuccessfulCommand":  "scoreboard players set @s code_status 0",
                                                         "overridePython":  "import time\n\ntimeout = 0.100\ncommunicationPos = (0, 64, 0)\n\ntime.sleep(0.250)\n\ndef move_cursor(color):\n    if color == \"orange\":\n        world.set(communicationPos, \"orange concrete\")\n        time.sleep(timeout)\n    elif color == \"magenta\":\n        world.set(communicationPos, \"magenta concrete\")\n        time.sleep(timeout)\n    elif color == \"blue\":\n        world.set(communicationPos, \"light blue concrete\")\n        time.sleep(timeout)\n    elif color == \"yellow\":\n        world.set(communicationPos, \"yellow concrete\")\n        time.sleep(timeout)\n\ndef place_block():\n    world.set(communicationPos, \"lime concrete\")\n    time.sleep(timeout) \n@user-code",
                                                         "readonly":  true
                                                     }
                                   },
                      "outputs":  [

                                  ],
                      "source":  [
                                     "# コード例 - ここは編集できません\n",
                                     "# 実行して、何が起きるか確認してみましょう\n",
                                     "\n",
                                     "# カーソルを移動し、ブロックを 2 回配置\n",
                                     "# 次に、右へ 2 ブロック移動します。\n",
                                     "\n",
                                     "for i in range(2):\n",
                                     "    move_cursor(\"orange\")\n",
                                     "    place_block()\n",
                                     "\n",
                                     "move_cursor(\"yellow\")\n",
                                     "move_cursor(\"yellow\")"
                                 ]
                  },
                  {
                      "cell_type":  "markdown",
                      "id":  "a03ae8cb",
                      "metadata":  {

                                   },
                      "source":  [
                                     "# アクティビティー:\n",
                                     "\n",
                                     "水路の 6 つの穴をすべて埋め、庭に水が流れるようにしましょう!\n",
                                     "\n",
                                     "下のインクルード コードが壊れています。修正できますか? コードを実行して何が起きるか確認し、正しいソリューションが導かれるように、編集してデバッグしてください。"
                                 ]
                  },
                  {
                      "cell_type":  "code",
                      "execution_count":  null,
                      "id":  "b6f4bd0e",
                      "metadata":  {
                                       "minecraft":  {
                                                         "closeCodeBuilderOnRun":  true,
                                                         "hidden":  false,
                                                         "onCodeCancelledCommand":  "scoreboard players set @s code_status 0",
                                                         "onCodeErrorCommand":  "scoreboard players set @s code_status 0",
                                                         "onCodeStartedCommand":  "scoreboard players set @s code_status 1",
                                                         "onCodeStoppedCommand":  "scoreboard players set @s code_status 0",
                                                         "onCodeSuccessfulCommand":  "scoreboard players set @s code_status 0",
                                                         "overridePython":  "import time\n\ntimeout = 0.100\ncommunicationPos = (0, 64, 0)\n\ntime.sleep(0.250)\n\ndef move_cursor(color):\n    if color == \"orange\":\n        world.set(communicationPos, \"orange concrete\")\n        time.sleep(timeout)\n    elif color == \"magenta\":\n        world.set(communicationPos, \"magenta concrete\")\n        time.sleep(timeout)\n    elif color == \"blue\":\n        world.set(communicationPos, \"light blue concrete\")\n        time.sleep(timeout)\n    elif color == \"yellow\":\n        world.set(communicationPos, \"yellow concrete\")\n        time.sleep(timeout)\n\ndef place_block():\n    world.set(communicationPos, \"lime concrete\")\n    time.sleep(timeout) \n@user-code",
                                                         "readonly":  false
                                                     }
                                   },
                      "outputs":  [

                                  ],
                      "source":  [
                                     "#コードは以下\n",
                                     "\n",
                                     "move_cursor(\"orange\")\n",
                                     "place_block()\n",
                                     "move_cursor(\"orange\")\n",
                                     "place_block()\n",
                                     "move_cursor(\"yellow\")\n",
                                     "move_cursor(\"yellow\")\n",
                                     "move_cursor(\"orange\")\n",
                                     "place_block()\n"
                                 ]
                  }
              ],
    "metadata":  {
                     "celltoolbar":  "Edit Metadata",
                     "kernelspec":  {
                                        "display_name":  "Python 3 (ipykernel)",
                                        "language":  "python",
                                        "name":  "python3"
                                    },
                     "language_info":  {
                                           "codemirror_mode":  {
                                                                   "name":  "ipython",
                                                                   "version":  3
                                                               },
                                           "file_extension":  ".py",
                                           "mimetype":  "text/x-python",
                                           "name":  "python",
                                           "nbconvert_exporter":  "python",
                                           "pygments_lexer":  "ipython3",
                                           "version":  "3.10.7"
                                       },
                     "minecraft":  {
                                       "description":  "HOC 2022",
                                       "page_id":  "1.1",
                                       "page_name":  "HOC 2022",
                                       "style":  "minecraft.css"
                                   }
                 },
    "nbformat":  4,
    "nbformat_minor":  5
}
