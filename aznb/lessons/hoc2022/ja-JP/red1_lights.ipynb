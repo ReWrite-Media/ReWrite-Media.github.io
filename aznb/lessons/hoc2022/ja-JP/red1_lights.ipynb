﻿{
    "cells":  [
                  {
                      "cell_type":  "markdown",
                      "id":  "78e529f0",
                      "metadata":  {

                                   },
                      "source":  [
                                     "#ライト\n",
                                     "\n",
                                     "ライトの点滅の仕方にパターンがあるようです。エンダーマンをライトが作成しているパターンに従って各位置に移動します。\u0027move_enderman()\u0027 関数を使用して、エンダーマンが移動するカラープラットフォームを選択\nます。",
                                     "\n",
                                     "\u0027move_enderman()\u0027 関数は、どの色のプラットフォームに行くかを定義する 1 つのパラメータを取ります\n。",
                                     "\n",
                                     "有効な色は次のとおりです:\n",
                                     "- \u0027グリーン\u0027![緑](img/green_glazed.png \"グリーン\")\n",
                                     "- \u0027黄色\u0027![イエロー](img/yellow_glazed.png \"イエロー\")\n",
                                     "- \u0027ブルー\u0027![ブルー](img/blue_glazed.png \"Blue\")\n",
                                     "- \u0027ピンク\u0027![ピンク](img/pink_glazed.png \"ピンク\")"
                                 ]
                  },
                  {
                      "cell_type":  "code",
                      "execution_count":  null,
                      "id":  "b48ad815",
                      "metadata":  {
                                       "minecraft":  {
                                                         "closeCodeBuilderOnRun":  true,
                                                         "hidden":  false,
                                                         "onCodeCancelledCommand":  "scoreboard players set @s code_status 0",
                                                         "onCodeErrorCommand":  "scoreboard players set @s code_status 0",
                                                         "onCodeStartedCommand":  "scoreboard players set @s code_status 1",
                                                         "onCodeStoppedCommand":  "scoreboard players set @s code_status 0",
                                                         "onCodeSuccessfulCommand":  "scoreboard players set @s code_status 0",
                                                         "overridePython":  "import time\n\ntimeout = 0.100\ncommunicationPos = (0, 64, 0)\n\ntime.sleep(0.250)\n\ndef move_enderman(color):\n    if color==\"blue\":\n        world.set(communicationPos, \"light blue concrete\")\n        time.sleep(timeout) \n    elif color==\"pink\":\n        world.set(communicationPos, \"pink concrete\")\n        time.sleep(timeout) \n    elif color==\"green\":\n        world.set(communicationPos, \"lime concrete\")\n        time.sleep(timeout) \n    elif color==\"yellow\":\n        world.set(communicationPos, \"yellow concrete\")\n        time.sleep(timeout) \n@user-code",
                                                         "readonly":  true
                                                     }
                                   },
                      "outputs":  [

                                  ],
                      "source":  [
                                     "#コード例 - あなたはここで編集することはできません\n",
                                     "#それを実行して、\n何が起こるかを確認してください",
                                     "\n",
                                     "#最初にエンダーマンを緑色の\nに移動します",
                                     "#プラットフォーム、その後、黄色の1つの\n",
                                     "\n",
                                     "move_enderman(\"green\")\n",
                                     "move_enderman(\"yellow\")"
                                 ]
                  },
                  {
                      "cell_type":  "markdown",
                      "id":  "b03d9c40",
                      "metadata":  {

                                   },
                      "source":  [
                                     "# アクティビティー:\n",
                                     "\n",
                                     "このアクティビティには複数の段階があります。ライトが作るパターンを観察し、エンダーマンがそのパターンと一致するようにコードを書いてくださ \n。",
                                     "\n",
                                     "以下の含まれているコードは壊れています。あなたはそれを修正できますか?コードを実行して何が起こるかを確認し、正しいソリューションに編集してデバッグします。"
                                 ]
                  },
                  {
                      "cell_type":  "code",
                      "execution_count":  null,
                      "id":  "b6f4bd0e",
                      "metadata":  {
                                       "minecraft":  {
                                                         "closeCodeBuilderOnRun":  true,
                                                         "hidden":  false,
                                                         "onCodeCancelledCommand":  "scoreboard players set @s code_status 0",
                                                         "onCodeErrorCommand":  "scoreboard players set @s code_status 0",
                                                         "onCodeStartedCommand":  "scoreboard players set @s code_status 1",
                                                         "onCodeStoppedCommand":  "scoreboard players set @s code_status 0",
                                                         "onCodeSuccessfulCommand":  "scoreboard players set @s code_status 0",
                                                         "overridePython":  "import time\n\ntimeout = 0.100\ncommunicationPos = (0, 64, 0)\n\ntime.sleep(0.250)\n\ndef move_enderman(color):\n    if color==\"blue\":\n        world.set(communicationPos, \"light blue concrete\")\n        time.sleep(timeout) \n    elif color==\"pink\":\n        world.set(communicationPos, \"pink concrete\")\n        time.sleep(timeout) \n    elif color==\"green\":\n        world.set(communicationPos, \"lime concrete\")\n        time.sleep(timeout) \n    elif color==\"yellow\":\n        world.set(communicationPos, \"yellow concrete\")\n        time.sleep(timeout) \n@user-code",
                                                         "readonly":  false
                                                     }
                                   },
                      "outputs":  [

                                  ],
                      "source":  [
                                     "#コードは以下\n",
                                     "\n",
                                     "move_enderman(\"green\")\n",
                                     "move_enderman(\"yellow\")"
                                 ]
                  }
              ],
    "metadata":  {
                     "celltoolbar":  "Edit Metadata",
                     "kernelspec":  {
                                        "display_name":  "Python 3 (ipykernel)",
                                        "language":  "python",
                                        "name":  "python3"
                                    },
                     "language_info":  {
                                           "codemirror_mode":  {
                                                                   "name":  "ipython",
                                                                   "version":  3
                                                               },
                                           "file_extension":  ".py",
                                           "mimetype":  "text/x-python",
                                           "name":  "python",
                                           "nbconvert_exporter":  "python",
                                           "pygments_lexer":  "ipython3",
                                           "version":  "3.10.7"
                                       },
                     "minecraft":  {
                                       "description":  "HOC 2022",
                                       "page_id":  "1.1",
                                       "page_name":  "HOC 2022",
                                       "style":  "minecraft.css"
                                   }
                 },
    "nbformat":  4,
    "nbformat_minor":  5
}
