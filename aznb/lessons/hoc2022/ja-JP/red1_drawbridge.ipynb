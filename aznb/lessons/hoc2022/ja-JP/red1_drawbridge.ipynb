﻿{
    "cells":  [
                  {
                      "cell_type":  "markdown",
                      "id":  "ceb9b56b",
                      "metadata":  {

                                   },
                      "source":  [
                                     "# 跳ね橋\n",
                                     "\n",
                                     "エンダーマン バトラーが川を渡るにはあなたの指示が必要です ! 魔法を使ってダイヤモンド ブロックにテレポートするように指示し、跳ね橋を下ろすためにレバーを引ける位置まで移動させてください ! \u0027teleport_enderman_to_diamond()\u0027 関数を使ってエンダーマンに川を渡らせ、次に \u0027move_enderman_forward()\u0027 関数を使ってエンダーマンをレバーの前に配置し、\u0027pull_lever_down()\u0027 を使ってレバーを引かせます。エンダーマン バトラーは、正しい位置につくと、自動的にレバーの方を向きます ! "
                                 ]
                  },
                  {
                      "cell_type":  "code",
                      "execution_count":  null,
                      "id":  "dfff7f5e",
                      "metadata":  {
                                       "minecraft":  {
                                                         "closeCodeBuilderOnRun":  true,
                                                         "hidden":  false,
                                                         "onCodeCancelledCommand":  "scoreboard players set @s code_status 0",
                                                         "onCodeErrorCommand":  "scoreboard players set @s code_status 0",
                                                         "onCodeStartedCommand":  "scoreboard players set @s code_status 1",
                                                         "onCodeStoppedCommand":  "scoreboard players set @s code_status 0",
                                                         "onCodeSuccessfulCommand":  "scoreboard players set @s code_status 0",
                                                         "overridePython":  "import time\n\ntimeout = 0.100\ncommunicationPos = (0, 64, 0)\n\ntime.sleep(0.250)\n\ndef move_enderman_forward():\n    world.set(communicationPos, \"orange concrete\")\n    time.sleep(timeout)    \n\ndef teleport_enderman_to_diamond():\n    world.set(communicationPos, \"magenta concrete\")\n    time.sleep(timeout)   \n\ndef pull_lever_down():\n    world.set(communicationPos, \"light blue concrete\")\n    time.sleep(timeout)    \n@user-code",
                                                         "readonly":  true
                                                     }
                                   },
                      "outputs":  [

                                  ],
                      "source":  [
                                     "# コード例 - ここは編集できません\n",
                                     "# 実行して、何が起きるか確認してみましょう\n",
                                     "\n",
                                     "# エンダーマンを 2 ブロック前方に移動\n",
                                     "# 続いて、ダイヤモンド ブロックにテレポートさせる\n",
                                     "\n",
                                     "move_enderman_forward()\n",
                                     "move_enderman_forward()\n",
                                     "teleport_enderman_to_diamond()"
                                 ]
                  },
                  {
                      "cell_type":  "markdown",
                      "id":  "a1e86cf5",
                      "metadata":  {

                                   },
                      "source":  [
                                     "# アクティビティー:\n",
                                     "\n",
                                     "エンダーマンを川の向こう側にテレポートさせてレバーを引かせ、跳ね橋を下ろします。エンダーマンが水に落ちないように注意してください。エンダーマンは水が大嫌いなのです !\n",
                                     "\n",
                                     "下のインクルード コードが壊れています。修正できますか ? コードを実行して何が起きるか確認し、正しいソリューションが導かれるように、編集してデバッグしてください。"
                                 ]
                  },
                  {
                      "cell_type":  "code",
                      "execution_count":  null,
                      "id":  "b6f4bd0e",
                      "metadata":  {
                                       "minecraft":  {
                                                         "closeCodeBuilderOnRun":  true,
                                                         "hidden":  false,
                                                         "onCodeCancelledCommand":  "scoreboard players set @s code_status 0",
                                                         "onCodeErrorCommand":  "scoreboard players set @s code_status 0",
                                                         "onCodeStartedCommand":  "scoreboard players set @s code_status 1",
                                                         "onCodeStoppedCommand":  "scoreboard players set @s code_status 0",
                                                         "onCodeSuccessfulCommand":  "scoreboard players set @s code_status 0",
                                                         "overridePython":  "import time\n\ntimeout = 0.100\ncommunicationPos = (0, 64, 0)\n\ntime.sleep(0.250)\n\ndef move_enderman_forward():\n    world.set(communicationPos, \"orange concrete\")\n    time.sleep(timeout)    \n\ndef teleport_enderman_to_diamond():\n    world.set(communicationPos, \"magenta concrete\")\n    time.sleep(timeout)   \n\ndef pull_lever_down():\n    world.set(communicationPos, \"light blue concrete\")\n    time.sleep(timeout)    \n@user-code",
                                                         "readonly":  false
                                                     }
                                   },
                      "outputs":  [

                                  ],
                      "source":  [
                                     "#コードは以下\n",
                                     "\n",
                                     "move_enderman_forward()\n",
                                     "move_enderman_forward()\n",
                                     "teleport_enderman_to_diamond()\n",
                                     "move_enderman_forward()\n",
                                     "move_enderman_forward()\n",
                                     "pull_lever_down()"
                                 ]
                  }
              ],
    "metadata":  {
                     "celltoolbar":  "Edit Metadata",
                     "kernelspec":  {
                                        "display_name":  "Python 3 (ipykernel)",
                                        "language":  "python",
                                        "name":  "python3"
                                    },
                     "language_info":  {
                                           "codemirror_mode":  {
                                                                   "name":  "ipython",
                                                                   "version":  3
                                                               },
                                           "file_extension":  ".py",
                                           "mimetype":  "text/x-python",
                                           "name":  "python",
                                           "nbconvert_exporter":  "python",
                                           "pygments_lexer":  "ipython3",
                                           "version":  "3.10.7"
                                       },
                     "minecraft":  {
                                       "description":  "HOC 2022",
                                       "page_id":  "1.1",
                                       "page_name":  "HOC 2022",
                                       "style":  "minecraft.css"
                                   }
                 },
    "nbformat":  4,
    "nbformat_minor":  5
}
