﻿{
    "cells":  [
                  {
                      "cell_type":  "markdown",
                      "id":  "5af69546",
                      "metadata":  {

                                   },
                      "source":  [
                                     "# トラップを発動する\n",
                                     "\n",
                                     "今こそタイム エージェントを捕まえるチャンスです ! ボス アリーナの中央に向かい、見下ろしてください ! 3 つのリングすべてをトラップの中心色に合わせてアクティブにする必要があります ! \u0027rotate_ring()\u0027 関数を使用して、各リングを時計回りまたは反時計回りに回転させて、すべての色を整列させます !\n",
                                     "\n",
                                     "\u0027rotate_ring()\u0027 関数は 2 つのパラメータを取ります。1 つ目は回転させるリングを定義し、2 つ目は回転する方向を定義します。\n",
                                     "\n",
                                     "有効なリングは次のとおりです :\n",
                                     "- 「アウター」 ! [アウターリング] (img/outer_ring.png \"Outer Ring\")\n",
                                     "- 「ミドル」 ! [ミドルリング] (img/middle_ring.png \"Middle Ring\")\n",
                                     "- 「インナー」 ! [内輪] (img/inner_ring.png \"Inner Ring\")\n",
                                     "\n",
                                     "有効な方向は次の通りです :\n",
                                     "- 「時計回り」! [時計回り回転] (img/clockwise_ring.png \"Outer Ring\")\n",
                                     "- 「反時計回り」! [反時計回り回転](img/counterclockwise_ring.png \"Counterclockwise Rotation\")"
                                 ]
                  },
                  {
                      "cell_type":  "code",
                      "execution_count":  null,
                      "id":  "dc90f846",
                      "metadata":  {
                                       "minecraft":  {
                                                         "closeCodeBuilderOnRun":  true,
                                                         "hidden":  false,
                                                         "onCodeCancelledCommand":  "scoreboard players set @s code_status 0",
                                                         "onCodeErrorCommand":  "scoreboard players set @s code_status 0",
                                                         "onCodeStartedCommand":  "scoreboard players set @s code_status 1",
                                                         "onCodeStoppedCommand":  "scoreboard players set @s code_status 0",
                                                         "onCodeSuccessfulCommand":  "scoreboard players set @s code_status 0",
                                                         "overridePython":  "import time\n\ntimeout = 0.100\ncommunicationPos = (0, 64, 0)\n\ntime.sleep(0.250)\n\ndef rotate_ring(position, direction):\n    if position==\"outer\" and direction==\"clockwise\":\n        world.set(communicationPos, \"orange concrete\")\n        time.sleep(timeout)\n    elif position==\"outer\" and direction==\"counterclockwise\":\n        world.set(communicationPos, \"magenta concrete\")\n        time.sleep(timeout)\n    elif position==\"middle\" and direction==\"clockwise\":\n        world.set(communicationPos, \"light blue concrete\")\n        time.sleep(timeout)\n    elif position==\"middle\" and direction==\"counterclockwise\":\n        world.set(communicationPos, \"yellow concrete\")\n        time.sleep(timeout)\n    elif position==\"inner\" and direction==\"clockwise\":\n        world.set(communicationPos, \"lime concrete\")\n        time.sleep(timeout)\n    elif position==\"inner\" and direction==\"counterclockwise\":\n        world.set(communicationPos, \"pink concrete\")\n        time.sleep(timeout)\n@user-code",
                                                         "readonly":  true
                                                     }
                                   },
                      "outputs":  [

                                  ],
                      "source":  [
                                     "# コード例 - ここでは編集できません\n",
                                     "# 実行して、何が起きるか確認してみましょう\n",
                                     "\n",
                                     "# 外側のリングを時計回りに 3 回まわす\n",
                                     "# そして、中央のリングを 1 回まわす\n",
                                     "# 反時計回り\n",
                                     "\n",
                                     "rotate_ring(\"outer\", \"clockwise\")\n",
                                     "rotate_ring(\"outer\", \"clockwise\")\n",
                                     "rotate_ring(\"outer\", \"clockwise\")\n",
                                     "rotate_ring(\"inner\", \"counterclockwise\")"
                                 ]
                  },
                  {
                      "cell_type":  "markdown",
                      "id":  "39bd345c",
                      "metadata":  {

                                   },
                      "source":  [
                                     "#プロのヒント:\n",
                                     "\n",
                                     "\u0027for\u0027 ループを使用すれば、1 つ以上のアクションを複数回実行できます。"
                                 ]
                  },
                  {
                      "cell_type":  "code",
                      "execution_count":  null,
                      "id":  "bb313844",
                      "metadata":  {
                                       "minecraft":  {
                                                         "closeCodeBuilderOnRun":  true,
                                                         "hidden":  false,
                                                         "onCodeCancelledCommand":  "scoreboard players set @s code_status 0",
                                                         "onCodeErrorCommand":  "scoreboard players set @s code_status 0",
                                                         "onCodeStartedCommand":  "scoreboard players set @s code_status 1",
                                                         "onCodeStoppedCommand":  "scoreboard players set @s code_status 0",
                                                         "onCodeSuccessfulCommand":  "scoreboard players set @s code_status 0",
                                                         "overridePython":  "import time\n\ntimeout = 0.100\ncommunicationPos = (0, 64, 0)\n\ntime.sleep(0.250)\n\ndef rotate_ring(position, direction):\n    if position==\"outer\" and direction==\"clockwise\":\n        world.set(communicationPos, \"orange concrete\")\n        time.sleep(timeout)\n    elif position==\"outer\" and direction==\"counterclockwise\":\n        world.set(communicationPos, \"magenta concrete\")\n        time.sleep(timeout)\n    elif position==\"middle\" and direction==\"clockwise\":\n        world.set(communicationPos, \"light blue concrete\")\n        time.sleep(timeout)\n    elif position==\"middle\" and direction==\"counterclockwise\":\n        world.set(communicationPos, \"yellow concrete\")\n        time.sleep(timeout)\n    elif position==\"inner\" and direction==\"clockwise\":\n        world.set(communicationPos, \"lime concrete\")\n        time.sleep(timeout)\n    elif position==\"inner\" and direction==\"counterclockwise\":\n        world.set(communicationPos, \"pink concrete\")\n        time.sleep(timeout)\n@user-code",
                                                         "readonly":  true
                                                     }
                                   },
                      "outputs":  [

                                  ],
                      "source":  [
                                     "# コード例 - ここでは編集できません\n",
                                     "# 実行して、何が起きるか確認してみましょう\n",
                                     "\n",
                                     "# 外側のリングを時計回りに 3 回まわす\n",
                                     "# そして、中央のリングを 1 回まわす\n",
                                     "# 反時計回り\n",
                                     "\n",
                                     "for i in range(3):\n",
                                     "    rotate_ring(\"outer\", \"clockwise\")\n",
                                     "\n",
                                     "rotate_ring(\"inner\", \"counterclockwise\")"
                                 ]
                  },
                  {
                      "cell_type":  "markdown",
                      "id":  "0cbb6950",
                      "metadata":  {

                                   },
                      "source":  [
                                     "# アクティビティー:\n",
                                     "\n",
                                     "リングを回転させる ! 3 つのリングすべてをトラップの中心色に合わせ、アクティブにしてください !\n",
                                     "\n",
                                     "下のインクルード コードが壊れています。修正できますか ? コードを実行して何が起きるか確認し、正しいソリューションが導かれるように、編集してデバッグしてください。"
                                 ]
                  },
                  {
                      "cell_type":  "code",
                      "execution_count":  null,
                      "id":  "b6f4bd0e",
                      "metadata":  {
                                       "minecraft":  {
                                                         "closeCodeBuilderOnRun":  true,
                                                         "hidden":  false,
                                                         "onCodeCancelledCommand":  "scoreboard players set @s code_status 0",
                                                         "onCodeErrorCommand":  "scoreboard players set @s code_status 0",
                                                         "onCodeStartedCommand":  "scoreboard players set @s code_status 1",
                                                         "onCodeStoppedCommand":  "scoreboard players set @s code_status 0",
                                                         "onCodeSuccessfulCommand":  "scoreboard players set @s code_status 0",
                                                         "overridePython":  "import time\n\ntimeout = 0.100\ncommunicationPos = (0, 64, 0)\n\ntime.sleep(0.250)\n\ndef rotate_ring(position, direction):\n    if position==\"outer\" and direction==\"clockwise\":\n        world.set(communicationPos, \"orange concrete\")\n        time.sleep(timeout)\n    elif position==\"outer\" and direction==\"counterclockwise\":\n        world.set(communicationPos, \"magenta concrete\")\n        time.sleep(timeout)\n    elif position==\"middle\" and direction==\"clockwise\":\n        world.set(communicationPos, \"light blue concrete\")\n        time.sleep(timeout)\n    elif position==\"middle\" and direction==\"counterclockwise\":\n        world.set(communicationPos, \"yellow concrete\")\n        time.sleep(timeout)\n    elif position==\"inner\" and direction==\"clockwise\":\n        world.set(communicationPos, \"lime concrete\")\n        time.sleep(timeout)\n    elif position==\"inner\" and direction==\"counterclockwise\":\n        world.set(communicationPos, \"pink concrete\")\n        time.sleep(timeout)\n@user-code",
                                                         "readonly":  false
                                                     }
                                   },
                      "outputs":  [

                                  ],
                      "source":  [
                                     "#コードは以下\n",
                                     "\n",
                                     "rotate_ring(\"outer\", \"clockwise\")\n",
                                     "rotate_ring(\"middle\", \"counterclockwise\")\n",
                                     "rotate_ring(\"middle\", \"counterclockwise\")\n",
                                     "rotate_ring(\"middle\", \"counterclockwise\")"
                                 ]
                  }
              ],
    "metadata":  {
                     "celltoolbar":  "Edit Metadata",
                     "kernelspec":  {
                                        "display_name":  "Python 3 (ipykernel)",
                                        "language":  "python",
                                        "name":  "python3"
                                    },
                     "language_info":  {
                                           "codemirror_mode":  {
                                                                   "name":  "ipython",
                                                                   "version":  3
                                                               },
                                           "file_extension":  ".py",
                                           "mimetype":  "text/x-python",
                                           "name":  "python",
                                           "nbconvert_exporter":  "python",
                                           "pygments_lexer":  "ipython3",
                                           "version":  "3.10.7"
                                       },
                     "minecraft":  {
                                       "description":  "HOC 2022",
                                       "page_id":  "1.1",
                                       "page_name":  "HOC 2022",
                                       "style":  "minecraft.css"
                                   }
                 },
    "nbformat":  4,
    "nbformat_minor":  5
}
