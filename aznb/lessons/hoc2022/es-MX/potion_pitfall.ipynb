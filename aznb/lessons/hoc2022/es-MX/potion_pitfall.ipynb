﻿{
    "cells":  [
                  {
                      "cell_type":  "markdown",
                      "id":  "145bed8e",
                      "metadata":  {

                                   },
                      "source":  [
                                     "# Obstáculo\n",
                                     "\n",
                                     "¡Este gólem es demasiado impaciente! Tenemos que ayudarle a llegar sano y salvo hasta el bloque de esmeralda. Cuando el gólem pisa la placa de presión, el bloque que necesita se retrae momentáneamente. Sin embargo, si esperamos, ¡parece que vuelve a su posición original! ¡Usa la función `move_golem_forward()` para mover al gólem y `wait()` para hacer que espere hasta que el bloque vuelva a su posición!"
                                 ]
                  },
                  {
                      "cell_type":  "code",
                      "execution_count":  null,
                      "id":  "e5dcd9e8",
                      "metadata":  {
                                       "minecraft":  {
                                                         "closeCodeBuilderOnRun":  true,
                                                         "hidden":  false,
                                                         "onCodeCancelledCommand":  "scoreboard players set @s code_status 0",
                                                         "onCodeErrorCommand":  "scoreboard players set @s code_status 0",
                                                         "onCodeStartedCommand":  "scoreboard players set @s code_status 1",
                                                         "onCodeStoppedCommand":  "scoreboard players set @s code_status 0",
                                                         "onCodeSuccessfulCommand":  "scoreboard players set @s code_status 0",
                                                         "overridePython":  "import time\n\ntimeout = 0.100\ncommunicationPos = (0, 64, 0)\n\ntime.sleep(0.250)\n\ndef move_golem_forward():\n    world.set(communicationPos, \"orange concrete\")\n    time.sleep(timeout)     \n\ndef wait():\n    world.set(communicationPos, \"magenta concrete\")\n    time.sleep(timeout)   \n@user-code",
                                                         "readonly":  true
                                                     }
                                   },
                      "outputs":  [

                                  ],
                      "source":  [
                                     "# EJEMPLO DE CÓDIGO - NO PUEDES EDITARLO\n",
                                     "# EJECÚTALO PARA VER QUÉ SUCEDE\n",
                                     "\n",
                                     "# mueve al gólem 2 espacios hacia delante\n",
                                     "# espera un segundo y luego mueve\n",
                                     "# 2 espacios más\n",
                                     "\n",
                                     "move_golem_forward()\n",
                                     "move_golem_forward()\n",
                                     "wait()\n",
                                     "move_golem_forward()\n",
                                     "move_golem_forward()"
                                 ]
                  },
                  {
                      "cell_type":  "markdown",
                      "id":  "64663469",
                      "metadata":  {

                                   },
                      "source":  [
                                     "# Actividad:\n",
                                     "\n",
                                     "Lleva el gólem hasta el final sin caer en el pozo. Asegúrate de esperar a que el bloque regrese cuando el gólem se coloque sobre una placa de presión.\n",
                                     "\n",
                                     "El código incluido a continuación está dañado. ¿Puedes arreglarlo? Ejecuta el código para ver qué sucede y, a continuación, depúralo editándolo con la solución correcta."
                                 ]
                  },
                  {
                      "cell_type":  "code",
                      "execution_count":  null,
                      "id":  "b6f4bd0e",
                      "metadata":  {
                                       "minecraft":  {
                                                         "closeCodeBuilderOnRun":  true,
                                                         "hidden":  false,
                                                         "onCodeCancelledCommand":  "scoreboard players set @s code_status 0",
                                                         "onCodeErrorCommand":  "scoreboard players set @s code_status 0",
                                                         "onCodeStartedCommand":  "scoreboard players set @s code_status 1",
                                                         "onCodeStoppedCommand":  "scoreboard players set @s code_status 0",
                                                         "onCodeSuccessfulCommand":  "scoreboard players set @s code_status 0",
                                                         "overridePython":  "import time\n\ntimeout = 0.100\ncommunicationPos = (0, 64, 0)\n\ntime.sleep(0.250)\n\ndef move_golem_forward():\n    world.set(communicationPos, \"orange concrete\")\n    time.sleep(timeout)     \n\ndef wait():\n    world.set(communicationPos, \"magenta concrete\")\n    time.sleep(timeout)   \n@user-code",
                                                         "readonly":  false
                                                     }
                                   },
                      "outputs":  [

                                  ],
                      "source":  [
                                     "# código aquí\n",
                                     "\n",
                                     "move_golem_forward()\n",
                                     "move_golem_forward()\n",
                                     "wait()\n",
                                     "move_golem_forward()\n",
                                     "move_golem_forward()\n",
                                     "move_golem_forward()\n"
                                 ]
                  }
              ],
    "metadata":  {
                     "celltoolbar":  "Edit Metadata",
                     "kernelspec":  {
                                        "display_name":  "Python 3 (ipykernel)",
                                        "language":  "python",
                                        "name":  "python3"
                                    },
                     "language_info":  {
                                           "codemirror_mode":  {
                                                                   "name":  "ipython",
                                                                   "version":  3
                                                               },
                                           "file_extension":  ".py",
                                           "mimetype":  "text/x-python",
                                           "name":  "python",
                                           "nbconvert_exporter":  "python",
                                           "pygments_lexer":  "ipython3",
                                           "version":  "3.10.7"
                                       },
                     "minecraft":  {
                                       "description":  "HOC 2022",
                                       "page_id":  "1.1",
                                       "page_name":  "HOC 2022",
                                       "style":  "minecraft.css"
                                   }
                 },
    "nbformat":  4,
    "nbformat_minor":  5
}
