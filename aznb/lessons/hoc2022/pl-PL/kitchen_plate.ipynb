﻿{
    "cells":  [
                  {
                      "cell_type":  "markdown",
                      "id":  "8cd0f13a",
                      "metadata":  {

                                   },
                      "source":  [
                                     "# Wymiana płyt\n",
                                     "\n",
                                     "Głupi Zombie Chef dał wszystkim niewłaściwe posiłki! Sprawdź, czy możesz dowiedzieć się, kto chce jakiego posiłku. Użyj funkcji \"swap_plates()\", aby zamienić talerze po obu stronach zdefiniowanego kolorowego obrusu.\n",
                                     "\n",
                                     "\"swap_plates()\" przyjmuje jeden parametr, który definiuje kolor obrusu znajdującego się między dwoma płytami, które chcesz zamienić.\n",
                                     "\n",
                                     "Prawidłowe kolory to:\n",
                                     "- \"pomarańczowy\" ! [Pomarańczowa strzałka] (img/orange_arrow.png \"Pomarańczowa strzałka\")\n",
                                     "- \"niebieski\" ! [Niebieska strzałka] (img/blue_arrow.png \"Blue Arrow\")\n",
                                     "- \"żółty\" ! [Żółta strzałka] (img/yellow_arrow.png \"Żółta strzałka\")\n",
                                     "- \u0027magenta\u0027! [Purpurowa strzałka] (img/magenta_arrow.png \"Magenta Arrow\")"
                                 ]
                  },
                  {
                      "cell_type":  "code",
                      "execution_count":  null,
                      "id":  "ef6ba91d",
                      "metadata":  {
                                       "minecraft":  {
                                                         "closeCodeBuilderOnRun":  true,
                                                         "hidden":  false,
                                                         "onCodeCancelledCommand":  "scoreboard players set @s code_status 0",
                                                         "onCodeErrorCommand":  "scoreboard players set @s code_status 0",
                                                         "onCodeStartedCommand":  "scoreboard players set @s code_status 1",
                                                         "onCodeStoppedCommand":  "scoreboard players set @s code_status 0",
                                                         "onCodeSuccessfulCommand":  "scoreboard players set @s code_status 0",
                                                         "overridePython":  "import time\n\ntimeout = 0.100\ncommunicationPos = (0, 64, 0)\n\ntime.sleep(0.250)\n\ndef swap_plates(color):\n    if color==\"orange\":\n        world.set(communicationPos, \"yellow concrete\")\n        time.sleep(timeout)         \n    elif color==\"blue\":\n        world.set(communicationPos, \"light blue concrete\")\n        time.sleep(timeout)\n    elif color==\"yellow\":\n        world.set(communicationPos, \"magenta concrete\")\n        time.sleep(timeout)\n    elif color==\"magenta\":\n        world.set(communicationPos, \"orange concrete\")\n        time.sleep(timeout)        \n@user-code",
                                                         "readonly":  true
                                                     }
                                   },
                      "outputs":  [

                                  ],
                      "source":  [
                                     "# PRZYKŁAD KODU - NIE MOŻESZ EDYTOWAĆ TUTAJ\n",
                                     "# URUCHOM GO, ABY ZOBACZYĆ, CO SIĘ stanie\n",
                                     "\n",
                                     "# zamień płyty po obu stronach\n",
                                     "# pomarańczowego obrusu, a następnie\n",
                                     "# zrób to samo dla niebieskiego obrusu\n",
                                     "\n",
                                     "swap_plates(\"orange\")\n",
                                     "swap_plates(\"blue\")"
                                 ]
                  },
                  {
                      "cell_type":  "markdown",
                      "id":  "86ac232e",
                      "metadata":  {

                                   },
                      "source":  [
                                     "# Działanie:\n",
                                     "\n",
                                     "Zombie Chef zgubił zamówienie! Gdzie to mogło pójść? Dowiedz się, który posiłek należy do kogo! Następnie napisz program, aby umieścić płyty przed właściwym mob. \n",
                                     "\n",
                                     "Dołączony poniżej kod jest uszkodzony. Czy możesz to naprawić? Uruchom kod, aby zobaczyć, co się stanie, a następnie debuguj go, edytując go do właściwego rozwiązania."
                                 ]
                  },
                  {
                      "cell_type":  "code",
                      "execution_count":  null,
                      "id":  "b6f4bd0e",
                      "metadata":  {
                                       "minecraft":  {
                                                         "closeCodeBuilderOnRun":  true,
                                                         "hidden":  false,
                                                         "onCodeCancelledCommand":  "scoreboard players set @s code_status 0",
                                                         "onCodeErrorCommand":  "scoreboard players set @s code_status 0",
                                                         "onCodeStartedCommand":  "scoreboard players set @s code_status 1",
                                                         "onCodeStoppedCommand":  "scoreboard players set @s code_status 0",
                                                         "onCodeSuccessfulCommand":  "scoreboard players set @s code_status 0",
                                                         "overridePython":  "import time\n\ntimeout = 0.100\ncommunicationPos = (0, 64, 0)\n\ntime.sleep(0.250)\n\ndef swap_plates(color):\n    if color==\"orange\":\n        world.set(communicationPos, \"yellow concrete\")\n        time.sleep(timeout)         \n    elif color==\"blue\":\n        world.set(communicationPos, \"light blue concrete\")\n        time.sleep(timeout)\n    elif color==\"yellow\":\n        world.set(communicationPos, \"magenta concrete\")\n        time.sleep(timeout)\n    elif color==\"magenta\":\n        world.set(communicationPos, \"orange concrete\")\n        time.sleep(timeout)        \n@user-code",
                                                         "readonly":  false
                                                     }
                                   },
                      "outputs":  [

                                  ],
                      "source":  [
                                     "# kod tutaj\n",
                                     "\n",
                                     "swap_plates(\"orange\")\n",
                                     "swap_plates(\"blue\")\n",
                                     "swap_plates(\"yellow\")\n",
                                     "swap_plates(\"magenta\")\n"
                                 ]
                  }
              ],
    "metadata":  {
                     "celltoolbar":  "Edit Metadata",
                     "kernelspec":  {
                                        "display_name":  "Python 3.10.8 64-bit (microsoft store)",
                                        "language":  "python",
                                        "name":  "python3"
                                    },
                     "language_info":  {
                                           "codemirror_mode":  {
                                                                   "name":  "ipython",
                                                                   "version":  3
                                                               },
                                           "file_extension":  ".py",
                                           "mimetype":  "text/x-python",
                                           "name":  "python",
                                           "nbconvert_exporter":  "python",
                                           "pygments_lexer":  "ipython3",
                                           "version":  "3.10.8"
                                       },
                     "minecraft":  {
                                       "description":  "HOC 2022",
                                       "page_id":  "1.1",
                                       "page_name":  "HOC 2022",
                                       "style":  "minecraft.css"
                                   },
                     "vscode":  {
                                    "interpreter":  {
                                                        "hash":  "34242f13a52f302bd973ebb7ec1f6ba9310bbd38aa2ae877991984a75c84a395"
                                                    }
                                }
                 },
    "nbformat":  4,
    "nbformat_minor":  5
}
