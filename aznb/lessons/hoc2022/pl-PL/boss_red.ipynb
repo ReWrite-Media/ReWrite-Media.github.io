﻿{
    "cells":  [
                  {
                      "cell_type":  "markdown",
                      "id":  "c96609d4",
                      "metadata":  {

                                   },
                      "source":  [
                                     "# Otwórz drzwi\n",
                                     "\n",
                                     "Każdy otwór reprezentuje drzwi komory w czterech rogach areny bossów! Wypełnij wszystkie otwory odpowiednim kolorem, aby otworzyć drzwi komory! Użyj funkcji \u0027move_cursor()\u0027, aby umieścić kursor na danym miejscu, a następnie użyj funkcji \u0027place_block()\u0027, aby umieścić kolorowy blok w każdym z miejsc!\n",
                                     "\n",
                                     "Funkcja \u0027place_block()\u0027 przyjmuje jeden parametr określający kolor bloku, który chcesz umieścić.\n",
                                     "\n",
                                     "Prawidłowe kolory to:\n",
                                     "- `magenta` (karmazynowy)\n",
                                     "- `green` (zielony)\n",
                                     "- `yellow` (żółty)\n",
                                     "- `blue` (niebieski)\n",
                                     "\n",
                                     "Funkcja \u0027move_cursor()\u0027 przyjmuje jeden parametr, który określa jej kierunek. Ten parametr jest kolorem strzałki reprezentującej kierunek, w którym chcesz przesunąć obiekt.\n",
                                     "\n",
                                     "Prawidłowe kierunki to:\n",
                                     "- \u0027orange\u0027 (przesuwa kursor w górę) ![Pomarańczowa strzałka](img/orange_arrow.png \"Pomarańczowa strzałka\")\n",
                                     "- \u0027magenta\u0027 (przesuwa kursor w dół) ![Karmazynowa strzałka](img/magenta_arrow.png \"Karmazynowa strzałka\")\n",
                                     "- \u0027blue\u0027 (przesuwa kursor w lewo) ![Niebieska strzałka](img/blue_arrow.png \"Niebieska strzałka\")\n",
                                     "- \u0027yellow\u0027 (przesuwa kursor w prawo) ![Żółta strzałka](img/yellow_arrow.png \"Żółta strzałka\")\n"
                                 ]
                  },
                  {
                      "cell_type":  "code",
                      "execution_count":  null,
                      "id":  "28bedf70",
                      "metadata":  {
                                       "minecraft":  {
                                                         "closeCodeBuilderOnRun":  true,
                                                         "hidden":  false,
                                                         "onCodeCancelledCommand":  "scoreboard players set @s code_status 0",
                                                         "onCodeErrorCommand":  "scoreboard players set @s code_status 0",
                                                         "onCodeStartedCommand":  "scoreboard players set @s code_status 1",
                                                         "onCodeStoppedCommand":  "scoreboard players set @s code_status 0",
                                                         "onCodeSuccessfulCommand":  "scoreboard players set @s code_status 0",
                                                         "overridePython":  "import time\n\ntimeout = 0.100\ncommunicationPos = (0, 64, 0)\n\ntime.sleep(0.250)\n\ndef move_cursor(color):\n    if color == \"orange\":\n        world.set(communicationPos, \"orange concrete\")\n        time.sleep(timeout)\n    elif color == \"magenta\":\n        world.set(communicationPos, \"magenta concrete\")\n        time.sleep(timeout)\n    elif color == \"blue\":\n        world.set(communicationPos, \"light blue concrete\")\n        time.sleep(timeout)\n    elif color == \"yellow\":\n        world.set(communicationPos, \"yellow concrete\")\n        time.sleep(timeout)\n\ndef place_block(color):\n    if color==\"magenta\":\n        world.set(communicationPos, \"lime concrete\")\n        time.sleep(timeout)\n    elif color==\"green\":\n        world.set(communicationPos, \"pink concrete\")\n        time.sleep(timeout) \n    elif color==\"yellow\":\n        world.set(communicationPos, \"gray concrete\")\n        time.sleep(timeout)\n    elif color==\"blue\":\n        world.set(communicationPos, \"light gray concrete\")\n        time.sleep(timeout)  \n@user-code",
                                                         "readonly":  true
                                                     }
                                   },
                      "outputs":  [

                                  ],
                      "source":  [
                                     "# PRZYKŁAD KODU - TUTAJ NIE MOŻNA EDYTOWAĆ\n",
                                     "# URUCHOM GO, ABY ZOBACZYĆ, CO SIĘ STANIE\n",
                                     "\n",
                                     "# umieść zielony blok, przesuń\n",
                                     "# 2 miejsca w prawo, a następnie umieść\n",
                                     "# niebieski blok\n",
                                     "\n",
                                     "place_block(\"green\")\n",
                                     "move_cursor(\"yellow\")\n",
                                     "move_cursor(\"yellow\")\n",
                                     "place_block(\"blue\")"
                                 ]
                  },
                  {
                      "cell_type":  "markdown",
                      "id":  "c783d7fe",
                      "metadata":  {

                                   },
                      "source":  [
                                     "# Działanie:\n",
                                     "\n",
                                     "Umieść kolorowe bloki w odpowiednich miejscach, aby otworzyć drzwi komory.\n",
                                     "\n",
                                     "Dołączony poniżej kod nie działa. Czy możesz go poprawić? Uruchom kod, aby zobaczyć, co się stanie, a następnie debuguj go, edytując go do właściwego rozwiązania."
                                 ]
                  },
                  {
                      "cell_type":  "code",
                      "execution_count":  null,
                      "id":  "b6f4bd0e",
                      "metadata":  {
                                       "minecraft":  {
                                                         "closeCodeBuilderOnRun":  true,
                                                         "hidden":  false,
                                                         "onCodeCancelledCommand":  "scoreboard players set @s code_status 0",
                                                         "onCodeErrorCommand":  "scoreboard players set @s code_status 0",
                                                         "onCodeStartedCommand":  "scoreboard players set @s code_status 1",
                                                         "onCodeStoppedCommand":  "scoreboard players set @s code_status 0",
                                                         "onCodeSuccessfulCommand":  "scoreboard players set @s code_status 0",
                                                         "overridePython":  "import time\n\ntimeout = 0.100\ncommunicationPos = (0, 64, 0)\n\ntime.sleep(0.250)\n\ndef move_cursor(color):\n    if color == \"orange\":\n        world.set(communicationPos, \"orange concrete\")\n        time.sleep(timeout)\n    elif color == \"magenta\":\n        world.set(communicationPos, \"magenta concrete\")\n        time.sleep(timeout)\n    elif color == \"blue\":\n        world.set(communicationPos, \"light blue concrete\")\n        time.sleep(timeout)\n    elif color == \"yellow\":\n        world.set(communicationPos, \"yellow concrete\")\n        time.sleep(timeout)\n\ndef place_block(color):\n    if color==\"magenta\":\n        world.set(communicationPos, \"lime concrete\")\n        time.sleep(timeout)\n    elif color==\"green\":\n        world.set(communicationPos, \"pink concrete\")\n        time.sleep(timeout) \n    elif color==\"yellow\":\n        world.set(communicationPos, \"gray concrete\")\n        time.sleep(timeout)\n    elif color==\"blue\":\n        world.set(communicationPos, \"light gray concrete\")\n        time.sleep(timeout)  \n@user-code",
                                                         "readonly":  false
                                                     }
                                   },
                      "outputs":  [

                                  ],
                      "source":  [
                                     "# kod tutaj\n",
                                     "\n",
                                     "place_block(\"green\")\n",
                                     "move_cursor(\"yellow\")\n",
                                     "move_cursor(\"yellow\")\n",
                                     "place_block(\"blue\")\n"
                                 ]
                  }
              ],
    "metadata":  {
                     "celltoolbar":  "Edit Metadata",
                     "kernelspec":  {
                                        "display_name":  "Python 3 (ipykernel)",
                                        "language":  "python",
                                        "name":  "python3"
                                    },
                     "language_info":  {
                                           "codemirror_mode":  {
                                                                   "name":  "ipython",
                                                                   "version":  3
                                                               },
                                           "file_extension":  ".py",
                                           "mimetype":  "text/x-python",
                                           "name":  "python",
                                           "nbconvert_exporter":  "python",
                                           "pygments_lexer":  "ipython3",
                                           "version":  "3.10.7"
                                       },
                     "minecraft":  {
                                       "description":  "GK 2022",
                                       "page_id":  "1.1",
                                       "page_name":  "GK 2022",
                                       "style":  "minecraft.css"
                                   }
                 },
    "nbformat":  4,
    "nbformat_minor":  5
}
