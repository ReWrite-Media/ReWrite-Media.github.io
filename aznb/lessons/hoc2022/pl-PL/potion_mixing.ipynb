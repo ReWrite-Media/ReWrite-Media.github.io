﻿{
    "cells":  [
                  {
                      "cell_type":  "markdown",
                      "id":  "07d89aae",
                      "metadata":  {

                                   },
                      "source":  [
                                     "# Przyrządzanie mikstur\n",
                                     "\n",
                                     "Wygląda na to, że możesz tu coś przyrządzić! Może gdzieś w tym pokoju jest przepis na miksturę, która może pomóc? Znajdź przepis, a następnie użyj funkcji `summon_item()`, aby przywołać składniki we właściwej kolejności i ukończyć miksturę!\n",
                                     "\n",
                                     "Funkcja `summon_item()` przyjmuje jeden parametr, aby określić, który element ma być przywołany.\n",
                                     "\n",
                                     "Prawidłowe przedmioty to:\n",
                                     "- `netherwart` (Netherowa brodawka) ![Netherowa brodawka](img/netherwart.png \"Netherowa brodawka\")\n",
                                     "- `fermented spider eye` (Sfermentowane oko pająka) ![Sfermentowane oko pająka](img/fermented_spider_eye.png \"Sfermentowane oko pająka\")\n",
                                     "- `phantom membrane` (Upiorna membrana) ![Upiorna membrana](img/phantom_membrane.png \"Upiorna membrana\")\n"
                                 ]
                  },
                  {
                      "cell_type":  "code",
                      "execution_count":  null,
                      "id":  "c319c10e",
                      "metadata":  {
                                       "minecraft":  {
                                                         "closeCodeBuilderOnRun":  true,
                                                         "hidden":  false,
                                                         "onCodeCancelledCommand":  "scoreboard players set @s code_status 0",
                                                         "onCodeErrorCommand":  "scoreboard players set @s code_status 0",
                                                         "onCodeStartedCommand":  "scoreboard players set @s code_status 1",
                                                         "onCodeStoppedCommand":  "scoreboard players set @s code_status 0",
                                                         "onCodeSuccessfulCommand":  "scoreboard players set @s code_status 0",
                                                         "overridePython":  "import time\n\ntimeout = 0.100\ncommunicationPos = (0, 64, 0)\n\ntime.sleep(0.250)\n\ndef summon_item(item):\n    if item==\"netherwart\":\n        world.set(communicationPos, \"orange concrete\")\n        time.sleep(timeout)         \n    elif item==\"phantom membrane\":\n        world.set(communicationPos, \"magenta concrete\")\n        time.sleep(timeout)\n    elif item==\"fermented spider eye\":\n        world.set(communicationPos, \"light blue concrete\")\n        time.sleep(timeout)\n@user-code",
                                                         "readonly":  true
                                                     }
                                   },
                      "outputs":  [

                                  ],
                      "source":  [
                                     "# PRZYKŁAD KODU - TUTAJ NIE MOŻNA EDYTOWAĆ\n",
                                     "# URUCHOM GO, ABY ZOBACZYĆ, CO SIĘ STANIE\n",
                                     "\n",
                                     "# przywołaj jedną netherową brodawkę\n",
                                     "\n",
                                     "summon_item(\"netherwart\")"
                                 ]
                  },
                  {
                      "cell_type":  "markdown",
                      "id":  "6a387d30",
                      "metadata":  {

                                   },
                      "source":  [
                                     "# Działanie:\n",
                                     "\n",
                                     "Przeszukaj pomieszczenie, aby znaleźć przepis na miksturę, a następnie przywołaj składniki we właściwej kolejności, aby wrzucić je do kotłów i przyrządzić miksturę!\n",
                                     "\n",
                                     "Dołączony poniżej kod nie działa. Czy możesz go poprawić? Uruchom kod, aby zobaczyć, co się stanie, a następnie debuguj go, edytując go do właściwego rozwiązania."
                                 ]
                  },
                  {
                      "cell_type":  "code",
                      "execution_count":  null,
                      "id":  "b6f4bd0e",
                      "metadata":  {
                                       "minecraft":  {
                                                         "closeCodeBuilderOnRun":  true,
                                                         "hidden":  false,
                                                         "onCodeCancelledCommand":  "scoreboard players set @s code_status 0",
                                                         "onCodeErrorCommand":  "scoreboard players set @s code_status 0",
                                                         "onCodeStartedCommand":  "scoreboard players set @s code_status 1",
                                                         "onCodeStoppedCommand":  "scoreboard players set @s code_status 0",
                                                         "onCodeSuccessfulCommand":  "scoreboard players set @s code_status 0",
                                                         "overridePython":  "import time\n\ntimeout = 0.100\ncommunicationPos = (0, 64, 0)\n\ntime.sleep(0.250)\n\ndef summon_item(item):\n    if item==\"netherwart\":\n        world.set(communicationPos, \"orange concrete\")\n        time.sleep(timeout)         \n    elif item==\"phantom membrane\":\n        world.set(communicationPos, \"magenta concrete\")\n        time.sleep(timeout)\n    elif item==\"fermented spider eye\":\n        world.set(communicationPos, \"light blue concrete\")\n        time.sleep(timeout)\n@user-code",
                                                         "readonly":  false
                                                     }
                                   },
                      "outputs":  [

                                  ],
                      "source":  [
                                     "# kod tutaj\n",
                                     "\n",
                                     "summon_item(\"netherwart\")\n",
                                     "summon_item(\"phantom membrane\")"
                                 ]
                  }
              ],
    "metadata":  {
                     "celltoolbar":  "Edit Metadata",
                     "kernelspec":  {
                                        "display_name":  "Python 3 (ipykernel)",
                                        "language":  "python",
                                        "name":  "python3"
                                    },
                     "language_info":  {
                                           "codemirror_mode":  {
                                                                   "name":  "ipython",
                                                                   "version":  3
                                                               },
                                           "file_extension":  ".py",
                                           "mimetype":  "text/x-python",
                                           "name":  "python",
                                           "nbconvert_exporter":  "python",
                                           "pygments_lexer":  "ipython3",
                                           "version":  "3.10.7"
                                       },
                     "minecraft":  {
                                       "description":  "GK 2022",
                                       "page_id":  "1.1",
                                       "page_name":  "GK 2022",
                                       "style":  "minecraft.css"
                                   }
                 },
    "nbformat":  4,
    "nbformat_minor":  5
}
