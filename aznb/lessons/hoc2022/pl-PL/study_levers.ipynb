﻿{
    "cells":  [
                  {
                      "cell_type":  "markdown",
                      "id":  "acba1c10",
                      "metadata":  {

                                   },
                      "source":  [
                                     "# Kolorowe dźwignie\n",
                                     "\n",
                                     "Musisz przełączyć wszystkie cztery dźwignie, aby otworzyć drzwi, ale nie masz na tyle szybkości, aby móc zrobić to ręcznie. Zobacz, czy zdołasz określić kolejność, w jakiej muszą zostać przełączone, a następnie zaprogramuj swojego nowego przyjaciela, Szybkiego Rycerza, aby zrobił to za nas! Użyj funkcji \u0027move_knight()\u0027, aby określić, do którego koloru ma przemieścić się Szybki Rycerz.\n",
                                     "\n",
                                     "Funkcja \u0027move_knight()\u0027przyjmuje jeden parametr, który określa, do którego koloru ma przemieścić się rycerz.\n",
                                     "\n",
                                     "Prawidłowe kolory to:\n",
                                     "- `blue` (niebieski) ![Niebieski](img/blue_carpet.png \"Niebieski\")\n",
                                     "- `orange` (pomarańczowy) ![Pomarańczowy](img/orange_carpet.png \"Pomarańczowy\")\n",
                                     "- `yellow` (żółty) ![Żółty] (img/yellow_carpet.png \"Żółty\")\n",
                                     "- `magenta` (karmazynowy) ![Karmazynowy](img/magenta_carpet.png \"Karmazynowy\")\n"
                                 ]
                  },
                  {
                      "cell_type":  "code",
                      "execution_count":  null,
                      "id":  "0335d72d",
                      "metadata":  {
                                       "minecraft":  {
                                                         "closeCodeBuilderOnRun":  true,
                                                         "hidden":  false,
                                                         "onCodeCancelledCommand":  "scoreboard players set @s code_status 0",
                                                         "onCodeErrorCommand":  "scoreboard players set @s code_status 0",
                                                         "onCodeStartedCommand":  "scoreboard players set @s code_status 1",
                                                         "onCodeStoppedCommand":  "scoreboard players set @s code_status 0",
                                                         "onCodeSuccessfulCommand":  "scoreboard players set @s code_status 0",
                                                         "overridePython":  "import time\n\ntimeout = 0.100\ncommunicationPos = (0, 64, 0)\n\ntime.sleep(0.250)\n\ndef move_knight(color):\n    if color==\"blue\":\n        world.set(communicationPos, \"light blue concrete\")\n        time.sleep(timeout) \n    elif color==\"magenta\":\n        world.set(communicationPos, \"magenta concrete\")\n        time.sleep(timeout) \n    elif color==\"yellow\":\n        world.set(communicationPos, \"yellow concrete\")\n        time.sleep(timeout) \n    elif color==\"orange\":\n        world.set(communicationPos, \"orange concrete\")\n        time.sleep(timeout) \n@user-code",
                                                         "readonly":  true
                                                     }
                                   },
                      "outputs":  [

                                  ],
                      "source":  [
                                     "# PRZYKŁAD KODU - TUTAJ NIE MOŻNA EDYTOWAĆ\n",
                                     "# URUCHOM GO, ABY ZOBACZYĆ, CO SIĘ STANIE\n",
                                     "\n",
                                     "# przenieś Zbroję między\n",
                                     "# różne kolory\n",
                                     "\n",
                                     "move_knight(\"blue\")\n",
                                     "move_knight(\"orange\")"
                                 ]
                  },
                  {
                      "cell_type":  "markdown",
                      "id":  "a259db5b",
                      "metadata":  {

                                   },
                      "source":  [
                                     "# Działanie:\n",
                                     "\n",
                                     "Ustal, w jakiej kolejności dźwignie powinny zostać przełączone, zwracając szczególną uwagę na dywany przed nimi. Następnie przemieść Szybkiego Rycerza do każdej z dźwigni we właściwej kolejności. Szybki Rycerz jest na tyle sprytny, że przełącza dźwignię, gdy jest na miejscu!\n",
                                     "\n",
                                     "Poniższy kod nie działa, czy możesz go naprawić? Debuguj kod przez uruchomienie go, aby zobaczyć co robi, a następnie edytuj go, aby uzyskać pożądany rezultat."
                                 ]
                  },
                  {
                      "cell_type":  "code",
                      "execution_count":  null,
                      "id":  "b6f4bd0e",
                      "metadata":  {
                                       "minecraft":  {
                                                         "closeCodeBuilderOnRun":  true,
                                                         "hidden":  false,
                                                         "onCodeCancelledCommand":  "scoreboard players set @s code_status 0",
                                                         "onCodeErrorCommand":  "scoreboard players set @s code_status 0",
                                                         "onCodeStartedCommand":  "scoreboard players set @s code_status 1",
                                                         "onCodeStoppedCommand":  "scoreboard players set @s code_status 0",
                                                         "onCodeSuccessfulCommand":  "scoreboard players set @s code_status 0",
                                                         "overridePython":  "import time\n\ntimeout = 0.100\ncommunicationPos = (0, 64, 0)\n\ntime.sleep(0.250)\n\ndef move_knight(color):\n    if color==\"blue\":\n        world.set(communicationPos, \"light blue concrete\")\n        time.sleep(timeout) \n    elif color==\"magenta\":\n        world.set(communicationPos, \"magenta concrete\")\n        time.sleep(timeout) \n    elif color==\"yellow\":\n        world.set(communicationPos, \"yellow concrete\")\n        time.sleep(timeout) \n    elif color==\"orange\":\n        world.set(communicationPos, \"orange concrete\")\n        time.sleep(timeout) \n@user-code",
                                                         "readonly":  false
                                                     }
                                   },
                      "outputs":  [

                                  ],
                      "source":  [
                                     "# kod tutaj\n",
                                     "\n",
                                     "move_knight(\"blue\")\n",
                                     "move_knight(\"orange\")\n",
                                     "move_knight(\"yellow\")\n",
                                     "move_knight(\"magenta\")\n"
                                 ]
                  }
              ],
    "metadata":  {
                     "celltoolbar":  "Edit Metadata",
                     "kernelspec":  {
                                        "display_name":  "Python 3 (ipykernel)",
                                        "language":  "python",
                                        "name":  "python3"
                                    },
                     "language_info":  {
                                           "codemirror_mode":  {
                                                                   "name":  "ipython",
                                                                   "version":  3
                                                               },
                                           "file_extension":  ".py",
                                           "mimetype":  "text/x-python",
                                           "name":  "python",
                                           "nbconvert_exporter":  "python",
                                           "pygments_lexer":  "ipython3",
                                           "version":  "3.10.7"
                                       },
                     "minecraft":  {
                                       "description":  "GK 2022",
                                       "page_id":  "1.1",
                                       "page_name":  "GK 2022",
                                       "style":  "minecraft.css"
                                   }
                 },
    "nbformat":  4,
    "nbformat_minor":  5
}
