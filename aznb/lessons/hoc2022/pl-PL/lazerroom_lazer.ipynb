﻿{
    "cells":  [
                  {
                      "cell_type":  "markdown",
                      "id":  "c5e22680",
                      "metadata":  {

                                   },
                      "source":  [
                                     "# Laserowa zagadka\n",
                                     "\n",
                                     "Lite bloki zatrzymują laser! Przesuń rząd zielonych bloków, aby laser przeszedł przez szklane bloki i włączył światło po drugiej stronie. Użyj funkcji \u0027shift_row()\u0027, aby przesunąć rząd w lewo lub w prawo, aby umożliwić laserowi przejście przez szklane bloki.\n",
                                     "\n",
                                     "Funkcja \u0027shift_row()\u0027 przyjmuje dwa parametry (ciągi znaków). Pierwszy parametr określa, którego koloru rząd chcesz przesunąć, a drugi parametr określa kierunek, w którym powinien się przesunąć dany rząd.\n",
                                     "\n",
                                     "Prawidłowe kolory to:\n",
                                     "- \u0027green\u0027 ![Zielony](img/green_right.png \"Zielony\")\n",
                                     "\n",
                                     "Prawidłowe kierunki to:\n",
                                     "- \u0027right\u0027 ![W prawo](img/gray_right.png \"W prawo\")\n",
                                     "- \u0027left\u0027 ![W lewo](img/gray_left.png \"W lewo\")"
                                 ]
                  },
                  {
                      "cell_type":  "code",
                      "execution_count":  null,
                      "id":  "45ae79c1",
                      "metadata":  {
                                       "minecraft":  {
                                                         "closeCodeBuilderOnRun":  true,
                                                         "hidden":  false,
                                                         "onCodeCancelledCommand":  "scoreboard players set @s code_status 0",
                                                         "onCodeErrorCommand":  "scoreboard players set @s code_status 0",
                                                         "onCodeStartedCommand":  "scoreboard players set @s code_status 1",
                                                         "onCodeStoppedCommand":  "scoreboard players set @s code_status 0",
                                                         "onCodeSuccessfulCommand":  "scoreboard players set @s code_status 0",
                                                         "overridePython":  "import time\n\ntimeout = 0.100\ncommunicationPos = (0, 64, 0)\n\ntime.sleep(0.250)\n\ndef shift_row(color, direction):\n    if color==\"green\" and direction == \"left\":\n        world.set(communicationPos, \"orange concrete\")\n        time.sleep(timeout)   \n    elif color==\"green\" and direction == \"right\":\n        world.set(communicationPos, \"magenta concrete\")\n        time.sleep(timeout)                 \n@user-code",
                                                         "readonly":  true
                                                     }
                                   },
                      "outputs":  [

                                  ],
                      "source":  [
                                     "# PRZYKŁAD KODU - TUTAJ NIE MOŻNA EDYTOWAĆ\n",
                                     "# URUCHOM GO, ABY ZOBACZYĆ, CO SIĘ STANIE\n",
                                     "\n",
                                     "# przesuń zielony rząd w prawo\n",
                                     "# 3 razy\n",
                                     "\n",
                                     "shift_row(\"green\", \"right\")\n",
                                     "shift_row(\"green\", \"right\")\n",
                                     "shift_row(\"green\", \"right\")"
                                 ]
                  },
                  {
                      "cell_type":  "markdown",
                      "id":  "76fd662f",
                      "metadata":  {

                                   },
                      "source":  [
                                     "# Pro tip:\n",
                                     "\n",
                                     "Użyj pętli `for`, aby wykonać co najmniej jedną akcję wiele razy."
                                 ]
                  },
                  {
                      "cell_type":  "code",
                      "execution_count":  null,
                      "id":  "37d767ab",
                      "metadata":  {
                                       "minecraft":  {
                                                         "closeCodeBuilderOnRun":  true,
                                                         "hidden":  false,
                                                         "onCodeCancelledCommand":  "scoreboard players set @s code_status 0",
                                                         "onCodeErrorCommand":  "scoreboard players set @s code_status 0",
                                                         "onCodeStartedCommand":  "scoreboard players set @s code_status 1",
                                                         "onCodeStoppedCommand":  "scoreboard players set @s code_status 0",
                                                         "onCodeSuccessfulCommand":  "scoreboard players set @s code_status 0",
                                                         "overridePython":  "import time\n\ntimeout = 0.100\ncommunicationPos = (0, 64, 0)\n\ntime.sleep(0.250)\n\ndef shift_row(color, direction):\n    if color==\"green\" and direction == \"left\":\n        world.set(communicationPos, \"orange concrete\")\n        time.sleep(timeout)   \n    elif color==\"green\" and direction == \"right\":\n        world.set(communicationPos, \"magenta concrete\")\n        time.sleep(timeout)                 \n@user-code",
                                                         "readonly":  true
                                                     }
                                   },
                      "outputs":  [

                                  ],
                      "source":  [
                                     "# PRZYKŁAD KODU - TUTAJ NIE MOŻNA EDYTOWAĆ\n",
                                     "# URUCHOM GO, ABY ZOBACZYĆ, CO SIĘ STANIE\n",
                                     "\n",
                                     "# przesuń zielony rząd w prawo\n",
                                     "# 3 razy\n",
                                     "\n",
                                     "for i in range(3):\n",
                                     "    shift_row(\"green\", \"right\")"
                                 ]
                  },
                  {
                      "cell_type":  "markdown",
                      "id":  "cf227c68",
                      "metadata":  {

                                   },
                      "source":  [
                                     "# Działanie:\n",
                                     "\n",
                                     "Przesuń zielony rząd w lewo lub w prawo, aby laser przeszedł przez szklany blok i włączył światło.\n",
                                     "\n",
                                     "Dołączony poniżej kod nie działa. Czy możesz go poprawić? Uruchom kod, aby zobaczyć, co się stanie, a następnie debuguj go, edytując go do właściwego rozwiązania."
                                 ]
                  },
                  {
                      "cell_type":  "code",
                      "execution_count":  null,
                      "id":  "b6f4bd0e",
                      "metadata":  {
                                       "minecraft":  {
                                                         "closeCodeBuilderOnRun":  true,
                                                         "hidden":  false,
                                                         "onCodeCancelledCommand":  "scoreboard players set @s code_status 0",
                                                         "onCodeErrorCommand":  "scoreboard players set @s code_status 0",
                                                         "onCodeStartedCommand":  "scoreboard players set @s code_status 1",
                                                         "onCodeStoppedCommand":  "scoreboard players set @s code_status 0",
                                                         "onCodeSuccessfulCommand":  "scoreboard players set @s code_status 0",
                                                         "overridePython":  "import time\n\ntimeout = 0.100\ncommunicationPos = (0, 64, 0)\n\ntime.sleep(0.250)\n\ndef shift_row(color, direction):\n    if color==\"green\" and direction == \"left\":\n        world.set(communicationPos, \"orange concrete\")\n        time.sleep(timeout)   \n    elif color==\"green\" and direction == \"right\":\n        world.set(communicationPos, \"magenta concrete\")\n        time.sleep(timeout)                 \n@user-code",
                                                         "readonly":  false
                                                     }
                                   },
                      "outputs":  [

                                  ],
                      "source":  [
                                     "# kod tutaj\n",
                                     "\n",
                                     "shift_row(\"green\", \"right\")\n",
                                     "shift_row(\"green\", \"right\")"
                                 ]
                  }
              ],
    "metadata":  {
                     "celltoolbar":  "Edit Metadata",
                     "kernelspec":  {
                                        "display_name":  "Python 3 (ipykernel)",
                                        "language":  "python",
                                        "name":  "python3"
                                    },
                     "language_info":  {
                                           "codemirror_mode":  {
                                                                   "name":  "ipython",
                                                                   "version":  3
                                                               },
                                           "file_extension":  ".py",
                                           "mimetype":  "text/x-python",
                                           "name":  "python",
                                           "nbconvert_exporter":  "python",
                                           "pygments_lexer":  "ipython3",
                                           "version":  "3.10.7"
                                       },
                     "minecraft":  {
                                       "description":  "GK 2022",
                                       "page_id":  "1.1",
                                       "page_name":  "GK 2022",
                                       "style":  "minecraft.css"
                                   }
                 },
    "nbformat":  4,
    "nbformat_minor":  5
}
