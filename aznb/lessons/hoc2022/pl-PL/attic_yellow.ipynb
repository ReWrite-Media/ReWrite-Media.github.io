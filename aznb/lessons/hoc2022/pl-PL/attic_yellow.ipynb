﻿{
    "cells":  [
                  {
                      "cell_type":  "markdown",
                      "id":  "6082a739",
                      "metadata":  {

                                   },
                      "source":  [
                                     "# Samouczek na poddaszu (Żółta Ścieżka)\n",
                                     "\n",
                                     "Musisz dać Agentowi więcej mocy, aby otworzył żółte drzwi! Nad Agentem znajdują się zapadnie, które blokują światło księżyca. Może uda się je wykorzystać, aby naładować Agenta? Użyj funkcji \u0027move_cursor()\u0027, aby ustawić kursor, a następnie \u0027open_trapdoor()\u0027, aby otworzyć wybraną zapadnię.\n",
                                     "\n",
                                     "Funkcja \u0027move_cursor()\u0027 przyjmuje jeden parametr, który określa jej kierunek. Ten parametr jest kolorem strzałki reprezentującym kierunek, w który chcesz przesunąć obiekt.\n",
                                     "\n",
                                     "Prawidłowe kierunki to:\n",
                                     "- \u0027orange\u0027 (przesuwa kursor do przodu) ![Pomarańczowa strzałka](img/orange_arrow.png \"Pomarańczowa strzałka\")\n",
                                     "- \u0027magenta\u0027 (przesuwa kursor do tyłu) ![Karmazynowa strzałka](img/magenta_arrow.png \"Karmazynowa strzałka\")\n",
                                     "- \u0027blue\u0027 (przesuwa kursor w lewo) ![Niebieska strzałka](img/blue_arrow.png \"Niebieska strzałka\")\n",
                                     "- \u0027yellow\u0027 (przesuwa kursor w prawo) ![Żółta strzałka](img/yellow_arrow.png \"Żółta strzałka\")"
                                 ]
                  },
                  {
                      "cell_type":  "code",
                      "execution_count":  null,
                      "id":  "40be8d5a",
                      "metadata":  {
                                       "minecraft":  {
                                                         "closeCodeBuilderOnRun":  true,
                                                         "hidden":  false,
                                                         "onCodeCancelledCommand":  "scoreboard players set @s code_status 0",
                                                         "onCodeErrorCommand":  "scoreboard players set @s code_status 0",
                                                         "onCodeStartedCommand":  "scoreboard players set @s code_status 1",
                                                         "onCodeStoppedCommand":  "scoreboard players set @s code_status 0",
                                                         "onCodeSuccessfulCommand":  "scoreboard players set @s code_status 0",
                                                         "overridePython":  "import time\n\ntimeout = 0.100\ncommunicationPos = (0, 64, 0)\n\ntime.sleep(0.250)\n\ndef move_cursor(color):\n    if color == \"orange\":\n        world.set(communicationPos, \"orange concrete\")\n        time.sleep(timeout)\n    elif color == \"magenta\":\n        world.set(communicationPos, \"magenta concrete\")\n        time.sleep(timeout)\n    elif color == \"blue\":\n        world.set(communicationPos, \"light blue concrete\")\n        time.sleep(timeout)\n    elif color == \"yellow\":\n        world.set(communicationPos, \"yellow concrete\")\n        time.sleep(timeout)\n\ndef open_trapdoor():\n    world.set(communicationPos, \"lime concrete\")\n    time.sleep(timeout) \n@user-code",
                                                         "readonly":  true
                                                     }
                                   },
                      "outputs":  [

                                  ],
                      "source":  [
                                     "# PRZYKŁAD KODU - TUTAJ NIE MOŻNA EDYTOWAĆ\n",
                                     "# URUCHOM GO, ABY ZOBACZYĆ, CO SIĘ STANIE\n",
                                     "\n",
                                     "# otwórz pierwszą zapadnię i\n",
                                     "# następnie przesuń Agenta do przodu o 4 bloki\n",
                                     "\n",
                                     "open_trapdoor()\n",
                                     "move_cursor(\"yellow\")\n",
                                     "move_cursor(\"yellow\")\n",
                                     "move_cursor(\"yellow\")\n",
                                     "move_cursor(\"yellow\")"
                                 ]
                  },
                  {
                      "cell_type":  "markdown",
                      "id":  "b0b57e37",
                      "metadata":  {

                                   },
                      "source":  [
                                     "# Pro tip:\n",
                                     "\n",
                                     "Użyj pętli `for`, aby wykonać co najmniej jedną akcję wiele razy."
                                 ]
                  },
                  {
                      "cell_type":  "code",
                      "execution_count":  null,
                      "id":  "e38faaf6",
                      "metadata":  {
                                       "minecraft":  {
                                                         "closeCodeBuilderOnRun":  true,
                                                         "hidden":  false,
                                                         "onCodeCancelledCommand":  "scoreboard players set @s code_status 0",
                                                         "onCodeErrorCommand":  "scoreboard players set @s code_status 0",
                                                         "onCodeStartedCommand":  "scoreboard players set @s code_status 1",
                                                         "onCodeStoppedCommand":  "scoreboard players set @s code_status 0",
                                                         "onCodeSuccessfulCommand":  "scoreboard players set @s code_status 0",
                                                         "overridePython":  "import time\n\ntimeout = 0.100\ncommunicationPos = (0, 64, 0)\n\ntime.sleep(0.250)\n\ndef move_cursor(color):\n    if color == \"orange\":\n        world.set(communicationPos, \"orange concrete\")\n        time.sleep(timeout)\n    elif color == \"magenta\":\n        world.set(communicationPos, \"magenta concrete\")\n        time.sleep(timeout)\n    elif color == \"blue\":\n        world.set(communicationPos, \"light blue concrete\")\n        time.sleep(timeout)\n    elif color == \"yellow\":\n        world.set(communicationPos, \"yellow concrete\")\n        time.sleep(timeout)\n\ndef open_trapdoor():\n    world.set(communicationPos, \"lime concrete\")\n    time.sleep(timeout) \n@user-code",
                                                         "readonly":  true
                                                     }
                                   },
                      "outputs":  [

                                  ],
                      "source":  [
                                     "# PRZYKŁAD KODU - TUTAJ NIE MOŻNA EDYTOWAĆ\n",
                                     "# URUCHOM GO, ABY ZOBACZYĆ, CO SIĘ STANIE\n",
                                     "\n",
                                     "# otwórz pierwszą zapadnię i\n",
                                     "# następnie przesuń Agenta do przodu o 4 bloki\n",
                                     "\n",
                                     "open_trapdoor()\n",
                                     "\n",
                                     "for i in range(4):\n",
                                     "    move_cursor(\"yellow\")"
                                 ]
                  },
                  {
                      "cell_type":  "markdown",
                      "id":  "f08f8db3",
                      "metadata":  {

                                   },
                      "source":  [
                                     "# Działanie:\n",
                                     "\n",
                                     "Musimy dać Agentowi więcej mocy! Te zamknięte zapadnie na suficie wpuszczają trochę światła księżyca. Być może otwarcie ich za pomocą kodu wystarczy, aby doładować Agenta!\n",
                                     "\n",
                                     "Dołączony poniżej kod nie działa. Czy możesz go poprawić? Uruchom kod, aby zobaczyć, co się stanie, a następnie debuguj go, edytując go do właściwego rozwiązania."
                                 ]
                  },
                  {
                      "cell_type":  "code",
                      "execution_count":  null,
                      "id":  "b6f4bd0e",
                      "metadata":  {
                                       "minecraft":  {
                                                         "closeCodeBuilderOnRun":  true,
                                                         "hidden":  false,
                                                         "onCodeCancelledCommand":  "scoreboard players set @s code_status 0",
                                                         "onCodeErrorCommand":  "scoreboard players set @s code_status 0",
                                                         "onCodeStartedCommand":  "scoreboard players set @s code_status 1",
                                                         "onCodeStoppedCommand":  "scoreboard players set @s code_status 0",
                                                         "onCodeSuccessfulCommand":  "scoreboard players set @s code_status 0",
                                                         "overridePython":  "import time\n\ntimeout = 0.100\ncommunicationPos = (0, 64, 0)\n\ntime.sleep(0.250)\n\ndef move_cursor(color):\n    if color == \"orange\":\n        world.set(communicationPos, \"orange concrete\")\n        time.sleep(timeout)\n    elif color == \"magenta\":\n        world.set(communicationPos, \"magenta concrete\")\n        time.sleep(timeout)\n    elif color == \"blue\":\n        world.set(communicationPos, \"light blue concrete\")\n        time.sleep(timeout)\n    elif color == \"yellow\":\n        world.set(communicationPos, \"yellow concrete\")\n        time.sleep(timeout)\n\ndef open_trapdoor():\n    world.set(communicationPos, \"lime concrete\")\n    time.sleep(timeout) \n@user-code",
                                                         "readonly":  false
                                                     }
                                   },
                      "outputs":  [

                                  ],
                      "source":  [
                                     "# kod tutaj\n",
                                     "\n",
                                     "open_trapdoor()\n",
                                     "move_cursor(\"yellow\")\n",
                                     "move_cursor(\"yellow\")\n",
                                     "move_cursor(\"orange\")\n"
                                 ]
                  }
              ],
    "metadata":  {
                     "celltoolbar":  "Edit Metadata",
                     "kernelspec":  {
                                        "display_name":  "Python 3 (ipykernel)",
                                        "language":  "python",
                                        "name":  "python3"
                                    },
                     "language_info":  {
                                           "codemirror_mode":  {
                                                                   "name":  "ipython",
                                                                   "version":  3
                                                               },
                                           "file_extension":  ".py",
                                           "mimetype":  "text/x-python",
                                           "name":  "python",
                                           "nbconvert_exporter":  "python",
                                           "pygments_lexer":  "ipython3",
                                           "version":  "3.10.7"
                                       },
                     "minecraft":  {
                                       "description":  "GK 2022",
                                       "page_id":  "1.1",
                                       "page_name":  "GK 2022",
                                       "style":  "minecraft.css"
                                   }
                 },
    "nbformat":  4,
    "nbformat_minor":  5
}
