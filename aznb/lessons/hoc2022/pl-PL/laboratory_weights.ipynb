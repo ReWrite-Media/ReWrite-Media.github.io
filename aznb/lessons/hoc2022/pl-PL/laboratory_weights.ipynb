﻿{
    "cells":  [
                  {
                      "cell_type":  "markdown",
                      "id":  "bcc5bf7e",
                      "metadata":  {

                                   },
                      "source":  [
                                     "# Wagi\n",
                                     "\n",
                                     "Potrzebujesz wagi, aby uzyskać masę dokładnie 23 funtów. Może jest tu jakiś znak, który podpowie, ile waży każdy z mobów? Użyj funkcji \u0027summon_animal()\u0027, aby przywołać grupę zwierząt, które razem będą ważyły 23 funty.\n",
                                     "\n",
                                     "Funkcja \u0027summon_animal()\u0027 przyjmuje parametr, który określa, które zwierzę powinno zostać przywołane.\n",
                                     "\n",
                                     "Prawidłowe zwierzęta to:\n",
                                     "- `chicken` (Kurczak) ![Kurczak](img/chicken_weight.png \"Kurczak\")\n",
                                     "- `sheep` (Owca) ![Owca](img/sheep_weight.png \"Owca\")\n",
                                     "- `cow` (Krowa) ![Krowa](img/cow_weight.png \"Krowa\")"
                                 ]
                  },
                  {
                      "cell_type":  "code",
                      "execution_count":  null,
                      "id":  "35b4de77",
                      "metadata":  {
                                       "minecraft":  {
                                                         "closeCodeBuilderOnRun":  true,
                                                         "hidden":  false,
                                                         "onCodeCancelledCommand":  "scoreboard players set @s code_status 0",
                                                         "onCodeErrorCommand":  "scoreboard players set @s code_status 0",
                                                         "onCodeStartedCommand":  "scoreboard players set @s code_status 1",
                                                         "onCodeStoppedCommand":  "scoreboard players set @s code_status 0",
                                                         "onCodeSuccessfulCommand":  "scoreboard players set @s code_status 0",
                                                         "overridePython":  "import time\n\ntimeout = 0.100\ncommunicationPos = (0, 64, 0)\nweightDropPosition = (-18, 77, 162)\n\ntime.sleep(0.250)\n\ndef summon_animal(mob):\n    if mob==\"chicken\":\n        summon(\"chicken\",weightDropPosition)\n        time.sleep(timeout)         \n    elif mob==\"sheep\":\n        summon(\"sheep\",weightDropPosition)\n        time.sleep(timeout)\n    elif mob==\"cow\":\n        summon(\"cow\",weightDropPosition)\n        time.sleep(timeout)\n@user-code",
                                                         "readonly":  true
                                                     }
                                   },
                      "outputs":  [

                                  ],
                      "source":  [
                                     "# PRZYKŁAD KODU - TUTAJ NIE MOŻNA EDYTOWAĆ\n",
                                     "# URUCHOM GO, ABY ZOBACZYĆ, CO SIĘ STANIE\n",
                                     "\n",
                                     "# przywołaj 5 kurczaków i\n",
                                     "# dwie krowy\n",
                                     "\n",
                                     "summon_animal(\"chicken\")\n",
                                     "summon_animal(\"chicken\")\n",
                                     "summon_animal(\"chicken\")\n",
                                     "summon_animal(\"chicken\")\n",
                                     "summon_animal(\"chicken\")\n",
                                     "summon_animal(\"cow\")"
                                 ]
                  },
                  {
                      "cell_type":  "markdown",
                      "id":  "75196082",
                      "metadata":  {

                                   },
                      "source":  [
                                     "# Pro tip:\n",
                                     "\n",
                                     "Użyj pętli `for`, aby wykonać co najmniej jedną akcję wiele razy."
                                 ]
                  },
                  {
                      "cell_type":  "code",
                      "execution_count":  null,
                      "id":  "2dd552bd",
                      "metadata":  {
                                       "minecraft":  {
                                                         "closeCodeBuilderOnRun":  true,
                                                         "hidden":  false,
                                                         "onCodeCancelledCommand":  "scoreboard players set @s code_status 0",
                                                         "onCodeErrorCommand":  "scoreboard players set @s code_status 0",
                                                         "onCodeStartedCommand":  "scoreboard players set @s code_status 1",
                                                         "onCodeStoppedCommand":  "scoreboard players set @s code_status 0",
                                                         "onCodeSuccessfulCommand":  "scoreboard players set @s code_status 0",
                                                         "overridePython":  "import time\n\ntimeout = 0.100\ncommunicationPos = (0, 64, 0)\nweightDropPosition = (-18, 77, 162)\n\ntime.sleep(0.250)\n\ndef summon_animal(mob):\n    if mob==\"chicken\":\n        summon(\"chicken\",weightDropPosition)\n        time.sleep(timeout)         \n    elif mob==\"sheep\":\n        summon(\"sheep\",weightDropPosition)\n        time.sleep(timeout)\n    elif mob==\"cow\":\n        summon(\"cow\",weightDropPosition)\n        time.sleep(timeout)\n@user-code",
                                                         "readonly":  true
                                                     }
                                   },
                      "outputs":  [

                                  ],
                      "source":  [
                                     "# PRZYKŁAD KODU - TUTAJ NIE MOŻNA EDYTOWAĆ\n",
                                     "# URUCHOM GO, ABY ZOBACZYĆ, CO SIĘ STANIE\n",
                                     "\n",
                                     "# przywołaj 5 kurczaków i\n",
                                     "# dwie krowy\n",
                                     "\n",
                                     "for i in range(5):\n",
                                     "    summon_animal(\"chicken\")\n",
                                     "\n",
                                     "summon_animal(\"cow\")"
                                 ]
                  },
                  {
                      "cell_type":  "markdown",
                      "id":  "7c5e56fb",
                      "metadata":  {

                                   },
                      "source":  [
                                     "# Działanie:\n",
                                     "\n",
                                     "Przeszukaj obszar, aby uzyskać informacje o tym, ile waży każde zwierzę, a następnie napisz kod, który przywoła wystarczającą liczbę zwierząt, aby ważyły dokładnie 23 funty.\n",
                                     "\n",
                                     "Dołączony poniżej kod nie działa. Czy możesz go poprawić? Uruchom kod, aby zobaczyć, co się stanie, a następnie debuguj go, edytując go do właściwego rozwiązania."
                                 ]
                  },
                  {
                      "cell_type":  "code",
                      "execution_count":  null,
                      "id":  "b6f4bd0e",
                      "metadata":  {
                                       "minecraft":  {
                                                         "closeCodeBuilderOnRun":  true,
                                                         "hidden":  false,
                                                         "onCodeCancelledCommand":  "scoreboard players set @s code_status 0",
                                                         "onCodeErrorCommand":  "scoreboard players set @s code_status 0",
                                                         "onCodeStartedCommand":  "scoreboard players set @s code_status 1",
                                                         "onCodeStoppedCommand":  "scoreboard players set @s code_status 0",
                                                         "onCodeSuccessfulCommand":  "scoreboard players set @s code_status 0",
                                                         "overridePython":  "import time\n\ntimeout = 0.100\ncommunicationPos = (0, 64, 0)\nweightDropPosition = (-18, 77, 162)\n\ntime.sleep(0.250)\n\ndef summon_animal(mob):\n    if mob==\"chicken\":\n        summon(\"chicken\",weightDropPosition)\n        time.sleep(timeout)         \n    elif mob==\"sheep\":\n        summon(\"sheep\",weightDropPosition)\n        time.sleep(timeout)\n    elif mob==\"cow\":\n        summon(\"cow\",weightDropPosition)\n        time.sleep(timeout)\n@user-code",
                                                         "readonly":  false
                                                     }
                                   },
                      "outputs":  [

                                  ],
                      "source":  [
                                     "# kod tutaj\n",
                                     "\n",
                                     "summon_animal(\"chicken\")\n",
                                     "summon_animal(\"chicken\")\n",
                                     "summon_animal(\"sheep\")\n",
                                     "summon_animal(\"cow\")\n"
                                 ]
                  }
              ],
    "metadata":  {
                     "celltoolbar":  "Edit Metadata",
                     "kernelspec":  {
                                        "display_name":  "Python 3 (ipykernel)",
                                        "language":  "python",
                                        "name":  "python3"
                                    },
                     "language_info":  {
                                           "codemirror_mode":  {
                                                                   "name":  "ipython",
                                                                   "version":  3
                                                               },
                                           "file_extension":  ".py",
                                           "mimetype":  "text/x-python",
                                           "name":  "python",
                                           "nbconvert_exporter":  "python",
                                           "pygments_lexer":  "ipython3",
                                           "version":  "3.10.7"
                                       },
                     "minecraft":  {
                                       "description":  "GK 2022",
                                       "page_id":  "1.1",
                                       "page_name":  "GK 2022",
                                       "style":  "minecraft.css"
                                   }
                 },
    "nbformat":  4,
    "nbformat_minor":  5
}
