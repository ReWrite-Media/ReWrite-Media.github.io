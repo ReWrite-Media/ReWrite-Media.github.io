﻿{
    "cells":  [
                  {
                      "cell_type":  "markdown",
                      "id":  "5af69546",
                      "metadata":  {

                                   },
                      "source":  [
                                     "# Aktywuj\n pułapki",
                                     "\n",
                                     "Teraz masz szansę na schwytanie Agentów Czasu! Udaj się na środek areny bossów i spójrz w dół! Musisz wyrównać wszystkie 3 pierścienie ze środkowymi kolorami pułapki, aby ją aktywować! Użyj funkcji \"rotate_ring()\", aby obrócić każdy pierścień zgodnie z ruchem wskazówek zegara lub przeciwnie do ruchu wskazówek zegara, aby wyrównać wszystkie kolory!\n",
                                     "\n",
                                     "Funkcja \"rotate_ring()\" przyjmuje dwa parametry. Pierwszy z nich określa, który pierścień chcesz obrócić, a drugi określa, w którym kierunku powinien się obracać.\n",
                                     "\n",
                                     "Prawidłowe pierścienie to:\n",
                                     "- \"zewnętrzny\" ! [Pierścień zewnętrzny] (img/outer_ring.png \"Pierścień zewnętrzny\")\n",
                                     "- \"środek\" ! [Środkowy pierścień] (img/middle_ring.png \"Środkowy pierścień\")\n",
                                     "- \"wewnętrzny\" ! [Pierścień wewnętrzny] (img/inner_ring.png \"Pierścień wewnętrzny\")\n",
                                     "\n",
                                     "Prawidłowe kierunki to:\n",
                                     "- \"zgodnie z ruchem wskazówek zegara\" ! [Obrót zgodnie z ruchem wskazówek zegara] (img/clockwise_ring.png \"Pierścień zewnętrzny\")\n",
                                     "- \"przeciwnie do ruchu wskazówek zegara\" ! [Obrót w kierunku przeciwnym do ruchu wskazówek zegara] (img/counterclockwise_ring.png \"Obrót w kierunku przeciwnym do ruchu wskazówek zegara\")"
                                 ]
                  },
                  {
                      "cell_type":  "code",
                      "execution_count":  null,
                      "id":  "dc90f846",
                      "metadata":  {
                                       "minecraft":  {
                                                         "closeCodeBuilderOnRun":  true,
                                                         "hidden":  false,
                                                         "onCodeCancelledCommand":  "scoreboard players set @s code_status 0",
                                                         "onCodeErrorCommand":  "scoreboard players set @s code_status 0",
                                                         "onCodeStartedCommand":  "scoreboard players set @s code_status 1",
                                                         "onCodeStoppedCommand":  "scoreboard players set @s code_status 0",
                                                         "onCodeSuccessfulCommand":  "scoreboard players set @s code_status 0",
                                                         "overridePython":  "import time\n\ntimeout = 0.100\ncommunicationPos = (0, 64, 0)\n\ntime.sleep(0.250)\n\ndef rotate_ring(position, direction):\n    if position==\"outer\" and direction==\"clockwise\":\n        world.set(communicationPos, \"orange concrete\")\n        time.sleep(timeout)\n    elif position==\"outer\" and direction==\"counterclockwise\":\n        world.set(communicationPos, \"magenta concrete\")\n        time.sleep(timeout)\n    elif position==\"middle\" and direction==\"clockwise\":\n        world.set(communicationPos, \"light blue concrete\")\n        time.sleep(timeout)\n    elif position==\"middle\" and direction==\"counterclockwise\":\n        world.set(communicationPos, \"yellow concrete\")\n        time.sleep(timeout)\n    elif position==\"inner\" and direction==\"clockwise\":\n        world.set(communicationPos, \"lime concrete\")\n        time.sleep(timeout)\n    elif position==\"inner\" and direction==\"counterclockwise\":\n        world.set(communicationPos, \"pink concrete\")\n        time.sleep(timeout)\n@user-code",
                                                         "readonly":  true
                                                     }
                                   },
                      "outputs":  [

                                  ],
                      "source":  [
                                     "# PRZYKŁAD KODU - NIE MOŻESZ EDYTOWAĆ TUTAJ\n",
                                     "# URUCHOM GO, ABY ZOBACZYĆ, CO SIĘ stanie\n",
                                     "\n",
                                     "# obróć pierścień zewnętrzny 3 razy zgodnie z ruchem wskazówek zegara\n",
                                     "# , a następnie obróć środkowy pierścień 1 raz\n",
                                     "#\n przeciwnie do ruchu wskazówek zegara",
                                     "\n",
                                     "rotate_ring(\"outer\", \"clockwise\")\n",
                                     "rotate_ring(\"outer\", \"clockwise\")\n",
                                     "rotate_ring(\"outer\", \"clockwise\")\n",
                                     "rotate_ring(\"inner\", \"counterclockwise\")"
                                 ]
                  },
                  {
                      "cell_type":  "markdown",
                      "id":  "39bd345c",
                      "metadata":  {

                                   },
                      "source":  [
                                     "# Pro tip:\n",
                                     "\n",
                                     "Użyj pętli `for`, aby wykonać co najmniej jedną akcję wiele razy."
                                 ]
                  },
                  {
                      "cell_type":  "code",
                      "execution_count":  null,
                      "id":  "bb313844",
                      "metadata":  {
                                       "minecraft":  {
                                                         "closeCodeBuilderOnRun":  true,
                                                         "hidden":  false,
                                                         "onCodeCancelledCommand":  "scoreboard players set @s code_status 0",
                                                         "onCodeErrorCommand":  "scoreboard players set @s code_status 0",
                                                         "onCodeStartedCommand":  "scoreboard players set @s code_status 1",
                                                         "onCodeStoppedCommand":  "scoreboard players set @s code_status 0",
                                                         "onCodeSuccessfulCommand":  "scoreboard players set @s code_status 0",
                                                         "overridePython":  "import time\n\ntimeout = 0.100\ncommunicationPos = (0, 64, 0)\n\ntime.sleep(0.250)\n\ndef rotate_ring(position, direction):\n    if position==\"outer\" and direction==\"clockwise\":\n        world.set(communicationPos, \"orange concrete\")\n        time.sleep(timeout)\n    elif position==\"outer\" and direction==\"counterclockwise\":\n        world.set(communicationPos, \"magenta concrete\")\n        time.sleep(timeout)\n    elif position==\"middle\" and direction==\"clockwise\":\n        world.set(communicationPos, \"light blue concrete\")\n        time.sleep(timeout)\n    elif position==\"middle\" and direction==\"counterclockwise\":\n        world.set(communicationPos, \"yellow concrete\")\n        time.sleep(timeout)\n    elif position==\"inner\" and direction==\"clockwise\":\n        world.set(communicationPos, \"lime concrete\")\n        time.sleep(timeout)\n    elif position==\"inner\" and direction==\"counterclockwise\":\n        world.set(communicationPos, \"pink concrete\")\n        time.sleep(timeout)\n@user-code",
                                                         "readonly":  true
                                                     }
                                   },
                      "outputs":  [

                                  ],
                      "source":  [
                                     "# PRZYKŁAD KODU - NIE MOŻESZ EDYTOWAĆ TUTAJ\n",
                                     "# URUCHOM GO, ABY ZOBACZYĆ, CO SIĘ stanie\n",
                                     "\n",
                                     "# obróć pierścień zewnętrzny 3 razy zgodnie z ruchem wskazówek zegara\n",
                                     "# , a następnie obróć środkowy pierścień 1 raz\n",
                                     "#\n przeciwnie do ruchu wskazówek zegara",
                                     "\n",
                                     "for i in range(3):\n",
                                     "    rotate_ring(\"outer\", \"clockwise\")\n",
                                     "\n",
                                     "rotate_ring(\"inner\", \"counterclockwise\")"
                                 ]
                  },
                  {
                      "cell_type":  "markdown",
                      "id":  "0cbb6950",
                      "metadata":  {

                                   },
                      "source":  [
                                     "# Działanie:\n",
                                     "\n",
                                     "Obróć pierścienie! Wyrównaj wszystkie trzy pierścienie do środkowych kolorów zalewki, aby ją aktywować!\n",
                                     "\n",
                                     "Dołączony poniżej kod jest uszkodzony. Czy możesz to naprawić? Uruchom kod, aby zobaczyć, co się stanie, a następnie debuguj go, edytując go do właściwego rozwiązania."
                                 ]
                  },
                  {
                      "cell_type":  "code",
                      "execution_count":  null,
                      "id":  "b6f4bd0e",
                      "metadata":  {
                                       "minecraft":  {
                                                         "closeCodeBuilderOnRun":  true,
                                                         "hidden":  false,
                                                         "onCodeCancelledCommand":  "scoreboard players set @s code_status 0",
                                                         "onCodeErrorCommand":  "scoreboard players set @s code_status 0",
                                                         "onCodeStartedCommand":  "scoreboard players set @s code_status 1",
                                                         "onCodeStoppedCommand":  "scoreboard players set @s code_status 0",
                                                         "onCodeSuccessfulCommand":  "scoreboard players set @s code_status 0",
                                                         "overridePython":  "import time\n\ntimeout = 0.100\ncommunicationPos = (0, 64, 0)\n\ntime.sleep(0.250)\n\ndef rotate_ring(position, direction):\n    if position==\"outer\" and direction==\"clockwise\":\n        world.set(communicationPos, \"orange concrete\")\n        time.sleep(timeout)\n    elif position==\"outer\" and direction==\"counterclockwise\":\n        world.set(communicationPos, \"magenta concrete\")\n        time.sleep(timeout)\n    elif position==\"middle\" and direction==\"clockwise\":\n        world.set(communicationPos, \"light blue concrete\")\n        time.sleep(timeout)\n    elif position==\"middle\" and direction==\"counterclockwise\":\n        world.set(communicationPos, \"yellow concrete\")\n        time.sleep(timeout)\n    elif position==\"inner\" and direction==\"clockwise\":\n        world.set(communicationPos, \"lime concrete\")\n        time.sleep(timeout)\n    elif position==\"inner\" and direction==\"counterclockwise\":\n        world.set(communicationPos, \"pink concrete\")\n        time.sleep(timeout)\n@user-code",
                                                         "readonly":  false
                                                     }
                                   },
                      "outputs":  [

                                  ],
                      "source":  [
                                     "# kod tutaj\n",
                                     "\n",
                                     "rotate_ring(\"outer\", \"clockwise\")\n",
                                     "rotate_ring(\"middle\", \"counterclockwise\")\n",
                                     "rotate_ring(\"middle\", \"counterclockwise\")\n",
                                     "rotate_ring(\"middle\", \"counterclockwise\")"
                                 ]
                  }
              ],
    "metadata":  {
                     "celltoolbar":  "Edit Metadata",
                     "kernelspec":  {
                                        "display_name":  "Python 3 (ipykernel)",
                                        "language":  "python",
                                        "name":  "python3"
                                    },
                     "language_info":  {
                                           "codemirror_mode":  {
                                                                   "name":  "ipython",
                                                                   "version":  3
                                                               },
                                           "file_extension":  ".py",
                                           "mimetype":  "text/x-python",
                                           "name":  "python",
                                           "nbconvert_exporter":  "python",
                                           "pygments_lexer":  "ipython3",
                                           "version":  "3.10.7"
                                       },
                     "minecraft":  {
                                       "description":  "HOC 2022",
                                       "page_id":  "1.1",
                                       "page_name":  "HOC 2022",
                                       "style":  "minecraft.css"
                                   }
                 },
    "nbformat":  4,
    "nbformat_minor":  5
}
