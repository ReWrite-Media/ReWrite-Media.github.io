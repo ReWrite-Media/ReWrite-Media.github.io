﻿{
    "cells":  [
                  {
                      "cell_type":  "markdown",
                      "id":  "19cb30b6",
                      "metadata":  {

                                   },
                      "source":  [
                                     "# Slajd z obrazem\n",
                                     "\n",
                                     "Wygląda na to, że te figury są częścią niekompletnego obrazu! Spróbuj zmienić ich kolejność, aby zobaczyć, co to ma być! Użyj funkcji \u0027push_pieces()\u0027, aby uruchomić tłoki, które przesuną figury w określonym kierunku.\n",
                                     "\n",
                                     "Funkcja \u0027push_pieces()\u0027 przyjmuje jeden parametr: kierunek, w którym chcesz przesunąć figury.\n",
                                     "\n",
                                     "Prawidłowe kierunki to:\n",
                                     "- \u0027up\u0027 ![Niebieski w górę](img/chess_blue_up.png \"Niebieski w górę\")\n",
                                     "- \u0027down\u0027 ![Czerwony w dół](img/chess_red_down.png \"Czerwony w dół\")\n",
                                     "- \u0027left\u0027 ![Żółty w lewo](img/chess_yellow_left.png \"Żółty w lewo\")\n",
                                     "- `right` (w prawo) ![Zielony w prawo] (img/chess_green_right.png \"Zielony w prawo\")"
                                 ]
                  },
                  {
                      "cell_type":  "code",
                      "execution_count":  null,
                      "id":  "45ce451c",
                      "metadata":  {
                                       "minecraft":  {
                                                         "closeCodeBuilderOnRun":  true,
                                                         "hidden":  false,
                                                         "onCodeCancelledCommand":  "scoreboard players set @s code_status 0",
                                                         "onCodeErrorCommand":  "scoreboard players set @s code_status 0",
                                                         "onCodeStartedCommand":  "scoreboard players set @s code_status 1",
                                                         "onCodeStoppedCommand":  "scoreboard players set @s code_status 0",
                                                         "onCodeSuccessfulCommand":  "scoreboard players set @s code_status 0",
                                                         "overridePython":  "import time\n\ntimeout = 0.100\ncommunicationPos = (0, 64, 0)\n\ntime.sleep(0.250)\n\ndef push_pieces(direction):\n    if direction==\"up\":\n        world.set(communicationPos, \"orange concrete\")\n        time.sleep(timeout)    \n    elif direction==\"down\":\n        world.set(communicationPos, \"magenta concrete\")\n        time.sleep(timeout) \n    elif direction==\"left\":\n        world.set(communicationPos, \"light blue concrete\")\n        time.sleep(timeout) \n    elif direction==\"right\":\n        world.set(communicationPos, \"yellow concrete\")\n        time.sleep(timeout) \n@user-code",
                                                         "readonly":  true
                                                     }
                                   },
                      "outputs":  [

                                  ],
                      "source":  [
                                     "# PRZYKŁAD KODU - TUTAJ NIE MOŻNA EDYTOWAĆ\n",
                                     "# URUCHOM GO, ABY ZOBACZYĆ, CO SIĘ STANIE\n",
                                     "\n",
                                     "# przesuwaj figury we wszystkich\n",
                                     "# 4 kierunki\n",
                                     "\n",
                                     "push_pieces(\"left\")\n",
                                     "push_pieces(\"right\")\n",
                                     "push_pieces(\"down\")\n",
                                     "push_pieces(\"up\")"
                                 ]
                  },
                  {
                      "cell_type":  "markdown",
                      "id":  "aafe5d6a",
                      "metadata":  {

                                   },
                      "source":  [
                                     "# Działanie:\n",
                                     "\n",
                                     "Popchnij bloki, aby zmienić ich kolejność, aby wszystkie elementy tworzyły pełny obraz!\n",
                                     "\n",
                                     "Dołączony poniżej kod nie działa. Czy możesz go poprawić? Uruchom kod, aby zobaczyć, co się stanie, a następnie debuguj go, edytując go do właściwego rozwiązania."
                                 ]
                  },
                  {
                      "cell_type":  "code",
                      "execution_count":  null,
                      "id":  "b6f4bd0e",
                      "metadata":  {
                                       "minecraft":  {
                                                         "closeCodeBuilderOnRun":  true,
                                                         "hidden":  false,
                                                         "onCodeCancelledCommand":  "scoreboard players set @s code_status 0",
                                                         "onCodeErrorCommand":  "scoreboard players set @s code_status 0",
                                                         "onCodeStartedCommand":  "scoreboard players set @s code_status 1",
                                                         "onCodeStoppedCommand":  "scoreboard players set @s code_status 0",
                                                         "onCodeSuccessfulCommand":  "scoreboard players set @s code_status 0",
                                                         "overridePython":  "import time\n\ntimeout = 0.100\ncommunicationPos = (0, 64, 0)\n\ntime.sleep(0.250)\n\ndef push_pieces(direction):\n    if direction==\"up\":\n        world.set(communicationPos, \"orange concrete\")\n        time.sleep(timeout)    \n    elif direction==\"down\":\n        world.set(communicationPos, \"magenta concrete\")\n        time.sleep(timeout) \n    elif direction==\"left\":\n        world.set(communicationPos, \"light blue concrete\")\n        time.sleep(timeout) \n    elif direction==\"right\":\n        world.set(communicationPos, \"yellow concrete\")\n        time.sleep(timeout) \n@user-code",
                                                         "readonly":  false
                                                     }
                                   },
                      "outputs":  [

                                  ],
                      "source":  [
                                     "# kod tutaj\n",
                                     "\n",
                                     "push_pieces(\"left\")\n",
                                     "push_pieces(\"right\")\n",
                                     "push_pieces(\"down\")\n"
                                 ]
                  }
              ],
    "metadata":  {
                     "celltoolbar":  "Edit Metadata",
                     "kernelspec":  {
                                        "display_name":  "Python 3 (ipykernel)",
                                        "language":  "python",
                                        "name":  "python3"
                                    },
                     "language_info":  {
                                           "codemirror_mode":  {
                                                                   "name":  "ipython",
                                                                   "version":  3
                                                               },
                                           "file_extension":  ".py",
                                           "mimetype":  "text/x-python",
                                           "name":  "python",
                                           "nbconvert_exporter":  "python",
                                           "pygments_lexer":  "ipython3",
                                           "version":  "3.10.7"
                                       },
                     "minecraft":  {
                                       "description":  "GK 2022",
                                       "page_id":  "1.1",
                                       "page_name":  "GK 2022",
                                       "style":  "minecraft.css"
                                   }
                 },
    "nbformat":  4,
    "nbformat_minor":  5
}
