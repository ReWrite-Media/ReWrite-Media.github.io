﻿{
    "cells":  [
                  {
                      "cell_type":  "markdown",
                      "id":  "030c2673",
                      "metadata":  {

                                   },
                      "source":  [
                                     "# Feed the House\n",
                                     "\n",
                                     "The house is hungry! And what better to feed it than apples, salmon, and mushroom stew! See if you could figure out how many of each ingredient the house requires. Use the `feed_house()` function to define what items you want to feed it.\n",
                                     "\n",
                                     "The `feed_house()` function takes one parameter that defines what item you\u0027re going to feed it.\n",
                                     "\n",
                                     "Valid options are:\n",
                                     "- `apple` (apple) ![Apple](img/apple.png \"Apple\")\n",
                                     "- `mushroom stew` ![Mushroom Stew](img/mushroom_stew.png \"Mushroom Strew\")\n",
                                     "- `salmon` ![Salmon](img/salmon.png \"Salmon\")\n"
                                 ]
                  },
                  {
                      "cell_type":  "code",
                      "execution_count":  null,
                      "id":  "b6f4bd0e",
                      "metadata":  {
                                       "minecraft":  {
                                                         "closeCodeBuilderOnRun":  true,
                                                         "hidden":  false,
                                                         "onCodeCancelledCommand":  "scoreboard players set @s code_status 0",
                                                         "onCodeErrorCommand":  "scoreboard players set @s code_status 0",
                                                         "onCodeStartedCommand":  "scoreboard players set @s code_status 1",
                                                         "onCodeStoppedCommand":  "scoreboard players set @s code_status 0",
                                                         "onCodeSuccessfulCommand":  "scoreboard players set @s code_status 0",
                                                         "overridePython":  "import time\n\ntimeout = 0.100\ncommunicationPos = (0, 64, 0)\n\ntime.sleep(0.250)\n\ndef feed_house(food):\n    if food==\"apple\":\n        world.set(communicationPos, \"orange concrete\")\n        time.sleep(timeout)         \n    elif food==\"salmon\":\n        world.set(communicationPos, \"magenta concrete\")\n        time.sleep(timeout)\n    elif food==\"mushroom stew\":\n        world.set(communicationPos, \"light blue concrete\")\n        time.sleep(timeout)\n@user-code",
                                                         "readonly":  true
                                                     }
                                   },
                      "outputs":  [

                                  ],
                      "source":  [
                                     "# CODE EXAMPLE - YOU CANNOT EDIT HERE\n",
                                     "# RUN IT TO SEE WHAT HAPPENS\n",
                                     "\n",
                                     "# feed the house 4 apples and\n",
                                     "# 1 mushroom stew\n",
                                     "\n",
                                     "feed_house(\"apple\")\n",
                                     "feed_house(\"apple\")\n",
                                     "feed_house(\"apple\")\n",
                                     "feed_house(\"apple\")\n",
                                     "feed_house(\"mushroom stew\")"
                                 ]
                  },
                  {
                      "cell_type":  "markdown",
                      "id":  "d29da26d",
                      "metadata":  {

                                   },
                      "source":  [
                                     "# Pro Tip:\n",
                                     "\n",
                                     "Use a `for` loop to do one or more actions multiple times."
                                 ]
                  },
                  {
                      "cell_type":  "code",
                      "execution_count":  null,
                      "id":  "c811a834",
                      "metadata":  {
                                       "minecraft":  {
                                                         "closeCodeBuilderOnRun":  true,
                                                         "hidden":  false,
                                                         "onCodeCancelledCommand":  "scoreboard players set @s code_status 0",
                                                         "onCodeErrorCommand":  "scoreboard players set @s code_status 0",
                                                         "onCodeStartedCommand":  "scoreboard players set @s code_status 1",
                                                         "onCodeStoppedCommand":  "scoreboard players set @s code_status 0",
                                                         "onCodeSuccessfulCommand":  "scoreboard players set @s code_status 0",
                                                         "overridePython":  "import time\n\ntimeout = 0.100\ncommunicationPos = (0, 64, 0)\n\ntime.sleep(0.250)\n\ndef feed_house(food):\n    if food==\"apple\":\n        world.set(communicationPos, \"orange concrete\")\n        time.sleep(timeout)         \n    elif food==\"salmon\":\n        world.set(communicationPos, \"magenta concrete\")\n        time.sleep(timeout)\n    elif food==\"mushroom stew\":\n        world.set(communicationPos, \"light blue concrete\")\n        time.sleep(timeout)\n@user-code",
                                                         "readonly":  true
                                                     }
                                   },
                      "outputs":  [

                                  ],
                      "source":  [
                                     "# CODE EXAMPLE - YOU CANNOT EDIT HERE\n",
                                     "# RUN IT TO SEE WHAT HAPPENS\n",
                                     "\n",
                                     "# feed the house 4 apples and\n",
                                     "# 1 mushroom stew\n",
                                     "\n",
                                     "for i in range(4):\n",
                                     "    feed_house(\"apple\")\n",
                                     "\n",
                                     "feed_house(\"mushroom stew\")"
                                 ]
                  },
                  {
                      "cell_type":  "markdown",
                      "id":  "0e133078",
                      "metadata":  {

                                   },
                      "source":  [
                                     "# Activity:\n",
                                     "\n",
                                     "Zombie Chefs are holding food while they ride by on platters! There seems to be a pattern here... I wonder if they are here to feed the house? Figure out how many of each food item the house wants, then write a programme to feed the house the correct amount!\n",
                                     "\n",
                                     "The included code below is broken. Can you fix it? Run the code to see what happens, then debug it by editing it to the correct solution."
                                 ]
                  },
                  {
                      "cell_type":  "code",
                      "execution_count":  null,
                      "id":  "675f27bf",
                      "metadata":  {
                                       "minecraft":  {
                                                         "closeCodeBuilderOnRun":  true,
                                                         "hidden":  false,
                                                         "onCodeCancelledCommand":  "scoreboard players set @s code_status 0",
                                                         "onCodeErrorCommand":  "scoreboard players set @s code_status 0",
                                                         "onCodeStartedCommand":  "scoreboard players set @s code_status 1",
                                                         "onCodeStoppedCommand":  "scoreboard players set @s code_status 0",
                                                         "onCodeSuccessfulCommand":  "scoreboard players set @s code_status 0",
                                                         "overridePython":  "import time\n\ntimeout = 0.100\ncommunicationPos = (0, 64, 0)\n\ntime.sleep(0.250)\n\ndef feed_house(food):\n    if food==\"apple\":\n        world.set(communicationPos, \"orange concrete\")\n        time.sleep(timeout)         \n    elif food==\"salmon\":\n        world.set(communicationPos, \"magenta concrete\")\n        time.sleep(timeout)\n    elif food==\"mushroom stew\":\n        world.set(communicationPos, \"light blue concrete\")\n        time.sleep(timeout)\n@user-code",
                                                         "readonly":  false
                                                     }
                                   },
                      "outputs":  [

                                  ],
                      "source":  [
                                     "# code here\n",
                                     "\n",
                                     "feed_house(\"apple\")\n",
                                     "feed_house(\"apple\")\n",
                                     "feed_house(\"salmon\")"
                                 ]
                  }
              ],
    "metadata":  {
                     "celltoolbar":  "Edit Metadata",
                     "kernelspec":  {
                                        "display_name":  "Python 3 (ipykernel)",
                                        "language":  "python",
                                        "name":  "python3"
                                    },
                     "language_info":  {
                                           "codemirror_mode":  {
                                                                   "name":  "ipython",
                                                                   "version":  3
                                                               },
                                           "file_extension":  ".py",
                                           "mimetype":  "text/x-python",
                                           "name":  "python",
                                           "nbconvert_exporter":  "python",
                                           "pygments_lexer":  "ipython3",
                                           "version":  "3.10.7"
                                       },
                     "minecraft":  {
                                       "description":  "HOC 2022",
                                       "page_id":  "1.1",
                                       "page_name":  "HOC 2022",
                                       "style":  "minecraft.css"
                                   }
                 },
    "nbformat":  4,
    "nbformat_minor":  5
}
