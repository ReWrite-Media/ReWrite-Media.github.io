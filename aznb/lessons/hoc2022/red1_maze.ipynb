{
 "cells": [
  {
   "cell_type": "markdown",
   "id": "d98fd2c2",
   "metadata": {},
   "source": [
    "# Maze\n",
    "\n",
    "The enderman butler needs your help getting through the maze to the emerald blocks on the other side. The lights on the wall seem to be associated with the doors in some way. Opening one seems to close the other. Manually flip the levers to create a path for the enderman to reach the emerald block, then use the `move_enderman_direction()` function to help navigate them through the maze.\n",
    "\n",
    "The `move_enderman_direction()` function takes one parameter (a string) that defines which direction it should move in.\n",
    "\n",
    "Valid directions are:\n",
    "- `forward`\n",
    "- `back`\n",
    "- `left`\n",
    "- `right`"
   ]
  },
  {
   "cell_type": "code",
   "execution_count": null,
   "id": "e17b4052",
   "metadata": {
    "minecraft": {
     "closeCodeBuilderOnRun": true,
     "hidden": false,
     "onCodeCancelledCommand": "scoreboard players set @s code_status 0",
     "onCodeErrorCommand": "scoreboard players set @s code_status 0",
     "onCodeStartedCommand": "scoreboard players set @s code_status 1",
     "onCodeStoppedCommand": "scoreboard players set @s code_status 0",
     "onCodeSuccessfulCommand": "scoreboard players set @s code_status 0",
     "overridePython": "import time\n\ntimeout = 0.100\ncommunicationPos = (0, 64, 0)\n\ntime.sleep(0.250)\n\ndef move_enderman_direction(direction):\n    if direction==\"forward\":\n        world.set(communicationPos, \"orange concrete\")\n        time.sleep(timeout) \n    elif direction==\"back\":\n        world.set(communicationPos, \"magenta concrete\")\n        time.sleep(timeout) \n    elif direction==\"left\":\n        world.set(communicationPos, \"light blue concrete\")\n        time.sleep(timeout) \n    elif direction==\"right\":\n        world.set(communicationPos, \"yellow concrete\")\n        time.sleep(timeout) \n            \n@user-code",
     "readonly": true
    }
   },
   "outputs": [],
   "source": [
    "# move the enderman 4 blocks forward\n",
    "# and then 1 block right\n",
    "\n",
    "move_enderman_direction(\"forward\")\n",
    "move_enderman_direction(\"forward\")\n",
    "move_enderman_direction(\"forward\")\n",
    "move_enderman_direction(\"forward\")\n",
    "move_enderman_direction(\"right\")"
   ]
  },
  {
   "cell_type": "markdown",
   "id": "6acea1bb",
   "metadata": {},
   "source": [
    "# Pro Tip:\n",
    "\n",
    "Use a `for` loop to do one or more actions multiple times."
   ]
  },
  {
   "cell_type": "code",
   "execution_count": null,
   "id": "da2f29e0",
   "metadata": {
    "minecraft": {
     "closeCodeBuilderOnRun": true,
     "hidden": false,
     "onCodeCancelledCommand": "scoreboard players set @s code_status 0",
     "onCodeErrorCommand": "scoreboard players set @s code_status 0",
     "onCodeStartedCommand": "scoreboard players set @s code_status 1",
     "onCodeStoppedCommand": "scoreboard players set @s code_status 0",
     "onCodeSuccessfulCommand": "scoreboard players set @s code_status 0",
     "overridePython": "import time\n\ntimeout = 0.100\ncommunicationPos = (0, 64, 0)\n\ntime.sleep(0.250)\n\ndef move_enderman_direction(direction):\n    if direction==\"forward\":\n        world.set(communicationPos, \"orange concrete\")\n        time.sleep(timeout) \n    elif direction==\"back\":\n        world.set(communicationPos, \"magenta concrete\")\n        time.sleep(timeout) \n    elif direction==\"left\":\n        world.set(communicationPos, \"light blue concrete\")\n        time.sleep(timeout) \n    elif direction==\"right\":\n        world.set(communicationPos, \"yellow concrete\")\n        time.sleep(timeout) \n            \n@user-code",
     "readonly": true
    }
   },
   "outputs": [],
   "source": [
    "# move the enderman 4 blocks forward\n",
    "# and then 1 block right\n",
    "\n",
    "for i in range(4):\n",
    "    move_enderman_direction(\"forward\")\n",
    "\n",
    "move_enderman_direction(\"right\")"
   ]
  },
  {
   "cell_type": "markdown",
   "id": "4bdf0a08",
   "metadata": {},
   "source": [
    "# Activity:\n",
    "\n",
    "Use the levers to create a path for the enderman to reach the emerald blocks, and then write code to naviage them through the maze.\n",
    "\n",
    "The below code is broken, can you fix it? Debug the code by running it to see what it does and then edit it so you get the desired result."
   ]
  },
  {
   "cell_type": "code",
   "execution_count": null,
   "id": "b6f4bd0e",
   "metadata": {
    "minecraft": {
     "closeCodeBuilderOnRun": true,
     "hidden": false,
     "onCodeCancelledCommand": "scoreboard players set @s code_status 0",
     "onCodeErrorCommand": "scoreboard players set @s code_status 0",
     "onCodeStartedCommand": "scoreboard players set @s code_status 1",
     "onCodeStoppedCommand": "scoreboard players set @s code_status 0",
     "onCodeSuccessfulCommand": "scoreboard players set @s code_status 0",
     "overridePython": "import time\n\ntimeout = 0.100\ncommunicationPos = (0, 64, 0)\n\ntime.sleep(0.250)\n\ndef move_enderman_direction(direction):\n    if direction==\"forward\":\n        world.set(communicationPos, \"orange concrete\")\n        time.sleep(timeout) \n    elif direction==\"back\":\n        world.set(communicationPos, \"magenta concrete\")\n        time.sleep(timeout) \n    elif direction==\"left\":\n        world.set(communicationPos, \"light blue concrete\")\n        time.sleep(timeout) \n    elif direction==\"right\":\n        world.set(communicationPos, \"yellow concrete\")\n        time.sleep(timeout) \n            \n@user-code",
     "readonly": false
    }
   },
   "outputs": [],
   "source": [
    "# code here\n",
    "\n",
    "move_enderman_direction(\"forward\")\n",
    "move_enderman_direction(\"forward\")\n",
    "move_enderman_direction(\"forward\")\n",
    "move_enderman_direction(\"right\")\n",
    "move_enderman_direction(\"right\")"
   ]
  }
 ],
 "metadata": {
  "celltoolbar": "Edit Metadata",
  "kernelspec": {
   "display_name": "Python 3 (ipykernel)",
   "language": "python",
   "name": "python3"
  },
  "language_info": {
   "codemirror_mode": {
    "name": "ipython",
    "version": 3
   },
   "file_extension": ".py",
   "mimetype": "text/x-python",
   "name": "python",
   "nbconvert_exporter": "python",
   "pygments_lexer": "ipython3",
   "version": "3.10.7"
  },
  "minecraft": {
   "description": "HOC 2022",
   "page_id": "1.1",
   "page_name": "HOC 2022",
   "style": "minecraft.css"
  }
 },
 "nbformat": 4,
 "nbformat_minor": 5
}
