{
 "cells": [
  {
   "cell_type": "markdown",
   "id": "d98fd2c2",
   "metadata": {},
   "source": [
    "# Maze\n",
    "\n",
    "The enderman butler needs your help getting through the maze to the emerald blocks on the other side. The lights on the wall seem to be associated with the doors in some way. Opening one seems to close the other. \n",
    "\n",
    "Create a path to the emerald blocks by using the levers. Be careful, opening one door will close the other. Then use the ``||hoc22.move enderman||`` blocks to get them through the maze to the emerald blocks. \n"
   ]
  },
  {
   "cell_type": "code",
   "execution_count": null,
   "id": "b6f4bd0e",
   "metadata": {
    "minecraft": {
     "closeCodeBuilderOnRun": true,
     "hidden": false,
     "overridePython": "import time\n\ntimeout = 0.100\ncommunicationPos = (0, 64, 0)\n\ntime.sleep(0.250)\n\ndef move_enderman_direction(direction):\n    if direction==\"forward\":\n        world.set(communicationPos, \"orange concrete\")\n        time.sleep(timeout) \n    elif direction==\"back\":\n        world.set(communicationPos, \"magenta concrete\")\n        time.sleep(timeout) \n    elif direction==\"left\":\n        world.set(communicationPos, \"light blue concrete\")\n        time.sleep(timeout) \n    elif direction==\"right\":\n        world.set(communicationPos, \"yellow concrete\")\n        time.sleep(timeout) \n            \n@user-code",
     "readonly": false
    }
   },
   "outputs": [],
   "source": [
    "move_enderman(\"forward\")\n",
    "move_enderman(\"forward\")\n",
    "move_enderman(\"forward\")\n",
    "move_enderman(\"right\")\n",
    "move_enderman(\"right\")\n"

   ]
  }
 ],
 "metadata": {
  "kernelspec": {
   "display_name": "Python 3 (ipykernel)",
   "language": "python",
   "name": "python3"
  },
  "language_info": {
   "codemirror_mode": {
    "name": "ipython",
    "version": 3
   },
   "file_extension": ".py",
   "mimetype": "text/x-python",
   "name": "python",
   "nbconvert_exporter": "python",
   "pygments_lexer": "ipython3",
   "version": "3.10.7"
  },
  "minecraft": {
   "description": "HOC 2022",
   "page_id": "1.1",
   "page_name": "HOC 2022",
   "style": "minecraft.css"
  }
 },
 "nbformat": 4,
 "nbformat_minor": 5
}
