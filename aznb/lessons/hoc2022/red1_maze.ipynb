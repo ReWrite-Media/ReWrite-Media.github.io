{
 "cells": [
  {
   "cell_type": "markdown",
   "id": "d98fd2c2",
   "metadata": {},
   "source": [
    "# Maze\n",
    "\n",
    "The enderman butler needs your help getting through the maze to the emerald blocks on the other side. The lights on the wall seem to be associated with the doors in some way. Opening one seems to close the other. \n",
    "\n",
    "Create a path to the emerald blocks by using the levers. Be careful, opening one door will close the other. Then use the ``||hoc22.move enderman||`` blocks to get them through the maze to the emerald blocks. \n"
   ]
  }
 ],
 "metadata": {
  "kernelspec": {
   "display_name": "Python 3 (ipykernel)",
   "language": "python",
   "name": "python3"
  },
  "language_info": {
   "codemirror_mode": {
    "name": "ipython",
    "version": 3
   },
   "file_extension": ".py",
   "mimetype": "text/x-python",
   "name": "python",
   "nbconvert_exporter": "python",
   "pygments_lexer": "ipython3",
   "version": "3.10.7"
  },
  "minecraft": {
   "description": "HOC 2022",
   "page_id": "1.1",
   "page_name": "HOC 2022",
   "style": "minecraft.css"
  }
 },
 "nbformat": 4,
 "nbformat_minor": 5
}
