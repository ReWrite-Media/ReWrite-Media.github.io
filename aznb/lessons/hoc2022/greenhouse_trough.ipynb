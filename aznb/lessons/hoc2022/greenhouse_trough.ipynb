{
 "cells": [
  {
   "cell_type": "markdown",
   "id": "79ecde0b",
   "metadata": {},
   "source": [
    "# Trough\n",
    "\n",
    "Oh no! It looks like the water isn't getting to where we want it to go. Fill in all the holes so the water can flow correctly. Try modifying the default code before you create your own.\n",
    "\n",
    "Move the cusor using the ``||hoc22.cursor move <direction>||`` block and then use ``||hoc22.place block||`` to place a block in that position. Fill in all 6 holes that are above the black concrete to continue.\n"
   ]
  }
 ],
 "metadata": {
  "kernelspec": {
   "display_name": "Python 3 (ipykernel)",
   "language": "python",
   "name": "python3"
  },
  "language_info": {
   "codemirror_mode": {
    "name": "ipython",
    "version": 3
   },
   "file_extension": ".py",
   "mimetype": "text/x-python",
   "name": "python",
   "nbconvert_exporter": "python",
   "pygments_lexer": "ipython3",
   "version": "3.10.7"
  },
  "minecraft": {
   "description": "HOC 2022",
   "page_id": "1.1",
   "page_name": "HOC 2022",
   "style": "minecraft.css"
  }
 },
 "nbformat": 4,
 "nbformat_minor": 5
}
