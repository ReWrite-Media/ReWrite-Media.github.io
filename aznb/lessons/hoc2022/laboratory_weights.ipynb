{
 "cells": [
  {
   "cell_type": "markdown",
   "id": "bcc5bf7e",
   "metadata": {},
   "source": [
    "# Weights\n",
    "\n",
    "You need the scale to reach a weight of exactly 23lbs. Maybe there is a sign around here to tell me how much each mob weighs? \n",
    "\n",
    "Use the `||hoc22.summon <mob>||` blocks to spawn in mobs to get a total weight of 23. A chicken is 1, a sheep is 3, and a cow is 5.\n"
   ]
  }
 ],
 "metadata": {
  "kernelspec": {
   "display_name": "Python 3 (ipykernel)",
   "language": "python",
   "name": "python3"
  },
  "language_info": {
   "codemirror_mode": {
    "name": "ipython",
    "version": 3
   },
   "file_extension": ".py",
   "mimetype": "text/x-python",
   "name": "python",
   "nbconvert_exporter": "python",
   "pygments_lexer": "ipython3",
   "version": "3.10.7"
  },
  "minecraft": {
   "description": "HOC 2022",
   "page_id": "1.1",
   "page_name": "HOC 2022",
   "style": "minecraft.css"
  }
 },
 "nbformat": 4,
 "nbformat_minor": 5
}
