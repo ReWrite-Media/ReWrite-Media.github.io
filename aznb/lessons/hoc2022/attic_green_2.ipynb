{
 "cells": [
  {
   "cell_type": "markdown",
   "id": "c6a6a83c",
   "metadata": {},
   "source": [
    "# Attic Tutorial (Green Path Part 2)\n",
    "\n",
    "Now that the trapdoor is open, move the Agent up two blocks to set it free.\n",
    "\n",
    "Move the Agent up two blocks using the ``||hoc22.agent move <direction> by <number>||`` block."
   ]
  }
 ],
 "metadata": {
  "kernelspec": {
   "display_name": "Python 3 (ipykernel)",
   "language": "python",
   "name": "python3"
  },
  "language_info": {
   "codemirror_mode": {
    "name": "ipython",
    "version": 3
   },
   "file_extension": ".py",
   "mimetype": "text/x-python",
   "name": "python",
   "nbconvert_exporter": "python",
   "pygments_lexer": "ipython3",
   "version": "3.10.7"
  },
  "minecraft": {
   "description": "HOC 2022",
   "page_id": "1.1",
   "page_name": "HOC 2022",
   "style": "minecraft.css"
  }
 },
 "nbformat": 4,
 "nbformat_minor": 5
}
