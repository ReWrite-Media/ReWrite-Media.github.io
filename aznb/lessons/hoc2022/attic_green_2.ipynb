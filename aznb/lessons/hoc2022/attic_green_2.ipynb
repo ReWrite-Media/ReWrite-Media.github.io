{
 "cells": [
  {
   "cell_type": "markdown",
   "id": "c6a6a83c",
   "metadata": {},
   "source": [
    "# Attic Tutorial (Green Path Part 2)\n",
    "\n",
    "Now that the trapdoor is open, we'll need to move the Agent up two blocks to set it free. Use the `agent.move()` function to move the Agent up.\n",
    "\n",
    "The `agent.move()` function takes one parameter (a string) that defines what direction it should move in.\n",
    "\n",
    "Valid directions are: \n",
    "- `forward`\n",
    "- `back`\n",
    "- `left`\n",
    "- `right`\n",
    "- `up`\n",
    "- `down`"
   ]
  },
  {
   "cell_type": "code",
   "execution_count": null,
   "id": "1b0b31dd",
   "metadata": {
    "minecraft": {
     "closeCodeBuilderOnRun": true,
     "hidden": false,
     "onCodeCancelledCommand": "scoreboard players set @s code_status 0",
     "onCodeErrorCommand": "scoreboard players set @s code_status 0",
     "onCodeStartedCommand": "scoreboard players set @s code_status 1",
     "onCodeStoppedCommand": "scoreboard players set @s code_status 0",
     "onCodeSuccessfulCommand": "scoreboard players set @s code_status 0",
     "readonly": true
    }
   },
   "outputs": [],
   "source": [
    "# make the agent move up one block\n",
    "\n",
    "agent.move(\"up\")"
   ]
  },
  {
   "cell_type": "markdown",
   "id": "05009481",
   "metadata": {},
   "source": [
    "# Activity:\n",
    "\n",
    "Help the Agent out of the floor. Move it up two blocks to get it out.\n",
    "\n",
    "The below code is broken, can you fix it? Debug the code by running it to see what it does and then edit it so you get the desired result."
   ]
  },
  {
   "cell_type": "code",
   "execution_count": null,
   "id": "4bb06929",
   "metadata": {
    "minecraft": {
     "closeCodeBuilderOnRun": true,
     "hidden": false,
     "onCodeCancelledCommand": "scoreboard players set @s code_status 0",
     "onCodeErrorCommand": "scoreboard players set @s code_status 0",
     "onCodeStartedCommand": "scoreboard players set @s code_status 1",
     "onCodeStoppedCommand": "scoreboard players set @s code_status 0",
     "onCodeSuccessfulCommand": "scoreboard players set @s code_status 0",
     "readonly": false
    }
   },
   "outputs": [],
   "source": [
    "# code here\n",
    "\n",
    "agent.move(\"up\")"
   ]
  }
 ],
 "metadata": {
  "celltoolbar": "Edit Metadata",
  "kernelspec": {
   "display_name": "Python 3 (ipykernel)",
   "language": "python",
   "name": "python3"
  },
  "language_info": {
   "codemirror_mode": {
    "name": "ipython",
    "version": 3
   },
   "file_extension": ".py",
   "mimetype": "text/x-python",
   "name": "python",
   "nbconvert_exporter": "python",
   "pygments_lexer": "ipython3",
   "version": "3.10.7"
  },
  "minecraft": {
   "description": "HOC 2022",
   "page_id": "1.1",
   "page_name": "HOC 2022",
   "style": "minecraft.css"
  }
 },
 "nbformat": 4,
 "nbformat_minor": 5
}
