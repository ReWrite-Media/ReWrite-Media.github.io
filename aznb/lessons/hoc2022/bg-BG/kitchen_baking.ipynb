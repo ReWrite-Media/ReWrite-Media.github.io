﻿{
    "cells":  [
                  {
                      "cell_type":  "markdown",
                      "id":  "bb81fd74",
                      "metadata":  {

                                   },
                      "source":  [
                                     "# Опечете хляба\n",
                                     "\n",
                                     "Зомбито готвач има нужда от помощ с приготвянето на хляба. Използвайте функциите по-долу, за да създадете рецепта за хляб, която готвачът да следва!\n",
                                     "\n",
                                     "Има четири функции, които представляват различните стъпки в печенето на хляб.\n",
                                     "- `harvest_wheat()` ![Harvest Wheat](img/bread_wheat.png \"Ожънете пшеницата\")\n",
                                     "- `bake_bread()` ![Bake Bread](img/bread_bake.png \"Опечете хляба\")\n",
                                     "- `make_dough()` ![Make Dough](img/bread_dough.png \"Замесете тесто\")\n",
                                     "- `mill_wheat()` ![Mill Wheat](img/bread_mill.png \"Смелете пшеницата\")"
                                 ]
                  },
                  {
                      "cell_type":  "code",
                      "execution_count":  null,
                      "id":  "bc828814",
                      "metadata":  {
                                       "minecraft":  {
                                                         "closeCodeBuilderOnRun":  true,
                                                         "hidden":  false,
                                                         "onCodeCancelledCommand":  "scoreboard players set @s code_status 0",
                                                         "onCodeErrorCommand":  "scoreboard players set @s code_status 0",
                                                         "onCodeStartedCommand":  "scoreboard players set @s code_status 1",
                                                         "onCodeStoppedCommand":  "scoreboard players set @s code_status 0",
                                                         "onCodeSuccessfulCommand":  "scoreboard players set @s code_status 0",
                                                         "overridePython":  "import time\n\ntimeout = 0.100\ncommunicationPos = (0, 64, 0)\n\ntime.sleep(0.250)\n\ndef harvest_wheat():\n    world.set(communicationPos, \"orange concrete\")\n    time.sleep(timeout)         \ndef mill_wheat():\n    world.set(communicationPos, \"magenta concrete\")\n    time.sleep(timeout)         \ndef make_dough():\n    world.set(communicationPos, \"light blue concrete\")\n    time.sleep(timeout)         \ndef bake_bread():\n    world.set(communicationPos, \"yellow concrete\")\n    time.sleep(timeout) \n@user-code",
                                                         "readonly":  true
                                                     }
                                   },
                      "outputs":  [

                                  ],
                      "source":  [
                                     "–# ПРИМЕРЕН КОД – НЕ МОЖЕТЕ ДА РЕДАКТИРАТЕ ТУК\n",
                                     "# СТАРТИРАЙТЕ, ЗА ДА ВИДИТЕ КАКВО ЩЕ СЕ СЛУЧИ\n",
                                     "\n",
                                     "# примерна рецепта\n",
                                     "\n",
                                     "harvest_wheat()\n",
                                     "make_dough()\n",
                                     "bake_bread()\n",
                                     "mill_wheat()"
                                 ]
                  },
                  {
                      "cell_type":  "markdown",
                      "id":  "86bde19e",
                      "metadata":  {

                                   },
                      "source":  [
                                     "# Дейност:\n",
                                     "\n",
                                     "Готвачите винаги си пазят записани рецепти под ръка! Чудя се къде зомбито е прибрало своите? Разберете правилните стъпки, след това програмирайте рецепта, която зомбито готвач да следва!\n",
                                     "\n",
                                     "Включеният код по-долу е счупен. Можете ли да го поправите? Стартирайте кода, за да видите какво се случва, след което отстранете бъговете, като го редактирате и постигнете правилното решение."
                                 ]
                  },
                  {
                      "cell_type":  "code",
                      "execution_count":  null,
                      "id":  "b6f4bd0e",
                      "metadata":  {
                                       "minecraft":  {
                                                         "closeCodeBuilderOnRun":  true,
                                                         "hidden":  false,
                                                         "onCodeCancelledCommand":  "scoreboard players set @s code_status 0",
                                                         "onCodeErrorCommand":  "scoreboard players set @s code_status 0",
                                                         "onCodeStartedCommand":  "scoreboard players set @s code_status 1",
                                                         "onCodeStoppedCommand":  "scoreboard players set @s code_status 0",
                                                         "onCodeSuccessfulCommand":  "scoreboard players set @s code_status 0",
                                                         "overridePython":  "import time\n\ntimeout = 0.100\ncommunicationPos = (0, 64, 0)\n\ntime.sleep(0.250)\n\ndef harvest_wheat():\n    world.set(communicationPos, \"orange concrete\")\n    time.sleep(timeout)         \ndef mill_wheat():\n    world.set(communicationPos, \"magenta concrete\")\n    time.sleep(timeout)         \ndef make_dough():\n    world.set(communicationPos, \"light blue concrete\")\n    time.sleep(timeout)         \ndef bake_bread():\n    world.set(communicationPos, \"yellow concrete\")\n    time.sleep(timeout) \n@user-code",
                                                         "readonly":  false
                                                     }
                                   },
                      "outputs":  [

                                  ],
                      "source":  [
                                     "# въвеждане на код тук\n",
                                     "\n",
                                     "harvest_wheat()\n",
                                     "make_dough()\n",
                                     "bake_bread()\n",
                                     "mill_wheat()\n"
                                 ]
                  }
              ],
    "metadata":  {
                     "celltoolbar":  "Edit Metadata",
                     "kernelspec":  {
                                        "display_name":  "Python 3 (ipykernel)",
                                        "language":  "python",
                                        "name":  "python3"
                                    },
                     "language_info":  {
                                           "codemirror_mode":  {
                                                                   "name":  "ipython",
                                                                   "version":  3
                                                               },
                                           "file_extension":  ".py",
                                           "mimetype":  "text/x-python",
                                           "name":  "python",
                                           "nbconvert_exporter":  "python",
                                           "pygments_lexer":  "ipython3",
                                           "version":  "3.10.7"
                                       },
                     "minecraft":  {
                                       "description":  "ЧНК 2022",
                                       "page_id":  "1.1",
                                       "page_name":  "ЧНК 2022",
                                       "style":  "minecraft.css"
                                   }
                 },
    "nbformat":  4,
    "nbformat_minor":  5
}
