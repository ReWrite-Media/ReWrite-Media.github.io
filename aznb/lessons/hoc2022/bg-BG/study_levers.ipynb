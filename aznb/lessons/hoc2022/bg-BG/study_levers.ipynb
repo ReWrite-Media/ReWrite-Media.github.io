﻿{
    "cells":  [
                  {
                      "cell_type":  "markdown",
                      "id":  "acba1c10",
                      "metadata":  {

                                   },
                      "source":  [
                                     "# Цветни лостове\n",
                                     "\n",
                                     "Ще трябва да преместите всичките четири лоста, за да отворите вратата, но не сте достатъчно бързи да го направите ръчно. Вижте дали можете да разберете в какъв ред трябва да бъдат преместени, след което програмирайте новия си приятел Бързия офицер да го направи вместо нас! Използвайте функцията `move_knight()`, за да определите на кой цвят трябва да се премести Бързият офицер.\n",
                                     "\n",
                                     "Функцията `move_knight()` взема един параметър, който определя на кой цвят трябва да се премести.\n",
                                     "\n",
                                     "Валидни цветове са:\n",
                                     "- `blue` (cиньо) ![Blue](img/blue_carpet.png \"Синьо\")\n",
                                     "- `orange` (oранжева) ![Orange](img/orange_carpet.png \"Оранжево\")\n",
                                     "- `yellow` (жълто) ![Yellow](img/yellow_carpet.png \"Жълто\")\n",
                                     "- `magenta` (магента) ![Magenta](img/magenta_carpet.png \"Магента\")\n"
                                 ]
                  },
                  {
                      "cell_type":  "code",
                      "execution_count":  null,
                      "id":  "0335d72d",
                      "metadata":  {
                                       "minecraft":  {
                                                         "closeCodeBuilderOnRun":  true,
                                                         "hidden":  false,
                                                         "onCodeCancelledCommand":  "scoreboard players set @s code_status 0",
                                                         "onCodeErrorCommand":  "scoreboard players set @s code_status 0",
                                                         "onCodeStartedCommand":  "scoreboard players set @s code_status 1",
                                                         "onCodeStoppedCommand":  "scoreboard players set @s code_status 0",
                                                         "onCodeSuccessfulCommand":  "scoreboard players set @s code_status 0",
                                                         "overridePython":  "import time\n\ntimeout = 0.100\ncommunicationPos = (0, 64, 0)\n\ntime.sleep(0.250)\n\ndef move_knight(color):\n    if color==\"blue\":\n        world.set(communicationPos, \"light blue concrete\")\n        time.sleep(timeout) \n    elif color==\"magenta\":\n        world.set(communicationPos, \"magenta concrete\")\n        time.sleep(timeout) \n    elif color==\"yellow\":\n        world.set(communicationPos, \"yellow concrete\")\n        time.sleep(timeout) \n    elif color==\"orange\":\n        world.set(communicationPos, \"orange concrete\")\n        time.sleep(timeout) \n@user-code",
                                                         "readonly":  true
                                                     }
                                   },
                      "outputs":  [

                                  ],
                      "source":  [
                                     "# ПРИМЕРЕН КОД – НЕ МОЖЕТЕ ДА РЕДАКТИРАТЕ ТУК\n",
                                     "# ИЗПЪЛНЕТЕ ГО, ЗА ДА ВИДИТЕ КАКВО ЩЕ СЕ СЛУЧИ\n",
                                     "\n",
                                     "# преместете бронята между\n",
                                     "# различни цветове\n",
                                     "\n",
                                     "move_knight(\"blue\")\n",
                                     "move_knight(\"orange\")"
                                 ]
                  },
                  {
                      "cell_type":  "markdown",
                      "id":  "a259db5b",
                      "metadata":  {

                                   },
                      "source":  [
                                     "# Дейност:\n",
                                     "\n",
                                     "Разберете в какъв ред трябва да бъдат преместени лостовете, като обърнете специално внимание на килимите пред тях. След това преместете Бързия офицер на всеки лост в правилния ред. Бързият офицер е достатъчно умен, за да премести лоста, когато е на позиция!\n",
                                     "\n",
                                     "Кодът по-долу е счупен, можете ли да го поправите? Отстранете бъговете, като изпълните кода, за да видите какво прави, и след това го редактирайте, така че да получите желания резултат."
                                 ]
                  },
                  {
                      "cell_type":  "code",
                      "execution_count":  null,
                      "id":  "b6f4bd0e",
                      "metadata":  {
                                       "minecraft":  {
                                                         "closeCodeBuilderOnRun":  true,
                                                         "hidden":  false,
                                                         "onCodeCancelledCommand":  "scoreboard players set @s code_status 0",
                                                         "onCodeErrorCommand":  "scoreboard players set @s code_status 0",
                                                         "onCodeStartedCommand":  "scoreboard players set @s code_status 1",
                                                         "onCodeStoppedCommand":  "scoreboard players set @s code_status 0",
                                                         "onCodeSuccessfulCommand":  "scoreboard players set @s code_status 0",
                                                         "overridePython":  "import time\n\ntimeout = 0.100\ncommunicationPos = (0, 64, 0)\n\ntime.sleep(0.250)\n\ndef move_knight(color):\n    if color==\"blue\":\n        world.set(communicationPos, \"light blue concrete\")\n        time.sleep(timeout) \n    elif color==\"magenta\":\n        world.set(communicationPos, \"magenta concrete\")\n        time.sleep(timeout) \n    elif color==\"yellow\":\n        world.set(communicationPos, \"yellow concrete\")\n        time.sleep(timeout) \n    elif color==\"orange\":\n        world.set(communicationPos, \"orange concrete\")\n        time.sleep(timeout) \n@user-code",
                                                         "readonly":  false
                                                     }
                                   },
                      "outputs":  [

                                  ],
                      "source":  [
                                     "# въвеждане на код тук\n",
                                     "\n",
                                     "move_knight(\"blue\")\n",
                                     "move_knight(\"orange\")\n",
                                     "move_knight(\"yellow\")\n",
                                     "move_knight(\"magenta\")\n"
                                 ]
                  }
              ],
    "metadata":  {
                     "celltoolbar":  "Edit Metadata",
                     "kernelspec":  {
                                        "display_name":  "Python 3 (ipykernel)",
                                        "language":  "python",
                                        "name":  "python3"
                                    },
                     "language_info":  {
                                           "codemirror_mode":  {
                                                                   "name":  "ipython",
                                                                   "version":  3
                                                               },
                                           "file_extension":  ".py",
                                           "mimetype":  "text/x-python",
                                           "name":  "python",
                                           "nbconvert_exporter":  "python",
                                           "pygments_lexer":  "ipython3",
                                           "version":  "3.10.7"
                                       },
                     "minecraft":  {
                                       "description":  "ЧНК 2022",
                                       "page_id":  "1.1",
                                       "page_name":  "ЧНК 2022",
                                       "style":  "minecraft.css"
                                   }
                 },
    "nbformat":  4,
    "nbformat_minor":  5
}
