﻿{
    "cells":  [
                  {
                      "cell_type":  "markdown",
                      "id":  "07d89aae",
                      "metadata":  {

                                   },
                      "source":  [
                                     "# Смесване на отвара\n",
                                     "\n",
                                     "Като че ли можете да направите нещо тук! Може би някъде из стаята има рецепта за отвара, която може да ви помогне? Намерете рецепта, след това използвайте функцията `summon_item()`, за да призовете съставките в правилния ред и да завършите отварата!\n",
                                     "\n",
                                     "Функцията `summon_item()` взема един параметър, който определя кой предмет трябва да призове.\n",
                                     "\n",
                                     "Валидните предмети са:\n",
                                     "- `netherwart` (Пъклен полип) ![Netherwart](img/netherwart.png \"Пъклен полип\")\n",
                                     "- `fermented spider eye` (Ферментирало паешко око) ![Fermented Spider Eye](img/fermented_spider_eye.png \"Ферментирало паешко око\")\n",
                                     "- `phantom membrane` (Мембрана на фантом) ![Phantom Membrane](img/phantom_membrane.png \"Мембрана на фантом\")\n"
                                 ]
                  },
                  {
                      "cell_type":  "code",
                      "execution_count":  null,
                      "id":  "c319c10e",
                      "metadata":  {
                                       "minecraft":  {
                                                         "closeCodeBuilderOnRun":  true,
                                                         "hidden":  false,
                                                         "onCodeCancelledCommand":  "scoreboard players set @s code_status 0",
                                                         "onCodeErrorCommand":  "scoreboard players set @s code_status 0",
                                                         "onCodeStartedCommand":  "scoreboard players set @s code_status 1",
                                                         "onCodeStoppedCommand":  "scoreboard players set @s code_status 0",
                                                         "onCodeSuccessfulCommand":  "scoreboard players set @s code_status 0",
                                                         "overridePython":  "import time\n\ntimeout = 0.100\ncommunicationPos = (0, 64, 0)\n\ntime.sleep(0.250)\n\ndef summon_item(item):\n    if item==\"netherwart\":\n        world.set(communicationPos, \"orange concrete\")\n        time.sleep(timeout)         \n    elif item==\"phantom membrane\":\n        world.set(communicationPos, \"magenta concrete\")\n        time.sleep(timeout)\n    elif item==\"fermented spider eye\":\n        world.set(communicationPos, \"light blue concrete\")\n        time.sleep(timeout)\n@user-code",
                                                         "readonly":  true
                                                     }
                                   },
                      "outputs":  [

                                  ],
                      "source":  [
                                     "–# ПРИМЕРЕН КОД – НЕ МОЖЕТЕ ДА РЕДАКТИРАТЕ ТУК\n",
                                     "# СТАРТИРАЙТЕ, ЗА ДА ВИДИТЕ КАКВО ЩЕ СЕ СЛУЧИ\n",
                                     "\n",
                                     "# призовете един пъклен полип\n",
                                     "\n",
                                     "summon_item(\"netherwart\")"
                                 ]
                  },
                  {
                      "cell_type":  "markdown",
                      "id":  "6a387d30",
                      "metadata":  {

                                   },
                      "source":  [
                                     "# Дейност:\n",
                                     "\n",
                                     "Претърсете стаята, за да намерите рецептата за отвара, след което призовете съставките в правилния ред, за да ги пуснете в казаните и да направите отвара!\n",
                                     "\n",
                                     "Включеният код по-долу е счупен. Можете ли да го поправите? Стартирайте кода, за да видите какво се случва, след което отстранете бъговете, като го редактирате и постигнете правилното решение."
                                 ]
                  },
                  {
                      "cell_type":  "code",
                      "execution_count":  null,
                      "id":  "b6f4bd0e",
                      "metadata":  {
                                       "minecraft":  {
                                                         "closeCodeBuilderOnRun":  true,
                                                         "hidden":  false,
                                                         "onCodeCancelledCommand":  "scoreboard players set @s code_status 0",
                                                         "onCodeErrorCommand":  "scoreboard players set @s code_status 0",
                                                         "onCodeStartedCommand":  "scoreboard players set @s code_status 1",
                                                         "onCodeStoppedCommand":  "scoreboard players set @s code_status 0",
                                                         "onCodeSuccessfulCommand":  "scoreboard players set @s code_status 0",
                                                         "overridePython":  "import time\n\ntimeout = 0.100\ncommunicationPos = (0, 64, 0)\n\ntime.sleep(0.250)\n\ndef summon_item(item):\n    if item==\"netherwart\":\n        world.set(communicationPos, \"orange concrete\")\n        time.sleep(timeout)         \n    elif item==\"phantom membrane\":\n        world.set(communicationPos, \"magenta concrete\")\n        time.sleep(timeout)\n    elif item==\"fermented spider eye\":\n        world.set(communicationPos, \"light blue concrete\")\n        time.sleep(timeout)\n@user-code",
                                                         "readonly":  false
                                                     }
                                   },
                      "outputs":  [

                                  ],
                      "source":  [
                                     "# въвеждане на код тук\n",
                                     "\n",
                                     "summon_item(\"netherwart\")\n",
                                     "summon_item(\"phantom membrane\")"
                                 ]
                  }
              ],
    "metadata":  {
                     "celltoolbar":  "Edit Metadata",
                     "kernelspec":  {
                                        "display_name":  "Python 3 (ipykernel)",
                                        "language":  "python",
                                        "name":  "python3"
                                    },
                     "language_info":  {
                                           "codemirror_mode":  {
                                                                   "name":  "ipython",
                                                                   "version":  3
                                                               },
                                           "file_extension":  ".py",
                                           "mimetype":  "text/x-python",
                                           "name":  "python",
                                           "nbconvert_exporter":  "python",
                                           "pygments_lexer":  "ipython3",
                                           "version":  "3.10.7"
                                       },
                     "minecraft":  {
                                       "description":  "ЧНК 2022",
                                       "page_id":  "1.1",
                                       "page_name":  "ЧНК 2022",
                                       "style":  "minecraft.css"
                                   }
                 },
    "nbformat":  4,
    "nbformat_minor":  5
}
