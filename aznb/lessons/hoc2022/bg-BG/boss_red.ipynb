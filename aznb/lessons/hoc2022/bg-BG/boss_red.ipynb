﻿{
    "cells":  [
                  {
                      "cell_type":  "markdown",
                      "id":  "c96609d4",
                      "metadata":  {

                                   },
                      "source":  [
                                     "# Отворете вратите\n",
                                     "\n",
                                     "Всяка дупка представлява врата на стая в четирите ъгъла на арената за боса! Запълнете всички дупки с правилния цвят, за да отворите вратите на стаята! Използвайте функцията `move_cursor()`, за да позиционирате курсора на дадено място, след което използвайте функцията `place_block()`, за да поставите цветен блок и да запълните всяко място!\n",
                                     "\n",
                                     "Функцията `place_block()` взема един параметър, който определя цвета на блока, който искате да поставите.\n",
                                     "\n",
                                     "Валидни цветове са:\n",
                                     "- `магента`\n",
                                     "- `зелено`\n",
                                     "- `жълто`\n",
                                     "- `синьо`\n",
                                     "\n",
                                     "Функцията `move_cursor()` взема един параметър, който определя посоката ѝ. Този параметър е цветът на стрелката, която представлява посоката, накъдето искате да се придвижите.\n",
                                     "\n",
                                     "Възможните посоки са:\n",
                                     "- `orange` (придвижва курсора нагоре) ![Orange Arrow](img/orange_arrow.png \"Оранжева стрелка\")\n",
                                     "- `magenta` (придвижва курсора надолу)  ![Magenta Arrow](img/magenta_arrow.png \"Стрелка в магента\")\n",
                                     "- `blue` (придвижва курсора наляво)  ![Blue Arrow](img/blue_arrow.png \"Синя стрелка\")\n",
                                     "- `yellow` (придвижва курсора надясно)  ![Yellow Arrow](img/yellow_arrow.png \"Жълта стрелка\")\n"
                                 ]
                  },
                  {
                      "cell_type":  "code",
                      "execution_count":  null,
                      "id":  "28bedf70",
                      "metadata":  {
                                       "minecraft":  {
                                                         "closeCodeBuilderOnRun":  true,
                                                         "hidden":  false,
                                                         "onCodeCancelledCommand":  "scoreboard players set @s code_status 0",
                                                         "onCodeErrorCommand":  "scoreboard players set @s code_status 0",
                                                         "onCodeStartedCommand":  "scoreboard players set @s code_status 1",
                                                         "onCodeStoppedCommand":  "scoreboard players set @s code_status 0",
                                                         "onCodeSuccessfulCommand":  "scoreboard players set @s code_status 0",
                                                         "overridePython":  "import time\n\ntimeout = 0.100\ncommunicationPos = (0, 64, 0)\n\ntime.sleep(0.250)\n\ndef move_cursor(color):\n    if color == \"orange\":\n        world.set(communicationPos, \"orange concrete\")\n        time.sleep(timeout)\n    elif color == \"magenta\":\n        world.set(communicationPos, \"magenta concrete\")\n        time.sleep(timeout)\n    elif color == \"blue\":\n        world.set(communicationPos, \"light blue concrete\")\n        time.sleep(timeout)\n    elif color == \"yellow\":\n        world.set(communicationPos, \"yellow concrete\")\n        time.sleep(timeout)\n\ndef place_block(color):\n    if color==\"magenta\":\n        world.set(communicationPos, \"lime concrete\")\n        time.sleep(timeout)\n    elif color==\"green\":\n        world.set(communicationPos, \"pink concrete\")\n        time.sleep(timeout) \n    elif color==\"yellow\":\n        world.set(communicationPos, \"gray concrete\")\n        time.sleep(timeout)\n    elif color==\"blue\":\n        world.set(communicationPos, \"light gray concrete\")\n        time.sleep(timeout)  \n@user-code",
                                                         "readonly":  true
                                                     }
                                   },
                      "outputs":  [

                                  ],
                      "source":  [
                                     "# ПРИМЕРЕН КОД – НЕ МОЖЕТЕ ДА РЕДАКТИРАТЕ ТУК\n",
                                     "# СТАРТИРАЙТЕ, ЗА ДА ВИДИТЕ КАКВО ЩЕ СЕ СЛУЧИ\n",
                                     "\n",
                                     "# поставете зелен блок, преместете\n",
                                     "# 2 места надясно и след това поставете\n",
                                     "# син блок\n",
                                     "\n",
                                     "place_block(\"green\")\n",
                                     "move_cursor(\"yellow\")\n",
                                     "move_cursor(\"yellow\")\n",
                                     "place_block(\"blue\")"
                                 ]
                  },
                  {
                      "cell_type":  "markdown",
                      "id":  "c783d7fe",
                      "metadata":  {

                                   },
                      "source":  [
                                     "# Дейност:\n",
                                     "\n",
                                     "Поставете цветни блокове на правилните места, за да отворите вратите на стаята.\n",
                                     "\n",
                                     "Включеният код по-долу е счупен. Можете ли да го поправите? Стартирайте кода, за да видите какво се случва, след което отстранете бъговете, като го редактирате и постигнете правилното решение."
                                 ]
                  },
                  {
                      "cell_type":  "code",
                      "execution_count":  null,
                      "id":  "b6f4bd0e",
                      "metadata":  {
                                       "minecraft":  {
                                                         "closeCodeBuilderOnRun":  true,
                                                         "hidden":  false,
                                                         "onCodeCancelledCommand":  "scoreboard players set @s code_status 0",
                                                         "onCodeErrorCommand":  "scoreboard players set @s code_status 0",
                                                         "onCodeStartedCommand":  "scoreboard players set @s code_status 1",
                                                         "onCodeStoppedCommand":  "scoreboard players set @s code_status 0",
                                                         "onCodeSuccessfulCommand":  "scoreboard players set @s code_status 0",
                                                         "overridePython":  "import time\n\ntimeout = 0.100\ncommunicationPos = (0, 64, 0)\n\ntime.sleep(0.250)\n\ndef move_cursor(color):\n    if color == \"orange\":\n        world.set(communicationPos, \"orange concrete\")\n        time.sleep(timeout)\n    elif color == \"magenta\":\n        world.set(communicationPos, \"magenta concrete\")\n        time.sleep(timeout)\n    elif color == \"blue\":\n        world.set(communicationPos, \"light blue concrete\")\n        time.sleep(timeout)\n    elif color == \"yellow\":\n        world.set(communicationPos, \"yellow concrete\")\n        time.sleep(timeout)\n\ndef place_block(color):\n    if color==\"magenta\":\n        world.set(communicationPos, \"lime concrete\")\n        time.sleep(timeout)\n    elif color==\"green\":\n        world.set(communicationPos, \"pink concrete\")\n        time.sleep(timeout) \n    elif color==\"yellow\":\n        world.set(communicationPos, \"gray concrete\")\n        time.sleep(timeout)\n    elif color==\"blue\":\n        world.set(communicationPos, \"light gray concrete\")\n        time.sleep(timeout)  \n@user-code",
                                                         "readonly":  false
                                                     }
                                   },
                      "outputs":  [

                                  ],
                      "source":  [
                                     "# въвеждане на код тук\n",
                                     "\n",
                                     "place_block(\"green\")\n",
                                     "move_cursor(\"yellow\")\n",
                                     "move_cursor(\"yellow\")\n",
                                     "place_block(\"blue\")\n"
                                 ]
                  }
              ],
    "metadata":  {
                     "celltoolbar":  "Edit Metadata",
                     "kernelspec":  {
                                        "display_name":  "Python 3 (ipykernel)",
                                        "language":  "python",
                                        "name":  "python3"
                                    },
                     "language_info":  {
                                           "codemirror_mode":  {
                                                                   "name":  "ipython",
                                                                   "version":  3
                                                               },
                                           "file_extension":  ".py",
                                           "mimetype":  "text/x-python",
                                           "name":  "python",
                                           "nbconvert_exporter":  "python",
                                           "pygments_lexer":  "ipython3",
                                           "version":  "3.10.7"
                                       },
                     "minecraft":  {
                                       "description":  "ЧНК 2022",
                                       "page_id":  "1.1",
                                       "page_name":  "ЧНК 2022",
                                       "style":  "minecraft.css"
                                   }
                 },
    "nbformat":  4,
    "nbformat_minor":  5
}
