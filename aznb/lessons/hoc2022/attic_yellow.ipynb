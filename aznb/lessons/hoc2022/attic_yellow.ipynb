{
 "cells": [
  {
   "cell_type": "markdown",
   "id": "6082a739",
   "metadata": {},
   "source": [
    "# Attic Tutorial (Yellow Path)\n",
    "\n",
    "The Agent had just enough power to open the Green door. If you can figure out how to let more light in from above it, that will charge the Agent up even more. Use the `move_cursor()` function to position the cursor and then `open_trapdoor()` to open the selected trapdoor.\n",
    "\n",
    "The `move_cursor()` function takes one parameter (a string) that defines its direction. That parameter is the color of the arrow that represents the direction you want to move.\n",
    "\n",
    "Valid directions are:\n",
    "- `orange` (moves the cursor forward) ![Orange Arrow](img/orange_arrow.png \"Orange Arrow\")\n",
    "- `magenta` (moves the cursor back)  ![Magenta Arrow](img/magenta_arrow.png \"Magenta Arrow\")\n",
    "- `blue` (moves the cursor left)  ![Blue Arrow](img/blue_arrow.png \"Blue Arrow\")\n",
    "- `yellow` (moves the cursor right)  ![Yellow Arrow](img/yellow_arrow.png \"Yellow Arrow\")"
   ]
  },
  {
   "cell_type": "code",
   "execution_count": null,
   "id": "40be8d5a",
   "metadata": {
    "minecraft": {
     "closeCodeBuilderOnRun": true,
     "hidden": false,
     "onCodeCancelledCommand": "scoreboard players set @s code_status 0",
     "onCodeErrorCommand": "scoreboard players set @s code_status 0",
     "onCodeStartedCommand": "scoreboard players set @s code_status 1",
     "onCodeStoppedCommand": "scoreboard players set @s code_status 0",
     "onCodeSuccessfulCommand": "scoreboard players set @s code_status 0",
     "overridePython": "import time\n\ntimeout = 0.100\ncommunicationPos = (0, 64, 0)\n\ntime.sleep(0.250)\n\ndef move_cursor(color):\n    if color == \"orange\":\n        world.set(communicationPos, \"orange concrete\")\n        time.sleep(timeout)\n    elif color == \"magenta\":\n        world.set(communicationPos, \"magenta concrete\")\n        time.sleep(timeout)\n    elif color == \"blue\":\n        world.set(communicationPos, \"light blue concrete\")\n        time.sleep(timeout)\n    elif color == \"yellow\":\n        world.set(communicationPos, \"yellow concrete\")\n        time.sleep(timeout)\n\ndef open_trapdoor():\n    world.set(communicationPos, \"lime concrete\")\n    time.sleep(timeout) \n@user-code",
     "readonly": true
    }
   },
   "outputs": [],
   "source": [
    "# open the first trapdoor and\n",
    "# then move the Agent 4 blocks forward\n",
    "\n",
    "open_trapdoor()\n",
    "move_cursor(\"yellow\")\n",
    "move_cursor(\"yellow\")\n",
    "move_cursor(\"yellow\")\n",
    "move_cursor(\"yellow\")"
   ]
  },
  {
   "cell_type": "markdown",
   "id": "b0b57e37",
   "metadata": {},
   "source": [
    "# Pro Tip:\n",
    "\n",
    "Use a `for` loop to do one or more actions multiple times."
   ]
  },
  {
   "cell_type": "code",
   "execution_count": null,
   "id": "e38faaf6",
   "metadata": {
    "minecraft": {
     "closeCodeBuilderOnRun": true,
     "hidden": false,
     "onCodeCancelledCommand": "scoreboard players set @s code_status 0",
     "onCodeErrorCommand": "scoreboard players set @s code_status 0",
     "onCodeStartedCommand": "scoreboard players set @s code_status 1",
     "onCodeStoppedCommand": "scoreboard players set @s code_status 0",
     "onCodeSuccessfulCommand": "scoreboard players set @s code_status 0",
     "overridePython": "import time\n\ntimeout = 0.100\ncommunicationPos = (0, 64, 0)\n\ntime.sleep(0.250)\n\ndef move_cursor(color):\n    if color == \"orange\":\n        world.set(communicationPos, \"orange concrete\")\n        time.sleep(timeout)\n    elif color == \"magenta\":\n        world.set(communicationPos, \"magenta concrete\")\n        time.sleep(timeout)\n    elif color == \"blue\":\n        world.set(communicationPos, \"light blue concrete\")\n        time.sleep(timeout)\n    elif color == \"yellow\":\n        world.set(communicationPos, \"yellow concrete\")\n        time.sleep(timeout)\n\ndef open_trapdoor():\n    world.set(communicationPos, \"lime concrete\")\n    time.sleep(timeout) \n@user-code",
     "readonly": true
    }
   },
   "outputs": [],
   "source": [
    "# open the first trapdoor and\n",
    "# then move the Agent 4 blocks forward\n",
    "\n",
    "open_trapdoor()\n",
    "\n",
    "for i in range(4):\n",
    "    move_cursor(\"yellow\")"
   ]
  },
  {
   "cell_type": "markdown",
   "id": "f08f8db3",
   "metadata": {},
   "source": [
    "# Activity:\n",
    "\n",
    "We need to charge up the Agent's batteries so it could help open the yellow door. Look up to see the faint moonlight shining through the trapdoors. Write code to open up all 4 trapdoors so the Agent could charge up.\n",
    "\n",
    "The below code is broken, can you fix it? Debug the code by running it to see what it does and then edit it so you get the desired result."
   ]
  },
  {
   "cell_type": "code",
   "execution_count": null,
   "id": "b6f4bd0e",
   "metadata": {
    "minecraft": {
     "closeCodeBuilderOnRun": true,
     "hidden": false,
     "onCodeCancelledCommand": "scoreboard players set @s code_status 0",
     "onCodeErrorCommand": "scoreboard players set @s code_status 0",
     "onCodeStartedCommand": "scoreboard players set @s code_status 1",
     "onCodeStoppedCommand": "scoreboard players set @s code_status 0",
     "onCodeSuccessfulCommand": "scoreboard players set @s code_status 0",
     "overridePython": "import time\n\ntimeout = 0.100\ncommunicationPos = (0, 64, 0)\n\ntime.sleep(0.250)\n\ndef move_cursor(color):\n    if color == \"orange\":\n        world.set(communicationPos, \"orange concrete\")\n        time.sleep(timeout)\n    elif color == \"magenta\":\n        world.set(communicationPos, \"magenta concrete\")\n        time.sleep(timeout)\n    elif color == \"blue\":\n        world.set(communicationPos, \"light blue concrete\")\n        time.sleep(timeout)\n    elif color == \"yellow\":\n        world.set(communicationPos, \"yellow concrete\")\n        time.sleep(timeout)\n\ndef open_trapdoor():\n    world.set(communicationPos, \"lime concrete\")\n    time.sleep(timeout) \n@user-code",
     "readonly": false
    }
   },
   "outputs": [],
   "source": [
    "# code here\n",
    "\n",
    "open_trapdoor()\n",
    "move_cursor(\"yellow\")\n",
    "move_cursor(\"yellow\")\n",
    "move_cursor(\"orange\")\n"
   ]
  }
 ],
 "metadata": {
  "celltoolbar": "Edit Metadata",
  "kernelspec": {
   "display_name": "Python 3 (ipykernel)",
   "language": "python",
   "name": "python3"
  },
  "language_info": {
   "codemirror_mode": {
    "name": "ipython",
    "version": 3
   },
   "file_extension": ".py",
   "mimetype": "text/x-python",
   "name": "python",
   "nbconvert_exporter": "python",
   "pygments_lexer": "ipython3",
   "version": "3.10.7"
  },
  "minecraft": {
   "description": "HOC 2022",
   "page_id": "1.1",
   "page_name": "HOC 2022",
   "style": "minecraft.css"
  }
 },
 "nbformat": 4,
 "nbformat_minor": 5
}
