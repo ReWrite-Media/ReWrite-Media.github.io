{
 "cells": [
  {
   "cell_type": "markdown",
   "id": "c5e22680",
   "metadata": {},
   "source": [
    "# Laser Puzzle\n",
    "\n",
    "Solid blocks stop the laser! Shift the row of green blocks to make the laser pass through the glass blocks to turn on the light on the other side. Use the `shift_row()` function to shift the rows either left or right to enable the laser to pass through the glass blocks.\n",
    "\n",
    "The `shift_row()` function takes two parameters (strings). The first parameter defines which color row you want to shift, and the second parameter defines the direction the row should shift.\n",
    "\n",
    "Valid colors are:\n",
    "- `green` ![Green](img/green_right.png \"Green\")\n",
    "\n",
    "Valid directions are:\n",
    "- `right` ![Right](img/gray_right.png \"Right\")\n",
    "- `left` ![Left](img/gray_left.png \"Left\")"
   ]
  },
  {
   "cell_type": "code",
   "execution_count": null,
   "id": "45ae79c1",
   "metadata": {
    "minecraft": {
     "closeCodeBuilderOnRun": true,
     "hidden": false,
     "onCodeCancelledCommand": "scoreboard players set @s code_status 0",
     "onCodeErrorCommand": "scoreboard players set @s code_status 0",
     "onCodeStartedCommand": "scoreboard players set @s code_status 1",
     "onCodeStoppedCommand": "scoreboard players set @s code_status 0",
     "onCodeSuccessfulCommand": "scoreboard players set @s code_status 0",
     "overridePython": "import time\n\ntimeout = 0.100\ncommunicationPos = (0, 64, 0)\n\ntime.sleep(0.250)\n\ndef shift_row(color, direction):\n    if color==\"green\" and direction == \"left\":\n        world.set(communicationPos, \"orange concrete\")\n        time.sleep(timeout)   \n    elif color==\"green\" and direction == \"right\":\n        world.set(communicationPos, \"magenta concrete\")\n        time.sleep(timeout)                 \n@user-code",
     "readonly": true
    }
   },
   "outputs": [],
   "source": [
    "# CODE EXAMPLE - YOU CAN NOT EDIT HERE\n",
    "# RUN IT TO SEE WHAT HAPPENS\n",
    "\n",
    "# shift the green row right\n",
    "# 3 times\n",
    "\n",
    "shift_row(\"green\", \"right\")\n",
    "shift_row(\"green\", \"right\")\n",
    "shift_row(\"green\", \"right\")"
   ]
  },
  {
   "cell_type": "markdown",
   "id": "76fd662f",
   "metadata": {},
   "source": [
    "# Pro Tip:\n",
    "\n",
    "Use a `for` loop to do one or more actions multiple times."
   ]
  },
  {
   "cell_type": "code",
   "execution_count": null,
   "id": "37d767ab",
   "metadata": {
    "minecraft": {
     "closeCodeBuilderOnRun": true,
     "hidden": false,
     "onCodeCancelledCommand": "scoreboard players set @s code_status 0",
     "onCodeErrorCommand": "scoreboard players set @s code_status 0",
     "onCodeStartedCommand": "scoreboard players set @s code_status 1",
     "onCodeStoppedCommand": "scoreboard players set @s code_status 0",
     "onCodeSuccessfulCommand": "scoreboard players set @s code_status 0",
     "overridePython": "import time\n\ntimeout = 0.100\ncommunicationPos = (0, 64, 0)\n\ntime.sleep(0.250)\n\ndef shift_row(color, direction):\n    if color==\"green\" and direction == \"left\":\n        world.set(communicationPos, \"orange concrete\")\n        time.sleep(timeout)   \n    elif color==\"green\" and direction == \"right\":\n        world.set(communicationPos, \"magenta concrete\")\n        time.sleep(timeout)                 \n@user-code",
     "readonly": true
    }
   },
   "outputs": [],
   "source": [
    "# CODE EXAMPLE - YOU CAN NOT EDIT HERE\n",
    "# RUN IT TO SEE WHAT HAPPENS\n",
    "\n",
    "# shift the green row right\n",
    "# 3 times\n",
    "\n",
    "for i in range(3):\n",
    "    shift_row(\"green\", \"right\")"
   ]
  },
  {
   "cell_type": "markdown",
   "id": "cf227c68",
   "metadata": {},
   "source": [
    "# Activity:\n",
    "\n",
    "Shift the green row either left or right so the laser passes through the glass block and turns on the light.\n",
    "\n",
    "The included code below is broken. Can you fix it? Run the code to see what happens, then debug it by editing it to the correct solution."
   ]
  },
  {
   "cell_type": "code",
   "execution_count": null,
   "id": "b6f4bd0e",
   "metadata": {
    "minecraft": {
     "closeCodeBuilderOnRun": true,
     "hidden": false,
     "onCodeCancelledCommand": "scoreboard players set @s code_status 0",
     "onCodeErrorCommand": "scoreboard players set @s code_status 0",
     "onCodeStartedCommand": "scoreboard players set @s code_status 1",
     "onCodeStoppedCommand": "scoreboard players set @s code_status 0",
     "onCodeSuccessfulCommand": "scoreboard players set @s code_status 0",
     "overridePython": "import time\n\ntimeout = 0.100\ncommunicationPos = (0, 64, 0)\n\ntime.sleep(0.250)\n\ndef shift_row(color, direction):\n    if color==\"green\" and direction == \"left\":\n        world.set(communicationPos, \"orange concrete\")\n        time.sleep(timeout)   \n    elif color==\"green\" and direction == \"right\":\n        world.set(communicationPos, \"magenta concrete\")\n        time.sleep(timeout)                 \n@user-code",
     "readonly": false
    }
   },
   "outputs": [],
   "source": [
    "# code here\n",
    "\n",
    "shift_row(\"green\", \"right\")\n",
    "shift_row(\"green\", \"right\")"
   ]
  }
 ],
 "metadata": {
  "celltoolbar": "Edit Metadata",
  "kernelspec": {
   "display_name": "Python 3 (ipykernel)",
   "language": "python",
   "name": "python3"
  },
  "language_info": {
   "codemirror_mode": {
    "name": "ipython",
    "version": 3
   },
   "file_extension": ".py",
   "mimetype": "text/x-python",
   "name": "python",
   "nbconvert_exporter": "python",
   "pygments_lexer": "ipython3",
   "version": "3.10.7"
  },
  "minecraft": {
   "description": "HOC 2022",
   "page_id": "1.1",
   "page_name": "HOC 2022",
   "style": "minecraft.css"
  }
 },
 "nbformat": 4,
 "nbformat_minor": 5
}
