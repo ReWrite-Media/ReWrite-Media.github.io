{
 "cells": [
  {
   "cell_type": "markdown",
   "id": "c5e22680",
   "metadata": {},
   "source": [
    "# Laser Puzzle\n",
    "\n",
    "Solid blocks stop the laser! Shift the row of green blocks to make the laser pass-through the glass blocks and turn on the light at the other side. \n",
    "\n",
    "Use the ``||hoc22.shift||`` blocks to select which row you want to move, and the direction it should move in. The block at the end of the row you are shifting will get bumped to the other side.\n"
   ]
  },
  {
   "cell_type": "code",
   "execution_count": null,
   "id": "b6f4bd0e",
   "metadata": {
    "minecraft": {
     "closeCodeBuilderOnRun": true,
     "hidden": false,
     "overridePython": "import time\n\ntimeout = 0.100\ncommunicationPos = (0, 64, 0)\n\ntime.sleep(0.250)\n\ndef shift_row(color, direction):\n    if color==\"green\" & direction == \"left\":\n        world.set(communicationPos, \"orange concrete\")\n        time.sleep(timeout)   \n    elif color==\"green\" & direction == \"right\":\n        world.set(communicationPos, \"magenta concrete\")\n        time.sleep(timeout)                 \n\n@user-code",
     "readonly": false
    }
   },
   "outputs": [],
   "source": [
    "shift_row(\"green\", \"right\")\n",
    "shift_row(\"green\", \"right\")\n"
   ]
  }
 ],
 "metadata": {
  "kernelspec": {
   "display_name": "Python 3 (ipykernel)",
   "language": "python",
   "name": "python3"
  },
  "language_info": {
   "codemirror_mode": {
    "name": "ipython",
    "version": 3
   },
   "file_extension": ".py",
   "mimetype": "text/x-python",
   "name": "python",
   "nbconvert_exporter": "python",
   "pygments_lexer": "ipython3",
   "version": "3.10.7"
  },
  "minecraft": {
   "description": "HOC 2022",
   "page_id": "1.1",
   "page_name": "HOC 2022",
   "style": "minecraft.css"
  }
 },
 "nbformat": 4,
 "nbformat_minor": 5
}
