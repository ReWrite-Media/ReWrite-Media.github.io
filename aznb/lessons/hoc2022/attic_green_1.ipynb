{
 "cells": [
  {
   "cell_type": "markdown",
   "id": "81ae62a5",
   "metadata": {},
   "source": [
    "# Attic Tutorial (Green Path Part 1) (UPDATE)\n",
    "\n",
    "The box with the orange arrow on the floor is your cursor. You'll use it throughout the house to minipulate blocks. In this activity we'll use it to open the trap door and release the Agent. (Interact with the lightbulb for more help)\n",
    "\n",
    "Move the cursor three blocks forward using the ``||hoc22.cursor move||`` block and then use the ``||hoc22.open trapdoor||`` block to release the Agent."
   ]
  },
  {
   "cell_type": "code",
   "execution_count": null,
   "id": "b6f4bd0e",
   "metadata": {
    "minecraft": {
     "closeCodeBuilderOnRun": true,
     "hidden": false,
     "overridePython": "import time\n\ntimeout = 0.100\ncommunicationPos = (0, 64, 0)\n\ndef moveCursorOrangeDirection(num):\n    for x in range(num):\n        world.set(communicationPos, \"orange concrete\")\n        time.sleep(timeout)\n\ndef openTrapdoor():\n    world.set(communicationPos, \"lime concrete\")\n    time.sleep(timeout)    \n\n@user-code",
     "readonly": false
    }
   },
   "outputs": [],
   "source": [
    "moveCursorOrangeDirection(2)\n",
    "openTrapdoor()\n"
   ]
  }
],
"metadata": {
 "kernelspec": {
  "display_name": "Python 3 (ipykernel)",
  "language": "python",
  "name": "python3"
 },
 "language_info": {
  "codemirror_mode": {
   "name": "ipython",
   "version": 3
  },
  "file_extension": ".py",
  "mimetype": "text/x-python",
  "name": "python",
  "nbconvert_exporter": "python",
  "pygments_lexer": "ipython3",
  "version": "3.10.7"
 },
 "minecraft": {
  "description": "HOC 2022",
  "page_id": "1.1",
  "page_name": "HOC 2022",
  "style": "minecraft.css"
 }
},
"nbformat": 4,
"nbformat_minor": 5
}
