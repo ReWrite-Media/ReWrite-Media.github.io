{
 "cells": [
  {
   "cell_type": "markdown",
   "id": "81ae62a5",
   "metadata": {},
   "source": [
    "# Attic Tutorial (Green Path Part 1)\n",
    "\n",
    "The box with the orange arrow on the floor is your cursor. You'll use it throughout the house to minipulate blocks. In this activity we'll use it to open the trap door and release the Agent. (Interact with the lightbulb for more help)\n",
    "\n",
    "Move the cursor three blocks forward using the ``||hoc22.cursor move||`` block and then use the ``||hoc22.open trapdoor||`` block to release the Agent."
   ]
  }
 ],
 "metadata": {
  "kernelspec": {
   "display_name": "Python 3 (ipykernel)",
   "language": "python",
   "name": "python3"
  },
  "language_info": {
   "codemirror_mode": {
    "name": "ipython",
    "version": 3
   },
   "file_extension": ".py",
   "mimetype": "text/x-python",
   "name": "python",
   "nbconvert_exporter": "python",
   "pygments_lexer": "ipython3",
   "version": "3.10.7"
  },
  "minecraft": {
   "description": "HOC 2022",
   "page_id": "1.1",
   "page_name": "HOC 2022",
   "style": "minecraft.css"
  }
 },
 "nbformat": 4,
 "nbformat_minor": 5
}
