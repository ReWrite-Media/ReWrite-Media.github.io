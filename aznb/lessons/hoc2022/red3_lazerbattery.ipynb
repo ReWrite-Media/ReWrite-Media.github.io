{
 "cells": [
  {
   "cell_type": "markdown",
   "id": "0c1bf47c",
   "metadata": {},
   "source": [
    "# Laser Reveal\n",
    "\n",
    "Fill in all the holes in the floor with the cursor to open the red curtain.\n",
    "\n",
    "Fill all the holes in the floor by using the ``||hoc22.cursor move||`` block to position the cursor and ``||hoc22.place block||`` to fill in the holes.\n"
   ]
  },
  {
   "cell_type": "code",
   "execution_count": null,
   "id": "b6f4bd0e",
   "metadata": {
    "minecraft": {
     "closeCodeBuilderOnRun": true,
     "hidden": false,
     "overridePython": "import time\n\ntimeout = 0.100\ncommunicationPos = (0, 64, 0)\n\ntime.sleep(0.250)\n\ndef move_enderman_direction(direction):\n    if direction==\"forward\":\n        world.set(communicationPos, \"orange concrete\")\n        time.sleep(timeout) \n    elif direction==\"back\":\n        world.set(communicationPos, \"magenta concrete\")\n        time.sleep(timeout) \n    elif direction==\"left\":\n        world.set(communicationPos, \"light blue concrete\")\n        time.sleep(timeout) \n    elif direction==\"right\":\n        world.set(communicationPos, \"yellow concrete\")\n        time.sleep(timeout) \n            \n@user-code",
     "readonly": false
    }
   },
   "outputs": [],
   "source": [
    "place_block()\n",
    "move_cursor(\"orange\")\n",
    "move_cursor(\"orange\")\n",
    "move_cursor(\"orange\")\n",
    "place_block()\n",
    "move_cursor(\"yellow\")\n",
    "move_cursor(\"yellow\")\n",
    "move_cursor(\"yellow\")\n",
    "move_cursor(\"yellow\")\n",
    "move_cursor(\"yellow\")\n"

   ]
  }
 ],
 "metadata": {
  "kernelspec": {
   "display_name": "Python 3 (ipykernel)",
   "language": "python",
   "name": "python3"
  },
  "language_info": {
   "codemirror_mode": {
    "name": "ipython",
    "version": 3
   },
   "file_extension": ".py",
   "mimetype": "text/x-python",
   "name": "python",
   "nbconvert_exporter": "python",
   "pygments_lexer": "ipython3",
   "version": "3.10.7"
  },
  "minecraft": {
   "description": "HOC 2022",
   "page_id": "1.1",
   "page_name": "HOC 2022",
   "style": "minecraft.css"
  }
 },
 "nbformat": 4,
 "nbformat_minor": 5
}
