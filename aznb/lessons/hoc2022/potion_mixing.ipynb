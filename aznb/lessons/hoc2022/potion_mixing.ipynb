{
 "cells": [
  {
   "cell_type": "markdown",
   "id": "07d89aae",
   "metadata": {},
   "source": [
    "# Potion Mixing\n",
    "\n",
    "This looks like I can make something! Maybe there is an ingredients list somewhere in this room that can help me?\n",
    "\n",
    "You'll need one ``||hoc22.Nether Wart||``, ``||hoc22.Phantom Membrane||``, and ``||hoc22.Fermented Spider Eye||``. Locate the order that the ingredients need to be added and then knock them into the correct hole. Use the wooden sword to knock the ingredients into the hole.  \n"
   ]
  }
 ],
 "metadata": {
  "kernelspec": {
   "display_name": "Python 3 (ipykernel)",
   "language": "python",
   "name": "python3"
  },
  "language_info": {
   "codemirror_mode": {
    "name": "ipython",
    "version": 3
   },
   "file_extension": ".py",
   "mimetype": "text/x-python",
   "name": "python",
   "nbconvert_exporter": "python",
   "pygments_lexer": "ipython3",
   "version": "3.10.7"
  },
  "minecraft": {
   "description": "HOC 2022",
   "page_id": "1.1",
   "page_name": "HOC 2022",
   "style": "minecraft.css"
  }
 },
 "nbformat": 4,
 "nbformat_minor": 5
}
