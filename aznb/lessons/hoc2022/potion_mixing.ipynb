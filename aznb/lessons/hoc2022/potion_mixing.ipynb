{
 "cells": [
  {
   "cell_type": "markdown",
   "id": "07d89aae",
   "metadata": {},
   "source": [
    "# Potion Mixing\n",
    "\n",
    "This looks like I can make something! Maybe there is an ingredients list somewhere in this room that can help me? Use the `summon_item()` function to summon the ingridents in the right order and hit them into the correct cauldron using the wooden sword.\n",
    "\n",
    "The `summon_item()` function takes one parameter to define which item it should summon.\n",
    "\n",
    "Valid items are:\n",
    "- `netherwart` ![Netherwart](img/netherwart.png \"Netherwart\")\n",
    "- `fermented spider eye` ![Fermented Spider Eye](img/fermented_spider_eye.png \"Fermented Spider Eye\")\n",
    "- `phantom membrane` ![Phantom Membrane](img/phantom_membrane.png \"Phantom Membrane\")\n"
   ]
  },
  {
   "cell_type": "code",
   "execution_count": null,
   "id": "c319c10e",
   "metadata": {
    "minecraft": {
     "closeCodeBuilderOnRun": true,
     "hidden": false,
     "onCodeCancelledCommand": "scoreboard players set @s code_status 0",
     "onCodeErrorCommand": "scoreboard players set @s code_status 0",
     "onCodeStartedCommand": "scoreboard players set @s code_status 1",
     "onCodeStoppedCommand": "scoreboard players set @s code_status 0",
     "onCodeSuccessfulCommand": "scoreboard players set @s code_status 0",
     "overridePython": "import time\n\ntimeout = 0.100\ncommunicationPos = (0, 64, 0)\n\ntime.sleep(0.250)\n\ndef summon_item(item):\n    if item==\"netherwart\":\n        world.set(communicationPos, \"orange concrete\")\n        time.sleep(timeout)         \n    elif item==\"phantom membrane\":\n        world.set(communicationPos, \"magenta concrete\")\n        time.sleep(timeout)\n    elif item==\"fermented spider eye\":\n        world.set(communicationPos, \"light blue concrete\")\n        time.sleep(timeout)\n@user-code",
     "readonly": true
    }
   },
   "outputs": [],
   "source": [
    "# summon one netherwart\n",
    "\n",
    "summon_item(\"netherwart\")"
   ]
  },
  {
   "cell_type": "markdown",
   "id": "6a387d30",
   "metadata": {},
   "source": [
    "# Activity:\n",
    "\n",
    "Search the room to find the ingredient list, and then summon the ingredients and hit them into the correct cauldrons.\n",
    "\n",
    "The below code is broken, can you fix it? Debug the code by running it to see what it does and then edit it so you get the desired result."
   ]
  },
  {
   "cell_type": "code",
   "execution_count": null,
   "id": "b6f4bd0e",
   "metadata": {
    "minecraft": {
     "closeCodeBuilderOnRun": true,
     "hidden": false,
     "onCodeCancelledCommand": "scoreboard players set @s code_status 0",
     "onCodeErrorCommand": "scoreboard players set @s code_status 0",
     "onCodeStartedCommand": "scoreboard players set @s code_status 1",
     "onCodeStoppedCommand": "scoreboard players set @s code_status 0",
     "onCodeSuccessfulCommand": "scoreboard players set @s code_status 0",
     "overridePython": "import time\n\ntimeout = 0.100\ncommunicationPos = (0, 64, 0)\n\ntime.sleep(0.250)\n\ndef summon_item(item):\n    if item==\"netherwart\":\n        world.set(communicationPos, \"orange concrete\")\n        time.sleep(timeout)         \n    elif item==\"phantom membrane\":\n        world.set(communicationPos, \"magenta concrete\")\n        time.sleep(timeout)\n    elif item==\"fermented spider eye\":\n        world.set(communicationPos, \"light blue concrete\")\n        time.sleep(timeout)\n@user-code",
     "readonly": false
    }
   },
   "outputs": [],
   "source": [
    "# code here\n",
    "\n",
    "summon_item(\"netherwart\")\n",
    "summon_item(\"phantom membrane\")"
   ]
  }
 ],
 "metadata": {
  "celltoolbar": "Edit Metadata",
  "kernelspec": {
   "display_name": "Python 3 (ipykernel)",
   "language": "python",
   "name": "python3"
  },
  "language_info": {
   "codemirror_mode": {
    "name": "ipython",
    "version": 3
   },
   "file_extension": ".py",
   "mimetype": "text/x-python",
   "name": "python",
   "nbconvert_exporter": "python",
   "pygments_lexer": "ipython3",
   "version": "3.10.7"
  },
  "minecraft": {
   "description": "HOC 2022",
   "page_id": "1.1",
   "page_name": "HOC 2022",
   "style": "minecraft.css"
  }
 },
 "nbformat": 4,
 "nbformat_minor": 5
}
