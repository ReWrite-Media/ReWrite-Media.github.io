{
 "cells": [
  {
   "cell_type": "markdown",
   "id": "6d4701be",
   "metadata": {},
   "source": [
    "# Cracked Wall\n",
    "\n",
    "We need more water! It looks like you can use the cursor to break the blocks that are dripping water to get the water flowing. Use the `move_cursor()` function to position the cursor over a block dripping water, and then `break_block()` to break it and let the water flow.\n",
    "\n",
    "The `move_cursor()` function takes one parameter (a string) that defines its direction. That parameter is the color of the arrow that represents the direction you want to move.\n",
    "\n",
    "Valid directions are:\n",
    "- `orange` (moves the cursor up)\n",
    "- `magenta` (moves the cursor down)\n",
    "- `blue` (moves the cursor left)\n",
    "- `yellow` (moves the cursor right)\n"
   ]
  },
  {
   "cell_type": "code",
   "execution_count": null,
   "id": "eb95dd59",
   "metadata": {
    "minecraft": {
     "closeCodeBuilderOnRun": true,
     "hidden": false,
     "onCodeCancelledCommand": "scoreboard players set @s code_status 0",
     "onCodeErrorCommand": "scoreboard players set @s code_status 0",
     "onCodeStartedCommand": "scoreboard players set @s code_status 1",
     "onCodeStoppedCommand": "scoreboard players set @s code_status 0",
     "onCodeSuccessfulCommand": "scoreboard players set @s code_status 0",
     "overridePython": "import time\n\ntimeout = 0.100\ncommunicationPos = (0, 64, 0)\n\ntime.sleep(0.250)\n\ndef move_cursor(color):\n    if color == \"orange\":\n        world.set(communicationPos, \"orange concrete\")\n        time.sleep(timeout)\n    elif color == \"magenta\":\n        world.set(communicationPos, \"magenta concrete\")\n        time.sleep(timeout)\n    elif color == \"blue\":\n        world.set(communicationPos, \"light blue concrete\")\n        time.sleep(timeout)\n    elif color == \"yellow\":\n        world.set(communicationPos, \"yellow concrete\")\n        time.sleep(timeout)\n\ndef break_block():\n    world.set(communicationPos, \"lime concrete\")\n    time.sleep(timeout)   \n@user-code",
     "readonly": true
    }
   },
   "outputs": [],
   "source": [
    "# move the cursor down and break the block\n",
    "# and then move 4 blocks to the right\n",
    "\n",
    "move_cursor(\"magenta\")\n",
    "break_block()\n",
    "move_cursor(\"yellow\")\n",
    "move_cursor(\"yellow\")\n",
    "move_cursor(\"yellow\")\n",
    "move_cursor(\"yellow\")"
   ]
  },
  {
   "cell_type": "markdown",
   "id": "bc688189",
   "metadata": {},
   "source": [
    "# Pro Tip:\n",
    "\n",
    "Use a `for` loop to do one or more actions multiple times."
   ]
  },
  {
   "cell_type": "code",
   "execution_count": null,
   "id": "717a2652",
   "metadata": {
    "minecraft": {
     "closeCodeBuilderOnRun": true,
     "hidden": false,
     "onCodeCancelledCommand": "scoreboard players set @s code_status 0",
     "onCodeErrorCommand": "scoreboard players set @s code_status 0",
     "onCodeStartedCommand": "scoreboard players set @s code_status 1",
     "onCodeStoppedCommand": "scoreboard players set @s code_status 0",
     "onCodeSuccessfulCommand": "scoreboard players set @s code_status 0",
     "overridePython": "import time\n\ntimeout = 0.100\ncommunicationPos = (0, 64, 0)\n\ntime.sleep(0.250)\n\ndef move_cursor(color):\n    if color == \"orange\":\n        world.set(communicationPos, \"orange concrete\")\n        time.sleep(timeout)\n    elif color == \"magenta\":\n        world.set(communicationPos, \"magenta concrete\")\n        time.sleep(timeout)\n    elif color == \"blue\":\n        world.set(communicationPos, \"light blue concrete\")\n        time.sleep(timeout)\n    elif color == \"yellow\":\n        world.set(communicationPos, \"yellow concrete\")\n        time.sleep(timeout)\n\ndef break_block():\n    world.set(communicationPos, \"lime concrete\")\n    time.sleep(timeout)   \n@user-code",
     "readonly": true
    }
   },
   "outputs": [],
   "source": [
    "# move the cursor down and break the block\n",
    "# and then move 4 blocks to the right\n",
    "\n",
    "move_cursor(\"magenta\")\n",
    "break_block()\n",
    "\n",
    "for i in range(4):\n",
    "    move_cursor(\"yellow\")"
   ]
  },
  {
   "cell_type": "markdown",
   "id": "2bf7ceb6",
   "metadata": {},
   "source": [
    "# Activity:\n",
    "\n",
    "Break all the blocks dripping water to get the water flowing.\n",
    "\n",
    "The below code is broken, can you fix it? Debug the code by running it to see what it does and then edit it so you get the desired result."
   ]
  },
  {
   "cell_type": "code",
   "execution_count": null,
   "id": "b6f4bd0e",
   "metadata": {
    "minecraft": {
     "closeCodeBuilderOnRun": true,
     "hidden": false,
     "onCodeCancelledCommand": "scoreboard players set @s code_status 0",
     "onCodeErrorCommand": "scoreboard players set @s code_status 0",
     "onCodeStartedCommand": "scoreboard players set @s code_status 1",
     "onCodeStoppedCommand": "scoreboard players set @s code_status 0",
     "onCodeSuccessfulCommand": "scoreboard players set @s code_status 0",
     "overridePython": "import time\n\ntimeout = 0.100\ncommunicationPos = (0, 64, 0)\n\ntime.sleep(0.250)\n\ndef move_cursor(color):\n    if color == \"orange\":\n        world.set(communicationPos, \"orange concrete\")\n        time.sleep(timeout)\n    elif color == \"magenta\":\n        world.set(communicationPos, \"magenta concrete\")\n        time.sleep(timeout)\n    elif color == \"blue\":\n        world.set(communicationPos, \"light blue concrete\")\n        time.sleep(timeout)\n    elif color == \"yellow\":\n        world.set(communicationPos, \"yellow concrete\")\n        time.sleep(timeout)\n\ndef break_block():\n    world.set(communicationPos, \"lime concrete\")\n    time.sleep(timeout)   \n@user-code",
     "readonly": false
    }
   },
   "outputs": [],
   "source": [
    "# code here\n",
    "\n",
    "move_cursor(\"magenta\")\n",
    "break_block()\n",
    "move_cursor(\"yellow\")\n",
    "move_cursor(\"yellow\")\n",
    "break_block()"
   ]
  }
 ],
 "metadata": {
  "celltoolbar": "Edit Metadata",
  "kernelspec": {
   "display_name": "Python 3 (ipykernel)",
   "language": "python",
   "name": "python3"
  },
  "language_info": {
   "codemirror_mode": {
    "name": "ipython",
    "version": 3
   },
   "file_extension": ".py",
   "mimetype": "text/x-python",
   "name": "python",
   "nbconvert_exporter": "python",
   "pygments_lexer": "ipython3",
   "version": "3.10.7"
  },
  "minecraft": {
   "description": "HOC 2022",
   "page_id": "1.1",
   "page_name": "HOC 2022",
   "style": "minecraft.css"
  }
 },
 "nbformat": 4,
 "nbformat_minor": 5
}
