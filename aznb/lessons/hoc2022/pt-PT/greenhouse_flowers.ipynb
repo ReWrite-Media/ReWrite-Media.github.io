﻿{
    "cells":  [
                  {
                      "cell_type":  "markdown",
                      "id":  "44001b61",
                      "metadata":  {

                                   },
                      "source":  [
                                     "# Plantação de Flores\n",
                                     "\n",
                                     "Estas flores têm um padrão. Descobre o padrão e planta as flores na terra desocupada utilizando \"move_cursor()\" para posicionar o cursor e \"plant_flower()\" para plantar uma flor.\n",
                                     "\n",
                                     "A função \"move_cursor()\" usa um parâmetro para definir a sua direção. Este parâmetro é a cor da seta que representa a direção pretendida.\n",
                                     "\n",
                                     "As direções válidas são:\n",
                                     "- `orange` (move o cursor para a frente) ![Seta Laranja](img/orange_arrow.png \"Seta Laranja\")\n",
                                     "- `magenta` (move o cursor para trás) ![Seta Magenta](img/magenta_arrow.png \"Seta Magenta\")\n",
                                     "- `blue` (move o cursor para a esquerda) ![Seta Azul](img/blue_arrow.png \"Seta Azul\")\n",
                                     "- `yellow` (move o cursor para a direita) ![Seta Amarela](img/yellow_arrow.png \"Seta Amarela\")\n",
                                     "\n",
                                     "A função \"plant_flower()\" usa um parâmetro para definir que tipo de flor deve ser plantado.\n",
                                     "\n",
                                     "As flores válidas são:\n",
                                     "- `blue` (azul) ![Flor Azul](img/blue_flower.png \"Flor Azul\")\n",
                                     "- `yellow` (amarelo) ![Flor Amarela](img/yellow_flower.png \"Flor Amarela\")\n",
                                     "- `red` (vermelho) ![Flor Vermelha](img/red_flower.png \"Flor Vermelha\") "
                                 ]
                  },
                  {
                      "cell_type":  "code",
                      "execution_count":  null,
                      "id":  "1c8f47ac",
                      "metadata":  {
                                       "minecraft":  {
                                                         "closeCodeBuilderOnRun":  true,
                                                         "hidden":  false,
                                                         "onCodeCancelledCommand":  "scoreboard players set @s code_status 0",
                                                         "onCodeErrorCommand":  "scoreboard players set @s code_status 0",
                                                         "onCodeStartedCommand":  "scoreboard players set @s code_status 1",
                                                         "onCodeStoppedCommand":  "scoreboard players set @s code_status 0",
                                                         "onCodeSuccessfulCommand":  "scoreboard players set @s code_status 0",
                                                         "overridePython":  "import time\n\ntimeout = 0.100\ncommunicationPos = (0, 64, 0)\n\ntime.sleep(0.250)\n\ndef move_cursor(color):\n    if color == \"orange\":\n        world.set(communicationPos, \"orange concrete\")\n        time.sleep(timeout)\n    elif color == \"magenta\":\n        world.set(communicationPos, \"magenta concrete\")\n        time.sleep(timeout)\n    elif color == \"blue\":\n        world.set(communicationPos, \"light blue concrete\")\n        time.sleep(timeout)\n    elif color == \"yellow\":\n        world.set(communicationPos, \"yellow concrete\")\n        time.sleep(timeout)\n\ndef plant_flower(color):\n    if color==\"red\":\n        world.set(communicationPos, \"lime concrete\")\n        time.sleep(timeout)         \n    elif color==\"yellow\":\n        world.set(communicationPos, \"pink concrete\")\n        time.sleep(timeout)\n    elif color==\"blue\":\n        world.set(communicationPos, \"gray concrete\")\n        time.sleep(timeout)\n@user-code",
                                                         "readonly":  true
                                                     }
                                   },
                      "outputs":  [

                                  ],
                      "source":  [
                                     "# EXEMPLO DE CÓDIGO - NÃO PODES EDITAR AQUI\n",
                                     "# EXECUTA-O PARA VER O QUE ACONTECE\n",
                                     "\n",
                                     "# move para a direita e planta uma flor azul\n",
                                     "# cinco vezes, depois retrocede um e\n",
                                     "# planta uma flor vermelha\n",
                                     "\n",
                                     "plant_flower(\"blue\")\n",
                                     "move_cursor(\"yellow\")\n",
                                     "plant_flower(\"blue\")\n",
                                     "move_cursor(\"yellow\")\n",
                                     "plant_flower(\"blue\")\n",
                                     "move_cursor(\"yellow\")\n",
                                     "plant_flower(\"blue\")\n",
                                     "move_cursor(\"yellow\")\n",
                                     "plant_flower(\"blue\")\n",
                                     "move_cursor(\"yellow\")\n",
                                     "move_cursor(\"magenta\")\n",
                                     "plant_flower(\"red\")"
                                 ]
                  },
                  {
                      "cell_type":  "markdown",
                      "id":  "7bf72b7f",
                      "metadata":  {

                                   },
                      "source":  [
                                     "# Dica Pro:\n",
                                     "\n",
                                     "Utiliza um loop \"for\" para fazer uma ou mais ações várias vezes."
                                 ]
                  },
                  {
                      "cell_type":  "code",
                      "execution_count":  null,
                      "id":  "db97ed1f",
                      "metadata":  {
                                       "minecraft":  {
                                                         "closeCodeBuilderOnRun":  true,
                                                         "hidden":  false,
                                                         "onCodeCancelledCommand":  "scoreboard players set @s code_status 0",
                                                         "onCodeErrorCommand":  "scoreboard players set @s code_status 0",
                                                         "onCodeStartedCommand":  "scoreboard players set @s code_status 1",
                                                         "onCodeStoppedCommand":  "scoreboard players set @s code_status 0",
                                                         "onCodeSuccessfulCommand":  "scoreboard players set @s code_status 0",
                                                         "overridePython":  "import time\n\ntimeout = 0.100\ncommunicationPos = (0, 64, 0)\n\ntime.sleep(0.250)\n\ndef move_cursor(color):\n    if color == \"orange\":\n        world.set(communicationPos, \"orange concrete\")\n        time.sleep(timeout)\n    elif color == \"magenta\":\n        world.set(communicationPos, \"magenta concrete\")\n        time.sleep(timeout)\n    elif color == \"blue\":\n        world.set(communicationPos, \"light blue concrete\")\n        time.sleep(timeout)\n    elif color == \"yellow\":\n        world.set(communicationPos, \"yellow concrete\")\n        time.sleep(timeout)\n\ndef plant_flower(color):\n    if color==\"red\":\n        world.set(communicationPos, \"lime concrete\")\n        time.sleep(timeout)         \n    elif color==\"yellow\":\n        world.set(communicationPos, \"pink concrete\")\n        time.sleep(timeout)\n    elif color==\"blue\":\n        world.set(communicationPos, \"gray concrete\")\n        time.sleep(timeout)\n@user-code",
                                                         "readonly":  true
                                                     }
                                   },
                      "outputs":  [

                                  ],
                      "source":  [
                                     "# EXEMPLO DE CÓDIGO - NÃO PODES EDITAR AQUI\n",
                                     "# EXECUTA-O PARA VER O QUE ACONTECE\n",
                                     "\n",
                                     "# move para a direita e planta uma flor azul\n",
                                     "# cinco vezes, depois retrocede um e\n",
                                     "# planta uma flor vermelha\n",
                                     "\n",
                                     "for i in range(5):\n",
                                     "    plant_flower(\"blue\")\n",
                                     "    move_cursor(\"yellow\")\n",
                                     "\n",
                                     "move_cursor(\"magenta\")\n",
                                     "plant_flower(\"red\")"
                                 ]
                  },
                  {
                      "cell_type":  "markdown",
                      "id":  "b2b2cb43",
                      "metadata":  {

                                   },
                      "source":  [
                                     "# Atividade:\n",
                                     "\n",
                                     "Os canteiros de flores dos lados parecem ter um padrão! Deve ser uma pista sobre como preencher o canteiro maior no meio!\n",
                                     "\n",
                                     "O código incluído abaixo não funciona. Consegues corrigi-lo? Executa o código para ver o que acontece, depois depura-o editando-o para chegares à solução correta."
                                 ]
                  },
                  {
                      "cell_type":  "code",
                      "execution_count":  null,
                      "id":  "b6f4bd0e",
                      "metadata":  {
                                       "minecraft":  {
                                                         "closeCodeBuilderOnRun":  true,
                                                         "hidden":  false,
                                                         "onCodeCancelledCommand":  "scoreboard players set @s code_status 0",
                                                         "onCodeErrorCommand":  "scoreboard players set @s code_status 0",
                                                         "onCodeStartedCommand":  "scoreboard players set @s code_status 1",
                                                         "onCodeStoppedCommand":  "scoreboard players set @s code_status 0",
                                                         "onCodeSuccessfulCommand":  "scoreboard players set @s code_status 0",
                                                         "overridePython":  "import time\n\ntimeout = 0.100\ncommunicationPos = (0, 64, 0)\n\ntime.sleep(0.250)\n\ndef move_cursor(color):\n    if color == \"orange\":\n        world.set(communicationPos, \"orange concrete\")\n        time.sleep(timeout)\n    elif color == \"magenta\":\n        world.set(communicationPos, \"magenta concrete\")\n        time.sleep(timeout)\n    elif color == \"blue\":\n        world.set(communicationPos, \"light blue concrete\")\n        time.sleep(timeout)\n    elif color == \"yellow\":\n        world.set(communicationPos, \"yellow concrete\")\n        time.sleep(timeout)\n\ndef plant_flower(color):\n    if color==\"red\":\n        world.set(communicationPos, \"lime concrete\")\n        time.sleep(timeout)         \n    elif color==\"yellow\":\n        world.set(communicationPos, \"pink concrete\")\n        time.sleep(timeout)\n    elif color==\"blue\":\n        world.set(communicationPos, \"gray concrete\")\n        time.sleep(timeout)\n@user-code",
                                                         "readonly":  false
                                                     }
                                   },
                      "outputs":  [

                                  ],
                      "source":  [
                                     "# código aqui\n",
                                     "\n",
                                     "plant_flower(\"blue\")\n",
                                     "move_cursor(\"yellow\")\n",
                                     "move_cursor(\"yellow\")\n",
                                     "move_cursor(\"yellow\")\n",
                                     "move_cursor(\"magenta\")\n",
                                     "plant_flower(\"yellow\")\n",
                                     "move_cursor(\"blue\")\n",
                                     "move_cursor(\"magenta\")\n",
                                     "plant_flower(\"red\")\n"
                                 ]
                  }
              ],
    "metadata":  {
                     "celltoolbar":  "Edit Metadata",
                     "kernelspec":  {
                                        "display_name":  "Python 3 (ipykernel)",
                                        "language":  "python",
                                        "name":  "python3"
                                    },
                     "language_info":  {
                                           "codemirror_mode":  {
                                                                   "name":  "ipython",
                                                                   "version":  3
                                                               },
                                           "file_extension":  ".py",
                                           "mimetype":  "text/x-python",
                                           "name":  "python",
                                           "nbconvert_exporter":  "python",
                                           "pygments_lexer":  "ipython3",
                                           "version":  "3.10.7"
                                       },
                     "minecraft":  {
                                       "description":  "Hora do Código 2022",
                                       "page_id":  "1.1",
                                       "page_name":  "Hora do Código 2022",
                                       "style":  "minecraft.css"
                                   }
                 },
    "nbformat":  4,
    "nbformat_minor":  5
}
