﻿{
    "cells":  [
                  {
                      "cell_type":  "markdown",
                      "id":  "f0d858d0",
                      "metadata":  {

                                   },
                      "source":  [
                                     "# Labirinto da Bola de Barro\n",
                                     "\n",
                                     "Move a bola de barro até ao bloco de ouro. Utiliza a função \"clay_ball_move()\" para conduzir a bola pelo labirinto.\n",
                                     "\n",
                                     "A função \"clay_ball_move()\" usa um parâmetro para definir em que direção se deve mover.\n",
                                     "\n",
                                     "As direções válidas são: \n",
                                     "- `up`\n",
                                     "- `down` (baixo)\n",
                                     "- `left` (esquerda)\n",
                                     "- `right`"
                                 ]
                  },
                  {
                      "cell_type":  "code",
                      "execution_count":  null,
                      "id":  "aabed157",
                      "metadata":  {
                                       "minecraft":  {
                                                         "closeCodeBuilderOnRun":  true,
                                                         "hidden":  false,
                                                         "onCodeCancelledCommand":  "scoreboard players set @s code_status 0",
                                                         "onCodeErrorCommand":  "scoreboard players set @s code_status 0",
                                                         "onCodeStartedCommand":  "scoreboard players set @s code_status 1",
                                                         "onCodeStoppedCommand":  "scoreboard players set @s code_status 0",
                                                         "onCodeSuccessfulCommand":  "scoreboard players set @s code_status 0",
                                                         "overridePython":  "import time\n\ntimeout = 0.100\ncommunicationPos = (0, 64, 0)\n\ntime.sleep(0.250)\n\ndef clay_ball_move(direction):\n       agent.move(direction)\n@user-code",
                                                         "readonly":  true
                                                     }
                                   },
                      "outputs":  [

                                  ],
                      "source":  [
                                     "# move a bola de barro para cima\n",
                                     "# três blocos\n",
                                     "\n",
                                     "clay_ball_move(\"up\")\n",
                                     "clay_ball_move(\"up\")\n",
                                     "clay_ball_move(\"up\")"
                                 ]
                  },
                  {
                      "cell_type":  "markdown",
                      "id":  "7a06b33f",
                      "metadata":  {

                                   },
                      "source":  [
                                     "# Dica Pro:\n",
                                     "\n",
                                     "Utiliza um loop \"for\" para fazer uma ou mais ações várias vezes."
                                 ]
                  },
                  {
                      "cell_type":  "code",
                      "execution_count":  null,
                      "id":  "c3f9d31a",
                      "metadata":  {
                                       "minecraft":  {
                                                         "closeCodeBuilderOnRun":  true,
                                                         "hidden":  false,
                                                         "onCodeCancelledCommand":  "scoreboard players set @s code_status 0",
                                                         "onCodeErrorCommand":  "scoreboard players set @s code_status 0",
                                                         "onCodeStartedCommand":  "scoreboard players set @s code_status 1",
                                                         "onCodeStoppedCommand":  "scoreboard players set @s code_status 0",
                                                         "onCodeSuccessfulCommand":  "scoreboard players set @s code_status 0",
                                                         "overridePython":  "import time\n\ntimeout = 0.100\ncommunicationPos = (0, 64, 0)\n\ntime.sleep(0.250)\n\ndef clay_ball_move(direction):\n       agent.move(direction)\n@user-code",
                                                         "readonly":  true
                                                     }
                                   },
                      "outputs":  [

                                  ],
                      "source":  [
                                     "# move a bola de barro para cima\n",
                                     "# três blocos\n",
                                     "\n",
                                     "for i in range(3):\n",
                                     "    clay_ball_move(\"up\")"
                                 ]
                  },
                  {
                      "cell_type":  "markdown",
                      "id":  "03d64374",
                      "metadata":  {

                                   },
                      "source":  [
                                     "# Atividade:\n",
                                     "\n",
                                     "Conduz a bola de barro através do labirinto para chegar ao bloco de ouro.\n",
                                     "\n",
                                     "O código abaixo não funciona. Consegues corrigi-lo? Depura o código, executando-o para ver o que faz e depois editando-o para obter o resultado desejado."
                                 ]
                  },
                  {
                      "cell_type":  "code",
                      "execution_count":  null,
                      "id":  "b6f4bd0e",
                      "metadata":  {
                                       "minecraft":  {
                                                         "closeCodeBuilderOnRun":  true,
                                                         "hidden":  false,
                                                         "onCodeCancelledCommand":  "scoreboard players set @s code_status 0",
                                                         "onCodeErrorCommand":  "scoreboard players set @s code_status 0",
                                                         "onCodeStartedCommand":  "scoreboard players set @s code_status 1",
                                                         "onCodeStoppedCommand":  "scoreboard players set @s code_status 0",
                                                         "onCodeSuccessfulCommand":  "scoreboard players set @s code_status 0",
                                                         "overridePython":  "import time\n\ntimeout = 0.100\ncommunicationPos = (0, 64, 0)\n\ntime.sleep(0.250)\n\ndef clay_ball_move(direction):\n       agent.move(direction)\n@user-code",
                                                         "readonly":  false
                                                     }
                                   },
                      "outputs":  [

                                  ],
                      "source":  [
                                     "clay_ball_move(\"up\")\n",
                                     "clay_ball_move(\"up\")\n",
                                     "clay_ball_move(\"up\")\n",
                                     "clay_ball_move(\"left\")\n",
                                     "clay_ball_move(\"left\")\n",
                                     "clay_ball_move(\"down\")\n",
                                     "clay_ball_move(\"down\")\n",
                                     "clay_ball_move(\"down\")\n"
                                 ]
                  }
              ],
    "metadata":  {
                     "celltoolbar":  "Edit Metadata",
                     "kernelspec":  {
                                        "display_name":  "Python 3 (ipykernel)",
                                        "language":  "python",
                                        "name":  "python3"
                                    },
                     "language_info":  {
                                           "codemirror_mode":  {
                                                                   "name":  "ipython",
                                                                   "version":  3
                                                               },
                                           "file_extension":  ".py",
                                           "mimetype":  "text/x-python",
                                           "name":  "python",
                                           "nbconvert_exporter":  "python",
                                           "pygments_lexer":  "ipython3",
                                           "version":  "3.10.7"
                                       },
                     "minecraft":  {
                                       "description":  "Hora do Código 2022",
                                       "page_id":  "1.1",
                                       "page_name":  "Hora do Código 2022",
                                       "style":  "minecraft.css"
                                   }
                 },
    "nbformat":  4,
    "nbformat_minor":  5
}
