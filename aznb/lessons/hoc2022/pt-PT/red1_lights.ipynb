﻿{
    "cells":  [
                  {
                      "cell_type":  "markdown",
                      "id":  "78e529f0",
                      "metadata":  {

                                   },
                      "source":  [
                                     "# Luzes\n",
                                     "\n",
                                     "Parece haver um padrão na forma como as luzes piscam. Move o Enderman para cada posição seguindo o padrão das luzes. Usa a função \\\"move_enderman()\\\" para escolher para que plataforma colorida o enderman vai.\n",
                                     "\n",
                                     "A função \\\"move_enderman()\\\" usa um parâmetro para definir para que plataforma colorida vai.\n",
                                     "\n",
                                     "As cores válidas são:\n",
                                     "- `green` ![Verde](img/green_glazed.png \\\"Verde\\\")\n",
                                     "- `yellow` ![Amarelo](img/yellow_glazed.png \\\"Amarelo\\\")\n",
                                     "- `blue` ![Azul](img/blue_glazed.png \\\"Azul\\\")\n",
                                     "- `pink` ![Rosa](img/pink_glazed.png \\\"Rosa\\\")"
                                 ]
                  },
                  {
                      "cell_type":  "code",
                      "execution_count":  null,
                      "id":  "b48ad815",
                      "metadata":  {
                                       "minecraft":  {
                                                         "closeCodeBuilderOnRun":  true,
                                                         "hidden":  false,
                                                         "onCodeCancelledCommand":  "scoreboard players set @s code_status 0",
                                                         "onCodeErrorCommand":  "scoreboard players set @s code_status 0",
                                                         "onCodeStartedCommand":  "scoreboard players set @s code_status 1",
                                                         "onCodeStoppedCommand":  "scoreboard players set @s code_status 0",
                                                         "onCodeSuccessfulCommand":  "scoreboard players set @s code_status 0",
                                                         "overridePython":  "import time\n\ntimeout = 0.100\ncommunicationPos = (0, 64, 0)\n\ntime.sleep(0.250)\n\ndef move_enderman(color):\n    if color==\"blue\":\n        world.set(communicationPos, \"light blue concrete\")\n        time.sleep(timeout) \n    elif color==\"pink\":\n        world.set(communicationPos, \"pink concrete\")\n        time.sleep(timeout) \n    elif color==\"green\":\n        world.set(communicationPos, \"lime concrete\")\n        time.sleep(timeout) \n    elif color==\"yellow\":\n        world.set(communicationPos, \"yellow concrete\")\n        time.sleep(timeout) \n@user-code",
                                                         "readonly":  true
                                                     }
                                   },
                      "outputs":  [

                                  ],
                      "source":  [
                                     "# EXEMPLO DE CÓDIGO - NÃO PODES EDITAR AQUI\n",
                                     "# EXECUTA-O PARA VER O QUE ACONTECE\n",
                                     "\n",
                                     "# primeiro, move o enderman para o verde\n",
                                     "# plataforma, depois para o amarelo\n",
                                     "\n",
                                     "move_enderman(\"green\")\n",
                                     "move_enderman(\"yellow\")"
                                 ]
                  },
                  {
                      "cell_type":  "markdown",
                      "id":  "b03d9c40",
                      "metadata":  {

                                   },
                      "source":  [
                                     "# Atividade:\n",
                                     "\n",
                                     "Esta atividade tem várias fases. Observa o padrão das luzes e escreve código para o Enderman corresponder a esse padrão.\n",
                                     "\n",
                                     "O código incluído abaixo não funciona. Consegues corrigi-lo? Executa o código para ver o que acontece, depois depura-o editando-o para chegares à solução correta."
                                 ]
                  },
                  {
                      "cell_type":  "code",
                      "execution_count":  null,
                      "id":  "b6f4bd0e",
                      "metadata":  {
                                       "minecraft":  {
                                                         "closeCodeBuilderOnRun":  true,
                                                         "hidden":  false,
                                                         "onCodeCancelledCommand":  "scoreboard players set @s code_status 0",
                                                         "onCodeErrorCommand":  "scoreboard players set @s code_status 0",
                                                         "onCodeStartedCommand":  "scoreboard players set @s code_status 1",
                                                         "onCodeStoppedCommand":  "scoreboard players set @s code_status 0",
                                                         "onCodeSuccessfulCommand":  "scoreboard players set @s code_status 0",
                                                         "overridePython":  "import time\n\ntimeout = 0.100\ncommunicationPos = (0, 64, 0)\n\ntime.sleep(0.250)\n\ndef move_enderman(color):\n    if color==\"blue\":\n        world.set(communicationPos, \"light blue concrete\")\n        time.sleep(timeout) \n    elif color==\"pink\":\n        world.set(communicationPos, \"pink concrete\")\n        time.sleep(timeout) \n    elif color==\"green\":\n        world.set(communicationPos, \"lime concrete\")\n        time.sleep(timeout) \n    elif color==\"yellow\":\n        world.set(communicationPos, \"yellow concrete\")\n        time.sleep(timeout) \n@user-code",
                                                         "readonly":  false
                                                     }
                                   },
                      "outputs":  [

                                  ],
                      "source":  [
                                     "# código aqui\n",
                                     "\n",
                                     "move_enderman(\"green\")\n",
                                     "move_enderman(\"yellow\")"
                                 ]
                  }
              ],
    "metadata":  {
                     "celltoolbar":  "Edit Metadata",
                     "kernelspec":  {
                                        "display_name":  "Python 3 (ipykernel)",
                                        "language":  "python",
                                        "name":  "python3"
                                    },
                     "language_info":  {
                                           "codemirror_mode":  {
                                                                   "name":  "ipython",
                                                                   "version":  3
                                                               },
                                           "file_extension":  ".py",
                                           "mimetype":  "text/x-python",
                                           "name":  "python",
                                           "nbconvert_exporter":  "python",
                                           "pygments_lexer":  "ipython3",
                                           "version":  "3.10.7"
                                       },
                     "minecraft":  {
                                       "description":  "Hora do Código 2022",
                                       "page_id":  "1.1",
                                       "page_name":  "Hora do Código 2022",
                                       "style":  "minecraft.css"
                                   }
                 },
    "nbformat":  4,
    "nbformat_minor":  5
}
