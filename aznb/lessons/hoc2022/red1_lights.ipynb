{
 "cells": [
  {
   "cell_type": "markdown",
   "id": "78e529f0",
   "metadata": {},
   "source": [
    "# Lights\n",
    "\n",
    "There's seems to be a pattern with the way the lights are flashing. Move the Enderman to each position following the pattern the lights are making. Use the `move_enderman()` function to choose which colored platform the enderman moves to.\n",
    "\n",
    "The `move_enderman()` function takes one parameter that defines which colored platform it goes to.\n",
    "\n",
    "Valid colors are:\n",
    "- `green` ![Green](img/green_glazed.png \"Green\")\n",
    "- `yellow` ![Yellow](img/yellow_glazed.png \"Yellow\")\n",
    "- `blue` ![Blue](img/blue_glazed.png \"Blue\")\n",
    "- `pink` ![Pink](img/pink_glazed.png \"Pink\")"
   ]
  },
  {
   "cell_type": "code",
   "execution_count": null,
   "id": "b48ad815",
   "metadata": {
    "minecraft": {
     "closeCodeBuilderOnRun": true,
     "hidden": false,
     "onCodeCancelledCommand": "scoreboard players set @s code_status 0",
     "onCodeErrorCommand": "scoreboard players set @s code_status 0",
     "onCodeStartedCommand": "scoreboard players set @s code_status 1",
     "onCodeStoppedCommand": "scoreboard players set @s code_status 0",
     "onCodeSuccessfulCommand": "scoreboard players set @s code_status 0",
     "overridePython": "import time\n\ntimeout = 0.100\ncommunicationPos = (0, 64, 0)\n\ntime.sleep(0.250)\n\ndef move_enderman(color):\n    if color==\"blue\":\n        world.set(communicationPos, \"light blue concrete\")\n        time.sleep(timeout) \n    elif color==\"pink\":\n        world.set(communicationPos, \"pink concrete\")\n        time.sleep(timeout) \n    elif color==\"green\":\n        world.set(communicationPos, \"lime concrete\")\n        time.sleep(timeout) \n    elif color==\"yellow\":\n        world.set(communicationPos, \"yellow concrete\")\n        time.sleep(timeout) \n@user-code",
     "readonly": true
    }
   },
   "outputs": [],
   "source": [
    "# CODE EXAMPLE - YOU CAN NOT EDIT HERE\n",
    "# RUN IT TO SEE WHAT HAPPENS\n",
    "\n",
    "# first move the enderman to the green\n",
    "# platform, then to the yellow one\n",
    "\n",
    "move_enderman(\"green\")\n",
    "move_enderman(\"yellow\")"
   ]
  },
  {
   "cell_type": "markdown",
   "id": "b03d9c40",
   "metadata": {},
   "source": [
    "# Activity:\n",
    "\n",
    "There are multiple stages to this activity. Observe the pattern that lights make and write code to make the Enderman match that pattern. \n",
    "\n",
    "The included code below is broken. Can you fix it? Run the code to see what happens, then debug it by editing it to the correct solution."
   ]
  },
  {
   "cell_type": "code",
   "execution_count": null,
   "id": "b6f4bd0e",
   "metadata": {
    "minecraft": {
     "closeCodeBuilderOnRun": true,
     "hidden": false,
     "onCodeCancelledCommand": "scoreboard players set @s code_status 0",
     "onCodeErrorCommand": "scoreboard players set @s code_status 0",
     "onCodeStartedCommand": "scoreboard players set @s code_status 1",
     "onCodeStoppedCommand": "scoreboard players set @s code_status 0",
     "onCodeSuccessfulCommand": "scoreboard players set @s code_status 0",
     "overridePython": "import time\n\ntimeout = 0.100\ncommunicationPos = (0, 64, 0)\n\ntime.sleep(0.250)\n\ndef move_enderman(color):\n    if color==\"blue\":\n        world.set(communicationPos, \"light blue concrete\")\n        time.sleep(timeout) \n    elif color==\"pink\":\n        world.set(communicationPos, \"pink concrete\")\n        time.sleep(timeout) \n    elif color==\"green\":\n        world.set(communicationPos, \"lime concrete\")\n        time.sleep(timeout) \n    elif color==\"yellow\":\n        world.set(communicationPos, \"yellow concrete\")\n        time.sleep(timeout) \n@user-code",
     "readonly": false
    }
   },
   "outputs": [],
   "source": [
    "# code here\n",
    "\n",
    "move_enderman(\"green\")\n",
    "move_enderman(\"yellow\")"
   ]
  }
 ],
 "metadata": {
  "celltoolbar": "Edit Metadata",
  "kernelspec": {
   "display_name": "Python 3 (ipykernel)",
   "language": "python",
   "name": "python3"
  },
  "language_info": {
   "codemirror_mode": {
    "name": "ipython",
    "version": 3
   },
   "file_extension": ".py",
   "mimetype": "text/x-python",
   "name": "python",
   "nbconvert_exporter": "python",
   "pygments_lexer": "ipython3",
   "version": "3.10.7"
  },
  "minecraft": {
   "description": "HOC 2022",
   "page_id": "1.1",
   "page_name": "HOC 2022",
   "style": "minecraft.css"
  }
 },
 "nbformat": 4,
 "nbformat_minor": 5
}
