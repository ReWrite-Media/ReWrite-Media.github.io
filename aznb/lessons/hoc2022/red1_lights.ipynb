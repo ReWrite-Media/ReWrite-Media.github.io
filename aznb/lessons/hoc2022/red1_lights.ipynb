{
 "cells": [
  {
   "cell_type": "markdown",
   "id": "78e529f0",
   "metadata": {},
   "source": [
    "# Lights\n",
    "\n",
    "There's seems to be a pattern with the way the lights are flashing. Move the enderman to each position following the pattern the lights are making.\n",
    "\n",
    "Use the ``||hoc22.move enderman butler||`` blocks to move the enderman butler to the correct lights. Pay attention to the pattern of the lights. Your code should match that pattern. \n"
   ]
  },
  {
   "cell_type": "code",
   "execution_count": null,
   "id": "b6f4bd0e",
   "metadata": {
    "minecraft": {
     "closeCodeBuilderOnRun": true,
     "hidden": false,
     "overridePython": "import time\n\ntimeout = 0.100\ncommunicationPos = (0, 64, 0)\n\ntime.sleep(0.250)\n\ndef move_enderman(color):\n    if color==\"blue\":\n        world.set(communicationPos, \"light blue glazed terracotta\")\n        time.sleep(timeout) \n    elif color==\"pink\":\n        world.set(communicationPos, \"pink glazed terracotta\")\n        time.sleep(timeout) \n    elif color==\"green\":\n        world.set(communicationPos, \"lime glazed terracotta\")\n        time.sleep(timeout) \n    elif color==\"yellow\":\n        world.set(communicationPos, \"yellow glazed terracotta\")\n        time.sleep(timeout) \n            \n@user-code",
     "readonly": false
    }
   },
   "outputs": [],
   "source": [
    "move_enderman(\"green\")\n",
    "move_enderman(\"yellow\")\n"

   ]
  }
 ],
 "metadata": {
  "kernelspec": {
   "display_name": "Python 3 (ipykernel)",
   "language": "python",
   "name": "python3"
  },
  "language_info": {
   "codemirror_mode": {
    "name": "ipython",
    "version": 3
   },
   "file_extension": ".py",
   "mimetype": "text/x-python",
   "name": "python",
   "nbconvert_exporter": "python",
   "pygments_lexer": "ipython3",
   "version": "3.10.7"
  },
  "minecraft": {
   "description": "HOC 2022",
   "page_id": "1.1",
   "page_name": "HOC 2022",
   "style": "minecraft.css"
  }
 },
 "nbformat": 4,
 "nbformat_minor": 5
}
