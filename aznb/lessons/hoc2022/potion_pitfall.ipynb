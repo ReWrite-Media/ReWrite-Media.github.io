{
 "cells": [
  {
   "cell_type": "markdown",
   "id": "145bed8e",
   "metadata": {},
   "source": [
    "# Pitfall\n",
    "\n",
    "Move the clay golem forward 6 blocks. When the golem steps on a pressure plate it will open a pit for 1 second, so make it wait for the block to come back before moving forward. \n",
    "\n",
    "Move the golem forward by using the ``||hoc22.move golem forward by <number>||`` block. Move the golem forward 2 blocks and then use ``||hoc22.wait for block||`` to have the golem wait 1 second before moving forward two more.\n"
   ]
  },
  {
   "cell_type": "code",
   "execution_count": null,
   "id": "b6f4bd0e",
   "metadata": {
    "minecraft": {
     "closeCodeBuilderOnRun": true,
     "hidden": false,
     "overridePython": "import time\n\ntimeout = 0.100\ncommunicationPos = (0, 64, 0)\n\ntime.sleep(0.250)\n\ndef move_golem_forward():\n    world.set(communicationPos, \"orange concrete\")\n    time.sleep(timeout)     \n\ndef wait():\n    world.set(communicationPos, \"magenta concrete\")\n    time.sleep(timeout)   \n@user-code",
     "readonly": false
    }
   },
   "outputs": [],
   "source": [
    "move_golem_forward()\n",
    "move_golem_forward()\n",
    "wait()\n",
    "move_golem_forward()\n",
    "move_golem_forward()\n",
    "move_golem_forward()\n"
   ]
  }
 ],
 "metadata": {
  "kernelspec": {
   "display_name": "Python 3 (ipykernel)",
   "language": "python",
   "name": "python3"
  },
  "language_info": {
   "codemirror_mode": {
    "name": "ipython",
    "version": 3
   },
   "file_extension": ".py",
   "mimetype": "text/x-python",
   "name": "python",
   "nbconvert_exporter": "python",
   "pygments_lexer": "ipython3",
   "version": "3.10.7"
  },
  "minecraft": {
   "description": "HOC 2022",
   "page_id": "1.1",
   "page_name": "HOC 2022",
   "style": "minecraft.css"
  }
 },
 "nbformat": 4,
 "nbformat_minor": 5
}
