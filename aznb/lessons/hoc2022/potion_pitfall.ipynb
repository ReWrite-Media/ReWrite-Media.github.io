{
 "cells": [
  {
   "cell_type": "markdown",
   "id": "145bed8e",
   "metadata": {},
   "source": [
    "# Pitfall\n",
    "\n",
    "Move the clay golem forward 6 blocks. When the golem steps on a pressure plate it will open a pit for 1 second, so make it wait for the block to come back before moving forward. \n",
    "\n",
    "Move the golem forward by using the ``||hoc22.move golem forward by <number>||`` block. Move the golem forward 2 blocks and then use ``||hoc22.wait for block||`` to have the golem wait 1 second before moving forward two more.\n"
   ]
  }
 ],
 "metadata": {
  "kernelspec": {
   "display_name": "Python 3 (ipykernel)",
   "language": "python",
   "name": "python3"
  },
  "language_info": {
   "codemirror_mode": {
    "name": "ipython",
    "version": 3
   },
   "file_extension": ".py",
   "mimetype": "text/x-python",
   "name": "python",
   "nbconvert_exporter": "python",
   "pygments_lexer": "ipython3",
   "version": "3.10.7"
  },
  "minecraft": {
   "description": "HOC 2022",
   "page_id": "1.1",
   "page_name": "HOC 2022",
   "style": "minecraft.css"
  }
 },
 "nbformat": 4,
 "nbformat_minor": 5
}
