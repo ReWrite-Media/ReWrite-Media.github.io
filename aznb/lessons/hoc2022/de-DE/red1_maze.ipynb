﻿{
    "cells":  [
                  {
                      "cell_type":  "markdown",
                      "id":  "d98fd2c2",
                      "metadata":  {

                                   },
                      "source":  [
                                     "# Labyrinth\n",
                                     "\n",
                                     "Führe den Enderman-Butler zu den smaragdgrünen Blöcken auf der anderen Seite des Labyrinths! Die Hebel an der Wand scheinen eine Farbe zu haben, die zu einer Reihe von Türen im Labyrinth passt. Du solltest diese Hebel umlegen, um einen sicheren Weg zu schaffen, und den Enderman-Butler zu den smaragdgrünen Blöcken zu führen! Verwende dann die Funktion ‚move_enderman_direction()‘, um ihn durch das Labyrinth zu navigieren.\n",
                                     "\n",
                                     "Die Funktion ‚move_enderman_direction()‘ verwendet einen Parameter, der definiert, in welche Richtung er sich bewegen soll.\n",
                                     "\n",
                                     "Gültige Richtungen sind:\n",
                                     "- ‚forward‘ (vorwärts)\n",
                                     "- ‚back‘ (zurück)\n",
                                     "- ‚left‘ (links)\n",
                                     "- ‚right‘ (rechts)"
                                 ]
                  },
                  {
                      "cell_type":  "code",
                      "execution_count":  null,
                      "id":  "e17b4052",
                      "metadata":  {
                                       "minecraft":  {
                                                         "closeCodeBuilderOnRun":  true,
                                                         "hidden":  false,
                                                         "onCodeCancelledCommand":  "scoreboard players set @s code_status 0",
                                                         "onCodeErrorCommand":  "scoreboard players set @s code_status 0",
                                                         "onCodeStartedCommand":  "scoreboard players set @s code_status 1",
                                                         "onCodeStoppedCommand":  "scoreboard players set @s code_status 0",
                                                         "onCodeSuccessfulCommand":  "scoreboard players set @s code_status 0",
                                                         "overridePython":  "import time\n\ntimeout = 0.100\ncommunicationPos = (0, 64, 0)\n\ntime.sleep(0.250)\n\ndef move_enderman_direction(direction):\n    if direction==\"forward\":\n        world.set(communicationPos, \"orange concrete\")\n        time.sleep(timeout) \n    elif direction==\"back\":\n        world.set(communicationPos, \"magenta concrete\")\n        time.sleep(timeout) \n    elif direction==\"left\":\n        world.set(communicationPos, \"light blue concrete\")\n        time.sleep(timeout) \n    elif direction==\"right\":\n        world.set(communicationPos, \"yellow concrete\")\n        time.sleep(timeout) \n            \n@user-code",
                                                         "readonly":  true
                                                     }
                                   },
                      "outputs":  [

                                  ],
                      "source":  [
                                     "# CODE-BEISPIEL - DU KANNST HIER NICHT BEARBEITEN\n",
                                     "# AUSFÜHREN, UM ZU SEHEN, WAS PASSIERT\n",
                                     "\n",
                                     "# bewege den Enderman 4 Blocks vorwärts\n",
                                     "# und dann 1 Block nach rechts\n",
                                     "\n",
                                     "move_enderman_direction(\"forward\")\n",
                                     "move_enderman_direction(\"forward\")\n",
                                     "move_enderman_direction(\"forward\")\n",
                                     "move_enderman_direction(\"forward\")\n",
                                     "move_enderman_direction(\"right\")"
                                 ]
                  },
                  {
                      "cell_type":  "markdown",
                      "id":  "6acea1bb",
                      "metadata":  {

                                   },
                      "source":  [
                                     "# Tipp:\n",
                                     "\n",
                                     "Verwende eine \"for\"-Schleife, um eine oder mehrere Aktionen mehrmals auszuführen."
                                 ]
                  },
                  {
                      "cell_type":  "code",
                      "execution_count":  null,
                      "id":  "da2f29e0",
                      "metadata":  {
                                       "minecraft":  {
                                                         "closeCodeBuilderOnRun":  true,
                                                         "hidden":  false,
                                                         "onCodeCancelledCommand":  "scoreboard players set @s code_status 0",
                                                         "onCodeErrorCommand":  "scoreboard players set @s code_status 0",
                                                         "onCodeStartedCommand":  "scoreboard players set @s code_status 1",
                                                         "onCodeStoppedCommand":  "scoreboard players set @s code_status 0",
                                                         "onCodeSuccessfulCommand":  "scoreboard players set @s code_status 0",
                                                         "overridePython":  "import time\n\ntimeout = 0.100\ncommunicationPos = (0, 64, 0)\n\ntime.sleep(0.250)\n\ndef move_enderman_direction(direction):\n    if direction==\"forward\":\n        world.set(communicationPos, \"orange concrete\")\n        time.sleep(timeout) \n    elif direction==\"back\":\n        world.set(communicationPos, \"magenta concrete\")\n        time.sleep(timeout) \n    elif direction==\"left\":\n        world.set(communicationPos, \"light blue concrete\")\n        time.sleep(timeout) \n    elif direction==\"right\":\n        world.set(communicationPos, \"yellow concrete\")\n        time.sleep(timeout) \n            \n@user-code",
                                                         "readonly":  true
                                                     }
                                   },
                      "outputs":  [

                                  ],
                      "source":  [
                                     "# CODE-BEISPIEL - DU KANNST HIER NICHT BEARBEITEN\n",
                                     "# AUSFÜHREN, UM ZU SEHEN, WAS PASSIERT\n",
                                     "\n",
                                     "# bewege den Enderman 4 Blocks vorwärts\n",
                                     "# und dann 1 Block nach rechts\n",
                                     "\n",
                                     "for i in range(4):\n",
                                     "    move_enderman_direction(\"forward\")\n",
                                     "\n",
                                     "move_enderman_direction(\"right\")"
                                 ]
                  },
                  {
                      "cell_type":  "markdown",
                      "id":  "4bdf0a08",
                      "metadata":  {

                                   },
                      "source":  [
                                     "# Aktivität:\n",
                                     "\n",
                                     "Die Hebel an der Wand scheinen eine Farbe zu haben, die zu einer Reihe von Türen im Labyrinth passt. Du solltest diese Hebel umlegen, um einen sicheren Weg zu schaffen, und den Enderman-Butler zu den smaragdgrünen Blöcken zu führen!\n",
                                     "\n",
                                     "Der unten eingefügte Code ist fehlerhaft. Kannst du ihn korrigieren? Führe den Code aus, um zu sehen, was passiert, und behebe ihn dann, indem du ihn zur richtigen Lösung bearbeitest."
                                 ]
                  },
                  {
                      "cell_type":  "code",
                      "execution_count":  null,
                      "id":  "b6f4bd0e",
                      "metadata":  {
                                       "minecraft":  {
                                                         "closeCodeBuilderOnRun":  true,
                                                         "hidden":  false,
                                                         "onCodeCancelledCommand":  "scoreboard players set @s code_status 0",
                                                         "onCodeErrorCommand":  "scoreboard players set @s code_status 0",
                                                         "onCodeStartedCommand":  "scoreboard players set @s code_status 1",
                                                         "onCodeStoppedCommand":  "scoreboard players set @s code_status 0",
                                                         "onCodeSuccessfulCommand":  "scoreboard players set @s code_status 0",
                                                         "overridePython":  "import time\n\ntimeout = 0.100\ncommunicationPos = (0, 64, 0)\n\ntime.sleep(0.250)\n\ndef move_enderman_direction(direction):\n    if direction==\"forward\":\n        world.set(communicationPos, \"orange concrete\")\n        time.sleep(timeout) \n    elif direction==\"back\":\n        world.set(communicationPos, \"magenta concrete\")\n        time.sleep(timeout) \n    elif direction==\"left\":\n        world.set(communicationPos, \"light blue concrete\")\n        time.sleep(timeout) \n    elif direction==\"right\":\n        world.set(communicationPos, \"yellow concrete\")\n        time.sleep(timeout) \n            \n@user-code",
                                                         "readonly":  false
                                                     }
                                   },
                      "outputs":  [

                                  ],
                      "source":  [
                                     "# Code hier\n",
                                     "\n",
                                     "move_enderman_direction(\"forward\")\n",
                                     "move_enderman_direction(\"forward\")\n",
                                     "move_enderman_direction(\"forward\")\n",
                                     "move_enderman_direction(\"right\")\n",
                                     "move_enderman_direction(\"right\")"
                                 ]
                  }
              ],
    "metadata":  {
                     "celltoolbar":  "Edit Metadata",
                     "kernelspec":  {
                                        "display_name":  "Python 3 (ipykernel)",
                                        "language":  "python",
                                        "name":  "python3"
                                    },
                     "language_info":  {
                                           "codemirror_mode":  {
                                                                   "name":  "ipython",
                                                                   "version":  3
                                                               },
                                           "file_extension":  ".py",
                                           "mimetype":  "text/x-python",
                                           "name":  "python",
                                           "nbconvert_exporter":  "python",
                                           "pygments_lexer":  "ipython3",
                                           "version":  "3.10.7"
                                       },
                     "minecraft":  {
                                       "description":  "HOC 2022",
                                       "page_id":  "1.1",
                                       "page_name":  "HOC 2022",
                                       "style":  "minecraft.css"
                                   }
                 },
    "nbformat":  4,
    "nbformat_minor":  5
}
