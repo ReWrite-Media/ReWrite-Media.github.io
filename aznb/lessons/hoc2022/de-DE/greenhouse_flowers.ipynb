﻿{
    "cells":  [
                  {
                      "cell_type":  "markdown",
                      "id":  "44001b61",
                      "metadata":  {

                                   },
                      "source":  [
                                     "# Blumenpflanzung\n",
                                     "\n",
                                     "Es gibt ein Muster bei diesen Blumen. Finde das Muster heraus und pflanze die Blumen auf die leere Erde. Benutze `move_cursor()` um den Cursor zu positionieren und dann `plant_flower()` um eine Blume zu pflanzen.\n",
                                     "\n",
                                     "Die Funktion `move_cursor()` benötigt einen Parameter, der die Richtung definiert. Dieser Parameter ist die Farbe des Pfeils, der die Richtung repräsentiert, in die sie sich bewegen wollen.\n",
                                     "\n",
                                     "Gültige Richtungen sind:\n",
                                     "- `orange` (bewegt den Cursor nach vorne) ![Orangefarbener Pfeil](img/orange_arrow.png \"Orangefarbener Pfeil\")\n",
                                     "- `magenta` (bewegt den Cursor zurück) ![Magenta-Pfeil](img/magenta_arrow.png \"Magenta Pfeil\")\n",
                                     "- `blue` (bewegt den Cursor nach links) ![Blauer Pfeil](img/blue_arrow.png \"Blauer Pfeil\")\n",
                                     "- `gelb` (bewegt den Cursor nach rechts)  ![Gelber Pfeil] (img/yellow_arrow.png \"Gelber Pfeil\")\n",
                                     "\n",
                                     "Die Funktion `plant_flower()` benötigt einen Parameter, der definiert, welche Art von Blume gepflanzt werden soll.\n",
                                     "\n",
                                     "Gültige Blumen sind:\n",
                                     "- `blue` (blau) ![Blaue Blume] (img/blue_flower.png \"Blaue Blume\")\n",
                                     "- `yellow` (gelb) ![Gelbe Blume] (img/yellow_flower.png \"Gelbe Blume\")\n",
                                     "- `red` (rot) ![Rote Blume] (img/red_flower.png \"Rote Blume\") "
                                 ]
                  },
                  {
                      "cell_type":  "code",
                      "execution_count":  null,
                      "id":  "1c8f47ac",
                      "metadata":  {
                                       "minecraft":  {
                                                         "closeCodeBuilderOnRun":  true,
                                                         "hidden":  false,
                                                         "onCodeCancelledCommand":  "scoreboard players set @s code_status 0",
                                                         "onCodeErrorCommand":  "scoreboard players set @s code_status 0",
                                                         "onCodeStartedCommand":  "scoreboard players set @s code_status 1",
                                                         "onCodeStoppedCommand":  "scoreboard players set @s code_status 0",
                                                         "onCodeSuccessfulCommand":  "scoreboard players set @s code_status 0",
                                                         "overridePython":  "import time\n\ntimeout = 0.100\ncommunicationPos = (0, 64, 0)\n\ntime.sleep(0.250)\n\ndef move_cursor(color):\n    if color == \"orange\":\n        world.set(communicationPos, \"orange concrete\")\n        time.sleep(timeout)\n    elif color == \"magenta\":\n        world.set(communicationPos, \"magenta concrete\")\n        time.sleep(timeout)\n    elif color == \"blue\":\n        world.set(communicationPos, \"light blue concrete\")\n        time.sleep(timeout)\n    elif color == \"yellow\":\n        world.set(communicationPos, \"yellow concrete\")\n        time.sleep(timeout)\n\ndef plant_flower(color):\n    if color==\"red\":\n        world.set(communicationPos, \"lime concrete\")\n        time.sleep(timeout)         \n    elif color==\"yellow\":\n        world.set(communicationPos, \"pink concrete\")\n        time.sleep(timeout)\n    elif color==\"blue\":\n        world.set(communicationPos, \"gray concrete\")\n        time.sleep(timeout)\n@user-code",
                                                         "readonly":  true
                                                     }
                                   },
                      "outputs":  [

                                  ],
                      "source":  [
                                     "# CODE-BEISPIEL - DU KANNST HIER NICHT BEARBEITEN\n",
                                     "# AUSFÜHREN, UM ZU SEHEN, WAS PASSIERT\n",
                                     "\n",
                                     "# Nach rechts gehen und eine blaue Blume pflanzen\n",
                                     "# 5 mal, dann einen Schritt zurück und\n",
                                     "# Pflanze eine rote Blume\n",
                                     "\n",
                                     "plant_flower(\"blue\")\n",
                                     "move_cursor(\"yellow\")\n",
                                     "plant_flower(\"blue\")\n",
                                     "move_cursor(\"yellow\")\n",
                                     "plant_flower(\"blue\")\n",
                                     "move_cursor(\"yellow\")\n",
                                     "plant_flower(\"blue\")\n",
                                     "move_cursor(\"yellow\")\n",
                                     "plant_flower(\"blue\")\n",
                                     "move_cursor(\"yellow\")\n",
                                     "move_cursor(\"magenta\")\n",
                                     "plant_flower(\"red\")"
                                 ]
                  },
                  {
                      "cell_type":  "markdown",
                      "id":  "7bf72b7f",
                      "metadata":  {

                                   },
                      "source":  [
                                     "# Tipp:\n",
                                     "\n",
                                     "Verwende eine \"for\"-Schleife, um eine oder mehrere Aktionen mehrmals auszuführen."
                                 ]
                  },
                  {
                      "cell_type":  "code",
                      "execution_count":  null,
                      "id":  "db97ed1f",
                      "metadata":  {
                                       "minecraft":  {
                                                         "closeCodeBuilderOnRun":  true,
                                                         "hidden":  false,
                                                         "onCodeCancelledCommand":  "scoreboard players set @s code_status 0",
                                                         "onCodeErrorCommand":  "scoreboard players set @s code_status 0",
                                                         "onCodeStartedCommand":  "scoreboard players set @s code_status 1",
                                                         "onCodeStoppedCommand":  "scoreboard players set @s code_status 0",
                                                         "onCodeSuccessfulCommand":  "scoreboard players set @s code_status 0",
                                                         "overridePython":  "import time\n\ntimeout = 0.100\ncommunicationPos = (0, 64, 0)\n\ntime.sleep(0.250)\n\ndef move_cursor(color):\n    if color == \"orange\":\n        world.set(communicationPos, \"orange concrete\")\n        time.sleep(timeout)\n    elif color == \"magenta\":\n        world.set(communicationPos, \"magenta concrete\")\n        time.sleep(timeout)\n    elif color == \"blue\":\n        world.set(communicationPos, \"light blue concrete\")\n        time.sleep(timeout)\n    elif color == \"yellow\":\n        world.set(communicationPos, \"yellow concrete\")\n        time.sleep(timeout)\n\ndef plant_flower(color):\n    if color==\"red\":\n        world.set(communicationPos, \"lime concrete\")\n        time.sleep(timeout)         \n    elif color==\"yellow\":\n        world.set(communicationPos, \"pink concrete\")\n        time.sleep(timeout)\n    elif color==\"blue\":\n        world.set(communicationPos, \"gray concrete\")\n        time.sleep(timeout)\n@user-code",
                                                         "readonly":  true
                                                     }
                                   },
                      "outputs":  [

                                  ],
                      "source":  [
                                     "# CODE-BEISPIEL - DU KANNST HIER NICHT BEARBEITEN\n",
                                     "# AUSFÜHREN, UM ZU SEHEN, WAS PASSIERT\n",
                                     "\n",
                                     "# Nach rechts gehen und eine blaue Blume pflanzen\n",
                                     "# 5 mal, dann einen Schritt zurück und\n",
                                     "# Pflanze eine rote Blume\n",
                                     "\n",
                                     "for i in range(5):\n",
                                     "    plant_flower(\"blue\")\n",
                                     "    move_cursor(\"yellow\")\n",
                                     "\n",
                                     "move_cursor(\"magenta\")\n",
                                     "plant_flower(\"red\")"
                                 ]
                  },
                  {
                      "cell_type":  "markdown",
                      "id":  "b2b2cb43",
                      "metadata":  {

                                   },
                      "source":  [
                                     "# Aktivität:\n",
                                     "\n",
                                     "Die Blumenbeete an den Seiten scheinen ein Muster zu haben! Das muss ein Hinweis auf das Auffüllen des größeren Blumenbeets in der Mitte sein!\n",
                                     "\n",
                                     "Der unten eingefügte Code ist fehlerhaft. Kannst du ihn korrigieren? Führe den Code aus, um zu sehen, was passiert, und behebe ihn dann, indem du ihn zur richtigen Lösung bearbeitest."
                                 ]
                  },
                  {
                      "cell_type":  "code",
                      "execution_count":  null,
                      "id":  "b6f4bd0e",
                      "metadata":  {
                                       "minecraft":  {
                                                         "closeCodeBuilderOnRun":  true,
                                                         "hidden":  false,
                                                         "onCodeCancelledCommand":  "scoreboard players set @s code_status 0",
                                                         "onCodeErrorCommand":  "scoreboard players set @s code_status 0",
                                                         "onCodeStartedCommand":  "scoreboard players set @s code_status 1",
                                                         "onCodeStoppedCommand":  "scoreboard players set @s code_status 0",
                                                         "onCodeSuccessfulCommand":  "scoreboard players set @s code_status 0",
                                                         "overridePython":  "import time\n\ntimeout = 0.100\ncommunicationPos = (0, 64, 0)\n\ntime.sleep(0.250)\n\ndef move_cursor(color):\n    if color == \"orange\":\n        world.set(communicationPos, \"orange concrete\")\n        time.sleep(timeout)\n    elif color == \"magenta\":\n        world.set(communicationPos, \"magenta concrete\")\n        time.sleep(timeout)\n    elif color == \"blue\":\n        world.set(communicationPos, \"light blue concrete\")\n        time.sleep(timeout)\n    elif color == \"yellow\":\n        world.set(communicationPos, \"yellow concrete\")\n        time.sleep(timeout)\n\ndef plant_flower(color):\n    if color==\"red\":\n        world.set(communicationPos, \"lime concrete\")\n        time.sleep(timeout)         \n    elif color==\"yellow\":\n        world.set(communicationPos, \"pink concrete\")\n        time.sleep(timeout)\n    elif color==\"blue\":\n        world.set(communicationPos, \"gray concrete\")\n        time.sleep(timeout)\n@user-code",
                                                         "readonly":  false
                                                     }
                                   },
                      "outputs":  [

                                  ],
                      "source":  [
                                     "# Code hier\n",
                                     "\n",
                                     "plant_flower(\"blue\")\n",
                                     "move_cursor(\"yellow\")\n",
                                     "move_cursor(\"yellow\")\n",
                                     "move_cursor(\"yellow\")\n",
                                     "move_cursor(\"magenta\")\n",
                                     "plant_flower(\"yellow\")\n",
                                     "move_cursor(\"blue\")\n",
                                     "move_cursor(\"magenta\")\n",
                                     "plant_flower(\"red\")\n"
                                 ]
                  }
              ],
    "metadata":  {
                     "celltoolbar":  "Edit Metadata",
                     "kernelspec":  {
                                        "display_name":  "Python 3 (ipykernel)",
                                        "language":  "python",
                                        "name":  "python3"
                                    },
                     "language_info":  {
                                           "codemirror_mode":  {
                                                                   "name":  "ipython",
                                                                   "version":  3
                                                               },
                                           "file_extension":  ".py",
                                           "mimetype":  "text/x-python",
                                           "name":  "python",
                                           "nbconvert_exporter":  "python",
                                           "pygments_lexer":  "ipython3",
                                           "version":  "3.10.7"
                                       },
                     "minecraft":  {
                                       "description":  "HOC 2022",
                                       "page_id":  "1.1",
                                       "page_name":  "HOC 2022",
                                       "style":  "minecraft.css"
                                   }
                 },
    "nbformat":  4,
    "nbformat_minor":  5
}
