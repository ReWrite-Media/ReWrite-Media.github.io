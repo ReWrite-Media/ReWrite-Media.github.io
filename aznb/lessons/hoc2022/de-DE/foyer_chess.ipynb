﻿{
    "cells":  [
                  {
                      "cell_type":  "markdown",
                      "id":  "011de41a",
                      "metadata":  {

                                   },
                      "source":  [
                                     "# Schachfiguren\n",
                                     "\n",
                                     "Du hast den König und die Königin befreit! Aber die Tür öffnet sich immer noch nicht. Sie stehen wohl in den falschen Positionen. Bewege sie an die richtigen Stellen, damit du diesem Ort endlich entkommen kannst! Verwende die Funktion `move_chess_piece()`, um den König und die Königin in die richtige Position zu bringen.\n",
                                     "\n",
                                     "Die Funktion `move_chess_piece()` akzeptiert zwei Parameter. Der erste ist, welche Schachfigur du bewegen möchtest, der zweite ist, in welche Richtung sie sich bewegen soll.\n",
                                     "\n",
                                     "Gültige Schachfiguren sind:\n",
                                     "- `king` (König) ![König](img/king_icon.png \"König\")\n",
                                     "- `queen` (Dame) ![Dame](img/queen_icon.png \"Dame\")\n",
                                     "\n",
                                     "Gültige Richtungen sind:\n",
                                     "- `orange` (bewegt die Schachfigur nach vorne) ![Orangefarbener Pfeil](img/orange_arrow.png \"Orangefarbener Pfeil\")\n",
                                     "- `magenta` (magenta) (bewegt den Cursor nach unten) ![Magenta-Pfeil](img/magenta_arrow.png \"Magenta-Pfeil\")\n",
                                     "- `blue` (blau) (bewegt den Cursor nach links) ![Blauer Pfeil](img/blue_arrow.png \"Blauer Pfeil\")\n",
                                     "- `yellow` (gelb) (bewegt die Schachfigur nach rechts) ![Gelber Pfeil](img/yellow_arrow.png \"Gelber Pfeil\")\n"
                                 ]
                  },
                  {
                      "cell_type":  "code",
                      "execution_count":  null,
                      "id":  "f49dad45",
                      "metadata":  {
                                       "minecraft":  {
                                                         "closeCodeBuilderOnRun":  true,
                                                         "hidden":  false,
                                                         "onCodeCancelledCommand":  "scoreboard players set @s code_status 0",
                                                         "onCodeErrorCommand":  "scoreboard players set @s code_status 0",
                                                         "onCodeStartedCommand":  "scoreboard players set @s code_status 1",
                                                         "onCodeStoppedCommand":  "scoreboard players set @s code_status 0",
                                                         "onCodeSuccessfulCommand":  "scoreboard players set @s code_status 0",
                                                         "overridePython":  "import time\n\ntimeout = 0.100\ncommunicationPos = (0, 64, 0)\n\ntime.sleep(0.250)\n\ndef move_chess_piece(type, color):\n    if type==\"king\" and color==\"orange\":\n        world.set(communicationPos, \"orange concrete\")\n        time.sleep(timeout)            \n    elif type==\"king\" and color==\"magenta\":\n        world.set(communicationPos, \"magenta concrete\")\n        time.sleep(timeout)    \n    elif type==\"king\" and color==\"blue\":\n        world.set(communicationPos, \"light blue concrete\")\n        time.sleep(timeout)    \n    elif type==\"king\" and color==\"yellow\":\n        world.set(communicationPos, \"yellow concrete\")\n        time.sleep(timeout)                \n    elif type==\"queen\" and color==\"orange\":\n        world.set(communicationPos, \"lime concrete\")\n        time.sleep(timeout)    \n    elif type==\"queen\" and color==\"magenta\":\n        world.set(communicationPos, \"pink concrete\")\n        time.sleep(timeout)    \n    elif type==\"queen\" and color==\"blue\":\n        world.set(communicationPos, \"gray concrete\")\n        time.sleep(timeout)    \n    elif type==\"queen\" and color==\"yellow\":\n        world.set(communicationPos, \"light gray concrete\")\n        time.sleep(timeout)  \n@user-code",
                                                         "readonly":  true
                                                     }
                                   },
                      "outputs":  [

                                  ],
                      "source":  [
                                     "# CODE-BEISPIEL - DU KANNST HIER NICHT BEARBEITEN\n",
                                     "# AUSFÜHREN, UM ZU SEHEN, WAS PASSIERT\n",
                                     "\n",
                                     "# bewege die Dame 3 Blöcke vorwärts\n",
                                     "# bewege den König 3 Blöcke nach links\n",
                                     "\n",
                                     "move_chess_piece(\"queen\", \"orange\")\n",
                                     "move_chess_piece(\"queen\", \"orange\")\n",
                                     "move_chess_piece(\"queen\", \"orange\")\n",
                                     "\n",
                                     "move_chess_piece(\"king\", \"blue\")\n",
                                     "move_chess_piece(\"king\", \"blue\")\n",
                                     "move_chess_piece(\"king\", \"blue\")"
                                 ]
                  },
                  {
                      "cell_type":  "markdown",
                      "id":  "4a996193",
                      "metadata":  {

                                   },
                      "source":  [
                                     "# Tipp:\n",
                                     "\n",
                                     "Verwende eine \"for\"-Schleife, um eine oder mehrere Aktionen mehrmals auszuführen."
                                 ]
                  },
                  {
                      "cell_type":  "code",
                      "execution_count":  null,
                      "id":  "0697247a",
                      "metadata":  {
                                       "minecraft":  {
                                                         "closeCodeBuilderOnRun":  true,
                                                         "hidden":  false,
                                                         "onCodeCancelledCommand":  "scoreboard players set @s code_status 0",
                                                         "onCodeErrorCommand":  "scoreboard players set @s code_status 0",
                                                         "onCodeStartedCommand":  "scoreboard players set @s code_status 1",
                                                         "onCodeStoppedCommand":  "scoreboard players set @s code_status 0",
                                                         "onCodeSuccessfulCommand":  "scoreboard players set @s code_status 0",
                                                         "overridePython":  "import time\n\ntimeout = 0.100\ncommunicationPos = (0, 64, 0)\n\ntime.sleep(0.250)\n\ndef move_chess_piece(type, color):\n    if type==\"king\" and color==\"orange\":\n        world.set(communicationPos, \"orange concrete\")\n        time.sleep(timeout)            \n    elif type==\"king\" and color==\"magenta\":\n        world.set(communicationPos, \"magenta concrete\")\n        time.sleep(timeout)    \n    elif type==\"king\" and color==\"blue\":\n        world.set(communicationPos, \"light blue concrete\")\n        time.sleep(timeout)    \n    elif type==\"king\" and color==\"yellow\":\n        world.set(communicationPos, \"yellow concrete\")\n        time.sleep(timeout)                \n    elif type==\"queen\" and color==\"orange\":\n        world.set(communicationPos, \"lime concrete\")\n        time.sleep(timeout)    \n    elif type==\"queen\" and color==\"magenta\":\n        world.set(communicationPos, \"pink concrete\")\n        time.sleep(timeout)    \n    elif type==\"queen\" and color==\"blue\":\n        world.set(communicationPos, \"gray concrete\")\n        time.sleep(timeout)    \n    elif type==\"queen\" and color==\"yellow\":\n        world.set(communicationPos, \"light gray concrete\")\n        time.sleep(timeout)  \n@user-code",
                                                         "readonly":  true
                                                     }
                                   },
                      "outputs":  [

                                  ],
                      "source":  [
                                     "# CODE-BEISPIEL - DU KANNST HIER NICHT BEARBEITEN\n",
                                     "# AUSFÜHREN, UM ZU SEHEN, WAS PASSIERT\n",
                                     "\n",
                                     "# bewege die Dame 3 Blöcke vorwärts\n",
                                     "# bewege den König 3 Blöcke nach links\n",
                                     "\n",
                                     "for i in range(3):\n",
                                     "    move_chess_piece(\"queen\", \"orange\")\n",
                                     "\n",
                                     "for i in range(3):\n",
                                     "    move_chess_piece(\"king\", \"blue\")"
                                 ]
                  },
                  {
                      "cell_type":  "markdown",
                      "id":  "5541dff4",
                      "metadata":  {

                                   },
                      "source":  [
                                     "# Aktivität:\n",
                                     "\n",
                                     "Durchsuche den Raum, um herauszufinden, wohin du die einzelnen Schachfiguren bewegen solltest, und schreibe dann Code, um sie an den richtigen Stellen auf dem schwarz-weiß karierten Boden zu positionieren. Achte darauf, dass die Schachfiguren nicht aneinander stoßen.\n",
                                     "\n",
                                     "Der unten eingefügte Code ist fehlerhaft. Kannst du ihn korrigieren? Führe den Code aus, um zu sehen, was passiert, und behebe ihn dann, indem du ihn zur richtigen Lösung bearbeitest."
                                 ]
                  },
                  {
                      "cell_type":  "code",
                      "execution_count":  null,
                      "id":  "b6f4bd0e",
                      "metadata":  {
                                       "minecraft":  {
                                                         "closeCodeBuilderOnRun":  true,
                                                         "hidden":  false,
                                                         "onCodeCancelledCommand":  "scoreboard players set @s code_status 0",
                                                         "onCodeErrorCommand":  "scoreboard players set @s code_status 0",
                                                         "onCodeStartedCommand":  "scoreboard players set @s code_status 1",
                                                         "onCodeStoppedCommand":  "scoreboard players set @s code_status 0",
                                                         "onCodeSuccessfulCommand":  "scoreboard players set @s code_status 0",
                                                         "overridePython":  "import time\n\ntimeout = 0.100\ncommunicationPos = (0, 64, 0)\n\ntime.sleep(0.250)\n\ndef move_chess_piece(type, color):\n    if type==\"king\" and color==\"orange\":\n        world.set(communicationPos, \"orange concrete\")\n        time.sleep(timeout)            \n    elif type==\"king\" and color==\"magenta\":\n        world.set(communicationPos, \"magenta concrete\")\n        time.sleep(timeout)    \n    elif type==\"king\" and color==\"blue\":\n        world.set(communicationPos, \"light blue concrete\")\n        time.sleep(timeout)    \n    elif type==\"king\" and color==\"yellow\":\n        world.set(communicationPos, \"yellow concrete\")\n        time.sleep(timeout)                \n    elif type==\"queen\" and color==\"orange\":\n        world.set(communicationPos, \"lime concrete\")\n        time.sleep(timeout)    \n    elif type==\"queen\" and color==\"magenta\":\n        world.set(communicationPos, \"pink concrete\")\n        time.sleep(timeout)    \n    elif type==\"queen\" and color==\"blue\":\n        world.set(communicationPos, \"gray concrete\")\n        time.sleep(timeout)    \n    elif type==\"queen\" and color==\"yellow\":\n        world.set(communicationPos, \"light gray concrete\")\n        time.sleep(timeout)  \n@user-code",
                                                         "readonly":  false
                                                     }
                                   },
                      "outputs":  [

                                  ],
                      "source":  [
                                     "# Code hier\n",
                                     "\n",
                                     "move_chess_piece(\"king\", \"orange\")\n",
                                     "move_chess_piece(\"king\", \"orange\")\n",
                                     "move_chess_piece(\"king\", \"orange\")\n",
                                     "move_chess_piece(\"king\", \"blue\")\n",
                                     "move_chess_piece(\"queen\", \"yellow\")\n",
                                     "move_chess_piece(\"queen\", \"yellow\")\n",
                                     "move_chess_piece(\"queen\", \"orange\")\n"
                                 ]
                  }
              ],
    "metadata":  {
                     "celltoolbar":  "Edit Metadata",
                     "kernelspec":  {
                                        "display_name":  "Python 3.10.8 64-bit (microsoft store)",
                                        "language":  "python",
                                        "name":  "python3"
                                    },
                     "language_info":  {
                                           "codemirror_mode":  {
                                                                   "name":  "ipython",
                                                                   "version":  3
                                                               },
                                           "file_extension":  ".py",
                                           "mimetype":  "text/x-python",
                                           "name":  "python",
                                           "nbconvert_exporter":  "python",
                                           "pygments_lexer":  "ipython3",
                                           "version":  "3.10.8"
                                       },
                     "minecraft":  {
                                       "description":  "HOC 2022",
                                       "page_id":  "1.1",
                                       "page_name":  "HOC 2022",
                                       "style":  "minecraft.css"
                                   },
                     "vscode":  {
                                    "interpreter":  {
                                                        "hash":  "34242f13a52f302bd973ebb7ec1f6ba9310bbd38aa2ae877991984a75c84a395"
                                                    }
                                }
                 },
    "nbformat":  4,
    "nbformat_minor":  5
}
