﻿{
    "cells":  [
                  {
                      "cell_type":  "markdown",
                      "id":  "2b35a6c4",
                      "metadata":  {

                                   },
                      "source":  [
                                     "# Laser-Puzzle\n",
                                     "\n",
                                     "Feste Blöcke halten den Laser auf! Verschiebe die Reihen der gelben und grünen Blöcke, damit der Laser durch die Glasblöcke geht und das Licht auf der anderen Seite einschaltet. Benutze die Funktion `shift_row()`, um die Reihen entweder nach links oder nach rechts zu verschieben, damit der Laser die Glasblöcke durchdringen kann.\n",
                                     "\n",
                                     "Die Funktion ‚shift_row()‘ akzeptiert zwei Parameter (Strings). Der erste Parameter definiert, welche Farbzeile du verschieben möchtest, und der zweite Parameter definiert die Richtung, in die sich die Zeile verschieben soll.\n",
                                     "\n",
                                     "Gültige Farben sind:\n",
                                     "- ‚green‘ ![Grün](img/green_right.png \"Grün\")\n",
                                     "- ‚yellow‘ ![Gelb](img/yellow_right.png \"Gelb\")\n",
                                     "\n",
                                     "Gültige Richtungen sind:\n",
                                     "- ‚right‘ ![Rechts](img/gray_right.png \"Rechts\")\n",
                                     "- ‚left‘ ![Links](img/gray_left.png \"Links\")"
                                 ]
                  },
                  {
                      "cell_type":  "code",
                      "execution_count":  null,
                      "id":  "a2c9701a",
                      "metadata":  {
                                       "minecraft":  {
                                                         "closeCodeBuilderOnRun":  true,
                                                         "hidden":  false,
                                                         "onCodeCancelledCommand":  "scoreboard players set @s code_status 0",
                                                         "onCodeErrorCommand":  "scoreboard players set @s code_status 0",
                                                         "onCodeStartedCommand":  "scoreboard players set @s code_status 1",
                                                         "onCodeStoppedCommand":  "scoreboard players set @s code_status 0",
                                                         "onCodeSuccessfulCommand":  "scoreboard players set @s code_status 0",
                                                         "overridePython":  "import time\n\ntimeout = 0.100\ncommunicationPos = (0, 64, 0)\n\ntime.sleep(0.250)\n\ndef shift_row(color, direction):\n    if color==\"green\" and direction == \"left\":\n        world.set(communicationPos, \"orange concrete\")\n        time.sleep(timeout)   \n    elif color==\"green\" and direction == \"right\":\n        world.set(communicationPos, \"magenta concrete\")\n        time.sleep(timeout)                 \n    elif color==\"yellow\" and direction == \"left\":\n        world.set(communicationPos, \"light blue concrete\")\n        time.sleep(timeout)   \n    elif color==\"yellow\" and direction == \"right\":\n        world.set(communicationPos, \"yellow concrete\")\n        time.sleep(timeout)                 \n@user-code",
                                                         "readonly":  true
                                                     }
                                   },
                      "outputs":  [

                                  ],
                      "source":  [
                                     "# CODE-BEISPIEL - DU KANNST HIER NICHT BEARBEITEN\n",
                                     "# AUSFÜHREN, UM ZU SEHEN, WAS PASSIERT\n",
                                     "\n",
                                     "# verschiebe die grüne Zeile nach rechts\n",
                                     "# 3 mal und die gelbe Reihe\n",
                                     "# links 1 einmal.\n",
                                     "\n",
                                     "shift_row(\"green\", \"right\")\n",
                                     "shift_row(\"green\", \"right\")\n",
                                     "shift_row(\"green\", \"right\")\n",
                                     "shift_row(\"yellow\", \"left\")"
                                 ]
                  },
                  {
                      "cell_type":  "markdown",
                      "id":  "fc92bbf7",
                      "metadata":  {

                                   },
                      "source":  [
                                     "# Tipp:\n",
                                     "\n",
                                     "Verwende eine \"for\"-Schleife, um eine oder mehrere Aktionen mehrmals auszuführen."
                                 ]
                  },
                  {
                      "cell_type":  "code",
                      "execution_count":  null,
                      "id":  "a4f846a3",
                      "metadata":  {
                                       "minecraft":  {
                                                         "closeCodeBuilderOnRun":  true,
                                                         "hidden":  false,
                                                         "onCodeCancelledCommand":  "scoreboard players set @s code_status 0",
                                                         "onCodeErrorCommand":  "scoreboard players set @s code_status 0",
                                                         "onCodeStartedCommand":  "scoreboard players set @s code_status 1",
                                                         "onCodeStoppedCommand":  "scoreboard players set @s code_status 0",
                                                         "onCodeSuccessfulCommand":  "scoreboard players set @s code_status 0",
                                                         "overridePython":  "import time\n\ntimeout = 0.100\ncommunicationPos = (0, 64, 0)\n\ntime.sleep(0.250)\n\ndef shift_row(color, direction):\n    if color==\"green\" and direction == \"left\":\n        world.set(communicationPos, \"orange concrete\")\n        time.sleep(timeout)   \n    elif color==\"green\" and direction == \"right\":\n        world.set(communicationPos, \"magenta concrete\")\n        time.sleep(timeout)                 \n    elif color==\"yellow\" and direction == \"left\":\n        world.set(communicationPos, \"light blue concrete\")\n        time.sleep(timeout)   \n    elif color==\"yellow\" and direction == \"right\":\n        world.set(communicationPos, \"yellow concrete\")\n        time.sleep(timeout)                 \n@user-code",
                                                         "readonly":  true
                                                     }
                                   },
                      "outputs":  [

                                  ],
                      "source":  [
                                     "# CODE-BEISPIEL - DU KANNST HIER NICHT BEARBEITEN\n",
                                     "# AUSFÜHREN, UM ZU SEHEN, WAS PASSIERT\n",
                                     "\n",
                                     "# verschiebe die grüne Zeile nach rechts\n",
                                     "# 3 mal und die gelbe Reihe\n",
                                     "# links 1 einmal.\n",
                                     "\n",
                                     "for i in range(3):\n",
                                     "    shift_row(\"green\", \"right\")\n",
                                     "    \n",
                                     "shift_row(\"yellow\", \"left\")"
                                 ]
                  },
                  {
                      "cell_type":  "markdown",
                      "id":  "0147b7a7",
                      "metadata":  {

                                   },
                      "source":  [
                                     "# Aktivität:\n",
                                     "\n",
                                     "Verschiebe die gelben und grünen Reihen entweder nach links oder rechts, so dass die Laser durch die Glasblöcke gehen und die Lichter einschalten.\n",
                                     "\n",
                                     "Der unten eingefügte Code ist fehlerhaft. Kannst du ihn korrigieren? Führe den Code aus, um zu sehen, was passiert, und behebe ihn dann, indem du ihn zur richtigen Lösung bearbeitest."
                                 ]
                  },
                  {
                      "cell_type":  "code",
                      "execution_count":  null,
                      "id":  "b6f4bd0e",
                      "metadata":  {
                                       "minecraft":  {
                                                         "closeCodeBuilderOnRun":  true,
                                                         "hidden":  false,
                                                         "onCodeCancelledCommand":  "scoreboard players set @s code_status 0",
                                                         "onCodeErrorCommand":  "scoreboard players set @s code_status 0",
                                                         "onCodeStartedCommand":  "scoreboard players set @s code_status 1",
                                                         "onCodeStoppedCommand":  "scoreboard players set @s code_status 0",
                                                         "onCodeSuccessfulCommand":  "scoreboard players set @s code_status 0",
                                                         "overridePython":  "import time\n\ntimeout = 0.100\ncommunicationPos = (0, 64, 0)\n\ntime.sleep(0.250)\n\ndef shift_row(color, direction):\n    if color==\"green\" and direction == \"left\":\n        world.set(communicationPos, \"orange concrete\")\n        time.sleep(timeout)   \n    elif color==\"green\" and direction == \"right\":\n        world.set(communicationPos, \"magenta concrete\")\n        time.sleep(timeout)                 \n    elif color==\"yellow\" and direction == \"left\":\n        world.set(communicationPos, \"light blue concrete\")\n        time.sleep(timeout)   \n    elif color==\"yellow\" and direction == \"right\":\n        world.set(communicationPos, \"yellow concrete\")\n        time.sleep(timeout)                 \n@user-code",
                                                         "readonly":  false
                                                     }
                                   },
                      "outputs":  [

                                  ],
                      "source":  [
                                     "# Code hier\n",
                                     "\n",
                                     "shift_row(\"green\", \"left\")\n",
                                     "shift_row(\"green\", \"left\")\n",
                                     "shift_row(\"yellow\", \"right\")"
                                 ]
                  }
              ],
    "metadata":  {
                     "celltoolbar":  "Edit Metadata",
                     "kernelspec":  {
                                        "display_name":  "Python 3 (ipykernel)",
                                        "language":  "python",
                                        "name":  "python3"
                                    },
                     "language_info":  {
                                           "codemirror_mode":  {
                                                                   "name":  "ipython",
                                                                   "version":  3
                                                               },
                                           "file_extension":  ".py",
                                           "mimetype":  "text/x-python",
                                           "name":  "python",
                                           "nbconvert_exporter":  "python",
                                           "pygments_lexer":  "ipython3",
                                           "version":  "3.10.7"
                                       },
                     "minecraft":  {
                                       "description":  "HOC 2022",
                                       "page_id":  "1.1",
                                       "page_name":  "HOC 2022",
                                       "style":  "minecraft.css"
                                   }
                 },
    "nbformat":  4,
    "nbformat_minor":  5
}
