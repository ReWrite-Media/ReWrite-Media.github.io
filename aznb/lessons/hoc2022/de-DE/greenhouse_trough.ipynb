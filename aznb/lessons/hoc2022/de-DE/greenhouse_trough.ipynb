﻿{
    "cells":  [
                  {
                      "cell_type":  "markdown",
                      "id":  "79ecde0b",
                      "metadata":  {

                                   },
                      "source":  [
                                     "# Trog\n",
                                     "\n",
                                     "Oh nein! Löcher im Kanal verhindern, dass das Wasser in den Garten fließt! Fülle diese Löcher, um dem Wasser zu helfen! Verwende die Funktion ‚move_cursor()‘, um den Cursor über einem Loch zu positionieren, und dann ‚place_block()‘, um es auszufüllen.\n",
                                     "\n",
                                     "Die Funktion ‚move_cursor()‘ benötigt einen Parameter, der die Richtung definiert. Dieser Parameter ist die Farbe des Pfeils, der die Richtung repräsentiert, in die du dich bewegen willst.\n",
                                     "\n",
                                     "Gültige Richtungen sind:\n",
                                     "- ‚orange‘ (bewegt den Cursor nach vorne) ![Orangefarbener Pfeil] (img/orange_arrow.png \"Orangefarbener Pfeil\")\n",
                                     "- ‚magenta‘ (bewegt den Cursor nach unten) ! [Magenta-Pfeil] (img/magenta_arrow.png \"Magenta-Pfeil\")\n",
                                     "- ‚blue‘ (bewegt den Cursor nach links) ![Blauer Pfeil](img/blue_arrow.png \"Blauer Pfeil\")\n",
                                     "- ‚yellow‘ (bewegt den Cursor nach rechts) ![Gelber Pfeil](img/yellow_arrow.png \"Gelber Pfeil\")"
                                 ]
                  },
                  {
                      "cell_type":  "code",
                      "execution_count":  null,
                      "id":  "5fac987e",
                      "metadata":  {
                                       "minecraft":  {
                                                         "closeCodeBuilderOnRun":  true,
                                                         "hidden":  false,
                                                         "onCodeCancelledCommand":  "scoreboard players set @s code_status 0",
                                                         "onCodeErrorCommand":  "scoreboard players set @s code_status 0",
                                                         "onCodeStartedCommand":  "scoreboard players set @s code_status 1",
                                                         "onCodeStoppedCommand":  "scoreboard players set @s code_status 0",
                                                         "onCodeSuccessfulCommand":  "scoreboard players set @s code_status 0",
                                                         "overridePython":  "import time\n\ntimeout = 0.100\ncommunicationPos = (0, 64, 0)\n\ntime.sleep(0.250)\n\ndef move_cursor(color):\n    if color == \"orange\":\n        world.set(communicationPos, \"orange concrete\")\n        time.sleep(timeout)\n    elif color == \"magenta\":\n        world.set(communicationPos, \"magenta concrete\")\n        time.sleep(timeout)\n    elif color == \"blue\":\n        world.set(communicationPos, \"light blue concrete\")\n        time.sleep(timeout)\n    elif color == \"yellow\":\n        world.set(communicationPos, \"yellow concrete\")\n        time.sleep(timeout)\n\ndef place_block():\n    world.set(communicationPos, \"lime concrete\")\n    time.sleep(timeout) \n@user-code",
                                                         "readonly":  true
                                                     }
                                   },
                      "outputs":  [

                                  ],
                      "source":  [
                                     "# CODE-BEISPIEL - DU KANNST HIER NICHT BEARBEITEN\n",
                                     "# AUSFÜHREN, UM ZU SEHEN, WAS PASSIERT\n",
                                     "\n",
                                     "# bewege den Cursor und platziere einen Block zweimal\n",
                                     "# dann 2 Blöcke nach rechts verschieben.\n",
                                     "\n",
                                     "move_cursor(\"orange\")\n",
                                     "place_block()\n",
                                     "move_cursor(\"orange\")\n",
                                     "place_block()\n",
                                     "move_cursor(\"yellow\")\n",
                                     "move_cursor(\"yellow\")"
                                 ]
                  },
                  {
                      "cell_type":  "markdown",
                      "id":  "bc2dc5e1",
                      "metadata":  {

                                   },
                      "source":  [
                                     "# Tipp:\n",
                                     "\n",
                                     "Verwende eine \"for\"-Schleife, um eine oder mehrere Aktionen mehrmals auszuführen."
                                 ]
                  },
                  {
                      "cell_type":  "code",
                      "execution_count":  null,
                      "id":  "75a63229",
                      "metadata":  {
                                       "minecraft":  {
                                                         "closeCodeBuilderOnRun":  true,
                                                         "hidden":  false,
                                                         "onCodeCancelledCommand":  "scoreboard players set @s code_status 0",
                                                         "onCodeErrorCommand":  "scoreboard players set @s code_status 0",
                                                         "onCodeStartedCommand":  "scoreboard players set @s code_status 1",
                                                         "onCodeStoppedCommand":  "scoreboard players set @s code_status 0",
                                                         "onCodeSuccessfulCommand":  "scoreboard players set @s code_status 0",
                                                         "overridePython":  "import time\n\ntimeout = 0.100\ncommunicationPos = (0, 64, 0)\n\ntime.sleep(0.250)\n\ndef move_cursor(color):\n    if color == \"orange\":\n        world.set(communicationPos, \"orange concrete\")\n        time.sleep(timeout)\n    elif color == \"magenta\":\n        world.set(communicationPos, \"magenta concrete\")\n        time.sleep(timeout)\n    elif color == \"blue\":\n        world.set(communicationPos, \"light blue concrete\")\n        time.sleep(timeout)\n    elif color == \"yellow\":\n        world.set(communicationPos, \"yellow concrete\")\n        time.sleep(timeout)\n\ndef place_block():\n    world.set(communicationPos, \"lime concrete\")\n    time.sleep(timeout) \n@user-code",
                                                         "readonly":  true
                                                     }
                                   },
                      "outputs":  [

                                  ],
                      "source":  [
                                     "# CODE-BEISPIEL - DU KANNST HIER NICHT BEARBEITEN\n",
                                     "# AUSFÜHREN, UM ZU SEHEN, WAS PASSIERT\n",
                                     "\n",
                                     "# bewege den Cursor und platziere einen Block zweimal\n",
                                     "# dann 2 Blöcke nach rechts verschieben.\n",
                                     "\n",
                                     "for i in range(2):\n",
                                     "    move_cursor(\"orange\")\n",
                                     "    place_block()\n",
                                     "\n",
                                     "move_cursor(\"yellow\")\n",
                                     "move_cursor(\"yellow\")"
                                 ]
                  },
                  {
                      "cell_type":  "markdown",
                      "id":  "a03ae8cb",
                      "metadata":  {

                                   },
                      "source":  [
                                     "# Aktivität:\n",
                                     "\n",
                                     "Fülle alle sechs Löcher im Kanal, damit das Wasser in den Garten fließt!\n",
                                     "\n",
                                     "Der unten eingefügte Code ist fehlerhaft. Kannst du ihn korrigieren? Führe den Code aus, um zu sehen, was passiert, und behebe ihn dann, indem du ihn zur richtigen Lösung bearbeitest."
                                 ]
                  },
                  {
                      "cell_type":  "code",
                      "execution_count":  null,
                      "id":  "b6f4bd0e",
                      "metadata":  {
                                       "minecraft":  {
                                                         "closeCodeBuilderOnRun":  true,
                                                         "hidden":  false,
                                                         "onCodeCancelledCommand":  "scoreboard players set @s code_status 0",
                                                         "onCodeErrorCommand":  "scoreboard players set @s code_status 0",
                                                         "onCodeStartedCommand":  "scoreboard players set @s code_status 1",
                                                         "onCodeStoppedCommand":  "scoreboard players set @s code_status 0",
                                                         "onCodeSuccessfulCommand":  "scoreboard players set @s code_status 0",
                                                         "overridePython":  "import time\n\ntimeout = 0.100\ncommunicationPos = (0, 64, 0)\n\ntime.sleep(0.250)\n\ndef move_cursor(color):\n    if color == \"orange\":\n        world.set(communicationPos, \"orange concrete\")\n        time.sleep(timeout)\n    elif color == \"magenta\":\n        world.set(communicationPos, \"magenta concrete\")\n        time.sleep(timeout)\n    elif color == \"blue\":\n        world.set(communicationPos, \"light blue concrete\")\n        time.sleep(timeout)\n    elif color == \"yellow\":\n        world.set(communicationPos, \"yellow concrete\")\n        time.sleep(timeout)\n\ndef place_block():\n    world.set(communicationPos, \"lime concrete\")\n    time.sleep(timeout) \n@user-code",
                                                         "readonly":  false
                                                     }
                                   },
                      "outputs":  [

                                  ],
                      "source":  [
                                     "# Code hier\n",
                                     "\n",
                                     "move_cursor(\"orange\")\n",
                                     "place_block()\n",
                                     "move_cursor(\"orange\")\n",
                                     "place_block()\n",
                                     "move_cursor(\"yellow\")\n",
                                     "move_cursor(\"yellow\")\n",
                                     "move_cursor(\"orange\")\n",
                                     "place_block()\n"
                                 ]
                  }
              ],
    "metadata":  {
                     "celltoolbar":  "Edit Metadata",
                     "kernelspec":  {
                                        "display_name":  "Python 3 (ipykernel)",
                                        "language":  "python",
                                        "name":  "python3"
                                    },
                     "language_info":  {
                                           "codemirror_mode":  {
                                                                   "name":  "ipython",
                                                                   "version":  3
                                                               },
                                           "file_extension":  ".py",
                                           "mimetype":  "text/x-python",
                                           "name":  "python",
                                           "nbconvert_exporter":  "python",
                                           "pygments_lexer":  "ipython3",
                                           "version":  "3.10.7"
                                       },
                     "minecraft":  {
                                       "description":  "HOC 2022",
                                       "page_id":  "1.1",
                                       "page_name":  "HOC 2022",
                                       "style":  "minecraft.css"
                                   }
                 },
    "nbformat":  4,
    "nbformat_minor":  5
}
