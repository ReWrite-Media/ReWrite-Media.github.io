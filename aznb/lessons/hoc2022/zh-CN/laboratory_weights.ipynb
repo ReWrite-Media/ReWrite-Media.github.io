﻿{
    "cells":  [
                  {
                      "cell_type":  "markdown",
                      "id":  "bcc5bf7e",
                      "metadata":  {

                                   },
                      "source":  [
                                     "# 重量\n",
                                     "\n",
                                     "你需要秤的重量刚好达到 23 磅。也许附近会有一个告示牌告诉我每个生物的重量是多少？使用\"summon_animal()”函数召唤一组动物，这些动物加起来重达 23 磅。\n",
                                     "\n",
                                     "\"summon_animal()”函数采用一个参数，用于定义应该召唤哪种动物。\n",
                                     "\n",
                                     "有效动物为：\n",
                                     "- `chicken` (鸡) ![鸡](img/chicken_weight.png \"鸡\")\n",
                                     "- `sheep` (绵羊) ![绵羊](img/sheep_weight.png \"绵羊\")\n",
                                     "- `cow` (牛) ![牛](img/cow_weight.png \"牛\")"
                                 ]
                  },
                  {
                      "cell_type":  "code",
                      "execution_count":  null,
                      "id":  "35b4de77",
                      "metadata":  {
                                       "minecraft":  {
                                                         "closeCodeBuilderOnRun":  true,
                                                         "hidden":  false,
                                                         "onCodeCancelledCommand":  "scoreboard players set @s code_status 0",
                                                         "onCodeErrorCommand":  "scoreboard players set @s code_status 0",
                                                         "onCodeStartedCommand":  "scoreboard players set @s code_status 1",
                                                         "onCodeStoppedCommand":  "scoreboard players set @s code_status 0",
                                                         "onCodeSuccessfulCommand":  "scoreboard players set @s code_status 0",
                                                         "overridePython":  "import time\n\ntimeout = 0.100\ncommunicationPos = (0, 64, 0)\nweightDropPosition = (-18, 77, 162)\n\ntime.sleep(0.250)\n\ndef summon_animal(mob):\n    if mob==\"chicken\":\n        summon(\"chicken\",weightDropPosition)\n        time.sleep(timeout)         \n    elif mob==\"sheep\":\n        summon(\"sheep\",weightDropPosition)\n        time.sleep(timeout)\n    elif mob==\"cow\":\n        summon(\"cow\",weightDropPosition)\n        time.sleep(timeout)\n@user-code",
                                                         "readonly":  true
                                                     }
                                   },
                      "outputs":  [

                                  ],
                      "source":  [
                                     "# 代码示例 - 你不能在此处编辑\n",
                                     "# 运行它，看看会发生什么\n",
                                     "\n",
                                     "# 召唤 5 只鸡和\n",
                                     "#两头牛\n",
                                     "\n",
                                     "summon_animal(\"chicken\")\n",
                                     "summon_animal(\"chicken\")\n",
                                     "summon_animal(\"chicken\")\n",
                                     "summon_animal(\"chicken\")\n",
                                     "summon_animal(\"chicken\")\n",
                                     "summon_animal(\"cow\")"
                                 ]
                  },
                  {
                      "cell_type":  "markdown",
                      "id":  "75196082",
                      "metadata":  {

                                   },
                      "source":  [
                                     "# 专业提示：\n",
                                     "\n",
                                     "使用 `for` 循环多次执行一个或多个操作。"
                                 ]
                  },
                  {
                      "cell_type":  "code",
                      "execution_count":  null,
                      "id":  "2dd552bd",
                      "metadata":  {
                                       "minecraft":  {
                                                         "closeCodeBuilderOnRun":  true,
                                                         "hidden":  false,
                                                         "onCodeCancelledCommand":  "scoreboard players set @s code_status 0",
                                                         "onCodeErrorCommand":  "scoreboard players set @s code_status 0",
                                                         "onCodeStartedCommand":  "scoreboard players set @s code_status 1",
                                                         "onCodeStoppedCommand":  "scoreboard players set @s code_status 0",
                                                         "onCodeSuccessfulCommand":  "scoreboard players set @s code_status 0",
                                                         "overridePython":  "import time\n\ntimeout = 0.100\ncommunicationPos = (0, 64, 0)\nweightDropPosition = (-18, 77, 162)\n\ntime.sleep(0.250)\n\ndef summon_animal(mob):\n    if mob==\"chicken\":\n        summon(\"chicken\",weightDropPosition)\n        time.sleep(timeout)         \n    elif mob==\"sheep\":\n        summon(\"sheep\",weightDropPosition)\n        time.sleep(timeout)\n    elif mob==\"cow\":\n        summon(\"cow\",weightDropPosition)\n        time.sleep(timeout)\n@user-code",
                                                         "readonly":  true
                                                     }
                                   },
                      "outputs":  [

                                  ],
                      "source":  [
                                     "# 代码示例 - 你不能在此处编辑\n",
                                     "# 运行它，看看会发生什么\n",
                                     "\n",
                                     "# 召唤 5 只鸡和\n",
                                     "#两头牛\n",
                                     "\n",
                                     "for i in range(5):\n",
                                     "    summon_animal(\"chicken\")\n",
                                     "\n",
                                     "summon_animal(\"cow\")"
                                 ]
                  },
                  {
                      "cell_type":  "markdown",
                      "id":  "7c5e56fb",
                      "metadata":  {

                                   },
                      "source":  [
                                     "# 活动：\n",
                                     "\n",
                                     "搜索该区域以获取有关每只动物体重的信息，然后编写代码以召唤足够的动物，使其重量刚好达到 23 磅。\n",
                                     "\n",
                                     "下面包含的代码已损坏，你能修复它吗？运行代码，看看会发生什么，然后编辑代码进行调试，得到正确的解决方案。"
                                 ]
                  },
                  {
                      "cell_type":  "code",
                      "execution_count":  null,
                      "id":  "b6f4bd0e",
                      "metadata":  {
                                       "minecraft":  {
                                                         "closeCodeBuilderOnRun":  true,
                                                         "hidden":  false,
                                                         "onCodeCancelledCommand":  "scoreboard players set @s code_status 0",
                                                         "onCodeErrorCommand":  "scoreboard players set @s code_status 0",
                                                         "onCodeStartedCommand":  "scoreboard players set @s code_status 1",
                                                         "onCodeStoppedCommand":  "scoreboard players set @s code_status 0",
                                                         "onCodeSuccessfulCommand":  "scoreboard players set @s code_status 0",
                                                         "overridePython":  "import time\n\ntimeout = 0.100\ncommunicationPos = (0, 64, 0)\nweightDropPosition = (-18, 77, 162)\n\ntime.sleep(0.250)\n\ndef summon_animal(mob):\n    if mob==\"chicken\":\n        summon(\"chicken\",weightDropPosition)\n        time.sleep(timeout)         \n    elif mob==\"sheep\":\n        summon(\"sheep\",weightDropPosition)\n        time.sleep(timeout)\n    elif mob==\"cow\":\n        summon(\"cow\",weightDropPosition)\n        time.sleep(timeout)\n@user-code",
                                                         "readonly":  false
                                                     }
                                   },
                      "outputs":  [

                                  ],
                      "source":  [
                                     "# 在此编写代码\n",
                                     "\n",
                                     "summon_animal(\"chicken\")\n",
                                     "summon_animal(\"chicken\")\n",
                                     "summon_animal(\"sheep\")\n",
                                     "summon_animal(\"cow\")\n"
                                 ]
                  }
              ],
    "metadata":  {
                     "celltoolbar":  "Edit Metadata",
                     "kernelspec":  {
                                        "display_name":  "Python 3 (ipykernel)",
                                        "language":  "python",
                                        "name":  "python3"
                                    },
                     "language_info":  {
                                           "codemirror_mode":  {
                                                                   "name":  "ipython",
                                                                   "version":  3
                                                               },
                                           "file_extension":  ".py",
                                           "mimetype":  "text/x-python",
                                           "name":  "python",
                                           "nbconvert_exporter":  "python",
                                           "pygments_lexer":  "ipython3",
                                           "version":  "3.10.7"
                                       },
                     "minecraft":  {
                                       "description":  "编程一小时 2022",
                                       "page_id":  "1.1",
                                       "page_name":  "编程一小时 2022",
                                       "style":  "minecraft.css"
                                   }
                 },
    "nbformat":  4,
    "nbformat_minor":  5
}
