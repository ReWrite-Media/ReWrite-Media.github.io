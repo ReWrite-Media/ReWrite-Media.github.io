﻿{
    "cells":  [
                  {
                      "cell_type":  "markdown",
                      "id":  "011de41a",
                      "metadata":  {

                                   },
                      "source":  [
                                     "# 棋子\n",
                                     "\n",
                                     "你已经解救了国王和皇后！但大门仍然没有打开。它们一定位于错误的位置。将它们移动到正确的位置上，这样你们最终就可以逃离这个位置！使用“move_chess_piece()” 函数将国王和皇后移动到正确的位置。\n",
                                     "\n",
                                     "“move_chess_piece()” 函数采用两个参数。第一个是你想移动的棋子，第二个是棋子应该移动的方向。\n",
                                     "\n",
                                     "有效棋子为：\n",
                                     "- “国王”！[国王](img/king_icon.png \"国王\")\n",
                                     "- “皇后！[皇后](/queen_icon.png \"皇后\")\n",
                                     "\n",
                                     "有效方向为：\n",
                                     "- “橙色”（向前移动棋子）！[橙色箭头](img/orange_arrow.png \"橙色箭头\")\n",
                                     "- “品红色”（将棋子向后移动）！[品红色箭头](img/magenta_arrow.png \"品红色箭头\")\n",
                                     "- “蓝色”（将棋子向左移动）！[蓝色箭头](img/blue_arrow.png \"蓝色箭头\")\n",
                                     "- “黄色”（向右移动棋子）！[黄色箭头](img/yellow_arrow.png \"黄色箭头\")\n"
                                 ]
                  },
                  {
                      "cell_type":  "code",
                      "execution_count":  null,
                      "id":  "f49dad45",
                      "metadata":  {
                                       "minecraft":  {
                                                         "closeCodeBuilderOnRun":  true,
                                                         "hidden":  false,
                                                         "onCodeCancelledCommand":  "scoreboard players set @s code_status 0",
                                                         "onCodeErrorCommand":  "scoreboard players set @s code_status 0",
                                                         "onCodeStartedCommand":  "scoreboard players set @s code_status 1",
                                                         "onCodeStoppedCommand":  "scoreboard players set @s code_status 0",
                                                         "onCodeSuccessfulCommand":  "scoreboard players set @s code_status 0",
                                                         "overridePython":  "import time\n\ntimeout = 0.100\ncommunicationPos = (0, 64, 0)\n\ntime.sleep(0.250)\n\ndef move_chess_piece(type, color):\n    if type==\"king\" and color==\"orange\":\n        world.set(communicationPos, \"orange concrete\")\n        time.sleep(timeout)            \n    elif type==\"king\" and color==\"magenta\":\n        world.set(communicationPos, \"magenta concrete\")\n        time.sleep(timeout)    \n    elif type==\"king\" and color==\"blue\":\n        world.set(communicationPos, \"light blue concrete\")\n        time.sleep(timeout)    \n    elif type==\"king\" and color==\"yellow\":\n        world.set(communicationPos, \"yellow concrete\")\n        time.sleep(timeout)                \n    elif type==\"queen\" and color==\"orange\":\n        world.set(communicationPos, \"lime concrete\")\n        time.sleep(timeout)    \n    elif type==\"queen\" and color==\"magenta\":\n        world.set(communicationPos, \"pink concrete\")\n        time.sleep(timeout)    \n    elif type==\"queen\" and color==\"blue\":\n        world.set(communicationPos, \"gray concrete\")\n        time.sleep(timeout)    \n    elif type==\"queen\" and color==\"yellow\":\n        world.set(communicationPos, \"light gray concrete\")\n        time.sleep(timeout)  \n@user-code",
                                                         "readonly":  true
                                                     }
                                   },
                      "outputs":  [

                                  ],
                      "source":  [
                                     "# 代码示例 - 你不能在此处编辑\n",
                                     "# 运行它，看看会发生什么\n",
                                     "\n",
                                     "# 将皇后向前移动 3 个方块\n",
                                     "# 将国王向左移动 3 个方块\n",
                                     "\n",
                                     "move_chess_piece(\"queen\", \"orange\")\n",
                                     "move_chess_piece(\"queen\", \"orange\")\n",
                                     "move_chess_piece(\"queen\", \"orange\")\n",
                                     "\n",
                                     "move_chess_piece(\"king\", \"blue\")\n",
                                     "move_chess_piece(\"king\", \"blue\")\n",
                                     "move_chess_piece(\"king\", \"blue\")"
                                 ]
                  },
                  {
                      "cell_type":  "markdown",
                      "id":  "4a996193",
                      "metadata":  {

                                   },
                      "source":  [
                                     "# 专业提示：\n",
                                     "\n",
                                     "使用 `for` 循环多次执行一个或多个操作。"
                                 ]
                  },
                  {
                      "cell_type":  "code",
                      "execution_count":  null,
                      "id":  "0697247a",
                      "metadata":  {
                                       "minecraft":  {
                                                         "closeCodeBuilderOnRun":  true,
                                                         "hidden":  false,
                                                         "onCodeCancelledCommand":  "scoreboard players set @s code_status 0",
                                                         "onCodeErrorCommand":  "scoreboard players set @s code_status 0",
                                                         "onCodeStartedCommand":  "scoreboard players set @s code_status 1",
                                                         "onCodeStoppedCommand":  "scoreboard players set @s code_status 0",
                                                         "onCodeSuccessfulCommand":  "scoreboard players set @s code_status 0",
                                                         "overridePython":  "import time\n\ntimeout = 0.100\ncommunicationPos = (0, 64, 0)\n\ntime.sleep(0.250)\n\ndef move_chess_piece(type, color):\n    if type==\"king\" and color==\"orange\":\n        world.set(communicationPos, \"orange concrete\")\n        time.sleep(timeout)            \n    elif type==\"king\" and color==\"magenta\":\n        world.set(communicationPos, \"magenta concrete\")\n        time.sleep(timeout)    \n    elif type==\"king\" and color==\"blue\":\n        world.set(communicationPos, \"light blue concrete\")\n        time.sleep(timeout)    \n    elif type==\"king\" and color==\"yellow\":\n        world.set(communicationPos, \"yellow concrete\")\n        time.sleep(timeout)                \n    elif type==\"queen\" and color==\"orange\":\n        world.set(communicationPos, \"lime concrete\")\n        time.sleep(timeout)    \n    elif type==\"queen\" and color==\"magenta\":\n        world.set(communicationPos, \"pink concrete\")\n        time.sleep(timeout)    \n    elif type==\"queen\" and color==\"blue\":\n        world.set(communicationPos, \"gray concrete\")\n        time.sleep(timeout)    \n    elif type==\"queen\" and color==\"yellow\":\n        world.set(communicationPos, \"light gray concrete\")\n        time.sleep(timeout)  \n@user-code",
                                                         "readonly":  true
                                                     }
                                   },
                      "outputs":  [

                                  ],
                      "source":  [
                                     "# 代码示例 - 你不能在此处编辑\n",
                                     "# 运行它，看看会发生什么\n",
                                     "\n",
                                     "# 将皇后向前移动 3 个方块\n",
                                     "# 将国王向左移动 3 个方块\n",
                                     "\n",
                                     "for i in range(3):\n",
                                     "    move_chess_piece(\"queen\", \"orange\")\n",
                                     "\n",
                                     "for i in range(3):\n",
                                     "    move_chess_piece(\"king\", \"blue\")"
                                 ]
                  },
                  {
                      "cell_type":  "markdown",
                      "id":  "5541dff4",
                      "metadata":  {

                                   },
                      "source":  [
                                     "# 活动：\n",
                                     "\n",
                                     "搜索房间，找出你应该将每枚棋子移动到的位置，然后编写代码，将它们定位到黑白格子地板上的正确位置。确保棋子不会互相碰撞。\n",
                                     "\n",
                                     "下面包含的代码已损坏，你能修复它吗？运行代码，看看会发生什么，然后编辑代码进行调试，得到正确的解决方案。"
                                 ]
                  },
                  {
                      "cell_type":  "code",
                      "execution_count":  null,
                      "id":  "b6f4bd0e",
                      "metadata":  {
                                       "minecraft":  {
                                                         "closeCodeBuilderOnRun":  true,
                                                         "hidden":  false,
                                                         "onCodeCancelledCommand":  "scoreboard players set @s code_status 0",
                                                         "onCodeErrorCommand":  "scoreboard players set @s code_status 0",
                                                         "onCodeStartedCommand":  "scoreboard players set @s code_status 1",
                                                         "onCodeStoppedCommand":  "scoreboard players set @s code_status 0",
                                                         "onCodeSuccessfulCommand":  "scoreboard players set @s code_status 0",
                                                         "overridePython":  "import time\n\ntimeout = 0.100\ncommunicationPos = (0, 64, 0)\n\ntime.sleep(0.250)\n\ndef move_chess_piece(type, color):\n    if type==\"king\" and color==\"orange\":\n        world.set(communicationPos, \"orange concrete\")\n        time.sleep(timeout)            \n    elif type==\"king\" and color==\"magenta\":\n        world.set(communicationPos, \"magenta concrete\")\n        time.sleep(timeout)    \n    elif type==\"king\" and color==\"blue\":\n        world.set(communicationPos, \"light blue concrete\")\n        time.sleep(timeout)    \n    elif type==\"king\" and color==\"yellow\":\n        world.set(communicationPos, \"yellow concrete\")\n        time.sleep(timeout)                \n    elif type==\"queen\" and color==\"orange\":\n        world.set(communicationPos, \"lime concrete\")\n        time.sleep(timeout)    \n    elif type==\"queen\" and color==\"magenta\":\n        world.set(communicationPos, \"pink concrete\")\n        time.sleep(timeout)    \n    elif type==\"queen\" and color==\"blue\":\n        world.set(communicationPos, \"gray concrete\")\n        time.sleep(timeout)    \n    elif type==\"queen\" and color==\"yellow\":\n        world.set(communicationPos, \"light gray concrete\")\n        time.sleep(timeout)  \n@user-code",
                                                         "readonly":  false
                                                     }
                                   },
                      "outputs":  [

                                  ],
                      "source":  [
                                     "# 在此编写代码\n",
                                     "\n",
                                     "move_chess_piece(\"king\", \"orange\")\n",
                                     "move_chess_piece(\"king\", \"orange\")\n",
                                     "move_chess_piece(\"king\", \"orange\")\n",
                                     "move_chess_piece(\"king\", \"blue\")\n",
                                     "move_chess_piece(\"queen\", \"yellow\")\n",
                                     "move_chess_piece(\"queen\", \"yellow\")\n",
                                     "move_chess_piece(\"queen\", \"orange\")\n"
                                 ]
                  }
              ],
    "metadata":  {
                     "celltoolbar":  "Edit Metadata",
                     "kernelspec":  {
                                        "display_name":  "Python 3.10.8 64-bit (microsoft store)",
                                        "language":  "python",
                                        "name":  "python3"
                                    },
                     "language_info":  {
                                           "codemirror_mode":  {
                                                                   "name":  "ipython",
                                                                   "version":  3
                                                               },
                                           "file_extension":  ".py",
                                           "mimetype":  "text/x-python",
                                           "name":  "python",
                                           "nbconvert_exporter":  "python",
                                           "pygments_lexer":  "ipython3",
                                           "version":  "3.10.8"
                                       },
                     "minecraft":  {
                                       "description":  "编程一小时 2022",
                                       "page_id":  "1.1",
                                       "page_name":  "编程一小时 2022",
                                       "style":  "minecraft.css"
                                   },
                     "vscode":  {
                                    "interpreter":  {
                                                        "hash":  "34242f13a52f302bd973ebb7ec1f6ba9310bbd38aa2ae877991984a75c84a395"
                                                    }
                                }
                 },
    "nbformat":  4,
    "nbformat_minor":  5
}
