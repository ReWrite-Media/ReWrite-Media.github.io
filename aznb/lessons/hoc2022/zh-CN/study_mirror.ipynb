﻿{
    "cells":  [
                  {
                      "cell_type":  "markdown",
                      "id":  "7c614f68",
                      "metadata":  {

                                   },
                      "source":  [
                                     "# 错误反射\n",
                                     "\n",
                                     "镜子里的东西看起来跟你所在房间里的不太一样。找到所有差异，并对房间进行改动使之相匹配。使用“move_cursor()”定位光标，并使用“place_block()”将方块放置在所选位置。\n",
                                     "\n",
                                     "“move_cursor()”函数采用一个用于定义方向的参数。该参数为箭头的颜色，箭头代表要移动的方向。\n",
                                     "\n",
                                     "有效方向为：\n",
                                     "- “橙色”（向上移动光标）！[橙色箭头](img/orange_arrow.png \"橙色箭头\")\n",
                                     "- “品红色”（向下移动光标）！[品红色箭头](img/magenta_arrow.png \"品红色箭头\")\n",
                                     "- “蓝色”（向左移动光标）！[蓝色箭头](img/blue_arrow.png \"蓝色箭头\")\n",
                                     "- “黄色”（向右移动光标）！[黄色箭头](img/yellow_arrow.png \"黄色箭头\")\n"
                                 ]
                  },
                  {
                      "cell_type":  "code",
                      "execution_count":  null,
                      "id":  "e486686a",
                      "metadata":  {
                                       "minecraft":  {
                                                         "closeCodeBuilderOnRun":  true,
                                                         "hidden":  false,
                                                         "onCodeCancelledCommand":  "scoreboard players set @s code_status 0",
                                                         "onCodeErrorCommand":  "scoreboard players set @s code_status 0",
                                                         "onCodeStartedCommand":  "scoreboard players set @s code_status 1",
                                                         "onCodeStoppedCommand":  "scoreboard players set @s code_status 0",
                                                         "onCodeSuccessfulCommand":  "scoreboard players set @s code_status 0",
                                                         "overridePython":  "import time\n\ntimeout = 0.100\ncommunicationPos = (0, 64, 0)\n\ntime.sleep(0.250)\n\ndef move_cursor(color):\n    if color == \"orange\":\n        world.set(communicationPos, \"orange concrete\")\n        time.sleep(timeout)\n    elif color == \"magenta\":\n        world.set(communicationPos, \"magenta concrete\")\n        time.sleep(timeout)\n    elif color == \"blue\":\n        world.set(communicationPos, \"light blue concrete\")\n        time.sleep(timeout)\n    elif color == \"yellow\":\n        world.set(communicationPos, \"yellow concrete\")\n        time.sleep(timeout)\n\ndef place_block():\n    world.set(communicationPos, \"lime concrete\")\n    time.sleep(timeout)         \n@user-code",
                                                         "readonly":  true
                                                     }
                                   },
                      "outputs":  [

                                  ],
                      "source":  [
                                     "# 代码示例 - 你不能在这里编辑\n",
                                     "# 运行看看会发生什么\n",
                                     "\n",
                                     "# 创建一行方块\n",
                                     "\n",
                                     "place_block()\n",
                                     "move_cursor(\"blue\")\n",
                                     "place_block()\n",
                                     "move_cursor(\"blue\")\n",
                                     "place_block()\n",
                                     "move_cursor(\"blue\")"
                                 ]
                  },
                  {
                      "cell_type":  "markdown",
                      "id":  "fd4918c3",
                      "metadata":  {

                                   },
                      "source":  [
                                     "# 专业提示：\n",
                                     "\n",
                                     "使用 `for` 循环多次执行一个或多个操作。"
                                 ]
                  },
                  {
                      "cell_type":  "code",
                      "execution_count":  null,
                      "id":  "921028b3",
                      "metadata":  {
                                       "minecraft":  {
                                                         "closeCodeBuilderOnRun":  true,
                                                         "hidden":  false,
                                                         "onCodeCancelledCommand":  "scoreboard players set @s code_status 0",
                                                         "onCodeErrorCommand":  "scoreboard players set @s code_status 0",
                                                         "onCodeStartedCommand":  "scoreboard players set @s code_status 1",
                                                         "onCodeStoppedCommand":  "scoreboard players set @s code_status 0",
                                                         "onCodeSuccessfulCommand":  "scoreboard players set @s code_status 0",
                                                         "overridePython":  "import time\n\ntimeout = 0.100\ncommunicationPos = (0, 64, 0)\n\ntime.sleep(0.250)\n\ndef move_cursor(color):\n    if color == \"orange\":\n        world.set(communicationPos, \"orange concrete\")\n        time.sleep(timeout)\n    elif color == \"magenta\":\n        world.set(communicationPos, \"magenta concrete\")\n        time.sleep(timeout)\n    elif color == \"blue\":\n        world.set(communicationPos, \"light blue concrete\")\n        time.sleep(timeout)\n    elif color == \"yellow\":\n        world.set(communicationPos, \"yellow concrete\")\n        time.sleep(timeout)\n\ndef place_block():\n    world.set(communicationPos, \"lime concrete\")\n    time.sleep(timeout)         \n@user-code",
                                                         "readonly":  true
                                                     }
                                   },
                      "outputs":  [

                                  ],
                      "source":  [
                                     "# 代码示例 - 你不能在这里编辑\n",
                                     "# 运行看看会发生什么\n",
                                     "\n",
                                     "# 创建一行方块\n",
                                     "\n",
                                     "for i in range(3):\n",
                                     "    place_block()\n",
                                     "    move_cursor(\"blue\")"
                                 ]
                  },
                  {
                      "cell_type":  "markdown",
                      "id":  "1428f167",
                      "metadata":  {

                                   },
                      "source":  [
                                     "# 活动：\n",
                                     "\n",
                                     "看着镜子中的画面，注意壁炉上方的方块设计。在镜子外一侧的壁炉上方重建相同的设计。\n",
                                     "\n",
                                     "下面的代码已损坏，你能修复它吗？运行代码看看会发生什么，然后编辑代码进行调试，以便得到想要的结果。"
                                 ]
                  },
                  {
                      "cell_type":  "code",
                      "execution_count":  null,
                      "id":  "b6f4bd0e",
                      "metadata":  {
                                       "minecraft":  {
                                                         "closeCodeBuilderOnRun":  true,
                                                         "hidden":  false,
                                                         "onCodeCancelledCommand":  "scoreboard players set @s code_status 0",
                                                         "onCodeErrorCommand":  "scoreboard players set @s code_status 0",
                                                         "onCodeStartedCommand":  "scoreboard players set @s code_status 1",
                                                         "onCodeStoppedCommand":  "scoreboard players set @s code_status 0",
                                                         "onCodeSuccessfulCommand":  "scoreboard players set @s code_status 0",
                                                         "overridePython":  "import time\n\ntimeout = 0.100\ncommunicationPos = (0, 64, 0)\n\ntime.sleep(0.250)\n\ndef move_cursor(color):\n    if color == \"orange\":\n        world.set(communicationPos, \"orange concrete\")\n        time.sleep(timeout)\n    elif color == \"magenta\":\n        world.set(communicationPos, \"magenta concrete\")\n        time.sleep(timeout)\n    elif color == \"blue\":\n        world.set(communicationPos, \"light blue concrete\")\n        time.sleep(timeout)\n    elif color == \"yellow\":\n        world.set(communicationPos, \"yellow concrete\")\n        time.sleep(timeout)\n\ndef place_block():\n    world.set(communicationPos, \"lime concrete\")\n    time.sleep(timeout)         \n@user-code",
                                                         "readonly":  false
                                                     }
                                   },
                      "outputs":  [

                                  ],
                      "source":  [
                                     "# 在此编写代码\n",
                                     "\n",
                                     "place_block()\n",
                                     "move_cursor(\"magenta\")\n",
                                     "place_block()\n",
                                     "move_cursor(\"blue\")\n",
                                     "place_block()\n",
                                     "move_cursor(\"blue\")\n",
                                     "place_block()\n",
                                     "move_cursor(\"blue\")\n",
                                     "place_block()\n",
                                     "move_cursor(\"blue\")\n",
                                     "place_block()\n",
                                     "move_cursor(\"orange\")\n",
                                     "place_block()\n"
                                 ]
                  }
              ],
    "metadata":  {
                     "celltoolbar":  "Edit Metadata",
                     "kernelspec":  {
                                        "display_name":  "Python 3 (ipykernel)",
                                        "language":  "python",
                                        "name":  "python3"
                                    },
                     "language_info":  {
                                           "codemirror_mode":  {
                                                                   "name":  "ipython",
                                                                   "version":  3
                                                               },
                                           "file_extension":  ".py",
                                           "mimetype":  "text/x-python",
                                           "name":  "python",
                                           "nbconvert_exporter":  "python",
                                           "pygments_lexer":  "ipython3",
                                           "version":  "3.10.7"
                                       },
                     "minecraft":  {
                                       "description":  "编程一小时 2022",
                                       "page_id":  "1.1",
                                       "page_name":  "编程一小时 2022",
                                       "style":  "minecraft.css"
                                   }
                 },
    "nbformat":  4,
    "nbformat_minor":  5
}
