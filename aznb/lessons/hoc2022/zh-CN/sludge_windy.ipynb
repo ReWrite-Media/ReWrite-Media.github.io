﻿{
    "cells":  [
                  {
                      "cell_type":  "markdown",
                      "id":  "557185e1",
                      "metadata":  {

                                   },
                      "source":  [
                                     "# 风桥\n",
                                     "\n",
                                     "你需要过桥，但风实在太大了！你将需要把方块填在所有的洞里，免得风能够从中吹过来。使用\"move_cursor()”定位光标，并使用\"place_block()”将方块放置在所选位置。\n",
                                     "\n",
                                     "\"move_cursor()”函数采用一个定义其方向的参数。该参数即箭头的颜色，表示要移动的方向\n",
                                     "\n",
                                     "有效方向为：\n",
                                     "- `orange` (橙色)（向上移动光标） ![橙色箭头](img/orange_arrow.png 橙色箭头\"\")\n\"",
                                     "- `magenta` (品红色) (向下移动光标) ![品红色箭头](img/magenta_arrow.png \"品红色箭头\")\n",
                                     "- `blue` (蓝色) (向左移动光标) ![蓝色箭头](img/blue_arrow.png \"蓝色箭头\")\n",
                                     "- `yellow` (黄色) (向右移动光标) ![黄色箭头](img/yellow_arrow.png \"黄色箭头\")"
                                 ]
                  },
                  {
                      "cell_type":  "code",
                      "execution_count":  null,
                      "id":  "4540d55a",
                      "metadata":  {
                                       "minecraft":  {
                                                         "closeCodeBuilderOnRun":  true,
                                                         "hidden":  false,
                                                         "onCodeCancelledCommand":  "scoreboard players set @s code_status 0",
                                                         "onCodeErrorCommand":  "scoreboard players set @s code_status 0",
                                                         "onCodeStartedCommand":  "scoreboard players set @s code_status 1",
                                                         "onCodeStoppedCommand":  "scoreboard players set @s code_status 0",
                                                         "onCodeSuccessfulCommand":  "scoreboard players set @s code_status 0",
                                                         "overridePython":  "import time\n\ntimeout = 0.100\ncommunicationPos = (0, 64, 0)\n\ntime.sleep(0.250)\n\ndef move_cursor(color):\n    if color == \"orange\":\n        world.set(communicationPos, \"orange concrete\")\n        time.sleep(timeout)\n    elif color == \"magenta\":\n        world.set(communicationPos, \"magenta concrete\")\n        time.sleep(timeout)\n    elif color == \"blue\":\n        world.set(communicationPos, \"light blue concrete\")\n        time.sleep(timeout)\n    elif color == \"yellow\":\n        world.set(communicationPos, \"yellow concrete\")\n        time.sleep(timeout)\n\ndef place_block():\n    world.set(communicationPos, \"lime concrete\")\n    time.sleep(timeout) \n@user-code",
                                                         "readonly":  true
                                                     }
                                   },
                      "outputs":  [

                                  ],
                      "source":  [
                                     "# 代码示例 - 你不能在这里编辑\n",
                                     "# 运行看看会发生什么\n",
                                     "\n",
                                     "# 将光标向右移动 1 个方块，\n",
                                     "# 放置一个方块，然后移动光标\n",
                                     "# 再向右移动 4 次。\n",
                                     "\n",
                                     "move_cursor(\"yellow\")\n",
                                     "place_block()\n",
                                     "move_cursor(\"yellow\")\n",
                                     "move_cursor(\"yellow\")\n",
                                     "move_cursor(\"yellow\")\n",
                                     "move_cursor(\"yellow\")"
                                 ]
                  },
                  {
                      "cell_type":  "markdown",
                      "id":  "6a21fa82",
                      "metadata":  {

                                   },
                      "source":  [
                                     "# 活动：\n",
                                     "\n",
                                     "把所有漏风的洞补上，你就可以安全地过桥了！\n",
                                     "\n",
                                     "下面的代码已损坏，你能修复它吗？运行代码看看会发生什么，然后编辑代码进行调试，以便得到想要的结果。"
                                 ]
                  },
                  {
                      "cell_type":  "code",
                      "execution_count":  null,
                      "id":  "b6f4bd0e",
                      "metadata":  {
                                       "minecraft":  {
                                                         "closeCodeBuilderOnRun":  true,
                                                         "hidden":  false,
                                                         "onCodeCancelledCommand":  "scoreboard players set @s code_status 0",
                                                         "onCodeErrorCommand":  "scoreboard players set @s code_status 0",
                                                         "onCodeStartedCommand":  "scoreboard players set @s code_status 1",
                                                         "onCodeStoppedCommand":  "scoreboard players set @s code_status 0",
                                                         "onCodeSuccessfulCommand":  "scoreboard players set @s code_status 0",
                                                         "overridePython":  "import time\n\ntimeout = 0.100\ncommunicationPos = (0, 64, 0)\n\ntime.sleep(0.250)\n\ndef move_cursor(color):\n    if color == \"orange\":\n        world.set(communicationPos, \"orange concrete\")\n        time.sleep(timeout)\n    elif color == \"magenta\":\n        world.set(communicationPos, \"magenta concrete\")\n        time.sleep(timeout)\n    elif color == \"blue\":\n        world.set(communicationPos, \"light blue concrete\")\n        time.sleep(timeout)\n    elif color == \"yellow\":\n        world.set(communicationPos, \"yellow concrete\")\n        time.sleep(timeout)\n\ndef place_block():\n    world.set(communicationPos, \"lime concrete\")\n    time.sleep(timeout) \n@user-code",
                                                         "readonly":  false
                                                     }
                                   },
                      "outputs":  [

                                  ],
                      "source":  [
                                     "# 在此编写代码\n",
                                     "\n",
                                     "move_cursor(\"yellow\")\n",
                                     "place_block()\n"
                                 ]
                  }
              ],
    "metadata":  {
                     "celltoolbar":  "Edit Metadata",
                     "kernelspec":  {
                                        "display_name":  "Python 3 (ipykernel)",
                                        "language":  "python",
                                        "name":  "python3"
                                    },
                     "language_info":  {
                                           "codemirror_mode":  {
                                                                   "name":  "ipython",
                                                                   "version":  3
                                                               },
                                           "file_extension":  ".py",
                                           "mimetype":  "text/x-python",
                                           "name":  "python",
                                           "nbconvert_exporter":  "python",
                                           "pygments_lexer":  "ipython3",
                                           "version":  "3.10.7"
                                       },
                     "minecraft":  {
                                       "description":  "编程一小时 2022",
                                       "page_id":  "1.1",
                                       "page_name":  "编程一小时 2022",
                                       "style":  "minecraft.css"
                                   }
                 },
    "nbformat":  4,
    "nbformat_minor":  5
}
