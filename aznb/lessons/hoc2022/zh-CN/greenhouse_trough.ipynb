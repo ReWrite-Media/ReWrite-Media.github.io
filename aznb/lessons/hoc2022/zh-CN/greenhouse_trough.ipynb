﻿{
    "cells":  [
                  {
                      "cell_type":  "markdown",
                      "id":  "79ecde0b",
                      "metadata":  {

                                   },
                      "source":  [
                                     "# 槽\n",
                                     "\n",
                                     "哦不！运河上的洞阻止了水流入花园！填补这些洞，让水流进来！使用\"move_cursor()”函数将光标定位在洞上，然后使用\"place_block()”函数填补。\n",
                                     "\n",
                                     "\"move_cursor()”函数采用一个定义其方向的参数。该参数即箭头的颜色，表示要移动的方向\n",
                                     "\n",
                                     "有效方向为：\n",
                                     "-“橙色”（向上移动光标）！[橙色箭头]（img/orange_arrow.png \"橙色箭头\"）\n",
                                     "- `品红色”（向后移动光标）！[品红色箭头](img/magenta_arrow.png \"品红色箭头\")\n",
                                     "- `蓝色”（向左移动光标）！[蓝色箭头](img/blue_arrow.png \"蓝色箭头\")\n",
                                     "- `黄色”（向右移动光标）！[黄色箭头](img/yellow_arrow.png \"黄色箭头\")"
                                 ]
                  },
                  {
                      "cell_type":  "code",
                      "execution_count":  null,
                      "id":  "5fac987e",
                      "metadata":  {
                                       "minecraft":  {
                                                         "closeCodeBuilderOnRun":  true,
                                                         "hidden":  false,
                                                         "onCodeCancelledCommand":  "scoreboard players set @s code_status 0",
                                                         "onCodeErrorCommand":  "scoreboard players set @s code_status 0",
                                                         "onCodeStartedCommand":  "scoreboard players set @s code_status 1",
                                                         "onCodeStoppedCommand":  "scoreboard players set @s code_status 0",
                                                         "onCodeSuccessfulCommand":  "scoreboard players set @s code_status 0",
                                                         "overridePython":  "import time\n\ntimeout = 0.100\ncommunicationPos = (0, 64, 0)\n\ntime.sleep(0.250)\n\ndef move_cursor(color):\n    if color == \"orange\":\n        world.set(communicationPos, \"orange concrete\")\n        time.sleep(timeout)\n    elif color == \"magenta\":\n        world.set(communicationPos, \"magenta concrete\")\n        time.sleep(timeout)\n    elif color == \"blue\":\n        world.set(communicationPos, \"light blue concrete\")\n        time.sleep(timeout)\n    elif color == \"yellow\":\n        world.set(communicationPos, \"yellow concrete\")\n        time.sleep(timeout)\n\ndef place_block():\n    world.set(communicationPos, \"lime concrete\")\n    time.sleep(timeout) \n@user-code",
                                                         "readonly":  true
                                                     }
                                   },
                      "outputs":  [

                                  ],
                      "source":  [
                                     "# 代码示例 - 你不能在此处编辑\n",
                                     "# 运行它，看看会发生什么\n",
                                     "\n",
                                     "# 移动光标，然后将一个方块放置两次\n",
                                     "# 然后向右移动 2 个方块。\n",
                                     "\n",
                                     "move_cursor(\"orange\")\n",
                                     "place_block()\n",
                                     "move_cursor(\"orange\")\n",
                                     "place_block()\n",
                                     "move_cursor(\"yellow\")\n",
                                     "move_cursor(\"yellow\")"
                                 ]
                  },
                  {
                      "cell_type":  "markdown",
                      "id":  "bc2dc5e1",
                      "metadata":  {

                                   },
                      "source":  [
                                     "# 专业提示：\n",
                                     "\n",
                                     "使用 `for` 循环多次执行一个或多个操作。"
                                 ]
                  },
                  {
                      "cell_type":  "code",
                      "execution_count":  null,
                      "id":  "75a63229",
                      "metadata":  {
                                       "minecraft":  {
                                                         "closeCodeBuilderOnRun":  true,
                                                         "hidden":  false,
                                                         "onCodeCancelledCommand":  "scoreboard players set @s code_status 0",
                                                         "onCodeErrorCommand":  "scoreboard players set @s code_status 0",
                                                         "onCodeStartedCommand":  "scoreboard players set @s code_status 1",
                                                         "onCodeStoppedCommand":  "scoreboard players set @s code_status 0",
                                                         "onCodeSuccessfulCommand":  "scoreboard players set @s code_status 0",
                                                         "overridePython":  "import time\n\ntimeout = 0.100\ncommunicationPos = (0, 64, 0)\n\ntime.sleep(0.250)\n\ndef move_cursor(color):\n    if color == \"orange\":\n        world.set(communicationPos, \"orange concrete\")\n        time.sleep(timeout)\n    elif color == \"magenta\":\n        world.set(communicationPos, \"magenta concrete\")\n        time.sleep(timeout)\n    elif color == \"blue\":\n        world.set(communicationPos, \"light blue concrete\")\n        time.sleep(timeout)\n    elif color == \"yellow\":\n        world.set(communicationPos, \"yellow concrete\")\n        time.sleep(timeout)\n\ndef place_block():\n    world.set(communicationPos, \"lime concrete\")\n    time.sleep(timeout) \n@user-code",
                                                         "readonly":  true
                                                     }
                                   },
                      "outputs":  [

                                  ],
                      "source":  [
                                     "# 代码示例 - 你不能在此处编辑\n",
                                     "# 运行它，看看会发生什么\n",
                                     "\n",
                                     "# 移动光标，然后将一个方块放置两次\n",
                                     "# 然后向右移动 2 个方块。\n",
                                     "\n",
                                     "for i in range(2):\n",
                                     "    move_cursor(\"orange\")\n",
                                     "    place_block()\n",
                                     "\n",
                                     "move_cursor(\"yellow\")\n",
                                     "move_cursor(\"yellow\")"
                                 ]
                  },
                  {
                      "cell_type":  "markdown",
                      "id":  "a03ae8cb",
                      "metadata":  {

                                   },
                      "source":  [
                                     "# 活动：\n",
                                     "\n",
                                     "填满运河上的所有六个洞，让水流进花园里！\n",
                                     "\n",
                                     "下面包含的代码已损坏，你能修复它吗？运行代码，看看会发生什么，然后编辑代码进行调试，得到正确的解决方案。"
                                 ]
                  },
                  {
                      "cell_type":  "code",
                      "execution_count":  null,
                      "id":  "b6f4bd0e",
                      "metadata":  {
                                       "minecraft":  {
                                                         "closeCodeBuilderOnRun":  true,
                                                         "hidden":  false,
                                                         "onCodeCancelledCommand":  "scoreboard players set @s code_status 0",
                                                         "onCodeErrorCommand":  "scoreboard players set @s code_status 0",
                                                         "onCodeStartedCommand":  "scoreboard players set @s code_status 1",
                                                         "onCodeStoppedCommand":  "scoreboard players set @s code_status 0",
                                                         "onCodeSuccessfulCommand":  "scoreboard players set @s code_status 0",
                                                         "overridePython":  "import time\n\ntimeout = 0.100\ncommunicationPos = (0, 64, 0)\n\ntime.sleep(0.250)\n\ndef move_cursor(color):\n    if color == \"orange\":\n        world.set(communicationPos, \"orange concrete\")\n        time.sleep(timeout)\n    elif color == \"magenta\":\n        world.set(communicationPos, \"magenta concrete\")\n        time.sleep(timeout)\n    elif color == \"blue\":\n        world.set(communicationPos, \"light blue concrete\")\n        time.sleep(timeout)\n    elif color == \"yellow\":\n        world.set(communicationPos, \"yellow concrete\")\n        time.sleep(timeout)\n\ndef place_block():\n    world.set(communicationPos, \"lime concrete\")\n    time.sleep(timeout) \n@user-code",
                                                         "readonly":  false
                                                     }
                                   },
                      "outputs":  [

                                  ],
                      "source":  [
                                     "# 在此编写代码\n",
                                     "\n",
                                     "move_cursor(\"orange\")\n",
                                     "place_block()\n",
                                     "move_cursor(\"orange\")\n",
                                     "place_block()\n",
                                     "move_cursor(\"yellow\")\n",
                                     "move_cursor(\"yellow\")\n",
                                     "move_cursor(\"orange\")\n",
                                     "place_block()\n"
                                 ]
                  }
              ],
    "metadata":  {
                     "celltoolbar":  "Edit Metadata",
                     "kernelspec":  {
                                        "display_name":  "Python 3 (ipykernel)",
                                        "language":  "python",
                                        "name":  "python3"
                                    },
                     "language_info":  {
                                           "codemirror_mode":  {
                                                                   "name":  "ipython",
                                                                   "version":  3
                                                               },
                                           "file_extension":  ".py",
                                           "mimetype":  "text/x-python",
                                           "name":  "python",
                                           "nbconvert_exporter":  "python",
                                           "pygments_lexer":  "ipython3",
                                           "version":  "3.10.7"
                                       },
                     "minecraft":  {
                                       "description":  "编程一小时 2022",
                                       "page_id":  "1.1",
                                       "page_name":  "编程一小时 2022",
                                       "style":  "minecraft.css"
                                   }
                 },
    "nbformat":  4,
    "nbformat_minor":  5
}
