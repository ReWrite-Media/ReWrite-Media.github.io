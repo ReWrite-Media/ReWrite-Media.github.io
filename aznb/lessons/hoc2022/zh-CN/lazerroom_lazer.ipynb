﻿{
    "cells":  [
                  {
                      "cell_type":  "markdown",
                      "id":  "c5e22680",
                      "metadata":  {

                                   },
                      "source":  [
                                     "# 激光拼图\n",
                                     "\n",
                                     "固体方块阻拦激光！移动绿色方块行，使激光穿过玻璃方块以打开另一侧的灯。使用\"shift_row()”函数向左或向右移动方块行，使激光能够通过玻璃方块。\n",
                                     "\n",
                                     "\"shift_row()”函数采用两个参数（字符串）。第一个参数定义移动的颜色行，第二个参数定义该行应该移动的方向。\n",
                                     "\n",
                                     "有效颜色为：\n",
                                     "- `green` (绿色) ![绿色](img/green_right.png 绿色\"\")\n\"",
                                     "\n",
                                     "有效方向为：\n",
                                     "- `right` (右) ![向右](img/gray_right.png \"向右\")\n",
                                     "- `left` (left) ![向左](img/gray_left.png \"向左\")"
                                 ]
                  },
                  {
                      "cell_type":  "code",
                      "execution_count":  null,
                      "id":  "45ae79c1",
                      "metadata":  {
                                       "minecraft":  {
                                                         "closeCodeBuilderOnRun":  true,
                                                         "hidden":  false,
                                                         "onCodeCancelledCommand":  "scoreboard players set @s code_status 0",
                                                         "onCodeErrorCommand":  "scoreboard players set @s code_status 0",
                                                         "onCodeStartedCommand":  "scoreboard players set @s code_status 1",
                                                         "onCodeStoppedCommand":  "scoreboard players set @s code_status 0",
                                                         "onCodeSuccessfulCommand":  "scoreboard players set @s code_status 0",
                                                         "overridePython":  "import time\n\ntimeout = 0.100\ncommunicationPos = (0, 64, 0)\n\ntime.sleep(0.250)\n\ndef shift_row(color, direction):\n    if color==\"green\" and direction == \"left\":\n        world.set(communicationPos, \"orange concrete\")\n        time.sleep(timeout)   \n    elif color==\"green\" and direction == \"right\":\n        world.set(communicationPos, \"magenta concrete\")\n        time.sleep(timeout)                 \n@user-code",
                                                         "readonly":  true
                                                     }
                                   },
                      "outputs":  [

                                  ],
                      "source":  [
                                     "# 代码示例 - 你不能在此处编辑\n",
                                     "# 运行它，看看会发生什么\n",
                                     "\n",
                                     "# 向右移动绿色行\n",
                                     "# 3 次\n",
                                     "\n",
                                     "shift_row(\"green\", \"right\")\n",
                                     "shift_row(\"green\", \"right\")\n",
                                     "shift_row(\"green\", \"right\")"
                                 ]
                  },
                  {
                      "cell_type":  "markdown",
                      "id":  "76fd662f",
                      "metadata":  {

                                   },
                      "source":  [
                                     "# 专业提示：\n",
                                     "\n",
                                     "使用 `for` 循环多次执行一个或多个操作。"
                                 ]
                  },
                  {
                      "cell_type":  "code",
                      "execution_count":  null,
                      "id":  "37d767ab",
                      "metadata":  {
                                       "minecraft":  {
                                                         "closeCodeBuilderOnRun":  true,
                                                         "hidden":  false,
                                                         "onCodeCancelledCommand":  "scoreboard players set @s code_status 0",
                                                         "onCodeErrorCommand":  "scoreboard players set @s code_status 0",
                                                         "onCodeStartedCommand":  "scoreboard players set @s code_status 1",
                                                         "onCodeStoppedCommand":  "scoreboard players set @s code_status 0",
                                                         "onCodeSuccessfulCommand":  "scoreboard players set @s code_status 0",
                                                         "overridePython":  "import time\n\ntimeout = 0.100\ncommunicationPos = (0, 64, 0)\n\ntime.sleep(0.250)\n\ndef shift_row(color, direction):\n    if color==\"green\" and direction == \"left\":\n        world.set(communicationPos, \"orange concrete\")\n        time.sleep(timeout)   \n    elif color==\"green\" and direction == \"right\":\n        world.set(communicationPos, \"magenta concrete\")\n        time.sleep(timeout)                 \n@user-code",
                                                         "readonly":  true
                                                     }
                                   },
                      "outputs":  [

                                  ],
                      "source":  [
                                     "# 代码示例 - 你不能在此处编辑\n",
                                     "# 运行它，看看会发生什么\n",
                                     "\n",
                                     "# 向右移动绿色行\n",
                                     "# 3 次\n",
                                     "\n",
                                     "for i in range(3):\n",
                                     "    shift_row(\"green\", \"right\")"
                                 ]
                  },
                  {
                      "cell_type":  "markdown",
                      "id":  "cf227c68",
                      "metadata":  {

                                   },
                      "source":  [
                                     "# 活动：\n",
                                     "\n",
                                     "向左或向右移动绿色行，以便激光穿过玻璃方块并打开灯。\n",
                                     "\n",
                                     "下面包含的代码已损坏，你能修复它吗？运行代码，看看会发生什么，然后编辑代码进行调试，得到正确的解决方案。"
                                 ]
                  },
                  {
                      "cell_type":  "code",
                      "execution_count":  null,
                      "id":  "b6f4bd0e",
                      "metadata":  {
                                       "minecraft":  {
                                                         "closeCodeBuilderOnRun":  true,
                                                         "hidden":  false,
                                                         "onCodeCancelledCommand":  "scoreboard players set @s code_status 0",
                                                         "onCodeErrorCommand":  "scoreboard players set @s code_status 0",
                                                         "onCodeStartedCommand":  "scoreboard players set @s code_status 1",
                                                         "onCodeStoppedCommand":  "scoreboard players set @s code_status 0",
                                                         "onCodeSuccessfulCommand":  "scoreboard players set @s code_status 0",
                                                         "overridePython":  "import time\n\ntimeout = 0.100\ncommunicationPos = (0, 64, 0)\n\ntime.sleep(0.250)\n\ndef shift_row(color, direction):\n    if color==\"green\" and direction == \"left\":\n        world.set(communicationPos, \"orange concrete\")\n        time.sleep(timeout)   \n    elif color==\"green\" and direction == \"right\":\n        world.set(communicationPos, \"magenta concrete\")\n        time.sleep(timeout)                 \n@user-code",
                                                         "readonly":  false
                                                     }
                                   },
                      "outputs":  [

                                  ],
                      "source":  [
                                     "# 在此编写代码\n",
                                     "\n",
                                     "shift_row(\"green\", \"right\")\n",
                                     "shift_row(\"green\", \"right\")"
                                 ]
                  }
              ],
    "metadata":  {
                     "celltoolbar":  "Edit Metadata",
                     "kernelspec":  {
                                        "display_name":  "Python 3 (ipykernel)",
                                        "language":  "python",
                                        "name":  "python3"
                                    },
                     "language_info":  {
                                           "codemirror_mode":  {
                                                                   "name":  "ipython",
                                                                   "version":  3
                                                               },
                                           "file_extension":  ".py",
                                           "mimetype":  "text/x-python",
                                           "name":  "python",
                                           "nbconvert_exporter":  "python",
                                           "pygments_lexer":  "ipython3",
                                           "version":  "3.10.7"
                                       },
                     "minecraft":  {
                                       "description":  "编程一小时 2022",
                                       "page_id":  "1.1",
                                       "page_name":  "编程一小时 2022",
                                       "style":  "minecraft.css"
                                   }
                 },
    "nbformat":  4,
    "nbformat_minor":  5
}
