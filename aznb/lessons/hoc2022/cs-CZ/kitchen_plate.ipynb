﻿{
    "cells":  [
                  {
                      "cell_type":  "markdown",
                      "id":  "8cd0f13a",
                      "metadata":  {

                                   },
                      "source":  [
                                     "# Výměna talířů\n",
                                     "\n",
                                     "Ten pošetilý zombie šéfkuchař dal všem špatné jídlo! Zkuste zjistit, kdo chce jaké jídlo. Pomocí funkce `swap_plates()` vyměňte talíře na obou stranách barevného ubrusu, který jste si určili.\n",
                                     "\n",
                                     "Funkce `swap_plates()` má jeden parametr, který určuje barvu ubrusu mezi dvěma talíři, které chcete vyměnit.\n",
                                     "\n",
                                     "Platné barvy jsou:\n",
                                     "- `orange` ![Oranžová šipka](img/orange_arrow.png „Oranžová šipka“)\n",
                                     "- `blue` (modrá) ![blue šipka](img/magenta_arrow.png \"blue šipka\")\n",
                                     "- `yellow` (žlutá) ![Žlutá šipka](img/yellow_arrow.png \"Žlutá šipka\")\n",
                                     "- `magenta` (purpurová) ![Purpurová šipka](img/magenta_arrow.png \"Purpurová šipka\")❶"
                                 ]
                  },
                  {
                      "cell_type":  "code",
                      "execution_count":  null,
                      "id":  "ef6ba91d",
                      "metadata":  {
                                       "minecraft":  {
                                                         "closeCodeBuilderOnRun":  true,
                                                         "hidden":  false,
                                                         "onCodeCancelledCommand":  "scoreboard players set @s code_status 0",
                                                         "onCodeErrorCommand":  "scoreboard players set @s code_status 0",
                                                         "onCodeStartedCommand":  "scoreboard players set @s code_status 1",
                                                         "onCodeStoppedCommand":  "scoreboard players set @s code_status 0",
                                                         "onCodeSuccessfulCommand":  "scoreboard players set @s code_status 0",
                                                         "overridePython":  "import time\n\ntimeout = 0.100\ncommunicationPos = (0, 64, 0)\n\ntime.sleep(0.250)\n\ndef swap_plates(color):\n    if color==\"orange\":\n        world.set(communicationPos, \"yellow concrete\")\n        time.sleep(timeout)         \n    elif color==\"blue\":\n        world.set(communicationPos, \"light blue concrete\")\n        time.sleep(timeout)\n    elif color==\"yellow\":\n        world.set(communicationPos, \"magenta concrete\")\n        time.sleep(timeout)\n    elif color==\"magenta\":\n        world.set(communicationPos, \"orange concrete\")\n        time.sleep(timeout)        \n@user-code",
                                                         "readonly":  true
                                                     }
                                   },
                      "outputs":  [

                                  ],
                      "source":  [
                                     "# PŘÍKLAD KÓDU - ZDE NEMŮŽETE EDITOVAT\n",
                                     "# PO SPUŠTĚNÍ ZJISTÍTE, CO SE STANE\n",
                                     "\n",
                                     "# vyměňte talíře na obou stranách\n",
                                     "# oranžového ubrusu a pak\n",
                                     "# udělejte totéž s modrým ubrusem\n",
                                     "\n",
                                     "swap_plates(\"orange\")\n",
                                     "swap_plates(\"blue\")"
                                 ]
                  },
                  {
                      "cell_type":  "markdown",
                      "id":  "86ac232e",
                      "metadata":  {

                                   },
                      "source":  [
                                     "# Aktivita:\n",
                                     "\n",
                                     "Zombie šéfkuchař špatně zadal objednávku! Kam se mohla ztratit? Zjistěte, které jídlo komu patří! Pak napište program, který umístí talíře před správné stvoření.\n",
                                     "\n",
                                     "Níže uvedený kód je nefunkční. Dokážete ho opravit? Spusťte kód, abyste viděli, co se stane, a poté jej vylaďte, aby fungoval."
                                 ]
                  },
                  {
                      "cell_type":  "code",
                      "execution_count":  null,
                      "id":  "b6f4bd0e",
                      "metadata":  {
                                       "minecraft":  {
                                                         "closeCodeBuilderOnRun":  true,
                                                         "hidden":  false,
                                                         "onCodeCancelledCommand":  "scoreboard players set @s code_status 0",
                                                         "onCodeErrorCommand":  "scoreboard players set @s code_status 0",
                                                         "onCodeStartedCommand":  "scoreboard players set @s code_status 1",
                                                         "onCodeStoppedCommand":  "scoreboard players set @s code_status 0",
                                                         "onCodeSuccessfulCommand":  "scoreboard players set @s code_status 0",
                                                         "overridePython":  "import time\n\ntimeout = 0.100\ncommunicationPos = (0, 64, 0)\n\ntime.sleep(0.250)\n\ndef swap_plates(color):\n    if color==\"orange\":\n        world.set(communicationPos, \"yellow concrete\")\n        time.sleep(timeout)         \n    elif color==\"blue\":\n        world.set(communicationPos, \"light blue concrete\")\n        time.sleep(timeout)\n    elif color==\"yellow\":\n        world.set(communicationPos, \"magenta concrete\")\n        time.sleep(timeout)\n    elif color==\"magenta\":\n        world.set(communicationPos, \"orange concrete\")\n        time.sleep(timeout)        \n@user-code",
                                                         "readonly":  false
                                                     }
                                   },
                      "outputs":  [

                                  ],
                      "source":  [
                                     "# tady programujte\n",
                                     "\n",
                                     "swap_plates(\"orange\")\n",
                                     "swap_plates(\"blue\")\n",
                                     "swap_plates(\"yellow\")\n",
                                     "swap_plates(\"magenta\")\n"
                                 ]
                  }
              ],
    "metadata":  {
                     "celltoolbar":  "Edit Metadata",
                     "kernelspec":  {
                                        "display_name":  "Python 3.10.8 64-bit (microsoft store)",
                                        "language":  "python",
                                        "name":  "python3"
                                    },
                     "language_info":  {
                                           "codemirror_mode":  {
                                                                   "name":  "ipython",
                                                                   "version":  3
                                                               },
                                           "file_extension":  ".py",
                                           "mimetype":  "text/x-python",
                                           "name":  "python",
                                           "nbconvert_exporter":  "python",
                                           "pygments_lexer":  "ipython3",
                                           "version":  "3.10.8"
                                       },
                     "minecraft":  {
                                       "description":  "Hodina kódování 2022",
                                       "page_id":  "1.1",
                                       "page_name":  "Hodina kódování 2022",
                                       "style":  "minecraft.css"
                                   },
                     "vscode":  {
                                    "interpreter":  {
                                                        "hash":  "34242f13a52f302bd973ebb7ec1f6ba9310bbd38aa2ae877991984a75c84a395"
                                                    }
                                }
                 },
    "nbformat":  4,
    "nbformat_minor":  5
}
