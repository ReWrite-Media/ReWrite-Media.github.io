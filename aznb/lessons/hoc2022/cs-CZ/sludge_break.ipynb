﻿{
    "cells":  [
                  {
                      "cell_type":  "markdown",
                      "id":  "33f4763c",
                      "metadata":  {

                                   },
                      "source":  [
                                     "# Rozbíječ bloků\n",
                                     "\n",
                                     "Musíte rozbít bloky blokující dveře, abyste se mohli dostat ven! Použijte `move_cursor()` pro umístění kurzoru a `break_block()` pro rozbití bloku na vybrané pozici.\n",
                                     "\n",
                                     "Funkce \"move_cursor()\" přebírá má parametr, který definuje její směr. Tímto parametrem je barva šipky, která představuje směr, kterým se chcete pohybovat.\n",
                                     "\n",
                                     "Platné hodnoty směru jsou:\n",
                                     "- `orange` (posune kurzor nahoru) ![Oranžová šipka](img/orange_arrow.png „Oranžová šipka“)\n",
                                     "- `purpurová` (přesune kurzor dolů)  ![Purpurová šipka] (img/magenta_arrow.png \"Purpurová šipka\")\n",
                                     "- `modrá` (přesune kurzor doleva)  ![Modrá šipka] (img/blue_arrow.png \"Modrá šipka\")\n",
                                     "- `žlutá` (přesune kurzor doprava)  ![Žlutá šipka] (img/yellow_arrow.png \"Žlutá šipka\")"
                                 ]
                  },
                  {
                      "cell_type":  "code",
                      "execution_count":  null,
                      "id":  "1d486a35",
                      "metadata":  {
                                       "minecraft":  {
                                                         "closeCodeBuilderOnRun":  true,
                                                         "hidden":  false,
                                                         "onCodeCancelledCommand":  "scoreboard players set @s code_status 0",
                                                         "onCodeErrorCommand":  "scoreboard players set @s code_status 0",
                                                         "onCodeStartedCommand":  "scoreboard players set @s code_status 1",
                                                         "onCodeStoppedCommand":  "scoreboard players set @s code_status 0",
                                                         "onCodeSuccessfulCommand":  "scoreboard players set @s code_status 0",
                                                         "overridePython":  "import time\n\ntimeout = 0.100\ncommunicationPos = (0, 64, 0)\n\ntime.sleep(0.250)\n\ndef move_cursor(color):\n    if color == \"orange\":\n        world.set(communicationPos, \"orange concrete\")\n        time.sleep(timeout)\n    elif color == \"magenta\":\n        world.set(communicationPos, \"magenta concrete\")\n        time.sleep(timeout)\n    elif color == \"blue\":\n        world.set(communicationPos, \"light blue concrete\")\n        time.sleep(timeout)\n    elif color == \"yellow\":\n        world.set(communicationPos, \"yellow concrete\")\n        time.sleep(timeout)\n\ndef break_block():\n    world.set(communicationPos, \"lime concrete\")\n    time.sleep(timeout) \n@user-code",
                                                         "readonly":  true
                                                     }
                                   },
                      "outputs":  [

                                  ],
                      "source":  [
                                     "# PŘÍKLAD KÓDU - ZDE NEMŮŽETE EDITOVAT\n",
                                     "# PO SPUŠTĚNÍ ZJISTÍTE, CO SE STANE\n",
                                     "\n",
                                     "# rozbijte vybraný blok a\n",
                                     "# pak přesuňte kurzor doprava\n",
                                     "# udělejte to čtyřikrát.\n",
                                     "\n",
                                     "break_block()\n",
                                     "move_cursor(\"yellow\")\n",
                                     "break_block()\n",
                                     "move_cursor(\"yellow\")\n",
                                     "break_block()\n",
                                     "move_cursor(\"yellow\")\n",
                                     "break_block()\n",
                                     "move_cursor(\"yellow\")"
                                 ]
                  },
                  {
                      "cell_type":  "markdown",
                      "id":  "ff50ac44",
                      "metadata":  {

                                   },
                      "source":  [
                                     "# Tip od profesionálů:\n",
                                     "\n",
                                     "Pomocí smyčky `for` můžete několikrát provést jednu nebo více akcí."
                                 ]
                  },
                  {
                      "cell_type":  "code",
                      "execution_count":  null,
                      "id":  "df38a478",
                      "metadata":  {
                                       "minecraft":  {
                                                         "closeCodeBuilderOnRun":  true,
                                                         "hidden":  false,
                                                         "onCodeCancelledCommand":  "scoreboard players set @s code_status 0",
                                                         "onCodeErrorCommand":  "scoreboard players set @s code_status 0",
                                                         "onCodeStartedCommand":  "scoreboard players set @s code_status 1",
                                                         "onCodeStoppedCommand":  "scoreboard players set @s code_status 0",
                                                         "onCodeSuccessfulCommand":  "scoreboard players set @s code_status 0",
                                                         "overridePython":  "import time\n\ntimeout = 0.100\ncommunicationPos = (0, 64, 0)\n\ntime.sleep(0.250)\n\ndef move_cursor(color):\n    if color == \"orange\":\n        world.set(communicationPos, \"orange concrete\")\n        time.sleep(timeout)\n    elif color == \"magenta\":\n        world.set(communicationPos, \"magenta concrete\")\n        time.sleep(timeout)\n    elif color == \"blue\":\n        world.set(communicationPos, \"light blue concrete\")\n        time.sleep(timeout)\n    elif color == \"yellow\":\n        world.set(communicationPos, \"yellow concrete\")\n        time.sleep(timeout)\n\ndef break_block():\n    world.set(communicationPos, \"lime concrete\")\n    time.sleep(timeout) \n@user-code",
                                                         "readonly":  true
                                                     }
                                   },
                      "outputs":  [

                                  ],
                      "source":  [
                                     "# PŘÍKLAD KÓDU - ZDE NEMŮŽETE EDITOVAT\n",
                                     "# PO SPUŠTĚNÍ ZJISTÍTE, CO SE STANE\n",
                                     "\n",
                                     "# rozbijte vybraný blok a\n",
                                     "# pak přesuňte kurzor doprava\n",
                                     "# udělejte to čtyřikrát.\n",
                                     "\n",
                                     "for i in range(4):\n",
                                     "    break_block()\n",
                                     "    move_cursor(\"yellow\")"
                                 ]
                  },
                  {
                      "cell_type":  "markdown",
                      "id":  "fb7af231",
                      "metadata":  {

                                   },
                      "source":  [
                                     "# Aktivita:\n",
                                     "\n",
                                     "Pomocí kurzoru prorazte cestu skrz zeď a opusťte místnost!\n",
                                     "\n",
                                     "Níže uvedený kód je nefunkční. Dokážete ho opravit? Spusťte kód, abyste viděli, co se stane, a poté jej vylaďte, aby fungoval."
                                 ]
                  },
                  {
                      "cell_type":  "code",
                      "execution_count":  null,
                      "id":  "b6f4bd0e",
                      "metadata":  {
                                       "minecraft":  {
                                                         "closeCodeBuilderOnRun":  true,
                                                         "hidden":  false,
                                                         "onCodeCancelledCommand":  "scoreboard players set @s code_status 0",
                                                         "onCodeErrorCommand":  "scoreboard players set @s code_status 0",
                                                         "onCodeStartedCommand":  "scoreboard players set @s code_status 1",
                                                         "onCodeStoppedCommand":  "scoreboard players set @s code_status 0",
                                                         "onCodeSuccessfulCommand":  "scoreboard players set @s code_status 0",
                                                         "overridePython":  "import time\n\ntimeout = 0.100\ncommunicationPos = (0, 64, 0)\n\ntime.sleep(0.250)\n\ndef move_cursor(color):\n    if color == \"orange\":\n        world.set(communicationPos, \"orange concrete\")\n        time.sleep(timeout)\n    elif color == \"magenta\":\n        world.set(communicationPos, \"magenta concrete\")\n        time.sleep(timeout)\n    elif color == \"blue\":\n        world.set(communicationPos, \"light blue concrete\")\n        time.sleep(timeout)\n    elif color == \"yellow\":\n        world.set(communicationPos, \"yellow concrete\")\n        time.sleep(timeout)\n\ndef break_block():\n    world.set(communicationPos, \"lime concrete\")\n    time.sleep(timeout) \n@user-code",
                                                         "readonly":  false
                                                     }
                                   },
                      "outputs":  [

                                  ],
                      "source":  [
                                     "# tady programujte\n",
                                     "\n",
                                     "move_cursor(\"yellow\")\n",
                                     "move_cursor(\"yellow\")\n",
                                     "break_block()"
                                 ]
                  }
              ],
    "metadata":  {
                     "celltoolbar":  "Edit Metadata",
                     "kernelspec":  {
                                        "display_name":  "Python 3 (ipykernel)",
                                        "language":  "python",
                                        "name":  "python3"
                                    },
                     "language_info":  {
                                           "codemirror_mode":  {
                                                                   "name":  "ipython",
                                                                   "version":  3
                                                               },
                                           "file_extension":  ".py",
                                           "mimetype":  "text/x-python",
                                           "name":  "python",
                                           "nbconvert_exporter":  "python",
                                           "pygments_lexer":  "ipython3",
                                           "version":  "3.10.7"
                                       },
                     "minecraft":  {
                                       "description":  "Hodina kódování 2022",
                                       "page_id":  "1.1",
                                       "page_name":  "Hodina kódování 2022",
                                       "style":  "minecraft.css"
                                   }
                 },
    "nbformat":  4,
    "nbformat_minor":  5
}
