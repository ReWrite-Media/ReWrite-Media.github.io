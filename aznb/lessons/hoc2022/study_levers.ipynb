{
 "cells": [
  {
   "cell_type": "markdown",
   "id": "acba1c10",
   "metadata": {},
   "source": [
    "# Colored Levers\n",
    "\n",
    "We'll need to flip all four levers in order to open the door, but we're not quick enough to do it manually. See if you could figure out the order they need to be flipped and program the Suit of Armor to do it for you. Use the `move_armor()` function to define which color the Suit of Armor should move to.\n",
    "\n",
    "The `move_armor()`function takes one parameter (a string) that defines which color it should move to.\n",
    "\n",
    "Valid colors are:\n",
    "- `blue`\n",
    "- `orange`\n",
    "- `yellow`\n",
    "- `magenta`\n"
   ]
  },
  {
   "cell_type": "code",
   "execution_count": null,
   "id": "0335d72d",
   "metadata": {
    "minecraft": {
     "closeCodeBuilderOnRun": true,
     "hidden": false,
     "overridePython": "import time\n\ntimeout = 0.100\ncommunicationPos = (0, 64, 0)\n\ntime.sleep(0.250)\n\ndef move_armor(color):\n    if color==\"blue\":\n        world.set(communicationPos, \"light blue concrete\")\n        time.sleep(timeout) \n    elif color==\"magenta\":\n        world.set(communicationPos, \"magenta concrete\")\n        time.sleep(timeout) \n    elif color==\"yellow\":\n        world.set(communicationPos, \"yellow concrete\")\n        time.sleep(timeout) \n    elif color==\"orange\":\n        world.set(communicationPos, \"orange concrete\")\n        time.sleep(timeout) \n@user-code",
     "readonly": true
    }
   },
   "outputs": [],
   "source": [
    "# move the Suit of Armor between\n",
    "# different colors\n",
    "\n",
    "move_armor(\"blue\")\n",
    "move_armor(\"orange\")"
   ]
  },
  {
   "cell_type": "markdown",
   "id": "a259db5b",
   "metadata": {},
   "source": [
    "# Activity:\n",
    "\n",
    "Figure out what order the levers should be flipped by paying close attention to the carpets in front of them. Then move the Suit of Armor to each lever in the correct order. The Suit of Armor is smart enough to flip the lever when it's in position.\n",
    "\n",
    "The below code is broken, can you fix it? Debug the code by running it to see what it does and then edit it so you get the desired result."
   ]
  },
  {
   "cell_type": "code",
   "execution_count": null,
   "id": "b6f4bd0e",
   "metadata": {
    "minecraft": {
     "closeCodeBuilderOnRun": true,
     "hidden": false,
     "overridePython": "import time\n\ntimeout = 0.100\ncommunicationPos = (0, 64, 0)\n\ntime.sleep(0.250)\n\ndef move_armor(color):\n    if color==\"blue\":\n        world.set(communicationPos, \"light blue concrete\")\n        time.sleep(timeout) \n    elif color==\"magenta\":\n        world.set(communicationPos, \"magenta concrete\")\n        time.sleep(timeout) \n    elif color==\"yellow\":\n        world.set(communicationPos, \"yellow concrete\")\n        time.sleep(timeout) \n    elif color==\"orange\":\n        world.set(communicationPos, \"orange concrete\")\n        time.sleep(timeout) \n@user-code",
     "readonly": false
    }
   },
   "outputs": [],
   "source": [
    "# code here\n",
    "\n",
    "move_armor(\"blue\")\n",
    "move_armor(\"orange\")\n",
    "move_armor(\"yellow\")\n",
    "move_armor(\"magenta\")\n"
   ]
  }
 ],
 "metadata": {
  "celltoolbar": "Edit Metadata",
  "kernelspec": {
   "display_name": "Python 3 (ipykernel)",
   "language": "python",
   "name": "python3"
  },
  "language_info": {
   "codemirror_mode": {
    "name": "ipython",
    "version": 3
   },
   "file_extension": ".py",
   "mimetype": "text/x-python",
   "name": "python",
   "nbconvert_exporter": "python",
   "pygments_lexer": "ipython3",
   "version": "3.10.7"
  },
  "minecraft": {
   "description": "HOC 2022",
   "page_id": "1.1",
   "page_name": "HOC 2022",
   "style": "minecraft.css"
  }
 },
 "nbformat": 4,
 "nbformat_minor": 5
}
