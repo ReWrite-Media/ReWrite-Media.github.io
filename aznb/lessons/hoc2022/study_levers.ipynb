{
 "cells": [
  {
   "cell_type": "markdown",
   "id": "acba1c10",
   "metadata": {},
   "source": [
    "# Colored Levers\n",
    "\n",
    "You'll need to flip all four levers to open the door, but you're not quick enough to do it manually. See if you can figure out the order they need to be flipped, then program your new friend the Speedy Knight to do it for us! Use the `move_knight()` function to define which color the Speedy Knight should move to.\n",
    "\n",
    "The `move_knight()`function takes one parameter that defines which color it should move to.\n",
    "\n",
    "Valid colors are:\n",
    "- `blue` ![Blue Arrow](img/blue_arrow.png \"Blue Arrow\")\n",
    "- `orange` ![Orange Arrow](img/orange_arrow.png \"Orange Arrow\")\n",
    "- `yellow` ![Yellow Arrow](img/yellow_arrow.png \"Yellow Arrow\")\n",
    "- `magenta` ![Magenta Arrow](img/magenta_arrow.png \"Magenta Arrow\")\n"
   ]
  },
  {
   "cell_type": "code",
   "execution_count": null,
   "id": "0335d72d",
   "metadata": {
    "minecraft": {
     "closeCodeBuilderOnRun": true,
     "hidden": false,
     "onCodeCancelledCommand": "scoreboard players set @s code_status 0",
     "onCodeErrorCommand": "scoreboard players set @s code_status 0",
     "onCodeStartedCommand": "scoreboard players set @s code_status 1",
     "onCodeStoppedCommand": "scoreboard players set @s code_status 0",
     "onCodeSuccessfulCommand": "scoreboard players set @s code_status 0",
     "overridePython": "import time\n\ntimeout = 0.100\ncommunicationPos = (0, 64, 0)\n\ntime.sleep(0.250)\n\ndef move_knight(color):\n    if color==\"blue\":\n        world.set(communicationPos, \"light blue concrete\")\n        time.sleep(timeout) \n    elif color==\"magenta\":\n        world.set(communicationPos, \"magenta concrete\")\n        time.sleep(timeout) \n    elif color==\"yellow\":\n        world.set(communicationPos, \"yellow concrete\")\n        time.sleep(timeout) \n    elif color==\"orange\":\n        world.set(communicationPos, \"orange concrete\")\n        time.sleep(timeout) \n@user-code",
     "readonly": true
    }
   },
   "outputs": [],
   "source": [
    "# CODE EXAMPLE - YOU CAN NOT EDIT HERE\n",
    "# RUN IT TO SEE WHAT HAPPENS\n",
    "\n",
    "# move the Suit of Armor between\n",
    "# different colors\n",
    "\n",
    "move_knight(\"blue\")\n",
    "move_knight(\"orange\")"
   ]
  },
  {
   "cell_type": "markdown",
   "id": "a259db5b",
   "metadata": {},
   "source": [
    "# Activity:\n",
    "\n",
    "Figure out what order the levers should be flipped by paying close attention to the carpets in front of them. Then move the Speedy Knight to each lever in the correct order. The Speedy Knight is clever enough to flip the lever when it's in position!\n",
    "\n",
    "The included code below is broken. Can you fix it? Run the code to see what happens, then debug it by editing it to the correct solution."
   ]
  },
  {
   "cell_type": "code",
   "execution_count": null,
   "id": "b6f4bd0e",
   "metadata": {
    "minecraft": {
     "closeCodeBuilderOnRun": true,
     "hidden": false,
     "onCodeCancelledCommand": "scoreboard players set @s code_status 0",
     "onCodeErrorCommand": "scoreboard players set @s code_status 0",
     "onCodeStartedCommand": "scoreboard players set @s code_status 1",
     "onCodeStoppedCommand": "scoreboard players set @s code_status 0",
     "onCodeSuccessfulCommand": "scoreboard players set @s code_status 0",
     "overridePython": "import time\n\ntimeout = 0.100\ncommunicationPos = (0, 64, 0)\n\ntime.sleep(0.250)\n\ndef move_knight(color):\n    if color==\"blue\":\n        world.set(communicationPos, \"light blue concrete\")\n        time.sleep(timeout) \n    elif color==\"magenta\":\n        world.set(communicationPos, \"magenta concrete\")\n        time.sleep(timeout) \n    elif color==\"yellow\":\n        world.set(communicationPos, \"yellow concrete\")\n        time.sleep(timeout) \n    elif color==\"orange\":\n        world.set(communicationPos, \"orange concrete\")\n        time.sleep(timeout) \n@user-code",
     "readonly": false
    }
   },
   "outputs": [],
   "source": [
    "# code here\n",
    "\n",
    "move_knight(\"blue\")\n",
    "move_knight(\"orange\")\n",
    "move_knight(\"yellow\")\n",
    "move_knight(\"magenta\")\n"
   ]
  }
 ],
 "metadata": {
  "celltoolbar": "Edit Metadata",
  "kernelspec": {
   "display_name": "Python 3.10.8 64-bit (microsoft store)",
   "language": "python",
   "name": "python3"
  },
  "language_info": {
   "codemirror_mode": {
    "name": "ipython",
    "version": 3
   },
   "file_extension": ".py",
   "mimetype": "text/x-python",
   "name": "python",
   "nbconvert_exporter": "python",
   "pygments_lexer": "ipython3",
   "version": "3.10.8"
  },
  "minecraft": {
   "description": "HOC 2022",
   "page_id": "1.1",
   "page_name": "HOC 2022",
   "style": "minecraft.css"
  },
  "vscode": {
   "interpreter": {
    "hash": "34242f13a52f302bd973ebb7ec1f6ba9310bbd38aa2ae877991984a75c84a395"
   }
  }
 },
 "nbformat": 4,
 "nbformat_minor": 5
}
