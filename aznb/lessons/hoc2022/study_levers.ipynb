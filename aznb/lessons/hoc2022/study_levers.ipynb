{
 "cells": [
  {
   "cell_type": "markdown",
   "id": "a40a3660",
   "metadata": {},
   "source": [
    "# Colored Levers\n",
    "\n",
    "We'll need to flip all four levers in order to open the door, but we're not quick enough to do it manually. See if you could figure out the order they need to be flipped and program the Suit of Armor to do it for you.\n",
    "\n",
    "Use the ``||hoc22.flip <color> lever||`` blocks to move the Suit of Armor to the selected color and flip the lever. Pay close attention to how many pieces of carpet there are. That will give you a clue on the order.\n"
   ]
  },
  {
   "cell_type": "code",
   "execution_count": null,
   "id": "b6f4bd0e",
   "metadata": {
    "minecraft": {
     "closeCodeBuilderOnRun": true,
     "hidden": false,
     "overridePython": "import time\n\ntimeout = 0.100\ncommunicationPos = (0, 64, 0)\n\ntime.sleep(0.250)\n\ndef move_armor(color):\n    if color==\"blue\":\n        world.set(communicationPos, \"light blue concrete\")\n        time.sleep(timeout) \n    elif color==\"magenta\":\n        world.set(communicationPos, \"magenta concrete\")\n        time.sleep(timeout) \n    elif color==\"yellow\":\n        world.set(communicationPos, \"yellow concrete\")\n        time.sleep(timeout) \n    elif color==\"orange\":\n        world.set(communicationPos, \"orange concrete\")\n        time.sleep(timeout) \n@user-code",
     "readonly": false
    }
   },
   "outputs": [],
   "source": [
    "move_armor(\"blue\")\n",
    "move_armor(\"orange\")\n",
    "move_armor(\"yellow\")\n",
    "move_armor(\"magenta\")\n"
   ]
  }
 ],
 "metadata": {
  "kernelspec": {
   "display_name": "Python 3 (ipykernel)",
   "language": "python",
   "name": "python3"
  },
  "language_info": {
   "codemirror_mode": {
    "name": "ipython",
    "version": 3
   },
   "file_extension": ".py",
   "mimetype": "text/x-python",
   "name": "python",
   "nbconvert_exporter": "python",
   "pygments_lexer": "ipython3",
   "version": "3.10.7"
  },
  "minecraft": {
   "description": "HOC 2022",
   "page_id": "1.1",
   "page_name": "HOC 2022",
   "style": "minecraft.css"
  }
 },
 "nbformat": 4,
 "nbformat_minor": 5
}
