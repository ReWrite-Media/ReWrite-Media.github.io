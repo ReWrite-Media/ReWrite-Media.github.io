{
 "cells": [
  {
   "cell_type": "markdown",
   "id": "f0d858d0",
   "metadata": {},
   "source": [
    "# Clay Ball Maze\n",
    "\n",
    "Move the clay ball to the gold block. Use the `clay_ball_move()` function to navigate the clay ball through the maze.\n",
    "\n",
    "The `clay_ball_move()` function takes one parameter (a string) that defines what direction it should move in.\n",
    "\n",
    "Valid directions are: \n",
    "- `up`\n",
    "- `down`\n",
    "- `left`\n",
    "- `right`"
   ]
  },
  {
   "cell_type": "code",
   "execution_count": null,
   "id": "aabed157",
   "metadata": {
    "minecraft": {
     "closeCodeBuilderOnRun": true,
     "hidden": false,
     "overridePython": "import time\n\ntimeout = 0.100\ncommunicationPos = (0, 64, 0)\n\ntime.sleep(0.250)\n\ndef clay_ball_move(direction):\n       agent.move(direction)\n@user-code",
     "readonly": true
    }
   },
   "outputs": [],
   "source": [
    "# move the clay ball up\n",
    "# by 3 blocks\n",
    "\n",
    "clay_ball_move(\"up\")\n",
    "clay_ball_move(\"up\")\n",
    "clay_ball_move(\"up\")"
   ]
  },
  {
   "cell_type": "markdown",
   "id": "7a06b33f",
   "metadata": {},
   "source": [
    "# Pro Tip:\n",
    "\n",
    "Use a `for` loop to do one or more actions multiple times."
   ]
  },
  {
   "cell_type": "code",
   "execution_count": null,
   "id": "c3f9d31a",
   "metadata": {
    "minecraft": {
     "closeCodeBuilderOnRun": true,
     "hidden": false,
     "overridePython": "import time\n\ntimeout = 0.100\ncommunicationPos = (0, 64, 0)\n\ntime.sleep(0.250)\n\ndef clay_ball_move(direction):\n       agent.move(direction)\n@user-code",
     "readonly": true
    }
   },
   "outputs": [],
   "source": [
    "# move the clay ball up\n",
    "# by 3 blocks\n",
    "\n",
    "for i in range(3):\n",
    "    clay_ball_move(\"up\")"
   ]
  },
  {
   "cell_type": "markdown",
   "id": "03d64374",
   "metadata": {},
   "source": [
    "# Activity:\n",
    "\n",
    "Navigate the clay ball through the maze to reach the gold block.\n",
    "\n",
    "The below code is broken, can you fix it? Debug the code by running it to see what it does and then edit it so you get the desired result."
   ]
  },
  {
   "cell_type": "code",
   "execution_count": null,
   "id": "b6f4bd0e",
   "metadata": {
    "minecraft": {
     "closeCodeBuilderOnRun": true,
     "hidden": false,
     "overridePython": "import time\n\ntimeout = 0.100\ncommunicationPos = (0, 64, 0)\n\ntime.sleep(0.250)\n\ndef clay_ball_move(direction):\n       agent.move(direction)\n@user-code",
     "readonly": false
    }
   },
   "outputs": [],
   "source": [
    "clay_ball_move(\"up\")\n",
    "clay_ball_move(\"up\")\n",
    "clay_ball_move(\"up\")\n",
    "clay_ball_move(\"left\")\n",
    "clay_ball_move(\"left\")\n",
    "clay_ball_move(\"down\")\n",
    "clay_ball_move(\"down\")\n",
    "clay_ball_move(\"down\")\n"
   ]
  }
 ],
 "metadata": {
  "celltoolbar": "Edit Metadata",
  "kernelspec": {
   "display_name": "Python 3 (ipykernel)",
   "language": "python",
   "name": "python3"
  },
  "language_info": {
   "codemirror_mode": {
    "name": "ipython",
    "version": 3
   },
   "file_extension": ".py",
   "mimetype": "text/x-python",
   "name": "python",
   "nbconvert_exporter": "python",
   "pygments_lexer": "ipython3",
   "version": "3.10.7"
  },
  "minecraft": {
   "description": "HOC 2022",
   "page_id": "1.1",
   "page_name": "HOC 2022",
   "style": "minecraft.css"
  }
 },
 "nbformat": 4,
 "nbformat_minor": 5
}
