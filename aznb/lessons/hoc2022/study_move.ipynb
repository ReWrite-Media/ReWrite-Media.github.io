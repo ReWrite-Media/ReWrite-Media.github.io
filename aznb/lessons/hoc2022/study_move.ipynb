{
 "cells": [
  {
   "cell_type": "markdown",
   "id": "f0d858d0",
   "metadata": {},
   "source": [
    "# Agent Move\n",
    "\n",
    "Move the clay ball to the gold block. (Interact with the lightbulb for help)\n",
    "\n",
    "Use ``||hoc22.clay ball move <direction> by <number>||`` to move the clay ball onto the gold block. Adjust the direction variable and how many blocks down it moves in order to reach the gold block.\n"
   ]
  }
 ],
 "metadata": {
  "kernelspec": {
   "display_name": "Python 3 (ipykernel)",
   "language": "python",
   "name": "python3"
  },
  "language_info": {
   "codemirror_mode": {
    "name": "ipython",
    "version": 3
   },
   "file_extension": ".py",
   "mimetype": "text/x-python",
   "name": "python",
   "nbconvert_exporter": "python",
   "pygments_lexer": "ipython3",
   "version": "3.10.7"
  },
  "minecraft": {
   "description": "HOC 2022",
   "page_id": "1.1",
   "page_name": "HOC 2022",
   "style": "minecraft.css"
  }
 },
 "nbformat": 4,
 "nbformat_minor": 5
}
