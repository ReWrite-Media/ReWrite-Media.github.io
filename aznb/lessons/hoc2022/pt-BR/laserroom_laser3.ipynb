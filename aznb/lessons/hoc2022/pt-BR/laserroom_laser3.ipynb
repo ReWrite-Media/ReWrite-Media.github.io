﻿{
    "cells":  [
                  {
                      "cell_type":  "markdown",
                      "id":  "e678df41",
                      "metadata":  {

                                   },
                      "source":  [
                                     "# Quebra-cabeça laser (Parte 3)\n",
                                     "\n",
                                     "Blocos sólidos param o laser! Mude a linha de blocos vermelhos, amarelos e verdes para fazer o laser passar pelos blocos de vidro e acender a luz do outro lado. Use a função `shift_row()` para deslocar as linhas para esquerda ou para direita para permitir que o laser passe pelos blocos de vidro.\n",
                                     "\n",
                                     "A função `shift_row()` tem dois parâmetros (strings). O primeiro parâmetro define qual linha de cor você deseja mudar, e o segundo parâmetro define a direção para qual a linha deve mudar.\n",
                                     "\n",
                                     "As cores válidas são:\n",
                                     "- \u0027green\u0027 ![Green](img/green_right.png \"Green\")\n",
                                     "- \u0027yellow\u0027 ![Yellow](img/yellow_right.png \"Yellow\")\n",
                                     "- \u0027red\u0027 ![Red](img/red_right.png \"Red\")\n",
                                     "\n",
                                     "As instruções válidas são:\n",
                                     "- `direita` ![Direita](img/gray_right.png \"Direita\")\n",
                                     "- \u0027left\u0027 (esquerda) ![Left](img/gray_left.png \"Left\")"
                                 ]
                  },
                  {
                      "cell_type":  "code",
                      "execution_count":  null,
                      "id":  "20136327",
                      "metadata":  {
                                       "minecraft":  {
                                                         "closeCodeBuilderOnRun":  true,
                                                         "hidden":  false,
                                                         "onCodeCancelledCommand":  "scoreboard players set @s code_status 0",
                                                         "onCodeErrorCommand":  "scoreboard players set @s code_status 0",
                                                         "onCodeStartedCommand":  "scoreboard players set @s code_status 1",
                                                         "onCodeStoppedCommand":  "scoreboard players set @s code_status 0",
                                                         "onCodeSuccessfulCommand":  "scoreboard players set @s code_status 0",
                                                         "overridePython":  "import time\n\ntimeout = 0.100\ncommunicationPos = (0, 64, 0)\n\ntime.sleep(0.250)\n\ndef shift_row(color, direction):\n    if color==\"green\" and direction == \"left\":\n        world.set(communicationPos, \"orange concrete\")\n        time.sleep(timeout)   \n    elif color==\"green\" and direction == \"right\":\n        world.set(communicationPos, \"magenta concrete\")\n        time.sleep(timeout)                 \n    elif color==\"yellow\" and direction == \"left\":\n        world.set(communicationPos, \"light blue concrete\")\n        time.sleep(timeout)   \n    elif color==\"yellow\" and direction == \"right\":\n        world.set(communicationPos, \"yellow concrete\")\n        time.sleep(timeout)                 \n    elif color==\"red\" and direction == \"left\":\n        world.set(communicationPos, \"lime concrete\")\n        time.sleep(timeout)   \n    elif color==\"red\" and direction == \"right\":\n        world.set(communicationPos, \"pink concrete\")\n        time.sleep(timeout)  \n@user-code",
                                                         "readonly":  true
                                                     }
                                   },
                      "outputs":  [

                                  ],
                      "source":  [
                                     "# EXEMPLO DE CÓDIGO - VOCÊ NÃO PODE EDITAR AQUI\n",
                                     "# EXECUTE-O PARA VER O QUE ACONTECE\n",
                                     "\n",
                                     "# mude a linha verde para a direita\n",
                                     "# 3 vezes, a linha amarela\n",
                                     "# esquerda 1 uma vez e a linha vermelha\n",
                                     "# direita 3 vezes.\n",
                                     "\n",
                                     "shift_row(\"green\", \"right\")\n",
                                     "shift_row(\"green\", \"right\")\n",
                                     "shift_row(\"green\", \"right\")\n",
                                     "shift_row(\"yellow\", \"left\")\n",
                                     "shift_row(\"red\", \"right\")\n",
                                     "shift_row(\"red\", \"right\")\n",
                                     "shift_row(\"red\", \"right\")"
                                 ]
                  },
                  {
                      "cell_type":  "markdown",
                      "id":  "a2330714",
                      "metadata":  {

                                   },
                      "source":  [
                                     "# Dica Profissional:\n",
                                     "\n",
                                     "Use um ciclo `for` para executar uma ou mais ações várias vezes."
                                 ]
                  },
                  {
                      "cell_type":  "code",
                      "execution_count":  null,
                      "id":  "9da21bcf",
                      "metadata":  {
                                       "minecraft":  {
                                                         "closeCodeBuilderOnRun":  true,
                                                         "hidden":  false,
                                                         "onCodeCancelledCommand":  "scoreboard players set @s code_status 0",
                                                         "onCodeErrorCommand":  "scoreboard players set @s code_status 0",
                                                         "onCodeStartedCommand":  "scoreboard players set @s code_status 1",
                                                         "onCodeStoppedCommand":  "scoreboard players set @s code_status 0",
                                                         "onCodeSuccessfulCommand":  "scoreboard players set @s code_status 0",
                                                         "overridePython":  "import time\n\ntimeout = 0.100\ncommunicationPos = (0, 64, 0)\n\ntime.sleep(0.250)\n\ndef shift_row(color, direction):\n    if color==\"green\" and direction == \"left\":\n        world.set(communicationPos, \"orange concrete\")\n        time.sleep(timeout)   \n    elif color==\"green\" and direction == \"right\":\n        world.set(communicationPos, \"magenta concrete\")\n        time.sleep(timeout)                 \n    elif color==\"yellow\" and direction == \"left\":\n        world.set(communicationPos, \"light blue concrete\")\n        time.sleep(timeout)   \n    elif color==\"yellow\" and direction == \"right\":\n        world.set(communicationPos, \"yellow concrete\")\n        time.sleep(timeout)                 \n    elif color==\"red\" and direction == \"left\":\n        world.set(communicationPos, \"lime concrete\")\n        time.sleep(timeout)   \n    elif color==\"red\" and direction == \"right\":\n        world.set(communicationPos, \"pink concrete\")\n        time.sleep(timeout)  \n@user-code",
                                                         "readonly":  true
                                                     }
                                   },
                      "outputs":  [

                                  ],
                      "source":  [
                                     "# EXEMPLO DE CÓDIGO - VOCÊ NÃO PODE EDITAR AQUI\n",
                                     "# EXECUTE-O PARA VER O QUE ACONTECE\n",
                                     "\n",
                                     "# mude a linha verde para a direita\n",
                                     "# 3 vezes, a linha amarela\n",
                                     "# esquerda 1 uma vez e a linha vermelha\n",
                                     "# direita 3 vezes.\n",
                                     "\n",
                                     "for i in range(3):\n",
                                     "    shift_row(\"green\", \"right\")\n",
                                     "    \n",
                                     "shift_row(\"yellow\", \"left\")\n",
                                     "\n",
                                     "for i in range(3):\n",
                                     "    shift_row(\"red\", \"right\")"
                                 ]
                  },
                  {
                      "cell_type":  "markdown",
                      "id":  "8a3d50eb",
                      "metadata":  {

                                   },
                      "source":  [
                                     "# Atividade:\n",
                                     "\n",
                                     "Mude as linhas verde, amarela e vermelha para a esquerda ou para a direita, para que os lasers passem pelos blocos de vidro e acenda as luzes.\n",
                                     "\n",
                                     "O código incluído abaixo está quebrado. Você consegue corrigi-lo? Execute o código para ver o que acontece e depure-o editando-o para a solução correta."
                                 ]
                  },
                  {
                      "cell_type":  "code",
                      "execution_count":  null,
                      "id":  "b6f4bd0e",
                      "metadata":  {
                                       "minecraft":  {
                                                         "closeCodeBuilderOnRun":  true,
                                                         "hidden":  false,
                                                         "onCodeCancelledCommand":  "scoreboard players set @s code_status 0",
                                                         "onCodeErrorCommand":  "scoreboard players set @s code_status 0",
                                                         "onCodeStartedCommand":  "scoreboard players set @s code_status 1",
                                                         "onCodeStoppedCommand":  "scoreboard players set @s code_status 0",
                                                         "onCodeSuccessfulCommand":  "scoreboard players set @s code_status 0",
                                                         "overridePython":  "import time\n\ntimeout = 0.100\ncommunicationPos = (0, 64, 0)\n\ntime.sleep(0.250)\n\ndef shift_row(color, direction):\n    if color==\"green\" and direction == \"left\":\n        world.set(communicationPos, \"orange concrete\")\n        time.sleep(timeout)   \n    elif color==\"green\" and direction == \"right\":\n        world.set(communicationPos, \"magenta concrete\")\n        time.sleep(timeout)                 \n    elif color==\"yellow\" and direction == \"left\":\n        world.set(communicationPos, \"light blue concrete\")\n        time.sleep(timeout)   \n    elif color==\"yellow\" and direction == \"right\":\n        world.set(communicationPos, \"yellow concrete\")\n        time.sleep(timeout)                 \n    elif color==\"red\" and direction == \"left\":\n        world.set(communicationPos, \"lime concrete\")\n        time.sleep(timeout)   \n    elif color==\"red\" and direction == \"right\":\n        world.set(communicationPos, \"pink concrete\")\n        time.sleep(timeout)  \n@user-code",
                                                         "readonly":  false
                                                     }
                                   },
                      "outputs":  [

                                  ],
                      "source":  [
                                     "# código aqui\n",
                                     "\n",
                                     "shift_row(\"green\", \"left\")\n",
                                     "shift_row(\"yellow\", \"right\")\n",
                                     "shift_row(\"red\", \"right\")\n",
                                     "shift_row(\"red\", \"right\")\n",
                                     "shift_row(\"red\", \"right\")"
                                 ]
                  }
              ],
    "metadata":  {
                     "celltoolbar":  "Edit Metadata",
                     "kernelspec":  {
                                        "display_name":  "Python 3 (ipykernel)",
                                        "language":  "python",
                                        "name":  "python3"
                                    },
                     "language_info":  {
                                           "codemirror_mode":  {
                                                                   "name":  "ipython",
                                                                   "version":  3
                                                               },
                                           "file_extension":  ".py",
                                           "mimetype":  "text/x-python",
                                           "name":  "python",
                                           "nbconvert_exporter":  "python",
                                           "pygments_lexer":  "ipython3",
                                           "version":  "3.10.7"
                                       },
                     "minecraft":  {
                                       "description":  "HdC 2022",
                                       "page_id":  "1.1",
                                       "page_name":  "HdC 2022",
                                       "style":  "minecraft.css"
                                   }
                 },
    "nbformat":  4,
    "nbformat_minor":  5
}
