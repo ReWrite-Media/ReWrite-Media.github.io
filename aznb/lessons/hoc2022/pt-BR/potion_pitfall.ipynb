﻿{
    "cells":  [
                  {
                      "cell_type":  "markdown",
                      "id":  "145bed8e",
                      "metadata":  {

                                   },
                      "source":  [
                                     "# Pitfall\n",
                                     "\n",
                                     "Woah, pernas, chega de rolar para este golem! Precisamos ajudá-lo a navegar com segurança até o bloco de esmeraldas. Quando o golem se move para a placa de pressão, o bloco que precisa se retrai por um momento. Se esperarmos, parece que volta! Use a função \u0027move_golem_forward()\u0027 para mover o golem e a função \u0027wait()\u0027 para fazê-lo esperar o bloco voltar!"
                                 ]
                  },
                  {
                      "cell_type":  "code",
                      "execution_count":  null,
                      "id":  "e5dcd9e8",
                      "metadata":  {
                                       "minecraft":  {
                                                         "closeCodeBuilderOnRun":  true,
                                                         "hidden":  false,
                                                         "onCodeCancelledCommand":  "scoreboard players set @s code_status 0",
                                                         "onCodeErrorCommand":  "scoreboard players set @s code_status 0",
                                                         "onCodeStartedCommand":  "scoreboard players set @s code_status 1",
                                                         "onCodeStoppedCommand":  "scoreboard players set @s code_status 0",
                                                         "onCodeSuccessfulCommand":  "scoreboard players set @s code_status 0",
                                                         "overridePython":  "import time\n\ntimeout = 0.100\ncommunicationPos = (0, 64, 0)\n\ntime.sleep(0.250)\n\ndef move_golem_forward():\n    world.set(communicationPos, \"orange concrete\")\n    time.sleep(timeout)     \n\ndef wait():\n    world.set(communicationPos, \"magenta concrete\")\n    time.sleep(timeout)   \n@user-code",
                                                         "readonly":  true
                                                     }
                                   },
                      "outputs":  [

                                  ],
                      "source":  [
                                     "# EXEMPLO DE CÓDIGO - VOCÊ NÃO PODE EDITAR AQUI\n",
                                     "EXECUTE-O PARA VER O QUE ACONTECE\n",
                                     "\n",
                                     "# Mova o golem para frente 2 espaços\n",
                                     "Espere um segundo e depois mova-se \n",
                                     "# 2 mais espaços\n",
                                     "\n",
                                     "move_golem_forward()\n",
                                     "move_golem_forward()\n",
                                     "wait()\n",
                                     "move_golem_forward()\n",
                                     "move_golem_forward()"
                                 ]
                  },
                  {
                      "cell_type":  "markdown",
                      "id":  "64663469",
                      "metadata":  {

                                   },
                      "source":  [
                                     "# Atividade:\n",
                                     "\n",
                                     "Mova o golem para o final sem cair no poço. Certifique-se de esperar o bloco voltar depois que o golem ficar em uma placa de pressão.\n",
                                     "\n",
                                     "O código incluído abaixo está quebrado. Você pode consertá-lo? Execute o código para ver o que acontece e depure-o editando-o para a solução correta."
                                 ]
                  },
                  {
                      "cell_type":  "code",
                      "execution_count":  null,
                      "id":  "b6f4bd0e",
                      "metadata":  {
                                       "minecraft":  {
                                                         "closeCodeBuilderOnRun":  true,
                                                         "hidden":  false,
                                                         "onCodeCancelledCommand":  "scoreboard players set @s code_status 0",
                                                         "onCodeErrorCommand":  "scoreboard players set @s code_status 0",
                                                         "onCodeStartedCommand":  "scoreboard players set @s code_status 1",
                                                         "onCodeStoppedCommand":  "scoreboard players set @s code_status 0",
                                                         "onCodeSuccessfulCommand":  "scoreboard players set @s code_status 0",
                                                         "overridePython":  "import time\n\ntimeout = 0.100\ncommunicationPos = (0, 64, 0)\n\ntime.sleep(0.250)\n\ndef move_golem_forward():\n    world.set(communicationPos, \"orange concrete\")\n    time.sleep(timeout)     \n\ndef wait():\n    world.set(communicationPos, \"magenta concrete\")\n    time.sleep(timeout)   \n@user-code",
                                                         "readonly":  false
                                                     }
                                   },
                      "outputs":  [

                                  ],
                      "source":  [
                                     "# código aqui\n",
                                     "\n",
                                     "move_golem_forward()\n",
                                     "move_golem_forward()\n",
                                     "wait()\n",
                                     "move_golem_forward()\n",
                                     "move_golem_forward()\n",
                                     "move_golem_forward()\n"
                                 ]
                  }
              ],
    "metadata":  {
                     "celltoolbar":  "Edit Metadata",
                     "kernelspec":  {
                                        "display_name":  "Python 3 (ipykernel)",
                                        "language":  "python",
                                        "name":  "python3"
                                    },
                     "language_info":  {
                                           "codemirror_mode":  {
                                                                   "name":  "ipython",
                                                                   "version":  3
                                                               },
                                           "file_extension":  ".py",
                                           "mimetype":  "text/x-python",
                                           "name":  "python",
                                           "nbconvert_exporter":  "python",
                                           "pygments_lexer":  "ipython3",
                                           "version":  "3.10.7"
                                       },
                     "minecraft":  {
                                       "description":  "HOC 2022",
                                       "page_id":  "1.1",
                                       "page_name":  "HOC 2022",
                                       "style":  "minecraft.css"
                                   }
                 },
    "nbformat":  4,
    "nbformat_minor":  5
}
