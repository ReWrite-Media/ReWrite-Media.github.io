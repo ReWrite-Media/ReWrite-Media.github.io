{
 "cells": [
  {
   "cell_type": "markdown",
   "id": "9b91c022",
   "metadata": {},
   "source": [
    "# Bridge Builder\n",
    "\n",
    "The Crate Minion is stuck! Oh no! Your're both stuck! You should build a bridge for the Crate Minion to get to the other side so they can press that button to reveal a staircase to help you out! Use the `move_cursor()` function to position the cursor and the `place_block()` function to place a block in the position you have selected.\n",
    "\n",
    "The `move_cursor()` function takes one parameter that defines its direction. That parameter is the color of the arrow that represents the direction you want to move.\n",
    "\n",
    "Valid directions are:\n",
    "- `orange` (moves the cursor up) ![Orange Arrow](img/orange_arrow.png \"Orange Arrow\")\n",
    "- `magenta` (moves the cursor down)  ![Magenta Arrow](img/magenta_arrow.png \"Magenta Arrow\")\n",
    "- `blue` (moves the cursor left)  ![Blue Arrow](img/blue_arrow.png \"Blue Arrow\")\n",
    "- `yellow` (moves the cursor right)  ![Yellow Arrow](img/yellow_arrow.png \"Yellow Arrow\")"
   ]
  },
  {
   "cell_type": "code",
   "execution_count": null,
   "id": "73bf55d0",
   "metadata": {
    "minecraft": {
     "closeCodeBuilderOnRun": true,
     "hidden": false,
     "onCodeCancelledCommand": "scoreboard players set @s code_status 0",
     "onCodeErrorCommand": "scoreboard players set @s code_status 0",
     "onCodeStartedCommand": "scoreboard players set @s code_status 1",
     "onCodeStoppedCommand": "scoreboard players set @s code_status 0",
     "onCodeSuccessfulCommand": "scoreboard players set @s code_status 0",
     "overridePython": "import time\n\ntimeout = 0.100\ncommunicationPos = (0, 64, 0)\n\ntime.sleep(0.250)\n\ndef move_cursor(color):\n    if color == \"orange\":\n        world.set(communicationPos, \"orange concrete\")\n        time.sleep(timeout)\n    elif color == \"magenta\":\n        world.set(communicationPos, \"magenta concrete\")\n        time.sleep(timeout)\n    elif color == \"blue\":\n        world.set(communicationPos, \"light blue concrete\")\n        time.sleep(timeout)\n    elif color == \"yellow\":\n        world.set(communicationPos, \"yellow concrete\")\n        time.sleep(timeout)\n\ndef place_block():\n    world.set(communicationPos, \"lime concrete\")\n    time.sleep(timeout) \n@user-code",
     "readonly": true
    }
   },
   "outputs": [],
   "source": [
    "# CODE EXAMPLE - YOU CAN NOT EDIT HERE\n",
    "# RUN IT TO SEE WHAT HAPPENS\n",
    "\n",
    "# place a block and move\n",
    "# the cursor 3 times\n",
    "\n",
    "place_block()\n",
    "move_cursor(\"yellow\")\n",
    "place_block()\n",
    "move_cursor(\"yellow\")\n",
    "place_block()\n",
    "move_cursor(\"yellow\")"
   ]
  },
  {
   "cell_type": "markdown",
   "id": "818b7fe1",
   "metadata": {},
   "source": [
    "# Pro Tip:\n",
    "\n",
    "Use a `for` loop to do one or more actions multiple times."
   ]
  },
  {
   "cell_type": "code",
   "execution_count": null,
   "id": "26a64a60",
   "metadata": {
    "minecraft": {
     "closeCodeBuilderOnRun": true,
     "hidden": false,
     "onCodeCancelledCommand": "scoreboard players set @s code_status 0",
     "onCodeErrorCommand": "scoreboard players set @s code_status 0",
     "onCodeStartedCommand": "scoreboard players set @s code_status 1",
     "onCodeStoppedCommand": "scoreboard players set @s code_status 0",
     "onCodeSuccessfulCommand": "scoreboard players set @s code_status 0",
     "overridePython": "import time\n\ntimeout = 0.100\ncommunicationPos = (0, 64, 0)\n\ntime.sleep(0.250)\n\ndef move_cursor(color):\n    if color == \"orange\":\n        world.set(communicationPos, \"orange concrete\")\n        time.sleep(timeout)\n    elif color == \"magenta\":\n        world.set(communicationPos, \"magenta concrete\")\n        time.sleep(timeout)\n    elif color == \"blue\":\n        world.set(communicationPos, \"light blue concrete\")\n        time.sleep(timeout)\n    elif color == \"yellow\":\n        world.set(communicationPos, \"yellow concrete\")\n        time.sleep(timeout)\n\ndef place_block():\n    world.set(communicationPos, \"lime concrete\")\n    time.sleep(timeout) \n@user-code",
     "readonly": true
    }
   },
   "outputs": [],
   "source": [
    "# CODE EXAMPLE - YOU CAN NOT EDIT HERE\n",
    "# RUN IT TO SEE WHAT HAPPENS\n",
    "\n",
    "# place a block and move\n",
    "# the cursor 3 times\n",
    "\n",
    "for i in range(3):\n",
    "    place_block()\n",
    "    move_cursor(\"yellow\")"
   ]
  },
  {
   "cell_type": "markdown",
   "id": "0d0cd7e6",
   "metadata": {},
   "source": [
    "# Activity:\n",
    "\n",
    "Create a bridge so the Crate Minion can reach the button to reveal a staircase for you!\n",
    "\n",
    "The included code below is broken. Can you fix it? Run the code to see what happens, then debug it by editing it to the correct solution."
   ]
  },
  {
   "cell_type": "code",
   "execution_count": null,
   "id": "b6f4bd0e",
   "metadata": {
    "minecraft": {
     "closeCodeBuilderOnRun": true,
     "hidden": false,
     "onCodeCancelledCommand": "scoreboard players set @s code_status 0",
     "onCodeErrorCommand": "scoreboard players set @s code_status 0",
     "onCodeStartedCommand": "scoreboard players set @s code_status 1",
     "onCodeStoppedCommand": "scoreboard players set @s code_status 0",
     "onCodeSuccessfulCommand": "scoreboard players set @s code_status 0",
     "overridePython": "import time\n\ntimeout = 0.100\ncommunicationPos = (0, 64, 0)\n\ntime.sleep(0.250)\n\ndef move_cursor(color):\n    if color == \"orange\":\n        world.set(communicationPos, \"orange concrete\")\n        time.sleep(timeout)\n    elif color == \"magenta\":\n        world.set(communicationPos, \"magenta concrete\")\n        time.sleep(timeout)\n    elif color == \"blue\":\n        world.set(communicationPos, \"light blue concrete\")\n        time.sleep(timeout)\n    elif color == \"yellow\":\n        world.set(communicationPos, \"yellow concrete\")\n        time.sleep(timeout)\n\ndef place_block():\n    world.set(communicationPos, \"lime concrete\")\n    time.sleep(timeout) \n@user-code",
     "readonly": false
    }
   },
   "outputs": [],
   "source": [
    "# code here\n",
    "\n",
    "place_block()\n",
    "move_cursor(\"yellow\")\n",
    "place_block()\n",
    "move_cursor(\"yellow\")\n",
    "place_block()\n"
   ]
  }
 ],
 "metadata": {
  "celltoolbar": "Edit Metadata",
  "kernelspec": {
   "display_name": "Python 3 (ipykernel)",
   "language": "python",
   "name": "python3"
  },
  "language_info": {
   "codemirror_mode": {
    "name": "ipython",
    "version": 3
   },
   "file_extension": ".py",
   "mimetype": "text/x-python",
   "name": "python",
   "nbconvert_exporter": "python",
   "pygments_lexer": "ipython3",
   "version": "3.10.7"
  },
  "minecraft": {
   "description": "HOC 2022",
   "page_id": "1.1",
   "page_name": "HOC 2022",
   "style": "minecraft.css"
  }
 },
 "nbformat": 4,
 "nbformat_minor": 5
}
