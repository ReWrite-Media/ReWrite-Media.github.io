﻿{
    "cells":  [
                  {
                      "cell_type":  "markdown",
                      "id":  "7c614f68",
                      "metadata":  {

                                   },
                      "source":  [
                                     "# Väärä heijastus\n",
                                     "\n",
                                     "Peilin kuva näyttää erilaiselta kuin miltä huone näyttää. Etsi kaikki eroavaisuudet ja muokkaa huonetta niin, että se vastaa peilin kuvaa. Käytä `move_cursor()`-funktiota kohdistimen siirtämiseen ja `place_block()`-funktiota sijoittaaksesi kuution valitsemaasi kohtaan.\n",
                                     "\n",
                                     "`move_cursor()`-funktio vaatii yhden parametrin, joka määrittää sen suunnan. Parametri on sen nuolen väri, minkä suuntaan haluat siirtää kohdistinta.\n",
                                     "\n",
                                     "Kelvollisia suuntia ovat:\n",
                                     "- `orange` (oranssi) (siirtää kohdistinta ylöspäin) ![Oranssi nuoli](img/orange_arrow.png \"Oranssi nuoli\")\n",
                                     "- `magenta` (aniliininpunainen) (siirtää kohdistinta alaspäin) ![Magenta nuoli](img/magenta_arrow.png \"Magenta nuoli\")\n",
                                     "- `blue` (sininen) (siirtää kohdistinta vasemmalle) ![Sininen nuoli](img/blue_arrow.png \"Sininen nuoli\")\n",
                                     "- `yellow` (keltainen) (siirtää kohdistinta oikealle) ![Keltainen nuoli](img/yellow_arrow.png \"Keltainen nuoli\")\n"
                                 ]
                  },
                  {
                      "cell_type":  "code",
                      "execution_count":  null,
                      "id":  "e486686a",
                      "metadata":  {
                                       "minecraft":  {
                                                         "closeCodeBuilderOnRun":  true,
                                                         "hidden":  false,
                                                         "onCodeCancelledCommand":  "scoreboard players set @s code_status 0",
                                                         "onCodeErrorCommand":  "scoreboard players set @s code_status 0",
                                                         "onCodeStartedCommand":  "scoreboard players set @s code_status 1",
                                                         "onCodeStoppedCommand":  "scoreboard players set @s code_status 0",
                                                         "onCodeSuccessfulCommand":  "scoreboard players set @s code_status 0",
                                                         "overridePython":  "import time\n\ntimeout = 0.100\ncommunicationPos = (0, 64, 0)\n\ntime.sleep(0.250)\n\ndef move_cursor(color):\n    if color == \"orange\":\n        world.set(communicationPos, \"orange concrete\")\n        time.sleep(timeout)\n    elif color == \"magenta\":\n        world.set(communicationPos, \"magenta concrete\")\n        time.sleep(timeout)\n    elif color == \"blue\":\n        world.set(communicationPos, \"light blue concrete\")\n        time.sleep(timeout)\n    elif color == \"yellow\":\n        world.set(communicationPos, \"yellow concrete\")\n        time.sleep(timeout)\n\ndef place_block():\n    world.set(communicationPos, \"lime concrete\")\n    time.sleep(timeout)         \n@user-code",
                                                         "readonly":  true
                                                     }
                                   },
                      "outputs":  [

                                  ],
                      "source":  [
                                     "# KOODIESIMERKKI – ET VOI MUOKATA TÄÄLLÄ\n",
                                     "# SUORITA SE NÄHDÄKSESI, MITÄ TAPAHTUU\n",
                                     "\n",
                                     "# luo kuutiorivi\n",
                                     "\n",
                                     "place_block()\n",
                                     "move_cursor(\"blue\")\n",
                                     "place_block()\n",
                                     "move_cursor(\"blue\")\n",
                                     "place_block()\n",
                                     "move_cursor(\"blue\")"
                                 ]
                  },
                  {
                      "cell_type":  "markdown",
                      "id":  "fd4918c3",
                      "metadata":  {

                                   },
                      "source":  [
                                     "# Ammattilaisvinkki:\n",
                                     "\n",
                                     "For-silmukan avulla voit suorittaa toiminnon tai toimintosarjan useita kertoja."
                                 ]
                  },
                  {
                      "cell_type":  "code",
                      "execution_count":  null,
                      "id":  "921028b3",
                      "metadata":  {
                                       "minecraft":  {
                                                         "closeCodeBuilderOnRun":  true,
                                                         "hidden":  false,
                                                         "onCodeCancelledCommand":  "scoreboard players set @s code_status 0",
                                                         "onCodeErrorCommand":  "scoreboard players set @s code_status 0",
                                                         "onCodeStartedCommand":  "scoreboard players set @s code_status 1",
                                                         "onCodeStoppedCommand":  "scoreboard players set @s code_status 0",
                                                         "onCodeSuccessfulCommand":  "scoreboard players set @s code_status 0",
                                                         "overridePython":  "import time\n\ntimeout = 0.100\ncommunicationPos = (0, 64, 0)\n\ntime.sleep(0.250)\n\ndef move_cursor(color):\n    if color == \"orange\":\n        world.set(communicationPos, \"orange concrete\")\n        time.sleep(timeout)\n    elif color == \"magenta\":\n        world.set(communicationPos, \"magenta concrete\")\n        time.sleep(timeout)\n    elif color == \"blue\":\n        world.set(communicationPos, \"light blue concrete\")\n        time.sleep(timeout)\n    elif color == \"yellow\":\n        world.set(communicationPos, \"yellow concrete\")\n        time.sleep(timeout)\n\ndef place_block():\n    world.set(communicationPos, \"lime concrete\")\n    time.sleep(timeout)         \n@user-code",
                                                         "readonly":  true
                                                     }
                                   },
                      "outputs":  [

                                  ],
                      "source":  [
                                     "# KOODIESIMERKKI – ET VOI MUOKATA TÄÄLLÄ\n",
                                     "# SUORITA SE NÄHDÄKSESI, MITÄ TAPAHTUU\n",
                                     "\n",
                                     "# luo kuutiorivi\n",
                                     "\n",
                                     "for i in range(3):\n",
                                     "    place_block()\n",
                                     "    move_cursor(\"blue\")"
                                 ]
                  },
                  {
                      "cell_type":  "markdown",
                      "id":  "1428f167",
                      "metadata":  {

                                   },
                      "source":  [
                                     "# Tehtävä:\n",
                                     "\n",
                                     "Katso peiliin ja kiinnitä huomiota takan yläpuolella olevien kuutioiden asetteluun. Luo sama asetelma sinun puolellesi peiliä.\n",
                                     "\n",
                                     "Alla oleva koodi on rikki. Osaatko korjata sen? Suorita koodi nähdäksesi, mitä se tekee, ja muokkaa sitä sitten niin, että saat halutun tuloksen."
                                 ]
                  },
                  {
                      "cell_type":  "code",
                      "execution_count":  null,
                      "id":  "b6f4bd0e",
                      "metadata":  {
                                       "minecraft":  {
                                                         "closeCodeBuilderOnRun":  true,
                                                         "hidden":  false,
                                                         "onCodeCancelledCommand":  "scoreboard players set @s code_status 0",
                                                         "onCodeErrorCommand":  "scoreboard players set @s code_status 0",
                                                         "onCodeStartedCommand":  "scoreboard players set @s code_status 1",
                                                         "onCodeStoppedCommand":  "scoreboard players set @s code_status 0",
                                                         "onCodeSuccessfulCommand":  "scoreboard players set @s code_status 0",
                                                         "overridePython":  "import time\n\ntimeout = 0.100\ncommunicationPos = (0, 64, 0)\n\ntime.sleep(0.250)\n\ndef move_cursor(color):\n    if color == \"orange\":\n        world.set(communicationPos, \"orange concrete\")\n        time.sleep(timeout)\n    elif color == \"magenta\":\n        world.set(communicationPos, \"magenta concrete\")\n        time.sleep(timeout)\n    elif color == \"blue\":\n        world.set(communicationPos, \"light blue concrete\")\n        time.sleep(timeout)\n    elif color == \"yellow\":\n        world.set(communicationPos, \"yellow concrete\")\n        time.sleep(timeout)\n\ndef place_block():\n    world.set(communicationPos, \"lime concrete\")\n    time.sleep(timeout)         \n@user-code",
                                                         "readonly":  false
                                                     }
                                   },
                      "outputs":  [

                                  ],
                      "source":  [
                                     "# koodaa tässä\n",
                                     "\n",
                                     "place_block()\n",
                                     "move_cursor(\"magenta\")\n",
                                     "place_block()\n",
                                     "move_cursor(\"blue\")\n",
                                     "place_block()\n",
                                     "move_cursor(\"blue\")\n",
                                     "place_block()\n",
                                     "move_cursor(\"blue\")\n",
                                     "place_block()\n",
                                     "move_cursor(\"blue\")\n",
                                     "place_block()\n",
                                     "move_cursor(\"orange\")\n",
                                     "place_block()\n"
                                 ]
                  }
              ],
    "metadata":  {
                     "celltoolbar":  "Edit Metadata",
                     "kernelspec":  {
                                        "display_name":  "Python 3 (ipykernel)",
                                        "language":  "python",
                                        "name":  "python3"
                                    },
                     "language_info":  {
                                           "codemirror_mode":  {
                                                                   "name":  "ipython",
                                                                   "version":  3
                                                               },
                                           "file_extension":  ".py",
                                           "mimetype":  "text/x-python",
                                           "name":  "python",
                                           "nbconvert_exporter":  "python",
                                           "pygments_lexer":  "ipython3",
                                           "version":  "3.10.7"
                                       },
                     "minecraft":  {
                                       "description":  "HOC 2022",
                                       "page_id":  "1.1",
                                       "page_name":  "HOC 2022",
                                       "style":  "minecraft.css"
                                   }
                 },
    "nbformat":  4,
    "nbformat_minor":  5
}
