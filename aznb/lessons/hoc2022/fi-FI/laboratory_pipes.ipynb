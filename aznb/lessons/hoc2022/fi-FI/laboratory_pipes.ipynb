﻿{
    "cells":  [
                  {
                      "cell_type":  "markdown",
                      "id":  "7592c160",
                      "metadata":  {

                                   },
                      "source":  [
                                     "# Putket\n",
                                     "\n",
                                     "Sinun on lisättävä tietty määrä kuutioita jokaiseen suppiloon. Ehkä huoneessa on vihje, josta voit päätellä oikean määrän? Käytä `drop_block()`-funktiota pudottaaksesi oikean määrän värillisiä kuutioita putkiin.\n",
                                     "\n",
                                     "`drop_block()`-funktio vaatii yhden paramaterin (merkkijonon), joka määrittää, minkä värisen kuution haluat pudottaa.\n",
                                     "\n",
                                     "Seuraavat värit käyvät:\n",
                                     "- `yellow` (keltainen) ![Keltainen nuoli](img/yellow_arrow.png \"Keltainen nuoli\")\n",
                                     "- `blue` (sininen) ![Sininen nuoli](img/blue_arrow.png \"Sininen nuoli\")\n",
                                     "- `oranssi` ![Oranssi nuoli](img/orange_arrow.png \"Oranssi nuoli\")\n",
                                     "- `magenta` (aniliininpunainen) ![Magenta nuoli](img/magenta_arrow.png \"Magenta Arrow\")"
                                 ]
                  },
                  {
                      "cell_type":  "code",
                      "execution_count":  null,
                      "id":  "867b6d86",
                      "metadata":  {
                                       "minecraft":  {
                                                         "closeCodeBuilderOnRun":  true,
                                                         "hidden":  false,
                                                         "onCodeCancelledCommand":  "scoreboard players set @s code_status 0",
                                                         "onCodeErrorCommand":  "scoreboard players set @s code_status 0",
                                                         "onCodeStartedCommand":  "scoreboard players set @s code_status 1",
                                                         "onCodeStoppedCommand":  "scoreboard players set @s code_status 0",
                                                         "onCodeSuccessfulCommand":  "scoreboard players set @s code_status 0",
                                                         "overridePython":  "import time\n\ntimeout = 0.100\ncommunicationPos = (0, 64, 0)\n\ntime.sleep(0.250)\n\ndef drop_block(color):\n    if color==\"magenta\":\n        world.set(communicationPos, \"magenta concrete\")\n        time.sleep(timeout)         \n    elif color==\"blue\":\n        world.set(communicationPos, \"light blue concrete\")\n        time.sleep(timeout)\n    elif color==\"yellow\":\n        world.set(communicationPos, \"yellow concrete\")\n        time.sleep(timeout)\n    elif color==\"orange\":\n        world.set(communicationPos, \"lime concrete\")\n        time.sleep(timeout)            \n@user-code",
                                                         "readonly":  true
                                                     }
                                   },
                      "outputs":  [

                                  ],
                      "source":  [
                                     "# KOODIESIMERKKI – ET VOI MUOKATA TÄÄLLÄ\n",
                                     "# SUORITA SE NÄHDÄKSESI, MITÄ TAPAHTUU\n",
                                     "\n",
                                     "# pudota 4 keltaista kuutiota ja\n",
                                     "# 1 sininen kuutio\n",
                                     "\n",
                                     "drop_block(\"yellow\")\n",
                                     "drop_block(\"yellow\")\n",
                                     "drop_block(\"yellow\")\n",
                                     "drop_block(\"yellow\")\n",
                                     "drop_block(\"blue\")"
                                 ]
                  },
                  {
                      "cell_type":  "markdown",
                      "id":  "1a242787",
                      "metadata":  {

                                   },
                      "source":  [
                                     "# Ammattilaisvinkki:\n",
                                     "\n",
                                     "For-silmukan avulla voit suorittaa toiminnon tai toimintosarjan useita kertoja."
                                 ]
                  },
                  {
                      "cell_type":  "code",
                      "execution_count":  null,
                      "id":  "c18994a1",
                      "metadata":  {
                                       "minecraft":  {
                                                         "closeCodeBuilderOnRun":  true,
                                                         "hidden":  false,
                                                         "onCodeCancelledCommand":  "scoreboard players set @s code_status 0",
                                                         "onCodeErrorCommand":  "scoreboard players set @s code_status 0",
                                                         "onCodeStartedCommand":  "scoreboard players set @s code_status 1",
                                                         "onCodeStoppedCommand":  "scoreboard players set @s code_status 0",
                                                         "onCodeSuccessfulCommand":  "scoreboard players set @s code_status 0",
                                                         "overridePython":  "import time\n\ntimeout = 0.100\ncommunicationPos = (0, 64, 0)\n\ntime.sleep(0.250)\n\ndef drop_block(color):\n    if color==\"magenta\":\n        world.set(communicationPos, \"magenta concrete\")\n        time.sleep(timeout)         \n    elif color==\"blue\":\n        world.set(communicationPos, \"light blue concrete\")\n        time.sleep(timeout)\n    elif color==\"yellow\":\n        world.set(communicationPos, \"yellow concrete\")\n        time.sleep(timeout)\n    elif color==\"orange\":\n        world.set(communicationPos, \"lime concrete\")\n        time.sleep(timeout)            \n@user-code",
                                                         "readonly":  true
                                                     }
                                   },
                      "outputs":  [

                                  ],
                      "source":  [
                                     "# KOODIESIMERKKI – ET VOI MUOKATA TÄÄLLÄ\n",
                                     "# SUORITA SE NÄHDÄKSESI, MITÄ TAPAHTUU\n",
                                     "\n",
                                     "# pudota 4 keltaista kuutiota ja\n",
                                     "# 1 sininen kuutio\n",
                                     "\n",
                                     "for i in range(4):\n",
                                     "    drop_block(\"yellow\")\n",
                                     "\n",
                                     "drop_block(\"blue\")"
                                 ]
                  },
                  {
                      "cell_type":  "markdown",
                      "id":  "3d7f25ac",
                      "metadata":  {

                                   },
                      "source":  [
                                     "# Tehtävä:\n",
                                     "\n",
                                     "Katso ympärillesi ja selvitä, kuinka monta kunkin väristä kuutiota tulisi pudottaa putkiin, ja kirjoita koodisi sen mukaan.\n",
                                     "\n",
                                     "Alla oleva koodi on rikki. Osaatko korjata sen? Suorita koodi nähdäksesi, mitä se tekee, ja muokkaa sitä sitten niin, että saat halutun tuloksen."
                                 ]
                  },
                  {
                      "cell_type":  "code",
                      "execution_count":  null,
                      "id":  "b6f4bd0e",
                      "metadata":  {
                                       "minecraft":  {
                                                         "closeCodeBuilderOnRun":  true,
                                                         "hidden":  false,
                                                         "onCodeCancelledCommand":  "scoreboard players set @s code_status 0",
                                                         "onCodeErrorCommand":  "scoreboard players set @s code_status 0",
                                                         "onCodeStartedCommand":  "scoreboard players set @s code_status 1",
                                                         "onCodeStoppedCommand":  "scoreboard players set @s code_status 0",
                                                         "onCodeSuccessfulCommand":  "scoreboard players set @s code_status 0",
                                                         "overridePython":  "import time\n\ntimeout = 0.100\ncommunicationPos = (0, 64, 0)\n\ntime.sleep(0.250)\n\ndef drop_block(color):\n    if color==\"magenta\":\n        world.set(communicationPos, \"magenta concrete\")\n        time.sleep(timeout)         \n    elif color==\"blue\":\n        world.set(communicationPos, \"light blue concrete\")\n        time.sleep(timeout)\n    elif color==\"yellow\":\n        world.set(communicationPos, \"yellow concrete\")\n        time.sleep(timeout)\n    elif color==\"orange\":\n        world.set(communicationPos, \"lime concrete\")\n        time.sleep(timeout)            \n@user-code",
                                                         "readonly":  false
                                                     }
                                   },
                      "outputs":  [

                                  ],
                      "source":  [
                                     "# koodaa tässä\n",
                                     "\n",
                                     "drop_block(\"yellow\")\n",
                                     "drop_block(\"blue\")\n",
                                     "drop_block(\"orange\")\n",
                                     "drop_block(\"magenta\")\n",
                                     "drop_block(\"magenta\")"
                                 ]
                  }
              ],
    "metadata":  {
                     "celltoolbar":  "Edit Metadata",
                     "kernelspec":  {
                                        "display_name":  "Python 3.10.8 64-bit (microsoft store)",
                                        "language":  "python",
                                        "name":  "python3"
                                    },
                     "language_info":  {
                                           "codemirror_mode":  {
                                                                   "name":  "ipython",
                                                                   "version":  3
                                                               },
                                           "file_extension":  ".py",
                                           "mimetype":  "text/x-python",
                                           "name":  "python",
                                           "nbconvert_exporter":  "python",
                                           "pygments_lexer":  "ipython3",
                                           "version":  "3.10.8"
                                       },
                     "minecraft":  {
                                       "description":  "HOC 2022",
                                       "page_id":  "1.1",
                                       "page_name":  "HOC 2022",
                                       "style":  "minecraft.css"
                                   },
                     "vscode":  {
                                    "interpreter":  {
                                                        "hash":  "34242f13a52f302bd973ebb7ec1f6ba9310bbd38aa2ae877991984a75c84a395"
                                                    }
                                }
                 },
    "nbformat":  4,
    "nbformat_minor":  5
}
