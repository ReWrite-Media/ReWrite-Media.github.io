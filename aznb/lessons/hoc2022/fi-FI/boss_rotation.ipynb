﻿{
    "cells":  [
                  {
                      "cell_type":  "markdown",
                      "id":  "5af69546",
                      "metadata":  {

                                   },
                      "source":  [
                                     "# Aktivoi ansa\n",
                                     "\n",
                                     "Nyt on tilaisuutesi vangita aika-agentit! Suuntaa pomoareenan keskelle ja katso alas! Sinun on kohdistettava kaikki kolme rengasta ansan keskustan väreihin aktivoidaksesi sen! Käytä `rotate_ring()`-funktiota kääntääksesi jokaista rengasta joko myötä- tai vastapäivään kohdistaaksesi värit kohdilleen!\n",
                                     "\n",
                                     "`rotate_ring()`-funktio vaatii kaksi parametria. Ensimmäinen määrittelee sen, mitä rengasta haluat kääntää, toinen puolestaan sen, mihin suuntaan haluat kääntää sitä.\n",
                                     "\n",
                                     "Seuraavat renkaat käyvät:\n",
                                     "- `uloin` ![Uloin rengas](img/outer_ring.png \"Uloin rengas\")\n",
                                     "- `keskimmäinen` ![Keskimmäinen rengas](img/middle_ring.png \"Keskimmäinen rengas\")\n",
                                     "- `sisin` ![Sisin rengas](img/inner_ring.png \"Sisin rengas\")\n",
                                     "\n",
                                     "Kelvollisia suuntia ovat:\n",
                                     "- `myötäpäivään` ![Käännä myötäpäivään](img/clockwise_ring.png \"Käännä myötäpäivään\")\n",
                                     "- `vastapäivään` ! [Käännä vastapäivään] (img/counterclockwise_ring.png \"Käännä vastapäivään\")"
                                 ]
                  },
                  {
                      "cell_type":  "code",
                      "execution_count":  null,
                      "id":  "dc90f846",
                      "metadata":  {
                                       "minecraft":  {
                                                         "closeCodeBuilderOnRun":  true,
                                                         "hidden":  false,
                                                         "onCodeCancelledCommand":  "scoreboard players set @s code_status 0",
                                                         "onCodeErrorCommand":  "scoreboard players set @s code_status 0",
                                                         "onCodeStartedCommand":  "scoreboard players set @s code_status 1",
                                                         "onCodeStoppedCommand":  "scoreboard players set @s code_status 0",
                                                         "onCodeSuccessfulCommand":  "scoreboard players set @s code_status 0",
                                                         "overridePython":  "import time\n\ntimeout = 0.100\ncommunicationPos = (0, 64, 0)\n\ntime.sleep(0.250)\n\ndef rotate_ring(position, direction):\n    if position==\"outer\" and direction==\"clockwise\":\n        world.set(communicationPos, \"orange concrete\")\n        time.sleep(timeout)\n    elif position==\"outer\" and direction==\"counterclockwise\":\n        world.set(communicationPos, \"magenta concrete\")\n        time.sleep(timeout)\n    elif position==\"middle\" and direction==\"clockwise\":\n        world.set(communicationPos, \"light blue concrete\")\n        time.sleep(timeout)\n    elif position==\"middle\" and direction==\"counterclockwise\":\n        world.set(communicationPos, \"yellow concrete\")\n        time.sleep(timeout)\n    elif position==\"inner\" and direction==\"clockwise\":\n        world.set(communicationPos, \"lime concrete\")\n        time.sleep(timeout)\n    elif position==\"inner\" and direction==\"counterclockwise\":\n        world.set(communicationPos, \"pink concrete\")\n        time.sleep(timeout)\n@user-code",
                                                         "readonly":  true
                                                     }
                                   },
                      "outputs":  [

                                  ],
                      "source":  [
                                     "# KOODIESIMERKKI – ET VOI MUOKATA TÄÄLLÄ\n",
                                     "# SUORITA SE NÄHDÄKSESI, MITÄ TAPAHTUU\n",
                                     "\n",
                                     "# käännä ulointa rengasta 3 kertaa myötäpäivään\n",
                                     "# ja käännä sitten keskimmäistä rengasta kerran\n",
                                     "# vastapäivään\n",
                                     "\n",
                                     "rotate_ring(\"outer\", \"clockwise\")\n",
                                     "rotate_ring(\"outer\", \"clockwise\")\n",
                                     "rotate_ring(\"outer\", \"clockwise\")\n",
                                     "rotate_ring(\"inner\", \"counterclockwise\")"
                                 ]
                  },
                  {
                      "cell_type":  "markdown",
                      "id":  "39bd345c",
                      "metadata":  {

                                   },
                      "source":  [
                                     "# Ammattilaisvinkki:\n",
                                     "\n",
                                     "For-silmukan avulla voit suorittaa toiminnon tai toimintosarjan useita kertoja."
                                 ]
                  },
                  {
                      "cell_type":  "code",
                      "execution_count":  null,
                      "id":  "bb313844",
                      "metadata":  {
                                       "minecraft":  {
                                                         "closeCodeBuilderOnRun":  true,
                                                         "hidden":  false,
                                                         "onCodeCancelledCommand":  "scoreboard players set @s code_status 0",
                                                         "onCodeErrorCommand":  "scoreboard players set @s code_status 0",
                                                         "onCodeStartedCommand":  "scoreboard players set @s code_status 1",
                                                         "onCodeStoppedCommand":  "scoreboard players set @s code_status 0",
                                                         "onCodeSuccessfulCommand":  "scoreboard players set @s code_status 0",
                                                         "overridePython":  "import time\n\ntimeout = 0.100\ncommunicationPos = (0, 64, 0)\n\ntime.sleep(0.250)\n\ndef rotate_ring(position, direction):\n    if position==\"outer\" and direction==\"clockwise\":\n        world.set(communicationPos, \"orange concrete\")\n        time.sleep(timeout)\n    elif position==\"outer\" and direction==\"counterclockwise\":\n        world.set(communicationPos, \"magenta concrete\")\n        time.sleep(timeout)\n    elif position==\"middle\" and direction==\"clockwise\":\n        world.set(communicationPos, \"light blue concrete\")\n        time.sleep(timeout)\n    elif position==\"middle\" and direction==\"counterclockwise\":\n        world.set(communicationPos, \"yellow concrete\")\n        time.sleep(timeout)\n    elif position==\"inner\" and direction==\"clockwise\":\n        world.set(communicationPos, \"lime concrete\")\n        time.sleep(timeout)\n    elif position==\"inner\" and direction==\"counterclockwise\":\n        world.set(communicationPos, \"pink concrete\")\n        time.sleep(timeout)\n@user-code",
                                                         "readonly":  true
                                                     }
                                   },
                      "outputs":  [

                                  ],
                      "source":  [
                                     "# KOODIESIMERKKI – ET VOI MUOKATA TÄÄLLÄ\n",
                                     "# SUORITA SE NÄHDÄKSESI, MITÄ TAPAHTUU\n",
                                     "\n",
                                     "# käännä ulointa rengasta 3 kertaa myötäpäivään\n",
                                     "# ja käännä sitten keskimmäistä rengasta kerran\n",
                                     "# vastapäivään\n",
                                     "\n",
                                     "for i in range(3):\n",
                                     "    rotate_ring(\"outer\", \"clockwise\")\n",
                                     "\n",
                                     "rotate_ring(\"inner\", \"counterclockwise\")"
                                 ]
                  },
                  {
                      "cell_type":  "markdown",
                      "id":  "0cbb6950",
                      "metadata":  {

                                   },
                      "source":  [
                                     "# Tehtävä:\n",
                                     "\n",
                                     "Käännä renkaita! Kohdista kaikki kolme rengasta ansan keskustan väreihin aktivoidaksesi sen!\n",
                                     "\n",
                                     "Alla oleva koodi on rikki. Osaatko korjata sen? Suorita koodi nähdäksesi, mitä se tekee, ja muokkaa sitä sitten niin, että saat halutun tuloksen."
                                 ]
                  },
                  {
                      "cell_type":  "code",
                      "execution_count":  null,
                      "id":  "b6f4bd0e",
                      "metadata":  {
                                       "minecraft":  {
                                                         "closeCodeBuilderOnRun":  true,
                                                         "hidden":  false,
                                                         "onCodeCancelledCommand":  "scoreboard players set @s code_status 0",
                                                         "onCodeErrorCommand":  "scoreboard players set @s code_status 0",
                                                         "onCodeStartedCommand":  "scoreboard players set @s code_status 1",
                                                         "onCodeStoppedCommand":  "scoreboard players set @s code_status 0",
                                                         "onCodeSuccessfulCommand":  "scoreboard players set @s code_status 0",
                                                         "overridePython":  "import time\n\ntimeout = 0.100\ncommunicationPos = (0, 64, 0)\n\ntime.sleep(0.250)\n\ndef rotate_ring(position, direction):\n    if position==\"outer\" and direction==\"clockwise\":\n        world.set(communicationPos, \"orange concrete\")\n        time.sleep(timeout)\n    elif position==\"outer\" and direction==\"counterclockwise\":\n        world.set(communicationPos, \"magenta concrete\")\n        time.sleep(timeout)\n    elif position==\"middle\" and direction==\"clockwise\":\n        world.set(communicationPos, \"light blue concrete\")\n        time.sleep(timeout)\n    elif position==\"middle\" and direction==\"counterclockwise\":\n        world.set(communicationPos, \"yellow concrete\")\n        time.sleep(timeout)\n    elif position==\"inner\" and direction==\"clockwise\":\n        world.set(communicationPos, \"lime concrete\")\n        time.sleep(timeout)\n    elif position==\"inner\" and direction==\"counterclockwise\":\n        world.set(communicationPos, \"pink concrete\")\n        time.sleep(timeout)\n@user-code",
                                                         "readonly":  false
                                                     }
                                   },
                      "outputs":  [

                                  ],
                      "source":  [
                                     "# koodaa tässä\n",
                                     "\n",
                                     "rotate_ring(\"outer\", \"clockwise\")\n",
                                     "rotate_ring(\"middle\", \"counterclockwise\")\n",
                                     "rotate_ring(\"middle\", \"counterclockwise\")\n",
                                     "rotate_ring(\"middle\", \"counterclockwise\")"
                                 ]
                  }
              ],
    "metadata":  {
                     "celltoolbar":  "Edit Metadata",
                     "kernelspec":  {
                                        "display_name":  "Python 3 (ipykernel)",
                                        "language":  "python",
                                        "name":  "python3"
                                    },
                     "language_info":  {
                                           "codemirror_mode":  {
                                                                   "name":  "ipython",
                                                                   "version":  3
                                                               },
                                           "file_extension":  ".py",
                                           "mimetype":  "text/x-python",
                                           "name":  "python",
                                           "nbconvert_exporter":  "python",
                                           "pygments_lexer":  "ipython3",
                                           "version":  "3.10.7"
                                       },
                     "minecraft":  {
                                       "description":  "HOC 2022",
                                       "page_id":  "1.1",
                                       "page_name":  "HOC 2022",
                                       "style":  "minecraft.css"
                                   }
                 },
    "nbformat":  4,
    "nbformat_minor":  5
}
