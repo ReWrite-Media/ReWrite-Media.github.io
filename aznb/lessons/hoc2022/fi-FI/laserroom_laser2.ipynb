﻿{
    "cells":  [
                  {
                      "cell_type":  "markdown",
                      "id":  "2b35a6c4",
                      "metadata":  {

                                   },
                      "source":  [
                                     "# Laserpulma\n",
                                     "\n",
                                     "Kiinteät kuutiot pysäyttävät laserin! Siirrä keltaisten ja vihreiden kuutioiden rivejä, jotta laser kulkee lasikuutioiden läpi ja kytkee valon päälle toisella puolella. Käytä `shift_row()`-funktiota siirtääksesi rivejä joko vasemmalle tai oikealle, jotta laser pääsee kulkemaan lasikuutioiden läpi.\n",
                                     "\n",
                                     "`shift_row()`-funktio vaatii kaksi parametria (merkkijonoa). Ensimmäinen parametri määrittää sen, mitä väririviä haluat siirtää, ja toinen suunnan, johon rivin tulee siirtyä.\n",
                                     "\n",
                                     "Seuraavat värit kelpaavat:\n",
                                     "- `green` (vihreä) ![Vihreä](img/green_right.png \"Vihreä\")\n",
                                     "- `yellow` (keltainen) ![Keltainen](img/yellow_right.png \"Keltainen\")\n",
                                     "\n",
                                     "Kelvollisia suuntia ovat:\n",
                                     "- `oikea` ![Oikea](img/gray_right.png \"Oikea\")\n",
                                     "- `vasen` ![Vasen](img/gray_left.png \"Vasen\")"
                                 ]
                  },
                  {
                      "cell_type":  "code",
                      "execution_count":  null,
                      "id":  "a2c9701a",
                      "metadata":  {
                                       "minecraft":  {
                                                         "closeCodeBuilderOnRun":  true,
                                                         "hidden":  false,
                                                         "onCodeCancelledCommand":  "scoreboard players set @s code_status 0",
                                                         "onCodeErrorCommand":  "scoreboard players set @s code_status 0",
                                                         "onCodeStartedCommand":  "scoreboard players set @s code_status 1",
                                                         "onCodeStoppedCommand":  "scoreboard players set @s code_status 0",
                                                         "onCodeSuccessfulCommand":  "scoreboard players set @s code_status 0",
                                                         "overridePython":  "import time\n\ntimeout = 0.100\ncommunicationPos = (0, 64, 0)\n\ntime.sleep(0.250)\n\ndef shift_row(color, direction):\n    if color==\"green\" and direction == \"left\":\n        world.set(communicationPos, \"orange concrete\")\n        time.sleep(timeout)   \n    elif color==\"green\" and direction == \"right\":\n        world.set(communicationPos, \"magenta concrete\")\n        time.sleep(timeout)                 \n    elif color==\"yellow\" and direction == \"left\":\n        world.set(communicationPos, \"light blue concrete\")\n        time.sleep(timeout)   \n    elif color==\"yellow\" and direction == \"right\":\n        world.set(communicationPos, \"yellow concrete\")\n        time.sleep(timeout)                 \n@user-code",
                                                         "readonly":  true
                                                     }
                                   },
                      "outputs":  [

                                  ],
                      "source":  [
                                     "# KOODIESIMERKKI – ET VOI MUOKATA TÄÄLLÄ\n",
                                     "# SUORITA SE NÄHDÄKSESI, MITÄ TAPAHTUU\n",
                                     "\n",
                                     "# siirrä vihreää riviä oikealle\n",
                                     "# 3 kertaa ja keltaista riviä\n",
                                     "# vasemmalle kerran.\n",
                                     "\n",
                                     "shift_row(\"green\", \"right\")\n",
                                     "shift_row(\"green\", \"right\")\n",
                                     "shift_row(\"green\", \"right\")\n",
                                     "shift_row(\"yellow\", \"left\")"
                                 ]
                  },
                  {
                      "cell_type":  "markdown",
                      "id":  "fc92bbf7",
                      "metadata":  {

                                   },
                      "source":  [
                                     "# Ammattilaisvinkki:\n",
                                     "\n",
                                     "For-silmukan avulla voit suorittaa toiminnon tai toimintosarjan useita kertoja."
                                 ]
                  },
                  {
                      "cell_type":  "code",
                      "execution_count":  null,
                      "id":  "a4f846a3",
                      "metadata":  {
                                       "minecraft":  {
                                                         "closeCodeBuilderOnRun":  true,
                                                         "hidden":  false,
                                                         "onCodeCancelledCommand":  "scoreboard players set @s code_status 0",
                                                         "onCodeErrorCommand":  "scoreboard players set @s code_status 0",
                                                         "onCodeStartedCommand":  "scoreboard players set @s code_status 1",
                                                         "onCodeStoppedCommand":  "scoreboard players set @s code_status 0",
                                                         "onCodeSuccessfulCommand":  "scoreboard players set @s code_status 0",
                                                         "overridePython":  "import time\n\ntimeout = 0.100\ncommunicationPos = (0, 64, 0)\n\ntime.sleep(0.250)\n\ndef shift_row(color, direction):\n    if color==\"green\" and direction == \"left\":\n        world.set(communicationPos, \"orange concrete\")\n        time.sleep(timeout)   \n    elif color==\"green\" and direction == \"right\":\n        world.set(communicationPos, \"magenta concrete\")\n        time.sleep(timeout)                 \n    elif color==\"yellow\" and direction == \"left\":\n        world.set(communicationPos, \"light blue concrete\")\n        time.sleep(timeout)   \n    elif color==\"yellow\" and direction == \"right\":\n        world.set(communicationPos, \"yellow concrete\")\n        time.sleep(timeout)                 \n@user-code",
                                                         "readonly":  true
                                                     }
                                   },
                      "outputs":  [

                                  ],
                      "source":  [
                                     "# KOODIESIMERKKI – ET VOI MUOKATA TÄÄLLÄ\n",
                                     "# SUORITA SE NÄHDÄKSESI, MITÄ TAPAHTUU\n",
                                     "\n",
                                     "# siirrä vihreää riviä oikealle\n",
                                     "# 3 kertaa ja keltaista riviä\n",
                                     "# vasemmalle kerran.\n",
                                     "\n",
                                     "for i in range(3):\n",
                                     "    shift_row(\"green\", \"right\")\n",
                                     "    \n",
                                     "shift_row(\"yellow\", \"left\")"
                                 ]
                  },
                  {
                      "cell_type":  "markdown",
                      "id":  "0147b7a7",
                      "metadata":  {

                                   },
                      "source":  [
                                     "# Tehtävä:\n",
                                     "\n",
                                     "Siirrä keltaisia ja vihreitä rivejä joko vasemmalle tai oikealle, jotta laserit kulkevat lasikuutioiden läpi ja sytyttävät valot.\n",
                                     "\n",
                                     "Alla oleva koodi on rikki. Osaatko korjata sen? Suorita koodi nähdäksesi, mitä se tekee, ja muokkaa sitä sitten niin, että saat halutun tuloksen."
                                 ]
                  },
                  {
                      "cell_type":  "code",
                      "execution_count":  null,
                      "id":  "b6f4bd0e",
                      "metadata":  {
                                       "minecraft":  {
                                                         "closeCodeBuilderOnRun":  true,
                                                         "hidden":  false,
                                                         "onCodeCancelledCommand":  "scoreboard players set @s code_status 0",
                                                         "onCodeErrorCommand":  "scoreboard players set @s code_status 0",
                                                         "onCodeStartedCommand":  "scoreboard players set @s code_status 1",
                                                         "onCodeStoppedCommand":  "scoreboard players set @s code_status 0",
                                                         "onCodeSuccessfulCommand":  "scoreboard players set @s code_status 0",
                                                         "overridePython":  "import time\n\ntimeout = 0.100\ncommunicationPos = (0, 64, 0)\n\ntime.sleep(0.250)\n\ndef shift_row(color, direction):\n    if color==\"green\" and direction == \"left\":\n        world.set(communicationPos, \"orange concrete\")\n        time.sleep(timeout)   \n    elif color==\"green\" and direction == \"right\":\n        world.set(communicationPos, \"magenta concrete\")\n        time.sleep(timeout)                 \n    elif color==\"yellow\" and direction == \"left\":\n        world.set(communicationPos, \"light blue concrete\")\n        time.sleep(timeout)   \n    elif color==\"yellow\" and direction == \"right\":\n        world.set(communicationPos, \"yellow concrete\")\n        time.sleep(timeout)                 \n@user-code",
                                                         "readonly":  false
                                                     }
                                   },
                      "outputs":  [

                                  ],
                      "source":  [
                                     "# koodaa tässä\n",
                                     "\n",
                                     "shift_row(\"green\", \"left\")\n",
                                     "shift_row(\"green\", \"left\")\n",
                                     "shift_row(\"yellow\", \"right\")"
                                 ]
                  }
              ],
    "metadata":  {
                     "celltoolbar":  "Edit Metadata",
                     "kernelspec":  {
                                        "display_name":  "Python 3 (ipykernel)",
                                        "language":  "python",
                                        "name":  "python3"
                                    },
                     "language_info":  {
                                           "codemirror_mode":  {
                                                                   "name":  "ipython",
                                                                   "version":  3
                                                               },
                                           "file_extension":  ".py",
                                           "mimetype":  "text/x-python",
                                           "name":  "python",
                                           "nbconvert_exporter":  "python",
                                           "pygments_lexer":  "ipython3",
                                           "version":  "3.10.7"
                                       },
                     "minecraft":  {
                                       "description":  "HOC 2022",
                                       "page_id":  "1.1",
                                       "page_name":  "HOC 2022",
                                       "style":  "minecraft.css"
                                   }
                 },
    "nbformat":  4,
    "nbformat_minor":  5
}
