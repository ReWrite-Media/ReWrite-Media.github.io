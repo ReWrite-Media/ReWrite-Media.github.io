﻿{
    "cells":  [
                  {
                      "cell_type":  "markdown",
                      "id":  "5af69546",
                      "metadata":  {

                                   },
                      "source":  [
                                     "# Aktiver fælden\n",
                                     "\n",
                                     "Nu har du chancen for at fange tidsagenterne! Gå til midten af bossarenaen, og kig ned! Du skal få alle 3 ringe til at passe med fældens midterfarver for at aktivere den! Brug funktionen `rotate_ring()` til at rotere hver ring enten med eller mod uret for at få alle farverne til at passe sammen!\n",
                                     "\n",
                                     "Funktionen `rotate_ring()` tager to parametre. Den første definerer, hvilken ring du vil dreje, og den anden definerer, hvilken retning den skal drejes i.\n",
                                     "\n",
                                     "Gyldige ringe er:\n",
                                     "- `ydre` ![Yderring](img/outer_ring.png \"Yderring\")\n",
                                     "- `middle` (middle) ![Midterring](img/middle_ring.png \"Midterring\")\n",
                                     "- `indre` ![Inderring](img/inner_ring.png \"Inderring\")\n",
                                     "\n",
                                     "Gyldige retninger er:\n",
                                     "- `i urets retning` ![Rotation i urets retning](img/clockwise_ring.png \"Ydre ring\")\n",
                                     "- `mod uret` ![Rotation mod uret](img/counterclockwise_ring.png \"Rotation mod uret\")"
                                 ]
                  },
                  {
                      "cell_type":  "code",
                      "execution_count":  null,
                      "id":  "dc90f846",
                      "metadata":  {
                                       "minecraft":  {
                                                         "closeCodeBuilderOnRun":  true,
                                                         "hidden":  false,
                                                         "onCodeCancelledCommand":  "scoreboard players set @s code_status 0",
                                                         "onCodeErrorCommand":  "scoreboard players set @s code_status 0",
                                                         "onCodeStartedCommand":  "scoreboard players set @s code_status 1",
                                                         "onCodeStoppedCommand":  "scoreboard players set @s code_status 0",
                                                         "onCodeSuccessfulCommand":  "scoreboard players set @s code_status 0",
                                                         "overridePython":  "import time\n\ntimeout = 0.100\ncommunicationPos = (0, 64, 0)\n\ntime.sleep(0.250)\n\ndef rotate_ring(position, direction):\n    if position==\"outer\" and direction==\"clockwise\":\n        world.set(communicationPos, \"orange concrete\")\n        time.sleep(timeout)\n    elif position==\"outer\" and direction==\"counterclockwise\":\n        world.set(communicationPos, \"magenta concrete\")\n        time.sleep(timeout)\n    elif position==\"middle\" and direction==\"clockwise\":\n        world.set(communicationPos, \"light blue concrete\")\n        time.sleep(timeout)\n    elif position==\"middle\" and direction==\"counterclockwise\":\n        world.set(communicationPos, \"yellow concrete\")\n        time.sleep(timeout)\n    elif position==\"inner\" and direction==\"clockwise\":\n        world.set(communicationPos, \"lime concrete\")\n        time.sleep(timeout)\n    elif position==\"inner\" and direction==\"counterclockwise\":\n        world.set(communicationPos, \"pink concrete\")\n        time.sleep(timeout)\n@user-code",
                                                         "readonly":  true
                                                     }
                                   },
                      "outputs":  [

                                  ],
                      "source":  [
                                     "# KODEEKSEMPEL - DU KAN IKKE REDIGERE HER\n",
                                     "# KØR DEN FOR AT SE, HVAD DER SKER\n",
                                     "\n",
                                     "# drej den ydre ring 3 gange i urets retning\n",
                                     "# og drej derefter den midterste ring 1 gang\n",
                                     "# mod uret\n",
                                     "\n",
                                     "rotate_ring(\"outer\", \"clockwise\")\n",
                                     "rotate_ring(\"outer\", \"clockwise\")\n",
                                     "rotate_ring(\"outer\", \"clockwise\")\n",
                                     "rotate_ring(\"inner\", \"counterclockwise\")"
                                 ]
                  },
                  {
                      "cell_type":  "markdown",
                      "id":  "39bd345c",
                      "metadata":  {

                                   },
                      "source":  [
                                     "# Tip:\n",
                                     "\n",
                                     "Brug en `for` løkke til at udføre samme handling(er) flere gange."
                                 ]
                  },
                  {
                      "cell_type":  "code",
                      "execution_count":  null,
                      "id":  "bb313844",
                      "metadata":  {
                                       "minecraft":  {
                                                         "closeCodeBuilderOnRun":  true,
                                                         "hidden":  false,
                                                         "onCodeCancelledCommand":  "scoreboard players set @s code_status 0",
                                                         "onCodeErrorCommand":  "scoreboard players set @s code_status 0",
                                                         "onCodeStartedCommand":  "scoreboard players set @s code_status 1",
                                                         "onCodeStoppedCommand":  "scoreboard players set @s code_status 0",
                                                         "onCodeSuccessfulCommand":  "scoreboard players set @s code_status 0",
                                                         "overridePython":  "import time\n\ntimeout = 0.100\ncommunicationPos = (0, 64, 0)\n\ntime.sleep(0.250)\n\ndef rotate_ring(position, direction):\n    if position==\"outer\" and direction==\"clockwise\":\n        world.set(communicationPos, \"orange concrete\")\n        time.sleep(timeout)\n    elif position==\"outer\" and direction==\"counterclockwise\":\n        world.set(communicationPos, \"magenta concrete\")\n        time.sleep(timeout)\n    elif position==\"middle\" and direction==\"clockwise\":\n        world.set(communicationPos, \"light blue concrete\")\n        time.sleep(timeout)\n    elif position==\"middle\" and direction==\"counterclockwise\":\n        world.set(communicationPos, \"yellow concrete\")\n        time.sleep(timeout)\n    elif position==\"inner\" and direction==\"clockwise\":\n        world.set(communicationPos, \"lime concrete\")\n        time.sleep(timeout)\n    elif position==\"inner\" and direction==\"counterclockwise\":\n        world.set(communicationPos, \"pink concrete\")\n        time.sleep(timeout)\n@user-code",
                                                         "readonly":  true
                                                     }
                                   },
                      "outputs":  [

                                  ],
                      "source":  [
                                     "# KODEEKSEMPEL - DU KAN IKKE REDIGERE HER\n",
                                     "# KØR DEN FOR AT SE, HVAD DER SKER\n",
                                     "\n",
                                     "# drej den ydre ring 3 gange i urets retning\n",
                                     "# og drej derefter den midterste ring 1 gang\n",
                                     "# mod uret\n",
                                     "\n",
                                     "for i in range(3):\n",
                                     "    rotate_ring(\"outer\", \"clockwise\")\n",
                                     "\n",
                                     "rotate_ring(\"inner\", \"counterclockwise\")"
                                 ]
                  },
                  {
                      "cell_type":  "markdown",
                      "id":  "0cbb6950",
                      "metadata":  {

                                   },
                      "source":  [
                                     "# Aktivitet:\n",
                                     "\n",
                                     "Drej ringene! Få alle tre ringe til at passe med fældens midterfarver for at aktivere den!\n",
                                     "\n",
                                     "Den medfølgende kode nedenfor er i stykker. Kan du rette den? Kør koden for at se, hvad der sker, og ret derefter fejlene ved at redigere den til den rigtige løsning."
                                 ]
                  },
                  {
                      "cell_type":  "code",
                      "execution_count":  null,
                      "id":  "b6f4bd0e",
                      "metadata":  {
                                       "minecraft":  {
                                                         "closeCodeBuilderOnRun":  true,
                                                         "hidden":  false,
                                                         "onCodeCancelledCommand":  "scoreboard players set @s code_status 0",
                                                         "onCodeErrorCommand":  "scoreboard players set @s code_status 0",
                                                         "onCodeStartedCommand":  "scoreboard players set @s code_status 1",
                                                         "onCodeStoppedCommand":  "scoreboard players set @s code_status 0",
                                                         "onCodeSuccessfulCommand":  "scoreboard players set @s code_status 0",
                                                         "overridePython":  "import time\n\ntimeout = 0.100\ncommunicationPos = (0, 64, 0)\n\ntime.sleep(0.250)\n\ndef rotate_ring(position, direction):\n    if position==\"outer\" and direction==\"clockwise\":\n        world.set(communicationPos, \"orange concrete\")\n        time.sleep(timeout)\n    elif position==\"outer\" and direction==\"counterclockwise\":\n        world.set(communicationPos, \"magenta concrete\")\n        time.sleep(timeout)\n    elif position==\"middle\" and direction==\"clockwise\":\n        world.set(communicationPos, \"light blue concrete\")\n        time.sleep(timeout)\n    elif position==\"middle\" and direction==\"counterclockwise\":\n        world.set(communicationPos, \"yellow concrete\")\n        time.sleep(timeout)\n    elif position==\"inner\" and direction==\"clockwise\":\n        world.set(communicationPos, \"lime concrete\")\n        time.sleep(timeout)\n    elif position==\"inner\" and direction==\"counterclockwise\":\n        world.set(communicationPos, \"pink concrete\")\n        time.sleep(timeout)\n@user-code",
                                                         "readonly":  false
                                                     }
                                   },
                      "outputs":  [

                                  ],
                      "source":  [
                                     "# kod her\n",
                                     "\n",
                                     "rotate_ring(\"outer\", \"clockwise\")\n",
                                     "rotate_ring(\"middle\", \"counterclockwise\")\n",
                                     "rotate_ring(\"middle\", \"counterclockwise\")\n",
                                     "rotate_ring(\"middle\", \"counterclockwise\")"
                                 ]
                  }
              ],
    "metadata":  {
                     "celltoolbar":  "Edit Metadata",
                     "kernelspec":  {
                                        "display_name":  "Python 3 (ipykernel)",
                                        "language":  "python",
                                        "name":  "python3"
                                    },
                     "language_info":  {
                                           "codemirror_mode":  {
                                                                   "name":  "ipython",
                                                                   "version":  3
                                                               },
                                           "file_extension":  ".py",
                                           "mimetype":  "text/x-python",
                                           "name":  "python",
                                           "nbconvert_exporter":  "python",
                                           "pygments_lexer":  "ipython3",
                                           "version":  "3.10.7"
                                       },
                     "minecraft":  {
                                       "description":  "HOC 2022",
                                       "page_id":  "1.1",
                                       "page_name":  "HOC 2022",
                                       "style":  "minecraft.css"
                                   }
                 },
    "nbformat":  4,
    "nbformat_minor":  5
}
