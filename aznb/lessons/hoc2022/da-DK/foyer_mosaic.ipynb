﻿{
    "cells":  [
                  {
                      "cell_type":  "markdown",
                      "id":  "19cb30b6",
                      "metadata":  {

                                   },
                      "source":  [
                                     "# Billedeserie\n",
                                     "\n",
                                     "Det ser ud til, at disse brikker er en del af et ufuldstændigt billede! Prøv at omarrangere dem for at se, hvad det forestiller! Brug funktionen \u0027push_pieces()\u0027 til at udløse stemplerne og flytte brikkerne i den retning.\n",
                                     "\n",
                                     "Funktionen \u0027push_pieces()\u0027 tager en parameter, den retning, du vil skubbe brikkerne.\n",
                                     "\n",
                                     "Gyldige retninger er:\n",
                                     "- `op` ! [Blå op](img/chess_blue_up.png \"Blå op\")\n",
                                     "- `ned` ![Rød ned] (img/chess_red_down.png \"Rød ned\")\n",
                                     "- `venstre` ![Gul venstre](img/chess_yellow_left.png \"Gul venstre\")\n",
                                     "- `højre` ![Grøn højre] (img/chess_green_right.png \"Grøn højre\")"
                                 ]
                  },
                  {
                      "cell_type":  "code",
                      "execution_count":  null,
                      "id":  "45ce451c",
                      "metadata":  {
                                       "minecraft":  {
                                                         "closeCodeBuilderOnRun":  true,
                                                         "hidden":  false,
                                                         "onCodeCancelledCommand":  "scoreboard players set @s code_status 0",
                                                         "onCodeErrorCommand":  "scoreboard players set @s code_status 0",
                                                         "onCodeStartedCommand":  "scoreboard players set @s code_status 1",
                                                         "onCodeStoppedCommand":  "scoreboard players set @s code_status 0",
                                                         "onCodeSuccessfulCommand":  "scoreboard players set @s code_status 0",
                                                         "overridePython":  "import time\n\ntimeout = 0.100\ncommunicationPos = (0, 64, 0)\n\ntime.sleep(0.250)\n\ndef push_pieces(direction):\n    if direction==\"up\":\n        world.set(communicationPos, \"orange concrete\")\n        time.sleep(timeout)    \n    elif direction==\"down\":\n        world.set(communicationPos, \"magenta concrete\")\n        time.sleep(timeout) \n    elif direction==\"left\":\n        world.set(communicationPos, \"light blue concrete\")\n        time.sleep(timeout) \n    elif direction==\"right\":\n        world.set(communicationPos, \"yellow concrete\")\n        time.sleep(timeout) \n@user-code",
                                                         "readonly":  true
                                                     }
                                   },
                      "outputs":  [

                                  ],
                      "source":  [
                                     "# KODEEKSEMPEL - DU KAN IKKE REDIGERE HER\n",
                                     "# KØR DEN FOR AT SE, HVAD DER SKER\n",
                                     "\n",
                                     "# flyt brikkerne i alle\n",
                                     "# 4 retninger\n",
                                     "\n",
                                     "push_pieces(\"left\")\n",
                                     "push_pieces(\"right\")\n",
                                     "push_pieces(\"down\")\n",
                                     "push_pieces(\"up\")"
                                 ]
                  },
                  {
                      "cell_type":  "markdown",
                      "id":  "aafe5d6a",
                      "metadata":  {

                                   },
                      "source":  [
                                     "# Aktivitet:\n",
                                     "\n",
                                     "Skub blokkene for at omarrangere dem, så alle de forskellige brikker udgør et komplet billede!\n",
                                     "\n",
                                     "Den medfølgende kode nedenfor er brudt. Kan du reparere den? Kør koden for at se, hvad der sker, og fejlfind den derefter ved at redigere den til den rigtige løsning."
                                 ]
                  },
                  {
                      "cell_type":  "code",
                      "execution_count":  null,
                      "id":  "b6f4bd0e",
                      "metadata":  {
                                       "minecraft":  {
                                                         "closeCodeBuilderOnRun":  true,
                                                         "hidden":  false,
                                                         "onCodeCancelledCommand":  "scoreboard players set @s code_status 0",
                                                         "onCodeErrorCommand":  "scoreboard players set @s code_status 0",
                                                         "onCodeStartedCommand":  "scoreboard players set @s code_status 1",
                                                         "onCodeStoppedCommand":  "scoreboard players set @s code_status 0",
                                                         "onCodeSuccessfulCommand":  "scoreboard players set @s code_status 0",
                                                         "overridePython":  "import time\n\ntimeout = 0.100\ncommunicationPos = (0, 64, 0)\n\ntime.sleep(0.250)\n\ndef push_pieces(direction):\n    if direction==\"up\":\n        world.set(communicationPos, \"orange concrete\")\n        time.sleep(timeout)    \n    elif direction==\"down\":\n        world.set(communicationPos, \"magenta concrete\")\n        time.sleep(timeout) \n    elif direction==\"left\":\n        world.set(communicationPos, \"light blue concrete\")\n        time.sleep(timeout) \n    elif direction==\"right\":\n        world.set(communicationPos, \"yellow concrete\")\n        time.sleep(timeout) \n@user-code",
                                                         "readonly":  false
                                                     }
                                   },
                      "outputs":  [

                                  ],
                      "source":  [
                                     "# kod her\n",
                                     "\n",
                                     "push_pieces(\"left\")\n",
                                     "push_pieces(\"right\")\n",
                                     "push_pieces(\"down\")\n"
                                 ]
                  }
              ],
    "metadata":  {
                     "celltoolbar":  "Edit Metadata",
                     "kernelspec":  {
                                        "display_name":  "Python 3 (ipykernel)",
                                        "language":  "python",
                                        "name":  "python3"
                                    },
                     "language_info":  {
                                           "codemirror_mode":  {
                                                                   "name":  "ipython",
                                                                   "version":  3
                                                               },
                                           "file_extension":  ".py",
                                           "mimetype":  "text/x-python",
                                           "name":  "python",
                                           "nbconvert_exporter":  "python",
                                           "pygments_lexer":  "ipython3",
                                           "version":  "3.10.7"
                                       },
                     "minecraft":  {
                                       "description":  "HOC 2022",
                                       "page_id":  "1.1",
                                       "page_name":  "HOC 2022",
                                       "style":  "minecraft.css"
                                   }
                 },
    "nbformat":  4,
    "nbformat_minor":  5
}
