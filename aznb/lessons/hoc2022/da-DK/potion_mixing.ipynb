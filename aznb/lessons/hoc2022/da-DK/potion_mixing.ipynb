﻿{
    "cells":  [
                  {
                      "cell_type":  "markdown",
                      "id":  "07d89aae",
                      "metadata":  {

                                   },
                      "source":  [
                                     "# Blander eliksir\n",
                                     "\n",
                                     "Det ser ud til, at du kan lave noget her! Måske er der en eliksiropskrift et sted her i rummet, der kan hjælpe? Find en opskrift, og brug derefter funktionen `summon_item()` for at tilkalde ingredienserne i den rigtige rækkefølge og færdiggøre eliksiren!\n",
                                     "\n",
                                     "Funktionen `summon_item()` tager en parameter for at definere, hvilket genstand den skal tilkalde.\n",
                                     "\n",
                                     "Gyldige genstande er:\n",
                                     "- `netherwart` (Nether-vorte) ![Nether-vorte](img/netherwart.png \"Nether-vorte\")\n",
                                     "- `fermented spider eye` (Fermenteret edderkoppeøje) ![Fermenteret edderkoppeøje](img/fermented_spider_eye.png \"Fermenteret edderkoppeøje\")\n",
                                     "- `phantom membrane` (Fantommembran) ![Fantommembran](img/phantom_membrane.png \"Fantommembran\")\n"
                                 ]
                  },
                  {
                      "cell_type":  "code",
                      "execution_count":  null,
                      "id":  "c319c10e",
                      "metadata":  {
                                       "minecraft":  {
                                                         "closeCodeBuilderOnRun":  true,
                                                         "hidden":  false,
                                                         "onCodeCancelledCommand":  "scoreboard players set @s code_status 0",
                                                         "onCodeErrorCommand":  "scoreboard players set @s code_status 0",
                                                         "onCodeStartedCommand":  "scoreboard players set @s code_status 1",
                                                         "onCodeStoppedCommand":  "scoreboard players set @s code_status 0",
                                                         "onCodeSuccessfulCommand":  "scoreboard players set @s code_status 0",
                                                         "overridePython":  "import time\n\ntimeout = 0.100\ncommunicationPos = (0, 64, 0)\n\ntime.sleep(0.250)\n\ndef summon_item(item):\n    if item==\"netherwart\":\n        world.set(communicationPos, \"orange concrete\")\n        time.sleep(timeout)         \n    elif item==\"phantom membrane\":\n        world.set(communicationPos, \"magenta concrete\")\n        time.sleep(timeout)\n    elif item==\"fermented spider eye\":\n        world.set(communicationPos, \"light blue concrete\")\n        time.sleep(timeout)\n@user-code",
                                                         "readonly":  true
                                                     }
                                   },
                      "outputs":  [

                                  ],
                      "source":  [
                                     "# KODEEKSEMPEL - DU KAN IKKE REDIGERE HER\n",
                                     "# KØR DEN FOR AT SE, HVAD DER SKER\n",
                                     "\n",
                                     "# tilkald en nether-vorte\n",
                                     "\n",
                                     "summon_item(\"netherwart\")"
                                 ]
                  },
                  {
                      "cell_type":  "markdown",
                      "id":  "6a387d30",
                      "metadata":  {

                                   },
                      "source":  [
                                     "# Aktivitet:\n",
                                     "\n",
                                     "Gennemsøg rummet for at finde eliksiropskriften, og tilkald derefter ingredienserne i den rigtige rækkefølge, så de kommer ned i gryderne, og du kan lave en eliksir!\n",
                                     "\n",
                                     "Den medfølgende kode nedenfor er i stykker. Kan du rette den? Kør koden for at se, hvad der sker, og ret derefter fejlene ved at redigere den til den rigtige løsning."
                                 ]
                  },
                  {
                      "cell_type":  "code",
                      "execution_count":  null,
                      "id":  "b6f4bd0e",
                      "metadata":  {
                                       "minecraft":  {
                                                         "closeCodeBuilderOnRun":  true,
                                                         "hidden":  false,
                                                         "onCodeCancelledCommand":  "scoreboard players set @s code_status 0",
                                                         "onCodeErrorCommand":  "scoreboard players set @s code_status 0",
                                                         "onCodeStartedCommand":  "scoreboard players set @s code_status 1",
                                                         "onCodeStoppedCommand":  "scoreboard players set @s code_status 0",
                                                         "onCodeSuccessfulCommand":  "scoreboard players set @s code_status 0",
                                                         "overridePython":  "import time\n\ntimeout = 0.100\ncommunicationPos = (0, 64, 0)\n\ntime.sleep(0.250)\n\ndef summon_item(item):\n    if item==\"netherwart\":\n        world.set(communicationPos, \"orange concrete\")\n        time.sleep(timeout)         \n    elif item==\"phantom membrane\":\n        world.set(communicationPos, \"magenta concrete\")\n        time.sleep(timeout)\n    elif item==\"fermented spider eye\":\n        world.set(communicationPos, \"light blue concrete\")\n        time.sleep(timeout)\n@user-code",
                                                         "readonly":  false
                                                     }
                                   },
                      "outputs":  [

                                  ],
                      "source":  [
                                     "# kod her\n",
                                     "\n",
                                     "summon_item(\"netherwart\")\n",
                                     "summon_item(\"phantom membrane\")"
                                 ]
                  }
              ],
    "metadata":  {
                     "celltoolbar":  "Edit Metadata",
                     "kernelspec":  {
                                        "display_name":  "Python 3 (ipykernel)",
                                        "language":  "python",
                                        "name":  "python3"
                                    },
                     "language_info":  {
                                           "codemirror_mode":  {
                                                                   "name":  "ipython",
                                                                   "version":  3
                                                               },
                                           "file_extension":  ".py",
                                           "mimetype":  "text/x-python",
                                           "name":  "python",
                                           "nbconvert_exporter":  "python",
                                           "pygments_lexer":  "ipython3",
                                           "version":  "3.10.7"
                                       },
                     "minecraft":  {
                                       "description":  "HOC 2022",
                                       "page_id":  "1.1",
                                       "page_name":  "HOC 2022",
                                       "style":  "minecraft.css"
                                   }
                 },
    "nbformat":  4,
    "nbformat_minor":  5
}
