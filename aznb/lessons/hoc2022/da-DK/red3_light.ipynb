﻿{
    "cells":  [
                  {
                      "cell_type":  "markdown",
                      "id":  "15c6efa9",
                      "metadata":  {

                                   },
                      "source":  [
                                     "#\naf lyskraft",
                                     "\n",
                                     "Du skal åbne døren ved at tænde alle lysene! Hvert lys, du tænder, åbner døren lidt mere. Brug funktionen \u0027move_cursor()\u0027 til at placere markøren over et lys, og brug derefter funktionen \u0027turn_light_on()\u0027 til at tænde alle lysene for at åbne døren!\n",
                                     "\n",
                                     "Funktionen \u0027move_cursor()\u0027 tager en parameter, der definerer dens retning. Denne parameter er farven på pilen, der repræsenterer den retning, du vil bevæge dig.\n",
                                     "\n",
                                     "Gyldige retninger er:\n",
                                     "- \u0027orange\u0027 (flytter markøren op)! [Orange pil](img/orange_arrow.png \"Orange pil\")\n",
                                     "- \u0027magenta\u0027 (flytter markøren ned)! [Magenta pil](img/magenta_arrow.png \"Magenta Pil\")\n",
                                     "- \u0027blå\u0027 (flytter markøren til venstre)! [Blå pil] (img/blue_arrow.png \"Blå pil\")\n",
                                     "- \u0027gul\u0027 (flytter markøren til højre) ! [Gul pil] (img/yellow_arrow.png \"Gul pil\")"
                                 ]
                  },
                  {
                      "cell_type":  "code",
                      "execution_count":  null,
                      "id":  "677f2ea6",
                      "metadata":  {
                                       "minecraft":  {
                                                         "closeCodeBuilderOnRun":  true,
                                                         "hidden":  false,
                                                         "onCodeCancelledCommand":  "scoreboard players set @s code_status 0",
                                                         "onCodeErrorCommand":  "scoreboard players set @s code_status 0",
                                                         "onCodeStartedCommand":  "scoreboard players set @s code_status 1",
                                                         "onCodeStoppedCommand":  "scoreboard players set @s code_status 0",
                                                         "onCodeSuccessfulCommand":  "scoreboard players set @s code_status 0",
                                                         "overridePython":  "import time\n\ntimeout = 0.100\ncommunicationPos = (0, 64, 0)\n\ntime.sleep(0.250)\n\ndef move_cursor(color):\n    if color == \"orange\":\n        world.set(communicationPos, \"orange concrete\")\n        time.sleep(timeout)\n    elif color == \"magenta\":\n        world.set(communicationPos, \"magenta concrete\")\n        time.sleep(timeout)\n    elif color == \"blue\":\n        world.set(communicationPos, \"light blue concrete\")\n        time.sleep(timeout)\n    elif color == \"yellow\":\n        world.set(communicationPos, \"yellow concrete\")\n        time.sleep(timeout)\n\ndef turn_light_on():\n    world.set(communicationPos, \"lime concrete\")\n    time.sleep(timeout)  \n@user-code",
                                                         "readonly":  true
                                                     }
                                   },
                      "outputs":  [

                                  ],
                      "source":  [
                                     "# KODEEKSEMPEL - DU KAN IKKE REDIGERE HER\n",
                                     "# KØR DEN FOR AT SE, HVAD DER SKER\n",
                                     "\n",
                                     "# flyt markøren til højre, og drej derefter\n",
                                     "# på lyset. gentag dette 3 gange\n",
                                     "\n",
                                     "move_cursor(\"yellow\")\n",
                                     "turn_light_on()\n",
                                     "move_cursor(\"yellow\")\n",
                                     "turn_light_on()\n",
                                     "move_cursor(\"yellow\")\n",
                                     "turn_light_on()"
                                 ]
                  },
                  {
                      "cell_type":  "markdown",
                      "id":  "6997e5fa",
                      "metadata":  {

                                   },
                      "source":  [
                                     "# Tip:\n",
                                     "\n",
                                     "Brug en `for` løkke til at udføre samme handling(er) flere gange."
                                 ]
                  },
                  {
                      "cell_type":  "code",
                      "execution_count":  null,
                      "id":  "84c42687",
                      "metadata":  {
                                       "minecraft":  {
                                                         "closeCodeBuilderOnRun":  true,
                                                         "hidden":  false,
                                                         "onCodeCancelledCommand":  "scoreboard players set @s code_status 0",
                                                         "onCodeErrorCommand":  "scoreboard players set @s code_status 0",
                                                         "onCodeStartedCommand":  "scoreboard players set @s code_status 1",
                                                         "onCodeStoppedCommand":  "scoreboard players set @s code_status 0",
                                                         "onCodeSuccessfulCommand":  "scoreboard players set @s code_status 0",
                                                         "overridePython":  "import time\n\ntimeout = 0.100\ncommunicationPos = (0, 64, 0)\n\ntime.sleep(0.250)\n\ndef move_cursor(color):\n    if color == \"orange\":\n        world.set(communicationPos, \"orange concrete\")\n        time.sleep(timeout)\n    elif color == \"magenta\":\n        world.set(communicationPos, \"magenta concrete\")\n        time.sleep(timeout)\n    elif color == \"blue\":\n        world.set(communicationPos, \"light blue concrete\")\n        time.sleep(timeout)\n    elif color == \"yellow\":\n        world.set(communicationPos, \"yellow concrete\")\n        time.sleep(timeout)\n\ndef turn_light_on():\n    world.set(communicationPos, \"lime concrete\")\n    time.sleep(timeout)  \n@user-code",
                                                         "readonly":  true
                                                     }
                                   },
                      "outputs":  [

                                  ],
                      "source":  [
                                     "# KODEEKSEMPEL - DU KAN IKKE REDIGERE HER\n",
                                     "# KØR DEN FOR AT SE, HVAD DER SKER\n",
                                     "\n",
                                     "# flyt markøren til højre, og drej derefter\n",
                                     "# på lyset. gentag dette 3 gange\n",
                                     "\n",
                                     "for i in range(3):\n",
                                     "    move_cursor(\"yellow\")\n",
                                     "    turn_light_on()"
                                 ]
                  },
                  {
                      "cell_type":  "markdown",
                      "id":  "f3cc0e99",
                      "metadata":  {

                                   },
                      "source":  [
                                     "# Aktivitet:\n",
                                     "\n",
                                     "Tænd alle lysene, så døren åbnes helt, og du kan komme igennem.\n",
                                     "\n",
                                     "Den medfølgende kode nedenfor er brudt. Kan du reparere den? Kør koden for at se, hvad der sker, og fejlfind den derefter ved at redigere den til den rigtige løsning."
                                 ]
                  },
                  {
                      "cell_type":  "code",
                      "execution_count":  null,
                      "id":  "b6f4bd0e",
                      "metadata":  {
                                       "minecraft":  {
                                                         "closeCodeBuilderOnRun":  true,
                                                         "hidden":  false,
                                                         "onCodeCancelledCommand":  "scoreboard players set @s code_status 0",
                                                         "onCodeErrorCommand":  "scoreboard players set @s code_status 0",
                                                         "onCodeStartedCommand":  "scoreboard players set @s code_status 1",
                                                         "onCodeStoppedCommand":  "scoreboard players set @s code_status 0",
                                                         "onCodeSuccessfulCommand":  "scoreboard players set @s code_status 0",
                                                         "overridePython":  "import time\n\ntimeout = 0.100\ncommunicationPos = (0, 64, 0)\n\ntime.sleep(0.250)\n\ndef move_cursor(color):\n    if color == \"orange\":\n        world.set(communicationPos, \"orange concrete\")\n        time.sleep(timeout)\n    elif color == \"magenta\":\n        world.set(communicationPos, \"magenta concrete\")\n        time.sleep(timeout)\n    elif color == \"blue\":\n        world.set(communicationPos, \"light blue concrete\")\n        time.sleep(timeout)\n    elif color == \"yellow\":\n        world.set(communicationPos, \"yellow concrete\")\n        time.sleep(timeout)\n\ndef turn_light_on():\n    world.set(communicationPos, \"lime concrete\")\n    time.sleep(timeout)  \n@user-code",
                                                         "readonly":  false
                                                     }
                                   },
                      "outputs":  [

                                  ],
                      "source":  [
                                     "# kod her\n",
                                     "\n",
                                     "move_cursor(\"yellow\")\n",
                                     "move_cursor(\"yellow\")\n",
                                     "turn_light_on()\n",
                                     "move_cursor(\"yellow\")\n",
                                     "move_cursor(\"yellow\")\n",
                                     "turn_light_on()"
                                 ]
                  }
              ],
    "metadata":  {
                     "celltoolbar":  "Edit Metadata",
                     "kernelspec":  {
                                        "display_name":  "Python 3 (ipykernel)",
                                        "language":  "python",
                                        "name":  "python3"
                                    },
                     "language_info":  {
                                           "codemirror_mode":  {
                                                                   "name":  "ipython",
                                                                   "version":  3
                                                               },
                                           "file_extension":  ".py",
                                           "mimetype":  "text/x-python",
                                           "name":  "python",
                                           "nbconvert_exporter":  "python",
                                           "pygments_lexer":  "ipython3",
                                           "version":  "3.10.7"
                                       },
                     "minecraft":  {
                                       "description":  "HOC 2022",
                                       "page_id":  "1.1",
                                       "page_name":  "HOC 2022",
                                       "style":  "minecraft.css"
                                   }
                 },
    "nbformat":  4,
    "nbformat_minor":  5
}
