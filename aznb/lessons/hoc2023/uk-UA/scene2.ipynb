﻿{
    "cells":  [
                  {
                      "cell_type":  "markdown",
                      "id":  "c6a6a83c",
                      "metadata":  {

                                   },
                      "source":  [
                                     "# Газонокосарка\n",
                                     "\n",
                                     "О ні! Розумна газонокосарка не працює належним чином. Вона пошкоджує розбризкувачі. Перегляньте код і внесіть зміни, щоб газонокосарка спочатку перевірила, чи поряд є розбризкувач, перш ніж косити траву. \n",
                                     "\n",
                                     "Функція \u0027cut_grass()\u0027 змушує газонокосарку зрізати траву в блоці під нею. Якщо змінити її на \u0027check_sprinkler_cut_grass()\u0027, газонокосарка перевірить, чи є поряд розбризкувач, перш ніж починати скошувати траву. "
                                 ]
                  },
                  {
                      "cell_type":  "code",
                      "execution_count":  null,
                      "id":  "665dcd86",
                      "metadata":  {
                                       "minecraft":  {
                                                         "closeCodeBuilderOnRun":  true,
                                                         "hidden":  false,
                                                         "onCodeCancelledCommand":  "scoreboard players set @s code_status 0",
                                                         "onCodeErrorCommand":  "scoreboard players set @s code_status 0",
                                                         "onCodeStartedCommand":  "scoreboard players set @s code_status 1",
                                                         "onCodeStoppedCommand":  "scoreboard players set @s code_status 0",
                                                         "onCodeSuccessfulCommand":  "scoreboard players set @s code_status 0",
                                                         "overridePython":  "import time\n\ntimeout = 0.100\n\ndef set_scoreboard(score):\n    _exec(f\"scoreboard players set .output global {score}\")\n\ndef move_lawnmower_next_row():\n    time.sleep(timeout)  \n    set_scoreboard(3)\n    time.sleep(timeout)  \n    set_scoreboard(4)\n\ndef move_lawnmower_forward():\n    time.sleep(timeout)  \n    set_scoreboard(3)\n\ndef cut_grass():\n    time.sleep(timeout)  \n    set_scoreboard(1)\n\ndef check_sprinkler_cut_grass():\n    time.sleep(timeout)  \n    set_scoreboard(2)\n\n@user-code",
                                                         "readonly":  true
                                                     }
                                   },
                      "outputs":  [

                                  ],
                      "source":  [
                                     "# ПРИКЛАД КОДУ — ТУТ НЕ МОЖНА РЕДАГУВАТИ\n",
                                     "# ЗАПУСТІТЬ ЙОГО, ЩОБ ПОБАЧИТИ, ЩО ВІДБУВАТИМЕТЬСЯ\n",
                                     "\n",
                                     "for i in range(8):\n",
                                     "    move_lawnmower_forward()\n",
                                     "    cut_grass()\n",
                                     "    move_lawnmower_forward()\n",
                                     "    cut_grass()\n",
                                     "    move_lawnmower_forward()\n",
                                     "    cut_grass()\n",
                                     "    move_lawnmower_next_row()"
                                 ]
                  },
                  {
                      "cell_type":  "markdown",
                      "id":  "6bb4b1f6",
                      "metadata":  {

                                   },
                      "source":  [
                                     "# Професійна порада:\n",
                                     "\n",
                                     "Ви можете розташовувати цикли `for` разом, щоб додатково все спростити. Наведений нижче код дає той самий результат, що й у прикладі вище."
                                 ]
                  },
                  {
                      "cell_type":  "code",
                      "execution_count":  null,
                      "id":  "88e95eef",
                      "metadata":  {
                                       "minecraft":  {
                                                         "closeCodeBuilderOnRun":  true,
                                                         "hidden":  false,
                                                         "onCodeCancelledCommand":  "scoreboard players set @s code_status 0",
                                                         "onCodeErrorCommand":  "scoreboard players set @s code_status 0",
                                                         "onCodeStartedCommand":  "scoreboard players set @s code_status 1",
                                                         "onCodeStoppedCommand":  "scoreboard players set @s code_status 0",
                                                         "onCodeSuccessfulCommand":  "scoreboard players set @s code_status 0",
                                                         "overridePython":  "import time\n\ntimeout = 0.100\n\ndef set_scoreboard(score):\n    _exec(f\"scoreboard players set .output global {score}\")\n\ndef move_lawnmower_next_row():\n    time.sleep(timeout)  \n    set_scoreboard(3)\n    time.sleep(timeout)  \n    set_scoreboard(4)\n\ndef move_lawnmower_forward():\n    time.sleep(timeout)  \n    set_scoreboard(3)\n\ndef cut_grass():\n    time.sleep(timeout)  \n    set_scoreboard(1)\n\ndef check_sprinkler_cut_grass():\n    time.sleep(timeout)  \n    set_scoreboard(2)\n\n@user-code",
                                                         "readonly":  true
                                                     }
                                   },
                      "outputs":  [

                                  ],
                      "source":  [
                                     "# ПРИКЛАД КОДУ — ТУТ НЕ МОЖНА РЕДАГУВАТИ\n",
                                     "# ЗАПУСТІТЬ ЙОГО, ЩОБ ПОБАЧИТИ, ЩО ВІДБУВАТИМЕТЬСЯ\n",
                                     "\n",
                                     "for i in range(8):\n",
                                     "    for i in range(3):\n",
                                     "        move_lawnmower_forward()\n",
                                     "        cut_grass()\n",
                                     "    move_lawnmower_next_row()"
                                 ]
                  },
                  {
                      "cell_type":  "markdown",
                      "id":  "05009481",
                      "metadata":  {

                                   },
                      "source":  [
                                     "# Задача:\n",
                                     "\n",
                                     "Оновіть код, щоб переконатися, що газонокосарка перевіряє наявність розбризкувачів, перш ніж косити блок."
                                 ]
                  },
                  {
                      "cell_type":  "code",
                      "execution_count":  null,
                      "id":  "4bb06929",
                      "metadata":  {
                                       "minecraft":  {
                                                         "closeCodeBuilderOnRun":  true,
                                                         "default_code":  "# code here\n\nfor i in range(8):\n    for i in range(3):\n        move_lawnmower_forward()\n        cut_grass()\n    move_lawnmower_next_row()\n",
                                                         "hidden":  false,
                                                         "onCodeCancelledCommand":  "scoreboard players set @s code_status 0",
                                                         "onCodeErrorCommand":  "scoreboard players set @s code_status 0",
                                                         "onCodeStartedCommand":  "scoreboard players set @s code_status 1",
                                                         "onCodeStoppedCommand":  "scoreboard players set @s code_status 0",
                                                         "onCodeSuccessfulCommand":  "scoreboard players set @s code_status 0",
                                                         "overridePython":  "import time\n\ntimeout = 0.100\n\ndef set_scoreboard(score):\n    _exec(f\"scoreboard players set .output global {score}\")\n\ndef move_lawnmower_next_row():\n    time.sleep(timeout)  \n    set_scoreboard(3)\n    time.sleep(timeout)  \n    set_scoreboard(4)\n\ndef move_lawnmower_forward():\n    time.sleep(timeout)  \n    set_scoreboard(3)\n\ndef cut_grass():\n    time.sleep(timeout)  \n    set_scoreboard(1)\n\ndef check_sprinkler_cut_grass():\n    time.sleep(timeout)  \n    set_scoreboard(2)\n\n@user-code",
                                                         "readonly":  false
                                                     }
                                   },
                      "outputs":  [

                                  ],
                      "source":  [
                                     "# тут код\n",
                                     "\n",
                                     "for i in range(8):\n",
                                     "    for i in range(3):\n",
                                     "        move_lawnmower_forward()\n",
                                     "        cut_grass()\n",
                                     "    move_lawnmower_next_row()"
                                 ]
                  }
              ],
    "metadata":  {
                     "celltoolbar":  "Edit Metadata",
                     "kernelspec":  {
                                        "display_name":  "Python 3 (ipykernel)",
                                        "language":  "python",
                                        "name":  "python3"
                                    },
                     "language_info":  {
                                           "codemirror_mode":  {
                                                                   "name":  "ipython",
                                                                   "version":  3
                                                               },
                                           "file_extension":  ".py",
                                           "mimetype":  "text/x-python",
                                           "name":  "python",
                                           "nbconvert_exporter":  "python",
                                           "pygments_lexer":  "ipython3",
                                           "version":  "3.10.11"
                                       },
                     "minecraft":  {
                                       "description":  "Година програмування 2023",
                                       "page_id":  "1.1",
                                       "page_name":  "Година програмування 2023",
                                       "style":  "minecraft.css"
                                   }
                 },
    "nbformat":  4,
    "nbformat_minor":  5
}
