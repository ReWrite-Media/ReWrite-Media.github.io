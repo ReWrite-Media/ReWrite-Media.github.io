﻿{
    "cells":  [
                  {
                      "cell_type":  "markdown",
                      "id":  "c6a6a83c",
                      "metadata":  {

                                   },
                      "source":  [
                                     "# Agenttrening\n",
                                     "\n",
                                     "Tidsagentene har nå mestret alle de viktigste prinsippene! Det siste trinnet er å plassere dem riktig, slik at de kan lære hoved-KI-en alt de har lært!\n",
                                     "\n",
                                     "De fire funksjonene du skal bruke til å flytte tidsagentene, er:\n",
                                     "– «match_blue_agent()»\n",
                                     "![Blue Agent](img/blue_agent.png \\\"Blue Agent\\\")\n",
                                     "– «match_green_agent()»\n",
                                     "![Green Agent](img/green_agent.png \\\"Green Agent\\\")\n",
                                     "– «match_yellow_agent()»\n",
                                     "![Yellow Agent](img/yellow_agent.png \\\"Yellow Agent\\\")\n",
                                     "– «match_red_agent()»\n",
                                     "![Red Agent](img/red_agent.png \\\"Red Agent\\\")\n",
                                     "\n",
                                     "Hver av funksjonene krever én enkelt parameter som representerer destinasjonen deres.\n",
                                     "\n",
                                     "Gyldige destinasjoner er: \n",
                                     "– «1» ![Fairness_Inclusiveness](img/fairness_inclusiveness.png \\\"Fairness and Inclusiveness\\\")\n",
                                     "– «2» ![Reliability_Safety](img/reliability_safety.png \\\"Reliability and Safety\\\")\n",
                                     "– «3» ![Transparence_Accountability](img/transparency_accountabilty.png \\\"Transparency and Accountability\\\")\n",
                                     "– «4» ![Privacy_Security](img/privacy_security.png \\\"Privacy and Security\\\")"
                                 ]
                  },
                  {
                      "cell_type":  "markdown",
                      "id":  "05009481",
                      "metadata":  {

                                   },
                      "source":  [
                                     "# Aktivitet:\n",
                                     "\n",
                                     "Match agentene med treningsstedene som inneholder det prinsippet de representerer."
                                 ]
                  },
                  {
                      "cell_type":  "code",
                      "execution_count":  null,
                      "id":  "4bb06929",
                      "metadata":  {
                                       "minecraft":  {
                                                         "closeCodeBuilderOnRun":  true,
                                                         "default_code":  "# code here\n\nmatch_blue_agent(1)\nmatch_green_agent(2)\nmatch_yellow_agent(3)\nmatch_red_agent(4)\n\n\n",
                                                         "hidden":  false,
                                                         "onCodeCancelledCommand":  "scoreboard players set @s code_status 0",
                                                         "onCodeErrorCommand":  "scoreboard players set @s code_status 0",
                                                         "onCodeStartedCommand":  "scoreboard players set @s code_status 1",
                                                         "onCodeStoppedCommand":  "scoreboard players set @s code_status 0",
                                                         "onCodeSuccessfulCommand":  "scoreboard players set @s code_status 0",
                                                         "overridePython":  "import time\n\ntimeout = 0.100\nvalid_positions=[1,2,3,4]\n\ndef set_scoreboard(score):\n    _exec(f\"scoreboard players set .output global {score}\")\n\ndef match_red_agent(position):\n    if position in valid_positions:\n        if position == 1:\n            time.sleep(timeout)\n            set_scoreboard(11)\n        elif position == 2:\n            time.sleep(timeout)\n            set_scoreboard(12)     \n        elif position == 3:\n            time.sleep(timeout)\n            set_scoreboard(13)     \n        elif position == 4:\n            time.sleep(timeout)\n            set_scoreboard(14)   \n    else:\n        player.say(f\"§cERROR: `{position}` is not a valid position\")\n\ndef match_yellow_agent(position):\n    if position in valid_positions:\n        if position == 1:\n            time.sleep(timeout)\n            set_scoreboard(22)\n        elif position == 2:\n            time.sleep(timeout)\n            set_scoreboard(21)     \n        elif position == 3:\n            time.sleep(timeout)\n            set_scoreboard(23)     \n        elif position == 4:\n            time.sleep(timeout)\n            set_scoreboard(24)   \n    else:\n        player.say(f\"§cERROR: `{position}` is not a valid position\")\n\ndef match_blue_agent(position):\n    if position in valid_positions:\n        if position == 1:\n            time.sleep(timeout)\n            set_scoreboard(33)\n        elif position == 2:\n            time.sleep(timeout)\n            set_scoreboard(32)     \n        elif position == 3:\n            time.sleep(timeout)\n            set_scoreboard(31)     \n        elif position == 4:\n            time.sleep(timeout)\n            set_scoreboard(34)   \n    else:\n        player.say(f\"§cERROR: `{position}` is not a valid position\")\n\ndef match_green_agent(position):\n    if position in valid_positions:\n        if position == 1:\n            time.sleep(timeout)\n            set_scoreboard(44)\n        elif position == 2:\n            time.sleep(timeout)\n            set_scoreboard(42)     \n        elif position == 3:\n            time.sleep(timeout)\n            set_scoreboard(43)     \n        elif position == 4:\n            time.sleep(timeout)\n            set_scoreboard(41)   \n    else:\n        player.say(f\"§cERROR: `{position}` is not a valid position\")\n\n\n@user-code",
                                                         "readonly":  false
                                                     }
                                   },
                      "outputs":  [

                                  ],
                      "source":  [
                                     "# kode her\n",
                                     "\n",
                                     "match_blue_agent(1)\n",
                                     "match_green_agent(2)\n",
                                     "match_yellow_agent(3)\n",
                                     "match_red_agent(4)\n",
                                     "\n"
                                 ]
                  }
              ],
    "metadata":  {
                     "celltoolbar":  "Edit Metadata",
                     "kernelspec":  {
                                        "display_name":  "Python 3 (ipykernel)",
                                        "language":  "python",
                                        "name":  "python3"
                                    },
                     "language_info":  {
                                           "codemirror_mode":  {
                                                                   "name":  "ipython",
                                                                   "version":  3
                                                               },
                                           "file_extension":  ".py",
                                           "mimetype":  "text/x-python",
                                           "name":  "python",
                                           "nbconvert_exporter":  "python",
                                           "pygments_lexer":  "ipython3",
                                           "version":  "3.10.11"
                                       },
                     "minecraft":  {
                                       "description":  "Kodetimen 2023",
                                       "page_id":  "1.1",
                                       "page_name":  "Kodetimen 2023",
                                       "style":  "minecraft.css"
                                   }
                 },
    "nbformat":  4,
    "nbformat_minor":  5
}
