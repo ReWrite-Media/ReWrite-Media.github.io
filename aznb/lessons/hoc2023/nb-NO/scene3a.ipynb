﻿{
    "cells":  [
                  {
                      "cell_type":  "markdown",
                      "id":  "c6a6a83c",
                      "metadata":  {

                                   },
                      "source":  [
                                     "# Fugletrøbbel\n",
                                     "\n",
                                     "Vi forstår ikke koden fordi noen deler av den er uklar og skjult. Men før vi kan løse denne oppgaven, må vi finne ut hva de skjulte ordene betyr. La oss følge fuglene i koden for å se om vi kan avdekke hva denne koden handler om.\n",
                                     "\n",
                                     "Det er ikke nødvendig å endre denne koden.\n",
                                     "\n",
                                     "## Nye funksjoner:\n",
                                     "\n",
                                     "Vi kan ikke finne ut hva «fly_to_0110101011()»-funksjonen gjør, før vi kan dekode alle de tilslørte ordene.\n",
                                     "\n",
                                     "Vi kan ikke finne ut hva «a_1001010_101101()»-funksjonen gjør, før vi kan dekode alle de tilslørte ordene."
                                 ]
                  },
                  {
                      "cell_type":  "code",
                      "execution_count":  null,
                      "id":  "665dcd86",
                      "metadata":  {
                                       "minecraft":  {
                                                         "closeCodeBuilderOnRun":  true,
                                                         "hidden":  false,
                                                         "onCodeCancelledCommand":  "scoreboard players set @s code_status 0",
                                                         "onCodeErrorCommand":  "scoreboard players set @s code_status 0",
                                                         "onCodeStartedCommand":  "scoreboard players set @s code_status 1",
                                                         "onCodeStoppedCommand":  "scoreboard players set @s code_status 0",
                                                         "onCodeSuccessfulCommand":  "scoreboard players set @s code_status 0",
                                                         "overridePython":  "import time\n\ntimeout = 0.100\nbattery = 0\na_101101 = True\ncharging = False\n\ndef set_scoreboard(score):\n    _exec(f\"scoreboard players set .output global {score}\")\n\n\ndef search_for_101101():\n    return True\n\ndef pickup_101101():\n    set_scoreboard(1)\n\ndef move_101101():\n    set_scoreboard(2)\n\ndef drop_101101():\n    set_scoreboard(3)\n\ndef find_utility_box():\n    set_scoreboard(4)\n\ndef start_charging():\n    set_scoreboard(5)\n\ndef stop_charging():\n    set_scoreboard(6)\n\ndef continue_flight_loop():\n    set_scoreboard(7)\n\ndef fly_to_0110101011():\n    set_scoreboard(8)\n\ndef a_1001010_101101():\n    set_scoreboard(9)\n",
                                                         "readonly":  true
                                                     }
                                   },
                      "outputs":  [

                                  ],
                      "source":  [
                                     "while search_for_101101():\n",
                                     "    if a_101101 == True:\n",
                                     "        pickup_101101()\n",
                                     "        move_101101()\n",
                                     "    if battery \u003c 20:\n",
                                     "        find_utility_box()\n",
                                     "        start_charging()\n",
                                     "        while charging:\n",
                                     "            if battery \u003e 80:\n",
                                     "                stop_charging()\n",
                                     "    continue_flight_loop()"
                                 ]
                  }
              ],
    "metadata":  {
                     "celltoolbar":  "Edit Metadata",
                     "kernelspec":  {
                                        "display_name":  "Python 3 (ipykernel)",
                                        "language":  "python",
                                        "name":  "python3"
                                    },
                     "language_info":  {
                                           "codemirror_mode":  {
                                                                   "name":  "ipython",
                                                                   "version":  3
                                                               },
                                           "file_extension":  ".py",
                                           "mimetype":  "text/x-python",
                                           "name":  "python",
                                           "nbconvert_exporter":  "python",
                                           "pygments_lexer":  "ipython3",
                                           "version":  "3.10.11"
                                       },
                     "minecraft":  {
                                       "description":  "Kodetimen 2023",
                                       "page_id":  "1.1",
                                       "page_name":  "Kodetimen 2023",
                                       "style":  "minecraft.css"
                                   }
                 },
    "nbformat":  4,
    "nbformat_minor":  5
}
