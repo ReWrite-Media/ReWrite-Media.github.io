﻿{
    "cells":  [
                  {
                      "cell_type":  "markdown",
                      "id":  "c6a6a83c",
                      "metadata":  {

                                   },
                      "source":  [
                                     "# Fågeltrubbel\n",
                                     "\n",
                                     "Goda nyheter! Nu har vi löst de dolda orden och upptäckt att det finns två nya funktioner i koden som kan komma till användning. Innan vi använder dem måste vi ange containerns exakta plats eller koordinater. \n",
                                     "\n",
                                     "Du behöver inte ändra koden än, så stäng kodfönstret och hitta containern. \n",
                                     "\n",
                                     "## Nya funktioner:\n",
                                     "\n",
                                     "`fly_to_dumpster()` Den här funktionen får fåglarna att ta det skräp de bär på till en container. Innan vi använder den måste vi ladda upp koordinaterna genom att skanna en container.\n",
                                     "\n",
                                     "`release_trash()` Den här funktionen ser till att skräpet slängs på rätt ställe istället för att slängas överallt."
                                 ]
                  },
                  {
                      "cell_type":  "code",
                      "execution_count":  null,
                      "id":  "665dcd86",
                      "metadata":  {
                                       "minecraft":  {
                                                         "closeCodeBuilderOnRun":  true,
                                                         "hidden":  false,
                                                         "onCodeCancelledCommand":  "scoreboard players set @s code_status 0",
                                                         "onCodeErrorCommand":  "scoreboard players set @s code_status 0",
                                                         "onCodeStartedCommand":  "scoreboard players set @s code_status 1",
                                                         "onCodeStoppedCommand":  "scoreboard players set @s code_status 0",
                                                         "onCodeSuccessfulCommand":  "scoreboard players set @s code_status 0",
                                                         "overridePython":  "import time\n\ntimeout = 0.100\nbattery = 0\ntrash = True\ncharging = False\n\ndef set_scoreboard(score):\n    _exec(f\"scoreboard players set .output global {score}\")\n\n\ndef search_for_trash():\n    return True\n\ndef pickup_trash():\n    set_scoreboard(1)\n\ndef move_trash():\n    set_scoreboard(2)\n\ndef drop_trash():\n    set_scoreboard(3)\n\ndef find_utility_box():\n    set_scoreboard(4)\n\ndef start_charging():\n    set_scoreboard(5)\n\ndef stop_charging():\n    set_scoreboard(6)\n\ndef continue_flight_loop():\n    set_scoreboard(7)\n\ndef fly_to_dumpster():\n    set_scoreboard(8)\n\ndef release_trash():\n    set_scoreboard(9)\n",
                                                         "readonly":  true
                                                     }
                                   },
                      "outputs":  [

                                  ],
                      "source":  [
                                     "while search_for_trash():\n",
                                     "    if trash == True:\n",
                                     "        pickup_trash()\n",
                                     "        move_trash()\n",
                                     "    if battery \u003c 20:\n",
                                     "        find_utility_box()\n",
                                     "        start_charging()\n",
                                     "        while charging:\n",
                                     "            if battery \u003e 80:\n",
                                     "                stop_charging()\n",
                                     "    continue_flight_loop()"
                                 ]
                  }
              ],
    "metadata":  {
                     "celltoolbar":  "Edit Metadata",
                     "kernelspec":  {
                                        "display_name":  "Python 3 (ipykernel)",
                                        "language":  "python",
                                        "name":  "python3"
                                    },
                     "language_info":  {
                                           "codemirror_mode":  {
                                                                   "name":  "ipython",
                                                                   "version":  3
                                                               },
                                           "file_extension":  ".py",
                                           "mimetype":  "text/x-python",
                                           "name":  "python",
                                           "nbconvert_exporter":  "python",
                                           "pygments_lexer":  "ipython3",
                                           "version":  "3.10.11"
                                       },
                     "minecraft":  {
                                       "description":  "HOC 2023",
                                       "page_id":  "1.1",
                                       "page_name":  "HOC 2023",
                                       "style":  "minecraft.css"
                                   }
                 },
    "nbformat":  4,
    "nbformat_minor":  5
}
