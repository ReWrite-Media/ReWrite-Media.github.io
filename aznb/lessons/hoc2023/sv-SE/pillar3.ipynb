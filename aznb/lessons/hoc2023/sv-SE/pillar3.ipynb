﻿{
    "cells":  [
                  {
                      "cell_type":  "markdown",
                      "id":  "c6a6a83c",
                      "metadata":  {

                                   },
                      "source":  [
                                     "#Grön pelare\n",
                                     "\n",
                                     "Använd koden för att korsa tomrummet och nå den gröna pelaren. Du har tillgång till två funktioner: `agent_move()` och `agent_place()`\n",
                                     "\n",
                                     "Funktionen `agent_move()` tar en sträng som parameter. Den avgör vilken riktning agenten rör sig i.\n",
                                     "\n",
                                     "Giltiga riktningar är: \n",
                                     "- `forward` (framåt)\n",
                                     "- `back` (bakåt)\n",
                                     "- `up` (uppåt)\n",
                                     "- `down` (nedåt)\n",
                                     "\n",
                                     "Funktionen `agent_place()` tar en sträng som parameter. Den avgör vilken riktning agenten rör sig i.\n",
                                     "\n",
                                     "Här är de giltiga riktningarna: \n",
                                     "- `up` (uppåt)\n",
                                     "- `down`"
                                 ]
                  },
                  {
                      "cell_type":  "code",
                      "execution_count":  null,
                      "id":  "665dcd86",
                      "metadata":  {
                                       "minecraft":  {
                                                         "closeCodeBuilderOnRun":  true,
                                                         "hidden":  false,
                                                         "onCodeCancelledCommand":  "scoreboard players set @s code_status 0",
                                                         "onCodeErrorCommand":  "scoreboard players set @s code_status 0",
                                                         "onCodeStartedCommand":  "scoreboard players set @s code_status 1",
                                                         "onCodeStoppedCommand":  "scoreboard players set @s code_status 0",
                                                         "onCodeSuccessfulCommand":  "scoreboard players set @s code_status 0",
                                                         "overridePython":  "import time\n\ntimeout = 0.100\nvalid_move_directions=[\"forward\",\"back\",\"up\",\"down\"]\nvalid_place_directions=[\"up\",\"down\"]\n\ndef set_scoreboard(score):\n    _exec(f\"scoreboard players set .output global {score}\")\n\ndef agent_move(direction):\n    if direction.lower() in valid_move_directions:\n        time.sleep(timeout)            \n        agent.move(direction)\n    else:\n        player.say(f\"§cERROR: `{direction}` is not a valid direction\")\n    \ndef agent_place(direction):\n    if direction.lower() in valid_place_directions:\n        time.sleep(timeout)\n        agent.give(\"purple wool\", 1, 1)\n        agent.place(direction)\n    else:\n        player.say(f\"§cERROR: `{direction}` is not a valid direction\")\n@user-code",
                                                         "readonly":  true
                                                     }
                                   },
                      "outputs":  [

                                  ],
                      "source":  [
                                     "# KODEXEMPEL – DU KAN INTE REDIGERA HÄR\n",
                                     "# KÖR DEN FÖR ATT SE VAD SOM HÄNDER\n",
                                     "\n",
                                     "agent_move(\"forward\")\n",
                                     "agent_place(\"down\")\n",
                                     "agent_move(\"forward\")\n",
                                     "agent_place(\"down\")\n",
                                     "agent_move(\"forward\")\n",
                                     "agent_place(\"down\")"
                                 ]
                  },
                  {
                      "cell_type":  "markdown",
                      "id":  "5371a5c5",
                      "metadata":  {

                                   },
                      "source":  [
                                     "# Tips från proffsen:\n",
                                     "\n",
                                     "Använd en ”for”-slinga till att göra en eller flera åtgärder upprepade gånger."
                                 ]
                  },
                  {
                      "cell_type":  "code",
                      "execution_count":  null,
                      "id":  "17f333da",
                      "metadata":  {
                                       "minecraft":  {
                                                         "closeCodeBuilderOnRun":  true,
                                                         "hidden":  false,
                                                         "onCodeCancelledCommand":  "scoreboard players set @s code_status 0",
                                                         "onCodeErrorCommand":  "scoreboard players set @s code_status 0",
                                                         "onCodeStartedCommand":  "scoreboard players set @s code_status 1",
                                                         "onCodeStoppedCommand":  "scoreboard players set @s code_status 0",
                                                         "onCodeSuccessfulCommand":  "scoreboard players set @s code_status 0",
                                                         "overridePython":  "import time\n\ntimeout = 0.100\nvalid_move_directions=[\"forward\",\"back\",\"up\",\"down\"]\nvalid_place_directions=[\"up\",\"down\"]\n\ndef set_scoreboard(score):\n    _exec(f\"scoreboard players set .output global {score}\")\n\ndef agent_move(direction):\n    if direction.lower() in valid_move_directions:\n        time.sleep(timeout)            \n        agent.move(direction)\n    else:\n        player.say(f\"§cERROR: `{direction}` is not a valid direction\")\n    \ndef agent_place(direction):\n    if direction.lower() in valid_place_directions:\n        time.sleep(timeout)\n        agent.give(\"purple wool\", 1, 1)\n        agent.place(direction)\n    else:\n        player.say(f\"§cERROR: `{direction}` is not a valid direction\")\n@user-code",
                                                         "readonly":  true
                                                     }
                                   },
                      "outputs":  [

                                  ],
                      "source":  [
                                     "# KODEXEMPEL – DU KAN INTE REDIGERA HÄR\n",
                                     "# KÖR DEN FÖR ATT SE VAD SOM HÄNDER\n",
                                     "    \n",
                                     "for i in range(3):\n",
                                     "    agent_move(\"forward\")\n",
                                     "    agent_place(\"down\")"
                                 ]
                  },
                  {
                      "cell_type":  "markdown",
                      "id":  "05009481",
                      "metadata":  {

                                   },
                      "source":  [
                                     "# Aktivitet:\n",
                                     "\n",
                                     "Bygg en bro till toppen av den gröna pelaren. Pelarens topp är 4 block högre än den röda och 8 block bort."
                                 ]
                  },
                  {
                      "cell_type":  "code",
                      "execution_count":  null,
                      "id":  "4bb06929",
                      "metadata":  {
                                       "minecraft":  {
                                                         "closeCodeBuilderOnRun":  true,
                                                         "default_code":  "# code here\n\nfor i in range(3):\n    agent_move(\"forward\")\n    agent_place(\"down\")\n",
                                                         "hidden":  false,
                                                         "onCodeCancelledCommand":  "scoreboard players set @s code_status 0",
                                                         "onCodeErrorCommand":  "scoreboard players set @s code_status 0",
                                                         "onCodeStartedCommand":  "scoreboard players set @s code_status 1",
                                                         "onCodeStoppedCommand":  "scoreboard players set @s code_status 0",
                                                         "onCodeSuccessfulCommand":  "scoreboard players set @s code_status 0",
                                                         "overridePython":  "import time\n\ntimeout = 0.100\nvalid_move_directions=[\"forward\",\"back\",\"up\",\"down\"]\nvalid_place_directions=[\"up\",\"down\"]\n\ndef set_scoreboard(score):\n    _exec(f\"scoreboard players set .output global {score}\")\n\ndef agent_move(direction):\n    if direction.lower() in valid_move_directions:\n        time.sleep(timeout)            \n        agent.move(direction)\n    else:\n        player.say(f\"§cERROR: `{direction}` is not a valid direction\")\n    \ndef agent_place(direction):\n    if direction.lower() in valid_place_directions:\n        time.sleep(timeout)\n        agent.give(\"purple wool\", 1, 1)\n        agent.place(direction)\n    else:\n        player.say(f\"§cERROR: `{direction}` is not a valid direction\")\n@user-code",
                                                         "readonly":  false,
                                                         "resetWorldCommand":  "scoreboard players set .output global 9"
                                                     }
                                   },
                      "outputs":  [

                                  ],
                      "source":  [
                                     "# kod här\n",
                                     "    \n",
                                     "for i in range(3):\n",
                                     "    agent_move(\"forward\")\n",
                                     "    agent_place(\"down\")"
                                 ]
                  }
              ],
    "metadata":  {
                     "celltoolbar":  "Edit Metadata",
                     "kernelspec":  {
                                        "display_name":  "Python 3 (ipykernel)",
                                        "language":  "python",
                                        "name":  "python3"
                                    },
                     "language_info":  {
                                           "codemirror_mode":  {
                                                                   "name":  "ipython",
                                                                   "version":  3
                                                               },
                                           "file_extension":  ".py",
                                           "mimetype":  "text/x-python",
                                           "name":  "python",
                                           "nbconvert_exporter":  "python",
                                           "pygments_lexer":  "ipython3",
                                           "version":  "3.10.11"
                                       },
                     "minecraft":  {
                                       "description":  "HOC 2023",
                                       "page_id":  "1.1",
                                       "page_name":  "HOC 2023",
                                       "style":  "minecraft.css"
                                   }
                 },
    "nbformat":  4,
    "nbformat_minor":  5
}
