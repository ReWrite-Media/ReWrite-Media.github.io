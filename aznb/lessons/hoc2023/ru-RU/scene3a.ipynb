﻿{
    "cells":  [
                  {
                      "cell_type":  "markdown",
                      "id":  "c6a6a83c",
                      "metadata":  {

                                   },
                      "source":  [
                                     "# Неприятности с птицами\n",
                                     "\n",
                                     "Из-за того, что некоторые части кода неясны и скрыты — мы не можем его прочитать. Но прежде чем решать эту головоломку, необходимо выяснить значение скрытых слов. Давайте проследим за птицами в коде, чтобы понять, о чем идет речь.\n",
                                     "\n",
                                     "Изменять этот код не нужно.\n",
                                     "\n",
                                     "## Новые функции:\n",
                                     "\n",
                                     "`fly_to_0110101011() Мы не узнаем, что делает эта функция, пока не расшифруем все непонятные слова.\n",
                                     "\n",
                                     "`a_1001010_101101()` Мы не узнаем, что делает эта функция, пока не расшифруем все непонятные слова."
                                 ]
                  },
                  {
                      "cell_type":  "code",
                      "execution_count":  null,
                      "id":  "665dcd86",
                      "metadata":  {
                                       "minecraft":  {
                                                         "closeCodeBuilderOnRun":  true,
                                                         "hidden":  false,
                                                         "onCodeCancelledCommand":  "scoreboard players set @s code_status 0",
                                                         "onCodeErrorCommand":  "scoreboard players set @s code_status 0",
                                                         "onCodeStartedCommand":  "scoreboard players set @s code_status 1",
                                                         "onCodeStoppedCommand":  "scoreboard players set @s code_status 0",
                                                         "onCodeSuccessfulCommand":  "scoreboard players set @s code_status 0",
                                                         "overridePython":  "import time\n\ntimeout = 0.100\nbattery = 0\na_101101 = True\ncharging = False\n\ndef set_scoreboard(score):\n    _exec(f\"scoreboard players set .output global {score}\")\n\n\ndef search_for_101101():\n    return True\n\ndef pickup_101101():\n    set_scoreboard(1)\n\ndef move_101101():\n    set_scoreboard(2)\n\ndef drop_101101():\n    set_scoreboard(3)\n\ndef find_utility_box():\n    set_scoreboard(4)\n\ndef start_charging():\n    set_scoreboard(5)\n\ndef stop_charging():\n    set_scoreboard(6)\n\ndef continue_flight_loop():\n    set_scoreboard(7)\n\ndef fly_to_0110101011():\n    set_scoreboard(8)\n\ndef a_1001010_101101():\n    set_scoreboard(9)\n",
                                                         "readonly":  true
                                                     }
                                   },
                      "outputs":  [

                                  ],
                      "source":  [
                                     "while search_for_101101():\n",
                                     "    if a_101101 == True:\n",
                                     "        pickup_101101()\n",
                                     "        move_101101()\n",
                                     "    if battery \u003c 20:\n",
                                     "        find_utility_box()\n",
                                     "        start_charging()\n",
                                     "        while charging:\n",
                                     "            if battery \u003e 80:\n",
                                     "                stop_charging()\n",
                                     "    continue_flight_loop()"
                                 ]
                  }
              ],
    "metadata":  {
                     "celltoolbar":  "Edit Metadata",
                     "kernelspec":  {
                                        "display_name":  "Python 3 (ipykernel)",
                                        "language":  "python",
                                        "name":  "python3"
                                    },
                     "language_info":  {
                                           "codemirror_mode":  {
                                                                   "name":  "ipython",
                                                                   "version":  3
                                                               },
                                           "file_extension":  ".py",
                                           "mimetype":  "text/x-python",
                                           "name":  "python",
                                           "nbconvert_exporter":  "python",
                                           "pygments_lexer":  "ipython3",
                                           "version":  "3.10.11"
                                       },
                     "minecraft":  {
                                       "description":  "ЧК 2023",
                                       "page_id":  "1.1",
                                       "page_name":  "ЧК 2023",
                                       "style":  "minecraft.css"
                                   }
                 },
    "nbformat":  4,
    "nbformat_minor":  5
}
