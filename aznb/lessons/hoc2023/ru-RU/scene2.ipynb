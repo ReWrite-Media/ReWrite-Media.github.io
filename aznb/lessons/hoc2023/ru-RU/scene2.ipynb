﻿{
    "cells":  [
                  {
                      "cell_type":  "markdown",
                      "id":  "c6a6a83c",
                      "metadata":  {

                                   },
                      "source":  [
                                     "# Газонокосилка\n",
                                     "\n",
                                     "Беда! Умная газонокосилка работает неправильно — она повреждает разбрызгиватели. Изучите код и внесите изменения, чтобы газонокосилка сначала проверяла наличие дождевателя, прежде чем срезать траву. \n",
                                     "\n",
                                     "Функция `cut_grass()` заставляет газонокосилку срезать траву в блоке под ней. Замените ее на `check_sprinkler_cut_grass()`, и газонокосилка будет проверять наличие дождевателя, прежде чем приступить к стрижке травы. "
                                 ]
                  },
                  {
                      "cell_type":  "code",
                      "execution_count":  null,
                      "id":  "665dcd86",
                      "metadata":  {
                                       "minecraft":  {
                                                         "closeCodeBuilderOnRun":  true,
                                                         "hidden":  false,
                                                         "onCodeCancelledCommand":  "scoreboard players set @s code_status 0",
                                                         "onCodeErrorCommand":  "scoreboard players set @s code_status 0",
                                                         "onCodeStartedCommand":  "scoreboard players set @s code_status 1",
                                                         "onCodeStoppedCommand":  "scoreboard players set @s code_status 0",
                                                         "onCodeSuccessfulCommand":  "scoreboard players set @s code_status 0",
                                                         "overridePython":  "import time\n\ntimeout = 0.100\n\ndef set_scoreboard(score):\n    _exec(f\"scoreboard players set .output global {score}\")\n\ndef move_lawnmower_next_row():\n    time.sleep(timeout)  \n    set_scoreboard(3)\n    time.sleep(timeout)  \n    set_scoreboard(4)\n\ndef move_lawnmower_forward():\n    time.sleep(timeout)  \n    set_scoreboard(3)\n\ndef cut_grass():\n    time.sleep(timeout)  \n    set_scoreboard(1)\n\ndef check_sprinkler_cut_grass():\n    time.sleep(timeout)  \n    set_scoreboard(2)\n\n@user-code",
                                                         "readonly":  true
                                                     }
                                   },
                      "outputs":  [

                                  ],
                      "source":  [
                                     "# ПРИМЕР КОДА — ВЫ НЕ МОЖЕТЕ РЕДАКТИРОВАТЬ ЭТО\n",
                                     "# ЗАПУСТИТЕ, ЧТОБЫ УВИДЕТЬ, ЧТО ПОЛУЧИТСЯ\n",
                                     "\n",
                                     "for i in range(8):\n",
                                     "    move_lawnmower_forward()\n",
                                     "    cut_grass()\n",
                                     "    move_lawnmower_forward()\n",
                                     "    cut_grass()\n",
                                     "    move_lawnmower_forward()\n",
                                     "    cut_grass()\n",
                                     "    move_lawnmower_next_row()"
                                 ]
                  },
                  {
                      "cell_type":  "markdown",
                      "id":  "6bb4b1f6",
                      "metadata":  {

                                   },
                      "source":  [
                                     "# Совет:\n",
                                     "\n",
                                     "Для еще большего упрощения можно вложить циклы `for` друг в друга. Приведенный ниже код дает тот же результат, что и пример выше."
                                 ]
                  },
                  {
                      "cell_type":  "code",
                      "execution_count":  null,
                      "id":  "88e95eef",
                      "metadata":  {
                                       "minecraft":  {
                                                         "closeCodeBuilderOnRun":  true,
                                                         "hidden":  false,
                                                         "onCodeCancelledCommand":  "scoreboard players set @s code_status 0",
                                                         "onCodeErrorCommand":  "scoreboard players set @s code_status 0",
                                                         "onCodeStartedCommand":  "scoreboard players set @s code_status 1",
                                                         "onCodeStoppedCommand":  "scoreboard players set @s code_status 0",
                                                         "onCodeSuccessfulCommand":  "scoreboard players set @s code_status 0",
                                                         "overridePython":  "import time\n\ntimeout = 0.100\n\ndef set_scoreboard(score):\n    _exec(f\"scoreboard players set .output global {score}\")\n\ndef move_lawnmower_next_row():\n    time.sleep(timeout)  \n    set_scoreboard(3)\n    time.sleep(timeout)  \n    set_scoreboard(4)\n\ndef move_lawnmower_forward():\n    time.sleep(timeout)  \n    set_scoreboard(3)\n\ndef cut_grass():\n    time.sleep(timeout)  \n    set_scoreboard(1)\n\ndef check_sprinkler_cut_grass():\n    time.sleep(timeout)  \n    set_scoreboard(2)\n\n@user-code",
                                                         "readonly":  true
                                                     }
                                   },
                      "outputs":  [

                                  ],
                      "source":  [
                                     "# ПРИМЕР КОДА — ВЫ НЕ МОЖЕТЕ РЕДАКТИРОВАТЬ ЭТО\n",
                                     "# ЗАПУСТИТЕ, ЧТОБЫ УВИДЕТЬ, ЧТО ПОЛУЧИТСЯ\n",
                                     "\n",
                                     "for i in range(8):\n",
                                     "    for i in range(3):\n",
                                     "        move_lawnmower_forward()\n",
                                     "        cut_grass()\n",
                                     "    move_lawnmower_next_row()"
                                 ]
                  },
                  {
                      "cell_type":  "markdown",
                      "id":  "05009481",
                      "metadata":  {

                                   },
                      "source":  [
                                     "# Задание:\n",
                                     "\n",
                                     "Обновите код, чтобы газонокосилка проверяла наличие разбрызгивателей перед тем, как скосить траву на блоке."
                                 ]
                  },
                  {
                      "cell_type":  "code",
                      "execution_count":  null,
                      "id":  "4bb06929",
                      "metadata":  {
                                       "minecraft":  {
                                                         "closeCodeBuilderOnRun":  true,
                                                         "default_code":  "# code here\n\nfor i in range(8):\n    for i in range(3):\n        move_lawnmower_forward()\n        cut_grass()\n    move_lawnmower_next_row()\n",
                                                         "hidden":  false,
                                                         "onCodeCancelledCommand":  "scoreboard players set @s code_status 0",
                                                         "onCodeErrorCommand":  "scoreboard players set @s code_status 0",
                                                         "onCodeStartedCommand":  "scoreboard players set @s code_status 1",
                                                         "onCodeStoppedCommand":  "scoreboard players set @s code_status 0",
                                                         "onCodeSuccessfulCommand":  "scoreboard players set @s code_status 0",
                                                         "overridePython":  "import time\n\ntimeout = 0.100\n\ndef set_scoreboard(score):\n    _exec(f\"scoreboard players set .output global {score}\")\n\ndef move_lawnmower_next_row():\n    time.sleep(timeout)  \n    set_scoreboard(3)\n    time.sleep(timeout)  \n    set_scoreboard(4)\n\ndef move_lawnmower_forward():\n    time.sleep(timeout)  \n    set_scoreboard(3)\n\ndef cut_grass():\n    time.sleep(timeout)  \n    set_scoreboard(1)\n\ndef check_sprinkler_cut_grass():\n    time.sleep(timeout)  \n    set_scoreboard(2)\n\n@user-code",
                                                         "readonly":  false
                                                     }
                                   },
                      "outputs":  [

                                  ],
                      "source":  [
                                     "# код здесь\n",
                                     "\n",
                                     "for i in range(8):\n",
                                     "    for i in range(3):\n",
                                     "        move_lawnmower_forward()\n",
                                     "        cut_grass()\n",
                                     "    move_lawnmower_next_row()"
                                 ]
                  }
              ],
    "metadata":  {
                     "celltoolbar":  "Edit Metadata",
                     "kernelspec":  {
                                        "display_name":  "Python 3 (ipykernel)",
                                        "language":  "python",
                                        "name":  "python3"
                                    },
                     "language_info":  {
                                           "codemirror_mode":  {
                                                                   "name":  "ipython",
                                                                   "version":  3
                                                               },
                                           "file_extension":  ".py",
                                           "mimetype":  "text/x-python",
                                           "name":  "python",
                                           "nbconvert_exporter":  "python",
                                           "pygments_lexer":  "ipython3",
                                           "version":  "3.10.11"
                                       },
                     "minecraft":  {
                                       "description":  "ЧК 2023",
                                       "page_id":  "1.1",
                                       "page_name":  "ЧК 2023",
                                       "style":  "minecraft.css"
                                   }
                 },
    "nbformat":  4,
    "nbformat_minor":  5
}
