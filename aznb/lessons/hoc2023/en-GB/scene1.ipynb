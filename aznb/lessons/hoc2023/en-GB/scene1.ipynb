﻿{
    "cells":  [
                  {
                      "cell_type":  "markdown",
                      "id":  "c6a6a83c",
                      "metadata":  {

                                   },
                      "source":  [
                                     "# Food Dispenser\n",
                                     "\n",
                                     "The automatic food dispenser can’t detect some students. Review the code and make changes so it can identify all students.\n",
                                     "\n",
                                     "You should focus on the `scan()` function, which is the function that controls how the food dispenser detects a person. The function takes one string as a parameter and has two settings – `horizontal` or `smart`.\n",
                                     "\n",
                                     "Valid scan types are: \n",
                                     "- `horizontal`\n",
                                     "- `smart`"
                                 ]
                  },
                  {
                      "cell_type":  "code",
                      "execution_count":  null,
                      "id":  "665dcd86",
                      "metadata":  {
                                       "minecraft":  {
                                                         "closeCodeBuilderOnRun":  true,
                                                         "hidden":  false,
                                                         "onCodeCancelledCommand":  "scoreboard players set @s code_status 0",
                                                         "onCodeErrorCommand":  "scoreboard players set @s code_status 0",
                                                         "onCodeStartedCommand":  "scoreboard players set @s code_status 1",
                                                         "onCodeStoppedCommand":  "scoreboard players set @s code_status 0",
                                                         "onCodeSuccessfulCommand":  "scoreboard players set @s code_status 0",
                                                         "overridePython":  "import time\n\ntimeout = 0.100\nscan_types=[\"horizontal\",\"smart\"]\n\ndef set_scoreboard(score):\n    _exec(f\"scoreboard players set .output global {score}\")\n\ndef lunch_time():\n    return True\n\ndef detect_student():\n    return True\n\ndef serve_lunch():\n    time.sleep(timeout)\n    set_scoreboard(3)\n\ndef wait_for_student():\n    time.sleep(timeout)\n    set_scoreboard(4)\n\ndef scan(scan_type):\n    time.sleep(timeout) \n    if scan_type.lower() in scan_types:\n        if scan_type.lower() == \"smart\":\n            set_scoreboard(2)\n        else:\n            set_scoreboard(1)\n    else:\n        player.say(f\"§cERROR: `{scan_type}` is not a valid scan type\")\n@user-code",
                                                         "readonly":  true
                                                     }
                                   },
                      "outputs":  [

                                  ],
                      "source":  [
                                     "# CODE EXAMPLE - YOU CANNOT EDIT HERE\n",
                                     "# RUN IT TO SEE WHAT HAPPENS\n",
                                     "\n",
                                     "while lunch_time():\n",
                                     "    scan(\"horizontal\")\n",
                                     "    if detect_student():\n",
                                     "        serve_lunch()\n",
                                     "    wait_for_student()"
                                 ]
                  },
                  {
                      "cell_type":  "markdown",
                      "id":  "05009481",
                      "metadata":  {

                                   },
                      "source":  [
                                     "# Activity:\n",
                                     "\n",
                                     "Update the code to change the scan type from `horizontal` to `smart`"
                                 ]
                  },
                  {
                      "cell_type":  "code",
                      "execution_count":  null,
                      "id":  "4bb06929",
                      "metadata":  {
                                       "minecraft":  {
                                                         "closeCodeBuilderOnRun":  true,
                                                         "default_code":  "# code here\n\nwhile lunch_time():\n    scan(\"horizontal\")\n    if detect_student():\n        serve_lunch()\n    wait_for_student()\n",
                                                         "hidden":  false,
                                                         "onCodeCancelledCommand":  "scoreboard players set @s code_status 0",
                                                         "onCodeErrorCommand":  "scoreboard players set @s code_status 0",
                                                         "onCodeStartedCommand":  "scoreboard players set @s code_status 1",
                                                         "onCodeStoppedCommand":  "scoreboard players set @s code_status 0",
                                                         "onCodeSuccessfulCommand":  "scoreboard players set @s code_status 0",
                                                         "overridePython":  "import time\n\ntimeout = 0.100\nscan_types=[\"horizontal\",\"smart\"]\n\ndef set_scoreboard(score):\n    _exec(f\"scoreboard players set .output global {score}\")\n\ndef lunch_time():\n    return True\n\ndef detect_student():\n    return True\n\ndef serve_lunch():\n    time.sleep(timeout)\n    set_scoreboard(3)\n\ndef wait_for_student():\n    time.sleep(timeout)\n    set_scoreboard(4)\n\ndef scan(scan_type):\n    time.sleep(timeout) \n    if scan_type.lower() in scan_types:\n        if scan_type.lower() == \"smart\":\n            set_scoreboard(2)\n        else:\n            set_scoreboard(1)\n    else:\n        player.say(f\"§cERROR: `{scan_type}` is not a valid scan type\")\n@user-code",
                                                         "readonly":  false
                                                     }
                                   },
                      "outputs":  [

                                  ],
                      "source":  [
                                     "# code here\n",
                                     "\n",
                                     "while lunch_time():\n",
                                     "    scan(\"horizontal\")\n",
                                     "    if detect_student():\n",
                                     "        serve_lunch()\n",
                                     "    wait_for_student()"
                                 ]
                  }
              ],
    "metadata":  {
                     "celltoolbar":  "Edit Metadata",
                     "kernelspec":  {
                                        "display_name":  "Python 3 (ipykernel)",
                                        "language":  "python",
                                        "name":  "python3"
                                    },
                     "language_info":  {
                                           "codemirror_mode":  {
                                                                   "name":  "ipython",
                                                                   "version":  3
                                                               },
                                           "file_extension":  ".py",
                                           "mimetype":  "text/x-python",
                                           "name":  "python",
                                           "nbconvert_exporter":  "python",
                                           "pygments_lexer":  "ipython3",
                                           "version":  "3.10.11"
                                       },
                     "minecraft":  {
                                       "description":  "HOC 2023",
                                       "page_id":  "1.1",
                                       "page_name":  "HOC 2023",
                                       "style":  "minecraft.css"
                                   }
                 },
    "nbformat":  4,
    "nbformat_minor":  5
}
