﻿{
    "cells":  [
                  {
                      "cell_type":  "markdown",
                      "id":  "c6a6a83c",
                      "metadata":  {

                                   },
                      "source":  [
                                     "# Πρόβλημα με Πουλιά\n",
                                     "\n",
                                     "Αποκρυπτογραφήσαμε το μήνυμα και φαίνεται ότι τα πουλιά έχουν εντολή να μετακινήσουν σκουπίδια, αλλά δεν υπάρχει μέρος να τα βάλουν. Λοιπόν, ας αλλάξουμε τις οδηγίες στον κώδικα. Αντί να μετακινήσουν τα σκουπίδια, θα κάνουμε τα πουλιά να πηγαίνουν τα σκουπίδια σε έναν κάδο και να τα αφήνουν εκεί. \n",
                                     "\n",
                                     "Αντικατάσταση της συνάρτησης `move_trash()` με τη συνάρτηση `fly_to_dumpster()`, ακολουθούμενη από τη συνάρτηση `release_trash()`.\n",
                                     "\n",
                                     "## Νέες συναρτήσεις:\n",
                                     "\n",
                                     "\u0027fly_to_dumpster()\u0027 Αυτή η λειτουργία θα κάνει τα πουλιά να πετάξουν στον κάδο απορριμμάτων για τον οποίο φόρτωσες συντεταγμένες.\n",
                                     "\n",
                                     "`release_trash()` Αυτή η συνάρτηση θα φροντίσει ότι τα σκουπίδια θα πετάγονται στο κατάλληλο δοχείο αντί για οπουδήποτε."
                                 ]
                  },
                  {
                      "cell_type":  "code",
                      "execution_count":  null,
                      "id":  "665dcd86",
                      "metadata":  {
                                       "minecraft":  {
                                                         "closeCodeBuilderOnRun":  true,
                                                         "default_code":  "# code here\n\nwhile search_for_trash():\n    if trash == True:\n        pickup_trash()\n        move_trash()\n    if battery \u003c 20:\n        find_utility_box()\n        start_charging()\n        while charging:\n            if battery \u003e 80:\n                stop_charging()\n    continue_flight_loop()\n",
                                                         "hidden":  false,
                                                         "onCodeCancelledCommand":  "scoreboard players set @s code_status 0",
                                                         "onCodeErrorCommand":  "scoreboard players set @s code_status 0",
                                                         "onCodeStartedCommand":  "scoreboard players set @s code_status 1",
                                                         "onCodeStoppedCommand":  "scoreboard players set @s code_status 0",
                                                         "onCodeSuccessfulCommand":  "scoreboard players set @s code_status 0",
                                                         "overridePython":  "import time\n\ntimeout = 0.100\nbattery = 0\ntrash = True\ncharging = False\n\ndef set_scoreboard(score):\n    _exec(f\"scoreboard players set .output global {score}\")\n\n\ndef search_for_trash():\n    return True\n\ndef pickup_trash():\n    time.sleep(timeout)\n    set_scoreboard(1)\n\ndef move_trash():\n    time.sleep(timeout)\n    set_scoreboard(2)\n\ndef drop_trash():\n    time.sleep(timeout)\n    set_scoreboard(3)\n\ndef find_utility_box():\n    time.sleep(timeout)\n    set_scoreboard(4)\n\ndef start_charging():\n    time.sleep(timeout)\n    set_scoreboard(5)\n\ndef stop_charging():\n    time.sleep(timeout)\n    set_scoreboard(6)\n\ndef continue_flight_loop():\n    time.sleep(timeout)\n    set_scoreboard(7)\n\ndef fly_to_dumpster():\n    time.sleep(timeout)\n    set_scoreboard(8)\n\ndef release_trash():\n    time.sleep(timeout)\n    set_scoreboard(9)\n@user-code",
                                                         "readonly":  false
                                                     }
                                   },
                      "outputs":  [

                                  ],
                      "source":  [
                                     "# κώδικας εδώ\n",
                                     "\n",
                                     "while search_for_trash():\n",
                                     "    if trash == True:\n",
                                     "        pickup_trash()\n",
                                     "        move_trash()\n",
                                     "    if battery \u003c 20:\n",
                                     "        find_utility_box()\n",
                                     "        start_charging()\n",
                                     "        while charging:\n",
                                     "            if battery \u003e 80:\n",
                                     "                stop_charging()\n",
                                     "    continue_flight_loop()"
                                 ]
                  }
              ],
    "metadata":  {
                     "celltoolbar":  "Edit Metadata",
                     "kernelspec":  {
                                        "display_name":  "Python 3 (ipykernel)",
                                        "language":  "python",
                                        "name":  "python3"
                                    },
                     "language_info":  {
                                           "codemirror_mode":  {
                                                                   "name":  "ipython",
                                                                   "version":  3
                                                               },
                                           "file_extension":  ".py",
                                           "mimetype":  "text/x-python",
                                           "name":  "python",
                                           "nbconvert_exporter":  "python",
                                           "pygments_lexer":  "ipython3",
                                           "version":  "3.10.11"
                                       },
                     "minecraft":  {
                                       "description":  "Ώρα του Κώδικα 2023",
                                       "page_id":  "1.1",
                                       "page_name":  "Ώρα του Κώδικα 2023",
                                       "style":  "minecraft.css"
                                   }
                 },
    "nbformat":  4,
    "nbformat_minor":  5
}
