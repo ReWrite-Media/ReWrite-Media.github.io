﻿{
    "cells":  [
                  {
                      "cell_type":  "markdown",
                      "id":  "c6a6a83c",
                      "metadata":  {

                                   },
                      "source":  [
                                     "# Problèmes d\u0027oiseaux\n",
                                     "\n",
                                     "Bonne nouvelle ! Nous avons réussi à découvrir les mots cachés. Maintenant, nous avons remarqué qu\u0027il y a deux nouvelles fonctions dans le code qui pourraient être utiles. Cependant, avant de pouvoir les utiliser, nous devons saisir l’emplacement exact ou les coordonnées de la benne à ordures. \n",
                                     "\n",
                                     "Il n\u0027est pas encore nécessaire de modifier ce code, mais quittez la fenêtre de codage et trouvez la benne à ordures. \n",
                                     "\n",
                                     "##Nouvelles fonctions :\n",
                                     "\n",
                                     "\u0027fly_to_dumpster()\u0027 Cette fonction amènera les oiseaux à apporter les déchets qu’ils ramassent dans une benne à ordures. Avant de pouvoir l’utiliser, nous devons télécharger les coordonnées en scannant une benne à ordures.\n",
                                     "\n",
                                     "\u0027release_trash()\u0027 Cette fonction permet de s’assurer que tous les déchets sont uniquement déposés dans le conteneur approprié au lieu de les déposer n’importe où."
                                 ]
                  },
                  {
                      "cell_type":  "code",
                      "execution_count":  null,
                      "id":  "665dcd86",
                      "metadata":  {
                                       "minecraft":  {
                                                         "closeCodeBuilderOnRun":  true,
                                                         "hidden":  false,
                                                         "onCodeCancelledCommand":  "scoreboard players set @s code_status 0",
                                                         "onCodeErrorCommand":  "scoreboard players set @s code_status 0",
                                                         "onCodeStartedCommand":  "scoreboard players set @s code_status 1",
                                                         "onCodeStoppedCommand":  "scoreboard players set @s code_status 0",
                                                         "onCodeSuccessfulCommand":  "scoreboard players set @s code_status 0",
                                                         "overridePython":  "import time\n\ntimeout = 0.100\nbattery = 0\ntrash = True\ncharging = False\n\ndef set_scoreboard(score):\n    _exec(f\"scoreboard players set .output global {score}\")\n\n\ndef search_for_trash():\n    return True\n\ndef pickup_trash():\n    set_scoreboard(1)\n\ndef move_trash():\n    set_scoreboard(2)\n\ndef drop_trash():\n    set_scoreboard(3)\n\ndef find_utility_box():\n    set_scoreboard(4)\n\ndef start_charging():\n    set_scoreboard(5)\n\ndef stop_charging():\n    set_scoreboard(6)\n\ndef continue_flight_loop():\n    set_scoreboard(7)\n\ndef fly_to_dumpster():\n    set_scoreboard(8)\n\ndef release_trash():\n    set_scoreboard(9)\n",
                                                         "readonly":  true
                                                     }
                                   },
                      "outputs":  [

                                  ],
                      "source":  [
                                     "while search_for_trash():\n",
                                     "    if trash == True:\n",
                                     "        pickup_trash()\n",
                                     "        move_trash()\n",
                                     "    if battery \u003c 20:\n",
                                     "        find_utility_box()\n",
                                     "        start_charging()\n",
                                     "        while charging:\n",
                                     "            if battery \u003e 80:\n",
                                     "                stop_charging()\n",
                                     "    continue_flight_loop()"
                                 ]
                  }
              ],
    "metadata":  {
                     "celltoolbar":  "Edit Metadata",
                     "kernelspec":  {
                                        "display_name":  "Python 3 (ipykernel)",
                                        "language":  "python",
                                        "name":  "python3"
                                    },
                     "language_info":  {
                                           "codemirror_mode":  {
                                                                   "name":  "ipython",
                                                                   "version":  3
                                                               },
                                           "file_extension":  ".py",
                                           "mimetype":  "text/x-python",
                                           "name":  "python",
                                           "nbconvert_exporter":  "python",
                                           "pygments_lexer":  "ipython3",
                                           "version":  "3.10.11"
                                       },
                     "minecraft":  {
                                       "description":  "HdC 2023",
                                       "page_id":  "1.1",
                                       "page_name":  "HdC 2023",
                                       "style":  "minecraft.css"
                                   }
                 },
    "nbformat":  4,
    "nbformat_minor":  5
}
