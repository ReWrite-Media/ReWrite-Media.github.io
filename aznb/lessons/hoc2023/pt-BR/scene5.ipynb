﻿{
    "cells":  [
                  {
                      "cell_type":  "markdown",
                      "id":  "c6a6a83c",
                      "metadata":  {

                                   },
                      "source":  [
                                     "#Treino de Agent\n",
                                     "\n",
                                     "Os agents do tempo já dominaram todos os princípios importantes! O passo final é posicioná-los corretamente para que eles ensinem a IA principal tudo o que eles aprenderam!\n",
                                     "\n",
                                     "As quatro funções que você usará para mover os agents do tempo são:\n",
                                     "- \u0027\u0027match_blue_agent()\u0027\u0027\n",
                                     "![Agent Azul](img/agent_azul.png \u0027\u0027Agent Azul\u0027\u0027)\n",
                                     "- \u0027\u0027match_green_agent()\u0027\u0027\n",
                                     "![Agent Verde](img/agent_verde.png \u0027\u0027Agent Verde\u0027\u0027)\n",
                                     "- \u0027\u0027match_yellow_agent()\u0027\u0027\n",
                                     "![Agent Amarelo](img/agent_amarelo.png \u0027\u0027Agent Amarelo\u0027\u0027)\n",
                                     "- \u0027\u0027match_red_agent()\u0027\u0027\n",
                                     "![Agent Vermelho](img/agent_vermelho.png \u0027\u0027Agent Vermelho\u0027\u0027)\n",
                                     "\n",
                                     "Cada uma dessas funções exige um único parâmetro que representa seu destino.\n",
                                     "\n",
                                     "Os destinos válidos são: \n",
                                     "- \u0027\u00271\u0027\u0027 ![Equidade_Inclusão](img/equidade_inclusão.png \u0027\u0027Equidade e Inclusão\u0027\u0027)\n",
                                     "- \u0027\u00272\u0027\u0027 ![Confiança_Segurança](img/cofiança_segurança.png \u0027\u0027Confiança e Segurança\u0027\u0027)\n",
                                     "- \u0027\u00273\u0027\u0027 ![Transparência_Responsabilidade](img/transparência_responsabilidade.png \u0027\u0027Transparência e Responsabilidade\u0027\u0027)\n",
                                     "- \u0027\u00274\u0027\u0027 ![Privacidade_Segurança](img/privacidade_segurança.png \u0027\u0027Privacidade e Segurança\u0027\u0027)"
                                 ]
                  },
                  {
                      "cell_type":  "markdown",
                      "id":  "05009481",
                      "metadata":  {

                                   },
                      "source":  [
                                     "# Atividade:\n",
                                     "\n",
                                     "Combine os Agents com os locais de treinamento que contêm o princípio que eles representam."
                                 ]
                  },
                  {
                      "cell_type":  "code",
                      "execution_count":  null,
                      "id":  "4bb06929",
                      "metadata":  {
                                       "minecraft":  {
                                                         "closeCodeBuilderOnRun":  true,
                                                         "default_code":  "# code here\n\nmatch_blue_agent(1)\nmatch_green_agent(2)\nmatch_yellow_agent(3)\nmatch_red_agent(4)\n\n\n",
                                                         "hidden":  false,
                                                         "onCodeCancelledCommand":  "scoreboard players set @s code_status 0",
                                                         "onCodeErrorCommand":  "scoreboard players set @s code_status 0",
                                                         "onCodeStartedCommand":  "scoreboard players set @s code_status 1",
                                                         "onCodeStoppedCommand":  "scoreboard players set @s code_status 0",
                                                         "onCodeSuccessfulCommand":  "scoreboard players set @s code_status 0",
                                                         "overridePython":  "import time\n\ntimeout = 0.100\nvalid_positions=[1,2,3,4]\n\ndef set_scoreboard(score):\n    _exec(f\"scoreboard players set .output global {score}\")\n\ndef match_red_agent(position):\n    if position in valid_positions:\n        if position == 1:\n            time.sleep(timeout)\n            set_scoreboard(11)\n        elif position == 2:\n            time.sleep(timeout)\n            set_scoreboard(12)     \n        elif position == 3:\n            time.sleep(timeout)\n            set_scoreboard(13)     \n        elif position == 4:\n            time.sleep(timeout)\n            set_scoreboard(14)   \n    else:\n        player.say(f\"§cERROR: `{position}` is not a valid position\")\n\ndef match_yellow_agent(position):\n    if position in valid_positions:\n        if position == 1:\n            time.sleep(timeout)\n            set_scoreboard(22)\n        elif position == 2:\n            time.sleep(timeout)\n            set_scoreboard(21)     \n        elif position == 3:\n            time.sleep(timeout)\n            set_scoreboard(23)     \n        elif position == 4:\n            time.sleep(timeout)\n            set_scoreboard(24)   \n    else:\n        player.say(f\"§cERROR: `{position}` is not a valid position\")\n\ndef match_blue_agent(position):\n    if position in valid_positions:\n        if position == 1:\n            time.sleep(timeout)\n            set_scoreboard(33)\n        elif position == 2:\n            time.sleep(timeout)\n            set_scoreboard(32)     \n        elif position == 3:\n            time.sleep(timeout)\n            set_scoreboard(31)     \n        elif position == 4:\n            time.sleep(timeout)\n            set_scoreboard(34)   \n    else:\n        player.say(f\"§cERROR: `{position}` is not a valid position\")\n\ndef match_green_agent(position):\n    if position in valid_positions:\n        if position == 1:\n            time.sleep(timeout)\n            set_scoreboard(44)\n        elif position == 2:\n            time.sleep(timeout)\n            set_scoreboard(42)     \n        elif position == 3:\n            time.sleep(timeout)\n            set_scoreboard(43)     \n        elif position == 4:\n            time.sleep(timeout)\n            set_scoreboard(41)   \n    else:\n        player.say(f\"§cERROR: `{position}` is not a valid position\")\n\n\n@user-code",
                                                         "readonly":  false
                                                     }
                                   },
                      "outputs":  [

                                  ],
                      "source":  [
                                     "# código aqui\n",
                                     "\n",
                                     "match_blue_agent(1)\n",
                                     "match_green_agent(2)\n",
                                     "match_yellow_agent(3)\n",
                                     "match_red_agent(4)\n",
                                     "\n"
                                 ]
                  }
              ],
    "metadata":  {
                     "celltoolbar":  "Edit Metadata",
                     "kernelspec":  {
                                        "display_name":  "Python 3 (ipykernel)",
                                        "language":  "python",
                                        "name":  "python3"
                                    },
                     "language_info":  {
                                           "codemirror_mode":  {
                                                                   "name":  "ipython",
                                                                   "version":  3
                                                               },
                                           "file_extension":  ".py",
                                           "mimetype":  "text/x-python",
                                           "name":  "python",
                                           "nbconvert_exporter":  "python",
                                           "pygments_lexer":  "ipython3",
                                           "version":  "3.10.11"
                                       },
                     "minecraft":  {
                                       "description":  "HdC 2023",
                                       "page_id":  "1.1",
                                       "page_name":  "HdC 2023",
                                       "style":  "minecraft.css"
                                   }
                 },
    "nbformat":  4,
    "nbformat_minor":  5
}
