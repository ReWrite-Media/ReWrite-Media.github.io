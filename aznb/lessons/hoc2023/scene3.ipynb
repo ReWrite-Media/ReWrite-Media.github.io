{
 "cells": [
  {
   "cell_type": "markdown",
   "id": "c6a6a83c",
   "metadata": {},
   "source": [
    "# Bird Trouble\n",
    "\n",
    "We've decoded the message, and it seems like the birds are being told to move trash, but there's no place to put it. So, let's change the instructions in the code. Instead of moving the trash, we'll make the birds fly the trash to a dumpster and release the trash there. \n",
    "Replace the `move_trash()` function with `fly_to_dumpster()` function, followed by the `release_trash()` function.\n",
    "\n",
    "## New Functions:\n",
    "\n",
    "`fly_to_dumpster()` This function will make the birds fly to the dumpster you loaded the coordinates for.\n",
    "\n",
    "`release_trash()` This function will make sure all trash is only dropped into the appropriate container instead of dropping it anywhere."
   ]
  },
  {
   "cell_type": "code",
   "execution_count": null,
   "id": "665dcd86",
   "metadata": {
    "minecraft": {
     "closeCodeBuilderOnRun": true,
     "default_code": "# code here\n\nwhile search_for_trash():\n    if trash == True:\n        pickup_trash()\n        move_trash()\n    if battery < 20:\n        find_utility_box()\n        start_charging()\n        while charging:\n            if battery > 80:\n                stop_charging()\n    continue_flight_loop()\n",
     "hidden": false,
     "onCodeCancelledCommand": "scoreboard players set @s code_status 0",
     "onCodeErrorCommand": "scoreboard players set @s code_status 0",
     "onCodeStartedCommand": "scoreboard players set @s code_status 1",
     "onCodeStoppedCommand": "scoreboard players set @s code_status 0",
     "onCodeSuccessfulCommand": "scoreboard players set @s code_status 0",
     "overridePython": "import time\n\ntimeout = 0.100\nbattery = 0\ntrash = True\ncharging = False\n\ndef set_scoreboard(score):\n    _exec(f\"scoreboard players set .output global {score}\")\n\n\ndef search_for_trash():\n    return True\n\ndef pickup_trash():\n    time.sleep(timeout)\n    set_scoreboard(1)\n\ndef move_trash():\n    time.sleep(timeout)\n    set_scoreboard(2)\n\ndef drop_trash():\n    time.sleep(timeout)\n    set_scoreboard(3)\n\ndef find_utility_box():\n    time.sleep(timeout)\n    set_scoreboard(4)\n\ndef start_charging():\n    time.sleep(timeout)\n    set_scoreboard(5)\n\ndef stop_charging():\n    time.sleep(timeout)\n    set_scoreboard(6)\n\ndef continue_flight_loop():\n    time.sleep(timeout)\n    set_scoreboard(7)\n\ndef fly_to_dumpster():\n    time.sleep(timeout)\n    set_scoreboard(8)\n\ndef release_trash():\n    time.sleep(timeout)\n    set_scoreboard(9)\n@user-code",
     "readonly": false
    }
   },
   "outputs": [],
   "source": [
    "# code here\n",
    "\n",
    "while search_for_trash():\n",
    "    if trash == True:\n",
    "        pickup_trash()\n",
    "        move_trash()\n",
    "    if battery < 20:\n",
    "        find_utility_box()\n",
    "        start_charging()\n",
    "        while charging:\n",
    "            if battery > 80:\n",
    "                stop_charging()\n",
    "    continue_flight_loop()"
   ]
  }
 ],
 "metadata": {
  "celltoolbar": "Edit Metadata",
  "kernelspec": {
   "display_name": "Python 3 (ipykernel)",
   "language": "python",
   "name": "python3"
  },
  "language_info": {
   "codemirror_mode": {
    "name": "ipython",
    "version": 3
   },
   "file_extension": ".py",
   "mimetype": "text/x-python",
   "name": "python",
   "nbconvert_exporter": "python",
   "pygments_lexer": "ipython3",
   "version": "3.10.11"
  },
  "minecraft": {
   "description": "HOC 2023",
   "page_id": "1.1",
   "page_name": "HOC 2023",
   "style": "minecraft.css"
  }
 },
 "nbformat": 4,
 "nbformat_minor": 5
}
