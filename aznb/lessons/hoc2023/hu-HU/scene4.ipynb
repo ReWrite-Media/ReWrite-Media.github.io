﻿{
    "cells":  [
                  {
                      "cell_type":  "markdown",
                      "id":  "c6a6a83c",
                      "metadata":  {

                                   },
                      "source":  [
                                     "# Intelligens ajtózár\n",
                                     "\n",
                                     "Felfedeztünk egy komoly hibát az ajtózáró rendszerben. Jelenleg mindenki meg tudja nézni az eseménynaplókat, ami nagy adatvédelmi és biztonsági problémát jelent. A hiba megoldásához úgy kell frissítenünk a kódot, hogy csak a rendszergazdák férjenek hozzá az eseménynaplókhoz.\n",
                                     "\n",
                                     "A „permission_group()” függvényhez egy paramétert adhatsz meg, amely meghatározza az összehasonlítás alapját képző engedélycsoportot.\n",
                                     "\n",
                                     "Érvényes engedélycsoportok: \n",
                                     "– „anyone”\n",
                                     "– „user”\n",
                                     "– „admin”"
                                 ]
                  },
                  {
                      "cell_type":  "code",
                      "execution_count":  null,
                      "id":  "665dcd86",
                      "metadata":  {
                                       "minecraft":  {
                                                         "closeCodeBuilderOnRun":  true,
                                                         "hidden":  false,
                                                         "onCodeCancelledCommand":  "scoreboard players set @s code_status 0",
                                                         "onCodeErrorCommand":  "scoreboard players set @s code_status 0",
                                                         "onCodeStartedCommand":  "scoreboard players set @s code_status 1",
                                                         "onCodeStoppedCommand":  "scoreboard players set @s code_status 0",
                                                         "onCodeSuccessfulCommand":  "scoreboard players set @s code_status 0",
                                                         "overridePython":  "import time\n\ntimeout = 0.100\nvalid_permission_groups=[\"anyone\",\"user\",\"admin\"]\n\ndef set_scoreboard(score):\n    _exec(f\"scoreboard players set .output global {score}\")\n\ndef human_detect():\n    return True\n\ndef user_authorized():\n    return True\n\ndef check_user_permissions():\n    time.sleep(timeout)  \n    set_scoreboard(3)    \n\ndef user_permissions():\n    return True\n\ndef permission_group(group):\n    if group.lower() in valid_permission_groups:\n        if group.lower() == \"admin\":\n            return False             \n        else:\n            return True\n    else:\n        player.say(f\"§cERROR: `{group}` is not a valid permission group\")\n\ndef enable_log_viewing():\n    time.sleep(timeout)  \n    set_scoreboard(1)\n\ndef disable_log_viewing():\n    time.sleep(timeout)  \n    set_scoreboard(2)\n\ndef unlock_door():\n    time.sleep(timeout)  \n    set_scoreboard(4)\n\ndef log_authorized_event():\n    time.sleep(timeout)  \n    set_scoreboard(5)\n\ndef log_unauthorized_event():\n    time.sleep(timeout)  \n    set_scoreboard(5)\n    \ndef door_closed():\n    return True\n\ndef wait_minutes(num):\n    time.sleep(timeout)  \n    set_scoreboard(6)    \n\ndef lock_door():\n    time.sleep(timeout)  \n    set_scoreboard(7)\n@user-code",
                                                         "readonly":  true
                                                     }
                                   },
                      "outputs":  [

                                  ],
                      "source":  [
                                     "# KÓDPÉLDA – ITT NEM LEHET SZERKESZTENI\n",
                                     "# FUTTASD, ÉS NÉZD MEG, MI TÖRTÉNIK\n",
                                     "\n",
                                     "while human_detect():\n",
                                     "    if user_authorized():\n",
                                     "        check_user_permissions()\n",
                                     "        if user_permissions() == permission_group(\"anyone\"):\n",
                                     "            enable_log_viewing()\n",
                                     "        else:\n",
                                     "            disable_log_viewing()\n",
                                     "        unlock_door()\n",
                                     "        log_authorized_event()\n",
                                     "    else:\n",
                                     "        log_unauthorized_event()\n",
                                     "    if door_closed():\n",
                                     "        wait_minutes(5)\n",
                                     "        lock_door()"
                                 ]
                  },
                  {
                      "cell_type":  "markdown",
                      "id":  "05009481",
                      "metadata":  {

                                   },
                      "source":  [
                                     "# Tevékenység:\n",
                                     "\n",
                                     "Módosítsd a „permission_group()” függvényt a megfelelő engedélybeállításra, amely az „admin”"
                                 ]
                  },
                  {
                      "cell_type":  "code",
                      "execution_count":  null,
                      "id":  "4bb06929",
                      "metadata":  {
                                       "minecraft":  {
                                                         "closeCodeBuilderOnRun":  true,
                                                         "default_code":  "# code here\n\nwhile human_detect():\n    if user_authorized():\n        check_user_permissions()\n        if user_permissions() == permission_group(\"anyone\"):\n            enable_log_viewing()\n        else:\n            disable_log_viewing()\n        unlock_door()\n        log_authorized_event()\n    else:\n        log_unauthorized_event()\n    if door_closed():\n        wait_minutes(5)\n        lock_door()\n",
                                                         "hidden":  false,
                                                         "onCodeCancelledCommand":  "scoreboard players set @s code_status 0",
                                                         "onCodeErrorCommand":  "scoreboard players set @s code_status 0",
                                                         "onCodeStartedCommand":  "scoreboard players set @s code_status 1",
                                                         "onCodeStoppedCommand":  "scoreboard players set @s code_status 0",
                                                         "onCodeSuccessfulCommand":  "scoreboard players set @s code_status 0",
                                                         "overridePython":  "import time\n\ntimeout = 0.100\nvalid_permission_groups=[\"anyone\",\"user\",\"admin\"]\n\ndef set_scoreboard(score):\n    _exec(f\"scoreboard players set .output global {score}\")\n\ndef human_detect():\n    return True\n\ndef user_authorized():\n    return True\n\ndef check_user_permissions():\n    time.sleep(timeout)  \n    set_scoreboard(3)    \n\ndef user_permissions():\n    return True\n\ndef permission_group(group):\n    if group.lower() in valid_permission_groups:\n        if group.lower() == \"admin\":\n            return False             \n        else:\n            return True\n    else:\n        player.say(f\"§cERROR: `{group}` is not a valid permission group\")\n\ndef enable_log_viewing():\n    time.sleep(timeout)  \n    set_scoreboard(1)\n\ndef disable_log_viewing():\n    time.sleep(timeout)  \n    set_scoreboard(2)\n\ndef unlock_door():\n    time.sleep(timeout)  \n    set_scoreboard(4)\n\ndef log_authorized_event():\n    time.sleep(timeout)  \n    set_scoreboard(5)\n\ndef log_unauthorized_event():\n    time.sleep(timeout)  \n    set_scoreboard(5)\n    \ndef door_closed():\n    return True\n\ndef wait_minutes(num):\n    time.sleep(timeout)  \n    set_scoreboard(6)    \n\ndef lock_door():\n    time.sleep(timeout)  \n    set_scoreboard(7)\n@user-code",
                                                         "readonly":  false
                                                     }
                                   },
                      "outputs":  [

                                  ],
                      "source":  [
                                     "# ide írd a kódot\n",
                                     "\n",
                                     "while human_detect():\n",
                                     "    if user_authorized():\n",
                                     "        check_user_permissions()\n",
                                     "        if user_permissions() == permission_group(\"anyone\"):\n",
                                     "            enable_log_viewing()\n",
                                     "        else:\n",
                                     "            disable_log_viewing()\n",
                                     "        unlock_door()\n",
                                     "        log_authorized_event()\n",
                                     "    else:\n",
                                     "        log_unauthorized_event()\n",
                                     "    if door_closed():\n",
                                     "        wait_minutes(5)\n",
                                     "        lock_door()"
                                 ]
                  }
              ],
    "metadata":  {
                     "celltoolbar":  "Edit Metadata",
                     "kernelspec":  {
                                        "display_name":  "Python 3 (ipykernel)",
                                        "language":  "python",
                                        "name":  "python3"
                                    },
                     "language_info":  {
                                           "codemirror_mode":  {
                                                                   "name":  "ipython",
                                                                   "version":  3
                                                               },
                                           "file_extension":  ".py",
                                           "mimetype":  "text/x-python",
                                           "name":  "python",
                                           "nbconvert_exporter":  "python",
                                           "pygments_lexer":  "ipython3",
                                           "version":  "3.10.11"
                                       },
                     "minecraft":  {
                                       "description":  "KÓ 2023",
                                       "page_id":  "1.1",
                                       "page_name":  "KÓ 2023",
                                       "style":  "minecraft.css"
                                   }
                 },
    "nbformat":  4,
    "nbformat_minor":  5
}
