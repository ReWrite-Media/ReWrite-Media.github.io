﻿{
    "cells":  [
                  {
                      "cell_type":  "markdown",
                      "id":  "c6a6a83c",
                      "metadata":  {

                                   },
                      "source":  [
                                     "# 鸟的麻烦\n",
                                     "\n",
                                     "我们无法完全理解这段代码，因为其中一些部分不清楚，而且隐藏了。不过在我们能够解决这个谜题之前，我们需要弄清楚那些隐藏代码的含义。让我们跟踪代码中的鸟儿，看看我们是否可以找出这段代码的全部含义。\n",
                                     "\n",
                                     "现在没有必要更改这段代码。\n",
                                     "\n",
                                     "## 新函数：\n",
                                     "\n",
                                     "`fly_to_0110101011()` 在我们能破译所有含糊代码之前，我们无法知道此函数的作用。\n",
                                     "\n",
                                     "`a_1001010_101101()` 在我们能破译所有含糊代码之前，我们无法知道此函数的作用。"
                                 ]
                  },
                  {
                      "cell_type":  "code",
                      "execution_count":  null,
                      "id":  "665dcd86",
                      "metadata":  {
                                       "minecraft":  {
                                                         "closeCodeBuilderOnRun":  true,
                                                         "hidden":  false,
                                                         "onCodeCancelledCommand":  "scoreboard players set @s code_status 0",
                                                         "onCodeErrorCommand":  "scoreboard players set @s code_status 0",
                                                         "onCodeStartedCommand":  "scoreboard players set @s code_status 1",
                                                         "onCodeStoppedCommand":  "scoreboard players set @s code_status 0",
                                                         "onCodeSuccessfulCommand":  "scoreboard players set @s code_status 0",
                                                         "overridePython":  "import time\n\ntimeout = 0.100\nbattery = 0\na_101101 = True\ncharging = False\n\ndef set_scoreboard(score):\n    _exec(f\"scoreboard players set .output global {score}\")\n\n\ndef search_for_101101():\n    return True\n\ndef pickup_101101():\n    set_scoreboard(1)\n\ndef move_101101():\n    set_scoreboard(2)\n\ndef drop_101101():\n    set_scoreboard(3)\n\ndef find_utility_box():\n    set_scoreboard(4)\n\ndef start_charging():\n    set_scoreboard(5)\n\ndef stop_charging():\n    set_scoreboard(6)\n\ndef continue_flight_loop():\n    set_scoreboard(7)\n\ndef fly_to_0110101011():\n    set_scoreboard(8)\n\ndef a_1001010_101101():\n    set_scoreboard(9)\n",
                                                         "readonly":  true
                                                     }
                                   },
                      "outputs":  [

                                  ],
                      "source":  [
                                     "while search_for_101101():\n",
                                     "    if a_101101 == True:\n",
                                     "        pickup_101101()\n",
                                     "        move_101101()\n",
                                     "    if battery \u003c 20:\n",
                                     "        find_utility_box()\n",
                                     "        start_charging()\n",
                                     "        while charging:\n",
                                     "            if battery \u003e 80:\n",
                                     "                stop_charging()\n",
                                     "    continue_flight_loop()"
                                 ]
                  }
              ],
    "metadata":  {
                     "celltoolbar":  "Edit Metadata",
                     "kernelspec":  {
                                        "display_name":  "Python 3 (ipykernel)",
                                        "language":  "python",
                                        "name":  "python3"
                                    },
                     "language_info":  {
                                           "codemirror_mode":  {
                                                                   "name":  "ipython",
                                                                   "version":  3
                                                               },
                                           "file_extension":  ".py",
                                           "mimetype":  "text/x-python",
                                           "name":  "python",
                                           "nbconvert_exporter":  "python",
                                           "pygments_lexer":  "ipython3",
                                           "version":  "3.10.11"
                                       },
                     "minecraft":  {
                                       "description":  "编程一小时 2023",
                                       "page_id":  "1.1",
                                       "page_name":  "编程一小时 2023",
                                       "style":  "minecraft.css"
                                   }
                 },
    "nbformat":  4,
    "nbformat_minor":  5
}
