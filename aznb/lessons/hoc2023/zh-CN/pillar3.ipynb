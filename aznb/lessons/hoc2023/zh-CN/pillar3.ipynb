﻿{
    "cells":  [
                  {
                      "cell_type":  "markdown",
                      "id":  "c6a6a83c",
                      "metadata":  {

                                   },
                      "source":  [
                                     "# 绿色柱子\n",
                                     "\n",
                                     "利用代码穿越虚空，到达绿色柱子。你可以使用两个函数：`agent_move()` 和 `agent_place()`\n",
                                     "\n",
                                     "`agent_move()` 函数采用一个字符串参数。它定义了代理机器人移动的方向。\n",
                                     "\n",
                                     "有效方向为：\n",
                                     "- `forward` (向前)\n",
                                     "- `back` (向后)\n",
                                     "- `up`（向上）\n",
                                     "- `down`（向下）\n",
                                     "\n",
                                     "`agent_place()` 函数采用一个字符串参数。它定义代理机器人移动的方向。\n",
                                     "\n",
                                     "有效方向为：\n",
                                     "- `up`（向上）\n",
                                     "- “向下”"
                                 ]
                  },
                  {
                      "cell_type":  "code",
                      "execution_count":  null,
                      "id":  "665dcd86",
                      "metadata":  {
                                       "minecraft":  {
                                                         "closeCodeBuilderOnRun":  true,
                                                         "hidden":  false,
                                                         "onCodeCancelledCommand":  "scoreboard players set @s code_status 0",
                                                         "onCodeErrorCommand":  "scoreboard players set @s code_status 0",
                                                         "onCodeStartedCommand":  "scoreboard players set @s code_status 1",
                                                         "onCodeStoppedCommand":  "scoreboard players set @s code_status 0",
                                                         "onCodeSuccessfulCommand":  "scoreboard players set @s code_status 0",
                                                         "overridePython":  "import time\n\ntimeout = 0.100\nvalid_move_directions=[\"forward\",\"back\",\"up\",\"down\"]\nvalid_place_directions=[\"up\",\"down\"]\n\ndef set_scoreboard(score):\n    _exec(f\"scoreboard players set .output global {score}\")\n\ndef agent_move(direction):\n    if direction.lower() in valid_move_directions:\n        time.sleep(timeout)            \n        agent.move(direction)\n    else:\n        player.say(f\"§cERROR: `{direction}` is not a valid direction\")\n    \ndef agent_place(direction):\n    if direction.lower() in valid_place_directions:\n        time.sleep(timeout)\n        agent.give(\"purple wool\", 1, 1)\n        agent.place(direction)\n    else:\n        player.say(f\"§cERROR: `{direction}` is not a valid direction\")\n@user-code",
                                                         "readonly":  true
                                                     }
                                   },
                      "outputs":  [

                                  ],
                      "source":  [
                                     "# 代码示例 - 你不能在这里编辑\n",
                                     "# 运行看看会发生什么\n",
                                     "\n",
                                     "agent_move(\"forward\")\n",
                                     "agent_place(\"down\")\n",
                                     "agent_move(\"forward\")\n",
                                     "agent_place(\"down\")\n",
                                     "agent_move(\"forward\")\n",
                                     "agent_place(\"down\")"
                                 ]
                  },
                  {
                      "cell_type":  "markdown",
                      "id":  "5371a5c5",
                      "metadata":  {

                                   },
                      "source":  [
                                     "# 专业提示：\n",
                                     "\n",
                                     "使用 `for` 循环多次执行一个或多个操作。"
                                 ]
                  },
                  {
                      "cell_type":  "code",
                      "execution_count":  null,
                      "id":  "17f333da",
                      "metadata":  {
                                       "minecraft":  {
                                                         "closeCodeBuilderOnRun":  true,
                                                         "hidden":  false,
                                                         "onCodeCancelledCommand":  "scoreboard players set @s code_status 0",
                                                         "onCodeErrorCommand":  "scoreboard players set @s code_status 0",
                                                         "onCodeStartedCommand":  "scoreboard players set @s code_status 1",
                                                         "onCodeStoppedCommand":  "scoreboard players set @s code_status 0",
                                                         "onCodeSuccessfulCommand":  "scoreboard players set @s code_status 0",
                                                         "overridePython":  "import time\n\ntimeout = 0.100\nvalid_move_directions=[\"forward\",\"back\",\"up\",\"down\"]\nvalid_place_directions=[\"up\",\"down\"]\n\ndef set_scoreboard(score):\n    _exec(f\"scoreboard players set .output global {score}\")\n\ndef agent_move(direction):\n    if direction.lower() in valid_move_directions:\n        time.sleep(timeout)            \n        agent.move(direction)\n    else:\n        player.say(f\"§cERROR: `{direction}` is not a valid direction\")\n    \ndef agent_place(direction):\n    if direction.lower() in valid_place_directions:\n        time.sleep(timeout)\n        agent.give(\"purple wool\", 1, 1)\n        agent.place(direction)\n    else:\n        player.say(f\"§cERROR: `{direction}` is not a valid direction\")\n@user-code",
                                                         "readonly":  true
                                                     }
                                   },
                      "outputs":  [

                                  ],
                      "source":  [
                                     "# 代码示例 - 你不能在这里编辑\n",
                                     "# 运行看看会发生什么\n",
                                     "    \n",
                                     "for i in range(3):\n",
                                     "    agent_move(\"forward\")\n",
                                     "    agent_place(\"down\")"
                                 ]
                  },
                  {
                      "cell_type":  "markdown",
                      "id":  "05009481",
                      "metadata":  {

                                   },
                      "source":  [
                                     "# 活动：\n",
                                     "\n",
                                     "建造一座桥梁，到达绿色柱子的顶端。柱子顶端比红色柱子高 4 个方块，其间距离有 8 个方块。"
                                 ]
                  },
                  {
                      "cell_type":  "code",
                      "execution_count":  null,
                      "id":  "4bb06929",
                      "metadata":  {
                                       "minecraft":  {
                                                         "closeCodeBuilderOnRun":  true,
                                                         "default_code":  "# code here\n\nfor i in range(3):\n    agent_move(\"forward\")\n    agent_place(\"down\")\n",
                                                         "hidden":  false,
                                                         "onCodeCancelledCommand":  "scoreboard players set @s code_status 0",
                                                         "onCodeErrorCommand":  "scoreboard players set @s code_status 0",
                                                         "onCodeStartedCommand":  "scoreboard players set @s code_status 1",
                                                         "onCodeStoppedCommand":  "scoreboard players set @s code_status 0",
                                                         "onCodeSuccessfulCommand":  "scoreboard players set @s code_status 0",
                                                         "overridePython":  "import time\n\ntimeout = 0.100\nvalid_move_directions=[\"forward\",\"back\",\"up\",\"down\"]\nvalid_place_directions=[\"up\",\"down\"]\n\ndef set_scoreboard(score):\n    _exec(f\"scoreboard players set .output global {score}\")\n\ndef agent_move(direction):\n    if direction.lower() in valid_move_directions:\n        time.sleep(timeout)            \n        agent.move(direction)\n    else:\n        player.say(f\"§cERROR: `{direction}` is not a valid direction\")\n    \ndef agent_place(direction):\n    if direction.lower() in valid_place_directions:\n        time.sleep(timeout)\n        agent.give(\"purple wool\", 1, 1)\n        agent.place(direction)\n    else:\n        player.say(f\"§cERROR: `{direction}` is not a valid direction\")\n@user-code",
                                                         "readonly":  false,
                                                         "resetWorldCommand":  "scoreboard players set .output global 9"
                                                     }
                                   },
                      "outputs":  [

                                  ],
                      "source":  [
                                     "# 在此编写代码\n",
                                     "    \n",
                                     "for i in range(3):\n",
                                     "    agent_move(\"forward\")\n",
                                     "    agent_place(\"down\")"
                                 ]
                  }
              ],
    "metadata":  {
                     "celltoolbar":  "Edit Metadata",
                     "kernelspec":  {
                                        "display_name":  "Python 3 (ipykernel)",
                                        "language":  "python",
                                        "name":  "python3"
                                    },
                     "language_info":  {
                                           "codemirror_mode":  {
                                                                   "name":  "ipython",
                                                                   "version":  3
                                                               },
                                           "file_extension":  ".py",
                                           "mimetype":  "text/x-python",
                                           "name":  "python",
                                           "nbconvert_exporter":  "python",
                                           "pygments_lexer":  "ipython3",
                                           "version":  "3.10.11"
                                       },
                     "minecraft":  {
                                       "description":  "编程一小时 2023",
                                       "page_id":  "1.1",
                                       "page_name":  "编程一小时 2023",
                                       "style":  "minecraft.css"
                                   }
                 },
    "nbformat":  4,
    "nbformat_minor":  5
}
