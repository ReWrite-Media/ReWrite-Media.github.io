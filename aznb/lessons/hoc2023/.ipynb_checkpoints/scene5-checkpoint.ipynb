{
 "cells": [
  {
   "cell_type": "markdown",
   "id": "c6a6a83c",
   "metadata": {},
   "source": [
    "# Agent Training\n",
    "\n",
    "The time agents have learned all the principles needed! The last step is to move them into position so they could train the main AI with everything they've learned!\n",
    "\n",
    "The four functions you'll use to move the time agents are:\n",
    "- `move_red_agent()`\n",
    "![Red Agent](img/red_agent.png \"Red Agent\")\n",
    "- `move_yellow_agent()`\n",
    "![Yellow Agent](img/yellow_agent.png \"Yellow Agent\")\n",
    "- `move_blue_agent()`\n",
    "![Blue Agent](img/blue_agent.png \"Blue Agent\")\n",
    "- `move_green_agent()`\n",
    "![Green Agent](img/green_agent.png \"Green Agent\")\n",
    "\n",
    "Each of those functions take two parameters. One defines the direction the agent will move in, and the second defines how many blocks that agent should move.\n",
    "\n",
    "Valid directions are: \n",
    "- `forward` ![Orange Arrow](img/ArrowUpOrange.png \"Orange Arrow\")\n",
    "- `back` ![Magenta Arrow](img/ArrowDownMagenta.png \"Magenta Arrow\")\n",
    "- `left` ![Blue Arrow](img/ArrowLeftBlue.png \"Blue Arrow\")\n",
    "- `right` ![Yellow Arrow](img/ArrowRightYellow.png \"Yellow Arrow\")"
   ]
  },
  {
   "cell_type": "code",
   "execution_count": null,
   "id": "665dcd86",
   "metadata": {
    "minecraft": {
     "closeCodeBuilderOnRun": true,
     "hidden": false,
     "onCodeCancelledCommand": "scoreboard players set @s code_status 0",
     "onCodeErrorCommand": "scoreboard players set @s code_status 0",
     "onCodeStartedCommand": "scoreboard players set @s code_status 1",
     "onCodeStoppedCommand": "scoreboard players set @s code_status 0",
     "onCodeSuccessfulCommand": "scoreboard players set @s code_status 0",
     "overridePython": "import time\n\ntimeout = 0.100\nvalid_directions=[\"forward\",\"back\",\"left\",\"right\"]\n\ndef set_scoreboard(score):\n    _exec(f\"scoreboard players set .output global {score}\")\n\ndef move_red_agent(direction, number):\n    if direction.lower() in valid_directions:\n        for i in range(number):\n            if direction.lower() == \"forward\":\n                time.sleep(timeout)\n                set_scoreboard(11)\n            elif direction.lower() == \"back\":\n                time.sleep(timeout)\n                set_scoreboard(12)     \n            elif direction.lower() == \"right\":\n                time.sleep(timeout)\n                set_scoreboard(13)     \n            elif direction.lower() == \"left\":\n                time.sleep(timeout)\n                set_scoreboard(14)   \n    else:\n        player.say(f\"§cERROR: `{direction}` is not a valid direction\")\n\ndef move_yellow_agent(direction, number):\n    if direction.lower() in valid_directions:\n        for i in range(number):\n            if direction.lower() == \"forward\":\n                time.sleep(timeout)\n                set_scoreboard(21)\n            elif direction.lower() == \"back\":\n                time.sleep(timeout)\n                set_scoreboard(22)     \n            elif direction.lower() == \"right\":\n                time.sleep(timeout)\n                set_scoreboard(23)     \n            elif direction.lower() == \"left\":\n                time.sleep(timeout)\n                set_scoreboard(24)\n    else:\n        player.say(f\"§cERROR: `{direction}` is not a valid direction\")\n\ndef move_blue_agent(direction, number):\n    if direction.lower() in valid_directions:\n        for i in range(number):\n            if direction.lower() == \"forward\":\n                time.sleep(timeout)\n                set_scoreboard(31)\n            elif direction.lower() == \"back\":\n                time.sleep(timeout)\n                set_scoreboard(32)     \n            elif direction.lower() == \"right\":\n                time.sleep(timeout)\n                set_scoreboard(33)     \n            elif direction.lower() == \"left\":\n                time.sleep(timeout)\n                set_scoreboard(34)\n    else:\n        player.say(f\"§cERROR: `{direction}` is not a valid direction\")\n\ndef move_green_agent(direction, number):\n    if direction.lower() in valid_directions:\n        for i in range(number):\n            if direction.lower() == \"forward\":\n                time.sleep(timeout)\n                set_scoreboard(41)\n            elif direction.lower() == \"back\":\n                time.sleep(timeout)\n                set_scoreboard(42)     \n            elif direction.lower() == \"right\":\n                time.sleep(timeout)\n                set_scoreboard(43)     \n            elif direction.lower() == \"left\":\n                time.sleep(timeout)\n                set_scoreboard(44)\n    else:\n        player.say(f\"§cERROR: `{direction}` is not a valid direction\")\n@user-code",
     "readonly": true
    }
   },
   "outputs": [],
   "source": [
    "# CODE EXAMPLE - YOU CAN NOT EDIT HERE\n",
    "# RUN IT TO SEE WHAT HAPPENS\n",
    "\n",
    "move_red_agent(\"forward\",2)\n",
    "move_red_agent(\"back\",2)\n",
    "\n",
    "move_yellow_agent(\"forward\",2)\n",
    "move_yellow_agent(\"back\",2)\n",
    "\n",
    "move_blue_agent(\"forward\",2)\n",
    "move_blue_agent(\"back\",2)\n",
    "\n",
    "move_green_agent(\"forward\",2)\n",
    "move_green_agent(\"back\",2)"
   ]
  },
  {
   "cell_type": "markdown",
   "id": "05009481",
   "metadata": {},
   "source": [
    "# Activity:\n",
    "\n",
    "Navigate the agents onto the platforms that best represent their principles."
   ]
  },
  {
   "cell_type": "code",
   "execution_count": null,
   "id": "4bb06929",
   "metadata": {
    "minecraft": {
     "closeCodeBuilderOnRun": true,
     "default_code": "move_red_agent(\"forward\",2)\nmove_red_agent(\"back\",2)\n\nmove_yellow_agent(\"forward\",2)\nmove_yellow_agent(\"back\",2)\n\nmove_blue_agent(\"forward\",2)\nmove_blue_agent(\"back\",2)\n\nmove_green_agent(\"forward\",2)\nmove_green_agent(\"back\",2)\n",
     "hidden": false,
     "onCodeCancelledCommand": "scoreboard players set @s code_status 0",
     "onCodeErrorCommand": "scoreboard players set @s code_status 0",
     "onCodeStartedCommand": "scoreboard players set @s code_status 1",
     "onCodeStoppedCommand": "scoreboard players set @s code_status 0",
     "onCodeSuccessfulCommand": "scoreboard players set @s code_status 0",
     "overridePython": "import time\n\ntimeout = 0.100\nvalid_directions=[\"forward\",\"back\",\"left\",\"right\"]\n\ndef set_scoreboard(score):\n    _exec(f\"scoreboard players set .output global {score}\")\n\ndef move_red_agent(direction, number):\n    if direction.lower() in valid_directions:\n        for i in range(number):\n            if direction.lower() == \"forward\":\n                time.sleep(timeout)\n                set_scoreboard(11)\n            elif direction.lower() == \"back\":\n                time.sleep(timeout)\n                set_scoreboard(12)     \n            elif direction.lower() == \"right\":\n                time.sleep(timeout)\n                set_scoreboard(13)     \n            elif direction.lower() == \"left\":\n                time.sleep(timeout)\n                set_scoreboard(14)   \n    else:\n        player.say(f\"§cERROR: `{direction}` is not a valid direction\")\n\ndef move_yellow_agent(direction, number):\n    if direction.lower() in valid_directions:\n        for i in range(number):\n            if direction.lower() == \"forward\":\n                time.sleep(timeout)\n                set_scoreboard(21)\n            elif direction.lower() == \"back\":\n                time.sleep(timeout)\n                set_scoreboard(22)     \n            elif direction.lower() == \"right\":\n                time.sleep(timeout)\n                set_scoreboard(23)     \n            elif direction.lower() == \"left\":\n                time.sleep(timeout)\n                set_scoreboard(24)\n    else:\n        player.say(f\"§cERROR: `{direction}` is not a valid direction\")\n\ndef move_blue_agent(direction, number):\n    if direction.lower() in valid_directions:\n        for i in range(number):\n            if direction.lower() == \"forward\":\n                time.sleep(timeout)\n                set_scoreboard(31)\n            elif direction.lower() == \"back\":\n                time.sleep(timeout)\n                set_scoreboard(32)     \n            elif direction.lower() == \"right\":\n                time.sleep(timeout)\n                set_scoreboard(33)     \n            elif direction.lower() == \"left\":\n                time.sleep(timeout)\n                set_scoreboard(34)\n    else:\n        player.say(f\"§cERROR: `{direction}` is not a valid direction\")\n\ndef move_green_agent(direction, number):\n    if direction.lower() in valid_directions:\n        for i in range(number):\n            if direction.lower() == \"forward\":\n                time.sleep(timeout)\n                set_scoreboard(41)\n            elif direction.lower() == \"back\":\n                time.sleep(timeout)\n                set_scoreboard(42)     \n            elif direction.lower() == \"right\":\n                time.sleep(timeout)\n                set_scoreboard(43)     \n            elif direction.lower() == \"left\":\n                time.sleep(timeout)\n                set_scoreboard(44)\n    else:\n        player.say(f\"§cERROR: `{direction}` is not a valid direction\")\n@user-code",
     "readonly": false,
     "resetWorldCommand": "scoreboard players set .output global 100"
    }
   },
   "outputs": [],
   "source": [
    "# code here\n",
    "\n",
    "move_red_agent(\"forward\",2)\n",
    "move_red_agent(\"back\",2)\n",
    "\n",
    "move_yellow_agent(\"forward\",2)\n",
    "move_yellow_agent(\"back\",2)\n",
    "\n",
    "move_blue_agent(\"forward\",2)\n",
    "move_blue_agent(\"back\",2)\n",
    "\n",
    "move_green_agent(\"forward\",2)\n",
    "move_green_agent(\"back\",2)"
   ]
  }
 ],
 "metadata": {
  "celltoolbar": "Edit Metadata",
  "kernelspec": {
   "display_name": "Python 3 (ipykernel)",
   "language": "python",
   "name": "python3"
  },
  "language_info": {
   "codemirror_mode": {
    "name": "ipython",
    "version": 3
   },
   "file_extension": ".py",
   "mimetype": "text/x-python",
   "name": "python",
   "nbconvert_exporter": "python",
   "pygments_lexer": "ipython3",
   "version": "3.10.11"
  },
  "minecraft": {
   "description": "HOC 2022",
   "page_id": "1.1",
   "page_name": "HOC 2022",
   "style": "minecraft.css"
  }
 },
 "nbformat": 4,
 "nbformat_minor": 5
}
