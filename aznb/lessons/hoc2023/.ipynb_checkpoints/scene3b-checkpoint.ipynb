{
 "cells": [
  {
   "cell_type": "markdown",
   "id": "c6a6a83c",
   "metadata": {},
   "source": [
    "# Bird Trouble\n",
    "\n",
    "Great news! We've successfully uncovered the hidden words. Now, we've noticed that there are two new functions in the code that might be useful. However, before we can use them, we need to input the exact location or coordinates of the dumpster. \n",
    "\n",
    "There is no need to change this code yet, instead exit the coding window and find the dumpster. \n",
    "\n",
    "## New Functions:\n",
    "\n",
    "`fly_to_dumpster()` This function will cause the birds to bring whatever trash they collect over to a dumpster. Before we could use it we must upload the cordinates by scanning a dumpster.\n",
    "\n",
    "`release_trash()` This function will make sure all trash is only dropped into the appropriate container instead of dropping it anywhere."
   ]
  },
  {
   "cell_type": "code",
   "execution_count": null,
   "id": "665dcd86",
   "metadata": {
    "minecraft": {
     "closeCodeBuilderOnRun": true,
     "hidden": false,
     "onCodeCancelledCommand": "scoreboard players set @s code_status 0",
     "onCodeErrorCommand": "scoreboard players set @s code_status 0",
     "onCodeStartedCommand": "scoreboard players set @s code_status 1",
     "onCodeStoppedCommand": "scoreboard players set @s code_status 0",
     "onCodeSuccessfulCommand": "scoreboard players set @s code_status 0",
     "overridePython": "import time\n\ntimeout = 0.100\nbattery = 0\ntrash = True\ncharging = False\n\ndef set_scoreboard(score):\n    _exec(f\"scoreboard players set .output global {score}\")\n\n\ndef search_for_trash():\n    return True\n\ndef pickup_trash():\n    set_scoreboard(1)\n\ndef move_trash():\n    set_scoreboard(2)\n\ndef drop_trash():\n    set_scoreboard(3)\n\ndef find_utility_box():\n    set_scoreboard(4)\n\ndef start_charging():\n    set_scoreboard(5)\n\ndef stop_charging():\n    set_scoreboard(6)\n\ndef continue_flight_loop():\n    set_scoreboard(7)\n\ndef fly_to_dumpster():\n    set_scoreboard(8)\n\ndef release_trash():\n    set_scoreboard(9)\n",
     "readonly": true
    }
   },
   "outputs": [],
   "source": [
    "while search_for_trash():\n",
    "    if trash == True:\n",
    "        pickup_trash()\n",
    "        move_trash()\n",
    "    if battery < 20:\n",
    "        find_utility_box()\n",
    "        start_charging()\n",
    "        while charging:\n",
    "            if battery > 80:\n",
    "                stop_charging()\n",
    "    continue_flight_loop()"
   ]
  }
 ],
 "metadata": {
  "celltoolbar": "Edit Metadata",
  "kernelspec": {
   "display_name": "Python 3 (ipykernel)",
   "language": "python",
   "name": "python3"
  },
  "language_info": {
   "codemirror_mode": {
    "name": "ipython",
    "version": 3
   },
   "file_extension": ".py",
   "mimetype": "text/x-python",
   "name": "python",
   "nbconvert_exporter": "python",
   "pygments_lexer": "ipython3",
   "version": "3.10.11"
  },
  "minecraft": {
   "description": "HOC 2023",
   "page_id": "1.1",
   "page_name": "HOC 2023",
   "style": "minecraft.css"
  }
 },
 "nbformat": 4,
 "nbformat_minor": 5
}
