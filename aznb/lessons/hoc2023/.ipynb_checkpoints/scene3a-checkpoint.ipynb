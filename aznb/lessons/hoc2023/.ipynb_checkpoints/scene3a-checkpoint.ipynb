{
 "cells": [
  {
   "cell_type": "markdown",
   "id": "c6a6a83c",
   "metadata": {},
   "source": [
    "# Bird Trouble\n",
    "\n",
    "We can't quite read the code because some of it is `obfuscated` which means unclear or obscured. Before we could fix the problem we need to decode those words. Let's follow the birds to see if we could figure out what this code is doing."
   ]
  },
  {
   "cell_type": "code",
   "execution_count": null,
   "id": "665dcd86",
   "metadata": {
    "minecraft": {
     "closeCodeBuilderOnRun": true,
     "hidden": false,
     "onCodeCancelledCommand": "scoreboard players set @s code_status 0",
     "onCodeErrorCommand": "scoreboard players set @s code_status 0",
     "onCodeStartedCommand": "scoreboard players set @s code_status 1",
     "onCodeStoppedCommand": "scoreboard players set @s code_status 0",
     "onCodeSuccessfulCommand": "scoreboard players set @s code_status 0",
     "overridePython": "import time\n\ntimeout = 0.100\nbattery = 0\nwarble = True\ncharging = False\n\ndef set_scoreboard(score):\n    _exec(f\"scoreboard players set .output global {score}\")\n\n\ndef search_for_warble():\n    return True\n\ndef pickup_warble():\n    set_scoreboard(1)\n\ndef move_warble():\n    set_scoreboard(2)\n\ndef drop_warble():\n    set_scoreboard(3)\n\ndef find_utility_box():\n    set_scoreboard(4)\n\ndef start_charging():\n    set_scoreboard(5)\n\ndef stop_charging():\n    set_scoreboard(6)\n\ndef continue_flight_loop():\n    set_scoreboard(7)\n\ndef fly_to_splonkers():\n    set_scoreboard(8)\n\ndef fluffen_warble():\n    set_scoreboard(9)\n",
     "readonly": true
    }
   },
   "outputs": [],
   "source": [
    "while search_for_warble():\n",
    "    if warble == True:\n",
    "        pickup_warble()\n",
    "        move_warble()\n",
    "        drop_warble()\n",
    "    if battery < 20:\n",
    "        find_utility_box()\n",
    "        start_charging()\n",
    "        while charging:\n",
    "            if battery > 80:\n",
    "                stop_charging()\n",
    "    continue_flight_loop()"
   ]
  }
 ],
 "metadata": {
  "celltoolbar": "Edit Metadata",
  "kernelspec": {
   "display_name": "Python 3 (ipykernel)",
   "language": "python",
   "name": "python3"
  },
  "language_info": {
   "codemirror_mode": {
    "name": "ipython",
    "version": 3
   },
   "file_extension": ".py",
   "mimetype": "text/x-python",
   "name": "python",
   "nbconvert_exporter": "python",
   "pygments_lexer": "ipython3",
   "version": "3.10.11"
  },
  "minecraft": {
   "description": "HOC 2022",
   "page_id": "1.1",
   "page_name": "HOC 2022",
   "style": "minecraft.css"
  }
 },
 "nbformat": 4,
 "nbformat_minor": 5
}
