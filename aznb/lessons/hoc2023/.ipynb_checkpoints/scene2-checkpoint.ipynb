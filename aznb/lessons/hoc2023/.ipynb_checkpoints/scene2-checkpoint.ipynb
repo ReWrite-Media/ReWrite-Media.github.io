{
 "cells": [
  {
   "cell_type": "markdown",
   "id": "c6a6a83c",
   "metadata": {},
   "source": [
    "# Lawnmower\n",
    "\n",
    "Oh no! The Smart Lawnmower isn't too smart! It's running over sprinkler heads breaking them! Read through the code and update it so the lawnmower will first check for sprinkler heads before continuing.\n",
    "\n",
    "The `cut_grass()` function makes the lawnmower mow every space it moves to.\n",
    "\n",
    "The `check_sprinkler_cut_grass()` add simple logic to the lawnmower to make it check for a sprinkler before cutting the grass.\n"
   ]
  },
  {
   "cell_type": "code",
   "execution_count": null,
   "id": "665dcd86",
   "metadata": {
    "minecraft": {
     "closeCodeBuilderOnRun": true,
     "hidden": false,
     "onCodeCancelledCommand": "scoreboard players set @s code_status 0",
     "onCodeErrorCommand": "scoreboard players set @s code_status 0",
     "onCodeStartedCommand": "scoreboard players set @s code_status 1",
     "onCodeStoppedCommand": "scoreboard players set @s code_status 0",
     "onCodeSuccessfulCommand": "scoreboard players set @s code_status 0",
     "overridePython": "import time\n\ntimeout = 0.100\nscan_types=[\"horizontal\",\"smart\"]\n\ndef set_scoreboard(score):\n    _exec(f\"scoreboard players set .output global {score}\")\n\ndef lunch_time():\n    return True\n\ndef detect_student():\n    return True\n\ndef serve_lunch():\n    set_scoreboard(3)\n\ndef wait_for_student():\n    set_scoreboard(4)\n\ndef scan(type):\n    time.sleep(timeout) \n    if type.lower() in scan_types:\n        if type.lower() == \"smart\":\n            set_scoreboard(2)\n        else:\n            set_scoreboard(1)\n    else:\n        player.say(f\"§cERROR: `{type}` is not a valid scan type\")\n\n@user-code\n@user-code",
     "readonly": true
    }
   },
   "outputs": [],
   "source": [
    "# CODE EXAMPLE - YOU CAN NOT EDIT HERE\n",
    "# RUN IT TO SEE WHAT HAPPENS\n",
    "\n",
    "for i in range(8):\n",
    "    move_lawnmower_forward()\n",
    "    cut_grass()\n",
    "    move_lawnmower_forward()\n",
    "    cut_grass()\n",
    "    move_lawnmower_forward()\n",
    "    cut_grass()\n",
    "    move_lawnmower_forward()\n",
    "    cut_grass()    \n",
    "    move_lawnmower_next_row()"
   ]
  },
  {
   "cell_type": "markdown",
   "id": "6bb4b1f6",
   "metadata": {},
   "source": [
    "# Pro Tip:\n",
    "\n",
    "You can nest `for` loops together to make it even easier. The below code has the same result as the example above."
   ]
  },
  {
   "cell_type": "code",
   "execution_count": null,
   "id": "88e95eef",
   "metadata": {
    "minecraft": {
     "closeCodeBuilderOnRun": true,
     "hidden": false,
     "onCodeCancelledCommand": "scoreboard players set @s code_status 0",
     "onCodeErrorCommand": "scoreboard players set @s code_status 0",
     "onCodeStartedCommand": "scoreboard players set @s code_status 1",
     "onCodeStoppedCommand": "scoreboard players set @s code_status 0",
     "onCodeSuccessfulCommand": "scoreboard players set @s code_status 0",
     "overridePython": "import time\n\ntimeout = 0.100\nscan_types=[\"horizontal\",\"smart\"]\n\ndef set_scoreboard(score):\n    _exec(f\"scoreboard players set .output global {score}\")\n\ndef lunch_time():\n    return True\n\ndef detect_student():\n    return True\n\ndef serve_lunch():\n    set_scoreboard(3)\n\ndef wait_for_student():\n    set_scoreboard(4)\n\ndef scan(type):\n    time.sleep(timeout) \n    if type.lower() in scan_types:\n        if type.lower() == \"smart\":\n            set_scoreboard(2)\n        else:\n            set_scoreboard(1)\n    else:\n        player.say(f\"§cERROR: `{type}` is not a valid scan type\")\n\n@user-code\n@user-code",
     "readonly": true
    }
   },
   "outputs": [],
   "source": [
    "# CODE EXAMPLE - YOU CAN NOT EDIT HERE\n",
    "# RUN IT TO SEE WHAT HAPPENS\n",
    "\n",
    "for i in range(8):\n",
    "    for i in range(4):\n",
    "        move_lawnmower_forward()\n",
    "        cut_grass()\n",
    "    move_lawnmower_next_row()"
   ]
  },
  {
   "cell_type": "markdown",
   "id": "05009481",
   "metadata": {},
   "source": [
    "# Activity:\n",
    "\n",
    "Update the code to make sure the lawnmower checks for sprinklers before mowing a block."
   ]
  },
  {
   "cell_type": "code",
   "execution_count": null,
   "id": "4bb06929",
   "metadata": {
    "minecraft": {
     "closeCodeBuilderOnRun": true,
     "default_code": "# code here\n\nfor i in range(8):\n    for i in range(4):\n        move_lawnmower_forward()\n        cut_grass()\n    move_lawnmower_next_row()\n",
     "hidden": false,
     "onCodeCancelledCommand": "scoreboard players set @s code_status 0",
     "onCodeErrorCommand": "scoreboard players set @s code_status 0",
     "onCodeStartedCommand": "scoreboard players set @s code_status 1",
     "onCodeStoppedCommand": "scoreboard players set @s code_status 0",
     "onCodeSuccessfulCommand": "scoreboard players set @s code_status 0",
     "overridePython": "import time\n\ntimeout = 0.100\nscan_types=[\"horizontal\",\"smart\"]\n\ndef set_scoreboard(score):\n    _exec(f\"scoreboard players set .output global {score}\")\n\ndef lunch_time():\n    return True\n\ndef detect_student():\n    return True\n\ndef serve_lunch():\n    set_scoreboard(3)\n\ndef wait_for_student():\n    set_scoreboard(4)\n\ndef scan(type):\n    time.sleep(timeout) \n    if type.lower() in scan_types:\n        if type.lower() == \"smart\":\n            set_scoreboard(2)\n        else:\n            set_scoreboard(1)\n    else:\n        player.say(f\"§cERROR: `{type}` is not a valid scan type\")\n\n@user-code\n@user-code",
     "readonly": false
    }
   },
   "outputs": [],
   "source": [
    "# code here\n",
    "\n",
    "for i in range(8):\n",
    "    for i in range(4):\n",
    "        move_lawnmower_forward()\n",
    "        cut_grass()\n",
    "    move_lawnmower_next_row()"
   ]
  }
 ],
 "metadata": {
  "celltoolbar": "Edit Metadata",
  "kernelspec": {
   "display_name": "Python 3 (ipykernel)",
   "language": "python",
   "name": "python3"
  },
  "language_info": {
   "codemirror_mode": {
    "name": "ipython",
    "version": 3
   },
   "file_extension": ".py",
   "mimetype": "text/x-python",
   "name": "python",
   "nbconvert_exporter": "python",
   "pygments_lexer": "ipython3",
   "version": "3.10.11"
  },
  "minecraft": {
   "description": "HOC 2022",
   "page_id": "1.1",
   "page_name": "HOC 2022",
   "style": "minecraft.css"
  }
 },
 "nbformat": 4,
 "nbformat_minor": 5
}
