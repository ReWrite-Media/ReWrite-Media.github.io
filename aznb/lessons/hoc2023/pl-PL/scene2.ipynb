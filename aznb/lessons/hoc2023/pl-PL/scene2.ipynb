﻿{
    "cells":  [
                  {
                      "cell_type":  "markdown",
                      "id":  "c6a6a83c",
                      "metadata":  {

                                   },
                      "source":  [
                                     "# Kosiarka\n",
                                     "\n",
                                     "O nie! Inteligentna kosiarka nie działa poprawnie. Uszkadza zraszacze. Przejrzyj kod i dokonaj zmian, aby przed rozpoczęciem koszenia trawy kosiarka sprawdzała, czy na jej drodze znajdują się zraszacze. \n",
                                     "\n",
                                     "Funkcja „cut_grass()” powoduje, że kosiarka kosi trawę na znajdującym się pod nią bloku. Zastąpienie jej funkcją „check_sprinkler_cut_grass()” spowoduje, że przed rozpoczęciem koszenia trawy kosiarka będzie sprawdzać, czy na drodze znajduje się zraszacz. "
                                 ]
                  },
                  {
                      "cell_type":  "code",
                      "execution_count":  null,
                      "id":  "665dcd86",
                      "metadata":  {
                                       "minecraft":  {
                                                         "closeCodeBuilderOnRun":  true,
                                                         "hidden":  false,
                                                         "onCodeCancelledCommand":  "scoreboard players set @s code_status 0",
                                                         "onCodeErrorCommand":  "scoreboard players set @s code_status 0",
                                                         "onCodeStartedCommand":  "scoreboard players set @s code_status 1",
                                                         "onCodeStoppedCommand":  "scoreboard players set @s code_status 0",
                                                         "onCodeSuccessfulCommand":  "scoreboard players set @s code_status 0",
                                                         "overridePython":  "import time\n\ntimeout = 0.100\n\ndef set_scoreboard(score):\n    _exec(f\"scoreboard players set .output global {score}\")\n\ndef move_lawnmower_next_row():\n    time.sleep(timeout)  \n    set_scoreboard(3)\n    time.sleep(timeout)  \n    set_scoreboard(4)\n\ndef move_lawnmower_forward():\n    time.sleep(timeout)  \n    set_scoreboard(3)\n\ndef cut_grass():\n    time.sleep(timeout)  \n    set_scoreboard(1)\n\ndef check_sprinkler_cut_grass():\n    time.sleep(timeout)  \n    set_scoreboard(2)\n\n@user-code",
                                                         "readonly":  true
                                                     }
                                   },
                      "outputs":  [

                                  ],
                      "source":  [
                                     "# PRZYKŁAD KODU - TUTAJ NIE MOŻNA EDYTOWAĆ\n",
                                     "# URUCHOM GO, ABY ZOBACZYĆ, CO SIĘ STANIE\n",
                                     "\n",
                                     "for i in range(8):\n",
                                     "    move_lawnmower_forward()\n",
                                     "    cut_grass()\n",
                                     "    move_lawnmower_forward()\n",
                                     "    cut_grass()\n",
                                     "    move_lawnmower_forward()\n",
                                     "    cut_grass()\n",
                                     "    move_lawnmower_next_row()"
                                 ]
                  },
                  {
                      "cell_type":  "markdown",
                      "id":  "6bb4b1f6",
                      "metadata":  {

                                   },
                      "source":  [
                                     "# Pro tip:\n",
                                     "\n",
                                     "Możesz zagnieżdżać pętle „for”, aby jeszcze bardziej wszystko uprościć. Poniższy kod zapewnia ten sam wynik, co przykład powyżej."
                                 ]
                  },
                  {
                      "cell_type":  "code",
                      "execution_count":  null,
                      "id":  "88e95eef",
                      "metadata":  {
                                       "minecraft":  {
                                                         "closeCodeBuilderOnRun":  true,
                                                         "hidden":  false,
                                                         "onCodeCancelledCommand":  "scoreboard players set @s code_status 0",
                                                         "onCodeErrorCommand":  "scoreboard players set @s code_status 0",
                                                         "onCodeStartedCommand":  "scoreboard players set @s code_status 1",
                                                         "onCodeStoppedCommand":  "scoreboard players set @s code_status 0",
                                                         "onCodeSuccessfulCommand":  "scoreboard players set @s code_status 0",
                                                         "overridePython":  "import time\n\ntimeout = 0.100\n\ndef set_scoreboard(score):\n    _exec(f\"scoreboard players set .output global {score}\")\n\ndef move_lawnmower_next_row():\n    time.sleep(timeout)  \n    set_scoreboard(3)\n    time.sleep(timeout)  \n    set_scoreboard(4)\n\ndef move_lawnmower_forward():\n    time.sleep(timeout)  \n    set_scoreboard(3)\n\ndef cut_grass():\n    time.sleep(timeout)  \n    set_scoreboard(1)\n\ndef check_sprinkler_cut_grass():\n    time.sleep(timeout)  \n    set_scoreboard(2)\n\n@user-code",
                                                         "readonly":  true
                                                     }
                                   },
                      "outputs":  [

                                  ],
                      "source":  [
                                     "# PRZYKŁAD KODU - TUTAJ NIE MOŻNA EDYTOWAĆ\n",
                                     "# URUCHOM GO, ABY ZOBACZYĆ, CO SIĘ STANIE\n",
                                     "\n",
                                     "for i in range(8):\n",
                                     "    for i in range(3):\n",
                                     "        move_lawnmower_forward()\n",
                                     "        cut_grass()\n",
                                     "    move_lawnmower_next_row()"
                                 ]
                  },
                  {
                      "cell_type":  "markdown",
                      "id":  "05009481",
                      "metadata":  {

                                   },
                      "source":  [
                                     "# Działanie:\n",
                                     "\n",
                                     "Zaktualizuj kod, aby kosiarka sprawdzała przed skoszeniem trawy, czy na bloku znajduje się zraszacz."
                                 ]
                  },
                  {
                      "cell_type":  "code",
                      "execution_count":  null,
                      "id":  "4bb06929",
                      "metadata":  {
                                       "minecraft":  {
                                                         "closeCodeBuilderOnRun":  true,
                                                         "default_code":  "# code here\n\nfor i in range(8):\n    for i in range(3):\n        move_lawnmower_forward()\n        cut_grass()\n    move_lawnmower_next_row()\n",
                                                         "hidden":  false,
                                                         "onCodeCancelledCommand":  "scoreboard players set @s code_status 0",
                                                         "onCodeErrorCommand":  "scoreboard players set @s code_status 0",
                                                         "onCodeStartedCommand":  "scoreboard players set @s code_status 1",
                                                         "onCodeStoppedCommand":  "scoreboard players set @s code_status 0",
                                                         "onCodeSuccessfulCommand":  "scoreboard players set @s code_status 0",
                                                         "overridePython":  "import time\n\ntimeout = 0.100\n\ndef set_scoreboard(score):\n    _exec(f\"scoreboard players set .output global {score}\")\n\ndef move_lawnmower_next_row():\n    time.sleep(timeout)  \n    set_scoreboard(3)\n    time.sleep(timeout)  \n    set_scoreboard(4)\n\ndef move_lawnmower_forward():\n    time.sleep(timeout)  \n    set_scoreboard(3)\n\ndef cut_grass():\n    time.sleep(timeout)  \n    set_scoreboard(1)\n\ndef check_sprinkler_cut_grass():\n    time.sleep(timeout)  \n    set_scoreboard(2)\n\n@user-code",
                                                         "readonly":  false
                                                     }
                                   },
                      "outputs":  [

                                  ],
                      "source":  [
                                     "# kod tutaj\n",
                                     "\n",
                                     "for i in range(8):\n",
                                     "    for i in range(3):\n",
                                     "        move_lawnmower_forward()\n",
                                     "        cut_grass()\n",
                                     "    move_lawnmower_next_row()"
                                 ]
                  }
              ],
    "metadata":  {
                     "celltoolbar":  "Edit Metadata",
                     "kernelspec":  {
                                        "display_name":  "Python 3 (ipykernel)",
                                        "language":  "python",
                                        "name":  "python3"
                                    },
                     "language_info":  {
                                           "codemirror_mode":  {
                                                                   "name":  "ipython",
                                                                   "version":  3
                                                               },
                                           "file_extension":  ".py",
                                           "mimetype":  "text/x-python",
                                           "name":  "python",
                                           "nbconvert_exporter":  "python",
                                           "pygments_lexer":  "ipython3",
                                           "version":  "3.10.11"
                                       },
                     "minecraft":  {
                                       "description":  "GK 2023",
                                       "page_id":  "1.1",
                                       "page_name":  "GK 2023",
                                       "style":  "minecraft.css"
                                   }
                 },
    "nbformat":  4,
    "nbformat_minor":  5
}
