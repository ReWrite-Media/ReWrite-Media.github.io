﻿{
    "cells":  [
                  {
                      "cell_type":  "markdown",
                      "id":  "c6a6a83c",
                      "metadata":  {

                                   },
                      "source":  [
                                     "# Kuş Belası\n",
                                     "\n",
                                     "Harika haber! Gizli kelimeleri başarıyla ortaya çıkardık. Kodda yararlı olabilecek iki yeni fonksiyonun olduğunu fark ettik. Ancak bunları kullanmadan önce çöp kutusunun tam yerini veya koordinatlarını girmemiz gerek. \n",
                                     "\n",
                                     "Henüz bu kodu değiştirmeye gerek yok, bunun yerine kodlama penceresinden çıkıp çöp kutusunu bulun. \n",
                                     "\n",
                                     "## Yeni Fonksiyonlar:\n",
                                     "\n",
                                     "`fly_to_dumpster()` Bu fonksiyon, kuşların topladıkları çöpleri çöp kutusuna taşımasını sağlayacak. Kullanmadan önce bir çöp kutusunu tarayarak koordinatları yüklememiz gerek.\n",
                                     "\n",
                                     "`release_trash()` Bu fonksiyon, tüm çöplerin herhangi bir yere değil, yalnızca uygun bir kutuya bırakılmasını sağlayacak."
                                 ]
                  },
                  {
                      "cell_type":  "code",
                      "execution_count":  null,
                      "id":  "665dcd86",
                      "metadata":  {
                                       "minecraft":  {
                                                         "closeCodeBuilderOnRun":  true,
                                                         "hidden":  false,
                                                         "onCodeCancelledCommand":  "scoreboard players set @s code_status 0",
                                                         "onCodeErrorCommand":  "scoreboard players set @s code_status 0",
                                                         "onCodeStartedCommand":  "scoreboard players set @s code_status 1",
                                                         "onCodeStoppedCommand":  "scoreboard players set @s code_status 0",
                                                         "onCodeSuccessfulCommand":  "scoreboard players set @s code_status 0",
                                                         "overridePython":  "import time\n\ntimeout = 0.100\nbattery = 0\ntrash = True\ncharging = False\n\ndef set_scoreboard(score):\n    _exec(f\"scoreboard players set .output global {score}\")\n\n\ndef search_for_trash():\n    return True\n\ndef pickup_trash():\n    set_scoreboard(1)\n\ndef move_trash():\n    set_scoreboard(2)\n\ndef drop_trash():\n    set_scoreboard(3)\n\ndef find_utility_box():\n    set_scoreboard(4)\n\ndef start_charging():\n    set_scoreboard(5)\n\ndef stop_charging():\n    set_scoreboard(6)\n\ndef continue_flight_loop():\n    set_scoreboard(7)\n\ndef fly_to_dumpster():\n    set_scoreboard(8)\n\ndef release_trash():\n    set_scoreboard(9)\n",
                                                         "readonly":  true
                                                     }
                                   },
                      "outputs":  [

                                  ],
                      "source":  [
                                     "while search_for_trash():\n",
                                     "    if trash == True:\n",
                                     "        pickup_trash()\n",
                                     "        move_trash()\n",
                                     "    if battery \u003c 20:\n",
                                     "        find_utility_box()\n",
                                     "        start_charging()\n",
                                     "        while charging:\n",
                                     "            if battery \u003e 80:\n",
                                     "                stop_charging()\n",
                                     "    continue_flight_loop()"
                                 ]
                  }
              ],
    "metadata":  {
                     "celltoolbar":  "Edit Metadata",
                     "kernelspec":  {
                                        "display_name":  "Python 3 (ipykernel)",
                                        "language":  "python",
                                        "name":  "python3"
                                    },
                     "language_info":  {
                                           "codemirror_mode":  {
                                                                   "name":  "ipython",
                                                                   "version":  3
                                                               },
                                           "file_extension":  ".py",
                                           "mimetype":  "text/x-python",
                                           "name":  "python",
                                           "nbconvert_exporter":  "python",
                                           "pygments_lexer":  "ipython3",
                                           "version":  "3.10.11"
                                       },
                     "minecraft":  {
                                       "description":  "HOC 2023",
                                       "page_id":  "1.1",
                                       "page_name":  "HOC 2023",
                                       "style":  "minecraft.css"
                                   }
                 },
    "nbformat":  4,
    "nbformat_minor":  5
}
