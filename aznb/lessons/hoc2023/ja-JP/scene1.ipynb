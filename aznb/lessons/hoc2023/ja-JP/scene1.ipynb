﻿{
    "cells":  [
                  {
                      "cell_type":  "markdown",
                      "id":  "c6a6a83c",
                      "metadata":  {

                                   },
                      "source":  [
                                     "# 食べ物自動販売機\n",
                                     "\n",
                                     "食べ物自動販売機は一部の学生を検知できません。コードを見直して、すべての学生を識別できるようにしましょう。\n",
                                     "\n",
                                     "食べ物自動販売機が人物を検出する方法を制御する関数である、`scan()` 関数に注目してください。関数はパラメーターとして 1 つの文字列を取り、– `horizontal` または `smart` の 2 つの設定があります。\n",
                                     "\n",
                                     "有効なスキャンの種類: \n",
                                     "- `horizontal`\n",
                                     "- `smart`"
                                 ]
                  },
                  {
                      "cell_type":  "code",
                      "execution_count":  null,
                      "id":  "665dcd86",
                      "metadata":  {
                                       "minecraft":  {
                                                         "closeCodeBuilderOnRun":  true,
                                                         "hidden":  false,
                                                         "onCodeCancelledCommand":  "scoreboard players set @s code_status 0",
                                                         "onCodeErrorCommand":  "scoreboard players set @s code_status 0",
                                                         "onCodeStartedCommand":  "scoreboard players set @s code_status 1",
                                                         "onCodeStoppedCommand":  "scoreboard players set @s code_status 0",
                                                         "onCodeSuccessfulCommand":  "scoreboard players set @s code_status 0",
                                                         "overridePython":  "import time\n\ntimeout = 0.100\nscan_types=[\"horizontal\",\"smart\"]\n\ndef set_scoreboard(score):\n    _exec(f\"scoreboard players set .output global {score}\")\n\ndef lunch_time():\n    return True\n\ndef detect_student():\n    return True\n\ndef serve_lunch():\n    time.sleep(timeout)\n    set_scoreboard(3)\n\ndef wait_for_student():\n    time.sleep(timeout)\n    set_scoreboard(4)\n\ndef scan(scan_type):\n    time.sleep(timeout) \n    if scan_type.lower() in scan_types:\n        if scan_type.lower() == \"smart\":\n            set_scoreboard(2)\n        else:\n            set_scoreboard(1)\n    else:\n        player.say(f\"§cERROR: `{scan_type}` is not a valid scan type\")\n@user-code",
                                                         "readonly":  true
                                                     }
                                   },
                      "outputs":  [

                                  ],
                      "source":  [
                                     "# コード例 - ここは編集できません\n",
                                     "# 実行して、何が起きるか確認してみましょう\n",
                                     "\n",
                                     "while lunch_time():\n",
                                     "    scan(\"horizontal\")\n",
                                     "    if detect_student():\n",
                                     "        serve_lunch()\n",
                                     "    wait_for_student()"
                                 ]
                  },
                  {
                      "cell_type":  "markdown",
                      "id":  "05009481",
                      "metadata":  {

                                   },
                      "source":  [
                                     "# アクティビティー:\n",
                                     "\n",
                                     "コードを更新して、スキャンの種類を `horizontal` から `smart` に変更します"
                                 ]
                  },
                  {
                      "cell_type":  "code",
                      "execution_count":  null,
                      "id":  "4bb06929",
                      "metadata":  {
                                       "minecraft":  {
                                                         "closeCodeBuilderOnRun":  true,
                                                         "default_code":  "# code here\n\nwhile lunch_time():\n    scan(\"horizontal\")\n    if detect_student():\n        serve_lunch()\n    wait_for_student()\n",
                                                         "hidden":  false,
                                                         "onCodeCancelledCommand":  "scoreboard players set @s code_status 0",
                                                         "onCodeErrorCommand":  "scoreboard players set @s code_status 0",
                                                         "onCodeStartedCommand":  "scoreboard players set @s code_status 1",
                                                         "onCodeStoppedCommand":  "scoreboard players set @s code_status 0",
                                                         "onCodeSuccessfulCommand":  "scoreboard players set @s code_status 0",
                                                         "overridePython":  "import time\n\ntimeout = 0.100\nscan_types=[\"horizontal\",\"smart\"]\n\ndef set_scoreboard(score):\n    _exec(f\"scoreboard players set .output global {score}\")\n\ndef lunch_time():\n    return True\n\ndef detect_student():\n    return True\n\ndef serve_lunch():\n    time.sleep(timeout)\n    set_scoreboard(3)\n\ndef wait_for_student():\n    time.sleep(timeout)\n    set_scoreboard(4)\n\ndef scan(scan_type):\n    time.sleep(timeout) \n    if scan_type.lower() in scan_types:\n        if scan_type.lower() == \"smart\":\n            set_scoreboard(2)\n        else:\n            set_scoreboard(1)\n    else:\n        player.say(f\"§cERROR: `{scan_type}` is not a valid scan type\")\n@user-code",
                                                         "readonly":  false
                                                     }
                                   },
                      "outputs":  [

                                  ],
                      "source":  [
                                     "#コードは以下\n",
                                     "\n",
                                     "while lunch_time():\n",
                                     "    scan(\"horizontal\")\n",
                                     "    if detect_student():\n",
                                     "        serve_lunch()\n",
                                     "    wait_for_student()"
                                 ]
                  }
              ],
    "metadata":  {
                     "celltoolbar":  "Edit Metadata",
                     "kernelspec":  {
                                        "display_name":  "Python 3 (ipykernel)",
                                        "language":  "python",
                                        "name":  "python3"
                                    },
                     "language_info":  {
                                           "codemirror_mode":  {
                                                                   "name":  "ipython",
                                                                   "version":  3
                                                               },
                                           "file_extension":  ".py",
                                           "mimetype":  "text/x-python",
                                           "name":  "python",
                                           "nbconvert_exporter":  "python",
                                           "pygments_lexer":  "ipython3",
                                           "version":  "3.10.11"
                                       },
                     "minecraft":  {
                                       "description":  "HOC 2023",
                                       "page_id":  "1.1",
                                       "page_name":  "HOC 2023",
                                       "style":  "minecraft.css"
                                   }
                 },
    "nbformat":  4,
    "nbformat_minor":  5
}
