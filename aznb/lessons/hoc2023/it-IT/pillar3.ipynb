﻿{
    "cells":  [
                  {
                      "cell_type":  "markdown",
                      "id":  "c6a6a83c",
                      "metadata":  {

                                   },
                      "source":  [
                                     "# Pilastro verde\n",
                                     "\n",
                                     "Usa il codice per superare il vuoto e raggiungere il pilastro verde. Hai accesso a due funzioni. \u0027agent_move()\u0027 e \u0027agent_place()\u0027\n",
                                     "\n",
                                     "La funzione \u0027agent_move()\u0027 accetta come parametro una stringa. Definisce la direzione verso la quale l\u0027agente deve muoversi.\n",
                                     "\n",
                                     "Le direzioni valide sono: \n",
                                     "- `forward` (avanti)\n",
                                     "- `back` (indietro)\n",
                                     "- `su`\n",
                                     "- `giù`\n",
                                     "\n",
                                     "La funzione \u0027agent_place()\u0027 accetta come parametro una stringa. Definisce la direzione verso la quale l\u0027agente deve muoversi.\n",
                                     "\n",
                                     "Le direzioni valide sono: \n",
                                     "- `su`\n",
                                     "- `giù`"
                                 ]
                  },
                  {
                      "cell_type":  "code",
                      "execution_count":  null,
                      "id":  "665dcd86",
                      "metadata":  {
                                       "minecraft":  {
                                                         "closeCodeBuilderOnRun":  true,
                                                         "hidden":  false,
                                                         "onCodeCancelledCommand":  "scoreboard players set @s code_status 0",
                                                         "onCodeErrorCommand":  "scoreboard players set @s code_status 0",
                                                         "onCodeStartedCommand":  "scoreboard players set @s code_status 1",
                                                         "onCodeStoppedCommand":  "scoreboard players set @s code_status 0",
                                                         "onCodeSuccessfulCommand":  "scoreboard players set @s code_status 0",
                                                         "overridePython":  "import time\n\ntimeout = 0.100\nvalid_move_directions=[\"forward\",\"back\",\"up\",\"down\"]\nvalid_place_directions=[\"up\",\"down\"]\n\ndef set_scoreboard(score):\n    _exec(f\"scoreboard players set .output global {score}\")\n\ndef agent_move(direction):\n    if direction.lower() in valid_move_directions:\n        time.sleep(timeout)            \n        agent.move(direction)\n    else:\n        player.say(f\"§cERROR: `{direction}` is not a valid direction\")\n    \ndef agent_place(direction):\n    if direction.lower() in valid_place_directions:\n        time.sleep(timeout)\n        agent.give(\"purple wool\", 1, 1)\n        agent.place(direction)\n    else:\n        player.say(f\"§cERROR: `{direction}` is not a valid direction\")\n@user-code",
                                                         "readonly":  true
                                                     }
                                   },
                      "outputs":  [

                                  ],
                      "source":  [
                                     "# ESEMPIO DI CODICE - NON È POSSIBILE MODIFICARLO QUI\n",
                                     "# ESEGUILO PER VEDERE COSA ACCADE\n",
                                     "\n",
                                     "agent_move(\"forward\")\n",
                                     "agent_place(\"down\")\n",
                                     "agent_move(\"forward\")\n",
                                     "agent_place(\"down\")\n",
                                     "agent_move(\"forward\")\n",
                                     "agent_place(\"down\")"
                                 ]
                  },
                  {
                      "cell_type":  "markdown",
                      "id":  "5371a5c5",
                      "metadata":  {

                                   },
                      "source":  [
                                     "# Per esperti:\n",
                                     "\n",
                                     "Utilizza un loop `for` per eseguire più volte una o più operazioni."
                                 ]
                  },
                  {
                      "cell_type":  "code",
                      "execution_count":  null,
                      "id":  "17f333da",
                      "metadata":  {
                                       "minecraft":  {
                                                         "closeCodeBuilderOnRun":  true,
                                                         "hidden":  false,
                                                         "onCodeCancelledCommand":  "scoreboard players set @s code_status 0",
                                                         "onCodeErrorCommand":  "scoreboard players set @s code_status 0",
                                                         "onCodeStartedCommand":  "scoreboard players set @s code_status 1",
                                                         "onCodeStoppedCommand":  "scoreboard players set @s code_status 0",
                                                         "onCodeSuccessfulCommand":  "scoreboard players set @s code_status 0",
                                                         "overridePython":  "import time\n\ntimeout = 0.100\nvalid_move_directions=[\"forward\",\"back\",\"up\",\"down\"]\nvalid_place_directions=[\"up\",\"down\"]\n\ndef set_scoreboard(score):\n    _exec(f\"scoreboard players set .output global {score}\")\n\ndef agent_move(direction):\n    if direction.lower() in valid_move_directions:\n        time.sleep(timeout)            \n        agent.move(direction)\n    else:\n        player.say(f\"§cERROR: `{direction}` is not a valid direction\")\n    \ndef agent_place(direction):\n    if direction.lower() in valid_place_directions:\n        time.sleep(timeout)\n        agent.give(\"purple wool\", 1, 1)\n        agent.place(direction)\n    else:\n        player.say(f\"§cERROR: `{direction}` is not a valid direction\")\n@user-code",
                                                         "readonly":  true
                                                     }
                                   },
                      "outputs":  [

                                  ],
                      "source":  [
                                     "# ESEMPIO DI CODICE - NON È POSSIBILE MODIFICARLO QUI\n",
                                     "# ESEGUILO PER VEDERE COSA ACCADE\n",
                                     "    \n",
                                     "for i in range(3):\n",
                                     "    agent_move(\"forward\")\n",
                                     "    agent_place(\"down\")"
                                 ]
                  },
                  {
                      "cell_type":  "markdown",
                      "id":  "05009481",
                      "metadata":  {

                                   },
                      "source":  [
                                     "# Attività:\n",
                                     "\n",
                                     "Costruisci un ponte per raggiungere la cima del pilastro verde. La cima del pilastro è di 4 blocchi più alta rispetto a quella del pilastro rosso e si trova a 8 blocchi di distanza."
                                 ]
                  },
                  {
                      "cell_type":  "code",
                      "execution_count":  null,
                      "id":  "4bb06929",
                      "metadata":  {
                                       "minecraft":  {
                                                         "closeCodeBuilderOnRun":  true,
                                                         "default_code":  "# code here\n\nfor i in range(3):\n    agent_move(\"forward\")\n    agent_place(\"down\")\n",
                                                         "hidden":  false,
                                                         "onCodeCancelledCommand":  "scoreboard players set @s code_status 0",
                                                         "onCodeErrorCommand":  "scoreboard players set @s code_status 0",
                                                         "onCodeStartedCommand":  "scoreboard players set @s code_status 1",
                                                         "onCodeStoppedCommand":  "scoreboard players set @s code_status 0",
                                                         "onCodeSuccessfulCommand":  "scoreboard players set @s code_status 0",
                                                         "overridePython":  "import time\n\ntimeout = 0.100\nvalid_move_directions=[\"forward\",\"back\",\"up\",\"down\"]\nvalid_place_directions=[\"up\",\"down\"]\n\ndef set_scoreboard(score):\n    _exec(f\"scoreboard players set .output global {score}\")\n\ndef agent_move(direction):\n    if direction.lower() in valid_move_directions:\n        time.sleep(timeout)            \n        agent.move(direction)\n    else:\n        player.say(f\"§cERROR: `{direction}` is not a valid direction\")\n    \ndef agent_place(direction):\n    if direction.lower() in valid_place_directions:\n        time.sleep(timeout)\n        agent.give(\"purple wool\", 1, 1)\n        agent.place(direction)\n    else:\n        player.say(f\"§cERROR: `{direction}` is not a valid direction\")\n@user-code",
                                                         "readonly":  false,
                                                         "resetWorldCommand":  "scoreboard players set .output global 9"
                                                     }
                                   },
                      "outputs":  [

                                  ],
                      "source":  [
                                     "# codice qui\n",
                                     "    \n",
                                     "for i in range(3):\n",
                                     "    agent_move(\"forward\")\n",
                                     "    agent_place(\"down\")"
                                 ]
                  }
              ],
    "metadata":  {
                     "celltoolbar":  "Edit Metadata",
                     "kernelspec":  {
                                        "display_name":  "Python 3 (ipykernel)",
                                        "language":  "python",
                                        "name":  "python3"
                                    },
                     "language_info":  {
                                           "codemirror_mode":  {
                                                                   "name":  "ipython",
                                                                   "version":  3
                                                               },
                                           "file_extension":  ".py",
                                           "mimetype":  "text/x-python",
                                           "name":  "python",
                                           "nbconvert_exporter":  "python",
                                           "pygments_lexer":  "ipython3",
                                           "version":  "3.10.11"
                                       },
                     "minecraft":  {
                                       "description":  "OdC 2023",
                                       "page_id":  "1.1",
                                       "page_name":  "OdC 2023",
                                       "style":  "minecraft.css"
                                   }
                 },
    "nbformat":  4,
    "nbformat_minor":  5
}
