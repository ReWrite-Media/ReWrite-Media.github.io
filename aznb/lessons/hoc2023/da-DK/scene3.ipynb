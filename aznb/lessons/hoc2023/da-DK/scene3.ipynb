﻿{
    "cells":  [
                  {
                      "cell_type":  "markdown",
                      "id":  "c6a6a83c",
                      "metadata":  {

                                   },
                      "source":  [
                                     "# Fugleproblemer\n",
                                     "\n",
                                     "Nu har vi afkodet budskabet, og det ser ud til, at fuglene bliver bedt om at flytte affald, men der er ingen steder at gøre af det. Så lad os ændre instruktionerne i koden. I stedet for at flytte affaldet vil vi få fuglene til at flyve hen til en affaldscontainer, og smide affaldet der. \n",
                                     "\n",
                                     "Udskift funktionen `move_trash()` med funktionen `fly_to_dumpster()` efterfulgt af funktionen `release_trash()`.\n",
                                     "\n",
                                     "## Nye funktioner:\n",
                                     "\n",
                                     "`fly_to_dumpster()` Denne funktion får fuglene til at flyve til den affaldscontainer, du indlæste koordinaterne for.\n",
                                     "\n",
                                     "`release_trash()` Denne funktion sørger for, at alt affald kun smides i den passende beholder i stedet for at smide det overalt."
                                 ]
                  },
                  {
                      "cell_type":  "code",
                      "execution_count":  null,
                      "id":  "665dcd86",
                      "metadata":  {
                                       "minecraft":  {
                                                         "closeCodeBuilderOnRun":  true,
                                                         "default_code":  "# code here\n\nwhile search_for_trash():\n    if trash == True:\n        pickup_trash()\n        move_trash()\n    if battery \u003c 20:\n        find_utility_box()\n        start_charging()\n        while charging:\n            if battery \u003e 80:\n                stop_charging()\n    continue_flight_loop()\n",
                                                         "hidden":  false,
                                                         "onCodeCancelledCommand":  "scoreboard players set @s code_status 0",
                                                         "onCodeErrorCommand":  "scoreboard players set @s code_status 0",
                                                         "onCodeStartedCommand":  "scoreboard players set @s code_status 1",
                                                         "onCodeStoppedCommand":  "scoreboard players set @s code_status 0",
                                                         "onCodeSuccessfulCommand":  "scoreboard players set @s code_status 0",
                                                         "overridePython":  "import time\n\ntimeout = 0.100\nbattery = 0\ntrash = True\ncharging = False\n\ndef set_scoreboard(score):\n    _exec(f\"scoreboard players set .output global {score}\")\n\n\ndef search_for_trash():\n    return True\n\ndef pickup_trash():\n    time.sleep(timeout)\n    set_scoreboard(1)\n\ndef move_trash():\n    time.sleep(timeout)\n    set_scoreboard(2)\n\ndef drop_trash():\n    time.sleep(timeout)\n    set_scoreboard(3)\n\ndef find_utility_box():\n    time.sleep(timeout)\n    set_scoreboard(4)\n\ndef start_charging():\n    time.sleep(timeout)\n    set_scoreboard(5)\n\ndef stop_charging():\n    time.sleep(timeout)\n    set_scoreboard(6)\n\ndef continue_flight_loop():\n    time.sleep(timeout)\n    set_scoreboard(7)\n\ndef fly_to_dumpster():\n    time.sleep(timeout)\n    set_scoreboard(8)\n\ndef release_trash():\n    time.sleep(timeout)\n    set_scoreboard(9)\n@user-code",
                                                         "readonly":  false
                                                     }
                                   },
                      "outputs":  [

                                  ],
                      "source":  [
                                     "# kod her\n",
                                     "\n",
                                     "while search_for_trash():\n",
                                     "    if trash == True:\n",
                                     "        pickup_trash()\n",
                                     "        move_trash()\n",
                                     "    if battery \u003c 20:\n",
                                     "        find_utility_box()\n",
                                     "        start_charging()\n",
                                     "        while charging:\n",
                                     "            if battery \u003e 80:\n",
                                     "                stop_charging()\n",
                                     "    continue_flight_loop()"
                                 ]
                  }
              ],
    "metadata":  {
                     "celltoolbar":  "Edit Metadata",
                     "kernelspec":  {
                                        "display_name":  "Python 3 (ipykernel)",
                                        "language":  "python",
                                        "name":  "python3"
                                    },
                     "language_info":  {
                                           "codemirror_mode":  {
                                                                   "name":  "ipython",
                                                                   "version":  3
                                                               },
                                           "file_extension":  ".py",
                                           "mimetype":  "text/x-python",
                                           "name":  "python",
                                           "nbconvert_exporter":  "python",
                                           "pygments_lexer":  "ipython3",
                                           "version":  "3.10.11"
                                       },
                     "minecraft":  {
                                       "description":  "HOC 2023",
                                       "page_id":  "1.1",
                                       "page_name":  "HOC 2023",
                                       "style":  "minecraft.css"
                                   }
                 },
    "nbformat":  4,
    "nbformat_minor":  5
}
