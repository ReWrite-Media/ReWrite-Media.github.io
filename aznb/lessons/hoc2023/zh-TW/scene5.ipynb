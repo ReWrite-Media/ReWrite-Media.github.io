﻿{
    "cells":  [
                  {
                      "cell_type":  "markdown",
                      "id":  "c6a6a83c",
                      "metadata":  {

                                   },
                      "source":  [
                                     "# 特務訓練\n",
                                     "\n",
                                     "時間特務現在已精通所有重要的原則！最後的步驟是要將他們放在正確的位置，這樣他們就可以將他們所學到的教給主要 AI！\n",
                                     "\n",
                                     "四個可以移動時間探特務的函數為：\n",
                                     "- `match_blue_agent()`\n",
                                     "![藍色特務](img/blue_agent.png \"藍色特務\")\n",
                                     "- `match_green_agent()`\n",
                                     "![綠色特務](img/green_agent.png \"綠色特務\")\n",
                                     "- `match_yellow_agent()`\n",
                                     "![黃色特務](img/yellow_agent.png \"黃色特務\")\n",
                                     "- `match_red_agent()`\n",
                                     "![紅色特務](img/red_agent.png \"紅色特務\")\n",
                                     "\n",
                                     "這些函數每一個都接受一個代表其目的地的參數。\n",
                                     "\n",
                                     "有效目的地為： \n",
                                     "- `1` ![Fairness_Inclusiveness](img/fairness_inclusiveness.png \"公平與包容\")\n",
                                     "- `2` ![Reliability_Safety](img/reliability_safety.png \"可靠與安全\")\n",
                                     "- `3` ![Transparence_Accountability](img/transparency_accountabilty.png \"透明與問責\")\n",
                                     "- `4` ![Privacy_Security](img/privacy_security.png \"隱私與安全\")"
                                 ]
                  },
                  {
                      "cell_type":  "markdown",
                      "id":  "05009481",
                      "metadata":  {

                                   },
                      "source":  [
                                     "# 活動：\n",
                                     "\n",
                                     "將特務與包含其代表原則的訓練地點進行配對。"
                                 ]
                  },
                  {
                      "cell_type":  "code",
                      "execution_count":  null,
                      "id":  "4bb06929",
                      "metadata":  {
                                       "minecraft":  {
                                                         "closeCodeBuilderOnRun":  true,
                                                         "default_code":  "# code here\n\nmatch_blue_agent(1)\nmatch_green_agent(2)\nmatch_yellow_agent(3)\nmatch_red_agent(4)\n\n\n",
                                                         "hidden":  false,
                                                         "onCodeCancelledCommand":  "scoreboard players set @s code_status 0",
                                                         "onCodeErrorCommand":  "scoreboard players set @s code_status 0",
                                                         "onCodeStartedCommand":  "scoreboard players set @s code_status 1",
                                                         "onCodeStoppedCommand":  "scoreboard players set @s code_status 0",
                                                         "onCodeSuccessfulCommand":  "scoreboard players set @s code_status 0",
                                                         "overridePython":  "import time\n\ntimeout = 0.100\nvalid_positions=[1,2,3,4]\n\ndef set_scoreboard(score):\n    _exec(f\"scoreboard players set .output global {score}\")\n\ndef match_red_agent(position):\n    if position in valid_positions:\n        if position == 1:\n            time.sleep(timeout)\n            set_scoreboard(11)\n        elif position == 2:\n            time.sleep(timeout)\n            set_scoreboard(12)     \n        elif position == 3:\n            time.sleep(timeout)\n            set_scoreboard(13)     \n        elif position == 4:\n            time.sleep(timeout)\n            set_scoreboard(14)   \n    else:\n        player.say(f\"§cERROR: `{position}` is not a valid position\")\n\ndef match_yellow_agent(position):\n    if position in valid_positions:\n        if position == 1:\n            time.sleep(timeout)\n            set_scoreboard(22)\n        elif position == 2:\n            time.sleep(timeout)\n            set_scoreboard(21)     \n        elif position == 3:\n            time.sleep(timeout)\n            set_scoreboard(23)     \n        elif position == 4:\n            time.sleep(timeout)\n            set_scoreboard(24)   \n    else:\n        player.say(f\"§cERROR: `{position}` is not a valid position\")\n\ndef match_blue_agent(position):\n    if position in valid_positions:\n        if position == 1:\n            time.sleep(timeout)\n            set_scoreboard(33)\n        elif position == 2:\n            time.sleep(timeout)\n            set_scoreboard(32)     \n        elif position == 3:\n            time.sleep(timeout)\n            set_scoreboard(31)     \n        elif position == 4:\n            time.sleep(timeout)\n            set_scoreboard(34)   \n    else:\n        player.say(f\"§cERROR: `{position}` is not a valid position\")\n\ndef match_green_agent(position):\n    if position in valid_positions:\n        if position == 1:\n            time.sleep(timeout)\n            set_scoreboard(44)\n        elif position == 2:\n            time.sleep(timeout)\n            set_scoreboard(42)     \n        elif position == 3:\n            time.sleep(timeout)\n            set_scoreboard(43)     \n        elif position == 4:\n            time.sleep(timeout)\n            set_scoreboard(41)   \n    else:\n        player.say(f\"§cERROR: `{position}` is not a valid position\")\n\n\n@user-code",
                                                         "readonly":  false
                                                     }
                                   },
                      "outputs":  [

                                  ],
                      "source":  [
                                     "# 在這裡編寫程式碼\n",
                                     "\n",
                                     "match_blue_agent(1)\n",
                                     "match_green_agent(2)\n",
                                     "match_yellow_agent(3)\n",
                                     "match_red_agent(4)\n",
                                     "\n"
                                 ]
                  }
              ],
    "metadata":  {
                     "celltoolbar":  "Edit Metadata",
                     "kernelspec":  {
                                        "display_name":  "Python 3 (ipykernel)",
                                        "language":  "python",
                                        "name":  "python3"
                                    },
                     "language_info":  {
                                           "codemirror_mode":  {
                                                                   "name":  "ipython",
                                                                   "version":  3
                                                               },
                                           "file_extension":  ".py",
                                           "mimetype":  "text/x-python",
                                           "name":  "python",
                                           "nbconvert_exporter":  "python",
                                           "pygments_lexer":  "ipython3",
                                           "version":  "3.10.11"
                                       },
                     "minecraft":  {
                                       "description":  "HOC 2023",
                                       "page_id":  "1.1",
                                       "page_name":  "HOC 2023",
                                       "style":  "minecraft.css"
                                   }
                 },
    "nbformat":  4,
    "nbformat_minor":  5
}
