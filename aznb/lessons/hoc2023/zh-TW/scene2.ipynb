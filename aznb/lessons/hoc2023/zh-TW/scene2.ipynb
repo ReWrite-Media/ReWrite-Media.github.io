﻿{
    "cells":  [
                  {
                      "cell_type":  "markdown",
                      "id":  "c6a6a83c",
                      "metadata":  {

                                   },
                      "source":  [
                                     "# 割草機\n",
                                     "\n",
                                     "糟糕！智慧割草機並未正常運作，還把灑水裝置弄壞了。檢閱程式碼並修改，以便割草機在割草之前先檢查附近是否有灑水裝置。 \n",
                                     "\n",
                                     "`cut_grass()` 函數會使割草機割在它下面方塊中的草。把這改成 `check_sprinkler_cut_grass()`，讓割草機在繼續割草之前，先檢查是否有灑水裝置存在。 "
                                 ]
                  },
                  {
                      "cell_type":  "code",
                      "execution_count":  null,
                      "id":  "665dcd86",
                      "metadata":  {
                                       "minecraft":  {
                                                         "closeCodeBuilderOnRun":  true,
                                                         "hidden":  false,
                                                         "onCodeCancelledCommand":  "scoreboard players set @s code_status 0",
                                                         "onCodeErrorCommand":  "scoreboard players set @s code_status 0",
                                                         "onCodeStartedCommand":  "scoreboard players set @s code_status 1",
                                                         "onCodeStoppedCommand":  "scoreboard players set @s code_status 0",
                                                         "onCodeSuccessfulCommand":  "scoreboard players set @s code_status 0",
                                                         "overridePython":  "import time\n\ntimeout = 0.100\n\ndef set_scoreboard(score):\n    _exec(f\"scoreboard players set .output global {score}\")\n\ndef move_lawnmower_next_row():\n    time.sleep(timeout)  \n    set_scoreboard(3)\n    time.sleep(timeout)  \n    set_scoreboard(4)\n\ndef move_lawnmower_forward():\n    time.sleep(timeout)  \n    set_scoreboard(3)\n\ndef cut_grass():\n    time.sleep(timeout)  \n    set_scoreboard(1)\n\ndef check_sprinkler_cut_grass():\n    time.sleep(timeout)  \n    set_scoreboard(2)\n\n@user-code",
                                                         "readonly":  true
                                                     }
                                   },
                      "outputs":  [

                                  ],
                      "source":  [
                                     "# 程式碼範例 - 你不能在這裡編輯\n",
                                     "# 執行看看會發生什麼事\n",
                                     "\n",
                                     "for i in range(8):\n",
                                     "    move_lawnmower_forward()\n",
                                     "    cut_grass()\n",
                                     "    move_lawnmower_forward()\n",
                                     "    cut_grass()\n",
                                     "    move_lawnmower_forward()\n",
                                     "    cut_grass()\n",
                                     "    move_lawnmower_next_row()"
                                 ]
                  },
                  {
                      "cell_type":  "markdown",
                      "id":  "6bb4b1f6",
                      "metadata":  {

                                   },
                      "source":  [
                                     "# 專業提示：\n",
                                     "\n",
                                     "你可以巢狀使用 `for` 迴圈來簡化它。下面程式碼執行的結果會與上面範例相同。"
                                 ]
                  },
                  {
                      "cell_type":  "code",
                      "execution_count":  null,
                      "id":  "88e95eef",
                      "metadata":  {
                                       "minecraft":  {
                                                         "closeCodeBuilderOnRun":  true,
                                                         "hidden":  false,
                                                         "onCodeCancelledCommand":  "scoreboard players set @s code_status 0",
                                                         "onCodeErrorCommand":  "scoreboard players set @s code_status 0",
                                                         "onCodeStartedCommand":  "scoreboard players set @s code_status 1",
                                                         "onCodeStoppedCommand":  "scoreboard players set @s code_status 0",
                                                         "onCodeSuccessfulCommand":  "scoreboard players set @s code_status 0",
                                                         "overridePython":  "import time\n\ntimeout = 0.100\n\ndef set_scoreboard(score):\n    _exec(f\"scoreboard players set .output global {score}\")\n\ndef move_lawnmower_next_row():\n    time.sleep(timeout)  \n    set_scoreboard(3)\n    time.sleep(timeout)  \n    set_scoreboard(4)\n\ndef move_lawnmower_forward():\n    time.sleep(timeout)  \n    set_scoreboard(3)\n\ndef cut_grass():\n    time.sleep(timeout)  \n    set_scoreboard(1)\n\ndef check_sprinkler_cut_grass():\n    time.sleep(timeout)  \n    set_scoreboard(2)\n\n@user-code",
                                                         "readonly":  true
                                                     }
                                   },
                      "outputs":  [

                                  ],
                      "source":  [
                                     "# 程式碼範例 - 你不能在這裡編輯\n",
                                     "# 執行看看會發生什麼事\n",
                                     "\n",
                                     "for i in range(8):\n",
                                     "    for i in range(3):\n",
                                     "        move_lawnmower_forward()\n",
                                     "        cut_grass()\n",
                                     "    move_lawnmower_next_row()"
                                 ]
                  },
                  {
                      "cell_type":  "markdown",
                      "id":  "05009481",
                      "metadata":  {

                                   },
                      "source":  [
                                     "# 活動：\n",
                                     "\n",
                                     "更新程式碼以確保割草機在割方塊中的草之前，先檢查是否有灑水裝置。"
                                 ]
                  },
                  {
                      "cell_type":  "code",
                      "execution_count":  null,
                      "id":  "4bb06929",
                      "metadata":  {
                                       "minecraft":  {
                                                         "closeCodeBuilderOnRun":  true,
                                                         "default_code":  "# code here\n\nfor i in range(8):\n    for i in range(3):\n        move_lawnmower_forward()\n        cut_grass()\n    move_lawnmower_next_row()\n",
                                                         "hidden":  false,
                                                         "onCodeCancelledCommand":  "scoreboard players set @s code_status 0",
                                                         "onCodeErrorCommand":  "scoreboard players set @s code_status 0",
                                                         "onCodeStartedCommand":  "scoreboard players set @s code_status 1",
                                                         "onCodeStoppedCommand":  "scoreboard players set @s code_status 0",
                                                         "onCodeSuccessfulCommand":  "scoreboard players set @s code_status 0",
                                                         "overridePython":  "import time\n\ntimeout = 0.100\n\ndef set_scoreboard(score):\n    _exec(f\"scoreboard players set .output global {score}\")\n\ndef move_lawnmower_next_row():\n    time.sleep(timeout)  \n    set_scoreboard(3)\n    time.sleep(timeout)  \n    set_scoreboard(4)\n\ndef move_lawnmower_forward():\n    time.sleep(timeout)  \n    set_scoreboard(3)\n\ndef cut_grass():\n    time.sleep(timeout)  \n    set_scoreboard(1)\n\ndef check_sprinkler_cut_grass():\n    time.sleep(timeout)  \n    set_scoreboard(2)\n\n@user-code",
                                                         "readonly":  false
                                                     }
                                   },
                      "outputs":  [

                                  ],
                      "source":  [
                                     "# 在這裡編寫程式碼\n",
                                     "\n",
                                     "for i in range(8):\n",
                                     "    for i in range(3):\n",
                                     "        move_lawnmower_forward()\n",
                                     "        cut_grass()\n",
                                     "    move_lawnmower_next_row()"
                                 ]
                  }
              ],
    "metadata":  {
                     "celltoolbar":  "Edit Metadata",
                     "kernelspec":  {
                                        "display_name":  "Python 3 (ipykernel)",
                                        "language":  "python",
                                        "name":  "python3"
                                    },
                     "language_info":  {
                                           "codemirror_mode":  {
                                                                   "name":  "ipython",
                                                                   "version":  3
                                                               },
                                           "file_extension":  ".py",
                                           "mimetype":  "text/x-python",
                                           "name":  "python",
                                           "nbconvert_exporter":  "python",
                                           "pygments_lexer":  "ipython3",
                                           "version":  "3.10.11"
                                       },
                     "minecraft":  {
                                       "description":  "HOC 2023",
                                       "page_id":  "1.1",
                                       "page_name":  "HOC 2023",
                                       "style":  "minecraft.css"
                                   }
                 },
    "nbformat":  4,
    "nbformat_minor":  5
}
