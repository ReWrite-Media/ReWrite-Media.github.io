﻿{
    "cells":  [
                  {
                      "cell_type":  "markdown",
                      "id":  "c6a6a83c",
                      "metadata":  {

                                   },
                      "source":  [
                                     "# 食物發放器\n",
                                     "\n",
                                     "食物自動發放器無法偵測到某些學生。請檢視程式碼並做出更改，以便辨識所有學生。\n",
                                     "\n",
                                     "你應該將注意力集中在 `scan()` 函數上，這是控制食物發放器如何偵測人的函數。這個函數接受一個字串當作參數，並且有兩個設定 - `horizontal` 或 `smart`。\n",
                                     "\n",
                                     "有效的掃描類型為： \n",
                                     "- `horizontal`\n",
                                     "- `smart`"
                                 ]
                  },
                  {
                      "cell_type":  "code",
                      "execution_count":  null,
                      "id":  "665dcd86",
                      "metadata":  {
                                       "minecraft":  {
                                                         "closeCodeBuilderOnRun":  true,
                                                         "hidden":  false,
                                                         "onCodeCancelledCommand":  "scoreboard players set @s code_status 0",
                                                         "onCodeErrorCommand":  "scoreboard players set @s code_status 0",
                                                         "onCodeStartedCommand":  "scoreboard players set @s code_status 1",
                                                         "onCodeStoppedCommand":  "scoreboard players set @s code_status 0",
                                                         "onCodeSuccessfulCommand":  "scoreboard players set @s code_status 0",
                                                         "overridePython":  "import time\n\ntimeout = 0.100\nscan_types=[\"horizontal\",\"smart\"]\n\ndef set_scoreboard(score):\n    _exec(f\"scoreboard players set .output global {score}\")\n\ndef lunch_time():\n    return True\n\ndef detect_student():\n    return True\n\ndef serve_lunch():\n    time.sleep(timeout)\n    set_scoreboard(3)\n\ndef wait_for_student():\n    time.sleep(timeout)\n    set_scoreboard(4)\n\ndef scan(scan_type):\n    time.sleep(timeout) \n    if scan_type.lower() in scan_types:\n        if scan_type.lower() == \"smart\":\n            set_scoreboard(2)\n        else:\n            set_scoreboard(1)\n    else:\n        player.say(f\"§cERROR: `{scan_type}` is not a valid scan type\")\n@user-code",
                                                         "readonly":  true
                                                     }
                                   },
                      "outputs":  [

                                  ],
                      "source":  [
                                     "# 程式碼範例 - 你不能在這裡編輯\n",
                                     "# 執行看看會發生什麼事\n",
                                     "\n",
                                     "while lunch_time():\n",
                                     "    scan(\"horizontal\")\n",
                                     "    if detect_student():\n",
                                     "        serve_lunch()\n",
                                     "    wait_for_student()"
                                 ]
                  },
                  {
                      "cell_type":  "markdown",
                      "id":  "05009481",
                      "metadata":  {

                                   },
                      "source":  [
                                     "# 活動：\n",
                                     "\n",
                                     "更新程式碼，將掃描類型從 `horizontal` 變更為 `smart`"
                                 ]
                  },
                  {
                      "cell_type":  "code",
                      "execution_count":  null,
                      "id":  "4bb06929",
                      "metadata":  {
                                       "minecraft":  {
                                                         "closeCodeBuilderOnRun":  true,
                                                         "default_code":  "# code here\n\nwhile lunch_time():\n    scan(\"horizontal\")\n    if detect_student():\n        serve_lunch()\n    wait_for_student()\n",
                                                         "hidden":  false,
                                                         "onCodeCancelledCommand":  "scoreboard players set @s code_status 0",
                                                         "onCodeErrorCommand":  "scoreboard players set @s code_status 0",
                                                         "onCodeStartedCommand":  "scoreboard players set @s code_status 1",
                                                         "onCodeStoppedCommand":  "scoreboard players set @s code_status 0",
                                                         "onCodeSuccessfulCommand":  "scoreboard players set @s code_status 0",
                                                         "overridePython":  "import time\n\ntimeout = 0.100\nscan_types=[\"horizontal\",\"smart\"]\n\ndef set_scoreboard(score):\n    _exec(f\"scoreboard players set .output global {score}\")\n\ndef lunch_time():\n    return True\n\ndef detect_student():\n    return True\n\ndef serve_lunch():\n    time.sleep(timeout)\n    set_scoreboard(3)\n\ndef wait_for_student():\n    time.sleep(timeout)\n    set_scoreboard(4)\n\ndef scan(scan_type):\n    time.sleep(timeout) \n    if scan_type.lower() in scan_types:\n        if scan_type.lower() == \"smart\":\n            set_scoreboard(2)\n        else:\n            set_scoreboard(1)\n    else:\n        player.say(f\"§cERROR: `{scan_type}` is not a valid scan type\")\n@user-code",
                                                         "readonly":  false
                                                     }
                                   },
                      "outputs":  [

                                  ],
                      "source":  [
                                     "# 在這裡編寫程式碼\n",
                                     "\n",
                                     "while lunch_time():\n",
                                     "    scan(\"horizontal\")\n",
                                     "    if detect_student():\n",
                                     "        serve_lunch()\n",
                                     "    wait_for_student()"
                                 ]
                  }
              ],
    "metadata":  {
                     "celltoolbar":  "Edit Metadata",
                     "kernelspec":  {
                                        "display_name":  "Python 3 (ipykernel)",
                                        "language":  "python",
                                        "name":  "python3"
                                    },
                     "language_info":  {
                                           "codemirror_mode":  {
                                                                   "name":  "ipython",
                                                                   "version":  3
                                                               },
                                           "file_extension":  ".py",
                                           "mimetype":  "text/x-python",
                                           "name":  "python",
                                           "nbconvert_exporter":  "python",
                                           "pygments_lexer":  "ipython3",
                                           "version":  "3.10.11"
                                       },
                     "minecraft":  {
                                       "description":  "HOC 2023",
                                       "page_id":  "1.1",
                                       "page_name":  "HOC 2023",
                                       "style":  "minecraft.css"
                                   }
                 },
    "nbformat":  4,
    "nbformat_minor":  5
}
