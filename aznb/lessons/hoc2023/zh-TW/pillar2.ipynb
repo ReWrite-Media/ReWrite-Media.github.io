﻿{
    "cells":  [
                  {
                      "cell_type":  "markdown",
                      "id":  "c6a6a83c",
                      "metadata":  {

                                   },
                      "source":  [
                                     "# 黃色柱子\n",
                                     "\n",
                                     "使用程式碼跨越虛空，抵達黃色柱子。你可以使用兩個函數。`agent_move()` 和 `agent_place()`\n",
                                     "\n",
                                     "`agent_move()` 函數接受一個字串參數。它定義特務該移動的方向。\n",
                                     "\n",
                                     "有效的方向為：\n",
                                     "- `forward` (前進)\n",
                                     "- `back` (後)\n",
                                     "- `up`\n",
                                     "- `down`\n",
                                     "\n",
                                     "`agent_place()` 函數接受一個字串參數。它定義特務該移動的方向。\n",
                                     "\n",
                                     "有效的方向為：\n",
                                     "- `up`\n",
                                     "- `down` (向下)"
                                 ]
                  },
                  {
                      "cell_type":  "code",
                      "execution_count":  null,
                      "id":  "665dcd86",
                      "metadata":  {
                                       "minecraft":  {
                                                         "closeCodeBuilderOnRun":  true,
                                                         "hidden":  false,
                                                         "onCodeCancelledCommand":  "scoreboard players set @s code_status 0",
                                                         "onCodeErrorCommand":  "scoreboard players set @s code_status 0",
                                                         "onCodeStartedCommand":  "scoreboard players set @s code_status 1",
                                                         "onCodeStoppedCommand":  "scoreboard players set @s code_status 0",
                                                         "onCodeSuccessfulCommand":  "scoreboard players set @s code_status 0",
                                                         "overridePython":  "import time\n\ntimeout = 0.100\nvalid_move_directions=[\"forward\",\"back\",\"up\",\"down\"]\nvalid_place_directions=[\"up\",\"down\"]\n\ndef set_scoreboard(score):\n    _exec(f\"scoreboard players set .output global {score}\")\n\ndef agent_move(direction):\n    if direction.lower() in valid_move_directions:\n        time.sleep(timeout)            \n        agent.move(direction)\n    else:\n        player.say(f\"§cERROR: `{direction}` is not a valid direction\")\n    \ndef agent_place(direction):\n    if direction.lower() in valid_place_directions:\n        time.sleep(timeout)\n        agent.give(\"purple wool\", 1, 1)\n        agent.place(direction)\n    else:\n        player.say(f\"§cERROR: `{direction}` is not a valid direction\")\n@user-code",
                                                         "readonly":  true
                                                     },
                                       "scrolled":  true
                                   },
                      "outputs":  [

                                  ],
                      "source":  [
                                     "# 程式碼範例 - 你不能在這裡編輯\n",
                                     "# 執行看看會發生什麼事\n",
                                     "\n",
                                     "agent_move(\"forward\")\n",
                                     "agent_place(\"down\")\n",
                                     "agent_move(\"forward\")\n",
                                     "agent_place(\"down\")\n",
                                     "agent_move(\"forward\")\n",
                                     "agent_place(\"down\")"
                                 ]
                  },
                  {
                      "cell_type":  "markdown",
                      "id":  "05009481",
                      "metadata":  {

                                   },
                      "source":  [
                                     "# 活動：\n",
                                     "\n",
                                     "建造一座橋樑以抵達黃色柱子。柱子距離 8 個方塊遠。"
                                 ]
                  },
                  {
                      "cell_type":  "code",
                      "execution_count":  null,
                      "id":  "4bb06929",
                      "metadata":  {
                                       "minecraft":  {
                                                         "closeCodeBuilderOnRun":  true,
                                                         "default_code":  "# code here\n\nagent_move(\"forward\")\nagent_place(\"down\")\nagent_move(\"forward\")\nagent_place(\"down\")\nagent_move(\"forward\")\nagent_place(\"down\")\n",
                                                         "hidden":  false,
                                                         "onCodeCancelledCommand":  "scoreboard players set @s code_status 0",
                                                         "onCodeErrorCommand":  "scoreboard players set @s code_status 0",
                                                         "onCodeStartedCommand":  "scoreboard players set @s code_status 1",
                                                         "onCodeStoppedCommand":  "scoreboard players set @s code_status 0",
                                                         "onCodeSuccessfulCommand":  "scoreboard players set @s code_status 0",
                                                         "overridePython":  "import time\n\ntimeout = 0.100\nvalid_move_directions=[\"forward\",\"back\",\"up\",\"down\"]\nvalid_place_directions=[\"up\",\"down\"]\n\ndef set_scoreboard(score):\n    _exec(f\"scoreboard players set .output global {score}\")\n\ndef agent_move(direction):\n    if direction.lower() in valid_move_directions:\n        time.sleep(timeout)            \n        agent.move(direction)\n    else:\n        player.say(f\"§cERROR: `{direction}` is not a valid direction\")\n    \ndef agent_place(direction):\n    if direction.lower() in valid_place_directions:\n        time.sleep(timeout)\n        agent.give(\"purple wool\", 1, 1)\n        agent.place(direction)\n    else:\n        player.say(f\"§cERROR: `{direction}` is not a valid direction\")\n@user-code",
                                                         "readonly":  false,
                                                         "resetWorldCommand":  "scoreboard players set .output global 9"
                                                     }
                                   },
                      "outputs":  [

                                  ],
                      "source":  [
                                     "# 在這裡編寫程式碼\n",
                                     "\n",
                                     "agent_move(\"forward\")\n",
                                     "agent_place(\"down\")\n",
                                     "agent_move(\"forward\")\n",
                                     "agent_place(\"down\")\n",
                                     "agent_move(\"forward\")\n",
                                     "agent_place(\"down\")"
                                 ]
                  }
              ],
    "metadata":  {
                     "celltoolbar":  "Edit Metadata",
                     "kernelspec":  {
                                        "display_name":  "Python 3 (ipykernel)",
                                        "language":  "python",
                                        "name":  "python3"
                                    },
                     "language_info":  {
                                           "codemirror_mode":  {
                                                                   "name":  "ipython",
                                                                   "version":  3
                                                               },
                                           "file_extension":  ".py",
                                           "mimetype":  "text/x-python",
                                           "name":  "python",
                                           "nbconvert_exporter":  "python",
                                           "pygments_lexer":  "ipython3",
                                           "version":  "3.10.11"
                                       },
                     "minecraft":  {
                                       "description":  "HOC 2023",
                                       "page_id":  "1.1",
                                       "page_name":  "HOC 2023",
                                       "style":  "minecraft.css"
                                   }
                 },
    "nbformat":  4,
    "nbformat_minor":  5
}
