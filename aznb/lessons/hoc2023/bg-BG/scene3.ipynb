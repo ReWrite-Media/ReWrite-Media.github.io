﻿{
    "cells":  [
                  {
                      "cell_type":  "markdown",
                      "id":  "c6a6a83c",
                      "metadata":  {

                                   },
                      "source":  [
                                     "# Птичи проблеми\n",
                                     "\n",
                                     "Разкодирахме съобщението и изглежда, че птиците са получили инструкции да преместят боклука, но няма къде да го сложат. Затова нека променим инструкциите в кода. Вместо да местят боклука, ще ги накараме да го пренесат до контейнер за смет и да го пуснат там. \n",
                                     "\n",
                                     "Заменете функцията `move_trash()` с функцията `fly_to_dumpster()`, последвана от функцията `release_trash()`.\n",
                                     "\n",
                                     "## Нови функции:\n",
                                     "\n",
                                     "\u0027fly_to_dumpster()\u0027 Тази функция ще накара птиците да летят до контейнера, чийто координати сте заредили.\n",
                                     "\n",
                                     "`release_trash()` Тази функция ще гарантира, че всички отпадъци се изхвърлят само в съответния контейнер, вместо да се разхвърлят къде ли не."
                                 ]
                  },
                  {
                      "cell_type":  "code",
                      "execution_count":  null,
                      "id":  "665dcd86",
                      "metadata":  {
                                       "minecraft":  {
                                                         "closeCodeBuilderOnRun":  true,
                                                         "default_code":  "# code here\n\nwhile search_for_trash():\n    if trash == True:\n        pickup_trash()\n        move_trash()\n    if battery \u003c 20:\n        find_utility_box()\n        start_charging()\n        while charging:\n            if battery \u003e 80:\n                stop_charging()\n    continue_flight_loop()\n",
                                                         "hidden":  false,
                                                         "onCodeCancelledCommand":  "scoreboard players set @s code_status 0",
                                                         "onCodeErrorCommand":  "scoreboard players set @s code_status 0",
                                                         "onCodeStartedCommand":  "scoreboard players set @s code_status 1",
                                                         "onCodeStoppedCommand":  "scoreboard players set @s code_status 0",
                                                         "onCodeSuccessfulCommand":  "scoreboard players set @s code_status 0",
                                                         "overridePython":  "import time\n\ntimeout = 0.100\nbattery = 0\ntrash = True\ncharging = False\n\ndef set_scoreboard(score):\n    _exec(f\"scoreboard players set .output global {score}\")\n\n\ndef search_for_trash():\n    return True\n\ndef pickup_trash():\n    time.sleep(timeout)\n    set_scoreboard(1)\n\ndef move_trash():\n    time.sleep(timeout)\n    set_scoreboard(2)\n\ndef drop_trash():\n    time.sleep(timeout)\n    set_scoreboard(3)\n\ndef find_utility_box():\n    time.sleep(timeout)\n    set_scoreboard(4)\n\ndef start_charging():\n    time.sleep(timeout)\n    set_scoreboard(5)\n\ndef stop_charging():\n    time.sleep(timeout)\n    set_scoreboard(6)\n\ndef continue_flight_loop():\n    time.sleep(timeout)\n    set_scoreboard(7)\n\ndef fly_to_dumpster():\n    time.sleep(timeout)\n    set_scoreboard(8)\n\ndef release_trash():\n    time.sleep(timeout)\n    set_scoreboard(9)\n@user-code",
                                                         "readonly":  false
                                                     }
                                   },
                      "outputs":  [

                                  ],
                      "source":  [
                                     "# въвеждане на код тук\n",
                                     "\n",
                                     "while search_for_trash():\n",
                                     "    if trash == True:\n",
                                     "        pickup_trash()\n",
                                     "        move_trash()\n",
                                     "    if battery \u003c 20:\n",
                                     "        find_utility_box()\n",
                                     "        start_charging()\n",
                                     "        while charging:\n",
                                     "            if battery \u003e 80:\n",
                                     "                stop_charging()\n",
                                     "    continue_flight_loop()"
                                 ]
                  }
              ],
    "metadata":  {
                     "celltoolbar":  "Edit Metadata",
                     "kernelspec":  {
                                        "display_name":  "Python 3 (ipykernel)",
                                        "language":  "python",
                                        "name":  "python3"
                                    },
                     "language_info":  {
                                           "codemirror_mode":  {
                                                                   "name":  "ipython",
                                                                   "version":  3
                                                               },
                                           "file_extension":  ".py",
                                           "mimetype":  "text/x-python",
                                           "name":  "python",
                                           "nbconvert_exporter":  "python",
                                           "pygments_lexer":  "ipython3",
                                           "version":  "3.10.11"
                                       },
                     "minecraft":  {
                                       "description":  "ЧНК 2023",
                                       "page_id":  "1.1",
                                       "page_name":  "ЧНК 2023",
                                       "style":  "minecraft.css"
                                   }
                 },
    "nbformat":  4,
    "nbformat_minor":  5
}
