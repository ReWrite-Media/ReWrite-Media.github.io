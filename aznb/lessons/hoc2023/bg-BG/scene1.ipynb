﻿{
    "cells":  [
                  {
                      "cell_type":  "markdown",
                      "id":  "c6a6a83c",
                      "metadata":  {

                                   },
                      "source":  [
                                     "# Автомат за храна\n",
                                     "\n",
                                     "Автоматът за храна не може да засече някои ученици. Прегледайте кода и го променете, за да може да разпознава всички ученици.\n",
                                     "\n",
                                     "Трябва да се съсредоточите върху функцията `scan()`, която управлява начина, по който автоматът за храна разпознава някого. Функцията приема един низ като параметър и има две настройки - `хоризонтално` или `интелигентно`.\n",
                                     "\n",
                                     "Валидните видове сканиране са: \n",
                                     "- `хоризонтално`\n",
                                     "- `интелигентно`"
                                 ]
                  },
                  {
                      "cell_type":  "code",
                      "execution_count":  null,
                      "id":  "665dcd86",
                      "metadata":  {
                                       "minecraft":  {
                                                         "closeCodeBuilderOnRun":  true,
                                                         "hidden":  false,
                                                         "onCodeCancelledCommand":  "scoreboard players set @s code_status 0",
                                                         "onCodeErrorCommand":  "scoreboard players set @s code_status 0",
                                                         "onCodeStartedCommand":  "scoreboard players set @s code_status 1",
                                                         "onCodeStoppedCommand":  "scoreboard players set @s code_status 0",
                                                         "onCodeSuccessfulCommand":  "scoreboard players set @s code_status 0",
                                                         "overridePython":  "import time\n\ntimeout = 0.100\nscan_types=[\"horizontal\",\"smart\"]\n\ndef set_scoreboard(score):\n    _exec(f\"scoreboard players set .output global {score}\")\n\ndef lunch_time():\n    return True\n\ndef detect_student():\n    return True\n\ndef serve_lunch():\n    time.sleep(timeout)\n    set_scoreboard(3)\n\ndef wait_for_student():\n    time.sleep(timeout)\n    set_scoreboard(4)\n\ndef scan(scan_type):\n    time.sleep(timeout) \n    if scan_type.lower() in scan_types:\n        if scan_type.lower() == \"smart\":\n            set_scoreboard(2)\n        else:\n            set_scoreboard(1)\n    else:\n        player.say(f\"§cERROR: `{scan_type}` is not a valid scan type\")\n@user-code",
                                                         "readonly":  true
                                                     }
                                   },
                      "outputs":  [

                                  ],
                      "source":  [
                                     "–# ПРИМЕРЕН КОД – НЕ МОЖЕТЕ ДА РЕДАКТИРАТЕ ТУК\n",
                                     "# СТАРТИРАЙТЕ, ЗА ДА ВИДИТЕ КАКВО ЩЕ СЕ СЛУЧИ\n",
                                     "\n",
                                     "while lunch_time():\n",
                                     "    scan(\"horizontal\")\n",
                                     "    if detect_student():\n",
                                     "        serve_lunch()\n",
                                     "    wait_for_student()"
                                 ]
                  },
                  {
                      "cell_type":  "markdown",
                      "id":  "05009481",
                      "metadata":  {

                                   },
                      "source":  [
                                     "# Дейност:\n",
                                     "\n",
                                     "Актуализирайте кода, за да промените вида на сканиране от `хоризонтално` на `интелигентно`"
                                 ]
                  },
                  {
                      "cell_type":  "code",
                      "execution_count":  null,
                      "id":  "4bb06929",
                      "metadata":  {
                                       "minecraft":  {
                                                         "closeCodeBuilderOnRun":  true,
                                                         "default_code":  "# code here\n\nwhile lunch_time():\n    scan(\"horizontal\")\n    if detect_student():\n        serve_lunch()\n    wait_for_student()\n",
                                                         "hidden":  false,
                                                         "onCodeCancelledCommand":  "scoreboard players set @s code_status 0",
                                                         "onCodeErrorCommand":  "scoreboard players set @s code_status 0",
                                                         "onCodeStartedCommand":  "scoreboard players set @s code_status 1",
                                                         "onCodeStoppedCommand":  "scoreboard players set @s code_status 0",
                                                         "onCodeSuccessfulCommand":  "scoreboard players set @s code_status 0",
                                                         "overridePython":  "import time\n\ntimeout = 0.100\nscan_types=[\"horizontal\",\"smart\"]\n\ndef set_scoreboard(score):\n    _exec(f\"scoreboard players set .output global {score}\")\n\ndef lunch_time():\n    return True\n\ndef detect_student():\n    return True\n\ndef serve_lunch():\n    time.sleep(timeout)\n    set_scoreboard(3)\n\ndef wait_for_student():\n    time.sleep(timeout)\n    set_scoreboard(4)\n\ndef scan(scan_type):\n    time.sleep(timeout) \n    if scan_type.lower() in scan_types:\n        if scan_type.lower() == \"smart\":\n            set_scoreboard(2)\n        else:\n            set_scoreboard(1)\n    else:\n        player.say(f\"§cERROR: `{scan_type}` is not a valid scan type\")\n@user-code",
                                                         "readonly":  false
                                                     }
                                   },
                      "outputs":  [

                                  ],
                      "source":  [
                                     "# въвеждане на код тук\n",
                                     "\n",
                                     "while lunch_time():\n",
                                     "    scan(\"horizontal\")\n",
                                     "    if detect_student():\n",
                                     "        serve_lunch()\n",
                                     "    wait_for_student()"
                                 ]
                  }
              ],
    "metadata":  {
                     "celltoolbar":  "Edit Metadata",
                     "kernelspec":  {
                                        "display_name":  "Python 3 (ipykernel)",
                                        "language":  "python",
                                        "name":  "python3"
                                    },
                     "language_info":  {
                                           "codemirror_mode":  {
                                                                   "name":  "ipython",
                                                                   "version":  3
                                                               },
                                           "file_extension":  ".py",
                                           "mimetype":  "text/x-python",
                                           "name":  "python",
                                           "nbconvert_exporter":  "python",
                                           "pygments_lexer":  "ipython3",
                                           "version":  "3.10.11"
                                       },
                     "minecraft":  {
                                       "description":  "ЧНК 2023",
                                       "page_id":  "1.1",
                                       "page_name":  "ЧНК 2023",
                                       "style":  "minecraft.css"
                                   }
                 },
    "nbformat":  4,
    "nbformat_minor":  5
}
