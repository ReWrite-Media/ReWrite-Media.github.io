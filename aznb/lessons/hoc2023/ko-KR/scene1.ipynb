﻿{
    "cells":  [
                  {
                      "cell_type":  "markdown",
                      "id":  "c6a6a83c",
                      "metadata":  {

                                   },
                      "source":  [
                                     "# 식품 디스펜서\n",
                                     "\n",
                                     "자동 식품 디스펜서가 일부 학생을 감지하지 못합니다. 코드를 검토하고 모든 학생을 식별할 수 있도록 변경하세요.\n",
                                     "\n",
                                     "식품 디스펜서가 사람을 감지하는 방법을 제어하는 함수인 `scan()` 함수에 집중해야 합니다. 이 함수는 하나의 문자열을 매개변수로 사용하며 `horizontal` 또는 `smart`의 두 가지 설정이 있습니다.\n",
                                     "\n",
                                     "유효한 스캔 유형은 다음과 같습니다: \n",
                                     "- `horizontal`\n",
                                     "- `smart`"
                                 ]
                  },
                  {
                      "cell_type":  "code",
                      "execution_count":  null,
                      "id":  "665dcd86",
                      "metadata":  {
                                       "minecraft":  {
                                                         "closeCodeBuilderOnRun":  true,
                                                         "hidden":  false,
                                                         "onCodeCancelledCommand":  "scoreboard players set @s code_status 0",
                                                         "onCodeErrorCommand":  "scoreboard players set @s code_status 0",
                                                         "onCodeStartedCommand":  "scoreboard players set @s code_status 1",
                                                         "onCodeStoppedCommand":  "scoreboard players set @s code_status 0",
                                                         "onCodeSuccessfulCommand":  "scoreboard players set @s code_status 0",
                                                         "overridePython":  "import time\n\ntimeout = 0.100\nscan_types=[\"horizontal\",\"smart\"]\n\ndef set_scoreboard(score):\n    _exec(f\"scoreboard players set .output global {score}\")\n\ndef lunch_time():\n    return True\n\ndef detect_student():\n    return True\n\ndef serve_lunch():\n    time.sleep(timeout)\n    set_scoreboard(3)\n\ndef wait_for_student():\n    time.sleep(timeout)\n    set_scoreboard(4)\n\ndef scan(scan_type):\n    time.sleep(timeout) \n    if scan_type.lower() in scan_types:\n        if scan_type.lower() == \"smart\":\n            set_scoreboard(2)\n        else:\n            set_scoreboard(1)\n    else:\n        player.say(f\"§cERROR: `{scan_type}` is not a valid scan type\")\n@user-code",
                                                         "readonly":  true
                                                     }
                                   },
                      "outputs":  [

                                  ],
                      "source":  [
                                     "# 코드 예제 - 여기에서 편집할 수 없습니다\n",
                                     "# 무슨 일이 일어나는지 보려면 실행하세요\n",
                                     "\n",
                                     "while lunch_time():\n",
                                     "    scan(\"horizontal\")\n",
                                     "    if detect_student():\n",
                                     "        serve_lunch()\n",
                                     "    wait_for_student()"
                                 ]
                  },
                  {
                      "cell_type":  "markdown",
                      "id":  "05009481",
                      "metadata":  {

                                   },
                      "source":  [
                                     "# 활동:\n",
                                     "\n",
                                     "코드를 업데이트하여 스캔 유형을 `horizontal`에서 `smart`로 변경하세요"
                                 ]
                  },
                  {
                      "cell_type":  "code",
                      "execution_count":  null,
                      "id":  "4bb06929",
                      "metadata":  {
                                       "minecraft":  {
                                                         "closeCodeBuilderOnRun":  true,
                                                         "default_code":  "# code here\n\nwhile lunch_time():\n    scan(\"horizontal\")\n    if detect_student():\n        serve_lunch()\n    wait_for_student()\n",
                                                         "hidden":  false,
                                                         "onCodeCancelledCommand":  "scoreboard players set @s code_status 0",
                                                         "onCodeErrorCommand":  "scoreboard players set @s code_status 0",
                                                         "onCodeStartedCommand":  "scoreboard players set @s code_status 1",
                                                         "onCodeStoppedCommand":  "scoreboard players set @s code_status 0",
                                                         "onCodeSuccessfulCommand":  "scoreboard players set @s code_status 0",
                                                         "overridePython":  "import time\n\ntimeout = 0.100\nscan_types=[\"horizontal\",\"smart\"]\n\ndef set_scoreboard(score):\n    _exec(f\"scoreboard players set .output global {score}\")\n\ndef lunch_time():\n    return True\n\ndef detect_student():\n    return True\n\ndef serve_lunch():\n    time.sleep(timeout)\n    set_scoreboard(3)\n\ndef wait_for_student():\n    time.sleep(timeout)\n    set_scoreboard(4)\n\ndef scan(scan_type):\n    time.sleep(timeout) \n    if scan_type.lower() in scan_types:\n        if scan_type.lower() == \"smart\":\n            set_scoreboard(2)\n        else:\n            set_scoreboard(1)\n    else:\n        player.say(f\"§cERROR: `{scan_type}` is not a valid scan type\")\n@user-code",
                                                         "readonly":  false
                                                     }
                                   },
                      "outputs":  [

                                  ],
                      "source":  [
                                     "# 코드를 여기에 넣으세요\n",
                                     "\n",
                                     "while lunch_time():\n",
                                     "    scan(\"horizontal\")\n",
                                     "    if detect_student():\n",
                                     "        serve_lunch()\n",
                                     "    wait_for_student()"
                                 ]
                  }
              ],
    "metadata":  {
                     "celltoolbar":  "Edit Metadata",
                     "kernelspec":  {
                                        "display_name":  "Python 3 (ipykernel)",
                                        "language":  "python",
                                        "name":  "python3"
                                    },
                     "language_info":  {
                                           "codemirror_mode":  {
                                                                   "name":  "ipython",
                                                                   "version":  3
                                                               },
                                           "file_extension":  ".py",
                                           "mimetype":  "text/x-python",
                                           "name":  "python",
                                           "nbconvert_exporter":  "python",
                                           "pygments_lexer":  "ipython3",
                                           "version":  "3.10.11"
                                       },
                     "minecraft":  {
                                       "description":  "HOC 2023",
                                       "page_id":  "1.1",
                                       "page_name":  "HOC 2023",
                                       "style":  "minecraft.css"
                                   }
                 },
    "nbformat":  4,
    "nbformat_minor":  5
}
