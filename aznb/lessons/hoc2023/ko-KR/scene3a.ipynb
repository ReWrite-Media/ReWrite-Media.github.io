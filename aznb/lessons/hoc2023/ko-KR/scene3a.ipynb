﻿{
    "cells":  [
                  {
                      "cell_type":  "markdown",
                      "id":  "c6a6a83c",
                      "metadata":  {

                                   },
                      "source":  [
                                     "# 버드 트러블\n",
                                     "\n",
                                     "코드의 일부가 불분명하고 숨겨져 있기 때문에 코드를 완전히 이해할 수 없습니다. 하지만 이 퍼즐을 풀기 전에 숨겨진 단어의 의미를 알아내야 합니다. 코드의 새들을 추적하여 이 코드의 의미를 알아낼 수 있는지 살펴봅시다.\n",
                                     "\n",
                                     "이 코드를 변경할 필요는 없습니다.\n",
                                     "\n",
                                     "##새로운 기능:\n",
                                     "\n",
                                     "`fly_to_0110101011()` 난독화된 단어를 모두 해독할 수 있을 때까지는 이 함수가 어떤 기능을 하는지 알 수 없습니다.\n",
                                     "\n",
                                     "`a_1001010_101101()` 난독화된 단어를 모두 해독할 수 있을 때까지는 이 함수가 어떤 기능을 하는지 알 수 없습니다."
                                 ]
                  },
                  {
                      "cell_type":  "code",
                      "execution_count":  null,
                      "id":  "665dcd86",
                      "metadata":  {
                                       "minecraft":  {
                                                         "closeCodeBuilderOnRun":  true,
                                                         "hidden":  false,
                                                         "onCodeCancelledCommand":  "scoreboard players set @s code_status 0",
                                                         "onCodeErrorCommand":  "scoreboard players set @s code_status 0",
                                                         "onCodeStartedCommand":  "scoreboard players set @s code_status 1",
                                                         "onCodeStoppedCommand":  "scoreboard players set @s code_status 0",
                                                         "onCodeSuccessfulCommand":  "scoreboard players set @s code_status 0",
                                                         "overridePython":  "import time\n\ntimeout = 0.100\nbattery = 0\na_101101 = True\ncharging = False\n\ndef set_scoreboard(score):\n    _exec(f\"scoreboard players set .output global {score}\")\n\n\ndef search_for_101101():\n    return True\n\ndef pickup_101101():\n    set_scoreboard(1)\n\ndef move_101101():\n    set_scoreboard(2)\n\ndef drop_101101():\n    set_scoreboard(3)\n\ndef find_utility_box():\n    set_scoreboard(4)\n\ndef start_charging():\n    set_scoreboard(5)\n\ndef stop_charging():\n    set_scoreboard(6)\n\ndef continue_flight_loop():\n    set_scoreboard(7)\n\ndef fly_to_0110101011():\n    set_scoreboard(8)\n\ndef a_1001010_101101():\n    set_scoreboard(9)\n",
                                                         "readonly":  true
                                                     }
                                   },
                      "outputs":  [

                                  ],
                      "source":  [
                                     "while search_for_101101():\n",
                                     "    if a_101101 == True:\n",
                                     "        pickup_101101()\n",
                                     "        move_101101()\n",
                                     "    if battery \u003c 20:\n",
                                     "        find_utility_box()\n",
                                     "        start_charging()\n",
                                     "        while charging:\n",
                                     "            if battery \u003e 80:\n",
                                     "                stop_charging()\n",
                                     "    continue_flight_loop()"
                                 ]
                  }
              ],
    "metadata":  {
                     "celltoolbar":  "Edit Metadata",
                     "kernelspec":  {
                                        "display_name":  "Python 3 (ipykernel)",
                                        "language":  "python",
                                        "name":  "python3"
                                    },
                     "language_info":  {
                                           "codemirror_mode":  {
                                                                   "name":  "ipython",
                                                                   "version":  3
                                                               },
                                           "file_extension":  ".py",
                                           "mimetype":  "text/x-python",
                                           "name":  "python",
                                           "nbconvert_exporter":  "python",
                                           "pygments_lexer":  "ipython3",
                                           "version":  "3.10.11"
                                       },
                     "minecraft":  {
                                       "description":  "HOC 2023",
                                       "page_id":  "1.1",
                                       "page_name":  "HOC 2023",
                                       "style":  "minecraft.css"
                                   }
                 },
    "nbformat":  4,
    "nbformat_minor":  5
}
