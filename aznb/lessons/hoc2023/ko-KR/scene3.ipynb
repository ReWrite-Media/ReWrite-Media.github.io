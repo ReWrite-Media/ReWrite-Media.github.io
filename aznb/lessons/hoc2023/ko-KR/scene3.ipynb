﻿{
    "cells":  [
                  {
                      "cell_type":  "markdown",
                      "id":  "c6a6a83c",
                      "metadata":  {

                                   },
                      "source":  [
                                     "# 버드 트러블\n",
                                     "\n",
                                     "메시지를 해독한 결과, 새들에게 쓰레기를 치우라는 명령이 전달되었지만 쓰레기를 놓을 장소가 없는 것 같습니다. 그래서 코드의 지침을 변경해 봅시다. 쓰레기를 옮기는 대신 새들이 쓰레기를 쓰레기통으로 날아가게 하고 그곳에 쓰레기를 놓도록 하겠습니다. \n",
                                     "\n",
                                     "`move_trash()` 함수를 `fly_to_dumpster()` 함수로 바꾸고, 그 뒤에 `release_trash()` 함수를 추가합니다.\n",
                                     "\n",
                                     "##새로운 기능:\n",
                                     "\n",
                                     "`fly_to_dumpster()` 이 기능을 사용하면 새들이 좌표를 입력한 쓰레기통으로 날아가게 됩니다.\n",
                                     "\n",
                                     "`release_trash()` 이 기능을 사용하면 모든 쓰레기를 아무 곳에나 버리지 않고 해당 용기에만 버릴 수 있습니다."
                                 ]
                  },
                  {
                      "cell_type":  "code",
                      "execution_count":  null,
                      "id":  "665dcd86",
                      "metadata":  {
                                       "minecraft":  {
                                                         "closeCodeBuilderOnRun":  true,
                                                         "default_code":  "# code here\n\nwhile search_for_trash():\n    if trash == True:\n        pickup_trash()\n        move_trash()\n    if battery \u003c 20:\n        find_utility_box()\n        start_charging()\n        while charging:\n            if battery \u003e 80:\n                stop_charging()\n    continue_flight_loop()\n",
                                                         "hidden":  false,
                                                         "onCodeCancelledCommand":  "scoreboard players set @s code_status 0",
                                                         "onCodeErrorCommand":  "scoreboard players set @s code_status 0",
                                                         "onCodeStartedCommand":  "scoreboard players set @s code_status 1",
                                                         "onCodeStoppedCommand":  "scoreboard players set @s code_status 0",
                                                         "onCodeSuccessfulCommand":  "scoreboard players set @s code_status 0",
                                                         "overridePython":  "import time\n\ntimeout = 0.100\nbattery = 0\ntrash = True\ncharging = False\n\ndef set_scoreboard(score):\n    _exec(f\"scoreboard players set .output global {score}\")\n\n\ndef search_for_trash():\n    return True\n\ndef pickup_trash():\n    time.sleep(timeout)\n    set_scoreboard(1)\n\ndef move_trash():\n    time.sleep(timeout)\n    set_scoreboard(2)\n\ndef drop_trash():\n    time.sleep(timeout)\n    set_scoreboard(3)\n\ndef find_utility_box():\n    time.sleep(timeout)\n    set_scoreboard(4)\n\ndef start_charging():\n    time.sleep(timeout)\n    set_scoreboard(5)\n\ndef stop_charging():\n    time.sleep(timeout)\n    set_scoreboard(6)\n\ndef continue_flight_loop():\n    time.sleep(timeout)\n    set_scoreboard(7)\n\ndef fly_to_dumpster():\n    time.sleep(timeout)\n    set_scoreboard(8)\n\ndef release_trash():\n    time.sleep(timeout)\n    set_scoreboard(9)\n@user-code",
                                                         "readonly":  false
                                                     }
                                   },
                      "outputs":  [

                                  ],
                      "source":  [
                                     "# 코드를 여기에 넣으세요\n",
                                     "\n",
                                     "while search_for_trash():\n",
                                     "    if trash == True:\n",
                                     "        pickup_trash()\n",
                                     "        move_trash()\n",
                                     "    if battery \u003c 20:\n",
                                     "        find_utility_box()\n",
                                     "        start_charging()\n",
                                     "        while charging:\n",
                                     "            if battery \u003e 80:\n",
                                     "                stop_charging()\n",
                                     "    continue_flight_loop()"
                                 ]
                  }
              ],
    "metadata":  {
                     "celltoolbar":  "Edit Metadata",
                     "kernelspec":  {
                                        "display_name":  "Python 3 (ipykernel)",
                                        "language":  "python",
                                        "name":  "python3"
                                    },
                     "language_info":  {
                                           "codemirror_mode":  {
                                                                   "name":  "ipython",
                                                                   "version":  3
                                                               },
                                           "file_extension":  ".py",
                                           "mimetype":  "text/x-python",
                                           "name":  "python",
                                           "nbconvert_exporter":  "python",
                                           "pygments_lexer":  "ipython3",
                                           "version":  "3.10.11"
                                       },
                     "minecraft":  {
                                       "description":  "HOC 2023",
                                       "page_id":  "1.1",
                                       "page_name":  "HOC 2023",
                                       "style":  "minecraft.css"
                                   }
                 },
    "nbformat":  4,
    "nbformat_minor":  5
}
