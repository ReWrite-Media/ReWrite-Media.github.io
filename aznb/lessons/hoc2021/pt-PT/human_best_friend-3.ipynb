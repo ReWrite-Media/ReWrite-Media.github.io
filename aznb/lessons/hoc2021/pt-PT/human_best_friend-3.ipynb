﻿{
    "cells":  [
                  {
                      "cell_type":  "markdown",
                      "metadata":  {

                                   },
                      "source":  [
                                     "# Melhores Amigos dos Humanos (Solução)\n",
                                     "\n",
                                     "Os cães são amigos das pessoas há milhares de anos. Mas algo assustou os cães. Programa o agent para deixar um rasto de itens \"BEETROOT\" a cinco blocos de distância para ajudar as pessoas a tornar os lobos em cães. Utiliza a função \"agent.give()\" para dar ao Agent uma pilha de \"BEETROOT\" e, em seguida, utiliza \"agent.move()\" para posicionar o agent e \"agent.drop()\" para deixar cair uma \"BEETROOT\".\n",
                                     "\n",
                                     "A função \"agent.give()\" requer três parâmetros.  \n",
                                     "\n",
                                     "- item (*string*): O item que pretendes dar ao Agent.\n",
                                     "- contagem (*inteiro*): Quantos itens o Agent receberá.\n",
                                     "- ranhura (*inteiro*): A ranhura do inventário onde o Agent recebe o item.\n",
                                     "\n",
                                     "A função \"agent.move()\" requer um parâmetro, direction.\n",
                                     "\n",
                                     "As direções válidas são: \n",
                                     "- para a frente\n",
                                     "- para trás\n",
                                     "- esquerda\n",
                                     "- direita\n",
                                     "- para cima\n",
                                     "- para baixo\n",
                                     "\n",
                                     "A função \"agent.drop()\" requer dois parâmetros.\n",
                                     "- ranhura (*inteiro*): A ranhura do inventário onde o Agent solta o item.\n",
                                     "- quantidade (*inteiro*): O número de itens que o Agent vai soltar."
                                 ]
                  },
                  {
                      "cell_type":  "code",
                      "execution_count":  null,
                      "metadata":  {
                                       "minecraft":  {
                                                         "baseCodeCellName":  "Example",
                                                         "closeCodeBuilderOnRun":  true,
                                                         "readonly":  true
                                                     }
                                   },
                      "outputs":  [

                                  ],
                      "source":  [
                                     "# dá ao agent uma pilha de beterraba\n",
                                     "# em seguida, larga um e avança cinco\n",
                                     "\n",
                                     "agent.give(\"BEETROOT\", 64, 1)\n",
                                     "agent.drop(1,1)\n",
                                     "agent.move(\"forward\")\n",
                                     "agent.move(\"forward\")\n",
                                     "agent.move(\"forward\")\n",
                                     "agent.move(\"forward\")"
                                 ]
                  },
                  {
                      "cell_type":  "markdown",
                      "metadata":  {

                                   },
                      "source":  [
                                     "# Dica Pro:\n",
                                     "\n",
                                     "Utiliza um loop \"for\" para fazer uma ou mais ações várias vezes."
                                 ]
                  },
                  {
                      "cell_type":  "code",
                      "execution_count":  null,
                      "metadata":  {
                                       "minecraft":  {
                                                         "baseCodeCellName":  "Example",
                                                         "closeCodeBuilderOnRun":  true,
                                                         "readonly":  true
                                                     }
                                   },
                      "outputs":  [

                                  ],
                      "source":  [
                                     "# dá ao agent uma pilha de beterraba\n",
                                     "# em seguida, larga um e avança cinco\n",
                                     "\n",
                                     "agent.give(\"BEETROOT\", 64, 1)\n",
                                     "for i in range(2):\n",
                                     "    agent.drop(1,1)\n",
                                     "    agent.move(\"forward\")\n",
                                     "    agent.move(\"forward\")\n",
                                     "    agent.move(\"forward\")\n",
                                     "    agent.move(\"forward\")"
                                 ]
                  },
                  {
                      "cell_type":  "markdown",
                      "metadata":  {

                                   },
                      "source":  [
                                     "# Atividade:\n",
                                     "\n",
                                     "O código abaixo é a solução correta para a atividade. Executa o código para o veres em ação.\n",
                                     "\n",
                                     "**Nota: Utiliza o botão Código de Reposição abaixo para redefinir a caixa de programação de volta à solução**"
                                 ]
                  },
                  {
                      "cell_type":  "code",
                      "execution_count":  null,
                      "metadata":  {
                                       "minecraft":  {
                                                         "closeCodeBuilderOnRun":  true,
                                                         "default_code":  "# code here\n\nagent.give(\"BEETROOT\", 64, 1)\nfor i in range(6):\n    agent.drop(1,1)\n    agent.move(\"forward\")\n    agent.move(\"forward\")\n    agent.move(\"forward\")\n    agent.move(\"forward\")",
                                                         "resetWorldCommand":  "function act/8/reset"
                                                     }
                                   },
                      "outputs":  [

                                  ],
                      "source":  [
                                     "# código aqui\n",
                                     "\n",
                                     "agent.give(\"BEETROOT\", 64, 1)\n",
                                     "for i in range(6):\n",
                                     "    agent.drop(1,1)\n",
                                     "    agent.move(\"forward\")\n",
                                     "    agent.move(\"forward\")\n",
                                     "    agent.move(\"forward\")\n",
                                     "    agent.move(\"forward\")"
                                 ]
                  }
              ],
    "metadata":  {
                     "celltoolbar":  "Edit Metadata",
                     "kernelspec":  {
                                        "display_name":  "Python 3",
                                        "language":  "python",
                                        "name":  "python3"
                                    },
                     "language_info":  {
                                           "codemirror_mode":  {
                                                                   "name":  "ipython",
                                                                   "version":  3
                                                               },
                                           "file_extension":  ".py",
                                           "mimetype":  "text/x-python",
                                           "name":  "python",
                                           "nbconvert_exporter":  "python",
                                           "pygments_lexer":  "ipython3",
                                           "version":  "3.8.8"
                                       },
                     "minecraft":  {
                                       "description":  "TimeCraft",
                                       "page_id":  "1.1",
                                       "page_name":  "Melhores Amigos dos Humanos",
                                       "style":  "minecraft.css"
                                   }
                 },
    "nbformat":  4,
    "nbformat_minor":  4
}
