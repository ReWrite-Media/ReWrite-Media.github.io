﻿{
    "cells":  [
                  {
                      "cell_type":  "markdown",
                      "metadata":  {

                                   },
                      "source":  [
                                     "# Grande Pirâmide em Gizé\n",
                                     "\n",
                                     "Ajuda o Arquiteto a terminar o triângulo, um design que vai suportar o teste do tempo. Pensa sobre como\n",
                                     "cria uma pirâmide. São necessários mais dois níveis: três blocos na parte inferior e um bloco em cima. Programa a solução utilizando \"agent.give()\" para dares ao Agent uma pilha de \"SANDSTONE\", \"agent.move()\" para posicionares o agent e \"agent.place()\" para colocares os blocos numa forma de pirâmide de três camadas.\n",
                                     "\n",
                                     "A função \"agent.give()\" requer três parâmetros.  \n",
                                     "\n",
                                     "- item (*string*): O item que pretendes dar ao Agent.\n",
                                     "- contagem (*inteiro*): Quantos itens o Agent receberá.\n",
                                     "- ranhura (*inteiro*): A ranhura do inventário onde o Agent recebe o item.\n",
                                     "\n",
                                     "A função `agent.move()` requer um parâmetro, direction.\n",
                                     "\n",
                                     "As direções válidas são: \n",
                                     "- para a frente\n",
                                     "- para trás\n",
                                     "- esquerda\n",
                                     "- direita\n",
                                     "- para cima\n",
                                     "- para baixo\n",
                                     "\n",
                                     "A função \"agent.place()\" requer dois parâmetros.  \n",
                                     "\n",
                                     "- número da ranhura (*inteiro*): A ranhura do inventário que o Agent deve utilizar.\n",
                                     "- direção (*string*): A direção na qual pretendes que o Agent coloque o item.\n",
                                     "    - As direções válidas são: \n",
                                     "        - para a frente\n",
                                     "        - para trás\n",
                                     "        - esquerda\n",
                                     "        - direita\n",
                                     "        - para cima\n",
                                     "        - para baixo\n",
                                     "        \n",
                                     "A função \"agent.turn()\" requer um parâmetro, turn_direction.\n",
                                     "\n",
                                     "As direções válidas são: \n",
                                     "- esquerda\n",
                                     "- direita        "
                                 ]
                  },
                  {
                      "cell_type":  "code",
                      "execution_count":  null,
                      "metadata":  {
                                       "minecraft":  {
                                                         "baseCodeCellName":  "Example",
                                                         "closeCodeBuilderOnRun":  true,
                                                         "readonly":  true
                                                     }
                                   },
                      "outputs":  [

                                  ],
                      "source":  [
                                     "# dá ao agent uma pilha de arenito\n",
                                     "# move o agent para a frente\n",
                                     "# e coloca os blocos de arenito\n",
                                     "# fá-lo cinco vezes\n",
                                     "\n",
                                     "agent.give(\"SANDSTONE\", 64, 1)\n",
                                     "agent.move(\"forward\")\n",
                                     "agent.place(1,\"back\")\n",
                                     "agent.move(\"forward\")\n",
                                     "agent.place(1,\"back\")\n",
                                     "agent.move(\"forward\")\n",
                                     "agent.place(1,\"back\")\n",
                                     "agent.move(\"forward\")\n",
                                     "agent.place(1,\"back\")\n",
                                     "agent.move(\"forward\")\n",
                                     "agent.place(1,\"back\")"
                                 ]
                  },
                  {
                      "cell_type":  "markdown",
                      "metadata":  {

                                   },
                      "source":  [
                                     "# Dica Pro:\n",
                                     "\n",
                                     "Utiliza um loop \"for\" para fazer uma ou mais ações várias vezes."
                                 ]
                  },
                  {
                      "cell_type":  "code",
                      "execution_count":  null,
                      "metadata":  {
                                       "minecraft":  {
                                                         "baseCodeCellName":  "Example",
                                                         "closeCodeBuilderOnRun":  true,
                                                         "readonly":  true
                                                     }
                                   },
                      "outputs":  [

                                  ],
                      "source":  [
                                     "# dá ao agent uma pilha de arenito\n",
                                     "# move o agent para a frente\n",
                                     "# e coloca os blocos de arenito\n",
                                     "# fá-lo cinco vezes\n",
                                     "\n",
                                     "agent.give(\"SANDSTONE\", 64, 1)\n",
                                     "for i in range(5):\n",
                                     "    agent.move(\"forward\")\n",
                                     "    agent.place(1,\"back\")"
                                 ]
                  },
                  {
                      "cell_type":  "markdown",
                      "metadata":  {

                                   },
                      "source":  [
                                     "# Atividade\n",
                                     "\n",
                                     "Ensina o arquiteto a fazer uma pirâmide criando uma pirâmide de duas camadas com \"SANDSTONE\"\n",
                                     "\n",
                                     "**Nota: Podes reiniciar a atividade com o teu dispositivo T.A.L.K. ou com o botão Reiniciar Atividade.**"
                                 ]
                  },
                  {
                      "cell_type":  "code",
                      "execution_count":  null,
                      "metadata":  {
                                       "minecraft":  {
                                                         "closeCodeBuilderOnRun":  true,
                                                         "default_code":  "# code here\n\n\n",
                                                         "resetWorldCommand":  "function act/2/reset"
                                                     }
                                   },
                      "outputs":  [

                                  ],
                      "source":  [
                                     "# código aqui\n",
                                     "\n",
                                     "\n"
                                 ]
                  }
              ],
    "metadata":  {
                     "celltoolbar":  "Edit Metadata",
                     "kernelspec":  {
                                        "display_name":  "Python 3",
                                        "language":  "python",
                                        "name":  "python3"
                                    },
                     "language_info":  {
                                           "codemirror_mode":  {
                                                                   "name":  "ipython",
                                                                   "version":  3
                                                               },
                                           "file_extension":  ".py",
                                           "mimetype":  "text/x-python",
                                           "name":  "python",
                                           "nbconvert_exporter":  "python",
                                           "pygments_lexer":  "ipython3",
                                           "version":  "3.8.8"
                                       },
                     "minecraft":  {
                                       "description":  "TimeCraft",
                                       "page_id":  "1.1",
                                       "page_name":  "Pirâmides de Gizé",
                                       "style":  "minecraft.css"
                                   }
                 },
    "nbformat":  4,
    "nbformat_minor":  4
}
