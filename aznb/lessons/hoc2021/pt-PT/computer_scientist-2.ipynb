﻿{
    "cells":  [
                  {
                      "cell_type":  "markdown",
                      "metadata":  {

                                   },
                      "source":  [
                                     "# Primeiro Cientista Computacional (Depuração)\n",
                                     "\n",
                                     "O cientista informático criou cartões perfurados que contêm as instruções para o primeiro algoritmo, mas os furos dos cartões perfurados estão bloqueados. Utiliza o \"agent.move()\" para mover o agent para cima dos blocos castanhos e, em seguida, utiliza \"agent.destroy()\" para romper o bloco abaixo.\n",
                                     "\n",
                                     "A função `agent.move()` requer um parâmetro, direction.\n",
                                     "\n",
                                     "As direções válidas são: \n",
                                     "- para a frente\n",
                                     "- para trás\n",
                                     "- esquerda\n",
                                     "- direita\n",
                                     "- para cima\n",
                                     "- para baixo\n",
                                     "\n",
                                     "A função \"agent.destroy()\" requer um parâmetro, direction.\n",
                                     "\n",
                                     "As direções válidas são: \n",
                                     "- para a frente\n",
                                     "- para trás\n",
                                     "- esquerda\n",
                                     "- direita\n",
                                     "- para cima\n",
                                     "- para baixo\n",
                                     "\n",
                                     "A função \"agent.turn()\" requer um parâmetro, turn_direction.\n",
                                     "\n",
                                     "As direções válidas são: \n",
                                     "- esquerda\n",
                                     "- direita"
                                 ]
                  },
                  {
                      "cell_type":  "code",
                      "execution_count":  null,
                      "metadata":  {
                                       "minecraft":  {
                                                         "baseCodeCellName":  "Example",
                                                         "closeCodeBuilderOnRun":  true,
                                                         "readonly":  true
                                                     }
                                   },
                      "outputs":  [

                                  ],
                      "source":  [
                                     "# move o Agent e avança dois blocos\n",
                                     "# e rompe o que está abaixo.\n",
                                     "\n",
                                     "agent.move(\"forward\")\n",
                                     "agent.destroy(\"down\")"
                                 ]
                  },
                  {
                      "cell_type":  "markdown",
                      "metadata":  {

                                   },
                      "source":  [
                                     "# Atividade:\n",
                                     "\n",
                                     "O código abaixo tem valores incorretos. Executa o código para ver o que acontece e, em seguida, tenta depurar e corrigir o código para completar a atividade.\n",
                                     "\n",
                                     "**Nota: Utiliza o botão Reiniciar Código abaixo para redefinir a caixa de programação de volta ao código de depuração**"
                                 ]
                  },
                  {
                      "cell_type":  "code",
                      "execution_count":  null,
                      "metadata":  {
                                       "minecraft":  {
                                                         "closeCodeBuilderOnRun":  true,
                                                         "default_code":  "# code here\n\nagent.move(\"forward\")\nagent.destroy(\"up\")\nagent.move(\"forward\")\nagent.move(\"forward\")\nagent.destroy(\"up\")\nagent.move(\"forward\")\nagent.move(\"forward\")\nagent.destroy(\"up\")\nagent.turn(\"left\")\nagent.move(\"forward\")\nagent.move(\"forward\")\nagent.turn(\"left\")\nagent.destroy(\"up\")\nagent.move(\"forward\")\nagent.move(\"forward\")\nagent.destroy(\"up\")\nagent.move(\"forward\")\nagent.move(\"forward\")\nagent.destroy(\"up\")",
                                                         "resetWorldCommand":  "function act/7/reset"
                                                     }
                                   },
                      "outputs":  [

                                  ],
                      "source":  [
                                     "# código aqui\n",
                                     "\n",
                                     "agent.move(\"forward\")\n",
                                     "agent.destroy(\"up\")\n",
                                     "agent.move(\"forward\")\n",
                                     "agent.move(\"forward\")\n",
                                     "agent.destroy(\"up\")\n",
                                     "agent.move(\"forward\")\n",
                                     "agent.move(\"forward\")\n",
                                     "agent.destroy(\"up\")\n",
                                     "agent.turn(\"left\")\n",
                                     "agent.move(\"forward\")\n",
                                     "agent.move(\"forward\")\n",
                                     "agent.turn(\"left\")\n",
                                     "agent.destroy(\"up\")\n",
                                     "agent.move(\"forward\")\n",
                                     "agent.move(\"forward\")\n",
                                     "agent.destroy(\"up\")\n",
                                     "agent.move(\"forward\")\n",
                                     "agent.move(\"forward\")\n",
                                     "agent.destroy(\"up\")"
                                 ]
                  }
              ],
    "metadata":  {
                     "celltoolbar":  "Edit Metadata",
                     "kernelspec":  {
                                        "display_name":  "Python 3",
                                        "language":  "python",
                                        "name":  "python3"
                                    },
                     "language_info":  {
                                           "codemirror_mode":  {
                                                                   "name":  "ipython",
                                                                   "version":  3
                                                               },
                                           "file_extension":  ".py",
                                           "mimetype":  "text/x-python",
                                           "name":  "python",
                                           "nbconvert_exporter":  "python",
                                           "pygments_lexer":  "ipython3",
                                           "version":  "3.8.8"
                                       },
                     "minecraft":  {
                                       "description":  "TimeCraft",
                                       "page_id":  "1.1",
                                       "page_name":  "Primeiro Cientista Computacional",
                                       "style":  "minecraft.css"
                                   }
                 },
    "nbformat":  4,
    "nbformat_minor":  4
}
