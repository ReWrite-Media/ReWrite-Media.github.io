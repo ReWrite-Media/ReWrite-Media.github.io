﻿{
    "cells":  [
                  {
                      "cell_type":  "markdown",
                      "source":  [
                                     "# A Mona Lisa\n",
                                     "\n",
                                     "A Mona Lisa tem má cara, não o seu famoso sorriso. Isto deve-se ao facto do jardim dela ter sido destruído. Utiliza a função \"agent.give()\" para dar ao Agent uma pilha de \"WHITE GLAZED TERRACOTTA\" e, em seguida, utiliza \"agent.move()\" para posicionar o Agent e \"agent.place\" para colocar a \"WHITE GLAZED TERRACOTTA\".\n",
                                     "\n",
                                     "A função \"agent.give()\" requer três parâmetros.  \n",
                                     "\n",
                                     "- item (*string*): O item que pretendes dar ao Agent.\n",
                                     "- contagem (*inteiro*): Quantos itens o Agent receberá.\n",
                                     "- ranhura (*inteiro*): A ranhura do inventário onde o Agent recebe o item.\n",
                                     "\n",
                                     "A função \"agent.move()\" requer um parâmetro, direction.\n",
                                     "\n",
                                     "As direções válidas são: \n",
                                     "- para a frente\n",
                                     "- para trás\n",
                                     "- esquerda\n",
                                     "- direita\n",
                                     "- para cima\n",
                                     "- para baixo\n",
                                     "\n",
                                     "A função \"agent.place()\" requer dois parâmetros.  \n",
                                     "\n",
                                     "- número da ranhura (*inteiro*): A ranhura do inventário que o Agent deve utilizar.\n",
                                     "- direção (*string*): A direção na qual pretendes que o Agent coloque o item.\n",
                                     "    - As direções válidas são: \n",
                                     "        - para a frente\n",
                                     "        - para trás\n",
                                     "        - esquerda\n",
                                     "        - direita\n",
                                     "        - para cima\n",
                                     "        - para baixo"
                                 ],
                      "metadata":  {

                                   }
                  },
                  {
                      "cell_type":  "code",
                      "execution_count":  null,
                      "source":  [
                                     "# dá ao agent uma pilha de terracota vidrada branca\r\n",
                                     "# em seguida, avança e coloca um bloco abaixo do agent\r\n",
                                     "# faz isto cinco vezes\r\n",
                                     "\r\n",
                                     "agent.give(\"WHITE GLAZED TERRACOTTA\", 64, 1)\r\n",
                                     "agent.move(\"forward\")\r\n",
                                     "agent.place(1,\"down\")\r\n",
                                     "agent.move(\"forward\")\r\n",
                                     "agent.place(1,\"down\")\r\n",
                                     "agent.move(\"forward\")\r\n",
                                     "agent.place(1,\"down\")\r\n",
                                     "agent.move(\"forward\")\r\n",
                                     "agent.place(1,\"down\")\r\n",
                                     "agent.move(\"forward\")\r\n",
                                     "agent.place(1,\"down\")"
                                 ],
                      "outputs":  [

                                  ],
                      "metadata":  {
                                       "minecraft":  {
                                                         "baseCodeCellName":  "Example",
                                                         "closeCodeBuilderOnRun":  true,
                                                         "readonly":  true
                                                     }
                                   }
                  },
                  {
                      "cell_type":  "markdown",
                      "source":  [
                                     "# Dica Pro:\n",
                                     "\n",
                                     "Utiliza um loop \"for\" para fazer uma ou mais ações várias vezes."
                                 ],
                      "metadata":  {

                                   }
                  },
                  {
                      "cell_type":  "code",
                      "execution_count":  null,
                      "source":  [
                                     "# dá ao agent uma pilha de terracota vidrada branca\r\n",
                                     "# em seguida, avança e coloca um bloco abaixo do agent\r\n",
                                     "# faz isto cinco vezes\r\n",
                                     "\r\n",
                                     "agent.give(\"WHITE GLAZED TERRACOTTA\", 64, 1)\r\n",
                                     "for i in range(5):\r\n",
                                     "    agent.move(\"forward\")\r\n",
                                     "    agent.place(1,\"down\")"
                                 ],
                      "outputs":  [

                                  ],
                      "metadata":  {
                                       "minecraft":  {
                                                         "baseCodeCellName":  "Example",
                                                         "closeCodeBuilderOnRun":  true,
                                                         "readonly":  true
                                                     }
                                   }
                  },
                  {
                      "cell_type":  "markdown",
                      "source":  [
                                     "# Atividade\r\n",
                                     "\r\n",
                                     "Completa o esboço do quadrado de \"WHITE GLAZED TERRACOTTA\" movendo o Agent e colocando um bloco abaixo do mesmo.\r\n",
                                     "\r\n",
                                     "**Nota: Podes reiniciar a atividade com o teu dispositivo T.A.L.K. ou com o botão Reiniciar Atividade.**"
                                 ],
                      "metadata":  {

                                   }
                  },
                  {
                      "cell_type":  "code",
                      "execution_count":  null,
                      "source":  [
                                     "# código aqui\r\n",
                                     "\r\n",
                                     "\r\n"
                                 ],
                      "outputs":  [

                                  ],
                      "metadata":  {
                                       "minecraft":  {
                                                         "closeCodeBuilderOnRun":  true,
                                                         "default_code":  "# code here\n\n\n",
                                                         "resetWorldCommand":  "function act/5/reset"
                                                     }
                                   }
                  }
              ],
    "metadata":  {
                     "celltoolbar":  "Edit Metadata",
                     "kernelspec":  {
                                        "display_name":  "Python 3",
                                        "language":  "python",
                                        "name":  "python3"
                                    },
                     "language_info":  {
                                           "codemirror_mode":  {
                                                                   "name":  "ipython",
                                                                   "version":  3
                                                               },
                                           "file_extension":  ".py",
                                           "mimetype":  "text/x-python",
                                           "name":  "python",
                                           "nbconvert_exporter":  "python",
                                           "pygments_lexer":  "ipython3",
                                           "version":  "3.8.8"
                                       },
                     "minecraft":  {
                                       "description":  "TimeCraft",
                                       "page_id":  "1.1",
                                       "page_name":  "A Mona Lisa",
                                       "style":  "minecraft.css"
                                   }
                 },
    "nbformat":  4,
    "nbformat_minor":  4
}
