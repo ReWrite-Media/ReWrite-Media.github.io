﻿{
    "cells":  [
                  {
                      "cell_type":  "markdown",
                      "metadata":  {

                                   },
                      "source":  [
                                     "# A Grande Muralha da China (Depuração)\n",
                                     "\n",
                                     "Os pandas continuam a comer o andaime de bambu, impedindo o engenheiro de completar a muralha. Leva os pandas para longe da muralha. Utiliza \"agent.give()\" para dar ao Agent uma pilha de \"BAMBOO\" e usa \"agent.move()\" para posicionar o Agent e \"agent.place()\" para colocar o \"BAMBOO\"\n",
                                     "\n",
                                     "A função \"agent.give()\" requer três parâmetros.  \n",
                                     "\n",
                                     "- item (*string*): O item que pretendes dar ao Agent.\n",
                                     "- contagem (*inteiro*): Quantos itens o Agent receberá.\n",
                                     "- ranhura (*inteiro*): A ranhura do inventário onde o Agent recebe o item.\n",
                                     "\n",
                                     "A função \"agent.move()\" requer um parâmetro, direction.\n",
                                     "\n",
                                     "As direções válidas são: \n",
                                     "- para a frente\n",
                                     "- para trás\n",
                                     "- esquerda\n",
                                     "- direita\n",
                                     "- para cima\n",
                                     "- para baixo\n",
                                     "\n",
                                     "A função \"agent.place()\" requer dois parâmetros.  \n",
                                     "\n",
                                     "- número da ranhura (*inteiro*): A ranhura do inventário que o Agent deve utilizar.\n",
                                     "- direção (*string*): A direção na qual pretendes que o Agent coloque o item.\n",
                                     "    - As direções válidas são: \n",
                                     "        - para a frente\n",
                                     "        - para trás\n",
                                     "        - esquerda\n",
                                     "        - direita\n",
                                     "        - para cima\n",
                                     "        - para baixo"
                                 ]
                  },
                  {
                      "cell_type":  "code",
                      "execution_count":  null,
                      "metadata":  {
                                       "minecraft":  {
                                                         "baseCodeCellName":  "Example",
                                                         "closeCodeBuilderOnRun":  true,
                                                         "readonly":  true
                                                     }
                                   },
                      "outputs":  [

                                  ],
                      "source":  [
                                     "# dá ao agent uma pilha de bambu\n",
                                     "# coloca o bambu debaixo do agent\n",
                                     "# e, em seguida, move o agent para a frente\n",
                                     "# faz isto duas vezes\n",
                                     "\n",
                                     "agent.give(\"BAMBOO\", 64, 1)\n",
                                     "agent.place(1,\"down\")\n",
                                     "agent.move(\"forward\")\n",
                                     "agent.place(1,\"down\")"
                                 ]
                  },
                  {
                      "cell_type":  "markdown",
                      "metadata":  {

                                   },
                      "source":  [
                                     "# Dica Pro:\n",
                                     "\n",
                                     "Utilize um loop \"for\" para fazer uma ou mais ações várias vezes."
                                 ]
                  },
                  {
                      "cell_type":  "code",
                      "execution_count":  null,
                      "metadata":  {
                                       "minecraft":  {
                                                         "baseCodeCellName":  "Example",
                                                         "closeCodeBuilderOnRun":  true,
                                                         "readonly":  true
                                                     }
                                   },
                      "outputs":  [

                                  ],
                      "source":  [
                                     "# dá ao agent uma pilha de bambu\n",
                                     "# coloca o bambu debaixo do agent\n",
                                     "# e, em seguida, move o agent para a frente\n",
                                     "# faz isto duas vezes\n",
                                     "\n",
                                     "agent.give(\"BAMBOO\", 64, 1)\n",
                                     "for i in range(2):\n",
                                     "    agent.place(1,\"down\")\n",
                                     "    agent.move(\"forward\")"
                                 ]
                  },
                  {
                      "cell_type":  "markdown",
                      "metadata":  {

                                   },
                      "source":  [
                                     "# Atividade:\n",
                                     "\n",
                                     "O código abaixo tem valores incorretos. Executa o código para ver o que acontece e, em seguida, tenta depurar e corrigir o código para completar a atividade.\n",
                                     "\n",
                                     "**Nota: Utiliza o botão Reiniciar Código abaixo para redefinir a caixa de programação de volta ao código de depuração**"
                                 ]
                  },
                  {
                      "cell_type":  "code",
                      "execution_count":  null,
                      "metadata":  {
                                       "minecraft":  {
                                                         "closeCodeBuilderOnRun":  true,
                                                         "default_code":  "# code here\n\nagent.give(\"BAMBOO\", 64, 1)\nfor i in range(3):\n    agent.place(1,\"up\")\n    agent.move(\"back\")",
                                                         "resetWorldCommand":  "function act/4/reset"
                                                     }
                                   },
                      "outputs":  [

                                  ],
                      "source":  [
                                     "# código aqui\n",
                                     "\n",
                                     "agent.give(\"BAMBOO\", 64, 1)\n",
                                     "for i in range(3):\n",
                                     "    agent.place(1,\"up\")\n",
                                     "    agent.move(\"back\")"
                                 ]
                  }
              ],
    "metadata":  {
                     "celltoolbar":  "Edit Metadata",
                     "kernelspec":  {
                                        "display_name":  "Python 3",
                                        "language":  "python",
                                        "name":  "python3"
                                    },
                     "language_info":  {
                                           "codemirror_mode":  {
                                                                   "name":  "ipython",
                                                                   "version":  3
                                                               },
                                           "file_extension":  ".py",
                                           "mimetype":  "text/x-python",
                                           "name":  "python",
                                           "nbconvert_exporter":  "python",
                                           "pygments_lexer":  "ipython3",
                                           "version":  "3.8.8"
                                       },
                     "minecraft":  {
                                       "description":  "TimeCraft",
                                       "page_id":  "1.1",
                                       "page_name":  "A Grande Muralha da China",
                                       "style":  "minecraft.css"
                                   }
                 },
    "nbformat":  4,
    "nbformat_minor":  4
}
