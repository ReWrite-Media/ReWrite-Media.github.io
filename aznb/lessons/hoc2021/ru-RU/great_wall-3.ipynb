﻿{
    "cells":  [
                  {
                      "cell_type":  "markdown",
                      "metadata":  {

                                   },
                      "source":  [
                                     "# Великая Китайская стена (решение)\n",
                                     "\n",
                                     "Панды съедают бамбуковые строительные леса, не давая инженеру построить стену. Уведите панд от стены. Используйте команду \u0027agent.give()\u0027, чтобы дать Agent бамбук (\u0027BAMBOO\u0027), затем переместите Agent на нужное место с помощью команды \u0027agent.move()\u0027 и разместите бамбук (\u0027BAMBOO\u0027) командой \u0027agent.place()\u0027.\n",
                                     "\n",
                                     "Функция `agent.give()` поддерживает три параметра:  \n",
                                     "\n",
                                     "– item (*слово*): название предмета на английском языке, которое получит Agent;\n",
                                     "– count (*целое число*): количество предметов, которые получит Agent;\n",
                                     "– slot (*целое число*): номер ячейки инвентаря Agent, куда будет помещен предмет.\n",
                                     "\n",
                                     "Функция `agent.move()` поддерживает только один параметр — direction.\n",
                                     "\n",
                                     "Допустимые направления:\n",
                                     "– forward (вперед);\n",
                                     "– back (назад);\n",
                                     "– left (влево);\n",
                                     "– right (вправо);\n",
                                     "– up (вверх);\n",
                                     "– down (вниз).\n",
                                     "\n",
                                     "Функция `agent.place()`поддерживает два параметра:  \n",
                                     "\n",
                                     "– slot number (*целое число*): номер ячейки инвентаря, которую будет использовать Agent.\n",
                                     "– direction (*слово*): направление, в котором Agent поместит предмет.\n",
                                     "    – Допустимые направления:\n",
                                     "        – forward (вперед);\n",
                                     "        – back (назад);\n",
                                     "        – left (влево);\n",
                                     "        – right (вправо);\n",
                                     "        – up (вверх);\n",
                                     "        – down (вниз)."
                                 ]
                  },
                  {
                      "cell_type":  "code",
                      "execution_count":  null,
                      "metadata":  {
                                       "minecraft":  {
                                                         "baseCodeCellName":  "Example",
                                                         "closeCodeBuilderOnRun":  true,
                                                         "readonly":  true
                                                     }
                                   },
                      "outputs":  [

                                  ],
                      "source":  [
                                     "# дать Agent стопку бамбука\n",
                                     "# поместить бамбук под Agent\n",
                                     "# и переместить Agent вперед\n",
                                     "# повторить это действие 2 раза\n",
                                     "\n",
                                     "agent.give(\"BAMBOO\", 64, 1)\n",
                                     "agent.place(1,\"down\")\n",
                                     "agent.move(\"forward\")\n",
                                     "agent.place(1,\"down\")"
                                 ]
                  },
                  {
                      "cell_type":  "markdown",
                      "metadata":  {

                                   },
                      "source":  [
                                     "# Совет:\n",
                                     "\n",
                                     "Используйте цикл \u0027for\u0027, чтобы выполнить одно или несколько действий несколько раз."
                                 ]
                  },
                  {
                      "cell_type":  "code",
                      "execution_count":  null,
                      "metadata":  {
                                       "minecraft":  {
                                                         "baseCodeCellName":  "Example",
                                                         "closeCodeBuilderOnRun":  true,
                                                         "readonly":  true
                                                     }
                                   },
                      "outputs":  [

                                  ],
                      "source":  [
                                     "# дать Agent стопку бамбука\n",
                                     "# поместить бамбук под Agent\n",
                                     "# и переместить Agent вперед\n",
                                     "# повторить это действие 2 раза\n",
                                     "\n",
                                     "agent.give(\"BAMBOO\", 64, 1)\n",
                                     "for i in range(2):\n",
                                     "    agent.place(1,\"down\")\n",
                                     "    agent.move(\"forward\")"
                                 ]
                  },
                  {
                      "cell_type":  "markdown",
                      "metadata":  {

                                   },
                      "source":  [
                                     "# Задание:\n",
                                     "\n",
                                     "Приведенный ниже код является правильным решением задачи. Запустите код, чтобы увидеть его в действии.\n",
                                     "\n",
                                     "**Примечание. Нажмите расположенную ниже кнопку «Сброс кода», чтобы отменить изменения в поле для кода и вернуть решение.**"
                                 ]
                  },
                  {
                      "cell_type":  "code",
                      "execution_count":  null,
                      "metadata":  {
                                       "minecraft":  {
                                                         "closeCodeBuilderOnRun":  true,
                                                         "default_code":  "# code here\n\nagent.give(\"BAMBOO\", 64, 1)\nfor i in range(5):\n    agent.place(1,\"down\")\n    agent.move(\"forward\")",
                                                         "resetWorldCommand":  "function act/4/reset"
                                                     }
                                   },
                      "outputs":  [

                                  ],
                      "source":  [
                                     "# код здесь\n",
                                     "\n",
                                     "agent.give(\"BAMBOO\", 64, 1)\n",
                                     "for i in range(5):\n",
                                     "    agent.place(1,\"down\")\n",
                                     "    agent.move(\"forward\")"
                                 ]
                  }
              ],
    "metadata":  {
                     "celltoolbar":  "Edit Metadata",
                     "kernelspec":  {
                                        "display_name":  "Python 3",
                                        "language":  "python",
                                        "name":  "python3"
                                    },
                     "language_info":  {
                                           "codemirror_mode":  {
                                                                   "name":  "ipython",
                                                                   "version":  3
                                                               },
                                           "file_extension":  ".py",
                                           "mimetype":  "text/x-python",
                                           "name":  "python",
                                           "nbconvert_exporter":  "python",
                                           "pygments_lexer":  "ipython3",
                                           "version":  "3.8.8"
                                       },
                     "minecraft":  {
                                       "description":  "TimeCraft",
                                       "page_id":  "1.1",
                                       "page_name":  "Великая Китайская стена",
                                       "style":  "minecraft.css"
                                   }
                 },
    "nbformat":  4,
    "nbformat_minor":  4
}
