﻿{
    "cells":  [
                  {
                      "cell_type":  "markdown",
                      "metadata":  {

                                   },
                      "source":  [
                                     "# Первый полет\n",
                                     "\n",
                                     "Один из первых самолетов вот-вот взлетит, но на взлетно-посадочной полосе есть ямы!\n",
                                     "Запрограммируйте Agent, чтобы закопать их. Используйте функцию \u0027agent.give()\u0027, чтобы дать Agent блоки земли (‘DIRT’), затем разместите Agent над ямами с помощью функции \u0027agent.move()’ и заполните их, используя функцию \u0027agent.place()\u0027.\n",
                                     "\n",
                                     "Функция `agent.give()` поддерживает три параметра:  \n",
                                     "\n",
                                     "– item (*слово*): название предмета на английском языке, которое получит Agent;\n",
                                     "– count (*целое число*): количество предметов, которые получит Agent;\n",
                                     "– slot (*целое число*): номер ячейки инвентаря Agent, куда будет помещен предмет.\n",
                                     "\n",
                                     "Функция `agent.move()` поддерживает только один параметр: direction (направление).\n",
                                     "\n",
                                     "Допустимые направления:\n",
                                     "– forward (вперед);\n",
                                     "– back (назад);\n",
                                     "– left (влево);\n",
                                     "– right (вправо);\n",
                                     "– up (вверх);\n",
                                     "– down (вниз).\n",
                                     "\n",
                                     "Функция `agent.place()`поддерживает два параметра:  \n",
                                     "\n",
                                     "– slot number (*целое число*): номер ячейки инвентаря, которую будет использовать Agent.\n",
                                     "– direction (*слово*): направление, в котором Agent поместит предмет.\n",
                                     "    – Допустимые направления:\n",
                                     "        – forward (вперед);\n",
                                     "        – back (назад);\n",
                                     "        – left (влево);\n",
                                     "        – right (вправо);\n",
                                     "        – up (вверх);\n",
                                     "        – down (вниз).\n",
                                     "\n",
                                     "Функция `agent.turn()` поддерживает один параметр — turn_direction (направление поворота).\n",
                                     "\n",
                                     "Допустимые направления:\n",
                                     "– left (влево);\n",
                                     "– right (вправо)."
                                 ]
                  },
                  {
                      "cell_type":  "code",
                      "execution_count":  null,
                      "metadata":  {
                                       "minecraft":  {
                                                         "baseCodeCellName":  "Example",
                                                         "closeCodeBuilderOnRun":  true,
                                                         "readonly":  true
                                                     }
                                   },
                      "outputs":  [

                                  ],
                      "source":  [
                                     "# дать Agent блоки земли\n",
                                     "# переместиться на 1 вперед и поместить внизу\n",
                                     "# повторить это действие 2 раза\n",
                                     "\n",
                                     "agent.give(\"DIRT\", 64, 1)\n",
                                     "agent.move(\"forward\")\n",
                                     "agent.place(1,\"down\")\n",
                                     "agent.move(\"forward\")\n",
                                     "agent.place(1,\"down\")\n",
                                     "\n"
                                 ]
                  },
                  {
                      "cell_type":  "markdown",
                      "metadata":  {

                                   },
                      "source":  [
                                     "# Совет:\n",
                                     "\n",
                                     "Используйте цикл \u0027for\u0027, чтобы выполнить одно или несколько действий несколько раз."
                                 ]
                  },
                  {
                      "cell_type":  "code",
                      "execution_count":  null,
                      "metadata":  {
                                       "minecraft":  {
                                                         "baseCodeCellName":  "Example",
                                                         "closeCodeBuilderOnRun":  true,
                                                         "readonly":  true
                                                     }
                                   },
                      "outputs":  [

                                  ],
                      "source":  [
                                     "# дать Agent блоки земли\n",
                                     "# переместиться на 1 вперед и поместить внизу\n",
                                     "# повторить это действие 2 раза\n",
                                     "\n",
                                     "agent.give(\"DIRT\", 64, 1)\n",
                                     "for i in range(2):\n",
                                     "    agent.move(\"forward\")\n",
                                     "    agent.place(1,\"down\")\n"
                                 ]
                  },
                  {
                      "cell_type":  "markdown",
                      "metadata":  {

                                   },
                      "source":  [
                                     "# Задача\n",
                                     "\n",
                                     "Заполните ямы на взлетно-посадочной полосе землей (‘DIRT’), чтобы дать возможность совершить первый полет.\n",
                                     "\n",
                                     "**Примечание. Задачу можно перезапустить с помощью устройства КСАВ или с помощью кнопки «Перезапустить задачу».**"
                                 ]
                  },
                  {
                      "cell_type":  "code",
                      "execution_count":  null,
                      "metadata":  {
                                       "minecraft":  {
                                                         "closeCodeBuilderOnRun":  true,
                                                         "default_code":  "# code here\n\n\n",
                                                         "resetWorldCommand":  "function act/6/reset"
                                                     }
                                   },
                      "outputs":  [

                                  ],
                      "source":  [
                                     "# код здесь\n",
                                     "\n",
                                     "\n"
                                 ]
                  }
              ],
    "metadata":  {
                     "celltoolbar":  "Edit Metadata",
                     "kernelspec":  {
                                        "display_name":  "Python 3",
                                        "language":  "python",
                                        "name":  "python3"
                                    },
                     "language_info":  {
                                           "codemirror_mode":  {
                                                                   "name":  "ipython",
                                                                   "version":  3
                                                               },
                                           "file_extension":  ".py",
                                           "mimetype":  "text/x-python",
                                           "name":  "python",
                                           "nbconvert_exporter":  "python",
                                           "pygments_lexer":  "ipython3",
                                           "version":  "3.8.8"
                                       },
                     "minecraft":  {
                                       "description":  "TimeCraft",
                                       "page_id":  "1.1",
                                       "page_name":  "Первый полет",
                                       "style":  "minecraft.css"
                                   }
                 },
    "nbformat":  4,
    "nbformat_minor":  4
}
