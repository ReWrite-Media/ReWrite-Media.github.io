﻿{
    "cells":  [
                  {
                      "cell_type":  "markdown",
                      "metadata":  {

                                   },
                      "source":  [
                                     "# Зона тестирования\n",
                                     "\n",
                                     "Это ваша первая задача по программированию. Давайте проверим, как Agent времени выполняет указания, содержащиеся в вашем коде. Используйте команду `agent.move()`, чтобы переместить Agent на 3 блока вперед к нужному месту.\n",
                                     "\n",
                                     "Нажмите кнопку запуска, чтобы выполнить код.\n",
                                     "\n",
                                     "Функция `agent.move()` поддерживает только один параметр — direction.\n",
                                     "\n",
                                     "Допустимые направления:\n",
                                     "– forward (вперед);\n",
                                     "– back (назад);\n",
                                     "– left (влево);\n",
                                     "– right (вправо);\n",
                                     "– up (вверх);\n",
                                     "– down (вниз).\n",
                                     "\n",
                                     "Пример."
                                 ]
                  },
                  {
                      "cell_type":  "code",
                      "execution_count":  null,
                      "metadata":  {
                                       "minecraft":  {
                                                         "baseCodeCellName":  "Example",
                                                         "closeCodeBuilderOnRun":  true,
                                                         "readonly":  true
                                                     }
                                   },
                      "outputs":  [

                                  ],
                      "source":  [
                                     "# переместить Agent на 2 блока вверх и на 1 блок назад\n",
                                     "agent.move(\"forward\")\n",
                                     "agent.move(\"forward\")\n",
                                     "agent.move(\"back\")"
                                 ]
                  },
                  {
                      "cell_type":  "markdown",
                      "metadata":  {

                                   },
                      "source":  [
                                     "# Совет:\n",
                                     "\n",
                                     "Чтобы выполнить одно или несколько действий несколько раз, используйте цикл `for`.\n",
                                     "\n",
                                     "Пример."
                                 ]
                  },
                  {
                      "cell_type":  "code",
                      "execution_count":  null,
                      "metadata":  {
                                       "minecraft":  {
                                                         "baseCodeCellName":  "Example",
                                                         "closeCodeBuilderOnRun":  true,
                                                         "readonly":  true
                                                     }
                                   },
                      "outputs":  [

                                  ],
                      "source":  [
                                     "# переместить Agent на 2 блока вверх и на 1 блок назад\n",
                                     "for i in range(2):\n",
                                     "    agent.move(\"forward\")\n",
                                     "agent.move(\"back\")    "
                                 ]
                  },
                  {
                      "cell_type":  "markdown",
                      "metadata":  {

                                   },
                      "source":  [
                                     "# Задача\n",
                                     "\n",
                                     "Переместите Agent в позицию на три блока вперед.\n",
                                     "\n",
                                     "**Примечание. Задачу можно перезапустить с помощью устройства КСАВ или с помощью кнопки «Перезапустить задачу».**"
                                 ]
                  },
                  {
                      "cell_type":  "code",
                      "execution_count":  null,
                      "metadata":  {
                                       "minecraft":  {
                                                         "closeCodeBuilderOnRun":  true,
                                                         "default_code":  "# code here\n\n\n",
                                                         "resetWorldCommand":  "function act/0/reset"
                                                     }
                                   },
                      "outputs":  [

                                  ],
                      "source":  [
                                     "# код здесь\n",
                                     "\n",
                                     "\n"
                                 ]
                  }
              ],
    "metadata":  {
                     "celltoolbar":  "Edit Metadata",
                     "kernelspec":  {
                                        "display_name":  "Python 3",
                                        "language":  "python",
                                        "name":  "python3"
                                    },
                     "language_info":  {
                                           "codemirror_mode":  {
                                                                   "name":  "ipython",
                                                                   "version":  3
                                                               },
                                           "file_extension":  ".py",
                                           "mimetype":  "text/x-python",
                                           "name":  "python",
                                           "nbconvert_exporter":  "python",
                                           "pygments_lexer":  "ipython3",
                                           "version":  "3.8.8"
                                       },
                     "minecraft":  {
                                       "description":  "TimeCraft",
                                       "page_id":  "1.1",
                                       "page_name":  "Зона тестирования",
                                       "style":  "minecraft.css"
                                   }
                 },
    "nbformat":  4,
    "nbformat_minor":  4
}
