﻿{
    "cells":  [
                  {
                      "cell_type":  "markdown",
                      "source":  [
                                     "# Лунная миссия\n",
                                     "\n",
                                     "Отправьте своего Agent в космический модуль, чтобы доставить расчеты. Вы не можете посчитать отрезки, на которые Agent должен переместиться, чтобы выполнить миссию. Обдумайте необходимые ходы и используйте расчеты математика, чтобы определить, сколько ходов должен сделать Agent. Используйте команду `agent.move()`, чтобы привести Agent к лунному модулю и пристыковаться к нему.\n",
                                     "\n",
                                     "Функция `agent.move()` поддерживает только один параметр: direction (направление).\n",
                                     "\n",
                                     "Допустимые направления:\n",
                                     "– forward (вперед);\n",
                                     "– back (назад);\n",
                                     "– left (влево);\n",
                                     "– right (вправо);\n",
                                     "– up (вверх);\n",
                                     "– down (вниз).\n",
                                     "\n",
                                     "Функция `agent.turn()` поддерживает один параметр — turn_direction (направление поворота).\n",
                                     "\n",
                                     "Допустимые направления:\n",
                                     "– left (влево);\n",
                                     "– right (вправо)."
                                 ],
                      "metadata":  {

                                   }
                  },
                  {
                      "cell_type":  "code",
                      "execution_count":  null,
                      "source":  [
                                     "# переместить Agent на 5 блоков вперед\r\n",
                                     "# затем повернуть направо\r\n",
                                     "agent.move(\"forward\")\r\n",
                                     "agent.move(\"forward\")\r\n",
                                     "agent.move(\"forward\")\r\n",
                                     "agent.move(\"forward\")\r\n",
                                     "agent.move(\"forward\")\r\n",
                                     "agent.turn(\"right\")"
                                 ],
                      "outputs":  [

                                  ],
                      "metadata":  {
                                       "minecraft":  {
                                                         "baseCodeCellName":  "Example",
                                                         "closeCodeBuilderOnRun":  true,
                                                         "readonly":  true
                                                     }
                                   }
                  },
                  {
                      "cell_type":  "markdown",
                      "source":  [
                                     "# Совет:\n",
                                     "\n",
                                     "Используйте цикл \u0027for\u0027, чтобы выполнить одно или несколько действий несколько раз."
                                 ],
                      "metadata":  {

                                   }
                  },
                  {
                      "cell_type":  "code",
                      "execution_count":  null,
                      "source":  [
                                     "# переместить Agent на 5 блоков вперед\r\n",
                                     "# затем повернуть направо\r\n",
                                     "for i in range(5):\r\n",
                                     "    agent.move(\"forward\")\r\n",
                                     "agent.turn(\"right\")    "
                                 ],
                      "outputs":  [

                                  ],
                      "metadata":  {
                                       "minecraft":  {
                                                         "baseCodeCellName":  "Example",
                                                         "closeCodeBuilderOnRun":  true,
                                                         "readonly":  true
                                                     }
                                   }
                  },
                  {
                      "cell_type":  "markdown",
                      "source":  [
                                     "# Задача\n",
                                     "\n",
                                     "Приведите Agent к лунному модулю, продвинувшись на 25 блоков вперед, на 17 блоков вправо и на 3 блока вниз.\n",
                                     "\n",
                                     "**Примечание. Задачу можно перезапустить с помощью устройства КСАВ или с помощью кнопки «Перезапустить задачу».**"
                                 ],
                      "metadata":  {

                                   }
                  },
                  {
                      "cell_type":  "code",
                      "execution_count":  null,
                      "source":  [
                                     "# место для кода\r\n",
                                     "\r\n",
                                     "\r\n"
                                 ],
                      "outputs":  [

                                  ],
                      "metadata":  {
                                       "minecraft":  {
                                                         "closeCodeBuilderOnRun":  true,
                                                         "default_code":  "# code here\n\n\n",
                                                         "resetWorldCommand":  "function act/3/reset"
                                                     }
                                   }
                  }
              ],
    "metadata":  {
                     "celltoolbar":  "Edit Metadata",
                     "kernelspec":  {
                                        "display_name":  "Python 3",
                                        "language":  "python",
                                        "name":  "python3"
                                    },
                     "language_info":  {
                                           "codemirror_mode":  {
                                                                   "name":  "ipython",
                                                                   "version":  3
                                                               },
                                           "file_extension":  ".py",
                                           "mimetype":  "text/x-python",
                                           "name":  "python",
                                           "nbconvert_exporter":  "python",
                                           "pygments_lexer":  "ipython3",
                                           "version":  "3.8.8"
                                       },
                     "minecraft":  {
                                       "description":  "TimeCraft",
                                       "page_id":  "1.1",
                                       "page_name":  "Лунная миссия",
                                       "style":  "minecraft.css"
                                   }
                 },
    "nbformat":  4,
    "nbformat_minor":  4
}
