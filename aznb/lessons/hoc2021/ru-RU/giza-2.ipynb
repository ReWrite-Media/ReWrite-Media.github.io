﻿{
    "cells":  [
                  {
                      "cell_type":  "markdown",
                      "metadata":  {

                                   },
                      "source":  [
                                     "# Великая пирамида в Гизе (отладка)\n",
                                     "\n",
                                     "Помогите архитектору закончить треугольник — конструкцию, которая выдержит испытание временем. Подумайте, как\n",
                                     "Создайте пирамиду. Необходимо еще 2 уровня: 3 блока внизу и 1 блок сверху. Создайте программное решение, используя оператор `agent.give()`, чтобы дать своему Agent стопку песчаника (`SANDSTONE`), оператор `agent.move()`, чтобы привести Agent в нужное место, и оператор `agent.place()`, чтобы разместить блоки в форме пирамиды из трех уровней.\n",
                                     "\n",
                                     "Функция `agent.give()` поддерживает три параметра:  \n",
                                     "\n",
                                     "– item (*слово*): название предмета на английском языке, которое получит Agent;\n",
                                     "– count (*целое число*): количество предметов, которые получит Agent;\n",
                                     "– slot (*целое число*): номер ячейки инвентаря Agent, куда будет помещен предмет.\n",
                                     "\n",
                                     "Функция `agent.move()` поддерживает только один параметр: direction (направление).\n",
                                     "\n",
                                     "Допустимые направления:\n",
                                     "– forward (вперед);\n",
                                     "– back (назад);\n",
                                     "– left (влево);\n",
                                     "– right (вправо);\n",
                                     "– up (вверх);\n",
                                     "– down (вниз)\n",
                                     "\n",
                                     "Функция `agent.place()`поддерживает два параметра. \n",
                                     "\n",
                                     "– slot number (*целое число*): номер ячейки инвентаря, которую будет использовать Agent.\n",
                                     "– direction (*слово*): направление, в котором Agent поместит предмет.\n",
                                     "    – Допустимые направления:\n",
                                     "        – forward (вперед);\n",
                                     "        – back (назад);\n",
                                     "        – left (влево);\n",
                                     "        – right (вправо);\n",
                                     "        – up (вверх);\n",
                                     "        – down (вниз).\n",
                                     "        \n",
                                     "Функция `agent.turn()` поддерживает один параметр — turn_direction (направление поворота).\n",
                                     "\n",
                                     "Допустимые направления:\n",
                                     "– left (влево)\n",
                                     "– right (вправо)"
                                 ]
                  },
                  {
                      "cell_type":  "code",
                      "execution_count":  null,
                      "metadata":  {
                                       "minecraft":  {
                                                         "baseCodeCellName":  "Example",
                                                         "closeCodeBuilderOnRun":  true,
                                                         "readonly":  true
                                                     }
                                   },
                      "outputs":  [

                                  ],
                      "source":  [
                                     "# дать Agent стопку песчаника\n",
                                     "# переместить Agent вперед\n",
                                     "# и разместить блоки песчаника\n",
                                     "# повторить это действие 5 раз\n",
                                     "\n",
                                     "agent.give(\"SANDSTONE\", 64, 1)\n",
                                     "agent.move(\"forward\")\n",
                                     "agent.place(1,\"back\")\n",
                                     "agent.move(\"forward\")\n",
                                     "agent.place(1,\"back\")\n",
                                     "agent.move(\"forward\")\n",
                                     "agent.place(1,\"back\")\n",
                                     "agent.move(\"forward\")\n",
                                     "agent.place(1,\"back\")\n",
                                     "agent.move(\"forward\")\n",
                                     "agent.place(1,\"back\")"
                                 ]
                  },
                  {
                      "cell_type":  "markdown",
                      "metadata":  {

                                   },
                      "source":  [
                                     "# Совет:\n",
                                     "\n",
                                     "Используйте цикл \u0027for\u0027, чтобы выполнить одно или несколько действий несколько раз."
                                 ]
                  },
                  {
                      "cell_type":  "code",
                      "execution_count":  null,
                      "metadata":  {
                                       "minecraft":  {
                                                         "baseCodeCellName":  "Example",
                                                         "closeCodeBuilderOnRun":  true,
                                                         "readonly":  true
                                                     }
                                   },
                      "outputs":  [

                                  ],
                      "source":  [
                                     "# дать Agent стопку песчаника\n",
                                     "# переместить Agent вперед\n",
                                     "# и разместить блоки песчаника\n",
                                     "# повторить это действие 5 раз\n",
                                     "\n",
                                     "agent.give(\"SANDSTONE\", 64, 1)\n",
                                     "for i in range(5):\n",
                                     "    agent.move(\"forward\")\n",
                                     "    agent.place(1,\"back\")"
                                 ]
                  },
                  {
                      "cell_type":  "markdown",
                      "metadata":  {

                                   },
                      "source":  [
                                     "# Задание:\n",
                                     "\n",
                                     "Приведенный ниже код содержит неверные значения. Запустите его, чтобы посмотреть, что произойдет, а затем попробуйте отладить и исправить код, чтобы выполнить задачу.\n",
                                     "\n",
                                     "**Примечание. Нажмите расположенную ниже кнопку «Сброс кода», чтобы отменить изменения в поле для кода и вернуть отладочный код.**"
                                 ]
                  },
                  {
                      "cell_type":  "code",
                      "execution_count":  null,
                      "metadata":  {
                                       "minecraft":  {
                                                         "closeCodeBuilderOnRun":  true,
                                                         "default_code":  "# code here\n\nagent.give(\"SANDSTONE\", 64, 1)\n\nfor i in range(2):\n    agent.move(\"forward\")\n    agent.place(1,\"back\")\n\nagent.move(\"up\")\nagent.turn(\"left\")\nagent.turn(\"right\")\nagent.move(\"forward\")\nagent.move(\"forward\")\n\nagent.move(\"forward\")\nagent.place(1,\"up\")",
                                                         "resetWorldCommand":  "function act/2/reset"
                                                     }
                                   },
                      "outputs":  [

                                  ],
                      "source":  [
                                     "# код здесь\n",
                                     "\n",
                                     "agent.give(\"SANDSTONE\", 64, 1)\n",
                                     "\n",
                                     "for i in range(2):\n",
                                     "    agent.move(\"forward\")\n",
                                     "    agent.place(1,\"back\")\n",
                                     "\n",
                                     "agent.move(\"up\")\n",
                                     "agent.turn(\"left\")\n",
                                     "agent.turn(\"right\")\n",
                                     "agent.move(\"forward\")\n",
                                     "agent.move(\"forward\")\n",
                                     "\n",
                                     "agent.move(\"forward\")\n",
                                     "agent.place(1,\"up\")"
                                 ]
                  }
              ],
    "metadata":  {
                     "celltoolbar":  "Edit Metadata",
                     "kernelspec":  {
                                        "display_name":  "Python 3",
                                        "language":  "python",
                                        "name":  "python3"
                                    },
                     "language_info":  {
                                           "codemirror_mode":  {
                                                                   "name":  "ipython",
                                                                   "version":  3
                                                               },
                                           "file_extension":  ".py",
                                           "mimetype":  "text/x-python",
                                           "name":  "python",
                                           "nbconvert_exporter":  "python",
                                           "pygments_lexer":  "ipython3",
                                           "version":  "3.8.8"
                                       },
                     "minecraft":  {
                                       "description":  "TimeCraft",
                                       "page_id":  "1.1",
                                       "page_name":  "Пирамиды Гизы",
                                       "style":  "minecraft.css"
                                   }
                 },
    "nbformat":  4,
    "nbformat_minor":  4
}
