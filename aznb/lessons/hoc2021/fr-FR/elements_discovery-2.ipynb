﻿{
    "cells":  [
                  {
                      "cell_type":  "markdown",
                      "metadata":  {

                                   },
                      "source":  [
                                     "# Éléments de discovery (Debug)\n",
                                     "\n",
                                     "Lorsque la chimiste a quitté la pièce, quelqu’un a caché ses recherches dans la bibliothèque. Codez votre\n",
                                     "Agent pour casser la bibliothèque verte rougeoyante, afin qu’elle puisse partager ses découvertes. Utilisez la fonction \u0027agent.move()\u0027 pour déplacer l’agent vers la bibliothèque verte incandescente, puis utilisez \u0027agent.destroy()\u0027 pour les casser.\n",
                                     "\n",
                                     "La fonction `agent.move()` prend un seul paramètre, la direction.\n",
                                     "\n",
                                     "Les directions valides sont : \n",
                                     "- forward\n",
                                     "- back\n",
                                     "- left\n",
                                     "- right\n",
                                     "- up\n",
                                     "- down\n",
                                     "\n",
                                     "La fonction `agent.destroy()` prend un seul paramètre, la direction.\n",
                                     "\n",
                                     "Les directions valides sont : \n",
                                     "- forward\n",
                                     "- back\n",
                                     "- left\n",
                                     "- right\n",
                                     "- up\n",
                                     "- down\n",
                                     "\n",
                                     "La fonction `agent.turn()` prend un seul paramètre, turn_direction.\n",
                                     "\n",
                                     "Les directions valides sont : \n",
                                     "- left\n",
                                     "- right"
                                 ]
                  },
                  {
                      "cell_type":  "code",
                      "execution_count":  null,
                      "metadata":  {
                                       "minecraft":  {
                                                         "baseCodeCellName":  "Example",
                                                         "closeCodeBuilderOnRun":  true,
                                                         "readonly":  true
                                                     }
                                   },
                      "outputs":  [

                                  ],
                      "source":  [
                                     "# déplacer l’agent vers le haut de 2 blocs, vers l’avant 2 blocs\n",
                                     "# puis casser le bloc à gauche\n",
                                     "\n",
                                     "agent.move(\"up\")\n",
                                     "agent.move(\"up\")\n",
                                     "agent.move(\"forward\")\n",
                                     "agent.move(\"forward\")\n",
                                     "agent.destroy(\"left\")"
                                 ]
                  },
                  {
                      "cell_type":  "markdown",
                      "metadata":  {

                                   },
                      "source":  [
                                     "# Conseil de pro :\n",
                                     "\n",
                                     "Utilisez une boucle `for` pour effectuer une ou plusieurs actions plusieurs fois."
                                 ]
                  },
                  {
                      "cell_type":  "code",
                      "execution_count":  null,
                      "metadata":  {
                                       "minecraft":  {
                                                         "baseCodeCellName":  "Example",
                                                         "closeCodeBuilderOnRun":  true,
                                                         "readonly":  true
                                                     }
                                   },
                      "outputs":  [

                                  ],
                      "source":  [
                                     "# déplacer l’agent vers le haut de 2 blocs, vers l’avant 2 blocs\n",
                                     "# puis casser le bloc à gauche\n",
                                     "\n",
                                     "for i in range (2):\n",
                                     "    agent.move(\"up\")\n",
                                     "for i in range (2):\n",
                                     "    agent.move(\"forward\")\n",
                                     "agent.destroy(\"left\")"
                                 ]
                  },
                  {
                      "cell_type":  "markdown",
                      "metadata":  {

                                   },
                      "source":  [
                                     "# Activité :\n",
                                     "\n",
                                     "Le code ci-dessous a des valeurs incorrectes. Exécutez le code pour voir ce qu\u0027il se passe, puis essayez de déboguer et de corriger le code pour terminer l’activité.\n",
                                     "\n",
                                     "**Remarque : Utilisez le bouton Réinitialiser le code ci-dessous pour réinitialiser la zone de codage au code de débogage**"
                                 ]
                  },
                  {
                      "cell_type":  "code",
                      "execution_count":  null,
                      "metadata":  {
                                       "minecraft":  {
                                                         "closeCodeBuilderOnRun":  true,
                                                         "default_code":  "# code here\n\nagent.move(\"up\")\nagent.move(\"up\")\n\nagent.move(\"forward\")\nagent.move(\"forward\")\n\nagent.destroy(\"left\")",
                                                         "resetWorldCommand":  "function act/10/reset"
                                                     }
                                   },
                      "outputs":  [

                                  ],
                      "source":  [
                                     "# code ici\n",
                                     "\n",
                                     "agent.move(\"up\")\n",
                                     "agent.move(\"up\")\n",
                                     "\n",
                                     "agent.move(\"forward\")\n",
                                     "agent.move(\"forward\")\n",
                                     "\n",
                                     "agent.destroy(\"left\")"
                                 ]
                  }
              ],
    "metadata":  {
                     "celltoolbar":  "Edit Metadata",
                     "kernelspec":  {
                                        "display_name":  "Python 3",
                                        "language":  "python",
                                        "name":  "python3"
                                    },
                     "language_info":  {
                                           "codemirror_mode":  {
                                                                   "name":  "ipython",
                                                                   "version":  3
                                                               },
                                           "file_extension":  ".py",
                                           "mimetype":  "text/x-python",
                                           "name":  "python",
                                           "nbconvert_exporter":  "python",
                                           "pygments_lexer":  "ipython3",
                                           "version":  "3.8.8"
                                       },
                     "minecraft":  {
                                       "description":  "TimeCraft",
                                       "page_id":  "1.1",
                                       "page_name":  "Éléments de découverte",
                                       "style":  "minecraft.css"
                                   }
                 },
    "nbformat":  4,
    "nbformat_minor":  4
}
