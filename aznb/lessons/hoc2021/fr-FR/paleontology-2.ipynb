﻿{
    "cells":  [
                  {
                      "cell_type":  "markdown",
                      "metadata":  {

                                   },
                      "source":  [
                                     "# Puzzle de paléontologie (Déboguer)\n",
                                     "\n",
                                     "Quelqu’un a retiré des os du squelette du dinosaure et les a remplacés par des blocs orange. Programmez votre agent pour DÉTRUIRE les 4 blocs orange et PLACER les blocs \u0027BLOC D\u0027OS\u0027. Utilisez la fonction `agent.give()` pour donner à votre agent une pile de `BLOC D\u0027OS` et `agent.move()` pour positionner votre agent au-dessus du bloc orange Puis utilisez `agent.destroy()` pour casser le bloc orange et `agent.place()` pour le remplacer par un `BLOC D\u0027OS`.\n",
                                     "\n",
                                     "La fonction `agent.give()` prend trois paramètres.  \n",
                                     "\n",
                                     "- objet (*chaîne*) : L’objet que vous souhaitez donner à l’Agent.\n",
                                     "- nombre (*entier*) : Combien d’objets l’Agent recevra.\n",
                                     "- emplacement (*entier*) : Dans quel emplacement d’inventaire l’Agent recevra l\u0027objet.\n",
                                     "\n",
                                     "La fonction `agent.move()` prend un seul paramètre, la direction.\n",
                                     "\n",
                                     "Les directions valides sont : \n",
                                     "- forward\n",
                                     "- back\n",
                                     "- left\n",
                                     "- right\n",
                                     "- up\n",
                                     "- down\n",
                                     "\n",
                                     "La fonction `agent.destroy()` prend un seul paramètre, la direction.\n",
                                     "\n",
                                     "Les directions valides sont : \n",
                                     "- forward\n",
                                     "- back\n",
                                     "- left\n",
                                     "- right\n",
                                     "- up\n",
                                     "- down\n",
                                     "\n",
                                     "La fonction `agent.place()` prend deux paramètres.  \n",
                                     "\n",
                                     "- numéro d\u0027emplacement (*entier*) : Quel emplacement d’inventaire l’Agent doit utiliser.\n",
                                     "- direction (*chaîne*): La direction dans laquelle vous voulez que l’agent aille placer l\u0027objet.\n",
                                     "    - Les directions valides sont : \n",
                                     "        - forward\n",
                                     "        - back\n",
                                     "        - left\n",
                                     "        - right\n",
                                     "        - up\n",
                                     "        - down"
                                 ]
                  },
                  {
                      "cell_type":  "code",
                      "execution_count":  null,
                      "metadata":  {
                                       "minecraft":  {
                                                         "baseCodeCellName":  "Example",
                                                         "closeCodeBuilderOnRun":  true,
                                                         "readonly":  true
                                                     }
                                   },
                      "outputs":  [

                                  ],
                      "source":  [
                                     "# donner à l’agent une pile de bloneblocks\n",
                                     "# puis avancez deux, cassez le ci-dessous en dessous\n",
                                     "# puis placez le bloc osseux\n",
                                     "# faites cela 2 fois.\n",
                                     "\n",
                                     "agent.give(\"BONEBLOCK\", 64, 1)\n",
                                     "agent.move(\"forward\")\n",
                                     "agent.move(\"forward\")\n",
                                     "agent.destroy(\"down\")\n",
                                     "agent.place(1,\"down\")\n",
                                     "agent.move(\"forward\")\n",
                                     "agent.move(\"forward\")\n",
                                     "agent.destroy(\"down\")\n",
                                     "agent.place(1,\"down\")"
                                 ]
                  },
                  {
                      "cell_type":  "markdown",
                      "metadata":  {

                                   },
                      "source":  [
                                     "# Conseil de pro :\n",
                                     "\n",
                                     "Utilisez une boucle `for` pour effectuer une ou plusieurs actions plusieurs fois."
                                 ]
                  },
                  {
                      "cell_type":  "code",
                      "execution_count":  null,
                      "metadata":  {
                                       "minecraft":  {
                                                         "baseCodeCellName":  "Example",
                                                         "closeCodeBuilderOnRun":  true,
                                                         "readonly":  true
                                                     }
                                   },
                      "outputs":  [

                                  ],
                      "source":  [
                                     "# donner à l’agent une pile de bloneblocks\n",
                                     "# puis avancez deux, cassez le ci-dessous en dessous\n",
                                     "# puis placez le bloc osseux\n",
                                     "# faites cela 2 fois.\n",
                                     "\n",
                                     "agent.give(\"BONEBLOCK\", 64, 1)\n",
                                     "\n",
                                     "for i in range(2):\n",
                                     "    agent.move(\"forward\")\n",
                                     "    agent.move(\"forward\")\n",
                                     "    agent.destroy(\"down\")\n",
                                     "    agent.place(1,\"down\")"
                                 ]
                  },
                  {
                      "cell_type":  "markdown",
                      "metadata":  {

                                   },
                      "source":  [
                                     "# Activité :\n",
                                     "\n",
                                     "Le code ci-dessous a des valeurs incorrectes. Exécutez le code pour voir ce qu\u0027il se passe, puis essayez de déboguer et de corriger le code pour terminer l’activité.\n",
                                     "\n",
                                     "**Remarque : Utilisez le bouton Réinitialiser le code ci-dessous pour réinitialiser la zone de codage au code de débogage**"
                                 ]
                  },
                  {
                      "cell_type":  "code",
                      "execution_count":  null,
                      "metadata":  {
                                       "minecraft":  {
                                                         "closeCodeBuilderOnRun":  true,
                                                         "default_code":  "# code here\n\nagent.give(\"BONEBLOCK\", 64, 1)\n\nfor i in range(3):\n    agent.move(\"forward\")\n    agent.move(\"forward\")\n    agent.destroy(\"down\")\n    agent.place(1,\"up\")",
                                                         "resetWorldCommand":  "function act/9/reset"
                                                     }
                                   },
                      "outputs":  [

                                  ],
                      "source":  [
                                     "# code ici\n",
                                     "\n",
                                     "agent.give(\"BONEBLOCK\", 64, 1)\n",
                                     "\n",
                                     "for i in range(3):\n",
                                     "    agent.move(\"forward\")\n",
                                     "    agent.move(\"forward\")\n",
                                     "    agent.destroy(\"down\")\n",
                                     "    agent.place(1,\"up\")"
                                 ]
                  }
              ],
    "metadata":  {
                     "celltoolbar":  "Edit Metadata",
                     "kernelspec":  {
                                        "display_name":  "Python 3",
                                        "language":  "python",
                                        "name":  "python3"
                                    },
                     "language_info":  {
                                           "codemirror_mode":  {
                                                                   "name":  "ipython",
                                                                   "version":  3
                                                               },
                                           "file_extension":  ".py",
                                           "mimetype":  "text/x-python",
                                           "name":  "python",
                                           "nbconvert_exporter":  "python",
                                           "pygments_lexer":  "ipython3",
                                           "version":  "3.8.8"
                                       },
                     "minecraft":  {
                                       "description":  "TimeCraft",
                                       "page_id":  "1.1",
                                       "page_name":  "Énigme paléontologique",
                                       "style":  "minecraft.css"
                                   }
                 },
    "nbformat":  4,
    "nbformat_minor":  4
}
