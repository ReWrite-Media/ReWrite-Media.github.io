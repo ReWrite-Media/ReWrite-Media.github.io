﻿{
    "cells":  [
                  {
                      "cell_type":  "markdown",
                      "metadata":  {

                                   },
                      "source":  [
                                     "# La Grande Muraille de Chine (Débogage)\n",
                                     "\n",
                                     "Les pandas ne cessent de manger l’échafaudage en bambou et empêchent l’ingénieur de terminer le mur. Éloignez les pandas du mur. Utilisez `agent.give()` pour donner à votre Agent une pile de `BAMBOO`, puis utilisez `agent.move()` pour positionner votre Agent et `agent.place()` pour placer le `BAMBOO`\n",
                                     "\n",
                                     "La fonction `agent.give()` prend trois paramètres.  \n",
                                     "\n",
                                     "- objet (*chaîne*) : L’objet que vous souhaitez donner à l’Agent.\n",
                                     "- nombre (*entier*) : Combien d’objets l’Agent recevra.\n",
                                     "- emplacement (*entier*) : Dans quel emplacement d’inventaire l’Agent recevra l\u0027objet.\n",
                                     "\n",
                                     "La fonction `agent.move()` prend un seul paramètre, la direction.\n",
                                     "\n",
                                     "Les directions valides sont : \n",
                                     "- forward\n",
                                     "- back\n",
                                     "- left\n",
                                     "- right\n",
                                     "- up\n",
                                     "- down\n",
                                     "\n",
                                     "La fonction `agent.place()` prend deux paramètres.  \n",
                                     "\n",
                                     "- numéro d\u0027emplacement (*entier*) : Quel emplacement d’inventaire l’Agent doit utiliser.\n",
                                     "- direction (*chaîne*): La direction dans laquelle vous voulez que l’agent aille placer l\u0027objet.\n",
                                     "    - Les directions valides sont : \n",
                                     "        - forward\n",
                                     "        - back\n",
                                     "        - left\n",
                                     "        - right\n",
                                     "        - up\n",
                                     "        - down"
                                 ]
                  },
                  {
                      "cell_type":  "code",
                      "execution_count":  null,
                      "metadata":  {
                                       "minecraft":  {
                                                         "baseCodeCellName":  "Example",
                                                         "closeCodeBuilderOnRun":  true,
                                                         "readonly":  true
                                                     }
                                   },
                      "outputs":  [

                                  ],
                      "source":  [
                                     "# donner à l’Agent une pile de bambou\n",
                                     "# placer le bambou sous l’Agent\n",
                                     "# puis faire avancer l’Agent\n",
                                     "# faire cela 2 fois\n",
                                     "\n",
                                     "agent.give(\"BAMBOO\", 64, 1)\n",
                                     "agent.place(\"down\", 1)\n",
                                     "agent.move(\"forward\")\n",
                                     "agent.place(\"down\", 1)"
                                 ]
                  },
                  {
                      "cell_type":  "markdown",
                      "metadata":  {

                                   },
                      "source":  [
                                     "# Conseil de pro :\n",
                                     "\n",
                                     "Utilisez une boucle `for` pour effectuer une ou plusieurs actions plusieurs fois."
                                 ]
                  },
                  {
                      "cell_type":  "code",
                      "execution_count":  null,
                      "metadata":  {
                                       "minecraft":  {
                                                         "baseCodeCellName":  "Example",
                                                         "closeCodeBuilderOnRun":  true,
                                                         "readonly":  true
                                                     }
                                   },
                      "outputs":  [

                                  ],
                      "source":  [
                                     "# donner à l’Agent une pile de bambou\n",
                                     "# placer le bambou sous l’Agent\n",
                                     "# puis faire avancer l’Agent\n",
                                     "# faire cela 2 fois\n",
                                     "\n",
                                     "agent.give(\"BAMBOO\", 64, 1)\n",
                                     "for i in range(2):\n",
                                     "    agent.place(\"down\", 1)\n",
                                     "    agent.move(\"forward\")"
                                 ]
                  },
                  {
                      "cell_type":  "markdown",
                      "metadata":  {

                                   },
                      "source":  [
                                     "# Activité :\n",
                                     "\n",
                                     "Le code ci-dessous a des valeurs incorrectes. Exécutez le code pour voir ce qu\u0027il se passe, puis essayez de déboguer et de corriger le code pour terminer l’activité.\n",
                                     "\n",
                                     "**Remarque : Utilisez le bouton Réinitialiser le code ci-dessous pour réinitialiser la zone de codage au code de débogage**"
                                 ]
                  },
                  {
                      "cell_type":  "code",
                      "execution_count":  null,
                      "metadata":  {
                                       "minecraft":  {
                                                         "closeCodeBuilderOnRun":  true,
                                                         "default_code":  "# code here\n\nagent.give(\"BAMBOO\", 64, 1)\nfor i in range(3):\n    agent.place(\"up\", 1)\n    agent.move(\"back\")",
                                                         "resetWorldCommand":  "function act/4/reset"
                                                     }
                                   },
                      "outputs":  [

                                  ],
                      "source":  [
                                     "# code ici\n",
                                     "\n",
                                     "agent.give(\"BAMBOO\", 64, 1)\n",
                                     "for i in range(3):\n",
                                     "    agent.place(\"up\", 1)\n",
                                     "    agent.move(\"back\")"
                                 ]
                  }
              ],
    "metadata":  {
                     "celltoolbar":  "Edit Metadata",
                     "kernelspec":  {
                                        "display_name":  "Python 3",
                                        "language":  "python",
                                        "name":  "python3"
                                    },
                     "language_info":  {
                                           "codemirror_mode":  {
                                                                   "name":  "ipython",
                                                                   "version":  3
                                                               },
                                           "file_extension":  ".py",
                                           "mimetype":  "text/x-python",
                                           "name":  "python",
                                           "nbconvert_exporter":  "python",
                                           "pygments_lexer":  "ipython3",
                                           "version":  "3.8.8"
                                       },
                     "minecraft":  {
                                       "description":  "TimeCraft",
                                       "page_id":  "1.1",
                                       "page_name":  "La Grande Muraille de Chine",
                                       "style":  "minecraft.css"
                                   }
                 },
    "nbformat":  4,
    "nbformat_minor":  4
}
