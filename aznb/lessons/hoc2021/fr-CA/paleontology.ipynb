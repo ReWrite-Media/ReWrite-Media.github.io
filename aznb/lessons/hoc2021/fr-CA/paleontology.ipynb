﻿{
    "cells":  [
                  {
                      "cell_type":  "markdown",
                      "metadata":  {

                                   },
                      "source":  [
                                     "# Casse-tête paléontologique\n",
                                     "\n",
                                     "Quelqu’un a enlevé des os du squelette du dinosaure et les a remplacés par des blocs orange. Programmez votre agent afin qu\u0027il DÉTRUISE les 4 blocs orange et PLACE des \u0027BONEBLOCK\u0027. Utilisez la fonction \u0027agent.give()\u0027 pour donner à votre agent une pile de \u0027BONEBLOCK\u0027 et la fonction \u0027agent.move()\u0027 pour positionner votre agent au-dessus du bloc orange. Ensuite, utilisez la fonction \u0027agent.destroy()\u0027 pour briser le bloc orange et la fonction \u0027agent.place()\u0027 pour le remplacer par un \u0027BONEBLOCK\u0027.\n",
                                     "\n",
                                     "La fonction `agent.give()` utilise trois paramètres.  \n",
                                     "\n",
                                     "- Objet (*chaîne*) : l\u0027objet que tu souhaites donner à l’agent.\n",
                                     "- Compte (*entier*) : combien d\u0027objets l’agent recevra.\n",
                                     "- emplacement (*entier*) : l’emplacement d’inventaire où l’agent reçoit l\u0027objet.\n",
                                     "\n",
                                     "La fonction `agent.move()` utilise un paramètre : direction.\n",
                                     "\n",
                                     "Les directions valides sont : \n",
                                     "- avancer\n",
                                     "- reculer\n",
                                     "- à gauche\n",
                                     "- à droite\n",
                                     "- en haut\n",
                                     "- en bas\n",
                                     "\n",
                                     "La fonction `agent.destroy()` utilise un paramètre : direction.\n",
                                     "\n",
                                     "Les directions valides sont : \n",
                                     "- avancer\n",
                                     "- reculer\n",
                                     "- à gauche\n",
                                     "- à droite\n",
                                     "- en haut\n",
                                     "- en bas\n",
                                     "\n",
                                     "La fonction `agent.place()` utilise deux paramètres.  \n",
                                     "\n",
                                     "- Numéro d’emplacement (*entier*) : l\u0027emplacement d’inventaire que l’agent doit utiliser.\n",
                                     "- Direction (*chaîne*) : la direction dans laquelle tu souhaites que l’agent place l’objet.\n",
                                     "    - Les directions valides sont : \n",
                                     "        - avancer\n",
                                     "        - reculer\n",
                                     "        - à gauche\n",
                                     "        - à droite\n",
                                     "        - en haut\n",
                                     "        - en bas"
                                 ]
                  },
                  {
                      "cell_type":  "code",
                      "execution_count":  null,
                      "metadata":  {
                                       "minecraft":  {
                                                         "baseCodeCellName":  "Example",
                                                         "closeCodeBuilderOnRun":  true,
                                                         "readonly":  true
                                                     }
                                   },
                      "outputs":  [

                                  ],
                      "source":  [
                                     "# donner à l’agent une pile de blocs d\u0027os\n",
                                     "# puis avancer de deux, casser le bloc ci-dessous\n",
                                     "# puis placer le bloc d\u0027os\n",
                                     "# faire cela 2 fois\n",
                                     "\n",
                                     "agent.give(\"BONEBLOCK\", 64, 1)\n",
                                     "agent.move(\"forward\")\n",
                                     "agent.move(\"forward\")\n",
                                     "agent.destroy(\"down\")\n",
                                     "agent.place(\"down\", 1)\n",
                                     "agent.move(\"forward\")\n",
                                     "agent.move(\"forward\")\n",
                                     "agent.destroy(\"down\")\n",
                                     "agent.place(\"down\", 1)"
                                 ]
                  },
                  {
                      "cell_type":  "markdown",
                      "metadata":  {

                                   },
                      "source":  [
                                     "# Conseil de pro :\n",
                                     "\n",
                                     "Utilisez une boucle `for` pour effectuer une ou plusieurs actions plusieurs fois."
                                 ]
                  },
                  {
                      "cell_type":  "code",
                      "execution_count":  null,
                      "metadata":  {
                                       "minecraft":  {
                                                         "baseCodeCellName":  "Example",
                                                         "closeCodeBuilderOnRun":  true,
                                                         "readonly":  true
                                                     }
                                   },
                      "outputs":  [

                                  ],
                      "source":  [
                                     "# donner à l’agent une pile de blocs d\u0027os\n",
                                     "# puis avancer de deux, casser le bloc ci-dessous\n",
                                     "# puis placer le bloc d\u0027os\n",
                                     "# faire cela 2 fois\n",
                                     "\n",
                                     "agent.give(\"BONEBLOCK\", 64, 1)\n",
                                     "for i in range(2):\n",
                                     "    agent.move(\"forward\")\n",
                                     "    agent.move(\"forward\")\n",
                                     "    agent.destroy(\"down\")\n",
                                     "    agent.place(\"down\", 1)"
                                 ]
                  },
                  {
                      "cell_type":  "markdown",
                      "metadata":  {

                                   },
                      "source":  [
                                     "# Activité\n",
                                     "\n",
                                     "Enlevez chaque bloc orange et remplacez-le par un \u0027BONEBLOCK\u0027.\n",
                                     "\n",
                                     "**Remarque : Vous pouvez réinitialiser l’activité à l’aide de votre appareil Di.R.A. ou en utilisant le bouton Réinitialiser l\u0027activité.**"
                                 ]
                  },
                  {
                      "cell_type":  "code",
                      "execution_count":  null,
                      "metadata":  {
                                       "minecraft":  {
                                                         "closeCodeBuilderOnRun":  true,
                                                         "default_code":  "# code here\n\n\n",
                                                         "resetWorldCommand":  "function act/9/reset"
                                                     }
                                   },
                      "outputs":  [

                                  ],
                      "source":  [
                                     "# coder ici\n",
                                     "\n",
                                     "\n"
                                 ]
                  }
              ],
    "metadata":  {
                     "celltoolbar":  "Edit Metadata",
                     "kernelspec":  {
                                        "display_name":  "Python 3",
                                        "language":  "python",
                                        "name":  "python3"
                                    },
                     "language_info":  {
                                           "codemirror_mode":  {
                                                                   "name":  "ipython",
                                                                   "version":  3
                                                               },
                                           "file_extension":  ".py",
                                           "mimetype":  "text/x-python",
                                           "name":  "python",
                                           "nbconvert_exporter":  "python",
                                           "pygments_lexer":  "ipython3",
                                           "version":  "3.8.8"
                                       },
                     "minecraft":  {
                                       "description":  "TimeCraft",
                                       "page_id":  "1.1",
                                       "page_name":  "Casse-tête paléontologique",
                                       "style":  "minecraft.css"
                                   }
                 },
    "nbformat":  4,
    "nbformat_minor":  4
}
