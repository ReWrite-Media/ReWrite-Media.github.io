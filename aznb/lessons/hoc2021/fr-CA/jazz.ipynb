﻿{
    "cells":  [
                  {
                      "cell_type":  "markdown",
                      "metadata":  {

                                   },
                      "source":  [
                                     "# Grand orchestre de jazz\n",
                                     "\n",
                                     "Le musicien de jazz a perdu sa trompette et utilise un gazoo à la place. Utilisez la fonction `agent.move()` pour traverser le labyrinthe, puis utilisez `agent.collect()` pour ramasser la trompette.\n",
                                     "\n",
                                     "La fonction `agent.move()` utilise un paramètre : direction.\n",
                                     "\n",
                                     "Les directions valides sont : \n",
                                     "- forward\n",
                                     "- back\n",
                                     "- left\n",
                                     "- right\n",
                                     "- up\n",
                                     "- down\n",
                                     "\n",
                                     "La fonction `agent.collect()` n\u0027utilise aucun paramètre."
                                 ]
                  },
                  {
                      "cell_type":  "code",
                      "execution_count":  null,
                      "metadata":  {
                                       "minecraft":  {
                                                         "baseCodeCellName":  "Example",
                                                         "closeCodeBuilderOnRun":  true,
                                                         "readonly":  true
                                                     }
                                   },
                      "outputs":  [

                                  ],
                      "source":  [
                                     "# déplacer l’agent de 3 blocs vers l’avant\n",
                                     "# et essayer de ramasser la trompette\n",
                                     "\n",
                                     "agent.move(\"forward\")\n",
                                     "agent.move(\"forward\")\n",
                                     "agent.move(\"forward\")\n",
                                     "agent.collect()"
                                 ]
                  },
                  {
                      "cell_type":  "markdown",
                      "metadata":  {

                                   },
                      "source":  [
                                     "# Conseil de pro :\n",
                                     "\n",
                                     "Utilisez une boucle `for` pour effectuer une ou plusieurs actions plusieurs fois."
                                 ]
                  },
                  {
                      "cell_type":  "code",
                      "execution_count":  null,
                      "metadata":  {
                                       "minecraft":  {
                                                         "baseCodeCellName":  "Example",
                                                         "closeCodeBuilderOnRun":  true,
                                                         "readonly":  true
                                                     }
                                   },
                      "outputs":  [

                                  ],
                      "source":  [
                                     "# déplacer l’agent de 3 blocs vers l’avant\n",
                                     "# et essayer de ramasser la trompette\n",
                                     "\n",
                                     "for i in range(3):\n",
                                     "    agent.move(\"forward\")\n",
                                     "agent.collect()"
                                 ]
                  },
                  {
                      "cell_type":  "markdown",
                      "metadata":  {

                                   },
                      "source":  [
                                     "# Activité\n",
                                     "\n",
                                     "Déplacez l’agent dans le labyrinthe et ramassez la trompette.\n",
                                     "\n",
                                     "**Remarque : Vous pouvez réinitialiser l’activité à l’aide de votre appareil Di.RA ou en utilisant le bouton Réinitialiser l\u0027activité.**"
                                 ]
                  },
                  {
                      "cell_type":  "code",
                      "execution_count":  null,
                      "metadata":  {
                                       "minecraft":  {
                                                         "closeCodeBuilderOnRun":  true,
                                                         "default_code":  "# code here\n\n\n",
                                                         "resetWorldCommand":  "function act/1/reset"
                                                     }
                                   },
                      "outputs":  [

                                  ],
                      "source":  [
                                     "# coder ici\n",
                                     "\n",
                                     "\n"
                                 ]
                  }
              ],
    "metadata":  {
                     "celltoolbar":  "Edit Metadata",
                     "kernelspec":  {
                                        "display_name":  "Python 3",
                                        "language":  "python",
                                        "name":  "python3"
                                    },
                     "language_info":  {
                                           "codemirror_mode":  {
                                                                   "name":  "ipython",
                                                                   "version":  3
                                                               },
                                           "file_extension":  ".py",
                                           "mimetype":  "text/x-python",
                                           "name":  "python",
                                           "nbconvert_exporter":  "python",
                                           "pygments_lexer":  "ipython3",
                                           "version":  "3.8.8"
                                       },
                     "minecraft":  {
                                       "description":  "TimeCraft",
                                       "page_id":  "1.1",
                                       "page_name":  "Grand orchestre de jazz",
                                       "style":  "minecraft.css"
                                   }
                 },
    "nbformat":  4,
    "nbformat_minor":  4
}
