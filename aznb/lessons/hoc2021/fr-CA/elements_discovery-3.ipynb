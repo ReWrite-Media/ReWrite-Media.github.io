﻿{
    "cells":  [
                  {
                      "cell_type":  "markdown",
                      "metadata":  {

                                   },
                      "source":  [
                                     "# Éléments de découverte (Solution)\n",
                                     "\n",
                                     "Lorsque la chimiste est sortie de la pièce, quelqu\u0027un a caché ses recherches dans la bibliothèque. Programmez votre\n",
                                     "L\u0027agent doit briser la bibliothèque verte lumineuse pour pouvoir partager ses découvertes. Utiliser la fonction \u0027agent.move()\u0027 pour déplacer l’agent vers la bibliothèque verte lumineuse, puis utiliser \u0027agent.destroy()\u0027 pour la briser.\n",
                                     "\n",
                                     "La fonction `agent.move()` utilise un paramètre : direction.\n",
                                     "\n",
                                     "Les directions valides sont : \n",
                                     "- avancer\n",
                                     "- reculer\n",
                                     "- à gauche\n",
                                     "- à droite\n",
                                     "- en haut\n",
                                     "- en bas\n",
                                     "\n",
                                     "La fonction `agent.destroy()` utilise un paramètre : direction.\n",
                                     "\n",
                                     "Les directions valides sont : \n",
                                     "- avancer\n",
                                     "- reculer\n",
                                     "- à gauche\n",
                                     "- à droite\n",
                                     "- en haut\n",
                                     "- en bas\n",
                                     "\n",
                                     "La fonction `agent.turn()` utilise un paramètre : turn_direction.\n",
                                     "\n",
                                     "Les directions valides sont : \n",
                                     "- à gauche\n",
                                     "- à droite"
                                 ]
                  },
                  {
                      "cell_type":  "code",
                      "execution_count":  null,
                      "metadata":  {
                                       "minecraft":  {
                                                         "baseCodeCellName":  "Example",
                                                         "closeCodeBuilderOnRun":  true,
                                                         "readonly":  true
                                                     }
                                   },
                      "outputs":  [

                                  ],
                      "source":  [
                                     "# déplacer l’agent de 2 blocs vers le haut et de 2 blocs vers l\u0027avant\n",
                                     "# puis casser le bloc à gauche\n",
                                     "\n",
                                     "agent.move(\"up\")\n",
                                     "agent.move(\"up\")\n",
                                     "agent.move(\"forward\")\n",
                                     "agent.move(\"forward\")\n",
                                     "agent.destroy(\"left\")"
                                 ]
                  },
                  {
                      "cell_type":  "markdown",
                      "metadata":  {

                                   },
                      "source":  [
                                     "# Conseil de pro :\n",
                                     "\n",
                                     "Utilisez une boucle `for` pour effectuer une ou plusieurs actions plusieurs fois."
                                 ]
                  },
                  {
                      "cell_type":  "code",
                      "execution_count":  null,
                      "metadata":  {
                                       "minecraft":  {
                                                         "baseCodeCellName":  "Example",
                                                         "closeCodeBuilderOnRun":  true,
                                                         "readonly":  true
                                                     }
                                   },
                      "outputs":  [

                                  ],
                      "source":  [
                                     "# déplacer l’agent de 2 blocs vers le haut et de 2 blocs vers l\u0027avant\n",
                                     "# puis casser le bloc à gauche\n",
                                     "\n",
                                     "agent.move(\"up\")\n",
                                     "for i in range (2):\n",
                                     "    agent.move(\"forward\")"
                                 ]
                  },
                  {
                      "cell_type":  "markdown",
                      "metadata":  {

                                   },
                      "source":  [
                                     "# Activité :\n",
                                     "\n",
                                     "Le code ci-dessous est la bonne solution à l\u0027activité. Exécutez le code pour le voir en action.\n",
                                     "\n",
                                     "**Remarque : Utilisez le bouton Réinitialiser le code ci-dessous pour réinitialiser la zone de codage et revenir à la solution.**"
                                 ]
                  },
                  {
                      "cell_type":  "code",
                      "execution_count":  null,
                      "metadata":  {
                                       "minecraft":  {
                                                         "closeCodeBuilderOnRun":  true,
                                                         "default_code":  "# code here\n\nagent.move(\"up\")\n\nfor i in range (4):\n    agent.move(\"forward\")\n\nagent.destroy(\"left\")",
                                                         "resetWorldCommand":  "function act/10/reset"
                                                     }
                                   },
                      "outputs":  [

                                  ],
                      "source":  [
                                     "# coder ici\n",
                                     "\n",
                                     "agent.move(\"up\")\n",
                                     "\n",
                                     "for i in range (4):\n",
                                     "    agent.move(\"forward\")\n",
                                     "\n",
                                     "agent.destroy(\"left\")"
                                 ]
                  }
              ],
    "metadata":  {
                     "celltoolbar":  "Edit Metadata",
                     "kernelspec":  {
                                        "display_name":  "Python 3",
                                        "language":  "python",
                                        "name":  "python3"
                                    },
                     "language_info":  {
                                           "codemirror_mode":  {
                                                                   "name":  "ipython",
                                                                   "version":  3
                                                               },
                                           "file_extension":  ".py",
                                           "mimetype":  "text/x-python",
                                           "name":  "python",
                                           "nbconvert_exporter":  "python",
                                           "pygments_lexer":  "ipython3",
                                           "version":  "3.8.8"
                                       },
                     "minecraft":  {
                                       "description":  "TimeCraft",
                                       "page_id":  "1.1",
                                       "page_name":  "Éléments de découverte",
                                       "style":  "minecraft.css"
                                   }
                 },
    "nbformat":  4,
    "nbformat_minor":  4
}
