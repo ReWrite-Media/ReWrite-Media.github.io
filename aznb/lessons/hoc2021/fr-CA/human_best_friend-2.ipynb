﻿{
    "cells":  [
                  {
                      "cell_type":  "markdown",
                      "source":  [
                                     "# Meilleurs amis de l’homme (Débogage)\n",
                                     "\n",
                                     "Les chiens sont les meilleurs amis de l\u0027homme depuis des millénaires. Mais quelque chose a fait fuir les chiens. Programmez votre agent afin qu\u0027il crée un chemin d\u0027objets de \u0027BEETROOT\u0027 à 5 blocs les uns des autres pour aider les gens à apprivoiser les loups et à en faire des chiens. Utilisez la fonction \u0027agent.give()\u0027 pour donner à votre agent une pile de \u0027BEETROOT\u0027, puis utilisez la fonction \u0027agent.move()\u0027 pour positionner votre agent et la fonction \u0027agent.drop()\u0027 pour déposer une \u0027BEETROOT\u0027.\n",
                                     "\n",
                                     "La fonction `agent.give()` utilise trois paramètres.  \n",
                                     "\n",
                                     "- Objet (*chaîne*) : l\u0027objet que tu souhaites donner à l’agent.\n",
                                     "- Compte (*entier*) : combien d\u0027objets l’agent recevra.\n",
                                     "- emplacement (*entier*) : l’emplacement d’inventaire où l’agent reçoit l\u0027objet.\n",
                                     "\n",
                                     "La fonction `agent.move()` utilise un paramètre : direction.\n",
                                     "\n",
                                     "Les directions valides sont : \n",
                                     "- avancer\n",
                                     "- reculer\n",
                                     "- à gauche\n",
                                     "- à droite\n",
                                     "- en haut\n",
                                     "- en bas\n",
                                     "\n",
                                     "La fonction `agent.drop()` utilise deux paramètres.\n",
                                     "- Emplacement (*entier*) : l\u0027emplacement d’inventaire d\u0027où l’agent lâche l\u0027objet.\n",
                                     "- Quantité (*entier*) : le nombre d\u0027objets que l’agent lâchera."
                                 ],
                      "metadata":  {

                                   }
                  },
                  {
                      "cell_type":  "code",
                      "execution_count":  null,
                      "source":  [
                                     "# donner à l’agent une pile de betteraves\r\n",
                                     "# puis en lâcher une et avancer de 5\r\n",
                                     "\r\n",
                                     "agent.give(\"BEETROOT\", 64, 1)\r\n",
                                     "agent.drop(1,1)\r\n",
                                     "agent.move(\"forward\")\r\n",
                                     "agent.move(\"forward\")\r\n",
                                     "agent.move(\"forward\")\r\n",
                                     "agent.move(\"forward\")"
                                 ],
                      "outputs":  [

                                  ],
                      "metadata":  {
                                       "minecraft":  {
                                                         "baseCodeCellName":  "Example",
                                                         "closeCodeBuilderOnRun":  true,
                                                         "readonly":  true
                                                     }
                                   }
                  },
                  {
                      "cell_type":  "markdown",
                      "source":  [
                                     "# Conseil de pro :\n",
                                     "\n",
                                     "Utilisez une boucle `for` pour effectuer une ou plusieurs actions plusieurs fois."
                                 ],
                      "metadata":  {

                                   }
                  },
                  {
                      "cell_type":  "code",
                      "execution_count":  null,
                      "source":  [
                                     "# donner à l’agent une pile de betteraves\r\n",
                                     "# puis en lâcher une et avancer de 5\r\n",
                                     "\r\n",
                                     "agent.give(\"BEETROOT\", 64, 1)\r\n",
                                     "for i in range(2):\r\n",
                                     "    agent.drop(1,1)\r\n",
                                     "    agent.move(\"forward\")\r\n",
                                     "    agent.move(\"forward\")\r\n",
                                     "    agent.move(\"forward\")\r\n",
                                     "    agent.move(\"forward\")"
                                 ],
                      "outputs":  [

                                  ],
                      "metadata":  {
                                       "minecraft":  {
                                                         "baseCodeCellName":  "Example",
                                                         "closeCodeBuilderOnRun":  true,
                                                         "readonly":  true
                                                     }
                                   }
                  },
                  {
                      "cell_type":  "markdown",
                      "source":  [
                                     "# Activité :\n",
                                     "\n",
                                     "Le code ci-dessous comporte des valeurs incorrectes. Exécutez le code pour voir ce qui se passe, puis essayez de déboguer et de corriger le code pour terminer l’activité.\n",
                                     "\n",
                                     "**Remarque : Utilisez le bouton Réinitialiser le code ci-dessous pour réinitialiser la zone de codage et revenir au code de débogage.**"
                                 ],
                      "metadata":  {

                                   }
                  },
                  {
                      "cell_type":  "code",
                      "execution_count":  null,
                      "source":  [
                                     "# coder ici\r\n",
                                     "\r\n",
                                     "agent.give(\"BEETROOT\", 64, 1)\r\n",
                                     "for i in range(2):\r\n",
                                     "    agent.drop(1,1)\r\n",
                                     "    agent.move(\"forward\")\r\n",
                                     "    agent.move(\"forward\")\r\n",
                                     "    agent.move(\"forward\")\r\n",
                                     "    agent.move(\"forward\")"
                                 ],
                      "outputs":  [

                                  ],
                      "metadata":  {
                                       "minecraft":  {
                                                         "closeCodeBuilderOnRun":  true,
                                                         "default_code":  "# code here\n\nagent.give(\"BEETROOT\", 64, 1)\nfor i in range(2):\n    agent.drop(1,1)\n    agent.move(\"forward\")\n    agent.move(\"forward\")\n    agent.move(\"forward\")\n    agent.move(\"forward\")",
                                                         "resetWorldCommand":  "function act/8/reset"
                                                     }
                                   }
                  }
              ],
    "metadata":  {
                     "celltoolbar":  "Edit Metadata",
                     "kernelspec":  {
                                        "display_name":  "Python 3",
                                        "language":  "python",
                                        "name":  "python3"
                                    },
                     "language_info":  {
                                           "codemirror_mode":  {
                                                                   "name":  "ipython",
                                                                   "version":  3
                                                               },
                                           "file_extension":  ".py",
                                           "mimetype":  "text/x-python",
                                           "name":  "python",
                                           "nbconvert_exporter":  "python",
                                           "pygments_lexer":  "ipython3",
                                           "version":  "3.8.8"
                                       },
                     "minecraft":  {
                                       "description":  "TimeCraft",
                                       "page_id":  "1.1",
                                       "page_name":  "Meilleurs amis de l\u0027homme",
                                       "style":  "minecraft.css"
                                   }
                 },
    "nbformat":  4,
    "nbformat_minor":  4
}
