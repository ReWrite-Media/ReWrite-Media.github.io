﻿{
    "cells":  [
                  {
                      "cell_type":  "markdown",
                      "metadata":  {

                                   },
                      "source":  [
                                     "# Grande pyramide de Gizeh (Débogage)\n",
                                     "\n",
                                     "Aidez l’architecte à terminer le triangle et à créer une conception qui résistera à l’épreuve du temps. Songez à la façon de\n",
                                     "créer une pyramide. Deux autres niveaux sont nécessaires : 3 blocs en bas et 1 bloc en haut. Coder la solution en utilisant la fonction \u0027agent.give()\u0027 pour donner à l\u0027agent une pile de \u0027SANDSTONE\u0027, \u0027agent.move()\u0027 pour positionner l\u0027agent et \u0027agent.place()\u0027 pour placer les blocs dans une forme pyramidale à 3 couches.\n",
                                     "\n",
                                     "La fonction `agent.give()` utilise trois paramètres.  \n",
                                     "\n",
                                     "- Objet (*chaîne*) : l\u0027objet que tu souhaites donner à l’agent.\n",
                                     "- Compte (*entier*) : combien d\u0027objets l’agent recevra.\n",
                                     "- emplacement (*entier*) : l’emplacement d’inventaire où l’agent reçoit l\u0027objet.\n",
                                     "\n",
                                     "La fonction `agent.move()` utilise un paramètre : direction.\n",
                                     "\n",
                                     "Les directions valides sont : \n",
                                     "- forward\n",
                                     "- back\n",
                                     "- left\n",
                                     "- right\n",
                                     "- up\n",
                                     "- en bas\n",
                                     "\n",
                                     "La fonction `agent.place()` utilise deux paramètres.  \n",
                                     "\n",
                                     "- Numéro d’emplacement (*entier*) : l\u0027emplacement d’inventaire que l’agent doit utiliser.\n",
                                     "- Direction (*chaîne*) : la direction dans laquelle tu souhaites que l’agent place l’objet.\n",
                                     "    - Les directions valides sont : \n",
                                     "        - avancer\n",
                                     "        - reculer\n",
                                     "        - à gauche\n",
                                     "        - à droite\n",
                                     "        - en haut\n",
                                     "        - en bas\n",
                                     "        \n",
                                     "La fonction `agent.turn()` utilise un paramètre : turn_direction.\n",
                                     "\n",
                                     "Les directions valides sont : \n",
                                     "- à gauche\n",
                                     "- à droite"
                                 ]
                  },
                  {
                      "cell_type":  "code",
                      "execution_count":  null,
                      "metadata":  {
                                       "minecraft":  {
                                                         "baseCodeCellName":  "Example",
                                                         "closeCodeBuilderOnRun":  true,
                                                         "readonly":  true
                                                     }
                                   },
                      "outputs":  [

                                  ],
                      "source":  [
                                     "# donner à l’agent une pile de grès\n",
                                     "# déplacer l’agent vers l’avant\n",
                                     "# et placer les blocs de grès\n",
                                     "# faire cela 5 fois\n",
                                     "\n",
                                     "agent.give(\"SANDSTONE\", 64, 1)\n",
                                     "agent.move(\"forward\")\n",
                                     "agent.place(\"back\", 1)\n",
                                     "agent.move(\"forward\")\n",
                                     "agent.place(\"back\", 1)\n",
                                     "agent.move(\"forward\")\n",
                                     "agent.place(\"back\", 1)\n",
                                     "agent.move(\"forward\")\n",
                                     "agent.place(\"back\", 1)\n",
                                     "agent.move(\"forward\")\n",
                                     "agent.place(\"back\", 1)"
                                 ]
                  },
                  {
                      "cell_type":  "markdown",
                      "metadata":  {

                                   },
                      "source":  [
                                     "# Conseil de pro :\n",
                                     "\n",
                                     "Utilisez une boucle `for` pour effectuer une ou plusieurs actions plusieurs fois."
                                 ]
                  },
                  {
                      "cell_type":  "code",
                      "execution_count":  null,
                      "metadata":  {
                                       "minecraft":  {
                                                         "baseCodeCellName":  "Example",
                                                         "closeCodeBuilderOnRun":  true,
                                                         "readonly":  true
                                                     }
                                   },
                      "outputs":  [

                                  ],
                      "source":  [
                                     "# donner à l’agent une pile de grès\n",
                                     "# déplacer l’agent vers l’avant\n",
                                     "# et placer les blocs de grès\n",
                                     "# faire cela 5 fois\n",
                                     "\n",
                                     "agent.give(\"SANDSTONE\", 64, 1)\n",
                                     "for i in range(5):\n",
                                     "    agent.move(\"forward\")\n",
                                     "    agent.place(\"back\", 1)"
                                 ]
                  },
                  {
                      "cell_type":  "markdown",
                      "metadata":  {

                                   },
                      "source":  [
                                     "# Activité :\n",
                                     "\n",
                                     "Le code ci-dessous comporte des valeurs incorrectes. Exécutez le code pour voir ce qui se passe, puis essayez de déboguer et de corriger le code pour terminer l’activité.\n",
                                     "\n",
                                     "**Remarque : Utilisez le bouton Réinitialiser le code ci-dessous pour réinitialiser la zone de codage et revenir au code de débogage.**"
                                 ]
                  },
                  {
                      "cell_type":  "code",
                      "execution_count":  null,
                      "metadata":  {
                                       "minecraft":  {
                                                         "closeCodeBuilderOnRun":  true,
                                                         "default_code":  "# code here\n\nagent.give(\"SANDSTONE\", 64, 1)\n\nfor i in range(2):\n    agent.move(\"forward\")\n    agent.place(\"back\", 1)\n\nagent.move(\"up\")\nagent.turn(\"left\")\nagent.turn(\"right\")\nagent.move(\"forward\")\nagent.move(\"forward\")\n\nagent.move(\"forward\")\nagent.place(\"up\", 1)",
                                                         "resetWorldCommand":  "function act/2/reset"
                                                     }
                                   },
                      "outputs":  [

                                  ],
                      "source":  [
                                     "# coder ici\n",
                                     "\n",
                                     "agent.give(\"SANDSTONE\", 64, 1)\n",
                                     "\n",
                                     "for i in range(2):\n",
                                     "    agent.move(\"forward\")\n",
                                     "    agent.place(\"back\", 1)\n",
                                     "\n",
                                     "agent.move(\"up\")\n",
                                     "agent.turn(\"left\")\n",
                                     "agent.turn(\"right\")\n",
                                     "agent.move(\"forward\")\n",
                                     "agent.move(\"forward\")\n",
                                     "\n",
                                     "agent.move(\"forward\")\n",
                                     "agent.place(\"up\", 1)"
                                 ]
                  }
              ],
    "metadata":  {
                     "celltoolbar":  "Edit Metadata",
                     "kernelspec":  {
                                        "display_name":  "Python 3",
                                        "language":  "python",
                                        "name":  "python3"
                                    },
                     "language_info":  {
                                           "codemirror_mode":  {
                                                                   "name":  "ipython",
                                                                   "version":  3
                                                               },
                                           "file_extension":  ".py",
                                           "mimetype":  "text/x-python",
                                           "name":  "python",
                                           "nbconvert_exporter":  "python",
                                           "pygments_lexer":  "ipython3",
                                           "version":  "3.8.8"
                                       },
                     "minecraft":  {
                                       "description":  "TimeCraft",
                                       "page_id":  "1.1",
                                       "page_name":  "Les Pyramides de Gizeh",
                                       "style":  "minecraft.css"
                                   }
                 },
    "nbformat":  4,
    "nbformat_minor":  4
}
