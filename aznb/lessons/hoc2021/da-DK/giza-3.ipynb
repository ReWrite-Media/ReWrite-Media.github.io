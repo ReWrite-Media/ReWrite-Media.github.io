﻿{
    "cells":  [
                  {
                      "cell_type":  "markdown",
                      "metadata":  {

                                   },
                      "source":  [
                                     "# Pyramiderne i Giza (løsning)\n",
                                     "\n",
                                     "Hjælp arkitekten med at bygge trekanten, så han kan finde et design, der kan modstå tidens tand.\n",
                                     "Tænk på, hvordan du bygger en pyramide. Der mangler 2 etager: 3 blokke i bunden og 1 blok i toppen. Kod løsningen ved at bruge `agent.give()` til at give din Agent en stak `SANDSTONE`, `agent.move()` til at bringe din Agent i position og `agent.place()` til at placere blokkene i en pyramideform med 3 lag.\n",
                                     "\n",
                                     "Funktionen `agent.give()` tager tre parametre.  \n",
                                     "\n",
                                     "- item (*streng*): Hvilken genstand din Agent modtager.\n",
                                     "- count (*heltal*): Hvor mange genstande din Agent modtager.\n",
                                     "- slot (*heltal*): Hvilken lagerplads din Agent modtager genstanden på.\n",
                                     "\n",
                                     "Funktionen `agent.move()` tager én parameter, direction.\n",
                                     "\n",
                                     "Gyldige retninger er: \n",
                                     "- forward\n",
                                     "- back\n",
                                     "- left\n",
                                     "- right\n",
                                     "- up\n",
                                     "- down\n",
                                     "\n",
                                     "Funktionen `agent.place()` tager to parametre.  \n",
                                     "\n",
                                     "- slot number (*heltal*): Hvilken lagerplads din Agent skal bruge.\n",
                                     "- direction (*streng*): Hvilken retning din Agent skal placere genstanden i.\n",
                                     "    - Gyldige retninger er: \n",
                                     "        - forward\n",
                                     "        - back\n",
                                     "        - left\n",
                                     "        - right\n",
                                     "        - up\n",
                                     "        - down\n",
                                     "        \n",
                                     "Funktionen `agent.turn()` tager én parameter, turn_direction.\n",
                                     "\n",
                                     "Gyldige retninger er: \n",
                                     "- left\n",
                                     "- right        "
                                 ]
                  },
                  {
                      "cell_type":  "code",
                      "execution_count":  null,
                      "metadata":  {
                                       "minecraft":  {
                                                         "baseCodeCellName":  "Example",
                                                         "closeCodeBuilderOnRun":  true,
                                                         "readonly":  true
                                                     }
                                   },
                      "outputs":  [

                                  ],
                      "source":  [
                                     "# giv din agent en stak sandsten\n",
                                     "# flyt din agent fremad\n",
                                     "# og placer sandstensblokkene\n",
                                     "# gør det 5 gange\n",
                                     "\n",
                                     "agent.give(\"SANDSTONE\", 64, 1)\n",
                                     "agent.move(\"forward\")\n",
                                     "agent.place(1,\"back\")\n",
                                     "agent.move(\"forward\")\n",
                                     "agent.place(1,\"back\")\n",
                                     "agent.move(\"forward\")\n",
                                     "agent.place(1,\"back\")\n",
                                     "agent.move(\"forward\")\n",
                                     "agent.place(1,\"back\")\n",
                                     "agent.move(\"forward\")\n",
                                     "agent.place(1,\"back\")"
                                 ]
                  },
                  {
                      "cell_type":  "markdown",
                      "metadata":  {

                                   },
                      "source":  [
                                     "# Tip:\n",
                                     "\n",
                                     "Brug en `for` løkke til at udføre samme handling(er) flere gange."
                                 ]
                  },
                  {
                      "cell_type":  "code",
                      "execution_count":  null,
                      "metadata":  {
                                       "minecraft":  {
                                                         "baseCodeCellName":  "Example",
                                                         "closeCodeBuilderOnRun":  true,
                                                         "readonly":  true
                                                     }
                                   },
                      "outputs":  [

                                  ],
                      "source":  [
                                     "# giv din agent en stak sandsten\n",
                                     "# flyt din agent fremad\n",
                                     "# og placer sandstensblokkene\n",
                                     "# gør det 5 gange\n",
                                     "\n",
                                     "agent.give(\"SANDSTONE\", 64, 1)\n",
                                     "for i in range(5):\n",
                                     "    agent.move(\"forward\")\n",
                                     "    agent.place(1,\"back\")"
                                 ]
                  },
                  {
                      "cell_type":  "markdown",
                      "metadata":  {

                                   },
                      "source":  [
                                     "# Aktivitet:\n",
                                     "\n",
                                     "Nedenstående kode er den korrekte løsning på opgaven. Kør koden for at se den i praksis.\n",
                                     "\n",
                                     "**Bemærk: Du kan gendanne den korrekte kode i kodefeltet med et tryk på knappen Nulstil kode**"
                                 ]
                  },
                  {
                      "cell_type":  "code",
                      "execution_count":  null,
                      "metadata":  {
                                       "minecraft":  {
                                                         "closeCodeBuilderOnRun":  true,
                                                         "default_code":  "# code here\n\nagent.give(\"SANDSTONE\", 64, 1)\n\nfor i in range(3):\n    agent.move(\"forward\")\n    agent.place(1,\"back\")\n\nagent.move(\"up\")\nagent.turn(\"left\")\nagent.turn(\"left\")\nagent.move(\"forward\")\nagent.move(\"forward\")\n\nagent.move(\"forward\")\nagent.place(1,\"back\")",
                                                         "resetWorldCommand":  "function act/2/reset"
                                                     }
                                   },
                      "outputs":  [

                                  ],
                      "source":  [
                                     "# kod her\n",
                                     "\n",
                                     "agent.give(\"SANDSTONE\", 64, 1)\n",
                                     "\n",
                                     "for i in range(3):\n",
                                     "    agent.move(\"forward\")\n",
                                     "    agent.place(1,\"back\")\n",
                                     "\n",
                                     "agent.move(\"up\")\n",
                                     "agent.turn(\"left\")\n",
                                     "agent.turn(\"left\")\n",
                                     "agent.move(\"forward\")\n",
                                     "agent.move(\"forward\")\n",
                                     "\n",
                                     "agent.move(\"forward\")\n",
                                     "agent.place(1,\"back\")"
                                 ]
                  }
              ],
    "metadata":  {
                     "celltoolbar":  "Edit Metadata",
                     "kernelspec":  {
                                        "display_name":  "Python 3",
                                        "language":  "python",
                                        "name":  "python3"
                                    },
                     "language_info":  {
                                           "codemirror_mode":  {
                                                                   "name":  "ipython",
                                                                   "version":  3
                                                               },
                                           "file_extension":  ".py",
                                           "mimetype":  "text/x-python",
                                           "name":  "python",
                                           "nbconvert_exporter":  "python",
                                           "pygments_lexer":  "ipython3",
                                           "version":  "3.8.8"
                                       },
                     "minecraft":  {
                                       "description":  "TimeCraft",
                                       "page_id":  "1.1",
                                       "page_name":  "Pyramiderne i Giza",
                                       "style":  "minecraft.css"
                                   }
                 },
    "nbformat":  4,
    "nbformat_minor":  4
}
