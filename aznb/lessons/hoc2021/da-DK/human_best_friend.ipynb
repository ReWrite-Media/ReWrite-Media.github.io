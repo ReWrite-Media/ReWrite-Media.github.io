﻿{
    "cells":  [
                  {
                      "cell_type":  "markdown",
                      "source":  [
                                     "# Menneskets bedste ven\n",
                                     "\n",
                                     "Hunde og mennesker har været venner i årtusinder, men noget har skræmt hundene væk. Kod din Agent til at efterlade et spor af `BEETROOT` med 5 blokke imellem hver for at hjælpe menneskene med at tæmme ulvene til hunde. Brug `agent.give()` til at give din Agent en stak `BEETROOT`, og brug derefter `agent.move()` til at bringe din Agent i position og `agent.drop()` til at droppe en `BEETROOT`.\n",
                                     "\n",
                                     "Funktionen `agent.give()` tager tre parametre.  \n",
                                     "\n",
                                     "- item (*streng*): Hvilken genstand din Agent modtager.\n",
                                     "- count (*heltal*): Hvor mange genstande din Agent modtager.\n",
                                     "- slot (*heltal*): Hvilken lagerplads din Agent modtager genstanden på.\n",
                                     "\n",
                                     "Funktionen `agent.move()` tager én parameter, direction.\n",
                                     "\n",
                                     "Gyldige retninger er: \n",
                                     "- forward\n",
                                     "- back\n",
                                     "- left\n",
                                     "- right\n",
                                     "- up\n",
                                     "- down\n",
                                     "\n",
                                     "Funktionen `agent.drop()` tager to parametre.\n",
                                     "- slot (*heltal*): Lagerpladsen, din Agent dropper genstanden fra.\n",
                                     "- quantity (*heltal*): Antallet af genstande, din Agent dropper."
                                 ],
                      "metadata":  {

                                   }
                  },
                  {
                      "cell_type":  "code",
                      "execution_count":  null,
                      "source":  [
                                     "# giv din agent en stak rødbeder\r\n",
                                     "# drop én, og flyt fremad 5\r\n",
                                     "\r\n",
                                     "agent.give(\"BEETROOT\", 64, 1)\r\n",
                                     "agent.drop(1,1)\r\n",
                                     "agent.move(\"forward\")\r\n",
                                     "agent.move(\"forward\")\r\n",
                                     "agent.move(\"forward\")\r\n",
                                     "agent.move(\"forward\")"
                                 ],
                      "outputs":  [

                                  ],
                      "metadata":  {
                                       "minecraft":  {
                                                         "baseCodeCellName":  "Example",
                                                         "closeCodeBuilderOnRun":  true,
                                                         "readonly":  true
                                                     }
                                   }
                  },
                  {
                      "cell_type":  "markdown",
                      "source":  [
                                     "# Tip:\n",
                                     "\n",
                                     "Brug en `for` løkke til at udføre samme handling(er) flere gange."
                                 ],
                      "metadata":  {

                                   }
                  },
                  {
                      "cell_type":  "code",
                      "execution_count":  null,
                      "source":  [
                                     "# giv din agent en stak rødbeder\r\n",
                                     "# drop én, og flyt fremad 5\r\n",
                                     "\r\n",
                                     "agent.give(\"BEETROOT\", 64, 1)\r\n",
                                     "agent.drop(1,1)\r\n",
                                     "for i in range(4):\r\n",
                                     "    agent.move(\"forward\")"
                                 ],
                      "outputs":  [

                                  ],
                      "metadata":  {
                                       "minecraft":  {
                                                         "baseCodeCellName":  "Example",
                                                         "closeCodeBuilderOnRun":  true,
                                                         "readonly":  true
                                                     }
                                   }
                  },
                  {
                      "cell_type":  "markdown",
                      "source":  [
                                     "# Opgave\r\n",
                                     "\r\n",
                                     "Drop en `BEETROOT` for hver 5 blokke, så ulvene ledes hen til lejrbålet lige foran din Agents udgangsposition.\r\n",
                                     "\r\n",
                                     "**Bemærk: Du kan nulstille opgaven ved hjælp af din T.A.L.K. eller med et tryk på knappen Nulstil opgave.**"
                                 ],
                      "metadata":  {

                                   }
                  },
                  {
                      "cell_type":  "code",
                      "execution_count":  null,
                      "source":  [
                                     "# kod her\r\n",
                                     "\r\n",
                                     "\r\n"
                                 ],
                      "outputs":  [

                                  ],
                      "metadata":  {
                                       "minecraft":  {
                                                         "closeCodeBuilderOnRun":  true,
                                                         "default_code":  "# code here\n\n\n",
                                                         "resetWorldCommand":  "function act/8/reset"
                                                     }
                                   }
                  }
              ],
    "metadata":  {
                     "celltoolbar":  "Edit Metadata",
                     "kernelspec":  {
                                        "display_name":  "Python 3",
                                        "language":  "python",
                                        "name":  "python3"
                                    },
                     "language_info":  {
                                           "codemirror_mode":  {
                                                                   "name":  "ipython",
                                                                   "version":  3
                                                               },
                                           "file_extension":  ".py",
                                           "mimetype":  "text/x-python",
                                           "name":  "python",
                                           "nbconvert_exporter":  "python",
                                           "pygments_lexer":  "ipython3",
                                           "version":  "3.8.8"
                                       },
                     "minecraft":  {
                                       "description":  "TimeCraft",
                                       "page_id":  "1.1",
                                       "page_name":  "Menneskets bedste ven",
                                       "style":  "minecraft.css"
                                   }
                 },
    "nbformat":  4,
    "nbformat_minor":  4
}
