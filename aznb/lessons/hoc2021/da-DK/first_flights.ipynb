﻿{
    "cells":  [
                  {
                      "cell_type":  "markdown",
                      "metadata":  {

                                   },
                      "source":  [
                                     "# Første flyvning\n",
                                     "\n",
                                     "Et af de første fly er ved at lette, men der er huller i landingsbanen!\n",
                                     "Kod din Agent til at fylde hullerne. Brug `agent.give()` til at give din Agent en stak `DIRT`, brug `agent.move()` til at placere din Agent over hullerne, og brug `agent.place()` til at fylde hullerne.\n",
                                     "\n",
                                     "Funktionen `agent.give()` tager tre parametre.  \n",
                                     "\n",
                                     "- item (*streng*): Hvilken genstand din Agent modtager.\n",
                                     "- count (*heltal*): Hvor mange genstande din Agent modtager.\n",
                                     "- slot (*heltal*): Hvilken lagerplads din Agent modtager genstanden på.\n",
                                     "\n",
                                     "Funktionen `agent.move()` tager én parameter, direction.\n",
                                     "\n",
                                     "Gyldige retninger er: \n",
                                     "- forward\n",
                                     "- back\n",
                                     "- left\n",
                                     "- right\n",
                                     "- up\n",
                                     "- down\n",
                                     "\n",
                                     "Funktionen `agent.place()` tager to parametre.  \n",
                                     "\n",
                                     "- slot number (*heltal*): Hvilken lagerplads din Agent skal bruge.\n",
                                     "- direction (*streng*): Hvilken retning din Agent skal placere genstanden i.\n",
                                     "    - Gyldige retninger er: \n",
                                     "        - forward\n",
                                     "        - back\n",
                                     "        - left\n",
                                     "        - right\n",
                                     "        - up\n",
                                     "        - down\n",
                                     "\n",
                                     "Funktionen `agent.turn()` tager én parameter, turn_direction.\n",
                                     "\n",
                                     "Gyldige retninger er: \n",
                                     "- left\n",
                                     "- right"
                                 ]
                  },
                  {
                      "cell_type":  "code",
                      "execution_count":  null,
                      "metadata":  {
                                       "minecraft":  {
                                                         "baseCodeCellName":  "Example",
                                                         "closeCodeBuilderOnRun":  true,
                                                         "readonly":  true
                                                     }
                                   },
                      "outputs":  [

                                  ],
                      "source":  [
                                     "# giv din agent en stak jordblokke\n",
                                     "# flyt fremad 1 og placer ned\n",
                                     "# gør det 2 gange\n",
                                     "\n",
                                     "agent.give(\"DIRT\", 64, 1)\n",
                                     "agent.move(\"forward\")\n",
                                     "agent.place(1,\"down\")\n",
                                     "agent.move(\"forward\")\n",
                                     "agent.place(1,\"down\")\n",
                                     "\n"
                                 ]
                  },
                  {
                      "cell_type":  "markdown",
                      "metadata":  {

                                   },
                      "source":  [
                                     "# Tip:\n",
                                     "\n",
                                     "Brug en `for` løkke til at udføre samme handling(er) flere gange."
                                 ]
                  },
                  {
                      "cell_type":  "code",
                      "execution_count":  null,
                      "metadata":  {
                                       "minecraft":  {
                                                         "baseCodeCellName":  "Example",
                                                         "closeCodeBuilderOnRun":  true,
                                                         "readonly":  true
                                                     }
                                   },
                      "outputs":  [

                                  ],
                      "source":  [
                                     "# giv din agent en stak jordblokke\n",
                                     "# flyt fremad 1 og placer ned\n",
                                     "# gør det 2 gange\n",
                                     "\n",
                                     "agent.give(\"DIRT\", 64, 1)\n",
                                     "for i in range(2):\n",
                                     "    agent.move(\"forward\")\n",
                                     "    agent.place(1,\"down\")\n"
                                 ]
                  },
                  {
                      "cell_type":  "markdown",
                      "metadata":  {

                                   },
                      "source":  [
                                     "# Opgave\n",
                                     "\n",
                                     "Fyld hullerne i landingsbanen med `DIRT`, så den første flyvning kan gennemføres.\n",
                                     "\n",
                                     "**Bemærk: Du kan nulstille opgaven ved hjælp af din T.A.L.K. eller med et tryk på knappen Nulstil opgave.**"
                                 ]
                  },
                  {
                      "cell_type":  "code",
                      "execution_count":  null,
                      "metadata":  {
                                       "minecraft":  {
                                                         "closeCodeBuilderOnRun":  true,
                                                         "default_code":  "# code here\n\n\n",
                                                         "resetWorldCommand":  "function act/6/reset"
                                                     }
                                   },
                      "outputs":  [

                                  ],
                      "source":  [
                                     "# kod her\n",
                                     "\n",
                                     "\n"
                                 ]
                  }
              ],
    "metadata":  {
                     "celltoolbar":  "Edit Metadata",
                     "kernelspec":  {
                                        "display_name":  "Python 3",
                                        "language":  "python",
                                        "name":  "python3"
                                    },
                     "language_info":  {
                                           "codemirror_mode":  {
                                                                   "name":  "ipython",
                                                                   "version":  3
                                                               },
                                           "file_extension":  ".py",
                                           "mimetype":  "text/x-python",
                                           "name":  "python",
                                           "nbconvert_exporter":  "python",
                                           "pygments_lexer":  "ipython3",
                                           "version":  "3.8.8"
                                       },
                     "minecraft":  {
                                       "description":  "TimeCraft",
                                       "page_id":  "1.1",
                                       "page_name":  "Første flyvning",
                                       "style":  "minecraft.css"
                                   }
                 },
    "nbformat":  4,
    "nbformat_minor":  4
}
