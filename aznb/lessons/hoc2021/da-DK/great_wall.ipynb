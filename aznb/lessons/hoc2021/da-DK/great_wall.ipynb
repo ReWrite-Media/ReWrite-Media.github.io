﻿{
    "cells":  [
                  {
                      "cell_type":  "markdown",
                      "metadata":  {

                                   },
                      "source":  [
                                     "# Den Kinesiske Mur\n",
                                     "\n",
                                     "Pandaerne æder bambusstilladset, så ingeniøren ikke kan bygge muren færdig. Du er nødt til at lokke pandaerne væk fra muren. Brug `agent.give()` til at give din Agent en stak `BAMBOO`, brug `agent.move()` til at flytte din Agent i position, og brug `agent.place()` til at placere din `BAMBOO`\n",
                                     "\n",
                                     "Funktionen `agent.give()` tager tre parametre.  \n",
                                     "\n",
                                     "- item (*streng*): Hvilken genstand din Agent modtager.\n",
                                     "- count (*heltal*): Hvor mange genstande din Agent modtager.\n",
                                     "- slot (*heltal*): Hvilken lagerplads din Agent modtager genstanden på.\n",
                                     "\n",
                                     "Funktionen `agent.move()` tager én parameter, direction.\n",
                                     "\n",
                                     "Gyldige retninger er: \n",
                                     "- forward\n",
                                     "- back\n",
                                     "- left\n",
                                     "- right\n",
                                     "- up\n",
                                     "- down\n",
                                     "\n",
                                     "Funktionen `agent.place()` tager to parametre.  \n",
                                     "\n",
                                     "- slot number (*heltal*): Hvilken lagerplads din Agent skal bruge.\n",
                                     "- direction (*streng*): Hvilken retning din Agent skal placere genstanden i.\n",
                                     "    - Gyldige retninger er: \n",
                                     "        - forward\n",
                                     "        - back\n",
                                     "        - left\n",
                                     "        - right\n",
                                     "        - up\n",
                                     "        - down"
                                 ]
                  },
                  {
                      "cell_type":  "code",
                      "execution_count":  null,
                      "metadata":  {
                                       "minecraft":  {
                                                         "baseCodeCellName":  "Example",
                                                         "closeCodeBuilderOnRun":  true,
                                                         "readonly":  true
                                                     }
                                   },
                      "outputs":  [

                                  ],
                      "source":  [
                                     "# giv din agent en stak bambus\n",
                                     "# placer bambus under din agent\n",
                                     "# og flyt derefter din agent fremad\n",
                                     "# gør det 2 gange\n",
                                     "\n",
                                     "agent.give(\"BAMBOO\", 64, 1)\n",
                                     "agent.place(1,\"down\")\n",
                                     "agent.move(\"forward\")\n",
                                     "agent.place(1,\"down\")"
                                 ]
                  },
                  {
                      "cell_type":  "markdown",
                      "metadata":  {

                                   },
                      "source":  [
                                     "# Tip:\n",
                                     "\n",
                                     "Brug en `for` løkke til at udføre samme handling(er) flere gange."
                                 ]
                  },
                  {
                      "cell_type":  "code",
                      "execution_count":  null,
                      "metadata":  {
                                       "minecraft":  {
                                                         "baseCodeCellName":  "Example",
                                                         "closeCodeBuilderOnRun":  true,
                                                         "readonly":  true
                                                     }
                                   },
                      "outputs":  [

                                  ],
                      "source":  [
                                     "# giv din agent en stak bambus\n",
                                     "# placer bambus under din agent\n",
                                     "# og flyt derefter din agent fremad\n",
                                     "# gør det 2 gange\n",
                                     "\n",
                                     "agent.give(\"BAMBOO\", 64, 1)\n",
                                     "for i in range(2):\n",
                                     "    agent.place(1,\"down\")\n",
                                     "    agent.move(\"forward\")"
                                 ]
                  },
                  {
                      "cell_type":  "markdown",
                      "metadata":  {

                                   },
                      "source":  [
                                     "# Opgave\n",
                                     "\n",
                                     "Placer en række på 5 `BAMBOO` for at lokke pandaerne væk fra muren, så ingeniøren kan gøre sit arbejde færdigt.\n",
                                     "\n",
                                     "**Bemærk: Du kan nulstille opgaven ved hjælp af din T.A.L.K. eller med et tryk på knappen Nulstil opgave.**"
                                 ]
                  },
                  {
                      "cell_type":  "code",
                      "execution_count":  null,
                      "metadata":  {
                                       "minecraft":  {
                                                         "closeCodeBuilderOnRun":  true,
                                                         "default_code":  "# code here\n\n\n",
                                                         "resetWorldCommand":  "function act/4/reset"
                                                     }
                                   },
                      "outputs":  [

                                  ],
                      "source":  [
                                     "# kod her\n",
                                     "\n",
                                     "\n"
                                 ]
                  }
              ],
    "metadata":  {
                     "celltoolbar":  "Edit Metadata",
                     "kernelspec":  {
                                        "display_name":  "Python 3",
                                        "language":  "python",
                                        "name":  "python3"
                                    },
                     "language_info":  {
                                           "codemirror_mode":  {
                                                                   "name":  "ipython",
                                                                   "version":  3
                                                               },
                                           "file_extension":  ".py",
                                           "mimetype":  "text/x-python",
                                           "name":  "python",
                                           "nbconvert_exporter":  "python",
                                           "pygments_lexer":  "ipython3",
                                           "version":  "3.8.8"
                                       },
                     "minecraft":  {
                                       "description":  "TimeCraft",
                                       "page_id":  "1.1",
                                       "page_name":  "Den Kinesiske Mur",
                                       "style":  "minecraft.css"
                                   }
                 },
    "nbformat":  4,
    "nbformat_minor":  4
}
