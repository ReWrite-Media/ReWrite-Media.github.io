﻿{
    "cells":  [
                  {
                      "cell_type":  "markdown",
                      "source":  [
                                     "# Mona Lisa\n",
                                     "\n",
                                     "Mona Lisa er trist. Hendes berømte smil er forsvundet, fordi hendes have er blevet ødelagt. Brug `agent.give()` til at give din Agent en stak `WHITE GLAZED TERRACOTTA`, og brug derefter `agent.move()` til at bringe din Agent i position og `agent.place` til at placere `WHITE GLAZED TERRACOTTA`.\n",
                                     "\n",
                                     "Funktionen `agent.give()` tager tre parametre.  \n",
                                     "\n",
                                     "- item (*streng*): Hvilken genstand din Agent modtager.\n",
                                     "- count (*heltal*): Hvor mange genstande din Agent modtager.\n",
                                     "- slot (*heltal*): Hvilken lagerplads din Agent modtager genstanden på.\n",
                                     "\n",
                                     "Funktionen `agent.move()` tager én parameter, direction.\n",
                                     "\n",
                                     "Gyldige retninger er: \n",
                                     "- forward\n",
                                     "- back\n",
                                     "- left\n",
                                     "- right\n",
                                     "- up\n",
                                     "- down\n",
                                     "\n",
                                     "Funktionen `agent.place()` tager to parametre.  \n",
                                     "\n",
                                     "- slot number (*heltal*): Hvilken lagerplads din Agent skal bruge.\n",
                                     "- direction (*streng*): Hvilken retning din Agent skal placere genstanden i.\n",
                                     "    - Gyldige retninger er: \n",
                                     "        - forward\n",
                                     "        - back\n",
                                     "        - left\n",
                                     "        - right\n",
                                     "        - up\n",
                                     "        - down"
                                 ],
                      "metadata":  {

                                   }
                  },
                  {
                      "cell_type":  "code",
                      "execution_count":  null,
                      "source":  [
                                     "# giv din agent en stak hvidglaseret terrakotta\r\n",
                                     "# flyt derefter fremad, og placer en blok under din agent\r\n",
                                     "# gør det 5 gange\r\n",
                                     "\r\n",
                                     "agent.give(\"WHITE GLAZED TERRACOTTA\", 64, 1)\r\n",
                                     "agent.move(\"forward\")\r\n",
                                     "agent.place(\"down\", 1)\r\n",
                                     "agent.move(\"forward\")\r\n",
                                     "agent.place(\"down\", 1)\r\n",
                                     "agent.move(\"forward\")\r\n",
                                     "agent.place(\"down\", 1)\r\n",
                                     "agent.move(\"forward\")\r\n",
                                     "agent.place(\"down\", 1)\r\n",
                                     "agent.move(\"forward\")\r\n",
                                     "agent.place(\"down\", 1)"
                                 ],
                      "outputs":  [

                                  ],
                      "metadata":  {
                                       "minecraft":  {
                                                         "baseCodeCellName":  "Example",
                                                         "closeCodeBuilderOnRun":  true,
                                                         "readonly":  true
                                                     }
                                   }
                  },
                  {
                      "cell_type":  "markdown",
                      "source":  [
                                     "# Tip:\n",
                                     "\n",
                                     "Brug en `for` løkke til at udføre samme handling(er) flere gange."
                                 ],
                      "metadata":  {

                                   }
                  },
                  {
                      "cell_type":  "code",
                      "execution_count":  null,
                      "source":  [
                                     "# giv din agent en stak hvidglaseret terrakotta\r\n",
                                     "# flyt derefter fremad, og placer en blok under din agent\r\n",
                                     "# gør det 5 gange\r\n",
                                     "\r\n",
                                     "agent.give(\"WHITE GLAZED TERRACOTTA\", 64, 1)\r\n",
                                     "for i in range(5):\r\n",
                                     "    agent.move(\"forward\")\r\n",
                                     "    agent.place(\"down\", 1)"
                                 ],
                      "outputs":  [

                                  ],
                      "metadata":  {
                                       "minecraft":  {
                                                         "baseCodeCellName":  "Example",
                                                         "closeCodeBuilderOnRun":  true,
                                                         "readonly":  true
                                                     }
                                   }
                  },
                  {
                      "cell_type":  "markdown",
                      "source":  [
                                     "# Opgave\r\n",
                                     "\r\n",
                                     "Udfyld den skitserede firkant med `WHITE GLAZED TERRACOTTA` ved at flytte din Agent og placere blokke under den.\r\n",
                                     "\r\n",
                                     "**Bemærk: Du kan nulstille opgaven ved hjælp af din T.A.L.K. eller med et tryk på knappen Nulstil opgave.**"
                                 ],
                      "metadata":  {

                                   }
                  },
                  {
                      "cell_type":  "code",
                      "execution_count":  null,
                      "source":  [
                                     "# kod her\r\n",
                                     "\r\n",
                                     "\r\n"
                                 ],
                      "outputs":  [

                                  ],
                      "metadata":  {
                                       "minecraft":  {
                                                         "closeCodeBuilderOnRun":  true,
                                                         "default_code":  "# code here\n\n\n",
                                                         "resetWorldCommand":  "function act/5/reset"
                                                     }
                                   }
                  }
              ],
    "metadata":  {
                     "celltoolbar":  "Edit Metadata",
                     "kernelspec":  {
                                        "display_name":  "Python 3",
                                        "language":  "python",
                                        "name":  "python3"
                                    },
                     "language_info":  {
                                           "codemirror_mode":  {
                                                                   "name":  "ipython",
                                                                   "version":  3
                                                               },
                                           "file_extension":  ".py",
                                           "mimetype":  "text/x-python",
                                           "name":  "python",
                                           "nbconvert_exporter":  "python",
                                           "pygments_lexer":  "ipython3",
                                           "version":  "3.8.8"
                                       },
                     "minecraft":  {
                                       "description":  "TimeCraft",
                                       "page_id":  "1.1",
                                       "page_name":  "Mona Lisa",
                                       "style":  "minecraft.css"
                                   }
                 },
    "nbformat":  4,
    "nbformat_minor":  4
}
