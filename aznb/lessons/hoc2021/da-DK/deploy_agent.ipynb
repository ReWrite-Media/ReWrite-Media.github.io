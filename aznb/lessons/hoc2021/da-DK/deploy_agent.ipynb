﻿{
    "cells":  [
                  {
                      "cell_type":  "markdown",
                      "source":  [
                                     "## Agent indsat!\n",
                                     "Du har indsat din Agent! \n",
                                     "\n",
                                     "Her er vinduet til Code Builder. Det skal bruges, når du er klar til at kode!\n",
                                     "\n",
                                     "Nedenfor ser du et kodefelt. Det er her, du skal skrive og køre din kode."
                                 ],
                      "metadata":  {

                                   }
                  },
                  {
                      "cell_type":  "code",
                      "execution_count":  null,
                      "source":  [
                                     "## sådan ser et kodefelt ud\r\n",
                                     "## du skal bruge sektioner som denne til\r\n",
                                     "## at skrive din kode i fremtidige opgaver"
                                 ],
                      "outputs":  [

                                  ],
                      "metadata":  {
                                       "minecraft":  {
                                                         "closeCodeBuilderOnRun":  true,
                                                         "default_code":  "## this is what a coding box look like\n## you\u0027ll use section like these to\n## write your code in future activities\n"
                                                     }
                                   }
                  },
                  {
                      "cell_type":  "markdown",
                      "source":  [
                                     "Luk vinduet for at vende tilbage til eventyret!"
                                 ],
                      "metadata":  {

                                   }
                  }
              ],
    "metadata":  {
                     "celltoolbar":  "Edit Metadata",
                     "kernelspec":  {
                                        "display_name":  "Python 3",
                                        "language":  "python",
                                        "name":  "python3"
                                    },
                     "language_info":  {
                                           "codemirror_mode":  {
                                                                   "name":  "ipython",
                                                                   "version":  3
                                                               },
                                           "file_extension":  ".py",
                                           "mimetype":  "text/x-python",
                                           "name":  "python",
                                           "nbconvert_exporter":  "python",
                                           "pygments_lexer":  "ipython3",
                                           "version":  "3.8.8"
                                       },
                     "minecraft":  {
                                       "description":  "TimeCraft",
                                       "page_id":  "1.1",
                                       "page_name":  "Agent indsat",
                                       "style":  "minecraft.css"
                                   }
                 },
    "nbformat":  4,
    "nbformat_minor":  4
}
