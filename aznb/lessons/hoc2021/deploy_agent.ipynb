{
 "cells": [
  {
   "cell_type": "markdown",
   "source": [
    "## Agent Deployed!\n",
    "You've successfully deployed your Agent! \n",
    "\n",
    "This is the Code Builder window, you'll use it when you're ready to code!\n",
    "\n",
    "Below you'll see a coding box. In the next activity, that's where you'll write and run your code."
   ],
   "metadata": {}
  },
  {
   "cell_type": "code",
   "execution_count": null,
   "source": [
    "## this is what a coding box look like\r\n",
    "## you'll use sections like these to\r\n",
    "## write your code in future activities"
   ],
   "outputs": [],
   "metadata": {
    "minecraft": {
     "closeCodeBuilderOnRun": true,
     "default_code": "## this is what a coding box look like\n## you'll use section like these to\n## write your code in future activities\n"
    }
   }
  },
  {
   "cell_type": "markdown",
   "source": [
    "Close this window to continue on to your adventure!"
   ],
   "metadata": {}
  }
 ],
 "metadata": {
  "celltoolbar": "Edit Metadata",
  "kernelspec": {
   "display_name": "Python 3",
   "language": "python",
   "name": "python3"
  },
  "language_info": {
   "codemirror_mode": {
    "name": "ipython",
    "version": 3
   },
   "file_extension": ".py",
   "mimetype": "text/x-python",
   "name": "python",
   "nbconvert_exporter": "python",
   "pygments_lexer": "ipython3",
   "version": "3.8.8"
  },
  "minecraft": {
   "description": "TimeCraft",
   "page_id": "1.1",
   "page_name": "Agent Deployed",
   "style": "minecraft.css"
  }
 },
 "nbformat": 4,
 "nbformat_minor": 4
}