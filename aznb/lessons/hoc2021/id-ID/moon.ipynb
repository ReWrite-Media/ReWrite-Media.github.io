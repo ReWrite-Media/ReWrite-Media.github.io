﻿{
    "cells":  [
                  {
                      "cell_type":  "markdown",
                      "source":  [
                                     "# Misi Bulan\n",
                                     "\n",
                                     "Kirim agent ke modul luar angkasa untuk memberikan perhitungannya. Kamu tidak bisa menghitung ruang yang harus dituju oleh Agent untuk menyelesaikan misi ini. Pikirkan tentang gerakan yang diperlukan dan gunakan perhitungan Matematikawan untuk menentukan jumlah gerakan yang harus dilakukan agent. Gunakan `agent.move()` untuk membawa Agent ke modul bulan dan mengaitkannya.\n",
                                     "\n",
                                     "Fungsi `agent.move()` membutuhkan satu parameter, yakni direction.\n",
                                     "\n",
                                     "Arah yang valid adalah: \n",
                                     "- maju\n",
                                     "- mundur\n",
                                     "- kiri\n",
                                     "- kanan\n",
                                     "- atas\n",
                                     "- bawah\n",
                                     "\n",
                                     "Fungsi `agent.turn()` membutuhkan satu parameter, yaitu turn_direction.\n",
                                     "\n",
                                     "Arah yang valid adalah: \n",
                                     "- kiri\n",
                                     "- kanan"
                                 ],
                      "metadata":  {

                                   }
                  },
                  {
                      "cell_type":  "code",
                      "execution_count":  null,
                      "source":  [
                                     "# gerakkan agent ke depan 5\r\n",
                                     "# kemudian belok kanan\r\n",
                                     "agent.move(\"forward\")\r\n",
                                     "agent.move(\"forward\")\r\n",
                                     "agent.move(\"forward\")\r\n",
                                     "agent.move(\"forward\")\r\n",
                                     "agent.move(\"forward\")\r\n",
                                     "agent.turn(\"right\")"
                                 ],
                      "outputs":  [

                                  ],
                      "metadata":  {
                                       "minecraft":  {
                                                         "baseCodeCellName":  "Example",
                                                         "closeCodeBuilderOnRun":  true,
                                                         "readonly":  true
                                                     }
                                   }
                  },
                  {
                      "cell_type":  "markdown",
                      "source":  [
                                     "# Tips Pro:\n",
                                     "\n",
                                     "Gunakan perulangan `for` untuk melakukan satu atau lebih tindakan beberapa kali."
                                 ],
                      "metadata":  {

                                   }
                  },
                  {
                      "cell_type":  "code",
                      "execution_count":  null,
                      "source":  [
                                     "# gerakkan agent ke depan 5\r\n",
                                     "# kemudian belok kanan\r\n",
                                     "for i in range(5):\r\n",
                                     "    agent.move(\"forward\")\r\n",
                                     "agent.turn(\"right\")    "
                                 ],
                      "outputs":  [

                                  ],
                      "metadata":  {
                                       "minecraft":  {
                                                         "baseCodeCellName":  "Example",
                                                         "closeCodeBuilderOnRun":  true,
                                                         "readonly":  true
                                                     }
                                   }
                  },
                  {
                      "cell_type":  "markdown",
                      "source":  [
                                     "# Aktivitas\n",
                                     "\n",
                                     "Gerakkan Agent ke modul bulan dengan maju 25, kanan 17, dan turun 3.\n",
                                     "\n",
                                     "**Catatan: Kamu bisa mengatur ulang aktivitas menggunakan perangkat T.A.L.K. atau dengan tombol Atur Ulang Aktivitas.**"
                                 ],
                      "metadata":  {

                                   }
                  },
                  {
                      "cell_type":  "code",
                      "execution_count":  null,
                      "source":  [
                                     "# tulis kode di sini\r\n",
                                     "\r\n",
                                     "\r\n"
                                 ],
                      "outputs":  [

                                  ],
                      "metadata":  {
                                       "minecraft":  {
                                                         "closeCodeBuilderOnRun":  true,
                                                         "default_code":  "# code here\n\n\n",
                                                         "resetWorldCommand":  "function act/3/reset"
                                                     }
                                   }
                  }
              ],
    "metadata":  {
                     "celltoolbar":  "Edit Metadata",
                     "kernelspec":  {
                                        "display_name":  "Python 3",
                                        "language":  "python",
                                        "name":  "python3"
                                    },
                     "language_info":  {
                                           "codemirror_mode":  {
                                                                   "name":  "ipython",
                                                                   "version":  3
                                                               },
                                           "file_extension":  ".py",
                                           "mimetype":  "text/x-python",
                                           "name":  "python",
                                           "nbconvert_exporter":  "python",
                                           "pygments_lexer":  "ipython3",
                                           "version":  "3.8.8"
                                       },
                     "minecraft":  {
                                       "description":  "TimeCraft",
                                       "page_id":  "1.1",
                                       "page_name":  "Misi Bulan",
                                       "style":  "minecraft.css"
                                   }
                 },
    "nbformat":  4,
    "nbformat_minor":  4
}
