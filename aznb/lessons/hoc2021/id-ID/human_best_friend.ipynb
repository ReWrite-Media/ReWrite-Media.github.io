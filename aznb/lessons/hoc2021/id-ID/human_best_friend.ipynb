﻿{
    "cells":  [
                  {
                      "cell_type":  "markdown",
                      "source":  [
                                     "# Teman Terbaik Manusia\n",
                                     "\n",
                                     "Anjing telah berteman dengan manusia selama ribuan tahun. Tetapi, ada sesuatu yang membuat para anjing lari ketakutan. Tulis kode agar Agent meninggalkan jejak item `BEETROOT` berjarak 5 blok untuk membantu orang-orang menjinakkan serigala menjadi anjing. Gunakan fungsi `agent.give()` untuk memberi Agent setumpuk `BEETROOT`, lalu gunakan `agent.move()` untuk memosisikan Agent, dan `agent.drop()` untuk menjatuhkan `BEETROOT`.\n",
                                     "\n",
                                     "Fungsi `agent.give()` membutuhkan tiga parameter.  \n",
                                     "\n",
                                     "- item (*string*): Item yang ingin kamu berikan ke Agent.\n",
                                     "- count (*integer*): Berapa banyak item yang akan diterima Agent.\n",
                                     "- slot (*integer*): Slot inventaris tempat Agent menerima item.\n",
                                     "\n",
                                     "Fungsi `agent.move()` membutuhkan satu parameter, yaitu direction.\n",
                                     "\n",
                                     "Arah yang valid adalah: \n",
                                     "- maju\n",
                                     "- mundur\n",
                                     "- kiri\n",
                                     "- kanan\n",
                                     "- atas\n",
                                     "- bawah\n",
                                     "\n",
                                     "Fungsi `agent.drop()` membutuhkan dua parameter.\n",
                                     "- slot (*integer*): Slot persediaan tempat asal item yang dijatuhkan Agent.\n",
                                     "- kuantitas (*integer*): Jumlah item yang akan dijatuhkan Agent."
                                 ],
                      "metadata":  {

                                   }
                  },
                  {
                      "cell_type":  "code",
                      "execution_count":  null,
                      "source":  [
                                     "# beri agent setumpuk ubi bit merah\r\n",
                                     "# kemudian turun satu, dan bergerak maju 5\r\n",
                                     "\r\n",
                                     "agent.give(\"BEETROOT\", 64, 1)\r\n",
                                     "agent.drop(1,1)\r\n",
                                     "agent.move(\"forward\")\r\n",
                                     "agent.move(\"forward\")\r\n",
                                     "agent.move(\"forward\")\r\n",
                                     "agent.move(\"forward\")"
                                 ],
                      "outputs":  [

                                  ],
                      "metadata":  {
                                       "minecraft":  {
                                                         "baseCodeCellName":  "Example",
                                                         "closeCodeBuilderOnRun":  true,
                                                         "readonly":  true
                                                     }
                                   }
                  },
                  {
                      "cell_type":  "markdown",
                      "source":  [
                                     "# Tips Pro:\n",
                                     "\n",
                                     "Gunakan perulangan `for` untuk melakukan satu tindakan atau lebih beberapa kali."
                                 ],
                      "metadata":  {

                                   }
                  },
                  {
                      "cell_type":  "code",
                      "execution_count":  null,
                      "source":  [
                                     "# beri agent setumpuk ubi bit merah\r\n",
                                     "# kemudian turun satu, dan bergerak maju 5\r\n",
                                     "\r\n",
                                     "agent.give(\"BEETROOT\", 64, 1)\r\n",
                                     "agent.drop(1,1)\r\n",
                                     "for i in range(4):\r\n",
                                     "    agent.move(\"forward\")"
                                 ],
                      "outputs":  [

                                  ],
                      "metadata":  {
                                       "minecraft":  {
                                                         "baseCodeCellName":  "Example",
                                                         "closeCodeBuilderOnRun":  true,
                                                         "readonly":  true
                                                     }
                                   }
                  },
                  {
                      "cell_type":  "markdown",
                      "source":  [
                                     "# Aktivitas\r\n",
                                     "\r\n",
                                     "Jatuhkan `BEETROOT` setiap 5 blok yang memancing serigala ke api unggun tepat di depan posisi awal Agent.\r\n",
                                     "\r\n",
                                     "**Catatan: Kamu bisa mengatur ulang aktivitas menggunakan perangkat T.A.L.K. atau dengan tombol Atur Ulang Aktivitas.**"
                                 ],
                      "metadata":  {

                                   }
                  },
                  {
                      "cell_type":  "code",
                      "execution_count":  null,
                      "source":  [
                                     "# tulis kode di sini\r\n",
                                     "\r\n",
                                     "\r\n"
                                 ],
                      "outputs":  [

                                  ],
                      "metadata":  {
                                       "minecraft":  {
                                                         "closeCodeBuilderOnRun":  true,
                                                         "default_code":  "# code here\n\n\n",
                                                         "resetWorldCommand":  "function act/8/reset"
                                                     }
                                   }
                  }
              ],
    "metadata":  {
                     "celltoolbar":  "Edit Metadata",
                     "kernelspec":  {
                                        "display_name":  "Python 3",
                                        "language":  "python",
                                        "name":  "python3"
                                    },
                     "language_info":  {
                                           "codemirror_mode":  {
                                                                   "name":  "ipython",
                                                                   "version":  3
                                                               },
                                           "file_extension":  ".py",
                                           "mimetype":  "text/x-python",
                                           "name":  "python",
                                           "nbconvert_exporter":  "python",
                                           "pygments_lexer":  "ipython3",
                                           "version":  "3.8.8"
                                       },
                     "minecraft":  {
                                       "description":  "TimeCraft",
                                       "page_id":  "1.1",
                                       "page_name":  "Teman Terbaik Manusia",
                                       "style":  "minecraft.css"
                                   }
                 },
    "nbformat":  4,
    "nbformat_minor":  4
}
