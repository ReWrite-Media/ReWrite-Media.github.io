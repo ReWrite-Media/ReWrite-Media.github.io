﻿{
    "cells":  [
                  {
                      "cell_type":  "markdown",
                      "metadata":  {

                                   },
                      "source":  [
                                     "# Tembok Besar Tiongkok (Solusi)\n",
                                     "\n",
                                     "Para panda terus memakan bambu perancah, sehingga si Insinyur tidak bisa menyelesaikan pembangunan tembok ini. Jauhkan panda dari tembok. Gunakan `agent.give()` untuk memberi Agent setumpuk `BAMBOO`, lalu gunakan agent.move()` untuk memosisikan Agent, dan `agent.place()` untuk meletakkan `BAMBOO`\n",
                                     "\n",
                                     "Fungsi `agent.give()` membutuhkan tiga parameter.  \n",
                                     "\n",
                                     "- item (*string*): Item yang ingin kamu berikan ke Agent.\n",
                                     "- count (*integer*): Berapa banyak item yang akan diterima Agent.\n",
                                     "- slot (*integer*): Slot inventaris tempat Agent menerima item.\n",
                                     "\n",
                                     "Fungsi `agent.move()` membutuhkan satu parameter, yaitu arah.\n",
                                     "\n",
                                     "Arah yang valid adalah: \n",
                                     "- maju\n",
                                     "- mundur\n",
                                     "- kiri\n",
                                     "- kanan\n",
                                     "- atas\n",
                                     "- bawah\n",
                                     "\n",
                                     "Fungsi `agent.place()` membutuhkan dua parameter.  \n",
                                     "\n",
                                     "- slot number (*integer*): Slot inventaris mana yang harus digunakan Agent.\n",
                                     "- direction (*string*): Arah yang kamu inginkan untuk Agent untuk meletakkan item.\n",
                                     "    - Arah yang valid adalah: \n",
                                     "        - maju\n",
                                     "        - mundur\n",
                                     "        - kiri\n",
                                     "        - kanan\n",
                                     "        - atas\n",
                                     "        - bawah"
                                 ]
                  },
                  {
                      "cell_type":  "code",
                      "execution_count":  null,
                      "metadata":  {
                                       "minecraft":  {
                                                         "baseCodeCellName":  "Example",
                                                         "closeCodeBuilderOnRun":  true,
                                                         "readonly":  true
                                                     }
                                   },
                      "outputs":  [

                                  ],
                      "source":  [
                                     "# beri agent setumpuk bambu\n",
                                     "# letakkan bambu di bawah agent\n",
                                     "# lalu gerakkan agent ke depan\n",
                                     "# lakukan ini 2 kali\n",
                                     "\n",
                                     "agent.give(\"BAMBOO\", 64, 1)\n",
                                     "agent.place(1,\"down\")\n",
                                     "agent.move(\"forward\")\n",
                                     "agent.place(1,\"down\")"
                                 ]
                  },
                  {
                      "cell_type":  "markdown",
                      "metadata":  {

                                   },
                      "source":  [
                                     "# Tips Pro:\n",
                                     "\n",
                                     "Gunakan perulangan `for` untuk melakukan satu atau lebih tindakan beberapa kali."
                                 ]
                  },
                  {
                      "cell_type":  "code",
                      "execution_count":  null,
                      "metadata":  {
                                       "minecraft":  {
                                                         "baseCodeCellName":  "Example",
                                                         "closeCodeBuilderOnRun":  true,
                                                         "readonly":  true
                                                     }
                                   },
                      "outputs":  [

                                  ],
                      "source":  [
                                     "# beri agent setumpuk bambu\n",
                                     "# letakkan bambu di bawah agent\n",
                                     "# lalu gerakkan agent ke depan\n",
                                     "# lakukan ini 2 kali\n",
                                     "\n",
                                     "agent.give(\"BAMBOO\", 64, 1)\n",
                                     "for i in range(2):\n",
                                     "    agent.place(1,\"down\")\n",
                                     "    agent.move(\"forward\")"
                                 ]
                  },
                  {
                      "cell_type":  "markdown",
                      "metadata":  {

                                   },
                      "source":  [
                                     "# Aktivitas:\n",
                                     "\n",
                                     "Kode di bawah ini adalah solusi yang benar untuk aktivitas ini. Jalankan kode untuk melihatnya berjalan.\n",
                                     "\n",
                                     "**Catatan: Gunakan tombol Atur Ulang Kode di bawah ini untuk mengatur ulang kotak penulisan kode kembali ke solusi**"
                                 ]
                  },
                  {
                      "cell_type":  "code",
                      "execution_count":  null,
                      "metadata":  {
                                       "minecraft":  {
                                                         "closeCodeBuilderOnRun":  true,
                                                         "default_code":  "# code here\n\nagent.give(\"BAMBOO\", 64, 1)\nfor i in range(5):\n    agent.place(1,\"down\")\n    agent.move(\"forward\")",
                                                         "resetWorldCommand":  "function act/4/reset"
                                                     }
                                   },
                      "outputs":  [

                                  ],
                      "source":  [
                                     "# kode di sini\n",
                                     "\n",
                                     "agent.give(\"BAMBOO\", 64, 1)\n",
                                     "for i in range(5):\n",
                                     "    agent.place(1,\"down\")\n",
                                     "    agent.move(\"forward\")"
                                 ]
                  }
              ],
    "metadata":  {
                     "celltoolbar":  "Edit Metadata",
                     "kernelspec":  {
                                        "display_name":  "Python 3",
                                        "language":  "python",
                                        "name":  "python3"
                                    },
                     "language_info":  {
                                           "codemirror_mode":  {
                                                                   "name":  "ipython",
                                                                   "version":  3
                                                               },
                                           "file_extension":  ".py",
                                           "mimetype":  "text/x-python",
                                           "name":  "python",
                                           "nbconvert_exporter":  "python",
                                           "pygments_lexer":  "ipython3",
                                           "version":  "3.8.8"
                                       },
                     "minecraft":  {
                                       "description":  "TimeCraft",
                                       "page_id":  "1.1",
                                       "page_name":  "Tembok Besar Tiongkok",
                                       "style":  "minecraft.css"
                                   }
                 },
    "nbformat":  4,
    "nbformat_minor":  4
}
