﻿{
    "cells":  [
                  {
                      "cell_type":  "markdown",
                      "metadata":  {

                                   },
                      "source":  [
                                     "# Teman Terbaik Manusia (Solusi)\n",
                                     "\n",
                                     "Anjing telah berteman dengan manusia selama ribuan tahun. Tetapi, ada sesuatu yang membuat para anjing lari ketakutan. Tulis kode agar Agent meninggalkan jejak item `BEETROOT` berjarak 5 blok untuk membantu orang-orang menjinakkan serigala menjadi anjing. Gunakan fungsi `agent.give()` untuk memberi Agent setumpuk `BEETROOT`, lalu gunakan `agent.move()` untuk memosisikan Agent, dan `agent.drop()` untuk menjatuhkan `BEETROOT`.\n",
                                     "\n",
                                     "Fungsi `agent.give()` membutuhkan tiga parameter.  \n",
                                     "\n",
                                     "- item (*string*): Item yang ingin kamu berikan ke Agent.\n",
                                     "- count (*integer*): Berapa banyak item yang akan diterima Agent.\n",
                                     "- slot (*integer*): Slot inventaris tempat Agent menerima item.\n",
                                     "\n",
                                     "Fungsi `agent.move()` membutuhkan satu parameter, yaitu direction.\n",
                                     "\n",
                                     "Arah yang valid adalah: \n",
                                     "- maju\n",
                                     "- mundur\n",
                                     "- kiri\n",
                                     "- kanan\n",
                                     "- atas\n",
                                     "- bawah\n",
                                     "\n",
                                     "Fungsi `agent.drop()` membutuhkan dua parameter.\n",
                                     "- slot (*integer*): Slot persediaan tempat asal item yang dijatuhkan Agent.\n",
                                     "- kuantitas (*integer*): Jumlah item yang akan dijatuhkan Agent."
                                 ]
                  },
                  {
                      "cell_type":  "code",
                      "execution_count":  null,
                      "metadata":  {
                                       "minecraft":  {
                                                         "baseCodeCellName":  "Example",
                                                         "closeCodeBuilderOnRun":  true,
                                                         "readonly":  true
                                                     }
                                   },
                      "outputs":  [

                                  ],
                      "source":  [
                                     "# beri agent setumpuk ubi bit merah\n",
                                     "# kemudian turun satu, dan bergerak maju 5\n",
                                     "\n",
                                     "agent.give(\"BEETROOT\", 64, 1)\n",
                                     "agent.drop(1,1)\n",
                                     "agent.move(\"forward\")\n",
                                     "agent.move(\"forward\")\n",
                                     "agent.move(\"forward\")\n",
                                     "agent.move(\"forward\")"
                                 ]
                  },
                  {
                      "cell_type":  "markdown",
                      "metadata":  {

                                   },
                      "source":  [
                                     "# Tips Pro:\n",
                                     "\n",
                                     "Gunakan perulangan `for` untuk melakukan satu tindakan atau lebih beberapa kali."
                                 ]
                  },
                  {
                      "cell_type":  "code",
                      "execution_count":  null,
                      "metadata":  {
                                       "minecraft":  {
                                                         "baseCodeCellName":  "Example",
                                                         "closeCodeBuilderOnRun":  true,
                                                         "readonly":  true
                                                     }
                                   },
                      "outputs":  [

                                  ],
                      "source":  [
                                     "# beri agent setumpuk ubi bit merah\n",
                                     "# kemudian turun satu, dan bergerak maju 5\n",
                                     "\n",
                                     "agent.give(\"BEETROOT\", 64, 1)\n",
                                     "for i in range(2):\n",
                                     "    agent.drop(1,1)\n",
                                     "    agent.move(\"forward\")\n",
                                     "    agent.move(\"forward\")\n",
                                     "    agent.move(\"forward\")\n",
                                     "    agent.move(\"forward\")"
                                 ]
                  },
                  {
                      "cell_type":  "markdown",
                      "metadata":  {

                                   },
                      "source":  [
                                     "# Aktivitas:\n",
                                     "\n",
                                     "Kode di bawah ini adalah solusi yang benar untuk aktivitas ini. Jalankan kode untuk melihat hasilnya.\n",
                                     "\n",
                                     "**Catatan: Gunakan tombol Atur Ulang Kode di bawah ini untuk mengatur ulang kotak penulisan kode kembali ke solusi**"
                                 ]
                  },
                  {
                      "cell_type":  "code",
                      "execution_count":  null,
                      "metadata":  {
                                       "minecraft":  {
                                                         "closeCodeBuilderOnRun":  true,
                                                         "default_code":  "# code here\n\nagent.give(\"BEETROOT\", 64, 1)\nfor i in range(6):\n    agent.drop(1,1)\n    agent.move(\"forward\")\n    agent.move(\"forward\")\n    agent.move(\"forward\")\n    agent.move(\"forward\")",
                                                         "resetWorldCommand":  "function act/8/reset"
                                                     }
                                   },
                      "outputs":  [

                                  ],
                      "source":  [
                                     "# kode di sini\n",
                                     "\n",
                                     "agent.give(\"BEETROOT\", 64, 1)\n",
                                     "for i in range(6):\n",
                                     "    agent.drop(1,1)\n",
                                     "    agent.move(\"forward\")\n",
                                     "    agent.move(\"forward\")\n",
                                     "    agent.move(\"forward\")\n",
                                     "    agent.move(\"forward\")"
                                 ]
                  }
              ],
    "metadata":  {
                     "celltoolbar":  "Edit Metadata",
                     "kernelspec":  {
                                        "display_name":  "Python 3",
                                        "language":  "python",
                                        "name":  "python3"
                                    },
                     "language_info":  {
                                           "codemirror_mode":  {
                                                                   "name":  "ipython",
                                                                   "version":  3
                                                               },
                                           "file_extension":  ".py",
                                           "mimetype":  "text/x-python",
                                           "name":  "python",
                                           "nbconvert_exporter":  "python",
                                           "pygments_lexer":  "ipython3",
                                           "version":  "3.8.8"
                                       },
                     "minecraft":  {
                                       "description":  "TimeCraft",
                                       "page_id":  "1.1",
                                       "page_name":  "Teman Terbaik Manusia",
                                       "style":  "minecraft.css"
                                   }
                 },
    "nbformat":  4,
    "nbformat_minor":  4
}
