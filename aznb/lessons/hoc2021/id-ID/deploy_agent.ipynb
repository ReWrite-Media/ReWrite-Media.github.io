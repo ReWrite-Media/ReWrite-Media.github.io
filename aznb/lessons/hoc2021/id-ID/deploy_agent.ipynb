﻿{
    "cells":  [
                  {
                      "cell_type":  "markdown",
                      "source":  [
                                     "## Agent Dikerahkan!\n",
                                     "Kamu berhasil mengerahkan Agent! \n",
                                     "\n",
                                     "Ini adalah jendela Pembuat Kode yang akan kamu gunakan ketika sudah siap menulis kode!\n",
                                     "\n",
                                     "Di bawah ini, kamu akan melihat kotak penulisan kode. Dalam aktivitas selanjutnya, kamu akan menulis dan menjalankan kodemu."
                                 ],
                      "metadata":  {

                                   }
                  },
                  {
                      "cell_type":  "code",
                      "execution_count":  null,
                      "source":  [
                                     "## ini adalah tampilan kotak penulisan kode\r\n",
                                     "## kamu akan menggunakan bagian seperti ini untuk\r\n",
                                     "## menulis kode di aktivitas mendatang"
                                 ],
                      "outputs":  [

                                  ],
                      "metadata":  {
                                       "minecraft":  {
                                                         "closeCodeBuilderOnRun":  true,
                                                         "default_code":  "## this is what a coding box look like\n## you\u0027ll use section like these to\n## write your code in future activities\n"
                                                     }
                                   }
                  },
                  {
                      "cell_type":  "markdown",
                      "source":  [
                                     "Tutup jendela ini untuk melanjutkan petualanganmu!"
                                 ],
                      "metadata":  {

                                   }
                  }
              ],
    "metadata":  {
                     "celltoolbar":  "Edit Metadata",
                     "kernelspec":  {
                                        "display_name":  "Python 3",
                                        "language":  "python",
                                        "name":  "python3"
                                    },
                     "language_info":  {
                                           "codemirror_mode":  {
                                                                   "name":  "ipython",
                                                                   "version":  3
                                                               },
                                           "file_extension":  ".py",
                                           "mimetype":  "text/x-python",
                                           "name":  "python",
                                           "nbconvert_exporter":  "python",
                                           "pygments_lexer":  "ipython3",
                                           "version":  "3.8.8"
                                       },
                     "minecraft":  {
                                       "description":  "TimeCraft",
                                       "page_id":  "1.1",
                                       "page_name":  "Agent Dikerahkan",
                                       "style":  "minecraft.css"
                                   }
                 },
    "nbformat":  4,
    "nbformat_minor":  4
}
