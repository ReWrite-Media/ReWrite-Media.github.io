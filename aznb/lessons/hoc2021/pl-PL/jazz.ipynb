﻿{
    "cells":  [
                  {
                      "cell_type":  "markdown",
                      "metadata":  {

                                   },
                      "source":  [
                                     "# Jazzowe brzmienie big bandów\n",
                                     "\n",
                                     "Muzyk jazzowy zgubił trąbkę i zamiast niej używa kazoo. Użyj funkcji „agent.move()”, aby przejść przez labirynt, a następnie użyj funkcji „agent.collect()”, aby podnieść trąbkę.\n",
                                     "\n",
                                     "Funkcja `agent.idź()` przyjmuje jeden parametr, kierunek.\n",
                                     "\n",
                                     "Prawidłowe kierunki to:\n",
                                     "- naprzód\n",
                                     "- wstecz\n",
                                     "- w lewo\n",
                                     "- w prawo\n",
                                     "- w górę\n",
                                     "- w dół\n",
                                     "\n",
                                     "Funkcja „agent.collect()” nie przyjmuje żadnych parametrów."
                                 ]
                  },
                  {
                      "cell_type":  "code",
                      "execution_count":  null,
                      "metadata":  {
                                       "minecraft":  {
                                                         "baseCodeCellName":  "Example",
                                                         "closeCodeBuilderOnRun":  true,
                                                         "readonly":  true
                                                     }
                                   },
                      "outputs":  [

                                  ],
                      "source":  [
                                     "# przesuń Agenta do przodu o 3 bloki\n",
                                     "# i spróbuj podnieść trąbkę\n",
                                     "\n",
                                     "agent.move(\"forward\")\n",
                                     "agent.move(\"forward\")\n",
                                     "agent.move(\"forward\")\n",
                                     "agent.collect()"
                                 ]
                  },
                  {
                      "cell_type":  "markdown",
                      "metadata":  {

                                   },
                      "source":  [
                                     "# Pro tip:\n",
                                     "\n",
                                     "Użyj pętli „for”, aby wykonać co najmniej jedną akcję wiele razy."
                                 ]
                  },
                  {
                      "cell_type":  "code",
                      "execution_count":  null,
                      "metadata":  {
                                       "minecraft":  {
                                                         "baseCodeCellName":  "Example",
                                                         "closeCodeBuilderOnRun":  true,
                                                         "readonly":  true
                                                     }
                                   },
                      "outputs":  [

                                  ],
                      "source":  [
                                     "# przesuń Agenta do przodu o 3 bloki\n",
                                     "# i spróbuj podnieść trąbkę\n",
                                     "\n",
                                     "for i in range(3):\n",
                                     "    agent.move(\"forward\")\n",
                                     "agent.collect()"
                                 ]
                  },
                  {
                      "cell_type":  "markdown",
                      "metadata":  {

                                   },
                      "source":  [
                                     "# Aktywność\n",
                                     "\n",
                                     "Przeprowadź Agenta przez labirynt i zabierz trąbkę.\n",
                                     "\n",
                                     "**Uwaga: aktywność można zresetować za pomocą urządzenia T.A.L.K. lub przycisku Zresetuj aktywność.**"
                                 ]
                  },
                  {
                      "cell_type":  "code",
                      "execution_count":  null,
                      "metadata":  {
                                       "minecraft":  {
                                                         "closeCodeBuilderOnRun":  true,
                                                         "default_code":  "# code here\n\n\n",
                                                         "resetWorldCommand":  "function act/1/reset"
                                                     }
                                   },
                      "outputs":  [

                                  ],
                      "source":  [
                                     "# kod tutaj\n",
                                     "\n",
                                     "\n"
                                 ]
                  }
              ],
    "metadata":  {
                     "celltoolbar":  "Edit Metadata",
                     "kernelspec":  {
                                        "display_name":  "Python 3",
                                        "language":  "python",
                                        "name":  "python3"
                                    },
                     "language_info":  {
                                           "codemirror_mode":  {
                                                                   "name":  "ipython",
                                                                   "version":  3
                                                               },
                                           "file_extension":  ".py",
                                           "mimetype":  "text/x-python",
                                           "name":  "python",
                                           "nbconvert_exporter":  "python",
                                           "pygments_lexer":  "ipython3",
                                           "version":  "3.8.8"
                                       },
                     "minecraft":  {
                                       "description":  "TimeCraft",
                                       "page_id":  "1.1",
                                       "page_name":  "Jazzowe brzmienie big bandów",
                                       "style":  "minecraft.css"
                                   }
                 },
    "nbformat":  4,
    "nbformat_minor":  4
}
