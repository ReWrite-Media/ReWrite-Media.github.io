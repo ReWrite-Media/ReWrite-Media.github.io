﻿{
    "cells":  [
                  {
                      "cell_type":  "markdown",
                      "source":  [
                                     "# Najlepsi przyjaciele człowieka (debugowanie)\n",
                                     "\n",
                                     "Psy przyjaźnią się z ludźmi od tysięcy lat, teraz jednak coś je odstraszyło. Zakoduj swojego Agenta tak, aby pozostawił za sobą buraczany ślad z rozmieszczonych co 5 bloków przedmiotów „BEETROOT” i pomógł ludziom oswoić wilki, by mogli oni znów cieszyć się towarzystwem psów. Użyj funkcji „agent.give()”, aby dać agentowi stos bloków „BEETROOT”, a następnie użyj funkcji „agent.move()”, aby ustawić Agenta, i funkcji „agent.drop()”, aby upuścić blok „BEETROOT”.\n",
                                     "\n",
                                     "Funkcja „agent.give()” przyjmuje trzy parametry.  \n",
                                     "\n",
                                     "- przedmiot (*tekst*): Przedmiot, który chcesz dać Agentowi.\n",
                                     "- ilość (*liczba*): Liczba przedmiotów, które otrzyma Agent.\n",
                                     "- gniazdo (*liczba*): Gniazdo ekwipunku, do którego Agent wsadza przedmiot.\n",
                                     "\n",
                                     "Funkcja „agent.move()” przyjmuje jeden parametr: kierunek.\n",
                                     "\n",
                                     "Prawidłowe kierunki to: \n",
                                     "- forward\n",
                                     "- back\n",
                                     "- left\n",
                                     "- right\n",
                                     "- up\n",
                                     "- down\n",
                                     "\n",
                                     "Funkcja „agent.drop()” przyjmuje dwa parametry.\n",
                                     "- slot (*liczba*): miejsce w ekwipunku, z którego Agent upuści przedmiot.\n",
                                     "- quantity (*liczba*): liczba przedmiotów, które upuści Agent."
                                 ],
                      "metadata":  {

                                   }
                  },
                  {
                      "cell_type":  "code",
                      "execution_count":  null,
                      "source":  [
                                     "# daj Agentowi stos buraków\r\n",
                                     "# następnie upuść jednego z nich i przejdź do przodu o 5\r\n",
                                     "\r\n",
                                     "agent.give(\"BEETROOT\", 64, 1)\r\n",
                                     "agent.drop(1,1)\r\n",
                                     "agent.move(\"forward\")\r\n",
                                     "agent.move(\"forward\")\r\n",
                                     "agent.move(\"forward\")\r\n",
                                     "agent.move(\"forward\")"
                                 ],
                      "outputs":  [

                                  ],
                      "metadata":  {
                                       "minecraft":  {
                                                         "baseCodeCellName":  "Example",
                                                         "closeCodeBuilderOnRun":  true,
                                                         "readonly":  true
                                                     }
                                   }
                  },
                  {
                      "cell_type":  "markdown",
                      "source":  [
                                     "# Pro tip:\n",
                                     "\n",
                                     "Użyj pętli „for”, aby wykonać co najmniej jedną akcję wiele razy."
                                 ],
                      "metadata":  {

                                   }
                  },
                  {
                      "cell_type":  "code",
                      "execution_count":  null,
                      "source":  [
                                     "# daj Agentowi stos buraków\r\n",
                                     "# następnie upuść jednego z nich i przejdź do przodu o 5\r\n",
                                     "\r\n",
                                     "agent.give(\"BEETROOT\", 64, 1)\r\n",
                                     "for i in range(2):\r\n",
                                     "    agent.drop(1,1)\r\n",
                                     "    agent.move(\"forward\")\r\n",
                                     "    agent.move(\"forward\")\r\n",
                                     "    agent.move(\"forward\")\r\n",
                                     "    agent.move(\"forward\")"
                                 ],
                      "outputs":  [

                                  ],
                      "metadata":  {
                                       "minecraft":  {
                                                         "baseCodeCellName":  "Example",
                                                         "closeCodeBuilderOnRun":  true,
                                                         "readonly":  true
                                                     }
                                   }
                  },
                  {
                      "cell_type":  "markdown",
                      "source":  [
                                     "# Działanie:\n",
                                     "\n",
                                     "Poniższy kod ma niepoprawne wartości. Uruchom kod, aby zobaczyć, co się stanie, a następnie spróbuj debugować i naprawić kod, aby ukończyć aktywność.\n",
                                     "\n",
                                     "**Uwaga: użyj znajdującego się poniżej przycisku Zresetuj kod, aby zresetować pole kodowania i przywrócić kod do zdebugowania**"
                                 ],
                      "metadata":  {

                                   }
                  },
                  {
                      "cell_type":  "code",
                      "execution_count":  null,
                      "source":  [
                                     "# tu wpisz kod\r\n",
                                     "\r\n",
                                     "agent.give(\"BEETROOT\", 64, 1)\r\n",
                                     "for i in range(2):\r\n",
                                     "    agent.drop(1,1)\r\n",
                                     "    agent.move(\"forward\")\r\n",
                                     "    agent.move(\"forward\")\r\n",
                                     "    agent.move(\"forward\")\r\n",
                                     "    agent.move(\"forward\")"
                                 ],
                      "outputs":  [

                                  ],
                      "metadata":  {
                                       "minecraft":  {
                                                         "closeCodeBuilderOnRun":  true,
                                                         "default_code":  "# code here\n\nagent.give(\"BEETROOT\", 64, 1)\nfor i in range(2):\n    agent.drop(1,1)\n    agent.move(\"forward\")\n    agent.move(\"forward\")\n    agent.move(\"forward\")\n    agent.move(\"forward\")",
                                                         "resetWorldCommand":  "function act/8/reset"
                                                     }
                                   }
                  }
              ],
    "metadata":  {
                     "celltoolbar":  "Edit Metadata",
                     "kernelspec":  {
                                        "display_name":  "Python 3",
                                        "language":  "python",
                                        "name":  "python3"
                                    },
                     "language_info":  {
                                           "codemirror_mode":  {
                                                                   "name":  "ipython",
                                                                   "version":  3
                                                               },
                                           "file_extension":  ".py",
                                           "mimetype":  "text/x-python",
                                           "name":  "python",
                                           "nbconvert_exporter":  "python",
                                           "pygments_lexer":  "ipython3",
                                           "version":  "3.8.8"
                                       },
                     "minecraft":  {
                                       "description":  "TimeCraft",
                                       "page_id":  "1.1",
                                       "page_name":  "Najlepsi przyjaciele człowieka",
                                       "style":  "minecraft.css"
                                   }
                 },
    "nbformat":  4,
    "nbformat_minor":  4
}
