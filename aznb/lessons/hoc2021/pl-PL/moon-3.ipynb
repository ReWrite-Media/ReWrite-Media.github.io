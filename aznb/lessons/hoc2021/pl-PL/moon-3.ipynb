﻿{
    "cells":  [
                  {
                      "cell_type":  "markdown",
                      "metadata":  {

                                   },
                      "source":  [
                                     "# Misja na Księżycu (rozwiązanie)\n",
                                     "\n",
                                     "Wyślij Agenta do modułu kosmicznego, by mógł dostarczyć obliczenia. Nie możesz policzyć, o ile bloków należy przesunąć Agenta, by mógł ukończyć misję. Pomyśl o ruchach, jakie należy wykonać, i użyj obliczeń Matematyka, aby określić, ile ruchów musi wykonać Agent. Użyj funkcji „agent.move()”, aby przenieść Agenta do modułu księżycowego i przeprowadzić dokowanie.\n",
                                     "\n",
                                     "Funkcja `agent.idź()` przyjmuje jeden parametr, kierunek.\n",
                                     "\n",
                                     "Prawidłowe kierunki to:\n",
                                     "- naprzód\n",
                                     "- wstecz\n",
                                     "- w lewo\n",
                                     "- w prawo\n",
                                     "- w górę\n",
                                     "- w dół\n",
                                     "\n",
                                     "Funkcja „agent.turn()” przyjmuje jeden parametr: kierunek_obrotu.\n",
                                     "\n",
                                     "Prawidłowe kierunki to: \n",
                                     "- left\n",
                                     "- right"
                                 ]
                  },
                  {
                      "cell_type":  "code",
                      "execution_count":  null,
                      "metadata":  {
                                       "minecraft":  {
                                                         "baseCodeCellName":  "Example",
                                                         "closeCodeBuilderOnRun":  true,
                                                         "readonly":  true
                                                     }
                                   },
                      "outputs":  [

                                  ],
                      "source":  [
                                     "# przesuń Agenta do przodu o 5 bloków\n",
                                     "# następnie skręć w prawo\n",
                                     "agent.move(\"forward\")\n",
                                     "agent.move(\"forward\")\n",
                                     "agent.move(\"forward\")\n",
                                     "agent.move(\"forward\")\n",
                                     "agent.move(\"forward\")\n",
                                     "agent.turn(\"right\")"
                                 ]
                  },
                  {
                      "cell_type":  "markdown",
                      "metadata":  {

                                   },
                      "source":  [
                                     "# Pro tip:\n",
                                     "\n",
                                     "Użyj pętli „for”, aby wykonać co najmniej jedną akcję wiele razy."
                                 ]
                  },
                  {
                      "cell_type":  "code",
                      "execution_count":  null,
                      "metadata":  {
                                       "minecraft":  {
                                                         "baseCodeCellName":  "Example",
                                                         "closeCodeBuilderOnRun":  true,
                                                         "readonly":  true
                                                     }
                                   },
                      "outputs":  [

                                  ],
                      "source":  [
                                     "# przesuń Agenta do przodu o 5 bloków\n",
                                     "# następnie skręć w prawo\n",
                                     "for i in range(5):\n",
                                     "    agent.move(\"forward\")\n",
                                     "agent.turn(\"right\")    "
                                 ]
                  },
                  {
                      "cell_type":  "markdown",
                      "metadata":  {

                                   },
                      "source":  [
                                     "# Działanie:\n",
                                     "\n",
                                     "Poniższy kod stanowi poprawne rozwiązanie ćwiczenia. Aby przekonać się, jak działa kod, uruchom go.\n",
                                     "\n",
                                     "**Uwaga: użyj widocznego poniżej przycisku Zresetuj kod, aby zresetować pole kodowania i przywrócić rozwiązanie**"
                                 ]
                  },
                  {
                      "cell_type":  "code",
                      "execution_count":  null,
                      "metadata":  {
                                       "minecraft":  {
                                                         "closeCodeBuilderOnRun":  true,
                                                         "default_code":  "# code here\n\nfor i in range(25):\n    agent.move(\"forward\")\nagent.turn(\"right\")\n\nfor i in range(17):\n    agent.move(\"forward\")\nagent.turn(\"right\")\n\nfor i in range(3):\n    agent.move(\"down\")\n",
                                                         "resetWorldCommand":  "function act/3/reset"
                                                     }
                                   },
                      "outputs":  [

                                  ],
                      "source":  [
                                     "# kod tutaj\n",
                                     "\n",
                                     "for i in range(25):\n",
                                     "    agent.move(\"forward\")\n",
                                     "agent.turn(\"right\")\n",
                                     "\n",
                                     "for i in range(17):\n",
                                     "    agent.move(\"forward\")\n",
                                     "agent.turn(\"right\")\n",
                                     "\n",
                                     "for i in range(3):\n",
                                     "    agent.move(\"down\")\n"
                                 ]
                  }
              ],
    "metadata":  {
                     "celltoolbar":  "Edit Metadata",
                     "kernelspec":  {
                                        "display_name":  "Python 3",
                                        "language":  "python",
                                        "name":  "python3"
                                    },
                     "language_info":  {
                                           "codemirror_mode":  {
                                                                   "name":  "ipython",
                                                                   "version":  3
                                                               },
                                           "file_extension":  ".py",
                                           "mimetype":  "text/x-python",
                                           "name":  "python",
                                           "nbconvert_exporter":  "python",
                                           "pygments_lexer":  "ipython3",
                                           "version":  "3.8.8"
                                       },
                     "minecraft":  {
                                       "description":  "TimeCraft",
                                       "page_id":  "1.1",
                                       "page_name":  "Misja na Księżycu",
                                       "style":  "minecraft.css"
                                   }
                 },
    "nbformat":  4,
    "nbformat_minor":  4
}
