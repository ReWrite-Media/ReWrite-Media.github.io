﻿{
    "cells":  [
                  {
                      "cell_type":  "markdown",
                      "metadata":  {

                                   },
                      "source":  [
                                     "# Pierwszy informatyk (debugowanie)\n",
                                     "\n",
                                     "Informatyk stworzył karty perforowane, które zawierają instrukcje dotyczące pierwszego algorytmu, ale otwory na kartach perforowanych są zablokowane. Użyj funkcji „agent.move()”, aby przenieść Agenta powyżej brązowych bloków, a następnie użyj polecenia „agent.destroy()”, aby rozbić blok znajdujący się pod nim.\n",
                                     "\n",
                                     "Funkcja `agent.idź()` przyjmuje jeden parametr, kierunek.\n",
                                     "\n",
                                     "Prawidłowe kierunki to:\n",
                                     "- naprzód\n",
                                     "- wstecz\n",
                                     "- w lewo\n",
                                     "- w prawo\n",
                                     "- w górę\n",
                                     "- w dół\n",
                                     "\n",
                                     "Funkcja „agent.destroy()” przyjmuje jeden parametr: kierunek.\n",
                                     "\n",
                                     "Prawidłowe kierunki to: \n",
                                     "- naprzód\n",
                                     "- wstecz\n",
                                     "- w lewo\n",
                                     "- w prawo\n",
                                     "- w górę\n",
                                     "- w dół\n",
                                     "\n",
                                     "Funkcja „agent.turn()” przyjmuje jeden parametr: kierunek_obrotu.\n",
                                     "\n",
                                     "Prawidłowe kierunki to: \n",
                                     "- left\n",
                                     "- right"
                                 ]
                  },
                  {
                      "cell_type":  "code",
                      "execution_count":  null,
                      "metadata":  {
                                       "minecraft":  {
                                                         "baseCodeCellName":  "Example",
                                                         "closeCodeBuilderOnRun":  true,
                                                         "readonly":  true
                                                     }
                                   },
                      "outputs":  [

                                  ],
                      "source":  [
                                     "# przesuń Agenta o 2 bloki do przodu\n",
                                     "# i rozbij znajdujący się pod nim blok.\n",
                                     "\n",
                                     "agent.move(\"forward\")\n",
                                     "agent.destroy(\"down\")"
                                 ]
                  },
                  {
                      "cell_type":  "markdown",
                      "metadata":  {

                                   },
                      "source":  [
                                     "# Działanie:\n",
                                     "\n",
                                     "Poniższy kod ma niepoprawne wartości. Uruchom kod, aby zobaczyć, co się stanie, a następnie spróbuj debugować i naprawić kod, aby ukończyć aktywność.\n",
                                     "\n",
                                     "**Uwaga: użyj znajdującego się poniżej przycisku Zresetuj kod, aby zresetować pole kodowania i przywrócić kod do zdebugowania**"
                                 ]
                  },
                  {
                      "cell_type":  "code",
                      "execution_count":  null,
                      "metadata":  {
                                       "minecraft":  {
                                                         "closeCodeBuilderOnRun":  true,
                                                         "default_code":  "# code here\n\nagent.move(\"forward\")\nagent.destroy(\"up\")\nagent.move(\"forward\")\nagent.move(\"forward\")\nagent.destroy(\"up\")\nagent.move(\"forward\")\nagent.move(\"forward\")\nagent.destroy(\"up\")\nagent.turn(\"left\")\nagent.move(\"forward\")\nagent.move(\"forward\")\nagent.turn(\"left\")\nagent.destroy(\"up\")\nagent.move(\"forward\")\nagent.move(\"forward\")\nagent.destroy(\"up\")\nagent.move(\"forward\")\nagent.move(\"forward\")\nagent.destroy(\"up\")",
                                                         "resetWorldCommand":  "function act/7/reset"
                                                     }
                                   },
                      "outputs":  [

                                  ],
                      "source":  [
                                     "# kod tutaj\n",
                                     "\n",
                                     "agent.move(\"forward\")\n",
                                     "agent.destroy(\"up\")\n",
                                     "agent.move(\"forward\")\n",
                                     "agent.move(\"forward\")\n",
                                     "agent.destroy(\"up\")\n",
                                     "agent.move(\"forward\")\n",
                                     "agent.move(\"forward\")\n",
                                     "agent.destroy(\"up\")\n",
                                     "agent.turn(\"left\")\n",
                                     "agent.move(\"forward\")\n",
                                     "agent.move(\"forward\")\n",
                                     "agent.turn(\"left\")\n",
                                     "agent.destroy(\"up\")\n",
                                     "agent.move(\"forward\")\n",
                                     "agent.move(\"forward\")\n",
                                     "agent.destroy(\"up\")\n",
                                     "agent.move(\"forward\")\n",
                                     "agent.move(\"forward\")\n",
                                     "agent.destroy(\"up\")"
                                 ]
                  }
              ],
    "metadata":  {
                     "celltoolbar":  "Edit Metadata",
                     "kernelspec":  {
                                        "display_name":  "Python 3",
                                        "language":  "python",
                                        "name":  "python3"
                                    },
                     "language_info":  {
                                           "codemirror_mode":  {
                                                                   "name":  "ipython",
                                                                   "version":  3
                                                               },
                                           "file_extension":  ".py",
                                           "mimetype":  "text/x-python",
                                           "name":  "python",
                                           "nbconvert_exporter":  "python",
                                           "pygments_lexer":  "ipython3",
                                           "version":  "3.8.8"
                                       },
                     "minecraft":  {
                                       "description":  "TimeCraft",
                                       "page_id":  "1.1",
                                       "page_name":  "Pierwszy informatyk",
                                       "style":  "minecraft.css"
                                   }
                 },
    "nbformat":  4,
    "nbformat_minor":  4
}
