﻿{
    "cells":  [
                  {
                      "cell_type":  "markdown",
                      "metadata":  {

                                   },
                      "source":  [
                                     "# Pierwszy lot (rozwiązanie)\n",
                                     "\n",
                                     "Jeden z pierwszych samolotów jest gotów do startu, ale w pasie startowym są dziury! Zaprogramuj\n",
                                     "Agenta w taki sposób, aby wypełnił dziury. Użyj funkcji „agent.give()”, aby dać agentowi stos bloków „DIRT”. Następnie użyj funkcji „agent.move()”, aby ustawić Agenta nad wybraną dziurą, oraz funkcji „agent.place()”, aby wypełnić dziurę.\n",
                                     "\n",
                                     "Funkcja „agent.give()” przyjmuje trzy parametry.\n",
                                     "\n",
                                     "- przedmiot (*tekst*): Przedmiot, który chcesz dać Agentowi.\n",
                                     "- ilość (*liczba*): Liczba przedmiotów, które otrzyma Agent.\n",
                                     "- gniazdo (*liczba*): Gniazdo ekwipunku, do którego Agent wsadza przedmiot.\n",
                                     "\n",
                                     "Funkcja `agent.idź()` przyjmuje jeden parametr, kierunek.\n",
                                     "\n",
                                     "Prawidłowe kierunki to:\n",
                                     "- naprzód\n",
                                     "- wstecz\n",
                                     "- w lewo\n",
                                     "- w prawo\n",
                                     "- w górę\n",
                                     "- down\n",
                                     "\n",
                                     "Funkcja „agent.place()” przyjmuje dwa parametry.\n",
                                     "\n",
                                     "- numer gniazda (*liczba*): Gniazdo ekwipunku, którego Agent powinien użyć.\n",
                                     "- kierunek (*tekst*): Kierunek, w którym Agent ma umieścić przedmiot.\n",
                                     "    - Prawidłowe kierunki to: \n",
                                     "        - forward\n",
                                     "        - back\n",
                                     "        - left\n",
                                     "        - right\n",
                                     "        - up\n",
                                     "        - down\n",
                                     "\n",
                                     "Funkcja „agent.turn()” przyjmuje jeden parametr: kierunek_obrotu.\n",
                                     "\n",
                                     "Prawidłowe kierunki to: \n",
                                     "- left\n",
                                     "- right"
                                 ]
                  },
                  {
                      "cell_type":  "code",
                      "execution_count":  null,
                      "metadata":  {
                                       "minecraft":  {
                                                         "baseCodeCellName":  "Example",
                                                         "closeCodeBuilderOnRun":  true,
                                                         "readonly":  true
                                                     }
                                   },
                      "outputs":  [

                                  ],
                      "source":  [
                                     "# daj Agentowi stos bloków ziemi\n",
                                     "# przesuń go o 1 do przodu i połóż blok\n",
                                     "# zrób to 2 razy\n",
                                     "\n",
                                     "agent.give(\"DIRT\", 64, 1)\n",
                                     "agent.move(\"forward\")\n",
                                     "agent.place(1,\"down\")\n",
                                     "agent.move(\"forward\")\n",
                                     "agent.place(1,\"down\")\n",
                                     "\n"
                                 ]
                  },
                  {
                      "cell_type":  "markdown",
                      "metadata":  {

                                   },
                      "source":  [
                                     "# Pro tip:\n",
                                     "\n",
                                     "Użyj pętli „for”, aby wykonać co najmniej jedną akcję wiele razy."
                                 ]
                  },
                  {
                      "cell_type":  "code",
                      "execution_count":  null,
                      "metadata":  {
                                       "minecraft":  {
                                                         "baseCodeCellName":  "Example",
                                                         "closeCodeBuilderOnRun":  true,
                                                         "readonly":  true
                                                     }
                                   },
                      "outputs":  [

                                  ],
                      "source":  [
                                     "# daj Agentowi stos bloków ziemi\n",
                                     "# przesuń go o 1 do przodu i połóż blok\n",
                                     "# zrób to 2 razy\n",
                                     "\n",
                                     "agent.give(\"DIRT\", 64, 1)\n",
                                     "for i in range(2):\n",
                                     "    agent.move(\"forward\")\n",
                                     "    agent.place(1,\"down\")\n"
                                 ]
                  },
                  {
                      "cell_type":  "markdown",
                      "metadata":  {

                                   },
                      "source":  [
                                     "# Działanie:\n",
                                     "\n",
                                     "Poniższy kod stanowi poprawne rozwiązanie ćwiczenia. Aby przekonać się, jak działa kod, uruchom go.\n",
                                     "\n",
                                     "**Uwaga: użyj widocznego poniżej przycisku Zresetuj kod, aby zresetować pole kodowania i przywrócić rozwiązanie**"
                                 ]
                  },
                  {
                      "cell_type":  "code",
                      "execution_count":  null,
                      "metadata":  {
                                       "minecraft":  {
                                                         "closeCodeBuilderOnRun":  true,
                                                         "default_code":  "# code here\n\nagent.give(\"DIRT\", 64, 1)\nfor i in range(2):\n    agent.move(\"forward\")\n    agent.place(1,\"down\")\n\nagent.move(\"forward\")\nagent.move(\"forward\")\nagent.move(\"right\")\nagent.move(\"right\")\n\nfor i in range(2):\n    agent.move(\"forward\")\n    agent.place(1,\"down\")\n\nagent.move(\"forward\")\nagent.move(\"forward\")\nagent.move(\"right\")\nagent.move(\"right\")\n\nfor i in range(2):\n    agent.move(\"forward\")\n    agent.place(1,\"down\")",
                                                         "resetWorldCommand":  "function act/6/reset"
                                                     }
                                   },
                      "outputs":  [

                                  ],
                      "source":  [
                                     "# kod tutaj\n",
                                     "\n",
                                     "agent.give(\"DIRT\", 64, 1)\n",
                                     "for i in range(2):\n",
                                     "    agent.move(\"forward\")\n",
                                     "    agent.place(1,\"down\")\n",
                                     "\n",
                                     "agent.move(\"forward\")\n",
                                     "agent.move(\"forward\")\n",
                                     "agent.move(\"right\")\n",
                                     "agent.move(\"right\")\n",
                                     "\n",
                                     "for i in range(2):\n",
                                     "    agent.move(\"forward\")\n",
                                     "    agent.place(1,\"down\")\n",
                                     "\n",
                                     "agent.move(\"forward\")\n",
                                     "agent.move(\"forward\")\n",
                                     "agent.move(\"right\")\n",
                                     "agent.move(\"right\")\n",
                                     "\n",
                                     "for i in range(2):\n",
                                     "    agent.move(\"forward\")\n",
                                     "    agent.place(1,\"down\")"
                                 ]
                  }
              ],
    "metadata":  {
                     "celltoolbar":  "Edit Metadata",
                     "kernelspec":  {
                                        "display_name":  "Python 3",
                                        "language":  "python",
                                        "name":  "python3"
                                    },
                     "language_info":  {
                                           "codemirror_mode":  {
                                                                   "name":  "ipython",
                                                                   "version":  3
                                                               },
                                           "file_extension":  ".py",
                                           "mimetype":  "text/x-python",
                                           "name":  "python",
                                           "nbconvert_exporter":  "python",
                                           "pygments_lexer":  "ipython3",
                                           "version":  "3.8.8"
                                       },
                     "minecraft":  {
                                       "description":  "TimeCraft",
                                       "page_id":  "1.1",
                                       "page_name":  "Pierwszy lot",
                                       "style":  "minecraft.css"
                                   }
                 },
    "nbformat":  4,
    "nbformat_minor":  4
}
