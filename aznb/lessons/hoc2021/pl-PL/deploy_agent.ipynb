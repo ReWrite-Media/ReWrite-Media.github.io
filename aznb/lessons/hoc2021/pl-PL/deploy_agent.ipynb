﻿{
    "cells":  [
                  {
                      "cell_type":  "markdown",
                      "source":  [
                                     "## Agent został ustawiony!\n",
                                     "Udało ci się ustawić Agenta! \n",
                                     "\n",
                                     "To jest okno Konstruktora kodu. Przygotuj się do kodowania, a następnie użyj go!\n",
                                     "\n",
                                     "Poniżej zobaczysz pole kodowania. W następnym ćwiczeniu napiszesz i uruchomisz kod."
                                 ],
                      "metadata":  {

                                   }
                  },
                  {
                      "cell_type":  "code",
                      "execution_count":  null,
                      "source":  [
                                     "## tak wygląda pole kodowania\r\n",
                                     "## podczas kolejnych ćwiczeń będziesz używać tego rodzaju sekcji, aby\r\n",
                                     "## pisać własny kod"
                                 ],
                      "outputs":  [

                                  ],
                      "metadata":  {
                                       "minecraft":  {
                                                         "closeCodeBuilderOnRun":  true,
                                                         "default_code":  "## this is what a coding box look like\n## you\u0027ll use section like these to\n## write your code in future activities\n"
                                                     }
                                   }
                  },
                  {
                      "cell_type":  "markdown",
                      "source":  [
                                     "Zamknij to okno, aby kontynuować swoją przygodę!"
                                 ],
                      "metadata":  {

                                   }
                  }
              ],
    "metadata":  {
                     "celltoolbar":  "Edit Metadata",
                     "kernelspec":  {
                                        "display_name":  "Python 3",
                                        "language":  "python",
                                        "name":  "python3"
                                    },
                     "language_info":  {
                                           "codemirror_mode":  {
                                                                   "name":  "ipython",
                                                                   "version":  3
                                                               },
                                           "file_extension":  ".py",
                                           "mimetype":  "text/x-python",
                                           "name":  "python",
                                           "nbconvert_exporter":  "python",
                                           "pygments_lexer":  "ipython3",
                                           "version":  "3.8.8"
                                       },
                     "minecraft":  {
                                       "description":  "TimeCraft",
                                       "page_id":  "1.1",
                                       "page_name":  "Ustawiono Agenta",
                                       "style":  "minecraft.css"
                                   }
                 },
    "nbformat":  4,
    "nbformat_minor":  4
}
