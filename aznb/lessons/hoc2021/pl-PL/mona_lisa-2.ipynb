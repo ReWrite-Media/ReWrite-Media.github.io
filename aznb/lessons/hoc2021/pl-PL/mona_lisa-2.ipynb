﻿{
    "cells":  [
                  {
                      "cell_type":  "markdown",
                      "metadata":  {

                                   },
                      "source":  [
                                     "# Mona Lisa (debugowanie)\n",
                                     "\n",
                                     "Zamiast zachwycać wszystkich dookoła swoim słynnym uśmiechem, Mona Lisa marszczy brwi. To dlatego, że jej ogród został zniszczony. Użyj funkcji „agent.give()”, aby dać Agentowi stos bloków białej glazurowanej terakoty (WHITE GLAZED TERRACOTTA), a następnie użyj funkcji „agent.move()”, aby odpowiednio ustawić Agenta, i funkcji „agent.place”, aby ułożyć blok „WHITE GLAZED TERRACOTTA”.\n",
                                     "\n",
                                     "Funkcja „agent.give()” przyjmuje trzy parametry.  \n",
                                     "\n",
                                     "- przedmiot (*tekst*): Przedmiot, który chcesz dać Agentowi.\n",
                                     "- ilość (*liczba*): Liczba przedmiotów, które otrzyma Agent.\n",
                                     "- gniazdo (*liczba*): Gniazdo ekwipunku, do którego Agent wsadza przedmiot.\n",
                                     "\n",
                                     "Funkcja „agent.move()” przyjmuje jeden parametr: kierunek.\n",
                                     "\n",
                                     "Prawidłowe kierunki to: \n",
                                     "- forward\n",
                                     "- back\n",
                                     "- left\n",
                                     "- right\n",
                                     "- up\n",
                                     "- down\n",
                                     "\n",
                                     "Funkcja „agent.place()” przyjmuje dwa parametry.  \n",
                                     "\n",
                                     "- numer gniazda (*liczba*): Gniazdo ekwipunku, którego Agent powinien użyć.\n",
                                     "- kierunek (*tekst*): Kierunek, w którym Agent ma umieścić przedmiot.\n",
                                     "    - Prawidłowe kierunki to: \n",
                                     "        - forward\n",
                                     "        - back\n",
                                     "        - left\n",
                                     "        - right\n",
                                     "        - up\n",
                                     "        - down"
                                 ]
                  },
                  {
                      "cell_type":  "code",
                      "execution_count":  null,
                      "metadata":  {
                                       "minecraft":  {
                                                         "baseCodeCellName":  "Example",
                                                         "closeCodeBuilderOnRun":  true,
                                                         "readonly":  true
                                                     }
                                   },
                      "outputs":  [

                                  ],
                      "source":  [
                                     "# daj Agentowi stos białej glazurowanej terakoty\n",
                                     "# następnie przejdź do przodu i połóż blok poniżej Agenta\n",
                                     "# zrób to 5 razy\n",
                                     "\n",
                                     "agent.give(\"WHITE GLAZED TERRACOTTA\", 64, 1)\n",
                                     "agent.move(\"forward\")\n",
                                     "agent.place(1,\"down\")\n",
                                     "agent.move(\"forward\")\n",
                                     "agent.place(1,\"down\")\n",
                                     "agent.move(\"forward\")\n",
                                     "agent.place(1,\"down\")\n",
                                     "agent.move(\"forward\")\n",
                                     "agent.place(1,\"down\")\n",
                                     "agent.move(\"forward\")\n",
                                     "agent.place(1,\"down\")"
                                 ]
                  },
                  {
                      "cell_type":  "markdown",
                      "metadata":  {

                                   },
                      "source":  [
                                     "# Pro tip:\n",
                                     "\n",
                                     "Użyj pętli „for”, aby wykonać co najmniej jedną akcję wiele razy."
                                 ]
                  },
                  {
                      "cell_type":  "code",
                      "execution_count":  null,
                      "metadata":  {
                                       "minecraft":  {
                                                         "baseCodeCellName":  "Example",
                                                         "closeCodeBuilderOnRun":  true,
                                                         "readonly":  true
                                                     }
                                   },
                      "outputs":  [

                                  ],
                      "source":  [
                                     "# daj Agentowi stos białej glazurowanej terakoty\n",
                                     "# następnie przejdź do przodu i połóż blok poniżej Agenta\n",
                                     "# zrób to 5 razy\n",
                                     "\n",
                                     "agent.give(\"WHITE GLAZED TERRACOTTA\", 64, 1)\n",
                                     "for i in range(5):\n",
                                     "    agent.move(\"forward\")\n",
                                     "    agent.place(1,\"down\")"
                                 ]
                  },
                  {
                      "cell_type":  "markdown",
                      "metadata":  {

                                   },
                      "source":  [
                                     "# Działanie:\n",
                                     "\n",
                                     "Poniższy kod ma niepoprawne wartości. Uruchom kod, aby zobaczyć, co się stanie, a następnie spróbuj debugować i naprawić kod, aby ukończyć aktywność.\n",
                                     "\n",
                                     "**Uwaga: użyj znajdującego się poniżej przycisku Zresetuj kod, aby zresetować pole kodowania i przywrócić kod do zdebugowania**"
                                 ]
                  },
                  {
                      "cell_type":  "code",
                      "execution_count":  null,
                      "metadata":  {
                                       "minecraft":  {
                                                         "closeCodeBuilderOnRun":  true,
                                                         "default_code":  "# code here\n\nagent.give(\"WHITE GLAZED TERRACOTTA\", 64, 1)\n\nfor i in range(5):\n    agent.move(\"forward\")\n    agent.place(1,\"down\")\n\nagent.turn(\"left\")\n\nfor i in range(4):\n    agent.move(\"forward\")\n    agent.place(1,\"down\")",
                                                         "resetWorldCommand":  "function act/5/reset"
                                                     }
                                   },
                      "outputs":  [

                                  ],
                      "source":  [
                                     "# kod tutaj\n",
                                     "\n",
                                     "agent.give(\"WHITE GLAZED TERRACOTTA\", 64, 1)\n",
                                     "\n",
                                     "for i in range(5):\n",
                                     "    agent.move(\"forward\")\n",
                                     "    agent.place(1,\"down\")\n",
                                     "\n",
                                     "agent.turn(\"left\")\n",
                                     "\n",
                                     "for i in range(4):\n",
                                     "    agent.move(\"forward\")\n",
                                     "    agent.place(1,\"down\")"
                                 ]
                  }
              ],
    "metadata":  {
                     "celltoolbar":  "Edit Metadata",
                     "kernelspec":  {
                                        "display_name":  "Python 3",
                                        "language":  "python",
                                        "name":  "python3"
                                    },
                     "language_info":  {
                                           "codemirror_mode":  {
                                                                   "name":  "ipython",
                                                                   "version":  3
                                                               },
                                           "file_extension":  ".py",
                                           "mimetype":  "text/x-python",
                                           "name":  "python",
                                           "nbconvert_exporter":  "python",
                                           "pygments_lexer":  "ipython3",
                                           "version":  "3.8.8"
                                       },
                     "minecraft":  {
                                       "description":  "TimeCraft",
                                       "page_id":  "1.1",
                                       "page_name":  "Mona Lisa",
                                       "style":  "minecraft.css"
                                   }
                 },
    "nbformat":  4,
    "nbformat_minor":  4
}
