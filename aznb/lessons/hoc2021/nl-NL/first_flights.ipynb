﻿{
    "cells":  [
                  {
                      "cell_type":  "markdown",
                      "metadata":  {

                                   },
                      "source":  [
                                     "# Eerste vluchten\n",
                                     "\n",
                                     "Een van de eerste vliegtuigen staat op het punt op te stijgen, maar er zitten gaten in de landingsbaan! Programmeer\n",
                                     "je Agent om de gaten te vullen. Gebruik de functie \u0027agent.give()\u0027 om je Agent een stapel \u0027DIRT\u0027-blokken te geven, gebruik de functie \u0027agent.move()\u0027 om de Agent boven de gaten te plaatsen en gebruik vervolgens \u0027agent.place()\u0027 om de gaten te vullen.\n",
                                     "\n",
                                     "De functie \u0027agent.give()\u0027 accepteert drie parameters.  \n",
                                     "\n",
                                     "- voorwerp (*tekenreeks*): het voorwerp dat je de Agent wilt geven.\n",
                                     "- aantal (*geheel getal*): hoeveel voorwerpen de Agent ontvangt.\n",
                                     "- vak (*geheel getal*): het inventarisvak waarin de Agent het voorwerp ontvangt.\n",
                                     "\n",
                                     "De functie \u0027agent.move()\u0027 accepteert één parameter: richting.\n",
                                     "\n",
                                     "Geldige richtingen zijn: \n",
                                     "- naar voren\n",
                                     "- naar achteren\n",
                                     "- naar links\n",
                                     "- naar rechts\n",
                                     "- omhoog\n",
                                     "- omlaag\n",
                                     "\n",
                                     "De functie \u0027agent.place()\u0027 accepteert twee parameters.  \n",
                                     "\n",
                                     "- vaknummer (*geheel getal*): welk inventarisvak de Agent moet gebruiken.\n",
                                     "- richting (*tekenreeks*): in welke richting je wilt dat de Agent het voorwerpen plaatst.\n",
                                     "    - Geldige richtingen zijn: \n",
                                     "        - naar voren\n",
                                     "        - naar achteren\n",
                                     "        - naar links\n",
                                     "        - naar rechts\n",
                                     "        - omhoog\n",
                                     "        - omlaag\n",
                                     "\n",
                                     "De functie \u0027agent.turn()\u0027 accepteert één parameter: turn_direction.\n",
                                     "\n",
                                     "Geldige richtingen zijn: \n",
                                     "- naar links\n",
                                     "- naar rechts"
                                 ]
                  },
                  {
                      "cell_type":  "code",
                      "execution_count":  null,
                      "metadata":  {
                                       "minecraft":  {
                                                         "baseCodeCellName":  "Example",
                                                         "closeCodeBuilderOnRun":  true,
                                                         "readonly":  true
                                                     }
                                   },
                      "outputs":  [

                                  ],
                      "source":  [
                                     "# geef de agent een stapel aardeblokken\n",
                                     "# ga 1 vooruit en plaats\n",
                                     "# doe dat 2 keer\n",
                                     "\n",
                                     "agent.give(\"DIRT\", 64, 1)\n",
                                     "agent.move(\"forward\")\n",
                                     "agent.place(1,\"down\")\n",
                                     "agent.move(\"forward\")\n",
                                     "agent.place(1,\"down\")\n",
                                     "\n"
                                 ]
                  },
                  {
                      "cell_type":  "markdown",
                      "metadata":  {

                                   },
                      "source":  [
                                     "# Protip:\n",
                                     "\n",
                                     "Gebruik een \u0027for\u0027-lus om een of meerdere acties meerdere keren uit te voeren."
                                 ]
                  },
                  {
                      "cell_type":  "code",
                      "execution_count":  null,
                      "metadata":  {
                                       "minecraft":  {
                                                         "baseCodeCellName":  "Example",
                                                         "closeCodeBuilderOnRun":  true,
                                                         "readonly":  true
                                                     }
                                   },
                      "outputs":  [

                                  ],
                      "source":  [
                                     "# geef de agent een stapel aardeblokken\n",
                                     "# ga 1 vooruit en plaats\n",
                                     "# doe dat 2 keer\n",
                                     "\n",
                                     "agent.give(\"DIRT\", 64, 1)\n",
                                     "for i in range(2):\n",
                                     "    agent.move(\"forward\")\n",
                                     "    agent.place(1,\"down\")\n"
                                 ]
                  },
                  {
                      "cell_type":  "markdown",
                      "metadata":  {

                                   },
                      "source":  [
                                     "# Activiteit\n",
                                     "\n",
                                     "Vul de gaten in de landingsbaan met \u0027DIRT\u0027 zodat de eerste vlucht kan doorgaan.\n",
                                     "\n",
                                     "**Opmerking: je kunt de activiteit opnieuw instellen door je T.A.L.K.-apparaat te gebruiken of met de knop Activiteit opnieuw instellen.**"
                                 ]
                  },
                  {
                      "cell_type":  "code",
                      "execution_count":  null,
                      "metadata":  {
                                       "minecraft":  {
                                                         "closeCodeBuilderOnRun":  true,
                                                         "default_code":  "# code here\n\n\n",
                                                         "resetWorldCommand":  "function act/6/reset"
                                                     }
                                   },
                      "outputs":  [

                                  ],
                      "source":  [
                                     "# code hier\n",
                                     "\n",
                                     "\n"
                                 ]
                  }
              ],
    "metadata":  {
                     "celltoolbar":  "Edit Metadata",
                     "kernelspec":  {
                                        "display_name":  "Python 3",
                                        "language":  "python",
                                        "name":  "python3"
                                    },
                     "language_info":  {
                                           "codemirror_mode":  {
                                                                   "name":  "ipython",
                                                                   "version":  3
                                                               },
                                           "file_extension":  ".py",
                                           "mimetype":  "text/x-python",
                                           "name":  "python",
                                           "nbconvert_exporter":  "python",
                                           "pygments_lexer":  "ipython3",
                                           "version":  "3.8.8"
                                       },
                     "minecraft":  {
                                       "description":  "TimeCraft",
                                       "page_id":  "1.1",
                                       "page_name":  "Eerste vluchten",
                                       "style":  "minecraft.css"
                                   }
                 },
    "nbformat":  4,
    "nbformat_minor":  4
}
