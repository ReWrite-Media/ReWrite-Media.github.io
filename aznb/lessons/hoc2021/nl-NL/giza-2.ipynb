﻿{
    "cells":  [
                  {
                      "cell_type":  "markdown",
                      "metadata":  {

                                   },
                      "source":  [
                                     "# De Grote Piramide van Gizeh (foutopsporing)\n",
                                     "\n",
                                     "Help de architect de driehoek af te maken, een ontwerp dat de tand des tijds zal doorstaan. Bedenk hoe je\n",
                                     "bouw een piramide. Er zijn nog 2 verdiepingen nodig: 3 blokken aan de onderkant en 1 blok aan de bovenkant. Programmeer de oplossing door \u0027agent.give()\u0027 te gebruiken om je Agent een stapel \u0027SANDSTONE\u0027 te geven, \u0027agent.move()\u0027 om de Agent te positioneren en \u0027agent.place()\u0027 om de blokken in een 3-laagse piramidevorm te plaatsen.\n",
                                     "\n",
                                     "De functie \u0027agent.give()\u0027 accepteert drie parameters.  \n",
                                     "\n",
                                     "- voorwerp (*tekenreeks*): het voorwerp dat je de Agent wilt geven.\n",
                                     "- aantal (*geheel getal*): hoeveel voorwerpen de Agent ontvangt.\n",
                                     "- vak (*geheel getal*): het inventarisvak waarin de Agent het voorwerp ontvangt.\n",
                                     "\n",
                                     "De functie \u0027agent.move()\u0027 accepteert één parameter: richting.\n",
                                     "\n",
                                     "Geldige richtingen zijn: \n",
                                     "- naar voren\n",
                                     "- naar achteren\n",
                                     "- naar links\n",
                                     "- naar rechts\n",
                                     "- omhoog\n",
                                     "- omlaag\n",
                                     "\n",
                                     "De functie \u0027agent.place()\u0027 accepteert twee parameters.  \n",
                                     "\n",
                                     "- vaknummer (*geheel getal*): welk inventarisvak de Agent moet gebruiken.\n",
                                     "- richting (*tekenreeks*): in welke richting je wilt dat de Agent het voorwerpen plaatst.\n",
                                     "    - Geldige richtingen zijn: \n",
                                     "        - naar voren\n",
                                     "        - naar achteren\n",
                                     "        - naar links\n",
                                     "        - naar rechts\n",
                                     "        - omhoog\n",
                                     "        - omlaag\n",
                                     "        \n",
                                     "De functie \u0027agent.turn()\u0027 accepteert één parameter: turn_direction.\n",
                                     "\n",
                                     "Geldige richtingen zijn: \n",
                                     "- naar links\n",
                                     "- naar rechts        "
                                 ]
                  },
                  {
                      "cell_type":  "code",
                      "execution_count":  null,
                      "metadata":  {
                                       "minecraft":  {
                                                         "baseCodeCellName":  "Example",
                                                         "closeCodeBuilderOnRun":  true,
                                                         "readonly":  true
                                                     }
                                   },
                      "outputs":  [

                                  ],
                      "source":  [
                                     "# geef de Agent een stapel zandsteen\n",
                                     "# verplaats de Agent naar voren\n",
                                     "# en plaats de zandsteenblokken\n",
                                     "# doe dat 5 keer\n",
                                     "\n",
                                     "agent.give(\"SANDSTONE\", 64, 1)\n",
                                     "agent.move(\"forward\")\n",
                                     "agent.place(1,\"back\")\n",
                                     "agent.move(\"forward\")\n",
                                     "agent.place(1,\"back\")\n",
                                     "agent.move(\"forward\")\n",
                                     "agent.place(1,\"back\")\n",
                                     "agent.move(\"forward\")\n",
                                     "agent.place(1,\"back\")\n",
                                     "agent.move(\"forward\")\n",
                                     "agent.place(1,\"back\")"
                                 ]
                  },
                  {
                      "cell_type":  "markdown",
                      "metadata":  {

                                   },
                      "source":  [
                                     "# Protip:\n",
                                     "\n",
                                     "Gebruik een \u0027for\u0027-lus om een of meerdere acties meerdere keren uit te voeren."
                                 ]
                  },
                  {
                      "cell_type":  "code",
                      "execution_count":  null,
                      "metadata":  {
                                       "minecraft":  {
                                                         "baseCodeCellName":  "Example",
                                                         "closeCodeBuilderOnRun":  true,
                                                         "readonly":  true
                                                     }
                                   },
                      "outputs":  [

                                  ],
                      "source":  [
                                     "# geef de Agent een stapel zandsteen\n",
                                     "# verplaats de Agent naar voren\n",
                                     "# en plaats de zandsteenblokken\n",
                                     "# doe dat 5 keer\n",
                                     "\n",
                                     "agent.give(\"SANDSTONE\", 64, 1)\n",
                                     "for i in range(5):\n",
                                     "    agent.move(\"forward\")\n",
                                     "    agent.place(1,\"back\")"
                                 ]
                  },
                  {
                      "cell_type":  "markdown",
                      "metadata":  {

                                   },
                      "source":  [
                                     "# Activiteit:\n",
                                     "\n",
                                     "De onderstaande code bevat onjuiste waarden. Voer de code uit om te zien wat er gebeurt en probeer vervolgens fouten in de code op te sporen en op te lossen om de activiteit te voltooien.\n",
                                     "\n",
                                     "**Opmerking: gebruik de knop Code opnieuw instellen hieronder om het programmeervak terug te zetten naar de foutopsporingscode**"
                                 ]
                  },
                  {
                      "cell_type":  "code",
                      "execution_count":  null,
                      "metadata":  {
                                       "minecraft":  {
                                                         "closeCodeBuilderOnRun":  true,
                                                         "default_code":  "# code here\n\nagent.give(\"SANDSTONE\", 64, 1)\n\nfor i in range(2):\n    agent.move(\"forward\")\n    agent.place(1,\"back\")\n\nagent.move(\"up\")\nagent.turn(\"left\")\nagent.turn(\"right\")\nagent.move(\"forward\")\nagent.move(\"forward\")\n\nagent.move(\"forward\")\nagent.place(1,\"up\")",
                                                         "resetWorldCommand":  "function act/2/reset"
                                                     }
                                   },
                      "outputs":  [

                                  ],
                      "source":  [
                                     "# code hier\n",
                                     "\n",
                                     "agent.give(\"SANDSTONE\", 64, 1)\n",
                                     "\n",
                                     "for i in range(2):\n",
                                     "    agent.move(\"forward\")\n",
                                     "    agent.place(1,\"back\")\n",
                                     "\n",
                                     "agent.move(\"up\")\n",
                                     "agent.turn(\"left\")\n",
                                     "agent.turn(\"right\")\n",
                                     "agent.move(\"forward\")\n",
                                     "agent.move(\"forward\")\n",
                                     "\n",
                                     "agent.move(\"forward\")\n",
                                     "agent.place(1,\"up\")"
                                 ]
                  }
              ],
    "metadata":  {
                     "celltoolbar":  "Edit Metadata",
                     "kernelspec":  {
                                        "display_name":  "Python 3",
                                        "language":  "python",
                                        "name":  "python3"
                                    },
                     "language_info":  {
                                           "codemirror_mode":  {
                                                                   "name":  "ipython",
                                                                   "version":  3
                                                               },
                                           "file_extension":  ".py",
                                           "mimetype":  "text/x-python",
                                           "name":  "python",
                                           "nbconvert_exporter":  "python",
                                           "pygments_lexer":  "ipython3",
                                           "version":  "3.8.8"
                                       },
                     "minecraft":  {
                                       "description":  "TimeCraft",
                                       "page_id":  "1.1",
                                       "page_name":  "Piramiden van Gizeh",
                                       "style":  "minecraft.css"
                                   }
                 },
    "nbformat":  4,
    "nbformat_minor":  4
}
