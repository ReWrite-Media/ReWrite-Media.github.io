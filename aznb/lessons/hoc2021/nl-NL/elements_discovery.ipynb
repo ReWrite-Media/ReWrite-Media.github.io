﻿{
    "cells":  [
                  {
                      "cell_type":  "markdown",
                      "metadata":  {

                                   },
                      "source":  [
                                     "# Elementen van ontdekking\n",
                                     "\n",
                                     "Toen de scheikundige de kamer verliet, verstopte iemand haar onderzoek in de boekenkast. Programmeer je\n",
                                     "Agent om de groene, gloeiende boekenkast te breken, zodat ze haar ontdekkingen kan delen. Gebruik de functie \u0027agent.move()\u0027 om de Agent naar de groene, gloeiende boekenkast te bewegen en gebruik vervolgens \u0027agent.destroy()\u0027 om deze te breken.\n",
                                     "\n",
                                     "De functie \u0027agent.move()\u0027 accepteert één parameter: richting.\n",
                                     "\n",
                                     "Geldige richtingen zijn: \n",
                                     "- naar voren\n",
                                     "- naar achteren\n",
                                     "- naar links\n",
                                     "- naar rechts\n",
                                     "- omhoog\n",
                                     "- omlaag\n",
                                     "\n",
                                     "De functie \u0027agent.destroy()\u0027 accepteert één parameter: direction.\n",
                                     "\n",
                                     "Geldige richtingen zijn: \n",
                                     "- naar voren\n",
                                     "- naar achteren\n",
                                     "- naar links\n",
                                     "- naar rechts\n",
                                     "- omhoog\n",
                                     "- omlaag\n",
                                     "\n",
                                     "De functie \u0027agent.turn()\u0027 accepteert één parameter: turn_direction.\n",
                                     "\n",
                                     "Geldige richtingen zijn: \n",
                                     "- naar links\n",
                                     "- naar rechts"
                                 ]
                  },
                  {
                      "cell_type":  "code",
                      "execution_count":  null,
                      "metadata":  {
                                       "minecraft":  {
                                                         "baseCodeCellName":  "Example",
                                                         "closeCodeBuilderOnRun":  true,
                                                         "readonly":  true
                                                     }
                                   },
                      "outputs":  [

                                  ],
                      "source":  [
                                     "# verplaats de Agent 2 blokken omhoog, 2 blokken naar voren\n",
                                     "# en breek vervolgens het blok aan de linkerkant\n",
                                     "\n",
                                     "agent.move(\"up\")\n",
                                     "agent.move(\"up\")\n",
                                     "agent.move(\"forward\")\n",
                                     "agent.move(\"forward\")\n",
                                     "agent.destroy(\"left\")"
                                 ]
                  },
                  {
                      "cell_type":  "markdown",
                      "metadata":  {

                                   },
                      "source":  [
                                     "# Protip:\n",
                                     "\n",
                                     "Gebruik een \u0027for\u0027-lus om een of meerdere acties meerdere keren uit te voeren."
                                 ]
                  },
                  {
                      "cell_type":  "code",
                      "execution_count":  null,
                      "metadata":  {
                                       "minecraft":  {
                                                         "baseCodeCellName":  "Example",
                                                         "closeCodeBuilderOnRun":  true,
                                                         "readonly":  true
                                                     }
                                   },
                      "outputs":  [

                                  ],
                      "source":  [
                                     "# verplaats de Agent 2 blokken omhoog, 2 blokken naar voren\n",
                                     "# en breek vervolgens het blok aan de linkerkant\n",
                                     "\n",
                                     "for i in range (2):\n",
                                     "    agent.move(\"up\")\n",
                                     "for i in range (2):\n",
                                     "    agent.move(\"forward\")\n",
                                     "agent.destroy(\"left\")"
                                 ]
                  },
                  {
                      "cell_type":  "markdown",
                      "metadata":  {

                                   },
                      "source":  [
                                     "# Activiteit\n",
                                     "\n",
                                     "Verplaats de Agent naar een boekenkast die groen gloeit en vernietig deze vervolgens.\n",
                                     "\n",
                                     "**Opmerking: je kunt de activiteit opnieuw instellen door je T.A.L.K.-apparaat te gebruiken of met de knop Activiteit opnieuw instellen.**"
                                 ]
                  },
                  {
                      "cell_type":  "code",
                      "execution_count":  null,
                      "metadata":  {
                                       "minecraft":  {
                                                         "closeCodeBuilderOnRun":  true,
                                                         "default_code":  "# code here\n\n\n",
                                                         "resetWorldCommand":  "function act/10/reset"
                                                     }
                                   },
                      "outputs":  [

                                  ],
                      "source":  [
                                     "# code hier\n",
                                     "\n",
                                     "\n"
                                 ]
                  }
              ],
    "metadata":  {
                     "celltoolbar":  "Edit Metadata",
                     "kernelspec":  {
                                        "display_name":  "Python 3",
                                        "language":  "python",
                                        "name":  "python3"
                                    },
                     "language_info":  {
                                           "codemirror_mode":  {
                                                                   "name":  "ipython",
                                                                   "version":  3
                                                               },
                                           "file_extension":  ".py",
                                           "mimetype":  "text/x-python",
                                           "name":  "python",
                                           "nbconvert_exporter":  "python",
                                           "pygments_lexer":  "ipython3",
                                           "version":  "3.8.8"
                                       },
                     "minecraft":  {
                                       "description":  "TimeCraft",
                                       "page_id":  "1.1",
                                       "page_name":  "Elementen van ontdekking",
                                       "style":  "minecraft.css"
                                   }
                 },
    "nbformat":  4,
    "nbformat_minor":  4
}
