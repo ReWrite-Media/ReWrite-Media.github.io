﻿{
    "cells":  [
                  {
                      "cell_type":  "markdown",
                      "metadata":  {

                                   },
                      "source":  [
                                     "# Maanlanding (oplossing)\n",
                                     "\n",
                                     "Stuur je Agent naar de ruimtemodule om de berekeningen te leveren. Je kunt de vakken die de Agent moet bewegen om de missie te voltooien niet tellen. Denk na over de vereiste bewegingen en gebruik de berekeningen van de wiskundige om te bepalen hoeveel bewegingen de Agent moet maken. Gebruik \u0027agent.move()\u0027 om je Agent naar de maanmodule te brengen.\n",
                                     "\n",
                                     "De functie \u0027agent.move()\u0027 accepteert één parameter: richting.\n",
                                     "\n",
                                     "Geldige richtingen zijn: \n",
                                     "- naar voren\n",
                                     "- naar achteren\n",
                                     "- naar links\n",
                                     "- naar rechts\n",
                                     "- omhoog\n",
                                     "- omlaag\n",
                                     "\n",
                                     "De functie \u0027agent.turn()\u0027 accepteert één parameter: turn_direction.\n",
                                     "\n",
                                     "Geldige richtingen zijn: \n",
                                     "- naar links\n",
                                     "- naar rechts"
                                 ]
                  },
                  {
                      "cell_type":  "code",
                      "execution_count":  null,
                      "metadata":  {
                                       "minecraft":  {
                                                         "baseCodeCellName":  "Example",
                                                         "closeCodeBuilderOnRun":  true,
                                                         "readonly":  true
                                                     }
                                   },
                      "outputs":  [

                                  ],
                      "source":  [
                                     "# verplaats de Agent 5 naar voren\n",
                                     "# en draai dan naar rechts\n",
                                     "agent.move(\"forward\")\n",
                                     "agent.move(\"forward\")\n",
                                     "agent.move(\"forward\")\n",
                                     "agent.move(\"forward\")\n",
                                     "agent.move(\"forward\")\n",
                                     "agent.turn(\"right\")"
                                 ]
                  },
                  {
                      "cell_type":  "markdown",
                      "metadata":  {

                                   },
                      "source":  [
                                     "# Protip:\n",
                                     "\n",
                                     "Gebruik een \u0027for\u0027-lus om een of meerdere acties meerdere keren uit te voeren."
                                 ]
                  },
                  {
                      "cell_type":  "code",
                      "execution_count":  null,
                      "metadata":  {
                                       "minecraft":  {
                                                         "baseCodeCellName":  "Example",
                                                         "closeCodeBuilderOnRun":  true,
                                                         "readonly":  true
                                                     }
                                   },
                      "outputs":  [

                                  ],
                      "source":  [
                                     "# verplaats de Agent 5 naar voren\n",
                                     "# en draai dan naar rechts\n",
                                     "for i in range(5):\n",
                                     "    agent.move(\"forward\")\n",
                                     "agent.turn(\"right\")    "
                                 ]
                  },
                  {
                      "cell_type":  "markdown",
                      "metadata":  {

                                   },
                      "source":  [
                                     "# Activiteit:\n",
                                     "\n",
                                     "De onderstaande code is de juiste oplossing voor de activiteit. Voer de code uit om deze in actie te zien.\n",
                                     "\n",
                                     "**Opmerking: gebruik de knop Code opnieuw instellen hieronder om het programmeervak terug te zetten naar de oplossing**"
                                 ]
                  },
                  {
                      "cell_type":  "code",
                      "execution_count":  null,
                      "metadata":  {
                                       "minecraft":  {
                                                         "closeCodeBuilderOnRun":  true,
                                                         "default_code":  "# code here\n\nfor i in range(25):\n    agent.move(\"forward\")\nagent.turn(\"right\")\n\nfor i in range(17):\n    agent.move(\"forward\")\nagent.turn(\"right\")\n\nfor i in range(3):\n    agent.move(\"down\")\n",
                                                         "resetWorldCommand":  "function act/3/reset"
                                                     }
                                   },
                      "outputs":  [

                                  ],
                      "source":  [
                                     "# code hier\n",
                                     "\n",
                                     "for i in range(25):\n",
                                     "    agent.move(\"forward\")\n",
                                     "agent.turn(\"right\")\n",
                                     "\n",
                                     "for i in range(17):\n",
                                     "    agent.move(\"forward\")\n",
                                     "agent.turn(\"right\")\n",
                                     "\n",
                                     "for i in range(3):\n",
                                     "    agent.move(\"down\")\n"
                                 ]
                  }
              ],
    "metadata":  {
                     "celltoolbar":  "Edit Metadata",
                     "kernelspec":  {
                                        "display_name":  "Python 3",
                                        "language":  "python",
                                        "name":  "python3"
                                    },
                     "language_info":  {
                                           "codemirror_mode":  {
                                                                   "name":  "ipython",
                                                                   "version":  3
                                                               },
                                           "file_extension":  ".py",
                                           "mimetype":  "text/x-python",
                                           "name":  "python",
                                           "nbconvert_exporter":  "python",
                                           "pygments_lexer":  "ipython3",
                                           "version":  "3.8.8"
                                       },
                     "minecraft":  {
                                       "description":  "TimeCraft",
                                       "page_id":  "1.1",
                                       "page_name":  "Maanlanding",
                                       "style":  "minecraft.css"
                                   }
                 },
    "nbformat":  4,
    "nbformat_minor":  4
}
