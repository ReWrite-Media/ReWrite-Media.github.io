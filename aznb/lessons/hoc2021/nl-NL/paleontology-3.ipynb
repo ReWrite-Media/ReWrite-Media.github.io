﻿{
    "cells":  [
                  {
                      "cell_type":  "markdown",
                      "metadata":  {

                                   },
                      "source":  [
                                     "# Paleontologiepuzzel (oplossing)\n",
                                     "\n",
                                     "Iemand heeft de botten uit het dinosaurusskelet verwijderd en vervangen door oranje blokken. Programmeer je Agent om alle 4 oranje blokken te VERNIETIGEN en \u0027BONEBLOCK- blokken te PLAATSEN. Gebruik de functie \u0027agent.give()\u0027 om je Agent een stapel \u0027BONEBLOCK\u0027 te geven en \u0027agent.move()\u0027 om je Agent boven het oranje blok te positioneren. Gebruik vervolgens \u0027agent.destroy()\u0027 om het oranje blok te breken en \u0027agent.place()\u0027 om het te vervangen door een \u0027BONEBLOCK\u0027.\n",
                                     "\n",
                                     "De functie \u0027agent.give()\u0027 accepteert drie parameters.  \n",
                                     "\n",
                                     "- voorwerp (*tekenreeks*): het voorwerp dat je de Agent wilt geven.\n",
                                     "- aantal (*geheel getal*): hoeveel voorwerpen de Agent ontvangt.\n",
                                     "- vak (*geheel getal*): het inventarisvak waarin de Agent het voorwerp ontvangt.\n",
                                     "\n",
                                     "De functie \u0027agent.move()\u0027 accepteert één parameter: richting.\n",
                                     "\n",
                                     "Geldige richtingen zijn: \n",
                                     "- naar voren\n",
                                     "- naar achteren\n",
                                     "- naar links\n",
                                     "- naar rechts\n",
                                     "- omhoog\n",
                                     "- omlaag\n",
                                     "\n",
                                     "De functie \u0027agent.destroy()\u0027 accepteert één parameter: direction.\n",
                                     "\n",
                                     "Geldige richtingen zijn: \n",
                                     "- naar voren\n",
                                     "- naar achteren\n",
                                     "- naar links\n",
                                     "- naar rechts\n",
                                     "- omhoog\n",
                                     "- omlaag\n",
                                     "\n",
                                     "De functie \u0027agent.place()\u0027 accepteert twee parameters.  \n",
                                     "\n",
                                     "- vaknummer (*geheel getal*): welk inventarisvak de Agent moet gebruiken.\n",
                                     "- richting (*tekenreeks*): in welke richting je wilt dat de Agent het voorwerpen plaatst.\n",
                                     "    - Geldige richtingen zijn: \n",
                                     "        - naar voren\n",
                                     "        - naar achteren\n",
                                     "        - naar links\n",
                                     "        - naar rechts\n",
                                     "        - omhoog\n",
                                     "        - omlaag"
                                 ]
                  },
                  {
                      "cell_type":  "code",
                      "execution_count":  null,
                      "metadata":  {
                                       "minecraft":  {
                                                         "baseCodeCellName":  "Example",
                                                         "closeCodeBuilderOnRun":  true,
                                                         "readonly":  true
                                                     }
                                   },
                      "outputs":  [

                                  ],
                      "source":  [
                                     "# geef de Agent een stapel bottenblokken\n",
                                     "# beweeg dan twee blokken naar voren en breek het blok eronder\n",
                                     "# en plaats vervolgens het bottenblok\n",
                                     "# doe dat 2 keer.\n",
                                     "\n",
                                     "agent.give(\"BONEBLOCK\", 64, 1)\n",
                                     "agent.move(\"forward\")\n",
                                     "agent.move(\"forward\")\n",
                                     "agent.destroy(\"down\")\n",
                                     "agent.place(\"down\", 1)\n",
                                     "agent.move(\"forward\")\n",
                                     "agent.move(\"forward\")\n",
                                     "agent.destroy(\"down\")\n",
                                     "agent.place(\"down\", 1)"
                                 ]
                  },
                  {
                      "cell_type":  "markdown",
                      "metadata":  {

                                   },
                      "source":  [
                                     "# Protip:\n",
                                     "\n",
                                     "Gebruik een \u0027for\u0027-lus om een of meerdere acties meerdere keren uit te voeren."
                                 ]
                  },
                  {
                      "cell_type":  "code",
                      "execution_count":  null,
                      "metadata":  {
                                       "minecraft":  {
                                                         "baseCodeCellName":  "Example",
                                                         "closeCodeBuilderOnRun":  true,
                                                         "readonly":  true
                                                     }
                                   },
                      "outputs":  [

                                  ],
                      "source":  [
                                     "# geef de Agent een stapel bottenblokken\n",
                                     "# beweeg dan twee blokken naar voren en breek het blok eronder\n",
                                     "# en plaats vervolgens het bottenblok\n",
                                     "# doe dat 2 keer.\n",
                                     "\n",
                                     "agent.give(\"BONEBLOCK\", 64, 1)\n",
                                     "for i in range(2):\n",
                                     "    agent.move(\"forward\")\n",
                                     "    agent.move(\"forward\")\n",
                                     "    agent.destroy(\"down\")\n",
                                     "    agent.place(\"down\", 1)"
                                 ]
                  },
                  {
                      "cell_type":  "markdown",
                      "metadata":  {

                                   },
                      "source":  [
                                     "# Activiteit:\n",
                                     "\n",
                                     "De onderstaande code is de juiste oplossing voor de activiteit. Voer de code uit om deze in actie te zien.\n",
                                     "\n",
                                     "**Opmerking: gebruik de knop Code opnieuw instellen hieronder om het programmeervak terug te zetten naar de oplossing**"
                                 ]
                  },
                  {
                      "cell_type":  "code",
                      "execution_count":  null,
                      "metadata":  {
                                       "minecraft":  {
                                                         "closeCodeBuilderOnRun":  true,
                                                         "default_code":  "# code here\n\nagent.give(\"BONEBLOCK\", 64, 1)\n\nfor i in range(4):\n    agent.move(\"forward\")\n    agent.move(\"forward\")\n    agent.destroy(\"down\")\n    agent.place(\"down\", 1)",
                                                         "resetWorldCommand":  "function act/9/reset"
                                                     }
                                   },
                      "outputs":  [

                                  ],
                      "source":  [
                                     "# code hier\n",
                                     "\n",
                                     "agent.give(\"BONEBLOCK\", 64, 1)\n",
                                     "\n",
                                     "for i in range(4):\n",
                                     "    agent.move(\"forward\")\n",
                                     "    agent.move(\"forward\")\n",
                                     "    agent.destroy(\"down\")\n",
                                     "    agent.place(\"down\", 1)"
                                 ]
                  }
              ],
    "metadata":  {
                     "celltoolbar":  "Edit Metadata",
                     "kernelspec":  {
                                        "display_name":  "Python 3",
                                        "language":  "python",
                                        "name":  "python3"
                                    },
                     "language_info":  {
                                           "codemirror_mode":  {
                                                                   "name":  "ipython",
                                                                   "version":  3
                                                               },
                                           "file_extension":  ".py",
                                           "mimetype":  "text/x-python",
                                           "name":  "python",
                                           "nbconvert_exporter":  "python",
                                           "pygments_lexer":  "ipython3",
                                           "version":  "3.8.8"
                                       },
                     "minecraft":  {
                                       "description":  "TimeCraft",
                                       "page_id":  "1.1",
                                       "page_name":  "Paleontologiepuzzel",
                                       "style":  "minecraft.css"
                                   }
                 },
    "nbformat":  4,
    "nbformat_minor":  4
}
