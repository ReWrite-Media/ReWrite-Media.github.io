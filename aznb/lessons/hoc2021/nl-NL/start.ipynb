﻿{
    "cells":  [
                  {
                      "cell_type":  "markdown",
                      "metadata":  {

                                   },
                      "source":  [
                                     "# Testgebied\n",
                                     "\n",
                                     "Welkom bij je eerste programmeertaak. Laten we je Tijd-Agent testen om te zien hoe deze je code volgt. Gebruik \u0027agent.move()\u0027 om je Agent 3 blokken naar voren te verplaatsen om in positie te komen.\n",
                                     "\n",
                                     "Druk op UITVOEREN om je code uit te voeren.\n",
                                     "\n",
                                     "De functie \u0027agent.move()\u0027 accepteert één parameter: direction.\n",
                                     "\n",
                                     "Geldige richtingen zijn: \n",
                                     "- naar voren\n",
                                     "- naar achteren\n",
                                     "- naar links\n",
                                     "- naar rechts\n",
                                     "- omhoog\n",
                                     "- omlaag\n",
                                     "\n",
                                     "Voorbeeld:"
                                 ]
                  },
                  {
                      "cell_type":  "code",
                      "execution_count":  null,
                      "metadata":  {
                                       "minecraft":  {
                                                         "baseCodeCellName":  "Example",
                                                         "closeCodeBuilderOnRun":  true,
                                                         "readonly":  true
                                                     }
                                   },
                      "outputs":  [

                                  ],
                      "source":  [
                                     "# verplaats Agent 2 blokken omhoog en 1 achteruit\n",
                                     "agent.move(\"forward\")\n",
                                     "agent.move(\"forward\")\n",
                                     "agent.move(\"back\")"
                                 ]
                  },
                  {
                      "cell_type":  "markdown",
                      "metadata":  {

                                   },
                      "source":  [
                                     "# Protip:\n",
                                     "\n",
                                     "Gebruik een \u0027for\u0027-lus om een of meerdere acties meerdere keren uit te voeren.\n",
                                     "\n",
                                     "Voorbeeld:"
                                 ]
                  },
                  {
                      "cell_type":  "code",
                      "execution_count":  null,
                      "metadata":  {
                                       "minecraft":  {
                                                         "baseCodeCellName":  "Example",
                                                         "closeCodeBuilderOnRun":  true,
                                                         "readonly":  true
                                                     }
                                   },
                      "outputs":  [

                                  ],
                      "source":  [
                                     "# verplaats Agent 2 blokken omhoog en 1 achteruit\n",
                                     "for i in range(2):\n",
                                     "    agent.move(\"forward\")\n",
                                     "agent.move(\"back\")    "
                                 ]
                  },
                  {
                      "cell_type":  "markdown",
                      "metadata":  {

                                   },
                      "source":  [
                                     "# Activiteit\n",
                                     "\n",
                                     "Verplaats de Agent 3 blokken naar voren om in positie te komen.\n",
                                     "\n",
                                     "**Opmerking: je kunt de activiteit opnieuw instellen door je T.A.L.K.-apparaat te gebruiken of met de knop Activiteit opnieuw instellen.**"
                                 ]
                  },
                  {
                      "cell_type":  "code",
                      "execution_count":  null,
                      "metadata":  {
                                       "minecraft":  {
                                                         "closeCodeBuilderOnRun":  true,
                                                         "default_code":  "# code here\n\n\n",
                                                         "resetWorldCommand":  "function act/0/reset"
                                                     }
                                   },
                      "outputs":  [

                                  ],
                      "source":  [
                                     "# code hier\n",
                                     "\n",
                                     "\n"
                                 ]
                  }
              ],
    "metadata":  {
                     "celltoolbar":  "Edit Metadata",
                     "kernelspec":  {
                                        "display_name":  "Python 3",
                                        "language":  "python",
                                        "name":  "python3"
                                    },
                     "language_info":  {
                                           "codemirror_mode":  {
                                                                   "name":  "ipython",
                                                                   "version":  3
                                                               },
                                           "file_extension":  ".py",
                                           "mimetype":  "text/x-python",
                                           "name":  "python",
                                           "nbconvert_exporter":  "python",
                                           "pygments_lexer":  "ipython3",
                                           "version":  "3.8.8"
                                       },
                     "minecraft":  {
                                       "description":  "TimeCraft",
                                       "page_id":  "1.1",
                                       "page_name":  "Testgebied",
                                       "style":  "minecraft.css"
                                   }
                 },
    "nbformat":  4,
    "nbformat_minor":  4
}
