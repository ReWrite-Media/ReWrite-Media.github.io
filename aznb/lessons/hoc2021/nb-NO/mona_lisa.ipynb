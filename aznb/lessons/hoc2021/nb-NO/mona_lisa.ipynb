﻿{
    "cells":  [
                  {
                      "cell_type":  "markdown",
                      "source":  [
                                     "# Mona Lisa\n",
                                     "\n",
                                     "Mona Lisa har en sur mine i stedet for sitt berømte smil. Dette er fordi hagen hennes har blitt ødelagt. Bruk funksjonen `agent.give()` for å gi agenten en stabel `WHITE GLAZED TERRACOTTA`, bruk `agent.move()` for å plassere agenten og `agent.place` for å plassere `WHITE GLAZED TERRACOTTA`.\n",
                                     "\n",
                                     "Funksjonen `agent.drop()` tar tre parametre.  \n",
                                     "\n",
                                     "- gjenstand (*streng*): gjenstanden du vil gi agenten\n",
                                     "- antall (*heltall*): hvor mange gjenstander agenten skal motta\n",
                                     "- plass (*heltall*): inventarplassen der agenten mottar gjenstanden\n",
                                     "\n",
                                     "Funksjonen `agent.move()` tar én parameter: direction.\n",
                                     "\n",
                                     "Gyldige retninger: \n",
                                     "- forward\n",
                                     "- back\n",
                                     "- left\n",
                                     "- right\n",
                                     "- up\n",
                                     "- down\n",
                                     "\n",
                                     "Funksjonen `agent.place()` tar to parametre.  \n",
                                     "\n",
                                     "- plassnummer (*heltall*): inventarplassen som agenten skal bruke\n",
                                     "- retning (*streng*): i hvilken retning agenten skal plassere gjenstanden\n",
                                     "    - Gyldige retninger: \n",
                                     "        - forward\n",
                                     "        - back\n",
                                     "        - left\n",
                                     "        - right\n",
                                     "        - up\n",
                                     "        - down"
                                 ],
                      "metadata":  {

                                   }
                  },
                  {
                      "cell_type":  "code",
                      "execution_count":  null,
                      "source":  [
                                     "# gi agenten en stabel hvit glasert terrakotta\r\n",
                                     "# flytt deretter fremover og plasser en blokk under agenten\r\n",
                                     "# gjør dette 5 ganger\r\n",
                                     "\r\n",
                                     "agent.give(\"WHITE GLAZED TERRACOTTA\", 64, 1)\r\n",
                                     "agent.move(\"forward\")\r\n",
                                     "agent.place(1,\"down\")\r\n",
                                     "agent.move(\"forward\")\r\n",
                                     "agent.place(1,\"down\")\r\n",
                                     "agent.move(\"forward\")\r\n",
                                     "agent.place(1,\"down\")\r\n",
                                     "agent.move(\"forward\")\r\n",
                                     "agent.place(1,\"down\")\r\n",
                                     "agent.move(\"forward\")\r\n",
                                     "agent.place(1,\"down\")"
                                 ],
                      "outputs":  [

                                  ],
                      "metadata":  {
                                       "minecraft":  {
                                                         "baseCodeCellName":  "Example",
                                                         "closeCodeBuilderOnRun":  true,
                                                         "readonly":  true
                                                     }
                                   }
                  },
                  {
                      "cell_type":  "markdown",
                      "source":  [
                                     "# Tips fra proffene:\n",
                                     "\n",
                                     "Bruk en `for`-løkke for å utføre én eller flere handlinger flere ganger."
                                 ],
                      "metadata":  {

                                   }
                  },
                  {
                      "cell_type":  "code",
                      "execution_count":  null,
                      "source":  [
                                     "# gi agenten en stabel hvit glasert terrakotta\r\n",
                                     "# flytt deretter fremover og plasser en blokk under agenten\r\n",
                                     "# gjør dette 5 ganger\r\n",
                                     "\r\n",
                                     "agent.give(\"WHITE GLAZED TERRACOTTA\", 64, 1)\r\n",
                                     "for i in range(5):\r\n",
                                     "    agent.move(\"forward\")\r\n",
                                     "    agent.place(1,\"down\")"
                                 ],
                      "outputs":  [

                                  ],
                      "metadata":  {
                                       "minecraft":  {
                                                         "baseCodeCellName":  "Example",
                                                         "closeCodeBuilderOnRun":  true,
                                                         "readonly":  true
                                                     }
                                   }
                  },
                  {
                      "cell_type":  "markdown",
                      "source":  [
                                     "# Aktivitet\r\n",
                                     "\r\n",
                                     "Fullfør det firkantede omrisset av \u0027WHITE GLAZED TERRACOTTA\u0027 ved å flytte agenten og plassere en blokk under den.\r\n",
                                     "\r\n",
                                     "**Merk: Du kan tilbakestille aktiviteten ved å bruke T.A.L.K.-enheten eller Tilbakestill aktivitet-knappen.**"
                                 ],
                      "metadata":  {

                                   }
                  },
                  {
                      "cell_type":  "code",
                      "execution_count":  null,
                      "source":  [
                                     "# kode her\r\n",
                                     "\r\n",
                                     "\r\n"
                                 ],
                      "outputs":  [

                                  ],
                      "metadata":  {
                                       "minecraft":  {
                                                         "closeCodeBuilderOnRun":  true,
                                                         "default_code":  "# code here\n\n\n",
                                                         "resetWorldCommand":  "function act/5/reset"
                                                     }
                                   }
                  }
              ],
    "metadata":  {
                     "celltoolbar":  "Edit Metadata",
                     "kernelspec":  {
                                        "display_name":  "Python 3",
                                        "language":  "python",
                                        "name":  "python3"
                                    },
                     "language_info":  {
                                           "codemirror_mode":  {
                                                                   "name":  "ipython",
                                                                   "version":  3
                                                               },
                                           "file_extension":  ".py",
                                           "mimetype":  "text/x-python",
                                           "name":  "python",
                                           "nbconvert_exporter":  "python",
                                           "pygments_lexer":  "ipython3",
                                           "version":  "3.8.8"
                                       },
                     "minecraft":  {
                                       "description":  "TimeCraft",
                                       "page_id":  "1.1",
                                       "page_name":  "Mona Lisa",
                                       "style":  "minecraft.css"
                                   }
                 },
    "nbformat":  4,
    "nbformat_minor":  4
}
