﻿{
    "cells":  [
                  {
                      "cell_type":  "markdown",
                      "metadata":  {

                                   },
                      "source":  [
                                     "# Great Pyramid at Giza\n",
                                     "\n",
                                     "Help the Architect finish the triangle, a design that will stand the test of time. Think how to\n",
                                     "create a pyramid. There are 2 more levels needed: 3 blocks on the bottom, and 1 block on the top. Code the solution by using `agent.give()` to give your Agent a stack of `SANDSTONE`, `agent.move()` to position the agent, and `agent.place()` to place the blocks in a 3 layer pyramid shape.\n",
                                     "\n",
                                     "The `agent.give()` function takes three parameters.  \n",
                                     "\n",
                                     "- gjenstand (*streng*): gjenstanden du vil gi agenten\n",
                                     "- antall (*heltall*): hvor mange gjenstander agenten skal motta\n",
                                     "- plass (*heltall*): inventarplassen der agenten mottar gjenstanden\n",
                                     "\n",
                                     "Funksjonen «agent.move()» må ha én parameter: retning.\n",
                                     "\n",
                                     "Gyldige retninger: \n",
                                     "- forward\n",
                                     "- back\n",
                                     "- left\n",
                                     "- right\n",
                                     "- up\n",
                                     "- down\n",
                                     "\n",
                                     "The `agent.place()` function takes two parameters.  \n",
                                     "\n",
                                     "- plassnummer (*heltall*): inventarplassen som agenten skal bruke\n",
                                     "- retning (*streng*): i hvilken retning agenten skal plassere gjenstanden\n",
                                     "    - Valid directions are: \n",
                                     "        - forward\n",
                                     "        - back\n",
                                     "        - left\n",
                                     "        - right\n",
                                     "        - up\n",
                                     "        - down\n",
                                     "        \n",
                                     "The `agent.turn()` function takes one parameter, turn_direction.\n",
                                     "\n",
                                     "Valid directions are: \n",
                                     "- left\n",
                                     "- right        "
                                 ]
                  },
                  {
                      "cell_type":  "code",
                      "execution_count":  null,
                      "metadata":  {
                                       "minecraft":  {
                                                         "baseCodeCellName":  "Example",
                                                         "closeCodeBuilderOnRun":  true,
                                                         "readonly":  true
                                                     }
                                   },
                      "outputs":  [

                                  ],
                      "source":  [
                                     "# give the agent a stack of sandstone\n",
                                     "# move the agent forward\n",
                                     "# and place the sandstone blocks\n",
                                     "# do that 5 times\n",
                                     "\n",
                                     "agent.give(\"SANDSTONE\", 64, 1)\n",
                                     "agent.move(\"forward\")\n",
                                     "agent.place(1,\"back\")\n",
                                     "agent.move(\"forward\")\n",
                                     "agent.place(1,\"back\")\n",
                                     "agent.move(\"forward\")\n",
                                     "agent.place(1,\"back\")\n",
                                     "agent.move(\"forward\")\n",
                                     "agent.place(1,\"back\")\n",
                                     "agent.move(\"forward\")\n",
                                     "agent.place(1,\"back\")"
                                 ]
                  },
                  {
                      "cell_type":  "markdown",
                      "metadata":  {

                                   },
                      "source":  [
                                     "# Tips fra proffene:\n",
                                     "\n",
                                     "Use a `for` loop to do one or more actions multiple times."
                                 ]
                  },
                  {
                      "cell_type":  "code",
                      "execution_count":  null,
                      "metadata":  {
                                       "minecraft":  {
                                                         "baseCodeCellName":  "Example",
                                                         "closeCodeBuilderOnRun":  true,
                                                         "readonly":  true
                                                     }
                                   },
                      "outputs":  [

                                  ],
                      "source":  [
                                     "# give the agent a stack of sandstone\n",
                                     "# move the agent forward\n",
                                     "# and place the sandstone blocks\n",
                                     "# do that 5 times\n",
                                     "\n",
                                     "agent.give(\"SANDSTONE\", 64, 1)\n",
                                     "for i in range(5):\n",
                                     "    agent.move(\"forward\")\n",
                                     "    agent.place(1,\"back\")"
                                 ]
                  },
                  {
                      "cell_type":  "markdown",
                      "metadata":  {

                                   },
                      "source":  [
                                     "# Activity\n",
                                     "\n",
                                     "Teach the architect how to make a pyramid by creating a 2 layer pyramid using `SANDSTONE`\n",
                                     "\n",
                                     "**Note: You can reset the activity by using your T.A.L.K. device or by using the Reset Activity button.**"
                                 ]
                  },
                  {
                      "cell_type":  "code",
                      "execution_count":  null,
                      "metadata":  {
                                       "minecraft":  {
                                                         "closeCodeBuilderOnRun":  true,
                                                         "default_code":  "# code here\n\n\n",
                                                         "resetWorldCommand":  "function act/2/reset"
                                                     }
                                   },
                      "outputs":  [

                                  ],
                      "source":  [
                                     "# kode her\n",
                                     "\n",
                                     "\n"
                                 ]
                  }
              ],
    "metadata":  {
                     "celltoolbar":  "Edit Metadata",
                     "kernelspec":  {
                                        "display_name":  "Python 3",
                                        "language":  "python",
                                        "name":  "python3"
                                    },
                     "language_info":  {
                                           "codemirror_mode":  {
                                                                   "name":  "ipython",
                                                                   "version":  3
                                                               },
                                           "file_extension":  ".py",
                                           "mimetype":  "text/x-python",
                                           "name":  "python",
                                           "nbconvert_exporter":  "python",
                                           "pygments_lexer":  "ipython3",
                                           "version":  "3.8.8"
                                       },
                     "minecraft":  {
                                       "description":  "TimeCraft",
                                       "page_id":  "1.1",
                                       "page_name":  "Pyramids of Giza",
                                       "style":  "minecraft.css"
                                   }
                 },
    "nbformat":  4,
    "nbformat_minor":  4
}
