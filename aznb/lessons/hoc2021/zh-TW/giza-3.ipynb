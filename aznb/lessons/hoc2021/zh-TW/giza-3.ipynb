﻿{
    "cells":  [
                  {
                      "cell_type":  "markdown",
                      "metadata":  {

                                   },
                      "source":  [
                                     "# 吉薩大金字塔 (解決方案)\n",
                                     "\n",
                                     "協助建築師完成三角形建築，打造經得起時間考驗的設計。思考如何\n",
                                     "建造一座金字塔。還需要增加 2 層：底部 3 個方塊，上方 1 個方塊。編碼打造解決方案，使用 `agent.give()` 為你的 Agent 提供一堆 `SANDSTONE`，使用 `agent.move()` 來移動 Agent 的位置，然後使用 `agent.place()` 將方塊放置在 3 層金字塔結構上。\n",
                                     "\n",
                                     "`agent.give()` 函數採用了三組參數。\n",
                                     "\n",
                                     "- 物品 (*字串*)：你要給 Agent 的物品。\n",
                                     "- 數量 (*整數*)：Agent 將收到多少物品。\n",
                                     "- 欄位 (*整數*)：Agent 接收物品的庫存欄位。\n",
                                     "\n",
                                     "`agent.move()` 函數採用了一個參數：方向。\n",
                                     "\n",
                                     "有效的方向為：\n",
                                     "- 前進 (forward)\n",
                                     "- 退後 (back)\n",
                                     "- 向左 (left)\n",
                                     "- 向右 (right)\n",
                                     "- 向上 (up)\n",
                                     "- 向下 (down)\n",
                                     "\n",
                                     "`agent.place()` 函數採用了兩組參數。\n",
                                     "\n",
                                     "- 欄位編號 (*整數*)：Agent 應使用哪一個庫存欄位。\n",
                                     "- 方向 (*字串*)：你希望 Agent 放置物品的方向。\n",
                                     "    - 有效的方向為：\n",
                                     "        - 前進 (forward)\n",
                                     "        - 退後 (back)\n",
                                     "        - 向左 (left)\n",
                                     "        - 向右 (right)\n",
                                     "        - 向上 (up)\n",
                                     "        - 向下 (down)\n",
                                     "        \n",
                                     "`agent.turn()` 函數採用了一組參數：turn_direction。\n",
                                     "\n",
                                     "有效的方向為：\n",
                                     "- 向左 (left)\n",
                                     "- 向右 (right)"
                                 ]
                  },
                  {
                      "cell_type":  "code",
                      "execution_count":  null,
                      "metadata":  {
                                       "minecraft":  {
                                                         "baseCodeCellName":  "Example",
                                                         "closeCodeBuilderOnRun":  true,
                                                         "readonly":  true
                                                     }
                                   },
                      "outputs":  [

                                  ],
                      "source":  [
                                     "# 給 Agent 一堆沙岩\n",
                                     "# 移動 Agent 前進\n",
                                     "# 放置沙岩方塊\n",
                                     "# 執行此動作 5 次\n",
                                     "\n",
                                     "agent.give(\"SANDSTONE\", 64, 1)\n",
                                     "agent.move(\"forward\")\n",
                                     "agent.place(1,\"back\")\n",
                                     "agent.move(\"forward\")\n",
                                     "agent.place(1,\"back\")\n",
                                     "agent.move(\"forward\")\n",
                                     "agent.place(1,\"back\")\n",
                                     "agent.move(\"forward\")\n",
                                     "agent.place(1,\"back\")\n",
                                     "agent.move(\"forward\")\n",
                                     "agent.place(1,\"back\")"
                                 ]
                  },
                  {
                      "cell_type":  "markdown",
                      "metadata":  {

                                   },
                      "source":  [
                                     "# 專業提示：\n",
                                     "\n",
                                     "使用 `for` 迴圈多次執行一個或多個動作。"
                                 ]
                  },
                  {
                      "cell_type":  "code",
                      "execution_count":  null,
                      "metadata":  {
                                       "minecraft":  {
                                                         "baseCodeCellName":  "Example",
                                                         "closeCodeBuilderOnRun":  true,
                                                         "readonly":  true
                                                     }
                                   },
                      "outputs":  [

                                  ],
                      "source":  [
                                     "# 給 Agent 一堆沙岩\n",
                                     "# 移動 Agent 前進\n",
                                     "# 放置沙岩方塊\n",
                                     "# 執行此動作 5 次\n",
                                     "\n",
                                     "agent.give(\"SANDSTONE\", 64, 1)\n",
                                     "for i in range(5):\n",
                                     "    agent.move(\"forward\")\n",
                                     "    agent.place(1,\"back\")"
                                 ]
                  },
                  {
                      "cell_type":  "markdown",
                      "metadata":  {

                                   },
                      "source":  [
                                     "# 活動：\n",
                                     "\n",
                                     "下列程式碼是活動的正確解決方案。請執行程式碼，觀察其執行狀況。\n",
                                     "\n",
                                     "**注意：使用下方的「重置代碼」按鈕，將編碼框重置為解決方案**"
                                 ]
                  },
                  {
                      "cell_type":  "code",
                      "execution_count":  null,
                      "metadata":  {
                                       "minecraft":  {
                                                         "closeCodeBuilderOnRun":  true,
                                                         "default_code":  "# code here\n\nagent.give(\"SANDSTONE\", 64, 1)\n\nfor i in range(3):\n    agent.move(\"forward\")\n    agent.place(1,\"back\")\n\nagent.move(\"up\")\nagent.turn(\"left\")\nagent.turn(\"left\")\nagent.move(\"forward\")\nagent.move(\"forward\")\n\nagent.move(\"forward\")\nagent.place(1,\"back\")",
                                                         "resetWorldCommand":  "function act/2/reset"
                                                     }
                                   },
                      "outputs":  [

                                  ],
                      "source":  [
                                     "# 在這裡編寫程式碼\n",
                                     "\n",
                                     "agent.give(\"SANDSTONE\", 64, 1)\n",
                                     "\n",
                                     "for i in range(3):\n",
                                     "    agent.move(\"forward\")\n",
                                     "    agent.place(1,\"back\")\n",
                                     "\n",
                                     "agent.move(\"up\")\n",
                                     "agent.turn(\"left\")\n",
                                     "agent.turn(\"left\")\n",
                                     "agent.move(\"forward\")\n",
                                     "agent.move(\"forward\")\n",
                                     "\n",
                                     "agent.move(\"forward\")\n",
                                     "agent.place(1,\"back\")"
                                 ]
                  }
              ],
    "metadata":  {
                     "celltoolbar":  "Edit Metadata",
                     "kernelspec":  {
                                        "display_name":  "Python 3",
                                        "language":  "python",
                                        "name":  "python3"
                                    },
                     "language_info":  {
                                           "codemirror_mode":  {
                                                                   "name":  "ipython",
                                                                   "version":  3
                                                               },
                                           "file_extension":  ".py",
                                           "mimetype":  "text/x-python",
                                           "name":  "python",
                                           "nbconvert_exporter":  "python",
                                           "pygments_lexer":  "ipython3",
                                           "version":  "3.8.8"
                                       },
                     "minecraft":  {
                                       "description":  "TimeCraft",
                                       "page_id":  "1.1",
                                       "page_name":  "吉薩大金字塔",
                                       "style":  "minecraft.css"
                                   }
                 },
    "nbformat":  4,
    "nbformat_minor":  4
}
