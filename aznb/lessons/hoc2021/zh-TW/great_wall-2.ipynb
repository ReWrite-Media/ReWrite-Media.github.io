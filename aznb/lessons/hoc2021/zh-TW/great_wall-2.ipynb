﻿{
    "cells":  [
                  {
                      "cell_type":  "markdown",
                      "metadata":  {

                                   },
                      "source":  [
                                     "# 中國萬里長城 (偵錯)\n",
                                     "\n",
                                     "熊貓們不停地吃掉竹子支架，害工程師無法建造城牆。吸引熊貓離開城牆。使用 `agent.give()` 給 Agent 一疊 `BAMBOO`，然後使用 `agent.move()` 放置 Agent，然後使用 `agent.place()` 放置 `BAMBOO`\n",
                                     "\n",
                                     "`agent.give()` 函數採用了三個參數。\n",
                                     "\n",
                                     "- 物品 (*字串*)：你要給 Agent 的物品。\n",
                                     "- 數量 (*整數*)：Agent 將收到多少物品。\n",
                                     "- 欄位 (*整數*)：Agent 接收物品的庫存欄位。\n",
                                     "\n",
                                     "`agent.move()` 函數採用了一組參數：direction。\n",
                                     "\n",
                                     "有效的方向為：\n",
                                     "- 前進 (forward)\n",
                                     "- 退後 (back)\n",
                                     "- 向左 (left)\n",
                                     "- 向右 (right)\n",
                                     "- 向上 (up)\n",
                                     "- 向下 (down)\n",
                                     "\n",
                                     "`agent.place()` 函數採用了兩個參數。\n",
                                     "\n",
                                     "- 欄位編號 (*整數*)：Agent 應使用哪一個庫存欄位。\n",
                                     "- 方向 (*字串*)：你希望 Agent 放置物品的方向。\n",
                                     "    - 有效的方向為：\n",
                                     "        - 前進 (forward)\n",
                                     "        - 退後 (back)\n",
                                     "        - 向左 (left)\n",
                                     "        - 向右 (right)\n",
                                     "        - 向上 (up)\n",
                                     "        - 向下 (down)"
                                 ]
                  },
                  {
                      "cell_type":  "code",
                      "execution_count":  null,
                      "metadata":  {
                                       "minecraft":  {
                                                         "baseCodeCellName":  "Example",
                                                         "closeCodeBuilderOnRun":  true,
                                                         "readonly":  true
                                                     }
                                   },
                      "outputs":  [

                                  ],
                      "source":  [
                                     "# 給 Agent 一疊竹子\n",
                                     "# 將竹子放在 Agent 下方\n",
                                     "# 然後將 Agent 向前移動\n",
                                     "# 執行此動作 2 次\n",
                                     "\n",
                                     "agent.give(\"BAMBOO\", 64, 1)\n",
                                     "agent.place(\"down\", 1)\n",
                                     "agent.move(\"forward\")\n",
                                     "agent.place(\"down\", 1)"
                                 ]
                  },
                  {
                      "cell_type":  "markdown",
                      "metadata":  {

                                   },
                      "source":  [
                                     "# 專業提示：\n",
                                     "\n",
                                     "使用 `for` 迴圈多次執行一個或多個動作。"
                                 ]
                  },
                  {
                      "cell_type":  "code",
                      "execution_count":  null,
                      "metadata":  {
                                       "minecraft":  {
                                                         "baseCodeCellName":  "Example",
                                                         "closeCodeBuilderOnRun":  true,
                                                         "readonly":  true
                                                     }
                                   },
                      "outputs":  [

                                  ],
                      "source":  [
                                     "# 給 Agent 一疊竹子\n",
                                     "# 將竹子放在 Agent 下方\n",
                                     "# 然後將 Agent 向前移動\n",
                                     "# 執行此動作 2 次\n",
                                     "\n",
                                     "agent.give(\"BAMBOO\", 64, 1)\n",
                                     "for i in range(2):\n",
                                     "    agent.place(\"down\", 1)\n",
                                     "    agent.move(\"forward\")"
                                 ]
                  },
                  {
                      "cell_type":  "markdown",
                      "metadata":  {

                                   },
                      "source":  [
                                     "# 活動：\n",
                                     "\n",
                                     "下方程式碼具有錯誤值。請執行程式碼，查看會發生什麼情況，然後嘗試偵錯和修復程式碼以完成活動。\n",
                                     "\n",
                                     "**注意：使用下方的「重置代碼」按鈕，將編碼框重置為偵錯代碼**"
                                 ]
                  },
                  {
                      "cell_type":  "code",
                      "execution_count":  null,
                      "metadata":  {
                                       "minecraft":  {
                                                         "closeCodeBuilderOnRun":  true,
                                                         "default_code":  "# code here\n\nagent.give(\"BAMBOO\", 64, 1)\nfor i in range(3):\n    agent.place(\"up\", 1)\n    agent.move(\"back\")",
                                                         "resetWorldCommand":  "function act/4/reset"
                                                     }
                                   },
                      "outputs":  [

                                  ],
                      "source":  [
                                     "# 在這裡編寫程式碼\n",
                                     "\n",
                                     "agent.give(\"BAMBOO\", 64, 1)\n",
                                     "for i in range(3):\n",
                                     "    agent.place(\"up\", 1)\n",
                                     "    agent.move(\"back\")"
                                 ]
                  }
              ],
    "metadata":  {
                     "celltoolbar":  "Edit Metadata",
                     "kernelspec":  {
                                        "display_name":  "Python 3",
                                        "language":  "python",
                                        "name":  "python3"
                                    },
                     "language_info":  {
                                           "codemirror_mode":  {
                                                                   "name":  "ipython",
                                                                   "version":  3
                                                               },
                                           "file_extension":  ".py",
                                           "mimetype":  "text/x-python",
                                           "name":  "python",
                                           "nbconvert_exporter":  "python",
                                           "pygments_lexer":  "ipython3",
                                           "version":  "3.8.8"
                                       },
                     "minecraft":  {
                                       "description":  "TimeCraft",
                                       "page_id":  "1.1",
                                       "page_name":  "中國萬里長城",
                                       "style":  "minecraft.css"
                                   }
                 },
    "nbformat":  4,
    "nbformat_minor":  4
}
