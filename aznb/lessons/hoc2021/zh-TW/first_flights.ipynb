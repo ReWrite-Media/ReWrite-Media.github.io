﻿{
    "cells":  [
                  {
                      "cell_type":  "markdown",
                      "metadata":  {

                                   },
                      "source":  [
                                     "# 首次飛行\n",
                                     "\n",
                                     "史上第一架飛機即將起飛，但是跑道上有洞！編寫程式碼\n",
                                     "讓你的 Agent 來填補孔洞。使用 `agent.give()` 函數，提供 Agent 一疊 `DIRT` 方塊，並使用 `agent.move()` 函數讓 Agent 停留定位在孔洞上方，然後使用 `agent.place()` 來填補孔洞。\n",
                                     "\n",
                                     "`agent.give()` 函數採用了三個參數。\n",
                                     "\n",
                                     "- 物品 (*字串*)：你要給 Agent 的物品。\n",
                                     "- 數量 (*整數*)：Agent 將收到多少物品。\n",
                                     "- 欄位 (*整數*)：Agent 接收物品的庫存欄位。\n",
                                     "\n",
                                     "`agent.move()` 函數採用了一個參數：方向。\n",
                                     "\n",
                                     "有效的方向為：\n",
                                     "- 前進 (forward)\n",
                                     "- 退後 (back)\n",
                                     "- 向左 (left)\n",
                                     "- 向右 (right)\n",
                                     "- 向上 (up)\n",
                                     "- 向下 (down)\n",
                                     "\n",
                                     "`agent.place()` 函數採用了兩個參數。\n",
                                     "\n",
                                     "- 欄位編號 (*整數*)：Agent 應使用哪一個庫存欄位。\n",
                                     "- 方向 (*字串*)：你希望 Agent 放置物品的方向。\n",
                                     "    - 有效的方向為：\n",
                                     "        - 前進 (forward)\n",
                                     "        - 退後 (back)\n",
                                     "        - 向左 (left)\n",
                                     "        - 向右 (right)\n",
                                     "        - 向上 (up)\n",
                                     "        - 向下 (down)\n",
                                     "\n",
                                     "`agent.turn()` 函數採用了一組參數：turn_direction。\n",
                                     "\n",
                                     "有效的方向為：\n",
                                     "- 向左 (left)\n",
                                     "- 向右 (right)"
                                 ]
                  },
                  {
                      "cell_type":  "code",
                      "execution_count":  null,
                      "metadata":  {
                                       "minecraft":  {
                                                         "baseCodeCellName":  "Example",
                                                         "closeCodeBuilderOnRun":  true,
                                                         "readonly":  true
                                                     }
                                   },
                      "outputs":  [

                                  ],
                      "source":  [
                                     "# 給 Agent 一疊泥土方塊\n",
                                     "# 向前移動 1 個方塊並放置\n",
                                     "# 執行此動作 2 次\n",
                                     "\n",
                                     "agent.give(\"DIRT\", 64, 1)\n",
                                     "agent.move(\"forward\")\n",
                                     "agent.place(1,\"down\")\n",
                                     "agent.move(\"forward\")\n",
                                     "agent.place(1,\"down\")\n",
                                     "\n"
                                 ]
                  },
                  {
                      "cell_type":  "markdown",
                      "metadata":  {

                                   },
                      "source":  [
                                     "# 專業提示：\n",
                                     "\n",
                                     "使用 `for` 迴圈多次執行一個或多個動作。"
                                 ]
                  },
                  {
                      "cell_type":  "code",
                      "execution_count":  null,
                      "metadata":  {
                                       "minecraft":  {
                                                         "baseCodeCellName":  "Example",
                                                         "closeCodeBuilderOnRun":  true,
                                                         "readonly":  true
                                                     }
                                   },
                      "outputs":  [

                                  ],
                      "source":  [
                                     "# 給 Agent 一疊泥土方塊\n",
                                     "# 向前移動 1 個方塊並放置\n",
                                     "# 執行此動作 2 次\n",
                                     "\n",
                                     "agent.give(\"DIRT\", 64, 1)\n",
                                     "for i in range(2):\n",
                                     "    agent.move(\"forward\")\n",
                                     "    agent.place(1,\"down\")\n"
                                 ]
                  },
                  {
                      "cell_type":  "markdown",
                      "metadata":  {

                                   },
                      "source":  [
                                     "# 活動\n",
                                     "\n",
                                     "用 `DIRT` 填補跑道上的孔洞，讓首次飛行順利完成。\n",
                                     "\n",
                                     "**注意：你可以使用 T.A.L.K. 裝置或使用「重置活動」按鈕重置活動。**"
                                 ]
                  },
                  {
                      "cell_type":  "code",
                      "execution_count":  null,
                      "metadata":  {
                                       "minecraft":  {
                                                         "closeCodeBuilderOnRun":  true,
                                                         "default_code":  "# code here\n\n\n",
                                                         "resetWorldCommand":  "function act/6/reset"
                                                     }
                                   },
                      "outputs":  [

                                  ],
                      "source":  [
                                     "# 在這裡編寫程式碼\n",
                                     "\n",
                                     "\n"
                                 ]
                  }
              ],
    "metadata":  {
                     "celltoolbar":  "Edit Metadata",
                     "kernelspec":  {
                                        "display_name":  "Python 3",
                                        "language":  "python",
                                        "name":  "python3"
                                    },
                     "language_info":  {
                                           "codemirror_mode":  {
                                                                   "name":  "ipython",
                                                                   "version":  3
                                                               },
                                           "file_extension":  ".py",
                                           "mimetype":  "text/x-python",
                                           "name":  "python",
                                           "nbconvert_exporter":  "python",
                                           "pygments_lexer":  "ipython3",
                                           "version":  "3.8.8"
                                       },
                     "minecraft":  {
                                       "description":  "TimeCraft",
                                       "page_id":  "1.1",
                                       "page_name":  "首次飛行",
                                       "style":  "minecraft.css"
                                   }
                 },
    "nbformat":  4,
    "nbformat_minor":  4
}
