﻿{
    "cells":  [
                  {
                      "cell_type":  "markdown",
                      "metadata":  {

                                   },
                      "source":  [
                                     "# A gízai nagy piramisok (Hibakeresés)\n",
                                     "\n",
                                     "Segíts az építésznek befejezni a háromszöget: ez a terv garantáltan kiállja majd az idő próbáját. Gondolj arra, hogyan\n",
                                     "alkoss egy piramist. 2 további szintre lesz szükség: 3 blokk alul, 1 blokk rajtuk. A megoldáshoz írd meg a kódot: az `agent.give()` paranccsal adj az Agentnek egy halom `SANDSTONE` tárgyat, az `agent.move()` paranccsal mozgasd a megfelelő pozícióba az Agentet, majd az `agent.place()` paranccsal helyezd el a blokkokat, és hozd létre a háromszintes piramist.\n",
                                     "\n",
                                     "Az `agent.give()` függvénynél három paramétert adhatsz meg.  \n",
                                     "\n",
                                     "- item (tárgy) (*string*): Azt a tárgyat adja meg, amelyet át szeretnél adni az Agentnek.\n",
                                     "- count (szám) (*egész szám*): Azt adja meg, hogy az Agent hány tárgyat fog kapni.\n",
                                     "- slot (hely) (*egész szám*): Azt a leltárhelyet adja meg, ahol az Agent átveszi a tárgyat.\n",
                                     "\n",
                                     "Az „agent.turn()” függvénynél egy paramétert adhatsz meg, ez a direction (irány).\n",
                                     "\n",
                                     "Érvényes irányok: \n",
                                     "- forward (előre)\n",
                                     "- back (hátra)\n",
                                     "- left (bal)\n",
                                     "- right (jobb)\n",
                                     "- up (fel)\n",
                                     "- down (le)\n",
                                     "\n",
                                     "Az `agent.place()` függvénynél két paramétert adhatsz meg.  \n",
                                     "\n",
                                     "- slot number (hely száma) (*egész szám*): Azt adja meg, hogy az Agent a leltárad hányas számú helyét használja.\n",
                                     "- direction (irány) (*karakterlánc*): Azt adja meg, hogy az Agent melyik irányban helyezze le a tárgyat.\n",
                                     "    - Érvényes irányok: \n",
                                     "        - forward (előre)\n",
                                     "        - back (hátra)\n",
                                     "        - left (bal)\n",
                                     "        - right (jobb)\n",
                                     "        - up (fel)\n",
                                     "        - down (le)\n",
                                     "        \n",
                                     "Az `agent.turn()` függvénynél egy paramétert adhatsz meg, ez a turn_direction (fordulás iránya).\n",
                                     "\n",
                                     "Érvényes irányok: \n",
                                     "- left (bal)\n",
                                     "- right (jobb)        "
                                 ]
                  },
                  {
                      "cell_type":  "code",
                      "execution_count":  null,
                      "metadata":  {
                                       "minecraft":  {
                                                         "baseCodeCellName":  "Example",
                                                         "closeCodeBuilderOnRun":  true,
                                                         "readonly":  true
                                                     }
                                   },
                      "outputs":  [

                                  ],
                      "source":  [
                                     "# adj egy halom homokkövet az Agentnek\n",
                                     "# mozgasd az Agentet előre\n",
                                     "# és helyezd le a homokkő blokkokat\n",
                                     "# tedd ezt meg ötször\n",
                                     "\n",
                                     "agent.give(\"SANDSTONE\", 64, 1)\n",
                                     "agent.move(\"forward\")\n",
                                     "agent.place(\"back\", 1)\n",
                                     "agent.move(\"forward\")\n",
                                     "agent.place(\"back\", 1)\n",
                                     "agent.move(\"forward\")\n",
                                     "agent.place(\"back\", 1)\n",
                                     "agent.move(\"forward\")\n",
                                     "agent.place(\"back\", 1)\n",
                                     "agent.move(\"forward\")\n",
                                     "agent.place(\"back\", 1)"
                                 ]
                  },
                  {
                      "cell_type":  "markdown",
                      "metadata":  {

                                   },
                      "source":  [
                                     "# Profi tipp:\n",
                                     "\n",
                                     "Használd a `for` ciklust, ha egy vagy több műveletet többször is szeretnél elvégezni."
                                 ]
                  },
                  {
                      "cell_type":  "code",
                      "execution_count":  null,
                      "metadata":  {
                                       "minecraft":  {
                                                         "baseCodeCellName":  "Example",
                                                         "closeCodeBuilderOnRun":  true,
                                                         "readonly":  true
                                                     }
                                   },
                      "outputs":  [

                                  ],
                      "source":  [
                                     "# adj egy halom homokkövet az Agentnek\n",
                                     "# mozgasd az Agentet előre\n",
                                     "# és helyezd le a homokkő blokkokat\n",
                                     "# tedd ezt meg ötször\n",
                                     "\n",
                                     "agent.give(\"SANDSTONE\", 64, 1)\n",
                                     "for i in range(5):\n",
                                     "    agent.move(\"forward\")\n",
                                     "    agent.place(\"back\", 1)"
                                 ]
                  },
                  {
                      "cell_type":  "markdown",
                      "metadata":  {

                                   },
                      "source":  [
                                     "# Tevékenység:\n",
                                     "\n",
                                     "Az alábbi kód helytelen értékeket tartalmaz. Futtasd a kódot, és nézd meg, mi történik, majd próbáld meg megkeresni a hibát, és teljesíteni a tevékenységet.\n",
                                     "\n",
                                     "**Megjegyzés: Az alábbi Kód visszaállítása gomb segítségével visszaállíthatod a kódmezőt a hibakeresési kódra**"
                                 ]
                  },
                  {
                      "cell_type":  "code",
                      "execution_count":  null,
                      "metadata":  {
                                       "minecraft":  {
                                                         "closeCodeBuilderOnRun":  true,
                                                         "default_code":  "# code here\n\nagent.give(\"SANDSTONE\", 64, 1)\n\nfor i in range(2):\n    agent.move(\"forward\")\n    agent.place(\"back\", 1)\n\nagent.move(\"up\")\nagent.turn(\"left\")\nagent.turn(\"right\")\nagent.move(\"forward\")\nagent.move(\"forward\")\n\nagent.move(\"forward\")\nagent.place(\"up\", 1)",
                                                         "resetWorldCommand":  "function act/2/reset"
                                                     }
                                   },
                      "outputs":  [

                                  ],
                      "source":  [
                                     "# ide írd a kódot\n",
                                     "\n",
                                     "agent.give(\"SANDSTONE\", 64, 1)\n",
                                     "\n",
                                     "for i in range(2):\n",
                                     "    agent.move(\"forward\")\n",
                                     "    agent.place(\"back\", 1)\n",
                                     "\n",
                                     "agent.move(\"up\")\n",
                                     "agent.turn(\"left\")\n",
                                     "agent.turn(\"right\")\n",
                                     "agent.move(\"forward\")\n",
                                     "agent.move(\"forward\")\n",
                                     "\n",
                                     "agent.move(\"forward\")\n",
                                     "agent.place(\"up\", 1)"
                                 ]
                  }
              ],
    "metadata":  {
                     "celltoolbar":  "Edit Metadata",
                     "kernelspec":  {
                                        "display_name":  "Python 3",
                                        "language":  "python",
                                        "name":  "python3"
                                    },
                     "language_info":  {
                                           "codemirror_mode":  {
                                                                   "name":  "ipython",
                                                                   "version":  3
                                                               },
                                           "file_extension":  ".py",
                                           "mimetype":  "text/x-python",
                                           "name":  "python",
                                           "nbconvert_exporter":  "python",
                                           "pygments_lexer":  "ipython3",
                                           "version":  "3.8.8"
                                       },
                     "minecraft":  {
                                       "description":  "TimeCraft",
                                       "page_id":  "1.1",
                                       "page_name":  "A gízai piramisok",
                                       "style":  "minecraft.css"
                                   }
                 },
    "nbformat":  4,
    "nbformat_minor":  4
}
