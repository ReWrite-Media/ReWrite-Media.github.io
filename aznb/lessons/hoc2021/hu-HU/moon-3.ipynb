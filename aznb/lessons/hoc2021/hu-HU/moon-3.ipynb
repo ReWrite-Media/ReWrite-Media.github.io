﻿{
    "cells":  [
                  {
                      "cell_type":  "markdown",
                      "metadata":  {

                                   },
                      "source":  [
                                     "# Küldetés a Holdon (Megoldás)\n",
                                     "\n",
                                     "Küldd az űrmodulhoz az Agentet, hogy átadja a számításokat. Nem szabad megszámolnod, hogy az Agentnek hány helyet kell lépnie a küldetés teljesítéséhez. Gondold át, hogy milyen mozgásra lesz szükség, és a Matematikus számításait felhasználva határozd meg, hogy hány lépésre lesz szükség. Az `agent.move()` paranccsal juttasd el az Agentet a holdraszálló egységhez, és dokkolj hozzá.\n",
                                     "\n",
                                     "Az „agent.turn()” függvénynél egy paramétert adhatsz meg, ez a direction (irány).\n",
                                     "\n",
                                     "Érvényes irányok: \n",
                                     "- forward (előre)\n",
                                     "- back (hátra)\n",
                                     "- left (bal)\n",
                                     "- right (jobb)\n",
                                     "- up (fel)\n",
                                     "- down (le)\n",
                                     "\n",
                                     "Az `agent.turn()` függvénynél egy paramétert adhatsz meg, ez a turn_direction (fordulás iránya).\n",
                                     "\n",
                                     "Érvényes irányok: \n",
                                     "- left (bal)\n",
                                     "- right (jobb)"
                                 ]
                  },
                  {
                      "cell_type":  "code",
                      "execution_count":  null,
                      "metadata":  {
                                       "minecraft":  {
                                                         "baseCodeCellName":  "Example",
                                                         "closeCodeBuilderOnRun":  true,
                                                         "readonly":  true
                                                     }
                                   },
                      "outputs":  [

                                  ],
                      "source":  [
                                     "# mozgasd az Agentet előre 5-öt\n",
                                     "# aztán fordulj jobbra\n",
                                     "agent.move(\"forward\")\n",
                                     "agent.move(\"forward\")\n",
                                     "agent.move(\"forward\")\n",
                                     "agent.move(\"forward\")\n",
                                     "agent.move(\"forward\")\n",
                                     "agent.turn(\"right\")"
                                 ]
                  },
                  {
                      "cell_type":  "markdown",
                      "metadata":  {

                                   },
                      "source":  [
                                     "# Profi tipp:\n",
                                     "\n",
                                     "Használd a `for` ciklust, ha egy vagy több műveletet többször is szeretnél elvégezni."
                                 ]
                  },
                  {
                      "cell_type":  "code",
                      "execution_count":  null,
                      "metadata":  {
                                       "minecraft":  {
                                                         "baseCodeCellName":  "Example",
                                                         "closeCodeBuilderOnRun":  true,
                                                         "readonly":  true
                                                     }
                                   },
                      "outputs":  [

                                  ],
                      "source":  [
                                     "# mozgasd az Agentet előre 5-öt\n",
                                     "# aztán fordulj jobbra\n",
                                     "for i in range(5):\n",
                                     "    agent.move(\"forward\")\n",
                                     "agent.turn(\"right\")    "
                                 ]
                  },
                  {
                      "cell_type":  "markdown",
                      "metadata":  {

                                   },
                      "source":  [
                                     "# Tevékenység:\n",
                                     "\n",
                                     "Az alábbi kód a tevékenység helyes megoldása. Futtasd a kódot, ha szeretnéd megnézni működés közben.\n",
                                     "\n",
                                     "**Megjegyzés: Az alábbi Kód visszaállítása gomb segítségével visszaállíthatod a kódmezőt a megoldásra**"
                                 ]
                  },
                  {
                      "cell_type":  "code",
                      "execution_count":  null,
                      "metadata":  {
                                       "minecraft":  {
                                                         "closeCodeBuilderOnRun":  true,
                                                         "default_code":  "# code here\n\nfor i in range(25):\n    agent.move(\"forward\")\nagent.turn(\"right\")\n\nfor i in range(17):\n    agent.move(\"forward\")\nagent.turn(\"right\")\n\nfor i in range(3):\n    agent.move(\"down\")\n",
                                                         "resetWorldCommand":  "function act/3/reset"
                                                     }
                                   },
                      "outputs":  [

                                  ],
                      "source":  [
                                     "# ide írd a kódot\n",
                                     "\n",
                                     "for i in range(25):\n",
                                     "    agent.move(\"forward\")\n",
                                     "agent.turn(\"right\")\n",
                                     "\n",
                                     "for i in range(17):\n",
                                     "    agent.move(\"forward\")\n",
                                     "agent.turn(\"right\")\n",
                                     "\n",
                                     "for i in range(3):\n",
                                     "    agent.move(\"down\")\n"
                                 ]
                  }
              ],
    "metadata":  {
                     "celltoolbar":  "Edit Metadata",
                     "kernelspec":  {
                                        "display_name":  "Python 3",
                                        "language":  "python",
                                        "name":  "python3"
                                    },
                     "language_info":  {
                                           "codemirror_mode":  {
                                                                   "name":  "ipython",
                                                                   "version":  3
                                                               },
                                           "file_extension":  ".py",
                                           "mimetype":  "text/x-python",
                                           "name":  "python",
                                           "nbconvert_exporter":  "python",
                                           "pygments_lexer":  "ipython3",
                                           "version":  "3.8.8"
                                       },
                     "minecraft":  {
                                       "description":  "TimeCraft",
                                       "page_id":  "1.1",
                                       "page_name":  "Küldetés a Holdon",
                                       "style":  "minecraft.css"
                                   }
                 },
    "nbformat":  4,
    "nbformat_minor":  4
}
