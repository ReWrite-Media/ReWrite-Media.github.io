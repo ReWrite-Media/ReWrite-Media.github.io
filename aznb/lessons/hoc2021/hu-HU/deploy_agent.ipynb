﻿{
    "cells":  [
                  {
                      "cell_type":  "markdown",
                      "source":  [
                                     "## Agent akcióban!\n",
                                     "Sikeresen üzembe állítottad az Agentet! \n",
                                     "\n",
                                     "Ez a Code Builder ablak, amelyet akkor fogsz használni, ha már készen áll a kódolásra!\n",
                                     "\n",
                                     "Alább egy kódolási mezőt látsz. A következő tevékenységben itt fogod megírni és futtatni a kódodat."
                                 ],
                      "metadata":  {

                                   }
                  },
                  {
                      "cell_type":  "code",
                      "execution_count":  null,
                      "source":  [
                                     "## így néz ki a kódolási mező\r\n",
                                     "## ezekben a szakaszokban fogod\r\n",
                                     "## megírni a kódot a jövőbeni tevékenységek során"
                                 ],
                      "outputs":  [

                                  ],
                      "metadata":  {
                                       "minecraft":  {
                                                         "closeCodeBuilderOnRun":  true,
                                                         "default_code":  "## this is what a coding box look like\n## you\u0027ll use section like these to\n## write your code in future activities\n"
                                                     }
                                   }
                  },
                  {
                      "cell_type":  "markdown",
                      "source":  [
                                     "Zárd be ezt az ablakot, és folytatódhat a kaland!"
                                 ],
                      "metadata":  {

                                   }
                  }
              ],
    "metadata":  {
                     "celltoolbar":  "Edit Metadata",
                     "kernelspec":  {
                                        "display_name":  "Python 3",
                                        "language":  "python",
                                        "name":  "python3"
                                    },
                     "language_info":  {
                                           "codemirror_mode":  {
                                                                   "name":  "ipython",
                                                                   "version":  3
                                                               },
                                           "file_extension":  ".py",
                                           "mimetype":  "text/x-python",
                                           "name":  "python",
                                           "nbconvert_exporter":  "python",
                                           "pygments_lexer":  "ipython3",
                                           "version":  "3.8.8"
                                       },
                     "minecraft":  {
                                       "description":  "TimeCraft",
                                       "page_id":  "1.1",
                                       "page_name":  "Agent akcióban",
                                       "style":  "minecraft.css"
                                   }
                 },
    "nbformat":  4,
    "nbformat_minor":  4
}
