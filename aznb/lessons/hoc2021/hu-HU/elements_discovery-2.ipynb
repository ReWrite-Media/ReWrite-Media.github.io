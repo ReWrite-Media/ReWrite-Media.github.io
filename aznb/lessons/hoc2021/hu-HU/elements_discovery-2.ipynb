﻿{
    "cells":  [
                  {
                      "cell_type":  "markdown",
                      "metadata":  {

                                   },
                      "source":  [
                                     "# A felfedezés elemei (Hibakeresés)\n",
                                     "\n",
                                     "Amikor a vegyész elhagyta a szobát, valaki elrejtette a kutatási anyagait a könyvespolcban. Írd meg a kódot:\n",
                                     "Az Agent törje szét a zölden izzó könyvespolcot, hogy a hölgy mással is megoszthassa felfedezéseit. Az `agent.move()` függvénnyel mozgasd előre az Agentet a zölden izzó könyvespolchoz, majd az `agent.destroy()` paranccsal törd szét.\n",
                                     "\n",
                                     "Az `agent.move()` függvénynél egy paramétert adhatsz meg, ez a direction (irány).\n",
                                     "\n",
                                     "Érvényes irányok: \n",
                                     "- forward (előre)\n",
                                     "- back (hátra)\n",
                                     "- left (bal)\n",
                                     "- right (jobb)\n",
                                     "- up (fel)\n",
                                     "- down (le)\n",
                                     "\n",
                                     "Az `agent.destroy()` függvénynél egy paramétert adhatsz meg, ez a direction (irány).\n",
                                     "\n",
                                     "Érvényes irányok: \n",
                                     "- forward (előre)\n",
                                     "- back (hátra)\n",
                                     "- left (bal)\n",
                                     "- right (jobb)\n",
                                     "- up (fel)\n",
                                     "- down (le)\n",
                                     "\n",
                                     "Az `agent.turn()` függvénynél egy paramétert adhatsz meg, ez a turn_direction (fordulás iránya).\n",
                                     "\n",
                                     "Érvényes irányok: \n",
                                     "- left (bal)\n",
                                     "- right (jobb)"
                                 ]
                  },
                  {
                      "cell_type":  "code",
                      "execution_count":  null,
                      "metadata":  {
                                       "minecraft":  {
                                                         "baseCodeCellName":  "Example",
                                                         "closeCodeBuilderOnRun":  true,
                                                         "readonly":  true
                                                     }
                                   },
                      "outputs":  [

                                  ],
                      "source":  [
                                     "# mozgasd az Agentet 2 blokkal felfelé, majd 2 blokkal előre\n",
                                     "# és aztán törd szét a balra lévő blokkot\n",
                                     "\n",
                                     "agent.move(\"up\")\n",
                                     "agent.move(\"up\")\n",
                                     "agent.move(\"forward\")\n",
                                     "agent.move(\"forward\")\n",
                                     "agent.destroy(\"left\")"
                                 ]
                  },
                  {
                      "cell_type":  "markdown",
                      "metadata":  {

                                   },
                      "source":  [
                                     "# Profi tipp:\n",
                                     "\n",
                                     "Használd a `for` ciklust, ha egy vagy több műveletet többször is szeretnél elvégezni."
                                 ]
                  },
                  {
                      "cell_type":  "code",
                      "execution_count":  null,
                      "metadata":  {
                                       "minecraft":  {
                                                         "baseCodeCellName":  "Example",
                                                         "closeCodeBuilderOnRun":  true,
                                                         "readonly":  true
                                                     }
                                   },
                      "outputs":  [

                                  ],
                      "source":  [
                                     "# mozgasd az Agentet 2 blokkal felfelé, majd 2 blokkal előre\n",
                                     "# és aztán törd szét a balra lévő blokkot\n",
                                     "\n",
                                     "for i in range (2):\n",
                                     "    agent.move(\"up\")\n",
                                     "for i in range (2):\n",
                                     "    agent.move(\"forward\")\n",
                                     "agent.destroy(\"left\")"
                                 ]
                  },
                  {
                      "cell_type":  "markdown",
                      "metadata":  {

                                   },
                      "source":  [
                                     "# Tevékenység:\n",
                                     "\n",
                                     "Az alábbi kód helytelen értékeket tartalmaz. Futtasd a kódot, és nézd meg, mi történik, majd próbáld meg megkeresni a hibát, és teljesíteni a tevékenységet.\n",
                                     "\n",
                                     "**Megjegyzés: Az alábbi Kód visszaállítása gomb segítségével visszaállíthatod a kódmezőt a hibakeresési kódra**"
                                 ]
                  },
                  {
                      "cell_type":  "code",
                      "execution_count":  null,
                      "metadata":  {
                                       "minecraft":  {
                                                         "closeCodeBuilderOnRun":  true,
                                                         "default_code":  "# code here\n\nagent.move(\"up\")\nagent.move(\"up\")\n\nagent.move(\"forward\")\nagent.move(\"forward\")\n\nagent.destroy(\"left\")",
                                                         "resetWorldCommand":  "function act/10/reset"
                                                     }
                                   },
                      "outputs":  [

                                  ],
                      "source":  [
                                     "# ide írd a kódot\n",
                                     "\n",
                                     "agent.move(\"up\")\n",
                                     "agent.move(\"up\")\n",
                                     "\n",
                                     "agent.move(\"forward\")\n",
                                     "agent.move(\"forward\")\n",
                                     "\n",
                                     "agent.destroy(\"left\")"
                                 ]
                  }
              ],
    "metadata":  {
                     "celltoolbar":  "Edit Metadata",
                     "kernelspec":  {
                                        "display_name":  "Python 3",
                                        "language":  "python",
                                        "name":  "python3"
                                    },
                     "language_info":  {
                                           "codemirror_mode":  {
                                                                   "name":  "ipython",
                                                                   "version":  3
                                                               },
                                           "file_extension":  ".py",
                                           "mimetype":  "text/x-python",
                                           "name":  "python",
                                           "nbconvert_exporter":  "python",
                                           "pygments_lexer":  "ipython3",
                                           "version":  "3.8.8"
                                       },
                     "minecraft":  {
                                       "description":  "TimeCraft",
                                       "page_id":  "1.1",
                                       "page_name":  "A felfedezés elemei",
                                       "style":  "minecraft.css"
                                   }
                 },
    "nbformat":  4,
    "nbformat_minor":  4
}
