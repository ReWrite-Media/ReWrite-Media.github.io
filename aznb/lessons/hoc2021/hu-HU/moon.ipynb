﻿{
    "cells":  [
                  {
                      "cell_type":  "markdown",
                      "source":  [
                                     "# Küldetés a Holdon\n",
                                     "\n",
                                     "Küldd az űrmodulhoz az Agentet, hogy átadja a számításokat. Nem szabad megszámolnod, hogy az Agentnek hány helyet kell lépnie a küldetés teljesítéséhez. Gondold át, hogy milyen mozgásra lesz szükség, és a Matematikus számításait felhasználva határozd meg, hogy hány lépésre lesz szükség. Az `agent.move()` paranccsal juttasd el az Agentet a holdraszálló egységhez, és dokkolj hozzá.\n",
                                     "\n",
                                     "Az „agent.turn()” függvénynél egy paramétert adhatsz meg, ez a direction (irány).\n",
                                     "\n",
                                     "Érvényes irányok: \n",
                                     "- forward (előre)\n",
                                     "- back (hátra)\n",
                                     "- left (bal)\n",
                                     "- right (jobb)\n",
                                     "- up (fel)\n",
                                     "- down (le)\n",
                                     "\n",
                                     "Az `agent.turn()` függvénynél egy paramétert adhatsz meg, ez a turn_direction (fordulás iránya).\n",
                                     "\n",
                                     "Érvényes irányok: \n",
                                     "- left (bal)\n",
                                     "- right (jobb)"
                                 ],
                      "metadata":  {

                                   }
                  },
                  {
                      "cell_type":  "code",
                      "execution_count":  null,
                      "source":  [
                                     "# mozgasd az Agentet előre 5-öt\r\n",
                                     "# majd fordulj jobbra\r\n",
                                     "agent.move(\"forward\")\r\n",
                                     "agent.move(\"forward\")\r\n",
                                     "agent.move(\"forward\")\r\n",
                                     "agent.move(\"forward\")\r\n",
                                     "agent.move(\"forward\")\r\n",
                                     "agent.turn(\"right\")"
                                 ],
                      "outputs":  [

                                  ],
                      "metadata":  {
                                       "minecraft":  {
                                                         "baseCodeCellName":  "Example",
                                                         "closeCodeBuilderOnRun":  true,
                                                         "readonly":  true
                                                     }
                                   }
                  },
                  {
                      "cell_type":  "markdown",
                      "source":  [
                                     "# Profi tipp:\n",
                                     "\n",
                                     "Használd a `for` ciklust, ha egy vagy több műveletet többször is szeretnél elvégezni."
                                 ],
                      "metadata":  {

                                   }
                  },
                  {
                      "cell_type":  "code",
                      "execution_count":  null,
                      "source":  [
                                     "# mozgasd az Agentet előre 5-öt\r\n",
                                     "# majd fordulj jobbra\r\n",
                                     "for i in range(5):\r\n",
                                     "    agent.move(\"forward\")\r\n",
                                     "agent.turn(\"right\")    "
                                 ],
                      "outputs":  [

                                  ],
                      "metadata":  {
                                       "minecraft":  {
                                                         "baseCodeCellName":  "Example",
                                                         "closeCodeBuilderOnRun":  true,
                                                         "readonly":  true
                                                     }
                                   }
                  },
                  {
                      "cell_type":  "markdown",
                      "source":  [
                                     "# Tevékenység\n",
                                     "\n",
                                     "Mozgasd az Agentet a holdraszálló modulhoz: lépj előre 25-öt, jobbra 17-et, majd lefelé 3-at.\n",
                                     "\n",
                                     "**Megjegyzés: A D.I.S.K.U.R.Z.U.S. eszközöddel vagy az Újrakezdés gombbal alaphelyzetbe állíthatod a tevékenységet.**"
                                 ],
                      "metadata":  {

                                   }
                  },
                  {
                      "cell_type":  "code",
                      "execution_count":  null,
                      "source":  [
                                     "# itt kódolhatsz\r\n",
                                     "\r\n",
                                     "\r\n"
                                 ],
                      "outputs":  [

                                  ],
                      "metadata":  {
                                       "minecraft":  {
                                                         "closeCodeBuilderOnRun":  true,
                                                         "default_code":  "# code here\n\n\n",
                                                         "resetWorldCommand":  "function act/3/reset"
                                                     }
                                   }
                  }
              ],
    "metadata":  {
                     "celltoolbar":  "Edit Metadata",
                     "kernelspec":  {
                                        "display_name":  "Python 3",
                                        "language":  "python",
                                        "name":  "python3"
                                    },
                     "language_info":  {
                                           "codemirror_mode":  {
                                                                   "name":  "ipython",
                                                                   "version":  3
                                                               },
                                           "file_extension":  ".py",
                                           "mimetype":  "text/x-python",
                                           "name":  "python",
                                           "nbconvert_exporter":  "python",
                                           "pygments_lexer":  "ipython3",
                                           "version":  "3.8.8"
                                       },
                     "minecraft":  {
                                       "description":  "TimeCraft",
                                       "page_id":  "1.1",
                                       "page_name":  "Küldetés a Holdon",
                                       "style":  "minecraft.css"
                                   }
                 },
    "nbformat":  4,
    "nbformat_minor":  4
}
