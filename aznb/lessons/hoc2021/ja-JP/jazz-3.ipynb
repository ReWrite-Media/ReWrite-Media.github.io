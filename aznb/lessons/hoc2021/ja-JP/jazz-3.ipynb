﻿{
    "cells":  [
                  {
                      "cell_type":  "markdown",
                      "metadata":  {

                                   },
                      "source":  [
                                     "# ビッグ バンド ジャズ (ソリューション)\n",
                                     "\n",
                                     "トランペットを失くしてしまったジャズ ミュージシャン。仕方なく代わりにカズーを演奏しています。`agent.move()` 関数を使って迷路を通り抜け、`agent.collect()` でトランペットを拾い上げましょう。\n",
                                     "\n",
                                     "`agent.move()` 関数は引数 direction を受け取ります。\n",
                                     "\n",
                                     "有効な方向は次の通りです:\n",
                                     "- forward\n",
                                     "- back\n",
                                     "- left\n",
                                     "- right\n",
                                     "- up\n",
                                     "- down\n",
                                     "\n",
                                     "`agent.collect()` 関数は引数を受け取りません。"
                                 ]
                  },
                  {
                      "cell_type":  "code",
                      "execution_count":  null,
                      "metadata":  {
                                       "minecraft":  {
                                                         "baseCodeCellName":  "Example",
                                                         "closeCodeBuilderOnRun":  true,
                                                         "readonly":  true
                                                     }
                                   },
                      "outputs":  [

                                  ],
                      "source":  [
                                     "# Agent を前に 3 ブロック進め\n",
                                     "# トランペットを集めさせます。\n",
                                     "\n",
                                     "agent.move(\"forward\")\n",
                                     "agent.move(\"forward\")\n",
                                     "agent.move(\"forward\")\n",
                                     "agent.collect()"
                                 ]
                  },
                  {
                      "cell_type":  "markdown",
                      "metadata":  {

                                   },
                      "source":  [
                                     "#プロのヒント:\n",
                                     "\n",
                                     "\u0027for\u0027 ループを使用すれば、1 つ以上のアクションを複数回実行できます。"
                                 ]
                  },
                  {
                      "cell_type":  "code",
                      "execution_count":  null,
                      "metadata":  {
                                       "minecraft":  {
                                                         "baseCodeCellName":  "Example",
                                                         "closeCodeBuilderOnRun":  true,
                                                         "readonly":  true
                                                     }
                                   },
                      "outputs":  [

                                  ],
                      "source":  [
                                     "# Agent を前に 3 ブロック進め\n",
                                     "# トランペットを集めさせます。\n",
                                     "\n",
                                     "for i in range(3):\n",
                                     "    agent.move(\"forward\")\n",
                                     "agent.collect()"
                                 ]
                  },
                  {
                      "cell_type":  "markdown",
                      "metadata":  {

                                   },
                      "source":  [
                                     "#アクティビティー:\n",
                                     "\n",
                                     "以下のコードは、アクティビティの正しいソリューションです。コードを実行して、その結果を確認しましょう。\n",
                                     "\n",
                                     "**注: 下の [コードのリセット] ボタンを使用すると、コーディング ボックスをリセットして、ソリューションに戻ることができます**"
                                 ]
                  },
                  {
                      "cell_type":  "code",
                      "execution_count":  null,
                      "metadata":  {
                                       "minecraft":  {
                                                         "closeCodeBuilderOnRun":  true,
                                                         "default_code":  "# code here\nfor i in range(3):\n    agent.move(\"forward\")\n    \nagent.move(\"up\")\nagent.move(\"forward\")\nagent.move(\"forward\")\nagent.move(\"down\")\nagent.move(\"down\")\nagent.move(\"forward\")\nagent.move(\"forward\")\nagent.move(\"up\")\nagent.move(\"up\")\nagent.move(\"forward\")\n\nagent.collect()",
                                                         "resetWorldCommand":  "function act/1/reset"
                                                     }
                                   },
                      "outputs":  [

                                  ],
                      "source":  [
                                     "#コードは以下\n",
                                     "for i in range(3):\n",
                                     "    agent.move(\"forward\")\n",
                                     "    \n",
                                     "agent.move(\"up\")\n",
                                     "agent.move(\"forward\")\n",
                                     "agent.move(\"forward\")\n",
                                     "agent.move(\"down\")\n",
                                     "agent.move(\"down\")\n",
                                     "agent.move(\"forward\")\n",
                                     "agent.move(\"forward\")\n",
                                     "agent.move(\"up\")\n",
                                     "agent.move(\"up\")\n",
                                     "agent.move(\"forward\")\n",
                                     "\n",
                                     "agent.collect()"
                                 ]
                  }
              ],
    "metadata":  {
                     "celltoolbar":  "Edit Metadata",
                     "kernelspec":  {
                                        "display_name":  "Python 3",
                                        "language":  "python",
                                        "name":  "python3"
                                    },
                     "language_info":  {
                                           "codemirror_mode":  {
                                                                   "name":  "ipython",
                                                                   "version":  3
                                                               },
                                           "file_extension":  ".py",
                                           "mimetype":  "text/x-python",
                                           "name":  "python",
                                           "nbconvert_exporter":  "python",
                                           "pygments_lexer":  "ipython3",
                                           "version":  "3.8.8"
                                       },
                     "minecraft":  {
                                       "description":  "TimeCraft",
                                       "page_id":  "1.1",
                                       "page_name":  "ビッグ バンド ジャズ",
                                       "style":  "minecraft.css"
                                   }
                 },
    "nbformat":  4,
    "nbformat_minor":  4
}
