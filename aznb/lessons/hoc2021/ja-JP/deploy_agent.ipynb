﻿{
    "cells":  [
                  {
                      "cell_type":  "markdown",
                      "source":  [
                                     "## Agent の配置完了!\n",
                                     "Agent の配置に成功しました。\n",
                                     "\n",
                                     "これはコード ビルダー ウィンドウです。コーディングの準備ができたら、使用してください。\n",
                                     "\n",
                                     "下にコーディング ボックスがあります。次のアクティビティでは、このコーディング ボックス内にコードを記述して実行します。"
                                 ],
                      "metadata":  {

                                   }
                  },
                  {
                      "cell_type":  "code",
                      "execution_count":  null,
                      "source":  [
                                     "## コーディング ボックスはこのような形をしています\r\n",
                                     "## このようなセクションを使用して\r\n",
                                     "## 今後のアクティビティでコードを作成します"
                                 ],
                      "outputs":  [

                                  ],
                      "metadata":  {
                                       "minecraft":  {
                                                         "closeCodeBuilderOnRun":  true,
                                                         "default_code":  "## this is what a coding box look like\n## you\u0027ll use section like these to\n## write your code in future activities\n"
                                                     }
                                   }
                  },
                  {
                      "cell_type":  "markdown",
                      "source":  [
                                     "それでは、ウィンドウを閉じて、冒険を続けましょう!"
                                 ],
                      "metadata":  {

                                   }
                  }
              ],
    "metadata":  {
                     "celltoolbar":  "Edit Metadata",
                     "kernelspec":  {
                                        "display_name":  "Python 3",
                                        "language":  "python",
                                        "name":  "python3"
                                    },
                     "language_info":  {
                                           "codemirror_mode":  {
                                                                   "name":  "ipython",
                                                                   "version":  3
                                                               },
                                           "file_extension":  ".py",
                                           "mimetype":  "text/x-python",
                                           "name":  "python",
                                           "nbconvert_exporter":  "python",
                                           "pygments_lexer":  "ipython3",
                                           "version":  "3.8.8"
                                       },
                     "minecraft":  {
                                       "description":  "TimeCraft",
                                       "page_id":  "1.1",
                                       "page_name":  "Agent の配置完了",
                                       "style":  "minecraft.css"
                                   }
                 },
    "nbformat":  4,
    "nbformat_minor":  4
}
