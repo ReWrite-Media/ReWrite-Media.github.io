﻿{
    "cells":  [
                  {
                      "cell_type":  "markdown",
                      "metadata":  {

                                   },
                      "source":  [
                                     "# 万里の長城 (ソリューション)\n",
                                     "\n",
                                     "パンダが竹の足場を食べ続けてしまったため、エンジニアが城壁を完成できません。パンダを城壁から遠ざけましょう。`agent.give()` を使って Agent に `BAMBOO` の積み重ねを与え、`agent.move()` で Agent を配置したら、`agent.place()` で `BAMBOO` を置いてください。\n",
                                     "\n",
                                     "`agent.give()` 関数は 3 つの引数を受け取ります。\n",
                                     "\n",
                                     "- アイテム (*文字列*): Agent に与えるアイテム。\n",
                                     "- カウント (*整数*): Agent が受け取るアイテムの数。\n",
                                     "- スロット (*整数*): Agent がアイテムを受け取るインベントリー スロット。\n",
                                     "\n",
                                     "`agent.move()` 関数は引数 direction を受け取ります。\n",
                                     "\n",
                                     "有効な方向は次のとおりです: \n",
                                     "- forward\n",
                                     "- back\n",
                                     "- left\n",
                                     "- right\n",
                                     "- up\n",
                                     "- down\n",
                                     "\n",
                                     "`agent.place()` 関数は 2 つの引数を受け取ります。\n",
                                     "\n",
                                     "- スロット番号 (*整数*): Agent が使用するインベントリー スロット。\n",
                                     "- 方向 (*文字列*): Agent がアイテムを配置する方向。\n",
                                     "    - 有効な方向は次のとおりです: \n",
                                     "        - forward\n",
                                     "        - back\n",
                                     "        - left\n",
                                     "        - right\n",
                                     "        - up\n",
                                     "        - down"
                                 ]
                  },
                  {
                      "cell_type":  "code",
                      "execution_count":  null,
                      "metadata":  {
                                       "minecraft":  {
                                                         "baseCodeCellName":  "Example",
                                                         "closeCodeBuilderOnRun":  true,
                                                         "readonly":  true
                                                     }
                                   },
                      "outputs":  [

                                  ],
                      "source":  [
                                     "# Agent に竹の積み重ねを与え\n",
                                     "# 竹を Agent の下に置いたら\n",
                                     "# Agent を前に移動させます。\n",
                                     "# これを 2 回繰り返します。\n",
                                     "\n",
                                     "agent.give(\"BAMBOO\", 64, 1)\n",
                                     "agent.place(1,\"down\")\n",
                                     "agent.move(\"forward\")\n",
                                     "agent.place(1,\"down\")"
                                 ]
                  },
                  {
                      "cell_type":  "markdown",
                      "metadata":  {

                                   },
                      "source":  [
                                     "#プロのヒント:\n",
                                     "\n",
                                     "\u0027for\u0027 ループを使用すれば、1 つ以上のアクションを複数回実行できます。"
                                 ]
                  },
                  {
                      "cell_type":  "code",
                      "execution_count":  null,
                      "metadata":  {
                                       "minecraft":  {
                                                         "baseCodeCellName":  "Example",
                                                         "closeCodeBuilderOnRun":  true,
                                                         "readonly":  true
                                                     }
                                   },
                      "outputs":  [

                                  ],
                      "source":  [
                                     "# Agent に竹の積み重ねを与え\n",
                                     "# 竹を Agent の下に置いたら\n",
                                     "# Agent を前に移動させます。\n",
                                     "# これを 2 回繰り返します。\n",
                                     "\n",
                                     "agent.give(\"BAMBOO\", 64, 1)\n",
                                     "for i in range(2):\n",
                                     "    agent.place(1,\"down\")\n",
                                     "    agent.move(\"forward\")"
                                 ]
                  },
                  {
                      "cell_type":  "markdown",
                      "metadata":  {

                                   },
                      "source":  [
                                     "#アクティビティー:\n",
                                     "\n",
                                     "以下のコードは、アクティビティの正しいソリューションです。コードを実行して、その結果を確認しましょう。\n",
                                     "\n",
                                     "**注: 下の [コードのリセット] ボタンを使用すると、コーディング ボックスをリセットして、ソリューションに戻ることができます**"
                                 ]
                  },
                  {
                      "cell_type":  "code",
                      "execution_count":  null,
                      "metadata":  {
                                       "minecraft":  {
                                                         "closeCodeBuilderOnRun":  true,
                                                         "default_code":  "# code here\n\nagent.give(\"BAMBOO\", 64, 1)\nfor i in range(5):\n    agent.place(1,\"down\")\n    agent.move(\"forward\")",
                                                         "resetWorldCommand":  "function act/4/reset"
                                                     }
                                   },
                      "outputs":  [

                                  ],
                      "source":  [
                                     "#コードは以下\n",
                                     "\n",
                                     "agent.give(\"BAMBOO\", 64, 1)\n",
                                     "for i in range(5):\n",
                                     "    agent.place(1,\"down\")\n",
                                     "    agent.move(\"forward\")"
                                 ]
                  }
              ],
    "metadata":  {
                     "celltoolbar":  "Edit Metadata",
                     "kernelspec":  {
                                        "display_name":  "Python 3",
                                        "language":  "python",
                                        "name":  "python3"
                                    },
                     "language_info":  {
                                           "codemirror_mode":  {
                                                                   "name":  "ipython",
                                                                   "version":  3
                                                               },
                                           "file_extension":  ".py",
                                           "mimetype":  "text/x-python",
                                           "name":  "python",
                                           "nbconvert_exporter":  "python",
                                           "pygments_lexer":  "ipython3",
                                           "version":  "3.8.8"
                                       },
                     "minecraft":  {
                                       "description":  "TimeCraft",
                                       "page_id":  "1.1",
                                       "page_name":  "万里の長城",
                                       "style":  "minecraft.css"
                                   }
                 },
    "nbformat":  4,
    "nbformat_minor":  4
}
