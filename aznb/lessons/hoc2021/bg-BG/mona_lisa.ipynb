﻿{
    "cells":  [
                  {
                      "cell_type":  "markdown",
                      "source":  [
                                     "# Мона Лиза\n",
                                     "\n",
                                     "На лицето на Мона Лиза се вижда чумерене, а не нейната известна усмивка. Причината е, че нейната градина е била разрушена. Използвайте функцията „agent.give()“, за да дадете на своя Agent купчина „WHITE GLAZED TERRACOTTA“, след което използвайте „agent.move()“, за да определите позицията на своя Agent, и „agent.place“, за да поставите „WHITE GLAZED TERRACOTTA“.\n",
                                     "\n",
                                     "Функцията „agent.give()“ приема три параметъра.  \n",
                                     "\n",
                                     "- item (*string*): Предметът, който искате да дадете на Agent.\n",
                                     "- count (*integer*): Колко предмети ще получи Agent.\n",
                                     "- slot (*integer*): Слотът в инвентара, в който Agent ще получи предмета.\n",
                                     "\n",
                                     "Функцията „agent.move()“ приема един параметър – direction.\n",
                                     "\n",
                                     "Възможните посоки са: \n",
                                     "- forward (напред)\n",
                                     "- back (назад)\n",
                                     "- left (наляво)\n",
                                     "- right (надясно)\n",
                                     "- up (нагоре)\n",
                                     "- down (надолу)\n",
                                     "\n",
                                     "Функцията „agent.place()“ приема два параметъра.  \n",
                                     "\n",
                                     "- slot number (*integer*): Кой слот в инвентара трябва да използва Agent.\n",
                                     "- direction (*string*): Посоката, в която искате Agent да постави предмета.\n",
                                     "    - Възможните посоки са: \n",
                                     "        - forward (напред)\n",
                                     "        - back (назад)\n",
                                     "        - left (наляво)\n",
                                     "        - right (надясно)\n",
                                     "        - up (нагоре)\n",
                                     "        - down (надолу)"
                                 ],
                      "metadata":  {

                                   }
                  },
                  {
                      "cell_type":  "code",
                      "execution_count":  null,
                      "source":  [
                                     "# дайте на Agent купчина бяла емайлирана глина\r\n",
                                     "# след това се придвижете напред и поставете блок под Agent\r\n",
                                     "# направете това 5 пъти\r\n",
                                     "\r\n",
                                     "agent.give(\"WHITE GLAZED TERRACOTTA\", 64, 1)\r\n",
                                     "agent.move(\"forward\")\r\n",
                                     "agent.place(\"down\", 1)\r\n",
                                     "agent.move(\"forward\")\r\n",
                                     "agent.place(\"down\", 1)\r\n",
                                     "agent.move(\"forward\")\r\n",
                                     "agent.place(\"down\", 1)\r\n",
                                     "agent.move(\"forward\")\r\n",
                                     "agent.place(\"down\", 1)\r\n",
                                     "agent.move(\"forward\")\r\n",
                                     "agent.place(\"down\", 1)"
                                 ],
                      "outputs":  [

                                  ],
                      "metadata":  {
                                       "minecraft":  {
                                                         "baseCodeCellName":  "Example",
                                                         "closeCodeBuilderOnRun":  true,
                                                         "readonly":  true
                                                     }
                                   }
                  },
                  {
                      "cell_type":  "markdown",
                      "source":  [
                                     "# Експертен съвет:\n",
                                     "\n",
                                     "Използвайте цикъл с „for“, за да извършите едно или повече действия няколко пъти."
                                 ],
                      "metadata":  {

                                   }
                  },
                  {
                      "cell_type":  "code",
                      "execution_count":  null,
                      "source":  [
                                     "# дайте на Agent купчина бяла емайлирана глина\r\n",
                                     "# след това се придвижете напред и поставете блок под Agent\r\n",
                                     "# направете това 5 пъти\r\n",
                                     "\r\n",
                                     "agent.give(\"WHITE GLAZED TERRACOTTA\", 64, 1)\r\n",
                                     "for i in range(5):\r\n",
                                     "    agent.move(\"forward\")\r\n",
                                     "    agent.place(\"down\", 1)"
                                 ],
                      "outputs":  [

                                  ],
                      "metadata":  {
                                       "minecraft":  {
                                                         "baseCodeCellName":  "Example",
                                                         "closeCodeBuilderOnRun":  true,
                                                         "readonly":  true
                                                     }
                                   }
                  },
                  {
                      "cell_type":  "markdown",
                      "source":  [
                                     "# Дейност\r\n",
                                     "\r\n",
                                     "Завършете квадратното очертание на „БЯЛА ЕМАЙЛИРАНА ГЛИНА“, като преместите Agent и поставите блок под него.\r\n",
                                     "\r\n",
                                     "**Забележка: можете да нулирате дейността, като използвате вашето устройство T.A.L.K. или с помощта на бутона „Нулиране на дейност“.**"
                                 ],
                      "metadata":  {

                                   }
                  },
                  {
                      "cell_type":  "code",
                      "execution_count":  null,
                      "source":  [
                                     "# въведете код тук\r\n",
                                     "\r\n",
                                     "\r\n"
                                 ],
                      "outputs":  [

                                  ],
                      "metadata":  {
                                       "minecraft":  {
                                                         "closeCodeBuilderOnRun":  true,
                                                         "default_code":  "# code here\n\n\n",
                                                         "resetWorldCommand":  "function act/5/reset"
                                                     }
                                   }
                  }
              ],
    "metadata":  {
                     "celltoolbar":  "Edit Metadata",
                     "kernelspec":  {
                                        "display_name":  "Python 3",
                                        "language":  "python",
                                        "name":  "python3"
                                    },
                     "language_info":  {
                                           "codemirror_mode":  {
                                                                   "name":  "ipython",
                                                                   "version":  3
                                                               },
                                           "file_extension":  ".py",
                                           "mimetype":  "text/x-python",
                                           "name":  "python",
                                           "nbconvert_exporter":  "python",
                                           "pygments_lexer":  "ipython3",
                                           "version":  "3.8.8"
                                       },
                     "minecraft":  {
                                       "description":  "TimeCraft",
                                       "page_id":  "1.1",
                                       "page_name":  "Мона Лиза",
                                       "style":  "minecraft.css"
                                   }
                 },
    "nbformat":  4,
    "nbformat_minor":  4
}
