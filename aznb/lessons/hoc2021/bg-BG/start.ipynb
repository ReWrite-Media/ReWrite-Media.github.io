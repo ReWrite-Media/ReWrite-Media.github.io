﻿{
    "cells":  [
                  {
                      "cell_type":  "markdown",
                      "metadata":  {

                                   },
                      "source":  [
                                     "# Зона за тестване\n",
                                     "\n",
                                     "Добре дошли в първата си задача по писане на код. Нека тестваме вашия времеви агент, за да видим как той следва кода ви. Използвайте „agent.move()“, за да преместите позицията на Agent с 3 блока напред.\n",
                                     "\n",
                                     "Натиснете RUN (ИЗПЪЛНЯВАНЕ), за да изпълните вашия код.\n",
                                     "\n",
                                     "Функцията „agent.move()“ приема един параметър – direction.\n",
                                     "\n",
                                     "Възможните посоки са: \n",
                                     "– forward (напред)\n",
                                     "– back (назад)\n",
                                     "– left (наляво)\n",
                                     "– right (надясно)\n",
                                     "– up (нагоре)\n",
                                     "– down (надолу)\n",
                                     "\n",
                                     "Пример:"
                                 ]
                  },
                  {
                      "cell_type":  "code",
                      "execution_count":  null,
                      "metadata":  {
                                       "minecraft":  {
                                                         "baseCodeCellName":  "Example",
                                                         "closeCodeBuilderOnRun":  true,
                                                         "readonly":  true
                                                     }
                                   },
                      "outputs":  [

                                  ],
                      "source":  [
                                     "# придвижете Agent с 2 блока напред и 1 назад\n",
                                     "agent.move(\"forward\")\n",
                                     "agent.move(\"forward\")\n",
                                     "agent.move(\"back\")"
                                 ]
                  },
                  {
                      "cell_type":  "markdown",
                      "metadata":  {

                                   },
                      "source":  [
                                     "# Експертен съвет:\n",
                                     "\n",
                                     "Използвайте цикъл с „for“, за да извършите едно или повече действия няколко пъти.\n",
                                     "\n",
                                     "Пример:"
                                 ]
                  },
                  {
                      "cell_type":  "code",
                      "execution_count":  null,
                      "metadata":  {
                                       "minecraft":  {
                                                         "baseCodeCellName":  "Example",
                                                         "closeCodeBuilderOnRun":  true,
                                                         "readonly":  true
                                                     }
                                   },
                      "outputs":  [

                                  ],
                      "source":  [
                                     "# придвижете Agent с 2 блока напред и 1 назад\n",
                                     "for i in range(2):\n",
                                     "    agent.move(\"forward\")\n",
                                     "agent.move(\"back\")    "
                                 ]
                  },
                  {
                      "cell_type":  "markdown",
                      "metadata":  {

                                   },
                      "source":  [
                                     "# Дейност\n",
                                     "\n",
                                     "Придвижете Agent с 3 блока напред.\n",
                                     "\n",
                                     "**Забележка: можете да нулирате дейността, като използвате вашето устройство T.A.L.K. или с помощта на бутона „Нулиране на дейност“.**"
                                 ]
                  },
                  {
                      "cell_type":  "code",
                      "execution_count":  null,
                      "metadata":  {
                                       "minecraft":  {
                                                         "closeCodeBuilderOnRun":  true,
                                                         "default_code":  "# code here\n\n\n",
                                                         "resetWorldCommand":  "function act/0/reset"
                                                     }
                                   },
                      "outputs":  [

                                  ],
                      "source":  [
                                     "# въвеждане на код тук\n",
                                     "\n",
                                     "\n"
                                 ]
                  }
              ],
    "metadata":  {
                     "celltoolbar":  "Edit Metadata",
                     "kernelspec":  {
                                        "display_name":  "Python 3",
                                        "language":  "python",
                                        "name":  "python3"
                                    },
                     "language_info":  {
                                           "codemirror_mode":  {
                                                                   "name":  "ipython",
                                                                   "version":  3
                                                               },
                                           "file_extension":  ".py",
                                           "mimetype":  "text/x-python",
                                           "name":  "python",
                                           "nbconvert_exporter":  "python",
                                           "pygments_lexer":  "ipython3",
                                           "version":  "3.8.8"
                                       },
                     "minecraft":  {
                                       "description":  "TimeCraft",
                                       "page_id":  "1.1",
                                       "page_name":  "Зона за тестване",
                                       "style":  "minecraft.css"
                                   }
                 },
    "nbformat":  4,
    "nbformat_minor":  4
}
