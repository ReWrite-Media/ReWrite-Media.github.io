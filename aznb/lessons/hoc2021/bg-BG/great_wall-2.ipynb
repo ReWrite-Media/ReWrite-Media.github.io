﻿{
    "cells":  [
                  {
                      "cell_type":  "markdown",
                      "metadata":  {

                                   },
                      "source":  [
                                     "# Великата китайска стена (отстраняване на грешки)\n",
                                     "\n",
                                     "Пандите продължават да ядат бамбукови скелета, спирайки инженера да завърши стената. Отдалечете пандите от стената. Използвайте „agent.give()“, за да дадете на вашия Agent купчина „BAMBOO“, след което използвайте „agent.move()“, за да позиционирате вашия Agent, и „agent.place()“, за да поставите „BAMBOO“\n",
                                     "\n",
                                     "Функцията „agent.give()“ приема три параметъра.  \n",
                                     "\n",
                                     "- item (*string*): Предметът, който искате да дадете на Agent.\n",
                                     "- count (*integer*): Колко предмети ще получи Agent.\n",
                                     "- slot (*integer*): Слотът в инвентара, в който Agent ще получи предмета.\n",
                                     "\n",
                                     "Функцията „agent.move()“ приема един параметър – direction.\n",
                                     "\n",
                                     "Възможните посоки са: \n",
                                     "– forward (напред)\n",
                                     "– back (назад)\n",
                                     "– left (наляво)\n",
                                     "– right (надясно)\n",
                                     "– up (нагоре)\n",
                                     "– down (надолу)\n",
                                     "\n",
                                     "Функцията „agent.place()“ приема два параметъра.  \n",
                                     "\n",
                                     "- slot number (*integer*): Кой слот в инвентара трябва да използва Agent.\n",
                                     "- direction (*string*): Посоката, в която искате Agent да постави предмета.\n",
                                     "    – Възможните посоки са: \n",
                                     "        – forward (напред)\n",
                                     "        – back (назад)\n",
                                     "        – left (наляво)\n",
                                     "        – right (надясно)\n",
                                     "        – up (нагоре)\n",
                                     "        – down (надолу)"
                                 ]
                  },
                  {
                      "cell_type":  "code",
                      "execution_count":  null,
                      "metadata":  {
                                       "minecraft":  {
                                                         "baseCodeCellName":  "Example",
                                                         "closeCodeBuilderOnRun":  true,
                                                         "readonly":  true
                                                     }
                                   },
                      "outputs":  [

                                  ],
                      "source":  [
                                     "# дайте на Agent купчина бамбук\n",
                                     "# поставете бамбука под Agent\n",
                                     "# и след това придвижете Agent напред\n",
                                     "# направете това 2 пъти\n",
                                     "\n",
                                     "agent.give(\"BAMBOO\", 64, 1)\n",
                                     "agent.place(1,\"down\")\n",
                                     "agent.move(\"forward\")\n",
                                     "agent.place(1,\"down\")"
                                 ]
                  },
                  {
                      "cell_type":  "markdown",
                      "metadata":  {

                                   },
                      "source":  [
                                     "# Експертен съвет:\n",
                                     "\n",
                                     "Използвайте цикъл с „for“, за да извършите едно или повече действия няколко пъти."
                                 ]
                  },
                  {
                      "cell_type":  "code",
                      "execution_count":  null,
                      "metadata":  {
                                       "minecraft":  {
                                                         "baseCodeCellName":  "Example",
                                                         "closeCodeBuilderOnRun":  true,
                                                         "readonly":  true
                                                     }
                                   },
                      "outputs":  [

                                  ],
                      "source":  [
                                     "# дайте на Agent купчина бамбук\n",
                                     "# поставете бамбука под Agent\n",
                                     "# и след това придвижете Agent напред\n",
                                     "# направете това 2 пъти\n",
                                     "\n",
                                     "agent.give(\"BAMBOO\", 64, 1)\n",
                                     "for i in range(2):\n",
                                     "    agent.place(1,\"down\")\n",
                                     "    agent.move(\"forward\")"
                                 ]
                  },
                  {
                      "cell_type":  "markdown",
                      "metadata":  {

                                   },
                      "source":  [
                                     "# Дейност:\n",
                                     "\n",
                                     "Кодът по-долу има неправилни стойности. Стартирайте кода, за да видите какво се случва, след което се опитайте да отстраните грешките и коригирате кода, за да завършите активността.\n",
                                     "\n",
                                     "**Забележка: използвайте бутона Reset Code (Нулиране на кода) по-долу, за да нулирате полето за писане на код до кода за отстраняване на грешки**"
                                 ]
                  },
                  {
                      "cell_type":  "code",
                      "execution_count":  null,
                      "metadata":  {
                                       "minecraft":  {
                                                         "closeCodeBuilderOnRun":  true,
                                                         "default_code":  "# code here\n\nagent.give(\"BAMBOO\", 64, 1)\nfor i in range(3):\n    agent.place(1,\"up\")\n    agent.move(\"back\")",
                                                         "resetWorldCommand":  "function act/4/reset"
                                                     }
                                   },
                      "outputs":  [

                                  ],
                      "source":  [
                                     "# въвеждане на код тук\n",
                                     "\n",
                                     "agent.give(\"BAMBOO\", 64, 1)\n",
                                     "for i in range(3):\n",
                                     "    agent.place(1,\"up\")\n",
                                     "    agent.move(\"back\")"
                                 ]
                  }
              ],
    "metadata":  {
                     "celltoolbar":  "Edit Metadata",
                     "kernelspec":  {
                                        "display_name":  "Python 3",
                                        "language":  "python",
                                        "name":  "python3"
                                    },
                     "language_info":  {
                                           "codemirror_mode":  {
                                                                   "name":  "ipython",
                                                                   "version":  3
                                                               },
                                           "file_extension":  ".py",
                                           "mimetype":  "text/x-python",
                                           "name":  "python",
                                           "nbconvert_exporter":  "python",
                                           "pygments_lexer":  "ipython3",
                                           "version":  "3.8.8"
                                       },
                     "minecraft":  {
                                       "description":  "TimeCraft",
                                       "page_id":  "1.1",
                                       "page_name":  "Великата китайска стена",
                                       "style":  "minecraft.css"
                                   }
                 },
    "nbformat":  4,
    "nbformat_minor":  4
}
