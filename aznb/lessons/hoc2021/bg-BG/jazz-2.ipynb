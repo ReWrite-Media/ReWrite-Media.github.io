﻿{
    "cells":  [
                  {
                      "cell_type":  "markdown",
                      "metadata":  {

                                   },
                      "source":  [
                                     "# Джаз с биг бенд (отстраняване на бъгове)\n",
                                     "\n",
                                     "Джаз музикантът загуби тромпета си и вместо това използва казу. Използвайте функцията „agent.move()“, за да преминете през лабиринта, а след това „agent.collect()“, за да вземете тромпета.\n",
                                     "\n",
                                     "Функцията „agent.move()“ приема един параметър – direction (посока).\n",
                                     "\n",
                                     "Възможните посоки са: \n",
                                     "- forward (напред)\n",
                                     "- back (назад)\n",
                                     "- left (наляво)\n",
                                     "- right (надясно)\n",
                                     "- up (нагоре)\n",
                                     "- down (надолу)\n",
                                     "\n",
                                     "Функцията „agent.collect()“ не приема параметри."
                                 ]
                  },
                  {
                      "cell_type":  "code",
                      "execution_count":  null,
                      "metadata":  {
                                       "minecraft":  {
                                                         "baseCodeCellName":  "Example",
                                                         "closeCodeBuilderOnRun":  true,
                                                         "readonly":  true
                                                     }
                                   },
                      "outputs":  [

                                  ],
                      "source":  [
                                     "# придвижете Agent с 3 блока напред\n",
                                     "# и се опитайте да вземете тромпета\n",
                                     "\n",
                                     "agent.move(\"forward\")\n",
                                     "agent.move(\"forward\")\n",
                                     "agent.move(\"forward\")\n",
                                     "agent.collect()"
                                 ]
                  },
                  {
                      "cell_type":  "markdown",
                      "metadata":  {

                                   },
                      "source":  [
                                     "# Експертен съвет:\n",
                                     "\n",
                                     "Използвайте цикъл с „for“, за да извършите едно или повече действия няколко пъти."
                                 ]
                  },
                  {
                      "cell_type":  "code",
                      "execution_count":  null,
                      "metadata":  {
                                       "minecraft":  {
                                                         "baseCodeCellName":  "Example",
                                                         "closeCodeBuilderOnRun":  true,
                                                         "readonly":  true
                                                     }
                                   },
                      "outputs":  [

                                  ],
                      "source":  [
                                     "# придвижете Agent с 3 блока напред\n",
                                     "# и се опитайте да вземете тромпета\n",
                                     "\n",
                                     "for i in range(3):\n",
                                     "    agent.move(\"forward\")\n",
                                     "agent.collect()"
                                 ]
                  },
                  {
                      "cell_type":  "markdown",
                      "metadata":  {

                                   },
                      "source":  [
                                     "# Дейност:\n",
                                     "\n",
                                     "Кодът по-долу има неправилни стойности. Стартирайте кода, за да видите какво се случва, след което се опитайте да отстраните грешките и коригирайте кода, за да завършите дейността.\n",
                                     "\n",
                                     "**Забележка: използвайте бутона „Нулиране на кода“ по-долу, за да нулирате полето за писане на код до кода за отстраняване на бъгове**"
                                 ]
                  },
                  {
                      "cell_type":  "code",
                      "execution_count":  null,
                      "metadata":  {
                                       "minecraft":  {
                                                         "closeCodeBuilderOnRun":  true,
                                                         "default_code":  "# code here\nfor i in range(2):\n    agent.move(\"forward\")\n    \nagent.move(\"up\")\nagent.move(\"forward\")\nagent.move(\"forward\")\nagent.move(\"down\")\nagent.move(\"down\")\nagent.move(\"down\")\nagent.move(\"forward\")\nagent.move(\"up\")\nagent.move(\"up\")\nagent.move(\"forward\")\n\nagent.collect()",
                                                         "resetWorldCommand":  "function act/1/reset"
                                                     }
                                   },
                      "outputs":  [

                                  ],
                      "source":  [
                                     "# въвеждане на код тук\n",
                                     "for i in range(2):\n",
                                     "    agent.move(\"forward\")\n",
                                     "    \n",
                                     "agent.move(\"up\")\n",
                                     "agent.move(\"forward\")\n",
                                     "agent.move(\"forward\")\n",
                                     "agent.move(\"down\")\n",
                                     "agent.move(\"down\")\n",
                                     "agent.move(\"down\")\n",
                                     "agent.move(\"forward\")\n",
                                     "agent.move(\"up\")\n",
                                     "agent.move(\"up\")\n",
                                     "agent.move(\"forward\")\n",
                                     "\n",
                                     "agent.collect()"
                                 ]
                  }
              ],
    "metadata":  {
                     "celltoolbar":  "Edit Metadata",
                     "kernelspec":  {
                                        "display_name":  "Python 3",
                                        "language":  "python",
                                        "name":  "python3"
                                    },
                     "language_info":  {
                                           "codemirror_mode":  {
                                                                   "name":  "ipython",
                                                                   "version":  3
                                                               },
                                           "file_extension":  ".py",
                                           "mimetype":  "text/x-python",
                                           "name":  "python",
                                           "nbconvert_exporter":  "python",
                                           "pygments_lexer":  "ipython3",
                                           "version":  "3.8.8"
                                       },
                     "minecraft":  {
                                       "description":  "TimeCraft",
                                       "page_id":  "1.1",
                                       "page_name":  "Джаз с биг бенд",
                                       "style":  "minecraft.css"
                                   }
                 },
    "nbformat":  4,
    "nbformat_minor":  4
}
