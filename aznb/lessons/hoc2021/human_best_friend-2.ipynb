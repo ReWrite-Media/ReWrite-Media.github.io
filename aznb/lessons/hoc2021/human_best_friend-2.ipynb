{
 "cells": [
  {
   "cell_type": "markdown",
   "metadata": {},
   "source": [
    "# Human's Best Friends (Debug)\n",
    "\n",
    "Dogs have been friends with people for thousands of years. But something has scared the dogs away. Code your Agent to leave a trail of `BEETROOT` items 5 blocks apart to help the people tame the wolves into dogs. Use the `agent.give()` function to give your Agent a stack of `BEETROOT`, then use `agent.move()` to position your Agent, and `agent.drop()` to drop a `BEETROOT`.\n",
    "\n",
    "The `agent.give()` function takes three parameters.  \n",
    "\n",
    "- item (*string*): The item you want to give the Agent.\n",
    "- count (*integer*): How many items the Agent will receive.\n",
    "- slot (*integer*): The inventory slot where the Agent receives the item.\n",
    "\n",
    "The `agent.move()` function takes one parameter, direction.\n",
    "\n",
    "Valid directions are: \n",
    "- forward\n",
    "- back\n",
    "- left\n",
    "- right\n",
    "- up\n",
    "- down\n",
    "\n",
    "The `agent.drop()` function takes two parameters.\n",
    "- slot (*integer*): The inventory slot where the Agent drops the item from.\n",
    "- quantity (*integer*): The number of items the Agent will drop."
   ]
  },
  {
   "cell_type": "code",
   "execution_count": null,
   "metadata": {
    "minecraft": {
     "baseCodeCellName": "Example",
     "closeCodeBuilderOnRun": true,
     "readonly": true
    }
   },
   "outputs": [],
   "source": [
    "# give the agent a stack of beetroot\n",
    "# then drop one, and move forward 5\n",
    "\n",
    "agent.give(\"BEETROOT\", 64, 1)\n",
    "agent.drop(1,1)\n",
    "agent.move(\"forward\")\n",
    "agent.move(\"forward\")\n",
    "agent.move(\"forward\")\n",
    "agent.move(\"forward\")"
   ]
  },
  {
   "cell_type": "markdown",
   "metadata": {},
   "source": [
    "# Pro Tip:\n",
    "\n",
    "Use a `for` loop to do one or more actions multiple times."
   ]
  },
  {
   "cell_type": "code",
   "execution_count": null,
   "metadata": {
    "minecraft": {
     "baseCodeCellName": "Example",
     "closeCodeBuilderOnRun": true,
     "readonly": true
    }
   },
   "outputs": [],
   "source": [
    "# give the agent a stack of beetroot\n",
    "# then drop one, and move forward 5\n",
    "\n",
    "agent.give(\"BEETROOT\", 64, 1)\n",
    "for i in range(2):\n",
    "    agent.drop(1,1)\n",
    "    agent.move(\"forward\")\n",
    "    agent.move(\"forward\")\n",
    "    agent.move(\"forward\")\n",
    "    agent.move(\"forward\")"
   ]
  },
  {
   "cell_type": "markdown",
   "metadata": {},
   "source": [
    "# Activity:\n",
    "\n",
    "The below code has incorrect values. Run the code to see what happens and then try to debug and fix the code to complete the activity.\n",
    "\n",
    "**Note: Use the Reset Code button below to reset the coding box back to the debug code**"
   ]
  },
  {
   "cell_type": "code",
   "execution_count": null,
   "metadata": {
    "minecraft": {
     "closeCodeBuilderOnRun": true,
     "default_code": "# code here\n\nagent.give(\"BEETROOT\", 64, 1)\nfor i in range(2):\n    agent.drop(1,64)\n    agent.move(\"forward\")\n    agent.move(\"forward\")\n    agent.move(\"forward\")\n    agent.move(\"forward\")",
     "resetWorldCommand": "function act/8/reset"
    }
   },
   "outputs": [],
   "source": [
    "# code here\n",
    "\n",
    "agent.give(\"BEETROOT\", 64, 1)\n",
    "for i in range(2):\n",
    "    agent.drop(1,64)\n",
    "    agent.move(\"forward\")\n",
    "    agent.move(\"forward\")\n",
    "    agent.move(\"forward\")\n",
    "    agent.move(\"forward\")"
   ]
  }
 ],
 "metadata": {
  "celltoolbar": "Edit Metadata",
  "kernelspec": {
   "display_name": "Python 3",
   "language": "python",
   "name": "python3"
  },
  "language_info": {
   "codemirror_mode": {
    "name": "ipython",
    "version": 3
   },
   "file_extension": ".py",
   "mimetype": "text/x-python",
   "name": "python",
   "nbconvert_exporter": "python",
   "pygments_lexer": "ipython3",
   "version": "3.8.8"
  },
  "minecraft": {
   "description": "TimeCraft",
   "page_id": "1.1",
   "page_name": "Human's Best Friends",
   "style": "minecraft.css"
  }
 },
 "nbformat": 4,
 "nbformat_minor": 4
}
