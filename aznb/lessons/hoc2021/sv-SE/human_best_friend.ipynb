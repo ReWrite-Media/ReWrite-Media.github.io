﻿{
    "cells":  [
                  {
                      "cell_type":  "markdown",
                      "source":  [
                                     "# Människans bästa vän\n",
                                     "\n",
                                     "Hundar har varit människans vän i tusentals år. Men något har skrämt bort hundarna. Koda din agent att lämna ett spår av ”BEETROOT”-FÖREMÅL med ett mellanrum på 5 block så att människorna kan tämja vargarna och få hundar. Använd funktionen ”agent.give()” för att ge agenten en hög med ”BEETROOT”, använd ”agent.move()” för att placera ut agenten och sedan ”agent.drop()” för att släppa en ”BEETROOT”.\n",
                                     "\n",
                                     "Funktionen ”agent.give()” tar tre parametrar.  \n",
                                     "\n",
                                     "– item (*string*): Det föremål du vill ge agenten.\n",
                                     "– count (*integer*): Hur många föremål agenten ska få.\n",
                                     "– slot (*integer*): Platsen i förrådet där agenten ska ta emot föremålet.\n",
                                     "\n",
                                     "Funktionen ”agent.move()” tar en parameter, som är direction (riktningen).\n",
                                     "\n",
                                     "Här är de giltiga riktningarna: \n",
                                     "– forward (framåt)\n",
                                     "– back (bakåt)\n",
                                     "– left (vänster)\n",
                                     "– right (höger)\n",
                                     "– up (uppåt)\n",
                                     "– down (nedåt)\n",
                                     "\n",
                                     "Funktionen ”agent.drop()” tar två parametrar.\n",
                                     "– slot (*integer*): Platsen i förrådet där agenten ska ta emot föremålet.\n",
                                     "– quantity (*heltal*): Antalet föremål som agenten ska släppa."
                                 ],
                      "metadata":  {

                                   }
                  },
                  {
                      "cell_type":  "code",
                      "execution_count":  null,
                      "source":  [
                                     "# ge agenten en hög med rödbetor\r\n",
                                     "# släpp sedan en och gå 5 steg framåt\r\n",
                                     "\r\n",
                                     "agent.give(\"BEETROOT\", 64, 1)\r\n",
                                     "agent.drop(1,1)\r\n",
                                     "agent.move(\"forward\")\r\n",
                                     "agent.move(\"forward\")\r\n",
                                     "agent.move(\"forward\")\r\n",
                                     "agent.move(\"forward\")"
                                 ],
                      "outputs":  [

                                  ],
                      "metadata":  {
                                       "minecraft":  {
                                                         "baseCodeCellName":  "Example",
                                                         "closeCodeBuilderOnRun":  true,
                                                         "readonly":  true
                                                     }
                                   }
                  },
                  {
                      "cell_type":  "markdown",
                      "source":  [
                                     "# Tips från proffsen:\n",
                                     "\n",
                                     "Använd en ”for”-loop till att göra en eller flera åtgärder upprepade gånger."
                                 ],
                      "metadata":  {

                                   }
                  },
                  {
                      "cell_type":  "code",
                      "execution_count":  null,
                      "source":  [
                                     "# ge agenten en hög med rödbetor\r\n",
                                     "# släpp sedan en och gå 5 steg framåt\r\n",
                                     "\r\n",
                                     "agent.give(\"BEETROOT\", 64, 1)\r\n",
                                     "agent.drop(1,1)\r\n",
                                     "for i in range(4):\r\n",
                                     "    agent.move(\"forward\")"
                                 ],
                      "outputs":  [

                                  ],
                      "metadata":  {
                                       "minecraft":  {
                                                         "baseCodeCellName":  "Example",
                                                         "closeCodeBuilderOnRun":  true,
                                                         "readonly":  true
                                                     }
                                   }
                  },
                  {
                      "cell_type":  "markdown",
                      "source":  [
                                     "# Aktivitet\r\n",
                                     "\r\n",
                                     "Släpp en ”BEETROOT” vart femte block och led vargarna till lägerelden rakt ovanför agentens startposition.\r\n",
                                     "\r\n",
                                     "**Obs! Du kan återställa aktiviteten med din TALK-enhet eller med knappen Återställ aktivitet.**"
                                 ],
                      "metadata":  {

                                   }
                  },
                  {
                      "cell_type":  "code",
                      "execution_count":  null,
                      "source":  [
                                     "# koda här\r\n",
                                     "\r\n",
                                     "\r\n"
                                 ],
                      "outputs":  [

                                  ],
                      "metadata":  {
                                       "minecraft":  {
                                                         "closeCodeBuilderOnRun":  true,
                                                         "default_code":  "# code here\n\n\n",
                                                         "resetWorldCommand":  "function act/8/reset"
                                                     }
                                   }
                  }
              ],
    "metadata":  {
                     "celltoolbar":  "Edit Metadata",
                     "kernelspec":  {
                                        "display_name":  "Python 3",
                                        "language":  "python",
                                        "name":  "python3"
                                    },
                     "language_info":  {
                                           "codemirror_mode":  {
                                                                   "name":  "ipython",
                                                                   "version":  3
                                                               },
                                           "file_extension":  ".py",
                                           "mimetype":  "text/x-python",
                                           "name":  "python",
                                           "nbconvert_exporter":  "python",
                                           "pygments_lexer":  "ipython3",
                                           "version":  "3.8.8"
                                       },
                     "minecraft":  {
                                       "description":  "TimeCraft",
                                       "page_id":  "1.1",
                                       "page_name":  "Människans bästa vän",
                                       "style":  "minecraft.css"
                                   }
                 },
    "nbformat":  4,
    "nbformat_minor":  4
}
