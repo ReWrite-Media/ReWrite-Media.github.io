﻿{
    "cells":  [
                  {
                      "cell_type":  "markdown",
                      "metadata":  {

                                   },
                      "source":  [
                                     "# Element och upptäckter (felsökning)\n",
                                     "\n",
                                     "När kemisten lämnade rummet gömde någon hennes forskning i bokhyllan. Koda din\n",
                                     "Få agenten att ha sönder bokhyllan som skimrar i grönt så att hon kan dela med sig av sina upptäckter. Använd funktionen ”agent.move()” till att flytta agenten mot den gröna bokhyllan och använd sedan ”agent.destroy()” för att ha sönder den.\n",
                                     "\n",
                                     "Funktionen ”agent.move()” tar en parameter, som är direction (riktningen).\n",
                                     "\n",
                                     "Här är de giltiga riktningarna: \n",
                                     "– forward (framåt)\n",
                                     "– back (bakåt)\n",
                                     "– left (vänster)\n",
                                     "– right (höger)\n",
                                     "– up (uppåt)\n",
                                     "– down (nedåt)\n",
                                     "\n",
                                     "Funktionen ”agent.destroy()” tar en parameter, som är direction (riktningen).\n",
                                     "\n",
                                     "Här är de giltiga riktningarna: \n",
                                     "– forward (framåt)\n",
                                     "– back (bakåt)\n",
                                     "– left (vänster)\n",
                                     "– right (höger)\n",
                                     "– up (uppåt)\n",
                                     "– down (nedåt)\n",
                                     "\n",
                                     "Funktionen ”agent.turn()” tar en parameter, som är turn_direction (vändningsriktningen).\n",
                                     "\n",
                                     "Här är de giltiga riktningarna: \n",
                                     "– left (vänster)\n",
                                     "– right (höger)"
                                 ]
                  },
                  {
                      "cell_type":  "code",
                      "execution_count":  null,
                      "metadata":  {
                                       "minecraft":  {
                                                         "baseCodeCellName":  "Example",
                                                         "closeCodeBuilderOnRun":  true,
                                                         "readonly":  true
                                                     }
                                   },
                      "outputs":  [

                                  ],
                      "source":  [
                                     "# flytta agenten 2 block uppåt och 2 block framåt\n",
                                     "# och bryt sedan blocket till vänster\n",
                                     "\n",
                                     "agent.move(\"up\")\n",
                                     "agent.move(\"up\")\n",
                                     "agent.move(\"forward\")\n",
                                     "agent.move(\"forward\")\n",
                                     "agent.destroy(\"left\")"
                                 ]
                  },
                  {
                      "cell_type":  "markdown",
                      "metadata":  {

                                   },
                      "source":  [
                                     "# Tips från proffsen:\n",
                                     "\n",
                                     "Använd en ”for”-loop till att göra en eller flera åtgärder upprepade gånger."
                                 ]
                  },
                  {
                      "cell_type":  "code",
                      "execution_count":  null,
                      "metadata":  {
                                       "minecraft":  {
                                                         "baseCodeCellName":  "Example",
                                                         "closeCodeBuilderOnRun":  true,
                                                         "readonly":  true
                                                     }
                                   },
                      "outputs":  [

                                  ],
                      "source":  [
                                     "# flytta agenten 2 block uppåt och 2 block framåt\n",
                                     "# och bryt sedan blocket till vänster\n",
                                     "\n",
                                     "for i in range (2):\n",
                                     "    agent.move(\"up\")\n",
                                     "for i in range (2):\n",
                                     "    agent.move(\"forward\")\n",
                                     "agent.destroy(\"left\")"
                                 ]
                  },
                  {
                      "cell_type":  "markdown",
                      "metadata":  {

                                   },
                      "source":  [
                                     "# Aktivitet:\n",
                                     "\n",
                                     "Koden nedan innehåller felaktiga värden. Kör koden för att se vad som händer och försök sedan felsöka och rätta till koden för att slutföra aktiviteten.\n",
                                     "\n",
                                     "**Obs! Använd knappen Återställ kod nedan för att återställa koden du ska felsöka i kodningsrutan**"
                                 ]
                  },
                  {
                      "cell_type":  "code",
                      "execution_count":  null,
                      "metadata":  {
                                       "minecraft":  {
                                                         "closeCodeBuilderOnRun":  true,
                                                         "default_code":  "# code here\n\nagent.move(\"up\")\nagent.move(\"up\")\n\nagent.move(\"forward\")\nagent.move(\"forward\")\n\nagent.destroy(\"left\")",
                                                         "resetWorldCommand":  "function act/10/reset"
                                                     }
                                   },
                      "outputs":  [

                                  ],
                      "source":  [
                                     "# kod här\n",
                                     "\n",
                                     "agent.move(\"up\")\n",
                                     "agent.move(\"up\")\n",
                                     "\n",
                                     "agent.move(\"forward\")\n",
                                     "agent.move(\"forward\")\n",
                                     "\n",
                                     "agent.destroy(\"left\")"
                                 ]
                  }
              ],
    "metadata":  {
                     "celltoolbar":  "Edit Metadata",
                     "kernelspec":  {
                                        "display_name":  "Python 3",
                                        "language":  "python",
                                        "name":  "python3"
                                    },
                     "language_info":  {
                                           "codemirror_mode":  {
                                                                   "name":  "ipython",
                                                                   "version":  3
                                                               },
                                           "file_extension":  ".py",
                                           "mimetype":  "text/x-python",
                                           "name":  "python",
                                           "nbconvert_exporter":  "python",
                                           "pygments_lexer":  "ipython3",
                                           "version":  "3.8.8"
                                       },
                     "minecraft":  {
                                       "description":  "TimeCraft",
                                       "page_id":  "1.1",
                                       "page_name":  "Element och upptäckter",
                                       "style":  "minecraft.css"
                                   }
                 },
    "nbformat":  4,
    "nbformat_minor":  4
}
