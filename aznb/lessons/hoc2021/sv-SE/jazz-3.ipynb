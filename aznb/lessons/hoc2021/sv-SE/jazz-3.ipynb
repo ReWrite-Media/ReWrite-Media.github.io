﻿{
    "cells":  [
                  {
                      "cell_type":  "markdown",
                      "metadata":  {

                                   },
                      "source":  [
                                     "# Storbandsjazz (lösning)\n",
                                     "\n",
                                     "Jazzmusikern har tappat bort sin trumpet och använder en kazoo i stället. Använd funktionen ”agent.move()” för att ta dig igenom labyrinten och använd sedan ”agent.collect()” för att plocka upp trumpeten.\n",
                                     "\n",
                                     "Funktionen \"agent.move()\" tar en parameter, som är direction (riktning).\n",
                                     "\n",
                                     "Giltiga riktningar är: \n",
                                     "– forward (framåt)\n",
                                     "– back (bakåt)\n",
                                     "– left (vänster)\n",
                                     "– right (höger)\n",
                                     "– up (uppåt)\n",
                                     "– down (nedåt)\n",
                                     "\n",
                                     "Funktionen ”agent.collect()” tar inga parametrar."
                                 ]
                  },
                  {
                      "cell_type":  "code",
                      "execution_count":  null,
                      "metadata":  {
                                       "minecraft":  {
                                                         "baseCodeCellName":  "Example",
                                                         "closeCodeBuilderOnRun":  true,
                                                         "readonly":  true
                                                     }
                                   },
                      "outputs":  [

                                  ],
                      "source":  [
                                     "# flytta agenten 3 block framåt\n",
                                     "# och plocka upp trumpeten\n",
                                     "\n",
                                     "agent.move(\"forward\")\n",
                                     "agent.move(\"forward\")\n",
                                     "agent.move(\"forward\")\n",
                                     "agent.collect()"
                                 ]
                  },
                  {
                      "cell_type":  "markdown",
                      "metadata":  {

                                   },
                      "source":  [
                                     "# Tips från proffsen:\n",
                                     "\n",
                                     "Använd en ”for”-loop till att göra en eller flera åtgärder upprepade gånger."
                                 ]
                  },
                  {
                      "cell_type":  "code",
                      "execution_count":  null,
                      "metadata":  {
                                       "minecraft":  {
                                                         "baseCodeCellName":  "Example",
                                                         "closeCodeBuilderOnRun":  true,
                                                         "readonly":  true
                                                     }
                                   },
                      "outputs":  [

                                  ],
                      "source":  [
                                     "# flytta agenten 3 block framåt\n",
                                     "# och plocka upp trumpeten\n",
                                     "\n",
                                     "for i in range(3):\n",
                                     "    agent.move(\"forward\")\n",
                                     "agent.collect()"
                                 ]
                  },
                  {
                      "cell_type":  "markdown",
                      "metadata":  {

                                   },
                      "source":  [
                                     "# Aktivitet:\n",
                                     "\n",
                                     "Koden nedan är rätt lösning på aktiviteten. Kör koden för att se hur den fungerar.\n",
                                     "\n",
                                     "**Obs! Använd knappen Återställ kod nedan för att återställa lösningen i kodningsrutan**"
                                 ]
                  },
                  {
                      "cell_type":  "code",
                      "execution_count":  null,
                      "metadata":  {
                                       "minecraft":  {
                                                         "closeCodeBuilderOnRun":  true,
                                                         "default_code":  "# code here\nfor i in range(3):\n    agent.move(\"forward\")\n    \nagent.move(\"up\")\nagent.move(\"forward\")\nagent.move(\"forward\")\nagent.move(\"down\")\nagent.move(\"down\")\nagent.move(\"forward\")\nagent.move(\"forward\")\nagent.move(\"up\")\nagent.move(\"up\")\nagent.move(\"forward\")\n\nagent.collect()",
                                                         "resetWorldCommand":  "function act/1/reset"
                                                     }
                                   },
                      "outputs":  [

                                  ],
                      "source":  [
                                     "# kod här\n",
                                     "for i in range(3):\n",
                                     "    agent.move(\"forward\")\n",
                                     "    \n",
                                     "agent.move(\"up\")\n",
                                     "agent.move(\"forward\")\n",
                                     "agent.move(\"forward\")\n",
                                     "agent.move(\"down\")\n",
                                     "agent.move(\"down\")\n",
                                     "agent.move(\"forward\")\n",
                                     "agent.move(\"forward\")\n",
                                     "agent.move(\"up\")\n",
                                     "agent.move(\"up\")\n",
                                     "agent.move(\"forward\")\n",
                                     "\n",
                                     "agent.collect()"
                                 ]
                  }
              ],
    "metadata":  {
                     "celltoolbar":  "Edit Metadata",
                     "kernelspec":  {
                                        "display_name":  "Python 3",
                                        "language":  "python",
                                        "name":  "python3"
                                    },
                     "language_info":  {
                                           "codemirror_mode":  {
                                                                   "name":  "ipython",
                                                                   "version":  3
                                                               },
                                           "file_extension":  ".py",
                                           "mimetype":  "text/x-python",
                                           "name":  "python",
                                           "nbconvert_exporter":  "python",
                                           "pygments_lexer":  "ipython3",
                                           "version":  "3.8.8"
                                       },
                     "minecraft":  {
                                       "description":  "TimeCraft",
                                       "page_id":  "1.1",
                                       "page_name":  "Storbandsjazz",
                                       "style":  "minecraft.css"
                                   }
                 },
    "nbformat":  4,
    "nbformat_minor":  4
}
