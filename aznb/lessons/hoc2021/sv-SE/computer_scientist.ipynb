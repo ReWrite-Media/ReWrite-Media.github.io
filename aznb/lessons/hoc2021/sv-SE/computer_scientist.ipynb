﻿{
    "cells":  [
                  {
                      "cell_type":  "markdown",
                      "metadata":  {

                                   },
                      "source":  [
                                     "# Den första dataingenjören\n",
                                     "\n",
                                     "Dataingenjören har skapat hålkort som innehåller instruktionerna för den första algoritmen, men hålen på hålkortet är blockerade. Använd ”agent.move()” till att flytta agenten ovanför de bruna blocken och använd sedan ”agent.destroy()” för att bryta blocket undertill.\n",
                                     "\n",
                                     "Funktionen \"agent.move()\" tar en parameter, som är direction (riktning).\n",
                                     "\n",
                                     "Giltiga riktningar är: \n",
                                     "– forward (framåt)\n",
                                     "– back (bakåt)\n",
                                     "– left (vänster)\n",
                                     "– right (höger)\n",
                                     "– up (uppåt)\n",
                                     "– down (nedåt)\n",
                                     "\n",
                                     "Funktionen ”agent.destroy()” tar en parameter, som är direction (riktningen).\n",
                                     "\n",
                                     "Här är de giltiga riktningarna: \n",
                                     "– forward (framåt)\n",
                                     "– back (bakåt)\n",
                                     "– left (vänster)\n",
                                     "– right (höger)\n",
                                     "– up (uppåt)\n",
                                     "– down (nedåt)\n",
                                     "\n",
                                     "Funktionen ”agent.turn()” tar en parameter, som är turn_direction (vändningsriktningen).\n",
                                     "\n",
                                     "Här är de giltiga riktningarna: \n",
                                     "– left (vänster)\n",
                                     "– right (höger)"
                                 ]
                  },
                  {
                      "cell_type":  "code",
                      "execution_count":  null,
                      "metadata":  {
                                       "minecraft":  {
                                                         "baseCodeCellName":  "Example",
                                                         "closeCodeBuilderOnRun":  true,
                                                         "readonly":  true
                                                     }
                                   },
                      "outputs":  [

                                  ],
                      "source":  [
                                     "# flytta agenten framåt 2 block\n",
                                     "# och bryt blocket undertill.\n",
                                     "\n",
                                     "agent.move(\"forward\")\n",
                                     "agent.destroy(\"down\")"
                                 ]
                  },
                  {
                      "cell_type":  "markdown",
                      "metadata":  {

                                   },
                      "source":  [
                                     "# Aktivitet:\n",
                                     "\n",
                                     "Programmera agenten att bryta alla bruna block.\n",
                                     "\n",
                                     "**Obs! Du kan återställa aktiviteten med din TALK-enhet eller med knappen Återställ aktivitet.**"
                                 ]
                  },
                  {
                      "cell_type":  "code",
                      "execution_count":  null,
                      "metadata":  {
                                       "minecraft":  {
                                                         "closeCodeBuilderOnRun":  true,
                                                         "default_code":  "# code here\n\n\n",
                                                         "resetWorldCommand":  "function act/7/reset"
                                                     }
                                   },
                      "outputs":  [

                                  ],
                      "source":  [
                                     "# kod här\n",
                                     "\n",
                                     "\n"
                                 ]
                  }
              ],
    "metadata":  {
                     "celltoolbar":  "Edit Metadata",
                     "kernelspec":  {
                                        "display_name":  "Python 3",
                                        "language":  "python",
                                        "name":  "python3"
                                    },
                     "language_info":  {
                                           "codemirror_mode":  {
                                                                   "name":  "ipython",
                                                                   "version":  3
                                                               },
                                           "file_extension":  ".py",
                                           "mimetype":  "text/x-python",
                                           "name":  "python",
                                           "nbconvert_exporter":  "python",
                                           "pygments_lexer":  "ipython3",
                                           "version":  "3.8.8"
                                       },
                     "minecraft":  {
                                       "description":  "TimeCraft",
                                       "page_id":  "1.1",
                                       "page_name":  "Den första dataingenjören",
                                       "style":  "minecraft.css"
                                   }
                 },
    "nbformat":  4,
    "nbformat_minor":  4
}
