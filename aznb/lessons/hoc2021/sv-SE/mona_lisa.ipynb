﻿{
    "cells":  [
                  {
                      "cell_type":  "markdown",
                      "source":  [
                                     "# Mona Lisa\n",
                                     "\n",
                                     "Mona Lisa har en sur min i stället för sitt berömda leende. Det beror på att hennes trädgård har förstörts. Använd funktionen ”agent.give()” för att ge agenten en hög med ”WHITE GLAZED TERRACOTTA”, använd sedan ”agent.move()” för att placera ut agenten och ”agent.place” för att placera ut ”WHITE GLAZED TERRACOTTA”.\n",
                                     "\n",
                                     "Funktionen ”agent.give()” tar tre parametrar.  \n",
                                     "\n",
                                     "– item (*string*): Det föremål du vill ge agenten.\n",
                                     "– count (*integer*): Hur många föremål agenten ska få.\n",
                                     "– slot (*integer*): Platsen i förrådet där agenten ska ta emot föremålet.\n",
                                     "\n",
                                     "Funktionen ”agent.move()” tar en parameter, som är direction (riktningen).\n",
                                     "\n",
                                     "Här är de giltiga riktningarna: \n",
                                     "– forward (framåt)\n",
                                     "– back (bakåt)\n",
                                     "– left (vänster)\n",
                                     "– right (höger)\n",
                                     "– up (uppåt)\n",
                                     "– down (nedåt)\n",
                                     "\n",
                                     "Funktionen ”agent.place()” tar två parametrar.  \n",
                                     "\n",
                                     "– slot number (*integer*): Platsen i förrådet som agenten ska använda.\n",
                                     "– direction (*string*): I vilken riktning du vill att agenten ska placera ut föremålet.\n",
                                     "    – Här är de giltiga riktningarna: \n",
                                     "        – forward (framåt)\n",
                                     "        – back (bakåt)\n",
                                     "        – left (vänster)\n",
                                     "        – right (höger)\n",
                                     "        – up (uppåt)\n",
                                     "        – down (nedåt)"
                                 ],
                      "metadata":  {

                                   }
                  },
                  {
                      "cell_type":  "code",
                      "execution_count":  null,
                      "source":  [
                                     "# ge agenten en hög med vit glaserad terrakotta\r\n",
                                     "# gå sedan framåt och placera ett block under agenten\r\n",
                                     "# gör det här 5 gånger\r\n",
                                     "\r\n",
                                     "agent.give(\"WHITE GLAZED TERRACOTTA\", 64, 1)\r\n",
                                     "agent.move(\"forward\")\r\n",
                                     "agent.place(\"down\", 1)\r\n",
                                     "agent.move(\"forward\")\r\n",
                                     "agent.place(\"down\", 1)\r\n",
                                     "agent.move(\"forward\")\r\n",
                                     "agent.place(\"down\", 1)\r\n",
                                     "agent.move(\"forward\")\r\n",
                                     "agent.place(\"down\", 1)\r\n",
                                     "agent.move(\"forward\")\r\n",
                                     "agent.place(\"down\", 1)"
                                 ],
                      "outputs":  [

                                  ],
                      "metadata":  {
                                       "minecraft":  {
                                                         "baseCodeCellName":  "Example",
                                                         "closeCodeBuilderOnRun":  true,
                                                         "readonly":  true
                                                     }
                                   }
                  },
                  {
                      "cell_type":  "markdown",
                      "source":  [
                                     "# Tips från proffsen:\n",
                                     "\n",
                                     "Använd en ”for”-loop till att göra en eller flera åtgärder upprepade gånger."
                                 ],
                      "metadata":  {

                                   }
                  },
                  {
                      "cell_type":  "code",
                      "execution_count":  null,
                      "source":  [
                                     "# ge agenten en hög med vit glaserad terrakotta\r\n",
                                     "# gå sedan framåt och placera ett block under agenten\r\n",
                                     "# gör det här 5 gånger\r\n",
                                     "\r\n",
                                     "agent.give(\"WHITE GLAZED TERRACOTTA\", 64, 1)\r\n",
                                     "for i in range(5):\r\n",
                                     "    agent.move(\"forward\")\r\n",
                                     "    agent.place(\"down\", 1)"
                                 ],
                      "outputs":  [

                                  ],
                      "metadata":  {
                                       "minecraft":  {
                                                         "baseCodeCellName":  "Example",
                                                         "closeCodeBuilderOnRun":  true,
                                                         "readonly":  true
                                                     }
                                   }
                  },
                  {
                      "cell_type":  "markdown",
                      "source":  [
                                     "# Aktivitet\r\n",
                                     "\r\n",
                                     "Fyll i den fyrkantiga konturen med ”white glazed terracotta” genom att flytta agenten och placera ett block undertill.\r\n",
                                     "\r\n",
                                     "**Obs! Du kan återställa aktiviteten med din TALK-enhet eller med knappen Återställ aktivitet.**"
                                 ],
                      "metadata":  {

                                   }
                  },
                  {
                      "cell_type":  "code",
                      "execution_count":  null,
                      "source":  [
                                     "# koda här\r\n",
                                     "\r\n",
                                     "\r\n"
                                 ],
                      "outputs":  [

                                  ],
                      "metadata":  {
                                       "minecraft":  {
                                                         "closeCodeBuilderOnRun":  true,
                                                         "default_code":  "# code here\n\n\n",
                                                         "resetWorldCommand":  "function act/5/reset"
                                                     }
                                   }
                  }
              ],
    "metadata":  {
                     "celltoolbar":  "Edit Metadata",
                     "kernelspec":  {
                                        "display_name":  "Python 3",
                                        "language":  "python",
                                        "name":  "python3"
                                    },
                     "language_info":  {
                                           "codemirror_mode":  {
                                                                   "name":  "ipython",
                                                                   "version":  3
                                                               },
                                           "file_extension":  ".py",
                                           "mimetype":  "text/x-python",
                                           "name":  "python",
                                           "nbconvert_exporter":  "python",
                                           "pygments_lexer":  "ipython3",
                                           "version":  "3.8.8"
                                       },
                     "minecraft":  {
                                       "description":  "TimeCraft",
                                       "page_id":  "1.1",
                                       "page_name":  "Mona Lisa",
                                       "style":  "minecraft.css"
                                   }
                 },
    "nbformat":  4,
    "nbformat_minor":  4
}
