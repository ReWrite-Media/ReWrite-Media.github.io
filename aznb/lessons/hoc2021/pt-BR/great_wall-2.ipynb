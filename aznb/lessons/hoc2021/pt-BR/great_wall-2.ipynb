﻿{
    "cells":  [
                  {
                      "cell_type":  "markdown",
                      "metadata":  {

                                   },
                      "source":  [
                                     "# A Pequena Muralha da China (Depuração)\n",
                                     "\n",
                                     "Os pandas não param de comer o andaime de bambu, impedindo que o Engenheiro termine a muralha. Leve os pandas para longe. Use `agent.give()` para dar um conjunto de `BAMBOO` ao seu Agent, depois use `agent.move()` para posicioná-lo e `agent.place()` para colocar o `BAMBOO`.\n",
                                     "\n",
                                     "A função `agent.give()` toma três parâmetros.  \n",
                                     "\n",
                                     "- item (*string*): O item que você deseja dar ao Agent.\n",
                                     "- count (*integer*): Quantos itens o Agent receberá.\n",
                                     "- slot (*integer*): O slot de inventário onde o Agent recebe o item.\n",
                                     "\n",
                                     "A função `agent.move()` toma um parâmetro, direção.\n",
                                     "\n",
                                     "As direções válidas são: \n",
                                     "- para frente\n",
                                     "- para trás\n",
                                     "- esquerda\n",
                                     "- direita\n",
                                     "- para cima\n",
                                     "- para baixo\n",
                                     "\n",
                                     "A função `agent.place()` toma dois parâmetros.  \n",
                                     "\n",
                                     "- slot number (*integer*): Qual slot de inventário o Agent deve usar.\n",
                                     "- direction (*string*): A direção que você deseja que o Agent coloque o item.\n",
                                     "    - As direções válidas são: \n",
                                     "        - para frente\n",
                                     "        - para trás\n",
                                     "        - esquerda\n",
                                     "        - direita\n",
                                     "        - para cima\n",
                                     "        - para baixo"
                                 ]
                  },
                  {
                      "cell_type":  "code",
                      "execution_count":  null,
                      "metadata":  {
                                       "minecraft":  {
                                                         "baseCodeCellName":  "Example",
                                                         "closeCodeBuilderOnRun":  true,
                                                         "readonly":  true
                                                     }
                                   },
                      "outputs":  [

                                  ],
                      "source":  [
                                     "# dê um conjunto de bambus ao Agent\n",
                                     "# coloque um bambu embaixo do Agent\n",
                                     "# e mova o Agent para frente\n",
                                     "# faça isso 2 vezes\n",
                                     "\n",
                                     "agent.give(\"BAMBOO\", 64, 1)\n",
                                     "agent.place(1,\"down\")\n",
                                     "agent.move(\"forward\")\n",
                                     "agent.place(1,\"down\")"
                                 ]
                  },
                  {
                      "cell_type":  "markdown",
                      "metadata":  {

                                   },
                      "source":  [
                                     "# Dica Profissional:\n",
                                     "\n",
                                     "Use um ciclo `for` para executar uma ou mais ações várias vezes."
                                 ]
                  },
                  {
                      "cell_type":  "code",
                      "execution_count":  null,
                      "metadata":  {
                                       "minecraft":  {
                                                         "baseCodeCellName":  "Example",
                                                         "closeCodeBuilderOnRun":  true,
                                                         "readonly":  true
                                                     }
                                   },
                      "outputs":  [

                                  ],
                      "source":  [
                                     "# dê um conjunto de bambus ao Agent\n",
                                     "# coloque um bambu embaixo do Agent\n",
                                     "# e mova o Agent para frente\n",
                                     "# faça isso 2 vezes\n",
                                     "\n",
                                     "agent.give(\"BAMBOO\", 64, 1)\n",
                                     "for i in range(2):\n",
                                     "    agent.place(1,\"down\")\n",
                                     "    agent.move(\"forward\")"
                                 ]
                  },
                  {
                      "cell_type":  "markdown",
                      "metadata":  {

                                   },
                      "source":  [
                                     "# Atividade:\n",
                                     "\n",
                                     "O código abaixo contém valores incorretos. Execute-o para ver o que acontece e tente depurar e corrigir o código para concluir a atividade.\n",
                                     "\n",
                                     "**Observação: use o botão Redefinir Código abaixo para redefinir a caixa de codificação e voltar ao código de depuração**"
                                 ]
                  },
                  {
                      "cell_type":  "code",
                      "execution_count":  null,
                      "metadata":  {
                                       "minecraft":  {
                                                         "closeCodeBuilderOnRun":  true,
                                                         "default_code":  "# code here\n\nagent.give(\"BAMBOO\", 64, 1)\nfor i in range(3):\n    agent.place(1,\"up\")\n    agent.move(\"back\")",
                                                         "resetWorldCommand":  "function act/4/reset"
                                                     }
                                   },
                      "outputs":  [

                                  ],
                      "source":  [
                                     "# código aqui\n",
                                     "\n",
                                     "agent.give(\"BAMBOO\", 64, 1)\n",
                                     "for i in range(3):\n",
                                     "    agent.place(1,\"up\")\n",
                                     "    agent.move(\"back\")"
                                 ]
                  }
              ],
    "metadata":  {
                     "celltoolbar":  "Edit Metadata",
                     "kernelspec":  {
                                        "display_name":  "Python 3",
                                        "language":  "python",
                                        "name":  "python3"
                                    },
                     "language_info":  {
                                           "codemirror_mode":  {
                                                                   "name":  "ipython",
                                                                   "version":  3
                                                               },
                                           "file_extension":  ".py",
                                           "mimetype":  "text/x-python",
                                           "name":  "python",
                                           "nbconvert_exporter":  "python",
                                           "pygments_lexer":  "ipython3",
                                           "version":  "3.8.8"
                                       },
                     "minecraft":  {
                                       "description":  "TimeCraft",
                                       "page_id":  "1.1",
                                       "page_name":  "A Pequena Muralha da China",
                                       "style":  "minecraft.css"
                                   }
                 },
    "nbformat":  4,
    "nbformat_minor":  4
}
