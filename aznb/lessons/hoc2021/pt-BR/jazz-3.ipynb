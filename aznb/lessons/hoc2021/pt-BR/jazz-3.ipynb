﻿{
    "cells":  [
                  {
                      "cell_type":  "markdown",
                      "metadata":  {

                                   },
                      "source":  [
                                     "# Jazz de Qualidade (Solução)\n",
                                     "\n",
                                     "O Músico de Jazz perdeu o trompete e resolveu usar um kazoo. Use a função `agent.move()` para atravessar o labirinto, depois use `agent.collect()` para pegar o trompete.\n",
                                     "\n",
                                     "A função `agent.move()` toma um parâmetro, direção.\n",
                                     "\n",
                                     "As instruções válidas são: \n",
                                     "- forward\n",
                                     "- back\n",
                                     "- left\n",
                                     "- right\n",
                                     "- up\n",
                                     "- down\n",
                                     "\n",
                                     "A função `agent.collect()` não toma nenhum parâmetro."
                                 ]
                  },
                  {
                      "cell_type":  "code",
                      "execution_count":  null,
                      "metadata":  {
                                       "minecraft":  {
                                                         "baseCodeCellName":  "Example",
                                                         "closeCodeBuilderOnRun":  true,
                                                         "readonly":  true
                                                     }
                                   },
                      "outputs":  [

                                  ],
                      "source":  [
                                     "# mova o Agent 3 blocos para a frente\n",
                                     "# e tente coletar o trompete\n",
                                     "\n",
                                     "agent.move(\"forward\")\n",
                                     "agent.move(\"forward\")\n",
                                     "agent.move(\"forward\")\n",
                                     "agent.collect()"
                                 ]
                  },
                  {
                      "cell_type":  "markdown",
                      "metadata":  {

                                   },
                      "source":  [
                                     "# Dica Profissional:\n",
                                     "\n",
                                     "Use um ciclo `for` para executar uma ou mais ações várias vezes."
                                 ]
                  },
                  {
                      "cell_type":  "code",
                      "execution_count":  null,
                      "metadata":  {
                                       "minecraft":  {
                                                         "baseCodeCellName":  "Example",
                                                         "closeCodeBuilderOnRun":  true,
                                                         "readonly":  true
                                                     }
                                   },
                      "outputs":  [

                                  ],
                      "source":  [
                                     "# mova o Agent 3 blocos para a frente\n",
                                     "# e tente coletar o trompete\n",
                                     "\n",
                                     "for i in range(3):\n",
                                     "    agent.move(\"forward\")\n",
                                     "agent.collect()"
                                 ]
                  },
                  {
                      "cell_type":  "markdown",
                      "metadata":  {

                                   },
                      "source":  [
                                     "# Atividade:\n",
                                     "\n",
                                     "O código abaixo é a solução correta da atividade. Execute o código para vê-lo em ação.\n",
                                     "\n",
                                     "**Observação: use o botão Redefinir Código abaixo para redefinir a caixa de codificação e voltar à solução**"
                                 ]
                  },
                  {
                      "cell_type":  "code",
                      "execution_count":  null,
                      "metadata":  {
                                       "minecraft":  {
                                                         "closeCodeBuilderOnRun":  true,
                                                         "default_code":  "# code here\nfor i in range(3):\n    agent.move(\"forward\")\n    \nagent.move(\"up\")\nagent.move(\"forward\")\nagent.move(\"forward\")\nagent.move(\"down\")\nagent.move(\"down\")\nagent.move(\"forward\")\nagent.move(\"forward\")\nagent.move(\"up\")\nagent.move(\"up\")\nagent.move(\"forward\")\n\nagent.collect()",
                                                         "resetWorldCommand":  "function act/1/reset"
                                                     }
                                   },
                      "outputs":  [

                                  ],
                      "source":  [
                                     "# código aqui\n",
                                     "for i in range(3):\n",
                                     "    agent.move(\"forward\")\n",
                                     "    \n",
                                     "agent.move(\"up\")\n",
                                     "agent.move(\"forward\")\n",
                                     "agent.move(\"forward\")\n",
                                     "agent.move(\"down\")\n",
                                     "agent.move(\"down\")\n",
                                     "agent.move(\"forward\")\n",
                                     "agent.move(\"forward\")\n",
                                     "agent.move(\"up\")\n",
                                     "agent.move(\"up\")\n",
                                     "agent.move(\"forward\")\n",
                                     "\n",
                                     "agent.collect()"
                                 ]
                  }
              ],
    "metadata":  {
                     "celltoolbar":  "Edit Metadata",
                     "kernelspec":  {
                                        "display_name":  "Python 3",
                                        "language":  "python",
                                        "name":  "python3"
                                    },
                     "language_info":  {
                                           "codemirror_mode":  {
                                                                   "name":  "ipython",
                                                                   "version":  3
                                                               },
                                           "file_extension":  ".py",
                                           "mimetype":  "text/x-python",
                                           "name":  "python",
                                           "nbconvert_exporter":  "python",
                                           "pygments_lexer":  "ipython3",
                                           "version":  "3.8.8"
                                       },
                     "minecraft":  {
                                       "description":  "TimeCraft",
                                       "page_id":  "1.1",
                                       "page_name":  "Jazz de Qualidade",
                                       "style":  "minecraft.css"
                                   }
                 },
    "nbformat":  4,
    "nbformat_minor":  4
}
