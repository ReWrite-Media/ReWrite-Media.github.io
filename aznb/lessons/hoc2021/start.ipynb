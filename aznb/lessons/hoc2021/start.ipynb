{
 "cells": [
  {
   "cell_type": "markdown",
   "metadata": {},
   "source": [
    "# Power the Timeline\n",
    "\n",
    "Welcome to your first coding task. In order to power up the timeline, we must move the Agent into position. Use `agent.move()` to move the Agent 3 blocks forward into position.\n",
    "\n",
    "Press RUN to execute your code.\n",
    "\n",
    "The `agent.move()` function takes one parameter, direction.\n",
    "\n",
    "Valid directions are: \n",
    "- forward\n",
    "- back\n",
    "- left\n",
    "- right\n",
    "- up\n",
    "- down\n",
    "\n",
    "Example:"
   ]
  },
  {
   "cell_type": "code",
   "execution_count": null,
   "metadata": {
    "minecraft": {
     "baseCodeCellName": "Example",
     "closeCodeBuilderOnRun": true,
     "readonly": true
    }
   },
   "outputs": [],
   "source": [
    "# move agent up 2 blocks and back 1\n",
    "agent.move(\"forward\")\n",
    "agent.move(\"forward\")\n",
    "agent.move(\"back\")"
   ]
  },
  {
   "cell_type": "markdown",
   "metadata": {},
   "source": [
    "# Pro Tip:\n",
    "\n",
    "Use a `for` loop to do one or more actions multiple times.\n",
    "\n",
    "Example:"
   ]
  },
  {
   "cell_type": "code",
   "execution_count": null,
   "metadata": {
    "minecraft": {
     "baseCodeCellName": "Example",
     "closeCodeBuilderOnRun": true,
     "readonly": true
    }
   },
   "outputs": [],
   "source": [
    "# move agent up 2 blocks and back 1\n",
    "for i in range(2):\n",
    "    agent.move(\"forward\")\n",
    "agent.move(\"back\")    "
   ]
  },
  {
   "cell_type": "markdown",
   "metadata": {},
   "source": [
    "# Activity\n",
    "\n",
    "Move the Agent 3 blocks forward into position.\n",
    "\n",
    "**Note: You can reset the activity by using your T.A.L.K. device or by using the Reset Activity button.**"
   ]
  },
  {
   "cell_type": "code",
   "execution_count": null,
   "metadata": {
    "minecraft": {
     "closeCodeBuilderOnRun": true,
     "default_code": "# code here\n\n\n",
     "resetWorldCommand": "function act/0/reset"
    }
   },
   "outputs": [],
   "source": [
    "# code here\n",
    "\n",
    "\n"
   ]
  }
 ],
 "metadata": {
  "celltoolbar": "Edit Metadata",
  "kernelspec": {
   "display_name": "Python 3",
   "language": "python",
   "name": "python3"
  },
  "language_info": {
   "codemirror_mode": {
    "name": "ipython",
    "version": 3
   },
   "file_extension": ".py",
   "mimetype": "text/x-python",
   "name": "python",
   "nbconvert_exporter": "python",
   "pygments_lexer": "ipython3",
   "version": "3.8.8"
  },
  "minecraft": {
   "description": "TimeCraft",
   "page_id": "1.1",
   "page_name": "Power the Timeline",
   "style": "minecraft.css"
  }
 },
 "nbformat": 4,
 "nbformat_minor": 4
}
