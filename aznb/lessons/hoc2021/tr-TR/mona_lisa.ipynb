﻿{
    "cells":  [
                  {
                      "cell_type":  "markdown",
                      "source":  [
                                     "# Mona Lisa\n",
                                     "\n",
                                     "Mona Lisa kaşlarını çattı, ünlü gülümsemesi yok oldu. Çünkü bahçesi yok edildi. Agent\u0027a bir `WHITE GLAZED TERRACOTTA` yığını vermek için `agent.give()` fonksiyonunu kullanın, ardından Agent\u0027ını konumlandırmak için `agent.move()` ve `WHITE GLAZED TERRACOTTA` yerleştirmek için `agent.place` fonksiyonunu kullan.\n",
                                     "\n",
                                     "`agent.give()` fonksiyonu üç parametre alır.  \n",
                                     "\n",
                                     "- eşya (*dize*): Agent\u0027a vermek istediğin eşya.\n",
                                     "- sayı (*tamsayı*): Agent\u0027ın alacağı eşya sayısı.\n",
                                     "- yuva (*tamsayı*): Agent\u0027ın eşyayı alacağı envanter yuvası.\n",
                                     "\n",
                                     "`agent.move()` fonksiyonu bir parametre, direction alır.\n",
                                     "\n",
                                     "Geçerli yönler şunlardır: \n",
                                     "- ileri\n",
                                     "- geri\n",
                                     "- sol\n",
                                     "- sağ\n",
                                     "- yukarı\n",
                                     "- aşağı\n",
                                     "\n",
                                     "`agent.place()` fonksiyonu iki parametre alır.  \n",
                                     "\n",
                                     "- yuva numarası (*tamsayı*): Agent\u0027ın kullanması gereken envanter yuvası.\n",
                                     "- yön (*dize*): Agent\u0027ın eşyayı yerleştirmesini istediğin yön.\n",
                                     "    - Geçerli yönler şunlardır: \n",
                                     "        - ileri\n",
                                     "        - geri\n",
                                     "        - sol\n",
                                     "        - sağ\n",
                                     "        - yukarı\n",
                                     "        - aşağı"
                                 ],
                      "metadata":  {

                                   }
                  },
                  {
                      "cell_type":  "code",
                      "execution_count":  null,
                      "source":  [
                                     "# Agent\u0027a bir beyaz cilalı terakota yığını ver\r\n",
                                     "# sonra ilerle ve Agent\u0027ın altına bir blok yerleştir\r\n",
                                     "# bunu 5 kez yap\r\n",
                                     "\r\n",
                                     "agent.give(\"WHITE GLAZED TERRACOTTA\", 64, 1)\r\n",
                                     "agent.move(\"forward\")\r\n",
                                     "agent.place(\"down\", 1)\r\n",
                                     "agent.move(\"forward\")\r\n",
                                     "agent.place(\"down\", 1)\r\n",
                                     "agent.move(\"forward\")\r\n",
                                     "agent.place(\"down\", 1)\r\n",
                                     "agent.move(\"forward\")\r\n",
                                     "agent.place(\"down\", 1)\r\n",
                                     "agent.move(\"forward\")\r\n",
                                     "agent.place(\"down\", 1)"
                                 ],
                      "outputs":  [

                                  ],
                      "metadata":  {
                                       "minecraft":  {
                                                         "baseCodeCellName":  "Example",
                                                         "closeCodeBuilderOnRun":  true,
                                                         "readonly":  true
                                                     }
                                   }
                  },
                  {
                      "cell_type":  "markdown",
                      "source":  [
                                     "# Profesyonel İpucu:\n",
                                     "\n",
                                     "Bir veya daha fazla eylemi birden çok kez uygulamak için `for` döngüsü kullan."
                                 ],
                      "metadata":  {

                                   }
                  },
                  {
                      "cell_type":  "code",
                      "execution_count":  null,
                      "source":  [
                                     "# Agent\u0027a bir beyaz cilalı terakota yığını ver\r\n",
                                     "# sonra ilerle ve Agent\u0027ın altına bir blok yerleştir\r\n",
                                     "# bunu 5 kez yap\r\n",
                                     "\r\n",
                                     "agent.give(\"WHITE GLAZED TERRACOTTA\", 64, 1)\r\n",
                                     "for i in range(5):\r\n",
                                     "    agent.move(\"forward\")\r\n",
                                     "    agent.place(\"down\", 1)"
                                 ],
                      "outputs":  [

                                  ],
                      "metadata":  {
                                       "minecraft":  {
                                                         "baseCodeCellName":  "Example",
                                                         "closeCodeBuilderOnRun":  true,
                                                         "readonly":  true
                                                     }
                                   }
                  },
                  {
                      "cell_type":  "markdown",
                      "source":  [
                                     "# Etkinlik\r\n",
                                     "\r\n",
                                     "Agent\u0027ı hareket ettirerek ve altına bir blok yerleştirerek `WHITE GLAZED TERRACOTTA` kare ana hattını tamamla.\r\n",
                                     "\r\n",
                                     "**Not: T.A.L.K. cihazını veya Etkinliği Sıfırla düğmesini kullanarak etkinliği sıfırlayabilirsin.**"
                                 ],
                      "metadata":  {

                                   }
                  },
                  {
                      "cell_type":  "code",
                      "execution_count":  null,
                      "source":  [
                                     "# kod buraya\r\n",
                                     "\r\n",
                                     "\r\n"
                                 ],
                      "outputs":  [

                                  ],
                      "metadata":  {
                                       "minecraft":  {
                                                         "closeCodeBuilderOnRun":  true,
                                                         "default_code":  "# code here\n\n\n",
                                                         "resetWorldCommand":  "function act/5/reset"
                                                     }
                                   }
                  }
              ],
    "metadata":  {
                     "celltoolbar":  "Edit Metadata",
                     "kernelspec":  {
                                        "display_name":  "Python 3",
                                        "language":  "python",
                                        "name":  "python3"
                                    },
                     "language_info":  {
                                           "codemirror_mode":  {
                                                                   "name":  "ipython",
                                                                   "version":  3
                                                               },
                                           "file_extension":  ".py",
                                           "mimetype":  "text/x-python",
                                           "name":  "python",
                                           "nbconvert_exporter":  "python",
                                           "pygments_lexer":  "ipython3",
                                           "version":  "3.8.8"
                                       },
                     "minecraft":  {
                                       "description":  "TimeCraft",
                                       "page_id":  "1.1",
                                       "page_name":  "Mona Lisa",
                                       "style":  "minecraft.css"
                                   }
                 },
    "nbformat":  4,
    "nbformat_minor":  4
}
