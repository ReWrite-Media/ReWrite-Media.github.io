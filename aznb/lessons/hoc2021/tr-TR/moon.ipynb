﻿{
    "cells":  [
                  {
                      "cell_type":  "markdown",
                      "source":  [
                                     "# Ay Görevi\n",
                                     "\n",
                                     "Hesaplamaları teslim etmek için Agent\u0027ı uzay modülüne gönder. Agent\u0027ın görevi tamamlamak için ilerlemesi gereken boşlukları sayamazsın. Gerekli hareketleri düşün ve Agent\u0027ın kaç hamle yapması gerektiğini belirlemek için Matematikçinin hesaplamalarını kullan. Agent\u0027ı ay modülüne ulaştırmak ve onunla kenetlemek için `agent.move()` fonksiyonunu kullan.\n",
                                     "\n",
                                     "`agent.move()` fonksiyonu bir parametre, yön alır.\n",
                                     "\n",
                                     "Geçerli yönler şunlardır: \n",
                                     "- ileri\n",
                                     "- geri\n",
                                     "- sol\n",
                                     "- sağ\n",
                                     "- yukarı\n",
                                     "- aşağı\n",
                                     "\n",
                                     "`agent.turn()` fonksiyonu bir parametre, turn_direction alır.\n",
                                     "\n",
                                     "Geçerli yönler şunlardır: \n",
                                     "- sol\n",
                                     "- sağ"
                                 ],
                      "metadata":  {

                                   }
                  },
                  {
                      "cell_type":  "code",
                      "execution_count":  null,
                      "source":  [
                                     "# Agent\u0027ı 5 ileri taşı\r\n",
                                     "# sonra sağa dön\r\n",
                                     "agent.move(\"forward\")\r\n",
                                     "agent.move(\"forward\")\r\n",
                                     "agent.move(\"forward\")\r\n",
                                     "agent.move(\"forward\")\r\n",
                                     "agent.move(\"forward\")\r\n",
                                     "agent.turn(\"right\")"
                                 ],
                      "outputs":  [

                                  ],
                      "metadata":  {
                                       "minecraft":  {
                                                         "baseCodeCellName":  "Example",
                                                         "closeCodeBuilderOnRun":  true,
                                                         "readonly":  true
                                                     }
                                   }
                  },
                  {
                      "cell_type":  "markdown",
                      "source":  [
                                     "# Profesyonel İpucu:\n",
                                     "\n",
                                     "Bir veya daha fazla eylemi birden çok kez uygulamak için `for` döngüsü kullan."
                                 ],
                      "metadata":  {

                                   }
                  },
                  {
                      "cell_type":  "code",
                      "execution_count":  null,
                      "source":  [
                                     "# Agent\u0027ı 5 ileri taşı\r\n",
                                     "# sonra sağa dön\r\n",
                                     "for i in range(5):\r\n",
                                     "    agent.move(\"forward\")\r\n",
                                     "agent.turn(\"right\")    "
                                 ],
                      "outputs":  [

                                  ],
                      "metadata":  {
                                       "minecraft":  {
                                                         "baseCodeCellName":  "Example",
                                                         "closeCodeBuilderOnRun":  true,
                                                         "readonly":  true
                                                     }
                                   }
                  },
                  {
                      "cell_type":  "markdown",
                      "source":  [
                                     "# Etkinlik\n",
                                     "\n",
                                     "25 ileriye, 17 sağa ve 3 aşağıya giderek Agent\u0027ı ay modülüne taşı.\n",
                                     "\n",
                                     "**Not: T.A.L.K. cihazını veya Etkinliği Sıfırla düğmesini kullanarak etkinliği sıfırlayabilirsin.**"
                                 ],
                      "metadata":  {

                                   }
                  },
                  {
                      "cell_type":  "code",
                      "execution_count":  null,
                      "source":  [
                                     "# kod buraya\r\n",
                                     "\r\n",
                                     "\r\n"
                                 ],
                      "outputs":  [

                                  ],
                      "metadata":  {
                                       "minecraft":  {
                                                         "closeCodeBuilderOnRun":  true,
                                                         "default_code":  "# code here\n\n\n",
                                                         "resetWorldCommand":  "function act/3/reset"
                                                     }
                                   }
                  }
              ],
    "metadata":  {
                     "celltoolbar":  "Edit Metadata",
                     "kernelspec":  {
                                        "display_name":  "Python 3",
                                        "language":  "python",
                                        "name":  "python3"
                                    },
                     "language_info":  {
                                           "codemirror_mode":  {
                                                                   "name":  "ipython",
                                                                   "version":  3
                                                               },
                                           "file_extension":  ".py",
                                           "mimetype":  "text/x-python",
                                           "name":  "python",
                                           "nbconvert_exporter":  "python",
                                           "pygments_lexer":  "ipython3",
                                           "version":  "3.8.8"
                                       },
                     "minecraft":  {
                                       "description":  "TimeCraft",
                                       "page_id":  "1.1",
                                       "page_name":  "Ay Görevi",
                                       "style":  "minecraft.css"
                                   }
                 },
    "nbformat":  4,
    "nbformat_minor":  4
}
