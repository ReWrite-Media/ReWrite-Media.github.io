﻿{
    "cells":  [
                  {
                      "cell_type":  "markdown",
                      "metadata":  {

                                   },
                      "source":  [
                                     "# İlk Bilgisayar Bilimci (Hata Ayıklama)\n",
                                     "\n",
                                     "Bilgisayar bilimci, ilk algoritmanın talimatlarını içeren delikli kartlar oluşturdu ancak delik kartın delikleri tıkanmış. Agent\u0027ını kahverengi blokların üstüne taşımak için `agent.move()` komutunu ve ardından altındaki bloku kırmak için `agent.destroy()` komutunu kullan.\n",
                                     "\n",
                                     "`agent.move()` fonksiyonu bir parametre, yön alır.\n",
                                     "\n",
                                     "Geçerli yönler şunlardır: \n",
                                     "- ileri\n",
                                     "- geri\n",
                                     "- sol\n",
                                     "- sağ\n",
                                     "- yukarı\n",
                                     "- aşağı\n",
                                     "\n",
                                     "`agent.destroy()` fonksiyonu bir parametre, direction alır.\n",
                                     "\n",
                                     "Geçerli yönler şunlardır: \n",
                                     "- ileri\n",
                                     "- geri\n",
                                     "- sol\n",
                                     "- sağ\n",
                                     "- yukarı\n",
                                     "- aşağı\n",
                                     "\n",
                                     "`agent.turn()` fonksiyonu bir parametre, turn_direction alır.\n",
                                     "\n",
                                     "Geçerli yönler şunlardır: \n",
                                     "- sol\n",
                                     "- sağ"
                                 ]
                  },
                  {
                      "cell_type":  "code",
                      "execution_count":  null,
                      "metadata":  {
                                       "minecraft":  {
                                                         "baseCodeCellName":  "Example",
                                                         "closeCodeBuilderOnRun":  true,
                                                         "readonly":  true
                                                     }
                                   },
                      "outputs":  [

                                  ],
                      "source":  [
                                     "# Agent\u0027ı 2 blok ileri taşı\n",
                                     "# ve altındaki bloku kır.\n",
                                     "\n",
                                     "agent.move(\"forward\")\n",
                                     "agent.destroy(\"down\")"
                                 ]
                  },
                  {
                      "cell_type":  "markdown",
                      "metadata":  {

                                   },
                      "source":  [
                                     "# Etkinlik:\n",
                                     "\n",
                                     "Aşağıdaki kod yanlış değerlere sahip. Ne olduğunu görmek için kodu çalıştır ve sonra etkinliği tamamlamak için hata ayıklamaya ve kodu düzeltmeye çalış.\n",
                                     "\n",
                                     "**Not: Kodlama kutusunu hata ayıklama koduna sıfırlamak için aşağıdaki Kodu Sıfırla düğmesini kullan**"
                                 ]
                  },
                  {
                      "cell_type":  "code",
                      "execution_count":  null,
                      "metadata":  {
                                       "minecraft":  {
                                                         "closeCodeBuilderOnRun":  true,
                                                         "default_code":  "# code here\n\nagent.move(\"forward\")\nagent.destroy(\"up\")\nagent.move(\"forward\")\nagent.move(\"forward\")\nagent.destroy(\"up\")\nagent.move(\"forward\")\nagent.move(\"forward\")\nagent.destroy(\"up\")\nagent.turn(\"left\")\nagent.move(\"forward\")\nagent.move(\"forward\")\nagent.turn(\"left\")\nagent.destroy(\"up\")\nagent.move(\"forward\")\nagent.move(\"forward\")\nagent.destroy(\"up\")\nagent.move(\"forward\")\nagent.move(\"forward\")\nagent.destroy(\"up\")",
                                                         "resetWorldCommand":  "function act/7/reset"
                                                     }
                                   },
                      "outputs":  [

                                  ],
                      "source":  [
                                     "# kod buraya\n",
                                     "\n",
                                     "agent.move(\"forward\")\n",
                                     "agent.destroy(\"up\")\n",
                                     "agent.move(\"forward\")\n",
                                     "agent.move(\"forward\")\n",
                                     "agent.destroy(\"up\")\n",
                                     "agent.move(\"forward\")\n",
                                     "agent.move(\"forward\")\n",
                                     "agent.destroy(\"up\")\n",
                                     "agent.turn(\"left\")\n",
                                     "agent.move(\"forward\")\n",
                                     "agent.move(\"forward\")\n",
                                     "agent.turn(\"left\")\n",
                                     "agent.destroy(\"up\")\n",
                                     "agent.move(\"forward\")\n",
                                     "agent.move(\"forward\")\n",
                                     "agent.destroy(\"up\")\n",
                                     "agent.move(\"forward\")\n",
                                     "agent.move(\"forward\")\n",
                                     "agent.destroy(\"up\")"
                                 ]
                  }
              ],
    "metadata":  {
                     "celltoolbar":  "Edit Metadata",
                     "kernelspec":  {
                                        "display_name":  "Python 3",
                                        "language":  "python",
                                        "name":  "python3"
                                    },
                     "language_info":  {
                                           "codemirror_mode":  {
                                                                   "name":  "ipython",
                                                                   "version":  3
                                                               },
                                           "file_extension":  ".py",
                                           "mimetype":  "text/x-python",
                                           "name":  "python",
                                           "nbconvert_exporter":  "python",
                                           "pygments_lexer":  "ipython3",
                                           "version":  "3.8.8"
                                       },
                     "minecraft":  {
                                       "description":  "TimeCraft",
                                       "page_id":  "1.1",
                                       "page_name":  "İlk Bilgisayar Bilimci",
                                       "style":  "minecraft.css"
                                   }
                 },
    "nbformat":  4,
    "nbformat_minor":  4
}
