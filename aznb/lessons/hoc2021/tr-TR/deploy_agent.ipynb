﻿{
    "cells":  [
                  {
                      "cell_type":  "markdown",
                      "source":  [
                                     "## Agent Konuşlandırıldı!\n",
                                     "Agent\u0027ı başarıyla konuşlandırdın! \n",
                                     "\n",
                                     "Burası Kod Oluşturucu penceresi. Kodlamaya hazır olduğunda bunu kullanacaksın!\n",
                                     "\n",
                                     "Aşağıda bir kodlama kutusu göreceksin. Bir sonraki etkinlikte kodunu orada yazacak ve çalıştıracaksın."
                                 ],
                      "metadata":  {

                                   }
                  },
                  {
                      "cell_type":  "code",
                      "execution_count":  null,
                      "source":  [
                                     "## kodlama kutusu böyle bir şey\r\n",
                                     "## göreceğin buna benzer bölümleri kullanarak\r\n",
                                     "## gelecekteki etkinliklerde kodunu yazacaksın"
                                 ],
                      "outputs":  [

                                  ],
                      "metadata":  {
                                       "minecraft":  {
                                                         "closeCodeBuilderOnRun":  true,
                                                         "default_code":  "## this is what a coding box look like\n## you\u0027ll use section like these to\n## write your code in future activities\n"
                                                     }
                                   }
                  },
                  {
                      "cell_type":  "markdown",
                      "source":  [
                                     "Macerana devam etmek için bu pencereyi kapat!"
                                 ],
                      "metadata":  {

                                   }
                  }
              ],
    "metadata":  {
                     "celltoolbar":  "Edit Metadata",
                     "kernelspec":  {
                                        "display_name":  "Python 3",
                                        "language":  "python",
                                        "name":  "python3"
                                    },
                     "language_info":  {
                                           "codemirror_mode":  {
                                                                   "name":  "ipython",
                                                                   "version":  3
                                                               },
                                           "file_extension":  ".py",
                                           "mimetype":  "text/x-python",
                                           "name":  "python",
                                           "nbconvert_exporter":  "python",
                                           "pygments_lexer":  "ipython3",
                                           "version":  "3.8.8"
                                       },
                     "minecraft":  {
                                       "description":  "TimeCraft",
                                       "page_id":  "1.1",
                                       "page_name":  "Agent Konuşlandırıldı",
                                       "style":  "minecraft.css"
                                   }
                 },
    "nbformat":  4,
    "nbformat_minor":  4
}
