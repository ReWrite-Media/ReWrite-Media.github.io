﻿{
    "cells":  [
                  {
                      "cell_type":  "markdown",
                      "metadata":  {

                                   },
                      "source":  [
                                     "# Büyük Cazbant (Hata Ayıklama)\n",
                                     "\n",
                                     "Caz Müzisyeni trompetini kaybetti ve onun yerine kazoo kullanıyor. Labirentten geçmek için `agent.move()` fonksiyonunu ve trompeti almak için `agent.collect()` fonksiyonunu kullan.\n",
                                     "\n",
                                     "`agent.move()` fonksiyonu bir parametre, yön alır.\n",
                                     "\n",
                                     "Geçerli yönler şunlardır: \n",
                                     "- ileri\n",
                                     "- geri\n",
                                     "- sol\n",
                                     "- sağ\n",
                                     "- yukarı\n",
                                     "- aşağı\n",
                                     "\n",
                                     "`agent.collect()` fonksiyonu herhangi bir parametre almaz."
                                 ]
                  },
                  {
                      "cell_type":  "code",
                      "execution_count":  null,
                      "metadata":  {
                                       "minecraft":  {
                                                         "baseCodeCellName":  "Example",
                                                         "closeCodeBuilderOnRun":  true,
                                                         "readonly":  true
                                                     }
                                   },
                      "outputs":  [

                                  ],
                      "source":  [
                                     "# Agent\u0027ı 3 blok ileri taşı\n",
                                     "# ve trompeti toplamaya çalış\n",
                                     "\n",
                                     "agent.move(\"forward\")\n",
                                     "agent.move(\"forward\")\n",
                                     "agent.move(\"forward\")\n",
                                     "agent.collect()"
                                 ]
                  },
                  {
                      "cell_type":  "markdown",
                      "metadata":  {

                                   },
                      "source":  [
                                     "# Profesyonel İpucu:\n",
                                     "\n",
                                     "Bir veya daha fazla eylemi birden çok kez uygulamak için `for` döngüsü kullan."
                                 ]
                  },
                  {
                      "cell_type":  "code",
                      "execution_count":  null,
                      "metadata":  {
                                       "minecraft":  {
                                                         "baseCodeCellName":  "Example",
                                                         "closeCodeBuilderOnRun":  true,
                                                         "readonly":  true
                                                     }
                                   },
                      "outputs":  [

                                  ],
                      "source":  [
                                     "# Agent\u0027ı 3 blok ileri taşı\n",
                                     "# ve trompeti toplamaya çalış\n",
                                     "\n",
                                     "for i in range(3):\n",
                                     "    agent.move(\"forward\")\n",
                                     "agent.collect()"
                                 ]
                  },
                  {
                      "cell_type":  "markdown",
                      "metadata":  {

                                   },
                      "source":  [
                                     "# Etkinlik:\n",
                                     "\n",
                                     "Aşağıdaki kod yanlış değerlere sahip. Ne olduğunu görmek için kodu çalıştır ve sonra etkinliği tamamlamak için hata ayıklamaya ve kodu düzeltmeye çalış.\n",
                                     "\n",
                                     "**Not: Kodlama kutusunu hata ayıklama koduna sıfırlamak için aşağıdaki Kodu Sıfırla düğmesini kullan**"
                                 ]
                  },
                  {
                      "cell_type":  "code",
                      "execution_count":  null,
                      "metadata":  {
                                       "minecraft":  {
                                                         "closeCodeBuilderOnRun":  true,
                                                         "default_code":  "# code here\nfor i in range(2):\n    agent.move(\"forward\")\n    \nagent.move(\"up\")\nagent.move(\"forward\")\nagent.move(\"forward\")\nagent.move(\"down\")\nagent.move(\"down\")\nagent.move(\"down\")\nagent.move(\"forward\")\nagent.move(\"up\")\nagent.move(\"up\")\nagent.move(\"forward\")\n\nagent.collect()",
                                                         "resetWorldCommand":  "function act/1/reset"
                                                     }
                                   },
                      "outputs":  [

                                  ],
                      "source":  [
                                     "# kod buraya\n",
                                     "for i in range(2):\n",
                                     "    agent.move(\"forward\")\n",
                                     "    \n",
                                     "agent.move(\"up\")\n",
                                     "agent.move(\"forward\")\n",
                                     "agent.move(\"forward\")\n",
                                     "agent.move(\"down\")\n",
                                     "agent.move(\"down\")\n",
                                     "agent.move(\"down\")\n",
                                     "agent.move(\"forward\")\n",
                                     "agent.move(\"up\")\n",
                                     "agent.move(\"up\")\n",
                                     "agent.move(\"forward\")\n",
                                     "\n",
                                     "agent.collect()"
                                 ]
                  }
              ],
    "metadata":  {
                     "celltoolbar":  "Edit Metadata",
                     "kernelspec":  {
                                        "display_name":  "Python 3",
                                        "language":  "python",
                                        "name":  "python3"
                                    },
                     "language_info":  {
                                           "codemirror_mode":  {
                                                                   "name":  "ipython",
                                                                   "version":  3
                                                               },
                                           "file_extension":  ".py",
                                           "mimetype":  "text/x-python",
                                           "name":  "python",
                                           "nbconvert_exporter":  "python",
                                           "pygments_lexer":  "ipython3",
                                           "version":  "3.8.8"
                                       },
                     "minecraft":  {
                                       "description":  "TimeCraft",
                                       "page_id":  "1.1",
                                       "page_name":  "Büyük Cazbant",
                                       "style":  "minecraft.css"
                                   }
                 },
    "nbformat":  4,
    "nbformat_minor":  4
}
