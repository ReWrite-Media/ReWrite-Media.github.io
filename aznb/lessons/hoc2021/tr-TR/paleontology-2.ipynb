﻿{
    "cells":  [
                  {
                      "cell_type":  "markdown",
                      "metadata":  {

                                   },
                      "source":  [
                                     "# Paleontoloji Bulmacası (Hata Ayıklama)\n",
                                     "\n",
                                     "Birisi dinozor iskeletindeki kemikleri çıkarmış ve yerine turuncu bloklar koymuş. 4 turuncu blokun tümünü YOK ETMEK ve \u0027BONEBLOCK\u0027 blokları YERLEŞTİRMEK için Agent\u0027ı kodla. Agent\u0027a bir `BONEBLOCK` yığını vermek için `agent.give()` ve Agent\u0027ını turuncu blokun üzerine konumlandırmak için `agent.move()` fonksiyonunu kullan. Sonra `agent.destroy()` fonksiyonunu kullanarak turuncu bloku kır ve `agent.place()` fonksiyonunu kullanarak yerine bir `BONEBLOCK` koy.\n",
                                     "\n",
                                     "`agent.give()` fonksiyonu üç parametre alır.  \n",
                                     "\n",
                                     "- eşya (*dize*): Agent\u0027a vermek istediğin eşya.\n",
                                     "- sayı (*tamsayı*): Agent\u0027ın alacağı eşya sayısı.\n",
                                     "- yuva (*tamsayı*): Agent\u0027ın eşyayı alacağı envanter yuvası.\n",
                                     "\n",
                                     "`agent.move()` fonksiyonu bir parametre, direction alır.\n",
                                     "\n",
                                     "Geçerli yönler şunlardır: \n",
                                     "- ileri\n",
                                     "- geri\n",
                                     "- sol\n",
                                     "- sağ\n",
                                     "- yukarı\n",
                                     "- aşağı\n",
                                     "\n",
                                     "`agent.destroy()` fonksiyonu bir parametre, direction alır.\n",
                                     "\n",
                                     "Geçerli yönler şunlardır: \n",
                                     "- ileri\n",
                                     "- geri\n",
                                     "- sol\n",
                                     "- sağ\n",
                                     "- yukarı\n",
                                     "- aşağı\n",
                                     "\n",
                                     "`agent.place()` fonksiyonu iki parametre alır.  \n",
                                     "\n",
                                     "- yuva numarası (*tamsayı*): Agent\u0027ın kullanması gereken envanter yuvası.\n",
                                     "- yön (*dize*): Agent\u0027ın eşyayı yerleştirmesini istediğin yön.\n",
                                     "    - Geçerli yönler şunlardır: \n",
                                     "        - ileri\n",
                                     "        - geri\n",
                                     "        - sol\n",
                                     "        - sağ\n",
                                     "        - yukarı\n",
                                     "        - aşağı"
                                 ]
                  },
                  {
                      "cell_type":  "code",
                      "execution_count":  null,
                      "metadata":  {
                                       "minecraft":  {
                                                         "baseCodeCellName":  "Example",
                                                         "closeCodeBuilderOnRun":  true,
                                                         "readonly":  true
                                                     }
                                   },
                      "outputs":  [

                                  ],
                      "source":  [
                                     "# Agent\u0027a bir kemik bloku yığını ver\n",
                                     "# sonra iki ilerle, alttaki bloku kır\n",
                                     "# ve sonra kemik blokunu yerleştir\n",
                                     "# bunu 2 kez yap.\n",
                                     "\n",
                                     "agent.give(\"BONEBLOCK\", 64, 1)\n",
                                     "agent.move(\"forward\")\n",
                                     "agent.move(\"forward\")\n",
                                     "agent.destroy(\"down\")\n",
                                     "agent.place(1,\"down\")\n",
                                     "agent.move(\"forward\")\n",
                                     "agent.move(\"forward\")\n",
                                     "agent.destroy(\"down\")\n",
                                     "agent.place(1,\"down\")"
                                 ]
                  },
                  {
                      "cell_type":  "markdown",
                      "metadata":  {

                                   },
                      "source":  [
                                     "# Profesyonel İpucu:\n",
                                     "\n",
                                     "Bir veya daha fazla eylemi birden çok kez uygulamak için `for` döngüsü kullan."
                                 ]
                  },
                  {
                      "cell_type":  "code",
                      "execution_count":  null,
                      "metadata":  {
                                       "minecraft":  {
                                                         "baseCodeCellName":  "Example",
                                                         "closeCodeBuilderOnRun":  true,
                                                         "readonly":  true
                                                     }
                                   },
                      "outputs":  [

                                  ],
                      "source":  [
                                     "# Agent\u0027a bir kemik bloku yığını ver\n",
                                     "# sonra iki ilerle, alttaki bloku kır\n",
                                     "# ve sonra kemik blokunu yerleştir\n",
                                     "# bunu 2 kez yap.\n",
                                     "\n",
                                     "agent.give(\"BONEBLOCK\", 64, 1)\n",
                                     "\n",
                                     "for i in range(2):\n",
                                     "    agent.move(\"forward\")\n",
                                     "    agent.move(\"forward\")\n",
                                     "    agent.destroy(\"down\")\n",
                                     "    agent.place(1,\"down\")"
                                 ]
                  },
                  {
                      "cell_type":  "markdown",
                      "metadata":  {

                                   },
                      "source":  [
                                     "# Etkinlik:\n",
                                     "\n",
                                     "Aşağıdaki kod yanlış değerlere sahip. Ne olduğunu görmek için kodu çalıştır ve sonra etkinliği tamamlamak için hata ayıklamaya ve kodu düzeltmeye çalış.\n",
                                     "\n",
                                     "**Not: Kodlama kutusunu hata ayıklama koduna sıfırlamak için aşağıdaki Kodu Sıfırla düğmesini kullan**"
                                 ]
                  },
                  {
                      "cell_type":  "code",
                      "execution_count":  null,
                      "metadata":  {
                                       "minecraft":  {
                                                         "closeCodeBuilderOnRun":  true,
                                                         "default_code":  "# code here\n\nagent.give(\"BONEBLOCK\", 64, 1)\n\nfor i in range(3):\n    agent.move(\"forward\")\n    agent.move(\"forward\")\n    agent.destroy(\"down\")\n    agent.place(1,\"up\")",
                                                         "resetWorldCommand":  "function act/9/reset"
                                                     }
                                   },
                      "outputs":  [

                                  ],
                      "source":  [
                                     "# kod buraya\n",
                                     "\n",
                                     "agent.give(\"BONEBLOCK\", 64, 1)\n",
                                     "\n",
                                     "for i in range(3):\n",
                                     "    agent.move(\"forward\")\n",
                                     "    agent.move(\"forward\")\n",
                                     "    agent.destroy(\"down\")\n",
                                     "    agent.place(1,\"up\")"
                                 ]
                  }
              ],
    "metadata":  {
                     "celltoolbar":  "Edit Metadata",
                     "kernelspec":  {
                                        "display_name":  "Python 3",
                                        "language":  "python",
                                        "name":  "python3"
                                    },
                     "language_info":  {
                                           "codemirror_mode":  {
                                                                   "name":  "ipython",
                                                                   "version":  3
                                                               },
                                           "file_extension":  ".py",
                                           "mimetype":  "text/x-python",
                                           "name":  "python",
                                           "nbconvert_exporter":  "python",
                                           "pygments_lexer":  "ipython3",
                                           "version":  "3.8.8"
                                       },
                     "minecraft":  {
                                       "description":  "TimeCraft",
                                       "page_id":  "1.1",
                                       "page_name":  "Paleontoloji Bulmacası",
                                       "style":  "minecraft.css"
                                   }
                 },
    "nbformat":  4,
    "nbformat_minor":  4
}
