{
 "cells": [
  {
   "cell_type": "markdown",
   "metadata": {},
   "source": [
    "# Mission Moon\n",
    "\n",
    "Send your agent to the space module to deliver the calculations. You cannot count the spaces that the AGENT must move to complete the mission. Think about the moves required and use the Mathematician’s calculations to determine how many moves the agent must make. Use `agent.move()` to get your Agent to the lunar module and dock with it.\n",
    "\n",
    "The `agent.move()` function takes one parameter, direction.\n",
    "\n",
    "Valid directions are: \n",
    "- forward\n",
    "- back\n",
    "- left\n",
    "- right\n",
    "- up\n",
    "- down\n",
    "\n",
    "The `agent.turn()` function takes one parameter, turn_direction.\n",
    "\n",
    "Valid directions are: \n",
    "- left\n",
    "- right\n",
    "\n",
    "Example:"
   ]
  },
  {
   "cell_type": "code",
   "execution_count": null,
   "metadata": {
    "minecraft": {
     "closeCodeBuilderOnRun": true,
     "readonly": true
    }
   },
   "outputs": [],
   "source": [
    "# move the agent forward 5\n",
    "agent.move(\"forward\")\n",
    "agent.move(\"forward\")\n",
    "agent.move(\"forward\")\n",
    "agent.move(\"forward\")\n",
    "agent.move(\"forward\")"
   ]
  },
  {
   "cell_type": "markdown",
   "metadata": {},
   "source": [
    "# Pro Tip:\n",
    "\n",
    "Use a `for` loop to do one or more actions multiple times.\n",
    "\n",
    "Example:"
   ]
  },
  {
   "cell_type": "code",
   "execution_count": null,
   "metadata": {
    "minecraft": {
     "closeCodeBuilderOnRun": true,
     "readonly": true
    }
   },
   "outputs": [],
   "source": [
    "# move the agent forward 5\n",
    "for i in range(5)\n",
    "    agent.move(\"forward\")"
   ]
  },
  {
   "cell_type": "markdown",
   "metadata": {},
   "source": [
    "# Activity\n",
    "\n",
    "Move the Agent to the lunar module by going forward 25, right 17, and down 3.\n",
    "\n",
    "**Note: You can reset the activity by using your T.A.L.K. device or by using the Reset World button.**"
   ]
  },
  {
   "cell_type": "code",
   "execution_count": null,
   "metadata": {
    "minecraft": {
     "closeCodeBuilderOnRun": true,
     "default_code": "# code here\n\n\n",
     "resetWorldCommand": "say NEEDS RESET CODE"
    }
   },
   "outputs": [],
   "source": [
    "# code here\n",
    "\n",
    "\n"
   ]
  }
 ],
 "metadata": {
  "celltoolbar": "Edit Metadata",
  "kernelspec": {
   "display_name": "Python 3",
   "language": "python",
   "name": "python3"
  },
  "language_info": {
   "codemirror_mode": {
    "name": "ipython",
    "version": 3
   },
   "file_extension": ".py",
   "mimetype": "text/x-python",
   "name": "python",
   "nbconvert_exporter": "python",
   "pygments_lexer": "ipython3",
   "version": "3.8.8"
  },
  "minecraft": {
   "description": "TimeCraft",
   "page_id": "1.1",
   "page_name": "Mission Moon",
   "style": "minecraft.css"
  }
 },
 "nbformat": 4,
 "nbformat_minor": 4
}
