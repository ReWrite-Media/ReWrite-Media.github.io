﻿{
    "cells":  [
                  {
                      "cell_type":  "markdown",
                      "metadata":  {

                                   },
                      "source":  [
                                     "# Το Σινικό Τείχος (Εντοπισμός σφαλμάτων)\n",
                                     "\n",
                                     "Τα πάντα συνέχεια τρώνε τη σκαλωσιά από μπαμπού και εμποδίζουν τον Μηχανικό να ολοκληρώσει το τείχος. Απομάκρυνε τα πάντα από το τείχος. Χρησιμοποίησε τη συνάρτηση `agent.give()` για να δώσεις στον Agent μια στοίβα από `BAMBOO` και χρησιμοποίησε τη συνάρτηση `agent.move()` για να τοποθετήσεις τον Agent και το `agent.place()` για να τοποθετήσεις το `BAMBOO`.\n",
                                     "\n",
                                     "Η συνάρτηση `agent.give()` δέχεται τρεις παραμέτρους.  \n",
                                     "\n",
                                     "- αντικείμενο (*συμβολοσειρά*): Το αντικείμενο που θέλεις να δώσεις στον Agent.\n",
                                     "- πλήθος (*ακέραιος*): Το πλήθος των αντικειμένων που θα λάβει ο Agent.\n",
                                     "- υποδοχή (*ακέραιος*): Η υποδοχή αποθέματος όπου ο Agent λαμβάνει το αντικείμενο.\n",
                                     "\n",
                                     "Η συνάρτηση `agent.move()` δέχεται μία παράμετρο, την κατεύθυνση (direction).\n",
                                     "\n",
                                     "Οι έγκυρες κατευθύνσεις είναι: \n",
                                     "- μπροστά\n",
                                     "- πίσω\n",
                                     "- αριστερά\n",
                                     "- δεξιά\n",
                                     "- πάνω\n",
                                     "- κάτω\n",
                                     "\n",
                                     "Η συνάρτηση `agent.place()` δέχεται δύο παραμέτρους.  \n",
                                     "\n",
                                     "- αριθμός υποδοχής (*ακέραιος*): Ποια υποδοχή αποθέματος θα πρέπει να χρησιμοποιήσει ο Agent.\n",
                                     "- κατεύθυνση (*συμβολοσειρά*): Η κατεύθυνση με την οποία θέλεις να τοποθετήσει ο Agent το αντικείμενο.\n",
                                     "    - Οι έγκυρες κατευθύνσεις είναι: \n",
                                     "        - μπροστά\n",
                                     "        - πίσω\n",
                                     "        - αριστερά\n",
                                     "        - δεξιά\n",
                                     "        - πάνω\n",
                                     "        - κάτω"
                                 ]
                  },
                  {
                      "cell_type":  "code",
                      "execution_count":  null,
                      "metadata":  {
                                       "minecraft":  {
                                                         "baseCodeCellName":  "Example",
                                                         "closeCodeBuilderOnRun":  true,
                                                         "readonly":  true
                                                     }
                                   },
                      "outputs":  [

                                  ],
                      "source":  [
                                     "# δώσε στον Agent μια στοίβα από μπαμπού\n",
                                     "# τοποθέτησε το μπαμπού κάτω από τον Agent\n",
                                     "# και έπειτα μετακίνησε τον Agent προς τα εμπρός\n",
                                     "# επανάλαβέ το 2 φορές\n",
                                     "\n",
                                     "agent.give(\"BAMBOO\", 64, 1)\n",
                                     "agent.place(\"down\", 1)\n",
                                     "agent.move(\"forward\")\n",
                                     "agent.place(\"down\", 1)"
                                 ]
                  },
                  {
                      "cell_type":  "markdown",
                      "metadata":  {

                                   },
                      "source":  [
                                     "# Επαγγελματική συμβουλή:\n",
                                     "\n",
                                     "Χρησιμοποίησε έναν βρόχο `for` για να επαναλαμβάνεις μία ή περισσότερες ενέργειες πολλές φορές."
                                 ]
                  },
                  {
                      "cell_type":  "code",
                      "execution_count":  null,
                      "metadata":  {
                                       "minecraft":  {
                                                         "baseCodeCellName":  "Example",
                                                         "closeCodeBuilderOnRun":  true,
                                                         "readonly":  true
                                                     }
                                   },
                      "outputs":  [

                                  ],
                      "source":  [
                                     "# δώσε στον Agent μια στοίβα από μπαμπού\n",
                                     "# τοποθέτησε το μπαμπού κάτω από τον Agent\n",
                                     "# και έπειτα μετακίνησε τον Agent προς τα εμπρός\n",
                                     "# επανάλαβέ το 2 φορές\n",
                                     "\n",
                                     "agent.give(\"BAMBOO\", 64, 1)\n",
                                     "for i in range(2):\n",
                                     "    agent.place(\"down\", 1)\n",
                                     "    agent.move(\"forward\")"
                                 ]
                  },
                  {
                      "cell_type":  "markdown",
                      "metadata":  {

                                   },
                      "source":  [
                                     "# Δραστηριότητα:\n",
                                     "\n",
                                     "Ο παρακάτω κώδικας έχει λάθος τιμές. Εκτέλεσε τον κώδικα για να δεις τι θα συμβεί και έπειτα προσπάθησε να εντοπίσεις τα σφάλματα και να διορθώσεις τον κώδικα για να ολοκληρώσεις τη δραστηριότητα.\n",
                                     "\n",
                                     "**Σημείωση: Χρησιμοποίησε το κουμπί Επαναφοράς κώδικα παρακάτω για να επαναφέρεις το πλαίσιο προγραμματισμού και να επιδιορθώσεις τον κώδικα**"
                                 ]
                  },
                  {
                      "cell_type":  "code",
                      "execution_count":  null,
                      "metadata":  {
                                       "minecraft":  {
                                                         "closeCodeBuilderOnRun":  true,
                                                         "default_code":  "# code here\n\nagent.give(\"BAMBOO\", 64, 1)\nfor i in range(3):\n    agent.place(\"up\", 1)\n    agent.move(\"back\")",
                                                         "resetWorldCommand":  "function act/4/reset"
                                                     }
                                   },
                      "outputs":  [

                                  ],
                      "source":  [
                                     "# κώδικας εδώ\n",
                                     "\n",
                                     "agent.give(\"BAMBOO\", 64, 1)\n",
                                     "for i in range(3):\n",
                                     "    agent.place(\"up\", 1)\n",
                                     "    agent.move(\"back\")"
                                 ]
                  }
              ],
    "metadata":  {
                     "celltoolbar":  "Edit Metadata",
                     "kernelspec":  {
                                        "display_name":  "Python 3",
                                        "language":  "python",
                                        "name":  "python3"
                                    },
                     "language_info":  {
                                           "codemirror_mode":  {
                                                                   "name":  "ipython",
                                                                   "version":  3
                                                               },
                                           "file_extension":  ".py",
                                           "mimetype":  "text/x-python",
                                           "name":  "python",
                                           "nbconvert_exporter":  "python",
                                           "pygments_lexer":  "ipython3",
                                           "version":  "3.8.8"
                                       },
                     "minecraft":  {
                                       "description":  "TimeCraft",
                                       "page_id":  "1.1",
                                       "page_name":  "Το Σινικό Τείχος",
                                       "style":  "minecraft.css"
                                   }
                 },
    "nbformat":  4,
    "nbformat_minor":  4
}
