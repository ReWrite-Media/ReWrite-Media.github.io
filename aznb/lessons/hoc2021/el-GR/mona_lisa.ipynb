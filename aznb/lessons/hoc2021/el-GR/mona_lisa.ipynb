﻿{
    "cells":  [
                  {
                      "cell_type":  "markdown",
                      "source":  [
                                     "# Η Μόνα Λίζα\n",
                                     "\n",
                                     "Η Μόνα Λίζα είναι κατσουφιασμένη. Έχασε το περίφημο χαμόγελό της. Και αυτό γιατί ο κήπος της καταστράφηκε. Χρησιμοποίησε τη συνάρτηση `agent.give()` για να δώσεις στον Agent μια στοίβα από `WHITE GLAZED TERRACOTTA` και χρησιμοποίησε τη συνάρτηση `agent.move()` για να τοποθετήσεις τον Agent και το `agent.place()` για να τοποθετήσεις τη `WHITE GLAZED TERRACOTTA`.\n",
                                     "\n",
                                     "Η συνάρτηση `agent.give()` δέχεται τρεις παραμέτρους.  \n",
                                     "\n",
                                     "- αντικείμενο (*συμβολοσειρά*): Το αντικείμενο που θέλεις να δώσεις στον Agent.\n",
                                     "- πλήθος (*ακέραιος*): Το πλήθος των αντικειμένων που θα λάβει ο Agent.\n",
                                     "- υποδοχή (*ακέραιος*): Η υποδοχή αποθέματος όπου ο Agent λαμβάνει το αντικείμενο.\n",
                                     "\n",
                                     "Η συνάρτηση `agent.move()` δέχεται μία παράμετρο, την κατεύθυνση (direction).\n",
                                     "\n",
                                     "Οι έγκυρες κατευθύνσεις είναι: \n",
                                     "- μπροστά\n",
                                     "- πίσω\n",
                                     "- αριστερά\n",
                                     "- δεξιά\n",
                                     "- πάνω\n",
                                     "- κάτω\n",
                                     "\n",
                                     "Η συνάρτηση `agent.place()` δέχεται δύο παραμέτρους.  \n",
                                     "\n",
                                     "- αριθμός υποδοχής (*ακέραιος*): Ποια υποδοχή αποθέματος θα πρέπει να χρησιμοποιήσει ο Agent.\n",
                                     "- κατεύθυνση (*συμβολοσειρά*): Η κατεύθυνση με την οποία θέλεις να τοποθετήσει ο Agent το αντικείμενο.\n",
                                     "    - Οι έγκυρες κατευθύνσεις είναι: \n",
                                     "        - μπροστά\n",
                                     "        - πίσω\n",
                                     "        - αριστερά\n",
                                     "        - δεξιά\n",
                                     "        - πάνω\n",
                                     "        - κάτω"
                                 ],
                      "metadata":  {

                                   }
                  },
                  {
                      "cell_type":  "code",
                      "execution_count":  null,
                      "source":  [
                                     "# δώσε στον Agent μια στοίβα από λευκή λουστραρισμένη τερακότα\r\n",
                                     "# έπειτα πήγαινε μπροστά και τοποθέτησε έναν κύβο κάτω από τον Agent\r\n",
                                     "# επανάλαβέ το 5 φορές\r\n",
                                     "\r\n",
                                     "agent.give(\"WHITE GLAZED TERRACOTTA\", 64, 1)\r\n",
                                     "agent.move(\"forward\")\r\n",
                                     "agent.place(1,\"down\")\r\n",
                                     "agent.move(\"forward\")\r\n",
                                     "agent.place(1,\"down\")\r\n",
                                     "agent.move(\"forward\")\r\n",
                                     "agent.place(1,\"down\")\r\n",
                                     "agent.move(\"forward\")\r\n",
                                     "agent.place(1,\"down\")\r\n",
                                     "agent.move(\"forward\")\r\n",
                                     "agent.place(1,\"down\")"
                                 ],
                      "outputs":  [

                                  ],
                      "metadata":  {
                                       "minecraft":  {
                                                         "baseCodeCellName":  "Example",
                                                         "closeCodeBuilderOnRun":  true,
                                                         "readonly":  true
                                                     }
                                   }
                  },
                  {
                      "cell_type":  "markdown",
                      "source":  [
                                     "# Επαγγελματική συμβουλή:\n",
                                     "\n",
                                     "Χρησιμοποίησε έναν βρόχο `for` για να επαναλαμβάνεις μία ή περισσότερες ενέργειες πολλές φορές."
                                 ],
                      "metadata":  {

                                   }
                  },
                  {
                      "cell_type":  "code",
                      "execution_count":  null,
                      "source":  [
                                     "# δώσε στον Agent μια στοίβα από λευκή λουστραρισμένη τερακότα\r\n",
                                     "# έπειτα πήγαινε μπροστά και τοποθέτησε έναν κύβο κάτω από τον Agent\r\n",
                                     "# επανάλαβέ το 5 φορές\r\n",
                                     "\r\n",
                                     "agent.give(\"WHITE GLAZED TERRACOTTA\", 64, 1)\r\n",
                                     "for i in range(5):\r\n",
                                     "    agent.move(\"forward\")\r\n",
                                     "    agent.place(1,\"down\")"
                                 ],
                      "outputs":  [

                                  ],
                      "metadata":  {
                                       "minecraft":  {
                                                         "baseCodeCellName":  "Example",
                                                         "closeCodeBuilderOnRun":  true,
                                                         "readonly":  true
                                                     }
                                   }
                  },
                  {
                      "cell_type":  "markdown",
                      "source":  [
                                     "# Δραστηριότητα\r\n",
                                     "\r\n",
                                     "Ολοκλήρωσε το τετράγωνο περίγραμμα από `WHITE GLAZED TERRACOTTA` μετακινώντας τον Agent και τοποθετώντας έναν κύβο από κάτω.\r\n",
                                     "\r\n",
                                     "**Σημείωση: Μπορείς να επαναφέρεις τη δραστηριότητα, χρησιμοποιώντας τη συσκευή T.A.L.K. ή επιλέγοντας το κουμπί \"Επαναφορά δραστηριότητας\".**"
                                 ],
                      "metadata":  {

                                   }
                  },
                  {
                      "cell_type":  "code",
                      "execution_count":  null,
                      "source":  [
                                     "# κώδικας εδώ\r\n",
                                     "\r\n",
                                     "\r\n"
                                 ],
                      "outputs":  [

                                  ],
                      "metadata":  {
                                       "minecraft":  {
                                                         "closeCodeBuilderOnRun":  true,
                                                         "default_code":  "# code here\n\n\n",
                                                         "resetWorldCommand":  "function act/5/reset"
                                                     }
                                   }
                  }
              ],
    "metadata":  {
                     "celltoolbar":  "Edit Metadata",
                     "kernelspec":  {
                                        "display_name":  "Python 3",
                                        "language":  "python",
                                        "name":  "python3"
                                    },
                     "language_info":  {
                                           "codemirror_mode":  {
                                                                   "name":  "ipython",
                                                                   "version":  3
                                                               },
                                           "file_extension":  ".py",
                                           "mimetype":  "text/x-python",
                                           "name":  "python",
                                           "nbconvert_exporter":  "python",
                                           "pygments_lexer":  "ipython3",
                                           "version":  "3.8.8"
                                       },
                     "minecraft":  {
                                       "description":  "TimeCraft",
                                       "page_id":  "1.1",
                                       "page_name":  "Η Μόνα Λίζα",
                                       "style":  "minecraft.css"
                                   }
                 },
    "nbformat":  4,
    "nbformat_minor":  4
}
