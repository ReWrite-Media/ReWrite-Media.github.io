﻿{
    "cells":  [
                  {
                      "cell_type":  "markdown",
                      "source":  [
                                     "# Οι καλύτεροι φίλοι του ανθρώπου\n",
                                     "\n",
                                     "Οι σκύλοι ήταν φίλοι με τους ανθρώπους για χιλιάδες χρόνια. Κάτι όμως τους τρόμαξε και τους έδιωξε. Προγραμμάτισε τον Agent να αφήσει ένα ίχνος από αντικείμενα `BEETROOT` σε απόσταση 5 κύβων μεταξύ τους για να βοηθήσεις τους ανθρώπους να εξημερώσουν ξανά τον λύκο. Χρησιμοποίησε τη συνάρτηση `agent.give()` για να δώσεις στον Agent μια στοίβα από `BEETROOT`, έπειτα χρησιμοποίησε τη συνάρτηση `agent.move()` για να τοποθετήσεις τον Agent και το `agent.drop()` για να ρίξεις ένα `BEETROOT`.\n",
                                     "\n",
                                     "Η συνάρτηση `agent.give()` δέχεται τρεις παραμέτρους.  \n",
                                     "\n",
                                     "- αντικείμενο (*συμβολοσειρά*): Το αντικείμενο που θέλεις να δώσεις στον Agent.\n",
                                     "- πλήθος (*ακέραιος*): Το πλήθος των αντικειμένων που θα λάβει ο Agent.\n",
                                     "- υποδοχή (*ακέραιος*): Η υποδοχή αποθέματος όπου ο Agent λαμβάνει το αντικείμενο.\n",
                                     "\n",
                                     "Η συνάρτηση `agent.move()` δέχεται μία παράμετρο, την κατεύθυνση (direction).\n",
                                     "\n",
                                     "Οι έγκυρες κατευθύνσεις είναι: \n",
                                     "- μπροστά\n",
                                     "- πίσω\n",
                                     "- αριστερά\n",
                                     "- δεξιά\n",
                                     "- πάνω\n",
                                     "- κάτω\n",
                                     "\n",
                                     "Η συνάρτηση `agent.drop()` δέχεται δύο παραμέτρους.\n",
                                     "- υποδοχή (*ακέραιος*): Η υποδοχή αποθεμάτων από όπου ο Agent ρίχνει το αντικείμενο.\n",
                                     "- ποσότητα (*ακέραιος*): Ο αριθμός των αντικειμένων που θα ρίξει ο Agent."
                                 ],
                      "metadata":  {

                                   }
                  },
                  {
                      "cell_type":  "code",
                      "execution_count":  null,
                      "source":  [
                                     "# δώσε στον Agent μια στοίβα από παντζάρια\r\n",
                                     "# έπειτα ρίξε ένα και προχώρησε μπροστά κατά 5\r\n",
                                     "\r\n",
                                     "agent.give(\"BEETROOT\", 64, 1)\r\n",
                                     "agent.drop(1,1)\r\n",
                                     "agent.move(\"forward\")\r\n",
                                     "agent.move(\"forward\")\r\n",
                                     "agent.move(\"forward\")\r\n",
                                     "agent.move(\"forward\")"
                                 ],
                      "outputs":  [

                                  ],
                      "metadata":  {
                                       "minecraft":  {
                                                         "baseCodeCellName":  "Example",
                                                         "closeCodeBuilderOnRun":  true,
                                                         "readonly":  true
                                                     }
                                   }
                  },
                  {
                      "cell_type":  "markdown",
                      "source":  [
                                     "# Επαγγελματική συμβουλή:\n",
                                     "\n",
                                     "Χρησιμοποίησε έναν βρόχο `for` για να επαναλαμβάνεις μία ή περισσότερες ενέργειες πολλές φορές."
                                 ],
                      "metadata":  {

                                   }
                  },
                  {
                      "cell_type":  "code",
                      "execution_count":  null,
                      "source":  [
                                     "# δώσε στον Agent μια στοίβα από παντζάρια\r\n",
                                     "# έπειτα ρίξε ένα και προχώρησε μπροστά κατά 5\r\n",
                                     "\r\n",
                                     "agent.give(\"BEETROOT\", 64, 1)\r\n",
                                     "agent.drop(1,1)\r\n",
                                     "for i in range(4):\r\n",
                                     "    agent.move(\"forward\")"
                                 ],
                      "outputs":  [

                                  ],
                      "metadata":  {
                                       "minecraft":  {
                                                         "baseCodeCellName":  "Example",
                                                         "closeCodeBuilderOnRun":  true,
                                                         "readonly":  true
                                                     }
                                   }
                  },
                  {
                      "cell_type":  "markdown",
                      "source":  [
                                     "# Δραστηριότητα\r\n",
                                     "\r\n",
                                     "Ρίξε ένα `BEETROOT` ανά 5 κύβους για να οδηγήσεις τους λύκους απευθείας στη φωτιά της κατασκήνωσης μπροστά από την αφετηρία του Agent.\r\n",
                                     "\r\n",
                                     "**Σημείωση: Μπορείς να επαναφέρεις τη δραστηριότητα, χρησιμοποιώντας τη συσκευή T.A.L.K. ή επιλέγοντας το κουμπί \"Επαναφορά δραστηριότητας\".**"
                                 ],
                      "metadata":  {

                                   }
                  },
                  {
                      "cell_type":  "code",
                      "execution_count":  null,
                      "source":  [
                                     "# κώδικας εδώ\r\n",
                                     "\r\n",
                                     "\r\n"
                                 ],
                      "outputs":  [

                                  ],
                      "metadata":  {
                                       "minecraft":  {
                                                         "closeCodeBuilderOnRun":  true,
                                                         "default_code":  "# code here\n\n\n",
                                                         "resetWorldCommand":  "function act/8/reset"
                                                     }
                                   }
                  }
              ],
    "metadata":  {
                     "celltoolbar":  "Edit Metadata",
                     "kernelspec":  {
                                        "display_name":  "Python 3",
                                        "language":  "python",
                                        "name":  "python3"
                                    },
                     "language_info":  {
                                           "codemirror_mode":  {
                                                                   "name":  "ipython",
                                                                   "version":  3
                                                               },
                                           "file_extension":  ".py",
                                           "mimetype":  "text/x-python",
                                           "name":  "python",
                                           "nbconvert_exporter":  "python",
                                           "pygments_lexer":  "ipython3",
                                           "version":  "3.8.8"
                                       },
                     "minecraft":  {
                                       "description":  "TimeCraft",
                                       "page_id":  "1.1",
                                       "page_name":  "Οι καλύτεροι φίλοι του ανθρώπου",
                                       "style":  "minecraft.css"
                                   }
                 },
    "nbformat":  4,
    "nbformat_minor":  4
}
