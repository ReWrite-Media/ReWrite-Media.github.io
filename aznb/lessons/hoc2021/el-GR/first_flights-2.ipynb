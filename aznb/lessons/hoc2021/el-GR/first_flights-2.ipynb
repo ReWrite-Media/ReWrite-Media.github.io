﻿{
    "cells":  [
                  {
                      "cell_type":  "markdown",
                      "metadata":  {

                                   },
                      "source":  [
                                     "# Πρώτη πτήση (Εντοπισμός σφαλμάτων)\n",
                                     "\n",
                                     "Ένα από τα πρώτα αεροπλάνα πρόκειται να απογειωθεί, αλλά υπάρχουν λακκούβες στον αεροδιάδρομο! Προγραμμάτισε\n",
                                     "τον Agent να γεμίσει τις λακκούβες. Χρησιμοποίησε τη συνάρτηση `agent.give()` για να δώσεις στον Agent μια στοίβα από κύβους `DIRT` και χρησιμοποίησε τη συνάρτηση `agent.move()` για να τοποθετήσεις τον Agent πάνω από τις λακκούβες. Έπειτα, χρησιμοποίησε το `agent.place()` για να γεμίσεις τις λακκούβες.\n",
                                     "\n",
                                     "Η συνάρτηση `agent.give()` δέχεται τρεις παραμέτρους.  \n",
                                     "\n",
                                     "- αντικείμενο (*συμβολοσειρά*): Το αντικείμενο που θέλεις να δώσεις στον Agent.\n",
                                     "- πλήθος (*ακέραιος*): Το πλήθος των αντικειμένων που θα λάβει ο Agent.\n",
                                     "- υποδοχή (*ακέραιος*): Η υποδοχή αποθέματος όπου ο Agent λαμβάνει το αντικείμενο.\n",
                                     "\n",
                                     "Η συνάρτηση `agent.move()` δέχεται μία παράμετρο, την κατεύθυνση (direction).\n",
                                     "\n",
                                     "Οι έγκυρες κατευθύνσεις είναι: \n",
                                     "- μπροστά\n",
                                     "- πίσω\n",
                                     "- αριστερά\n",
                                     "- δεξιά\n",
                                     "- πάνω\n",
                                     "- κάτω\n",
                                     "\n",
                                     "Η συνάρτηση `agent.place()` δέχεται δύο παραμέτρους.  \n",
                                     "\n",
                                     "- αριθμός υποδοχής (*ακέραιος*): Ποια υποδοχή αποθέματος θα πρέπει να χρησιμοποιήσει ο Agent.\n",
                                     "- κατεύθυνση (*συμβολοσειρά*): Η κατεύθυνση με την οποία θέλεις να τοποθετήσει ο Agent το αντικείμενο.\n",
                                     "    - Οι έγκυρες κατευθύνσεις είναι: \n",
                                     "        - μπροστά\n",
                                     "        - πίσω\n",
                                     "        - αριστερά\n",
                                     "        - δεξιά\n",
                                     "        - πάνω\n",
                                     "        - κάτω\n",
                                     "\n",
                                     "Η συνάρτηση `agent.turn()` δέχεται μία παράμετρο, τη στροφή/κατεύθυνση (turn_direction).\n",
                                     "\n",
                                     "Οι έγκυρες κατευθύνσεις είναι: \n",
                                     "- αριστερά\n",
                                     "- δεξιά"
                                 ]
                  },
                  {
                      "cell_type":  "code",
                      "execution_count":  null,
                      "metadata":  {
                                       "minecraft":  {
                                                         "baseCodeCellName":  "Example",
                                                         "closeCodeBuilderOnRun":  true,
                                                         "readonly":  true
                                                     }
                                   },
                      "outputs":  [

                                  ],
                      "source":  [
                                     "# δώσε στον Agent μια στοίβα από κύβους χώματος\n",
                                     "# προχώρησε μπροστά κατά 1 και τοποθέτησε κάτω\n",
                                     "# επανάλαβε 2 φορές\n",
                                     "\n",
                                     "agent.give(\"DIRT\", 64, 1)\n",
                                     "agent.move(\"forward\")\n",
                                     "agent.place(1,\"down\")\n",
                                     "agent.move(\"forward\")\n",
                                     "agent.place(1,\"down\")\n",
                                     "\n"
                                 ]
                  },
                  {
                      "cell_type":  "markdown",
                      "metadata":  {

                                   },
                      "source":  [
                                     "# Επαγγελματική συμβουλή:\n",
                                     "\n",
                                     "Χρησιμοποίησε έναν βρόχο `for` για να επαναλαμβάνεις μία ή περισσότερες ενέργειες πολλές φορές."
                                 ]
                  },
                  {
                      "cell_type":  "code",
                      "execution_count":  null,
                      "metadata":  {
                                       "minecraft":  {
                                                         "baseCodeCellName":  "Example",
                                                         "closeCodeBuilderOnRun":  true,
                                                         "readonly":  true
                                                     }
                                   },
                      "outputs":  [

                                  ],
                      "source":  [
                                     "# δώσε στον Agent μια στοίβα από κύβους χώματος\n",
                                     "# προχώρησε μπροστά κατά 1 και τοποθέτησε κάτω\n",
                                     "# επανάλαβε 2 φορές\n",
                                     "\n",
                                     "agent.give(\"DIRT\", 64, 1)\n",
                                     "for i in range(2):\n",
                                     "    agent.move(\"forward\")\n",
                                     "    agent.place(1,\"down\")\n"
                                 ]
                  },
                  {
                      "cell_type":  "markdown",
                      "metadata":  {

                                   },
                      "source":  [
                                     "# Δραστηριότητα:\n",
                                     "\n",
                                     "Ο παρακάτω κώδικας έχει λάθος τιμές. Εκτέλεσε τον κώδικα για να δεις τι θα συμβεί και έπειτα προσπάθησε να εντοπίσεις τα σφάλματα και να διορθώσεις τον κώδικα για να ολοκληρώσεις τη δραστηριότητα.\n",
                                     "\n",
                                     "**Σημείωση: Χρησιμοποίησε το κουμπί Επαναφοράς κώδικα παρακάτω για να επαναφέρεις το πλαίσιο προγραμματισμού και να επιδιορθώσεις τον κώδικα**"
                                 ]
                  },
                  {
                      "cell_type":  "code",
                      "execution_count":  null,
                      "metadata":  {
                                       "minecraft":  {
                                                         "closeCodeBuilderOnRun":  true,
                                                         "default_code":  "# code here\n\nagent.give(\"DIRT\", 64, 1)\nfor i in range(3):\n    agent.move(\"forward\")\n    agent.place(1,\"up\")\n\nagent.move(\"forward\")\nagent.move(\"forward\")\nagent.move(\"right\")\nagent.move(\"right\")\n\nfor i in range(3):\n    agent.move(\"forward\")\n    agent.place(1,\"up\")\n\nagent.move(\"forward\")\nagent.move(\"forward\")\nagent.move(\"right\")\nagent.move(\"right\")\n\nfor i in range(3):\n    agent.move(\"forward\")\n    agent.place(1,\"up\")",
                                                         "resetWorldCommand":  "function act/6/reset"
                                                     }
                                   },
                      "outputs":  [

                                  ],
                      "source":  [
                                     "# κώδικας εδώ\n",
                                     "\n",
                                     "agent.give(\"DIRT\", 64, 1)\n",
                                     "for i in range(3):\n",
                                     "    agent.move(\"forward\")\n",
                                     "    agent.place(1,\"up\")\n",
                                     "\n",
                                     "agent.move(\"forward\")\n",
                                     "agent.move(\"forward\")\n",
                                     "agent.move(\"right\")\n",
                                     "agent.move(\"right\")\n",
                                     "\n",
                                     "for i in range(3):\n",
                                     "    agent.move(\"forward\")\n",
                                     "    agent.place(1,\"up\")\n",
                                     "\n",
                                     "agent.move(\"forward\")\n",
                                     "agent.move(\"forward\")\n",
                                     "agent.move(\"right\")\n",
                                     "agent.move(\"right\")\n",
                                     "\n",
                                     "for i in range(3):\n",
                                     "    agent.move(\"forward\")\n",
                                     "    agent.place(1,\"up\")"
                                 ]
                  }
              ],
    "metadata":  {
                     "celltoolbar":  "Edit Metadata",
                     "kernelspec":  {
                                        "display_name":  "Python 3",
                                        "language":  "python",
                                        "name":  "python3"
                                    },
                     "language_info":  {
                                           "codemirror_mode":  {
                                                                   "name":  "ipython",
                                                                   "version":  3
                                                               },
                                           "file_extension":  ".py",
                                           "mimetype":  "text/x-python",
                                           "name":  "python",
                                           "nbconvert_exporter":  "python",
                                           "pygments_lexer":  "ipython3",
                                           "version":  "3.8.8"
                                       },
                     "minecraft":  {
                                       "description":  "TimeCraft",
                                       "page_id":  "1.1",
                                       "page_name":  "Πρώτη πτήση",
                                       "style":  "minecraft.css"
                                   }
                 },
    "nbformat":  4,
    "nbformat_minor":  4
}
