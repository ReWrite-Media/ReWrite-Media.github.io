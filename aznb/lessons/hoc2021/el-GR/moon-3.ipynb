﻿{
    "cells":  [
                  {
                      "cell_type":  "markdown",
                      "metadata":  {

                                   },
                      "source":  [
                                     "# Αποστολή στο Φεγγάρι (Λύση)\n",
                                     "\n",
                                     "Στείλε τον Agent στη διαστημική μονάδα για να παραδώσει τους υπολογισμούς. Δεν μπορείς να μετρήσεις πόσα κενά πρέπει να μετακινηθεί ο Agent για να ολοκληρώσει την αποστολή. Σκέψου τις κινήσεις που απαιτούνται και χρησιμοποίησε τους υπολογισμούς του Μαθηματικού για να ορίσεις πόσες κινήσεις πρέπει να κάνει ο Agent. Χρησιμοποίησε το `agent.move()` για να μεταφέρεις τον Agent στη σεληνιακή μονάδα και να τον προσγειώσεις σε αυτή.\n",
                                     "\n",
                                     "Η συνάρτηση `agent.move()` δέχεται μία παράμετρο, την κατεύθυνση (direction).\n",
                                     "\n",
                                     "Οι έγκυρες κατευθύνσεις είναι: \n",
                                     "- μπροστά\n",
                                     "- πίσω\n",
                                     "- αριστερά\n",
                                     "- δεξιά\n",
                                     "- πάνω\n",
                                     "- κάτω\n",
                                     "\n",
                                     "Η συνάρτηση `agent.turn()` δέχεται μία παράμετρο, τη στροφή/κατεύθυνση (turn_direction).\n",
                                     "\n",
                                     "Οι έγκυρες κατευθύνσεις είναι: \n",
                                     "- αριστερά\n",
                                     "- δεξιά"
                                 ]
                  },
                  {
                      "cell_type":  "code",
                      "execution_count":  null,
                      "metadata":  {
                                       "minecraft":  {
                                                         "baseCodeCellName":  "Example",
                                                         "closeCodeBuilderOnRun":  true,
                                                         "readonly":  true
                                                     }
                                   },
                      "outputs":  [

                                  ],
                      "source":  [
                                     "# μετακίνησε τον Agent μπροστά κατά 5\n",
                                     "# έπειτα στρίψε δεξιά\n",
                                     "agent.move(\"forward\")\n",
                                     "agent.move(\"forward\")\n",
                                     "agent.move(\"forward\")\n",
                                     "agent.move(\"forward\")\n",
                                     "agent.move(\"forward\")\n",
                                     "agent.turn(\"right\")"
                                 ]
                  },
                  {
                      "cell_type":  "markdown",
                      "metadata":  {

                                   },
                      "source":  [
                                     "# Επαγγελματική συμβουλή:\n",
                                     "\n",
                                     "Χρησιμοποίησε έναν βρόχο `for` για να επαναλαμβάνεις μία ή περισσότερες ενέργειες πολλές φορές."
                                 ]
                  },
                  {
                      "cell_type":  "code",
                      "execution_count":  null,
                      "metadata":  {
                                       "minecraft":  {
                                                         "baseCodeCellName":  "Example",
                                                         "closeCodeBuilderOnRun":  true,
                                                         "readonly":  true
                                                     }
                                   },
                      "outputs":  [

                                  ],
                      "source":  [
                                     "# μετακίνησε τον Agent μπροστά κατά 5\n",
                                     "# έπειτα στρίψε δεξιά\n",
                                     "for i in range(5):\n",
                                     "    agent.move(\"forward\")\n",
                                     "agent.turn(\"right\")    "
                                 ]
                  },
                  {
                      "cell_type":  "markdown",
                      "metadata":  {

                                   },
                      "source":  [
                                     "# Δραστηριότητα:\n",
                                     "\n",
                                     "Ο παρακάτω κώδικας είναι η σωστή λύση για τη δραστηριότητα. Εκτέλεσε τον κώδικα για τη δεις στην πράξη.\n",
                                     "\n",
                                     "**Σημείωση: Χρησιμοποίησε το κουμπί Επαναφοράς κώδικα παρακάτω για να επαναφέρεις το πλαίσιο προγραμματισμού στη λύση**"
                                 ]
                  },
                  {
                      "cell_type":  "code",
                      "execution_count":  null,
                      "metadata":  {
                                       "minecraft":  {
                                                         "closeCodeBuilderOnRun":  true,
                                                         "default_code":  "# code here\n\nfor i in range(25):\n    agent.move(\"forward\")\nagent.turn(\"right\")\n\nfor i in range(17):\n    agent.move(\"forward\")\nagent.turn(\"right\")\n\nfor i in range(3):\n    agent.move(\"down\")\n",
                                                         "resetWorldCommand":  "function act/3/reset"
                                                     }
                                   },
                      "outputs":  [

                                  ],
                      "source":  [
                                     "# κώδικας εδώ\n",
                                     "\n",
                                     "for i in range(25):\n",
                                     "    agent.move(\"forward\")\n",
                                     "agent.turn(\"right\")\n",
                                     "\n",
                                     "for i in range(17):\n",
                                     "    agent.move(\"forward\")\n",
                                     "agent.turn(\"right\")\n",
                                     "\n",
                                     "for i in range(3):\n",
                                     "    agent.move(\"down\")\n"
                                 ]
                  }
              ],
    "metadata":  {
                     "celltoolbar":  "Edit Metadata",
                     "kernelspec":  {
                                        "display_name":  "Python 3",
                                        "language":  "python",
                                        "name":  "python3"
                                    },
                     "language_info":  {
                                           "codemirror_mode":  {
                                                                   "name":  "ipython",
                                                                   "version":  3
                                                               },
                                           "file_extension":  ".py",
                                           "mimetype":  "text/x-python",
                                           "name":  "python",
                                           "nbconvert_exporter":  "python",
                                           "pygments_lexer":  "ipython3",
                                           "version":  "3.8.8"
                                       },
                     "minecraft":  {
                                       "description":  "TimeCraft",
                                       "page_id":  "1.1",
                                       "page_name":  "Αποστολή στο Φεγγάρι",
                                       "style":  "minecraft.css"
                                   }
                 },
    "nbformat":  4,
    "nbformat_minor":  4
}
