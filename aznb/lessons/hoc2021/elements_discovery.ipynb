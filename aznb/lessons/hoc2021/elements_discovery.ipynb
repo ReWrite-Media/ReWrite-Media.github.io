{
 "cells": [
  {
   "cell_type": "markdown",
   "metadata": {},
   "source": [
    "# Elements of Discovery\n",
    "\n",
    "While doing research, the Chemist started a test and left for lunch. While she was gone, someone snuck into her laboratory and hid some of her research inside the bookcases. Use the `agent.move()` function to move the Agent toward the green glowing bookcases, and then use `agent.destroy()` to break them.\n",
    "\n",
    "The `agent.move()` function takes one parameter, direction.\n",
    "\n",
    "Valid directions are: \n",
    "- forward\n",
    "- back\n",
    "- left\n",
    "- right\n",
    "- up\n",
    "- down\n",
    "\n",
    "The `agent.destroy()` function takes one parameter, direction.\n",
    "\n",
    "Valid directions are: \n",
    "- forward\n",
    "- back\n",
    "- left\n",
    "- right\n",
    "- up\n",
    "- down\n",
    "\n",
    "The `agent.turn()` function takes one parameter, turn_direction.\n",
    "\n",
    "Valid directions are: \n",
    "- left\n",
    "- right\n",
    "\n",
    "Example:"
   ]
  },
  {
   "cell_type": "code",
   "execution_count": null,
   "metadata": {
    "minecraft": {
     "closeCodeBuilderOnRun": true,
     "readonly": true
    }
   },
   "outputs": [],
   "source": [
    "# move the Agent up 2 blocks, forward 2 blocks\n",
    "# and then break the block to the left\n",
    "\n",
    "agent.move(\"up\")\n",
    "agent.move(\"up\")\n",
    "agent.move(\"forward\")\n",
    "agent.move(\"forward\")\n",
    "agent.destroy(\"left\")"
   ]
  },
  {
   "cell_type": "markdown",
   "metadata": {},
   "source": [
    "# Pro Tip:\n",
    "\n",
    "Use a `for` loop to do one or more actions multiple times.\n",
    "\n",
    "Example:"
   ]
  },
  {
   "cell_type": "code",
   "execution_count": null,
   "metadata": {
    "minecraft": {
     "closeCodeBuilderOnRun": true,
     "readonly": true
    }
   },
   "outputs": [],
   "source": [
    "# move the Agent up 2 blocks, forward 2 blocks\n",
    "# and then break the block to the left\n",
    "\n",
    "for i in range (2):\n",
    "    agent.move(\"up\")\n",
    "for i in range (2):\n",
    "    agent.move(\"forward\")\n",
    "agent.destroy(\"left\")"
   ]
  },
  {
   "cell_type": "markdown",
   "metadata": {},
   "source": [
    "# Activity\n",
    "\n",
    "Move the Agent to each bookcase that's glowing green and then destroy it.\n",
    "\n",
    "**Note: You can reset the activity by using your T.A.L.K. device or by using the Reset World button.**"
   ]
  },
  {
   "cell_type": "code",
   "execution_count": null,
   "metadata": {
    "minecraft": {
     "closeCodeBuilderOnRun": true,
     "default_code": "# code here\n\n\n",
     "resetWorldCommand": "say NEEDS RESET CODE"
    }
   },
   "outputs": [],
   "source": [
    "# code here\n",
    "\n",
    "\n"
   ]
  }
 ],
 "metadata": {
  "celltoolbar": "Edit Metadata",
  "kernelspec": {
   "display_name": "Python 3",
   "language": "python",
   "name": "python3"
  },
  "language_info": {
   "codemirror_mode": {
    "name": "ipython",
    "version": 3
   },
   "file_extension": ".py",
   "mimetype": "text/x-python",
   "name": "python",
   "nbconvert_exporter": "python",
   "pygments_lexer": "ipython3",
   "version": "3.8.8"
  }
 },
 "nbformat": 4,
 "nbformat_minor": 4
}
