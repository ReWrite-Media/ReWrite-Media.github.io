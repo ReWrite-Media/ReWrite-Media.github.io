﻿{
    "cells":  [
                  {
                      "cell_type":  "markdown",
                      "metadata":  {

                                   },
                      "source":  [
                                     "# Великий китайський мур (рішення)\n",
                                     "\n",
                                     "Панди їдять бамбукове риштування, не даючи інженеру добудувати мур. Відвадьте панд від муру. За допомогою функції `agent.give()` дайте своєму Agent в’язку `BAMBOO`, потім за допомогою функції `agent.move()` розташуйте Agent у потрібному місці, а після цього використайте `agent.place()` і розмістіть `BAMBOO`\n",
                                     "\n",
                                     "Функція `agent.give()` має три параметри.  \n",
                                     "\n",
                                     "- item (*string*): предмет, який ви хочете дати Agent.\n",
                                     "- count (*integer*): скільки предметів отримає Agent.\n",
                                     "- slot (*integer*): cлот інвентарю, де Agent отримує предмет.\n",
                                     "\n",
                                     "Функція `agent.move()` має один параметр \"direction\" (напрямок).\n",
                                     "\n",
                                     "Допустимі напрямки: \n",
                                     "- вперед\n",
                                     "- назад\n",
                                     "- ліворуч\n",
                                     "- праворуч\n",
                                     "- угору\n",
                                     "- униз\n",
                                     "\n",
                                     "Функція `agent.place()` має два параметри.  \n",
                                     "\n",
                                     "- slot number (*integer*): який слот інвентарю має використовувати Agent.\n",
                                     "- direction (*string*): напрямок, у якому Agent має поставити предмет.\n",
                                     "    - Допустимі напрямки: \n",
                                     "        - вперед\n",
                                     "        - назад\n",
                                     "        - ліворуч\n",
                                     "        - праворуч\n",
                                     "        - угору\n",
                                     "        - униз"
                                 ]
                  },
                  {
                      "cell_type":  "code",
                      "execution_count":  null,
                      "metadata":  {
                                       "minecraft":  {
                                                         "baseCodeCellName":  "Example",
                                                         "closeCodeBuilderOnRun":  true,
                                                         "readonly":  true
                                                     }
                                   },
                      "outputs":  [

                                  ],
                      "source":  [
                                     "# дати Agent в’язку бамбуку\n",
                                     "# покласти бамбук під Agent\n",
                                     "# а потім перемістити Agent уперед\n",
                                     "# зробити це 2 рази\n",
                                     "\n",
                                     "agent.give(\"BAMBOO\", 64, 1)\n",
                                     "agent.place(1,\"down\")\n",
                                     "agent.move(\"forward\")\n",
                                     "agent.place(1,\"down\")"
                                 ]
                  },
                  {
                      "cell_type":  "markdown",
                      "metadata":  {

                                   },
                      "source":  [
                                     "# Професійна порада:\n",
                                     "\n",
                                     "Використовуйте цикл `for`, щоб виконувати одну або групу дій кілька разів."
                                 ]
                  },
                  {
                      "cell_type":  "code",
                      "execution_count":  null,
                      "metadata":  {
                                       "minecraft":  {
                                                         "baseCodeCellName":  "Example",
                                                         "closeCodeBuilderOnRun":  true,
                                                         "readonly":  true
                                                     }
                                   },
                      "outputs":  [

                                  ],
                      "source":  [
                                     "# дати Agent в’язку бамбуку\n",
                                     "# покласти бамбук під Agent\n",
                                     "# а потім перемістити Agent уперед\n",
                                     "# зробити це 2 рази\n",
                                     "\n",
                                     "agent.give(\"BAMBOO\", 64, 1)\n",
                                     "for i in range(2):\n",
                                     "    agent.place(1,\"down\")\n",
                                     "    agent.move(\"forward\")"
                                 ]
                  },
                  {
                      "cell_type":  "markdown",
                      "metadata":  {

                                   },
                      "source":  [
                                     "# Задача:\n",
                                     "\n",
                                     "Наведений нижче код є правильним рішенням задачі. Запустіть програму, щоб побачити її в дії.\n",
                                     "\n",
                                     "**Увага! Натисніть кнопку \"Скинути програму\" нижче, щоб замінити код у полі програмування на код рішення**"
                                 ]
                  },
                  {
                      "cell_type":  "code",
                      "execution_count":  null,
                      "metadata":  {
                                       "minecraft":  {
                                                         "closeCodeBuilderOnRun":  true,
                                                         "default_code":  "# code here\n\nagent.give(\"BAMBOO\", 64, 1)\nfor i in range(5):\n    agent.place(1,\"down\")\n    agent.move(\"forward\")",
                                                         "resetWorldCommand":  "function act/4/reset"
                                                     }
                                   },
                      "outputs":  [

                                  ],
                      "source":  [
                                     "# тут код\n",
                                     "\n",
                                     "agent.give(\"BAMBOO\", 64, 1)\n",
                                     "for i in range(5):\n",
                                     "    agent.place(1,\"down\")\n",
                                     "    agent.move(\"forward\")"
                                 ]
                  }
              ],
    "metadata":  {
                     "celltoolbar":  "Edit Metadata",
                     "kernelspec":  {
                                        "display_name":  "Python 3",
                                        "language":  "python",
                                        "name":  "python3"
                                    },
                     "language_info":  {
                                           "codemirror_mode":  {
                                                                   "name":  "ipython",
                                                                   "version":  3
                                                               },
                                           "file_extension":  ".py",
                                           "mimetype":  "text/x-python",
                                           "name":  "python",
                                           "nbconvert_exporter":  "python",
                                           "pygments_lexer":  "ipython3",
                                           "version":  "3.8.8"
                                       },
                     "minecraft":  {
                                       "description":  "TimeCraft",
                                       "page_id":  "1.1",
                                       "page_name":  "Великий китайський мур",
                                       "style":  "minecraft.css"
                                   }
                 },
    "nbformat":  4,
    "nbformat_minor":  4
}
