﻿{
    "cells":  [
                  {
                      "cell_type":  "markdown",
                      "metadata":  {

                                   },
                      "source":  [
                                     "# Тестова зона\n",
                                     "\n",
                                     "Вітаємо! Це ваше перше завдання з програмування. Перевірмо вашого Agent виправлення часу й подивімося, як він виконує вашу програму. Використовуйте функцію `agent.move()`, щоб перемістити Agent на 3 блоки вперед.\n",
                                     "\n",
                                     "Натисніть \"ЗАПУСТИТИ\" для виконання коду.\n",
                                     "\n",
                                     "Функція `agent.move()` має один параметр \"direction\" (напрямок).\n",
                                     "\n",
                                     "Допустимі напрямки: \n",
                                     "- вперед\n",
                                     "- назад\n",
                                     "- ліворуч\n",
                                     "- праворуч\n",
                                     "- угору\n",
                                     "- униз\n",
                                     "\n",
                                     "Приклад:"
                                 ]
                  },
                  {
                      "cell_type":  "code",
                      "execution_count":  null,
                      "metadata":  {
                                       "minecraft":  {
                                                         "baseCodeCellName":  "Example",
                                                         "closeCodeBuilderOnRun":  true,
                                                         "readonly":  true
                                                     }
                                   },
                      "outputs":  [

                                  ],
                      "source":  [
                                     "# перемістити Agent угору на 2 блоки та назад на 1 блок\n",
                                     "agent.move(\"forward\")\n",
                                     "agent.move(\"forward\")\n",
                                     "agent.move(\"back\")"
                                 ]
                  },
                  {
                      "cell_type":  "markdown",
                      "metadata":  {

                                   },
                      "source":  [
                                     "# Професійна порада:\n",
                                     "\n",
                                     "Використовуйте цикл `for`, щоб виконувати одну або групу дій кілька разів.\n",
                                     "\n",
                                     "Приклад:"
                                 ]
                  },
                  {
                      "cell_type":  "code",
                      "execution_count":  null,
                      "metadata":  {
                                       "minecraft":  {
                                                         "baseCodeCellName":  "Example",
                                                         "closeCodeBuilderOnRun":  true,
                                                         "readonly":  true
                                                     }
                                   },
                      "outputs":  [

                                  ],
                      "source":  [
                                     "# перемістити Agent угору на 2 блоки та назад на 1 блок\n",
                                     "for i in range(2):\n",
                                     "    agent.move(\"forward\")\n",
                                     "agent.move(\"back\")    "
                                 ]
                  },
                  {
                      "cell_type":  "markdown",
                      "metadata":  {

                                   },
                      "source":  [
                                     "# Задача\n",
                                     "\n",
                                     "Перемістіть Agent уперед на 3 блоки в потрібне положення.\n",
                                     "\n",
                                     "**Увага! Ви можете почати задачу спочатку, використавши пристрій T.A.L.K. або натиснувши кнопку \"Скинути задачу\".**"
                                 ]
                  },
                  {
                      "cell_type":  "code",
                      "execution_count":  null,
                      "metadata":  {
                                       "minecraft":  {
                                                         "closeCodeBuilderOnRun":  true,
                                                         "default_code":  "# code here\n\n\n",
                                                         "resetWorldCommand":  "function act/0/reset"
                                                     }
                                   },
                      "outputs":  [

                                  ],
                      "source":  [
                                     "# тут код\n",
                                     "\n",
                                     "\n"
                                 ]
                  }
              ],
    "metadata":  {
                     "celltoolbar":  "Edit Metadata",
                     "kernelspec":  {
                                        "display_name":  "Python 3",
                                        "language":  "python",
                                        "name":  "python3"
                                    },
                     "language_info":  {
                                           "codemirror_mode":  {
                                                                   "name":  "ipython",
                                                                   "version":  3
                                                               },
                                           "file_extension":  ".py",
                                           "mimetype":  "text/x-python",
                                           "name":  "python",
                                           "nbconvert_exporter":  "python",
                                           "pygments_lexer":  "ipython3",
                                           "version":  "3.8.8"
                                       },
                     "minecraft":  {
                                       "description":  "TimeCraft",
                                       "page_id":  "1.1",
                                       "page_name":  "Тестова зона",
                                       "style":  "minecraft.css"
                                   }
                 },
    "nbformat":  4,
    "nbformat_minor":  4
}
