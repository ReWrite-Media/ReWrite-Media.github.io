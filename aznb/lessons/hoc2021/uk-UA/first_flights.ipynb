﻿{
    "cells":  [
                  {
                      "cell_type":  "markdown",
                      "metadata":  {

                                   },
                      "source":  [
                                     "# Перший політ\n",
                                     "\n",
                                     "Один із перших літаків от-от має злітати, але злітна смуга вкрита вибоїнами! Запрограмуйте\n",
                                     "свого Agent на заповнення вибоїн. За допомогою функції `agent.give()` надайте своєму Agent стос блоків `DIRT`, використайте `agent.move()` і розташуйте Agent над дірочками, а потім застосуйте функцію `agent.place()` для заповнення дірочок.\n",
                                     "\n",
                                     "Функція `agent.give()` має три параметри.  \n",
                                     "\n",
                                     "- item (*string*): предмет, який ви хочете дати Agent.\n",
                                     "- count (*integer*): скільки предметів отримає Agent.\n",
                                     "- slot (*integer*): cлот інвентарю, де Agent отримує предмет.\n",
                                     "\n",
                                     "Функція `agent.move()` має один параметр (напрямок).\n",
                                     "\n",
                                     "Допустимі напрямки: \n",
                                     "- forward\n",
                                     "- back\n",
                                     "- left\n",
                                     "- right\n",
                                     "- up\n",
                                     "- униз\n",
                                     "\n",
                                     "Функція `agent.place()` має два параметри.  \n",
                                     "\n",
                                     "- slot number (*integer*): який слот інвентарю має використовувати Agent.\n",
                                     "- direction (*string*): напрямок, у якому Agent має поставити предмет.\n",
                                     "    - Допустимі напрямки: \n",
                                     "        - вперед\n",
                                     "        - назад\n",
                                     "        - ліворуч\n",
                                     "        - праворуч\n",
                                     "        - угору\n",
                                     "        - униз\n",
                                     "\n",
                                     "Функція `agent.turn()` має один параметр \"turn_direction\" (напрямок повороту).\n",
                                     "\n",
                                     "Допустимі напрямки: \n",
                                     "- ліворуч\n",
                                     "- праворуч"
                                 ]
                  },
                  {
                      "cell_type":  "code",
                      "execution_count":  null,
                      "metadata":  {
                                       "minecraft":  {
                                                         "baseCodeCellName":  "Example",
                                                         "closeCodeBuilderOnRun":  true,
                                                         "readonly":  true
                                                     }
                                   },
                      "outputs":  [

                                  ],
                      "source":  [
                                     "# дати Agent стос блоків землі\n",
                                     "# перемістити на 1 і покласти\n",
                                     "# зробити це 2 рази\n",
                                     "\n",
                                     "agent.give(\"DIRT\", 64, 1)\n",
                                     "agent.move(\"forward\")\n",
                                     "agent.place(\"down\", 1)\n",
                                     "agent.move(\"forward\")\n",
                                     "agent.place(\"down\", 1)\n",
                                     "\n"
                                 ]
                  },
                  {
                      "cell_type":  "markdown",
                      "metadata":  {

                                   },
                      "source":  [
                                     "# Професійна порада:\n",
                                     "\n",
                                     "Використовуйте цикл `for`, щоб виконувати одну або групу дій кілька разів."
                                 ]
                  },
                  {
                      "cell_type":  "code",
                      "execution_count":  null,
                      "metadata":  {
                                       "minecraft":  {
                                                         "baseCodeCellName":  "Example",
                                                         "closeCodeBuilderOnRun":  true,
                                                         "readonly":  true
                                                     }
                                   },
                      "outputs":  [

                                  ],
                      "source":  [
                                     "# дати Agent стос блоків землі\n",
                                     "# перемістити на 1 і покласти\n",
                                     "# зробити це 2 рази\n",
                                     "\n",
                                     "agent.give(\"DIRT\", 64, 1)\n",
                                     "for i in range(2):\n",
                                     "    agent.move(\"forward\")\n",
                                     "    agent.place(\"down\", 1)\n"
                                 ]
                  },
                  {
                      "cell_type":  "markdown",
                      "metadata":  {

                                   },
                      "source":  [
                                     "# Задача\n",
                                     "\n",
                                     "Заповніть вибоїни на злітній смузі за допомогою `DIRT`, щоб дати змогу здійснитися першому польоту.\n",
                                     "\n",
                                     "**Увага! Ви можете почати задачу спочатку, використавши пристрій T.A.L.K. або натиснувши кнопку \"Скинути задачу\".**"
                                 ]
                  },
                  {
                      "cell_type":  "code",
                      "execution_count":  null,
                      "metadata":  {
                                       "minecraft":  {
                                                         "closeCodeBuilderOnRun":  true,
                                                         "default_code":  "# code here\n\n\n",
                                                         "resetWorldCommand":  "function act/6/reset"
                                                     }
                                   },
                      "outputs":  [

                                  ],
                      "source":  [
                                     "# тут код\n",
                                     "\n",
                                     "\n"
                                 ]
                  }
              ],
    "metadata":  {
                     "celltoolbar":  "Edit Metadata",
                     "kernelspec":  {
                                        "display_name":  "Python 3",
                                        "language":  "python",
                                        "name":  "python3"
                                    },
                     "language_info":  {
                                           "codemirror_mode":  {
                                                                   "name":  "ipython",
                                                                   "version":  3
                                                               },
                                           "file_extension":  ".py",
                                           "mimetype":  "text/x-python",
                                           "name":  "python",
                                           "nbconvert_exporter":  "python",
                                           "pygments_lexer":  "ipython3",
                                           "version":  "3.8.8"
                                       },
                     "minecraft":  {
                                       "description":  "TimeCraft",
                                       "page_id":  "1.1",
                                       "page_name":  "Перший політ",
                                       "style":  "minecraft.css"
                                   }
                 },
    "nbformat":  4,
    "nbformat_minor":  4
}
