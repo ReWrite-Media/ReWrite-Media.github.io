﻿{
    "cells":  [
                  {
                      "cell_type":  "markdown",
                      "source":  [
                                     "# Мона Ліза\n",
                                     "\n",
                                     "З обличчя Мони Лізи зникла її знаменита посмішка, і тепер вона насуплена. Це все тому, що її сад знищено. За допомогою функції `agent.give()` дайте Agent стос `WHITE GLAZED TERRACOTTA`, а потім використайте `agent.move()`, щоб розмістити Agent у потрібному місці, і `agent.place`, щоб покласти `WHITE GLAZED TERRACOTTA`.\n",
                                     "\n",
                                     "Функція `agent.give()` має три параметри.  \n",
                                     "\n",
                                     "- item (*string*): предмет, який ви хочете дати Agent.\n",
                                     "- count (*integer*): скільки предметів отримає Agent.\n",
                                     "- slot (*integer*): cлот інвентарю, де Agent отримує предмет.\n",
                                     "\n",
                                     "Функція `agent.move()` має один параметр \"direction\" (напрямок).\n",
                                     "\n",
                                     "Допустимі напрямки: \n",
                                     "- вперед\n",
                                     "- назад\n",
                                     "- ліворуч\n",
                                     "- праворуч\n",
                                     "- угору\n",
                                     "- униз\n",
                                     "\n",
                                     "Функція `agent.place()` має два параметри.  \n",
                                     "\n",
                                     "- slot number (*integer*): який слот інвентарю має використовувати Agent.\n",
                                     "- direction (*string*): напрямок, у якому Agent має поставити предмет.\n",
                                     "    - Допустимі напрямки: \n",
                                     "        - вперед\n",
                                     "        - назад\n",
                                     "        - ліворуч\n",
                                     "        - праворуч\n",
                                     "        - угору\n",
                                     "        - униз"
                                 ],
                      "metadata":  {

                                   }
                  },
                  {
                      "cell_type":  "code",
                      "execution_count":  null,
                      "source":  [
                                     "# дати Agent стос білої глазурованої кераміки\r\n",
                                     "# потім переміститися вперед і покласти блок під Agent\r\n",
                                     "# зробити це 5 разів\r\n",
                                     "\r\n",
                                     "agent.give(\"WHITE GLAZED TERRACOTTA\", 64, 1)\r\n",
                                     "agent.move(\"forward\")\r\n",
                                     "agent.place(1,\"down\")\r\n",
                                     "agent.move(\"forward\")\r\n",
                                     "agent.place(1,\"down\")\r\n",
                                     "agent.move(\"forward\")\r\n",
                                     "agent.place(1,\"down\")\r\n",
                                     "agent.move(\"forward\")\r\n",
                                     "agent.place(1,\"down\")\r\n",
                                     "agent.move(\"forward\")\r\n",
                                     "agent.place(1,\"down\")"
                                 ],
                      "outputs":  [

                                  ],
                      "metadata":  {
                                       "minecraft":  {
                                                         "baseCodeCellName":  "Example",
                                                         "closeCodeBuilderOnRun":  true,
                                                         "readonly":  true
                                                     }
                                   }
                  },
                  {
                      "cell_type":  "markdown",
                      "source":  [
                                     "# Професійна порада:\n",
                                     "\n",
                                     "Використовуйте цикл `for`, щоб виконувати одну або групу дій кілька разів."
                                 ],
                      "metadata":  {

                                   }
                  },
                  {
                      "cell_type":  "code",
                      "execution_count":  null,
                      "source":  [
                                     "# дати Agent стос білої глазурованої кераміки\r\n",
                                     "# потім переміститися вперед і покласти блок під Agent\r\n",
                                     "# зробити це 5 разів\r\n",
                                     "\r\n",
                                     "agent.give(\"WHITE GLAZED TERRACOTTA\", 64, 1)\r\n",
                                     "for i in range(5):\r\n",
                                     "    agent.move(\"forward\")\r\n",
                                     "    agent.place(1,\"down\")"
                                 ],
                      "outputs":  [

                                  ],
                      "metadata":  {
                                       "minecraft":  {
                                                         "baseCodeCellName":  "Example",
                                                         "closeCodeBuilderOnRun":  true,
                                                         "readonly":  true
                                                     }
                                   }
                  },
                  {
                      "cell_type":  "markdown",
                      "source":  [
                                     "# Задача\r\n",
                                     "\r\n",
                                     "Завершіть квадратний контур `WHITE GLAZED TERRACOTTA`, перемістивши Agent і поклавши блок під ним.\r\n",
                                     "\r\n",
                                     "**Увага! Ви можете почати задачу спочатку, використавши пристрій T.A.L.K. або натиснувши кнопку \"Скинути задачу\".**"
                                 ],
                      "metadata":  {

                                   }
                  },
                  {
                      "cell_type":  "code",
                      "execution_count":  null,
                      "source":  [
                                     "# тут код\r\n",
                                     "\r\n",
                                     "\r\n"
                                 ],
                      "outputs":  [

                                  ],
                      "metadata":  {
                                       "minecraft":  {
                                                         "closeCodeBuilderOnRun":  true,
                                                         "default_code":  "# code here\n\n\n",
                                                         "resetWorldCommand":  "function act/5/reset"
                                                     }
                                   }
                  }
              ],
    "metadata":  {
                     "celltoolbar":  "Edit Metadata",
                     "kernelspec":  {
                                        "display_name":  "Python 3",
                                        "language":  "python",
                                        "name":  "python3"
                                    },
                     "language_info":  {
                                           "codemirror_mode":  {
                                                                   "name":  "ipython",
                                                                   "version":  3
                                                               },
                                           "file_extension":  ".py",
                                           "mimetype":  "text/x-python",
                                           "name":  "python",
                                           "nbconvert_exporter":  "python",
                                           "pygments_lexer":  "ipython3",
                                           "version":  "3.8.8"
                                       },
                     "minecraft":  {
                                       "description":  "TimeCraft",
                                       "page_id":  "1.1",
                                       "page_name":  "Мона Ліза",
                                       "style":  "minecraft.css"
                                   }
                 },
    "nbformat":  4,
    "nbformat_minor":  4
}
