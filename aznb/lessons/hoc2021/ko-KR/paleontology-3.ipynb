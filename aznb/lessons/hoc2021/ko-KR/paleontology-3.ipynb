﻿{
    "cells":  [
                  {
                      "cell_type":  "markdown",
                      "metadata":  {

                                   },
                      "source":  [
                                     "# 화석 퍼즐(정답)\n",
                                     "\n",
                                     "누군가 공룡의 뼈를 훔쳐가고 그 자리에 주황색 블록을 넣어놨어요. Agent의 코드를 작성해 주황색 블록 4개를 모두 부순 다음 `BONEBLOCK` 블록을 놓으세요. `agent.give()` 함수로 Agent에게 `BONEBLOCK` 묶음을 주고 `agent.move()`로 Agent를 주황색 블록 위로 이동시킨 뒤, `agent.destroy()`로 주황색 블록을 부수고 `agent.place()`로 `BONEBLOCK`을 놓으세요.\n",
                                     "\n",
                                     "`agent.give()` 함수는 세 개의 매개 변수를 취합니다.  \n",
                                     "\n",
                                     "- item (*string*): Agent에게 줄 아이템입니다.\n",
                                     "- count (*integer*): Agent가 받게 될 아이템 수입니다.\n",
                                     "- slot (*integer*): Agent가 아이템을 받을 인벤토리 슬롯 위치입니다.\n",
                                     "\n",
                                     "`agent.move()` 함수는 하나의 매개 변수, direction을 취합니다.\n",
                                     "\n",
                                     "유효한 방향: \n",
                                     "- 앞쪽\n",
                                     "- 뒤쪽\n",
                                     "- 왼쪽\n",
                                     "- 오른쪽\n",
                                     "- 위쪽\n",
                                     "- 아래쪽\n",
                                     "\n",
                                     "`agent.destroy()` 함수는 하나의 매개 변수, direction을 취합니다.\n",
                                     "\n",
                                     "유효한 방향: \n",
                                     "- 앞쪽\n",
                                     "- 뒤쪽\n",
                                     "- 왼쪽\n",
                                     "- 오른쪽\n",
                                     "- 위쪽\n",
                                     "- 아래쪽\n",
                                     "\n",
                                     "`agent.place()` 함수는 두 개의 매개 변수를 취합니다.  \n",
                                     "\n",
                                     "- slot number (*integer*): Agent가 사용할 인벤토리 슬롯입니다.\n",
                                     "- direction (*string*): Agent가 아이템을 배치할 방향입니다.\n",
                                     "    - 유효한 방향: \n",
                                     "        - 앞쪽\n",
                                     "        - 뒤쪽\n",
                                     "        - 왼쪽\n",
                                     "        - 오른쪽\n",
                                     "        - 위쪽\n",
                                     "        - 아래쪽"
                                 ]
                  },
                  {
                      "cell_type":  "code",
                      "execution_count":  null,
                      "metadata":  {
                                       "minecraft":  {
                                                         "baseCodeCellName":  "Example",
                                                         "closeCodeBuilderOnRun":  true,
                                                         "readonly":  true
                                                     }
                                   },
                      "outputs":  [

                                  ],
                      "source":  [
                                     "# Agent에게 뼈 블록 묶음을 주세요\n",
                                     "# 그리고 앞으로 2 움직여 아래를 부수세요\n",
                                     "# 그리고 뼈 블록을 놓으세요\n",
                                     "# 2번 반복하세요.\n",
                                     "\n",
                                     "agent.give(\"BONEBLOCK\", 64, 1)\n",
                                     "agent.move(\"forward\")\n",
                                     "agent.move(\"forward\")\n",
                                     "agent.destroy(\"down\")\n",
                                     "agent.place(1,\"down\")\n",
                                     "agent.move(\"forward\")\n",
                                     "agent.move(\"forward\")\n",
                                     "agent.destroy(\"down\")\n",
                                     "agent.place(1,\"down\")"
                                 ]
                  },
                  {
                      "cell_type":  "markdown",
                      "metadata":  {

                                   },
                      "source":  [
                                     "# 프로 팁:\n",
                                     "\n",
                                     "`for` 루프를 사용하면 하나 이상의 행동을 여러 번 반복할 수 있어요."
                                 ]
                  },
                  {
                      "cell_type":  "code",
                      "execution_count":  null,
                      "metadata":  {
                                       "minecraft":  {
                                                         "baseCodeCellName":  "Example",
                                                         "closeCodeBuilderOnRun":  true,
                                                         "readonly":  true
                                                     }
                                   },
                      "outputs":  [

                                  ],
                      "source":  [
                                     "# Agent에게 뼈 블록 묶음을 주세요\n",
                                     "# 그리고 앞으로 2 움직여 아래를 부수세요\n",
                                     "# 그리고 뼈 블록을 놓으세요\n",
                                     "# 2번 반복하세요.\n",
                                     "\n",
                                     "agent.give(\"BONEBLOCK\", 64, 1)\n",
                                     "for i in range(2):\n",
                                     "    agent.move(\"forward\")\n",
                                     "    agent.move(\"forward\")\n",
                                     "    agent.destroy(\"down\")\n",
                                     "    agent.place(1,\"down\")"
                                 ]
                  },
                  {
                      "cell_type":  "markdown",
                      "metadata":  {

                                   },
                      "source":  [
                                     "# 활동:\n",
                                     "\n",
                                     "아래에 있는 코드는 이번 활동의 정답이에요. 코드를 실행해서 직접 확인하세요.\n",
                                     "\n",
                                     "**참고: 아래에 있는 코드 재설정 버튼으로 코드 상자를 재설정해 정답으로 돌아갈 수 있어요**"
                                 ]
                  },
                  {
                      "cell_type":  "code",
                      "execution_count":  null,
                      "metadata":  {
                                       "minecraft":  {
                                                         "closeCodeBuilderOnRun":  true,
                                                         "default_code":  "# code here\n\nagent.give(\"BONEBLOCK\", 64, 1)\n\nfor i in range(4):\n    agent.move(\"forward\")\n    agent.move(\"forward\")\n    agent.destroy(\"down\")\n    agent.place(1,\"down\")",
                                                         "resetWorldCommand":  "function act/9/reset"
                                                     }
                                   },
                      "outputs":  [

                                  ],
                      "source":  [
                                     "# 코드를 여기에 넣으세요\n",
                                     "\n",
                                     "agent.give(\"BONEBLOCK\", 64, 1)\n",
                                     "\n",
                                     "for i in range(4):\n",
                                     "    agent.move(\"forward\")\n",
                                     "    agent.move(\"forward\")\n",
                                     "    agent.destroy(\"down\")\n",
                                     "    agent.place(1,\"down\")"
                                 ]
                  }
              ],
    "metadata":  {
                     "celltoolbar":  "Edit Metadata",
                     "kernelspec":  {
                                        "display_name":  "Python 3",
                                        "language":  "python",
                                        "name":  "python3"
                                    },
                     "language_info":  {
                                           "codemirror_mode":  {
                                                                   "name":  "ipython",
                                                                   "version":  3
                                                               },
                                           "file_extension":  ".py",
                                           "mimetype":  "text/x-python",
                                           "name":  "python",
                                           "nbconvert_exporter":  "python",
                                           "pygments_lexer":  "ipython3",
                                           "version":  "3.8.8"
                                       },
                     "minecraft":  {
                                       "description":  "TimeCraft",
                                       "page_id":  "1.1",
                                       "page_name":  "화석 퍼즐",
                                       "style":  "minecraft.css"
                                   }
                 },
    "nbformat":  4,
    "nbformat_minor":  4
}
