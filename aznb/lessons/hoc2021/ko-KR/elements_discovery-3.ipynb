﻿{
    "cells":  [
                  {
                      "cell_type":  "markdown",
                      "metadata":  {

                                   },
                      "source":  [
                                     "# 발견의 원소(정답)\n",
                                     "\n",
                                     "화학자가 방을 나가자 누군가가 연구 자료를 책장에 숨겼어요.\n",
                                     "Agent가 녹색으로 빛나는 책장을 부숴 발견한 걸 공유할 수 있게 하세요. `agent.move()` 함수를 이용해 Agent를 녹색으로 빛나는 책장으로 이동시키고, `agent.destroy()`를 이용해 부수세요.\n",
                                     "\n",
                                     "`agent.move()` 함수는 하나의 매개 변수, direction을 취합니다.\n",
                                     "\n",
                                     "유효한 방향: \n",
                                     "- 앞쪽\n",
                                     "- 뒤쪽\n",
                                     "- 왼쪽\n",
                                     "- 오른쪽\n",
                                     "- 위쪽\n",
                                     "- 아래쪽\n",
                                     "\n",
                                     "`agent.destroy()` 함수는 하나의 매개 변수, direction을 취합니다.\n",
                                     "\n",
                                     "유효한 방향: \n",
                                     "- 앞쪽\n",
                                     "- 뒤쪽\n",
                                     "- 왼쪽\n",
                                     "- 오른쪽\n",
                                     "- 위쪽\n",
                                     "- 아래쪽\n",
                                     "\n",
                                     "`agent.turn()` 함수는 하나의 매개 변수, turn_direction을 취합니다.\n",
                                     "\n",
                                     "유효한 방향: \n",
                                     "- 왼쪽\n",
                                     "- 오른쪽"
                                 ]
                  },
                  {
                      "cell_type":  "code",
                      "execution_count":  null,
                      "metadata":  {
                                       "minecraft":  {
                                                         "baseCodeCellName":  "Example",
                                                         "closeCodeBuilderOnRun":  true,
                                                         "readonly":  true
                                                     }
                                   },
                      "outputs":  [

                                  ],
                      "source":  [
                                     "# Agent를 위로 2블록, 앞으로 2블록 이동시키세요\n",
                                     "# 그리고 왼쪽에 있는 블록을 부수세요\n",
                                     "\n",
                                     "agent.move(\"up\")\n",
                                     "agent.move(\"up\")\n",
                                     "agent.move(\"forward\")\n",
                                     "agent.move(\"forward\")\n",
                                     "agent.destroy(\"left\")"
                                 ]
                  },
                  {
                      "cell_type":  "markdown",
                      "metadata":  {

                                   },
                      "source":  [
                                     "# 프로 팁:\n",
                                     "\n",
                                     "`for` 루프를 사용하면 하나 이상의 행동을 여러 번 반복할 수 있어요."
                                 ]
                  },
                  {
                      "cell_type":  "code",
                      "execution_count":  null,
                      "metadata":  {
                                       "minecraft":  {
                                                         "baseCodeCellName":  "Example",
                                                         "closeCodeBuilderOnRun":  true,
                                                         "readonly":  true
                                                     }
                                   },
                      "outputs":  [

                                  ],
                      "source":  [
                                     "# Agent를 위로 2블록, 앞으로 2블록 이동시키세요\n",
                                     "# 그리고 왼쪽에 있는 블록을 부수세요\n",
                                     "\n",
                                     "agent.move(\"up\")\n",
                                     "for i in range (2):\n",
                                     "    agent.move(\"forward\")"
                                 ]
                  },
                  {
                      "cell_type":  "markdown",
                      "metadata":  {

                                   },
                      "source":  [
                                     "# 활동:\n",
                                     "\n",
                                     "아래에 있는 코드는 이번 활동의 정답이에요. 코드를 실행해서 직접 확인하세요.\n",
                                     "\n",
                                     "**참고: 아래에 있는 코드 재설정 버튼으로 코드 상자를 재설정해 정답으로 돌아갈 수 있어요**"
                                 ]
                  },
                  {
                      "cell_type":  "code",
                      "execution_count":  null,
                      "metadata":  {
                                       "minecraft":  {
                                                         "closeCodeBuilderOnRun":  true,
                                                         "default_code":  "# code here\n\nagent.move(\"up\")\n\nfor i in range (4):\n    agent.move(\"forward\")\n\nagent.destroy(\"left\")",
                                                         "resetWorldCommand":  "function act/10/reset"
                                                     }
                                   },
                      "outputs":  [

                                  ],
                      "source":  [
                                     "# 코드를 여기에 넣으세요\n",
                                     "\n",
                                     "agent.move(\"up\")\n",
                                     "\n",
                                     "for i in range (4):\n",
                                     "    agent.move(\"forward\")\n",
                                     "\n",
                                     "agent.destroy(\"left\")"
                                 ]
                  }
              ],
    "metadata":  {
                     "celltoolbar":  "Edit Metadata",
                     "kernelspec":  {
                                        "display_name":  "Python 3",
                                        "language":  "python",
                                        "name":  "python3"
                                    },
                     "language_info":  {
                                           "codemirror_mode":  {
                                                                   "name":  "ipython",
                                                                   "version":  3
                                                               },
                                           "file_extension":  ".py",
                                           "mimetype":  "text/x-python",
                                           "name":  "python",
                                           "nbconvert_exporter":  "python",
                                           "pygments_lexer":  "ipython3",
                                           "version":  "3.8.8"
                                       },
                     "minecraft":  {
                                       "description":  "TimeCraft",
                                       "page_id":  "1.1",
                                       "page_name":  "발견의 원소",
                                       "style":  "minecraft.css"
                                   }
                 },
    "nbformat":  4,
    "nbformat_minor":  4
}
