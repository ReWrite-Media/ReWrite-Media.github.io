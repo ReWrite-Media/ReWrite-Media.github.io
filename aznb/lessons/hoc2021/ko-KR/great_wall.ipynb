﻿{
    "cells":  [
                  {
                      "cell_type":  "markdown",
                      "metadata":  {

                                   },
                      "source":  [
                                     "# 만리장성\n",
                                     "\n",
                                     "판다가 대나무 발판을 먹어치우는 바람에 엔지니어가 성벽을 완성할 수 없어요. 판다를 유인해 성벽에서 떼어놓으세요. `agent.give()`로 Agent에게 `BAMBOO` 묶음을 주고, `agent.move()`로 Agent를 움직인 뒤, `agent.place()`로 `BAMBOO`를 놓으세요.\n",
                                     "\n",
                                     "`agent.give()` 함수는 세 개의 매개 변수를 취합니다.  \n",
                                     "\n",
                                     "- item (*string*): Agent에게 줄 아이템입니다.\n",
                                     "- count (*integer*): Agent가 받게 될 아이템 수입니다.\n",
                                     "- slot (*integer*): Agent가 아이템을 받을 인벤토리 슬롯 위치입니다.\n",
                                     "\n",
                                     "`agent.move()` 함수는 하나의 매개 변수, direction을 취합니다.\n",
                                     "\n",
                                     "유효한 방향: \n",
                                     "- 앞쪽\n",
                                     "- 뒤쪽\n",
                                     "- 왼쪽\n",
                                     "- 오른쪽\n",
                                     "- 위쪽\n",
                                     "- 아래쪽\n",
                                     "\n",
                                     "`agent.place()` 함수는 두 개의 매개 변수를 취합니다.  \n",
                                     "\n",
                                     "- slot number (*integer*): Agent가 사용할 인벤토리 슬롯입니다.\n",
                                     "- direction (*string*): Agent가 아이템을 배치할 방향입니다.\n",
                                     "    - 유효한 방향: \n",
                                     "        - 앞쪽\n",
                                     "        - 뒤쪽\n",
                                     "        - 왼쪽\n",
                                     "        - 오른쪽\n",
                                     "        - 위쪽\n",
                                     "        - 아래쪽"
                                 ]
                  },
                  {
                      "cell_type":  "code",
                      "execution_count":  null,
                      "metadata":  {
                                       "minecraft":  {
                                                         "baseCodeCellName":  "Example",
                                                         "closeCodeBuilderOnRun":  true,
                                                         "readonly":  true
                                                     }
                                   },
                      "outputs":  [

                                  ],
                      "source":  [
                                     "# Agent에게 대나무 묶음을 주세요\n",
                                     "# Agent 아래에 대나무를 놓으세요\n",
                                     "# Agent를 앞으로 움직이세요\n",
                                     "# 2번 반복하세요\n",
                                     "\n",
                                     "agent.give(\"BAMBOO\", 64, 1)\n",
                                     "agent.place(\"down\", 1)\n",
                                     "agent.move(\"forward\")\n",
                                     "agent.place(\"down\", 1)"
                                 ]
                  },
                  {
                      "cell_type":  "markdown",
                      "metadata":  {

                                   },
                      "source":  [
                                     "# 프로 팁:\n",
                                     "\n",
                                     "`for` 루프를 사용하면 하나 이상의 행동을 여러 번 반복할 수 있어요."
                                 ]
                  },
                  {
                      "cell_type":  "code",
                      "execution_count":  null,
                      "metadata":  {
                                       "minecraft":  {
                                                         "baseCodeCellName":  "Example",
                                                         "closeCodeBuilderOnRun":  true,
                                                         "readonly":  true
                                                     }
                                   },
                      "outputs":  [

                                  ],
                      "source":  [
                                     "# Agent에게 대나무 묶음을 주세요\n",
                                     "# Agent 아래에 대나무를 놓으세요\n",
                                     "# Agent를 앞으로 움직이세요\n",
                                     "# 2번 반복하세요\n",
                                     "\n",
                                     "agent.give(\"BAMBOO\", 64, 1)\n",
                                     "for i in range(2):\n",
                                     "    agent.place(\"down\", 1)\n",
                                     "    agent.move(\"forward\")"
                                 ]
                  },
                  {
                      "cell_type":  "markdown",
                      "metadata":  {

                                   },
                      "source":  [
                                     "# 활동\n",
                                     "\n",
                                     "`BAMBOO` 5개를 한 줄로 설치해 판다를 성벽에서 유인하고, 엔지니어가 다시 일할 수 있게 해주세요.\n",
                                     "\n",
                                     "**참고: T.A.L.K. 기기나 활동 초기화 버튼으로 이 활동을 초기화할 수 있어요.**"
                                 ]
                  },
                  {
                      "cell_type":  "code",
                      "execution_count":  null,
                      "metadata":  {
                                       "minecraft":  {
                                                         "closeCodeBuilderOnRun":  true,
                                                         "default_code":  "# code here\n\n\n",
                                                         "resetWorldCommand":  "function act/4/reset"
                                                     }
                                   },
                      "outputs":  [

                                  ],
                      "source":  [
                                     "# 코드를 여기에 넣으세요\n",
                                     "\n",
                                     "\n"
                                 ]
                  }
              ],
    "metadata":  {
                     "celltoolbar":  "Edit Metadata",
                     "kernelspec":  {
                                        "display_name":  "Python 3",
                                        "language":  "python",
                                        "name":  "python3"
                                    },
                     "language_info":  {
                                           "codemirror_mode":  {
                                                                   "name":  "ipython",
                                                                   "version":  3
                                                               },
                                           "file_extension":  ".py",
                                           "mimetype":  "text/x-python",
                                           "name":  "python",
                                           "nbconvert_exporter":  "python",
                                           "pygments_lexer":  "ipython3",
                                           "version":  "3.8.8"
                                       },
                     "minecraft":  {
                                       "description":  "TimeCraft",
                                       "page_id":  "1.1",
                                       "page_name":  "만리장성",
                                       "style":  "minecraft.css"
                                   }
                 },
    "nbformat":  4,
    "nbformat_minor":  4
}
