﻿{
    "cells":  [
                  {
                      "cell_type":  "markdown",
                      "metadata":  {

                                   },
                      "source":  [
                                     "# 최초의 비행 (정답)\n",
                                     "\n",
                                     "첫 비행기가 이륙하려는데, 활주로에 구멍이 있어요!\n",
                                     "Agent가 구멍을 메우도록 코딩하세요. `agent.give()` 함수로 Agent에게 `DIRT` 블록 묶음을 주고 `agent.move()` 함수로 Agent를 구멍 위로 이동시킨 뒤, `agent.place()`로 구멍을 메우세요.\n",
                                     "\n",
                                     "`agent.give()` 함수는 세 개의 매개 변수를 취합니다.  \n",
                                     "\n",
                                     "- item (*string*): Agent에게 줄 아이템입니다.\n",
                                     "- count (*integer*): Agent가 받게 될 아이템 수입니다.\n",
                                     "- slot (*integer*): Agent가 아이템을 받을 인벤토리 슬롯 위치입니다.\n",
                                     "\n",
                                     "\u0027agent.move()\u0027 함수는 하나의 매개 변수, 방향을 취합니다.\n",
                                     "\n",
                                     "유효한 방향은 다음과 같습니다: \n",
                                     "- 앞으로\n",
                                     "- 뒤로\n",
                                     "- 왼쪽\n",
                                     "- 오른쪽\n",
                                     "- 위로\n",
                                     "- 아래쪽\n",
                                     "\n",
                                     "`agent.place()` 함수는 두 개의 매개 변수를 취합니다.  \n",
                                     "\n",
                                     "- slot number (*integer*): Agent가 사용할 인벤토리 슬롯입니다.\n",
                                     "- direction (*string*): Agent가 아이템을 배치할 방향입니다.\n",
                                     "    - 유효한 방향: \n",
                                     "        - 앞쪽\n",
                                     "        - 뒤쪽\n",
                                     "        - 왼쪽\n",
                                     "        - 오른쪽\n",
                                     "        - 위쪽\n",
                                     "        - 아래쪽\n",
                                     "\n",
                                     "`agent.turn()` 함수는 하나의 매개 변수, turn_direction을 취합니다.\n",
                                     "\n",
                                     "유효한 방향: \n",
                                     "- 왼쪽\n",
                                     "- 오른쪽"
                                 ]
                  },
                  {
                      "cell_type":  "code",
                      "execution_count":  null,
                      "metadata":  {
                                       "minecraft":  {
                                                         "baseCodeCellName":  "Example",
                                                         "closeCodeBuilderOnRun":  true,
                                                         "readonly":  true
                                                     }
                                   },
                      "outputs":  [

                                  ],
                      "source":  [
                                     "# Agent에게 흙 블록 묶음을 주세요\n",
                                     "# 앞으로 1 움직여 밑에 놓으세요\n",
                                     "# 2번 반복하세요\n",
                                     "\n",
                                     "agent.give(\"DIRT\", 64, 1)\n",
                                     "agent.move(\"forward\")\n",
                                     "agent.place(\"down\", 1)\n",
                                     "agent.move(\"forward\")\n",
                                     "agent.place(\"down\", 1)\n",
                                     "\n"
                                 ]
                  },
                  {
                      "cell_type":  "markdown",
                      "metadata":  {

                                   },
                      "source":  [
                                     "# 프로 팁:\n",
                                     "\n",
                                     "`for` 루프를 사용하면 하나 이상의 행동을 여러 번 반복할 수 있어요."
                                 ]
                  },
                  {
                      "cell_type":  "code",
                      "execution_count":  null,
                      "metadata":  {
                                       "minecraft":  {
                                                         "baseCodeCellName":  "Example",
                                                         "closeCodeBuilderOnRun":  true,
                                                         "readonly":  true
                                                     }
                                   },
                      "outputs":  [

                                  ],
                      "source":  [
                                     "# Agent에게 흙 블록 묶음을 주세요\n",
                                     "# 앞으로 1 움직여 밑에 놓으세요\n",
                                     "# 2번 반복하세요\n",
                                     "\n",
                                     "agent.give(\"DIRT\", 64, 1)\n",
                                     "for i in range(2):\n",
                                     "    agent.move(\"forward\")\n",
                                     "    agent.place(\"down\", 1)\n"
                                 ]
                  },
                  {
                      "cell_type":  "markdown",
                      "metadata":  {

                                   },
                      "source":  [
                                     "# 활동:\n",
                                     "\n",
                                     "아래에 있는 코드는 이번 활동의 정답이에요. 코드를 실행해서 직접 확인하세요.\n",
                                     "\n",
                                     "**참고: 아래에 있는 코드 재설정 버튼으로 코드 상자를 재설정해 정답으로 돌아갈 수 있어요**"
                                 ]
                  },
                  {
                      "cell_type":  "code",
                      "execution_count":  null,
                      "metadata":  {
                                       "minecraft":  {
                                                         "closeCodeBuilderOnRun":  true,
                                                         "default_code":  "# code here\n\nagent.give(\"DIRT\", 64, 1)\nfor i in range(2):\n    agent.move(\"forward\")\n    agent.place(\"down\", 1)\n\nagent.move(\"forward\")\nagent.move(\"forward\")\nagent.move(\"right\")\nagent.move(\"right\")\n\nfor i in range(2):\n    agent.move(\"forward\")\n    agent.place(\"down\", 1)\n\nagent.move(\"forward\")\nagent.move(\"forward\")\nagent.move(\"right\")\nagent.move(\"right\")\n\nfor i in range(2):\n    agent.move(\"forward\")\n    agent.place(\"down\", 1)",
                                                         "resetWorldCommand":  "function act/6/reset"
                                                     }
                                   },
                      "outputs":  [

                                  ],
                      "source":  [
                                     "# 코드를 여기에 넣으세요\n",
                                     "\n",
                                     "agent.give(\"DIRT\", 64, 1)\n",
                                     "for i in range(2):\n",
                                     "    agent.move(\"forward\")\n",
                                     "    agent.place(\"down\", 1)\n",
                                     "\n",
                                     "agent.move(\"forward\")\n",
                                     "agent.move(\"forward\")\n",
                                     "agent.move(\"right\")\n",
                                     "agent.move(\"right\")\n",
                                     "\n",
                                     "for i in range(2):\n",
                                     "    agent.move(\"forward\")\n",
                                     "    agent.place(\"down\", 1)\n",
                                     "\n",
                                     "agent.move(\"forward\")\n",
                                     "agent.move(\"forward\")\n",
                                     "agent.move(\"right\")\n",
                                     "agent.move(\"right\")\n",
                                     "\n",
                                     "for i in range(2):\n",
                                     "    agent.move(\"forward\")\n",
                                     "    agent.place(\"down\", 1)"
                                 ]
                  }
              ],
    "metadata":  {
                     "celltoolbar":  "Edit Metadata",
                     "kernelspec":  {
                                        "display_name":  "Python 3",
                                        "language":  "python",
                                        "name":  "python3"
                                    },
                     "language_info":  {
                                           "codemirror_mode":  {
                                                                   "name":  "ipython",
                                                                   "version":  3
                                                               },
                                           "file_extension":  ".py",
                                           "mimetype":  "text/x-python",
                                           "name":  "python",
                                           "nbconvert_exporter":  "python",
                                           "pygments_lexer":  "ipython3",
                                           "version":  "3.8.8"
                                       },
                     "minecraft":  {
                                       "description":  "TimeCraft",
                                       "page_id":  "1.1",
                                       "page_name":  "최초의 비행",
                                       "style":  "minecraft.css"
                                   }
                 },
    "nbformat":  4,
    "nbformat_minor":  4
}
