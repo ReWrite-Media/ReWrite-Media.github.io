﻿{
    "cells":  [
                  {
                      "cell_type":  "markdown",
                      "source":  [
                                     "# 인간의 가장 친한 친구\n",
                                     "\n",
                                     "개와 사람은 수천 년 동안이나 친구 사이였어요. 하지만 무슨 이유에선지 개들이 달아났어요. Agent의 코드를 작성해 5블록마다 `BEETROOT` 길을 만들고 사람들이 늑대를 길들여 개로 바꿀 수 있게 도와주세요. `agent.give()` 함수로 Agent에게 `BEETROOT` 묶음을 준 뒤, `agent.move()`로 Agent의 위치를 설정하고, `agent.drop()`으로 `BEETROOT`를 내려놓으세요.\n",
                                     "\n",
                                     "`agent.give()` 함수는 세 개의 매개 변수를 취합니다.  \n",
                                     "\n",
                                     "- item (*string*): Agent에게 줄 아이템입니다.\n",
                                     "- count (*integer*): Agent가 받게 될 아이템 수입니다.\n",
                                     "- slot (*integer*): Agent가 아이템을 받을 인벤토리 슬롯 위치입니다.\n",
                                     "\n",
                                     "`agent.move()` 함수는 하나의 매개 변수, direction을 취합니다.\n",
                                     "\n",
                                     "유효한 방향: \n",
                                     "- 앞쪽\n",
                                     "- 뒤쪽\n",
                                     "- 왼쪽\n",
                                     "- 오른쪽\n",
                                     "- 위쪽\n",
                                     "- 아래쪽\n",
                                     "\n",
                                     "`agent.drop()` 함수는 두 개의 매개 변수를 취합니다.\n",
                                     "- slot (*정수*): Agent가 아이템을 꺼내서 버릴 소지품 슬롯이에요.\n",
                                     "- quantity (*정수*): Agent가 버릴 아이템 수입니다."
                                 ],
                      "metadata":  {

                                   }
                  },
                  {
                      "cell_type":  "code",
                      "execution_count":  null,
                      "source":  [
                                     "# Agent에게 비트 묶음을 주세요\r\n",
                                     "# 하나를 버리고 앞으로 5 이동하세요\r\n",
                                     "\r\n",
                                     "agent.give(\"BEETROOT\", 64, 1)\r\n",
                                     "agent.drop(1,1)\r\n",
                                     "agent.move(\"forward\")\r\n",
                                     "agent.move(\"forward\")\r\n",
                                     "agent.move(\"forward\")\r\n",
                                     "agent.move(\"forward\")"
                                 ],
                      "outputs":  [

                                  ],
                      "metadata":  {
                                       "minecraft":  {
                                                         "baseCodeCellName":  "Example",
                                                         "closeCodeBuilderOnRun":  true,
                                                         "readonly":  true
                                                     }
                                   }
                  },
                  {
                      "cell_type":  "markdown",
                      "source":  [
                                     "# 프로 팁:\n",
                                     "\n",
                                     "`for` 루프를 사용하면 하나 이상의 행동을 여러 번 반복할 수 있어요."
                                 ],
                      "metadata":  {

                                   }
                  },
                  {
                      "cell_type":  "code",
                      "execution_count":  null,
                      "source":  [
                                     "# Agent에게 비트 묶음을 주세요\r\n",
                                     "# 하나를 버리고 앞으로 5 이동하세요\r\n",
                                     "\r\n",
                                     "agent.give(\"BEETROOT\", 64, 1)\r\n",
                                     "agent.drop(1,1)\r\n",
                                     "for i in range(4):\r\n",
                                     "    agent.move(\"forward\")"
                                 ],
                      "outputs":  [

                                  ],
                      "metadata":  {
                                       "minecraft":  {
                                                         "baseCodeCellName":  "Example",
                                                         "closeCodeBuilderOnRun":  true,
                                                         "readonly":  true
                                                     }
                                   }
                  },
                  {
                      "cell_type":  "markdown",
                      "source":  [
                                     "# 활동\r\n",
                                     "\r\n",
                                     "5블록마다 `BEETROOT`를 놓아 늑대를 Agent의 시작 위치 바로 앞에 있는 모닥불로 인도하세요.\r\n",
                                     "\r\n",
                                     "**참고: T.A.L.K. 기기나 활동 초기화 버튼으로 이 활동을 초기화할 수 있어요.**"
                                 ],
                      "metadata":  {

                                   }
                  },
                  {
                      "cell_type":  "code",
                      "execution_count":  null,
                      "source":  [
                                     "# 여기에 코드를 작성하세요\r\n",
                                     "\r\n",
                                     "\r\n"
                                 ],
                      "outputs":  [

                                  ],
                      "metadata":  {
                                       "minecraft":  {
                                                         "closeCodeBuilderOnRun":  true,
                                                         "default_code":  "# code here\n\n\n",
                                                         "resetWorldCommand":  "function act/8/reset"
                                                     }
                                   }
                  }
              ],
    "metadata":  {
                     "celltoolbar":  "Edit Metadata",
                     "kernelspec":  {
                                        "display_name":  "Python 3",
                                        "language":  "python",
                                        "name":  "python3"
                                    },
                     "language_info":  {
                                           "codemirror_mode":  {
                                                                   "name":  "ipython",
                                                                   "version":  3
                                                               },
                                           "file_extension":  ".py",
                                           "mimetype":  "text/x-python",
                                           "name":  "python",
                                           "nbconvert_exporter":  "python",
                                           "pygments_lexer":  "ipython3",
                                           "version":  "3.8.8"
                                       },
                     "minecraft":  {
                                       "description":  "TimeCraft",
                                       "page_id":  "1.1",
                                       "page_name":  "인간의 가장 친한 친구",
                                       "style":  "minecraft.css"
                                   }
                 },
    "nbformat":  4,
    "nbformat_minor":  4
}
