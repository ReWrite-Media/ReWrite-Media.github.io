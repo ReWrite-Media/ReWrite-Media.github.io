﻿{
    "cells":  [
                  {
                      "cell_type":  "markdown",
                      "metadata":  {

                                   },
                      "source":  [
                                     "# 기자의 피라미드\n",
                                     "\n",
                                     "건축가가 시간이 지나도 잘 버티는 설계인 삼각형을 완성할 수 있게 해주세요.\n",
                                     "피라미드를 제작하세요. 2층을 더 쌓아야 해요. 아래에 3블록, 꼭대기에 1블록을 쌓으세요. `agent.give()`로 Agent에게 `SANDSTONE` 묶음을 주고, `agent.move()`로 Agent를 위치로 보내고, `agent.place()`로 3층 피라미드 모양으로 블록을 놓으세요.\n",
                                     "\n",
                                     "`agent.give()` 함수는 세 개의 매개 변수를 취합니다.  \n",
                                     "\n",
                                     "- item (*string*): Agent에게 줄 아이템입니다.\n",
                                     "- count (*integer*): Agent가 받게 될 아이템 수입니다.\n",
                                     "- slot (*integer*): Agent가 아이템을 받을 인벤토리 슬롯 위치입니다.\n",
                                     "\n",
                                     "\u0027agent.move()\u0027 함수는 하나의 매개 변수, 방향을 취합니다.\n",
                                     "\n",
                                     "유효한 방향은 다음과 같습니다: \n",
                                     "- 앞으로\n",
                                     "- 뒤로\n",
                                     "- 왼쪽\n",
                                     "- 오른쪽\n",
                                     "- 위로\n",
                                     "- 아래쪽\n",
                                     "\n",
                                     "`agent.place()` 함수는 두 개의 매개 변수를 취합니다.  \n",
                                     "\n",
                                     "- slot number (*integer*): Agent가 사용할 인벤토리 슬롯입니다.\n",
                                     "- direction (*string*): Agent가 아이템을 배치할 방향입니다.\n",
                                     "    - 유효한 방향: \n",
                                     "        - 앞쪽\n",
                                     "        - 뒤쪽\n",
                                     "        - 왼쪽\n",
                                     "        - 오른쪽\n",
                                     "        - 위쪽\n",
                                     "        - 아래쪽\n",
                                     "        \n",
                                     "`agent.turn()` 함수는 하나의 매개 변수, turn_direction을 취합니다.\n",
                                     "\n",
                                     "유효한 방향: \n",
                                     "- 왼쪽\n",
                                     "- 오른쪽        "
                                 ]
                  },
                  {
                      "cell_type":  "code",
                      "execution_count":  null,
                      "metadata":  {
                                       "minecraft":  {
                                                         "baseCodeCellName":  "Example",
                                                         "closeCodeBuilderOnRun":  true,
                                                         "readonly":  true
                                                     }
                                   },
                      "outputs":  [

                                  ],
                      "source":  [
                                     "# Agent에게 사암 묶음을 주세요\n",
                                     "# Agent를 앞으로 움직이세요\n",
                                     "# 그리고 사암 블록을 놓으세요\n",
                                     "# 5번 반복하세요\n",
                                     "\n",
                                     "agent.give(\"SANDSTONE\", 64, 1)\n",
                                     "agent.move(\"forward\")\n",
                                     "agent.place(\"back\", 1)\n",
                                     "agent.move(\"forward\")\n",
                                     "agent.place(\"back\", 1)\n",
                                     "agent.move(\"forward\")\n",
                                     "agent.place(\"back\", 1)\n",
                                     "agent.move(\"forward\")\n",
                                     "agent.place(\"back\", 1)\n",
                                     "agent.move(\"forward\")\n",
                                     "agent.place(\"back\", 1)"
                                 ]
                  },
                  {
                      "cell_type":  "markdown",
                      "metadata":  {

                                   },
                      "source":  [
                                     "# 프로 팁:\n",
                                     "\n",
                                     "`for` 루프를 사용하면 하나 이상의 행동을 여러 번 반복할 수 있어요."
                                 ]
                  },
                  {
                      "cell_type":  "code",
                      "execution_count":  null,
                      "metadata":  {
                                       "minecraft":  {
                                                         "baseCodeCellName":  "Example",
                                                         "closeCodeBuilderOnRun":  true,
                                                         "readonly":  true
                                                     }
                                   },
                      "outputs":  [

                                  ],
                      "source":  [
                                     "# Agent에게 사암 묶음을 주세요\n",
                                     "# Agent를 앞으로 움직이세요\n",
                                     "# 그리고 사암 블록을 놓으세요\n",
                                     "# 5번 반복하세요\n",
                                     "\n",
                                     "agent.give(\"SANDSTONE\", 64, 1)\n",
                                     "for i in range(5):\n",
                                     "    agent.move(\"forward\")\n",
                                     "    agent.place(\"back\", 1)"
                                 ]
                  },
                  {
                      "cell_type":  "markdown",
                      "metadata":  {

                                   },
                      "source":  [
                                     "# 활동\n",
                                     "\n",
                                     "`SANDSTONE`을 이용해 2단 피라미드를 만들어 건축가에게 피라미드를 만드는 방법을 알려주세요.\n",
                                     "\n",
                                     "**참고: T.A.L.K. 기기나 활동 초기화 버튼으로 이 활동을 초기화할 수 있어요.**"
                                 ]
                  },
                  {
                      "cell_type":  "code",
                      "execution_count":  null,
                      "metadata":  {
                                       "minecraft":  {
                                                         "closeCodeBuilderOnRun":  true,
                                                         "default_code":  "# code here\n\n\n",
                                                         "resetWorldCommand":  "function act/2/reset"
                                                     }
                                   },
                      "outputs":  [

                                  ],
                      "source":  [
                                     "# 코드를 여기에 넣으세요\n",
                                     "\n",
                                     "\n"
                                 ]
                  }
              ],
    "metadata":  {
                     "celltoolbar":  "Edit Metadata",
                     "kernelspec":  {
                                        "display_name":  "Python 3",
                                        "language":  "python",
                                        "name":  "python3"
                                    },
                     "language_info":  {
                                           "codemirror_mode":  {
                                                                   "name":  "ipython",
                                                                   "version":  3
                                                               },
                                           "file_extension":  ".py",
                                           "mimetype":  "text/x-python",
                                           "name":  "python",
                                           "nbconvert_exporter":  "python",
                                           "pygments_lexer":  "ipython3",
                                           "version":  "3.8.8"
                                       },
                     "minecraft":  {
                                       "description":  "TimeCraft",
                                       "page_id":  "1.1",
                                       "page_name":  "기자의 피라미드",
                                       "style":  "minecraft.css"
                                   }
                 },
    "nbformat":  4,
    "nbformat_minor":  4
}
