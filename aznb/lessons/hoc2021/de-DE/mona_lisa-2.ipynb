﻿{
    "cells":  [
                  {
                      "cell_type":  "markdown",
                      "metadata":  {

                                   },
                      "source":  [
                                     "# Die Mona Lisa (Debug)\n",
                                     "\n",
                                     "Die Mona Lisa runzelt die Stirn, statt ihr berühmtes Lächeln zu zeigen. Das liegt daran, dass ihr Garten zerstört worden ist. Benutze die Funktion \"agent.give()\", um deinem Agenten einen Stapel \"WEISSE GLASIERTE KERAMIK\" zu geben, dann benutze \"agent.move()\", um deinen Agenten zu positionieren, und \"agent.place\", um die \"WEISSE GLASIERTE KERAMIK\" zu platzieren.\n",
                                     "\n",
                                     "Die Funktion \"agent.give()\" hat drei Parameter. \n",
                                     "\n",
                                     "– item (*String*): der Gegenstand, den du dem Agenten geben willst\n",
                                     "– count (*Integer*): wie viele Gegenstände der Agent erhält\n",
                                     "– slot (*Integer*): der Inventarplatz, auf dem der Agent den Gegenstand erhält\n",
                                     "\n",
                                     "Die Funktion \"agent.move()\" hat einen Parameter, die Richtung.\n",
                                     "\n",
                                     "Gültige Richtungen sind: \n",
                                     "– forward: vorwärts\n",
                                     "– back: zurück\n",
                                     "– left: nach links\n",
                                     "– right: nach rechts\n",
                                     "– up: nach oben\n",
                                     "– down: nach unten\n",
                                     "\n",
                                     "Die Funktion \"agent.place()\" hat zwei Parameter: \n",
                                     "\n",
                                     "– slot number (*Integer*): welchen Inventarplatz der Agent nutzen soll\n",
                                     "– direction (*String*): die Richtung, in die der Agent den Gegenstand platzieren soll\n",
                                     "    – Gültige Richtungen sind:\n",
                                     "        – forward: vorwärts\n",
                                     "        – back: zurück\n",
                                     "        – left: nach links\n",
                                     "        – right: nach rechts\n",
                                     "        – up: nach oben\n",
                                     "        – down: nach unten"
                                 ]
                  },
                  {
                      "cell_type":  "code",
                      "execution_count":  null,
                      "metadata":  {
                                       "minecraft":  {
                                                         "baseCodeCellName":  "Example",
                                                         "closeCodeBuilderOnRun":  true,
                                                         "readonly":  true
                                                     }
                                   },
                      "outputs":  [

                                  ],
                      "source":  [
                                     "# gib dem Agenten einen Stapel weiße glasierte Keramik\n",
                                     "# bewege dich dann vorwärts und platziere einen Block unter dem Agenten\n",
                                     "# mach das 5 Mal\n",
                                     "\n",
                                     "agent.give(\"WHITE GLAZED TERRACOTTA\", 64, 1)\n",
                                     "agent.move(\"forward\")\n",
                                     "agent.place(\"down\", 1)\n",
                                     "agent.move(\"forward\")\n",
                                     "agent.place(\"down\", 1)\n",
                                     "agent.move(\"forward\")\n",
                                     "agent.place(\"down\", 1)\n",
                                     "agent.move(\"forward\")\n",
                                     "agent.place(\"down\", 1)\n",
                                     "agent.move(\"forward\")\n",
                                     "agent.place(\"down\", 1)"
                                 ]
                  },
                  {
                      "cell_type":  "markdown",
                      "metadata":  {

                                   },
                      "source":  [
                                     "# Tipp:\n",
                                     "\n",
                                     "Verwende eine \"for\"-Schleife, um eine oder mehrere Aktionen mehrmals auszuführen."
                                 ]
                  },
                  {
                      "cell_type":  "code",
                      "execution_count":  null,
                      "metadata":  {
                                       "minecraft":  {
                                                         "baseCodeCellName":  "Example",
                                                         "closeCodeBuilderOnRun":  true,
                                                         "readonly":  true
                                                     }
                                   },
                      "outputs":  [

                                  ],
                      "source":  [
                                     "# gib dem Agenten einen Stapel weiße glasierte Keramik\n",
                                     "# bewege dich dann vorwärts und platziere einen Block unter dem Agenten\n",
                                     "# mach das 5 Mal\n",
                                     "\n",
                                     "agent.give(\"WHITE GLAZED TERRACOTTA\", 64, 1)\n",
                                     "for i in range(5):\n",
                                     "    agent.move(\"forward\")\n",
                                     "    agent.place(\"down\", 1)"
                                 ]
                  },
                  {
                      "cell_type":  "markdown",
                      "metadata":  {

                                   },
                      "source":  [
                                     "# Aktivität:\n",
                                     "\n",
                                     "Der folgende Code beinhaltet falsche Werte. Führe den Code aus, um zu sehen, was passiert, und versuche dann, den Code zu debuggen und zu korrigieren, um die Aktivität abzuschließen.\n",
                                     "\n",
                                     "**Hinweis: Verwende die Schaltfläche Code zurücksetzen unten, um das Programmierfeld auf den Debugcode zurückzusetzen**"
                                 ]
                  },
                  {
                      "cell_type":  "code",
                      "execution_count":  null,
                      "metadata":  {
                                       "minecraft":  {
                                                         "closeCodeBuilderOnRun":  true,
                                                         "default_code":  "# code here\n\nagent.give(\"WHITE GLAZED TERRACOTTA\", 64, 1)\n\nfor i in range(5):\n    agent.move(\"forward\")\n    agent.place(\"down\", 1)\n\nagent.turn(\"left\")\n\nfor i in range(4):\n    agent.move(\"forward\")\n    agent.place(\"down\", 1)",
                                                         "resetWorldCommand":  "function act/5/reset"
                                                     }
                                   },
                      "outputs":  [

                                  ],
                      "source":  [
                                     "# Code hier\n",
                                     "\n",
                                     "agent.give(\"WHITE GLAZED TERRACOTTA\", 64, 1)\n",
                                     "\n",
                                     "for i in range(5):\n",
                                     "    agent.move(\"forward\")\n",
                                     "    agent.place(\"down\", 1)\n",
                                     "\n",
                                     "agent.turn(\"left\")\n",
                                     "\n",
                                     "for i in range(4):\n",
                                     "    agent.move(\"forward\")\n",
                                     "    agent.place(\"down\", 1)"
                                 ]
                  }
              ],
    "metadata":  {
                     "celltoolbar":  "Edit Metadata",
                     "kernelspec":  {
                                        "display_name":  "Python 3",
                                        "language":  "python",
                                        "name":  "python3"
                                    },
                     "language_info":  {
                                           "codemirror_mode":  {
                                                                   "name":  "ipython",
                                                                   "version":  3
                                                               },
                                           "file_extension":  ".py",
                                           "mimetype":  "text/x-python",
                                           "name":  "python",
                                           "nbconvert_exporter":  "python",
                                           "pygments_lexer":  "ipython3",
                                           "version":  "3.8.8"
                                       },
                     "minecraft":  {
                                       "description":  "TimeCraft",
                                       "page_id":  "1.1",
                                       "page_name":  "Mona Lisa",
                                       "style":  "minecraft.css"
                                   }
                 },
    "nbformat":  4,
    "nbformat_minor":  4
}
