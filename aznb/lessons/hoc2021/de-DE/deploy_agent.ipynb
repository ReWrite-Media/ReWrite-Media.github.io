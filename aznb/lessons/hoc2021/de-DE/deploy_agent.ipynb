﻿{
    "cells":  [
                  {
                      "cell_type":  "markdown",
                      "source":  [
                                     "## Agent im Einsatz!\n",
                                     "Du hast deinen Agenten erfolgreich eingesetzt! \n",
                                     "\n",
                                     "Das ist das Code-Builder-Fenster, das du benutzen wirst, wenn du bereit bist, zu programmieren!\n",
                                     "\n",
                                     "Darunter siehst du ein Programmierfeld. In der nächsten Aktivität schreibst du dort deinen Code und führst ihn aus."
                                 ],
                      "metadata":  {

                                   }
                  },
                  {
                      "cell_type":  "code",
                      "execution_count":  null,
                      "source":  [
                                     "## so sieht ein Programmierfeld aus\r\n",
                                     "## du wirst Abschnitte wie diese verwenden, um\r\n",
                                     "## deinen Code in zukünftigen Aktivitäten zu schreiben"
                                 ],
                      "outputs":  [

                                  ],
                      "metadata":  {
                                       "minecraft":  {
                                                         "closeCodeBuilderOnRun":  true,
                                                         "default_code":  "## this is what a coding box look like\n## you\u0027ll use section like these to\n## write your code in future activities\n"
                                                     }
                                   }
                  },
                  {
                      "cell_type":  "markdown",
                      "source":  [
                                     "Schließe dieses Fenster, um mit deinem Abenteuer fortzufahren!"
                                 ],
                      "metadata":  {

                                   }
                  }
              ],
    "metadata":  {
                     "celltoolbar":  "Edit Metadata",
                     "kernelspec":  {
                                        "display_name":  "Python 3",
                                        "language":  "python",
                                        "name":  "python3"
                                    },
                     "language_info":  {
                                           "codemirror_mode":  {
                                                                   "name":  "ipython",
                                                                   "version":  3
                                                               },
                                           "file_extension":  ".py",
                                           "mimetype":  "text/x-python",
                                           "name":  "python",
                                           "nbconvert_exporter":  "python",
                                           "pygments_lexer":  "ipython3",
                                           "version":  "3.8.8"
                                       },
                     "minecraft":  {
                                       "description":  "TimeCraft",
                                       "page_id":  "1.1",
                                       "page_name":  "Agent im Einsatz",
                                       "style":  "minecraft.css"
                                   }
                 },
    "nbformat":  4,
    "nbformat_minor":  4
}
