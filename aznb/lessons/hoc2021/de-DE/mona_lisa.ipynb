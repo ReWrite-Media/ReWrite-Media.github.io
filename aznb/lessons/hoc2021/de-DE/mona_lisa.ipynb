﻿{
    "cells":  [
                  {
                      "cell_type":  "markdown",
                      "source":  [
                                     "# Die Mona Lisa\n",
                                     "\n",
                                     "Die Mona Lisa runzelt die Stirn, statt ihr berühmtes Lächeln zu zeigen. Das liegt daran, dass ihr Garten zerstört worden ist. Benutze die Funktion \"agent.give()\", um deinem Agenten einen Stapel \"WEISSE GLASIERTE KERAMIK\" zu geben, dann benutze \"agent.move()\", um deinen Agenten zu positionieren, und \"agent.place\", um die \"WEISSE GLASIERTE KERAMIK\" zu platzieren.\n",
                                     "\n",
                                     "Die Funktion \"agent.give()\" hat drei Parameter. \n",
                                     "\n",
                                     "– item (*String*): der Gegenstand, den du dem Agenten geben willst\n",
                                     "– count (*Integer*): wie viele Gegenstände der Agent erhält\n",
                                     "– slot (*Integer*): der Inventarplatz, auf dem der Agent den Gegenstand erhält\n",
                                     "\n",
                                     "Die Funktion \"agent.move()\" hat einen Parameter, die Richtung.\n",
                                     "\n",
                                     "Gültige Richtungen sind: \n",
                                     "– forward: vorwärts\n",
                                     "– back: zurück\n",
                                     "– left: nach links\n",
                                     "– right: nach rechts\n",
                                     "– up: nach oben\n",
                                     "– down: nach unten\n",
                                     "\n",
                                     "Die Funktion \"agent.place()\" hat zwei Parameter: \n",
                                     "\n",
                                     "– slot number (*Integer*): welchen Inventarplatz der Agent nutzen soll\n",
                                     "– direction (*String*): die Richtung, in die der Agent den Gegenstand platzieren soll\n",
                                     "    – Gültige Richtungen sind:\n",
                                     "        – forward: vorwärts\n",
                                     "        – back: zurück\n",
                                     "        – left: nach links\n",
                                     "        – right: nach rechts\n",
                                     "        – up: nach oben\n",
                                     "        – down: nach unten"
                                 ],
                      "metadata":  {

                                   }
                  },
                  {
                      "cell_type":  "code",
                      "execution_count":  null,
                      "source":  [
                                     "# gib dem Agenten einen Stapel weiße glasierte Keramik\r\n",
                                     "# bewege dich dann vorwärts und platziere einen Block unter dem Agenten\r\n",
                                     "# mach das 5 Mal\r\n",
                                     "\r\n",
                                     "agent.give(\"WHITE GLAZED TERRACOTTA\", 64, 1)\r\n",
                                     "agent.move(\"forward\")\r\n",
                                     "agent.place(1,\"down\")\r\n",
                                     "agent.move(\"forward\")\r\n",
                                     "agent.place(1,\"down\")\r\n",
                                     "agent.move(\"forward\")\r\n",
                                     "agent.place(1,\"down\")\r\n",
                                     "agent.move(\"forward\")\r\n",
                                     "agent.place(1,\"down\")\r\n",
                                     "agent.move(\"forward\")\r\n",
                                     "agent.place(1,\"down\")"
                                 ],
                      "outputs":  [

                                  ],
                      "metadata":  {
                                       "minecraft":  {
                                                         "baseCodeCellName":  "Example",
                                                         "closeCodeBuilderOnRun":  true,
                                                         "readonly":  true
                                                     }
                                   }
                  },
                  {
                      "cell_type":  "markdown",
                      "source":  [
                                     "# Tipp:\n",
                                     "\n",
                                     "Verwende eine \"for\"-Schleife, um eine oder mehrere Aktionen mehrmals auszuführen."
                                 ],
                      "metadata":  {

                                   }
                  },
                  {
                      "cell_type":  "code",
                      "execution_count":  null,
                      "source":  [
                                     "# gib dem Agenten einen Stapel weiße glasierte Keramik\r\n",
                                     "# bewege dich dann vorwärts und platziere einen Block unter dem Agenten\r\n",
                                     "# mach das 5 Mal\r\n",
                                     "\r\n",
                                     "agent.give(\"WHITE GLAZED TERRACOTTA\", 64, 1)\r\n",
                                     "for i in range(5):\r\n",
                                     "    agent.move(\"forward\")\r\n",
                                     "    agent.place(1,\"down\")"
                                 ],
                      "outputs":  [

                                  ],
                      "metadata":  {
                                       "minecraft":  {
                                                         "baseCodeCellName":  "Example",
                                                         "closeCodeBuilderOnRun":  true,
                                                         "readonly":  true
                                                     }
                                   }
                  },
                  {
                      "cell_type":  "markdown",
                      "source":  [
                                     "# Aktivität\r\n",
                                     "\r\n",
                                     "Vervollständige den quadratischen Umriss aus „WEISSE GLASIERTE KERAMIK\", indem du den Agenten verschiebst und einen Block darunter platzierst.\r\n",
                                     "\r\n",
                                     "**Hinweis: Du kannst die Aktivität zurücksetzen, indem du dein T.A.L.K.-Gerät benutzt oder indem du die Schaltfläche Aktivität zurücksetzen verwendest.**"
                                 ],
                      "metadata":  {

                                   }
                  },
                  {
                      "cell_type":  "code",
                      "execution_count":  null,
                      "source":  [
                                     "# Code hier\r\n",
                                     "\r\n",
                                     "\r\n"
                                 ],
                      "outputs":  [

                                  ],
                      "metadata":  {
                                       "minecraft":  {
                                                         "closeCodeBuilderOnRun":  true,
                                                         "default_code":  "# code here\n\n\n",
                                                         "resetWorldCommand":  "function act/5/reset"
                                                     }
                                   }
                  }
              ],
    "metadata":  {
                     "celltoolbar":  "Edit Metadata",
                     "kernelspec":  {
                                        "display_name":  "Python 3",
                                        "language":  "python",
                                        "name":  "python3"
                                    },
                     "language_info":  {
                                           "codemirror_mode":  {
                                                                   "name":  "ipython",
                                                                   "version":  3
                                                               },
                                           "file_extension":  ".py",
                                           "mimetype":  "text/x-python",
                                           "name":  "python",
                                           "nbconvert_exporter":  "python",
                                           "pygments_lexer":  "ipython3",
                                           "version":  "3.8.8"
                                       },
                     "minecraft":  {
                                       "description":  "TimeCraft",
                                       "page_id":  "1.1",
                                       "page_name":  "Mona Lisa",
                                       "style":  "minecraft.css"
                                   }
                 },
    "nbformat":  4,
    "nbformat_minor":  4
}
