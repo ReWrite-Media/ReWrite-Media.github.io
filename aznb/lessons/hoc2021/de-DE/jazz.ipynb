﻿{
    "cells":  [
                  {
                      "cell_type":  "markdown",
                      "metadata":  {

                                   },
                      "source":  [
                                     "# Big-Band-Jazz\n",
                                     "\n",
                                     "Der Jazzmusiker hat seine Trompete verloren und benutzt stattdessen ein Kazoo. Verwende die Funktion \"agent.move()\", um durch das Labyrinth zu gelangen, und nutze dann \"agent.collect()\", um die Trompete aufzunehmen.\n",
                                     "\n",
                                     "Die Funktion \"agent.move()\" erfordert einen Parameter, die Richtung.\n",
                                     "\n",
                                     "Gültige Richtungen sind:\n",
                                     "– forward: vorwärts\n",
                                     "– back: zurück\n",
                                     "– left: nach links\n",
                                     "– right: nach rechts\n",
                                     "– up: nach oben\n",
                                     "– down: nach unten\n",
                                     "\n",
                                     "Die Funktion \"agent.collect()\" hat keine Parameter."
                                 ]
                  },
                  {
                      "cell_type":  "code",
                      "execution_count":  null,
                      "metadata":  {
                                       "minecraft":  {
                                                         "baseCodeCellName":  "Example",
                                                         "closeCodeBuilderOnRun":  true,
                                                         "readonly":  true
                                                     }
                                   },
                      "outputs":  [

                                  ],
                      "source":  [
                                     "# bewege den Agenten 3 Blöcke vorwärts\n",
                                     "# und versuche, die Trompete aufzuheben\n",
                                     "\n",
                                     "agent.move(\"forward\")\n",
                                     "agent.move(\"forward\")\n",
                                     "agent.move(\"forward\")\n",
                                     "agent.collect()"
                                 ]
                  },
                  {
                      "cell_type":  "markdown",
                      "metadata":  {

                                   },
                      "source":  [
                                     "# Tipp:\n",
                                     "\n",
                                     "Verwende eine \"for\"-Schleife, um eine oder mehrere Aktionen mehrmals auszuführen."
                                 ]
                  },
                  {
                      "cell_type":  "code",
                      "execution_count":  null,
                      "metadata":  {
                                       "minecraft":  {
                                                         "baseCodeCellName":  "Example",
                                                         "closeCodeBuilderOnRun":  true,
                                                         "readonly":  true
                                                     }
                                   },
                      "outputs":  [

                                  ],
                      "source":  [
                                     "# bewege den Agenten 3 Blöcke vorwärts\n",
                                     "# und versuche, die Trompete aufzuheben\n",
                                     "\n",
                                     "for i in range(3):\n",
                                     "    agent.move(\"forward\")\n",
                                     "agent.collect()"
                                 ]
                  },
                  {
                      "cell_type":  "markdown",
                      "metadata":  {

                                   },
                      "source":  [
                                     "# Aktivität\n",
                                     "\n",
                                     "Bewege den Agenten durch das Labyrinth und sammle die Trompete ein.\n",
                                     "\n",
                                     "**Hinweis: Du kannst die Aktivität zurücksetzen, indem du dein T.A.L.K.-Gerät benutzt oder indem du die Schaltfläche Aktivität zurücksetzen verwendest.**"
                                 ]
                  },
                  {
                      "cell_type":  "code",
                      "execution_count":  null,
                      "metadata":  {
                                       "minecraft":  {
                                                         "closeCodeBuilderOnRun":  true,
                                                         "default_code":  "# code here\n\n\n",
                                                         "resetWorldCommand":  "function act/1/reset"
                                                     }
                                   },
                      "outputs":  [

                                  ],
                      "source":  [
                                     "# Code hier\n",
                                     "\n",
                                     "\n"
                                 ]
                  }
              ],
    "metadata":  {
                     "celltoolbar":  "Edit Metadata",
                     "kernelspec":  {
                                        "display_name":  "Python 3",
                                        "language":  "python",
                                        "name":  "python3"
                                    },
                     "language_info":  {
                                           "codemirror_mode":  {
                                                                   "name":  "ipython",
                                                                   "version":  3
                                                               },
                                           "file_extension":  ".py",
                                           "mimetype":  "text/x-python",
                                           "name":  "python",
                                           "nbconvert_exporter":  "python",
                                           "pygments_lexer":  "ipython3",
                                           "version":  "3.8.8"
                                       },
                     "minecraft":  {
                                       "description":  "TimeCraft",
                                       "page_id":  "1.1",
                                       "page_name":  "Big-Band-Jazz",
                                       "style":  "minecraft.css"
                                   }
                 },
    "nbformat":  4,
    "nbformat_minor":  4
}
