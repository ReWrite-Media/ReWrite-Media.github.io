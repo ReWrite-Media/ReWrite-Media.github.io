﻿{
    "cells":  [
                  {
                      "cell_type":  "markdown",
                      "metadata":  {

                                   },
                      "source":  [
                                     "# Mondmission (Lösung)\n",
                                     "\n",
                                     "Schicke deinen Agenten zum Raummodul, um die Berechnungen abzuliefern. Du kannst die Felder, die der Agent bewegen muss, um die Mission zu erfüllen, nicht zählen. Überlege dir, wie viele Schritte nötig sind, und benutze die Berechnungen des Mathematikers, um zu bestimmen, wie viele Schritte der Agent machen muss. Benutze \"agent.move()\", um deinen Agenten zur Mondlandefähre zu bringen und an ihr anzudocken.\n",
                                     "\n",
                                     "Die Funktion \"agent.move()\" erfordert einen Parameter, die Richtung.\n",
                                     "\n",
                                     "Gültige Richtungen sind:\n",
                                     "– forward: vorwärts\n",
                                     "– back: zurück\n",
                                     "– left: nach links\n",
                                     "– right: nach rechts\n",
                                     "– up: nach oben\n",
                                     "– down: nach unten\n",
                                     "\n",
                                     "Die Funktion \"agent.turn()\" hat einen Parameter, turn_direction (Drehrichtung).\n",
                                     "\n",
                                     "Gültige Richtungen sind: \n",
                                     "– left: nach links\n",
                                     "– right: nach rechts"
                                 ]
                  },
                  {
                      "cell_type":  "code",
                      "execution_count":  null,
                      "metadata":  {
                                       "minecraft":  {
                                                         "baseCodeCellName":  "Example",
                                                         "closeCodeBuilderOnRun":  true,
                                                         "readonly":  true
                                                     }
                                   },
                      "outputs":  [

                                  ],
                      "source":  [
                                     "# bewege den Agenten 5 Blöcke vorwärts\n",
                                     "# biege dann rechts ab\n",
                                     "agent.move(\"forward\")\n",
                                     "agent.move(\"forward\")\n",
                                     "agent.move(\"forward\")\n",
                                     "agent.move(\"forward\")\n",
                                     "agent.move(\"forward\")\n",
                                     "agent.turn(\"right\")"
                                 ]
                  },
                  {
                      "cell_type":  "markdown",
                      "metadata":  {

                                   },
                      "source":  [
                                     "# Tipp:\n",
                                     "\n",
                                     "Verwende eine \"for\"-Schleife, um eine oder mehrere Aktionen mehrmals auszuführen."
                                 ]
                  },
                  {
                      "cell_type":  "code",
                      "execution_count":  null,
                      "metadata":  {
                                       "minecraft":  {
                                                         "baseCodeCellName":  "Example",
                                                         "closeCodeBuilderOnRun":  true,
                                                         "readonly":  true
                                                     }
                                   },
                      "outputs":  [

                                  ],
                      "source":  [
                                     "# bewege den Agenten 5 Blöcke vorwärts\n",
                                     "# biege dann rechts ab\n",
                                     "for i in range(5):\n",
                                     "    agent.move(\"forward\")\n",
                                     "agent.turn(\"right\")    "
                                 ]
                  },
                  {
                      "cell_type":  "markdown",
                      "metadata":  {

                                   },
                      "source":  [
                                     "# Aktivität:\n",
                                     "\n",
                                     "Der folgende Code ist die richtige Lösung für die Aktivität. Führe den Code aus, um ihn in Aktion zu sehen.\n",
                                     "\n",
                                     "**Hinweis: Verwende die Schaltfläche Code zurücksetzen unten, um das Programmierfeld auf die Lösung zurückzusetzen**"
                                 ]
                  },
                  {
                      "cell_type":  "code",
                      "execution_count":  null,
                      "metadata":  {
                                       "minecraft":  {
                                                         "closeCodeBuilderOnRun":  true,
                                                         "default_code":  "# code here\n\nfor i in range(25):\n    agent.move(\"forward\")\nagent.turn(\"right\")\n\nfor i in range(17):\n    agent.move(\"forward\")\nagent.turn(\"right\")\n\nfor i in range(3):\n    agent.move(\"down\")\n",
                                                         "resetWorldCommand":  "function act/3/reset"
                                                     }
                                   },
                      "outputs":  [

                                  ],
                      "source":  [
                                     "# Code hier\n",
                                     "\n",
                                     "for i in range(25):\n",
                                     "    agent.move(\"forward\")\n",
                                     "agent.turn(\"right\")\n",
                                     "\n",
                                     "for i in range(17):\n",
                                     "    agent.move(\"forward\")\n",
                                     "agent.turn(\"right\")\n",
                                     "\n",
                                     "for i in range(3):\n",
                                     "    agent.move(\"down\")\n"
                                 ]
                  }
              ],
    "metadata":  {
                     "celltoolbar":  "Edit Metadata",
                     "kernelspec":  {
                                        "display_name":  "Python 3",
                                        "language":  "python",
                                        "name":  "python3"
                                    },
                     "language_info":  {
                                           "codemirror_mode":  {
                                                                   "name":  "ipython",
                                                                   "version":  3
                                                               },
                                           "file_extension":  ".py",
                                           "mimetype":  "text/x-python",
                                           "name":  "python",
                                           "nbconvert_exporter":  "python",
                                           "pygments_lexer":  "ipython3",
                                           "version":  "3.8.8"
                                       },
                     "minecraft":  {
                                       "description":  "TimeCraft",
                                       "page_id":  "1.1",
                                       "page_name":  "Mondmission",
                                       "style":  "minecraft.css"
                                   }
                 },
    "nbformat":  4,
    "nbformat_minor":  4
}
