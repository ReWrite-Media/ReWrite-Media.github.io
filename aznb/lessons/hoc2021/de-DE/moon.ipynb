﻿{
    "cells":  [
                  {
                      "cell_type":  "markdown",
                      "source":  [
                                     "# Mondmission\n",
                                     "\n",
                                     "Schicke deinen Agenten zum Raummodul, um die Berechnungen abzuliefern. Du kannst die Felder, die der Agent bewegen muss, um die Mission zu erfüllen, nicht zählen. Überlege dir, wie viele Schritte nötig sind, und benutze die Berechnungen des Mathematikers, um zu bestimmen, wie viele Schritte der Agent machen muss. Benutze \"agent.move()\", um deinen Agenten zur Mondlandefähre zu bringen und an ihr anzudocken.\n",
                                     "\n",
                                     "Die Funktion \"agent.move()\" erfordert einen Parameter, die Richtung.\n",
                                     "\n",
                                     "Gültige Richtungen sind:\n",
                                     "– forward: vorwärts\n",
                                     "– back: zurück\n",
                                     "– left: nach links\n",
                                     "– right: nach rechts\n",
                                     "– up: nach oben\n",
                                     "– down: nach unten\n",
                                     "\n",
                                     "Die Funktion \"agent.turn()\" hat einen Parameter, turn_direction (Drehrichtung).\n",
                                     "\n",
                                     "Gültige Richtungen sind: \n",
                                     "– left: nach links\n",
                                     "– right: nach rechts"
                                 ],
                      "metadata":  {

                                   }
                  },
                  {
                      "cell_type":  "code",
                      "execution_count":  null,
                      "source":  [
                                     "# bewege den Agenten 5 Blöcke vorwärts\r\n",
                                     "# biege dann rechts ab\r\n",
                                     "agent.move(\"forward\")\r\n",
                                     "agent.move(\"forward\")\r\n",
                                     "agent.move(\"forward\")\r\n",
                                     "agent.move(\"forward\")\r\n",
                                     "agent.move(\"forward\")\r\n",
                                     "agent.turn(\"right\")"
                                 ],
                      "outputs":  [

                                  ],
                      "metadata":  {
                                       "minecraft":  {
                                                         "baseCodeCellName":  "Example",
                                                         "closeCodeBuilderOnRun":  true,
                                                         "readonly":  true
                                                     }
                                   }
                  },
                  {
                      "cell_type":  "markdown",
                      "source":  [
                                     "# Tipp:\n",
                                     "\n",
                                     "Verwende eine \"for\"-Schleife, um eine oder mehrere Aktionen mehrmals auszuführen."
                                 ],
                      "metadata":  {

                                   }
                  },
                  {
                      "cell_type":  "code",
                      "execution_count":  null,
                      "source":  [
                                     "# bewege den Agenten 5 Blöcke vorwärts\r\n",
                                     "# biege dann rechts ab\r\n",
                                     "for i in range(5):\r\n",
                                     "    agent.move(\"forward\")\r\n",
                                     "agent.turn(\"right\")    "
                                 ],
                      "outputs":  [

                                  ],
                      "metadata":  {
                                       "minecraft":  {
                                                         "baseCodeCellName":  "Example",
                                                         "closeCodeBuilderOnRun":  true,
                                                         "readonly":  true
                                                     }
                                   }
                  },
                  {
                      "cell_type":  "markdown",
                      "source":  [
                                     "# Aktivität\n",
                                     "\n",
                                     "Bewege den Agenten zur Mondlandefähre, indem du 25 Blöcke vorwärts gehst, 17 nach rechts und 3 nach unten.\n",
                                     "\n",
                                     "**Hinweis: Du kannst die Aktivität zurücksetzen, indem du dein T.A.L.K.-Gerät benutzt oder indem du die Schaltfläche Aktivität zurücksetzen verwendest.**"
                                 ],
                      "metadata":  {

                                   }
                  },
                  {
                      "cell_type":  "code",
                      "execution_count":  null,
                      "source":  [
                                     "# Code hier\r\n",
                                     "\r\n",
                                     "\r\n"
                                 ],
                      "outputs":  [

                                  ],
                      "metadata":  {
                                       "minecraft":  {
                                                         "closeCodeBuilderOnRun":  true,
                                                         "default_code":  "# code here\n\n\n",
                                                         "resetWorldCommand":  "function act/3/reset"
                                                     }
                                   }
                  }
              ],
    "metadata":  {
                     "celltoolbar":  "Edit Metadata",
                     "kernelspec":  {
                                        "display_name":  "Python 3",
                                        "language":  "python",
                                        "name":  "python3"
                                    },
                     "language_info":  {
                                           "codemirror_mode":  {
                                                                   "name":  "ipython",
                                                                   "version":  3
                                                               },
                                           "file_extension":  ".py",
                                           "mimetype":  "text/x-python",
                                           "name":  "python",
                                           "nbconvert_exporter":  "python",
                                           "pygments_lexer":  "ipython3",
                                           "version":  "3.8.8"
                                       },
                     "minecraft":  {
                                       "description":  "TimeCraft",
                                       "page_id":  "1.1",
                                       "page_name":  "Mondmission",
                                       "style":  "minecraft.css"
                                   }
                 },
    "nbformat":  4,
    "nbformat_minor":  4
}
