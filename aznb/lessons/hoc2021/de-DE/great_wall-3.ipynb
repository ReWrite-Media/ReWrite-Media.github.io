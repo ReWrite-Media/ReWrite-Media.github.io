﻿{
    "cells":  [
                  {
                      "cell_type":  "markdown",
                      "metadata":  {

                                   },
                      "source":  [
                                     "# Die Chinesische Mauer (Lösung)\n",
                                     "\n",
                                     "Die Pandas fressen das Bambusgerüst und hindern den Ingenieur daran, die Mauer zu vervollständigen. Führe die Pandas von der Mauer weg. Verwende \"agent.give()\", um deinem Agenten einen Stapel \"BAMBUS\" zu geben, dann verwende \"agent.move()\", um deinen Agenten zu positionieren, und \"agent.place()\", um den \"BAMBUS\" zu platzieren\n",
                                     "\n",
                                     "Die Funktion \"agent.give()\" hat drei Parameter. \n",
                                     "\n",
                                     "– item (*String*): der Gegenstand, den du dem Agenten geben willst\n",
                                     "– count (*Integer*): wie viele Gegenstände der Agent erhält\n",
                                     "– slot (*Integer*): der Inventarplatz, auf dem der Agent den Gegenstand erhält\n",
                                     "\n",
                                     "Die Funktion \"agent.move()\" hat einen Parameter, die Richtung.\n",
                                     "\n",
                                     "Gültige Richtungen sind: \n",
                                     "– forward: vorwärts\n",
                                     "– back: zurück\n",
                                     "– left: nach links\n",
                                     "– right: nach rechts\n",
                                     "– up: nach oben\n",
                                     "– down: nach unten\n",
                                     "\n",
                                     "Die Funktion \"agent.place()\" hat zwei Parameter: \n",
                                     "\n",
                                     "– slot number (*Integer*): welchen Inventarplatz der Agent nutzen soll\n",
                                     "– direction (*String*): die Richtung, in die der Agent den Gegenstand platzieren soll\n",
                                     "    – Gültige Richtungen sind: \n",
                                     "        – forward: vorwärts\n",
                                     "        – back: zurück\n",
                                     "        – left: nach links\n",
                                     "        – right: nach rechts\n",
                                     "        – up: nach oben\n",
                                     "        – down: nach unten"
                                 ]
                  },
                  {
                      "cell_type":  "code",
                      "execution_count":  null,
                      "metadata":  {
                                       "minecraft":  {
                                                         "baseCodeCellName":  "Example",
                                                         "closeCodeBuilderOnRun":  true,
                                                         "readonly":  true
                                                     }
                                   },
                      "outputs":  [

                                  ],
                      "source":  [
                                     "# gib dem Agenten einen Stapel Bambus\n",
                                     "# platziere den Bambus unter dem Agenten\n",
                                     "# und bewege dann den Agenten vorwärts\n",
                                     "# mach das 2 Mal\n",
                                     "\n",
                                     "agent.give(\"BAMBOO\", 64, 1)\n",
                                     "agent.place(1,\"down\")\n",
                                     "agent.move(\"forward\")\n",
                                     "agent.place(1,\"down\")"
                                 ]
                  },
                  {
                      "cell_type":  "markdown",
                      "metadata":  {

                                   },
                      "source":  [
                                     "# Tipp:\n",
                                     "\n",
                                     "Verwende eine \"for\"-Schleife, um eine oder mehrere Aktionen mehrmals auszuführen."
                                 ]
                  },
                  {
                      "cell_type":  "code",
                      "execution_count":  null,
                      "metadata":  {
                                       "minecraft":  {
                                                         "baseCodeCellName":  "Example",
                                                         "closeCodeBuilderOnRun":  true,
                                                         "readonly":  true
                                                     }
                                   },
                      "outputs":  [

                                  ],
                      "source":  [
                                     "# gib dem Agenten einen Stapel Bambus\n",
                                     "# platziere den Bambus unter dem Agenten\n",
                                     "# und bewege dann den Agenten vorwärts\n",
                                     "# mach das 2 Mal\n",
                                     "\n",
                                     "agent.give(\"BAMBOO\", 64, 1)\n",
                                     "for i in range(2):\n",
                                     "    agent.place(1,\"down\")\n",
                                     "    agent.move(\"forward\")"
                                 ]
                  },
                  {
                      "cell_type":  "markdown",
                      "metadata":  {

                                   },
                      "source":  [
                                     "# Aktivität:\n",
                                     "\n",
                                     "Der folgende Code ist die richtige Lösung für die Aktivität. Führe den Code aus, um ihn in Aktion zu sehen.\n",
                                     "\n",
                                     "**Hinweis: Verwende die Schaltfläche Code zurücksetzen unten, um das Programmierfeld auf die Lösung zurückzusetzen**"
                                 ]
                  },
                  {
                      "cell_type":  "code",
                      "execution_count":  null,
                      "metadata":  {
                                       "minecraft":  {
                                                         "closeCodeBuilderOnRun":  true,
                                                         "default_code":  "# code here\n\nagent.give(\"BAMBOO\", 64, 1)\nfor i in range(5):\n    agent.place(1,\"down\")\n    agent.move(\"forward\")",
                                                         "resetWorldCommand":  "function act/4/reset"
                                                     }
                                   },
                      "outputs":  [

                                  ],
                      "source":  [
                                     "# Code hier\n",
                                     "\n",
                                     "agent.give(\"BAMBOO\", 64, 1)\n",
                                     "for i in range(5):\n",
                                     "    agent.place(1,\"down\")\n",
                                     "    agent.move(\"forward\")"
                                 ]
                  }
              ],
    "metadata":  {
                     "celltoolbar":  "Edit Metadata",
                     "kernelspec":  {
                                        "display_name":  "Python 3",
                                        "language":  "python",
                                        "name":  "python3"
                                    },
                     "language_info":  {
                                           "codemirror_mode":  {
                                                                   "name":  "ipython",
                                                                   "version":  3
                                                               },
                                           "file_extension":  ".py",
                                           "mimetype":  "text/x-python",
                                           "name":  "python",
                                           "nbconvert_exporter":  "python",
                                           "pygments_lexer":  "ipython3",
                                           "version":  "3.8.8"
                                       },
                     "minecraft":  {
                                       "description":  "TimeCraft",
                                       "page_id":  "1.1",
                                       "page_name":  "Die Chinesische Mauer",
                                       "style":  "minecraft.css"
                                   }
                 },
    "nbformat":  4,
    "nbformat_minor":  4
}
