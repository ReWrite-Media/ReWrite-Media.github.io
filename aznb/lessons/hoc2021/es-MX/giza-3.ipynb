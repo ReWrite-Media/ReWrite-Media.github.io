﻿{
    "cells":  [
                  {
                      "cell_type":  "markdown",
                      "metadata":  {

                                   },
                      "source":  [
                                     "# La Gran Pirámide de Giza (solución)\n",
                                     "\n",
                                     "Ayuda al arquitecto a terminar el triángulo, que es un diseño muy resistente. Piensa cómo\n",
                                     "Construye una pirámide. Se necesitan 2 niveles más: 3 bloques en la parte inferior y 1 bloque en la parte superior. Programa la solución con \u0027agent.give()\u0027 para darle a tu Agent un montón de \u0027SANDSTONE\u0027, luego usa \u0027agent.move()\u0027 para posicionar al Agent y luego usa \u0027agent.place()\u0027 para colocar los bloques en forma de pirámide de 3 capas.\n",
                                     "\n",
                                     "La función \u0027agent.give()\u0027 utiliza tres parámetros.  \n",
                                     "\n",
                                     "- item (*cadena*): el objeto que quieres darle al Agent.\n",
                                     "- count (*entero*): el número de objetos que recibirá el Agent.\n",
                                     "- slot (*entero*): el espacio del inventario donde el Agent recibirá el objeto.\n",
                                     "\n",
                                     "La función \u0027agent.move()\u0027 utiliza el parámetro \u0027direction\u0027.\n",
                                     "\n",
                                     "Las direcciones válidas son: \n",
                                     "- forward (adelante)\n",
                                     "- back (atrás)\n",
                                     "- left (izquierda)\n",
                                     "- right (derecha)\n",
                                     "- up (arriba)\n",
                                     "- down (abajo)\n",
                                     "\n",
                                     "La función \u0027agent.place()\u0027 utiliza dos parámetros.  \n",
                                     "\n",
                                     "- slot number (*entero*): el espacio del inventario que debe usar el Agent.\n",
                                     "- direction (*cadena*): la dirección en la que deseas que el Agent coloque el objeto.\n",
                                     "    - Las direcciones válidas son: \n",
                                     "        - forward (adelante)\n",
                                     "        - back (atrás)\n",
                                     "        - left (izquierda)\n",
                                     "        - right (derecha)\n",
                                     "        - up (arriba)\n",
                                     "        - down (abajo)\n",
                                     "        \n",
                                     "La función \u0027agent.turn()\u0027 utiliza el parámetro \u0027turn_direction\u0027.\n",
                                     "\n",
                                     "Las direcciones válidas son: \n",
                                     "- left (izquierda)\n",
                                     "- right (derecha)        "
                                 ]
                  },
                  {
                      "cell_type":  "code",
                      "execution_count":  null,
                      "metadata":  {
                                       "minecraft":  {
                                                         "baseCodeCellName":  "Example",
                                                         "closeCodeBuilderOnRun":  true,
                                                         "readonly":  true
                                                     }
                                   },
                      "outputs":  [

                                  ],
                      "source":  [
                                     "# dale al Agent un montón de arenisca\n",
                                     "# mueve al Agent hacia adelante\n",
                                     "# y coloca los bloques de arenisca\n",
                                     "# repite esto 5 veces\n",
                                     "\n",
                                     "agent.give(\"SANDSTONE\", 64, 1)\n",
                                     "agent.move(\"forward\")\n",
                                     "agent.place(\"back\", 1)\n",
                                     "agent.move(\"forward\")\n",
                                     "agent.place(\"back\", 1)\n",
                                     "agent.move(\"forward\")\n",
                                     "agent.place(\"back\", 1)\n",
                                     "agent.move(\"forward\")\n",
                                     "agent.place(\"back\", 1)\n",
                                     "agent.move(\"forward\")\n",
                                     "agent.place(\"back\", 1)"
                                 ]
                  },
                  {
                      "cell_type":  "markdown",
                      "metadata":  {

                                   },
                      "source":  [
                                     "# Consejo de los profesionales:\n",
                                     "\n",
                                     "Utiliza un bucle \u0027for\u0027 para realizar una o más acciones varias veces."
                                 ]
                  },
                  {
                      "cell_type":  "code",
                      "execution_count":  null,
                      "metadata":  {
                                       "minecraft":  {
                                                         "baseCodeCellName":  "Example",
                                                         "closeCodeBuilderOnRun":  true,
                                                         "readonly":  true
                                                     }
                                   },
                      "outputs":  [

                                  ],
                      "source":  [
                                     "# dale al Agent un montón de arenisca\n",
                                     "# mueve al Agent hacia adelante\n",
                                     "# y coloca los bloques de arenisca\n",
                                     "# repite esto 5 veces\n",
                                     "\n",
                                     "agent.give(\"SANDSTONE\", 64, 1)\n",
                                     "for i in range(5):\n",
                                     "    agent.move(\"forward\")\n",
                                     "    agent.place(\"back\", 1)"
                                 ]
                  },
                  {
                      "cell_type":  "markdown",
                      "metadata":  {

                                   },
                      "source":  [
                                     "# Actividad:\n",
                                     "\n",
                                     "El siguiente código es la solución correcta para la actividad. Ejecuta el código para verlo en acción.\n",
                                     "\n",
                                     "**Nota: Utiliza el botón \u0027Restablecer código\u0027 que aparece abajo para restablecer el cuadro y mostrar la solución**"
                                 ]
                  },
                  {
                      "cell_type":  "code",
                      "execution_count":  null,
                      "metadata":  {
                                       "minecraft":  {
                                                         "closeCodeBuilderOnRun":  true,
                                                         "default_code":  "# code here\n\nagent.give(\"SANDSTONE\", 64, 1)\n\nfor i in range(3):\n    agent.move(\"forward\")\n    agent.place(\"back\", 1)\n\nagent.move(\"up\")\nagent.turn(\"left\")\nagent.turn(\"left\")\nagent.move(\"forward\")\nagent.move(\"forward\")\n\nagent.move(\"forward\")\nagent.place(\"back\", 1)",
                                                         "resetWorldCommand":  "function act/2/reset"
                                                     }
                                   },
                      "outputs":  [

                                  ],
                      "source":  [
                                     "# coloca el código aquí\n",
                                     "\n",
                                     "agent.give(\"SANDSTONE\", 64, 1)\n",
                                     "\n",
                                     "for i in range(3):\n",
                                     "    agent.move(\"forward\")\n",
                                     "    agent.place(\"back\", 1)\n",
                                     "\n",
                                     "agent.move(\"up\")\n",
                                     "agent.turn(\"left\")\n",
                                     "agent.turn(\"left\")\n",
                                     "agent.move(\"forward\")\n",
                                     "agent.move(\"forward\")\n",
                                     "\n",
                                     "agent.move(\"forward\")\n",
                                     "agent.place(\"back\", 1)"
                                 ]
                  }
              ],
    "metadata":  {
                     "celltoolbar":  "Edit Metadata",
                     "kernelspec":  {
                                        "display_name":  "Python 3",
                                        "language":  "python",
                                        "name":  "python3"
                                    },
                     "language_info":  {
                                           "codemirror_mode":  {
                                                                   "name":  "ipython",
                                                                   "version":  3
                                                               },
                                           "file_extension":  ".py",
                                           "mimetype":  "text/x-python",
                                           "name":  "python",
                                           "nbconvert_exporter":  "python",
                                           "pygments_lexer":  "ipython3",
                                           "version":  "3.8.8"
                                       },
                     "minecraft":  {
                                       "description":  "TimeCraft",
                                       "page_id":  "1.1",
                                       "page_name":  "Las pirámides de Giza",
                                       "style":  "minecraft.css"
                                   }
                 },
    "nbformat":  4,
    "nbformat_minor":  4
}
