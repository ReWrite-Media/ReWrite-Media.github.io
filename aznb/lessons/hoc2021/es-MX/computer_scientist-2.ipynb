﻿{
    "cells":  [
                  {
                      "cell_type":  "markdown",
                      "metadata":  {

                                   },
                      "source":  [
                                     "# La primera programadora (depuración)\n",
                                     "\n",
                                     "La programadora creó algunas tarjetas perforadas con las instrucciones para el primer algoritmo, pero los agujeros de las tarjetas perforadas están bloqueados. Usa \u0027agent.move()\u0027 para mover al Agent sobre los bloques de color marrón y luego usa \u0027agent.destroy()\u0027 para romper el bloque que está debajo de él.\n",
                                     "\n",
                                     "La función \u0027agent.move()\u0027 utiliza el parámetro \u0027direction\u0027.\n",
                                     "\n",
                                     "Las direcciones válidas son: \n",
                                     "- forward (adelante)\n",
                                     "- back (atrás)\n",
                                     "- left (izquierda)\n",
                                     "- right (derecha)\n",
                                     "- up (arriba)\n",
                                     "- down (abajo)\n",
                                     "\n",
                                     "La función \u0027agent.destroy()\u0027 utiliza el parámetro \u0027direction\u0027.\n",
                                     "\n",
                                     "Las direcciones válidas son: \n",
                                     "- forward (adelante)\n",
                                     "- back (atrás)\n",
                                     "- left (izquierda)\n",
                                     "- right (derecha)\n",
                                     "- up (arriba)\n",
                                     "- down (abajo)\n",
                                     "\n",
                                     "La función \u0027agent.turn()\u0027 utiliza el parámetro \u0027turn_direction\u0027.\n",
                                     "\n",
                                     "Las direcciones válidas son: \n",
                                     "- left (izquierda)\n",
                                     "- right (derecha)"
                                 ]
                  },
                  {
                      "cell_type":  "code",
                      "execution_count":  null,
                      "metadata":  {
                                       "minecraft":  {
                                                         "baseCodeCellName":  "Example",
                                                         "closeCodeBuilderOnRun":  true,
                                                         "readonly":  true
                                                     }
                                   },
                      "outputs":  [

                                  ],
                      "source":  [
                                     "# mueve al Agent 2 bloques hacia adelante\n",
                                     "# y rompe el bloque que está debajo de él.\n",
                                     "\n",
                                     "agent.move(\"forward\")\n",
                                     "agent.destroy(\"down\")"
                                 ]
                  },
                  {
                      "cell_type":  "markdown",
                      "metadata":  {

                                   },
                      "source":  [
                                     "# Actividad:\n",
                                     "\n",
                                     "El siguiente código tiene valores incorrectos. Ejecuta el código para ver qué pasa, e intenta depurar y corregir el código para completar la actividad.\n",
                                     "\n",
                                     "**Nota: Utiliza el botón \u0027Restablecer código\u0027 que aparece abajo para restablecer el cuadro de escritura con el código de depuración**"
                                 ]
                  },
                  {
                      "cell_type":  "code",
                      "execution_count":  null,
                      "metadata":  {
                                       "minecraft":  {
                                                         "closeCodeBuilderOnRun":  true,
                                                         "default_code":  "# code here\n\nagent.move(\"forward\")\nagent.destroy(\"up\")\nagent.move(\"forward\")\nagent.move(\"forward\")\nagent.destroy(\"up\")\nagent.move(\"forward\")\nagent.move(\"forward\")\nagent.destroy(\"up\")\nagent.turn(\"left\")\nagent.move(\"forward\")\nagent.move(\"forward\")\nagent.turn(\"left\")\nagent.destroy(\"up\")\nagent.move(\"forward\")\nagent.move(\"forward\")\nagent.destroy(\"up\")\nagent.move(\"forward\")\nagent.move(\"forward\")\nagent.destroy(\"up\")",
                                                         "resetWorldCommand":  "function act/7/reset"
                                                     }
                                   },
                      "outputs":  [

                                  ],
                      "source":  [
                                     "# coloca el código aquí\n",
                                     "\n",
                                     "agent.move(\"forward\")\n",
                                     "agent.destroy(\"up\")\n",
                                     "agent.move(\"forward\")\n",
                                     "agent.move(\"forward\")\n",
                                     "agent.destroy(\"up\")\n",
                                     "agent.move(\"forward\")\n",
                                     "agent.move(\"forward\")\n",
                                     "agent.destroy(\"up\")\n",
                                     "agent.turn(\"left\")\n",
                                     "agent.move(\"forward\")\n",
                                     "agent.move(\"forward\")\n",
                                     "agent.turn(\"left\")\n",
                                     "agent.destroy(\"up\")\n",
                                     "agent.move(\"forward\")\n",
                                     "agent.move(\"forward\")\n",
                                     "agent.destroy(\"up\")\n",
                                     "agent.move(\"forward\")\n",
                                     "agent.move(\"forward\")\n",
                                     "agent.destroy(\"up\")"
                                 ]
                  }
              ],
    "metadata":  {
                     "celltoolbar":  "Edit Metadata",
                     "kernelspec":  {
                                        "display_name":  "Python 3",
                                        "language":  "python",
                                        "name":  "python3"
                                    },
                     "language_info":  {
                                           "codemirror_mode":  {
                                                                   "name":  "ipython",
                                                                   "version":  3
                                                               },
                                           "file_extension":  ".py",
                                           "mimetype":  "text/x-python",
                                           "name":  "python",
                                           "nbconvert_exporter":  "python",
                                           "pygments_lexer":  "ipython3",
                                           "version":  "3.8.8"
                                       },
                     "minecraft":  {
                                       "description":  "TimeCraft",
                                       "page_id":  "1.1",
                                       "page_name":  "La primera programadora",
                                       "style":  "minecraft.css"
                                   }
                 },
    "nbformat":  4,
    "nbformat_minor":  4
}
