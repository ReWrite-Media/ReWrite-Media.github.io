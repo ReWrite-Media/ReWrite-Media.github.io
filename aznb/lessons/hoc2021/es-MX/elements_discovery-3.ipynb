﻿{
    "cells":  [
                  {
                      "cell_type":  "markdown",
                      "metadata":  {

                                   },
                      "source":  [
                                     "# Elementos de descubrimiento (solución)\n",
                                     "\n",
                                     "Cuando la química salió de la habitación, alguien escondió su investigación en la estantería. Programa a tu\n",
                                     "Haz que el Agent rompa la estantería verde brillante para que pueda compartir sus descubrimientos. Usa la función \u0027agent.move()\u0027 para mover el Agent hacia la estantería verde brillante y luego usa \u0027agent.destroy()\u0027 para romperla.\n",
                                     "\n",
                                     "La función \u0027agent.move()\u0027 utiliza el parámetro \u0027direction\u0027.\n",
                                     "\n",
                                     "Las direcciones válidas son: \n",
                                     "- forward (adelante)\n",
                                     "- back (atrás)\n",
                                     "- left (izquierda)\n",
                                     "- right (derecha)\n",
                                     "- up (arriba)\n",
                                     "- down (abajo)\n",
                                     "\n",
                                     "La función \u0027agent.destroy()\u0027 utiliza el parámetro \u0027direction\u0027.\n",
                                     "\n",
                                     "Las direcciones válidas son: \n",
                                     "- forward (adelante)\n",
                                     "- back (atrás)\n",
                                     "- left (izquierda)\n",
                                     "- right (derecha)\n",
                                     "- up (arriba)\n",
                                     "- down (abajo)\n",
                                     "\n",
                                     "La función \u0027agent.turn()\u0027 utiliza el parámetro \u0027turn_direction\u0027.\n",
                                     "\n",
                                     "Las direcciones válidas son: \n",
                                     "- left (izquierda)\n",
                                     "- right (derecha)"
                                 ]
                  },
                  {
                      "cell_type":  "code",
                      "execution_count":  null,
                      "metadata":  {
                                       "minecraft":  {
                                                         "baseCodeCellName":  "Example",
                                                         "closeCodeBuilderOnRun":  true,
                                                         "readonly":  true
                                                     }
                                   },
                      "outputs":  [

                                  ],
                      "source":  [
                                     "# mueve al Agent 2 bloques hacia arriba y 2 bloques hacia adelante\n",
                                     "# y luego rompe el bloque que está a la izquierda\n",
                                     "\n",
                                     "agent.move(\"up\")\n",
                                     "agent.move(\"up\")\n",
                                     "agent.move(\"forward\")\n",
                                     "agent.move(\"forward\")\n",
                                     "agent.destroy(\"left\")"
                                 ]
                  },
                  {
                      "cell_type":  "markdown",
                      "metadata":  {

                                   },
                      "source":  [
                                     "# Consejo de los profesionales:\n",
                                     "\n",
                                     "Utiliza un bucle \u0027for\u0027 para realizar una o más acciones varias veces."
                                 ]
                  },
                  {
                      "cell_type":  "code",
                      "execution_count":  null,
                      "metadata":  {
                                       "minecraft":  {
                                                         "baseCodeCellName":  "Example",
                                                         "closeCodeBuilderOnRun":  true,
                                                         "readonly":  true
                                                     }
                                   },
                      "outputs":  [

                                  ],
                      "source":  [
                                     "# mueve al Agent 2 bloques hacia arriba y 2 bloques hacia adelante\n",
                                     "# y luego rompe el bloque que está a la izquierda\n",
                                     "\n",
                                     "agent.move(\"up\")\n",
                                     "for i in range (2):\n",
                                     "    agent.move(\"forward\")"
                                 ]
                  },
                  {
                      "cell_type":  "markdown",
                      "metadata":  {

                                   },
                      "source":  [
                                     "# Actividad:\n",
                                     "\n",
                                     "El siguiente código es la solución correcta para la actividad. Ejecuta el código para verlo en acción.\n",
                                     "\n",
                                     "**Nota: Utiliza el botón \u0027Restablecer código\u0027 que aparece abajo para restablecer el cuadro y mostrar la solución**"
                                 ]
                  },
                  {
                      "cell_type":  "code",
                      "execution_count":  null,
                      "metadata":  {
                                       "minecraft":  {
                                                         "closeCodeBuilderOnRun":  true,
                                                         "default_code":  "# code here\n\nagent.move(\"up\")\n\nfor i in range (4):\n    agent.move(\"forward\")\n\nagent.destroy(\"left\")",
                                                         "resetWorldCommand":  "function act/10/reset"
                                                     }
                                   },
                      "outputs":  [

                                  ],
                      "source":  [
                                     "# coloca el código aquí\n",
                                     "\n",
                                     "agent.move(\"up\")\n",
                                     "\n",
                                     "for i in range (4):\n",
                                     "    agent.move(\"forward\")\n",
                                     "\n",
                                     "agent.destroy(\"left\")"
                                 ]
                  }
              ],
    "metadata":  {
                     "celltoolbar":  "Edit Metadata",
                     "kernelspec":  {
                                        "display_name":  "Python 3",
                                        "language":  "python",
                                        "name":  "python3"
                                    },
                     "language_info":  {
                                           "codemirror_mode":  {
                                                                   "name":  "ipython",
                                                                   "version":  3
                                                               },
                                           "file_extension":  ".py",
                                           "mimetype":  "text/x-python",
                                           "name":  "python",
                                           "nbconvert_exporter":  "python",
                                           "pygments_lexer":  "ipython3",
                                           "version":  "3.8.8"
                                       },
                     "minecraft":  {
                                       "description":  "TimeCraft",
                                       "page_id":  "1.1",
                                       "page_name":  "Elementos de descubrimiento",
                                       "style":  "minecraft.css"
                                   }
                 },
    "nbformat":  4,
    "nbformat_minor":  4
}
