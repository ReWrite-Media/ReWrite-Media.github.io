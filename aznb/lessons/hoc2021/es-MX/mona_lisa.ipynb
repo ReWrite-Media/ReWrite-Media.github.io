﻿{
    "cells":  [
                  {
                      "cell_type":  "markdown",
                      "source":  [
                                     "# La Mona Lisa\n",
                                     "\n",
                                     "La Mona Lisa tiene una mueca de disgusto, en lugar de su famosa sonrisa, porque alguien destruyó su jardín. Usa la función \u0027agent.give()\u0027 para darle a tu Agent un montón de \u0027WHITE GLAZED TERRACOTTA\u0027, y luego usa \u0027agent.move()\u0027 para posicionar a tu Agent y \u0027agent.place()\u0027 para colocar la \u0027WHITE GLAZED TERRACOTTA\u0027.\n",
                                     "\n",
                                     "La función \u0027agent.give()\u0027 utiliza tres parámetros.  \n",
                                     "\n",
                                     "- item (*cadena*): el objeto que quieres darle al Agent.\n",
                                     "- count (*entero*): el número de objetos que recibirá el Agent.\n",
                                     "- slot (*entero*): el espacio del inventario donde el Agent recibirá el objeto.\n",
                                     "\n",
                                     "La función \u0027agent.move()\u0027 utiliza el parámetro \u0027direction\u0027.\n",
                                     "\n",
                                     "Las direcciones válidas son: \n",
                                     "- forward (adelante)\n",
                                     "- back (atrás)\n",
                                     "- left (izquierda)\n",
                                     "- right (derecha)\n",
                                     "- up (arriba)\n",
                                     "- down (abajo)\n",
                                     "\n",
                                     "La función \u0027agent.place()\u0027 utiliza dos parámetros.  \n",
                                     "\n",
                                     "- slot number (*entero*): el espacio del inventario que debe usar el Agent.\n",
                                     "- direction (*cadena*): la dirección en la que deseas que el Agent coloque el objeto.\n",
                                     "    - Las direcciones válidas son: \n",
                                     "        - forward (adelante)\n",
                                     "        - back (atrás)\n",
                                     "        - left (izquierda)\n",
                                     "        - right (derecha)\n",
                                     "        - up (arriba)\n",
                                     "        - down (abajo)"
                                 ],
                      "metadata":  {

                                   }
                  },
                  {
                      "cell_type":  "code",
                      "execution_count":  null,
                      "source":  [
                                     "# dale al Agent un montón de terracota vidriada blanca\r\n",
                                     "# luego, avanza y coloca un bloque debajo del Agent\r\n",
                                     "# repite esto 5 veces\r\n",
                                     "\r\n",
                                     "agent.give(\"WHITE GLAZED TERRACOTTA\", 64, 1)\r\n",
                                     "agent.move(\"forward\")\r\n",
                                     "agent.place(\"down\", 1)\r\n",
                                     "agent.move(\"forward\")\r\n",
                                     "agent.place(\"down\", 1)\r\n",
                                     "agent.move(\"forward\")\r\n",
                                     "agent.place(\"down\", 1)\r\n",
                                     "agent.move(\"forward\")\r\n",
                                     "agent.place(\"down\", 1)\r\n",
                                     "agent.move(\"forward\")\r\n",
                                     "agent.place(\"down\", 1)"
                                 ],
                      "outputs":  [

                                  ],
                      "metadata":  {
                                       "minecraft":  {
                                                         "baseCodeCellName":  "Example",
                                                         "closeCodeBuilderOnRun":  true,
                                                         "readonly":  true
                                                     }
                                   }
                  },
                  {
                      "cell_type":  "markdown",
                      "source":  [
                                     "# Consejo de los profesionales:\n",
                                     "\n",
                                     "Utiliza un bucle \u0027for\u0027 para realizar una o más acciones varias veces."
                                 ],
                      "metadata":  {

                                   }
                  },
                  {
                      "cell_type":  "code",
                      "execution_count":  null,
                      "source":  [
                                     "# dale al Agent un montón de terracota vidriada blanca\r\n",
                                     "# luego, avanza y coloca un bloque debajo del Agent\r\n",
                                     "# repite esto 5 veces\r\n",
                                     "\r\n",
                                     "agent.give(\"WHITE GLAZED TERRACOTTA\", 64, 1)\r\n",
                                     "for i in range(5):\r\n",
                                     "    agent.move(\"forward\")\r\n",
                                     "    agent.place(\"down\", 1)"
                                 ],
                      "outputs":  [

                                  ],
                      "metadata":  {
                                       "minecraft":  {
                                                         "baseCodeCellName":  "Example",
                                                         "closeCodeBuilderOnRun":  true,
                                                         "readonly":  true
                                                     }
                                   }
                  },
                  {
                      "cell_type":  "markdown",
                      "source":  [
                                     "# Actividad\r\n",
                                     "\r\n",
                                     "Complete el contorno cuadrado de \u0027WHITE GLAZED TERRACOTTA\u0027 al mover al Agent y colocar un bloque debajo de él.\r\n",
                                     "\r\n",
                                     "**Nota: Puedes reiniciar la actividad al utilizar tu dispositivo T.A.L.K. o al usar el botón \u0027Restablecer actividad\u0027.**"
                                 ],
                      "metadata":  {

                                   }
                  },
                  {
                      "cell_type":  "code",
                      "execution_count":  null,
                      "source":  [
                                     "# coloca el código aquí\r\n",
                                     "\r\n",
                                     "\r\n"
                                 ],
                      "outputs":  [

                                  ],
                      "metadata":  {
                                       "minecraft":  {
                                                         "closeCodeBuilderOnRun":  true,
                                                         "default_code":  "# code here\n\n\n",
                                                         "resetWorldCommand":  "function act/5/reset"
                                                     }
                                   }
                  }
              ],
    "metadata":  {
                     "celltoolbar":  "Edit Metadata",
                     "kernelspec":  {
                                        "display_name":  "Python 3",
                                        "language":  "python",
                                        "name":  "python3"
                                    },
                     "language_info":  {
                                           "codemirror_mode":  {
                                                                   "name":  "ipython",
                                                                   "version":  3
                                                               },
                                           "file_extension":  ".py",
                                           "mimetype":  "text/x-python",
                                           "name":  "python",
                                           "nbconvert_exporter":  "python",
                                           "pygments_lexer":  "ipython3",
                                           "version":  "3.8.8"
                                       },
                     "minecraft":  {
                                       "description":  "TimeCraft",
                                       "page_id":  "1.1",
                                       "page_name":  "La Mona Lisa",
                                       "style":  "minecraft.css"
                                   }
                 },
    "nbformat":  4,
    "nbformat_minor":  4
}
