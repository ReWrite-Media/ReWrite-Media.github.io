﻿{
    "cells":  [
                  {
                      "cell_type":  "markdown",
                      "source":  [
                                     "# Výprava na Měsíc\n",
                                     "\n",
                                     "Vyšlete svého agenta do vesmírného modulu a doručte výpočty. Nemůžete spočítat, o kolik polí se musí agent posunout k dokončení mise. Promyslete si požadované kroky a pomocí výpočtů matematika určete, kolik kroků musí agent udělat. Pomocí funkce „agent.move()“ přesunete agenta do lunárního modulu a provedete dokování.\n",
                                     "\n",
                                     "Funkce `agent.move()` přebírá jeden parametr, direction (směr).\n",
                                     "\n",
                                     "Platné hodnoty směru jsou: \n",
                                     "- forward\n",
                                     "- back\n",
                                     "- left\n",
                                     "- right\n",
                                     "- up\n",
                                     "- down\n",
                                     "\n",
                                     "Funkce „agent.turn()“ má jeden parametr, turn_direction (směr otočení).\n",
                                     "\n",
                                     "Platné hodnoty směru jsou: \n",
                                     "- left\n",
                                     "- right"
                                 ],
                      "metadata":  {

                                   }
                  },
                  {
                      "cell_type":  "code",
                      "execution_count":  null,
                      "source":  [
                                     "# posuňte agenta o 5 bloků vpřed\r\n",
                                     "# poté se otočte vpravo\r\n",
                                     "agent.move(\"forward\")\r\n",
                                     "agent.move(\"forward\")\r\n",
                                     "agent.move(\"forward\")\r\n",
                                     "agent.move(\"forward\")\r\n",
                                     "agent.move(\"forward\")\r\n",
                                     "agent.turn(\"right\")"
                                 ],
                      "outputs":  [

                                  ],
                      "metadata":  {
                                       "minecraft":  {
                                                         "baseCodeCellName":  "Example",
                                                         "closeCodeBuilderOnRun":  true,
                                                         "readonly":  true
                                                     }
                                   }
                  },
                  {
                      "cell_type":  "markdown",
                      "source":  [
                                     "# Tip od profesionálů:\n",
                                     "\n",
                                     "Pomocí smyčky „for“ můžete několikrát provést jednu nebo více akcí."
                                 ],
                      "metadata":  {

                                   }
                  },
                  {
                      "cell_type":  "code",
                      "execution_count":  null,
                      "source":  [
                                     "# posuňte agenta o 5 bloků vpřed\r\n",
                                     "# poté se otočte vpravo\r\n",
                                     "for i in range(5):\r\n",
                                     "    agent.move(\"forward\")\r\n",
                                     "agent.turn(\"right\")    "
                                 ],
                      "outputs":  [

                                  ],
                      "metadata":  {
                                       "minecraft":  {
                                                         "baseCodeCellName":  "Example",
                                                         "closeCodeBuilderOnRun":  true,
                                                         "readonly":  true
                                                     }
                                   }
                  },
                  {
                      "cell_type":  "markdown",
                      "source":  [
                                     "# Aktivita\n",
                                     "\n",
                                     "Přesuňte agenta do lunárního modulu tím, že se posunete o 25 bloků vpřed, o 17 vpravo a o 3 dolů.\n",
                                     "\n",
                                     "**Poznámka: Aktivitu můžete resetovat pomocí zařízení T.A.L.K. nebo tlačítka Resetovat aktivitu.**"
                                 ],
                      "metadata":  {

                                   }
                  },
                  {
                      "cell_type":  "code",
                      "execution_count":  null,
                      "source":  [
                                     "# sem pište kód\r\n",
                                     "\r\n",
                                     "\r\n"
                                 ],
                      "outputs":  [

                                  ],
                      "metadata":  {
                                       "minecraft":  {
                                                         "closeCodeBuilderOnRun":  true,
                                                         "default_code":  "# code here\n\n\n",
                                                         "resetWorldCommand":  "function act/3/reset"
                                                     }
                                   }
                  }
              ],
    "metadata":  {
                     "celltoolbar":  "Edit Metadata",
                     "kernelspec":  {
                                        "display_name":  "Python 3",
                                        "language":  "python",
                                        "name":  "python3"
                                    },
                     "language_info":  {
                                           "codemirror_mode":  {
                                                                   "name":  "ipython",
                                                                   "version":  3
                                                               },
                                           "file_extension":  ".py",
                                           "mimetype":  "text/x-python",
                                           "name":  "python",
                                           "nbconvert_exporter":  "python",
                                           "pygments_lexer":  "ipython3",
                                           "version":  "3.8.8"
                                       },
                     "minecraft":  {
                                       "description":  "TimeCraft",
                                       "page_id":  "1.1",
                                       "page_name":  "Výprava na Měsíc",
                                       "style":  "minecraft.css"
                                   }
                 },
    "nbformat":  4,
    "nbformat_minor":  4
}
