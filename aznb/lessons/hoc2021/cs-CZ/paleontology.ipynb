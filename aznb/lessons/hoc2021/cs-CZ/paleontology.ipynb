﻿{
    "cells":  [
                  {
                      "cell_type":  "markdown",
                      "metadata":  {

                                   },
                      "source":  [
                                     "# Paleontologická hádanka\n",
                                     "\n",
                                     "Někdo vzal kosti z kostry dinosaura a vyměnil je za oranžové bloky. Naprogramujte agenta, aby ZNIČIL všechny 4 oranžové bloky a UMÍSTĚTE bloky „BONEBLOCK“. Pomocí funkce „agent.give()“ dáte agentovi hromadu bloků „BONEBLOCK“ a pomocí funkce „agent.move()“ umístíte agenta nad oranžový blok. Poté pomocí funkce „agent.destroy()“ rozbijete oranžový blok a pomocí funkce „agent.place()“ ho vyměníte za blok „BONEBLOCK“.\n",
                                     "\n",
                                     "Funkce „agent.give()“ má tři parametry.  \n",
                                     "\n",
                                     "- item (*string*): Předmět, který chcete agentovi dát\n",
                                     "- count (*integer*): Kolik předmětů agent přijme\n",
                                     "- slot (*integer*): Pozice inventáře, do které agent předmět přijímá\n",
                                     "\n",
                                     "Funkce „agent.move()“ má jeden parametr, direction (směr).\n",
                                     "\n",
                                     "Platné hodnoty směru jsou: \n",
                                     "- forward\n",
                                     "- back\n",
                                     "- left\n",
                                     "- right\n",
                                     "- up\n",
                                     "- down\n",
                                     "\n",
                                     "Funkce „agent.destroy()“ má jeden parametr, direction (směr).\n",
                                     "\n",
                                     "Platné hodnoty směru jsou: \n",
                                     "- forward\n",
                                     "- back\n",
                                     "- left\n",
                                     "- right\n",
                                     "- up\n",
                                     "- down\n",
                                     "\n",
                                     "Funkce „agent.place()“ má dva parametry.  \n",
                                     "\n",
                                     "- slot number (*integer*): Kterou pozici inventáře by měl agent použít\n",
                                     "- direction (*string*): Směr, kterým má agent předmět umístit\n",
                                     "    - Platné hodnoty směru jsou: \n",
                                     "        - forward\n",
                                     "        - back\n",
                                     "        - left\n",
                                     "        - right\n",
                                     "        - up\n",
                                     "        - down"
                                 ]
                  },
                  {
                      "cell_type":  "code",
                      "execution_count":  null,
                      "metadata":  {
                                       "minecraft":  {
                                                         "baseCodeCellName":  "Example",
                                                         "closeCodeBuilderOnRun":  true,
                                                         "readonly":  true
                                                     }
                                   },
                      "outputs":  [

                                  ],
                      "source":  [
                                     "# dejte agentovi hromadu kostěných bloků\n",
                                     "# poté ho posuňte o 2 bloky vpřed, rozbijte blok pod ním\n",
                                     "# a umístěte kostěný blok\n",
                                     "# udělejte to dvakrát\n",
                                     "\n",
                                     "agent.give(\"BONEBLOCK\", 64, 1)\n",
                                     "agent.move(\"forward\")\n",
                                     "agent.move(\"forward\")\n",
                                     "agent.destroy(\"down\")\n",
                                     "agent.place(\"down\", 1)\n",
                                     "agent.move(\"forward\")\n",
                                     "agent.move(\"forward\")\n",
                                     "agent.destroy(\"down\")\n",
                                     "agent.place(\"down\", 1)"
                                 ]
                  },
                  {
                      "cell_type":  "markdown",
                      "metadata":  {

                                   },
                      "source":  [
                                     "# Tip od profesionálů:\n",
                                     "\n",
                                     "Pomocí smyčky „for“ můžete několikrát provést jednu nebo více akcí."
                                 ]
                  },
                  {
                      "cell_type":  "code",
                      "execution_count":  null,
                      "metadata":  {
                                       "minecraft":  {
                                                         "baseCodeCellName":  "Example",
                                                         "closeCodeBuilderOnRun":  true,
                                                         "readonly":  true
                                                     }
                                   },
                      "outputs":  [

                                  ],
                      "source":  [
                                     "# dejte agentovi hromadu kostěných bloků\n",
                                     "# poté ho posuňte o 2 bloky vpřed, rozbijte blok pod ním\n",
                                     "# a umístěte kostěný blok\n",
                                     "# udělejte to dvakrát\n",
                                     "\n",
                                     "agent.give(\"BONEBLOCK\", 64, 1)\n",
                                     "for i in range(2):\n",
                                     "    agent.move(\"forward\")\n",
                                     "    agent.move(\"forward\")\n",
                                     "    agent.destroy(\"down\")\n",
                                     "    agent.place(\"down\", 1)"
                                 ]
                  },
                  {
                      "cell_type":  "markdown",
                      "metadata":  {

                                   },
                      "source":  [
                                     "# Aktivita\n",
                                     "\n",
                                     "Odstraňte všechny oranžové bloky a vyměňte je za blok „BONEBLOCK“.\n",
                                     "\n",
                                     "**Poznámka: Aktivitu můžete resetovat pomocí zařízení T.A.L.K. nebo tlačítka Resetovat aktivitu.**"
                                 ]
                  },
                  {
                      "cell_type":  "code",
                      "execution_count":  null,
                      "metadata":  {
                                       "minecraft":  {
                                                         "closeCodeBuilderOnRun":  true,
                                                         "default_code":  "# code here\n\n\n",
                                                         "resetWorldCommand":  "function act/9/reset"
                                                     }
                                   },
                      "outputs":  [

                                  ],
                      "source":  [
                                     "# tady programujte\n",
                                     "\n",
                                     "\n"
                                 ]
                  }
              ],
    "metadata":  {
                     "celltoolbar":  "Edit Metadata",
                     "kernelspec":  {
                                        "display_name":  "Python 3",
                                        "language":  "python",
                                        "name":  "python3"
                                    },
                     "language_info":  {
                                           "codemirror_mode":  {
                                                                   "name":  "ipython",
                                                                   "version":  3
                                                               },
                                           "file_extension":  ".py",
                                           "mimetype":  "text/x-python",
                                           "name":  "python",
                                           "nbconvert_exporter":  "python",
                                           "pygments_lexer":  "ipython3",
                                           "version":  "3.8.8"
                                       },
                     "minecraft":  {
                                       "description":  "TimeCraft",
                                       "page_id":  "1.1",
                                       "page_name":  "Paleontologická hádanka",
                                       "style":  "minecraft.css"
                                   }
                 },
    "nbformat":  4,
    "nbformat_minor":  4
}
