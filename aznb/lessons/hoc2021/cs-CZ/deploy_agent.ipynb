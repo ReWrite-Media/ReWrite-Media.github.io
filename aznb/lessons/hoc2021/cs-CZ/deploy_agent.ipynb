﻿{
    "cells":  [
                  {
                      "cell_type":  "markdown",
                      "source":  [
                                     "## Agent nasazen!\n",
                                     "Úspěšně jste nasadili svého agenta! \n",
                                     "\n",
                                     "Toto je okno Nástroje pro tvorbu kódu. Budete ho používat, až budete připraveni psát kód!\n",
                                     "\n",
                                     "Níže uvidíte pole pro zápis kódu. V další aktivitě do něj budete psát kód a spouštět ho."
                                 ],
                      "metadata":  {

                                   }
                  },
                  {
                      "cell_type":  "code",
                      "execution_count":  null,
                      "source":  [
                                     "## takhle vypadá pole pro zápis kódu\r\n",
                                     "## budete používat oddíly, jako jsou tyto,\r\n",
                                     "## k zápisu kódu při budoucích aktivitách"
                                 ],
                      "outputs":  [

                                  ],
                      "metadata":  {
                                       "minecraft":  {
                                                         "closeCodeBuilderOnRun":  true,
                                                         "default_code":  "## this is what a coding box look like\n## you\u0027ll use section like these to\n## write your code in future activities\n"
                                                     }
                                   }
                  },
                  {
                      "cell_type":  "markdown",
                      "source":  [
                                     "Zavřete toto okno a pokračujte ve svém dobrodružství!"
                                 ],
                      "metadata":  {

                                   }
                  }
              ],
    "metadata":  {
                     "celltoolbar":  "Edit Metadata",
                     "kernelspec":  {
                                        "display_name":  "Python 3",
                                        "language":  "python",
                                        "name":  "python3"
                                    },
                     "language_info":  {
                                           "codemirror_mode":  {
                                                                   "name":  "ipython",
                                                                   "version":  3
                                                               },
                                           "file_extension":  ".py",
                                           "mimetype":  "text/x-python",
                                           "name":  "python",
                                           "nbconvert_exporter":  "python",
                                           "pygments_lexer":  "ipython3",
                                           "version":  "3.8.8"
                                       },
                     "minecraft":  {
                                       "description":  "TimeCraft",
                                       "page_id":  "1.1",
                                       "page_name":  "Agent nasazen",
                                       "style":  "minecraft.css"
                                   }
                 },
    "nbformat":  4,
    "nbformat_minor":  4
}
