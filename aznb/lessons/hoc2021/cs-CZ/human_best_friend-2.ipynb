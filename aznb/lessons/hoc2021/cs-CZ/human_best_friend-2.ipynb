﻿{
    "cells":  [
                  {
                      "cell_type":  "markdown",
                      "source":  [
                                     "# Nejlepší přátelé člověka (ladění)\n",
                                     "\n",
                                     "Pes je přítelem člověka už tisíce let. Ale psy najednou něco zahnalo. Naprogramujte agenta, aby za sebou zanechal stopu tvořenou předměty „BEETROOT“ položenými 5 bloků od sebe, pomůžete tak lidem ochočit vlky a vyšlechtit z nich psy. Pomocí funkce „agent.give()“ dáte agentovi hromadu předmětů „BEETROOT“, poté pomocí funkce „agent.move()“ umístíte agenta a pomocí funkce „agent.drop()“ položíte předmět „BEETROOT“.\n",
                                     "\n",
                                     "Funkce „agent.give()“ má tři parametry.  \n",
                                     "\n",
                                     "- item (*string*): Předmět, který chcete agentovi dát\n",
                                     "- count (*integer*): Kolik předmětů agent přijme\n",
                                     "- slot (*integer*): Pozice inventáře, do které agent předmět přijímá\n",
                                     "\n",
                                     "Funkce „agent.move()“ má jeden parametr, direction (směr).\n",
                                     "\n",
                                     "Platné hodnoty směru jsou: \n",
                                     "- forward\n",
                                     "- back\n",
                                     "- left\n",
                                     "- right\n",
                                     "- up\n",
                                     "- down\n",
                                     "\n",
                                     "Funkce „agent.drop()“ má dva parametry.\n",
                                     "- slot (*integer*): Pozice inventáře, ze které agent vezme předmět.\n",
                                     "- quantity (*integer*): Počet předmětů, které agent položí."
                                 ],
                      "metadata":  {

                                   }
                  },
                  {
                      "cell_type":  "code",
                      "execution_count":  null,
                      "source":  [
                                     "# dejte agentovi hromadu řepy\r\n",
                                     "# poté jednu položte a posuňte se o 5 bloků vpřed\r\n",
                                     "\r\n",
                                     "agent.give(\"BEETROOT\", 64, 1)\r\n",
                                     "agent.drop(1,1)\r\n",
                                     "agent.move(\"forward\")\r\n",
                                     "agent.move(\"forward\")\r\n",
                                     "agent.move(\"forward\")\r\n",
                                     "agent.move(\"forward\")"
                                 ],
                      "outputs":  [

                                  ],
                      "metadata":  {
                                       "minecraft":  {
                                                         "baseCodeCellName":  "Example",
                                                         "closeCodeBuilderOnRun":  true,
                                                         "readonly":  true
                                                     }
                                   }
                  },
                  {
                      "cell_type":  "markdown",
                      "source":  [
                                     "# Tip od profesionálů:\n",
                                     "\n",
                                     "Pomocí smyčky „for“ můžete několikrát provést jednu nebo více akcí."
                                 ],
                      "metadata":  {

                                   }
                  },
                  {
                      "cell_type":  "code",
                      "execution_count":  null,
                      "source":  [
                                     "# dejte agentovi hromadu řepy\r\n",
                                     "# poté jednu položte a posuňte se o 5 bloků vpřed\r\n",
                                     "\r\n",
                                     "agent.give(\"BEETROOT\", 64, 1)\r\n",
                                     "for i in range(2):\r\n",
                                     "    agent.drop(1,1)\r\n",
                                     "    agent.move(\"forward\")\r\n",
                                     "    agent.move(\"forward\")\r\n",
                                     "    agent.move(\"forward\")\r\n",
                                     "    agent.move(\"forward\")"
                                 ],
                      "outputs":  [

                                  ],
                      "metadata":  {
                                       "minecraft":  {
                                                         "baseCodeCellName":  "Example",
                                                         "closeCodeBuilderOnRun":  true,
                                                         "readonly":  true
                                                     }
                                   }
                  },
                  {
                      "cell_type":  "markdown",
                      "source":  [
                                     "# Aktivita:\n",
                                     "\n",
                                     "Níže uvedený kód obsahuje nesprávné hodnoty. Spusťte kód a uvidíte, co se stane. Pak se pokuste odladit a opravit kód, abyste dokončili aktivitu.\n",
                                     "\n",
                                     "**Poznámka: Pomocí tlačítka Resetovat kód níže resetujete pole pro zápis kódu zpět na ladění kódu.**"
                                 ],
                      "metadata":  {

                                   }
                  },
                  {
                      "cell_type":  "code",
                      "execution_count":  null,
                      "source":  [
                                     "# sem pište kód\r\n",
                                     "\r\n",
                                     "agent.give(\"BEETROOT\", 64, 1)\r\n",
                                     "for i in range(2):\r\n",
                                     "    agent.drop(1,1)\r\n",
                                     "    agent.move(\"forward\")\r\n",
                                     "    agent.move(\"forward\")\r\n",
                                     "    agent.move(\"forward\")\r\n",
                                     "    agent.move(\"forward\")"
                                 ],
                      "outputs":  [

                                  ],
                      "metadata":  {
                                       "minecraft":  {
                                                         "closeCodeBuilderOnRun":  true,
                                                         "default_code":  "# code here\n\nagent.give(\"BEETROOT\", 64, 1)\nfor i in range(2):\n    agent.drop(1,1)\n    agent.move(\"forward\")\n    agent.move(\"forward\")\n    agent.move(\"forward\")\n    agent.move(\"forward\")",
                                                         "resetWorldCommand":  "function act/8/reset"
                                                     }
                                   }
                  }
              ],
    "metadata":  {
                     "celltoolbar":  "Edit Metadata",
                     "kernelspec":  {
                                        "display_name":  "Python 3",
                                        "language":  "python",
                                        "name":  "python3"
                                    },
                     "language_info":  {
                                           "codemirror_mode":  {
                                                                   "name":  "ipython",
                                                                   "version":  3
                                                               },
                                           "file_extension":  ".py",
                                           "mimetype":  "text/x-python",
                                           "name":  "python",
                                           "nbconvert_exporter":  "python",
                                           "pygments_lexer":  "ipython3",
                                           "version":  "3.8.8"
                                       },
                     "minecraft":  {
                                       "description":  "TimeCraft",
                                       "page_id":  "1.1",
                                       "page_name":  "Nejlepší přátelé člověka",
                                       "style":  "minecraft.css"
                                   }
                 },
    "nbformat":  4,
    "nbformat_minor":  4
}
