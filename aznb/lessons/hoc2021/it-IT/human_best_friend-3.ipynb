﻿{
    "cells":  [
                  {
                      "cell_type":  "markdown",
                      "metadata":  {

                                   },
                      "source":  [
                                     "# I migliori amici dell\u0027uomo (soluzione)\n",
                                     "\n",
                                     "I cani sono amici delle persone da migliaia di anni. Ma qualcosa ha spaventato i cani. Programma il tuo Agent per lasciare una scia di oggetti `BEETROOT` ogni 5 blocchi per aiutare le persone ad addomesticare i lupi e farli diventare cani. Usa la funzione `agent.give()` per dare al tuo Agent una pila di `BEETROOT` quindi usa `agent.move()` per posizionare l\u0027Agent e `agent.drop()` per rilasciare una `BEETROOT`.\n",
                                     "\n",
                                     "La funzione `agent.give()` accetta tre parametri.  \n",
                                     "\n",
                                     "- oggetto (*stringa*): l\u0027oggetto che desideri assegnare all\u0027Agent.\n",
                                     "- numero (*intero*): quanti oggetti riceverà l\u0027Agent.\n",
                                     "- slot (*intero*): lo slot dell\u0027inventario in cui l\u0027Agent riceve l\u0027oggetto.\n",
                                     "\n",
                                     "La funzione `agent.move()` accetta un parametro, direction.\n",
                                     "\n",
                                     "Le direzioni valide sono: \n",
                                     "- avanti\n",
                                     "- indietro\n",
                                     "- sinistra\n",
                                     "- destra\n",
                                     "- su\n",
                                     "- giù\n",
                                     "\n",
                                     "La funzione \u0027agent.drop()\u0027 accetta due parametri.\n",
                                     "- slot (*intero*): lo slot dell\u0027inventario da cui l\u0027Agent rilascia l\u0027oggetto.\n",
                                     "- quantità (*intero*): il numero di oggetti che verranno rilasciati dall\u0027Agent."
                                 ]
                  },
                  {
                      "cell_type":  "code",
                      "execution_count":  null,
                      "metadata":  {
                                       "minecraft":  {
                                                         "baseCodeCellName":  "Example",
                                                         "closeCodeBuilderOnRun":  true,
                                                         "readonly":  true
                                                     }
                                   },
                      "outputs":  [

                                  ],
                      "source":  [
                                     "# dai all\u0027Agent una pila di barbabietole\n",
                                     "# quindi rilasciane uno e avanza di 5\n",
                                     "\n",
                                     "agent.give(\"BEETROOT\", 64, 1)\n",
                                     "agent.drop(1,1)\n",
                                     "agent.move(\"forward\")\n",
                                     "agent.move(\"forward\")\n",
                                     "agent.move(\"forward\")\n",
                                     "agent.move(\"forward\")"
                                 ]
                  },
                  {
                      "cell_type":  "markdown",
                      "metadata":  {

                                   },
                      "source":  [
                                     "# Per esperti:\n",
                                     "\n",
                                     "Utilizza un loop `for` per eseguire più volte una o più operazioni."
                                 ]
                  },
                  {
                      "cell_type":  "code",
                      "execution_count":  null,
                      "metadata":  {
                                       "minecraft":  {
                                                         "baseCodeCellName":  "Example",
                                                         "closeCodeBuilderOnRun":  true,
                                                         "readonly":  true
                                                     }
                                   },
                      "outputs":  [

                                  ],
                      "source":  [
                                     "# dai all\u0027Agent una pila di barbabietole\n",
                                     "# quindi rilasciane uno e avanza di 5\n",
                                     "\n",
                                     "agent.give(\"BEETROOT\", 64, 1)\n",
                                     "for i in range(2):\n",
                                     "    agent.drop(1,1)\n",
                                     "    agent.move(\"forward\")\n",
                                     "    agent.move(\"forward\")\n",
                                     "    agent.move(\"forward\")\n",
                                     "    agent.move(\"forward\")"
                                 ]
                  },
                  {
                      "cell_type":  "markdown",
                      "metadata":  {

                                   },
                      "source":  [
                                     "# Attività:\n",
                                     "\n",
                                     "Il codice seguente è la soluzione corretta dell\u0027attività. Esegui il codice per vederlo in azione.\n",
                                     "\n",
                                     "**Nota: utilizza il pulsante Resetta codice in basso per ripristinare la casella di programmazione alla soluzione**"
                                 ]
                  },
                  {
                      "cell_type":  "code",
                      "execution_count":  null,
                      "metadata":  {
                                       "minecraft":  {
                                                         "closeCodeBuilderOnRun":  true,
                                                         "default_code":  "# code here\n\nagent.give(\"BEETROOT\", 64, 1)\nfor i in range(6):\n    agent.drop(1,1)\n    agent.move(\"forward\")\n    agent.move(\"forward\")\n    agent.move(\"forward\")\n    agent.move(\"forward\")",
                                                         "resetWorldCommand":  "function act/8/reset"
                                                     }
                                   },
                      "outputs":  [

                                  ],
                      "source":  [
                                     "# codice qui\n",
                                     "\n",
                                     "agent.give(\"BEETROOT\", 64, 1)\n",
                                     "for i in range(6):\n",
                                     "    agent.drop(1,1)\n",
                                     "    agent.move(\"forward\")\n",
                                     "    agent.move(\"forward\")\n",
                                     "    agent.move(\"forward\")\n",
                                     "    agent.move(\"forward\")"
                                 ]
                  }
              ],
    "metadata":  {
                     "celltoolbar":  "Edit Metadata",
                     "kernelspec":  {
                                        "display_name":  "Python 3",
                                        "language":  "python",
                                        "name":  "python3"
                                    },
                     "language_info":  {
                                           "codemirror_mode":  {
                                                                   "name":  "ipython",
                                                                   "version":  3
                                                               },
                                           "file_extension":  ".py",
                                           "mimetype":  "text/x-python",
                                           "name":  "python",
                                           "nbconvert_exporter":  "python",
                                           "pygments_lexer":  "ipython3",
                                           "version":  "3.8.8"
                                       },
                     "minecraft":  {
                                       "description":  "TimeCraft",
                                       "page_id":  "1.1",
                                       "page_name":  "I migliori amici dell\u0027uomo",
                                       "style":  "minecraft.css"
                                   }
                 },
    "nbformat":  4,
    "nbformat_minor":  4
}
