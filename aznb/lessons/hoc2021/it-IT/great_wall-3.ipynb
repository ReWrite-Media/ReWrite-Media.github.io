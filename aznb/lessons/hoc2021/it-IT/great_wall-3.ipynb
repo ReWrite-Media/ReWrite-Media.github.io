﻿{
    "cells":  [
                  {
                      "cell_type":  "markdown",
                      "metadata":  {

                                   },
                      "source":  [
                                     "# La grande muraglia cinese (soluzione)\n",
                                     "\n",
                                     "I panda continuano a mangiare l\u0027impalcatura di bambù, impedendo all\u0027Ingegnere di completare il muro. Attira i panda lontano dal muro. Usa \u0027agent.give()\u0027 per dare al tuo Agent una pila di `BAMBOO`, quindi usa \u0027agent.move()\u0027 per posizionare l\u0027Agent e \u0027agent.place()\u0027 per posizionare il `BAMBOO`\n",
                                     "\n",
                                     "La funzione `agent.give()` accetta tre parametri.  \n",
                                     "\n",
                                     "- oggetto (*stringa*): l\u0027oggetto che desideri assegnare all\u0027Agent.\n",
                                     "- numero (*intero*): quanti oggetti riceverà l\u0027Agent.\n",
                                     "- slot (*intero*): lo slot dell\u0027inventario in cui l\u0027Agent riceve l\u0027oggetto.\n",
                                     "\n",
                                     "La funzione `agent.move()` accetta un parametro, direction.\n",
                                     "\n",
                                     "Le direzioni valide sono: \n",
                                     "- avanti\n",
                                     "- indietro\n",
                                     "- sinistra\n",
                                     "- destra\n",
                                     "- su\n",
                                     "- giù\n",
                                     "\n",
                                     "La funzione `agent.place()` accetta due parametri.  \n",
                                     "\n",
                                     "- numero di slot (*intero*): quale slot dell\u0027inventario deve utilizzare l\u0027Agent.\n",
                                     "- direzione (*stringa*): la direzione in cui desideri che l\u0027Agent posizioni l\u0027oggetto.\n",
                                     "    - Le direzioni valide sono: \n",
                                     "        - avanti\n",
                                     "        - indietro\n",
                                     "        - sinistra\n",
                                     "        - destra\n",
                                     "        - su\n",
                                     "        - giù"
                                 ]
                  },
                  {
                      "cell_type":  "code",
                      "execution_count":  null,
                      "metadata":  {
                                       "minecraft":  {
                                                         "baseCodeCellName":  "Example",
                                                         "closeCodeBuilderOnRun":  true,
                                                         "readonly":  true
                                                     }
                                   },
                      "outputs":  [

                                  ],
                      "source":  [
                                     "# dai all\u0027Agent una pila di bambù\n",
                                     "# posiziona il bambù sotto l\u0027Agent\n",
                                     "# e quindi sposta l\u0027Agent in avanti\n",
                                     "# fallo 2 volte\n",
                                     "\n",
                                     "agent.give(\"BAMBOO\", 64, 1)\n",
                                     "agent.place(1,\"down\")\n",
                                     "agent.move(\"forward\")\n",
                                     "agent.place(1,\"down\")"
                                 ]
                  },
                  {
                      "cell_type":  "markdown",
                      "metadata":  {

                                   },
                      "source":  [
                                     "# Per esperti:\n",
                                     "\n",
                                     "Utilizza un loop `for` per eseguire più volte una o più operazioni."
                                 ]
                  },
                  {
                      "cell_type":  "code",
                      "execution_count":  null,
                      "metadata":  {
                                       "minecraft":  {
                                                         "baseCodeCellName":  "Example",
                                                         "closeCodeBuilderOnRun":  true,
                                                         "readonly":  true
                                                     }
                                   },
                      "outputs":  [

                                  ],
                      "source":  [
                                     "# dai all\u0027Agent una pila di bambù\n",
                                     "# posiziona il bambù sotto l\u0027Agent\n",
                                     "# e quindi sposta l\u0027Agent in avanti\n",
                                     "# fallo 2 volte\n",
                                     "\n",
                                     "agent.give(\"BAMBOO\", 64, 1)\n",
                                     "for i in range(2):\n",
                                     "    agent.place(1,\"down\")\n",
                                     "    agent.move(\"forward\")"
                                 ]
                  },
                  {
                      "cell_type":  "markdown",
                      "metadata":  {

                                   },
                      "source":  [
                                     "# Attività:\n",
                                     "\n",
                                     "Il codice seguente è la soluzione corretta dell\u0027attività. Esegui il codice per vederlo in azione.\n",
                                     "\n",
                                     "**Nota: utilizza il pulsante Resetta codice in basso per ripristinare la casella di programmazione alla soluzione**"
                                 ]
                  },
                  {
                      "cell_type":  "code",
                      "execution_count":  null,
                      "metadata":  {
                                       "minecraft":  {
                                                         "closeCodeBuilderOnRun":  true,
                                                         "default_code":  "# code here\n\nagent.give(\"BAMBOO\", 64, 1)\nfor i in range(5):\n    agent.place(1,\"down\")\n    agent.move(\"forward\")",
                                                         "resetWorldCommand":  "function act/4/reset"
                                                     }
                                   },
                      "outputs":  [

                                  ],
                      "source":  [
                                     "# codice qui\n",
                                     "\n",
                                     "agent.give(\"BAMBOO\", 64, 1)\n",
                                     "for i in range(5):\n",
                                     "    agent.place(1,\"down\")\n",
                                     "    agent.move(\"forward\")"
                                 ]
                  }
              ],
    "metadata":  {
                     "celltoolbar":  "Edit Metadata",
                     "kernelspec":  {
                                        "display_name":  "Python 3",
                                        "language":  "python",
                                        "name":  "python3"
                                    },
                     "language_info":  {
                                           "codemirror_mode":  {
                                                                   "name":  "ipython",
                                                                   "version":  3
                                                               },
                                           "file_extension":  ".py",
                                           "mimetype":  "text/x-python",
                                           "name":  "python",
                                           "nbconvert_exporter":  "python",
                                           "pygments_lexer":  "ipython3",
                                           "version":  "3.8.8"
                                       },
                     "minecraft":  {
                                       "description":  "TimeCraft",
                                       "page_id":  "1.1",
                                       "page_name":  "La grande muraglia cinese",
                                       "style":  "minecraft.css"
                                   }
                 },
    "nbformat":  4,
    "nbformat_minor":  4
}
