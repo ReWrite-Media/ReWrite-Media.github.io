﻿{
    "cells":  [
                  {
                      "cell_type":  "markdown",
                      "metadata":  {

                                   },
                      "source":  [
                                     "# Grande Piramide a Giza (debug)\n",
                                     "\n",
                                     "Aiuta l\u0027Architetto a completare il triangolo, un progetto che resisterà alla prova del tempo. Pensa a come\n",
                                     "crea una piramide. Servono altri 2 livelli: 3 blocchi sul fondo e 1 blocco in alto. Programma la soluzione usando `agent.give()` per dare al tuo Agent una pila di `SANDSTONE`, `agent.move()` per posizionare l\u0027Agent e `agent.place()` per posizionare i blocchi in una forma piramidale a 3 strati.\n",
                                     "\n",
                                     "La funzione `agent.give()` accetta tre parametri.  \n",
                                     "\n",
                                     "- oggetto (*stringa*): l\u0027oggetto che desideri assegnare all\u0027Agent.\n",
                                     "- numero (*intero*): quanti oggetti riceverà l\u0027Agent.\n",
                                     "- slot (*intero*): lo slot dell\u0027inventario in cui l\u0027Agent riceve l\u0027oggetto.\n",
                                     "\n",
                                     "La funzione \"agent.move()\" accetta un parametro, direction.\n",
                                     "\n",
                                     "Le direzioni valide sono: \n",
                                     "- forward\n",
                                     "- back\n",
                                     "- left\n",
                                     "- right\n",
                                     "- up\n",
                                     "- giù\n",
                                     "\n",
                                     "La funzione `agent.place()` accetta due parametri.  \n",
                                     "\n",
                                     "- numero di slot (*intero*): quale slot dell\u0027inventario deve utilizzare l\u0027Agent.\n",
                                     "- direzione (*stringa*): la direzione in cui desideri che l\u0027Agent posizioni l\u0027oggetto.\n",
                                     "    - Le direzioni valide sono: \n",
                                     "        - avanti\n",
                                     "        - indietro\n",
                                     "        - sinistra\n",
                                     "        - destra\n",
                                     "        - su\n",
                                     "        - giù\n",
                                     "        \n",
                                     "La funzione `agent.turn()` accetta un parametro, turn_direction.\n",
                                     "\n",
                                     "Le direzioni valide sono: \n",
                                     "- sinistra\n",
                                     "- destra"
                                 ]
                  },
                  {
                      "cell_type":  "code",
                      "execution_count":  null,
                      "metadata":  {
                                       "minecraft":  {
                                                         "baseCodeCellName":  "Example",
                                                         "closeCodeBuilderOnRun":  true,
                                                         "readonly":  true
                                                     }
                                   },
                      "outputs":  [

                                  ],
                      "source":  [
                                     "# dai all\u0027Agent una pila di arenaria\n",
                                     "# sposta l\u0027Agent in avanti\n",
                                     "# e posiziona i blocchi di arenaria\n",
                                     "# fallo 5 volte\n",
                                     "\n",
                                     "agent.give(\"SANDSTONE\", 64, 1)\n",
                                     "agent.move(\"forward\")\n",
                                     "agent.place(1,\"back\")\n",
                                     "agent.move(\"forward\")\n",
                                     "agent.place(1,\"back\")\n",
                                     "agent.move(\"forward\")\n",
                                     "agent.place(1,\"back\")\n",
                                     "agent.move(\"forward\")\n",
                                     "agent.place(1,\"back\")\n",
                                     "agent.move(\"forward\")\n",
                                     "agent.place(1,\"back\")"
                                 ]
                  },
                  {
                      "cell_type":  "markdown",
                      "metadata":  {

                                   },
                      "source":  [
                                     "# Per esperti:\n",
                                     "\n",
                                     "Utilizza un loop `for` per eseguire più volte una o più operazioni."
                                 ]
                  },
                  {
                      "cell_type":  "code",
                      "execution_count":  null,
                      "metadata":  {
                                       "minecraft":  {
                                                         "baseCodeCellName":  "Example",
                                                         "closeCodeBuilderOnRun":  true,
                                                         "readonly":  true
                                                     }
                                   },
                      "outputs":  [

                                  ],
                      "source":  [
                                     "# dai all\u0027Agent una pila di arenaria\n",
                                     "# sposta l\u0027Agent in avanti\n",
                                     "# e posiziona i blocchi di arenaria\n",
                                     "# fallo 5 volte\n",
                                     "\n",
                                     "agent.give(\"SANDSTONE\", 64, 1)\n",
                                     "for i in range(5):\n",
                                     "    agent.move(\"forward\")\n",
                                     "    agent.place(1,\"back\")"
                                 ]
                  },
                  {
                      "cell_type":  "markdown",
                      "metadata":  {

                                   },
                      "source":  [
                                     "# Attività:\n",
                                     "\n",
                                     "Il codice seguente presenta valori non corretti. Esegui il codice per vedere che succede e quindi prova a eseguire il debug del codice e a correggerlo per completare l\u0027attività.\n",
                                     "\n",
                                     "**Nota: utilizza il pulsante Resetta codice in basso per ripristinare la casella di programmazione al codice di debug**"
                                 ]
                  },
                  {
                      "cell_type":  "code",
                      "execution_count":  null,
                      "metadata":  {
                                       "minecraft":  {
                                                         "closeCodeBuilderOnRun":  true,
                                                         "default_code":  "# code here\n\nagent.give(\"SANDSTONE\", 64, 1)\n\nfor i in range(2):\n    agent.move(\"forward\")\n    agent.place(1,\"back\")\n\nagent.move(\"up\")\nagent.turn(\"left\")\nagent.turn(\"right\")\nagent.move(\"forward\")\nagent.move(\"forward\")\n\nagent.move(\"forward\")\nagent.place(1,\"up\")",
                                                         "resetWorldCommand":  "function act/2/reset"
                                                     }
                                   },
                      "outputs":  [

                                  ],
                      "source":  [
                                     "# codice qui\n",
                                     "\n",
                                     "agent.give(\"SANDSTONE\", 64, 1)\n",
                                     "\n",
                                     "for i in range(2):\n",
                                     "    agent.move(\"forward\")\n",
                                     "    agent.place(1,\"back\")\n",
                                     "\n",
                                     "agent.move(\"up\")\n",
                                     "agent.turn(\"left\")\n",
                                     "agent.turn(\"right\")\n",
                                     "agent.move(\"forward\")\n",
                                     "agent.move(\"forward\")\n",
                                     "\n",
                                     "agent.move(\"forward\")\n",
                                     "agent.place(1,\"up\")"
                                 ]
                  }
              ],
    "metadata":  {
                     "celltoolbar":  "Edit Metadata",
                     "kernelspec":  {
                                        "display_name":  "Python 3",
                                        "language":  "python",
                                        "name":  "python3"
                                    },
                     "language_info":  {
                                           "codemirror_mode":  {
                                                                   "name":  "ipython",
                                                                   "version":  3
                                                               },
                                           "file_extension":  ".py",
                                           "mimetype":  "text/x-python",
                                           "name":  "python",
                                           "nbconvert_exporter":  "python",
                                           "pygments_lexer":  "ipython3",
                                           "version":  "3.8.8"
                                       },
                     "minecraft":  {
                                       "description":  "TimeCraft",
                                       "page_id":  "1.1",
                                       "page_name":  "Piramidi di Giza",
                                       "style":  "minecraft.css"
                                   }
                 },
    "nbformat":  4,
    "nbformat_minor":  4
}
