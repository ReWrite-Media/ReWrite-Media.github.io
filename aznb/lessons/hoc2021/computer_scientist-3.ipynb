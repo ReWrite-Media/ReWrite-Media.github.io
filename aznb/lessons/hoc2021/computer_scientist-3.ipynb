{
 "cells": [
  {
   "cell_type": "markdown",
   "metadata": {},
   "source": [
    "# First Computer Scientist (Solution)\n",
    "\n",
    "The computer scientist has created punch cards that contain the instructions for the first algorithm, but the punch card holes are blocked. Use `agent.move()` to move your agent to above the brown blocks and then use `agent.destroy()` to break the block below it.\n",
    "\n",
    "The `agent.move()` function takes one parameter, direction.\n",
    "\n",
    "Valid directions are: \n",
    "- forward\n",
    "- back\n",
    "- left\n",
    "- right\n",
    "- up\n",
    "- down\n",
    "\n",
    "The `agent.destroy()` function takes one parameter, direction.\n",
    "\n",
    "Valid directions are: \n",
    "- forward\n",
    "- back\n",
    "- left\n",
    "- right\n",
    "- up\n",
    "- down\n",
    "\n",
    "The `agent.turn()` function takes one parameter, turn_direction.\n",
    "\n",
    "Valid directions are: \n",
    "- left\n",
    "- right"
   ]
  },
  {
   "cell_type": "code",
   "execution_count": null,
   "metadata": {
    "minecraft": {
     "baseCodeCellName": "Example",
     "closeCodeBuilderOnRun": true,
     "readonly": true
    }
   },
   "outputs": [],
   "source": [
    "# move the Agent and forward 2 blocks\n",
    "# and break the blow below it.\n",
    "\n",
    "agent.move(\"forward\")\n",
    "agent.destroy(\"down\")"
   ]
  },
  {
   "cell_type": "markdown",
   "metadata": {},
   "source": [
    "# Activity:\n",
    "\n",
    "The below code is the correct solution to the activity. Run the code to see it in action.\n",
    "\n",
    "**Note: Use the Reset Code button below to reset the coding box back to the solution**"
   ]
  },
  {
   "cell_type": "code",
   "execution_count": null,
   "metadata": {
    "minecraft": {
     "closeCodeBuilderOnRun": true,
     "default_code": "# code here\n\nagent.move(\"forward\")\nagent.destroy(\"down\")\nagent.move(\"forward\")\nagent.move(\"forward\")\nagent.destroy(\"down\")\nagent.move(\"forward\")\nagent.move(\"forward\")\nagent.destroy(\"down\")\nagent.turn(\"right\")\nagent.move(\"forward\")\nagent.move(\"forward\")\nagent.turn(\"right\")\nagent.destroy(\"down\")\nagent.move(\"forward\")\nagent.move(\"forward\")\nagent.destroy(\"down\")\nagent.move(\"forward\")\nagent.move(\"forward\")\nagent.destroy(\"down\")",
     "resetWorldCommand": "function act/7/reset"
    }
   },
   "outputs": [],
   "source": [
    "# code here\n",
    "\n",
    "agent.move(\"forward\")\n",
    "agent.destroy(\"down\")\n",
    "agent.move(\"forward\")\n",
    "agent.move(\"forward\")\n",
    "agent.destroy(\"down\")\n",
    "agent.move(\"forward\")\n",
    "agent.move(\"forward\")\n",
    "agent.destroy(\"down\")\n",
    "agent.turn(\"right\")\n",
    "agent.move(\"forward\")\n",
    "agent.move(\"forward\")\n",
    "agent.turn(\"right\")\n",
    "agent.destroy(\"down\")\n",
    "agent.move(\"forward\")\n",
    "agent.move(\"forward\")\n",
    "agent.destroy(\"down\")\n",
    "agent.move(\"forward\")\n",
    "agent.move(\"forward\")\n",
    "agent.destroy(\"down\")"
   ]
  }
 ],
 "metadata": {
  "celltoolbar": "Edit Metadata",
  "kernelspec": {
   "display_name": "Python 3",
   "language": "python",
   "name": "python3"
  },
  "language_info": {
   "codemirror_mode": {
    "name": "ipython",
    "version": 3
   },
   "file_extension": ".py",
   "mimetype": "text/x-python",
   "name": "python",
   "nbconvert_exporter": "python",
   "pygments_lexer": "ipython3",
   "version": "3.8.8"
  },
  "minecraft": {
   "description": "TimeCraft",
   "page_id": "1.1",
   "page_name": "First Computer Scientist",
   "style": "minecraft.css"
  }
 },
 "nbformat": 4,
 "nbformat_minor": 4
}
