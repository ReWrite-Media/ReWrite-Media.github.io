﻿{
    "cells":  [
                  {
                      "cell_type":  "markdown",
                      "source":  [
                                     "## ¡Agent implementado!\n",
                                     "¡Has implementado correctamente al Agent! \n",
                                     "\n",
                                     "Esta es la ventana de Code Builder. La usarás cuando estés listo para programar.\n",
                                     "\n",
                                     "A continuación verás un recuadro de programación. En la siguiente actividad es donde escribirás y ejecutarás tu código."
                                 ],
                      "metadata":  {

                                   }
                  },
                  {
                      "cell_type":  "code",
                      "execution_count":  null,
                      "source":  [
                                     "## este es el aspecto que tiene un recuadro de programación\r\n",
                                     "## usarás secciones como estas para\r\n",
                                     "## escribir tu código en actividades futuras"
                                 ],
                      "outputs":  [

                                  ],
                      "metadata":  {
                                       "minecraft":  {
                                                         "closeCodeBuilderOnRun":  true,
                                                         "default_code":  "## this is what a coding box look like\n## you\u0027ll use section like these to\n## write your code in future activities\n"
                                                     }
                                   }
                  },
                  {
                      "cell_type":  "markdown",
                      "source":  [
                                     "¡Cierra esta ventana para continuar con tu aventura!"
                                 ],
                      "metadata":  {

                                   }
                  }
              ],
    "metadata":  {
                     "celltoolbar":  "Edit Metadata",
                     "kernelspec":  {
                                        "display_name":  "Python 3",
                                        "language":  "python",
                                        "name":  "python3"
                                    },
                     "language_info":  {
                                           "codemirror_mode":  {
                                                                   "name":  "ipython",
                                                                   "version":  3
                                                               },
                                           "file_extension":  ".py",
                                           "mimetype":  "text/x-python",
                                           "name":  "python",
                                           "nbconvert_exporter":  "python",
                                           "pygments_lexer":  "ipython3",
                                           "version":  "3.8.8"
                                       },
                     "minecraft":  {
                                       "description":  "TimeCraft",
                                       "page_id":  "1.1",
                                       "page_name":  "Agente implementado",
                                       "style":  "minecraft.css"
                                   }
                 },
    "nbformat":  4,
    "nbformat_minor":  4
}
