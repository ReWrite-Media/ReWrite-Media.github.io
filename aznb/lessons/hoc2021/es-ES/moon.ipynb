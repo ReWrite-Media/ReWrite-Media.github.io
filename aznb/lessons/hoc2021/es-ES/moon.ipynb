﻿{
    "cells":  [
                  {
                      "cell_type":  "markdown",
                      "source":  [
                                     "# Misión a la Luna\n",
                                     "\n",
                                     "Envía a tu Agent al módulo espacial para entregar los cálculos. No puedes contar los espacios que debe moverse el Agent para completar la misión. Piensa qué movimientos necesita y usa los cálculos del matemático para determinar cuántos movimientos debe realizar el Agent. Usa \u0027agent.move()\u0027 para llevar a tu Agent al módulo lunar y acóplalo a él.\n",
                                     "\n",
                                     "La función \u0027agent.move()\u0027 toma un parámetro, direction.\n",
                                     "\n",
                                     "Las direcciones válidas son: \n",
                                     "- adelante\n",
                                     "- atrás\n",
                                     "- izquierda\n",
                                     "- derecha\n",
                                     "- arriba\n",
                                     "- abajo\n",
                                     "\n",
                                     "La función \u0027agent.turn()\u0027 toma un parámetro: turn_direction.\n",
                                     "\n",
                                     "Las direcciones válidas son: \n",
                                     "- izquierda\n",
                                     "- derecha"
                                 ],
                      "metadata":  {

                                   }
                  },
                  {
                      "cell_type":  "code",
                      "execution_count":  null,
                      "source":  [
                                     "# mueve al Agent hacia adelante 5 bloques\r\n",
                                     "# luego gira a la derecha\r\n",
                                     "agent.move(\"forward\")\r\n",
                                     "agent.move(\"forward\")\r\n",
                                     "agent.move(\"forward\")\r\n",
                                     "agent.move(\"forward\")\r\n",
                                     "agent.move(\"forward\")\r\n",
                                     "agent.turn(\"right\")"
                                 ],
                      "outputs":  [

                                  ],
                      "metadata":  {
                                       "minecraft":  {
                                                         "baseCodeCellName":  "Example",
                                                         "closeCodeBuilderOnRun":  true,
                                                         "readonly":  true
                                                     }
                                   }
                  },
                  {
                      "cell_type":  "markdown",
                      "source":  [
                                     "# Consejo Pro:\n",
                                     "\n",
                                     "Utiliza un bucle \u0027for\u0027 para realizar una o más acciones varias veces."
                                 ],
                      "metadata":  {

                                   }
                  },
                  {
                      "cell_type":  "code",
                      "execution_count":  null,
                      "source":  [
                                     "# mueve al Agent hacia adelante 5 bloques\r\n",
                                     "# luego gira a la derecha\r\n",
                                     "for i in range(5):\r\n",
                                     "    agent.move(\"forward\")\r\n",
                                     "agent.turn(\"right\")    "
                                 ],
                      "outputs":  [

                                  ],
                      "metadata":  {
                                       "minecraft":  {
                                                         "baseCodeCellName":  "Example",
                                                         "closeCodeBuilderOnRun":  true,
                                                         "readonly":  true
                                                     }
                                   }
                  },
                  {
                      "cell_type":  "markdown",
                      "source":  [
                                     "# Actividad\n",
                                     "\n",
                                     "Para llevar al Agente al módulo lunar, muévelo 25 bloques hacia delante, 17 a la derecha y 3 hacia abajo.\n",
                                     "\n",
                                     "**Nota: Puedes restablecer la actividad utilizando el dispositivo C.H.A.T. o el botón Restablecer actividad.**"
                                 ],
                      "metadata":  {

                                   }
                  },
                  {
                      "cell_type":  "code",
                      "execution_count":  null,
                      "source":  [
                                     "# programa aquí\r\n",
                                     "\r\n",
                                     "\r\n"
                                 ],
                      "outputs":  [

                                  ],
                      "metadata":  {
                                       "minecraft":  {
                                                         "closeCodeBuilderOnRun":  true,
                                                         "default_code":  "# code here\n\n\n",
                                                         "resetWorldCommand":  "function act/3/reset"
                                                     }
                                   }
                  }
              ],
    "metadata":  {
                     "celltoolbar":  "Edit Metadata",
                     "kernelspec":  {
                                        "display_name":  "Python 3",
                                        "language":  "python",
                                        "name":  "python3"
                                    },
                     "language_info":  {
                                           "codemirror_mode":  {
                                                                   "name":  "ipython",
                                                                   "version":  3
                                                               },
                                           "file_extension":  ".py",
                                           "mimetype":  "text/x-python",
                                           "name":  "python",
                                           "nbconvert_exporter":  "python",
                                           "pygments_lexer":  "ipython3",
                                           "version":  "3.8.8"
                                       },
                     "minecraft":  {
                                       "description":  "TimeCraft",
                                       "page_id":  "1.1",
                                       "page_name":  "Misión a la Luna",
                                       "style":  "minecraft.css"
                                   }
                 },
    "nbformat":  4,
    "nbformat_minor":  4
}
