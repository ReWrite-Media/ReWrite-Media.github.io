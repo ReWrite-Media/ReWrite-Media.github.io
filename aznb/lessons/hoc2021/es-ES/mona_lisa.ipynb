﻿{
    "cells":  [
                  {
                      "cell_type":  "markdown",
                      "source":  [
                                     "# La Mona Lisa\n",
                                     "\n",
                                     "La Mona Lisa tiene una expresión de tristeza en lugar de su famosa sonrisa. Esto se debe a que han destruido su jardín. Usa la función \u0027agent.give()\u0027 para darle a tu Agent un montón de \u0027WHITE GLAZED TERRACOTTA\u0027, luego usa \u0027agent.move()\u0027 para colocar a tu Agent y \u0027agent.place()\u0027 para colocar la \u0027WHITE GLAZED TERRACOTTA\u0027.\n",
                                     "\n",
                                     "La función \u0027agent.give()\u0027 toma tres parámetros. \n",
                                     "\n",
                                     "- item (*cadena*): el objeto que quieres dar al Agent.\n",
                                     "- count (*entero*): ¿Cuántos elementos recibirá el Agent.\n",
                                     "- slot (*entero*): la ranura de inventario donde el Agent recibe el objeto.\n",
                                     "\n",
                                     "La función \u0027agent.move()\u0027 toma un parámetro, direction.\n",
                                     "\n",
                                     "Las direcciones válidas son: \n",
                                     "- adelante\n",
                                     "- atrás\n",
                                     "- izquierda\n",
                                     "- derecha\n",
                                     "- arriba\n",
                                     "- abajo\n",
                                     "\n",
                                     "La función \u0027agent.place()\u0027 toma dos parámetros. \n",
                                     "\n",
                                     "- slot number (*entero*): qué ranura de inventario debe usar el Agent.\n",
                                     "- direction (*cadena*): la dirección en la que deseas que el Agent coloque el objeto.\n",
                                     "    - Las direcciones válidas son: \n",
                                     "        - adelante\n",
                                     "        - atrás\n",
                                     "        - izquierda\n",
                                     "        - derecha\n",
                                     "        - arriba\n",
                                     "        - abajo"
                                 ],
                      "metadata":  {

                                   }
                  },
                  {
                      "cell_type":  "code",
                      "execution_count":  null,
                      "source":  [
                                     "# dale al Agent una pila de terracota acristalada blanca\r\n",
                                     "# luego avanza y coloca un bloque debajo del Agent\r\n",
                                     "# haz lo mismo 5 veces\r\n",
                                     "\r\n",
                                     "agent.give(\"WHITE GLAZED TERRACOTTA\", 64, 1)\r\n",
                                     "agent.move(\"forward\")\r\n",
                                     "agent.place(1,\"down\")\r\n",
                                     "agent.move(\"forward\")\r\n",
                                     "agent.place(1,\"down\")\r\n",
                                     "agent.move(\"forward\")\r\n",
                                     "agent.place(1,\"down\")\r\n",
                                     "agent.move(\"forward\")\r\n",
                                     "agent.place(1,\"down\")\r\n",
                                     "agent.move(\"forward\")\r\n",
                                     "agent.place(1,\"down\")"
                                 ],
                      "outputs":  [

                                  ],
                      "metadata":  {
                                       "minecraft":  {
                                                         "baseCodeCellName":  "Example",
                                                         "closeCodeBuilderOnRun":  true,
                                                         "readonly":  true
                                                     }
                                   }
                  },
                  {
                      "cell_type":  "markdown",
                      "source":  [
                                     "# Consejo Pro:\n",
                                     "\n",
                                     "Utiliza un bucle \u0027for\u0027 para realizar una acción o más acciones varias veces."
                                 ],
                      "metadata":  {

                                   }
                  },
                  {
                      "cell_type":  "code",
                      "execution_count":  null,
                      "source":  [
                                     "# dale al Agent una pila de terracota acristalada blanca\r\n",
                                     "# luego avanza y coloca un bloque debajo del Agent\r\n",
                                     "# haz lo mismo 5 veces\r\n",
                                     "\r\n",
                                     "agent.give(\"WHITE GLAZED TERRACOTTA\", 64, 1)\r\n",
                                     "for i in range(5):\r\n",
                                     "    agent.move(\"forward\")\r\n",
                                     "    agent.place(1,\"down\")"
                                 ],
                      "outputs":  [

                                  ],
                      "metadata":  {
                                       "minecraft":  {
                                                         "baseCodeCellName":  "Example",
                                                         "closeCodeBuilderOnRun":  true,
                                                         "readonly":  true
                                                     }
                                   }
                  },
                  {
                      "cell_type":  "markdown",
                      "source":  [
                                     "# Actividad\r\n",
                                     "\r\n",
                                     "Completa el contorno cuadrado de \u0027WHITE GLAZED TERRACOTTA\u0027 moviendo el Agent y colocando un bloque debajo de él.\r\n",
                                     "\r\n",
                                     "**Nota: Puedes restablecer la actividad utilizando el dispositivo C.H.A.T. o el botón Restablecer actividad.**"
                                 ],
                      "metadata":  {

                                   }
                  },
                  {
                      "cell_type":  "code",
                      "execution_count":  null,
                      "source":  [
                                     "# programa aquí\r\n",
                                     "\r\n",
                                     "\r\n"
                                 ],
                      "outputs":  [

                                  ],
                      "metadata":  {
                                       "minecraft":  {
                                                         "closeCodeBuilderOnRun":  true,
                                                         "default_code":  "# code here\n\n\n",
                                                         "resetWorldCommand":  "function act/5/reset"
                                                     }
                                   }
                  }
              ],
    "metadata":  {
                     "celltoolbar":  "Edit Metadata",
                     "kernelspec":  {
                                        "display_name":  "Python 3",
                                        "language":  "python",
                                        "name":  "python3"
                                    },
                     "language_info":  {
                                           "codemirror_mode":  {
                                                                   "name":  "ipython",
                                                                   "version":  3
                                                               },
                                           "file_extension":  ".py",
                                           "mimetype":  "text/x-python",
                                           "name":  "python",
                                           "nbconvert_exporter":  "python",
                                           "pygments_lexer":  "ipython3",
                                           "version":  "3.8.8"
                                       },
                     "minecraft":  {
                                       "description":  "TimeCraft",
                                       "page_id":  "1.1",
                                       "page_name":  "La Mona Lisa",
                                       "style":  "minecraft.css"
                                   }
                 },
    "nbformat":  4,
    "nbformat_minor":  4
}
