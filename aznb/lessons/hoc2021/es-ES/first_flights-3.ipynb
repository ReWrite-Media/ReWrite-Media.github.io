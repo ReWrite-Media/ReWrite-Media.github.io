﻿{
    "cells":  [
                  {
                      "cell_type":  "markdown",
                      "metadata":  {

                                   },
                      "source":  [
                                     "# El primer vuelo (solución)\n",
                                     "\n",
                                     "Uno de los primeros aviones está a punto de despegar, ¡pero la pista está llena de agujeros! Programa\n",
                                     "a tu Agent para que tape los agujeros. Utiliza la función \u0027agent.give()\u0027 para darle a tu Agent una pila de bloques \u0027DIRT\u0027 y usa la función \u0027agent.move()\u0027 para colocar al Agent sobre los agujeros. Luego, usa \u0027agent.place()\u0027 para tapar los agujeros.\n",
                                     "\n",
                                     "La función \u0027agent.give()\u0027 toma tres parámetros.  \n",
                                     "\n",
                                     "- item (*cadena*): el objeto que quieres dar al Agent.\n",
                                     "- count (*entero*): ¿Cuántos elementos recibirá el Agent.\n",
                                     "- slot (*entero*): la ranura de inventario donde el Agent recibe el objeto.\n",
                                     "\n",
                                     "La función \u0027agent.move()\u0027 toma un parámetro, direction.\n",
                                     "\n",
                                     "Las direcciones válidas son: \n",
                                     "- adelante\n",
                                     "- atrás\n",
                                     "- izquierda\n",
                                     "- derecha\n",
                                     "- arriba\n",
                                     "- abajo\n",
                                     "\n",
                                     "La función \u0027agent.place()\u0027 toma dos parámetros.  \n",
                                     "\n",
                                     "- slot number (*entero*): qué ranura de inventario debe usar el Agent.\n",
                                     "- direction (*cadena*): la dirección en la que deseas que el Agent coloque el objeto.\n",
                                     "    - Las direcciones válidas son: \n",
                                     "        - adelante\n",
                                     "        - atrás\n",
                                     "        - izquierda\n",
                                     "        - derecha\n",
                                     "        - arriba\n",
                                     "        - abajo\n",
                                     "\n",
                                     "La función \u0027agent.turn()\u0027 toma un parámetro: turn_direction.\n",
                                     "\n",
                                     "Las direcciones válidas son: \n",
                                     "- izquierda\n",
                                     "- derecha"
                                 ]
                  },
                  {
                      "cell_type":  "code",
                      "execution_count":  null,
                      "metadata":  {
                                       "minecraft":  {
                                                         "baseCodeCellName":  "Example",
                                                         "closeCodeBuilderOnRun":  true,
                                                         "readonly":  true
                                                     }
                                   },
                      "outputs":  [

                                  ],
                      "source":  [
                                     "# dale al Agent una pila de bloques de tierra\n",
                                     "# avanza 1 bloque y colócalo abajo\n",
                                     "# hazlo 2 veces\n",
                                     "\n",
                                     "agent.give(\"DIRT\", 64, 1)\n",
                                     "agent.move(\"forward\")\n",
                                     "agent.place(1,\"down\")\n",
                                     "agent.move(\"forward\")\n",
                                     "agent.place(1,\"down\")\n",
                                     "\n"
                                 ]
                  },
                  {
                      "cell_type":  "markdown",
                      "metadata":  {

                                   },
                      "source":  [
                                     "# Consejo Pro:\n",
                                     "\n",
                                     "Utiliza un bucle \u0027for\u0027 para realizar una o más acciones varias veces."
                                 ]
                  },
                  {
                      "cell_type":  "code",
                      "execution_count":  null,
                      "metadata":  {
                                       "minecraft":  {
                                                         "baseCodeCellName":  "Example",
                                                         "closeCodeBuilderOnRun":  true,
                                                         "readonly":  true
                                                     }
                                   },
                      "outputs":  [

                                  ],
                      "source":  [
                                     "# dale al Agent una pila de bloques de tierra\n",
                                     "# avanza 1 bloque y colócalo abajo\n",
                                     "# hazlo 2 veces\n",
                                     "\n",
                                     "agent.give(\"DIRT\", 64, 1)\n",
                                     "for i in range(2):\n",
                                     "    agent.move(\"forward\")\n",
                                     "    agent.place(1,\"down\")\n"
                                 ]
                  },
                  {
                      "cell_type":  "markdown",
                      "metadata":  {

                                   },
                      "source":  [
                                     "# Actividad:\n",
                                     "\n",
                                     "El siguiente código es la solución correcta de la actividad. Ejecuta el código para verlo en acción.\n",
                                     "\n",
                                     "**Nota: Utiliza el botón Restablecer código de abajo para restablecer la solución en el recuadro de programación**"
                                 ]
                  },
                  {
                      "cell_type":  "code",
                      "execution_count":  null,
                      "metadata":  {
                                       "minecraft":  {
                                                         "closeCodeBuilderOnRun":  true,
                                                         "default_code":  "# code here\n\nagent.give(\"DIRT\", 64, 1)\nfor i in range(2):\n    agent.move(\"forward\")\n    agent.place(1,\"down\")\n\nagent.move(\"forward\")\nagent.move(\"forward\")\nagent.move(\"right\")\nagent.move(\"right\")\n\nfor i in range(2):\n    agent.move(\"forward\")\n    agent.place(1,\"down\")\n\nagent.move(\"forward\")\nagent.move(\"forward\")\nagent.move(\"right\")\nagent.move(\"right\")\n\nfor i in range(2):\n    agent.move(\"forward\")\n    agent.place(1,\"down\")",
                                                         "resetWorldCommand":  "function act/6/reset"
                                                     }
                                   },
                      "outputs":  [

                                  ],
                      "source":  [
                                     "# escribe el código aquí\n",
                                     "\n",
                                     "agent.give(\"DIRT\", 64, 1)\n",
                                     "for i in range(2):\n",
                                     "    agent.move(\"forward\")\n",
                                     "    agent.place(1,\"down\")\n",
                                     "\n",
                                     "agent.move(\"forward\")\n",
                                     "agent.move(\"forward\")\n",
                                     "agent.move(\"right\")\n",
                                     "agent.move(\"right\")\n",
                                     "\n",
                                     "for i in range(2):\n",
                                     "    agent.move(\"forward\")\n",
                                     "    agent.place(1,\"down\")\n",
                                     "\n",
                                     "agent.move(\"forward\")\n",
                                     "agent.move(\"forward\")\n",
                                     "agent.move(\"right\")\n",
                                     "agent.move(\"right\")\n",
                                     "\n",
                                     "for i in range(2):\n",
                                     "    agent.move(\"forward\")\n",
                                     "    agent.place(1,\"down\")"
                                 ]
                  }
              ],
    "metadata":  {
                     "celltoolbar":  "Edit Metadata",
                     "kernelspec":  {
                                        "display_name":  "Python 3",
                                        "language":  "python",
                                        "name":  "python3"
                                    },
                     "language_info":  {
                                           "codemirror_mode":  {
                                                                   "name":  "ipython",
                                                                   "version":  3
                                                               },
                                           "file_extension":  ".py",
                                           "mimetype":  "text/x-python",
                                           "name":  "python",
                                           "nbconvert_exporter":  "python",
                                           "pygments_lexer":  "ipython3",
                                           "version":  "3.8.8"
                                       },
                     "minecraft":  {
                                       "description":  "TimeCraft",
                                       "page_id":  "1.1",
                                       "page_name":  "El primer vuelo",
                                       "style":  "minecraft.css"
                                   }
                 },
    "nbformat":  4,
    "nbformat_minor":  4
}
