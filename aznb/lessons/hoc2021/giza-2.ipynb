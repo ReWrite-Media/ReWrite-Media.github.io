{
 "cells": [
  {
   "cell_type": "markdown",
   "metadata": {},
   "source": [
    "# Great Pyramid at Giza (Debug)\n",
    "\n",
    "The Architect of the pyramid is trying to design a building that will stand the test of time. Think how to\n",
    "create a pyramid. There are 2 levels: 3 blocks on the bottom, and 1 block on top. Code the solution by using `agent.give()` to give your Agent a stack of `SANDSTONE`, `agent.move()` to position the agent, and `agent.place()` to place the blocks in a 3 layer pyramid shape.\n",
    "\n",
    "The `agent.give()` function takes three parameters.  \n",
    "\n",
    "- item (*string*): The item you want to give the Agent.\n",
    "- count (*integer*): How many items the Agent will receive.\n",
    "- slot (*integer*): The inventory slot where the Agent receives the item.\n",
    "\n",
    "The `agent.move()` function takes one parameter, direction.\n",
    "\n",
    "Valid directions are: \n",
    "- forward\n",
    "- back\n",
    "- left\n",
    "- right\n",
    "- up\n",
    "- down\n",
    "\n",
    "The `agent.place()` function takes two parameters.  \n",
    "\n",
    "- slot number (*integer*): Which inventory slot the Agent should use.\n",
    "- direction (*string*): The direction you want the Agent to place the item.\n",
    "    - Valid directions are: \n",
    "        - forward\n",
    "        - back\n",
    "        - left\n",
    "        - right\n",
    "        - up\n",
    "        - down\n",
    "        \n",
    "The `agent.turn()` function takes one parameter, turn_direction.\n",
    "\n",
    "Valid directions are: \n",
    "- left\n",
    "- right        "
   ]
  },
  {
   "cell_type": "code",
   "execution_count": null,
   "metadata": {
    "minecraft": {
     "baseCodeCellName": "Example",
     "closeCodeBuilderOnRun": true,
     "readonly": true
    }
   },
   "outputs": [],
   "source": [
    "# give the agent a stack of sandstone\n",
    "# move the agent forward\n",
    "# and place the sandstone blocks\n",
    "# do that 5 times\n",
    "\n",
    "agent.give(\"SANDSTONE\", 64, 1)\n",
    "agent.move(\"forward\")\n",
    "agent.place(1,\"back\")\n",
    "agent.move(\"forward\")\n",
    "agent.place(1,\"back\")\n",
    "agent.move(\"forward\")\n",
    "agent.place(1,\"back\")\n",
    "agent.move(\"forward\")\n",
    "agent.place(1,\"back\")\n",
    "agent.move(\"forward\")\n",
    "agent.place(1,\"back\")"
   ]
  },
  {
   "cell_type": "markdown",
   "metadata": {},
   "source": [
    "# Pro Tip:\n",
    "\n",
    "Use a `for` loop to do one or more actions multiple times."
   ]
  },
  {
   "cell_type": "code",
   "execution_count": null,
   "metadata": {
    "minecraft": {
     "baseCodeCellName": "Example",
     "closeCodeBuilderOnRun": true,
     "readonly": true
    }
   },
   "outputs": [],
   "source": [
    "# give the agent a stack of sandstone\n",
    "# move the agent forward\n",
    "# and place the sandstone blocks\n",
    "# do that 5 times\n",
    "\n",
    "agent.give(\"SANDSTONE\", 64, 1)\n",
    "for i in range(5):\n",
    "    agent.move(\"forward\")\n",
    "    agent.place(1,\"back\")"
   ]
  },
  {
   "cell_type": "markdown",
   "metadata": {},
   "source": [
    "# Activity:\n",
    "\n",
    "The below code has incorrect values. Run the code to see what happens and then try to debug and fix the code to complete the activity.\n",
    "\n",
    "**Note: Use the Reset Code button below to reset the coding box back to the debug code**"
   ]
  },
  {
   "cell_type": "code",
   "execution_count": null,
   "metadata": {
    "minecraft": {
     "closeCodeBuilderOnRun": true,
     "default_code": "# code here\n\nfor i in range(2):\n    agent.move(\"forward\")\n    agent.place(1,\"back\")\n\nagent.move(\"up\")\nagent.turn(\"left\")\nagent.turn(\"right\")\nagent.move(\"forward\")\nagent.move(\"forward\")\n\nagent.move(\"forward\")\nagent.place(1,\"up\")",
     "resetWorldCommand": "function act/2/reset"
    }
   },
   "outputs": [],
   "source": [
    "# code here\n",
    "\n",
    "for i in range(2):\n",
    "    agent.move(\"forward\")\n",
    "    agent.place(1,\"back\")\n",
    "\n",
    "agent.move(\"up\")\n",
    "agent.turn(\"left\")\n",
    "agent.turn(\"right\")\n",
    "agent.move(\"forward\")\n",
    "agent.move(\"forward\")\n",
    "\n",
    "agent.move(\"forward\")\n",
    "agent.place(1,\"up\")"
   ]
  }
 ],
 "metadata": {
  "celltoolbar": "Edit Metadata",
  "kernelspec": {
   "display_name": "Python 3",
   "language": "python",
   "name": "python3"
  },
  "language_info": {
   "codemirror_mode": {
    "name": "ipython",
    "version": 3
   },
   "file_extension": ".py",
   "mimetype": "text/x-python",
   "name": "python",
   "nbconvert_exporter": "python",
   "pygments_lexer": "ipython3",
   "version": "3.8.8"
  },
  "minecraft": {
   "description": "TimeCraft",
   "page_id": "1.1",
   "page_name": "Pyramids of Giza",
   "style": "minecraft.css"
  }
 },
 "nbformat": 4,
 "nbformat_minor": 4
}
