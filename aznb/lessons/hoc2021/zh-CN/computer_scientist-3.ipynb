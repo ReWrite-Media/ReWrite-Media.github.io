﻿{
    "cells":  [
                  {
                      "cell_type":  "markdown",
                      "metadata":  {

                                   },
                      "source":  [
                                     "# 首位计算机科学家（解决方案）\n",
                                     "\n",
                                     "这位计算机科学家发明了打孔卡，打孔卡包含了人类首个算法的说明，可是打孔卡的孔被堵上了。请使用 `agent.move()` 将代理机器人移动到棕色方块上方，然后使用 `agent.destroy()` 打碎下方的方块。\n",
                                     "\n",
                                     "`agent.move()` 函数采用一个参数，方向。\n",
                                     "\n",
                                     "有效方向为：\n",
                                     "- 前 (forward)\n",
                                     "- 后 (back)\n",
                                     "- 左 (left)\n",
                                     "- 右 (right)\n",
                                     "- 上 (up)\n",
                                     "- 下 (down)\n",
                                     "\n",
                                     "`agent.destroy()` 函数采用一个参数：direction。\n",
                                     "\n",
                                     "有效方向为：\n",
                                     "- 前 (forward)\n",
                                     "- 后 (back)\n",
                                     "- 左 (left)\n",
                                     "- 右 (right)\n",
                                     "- 上 (up)\n",
                                     "- 下 (down)\n",
                                     "\n",
                                     "`agent.turn()` 函数采用一个参数：turn_direction。\n",
                                     "\n",
                                     "有效方向为：\n",
                                     "- 左 (left)\n",
                                     "- 右 (right)"
                                 ]
                  },
                  {
                      "cell_type":  "code",
                      "execution_count":  null,
                      "metadata":  {
                                       "minecraft":  {
                                                         "baseCodeCellName":  "Example",
                                                         "closeCodeBuilderOnRun":  true,
                                                         "readonly":  true
                                                     }
                                   },
                      "outputs":  [

                                  ],
                      "source":  [
                                     "# 让代理机器人向前移动 2 个方块\n",
                                     "# 然后打碎它下方的方块。\n",
                                     "\n",
                                     "agent.move(\"forward\")\n",
                                     "agent.destroy(\"down\")"
                                 ]
                  },
                  {
                      "cell_type":  "markdown",
                      "metadata":  {

                                   },
                      "source":  [
                                     "# 活动：\n",
                                     "\n",
                                     "下方代码是此活动正确的解决方案。请运行代码，查看实际效果。\n",
                                     "\n",
                                     "**注意：使用下面的重置代码按钮将编码框重置回解决方案**"
                                 ]
                  },
                  {
                      "cell_type":  "code",
                      "execution_count":  null,
                      "metadata":  {
                                       "minecraft":  {
                                                         "closeCodeBuilderOnRun":  true,
                                                         "default_code":  "# code here\n\nagent.move(\"forward\")\nagent.destroy(\"down\")\nagent.move(\"forward\")\nagent.move(\"forward\")\nagent.destroy(\"down\")\nagent.move(\"forward\")\nagent.move(\"forward\")\nagent.destroy(\"down\")\nagent.turn(\"right\")\nagent.move(\"forward\")\nagent.move(\"forward\")\nagent.turn(\"right\")\nagent.destroy(\"down\")\nagent.move(\"forward\")\nagent.move(\"forward\")\nagent.destroy(\"down\")\nagent.move(\"forward\")\nagent.move(\"forward\")\nagent.destroy(\"down\")",
                                                         "resetWorldCommand":  "function act/7/reset"
                                                     }
                                   },
                      "outputs":  [

                                  ],
                      "source":  [
                                     "# 在此编写代码\n",
                                     "\n",
                                     "agent.move(\"forward\")\n",
                                     "agent.destroy(\"down\")\n",
                                     "agent.move(\"forward\")\n",
                                     "agent.move(\"forward\")\n",
                                     "agent.destroy(\"down\")\n",
                                     "agent.move(\"forward\")\n",
                                     "agent.move(\"forward\")\n",
                                     "agent.destroy(\"down\")\n",
                                     "agent.turn(\"right\")\n",
                                     "agent.move(\"forward\")\n",
                                     "agent.move(\"forward\")\n",
                                     "agent.turn(\"right\")\n",
                                     "agent.destroy(\"down\")\n",
                                     "agent.move(\"forward\")\n",
                                     "agent.move(\"forward\")\n",
                                     "agent.destroy(\"down\")\n",
                                     "agent.move(\"forward\")\n",
                                     "agent.move(\"forward\")\n",
                                     "agent.destroy(\"down\")"
                                 ]
                  }
              ],
    "metadata":  {
                     "celltoolbar":  "Edit Metadata",
                     "kernelspec":  {
                                        "display_name":  "Python 3",
                                        "language":  "python",
                                        "name":  "python3"
                                    },
                     "language_info":  {
                                           "codemirror_mode":  {
                                                                   "name":  "ipython",
                                                                   "version":  3
                                                               },
                                           "file_extension":  ".py",
                                           "mimetype":  "text/x-python",
                                           "name":  "python",
                                           "nbconvert_exporter":  "python",
                                           "pygments_lexer":  "ipython3",
                                           "version":  "3.8.8"
                                       },
                     "minecraft":  {
                                       "description":  "TimeCraft",
                                       "page_id":  "1.1",
                                       "page_name":  "首位计算机科学家",
                                       "style":  "minecraft.css"
                                   }
                 },
    "nbformat":  4,
    "nbformat_minor":  4
}
