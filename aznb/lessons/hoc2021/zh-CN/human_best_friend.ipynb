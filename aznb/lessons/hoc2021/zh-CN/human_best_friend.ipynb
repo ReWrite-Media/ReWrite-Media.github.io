﻿{
    "cells":  [
                  {
                      "cell_type":  "markdown",
                      "source":  [
                                     "# Human\u0027s Best Friends\n",
                                     "\n",
                                     "Dogs have been friends with people for thousands of years. But something has scared the dogs away. Code your Agent to leave a trail of `BEETROOT` items 5 blocks apart to help the people tame the wolves into dogs. Use the `agent.give()` function to give your Agent a stack of `BEETROOT`, then use `agent.move()` to position your Agent, and `agent.drop()` to drop a `BEETROOT`.\n",
                                     "\n",
                                     "The `agent.give()` function takes three parameters.  \n",
                                     "\n",
                                     "- 物品（*字符串*）：您要给代理机器人的物品。\n",
                                     "- 计数（*整数*）：代理机器人将接收多少物品。\n",
                                     "- 栏位（*整数*）：代理机器人接收物品的物品栏位。\n",
                                     "\n",
                                     "The `agent.move()` function takes one parameter, direction.\n",
                                     "\n",
                                     "Valid directions are: \n",
                                     "- forward\n",
                                     "- back\n",
                                     "- left\n",
                                     "- right\n",
                                     "- up\n",
                                     "- down\n",
                                     "\n",
                                     "The `agent.drop()` function takes two parameters.\n",
                                     "- slot (*integer*): The inventory slot where the Agent drops the item from.\n",
                                     "- quantity (*integer*): The number of items the Agent will drop."
                                 ],
                      "metadata":  {

                                   }
                  },
                  {
                      "cell_type":  "code",
                      "execution_count":  null,
                      "source":  [
                                     "# give the agent a stack of beetroot\r\n",
                                     "# then drop one, and move forward 5\r\n",
                                     "\r\n",
                                     "agent.give(\"BEETROOT\", 64, 1)\r\n",
                                     "agent.drop(1,1)\r\n",
                                     "agent.move(\"forward\")\r\n",
                                     "agent.move(\"forward\")\r\n",
                                     "agent.move(\"forward\")\r\n",
                                     "agent.move(\"forward\")"
                                 ],
                      "outputs":  [

                                  ],
                      "metadata":  {
                                       "minecraft":  {
                                                         "baseCodeCellName":  "Example",
                                                         "closeCodeBuilderOnRun":  true,
                                                         "readonly":  true
                                                     }
                                   }
                  },
                  {
                      "cell_type":  "markdown",
                      "source":  [
                                     "# 专业提示：\n",
                                     "\n",
                                     "Use a `for` loop to do one or more actions multiple times."
                                 ],
                      "metadata":  {

                                   }
                  },
                  {
                      "cell_type":  "code",
                      "execution_count":  null,
                      "source":  [
                                     "# give the agent a stack of beetroot\r\n",
                                     "# then drop one, and move forward 5\r\n",
                                     "\r\n",
                                     "agent.give(\"BEETROOT\", 64, 1)\r\n",
                                     "agent.drop(1,1)\r\n",
                                     "for i in range(4):\r\n",
                                     "    agent.move(\"forward\")"
                                 ],
                      "outputs":  [

                                  ],
                      "metadata":  {
                                       "minecraft":  {
                                                         "baseCodeCellName":  "Example",
                                                         "closeCodeBuilderOnRun":  true,
                                                         "readonly":  true
                                                     }
                                   }
                  },
                  {
                      "cell_type":  "markdown",
                      "source":  [
                                     "# Activity\r\n",
                                     "\r\n",
                                     "Drop a `BEETROOT` every 5 blocks leading the wolves to the campfire directly ahead of the Agent\u0027s starting position.\r\n",
                                     "\r\n",
                                     "**Note: You can reset the activity by using your T.A.L.K. device or by using the Reset Activity button.**"
                                 ],
                      "metadata":  {

                                   }
                  },
                  {
                      "cell_type":  "code",
                      "execution_count":  null,
                      "source":  [
                                     "# code here\r\n",
                                     "\r\n",
                                     "\r\n"
                                 ],
                      "outputs":  [

                                  ],
                      "metadata":  {
                                       "minecraft":  {
                                                         "closeCodeBuilderOnRun":  true,
                                                         "default_code":  "# code here\n\n\n",
                                                         "resetWorldCommand":  "function act/8/reset"
                                                     }
                                   }
                  }
              ],
    "metadata":  {
                     "celltoolbar":  "Edit Metadata",
                     "kernelspec":  {
                                        "display_name":  "Python 3",
                                        "language":  "python",
                                        "name":  "python3"
                                    },
                     "language_info":  {
                                           "codemirror_mode":  {
                                                                   "name":  "ipython",
                                                                   "version":  3
                                                               },
                                           "file_extension":  ".py",
                                           "mimetype":  "text/x-python",
                                           "name":  "python",
                                           "nbconvert_exporter":  "python",
                                           "pygments_lexer":  "ipython3",
                                           "version":  "3.8.8"
                                       },
                     "minecraft":  {
                                       "description":  "TimeCraft",
                                       "page_id":  "1.1",
                                       "page_name":  "Human\u0027s Best Friends",
                                       "style":  "minecraft.css"
                                   }
                 },
    "nbformat":  4,
    "nbformat_minor":  4
}
