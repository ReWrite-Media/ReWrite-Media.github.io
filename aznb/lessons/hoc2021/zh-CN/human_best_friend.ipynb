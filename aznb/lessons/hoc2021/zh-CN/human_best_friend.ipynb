﻿{
    "cells":  [
                  {
                      "cell_type":  "markdown",
                      "source":  [
                                     "# 人类最好的朋友\n",
                                     "\n",
                                     "狗从几千年前开始成为人类的朋友。但是有东西把它吓跑了。代理机器人需要每 5 个方块留下 `BEETROOT` 物品，让其形成诱饵轨迹，帮助人们将狼驯服成狗。使用 `agent.give()` 函数给代理机器人一堆 `BEETROOT`，然后用 `agent.move()` 放置您的代理机器人，用 `agent.drop()` 掉落 `BEETROOT`。\n",
                                     "\n",
                                     "`agent.give()` 函数采用三个参数。\n",
                                     "\n",
                                     "- 物品（*字符串*）：您要给代理机器人的物品。\n",
                                     "- 计数（*整数*）：代理机器人将接收多少物品。\n",
                                     "- 栏位（*整数*）：代理机器人接收物品的物品栏位。\n",
                                     "\n",
                                     "`agent.move()` 函数采用一个参数：direction。\n",
                                     "\n",
                                     "有效方向为：\n",
                                     "- 前 (forward)\n",
                                     "- 后 (back)\n",
                                     "- 左 (left)\n",
                                     "- 右 (right)\n",
                                     "- 上 (up)\n",
                                     "- 下 (down)\n",
                                     "\n",
                                     "`agent.drop()` 函数采用两个参数。\n",
                                     "- 栏位（*整数*）：代理机器人放置的物品的物品栏位。\n",
                                     "- 数量（*整数*）：代理机器人将放置的物品数量。"
                                 ],
                      "metadata":  {

                                   }
                  },
                  {
                      "cell_type":  "code",
                      "execution_count":  null,
                      "source":  [
                                     "# 给代理机器人一堆甜菜根\r\n",
                                     "# 随后放下一个并向前移动 5\r\n",
                                     "\r\n",
                                     "agent.give(\"BEETROOT\", 64, 1)\r\n",
                                     "agent.drop(1,1)\r\n",
                                     "agent.move(\"forward\")\r\n",
                                     "agent.move(\"forward\")\r\n",
                                     "agent.move(\"forward\")\r\n",
                                     "agent.move(\"forward\")"
                                 ],
                      "outputs":  [

                                  ],
                      "metadata":  {
                                       "minecraft":  {
                                                         "baseCodeCellName":  "Example",
                                                         "closeCodeBuilderOnRun":  true,
                                                         "readonly":  true
                                                     }
                                   }
                  },
                  {
                      "cell_type":  "markdown",
                      "source":  [
                                     "# 专业提示：\n",
                                     "\n",
                                     "使用 `for` 循环多次执行一个或多个操作。"
                                 ],
                      "metadata":  {

                                   }
                  },
                  {
                      "cell_type":  "code",
                      "execution_count":  null,
                      "source":  [
                                     "# 给代理机器人一堆甜菜根\r\n",
                                     "# 随后放下一个并向前移动 5\r\n",
                                     "\r\n",
                                     "agent.give(\"BEETROOT\", 64, 1)\r\n",
                                     "agent.drop(1,1)\r\n",
                                     "for i in range(4):\r\n",
                                     "    agent.move(\"forward\")"
                                 ],
                      "outputs":  [

                                  ],
                      "metadata":  {
                                       "minecraft":  {
                                                         "baseCodeCellName":  "Example",
                                                         "closeCodeBuilderOnRun":  true,
                                                         "readonly":  true
                                                     }
                                   }
                  },
                  {
                      "cell_type":  "markdown",
                      "source":  [
                                     "# 活动\r\n",
                                     "\r\n",
                                     "每 5 个方块丢下一个 `BEETROOT`，将狼引到营火处，直接抵达代理机器人起点的前方。\r\n",
                                     "\r\n",
                                     "**注意：您可以通过 T.A.L.K. 设备或使用重置活动按钮来重置活动。**"
                                 ],
                      "metadata":  {

                                   }
                  },
                  {
                      "cell_type":  "code",
                      "execution_count":  null,
                      "source":  [
                                     "# 在此编写代码\r\n",
                                     "\r\n",
                                     "\r\n"
                                 ],
                      "outputs":  [

                                  ],
                      "metadata":  {
                                       "minecraft":  {
                                                         "closeCodeBuilderOnRun":  true,
                                                         "default_code":  "# code here\n\n\n",
                                                         "resetWorldCommand":  "function act/8/reset"
                                                     }
                                   }
                  }
              ],
    "metadata":  {
                     "celltoolbar":  "Edit Metadata",
                     "kernelspec":  {
                                        "display_name":  "Python 3",
                                        "language":  "python",
                                        "name":  "python3"
                                    },
                     "language_info":  {
                                           "codemirror_mode":  {
                                                                   "name":  "ipython",
                                                                   "version":  3
                                                               },
                                           "file_extension":  ".py",
                                           "mimetype":  "text/x-python",
                                           "name":  "python",
                                           "nbconvert_exporter":  "python",
                                           "pygments_lexer":  "ipython3",
                                           "version":  "3.8.8"
                                       },
                     "minecraft":  {
                                       "description":  "TimeCraft",
                                       "page_id":  "1.1",
                                       "page_name":  "人类最好的朋友",
                                       "style":  "minecraft.css"
                                   }
                 },
    "nbformat":  4,
    "nbformat_minor":  4
}
