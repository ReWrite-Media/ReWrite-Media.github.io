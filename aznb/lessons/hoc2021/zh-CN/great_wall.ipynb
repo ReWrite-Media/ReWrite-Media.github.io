﻿{
    "cells":  [
                  {
                      "cell_type":  "markdown",
                      "metadata":  {

                                   },
                      "source":  [
                                     "# 中国长城\n",
                                     "\n",
                                     "熊猫不停地吃着竹子脚手架，让工程师无法完成建墙工作。将熊猫从城墙边引开。使用 `agent.give()` 给您的代理机器人一堆 `BAMBOO`，然后使用 `agent.move()` 放置代理机器人，用 `agent.place()` 放置 `BAMBOO`\n",
                                     "\n",
                                     "`agent.give()` 函数采用三个参数。\n",
                                     "\n",
                                     "- 物品（*字符串*）：您要给代理机器人的物品。\n",
                                     "- 计数（*整数*）：代理机器人将接收多少物品。\n",
                                     "- 栏位（*整数*）：代理机器人接收物品的物品栏位。\n",
                                     "\n",
                                     "`agent.move()` 函数采用一个参数：direction。\n",
                                     "\n",
                                     "有效方向为：\n",
                                     "- 前 (forward)\n",
                                     "- 后 (back)\n",
                                     "- 左 (left)\n",
                                     "- 右 (right)\n",
                                     "- 上 (up)\n",
                                     "- 下 (down)\n",
                                     "\n",
                                     "`agent.place()` 函数采用两个参数。\n",
                                     "\n",
                                     "- 栏位号（*整数*）：代理机器人要使用哪一个物品栏位。\n",
                                     "- 方向（*字符串*）：您希望代理机器人放置物品的方向。\n",
                                     "    - 有效方向为：\n",
                                     "        - 前 (forward)\n",
                                     "        - 后 (back)\n",
                                     "        - 左 (left)\n",
                                     "        - 右 (right)\n",
                                     "        - 上 (up)\n",
                                     "        - 下 (down)"
                                 ]
                  },
                  {
                      "cell_type":  "code",
                      "execution_count":  null,
                      "metadata":  {
                                       "minecraft":  {
                                                         "baseCodeCellName":  "Example",
                                                         "closeCodeBuilderOnRun":  true,
                                                         "readonly":  true
                                                     }
                                   },
                      "outputs":  [

                                  ],
                      "source":  [
                                     "# 给代理机器人一堆竹子\n",
                                     "# 将竹子放到代理机器人下方\n",
                                     "# 然后向前移动代理机器人\n",
                                     "# 执行 2 次\n",
                                     "\n",
                                     "agent.give(\"BAMBOO\", 64, 1)\n",
                                     "agent.place(1,\"down\")\n",
                                     "agent.move(\"forward\")\n",
                                     "agent.place(1,\"down\")"
                                 ]
                  },
                  {
                      "cell_type":  "markdown",
                      "metadata":  {

                                   },
                      "source":  [
                                     "# 专业提示：\n",
                                     "\n",
                                     "使用 `for` 循环多次执行一个或多个操作。"
                                 ]
                  },
                  {
                      "cell_type":  "code",
                      "execution_count":  null,
                      "metadata":  {
                                       "minecraft":  {
                                                         "baseCodeCellName":  "Example",
                                                         "closeCodeBuilderOnRun":  true,
                                                         "readonly":  true
                                                     }
                                   },
                      "outputs":  [

                                  ],
                      "source":  [
                                     "# 给代理机器人一堆竹子\n",
                                     "# 将竹子放到代理机器人下方\n",
                                     "# 然后向前移动代理机器人\n",
                                     "# 执行 2 次\n",
                                     "\n",
                                     "agent.give(\"BAMBOO\", 64, 1)\n",
                                     "for i in range(2):\n",
                                     "    agent.place(1,\"down\")\n",
                                     "    agent.move(\"forward\")"
                                 ]
                  },
                  {
                      "cell_type":  "markdown",
                      "metadata":  {

                                   },
                      "source":  [
                                     "# 活动\n",
                                     "\n",
                                     "放置一排共 5 根 `BAMBOO` 将熊猫从城墙边引诱开，让工程师完成工作。\n",
                                     "\n",
                                     "**注意：您可以通过 T.A.L.K. 设备或使用重置活动按钮来重置活动。**"
                                 ]
                  },
                  {
                      "cell_type":  "code",
                      "execution_count":  null,
                      "metadata":  {
                                       "minecraft":  {
                                                         "closeCodeBuilderOnRun":  true,
                                                         "default_code":  "# code here\n\n\n",
                                                         "resetWorldCommand":  "function act/4/reset"
                                                     }
                                   },
                      "outputs":  [

                                  ],
                      "source":  [
                                     "# 在此编写代码\n",
                                     "\n",
                                     "\n"
                                 ]
                  }
              ],
    "metadata":  {
                     "celltoolbar":  "Edit Metadata",
                     "kernelspec":  {
                                        "display_name":  "Python 3",
                                        "language":  "python",
                                        "name":  "python3"
                                    },
                     "language_info":  {
                                           "codemirror_mode":  {
                                                                   "name":  "ipython",
                                                                   "version":  3
                                                               },
                                           "file_extension":  ".py",
                                           "mimetype":  "text/x-python",
                                           "name":  "python",
                                           "nbconvert_exporter":  "python",
                                           "pygments_lexer":  "ipython3",
                                           "version":  "3.8.8"
                                       },
                     "minecraft":  {
                                       "description":  "TimeCraft",
                                       "page_id":  "1.1",
                                       "page_name":  "中国长城",
                                       "style":  "minecraft.css"
                                   }
                 },
    "nbformat":  4,
    "nbformat_minor":  4
}
