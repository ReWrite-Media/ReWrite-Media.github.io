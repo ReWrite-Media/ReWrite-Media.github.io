﻿{
    "cells":  [
                  {
                      "cell_type":  "markdown",
                      "metadata":  {

                                   },
                      "source":  [
                                     "# 测试区域\n",
                                     "\n",
                                     "欢迎进行您的第一项编程任务。我们来测试一下您的时间代理机器人，看看它是否能听从您的代码指令。请使用 `agent.move()` 将代理机器人向前移动 3 个方块。\n",
                                     "\n",
                                     "按运行，执行您的代码。\n",
                                     "\n",
                                     "`agent.move()` 函数采用一个参数：direction。\n",
                                     "\n",
                                     "有效方向为：\n",
                                     "- 前 (forward)\n",
                                     "- 后 (back)\n",
                                     "- 左 (left)\n",
                                     "- 右 (right)\n",
                                     "- 上 (up)\n",
                                     "- 下 (down)\n",
                                     "\n",
                                     "示例："
                                 ]
                  },
                  {
                      "cell_type":  "code",
                      "execution_count":  null,
                      "metadata":  {
                                       "minecraft":  {
                                                         "baseCodeCellName":  "Example",
                                                         "closeCodeBuilderOnRun":  true,
                                                         "readonly":  true
                                                     }
                                   },
                      "outputs":  [

                                  ],
                      "source":  [
                                     "# 将代理机器人向上移动 2 个方块并后退 1 个方块\n",
                                     "agent.move(\"forward\")\n",
                                     "agent.move(\"forward\")\n",
                                     "agent.move(\"back\")"
                                 ]
                  },
                  {
                      "cell_type":  "markdown",
                      "metadata":  {

                                   },
                      "source":  [
                                     "# 专业提示：\n",
                                     "\n",
                                     "使用 `for` 循环多次执行一个或多个操作。\n",
                                     "\n",
                                     "示例："
                                 ]
                  },
                  {
                      "cell_type":  "code",
                      "execution_count":  null,
                      "metadata":  {
                                       "minecraft":  {
                                                         "baseCodeCellName":  "Example",
                                                         "closeCodeBuilderOnRun":  true,
                                                         "readonly":  true
                                                     }
                                   },
                      "outputs":  [

                                  ],
                      "source":  [
                                     "# 将代理机器人向上移动 2 个方块并后退 1 个方块\n",
                                     "for i in range(2):\n",
                                     "    agent.move(\"forward\")\n",
                                     "agent.move(\"back\")    "
                                 ]
                  },
                  {
                      "cell_type":  "markdown",
                      "metadata":  {

                                   },
                      "source":  [
                                     "# 活动\n",
                                     "\n",
                                     "让代理机器人向前移动 3 个方块。\n",
                                     "\n",
                                     "**注意：您可以通过 T.A.L.K. 设备或使用重置活动按钮来重置活动。**"
                                 ]
                  },
                  {
                      "cell_type":  "code",
                      "execution_count":  null,
                      "metadata":  {
                                       "minecraft":  {
                                                         "closeCodeBuilderOnRun":  true,
                                                         "default_code":  "# code here\n\n\n",
                                                         "resetWorldCommand":  "function act/0/reset"
                                                     }
                                   },
                      "outputs":  [

                                  ],
                      "source":  [
                                     "# 在此编写代码\n",
                                     "\n",
                                     "\n"
                                 ]
                  }
              ],
    "metadata":  {
                     "celltoolbar":  "Edit Metadata",
                     "kernelspec":  {
                                        "display_name":  "Python 3",
                                        "language":  "python",
                                        "name":  "python3"
                                    },
                     "language_info":  {
                                           "codemirror_mode":  {
                                                                   "name":  "ipython",
                                                                   "version":  3
                                                               },
                                           "file_extension":  ".py",
                                           "mimetype":  "text/x-python",
                                           "name":  "python",
                                           "nbconvert_exporter":  "python",
                                           "pygments_lexer":  "ipython3",
                                           "version":  "3.8.8"
                                       },
                     "minecraft":  {
                                       "description":  "TimeCraft",
                                       "page_id":  "1.1",
                                       "page_name":  "测试区域",
                                       "style":  "minecraft.css"
                                   }
                 },
    "nbformat":  4,
    "nbformat_minor":  4
}
