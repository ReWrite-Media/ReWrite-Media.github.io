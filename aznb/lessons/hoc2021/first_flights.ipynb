{
 "cells": [
  {
   "cell_type": "markdown",
   "metadata": {},
   "source": [
    "# First Flight\n",
    "\n",
    "The first flight is scheduled to take off any minute now, but someone came and put holes in the runway! Use the `agent.give()` function to give your Agent a stack of `DIRT` blocks and use the `agent.move()` function to position the Agent above the holes, and then use `agent.place()` to fill the holes.\n",
    "\n",
    "The `agent.give()` function takes three parameters.  \n",
    "\n",
    "- item (*string*): The item you want to give the Agent.\n",
    "- count (*integer*): How many items the Agent will receive.\n",
    "- slot (*integer*): The inventory slot where the Agent receives the item.\n",
    "\n",
    "The `agent.move()` function takes one parameter, direction.\n",
    "\n",
    "Valid directions are: \n",
    "- forward\n",
    "- back\n",
    "- left\n",
    "- right\n",
    "- up\n",
    "- down\n",
    "\n",
    "The `agent.place()` function takes two parameters.  \n",
    "\n",
    "- slot number (*integer*): Which inventory slot the Agent should use.\n",
    "- direction (*string*): The direction you want the Agent to place the item.\n",
    "    - Valid directions are: \n",
    "        - forward\n",
    "        - back\n",
    "        - left\n",
    "        - right\n",
    "        - up\n",
    "        - down\n",
    "\n",
    "The `agent.turn()` function takes one parameter, turn_direction.\n",
    "\n",
    "Valid directions are: \n",
    "- left\n",
    "- right\n",
    "\n",
    "Example:"
   ]
  },
  {
   "cell_type": "code",
   "execution_count": null,
   "metadata": {
    "minecraft": {
     "closeCodeBuilderOnRun": true,
     "readonly": true
    }
   },
   "outputs": [],
   "source": [
    "# give the agent a stack of dirt blocks\n",
    "# move forward 1 and place down\n",
    "# do that 2 times\n",
    "\n",
    "agent.give(\"DIRT\", 64, 1)\n",
    "agent.move(\"forward\")\n",
    "agent.place(1,\"down\")\n",
    "agent.move(\"forward\")\n",
    "agent.place(1,\"down\")\n",
    "\n"
   ]
  },
  {
   "cell_type": "markdown",
   "metadata": {},
   "source": [
    "# Pro Tip:\n",
    "\n",
    "Use a `for` loop to do one or more actions multiple times.\n",
    "\n",
    "Example:"
   ]
  },
  {
   "cell_type": "code",
   "execution_count": null,
   "metadata": {
    "minecraft": {
     "closeCodeBuilderOnRun": true,
     "readonly": true
    }
   },
   "outputs": [],
   "source": [
    "# give the agent a stack of dirt blocks\n",
    "# move forward 1 and place down\n",
    "# do that 2 times\n",
    "\n",
    "agent.give(\"DIRT\", 64, 1)\n",
    "for i in range(2):\n",
    "    agent.move(\"forward\")\n",
    "    agent.place(1,\"down\")\n"
   ]
  },
  {
   "cell_type": "markdown",
   "metadata": {},
   "source": [
    "# Activity\n",
    "\n",
    "Fill the holes in the runway with `DIRT` so the first flight can go as scheduled.\n",
    "\n",
    "**Note: You can reset the activity by using your T.A.L.K. device or by using the Reset World button.**"
   ]
  },
  {
   "cell_type": "code",
   "execution_count": null,
   "metadata": {
    "minecraft": {
     "closeCodeBuilderOnRun": true,
     "default_code": "# code here\n\n\n",
     "resetWorldCommand": "say NEEDS RESET CODE"
    }
   },
   "outputs": [],
   "source": [
    "# code here\n",
    "\n",
    "\n"
   ]
  }
 ],
 "metadata": {
  "celltoolbar": "Edit Metadata",
  "kernelspec": {
   "display_name": "Python 3",
   "language": "python",
   "name": "python3"
  },
  "language_info": {
   "codemirror_mode": {
    "name": "ipython",
    "version": 3
   },
   "file_extension": ".py",
   "mimetype": "text/x-python",
   "name": "python",
   "nbconvert_exporter": "python",
   "pygments_lexer": "ipython3",
   "version": "3.8.8"
  }
 },
 "nbformat": 4,
 "nbformat_minor": 4
}
