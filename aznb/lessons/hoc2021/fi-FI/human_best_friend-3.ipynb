﻿{
    "cells":  [
                  {
                      "cell_type":  "markdown",
                      "metadata":  {

                                   },
                      "source":  [
                                     "# Ihmisen parhaat ystävät (ratkaisu)\n",
                                     "\n",
                                     "Koirat ovat olleet ihmisten ystäviä jo vuosituhansia. Jokin on kuitenkin säikäyttänyt koirat tiehensä. Koodaa Agent jättämään BEETROOT-esineitä poluksi 5 kuution välein, jotta ihmiset voivat kesyttää sudet koiriksi. Anna Agentille BEETROOT-pino agent.give()-toiminnolla, asemoi Agent agent.move()-toiminnolla ja pudota BEETROOT agent.drop()-toiminnolla.\n",
                                     "\n",
                                     "Agent.give()-toiminto käyttää kolmea parametria.  \n",
                                     "\n",
                                     "- esine (*merkkijono*): Esine, jonka haluat antaa Agentille.\n",
                                     "- määrä (*kokonaisluku*): Agentin vastaanottamien esineiden määrä.\n",
                                     "- paikka (*kokonaisluku*): Tavaraluettelon paikka, johon Agent vastaanottaa esineen.\n",
                                     "\n",
                                     "Agent.move()-toiminto käyttää yhtä parametria: direction.\n",
                                     "\n",
                                     "Kelvollisia suuntia ovat: \n",
                                     "- forward\n",
                                     "- back\n",
                                     "- left\n",
                                     "- right\n",
                                     "- up\n",
                                     "- down\n",
                                     "\n",
                                     "Agent.drop()-toiminto käyttää kahta parametria.\n",
                                     "- paikka (*kokonaisluku*): Tavaraluettelon paikka, josta Agent pudottaa esineen.\n",
                                     "- määrä (*kokonaisluku*): Esinemäärä, jonka Agent pudottaa."
                                 ]
                  },
                  {
                      "cell_type":  "code",
                      "execution_count":  null,
                      "metadata":  {
                                       "minecraft":  {
                                                         "baseCodeCellName":  "Example",
                                                         "closeCodeBuilderOnRun":  true,
                                                         "readonly":  true
                                                     }
                                   },
                      "outputs":  [

                                  ],
                      "source":  [
                                     "# anna Agentille pino punajuuria\n",
                                     "# pudota sitten yksi ja siirry 5 kuutiota eteenpäin\n",
                                     "\n",
                                     "agent.give(\"BEETROOT\", 64, 1)\n",
                                     "agent.drop(1,1)\n",
                                     "agent.move(\"forward\")\n",
                                     "agent.move(\"forward\")\n",
                                     "agent.move(\"forward\")\n",
                                     "agent.move(\"forward\")"
                                 ]
                  },
                  {
                      "cell_type":  "markdown",
                      "metadata":  {

                                   },
                      "source":  [
                                     "# Ammattilaisvinkki:\n",
                                     "\n",
                                     "For-silmukan avulla voit suorittaa toiminnon tai toimintosarjan useita kertoja."
                                 ]
                  },
                  {
                      "cell_type":  "code",
                      "execution_count":  null,
                      "metadata":  {
                                       "minecraft":  {
                                                         "baseCodeCellName":  "Example",
                                                         "closeCodeBuilderOnRun":  true,
                                                         "readonly":  true
                                                     }
                                   },
                      "outputs":  [

                                  ],
                      "source":  [
                                     "# anna Agentille pino punajuuria\n",
                                     "# pudota sitten yksi ja siirry 5 kuutiota eteenpäin\n",
                                     "\n",
                                     "agent.give(\"BEETROOT\", 64, 1)\n",
                                     "for i in range(2):\n",
                                     "    agent.drop(1,1)\n",
                                     "    agent.move(\"forward\")\n",
                                     "    agent.move(\"forward\")\n",
                                     "    agent.move(\"forward\")\n",
                                     "    agent.move(\"forward\")"
                                 ]
                  },
                  {
                      "cell_type":  "markdown",
                      "metadata":  {

                                   },
                      "source":  [
                                     "# Tehtävä:\n",
                                     "\n",
                                     "Alla oleva koodi on oikea ratkaisu tehtävään. Suorita koodi, jotta näet sen toimivan.\n",
                                     "\n",
                                     "**Huomaa: Alla olevalla Nollaa koodi -painikkeella voit palauttaa ratkaisun koodausruutuun**"
                                 ]
                  },
                  {
                      "cell_type":  "code",
                      "execution_count":  null,
                      "metadata":  {
                                       "minecraft":  {
                                                         "closeCodeBuilderOnRun":  true,
                                                         "default_code":  "# code here\n\nagent.give(\"BEETROOT\", 64, 1)\nfor i in range(6):\n    agent.drop(1,1)\n    agent.move(\"forward\")\n    agent.move(\"forward\")\n    agent.move(\"forward\")\n    agent.move(\"forward\")",
                                                         "resetWorldCommand":  "function act/8/reset"
                                                     }
                                   },
                      "outputs":  [

                                  ],
                      "source":  [
                                     "# koodaa tässä\n",
                                     "\n",
                                     "agent.give(\"BEETROOT\", 64, 1)\n",
                                     "for i in range(6):\n",
                                     "    agent.drop(1,1)\n",
                                     "    agent.move(\"forward\")\n",
                                     "    agent.move(\"forward\")\n",
                                     "    agent.move(\"forward\")\n",
                                     "    agent.move(\"forward\")"
                                 ]
                  }
              ],
    "metadata":  {
                     "celltoolbar":  "Edit Metadata",
                     "kernelspec":  {
                                        "display_name":  "Python 3",
                                        "language":  "python",
                                        "name":  "python3"
                                    },
                     "language_info":  {
                                           "codemirror_mode":  {
                                                                   "name":  "ipython",
                                                                   "version":  3
                                                               },
                                           "file_extension":  ".py",
                                           "mimetype":  "text/x-python",
                                           "name":  "python",
                                           "nbconvert_exporter":  "python",
                                           "pygments_lexer":  "ipython3",
                                           "version":  "3.8.8"
                                       },
                     "minecraft":  {
                                       "description":  "TimeCraft",
                                       "page_id":  "1.1",
                                       "page_name":  "Ihmisen parhaat ystävät",
                                       "style":  "minecraft.css"
                                   }
                 },
    "nbformat":  4,
    "nbformat_minor":  4
}
