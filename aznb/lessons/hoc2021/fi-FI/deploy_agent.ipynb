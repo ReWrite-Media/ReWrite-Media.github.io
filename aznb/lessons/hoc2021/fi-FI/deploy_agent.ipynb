﻿{
    "cells":  [
                  {
                      "cell_type":  "markdown",
                      "source":  [
                                     "## Agent otettu käyttöön!\n",
                                     "Agent on otettu käyttöön! \n",
                                     "\n",
                                     "Tämä on Koodinrakentajan ikkuna. Se tulee näkyviin, kun olet valmiina koodaamaan!\n",
                                     "\n",
                                     "Alla näet koodausruudun. Siellä kirjoitat ja suoritat koodisi seuraavassa tehtävässä."
                                 ],
                      "metadata":  {

                                   }
                  },
                  {
                      "cell_type":  "code",
                      "execution_count":  null,
                      "source":  [
                                     "## Tältä koodausruutu näyttää\r\n",
                                     "## käytät tällaisia katkelmia\r\n",
                                     "## koodin kirjoittamiseen tulevia tehtäviä varten"
                                 ],
                      "outputs":  [

                                  ],
                      "metadata":  {
                                       "minecraft":  {
                                                         "closeCodeBuilderOnRun":  true,
                                                         "default_code":  "## this is what a coding box look like\n## you\u0027ll use section like these to\n## write your code in future activities\n"
                                                     }
                                   }
                  },
                  {
                      "cell_type":  "markdown",
                      "source":  [
                                     "Jatka seikkailuasi sulkemalla tämä ikkuna!"
                                 ],
                      "metadata":  {

                                   }
                  }
              ],
    "metadata":  {
                     "celltoolbar":  "Edit Metadata",
                     "kernelspec":  {
                                        "display_name":  "Python 3",
                                        "language":  "python",
                                        "name":  "python3"
                                    },
                     "language_info":  {
                                           "codemirror_mode":  {
                                                                   "name":  "ipython",
                                                                   "version":  3
                                                               },
                                           "file_extension":  ".py",
                                           "mimetype":  "text/x-python",
                                           "name":  "python",
                                           "nbconvert_exporter":  "python",
                                           "pygments_lexer":  "ipython3",
                                           "version":  "3.8.8"
                                       },
                     "minecraft":  {
                                       "description":  "TimeCraft",
                                       "page_id":  "1.1",
                                       "page_name":  "Agent on otettu käyttöön",
                                       "style":  "minecraft.css"
                                   }
                 },
    "nbformat":  4,
    "nbformat_minor":  4
}
