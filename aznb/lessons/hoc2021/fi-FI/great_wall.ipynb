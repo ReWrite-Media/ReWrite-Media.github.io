﻿{
    "cells":  [
                  {
                      "cell_type":  "markdown",
                      "metadata":  {

                                   },
                      "source":  [
                                     "# Kiinan muuri\n",
                                     "\n",
                                     "Pandat syövät bamburakennustelineet yhä uudelleen ja estävät insinööriä rakentamasta muuria valmiiksi. Johdata pandat pois muurilta. Anna Agentille BAMBOO-pino toiminnolla agent.give(), siirrä Agent sitten asemiin toiminnolla agent.move() ja aseta BAMBOO sitten toiminnolla agent.place().\n",
                                     "\n",
                                     "Agent.give()-toiminto käyttää kolmea parametria.  \n",
                                     "\n",
                                     "- esine (*merkkijono*): Esine, jonka haluat antaa Agentille.\n",
                                     "- määrä (*kokonaisluku*): Agentin vastaanottamien esineiden määrä.\n",
                                     "- paikka (*kokonaisluku*): Tavaraluettelon paikka, johon Agent vastaanottaa esineen.\n",
                                     "\n",
                                     "Agent.move()-toiminto käyttää yhtä parametria: direction.\n",
                                     "\n",
                                     "Kelvollisia suuntia ovat: \n",
                                     "- forward\n",
                                     "- back\n",
                                     "- left\n",
                                     "- right\n",
                                     "- up\n",
                                     "- down\n",
                                     "\n",
                                     "Agent.place()-toiminto käyttää kahta parametria.  \n",
                                     "\n",
                                     "- paikkanumero (*kokonaisluku*): Tavaraluettelon paikka, jota Agentin pitäisi käyttää.\n",
                                     "- suunta (*merkkijono*): Suunta, johon haluat Agentin asettavan esineen.\n",
                                     "    - Kelvollisia suuntia ovat: \n",
                                     "        - forward\n",
                                     "        - back\n",
                                     "        - left\n",
                                     "        - right\n",
                                     "        - up\n",
                                     "        - down"
                                 ]
                  },
                  {
                      "cell_type":  "code",
                      "execution_count":  null,
                      "metadata":  {
                                       "minecraft":  {
                                                         "baseCodeCellName":  "Example",
                                                         "closeCodeBuilderOnRun":  true,
                                                         "readonly":  true
                                                     }
                                   },
                      "outputs":  [

                                  ],
                      "source":  [
                                     "# anna Agentille pino bambua\n",
                                     "# aseta bambu Agentin alle\n",
                                     "# ja siirrä Agentia sitten eteenpäin\n",
                                     "# tee tämä 2 kertaa\n",
                                     "\n",
                                     "agent.give(\"BAMBOO\", 64, 1)\n",
                                     "agent.place(\"down\", 1)\n",
                                     "agent.move(\"forward\")\n",
                                     "agent.place(\"down\", 1)"
                                 ]
                  },
                  {
                      "cell_type":  "markdown",
                      "metadata":  {

                                   },
                      "source":  [
                                     "# Ammattilaisvinkki:\n",
                                     "\n",
                                     "For-silmukan avulla voit suorittaa toiminnon tai toimintosarjan useita kertoja."
                                 ]
                  },
                  {
                      "cell_type":  "code",
                      "execution_count":  null,
                      "metadata":  {
                                       "minecraft":  {
                                                         "baseCodeCellName":  "Example",
                                                         "closeCodeBuilderOnRun":  true,
                                                         "readonly":  true
                                                     }
                                   },
                      "outputs":  [

                                  ],
                      "source":  [
                                     "# anna Agentille pino bambua\n",
                                     "# aseta bambu Agentin alle\n",
                                     "# ja siirrä Agentia sitten eteenpäin\n",
                                     "# tee tämä 2 kertaa\n",
                                     "\n",
                                     "agent.give(\"BAMBOO\", 64, 1)\n",
                                     "for i in range(2):\n",
                                     "    agent.place(\"down\", 1)\n",
                                     "    agent.move(\"forward\")"
                                 ]
                  },
                  {
                      "cell_type":  "markdown",
                      "metadata":  {

                                   },
                      "source":  [
                                     "# Tehtävä\n",
                                     "\n",
                                     "Houkuttele pandat pois muurin luota viiden BAMBOO-kuution rivillä, jotta insinööri voi saada työnsä loppuun.\n",
                                     "\n",
                                     "**Huomaa: Voit aloittaa tehtävän alusta käyttämällä AAHA-laitetta tai Aloita alusta -painiketta.**"
                                 ]
                  },
                  {
                      "cell_type":  "code",
                      "execution_count":  null,
                      "metadata":  {
                                       "minecraft":  {
                                                         "closeCodeBuilderOnRun":  true,
                                                         "default_code":  "# code here\n\n\n",
                                                         "resetWorldCommand":  "function act/4/reset"
                                                     }
                                   },
                      "outputs":  [

                                  ],
                      "source":  [
                                     "# koodaa tässä\n",
                                     "\n",
                                     "\n"
                                 ]
                  }
              ],
    "metadata":  {
                     "celltoolbar":  "Edit Metadata",
                     "kernelspec":  {
                                        "display_name":  "Python 3",
                                        "language":  "python",
                                        "name":  "python3"
                                    },
                     "language_info":  {
                                           "codemirror_mode":  {
                                                                   "name":  "ipython",
                                                                   "version":  3
                                                               },
                                           "file_extension":  ".py",
                                           "mimetype":  "text/x-python",
                                           "name":  "python",
                                           "nbconvert_exporter":  "python",
                                           "pygments_lexer":  "ipython3",
                                           "version":  "3.8.8"
                                       },
                     "minecraft":  {
                                       "description":  "TimeCraft",
                                       "page_id":  "1.1",
                                       "page_name":  "Kiinan muuri",
                                       "style":  "minecraft.css"
                                   }
                 },
    "nbformat":  4,
    "nbformat_minor":  4
}
