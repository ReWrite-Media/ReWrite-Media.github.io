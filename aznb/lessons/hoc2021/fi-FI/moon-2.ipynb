﻿{
    "cells":  [
                  {
                      "cell_type":  "markdown",
                      "metadata":  {

                                   },
                      "source":  [
                                     "# Kuutehtävä (virheenkorjaus)\n",
                                     "\n",
                                     "Lähetä Agent avaruusmoduuliin toimittamaan laskelmat. Et voi laskea kuutioita, jotka Agentin on liikuttava tehtävän suorittamista varten. Mieti tarvittavia liikkeitä ja selvitä matemaatikon laskelmista, kuinka monta kuutiota Agentin on liikuttava. Siirrä Agent telakoitumaan kuumoduuliin agent.move()-toiminnolla.\n",
                                     "\n",
                                     "Agent.move()-toiminto käyttää yhtä parametria: direction.\n",
                                     "\n",
                                     "Kelvollisia suuntia ovat: \n",
                                     "- forward\n",
                                     "- back\n",
                                     "- left\n",
                                     "- right\n",
                                     "- up\n",
                                     "- down\n",
                                     "\n",
                                     "Agent.turn()-toiminto käyttää yhtä parametria: turn_direction.\n",
                                     "\n",
                                     "Kelvollisia suuntia ovat: \n",
                                     "- left\n",
                                     "- right"
                                 ]
                  },
                  {
                      "cell_type":  "code",
                      "execution_count":  null,
                      "metadata":  {
                                       "minecraft":  {
                                                         "baseCodeCellName":  "Example",
                                                         "closeCodeBuilderOnRun":  true,
                                                         "readonly":  true
                                                     }
                                   },
                      "outputs":  [

                                  ],
                      "source":  [
                                     "# siirrä Agentia eteenpäin 5 kuutiota\n",
                                     "# käänny sitten oikealle\n",
                                     "agent.move(\"forward\")\n",
                                     "agent.move(\"forward\")\n",
                                     "agent.move(\"forward\")\n",
                                     "agent.move(\"forward\")\n",
                                     "agent.move(\"forward\")\n",
                                     "agent.turn(\"right\")"
                                 ]
                  },
                  {
                      "cell_type":  "markdown",
                      "metadata":  {

                                   },
                      "source":  [
                                     "# Ammattilaisvinkki:\n",
                                     "\n",
                                     "For-silmukan avulla voit suorittaa toiminnon tai toimintosarjan useita kertoja."
                                 ]
                  },
                  {
                      "cell_type":  "code",
                      "execution_count":  null,
                      "metadata":  {
                                       "minecraft":  {
                                                         "baseCodeCellName":  "Example",
                                                         "closeCodeBuilderOnRun":  true,
                                                         "readonly":  true
                                                     }
                                   },
                      "outputs":  [

                                  ],
                      "source":  [
                                     "# siirrä Agentia eteenpäin 5 kuutiota\n",
                                     "# käänny sitten oikealle\n",
                                     "for i in range(5):\n",
                                     "    agent.move(\"forward\")\n",
                                     "agent.turn(\"right\")    "
                                 ]
                  },
                  {
                      "cell_type":  "markdown",
                      "metadata":  {

                                   },
                      "source":  [
                                     "# Tehtävä:\n",
                                     "\n",
                                     "Alla olevan koodin arvot ovat virheellisiä. Suorita koodi ja katso, mitä tapahtuu. Yritä sitten suorittaa tehtävä korjaamalla koodi.\n",
                                     "\n",
                                     "**Huomaa: Alla olevalla Nollaa koodi -painikkeella voit palauttaa virheenkorjauskoodin koodausruutuun**"
                                 ]
                  },
                  {
                      "cell_type":  "code",
                      "execution_count":  null,
                      "metadata":  {
                                       "minecraft":  {
                                                         "closeCodeBuilderOnRun":  true,
                                                         "default_code":  "# code here\n\nfor i in range(25):\n    agent.move(\"forward\")\nagent.turn(\"right\")\n\nfor i in range(17):\n    agent.move(\"forward\")\nagent.turn(\"left\")\n\nfor i in range(3):\n    agent.move(\"up\")\n",
                                                         "resetWorldCommand":  "function act/3/reset"
                                                     }
                                   },
                      "outputs":  [

                                  ],
                      "source":  [
                                     "# koodaa tässä\n",
                                     "\n",
                                     "for i in range(25):\n",
                                     "    agent.move(\"forward\")\n",
                                     "agent.turn(\"right\")\n",
                                     "\n",
                                     "for i in range(17):\n",
                                     "    agent.move(\"forward\")\n",
                                     "agent.turn(\"left\")\n",
                                     "\n",
                                     "for i in range(3):\n",
                                     "    agent.move(\"up\")\n"
                                 ]
                  }
              ],
    "metadata":  {
                     "celltoolbar":  "Edit Metadata",
                     "kernelspec":  {
                                        "display_name":  "Python 3",
                                        "language":  "python",
                                        "name":  "python3"
                                    },
                     "language_info":  {
                                           "codemirror_mode":  {
                                                                   "name":  "ipython",
                                                                   "version":  3
                                                               },
                                           "file_extension":  ".py",
                                           "mimetype":  "text/x-python",
                                           "name":  "python",
                                           "nbconvert_exporter":  "python",
                                           "pygments_lexer":  "ipython3",
                                           "version":  "3.8.8"
                                       },
                     "minecraft":  {
                                       "description":  "TimeCraft",
                                       "page_id":  "1.1",
                                       "page_name":  "Kuutehtävä",
                                       "style":  "minecraft.css"
                                   }
                 },
    "nbformat":  4,
    "nbformat_minor":  4
}
