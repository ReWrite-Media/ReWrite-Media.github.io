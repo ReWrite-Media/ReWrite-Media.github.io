{
 "cells": [
  {
   "cell_type": "markdown",
   "metadata": {},
   "source": [
    "# The Mona Lisa\n",
    "\n",
    "The Mona Lisa's famous smile is now a frown. Someone has destroyed her garden. Use the `agent.give()` function to give your Agent a stack of `WHITE GLAZED TERRACOTTA`, then use `agent.move()` to position your Agent, and `agent.place` to place the `WHITE GLAZED TERRACOTTA`.\n",
    "\n",
    "The `agent.give()` function takes three parameters.  \n",
    "\n",
    "- item (*string*): The item you want to give the Agent.\n",
    "- count (*integer*): How many items the Agent will receive.\n",
    "- slot (*integer*): The inventory slot where the Agent receives the item.\n",
    "\n",
    "The `agent.move()` function takes one parameter, direction.\n",
    "\n",
    "Valid directions are: \n",
    "- forward\n",
    "- back\n",
    "- left\n",
    "- right\n",
    "- up\n",
    "- down\n",
    "\n",
    "The `agent.place()` function takes two parameters.  \n",
    "\n",
    "- slot number (*integer*): Which inventory slot the Agent should use.\n",
    "- direction (*string*): The direction you want the Agent to place the item.\n",
    "    - Valid directions are: \n",
    "        - forward\n",
    "        - back\n",
    "        - left\n",
    "        - right\n",
    "        - up\n",
    "        - down\n",
    "\n",
    "Example:"
   ]
  },
  {
   "cell_type": "code",
   "execution_count": null,
   "metadata": {
    "minecraft": {
     "closeCodeBuilderOnRun": true,
     "readonly": true
    }
   },
   "outputs": [],
   "source": [
    "# give the agent a stack of white glazed terracotta\n",
    "# then move forward and place a block below the agent\n",
    "# do this 5 times\n",
    "\n",
    "agent.give(\"WHITE GLAZED TERRACOTTA\", 64, 1)\n",
    "agent.move(\"forward\")\n",
    "agent.place(1,\"down\")\n",
    "agent.move(\"forward\")\n",
    "agent.place(1,\"down\")\n",
    "agent.move(\"forward\")\n",
    "agent.place(1,\"down\")\n",
    "agent.move(\"forward\")\n",
    "agent.place(1,\"down\")\n",
    "agent.move(\"forward\")\n",
    "agent.place(1,\"down\")"
   ]
  },
  {
   "cell_type": "markdown",
   "metadata": {},
   "source": [
    "# Pro Tip:\n",
    "\n",
    "Use a `for` loop to do one or more actions multiple times.\n",
    "\n",
    "Example:"
   ]
  },
  {
   "cell_type": "code",
   "execution_count": null,
   "metadata": {
    "minecraft": {
     "closeCodeBuilderOnRun": true,
     "readonly": true
    }
   },
   "outputs": [],
   "source": [
    "# give the agent a stack of white glazed terracotta\n",
    "# then move forward and place a block below the agent\n",
    "# do this 5 times\n",
    "\n",
    "agent.give(\"WHITE GLAZED TERRACOTTA\", 64, 1)\n",
    "for i in range(5)\n",
    "    agent.move(\"forward\")\n",
    "    agent.place(1,\"down\")"
   ]
  },
  {
   "cell_type": "markdown",
   "metadata": {},
   "source": [
    "# Activity\n",
    "\n",
    "Complete this 6x6x6x6 square of `WHITE GLAZED TERRACOTTA` by moving the Agent and placing a block below it.\n",
    "\n",
    "**Note: You can reset the activity by using your T.A.L.K. device or by using the Reset World button.**"
   ]
  },
  {
   "cell_type": "code",
   "execution_count": null,
   "metadata": {
    "minecraft": {
     "closeCodeBuilderOnRun": true,
     "default_code": "# code here\n\n\n",
     "resetWorldCommand": "say NEEDS RESET CODE"
    }
   },
   "outputs": [],
   "source": [
    "# code here\n",
    "\n",
    "\n"
   ]
  }
 ],
 "metadata": {
  "celltoolbar": "Edit Metadata",
  "kernelspec": {
   "display_name": "Python 3",
   "language": "python",
   "name": "python3"
  },
  "language_info": {
   "codemirror_mode": {
    "name": "ipython",
    "version": 3
   },
   "file_extension": ".py",
   "mimetype": "text/x-python",
   "name": "python",
   "nbconvert_exporter": "python",
   "pygments_lexer": "ipython3",
   "version": "3.8.8"
  },
  "minecraft": {
   "description": "TimeCraft",
   "page_id": "1.1",
   "page_name": "The Mona Lisa",
   "style": "minecraft.css"
  }
 },
 "nbformat": 4,
 "nbformat_minor": 4
}
