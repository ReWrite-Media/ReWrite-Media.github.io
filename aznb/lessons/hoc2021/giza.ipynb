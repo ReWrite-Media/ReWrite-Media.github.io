{
 "cells": [
  {
   "cell_type": "markdown",
   "source": [
    "# Great Pyramid at Giza\r\n",
    "\r\n",
    "The Architect of the pyramid is trying to design a building that will stand the test of time. Think how to\r\n",
    "create a pyramid. There are three levels: 5 blocks on the bottom, 3 blocks in the middle, and 1 block on top. Code the solution by using `agent.give()` to give your Agent a stack of `SANDSTONE`, `agent.move()` to position the agent, and `agent.place()` to place the blocks in a 3 layer pyramid shape.\r\n",
    "\r\n",
    "The `agent.give()` function takes three parameters.  \r\n",
    "\r\n",
    "- item (*string*): The item you want to give the Agent.\r\n",
    "- count (*integer*): How many items the Agent will receive.\r\n",
    "- slot (*integer*): The inventory slot where the Agent receives the item.\r\n",
    "\r\n",
    "The `agent.move()` function takes one parameter, direction.\r\n",
    "\r\n",
    "Valid directions are: \r\n",
    "- forward\r\n",
    "- back\r\n",
    "- left\r\n",
    "- right\r\n",
    "- up\r\n",
    "- down\r\n",
    "\r\n",
    "The `agent.place()` function takes two parameters.  \r\n",
    "\r\n",
    "- slot number (*integer*): Which inventory slot the Agent should use.\r\n",
    "- direction (*string*): The direction you want the Agent to place the item.\r\n",
    "    - Valid directions are: \r\n",
    "        - forward\r\n",
    "        - back\r\n",
    "        - left\r\n",
    "        - right\r\n",
    "        - up\r\n",
    "        - down\r\n",
    "        \r\n",
    "The `agent.turn()` function takes one parameter, turn_direction.\r\n",
    "\r\n",
    "Valid directions are: \r\n",
    "- left\r\n",
    "- right        "
   ],
   "metadata": {}
  },
  {
   "cell_type": "code",
   "execution_count": null,
   "source": [
    "# give the agent a stack of sandstone\r\n",
    "# move the agent forward\r\n",
    "# and place the sandstone blocks\r\n",
    "# do that 5 times\r\n",
    "\r\n",
    "agent.give(\"SANDSTONE\", 64, 1)\r\n",
    "agent.move(\"forward\")\r\n",
    "agent.place(1,\"back\")\r\n",
    "agent.move(\"forward\")\r\n",
    "agent.place(1,\"back\")\r\n",
    "agent.move(\"forward\")\r\n",
    "agent.place(1,\"back\")\r\n",
    "agent.move(\"forward\")\r\n",
    "agent.place(1,\"back\")\r\n",
    "agent.move(\"forward\")\r\n",
    "agent.place(1,\"back\")"
   ],
   "outputs": [],
   "metadata": {
    "minecraft": {
     "baseCodeCellName": "Example",
     "closeCodeBuilderOnRun": true,
     "readonly": true
    }
   }
  },
  {
   "cell_type": "markdown",
   "source": [
    "# Pro Tip:\n",
    "\n",
    "Use a `for` loop to do one or more actions multiple times."
   ],
   "metadata": {}
  },
  {
   "cell_type": "code",
   "execution_count": null,
   "source": [
    "# give the agent a stack of sandstone\n",
    "# move the agent forward\n",
    "# and place the sandstone blocks\n",
    "# do that 5 times\n",
    "\n",
    "agent.give(\"SANDSTONE\", 64, 1)\n",
    "for i in range(5):\n",
    "    agent.move(\"forward\")\n",
    "    agent.place(1,\"back\")"
   ],
   "outputs": [],
   "metadata": {
    "minecraft": {
     "baseCodeCellName": "Example",
     "closeCodeBuilderOnRun": true,
     "readonly": true
    }
   }
  },
  {
   "cell_type": "markdown",
   "source": [
    "# Activity\n",
    "\n",
    "Teach the architect how to make a pyramid by creating a 3 layer pyramid using `SANDSTONE`\n",
    "\n",
    "**Note: You can reset the activity by using your T.A.L.K. device or by using the Reset Activity button.**"
   ],
   "metadata": {}
  },
  {
   "cell_type": "code",
   "execution_count": null,
   "source": [
    "# code here\n",
    "\n",
    "\n"
   ],
   "outputs": [],
   "metadata": {
    "minecraft": {
     "closeCodeBuilderOnRun": true,
     "default_code": "# code here\n\n\n",
     "resetWorldCommand": "function act/2/reset"
    }
   }
  }
 ],
 "metadata": {
  "celltoolbar": "Edit Metadata",
  "kernelspec": {
   "display_name": "Python 3",
   "language": "python",
   "name": "python3"
  },
  "language_info": {
   "codemirror_mode": {
    "name": "ipython",
    "version": 3
   },
   "file_extension": ".py",
   "mimetype": "text/x-python",
   "name": "python",
   "nbconvert_exporter": "python",
   "pygments_lexer": "ipython3",
   "version": "3.8.8"
  },
  "minecraft": {
   "description": "TimeCraft",
   "page_id": "1.1",
   "page_name": "Pyramids of Giza",
   "style": "minecraft.css"
  }
 },
 "nbformat": 4,
 "nbformat_minor": 4
}