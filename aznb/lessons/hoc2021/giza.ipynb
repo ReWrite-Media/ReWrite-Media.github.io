{
 "cells": [
  {
   "cell_type": "markdown",
   "metadata": {},
   "source": [
    "# Pyramids of Giza\n",
    "\n",
    "The Architect of the pyramids is trying to design a building that will stand the test of time. Think how to\n",
    "create pyramids. There are three levels: First level five blocks, second level three\n",
    "blocks and third level one block. Code the solution by using `agent.give()` to give your Agent a stack of `SANDSTONE`, `agent.move()` to position the agent, and `agent.place()` to place the blocks in a 3 layer pyramid shape.\n",
    "\n",
    "The `agent.give()` function takes three parameters.  \n",
    "\n",
    "- item (*string*): The item you want to give the Agent.\n",
    "- count (*integer*): How many items the Agent will receive.\n",
    "- slot (*integer*): The inventory slot where the Agent receives the item.\n",
    "\n",
    "The `agent.move()` function takes one parameter, direction.\n",
    "\n",
    "Valid directions are: \n",
    "- forward\n",
    "- back\n",
    "- left\n",
    "- right\n",
    "- up\n",
    "- down\n",
    "\n",
    "The `agent.place()` function takes two parameters.  \n",
    "\n",
    "- slot number (*integer*): Which inventory slot the Agent should use.\n",
    "- direction (*string*): The direction you want the Agent to place the item.\n",
    "    - Valid directions are: \n",
    "        - forward\n",
    "        - back\n",
    "        - left\n",
    "        - right\n",
    "        - up\n",
    "        - down\n",
    "        \n",
    "The `agent.turn()` function takes one parameter, turn_direction.\n",
    "\n",
    "Valid directions are: \n",
    "- left\n",
    "- right        \n",
    "       \n",
    "Example:"
   ]
  },
  {
   "cell_type": "code",
   "execution_count": null,
   "metadata": {
    "minecraft": {
     "closeCodeBuilderOnRun": true,
     "readonly": true
    }
   },
   "outputs": [],
   "source": [
    "# give the agent a stack of sandstone\n",
    "# move the agent forward\n",
    "# and place the sandstone blocks\n",
    "# do that 5 times\n",
    "\n",
    "agent.give(\"SANDSTONE\", 64, 1)\n",
    "agent.move(\"forward\")\n",
    "agent.place(1,\"back\")\n",
    "agent.move(\"forward\")\n",
    "agent.place(1,\"back\")\n",
    "agent.move(\"forward\")\n",
    "agent.place(1,\"back\")\n",
    "agent.move(\"forward\")\n",
    "agent.place(1,\"back\")\n",
    "agent.move(\"forward\")\n",
    "agent.place(1,\"back\")"
   ]
  },
  {
   "cell_type": "markdown",
   "metadata": {},
   "source": [
    "# Pro Tip:\n",
    "\n",
    "Use a `for` loop to do one or more actions multiple times.\n",
    "\n",
    "Example:"
   ]
  },
  {
   "cell_type": "code",
   "execution_count": null,
   "metadata": {
    "minecraft": {
     "closeCodeBuilderOnRun": true,
     "readonly": true
    }
   },
   "outputs": [],
   "source": [
    "# give the agent a stack of sandstone\n",
    "# move the agent forward\n",
    "# and place the sandstone blocks\n",
    "# do that 5 times\n",
    "\n",
    "agent.give(\"SANDSTONE\", 64, 1)\n",
    "for i in range(5):\n",
    "    agent.move(\"forward\")\n",
    "    agent.place(1,\"back\")"
   ]
  },
  {
   "cell_type": "markdown",
   "metadata": {},
   "source": [
    "# Activity\n",
    "\n",
    "Teach the architect how to make a pyramid by creating a 3 layer pyramid using `SANDSTONE`\n",
    "\n",
    "**Note: You can reset the activity by using your T.A.L.K. device or by using the Reset World button.**"
   ]
  },
  {
   "cell_type": "code",
   "execution_count": null,
   "metadata": {
    "minecraft": {
     "closeCodeBuilderOnRun": true,
     "default_code": "# code here\n\n\n",
     "resetWorldCommand": "say NEEDS RESET CODE"
    }
   },
   "outputs": [],
   "source": [
    "# code here\n",
    "\n",
    "\n"
   ]
  }
 ],
 "metadata": {
  "celltoolbar": "Edit Metadata",
  "kernelspec": {
   "display_name": "Python 3",
   "language": "python",
   "name": "python3"
  },
  "language_info": {
   "codemirror_mode": {
    "name": "ipython",
    "version": 3
   },
   "file_extension": ".py",
   "mimetype": "text/x-python",
   "name": "python",
   "nbconvert_exporter": "python",
   "pygments_lexer": "ipython3",
   "version": "3.8.8"
  },
  "minecraft": {
   "description": "TimeCraft",
   "page_id": "1.1",
   "page_name": "Pyramids of Giza",
   "style": "minecraft.css"
  }
 },
 "nbformat": 4,
 "nbformat_minor": 4
}
