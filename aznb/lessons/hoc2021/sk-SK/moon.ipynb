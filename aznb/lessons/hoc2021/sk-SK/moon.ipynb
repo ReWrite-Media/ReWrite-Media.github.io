﻿{
    "cells":  [
                  {
                      "cell_type":  "markdown",
                      "source":  [
                                     "# Misia na Mesiaci\n",
                                     "\n",
                                     "Pošlite agenta k vesmírnemu modulu, aby ste doručili výpočty. Nemôžete spočítať medzery, cez ktoré sa musí agent presunúť, aby dokončil misiu. Premýšľajte o požadovaných pohyboch a pomocou výpočtov matematika určte, koľko pohybov musí agent urobiť. Pomocou funkcie agent.move() presuňte agenta k lunárnemu modulu a spojte sa s modulom.\n",
                                     "\n",
                                     "Funkcia agent.move() má jeden parameter, a to smer.\n",
                                     "\n",
                                     "Platné smery sú: \n",
                                     "- forward (dopredu)\n",
                                     "- back (dozadu)\n",
                                     "- left (doľava)\n",
                                     "- right (doprava)\n",
                                     "- up (nahor)\n",
                                     "- down (nadol)\n",
                                     "\n",
                                     "Funkcia agent.turn() má jeden parameter, a to turn_direction.\n",
                                     "\n",
                                     "Platné smery sú: \n",
                                     "- left (doľava)\n",
                                     "- right (doprava)"
                                 ],
                      "metadata":  {

                                   }
                  },
                  {
                      "cell_type":  "code",
                      "execution_count":  null,
                      "source":  [
                                     "# presuňte agenta o 5 blokov dopredu\r\n",
                                     "# potom sa otočte doprava\r\n",
                                     "agent.move(\"forward\")\r\n",
                                     "agent.move(\"forward\")\r\n",
                                     "agent.move(\"forward\")\r\n",
                                     "agent.move(\"forward\")\r\n",
                                     "agent.move(\"forward\")\r\n",
                                     "agent.turn(\"right\")"
                                 ],
                      "outputs":  [

                                  ],
                      "metadata":  {
                                       "minecraft":  {
                                                         "baseCodeCellName":  "Example",
                                                         "closeCodeBuilderOnRun":  true,
                                                         "readonly":  true
                                                     }
                                   }
                  },
                  {
                      "cell_type":  "markdown",
                      "source":  [
                                     "# Profesionálny tip:\n",
                                     "\n",
                                     "Pomocou slučky for vykonajte jednu alebo viac akcií niekoľkokrát."
                                 ],
                      "metadata":  {

                                   }
                  },
                  {
                      "cell_type":  "code",
                      "execution_count":  null,
                      "source":  [
                                     "# presuňte agenta o 5 blokov dopredu\r\n",
                                     "# potom sa otočte doprava\r\n",
                                     "for i in range(5):\r\n",
                                     "    agent.move(\"forward\")\r\n",
                                     "agent.turn(\"right\")    "
                                 ],
                      "outputs":  [

                                  ],
                      "metadata":  {
                                       "minecraft":  {
                                                         "baseCodeCellName":  "Example",
                                                         "closeCodeBuilderOnRun":  true,
                                                         "readonly":  true
                                                     }
                                   }
                  },
                  {
                      "cell_type":  "markdown",
                      "source":  [
                                     "# Aktivita\n",
                                     "\n",
                                     "Presuňte agenta k lunárnemu modulu. Choďte 25x dopredu, 17x doprava a 3x nadol.\n",
                                     "\n",
                                     "**Poznámka: Aktivitu môžete obnoviť pomocou zariadenia T.A.L.K. alebo tlačidla Obnoviť aktivitu.**"
                                 ],
                      "metadata":  {

                                   }
                  },
                  {
                      "cell_type":  "code",
                      "execution_count":  null,
                      "source":  [
                                     "# tu programujte\r\n",
                                     "\r\n",
                                     "\r\n"
                                 ],
                      "outputs":  [

                                  ],
                      "metadata":  {
                                       "minecraft":  {
                                                         "closeCodeBuilderOnRun":  true,
                                                         "default_code":  "# code here\n\n\n",
                                                         "resetWorldCommand":  "function act/3/reset"
                                                     }
                                   }
                  }
              ],
    "metadata":  {
                     "celltoolbar":  "Edit Metadata",
                     "kernelspec":  {
                                        "display_name":  "Python 3",
                                        "language":  "python",
                                        "name":  "python3"
                                    },
                     "language_info":  {
                                           "codemirror_mode":  {
                                                                   "name":  "ipython",
                                                                   "version":  3
                                                               },
                                           "file_extension":  ".py",
                                           "mimetype":  "text/x-python",
                                           "name":  "python",
                                           "nbconvert_exporter":  "python",
                                           "pygments_lexer":  "ipython3",
                                           "version":  "3.8.8"
                                       },
                     "minecraft":  {
                                       "description":  "TimeCraft",
                                       "page_id":  "1.1",
                                       "page_name":  "Misia na Mesiaci",
                                       "style":  "minecraft.css"
                                   }
                 },
    "nbformat":  4,
    "nbformat_minor":  4
}
