﻿{
    "cells":  [
                  {
                      "cell_type":  "markdown",
                      "metadata":  {

                                   },
                      "source":  [
                                     "# Paleontology Puzzle\n",
                                     "\n",
                                     "Someone has removed bones from the dinosaur skeleton and replaced them with orange blocks. Code your Agent to DESTROY all 4 orange blocks and PLACE `BONEBLOCK` blocks. Use the `agent.give()` function to give your Agent a stack of `BONEBLOCK` and `agent.move()` to position your Agent above the orange block Then use `agent.destroy()` to break the orange block and `agent.place()` to replace it with a `BONEBLOCK`.\n",
                                     "\n",
                                     "The `agent.give()` function takes three parameters.  \n",
                                     "\n",
                                     "- predmet (*string*): Predmet, ktorý chcete dať agentovi.\n",
                                     "- počet (*celé číslo*): Koľko predmetov agent dostane.\n",
                                     "- slot (*celé číslo*): Slot v inventári, do ktorého agent dostane predmet.\n",
                                     "\n",
                                     "The `agent.move()` function takes one parameter, direction.\n",
                                     "\n",
                                     "Valid directions are: \n",
                                     "- forward\n",
                                     "- back\n",
                                     "- left\n",
                                     "- right\n",
                                     "- up\n",
                                     "- down\n",
                                     "\n",
                                     "The `agent.destroy()` function takes one parameter, direction.\n",
                                     "\n",
                                     "Valid directions are: \n",
                                     "- forward\n",
                                     "- back\n",
                                     "- left\n",
                                     "- right\n",
                                     "- up\n",
                                     "- down\n",
                                     "\n",
                                     "The `agent.place()` function takes two parameters.  \n",
                                     "\n",
                                     "- číslo slotu (*celé číslo*): Slot v inventári, ktorý má agent použiť.\n",
                                     "- smer (*string*): Smer, kam má agent umiestniť predmet.\n",
                                     "    - Valid directions are: \n",
                                     "        - forward\n",
                                     "        - back\n",
                                     "        - left\n",
                                     "        - right\n",
                                     "        - up\n",
                                     "        - down"
                                 ]
                  },
                  {
                      "cell_type":  "code",
                      "execution_count":  null,
                      "metadata":  {
                                       "minecraft":  {
                                                         "baseCodeCellName":  "Example",
                                                         "closeCodeBuilderOnRun":  true,
                                                         "readonly":  true
                                                     }
                                   },
                      "outputs":  [

                                  ],
                      "source":  [
                                     "# give the agent a stack of bloneblocks\n",
                                     "# then move forward two, break the below below\n",
                                     "# and then place the bone block\n",
                                     "# do that 2 times.\n",
                                     "\n",
                                     "agent.give(\"BONEBLOCK\", 64, 1)\n",
                                     "agent.move(\"forward\")\n",
                                     "agent.move(\"forward\")\n",
                                     "agent.destroy(\"down\")\n",
                                     "agent.place(1,\"down\")\n",
                                     "agent.move(\"forward\")\n",
                                     "agent.move(\"forward\")\n",
                                     "agent.destroy(\"down\")\n",
                                     "agent.place(1,\"down\")"
                                 ]
                  },
                  {
                      "cell_type":  "markdown",
                      "metadata":  {

                                   },
                      "source":  [
                                     "# Profesionálny tip:\n",
                                     "\n",
                                     "Use a `for` loop to do one or more actions multiple times."
                                 ]
                  },
                  {
                      "cell_type":  "code",
                      "execution_count":  null,
                      "metadata":  {
                                       "minecraft":  {
                                                         "baseCodeCellName":  "Example",
                                                         "closeCodeBuilderOnRun":  true,
                                                         "readonly":  true
                                                     }
                                   },
                      "outputs":  [

                                  ],
                      "source":  [
                                     "# give the agent a stack of bloneblocks\n",
                                     "# then move forward two, break the below below\n",
                                     "# and then place the bone block\n",
                                     "# do that 2 times.\n",
                                     "\n",
                                     "agent.give(\"BONEBLOCK\", 64, 1)\n",
                                     "for i in range(2):\n",
                                     "    agent.move(\"forward\")\n",
                                     "    agent.move(\"forward\")\n",
                                     "    agent.destroy(\"down\")\n",
                                     "    agent.place(1,\"down\")"
                                 ]
                  },
                  {
                      "cell_type":  "markdown",
                      "metadata":  {

                                   },
                      "source":  [
                                     "# Activity\n",
                                     "\n",
                                     "Remove each orange block and replace them with a `BONEBLOCK`.\n",
                                     "\n",
                                     "**Note: You can reset the activity by using your T.A.L.K. device or by using the Reset Activity button.**"
                                 ]
                  },
                  {
                      "cell_type":  "code",
                      "execution_count":  null,
                      "metadata":  {
                                       "minecraft":  {
                                                         "closeCodeBuilderOnRun":  true,
                                                         "default_code":  "# code here\n\n\n",
                                                         "resetWorldCommand":  "function act/9/reset"
                                                     }
                                   },
                      "outputs":  [

                                  ],
                      "source":  [
                                     "# zadajte kód sem\n",
                                     "\n",
                                     "\n"
                                 ]
                  }
              ],
    "metadata":  {
                     "celltoolbar":  "Edit Metadata",
                     "kernelspec":  {
                                        "display_name":  "Python 3",
                                        "language":  "python",
                                        "name":  "python3"
                                    },
                     "language_info":  {
                                           "codemirror_mode":  {
                                                                   "name":  "ipython",
                                                                   "version":  3
                                                               },
                                           "file_extension":  ".py",
                                           "mimetype":  "text/x-python",
                                           "name":  "python",
                                           "nbconvert_exporter":  "python",
                                           "pygments_lexer":  "ipython3",
                                           "version":  "3.8.8"
                                       },
                     "minecraft":  {
                                       "description":  "TimeCraft",
                                       "page_id":  "1.1",
                                       "page_name":  "Paleontology Puzzle",
                                       "style":  "minecraft.css"
                                   }
                 },
    "nbformat":  4,
    "nbformat_minor":  4
}
