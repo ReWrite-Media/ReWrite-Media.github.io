﻿{
    "cells":  [
                  {
                      "cell_type":  "markdown",
                      "metadata":  {

                                   },
                      "source":  [
                                     "# Great Pyramid at Giza (Debug)\n",
                                     "\n",
                                     "Help the Architect finish the triangle, a design that will stand the test of time. Think how to\n",
                                     "create a pyramid. There are 2 more levels needed: 3 blocks on the bottom, and 1 block on the top. Code the solution by using `agent.give()` to give your Agent a stack of `SANDSTONE`, `agent.move()` to position the agent, and `agent.place()` to place the blocks in a 3 layer pyramid shape.\n",
                                     "\n",
                                     "The `agent.give()` function takes three parameters.  \n",
                                     "\n",
                                     "- predmet (*string*): Predmet, ktorý chcete dať agentovi.\n",
                                     "- počet (*celé číslo*): Koľko predmetov agent dostane.\n",
                                     "- slot (*celé číslo*): Slot v inventári, do ktorého agent dostane predmet.\n",
                                     "\n",
                                     "Funkcia agent.move() má jeden parameter, a to smer.\n",
                                     "\n",
                                     "Platné smery sú: \n",
                                     "- forward (dopredu)\n",
                                     "- back (dozadu)\n",
                                     "- left (doľava)\n",
                                     "- right (doprava)\n",
                                     "- up (nahor)\n",
                                     "- down\n",
                                     "\n",
                                     "The `agent.place()` function takes two parameters.  \n",
                                     "\n",
                                     "- číslo slotu (*celé číslo*): Slot v inventári, ktorý má agent použiť.\n",
                                     "- smer (*string*): Smer, kam má agent umiestniť predmet.\n",
                                     "    - Valid directions are: \n",
                                     "        - forward\n",
                                     "        - back\n",
                                     "        - left\n",
                                     "        - right\n",
                                     "        - up\n",
                                     "        - down\n",
                                     "        \n",
                                     "The `agent.turn()` function takes one parameter, turn_direction.\n",
                                     "\n",
                                     "Valid directions are: \n",
                                     "- left\n",
                                     "- right        "
                                 ]
                  },
                  {
                      "cell_type":  "code",
                      "execution_count":  null,
                      "metadata":  {
                                       "minecraft":  {
                                                         "baseCodeCellName":  "Example",
                                                         "closeCodeBuilderOnRun":  true,
                                                         "readonly":  true
                                                     }
                                   },
                      "outputs":  [

                                  ],
                      "source":  [
                                     "# give the agent a stack of sandstone\n",
                                     "# move the agent forward\n",
                                     "# and place the sandstone blocks\n",
                                     "# do that 5 times\n",
                                     "\n",
                                     "agent.give(\"SANDSTONE\", 64, 1)\n",
                                     "agent.move(\"forward\")\n",
                                     "agent.place(1,\"back\")\n",
                                     "agent.move(\"forward\")\n",
                                     "agent.place(1,\"back\")\n",
                                     "agent.move(\"forward\")\n",
                                     "agent.place(1,\"back\")\n",
                                     "agent.move(\"forward\")\n",
                                     "agent.place(1,\"back\")\n",
                                     "agent.move(\"forward\")\n",
                                     "agent.place(1,\"back\")"
                                 ]
                  },
                  {
                      "cell_type":  "markdown",
                      "metadata":  {

                                   },
                      "source":  [
                                     "# Profesionálny tip:\n",
                                     "\n",
                                     "Use a `for` loop to do one or more actions multiple times."
                                 ]
                  },
                  {
                      "cell_type":  "code",
                      "execution_count":  null,
                      "metadata":  {
                                       "minecraft":  {
                                                         "baseCodeCellName":  "Example",
                                                         "closeCodeBuilderOnRun":  true,
                                                         "readonly":  true
                                                     }
                                   },
                      "outputs":  [

                                  ],
                      "source":  [
                                     "# give the agent a stack of sandstone\n",
                                     "# move the agent forward\n",
                                     "# and place the sandstone blocks\n",
                                     "# do that 5 times\n",
                                     "\n",
                                     "agent.give(\"SANDSTONE\", 64, 1)\n",
                                     "for i in range(5):\n",
                                     "    agent.move(\"forward\")\n",
                                     "    agent.place(1,\"back\")"
                                 ]
                  },
                  {
                      "cell_type":  "markdown",
                      "metadata":  {

                                   },
                      "source":  [
                                     "# Aktivita:\n",
                                     "\n",
                                     "The below code has incorrect values. Run the code to see what happens and then try to debug and fix the code to complete the activity.\n",
                                     "\n",
                                     "**Note: Use the Reset Code button below to reset the coding box back to the debug code**"
                                 ]
                  },
                  {
                      "cell_type":  "code",
                      "execution_count":  null,
                      "metadata":  {
                                       "minecraft":  {
                                                         "closeCodeBuilderOnRun":  true,
                                                         "default_code":  "# code here\n\nagent.give(\"SANDSTONE\", 64, 1)\n\nfor i in range(2):\n    agent.move(\"forward\")\n    agent.place(1,\"back\")\n\nagent.move(\"up\")\nagent.turn(\"left\")\nagent.turn(\"right\")\nagent.move(\"forward\")\nagent.move(\"forward\")\n\nagent.move(\"forward\")\nagent.place(1,\"up\")",
                                                         "resetWorldCommand":  "function act/2/reset"
                                                     }
                                   },
                      "outputs":  [

                                  ],
                      "source":  [
                                     "# zadajte kód sem\n",
                                     "\n",
                                     "agent.give(\"SANDSTONE\", 64, 1)\n",
                                     "\n",
                                     "for i in range(2):\n",
                                     "    agent.move(\"forward\")\n",
                                     "    agent.place(1,\"back\")\n",
                                     "\n",
                                     "agent.move(\"up\")\n",
                                     "agent.turn(\"left\")\n",
                                     "agent.turn(\"right\")\n",
                                     "agent.move(\"forward\")\n",
                                     "agent.move(\"forward\")\n",
                                     "\n",
                                     "agent.move(\"forward\")\n",
                                     "agent.place(1,\"up\")"
                                 ]
                  }
              ],
    "metadata":  {
                     "celltoolbar":  "Edit Metadata",
                     "kernelspec":  {
                                        "display_name":  "Python 3",
                                        "language":  "python",
                                        "name":  "python3"
                                    },
                     "language_info":  {
                                           "codemirror_mode":  {
                                                                   "name":  "ipython",
                                                                   "version":  3
                                                               },
                                           "file_extension":  ".py",
                                           "mimetype":  "text/x-python",
                                           "name":  "python",
                                           "nbconvert_exporter":  "python",
                                           "pygments_lexer":  "ipython3",
                                           "version":  "3.8.8"
                                       },
                     "minecraft":  {
                                       "description":  "TimeCraft",
                                       "page_id":  "1.1",
                                       "page_name":  "Pyramids of Giza",
                                       "style":  "minecraft.css"
                                   }
                 },
    "nbformat":  4,
    "nbformat_minor":  4
}
