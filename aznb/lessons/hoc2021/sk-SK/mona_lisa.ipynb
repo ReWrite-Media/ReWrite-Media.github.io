﻿{
    "cells":  [
                  {
                      "cell_type":  "markdown",
                      "source":  [
                                     "# Mona Lisa\n",
                                     "\n",
                                     "Mona Lisa nemá svoj slávny úsmev, ale je zamračená, pretože jej záhrada bola zničená. Pomocou funkcie agent.give() dajte agentovi kopu blokov WHITE GLAZED TERRACOTTA (biela leštená terakota), pomocou funkcie agent.move() umiestnite agenta a pomocou funkcie agent.place() umiestnite blok WHITE GLAZED TERRACOTTA (biela leštená terakota).\n",
                                     "\n",
                                     "Funkcia agent.give() má tri parametre.  \n",
                                     "\n",
                                     "- predmet (*string*): Predmet, ktorý chcete dať agentovi.\n",
                                     "- počet (*celé číslo*): Koľko predmetov agent dostane.\n",
                                     "- slot (*celé číslo*): Slot v inventári, do ktorého agent dostane predmet.\n",
                                     "\n",
                                     "Funkcia agent.move() má jeden parameter, a to smer.\n",
                                     "\n",
                                     "Platné smery sú: \n",
                                     "- forward (dopredu)\n",
                                     "- back (dozadu)\n",
                                     "- left (doľava)\n",
                                     "- right (doprava)\n",
                                     "- up (nahor)\n",
                                     "- down (nadol)\n",
                                     "\n",
                                     "Funkcia agent.place() má dva parametre.  \n",
                                     "\n",
                                     "- číslo slotu (*celé číslo*): Slot v inventári, ktorý má agent použiť.\n",
                                     "- smer (*string*): Smer, kam má agent umiestniť predmet.\n",
                                     "    - Platné smery sú: \n",
                                     "        - forward (dopredu)\n",
                                     "        - back (dozadu)\n",
                                     "        - left (doľava)\n",
                                     "        - right (doprava)\n",
                                     "        - up (nahor)\n",
                                     "        - down (nadol)"
                                 ],
                      "metadata":  {

                                   }
                  },
                  {
                      "cell_type":  "code",
                      "execution_count":  null,
                      "source":  [
                                     "# dajte agentovi kopu bielej leštenej terakoty\r\n",
                                     "# potom sa presuňte dopredu a umiestnite pod agenta blok\r\n",
                                     "# urobte to 5-krát\r\n",
                                     "\r\n",
                                     "agent.give(\"WHITE GLAZED TERRACOTTA\", 64, 1)\r\n",
                                     "agent.move(\"forward\")\r\n",
                                     "agent.place(\"down\", 1)\r\n",
                                     "agent.move(\"forward\")\r\n",
                                     "agent.place(\"down\", 1)\r\n",
                                     "agent.move(\"forward\")\r\n",
                                     "agent.place(\"down\", 1)\r\n",
                                     "agent.move(\"forward\")\r\n",
                                     "agent.place(\"down\", 1)\r\n",
                                     "agent.move(\"forward\")\r\n",
                                     "agent.place(\"down\", 1)"
                                 ],
                      "outputs":  [

                                  ],
                      "metadata":  {
                                       "minecraft":  {
                                                         "baseCodeCellName":  "Example",
                                                         "closeCodeBuilderOnRun":  true,
                                                         "readonly":  true
                                                     }
                                   }
                  },
                  {
                      "cell_type":  "markdown",
                      "source":  [
                                     "# Profesionálny tip:\n",
                                     "\n",
                                     "Pomocou slučky for vykonajte jednu alebo viac akcií niekoľkokrát."
                                 ],
                      "metadata":  {

                                   }
                  },
                  {
                      "cell_type":  "code",
                      "execution_count":  null,
                      "source":  [
                                     "# dajte agentovi kopu bielej leštenej terakoty\r\n",
                                     "# potom sa presuňte dopredu a umiestnite pod agenta blok\r\n",
                                     "# urobte to 5-krát\r\n",
                                     "\r\n",
                                     "agent.give(\"WHITE GLAZED TERRACOTTA\", 64, 1)\r\n",
                                     "for i in range(5):\r\n",
                                     "    agent.move(\"forward\")\r\n",
                                     "    agent.place(\"down\", 1)"
                                 ],
                      "outputs":  [

                                  ],
                      "metadata":  {
                                       "minecraft":  {
                                                         "baseCodeCellName":  "Example",
                                                         "closeCodeBuilderOnRun":  true,
                                                         "readonly":  true
                                                     }
                                   }
                  },
                  {
                      "cell_type":  "markdown",
                      "source":  [
                                     "# Aktivita\r\n",
                                     "\r\n",
                                     "Dokončite štvorcový obrys z blokov WHITE GLAZED TERRACOTTA (biela leštená terakota) presunutím agenta a umiestnením bloku pod neho.\r\n",
                                     "\r\n",
                                     "**Poznámka: Aktivitu môžete obnoviť pomocou zariadenia T.A.L.K. alebo tlačidla Obnoviť aktivitu.**"
                                 ],
                      "metadata":  {

                                   }
                  },
                  {
                      "cell_type":  "code",
                      "execution_count":  null,
                      "source":  [
                                     "# tu programujte\r\n",
                                     "\r\n",
                                     "\r\n"
                                 ],
                      "outputs":  [

                                  ],
                      "metadata":  {
                                       "minecraft":  {
                                                         "closeCodeBuilderOnRun":  true,
                                                         "default_code":  "# code here\n\n\n",
                                                         "resetWorldCommand":  "function act/5/reset"
                                                     }
                                   }
                  }
              ],
    "metadata":  {
                     "celltoolbar":  "Edit Metadata",
                     "kernelspec":  {
                                        "display_name":  "Python 3",
                                        "language":  "python",
                                        "name":  "python3"
                                    },
                     "language_info":  {
                                           "codemirror_mode":  {
                                                                   "name":  "ipython",
                                                                   "version":  3
                                                               },
                                           "file_extension":  ".py",
                                           "mimetype":  "text/x-python",
                                           "name":  "python",
                                           "nbconvert_exporter":  "python",
                                           "pygments_lexer":  "ipython3",
                                           "version":  "3.8.8"
                                       },
                     "minecraft":  {
                                       "description":  "TimeCraft",
                                       "page_id":  "1.1",
                                       "page_name":  "Mona Lisa",
                                       "style":  "minecraft.css"
                                   }
                 },
    "nbformat":  4,
    "nbformat_minor":  4
}
