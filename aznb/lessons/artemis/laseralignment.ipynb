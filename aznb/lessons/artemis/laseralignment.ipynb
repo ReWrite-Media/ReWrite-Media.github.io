{
 "cells": [
  {
   "cell_type": "markdown",
   "id": "808bf224",
   "metadata": {},
   "source": [
    "# Laser Alignment\n",
    "Using the grid, locate the coordinates of the receiver and align the communications laser to it.\n",
    "\n",
    "The `set_alignment()` function takes two parameters. The first one is a *string* that defines the __x-axis__ of the grid, and the second one is an *integer* that defines the __y-axis__ of the grid. Where those two axes meet is the location where the CubeSat will be deployed.\n",
    "![set_alignment](img/set_alignment.png)\n",
    "\n",
    "E.g., `set_alignment('a',1)` would deploy align the laser to the square that is located where the *a* column meets the *1* row.\n"
   ]
  },
  {
   "cell_type": "code",
   "execution_count": null,
   "id": "b1e1d9b7",
   "metadata": {
    "minecraft": {
     "closeCodeBuilderOnRun": true,
     "hidden": false,
     "onCodeCancelledCommand": "scoreboard players set @s code_status 0",
     "onCodeErrorCommand": "scoreboard players set @s code_status 0",
     "onCodeStartedCommand": "scoreboard players set @s code_status 1",
     "onCodeStoppedCommand": "scoreboard players set @s code_status 0",
     "onCodeSuccessfulCommand": "scoreboard players set @s code_status 0",
     "overridePython": "import time\n\ntimeout = 0.100\ndefault_signal_block = \"white concrete\"\n\nx_axis_dic={\"a\":\"log\",\n            \"b\":\"concrete\",\n            \"c\":\"white terracotta\",\n            \"d\":\"stained_glass\",\n            \"e\":\"stained_glass_pane\",\n            \"f\":\"stone_slab\",\n            \"g\":\"stone_slab2\",\n            \"h\":\"shulker_box\",\n            \"i\":\"double_stone_slab\",\n            \"j\":\"double_stone_slab2\"}\n\ndef set_alignment(x_axis, y_axis):\n    if int(y_axis) > 9 or int(y_axis) < 0:\n        player.say(f\"§cERROR: `{y_axis}` is not a valid row\")\n        return\n    elif x_axis.lower() in x_axis_dic:\n        world.set((0, 19, 1), (x_axis_dic[x_axis.lower()], y_axis))\n        time.sleep(timeout)\n    else:\n        player.say(f\"§cERROR: `{x_axis}` is not a valid column\")\n@user-code"
    }
   },
   "outputs": [],
   "source": [
    "# EDIT THIS CODE TO\n",
    "# ALIGN THE LASER TO\n",
    "# THE RECEIVER\n",
    "\n",
    "set_alignment('a','1')\n",
    "\n",
    "\n",
    "\n",
    "\n"
   ]
  }
 ],
 "metadata": {
  "celltoolbar": "Edit Metadata",
  "kernelspec": {
   "display_name": "Python 3 (ipykernel)",
   "language": "python",
   "name": "python3"
  },
  "language_info": {
   "codemirror_mode": {
    "name": "ipython",
    "version": 3
   },
   "file_extension": ".py",
   "mimetype": "text/x-python",
   "name": "python",
   "nbconvert_exporter": "python",
   "pygments_lexer": "ipython3",
   "version": "3.10.11"
  }
 },
 "nbformat": 4,
 "nbformat_minor": 5
}
