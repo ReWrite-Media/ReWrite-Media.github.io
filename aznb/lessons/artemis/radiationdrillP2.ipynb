{
 "cells": [
  {
   "cell_type": "markdown",
   "id": "f390f4a5",
   "metadata": {},
   "source": [
    "# Radiation Drill\n",
    "In order to pass the radiation drill we'll need to make an area where astronauts can take shelter during a radiation event. Inside the Orion crew module the lower cargo hold can be used as a shelter.\n",
    "\n",
    "Each player will have their own individual tasks. Your task will be to cover the shelter using the `cover_shelter()` function.\n",
    "\n",
    "`cover_shelter()` doesn't take any parameters. \n",
    "![coverShelter](img/coverShelter.png)\n",
    "\n",
    "Wait for your team communicator to tell you when to run your code. Running your code too early or too late will fail the drill."
   ]
  },
  {
   "cell_type": "code",
   "execution_count": null,
   "id": "1917a249",
   "metadata": {
    "minecraft": {
     "closeCodeBuilderOnRun": true,
     "hidden": false,
     "onCodeCancelledCommand": "scoreboard players set @s code_status 0",
     "onCodeErrorCommand": "scoreboard players set @s code_status 0",
     "onCodeStartedCommand": "scoreboard players set @s code_status 1",
     "onCodeStoppedCommand": "scoreboard players set @s code_status 0",
     "onCodeSuccessfulCommand": "scoreboard players set @s code_status 0",
     "overridePython": "import time\n\ntimeout = 0.100\ndefault_signal_block = \"white concrete\"\n\n\ndef cover_shelter():\n    world.set((0, 3, 4), default_signal_block)\n    time.sleep(timeout)\n@user-code"
    }
   },
   "outputs": [],
   "source": [
    "# INPUT THE COVER SHELTER\n",
    "# FUNCTION HERE. WAIT TILL\n",
    "# YOUR TEAM COMMUNICATOR\n",
    "# TELLS YOU ITS YOUR TURN\n",
    "\n",
    "\n",
    "\n",
    "\n",
    "\n"
   ]
  }
 ],
 "metadata": {
  "celltoolbar": "Edit Metadata",
  "kernelspec": {
   "display_name": "Python 3 (ipykernel)",
   "language": "python",
   "name": "python3"
  },
  "language_info": {
   "codemirror_mode": {
    "name": "ipython",
    "version": 3
   },
   "file_extension": ".py",
   "mimetype": "text/x-python",
   "name": "python",
   "nbconvert_exporter": "python",
   "pygments_lexer": "ipython3",
   "version": "3.10.11"
  },
  "minecraft": {
   "description": "Artemis 2",
   "page_id": "1.1",
   "page_name": "Artemis 2",
   "style": "minecraft.css"
  }
 },
 "nbformat": 4,
 "nbformat_minor": 5
}
