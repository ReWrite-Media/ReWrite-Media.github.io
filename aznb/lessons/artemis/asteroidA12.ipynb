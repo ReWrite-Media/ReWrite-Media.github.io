{
 "cells": [
  {
   "cell_type": "markdown",
   "id": "b824ff50",
   "metadata": {},
   "source": [
    "# Asteroid Mining\n",
    "Navigate the rover to the gold ore and mine it.\n",
    "\n",
    "The `rover_move()` function function takes two parameters. The first one defines the direction it should move, and the second one defines how many spaces it should move.\n",
    "\n",
    "Valid directions are:\n",
    "- `forward` (moves the rover forward\n",
    "- `back` (moves the rover back)\n",
    "- `up` (moves the rover up)\n",
    "- `down` (moves the rover down)\n",
    "\n",
    "E.g., `rover_move(\"forward\", 3)` would move the rover three blocks forward.\n",
    "\n",
    "The `mine_block()` function doesn't take any parameters and it should be ran once the rover is in position next to the gold ore."
   ]
  },
  {
   "cell_type": "code",
   "execution_count": null,
   "id": "43b2d521",
   "metadata": {
    "minecraft": {
     "closeCodeBuilderOnRun": true,
     "hidden": false,
     "onCodeCancelledCommand": "scoreboard players set @s code_status 0",
     "onCodeErrorCommand": "scoreboard players set @s code_status 0",
     "onCodeStartedCommand": "scoreboard players set @s code_status 1",
     "onCodeStoppedCommand": "scoreboard players set @s code_status 0",
     "onCodeSuccessfulCommand": "scoreboard players set @s code_status 0",
     "overridePython": "import time\n\ntimeout = 0.100\n\ntime.sleep(0.250)\n\ndef rover_move(direction, amount):\n    if direction == \"forward\":\n        new_direction = \"right\"\n    elif direction == \"back\":\n        new_direction = \"left\"\n    else:\n        new_direction = direction\n\n    for i in range(0,amount):\n        agent.move(new_direction)\n\ndef mine_block():\n    world.set((0,12,1), \"white concrete\")\n@user-code"
    }
   },
   "outputs": [],
   "source": [
    "# EDIT THIS CODE TO MOVE\n",
    "# THE ROVER INTO THE \n",
    "# CORRECT POSITION AND\n",
    "# THEN MINE THE BLOCK\n",
    "\n",
    "rover_move(\"forward\", 1)\n",
    "mine_block()"
   ]
  }
 ],
 "metadata": {
  "celltoolbar": "Edit Metadata",
  "kernelspec": {
   "display_name": "Python 3 (ipykernel)",
   "language": "python",
   "name": "python3"
  },
  "language_info": {
   "codemirror_mode": {
    "name": "ipython",
    "version": 3
   },
   "file_extension": ".py",
   "mimetype": "text/x-python",
   "name": "python",
   "nbconvert_exporter": "python",
   "pygments_lexer": "ipython3",
   "version": "3.10.10"
  },
  "minecraft": {
   "description": "Artemis 2",
   "page_id": "1.1",
   "page_name": "Artemis 2",
   "style": "minecraft.css"
  }
 },
 "nbformat": 4,
 "nbformat_minor": 5
}
