{
 "cells": [
  {
   "cell_type": "markdown",
   "id": "0e8cd413",
   "metadata": {},
   "source": [
    "# Radiation Drill - Communicator\n",
    "You're the communicator! In order to pass the radiation drill we'll need to make an area where astronauts can take shelter during a radiation event. Inside the Orion crew module the lower cargo hold can be used as a shelter. \n",
    "\n",
    "Each of your crew mates have been given a task. Find out which task each of your crew mates were assigned and let them know the order they need to run their code.  \n",
    "\n",
    "It's important that your team members only do one step each, and do them in the correct order. If the steps are ran out of order, or if a single person does more than one, the test will be unsucessful.\n",
    "\n",
    "- Step 1: Clear the cargo from on top of the shelter area\n",
    "![clearCargo](img/clearCargo.png)\n",
    "- Step 2: Surround the shelter with the cargo to make it easy to reach from inside\n",
    "![surroundShelter](img/center_ring.png)\n",
    "- Step 3: Cover the shelter with the cargo. This will block the astronauts from the harmful radiation.\n",
    "![coverShelter](img/outer_ring.png)\n",
    "\n",
    "Once you have assigned all three tasks you can close Code Builder.\n"
   ]
  }
 ],
 "metadata": {
  "kernelspec": {
   "display_name": "Python 3 (ipykernel)",
   "language": "python",
   "name": "python3"
  },
  "language_info": {
   "codemirror_mode": {
    "name": "ipython",
    "version": 3
   },
   "file_extension": ".py",
   "mimetype": "text/x-python",
   "name": "python",
   "nbconvert_exporter": "python",
   "pygments_lexer": "ipython3",
   "version": "3.10.11"
  },
  "minecraft": {
   "description": "Artemis 2",
   "page_id": "1.1",
   "page_name": "Artemis 2",
   "style": "minecraft.css"
  }
 },
 "nbformat": 4,
 "nbformat_minor": 5
}
