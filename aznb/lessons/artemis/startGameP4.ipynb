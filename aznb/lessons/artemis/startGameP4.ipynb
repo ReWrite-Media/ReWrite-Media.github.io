{
    "cells": [
     {
      "cell_type": "markdown",
      "id": "b824ff50",
      "metadata": {},
      "source": [
       "# Go For Launch Player 4\n",
       "When all crew members are logged into the world and ready, run the `go_for_launch()` function"
      ]
     },
     {
      "cell_type": "code",
      "execution_count": null,
      "id": "43b2d521",
      "metadata": {
       "minecraft": {
        "closeCodeBuilderOnRun": true,
        "hidden": false,
        "overridePython": "import time\n\ntimeout = 0.100\n\ntime.sleep(0.250)\n\ndef go_for_launch():\n    world.set((0,0,4), \"white concrete\")\n@user-code"
       }
      },
      "outputs": [],
      "source": [
       "# ONLY RUN go_for_launch()\n",
       "# WHEN ALL USERS WHO ARE PLAYING\n",
       "# ARE LOGGED IN\n",
       "\n"
      ]
     }
    ],
    "metadata": {
     "celltoolbar": "Edit Metadata",
     "kernelspec": {
      "display_name": "Python 3 (ipykernel)",
      "language": "python",
      "name": "python3"
     },
     "language_info": {
      "codemirror_mode": {
       "name": "ipython",
       "version": 3
      },
      "file_extension": ".py",
      "mimetype": "text/x-python",
      "name": "python",
      "nbconvert_exporter": "python",
      "pygments_lexer": "ipython3",
      "version": "3.10.10"
     },
     "minecraft": {
      "description": "Artemis 2",
      "page_id": "1.1",
      "page_name": "Artemis 2",
      "style": "minecraft.css"
     }
    },
    "nbformat": 4,
    "nbformat_minor": 5
   }
   