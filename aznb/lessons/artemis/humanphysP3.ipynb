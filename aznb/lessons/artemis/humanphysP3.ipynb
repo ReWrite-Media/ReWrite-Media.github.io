{
 "cells": [
  {
   "cell_type": "markdown",
   "id": "1e67ac72",
   "metadata": {},
   "source": [
    "# Human Physiology Player 3\n",
    "You weigh 70kg (155 lbs) and are 180cm (5’9’’) tall. Give that info to your team communicator so they could let you know how many minutes you should exercise and then use the `exercise_for()` function to exercise for that amount of time.\n",
    "\n",
    "The `exercise_for()` function takes a single parameter which is an *integer* that defines how long you should exercise for.\n",
    "\n",
    "Valid exercise times are:\n",
    "- `70`\n",
    "- `90`\n",
    "- `110`\n",
    "- `130`\n",
    "- `150`\n",
    "\n",
    "E.g., `exercise_for(130)` would exercise for 130 minutes."
   ]
  },
  {
   "cell_type": "code",
   "execution_count": null,
   "id": "1d7996ff",
   "metadata": {
    "minecraft": {
     "closeCodeBuilderOnRun": true,
     "hidden": false,
     "onCodeCancelledCommand": "scoreboard players set @s code_status 0",
     "onCodeErrorCommand": "scoreboard players set @s code_status 0",
     "onCodeStartedCommand": "scoreboard players set @s code_status 1",
     "onCodeStoppedCommand": "scoreboard players set @s code_status 0",
     "onCodeSuccessfulCommand": "scoreboard players set @s code_status 0",
     "overridePython": "import time\n\ntimeout = 0.100\ndefault_signal_block = \"white concrete\"\nfailed_block = \"orange concrete\"\n\nactivity_time = \"110\"\nexercise_times = [\"70\", \"90\", \"110\", \"130\", \"150\"]\n\n\ndef exercise_for(exercise_time):\n    if str(exercise_time) in exercise_times:\n        if str(exercise_time) == activity_time:\n            world.set((0, 4, 2), default_signal_block)\n            time.sleep(timeout)\n        else:\n            world.set((0, 4, 2), failed_block)\n            time.sleep(timeout)    \n    else:\n        player.say(f\"§cERROR: `{exercise_time}` is not a valid amount of time\")\n@user-code"
    }
   },
   "outputs": [],
   "source": [
    "# EDIT THIS CODE\n",
    "# TO DEFINE HOW LONG\n",
    "# YOU SHOULD EXERCISE FOR\n",
    "\n",
    "exercise_for()"
   ]
  }
 ],
 "metadata": {
  "celltoolbar": "Edit Metadata",
  "kernelspec": {
   "display_name": "Python 3 (ipykernel)",
   "language": "python",
   "name": "python3"
  },
  "language_info": {
   "codemirror_mode": {
    "name": "ipython",
    "version": 3
   },
   "file_extension": ".py",
   "mimetype": "text/x-python",
   "name": "python",
   "nbconvert_exporter": "python",
   "pygments_lexer": "ipython3",
   "version": "3.10.11"
  },
  "minecraft": {
   "description": "Artemis 2",
   "page_id": "1.1",
   "page_name": "Artemis 2",
   "style": "minecraft.css"
  }
 },
 "nbformat": 4,
 "nbformat_minor": 5
}
