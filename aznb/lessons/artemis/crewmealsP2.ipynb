{
 "cells": [
  {
   "cell_type": "markdown",
   "id": "b824ff50",
   "metadata": {},
   "source": [
    "# Crew Meals Part 2\n",
    "Once your partner finishes rehdrating the tomato sauce, you'll need to make the pizza! Combine the tomato sauce, cheese and peperoni on a flat bread and then serve it to your team!\n",
    "\n",
    "The `add_ingredient()` function takes on parameter which is a *string* that defines what ingredient you want to add.\n",
    "\n",
    "Valid ingredients are:\n",
    "- `anchovies`\n",
    "![anchovies](img/anchovies.png)\n",
    "- `tomato_sauce`\n",
    "![tomato_sauce](img/sauce.png)\n",
    "- `cheese`\n",
    "![add_cheese](img/cheese.png)\n",
    "- `pepperoni`\n",
    "![pepperoni](img/pepperoni.png)\n",
    "    \n",
    "E.g., `add_ingredient(\"cheese\")` would add cheese to the pizza\n",
    "\n",
    "The `pizza_serve()` function doesn't take any parameters and should be ran after you finish making the pizza.\n",
    "![pizza_serve](img/pizza_serve.png)"
   ]
  },
  {
   "cell_type": "code",
   "execution_count": null,
   "id": "43b2d521",
   "metadata": {
    "minecraft": {
     "closeCodeBuilderOnRun": true,
     "hidden": false,
     "onCodeCancelledCommand": "scoreboard players set @s code_status 0",
     "onCodeErrorCommand": "scoreboard players set @s code_status 0",
     "onCodeStartedCommand": "scoreboard players set @s code_status 1",
     "onCodeStoppedCommand": "scoreboard players set @s code_status 0",
     "onCodeSuccessfulCommand": "scoreboard players set @s code_status 0",
     "overridePython": "import time\n\ntimeout = 0.100\ndefault_signal_block = \"white concrete\"\n\ningredient_list=[\"anchovies\",\n                \"tomato_sauce\",\n                \"cheese\",\n                \"pepperoni\"]\n\ndef add_ingredient(ingredient):\n    if ingredient.lower() in ingredient_list:\n        if ingredient.lower()==\"anchovies\":\n            world.set((0, 9, 2), (default_signal_block))\n            time.sleep(timeout)\n        elif ingredient.lower()==\"cheese\":\n            world.set((0, 9, 2), (\"orange concrete\"))\n            time.sleep(timeout)\n        elif ingredient.lower()==\"pepperoni\":\n            world.set((0, 9, 2), (\"yellow concrete\"))\n            time.sleep(timeout)\n        elif ingredient.lower()==\"tomato_sauce\":\n            world.set((0, 9, 2), (\"green concrete\"))\n            time.sleep(timeout)\n    else:\n        player.say(f\"§cERROR: `{ingredient}` is not a valid ingredient\")\n\ndef pizza_serve():\n    world.set((1, 9, 2), (default_signal_block))\n    time.sleep(timeout)\n@user-code"
    }
   },
   "outputs": [],
   "source": [
    "# INPUT THE FUNCTIONS\n",
    "# NEEDED TO MAKE THE PERFECT\n",
    "# PIZZA FOR YOUR TEAM\n",
    "\n",
    "\n",
    "\n",
    "\n",
    "\n",
    "\n"
   ]
  }
 ],
 "metadata": {
  "celltoolbar": "Edit Metadata",
  "kernelspec": {
   "display_name": "Python 3 (ipykernel)",
   "language": "python",
   "name": "python3"
  },
  "language_info": {
   "codemirror_mode": {
    "name": "ipython",
    "version": 3
   },
   "file_extension": ".py",
   "mimetype": "text/x-python",
   "name": "python",
   "nbconvert_exporter": "python",
   "pygments_lexer": "ipython3",
   "version": "3.10.10"
  },
  "minecraft": {
   "description": "Artemis 2",
   "page_id": "1.1",
   "page_name": "Artemis 2",
   "style": "minecraft.css"
  }
 },
 "nbformat": 4,
 "nbformat_minor": 5
}
