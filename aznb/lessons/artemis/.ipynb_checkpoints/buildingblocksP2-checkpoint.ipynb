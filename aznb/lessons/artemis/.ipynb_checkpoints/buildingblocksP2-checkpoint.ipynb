{
 "cells": [
  {
   "cell_type": "markdown",
   "id": "b824ff50",
   "metadata": {},
   "source": [
    "# Building Blocks Part 2\n",
    "After your partner collects enough regolith, process it down and cast it into a block. Once in block form, test its strength.\n",
    "\n",
    "No paramteres are needed for any of these functions. Just make sure you run them in order.\n",
    "\n",
    "`process_regolith()`\n",
    "![process_regolith](img/process_regolith.png)\n",
    "`cast_regolith()`\n",
    "![cast_regolith](img/cast_regolith.png)\n",
    "`test_block_strength()`\n",
    "![test_blockstrength](img/test_block_strength.png)"
   ]
  },
  {
   "cell_type": "code",
   "execution_count": 1,
   "id": "8ddb00ad",
   "metadata": {
    "minecraft": {
     "closeCodeBuilderOnRun": true,
     "hidden": false,
     "onCodeCancelledCommand": "scoreboard players set @s code_status 0",
     "onCodeErrorCommand": "scoreboard players set @s code_status 0",
     "onCodeStartedCommand": "scoreboard players set @s code_status 1",
     "onCodeStoppedCommand": "scoreboard players set @s code_status 0",
     "onCodeSuccessfulCommand": "scoreboard players set @s code_status 0",
     "overridePython": "import time\n\ntimeout = 0.100\ndefault_signal_block = \"white concrete\"\n\ndef process_regolith():\n    world.set((0, 5, 2), (default_signal_block))\n    time.sleep(timeout)        \n\ndef cast_regolith():\n    world.set((1, 5, 2), (default_signal_block))\n    time.sleep(timeout)        \n\ndef test_block_strength():\n    world.set((2, 5, 2), (default_signal_block))\n    time.sleep(timeout)        \n@user-code"
    }
   },
   "outputs": [],
   "source": [
    "# INPUT THE FUNCTIONS\n",
    "# NEEDED TO TEST THE\n",
    "# REGOLITH'S STRENGTH\n",
    "\n",
    "\n",
    "\n",
    "\n",
    "\n",
    "\n"
   ]
  }
 ],
 "metadata": {
  "celltoolbar": "Edit Metadata",
  "kernelspec": {
   "display_name": "Python 3 (ipykernel)",
   "language": "python",
   "name": "python3"
  },
  "language_info": {
   "codemirror_mode": {
    "name": "ipython",
    "version": 3
   },
   "file_extension": ".py",
   "mimetype": "text/x-python",
   "name": "python",
   "nbconvert_exporter": "python",
   "pygments_lexer": "ipython3",
   "version": "3.10.10"
  },
  "minecraft": {
   "description": "Artemis 2",
   "page_id": "1.1",
   "page_name": "Artemis 2",
   "style": "minecraft.css"
  }
 },
 "nbformat": 4,
 "nbformat_minor": 5
}
