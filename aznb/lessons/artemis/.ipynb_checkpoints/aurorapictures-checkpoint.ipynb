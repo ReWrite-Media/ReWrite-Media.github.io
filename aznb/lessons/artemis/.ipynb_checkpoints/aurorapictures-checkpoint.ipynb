{
 "cells": [
  {
   "cell_type": "markdown",
   "id": "b824ff50",
   "metadata": {},
   "source": [
    "# Aurora Pictures \n",
    "Choose three locations on the grid that contains the aurora borealis and take pictures of it.\n",
    "\n",
    "\n",
    "The `take_picture()` function takes two parameters. The first one is a *string* that defines the __x-axis__ of the grid, and the second one is an *integer* that defines the __y-axis__ of the grid. Where those two axes meet is the location where the picture will be take.\n",
    "![take_picture](img/take_picture.png)\n",
    "\n",
    "E.g., `take_picture('a',1)` would take a picture of the square that is located where the *a* column meets the *1* row."
   ]
  },
  {
   "cell_type": "code",
   "execution_count": null,
   "id": "43b2d521",
   "metadata": {
    "minecraft": {
     "closeCodeBuilderOnRun": true,
     "hidden": false,
     "onCodeCancelledCommand": "scoreboard players set @s code_status 0",
     "onCodeErrorCommand": "scoreboard players set @s code_status 0",
     "onCodeStartedCommand": "scoreboard players set @s code_status 1",
     "onCodeStoppedCommand": "scoreboard players set @s code_status 0",
     "onCodeSuccessfulCommand": "scoreboard players set @s code_status 0",
     "overridePython": "import time\n\ntimeout = 0.100\n\nx_axis_dic={\"a\":\"log\",\n            \"b\":\"concrete\",\n            \"c\":\"white terracotta\",\n            \"d\":\"stained_glass\",\n            \"e\":\"stained_glass_pane\",\n            \"f\":\"stone_block_slab\",\n            \"g\":\"stone_block_slab2\",\n            \"h\":\"shulker_box\",\n            \"i\":\"double_stone_block_slab\",\n            \"j\":\"double_stone_block_slab2\"}\n\ndef take_picture(x_axis, y_axis):\n    if int(y_axis) > 9 or int(y_axis) < 0:\n        player.say(f\"§cERROR: `{y_axis}` is not a valid row\")\n        return\n    elif x_axis.lower() in x_axis_dic:\n        world.set((0,14,1), (x_axis_dic[x_axis.lower()], y_axis))\n        time.sleep(0.100)\n    else:\n        player.say(f\"§cERROR: `{x_axis}` is not a valid column\")\n@user-code"
    }
   },
   "outputs": [],
   "source": [
    "# EDIT THIS CODE TO CHOOSE\n",
    "# THREE SQUARES THAT CONTAIN\n",
    "# THE AURORA BOREALIS\n",
    "\n",
    "take_picture('a','1')\n",
    "\n",
    "\n",
    "\n",
    "\n"
   ]
  }
 ],
 "metadata": {
  "celltoolbar": "Edit Metadata",
  "kernelspec": {
   "display_name": "Python 3 (ipykernel)",
   "language": "python",
   "name": "python3"
  },
  "language_info": {
   "codemirror_mode": {
    "name": "ipython",
    "version": 3
   },
   "file_extension": ".py",
   "mimetype": "text/x-python",
   "name": "python",
   "nbconvert_exporter": "python",
   "pygments_lexer": "ipython3",
   "version": "3.10.10"
  },
  "minecraft": {
   "description": "Artemis 2",
   "page_id": "1.1",
   "page_name": "Artemis 2",
   "style": "minecraft.css"
  }
 },
 "nbformat": 4,
 "nbformat_minor": 5
}
