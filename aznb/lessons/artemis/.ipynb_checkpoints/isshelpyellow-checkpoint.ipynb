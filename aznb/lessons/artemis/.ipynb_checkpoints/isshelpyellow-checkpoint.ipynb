{
 "cells": [
  {
   "cell_type": "markdown",
   "id": "be85889b",
   "metadata": {},
   "source": [
    "# ISS Help\n",
    "The crew needs help loading the **Yellow** colored cargo box onto the ISS. Use the `retrieve_cargo()` function to select the **Yellow** cargo box and then use the `load_cargo()` function to load it onto the ISS.\n",
    "\n",
    "The `retrieve_cargo()` function takes a single parameter which is a *string*. It defines what color cargo the ISS arm should retrieve.\n",
    "![retrieve_cargo](img/retrieve_cargo.png)\n",
    "\n",
    "Valid colors are:\n",
    "- `blue`\n",
    "![blue_cargo](img/cargo_a.png)\n",
    "- `yellow`\n",
    "![yellow_cargo](img/cargo_b.png)\n",
    "- `magenta`\n",
    "![magenta_cargo](img/cargo_c.png)\n",
    "\n",
    "E.g., `retrieve_cargo(\"magenta\")` would make the arm move to the magenta colored cargo and pick it up.\n",
    "\n",
    "The `load_cargo()` function doesn't take any parameters and it should be ran after you retrieved a piece of cargo.\n",
    "![loadCargo](img/loadCargo.png)\n"
   ]
  },
  {
   "cell_type": "code",
   "execution_count": null,
   "id": "31af2101",
   "metadata": {
    "minecraft": {
     "closeCodeBuilderOnRun": true,
     "hidden": false,
     "onCodeCancelledCommand": "scoreboard players set @s code_status 0",
     "onCodeErrorCommand": "scoreboard players set @s code_status 0",
     "onCodeStartedCommand": "scoreboard players set @s code_status 1",
     "onCodeStoppedCommand": "scoreboard players set @s code_status 0",
     "onCodeSuccessfulCommand": "scoreboard players set @s code_status 0",
     "overridePython": "import time\n\ntimeout = 0.100\ndefault_signal_block = \"white concrete\"\nfailed_block = \"red concrete\"\n\nactivity_color = \"yellow\"\ncolor_options = [\"blue\", \"yellow\", \"magenta\"]\n\n\ndef retrieve_cargo(color):\n    if color.lower() in color_options:\n        if color.lower() == activity_color:\n            world.set((0, 21, 1), default_signal_block)\n            time.sleep(timeout)\n        else:\n            world.set((0, 21, 1), failed_block)\n            time.sleep(timeout)    \n    else:\n        player.say(f\"§cERROR: `{color}` is not a valid cargo color\")\n\ndef load_cargo():\n    world.set((0, 21, 1), \"orange concrete\")\n    time.sleep(timeout)\n@user-code"
    }
   },
   "outputs": [],
   "source": [
    "# CODE HERE TO RETRIEVE\n",
    "# THE CORRECT CARGO BLOCK\n",
    "# AND LOAD IT ONTO THE ISS\n",
    "\n",
    "retrieve_cargo(\"magenta\")\n",
    "\n",
    "\n",
    "\n",
    "\n"
   ]
  }
 ],
 "metadata": {
  "celltoolbar": "Edit Metadata",
  "kernelspec": {
   "display_name": "Python 3 (ipykernel)",
   "language": "python",
   "name": "python3"
  },
  "language_info": {
   "codemirror_mode": {
    "name": "ipython",
    "version": 3
   },
   "file_extension": ".py",
   "mimetype": "text/x-python",
   "name": "python",
   "nbconvert_exporter": "python",
   "pygments_lexer": "ipython3",
   "version": "3.10.11"
  },
  "minecraft": {
   "description": "Artemis 2",
   "page_id": "1.1",
   "page_name": "Artemis 2",
   "style": "minecraft.css"
  }
 },
 "nbformat": 4,
 "nbformat_minor": 5
}
