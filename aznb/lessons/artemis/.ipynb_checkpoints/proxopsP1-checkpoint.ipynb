{
 "cells": [
  {
   "cell_type": "markdown",
   "id": "b824ff50",
   "metadata": {},
   "source": [
    "# Prox Ops - Communicator\n",
    "You're the communicator! There are (3) movements that need to be done. Each team member can only do one step. If someone tries to do more than one step or does a step in the wrong order, the test will not be successful.\n",
    "\n",
    "- Step 1: Move Orion __away__ from the cryogenic propulsion stage\n",
    "- Step 2: Rotate the Orion spacecraft __360°__ __counterclockwise__\n",
    "- Step 3: Adjust the __Roll__ on the Orion spacecraft __180°__"
   ]
  }
 ],
 "metadata": {
  "celltoolbar": "Edit Metadata",
  "kernelspec": {
   "display_name": "Python 3 (ipykernel)",
   "language": "python",
   "name": "python3"
  },
  "language_info": {
   "codemirror_mode": {
    "name": "ipython",
    "version": 3
   },
   "file_extension": ".py",
   "mimetype": "text/x-python",
   "name": "python",
   "nbconvert_exporter": "python",
   "pygments_lexer": "ipython3",
   "version": "3.10.10"
  },
  "minecraft": {
   "description": "Artemis 2",
   "page_id": "1.1",
   "page_name": "Artemis 2",
   "style": "minecraft.css"
  }
 },
 "nbformat": 4,
 "nbformat_minor": 5
}
