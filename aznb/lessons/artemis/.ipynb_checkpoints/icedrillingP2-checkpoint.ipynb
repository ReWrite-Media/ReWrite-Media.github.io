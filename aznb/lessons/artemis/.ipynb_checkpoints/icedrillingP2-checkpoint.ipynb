{
 "cells": [
  {
   "cell_type": "markdown",
   "id": "b824ff50",
   "metadata": {},
   "source": [
    "# Ice Drilling Part 2\n",
    "Once your partner gets the rover into place, drill down and then collect a sample. Make sure you wait for your partner's code to finish or you'll start drilling too early.\n",
    "\n",
    "The `drill_down()` function doesn't take any parameters and should be run first to drill down to a pocket of ice.\n",
    "![drill_down](img/drill_down.png)\n",
    "\n",
    "The `collect_sample()` function doesn't take any parameters and should be run after you've drilled down in order to collect a sample.\n",
    "![collect_sample](img/collect_sample.png)"
   ]
  },
  {
   "cell_type": "code",
   "execution_count": null,
   "id": "43b2d521",
   "metadata": {
    "minecraft": {
     "closeCodeBuilderOnRun": true,
     "hidden": false,
     "onCodeCancelledCommand": "scoreboard players set @s code_status 0",
     "onCodeErrorCommand": "scoreboard players set @s code_status 0",
     "onCodeStartedCommand": "scoreboard players set @s code_status 1",
     "onCodeStoppedCommand": "scoreboard players set @s code_status 0",
     "onCodeSuccessfulCommand": "scoreboard players set @s code_status 0",
     "overridePython": "import time\n\ntimeout = 0.100\ndefault_signal_block = \"white concrete\"\n\ndef drill_down():\n    world.set((0, 6, 2), (default_signal_block))\n    time.sleep(timeout)\n\ndef collect_sample():\n    world.set((1, 6, 2), (default_signal_block))\n    time.sleep(timeout)\n@user-code"
    }
   },
   "outputs": [],
   "source": [
    "# EDIT THIS CODE TO\n",
    "# ADD THE FUNCTIONS\n",
    "# TO DRILL DOWN AND \n",
    "# COLLECT A SAMPLE\n",
    "\n",
    "\n",
    "\n",
    "\n",
    "\n"
   ]
  }
 ],
 "metadata": {
  "celltoolbar": "Edit Metadata",
  "kernelspec": {
   "display_name": "Python 3 (ipykernel)",
   "language": "python",
   "name": "python3"
  },
  "language_info": {
   "codemirror_mode": {
    "name": "ipython",
    "version": 3
   },
   "file_extension": ".py",
   "mimetype": "text/x-python",
   "name": "python",
   "nbconvert_exporter": "python",
   "pygments_lexer": "ipython3",
   "version": "3.10.10"
  },
  "minecraft": {
   "description": "Artemis 2",
   "page_id": "1.1",
   "page_name": "Artemis 2",
   "style": "minecraft.css"
  }
 },
 "nbformat": 4,
 "nbformat_minor": 5
}
