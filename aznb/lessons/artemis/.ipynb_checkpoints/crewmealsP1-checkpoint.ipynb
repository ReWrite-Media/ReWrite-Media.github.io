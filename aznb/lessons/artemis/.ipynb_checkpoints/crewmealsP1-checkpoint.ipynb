{
 "cells": [
  {
   "cell_type": "markdown",
   "id": "b824ff50",
   "metadata": {},
   "source": [
    "# Crew Meals Part 1\n",
    "It's pizza night and your team has decided on pepperoni pizza! Your job is to work the rehydration machine.\n",
    "\n",
    "First you'll need to turn on the rehydration system and place the freeze dried tomato sauce pack inside it. Then set the amount of water to the correct setting. Finally you'll need to turn off the machine before removing the packet so water doesn't leak.\n",
    "\n",
    "Once all of that is done, your partner will make the pizza.\n",
    "\n",
    "The `toggle_power()` function takes one parameter which is a *string* that defines the power state..\n",
    "\n",
    "Valid power states are:\n",
    "- `on`\n",
    "- `off`\n",
    "\n",
    "E.g., `toggle_power(\"on\")` would turn on the rehydration machine.\n",
    "\n",
    "The `place_ingredient()` function takes one parameter which is a *string* that defines what ingredient will be placed inside the reydration station.\n",
    "\n",
    "Valid ingredients are:\n",
    "- `peanut_butter`\n",
    "![peanut_butter](img/peanut.png)\n",
    "- `green_pepper`\n",
    "![green_pepper](img/pepper.png)\n",
    "- `tomato_sauce`\n",
    "![tomato_sauce](img/sauce.png)\n",
    "\n",
    "E.g., `place_ingredient(\"peanut_butter\")` would try to put the peanut butter into the rehydration machine.\n",
    "\n",
    "The `rehydrate()` function takes one parameter which is an *integer* that defines how many ml of water should be used in the process. Use the chart on the wall to figure out how much water is needed.\n",
    "\n",
    "Valid amounts of water are:\n",
    "\n",
    "- `25`\n",
    "\n",
    "![25_ml](img/25_ml.png)\n",
    "- `50`\n",
    "\n",
    "![50_ml](img/50_ml.png)\n",
    "- `75`\n",
    "\n",
    "![75_ml](img/75_ml.png)\n",
    "- `100`\n",
    "\n",
    "![100_ml](img/100_ml.png)\n",
    "\n",
    "E.g., `rehydrate(25)` would set the rehydration machine to 25ml of water."
   ]
  },
  {
   "cell_type": "code",
   "execution_count": null,
   "id": "43b2d521",
   "metadata": {
    "minecraft": {
     "closeCodeBuilderOnRun": true,
     "hidden": false,
     "onCodeCancelledCommand": "scoreboard players set @s code_status 0",
     "onCodeErrorCommand": "scoreboard players set @s code_status 0",
     "onCodeStartedCommand": "scoreboard players set @s code_status 1",
     "onCodeStoppedCommand": "scoreboard players set @s code_status 0",
     "onCodeSuccessfulCommand": "scoreboard players set @s code_status 0",
     "overridePython": "import time\n\ntimeout = 0.100\ndefault_signal_block = \"white concrete\"\n\ndef toggle_power(state):\n    if state.lower()==\"on\":\n        world.set((0, 9, 1), (default_signal_block))\n        time.sleep(timeout)\n    elif state.lower()==\"off\":\n        world.set((0, 9, 1), (\"orange concrete\"))\n        time.sleep(timeout)\n    else:\n        player.say(f\"§cERROR: `{state}` is not a valid state\")\n\ndef place_ingredient(ingredient):\n    if ingredient.lower()==\"peanut_butter\":\n        world.set((1, 9, 1), (\"orange concrete\"))\n        time.sleep(timeout)\n    elif ingredient.lower()==\"green_pepper\":\n        world.set((1, 9, 1), (\"orange concrete\"))\n        time.sleep(timeout)\n    elif ingredient.lower()==\"tomato_sauce\":\n        world.set((1, 9, 1), (default_signal_block))\n        time.sleep(timeout)        \n    else:\n        player.say(f\"§cERROR: `{ingredient}` is not a valid ingredient\")\n\ndef rehydrate(amount):\n    if amount==25:\n        world.set((2, 9, 1), (\"orange concrete\"))\n        time.sleep(timeout)\n    elif amount==50:\n        world.set((2, 9, 1), (\"orange concrete\"))\n        time.sleep(timeout)\n    elif amount==75:\n        world.set((2, 9, 1), (default_signal_block))\n        time.sleep(timeout)    \n    elif amount==100:\n        world.set((2, 9, 1), (\"orange concrete\"))\n        time.sleep(timeout)                \n    else:\n        player.say(f\"§cERROR: `{amount}` is not a valid amount\")\n\n\n@user-code"
    }
   },
   "outputs": [],
   "source": [
    "# INPUT THE CORRECT ORDER\n",
    "# OF FUNCTIONS NEEDED TO \n",
    "# REHYDRATE TOMATO SAUCE\n",
    "\n",
    "\n",
    "\n",
    "\n",
    "\n",
    "\n"
   ]
  }
 ],
 "metadata": {
  "celltoolbar": "Edit Metadata",
  "kernelspec": {
   "display_name": "Python 3 (ipykernel)",
   "language": "python",
   "name": "python3"
  },
  "language_info": {
   "codemirror_mode": {
    "name": "ipython",
    "version": 3
   },
   "file_extension": ".py",
   "mimetype": "text/x-python",
   "name": "python",
   "nbconvert_exporter": "python",
   "pygments_lexer": "ipython3",
   "version": "3.10.10"
  },
  "minecraft": {
   "description": "Artemis 2",
   "page_id": "1.1",
   "page_name": "Artemis 2",
   "style": "minecraft.css"
  }
 },
 "nbformat": 4,
 "nbformat_minor": 5
}
