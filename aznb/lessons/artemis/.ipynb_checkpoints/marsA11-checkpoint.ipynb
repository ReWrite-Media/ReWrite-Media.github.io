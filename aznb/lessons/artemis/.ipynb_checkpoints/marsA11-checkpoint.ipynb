{
 "cells": [
  {
   "cell_type": "markdown",
   "id": "b824ff50",
   "metadata": {},
   "source": [
    "# Mars Recon\n",
    "Navigate the Agent using to the green X and then take a picture of that location.\n",
    "\n",
    "The `rover_move()` function takes two parameters. The first one is a *string* and defines the direction it should move, and the second one is an *integer* and defines how many spaces it should move.\n",
    "\n",
    "Valid directions are:\n",
    "- `up` (moves the rover up)\n",
    "![Orange_up](img/ArrowUpOrange.png)\n",
    "- `down` (moves the rover down)\n",
    "![Magenta_down](img/ArrowDownMagenta.png)\n",
    "- `right` (moves the rover right)\n",
    "![Yellow_right](img/ArrowRightYellow.png)\n",
    "- `left` (moves the rover left)\n",
    "![Blue_left](img/ArrowLeftBlue.png)\n",
    "\n",
    "E.g., `rover_move(\"right\", 3)` would move the rover right three blocks.\n",
    "\n",
    "The `take_picture()` function doesn't take any parameters and it should be ran once the rover is in position on top of the green X.\n",
    "![take_picture](img/take_picture.png)"
   ]
  },
  {
   "cell_type": "code",
   "execution_count": null,
   "id": "43b2d521",
   "metadata": {
    "minecraft": {
     "closeCodeBuilderOnRun": true,
     "hidden": false,
     "onCodeCancelledCommand": "scoreboard players set @s code_status 0",
     "onCodeErrorCommand": "scoreboard players set @s code_status 0",
     "onCodeStartedCommand": "scoreboard players set @s code_status 1",
     "onCodeStoppedCommand": "scoreboard players set @s code_status 0",
     "onCodeSuccessfulCommand": "scoreboard players set @s code_status 0",
     "overridePython": "import time\n\ntimeout = 0.100\ndefault_signal_block = \"white concrete\"\n\nvalid_directions_up_down_right_left = ['up','down','right','left']\n\ndef rover_move(direction, number):\n    if direction.lower() in valid_directions_up_down_right_left:\n        for i in range(0,number*3):\n            agent.move(direction)\n    else:\n        player.say(f\"§cERROR: `{direction}` is not a valid direction\")\n\ndef take_picture():\n    world.set((0, 11, 1), (default_signal_block))\n    time.sleep(timeout)        \n@user-code"
    }
   },
   "outputs": [],
   "source": [
    "# EDIT THIS CODE TO MOVE\n",
    "# THE ROVER INTO THE \n",
    "# CORRECT POSITION AND\n",
    "# TAKE A PICTURE\n",
    "\n",
    "rover_move(\"right\", 1)\n",
    "take_picture()\n",
    "\n",
    "\n"
   ]
  }
 ],
 "metadata": {
  "celltoolbar": "Edit Metadata",
  "kernelspec": {
   "display_name": "Python 3 (ipykernel)",
   "language": "python",
   "name": "python3"
  },
  "language_info": {
   "codemirror_mode": {
    "name": "ipython",
    "version": 3
   },
   "file_extension": ".py",
   "mimetype": "text/x-python",
   "name": "python",
   "nbconvert_exporter": "python",
   "pygments_lexer": "ipython3",
   "version": "3.10.10"
  },
  "minecraft": {
   "description": "Artemis 2",
   "page_id": "1.1",
   "page_name": "Artemis 2",
   "style": "minecraft.css"
  }
 },
 "nbformat": 4,
 "nbformat_minor": 5
}
