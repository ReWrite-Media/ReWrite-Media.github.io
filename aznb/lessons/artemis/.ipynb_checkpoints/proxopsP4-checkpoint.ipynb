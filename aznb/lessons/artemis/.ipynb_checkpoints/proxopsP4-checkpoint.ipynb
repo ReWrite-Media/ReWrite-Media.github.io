{
 "cells": [
  {
   "cell_type": "markdown",
   "id": "b824ff50",
   "metadata": {},
   "source": [
    "# Prox Ops\n",
    "You will be helping to pilot the Orion during this test. You have access to all three maneuvers but should only perform the one your team communicator assigns to you. Wait for your team communicator to tell you when to run your code. Running your code too early or too late will fail the test.\n",
    "\n",
    "The `move_orion()` function takes one parameter. A *string* defining whether the Orion should move towards or away from the cryogenic propulsion stage\n",
    "\n",
    "Valid directions are:\n",
    "- `toward` Move the Orion toward the cryogenic propulsion stage\n",
    "- `away` Move the Orion away from the cryogenic propulsion stage\n",
    "\n",
    "E.g., `move_orion(\"toward\")` Would move the Orion towards the cryogenic propulsion stage\n",
    "\n",
    "The `rotate_orion()` function takes two parameters. The first is a *string* that defines the __direction__ the Orion should rotate, and the second is an *integer* that defines how many __degrees__ it should rotate.\n",
    "\n",
    "Valid directions are:\n",
    "- `clockwise`\n",
    "- `counterclockwise`\n",
    "\n",
    "Valid degress of rotation are:\n",
    "- `90` rotate the Orion 90°\n",
    "- `180` rotate the Orion 180°\n",
    "- `360` rotate the Orion 360°\n",
    "\n",
    "E.g., `rotate_orion('clockwise', 90)` would rotate the Orion clockwise 90°\n",
    "\n",
    "\n",
    "The `adjust_orion()` function takes two parameters. The first is a *string* that defines the __type__ of movement the Orion should take and the second is an *integer* that defines the __degrees__ for that movement.\n",
    "\n",
    "Valid types of moment are:\n",
    "- `pitch` Adjusts the pitch of the Orion\n",
    "- `yaw` Adjusts the yaw of the Orion\n",
    "- `roll` Adjusts the roll of the Orion\n",
    "\n",
    "Valid degress of rotation are:\n",
    "- `90` rotate the Orion 90°\n",
    "- `180` rotate the Orion 180°\n",
    "- `360` rotate the Orion 360°\n",
    "\n",
    "E.g., `adjust_orion(\"pitch\", 90)` would adjust the pitch of the Orion by 90°"
   ]
  },
  {
   "cell_type": "code",
   "execution_count": null,
   "id": "43b2d521",
   "metadata": {
    "minecraft": {
     "closeCodeBuilderOnRun": true,
     "hidden": false,
     "onCodeCancelledCommand": "scoreboard players set @s code_status 0",
     "onCodeErrorCommand": "scoreboard players set @s code_status 0",
     "onCodeStartedCommand": "scoreboard players set @s code_status 1",
     "onCodeStoppedCommand": "scoreboard players set @s code_status 0",
     "onCodeSuccessfulCommand": "scoreboard players set @s code_status 0",
     "overridePython": "import time\n\ntimeout = 0.100\ndefault_signal_block = \"white concrete\"\n\nmove_direction_list=[\"toward\",\n                     \"away\"]\n\nrotate_direction_dict={\"clockwise\":\"log\",\n                       \"counterclockwise\":\"concrete\"}\n\ndegrees_dict={90:0,\n              180:2,\n              360:4}\n\ntype_dict={\"pitch\":\"log\",\n           \"yaw\":\"stone\",\n           \"roll\":\"concrete\"}\n\ndef move_orion(move_direction):\n    if move_direction in move_direction_list:\n        if move_direction.lower() == \"toward\":\n            world.set((0, 1, 1), (\"orange concrete\"))\n        else:\n            world.set((0, 1, 1), (default_signal_block))\n    else:\n        player.say(f\"§cERROR: `{move_direction}` is not a valid direction\")\n\ndef rotate_orion(rotate_direction, degrees):\n    if int(degrees) in degrees_dict:\n        if rotate_direction.lower() in rotate_direction_dict:\n            world.set((0, 1, 1), (rotate_direction_dict[rotate_direction.lower()], degrees_dict[degrees]))\n        else:\n            player.say(f\"§cERROR: `{rotate_direction}` is not a valid direction\")\n    else:\n        player.say(f\"§cERROR: `{degrees}` is not a valid amount of degrees\")\n\ndef adjust_orion(type, degrees):\n    if int(degrees) in degrees_dict:\n        if type.lower() in type_dict:\n            world.set((0, 1, 1), (type_dict[type.lower()], degrees_dict[degrees]))\n        else:\n            player.say(f\"§cERROR: `{type}` is not a valid movement type\")\n    else:\n        player.say(f\"§cERROR: `{degrees}` is not a valid amount of degrees\")\n@user-code"
    }
   },
   "outputs": [],
   "source": [
    "# EDIT THIS CODE TO PERFORM \n",
    "# THE MANUVER ASSIGNED TO\n",
    "# YOU BY THE COMMUNICATOR\n",
    "\n",
    "move_orion(\"toward\")\n",
    "rotate_orion(\"clockwise\", 90)\n",
    "adjust_orion(\"pitch\", 90)\n",
    "\n",
    "\n"
   ]
  }
 ],
 "metadata": {
  "celltoolbar": "Edit Metadata",
  "kernelspec": {
   "display_name": "Python 3 (ipykernel)",
   "language": "python",
   "name": "python3"
  },
  "language_info": {
   "codemirror_mode": {
    "name": "ipython",
    "version": 3
   },
   "file_extension": ".py",
   "mimetype": "text/x-python",
   "name": "python",
   "nbconvert_exporter": "python",
   "pygments_lexer": "ipython3",
   "version": "3.10.10"
  },
  "minecraft": {
   "description": "Artemis 2",
   "page_id": "1.1",
   "page_name": "Artemis 2",
   "style": "minecraft.css"
  }
 },
 "nbformat": 4,
 "nbformat_minor": 5
}
