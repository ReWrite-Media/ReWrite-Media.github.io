{
 "cells": [
  {
   "cell_type": "markdown",
   "id": "b824ff50",
   "metadata": {},
   "source": [
    "# Docking Test\n",
    "To complete the docking sequence each ring needs to be rotated to the correct setting. Each team member should only set a single ring. Your team communicator will tell you which ring you should control and what color it should be set to. Wait for your team communicator to tell you when to run your code. Running your code too early or too late will fail the test.\n",
    "\n",
    "The `rotate()` function takes two parameters that are *strings*. The first parameter defines which __ring__ you want to rotate, and the second defines which __position__ you want to rotate it to.\n",
    "\n",
    "Valid __ring__ options are:\n",
    "- `inner_ring`\n",
    "![inner_ring](img/inner_ring.png)\n",
    "- `middle_ring`\n",
    "![middle_ring](img/center_ring.png)\n",
    "- `outer_ring`\n",
    "![outer_ring](img/outer_ring.png)\n",
    "\n",
    "Valid __position__ options are:\n",
    "- `blue`\n",
    "![goto_blue](img/goto_blue.png)\n",
    "- `green`\n",
    "![goto_green](img/goto_green.png)\n",
    "- `red`\n",
    " ![goto_red](img/goto_red.png)\n",
    "\n",
    "Example: `rotate(\"inner_ring\", \"blue\")` would rotate the inner ring to the blue position.\n",
    " \n"
   ]
  },
  {
   "cell_type": "code",
   "execution_count": null,
   "id": "7d47d475",
   "metadata": {
    "minecraft": {
     "closeCodeBuilderOnRun": true,
     "hidden": false,
     "onCodeCancelledCommand": "scoreboard players set @s code_status 0",
     "onCodeErrorCommand": "scoreboard players set @s code_status 0",
     "onCodeStartedCommand": "scoreboard players set @s code_status 1",
     "onCodeStoppedCommand": "scoreboard players set @s code_status 0",
     "onCodeSuccessfulCommand": "scoreboard players set @s code_status 0",
     "overridePython": "import time\n\ntimeout = 0.100\ndefault_signal_block = \"white concrete\"\n\ndocking_rings = {\"inner_ring\":\"log\",\n                 \"middle_ring\":\"concrete\",\n                 \"outer_ring\":\"white terracotta\"}\n\ndocking_objective = {\"blue\":0,\n                     \"green\":1,\n                     \"red\":2}\n\ndef rotate(ring, position):\n    if ring.lower() in docking_rings:\n        if position.lower() in docking_objective:\n            world.set((0, 2, 1), (docking_rings[ring.lower()], docking_objective[position.lower()]))\n            time.sleep(timeout)\n        else:\n            player.say(f\"§cERROR: `{position}` is not a valid position\")           \n    else:\n        player.say(f\"§cERROR: `{ring}` is not a valid ring\")\n@user-code"
    }
   },
   "outputs": [],
   "source": [
    "# INPUT THE ROTATE FUNCTION\n",
    "# THAT MATCHES WITH THE\n",
    "# DOCKING TASK YOUR\n",
    "# COORDINATOR GAVE YOU\n",
    "\n",
    "\n",
    "\n",
    "\n",
    "\n"
   ]
  }
 ],
 "metadata": {
  "celltoolbar": "Edit Metadata",
  "kernelspec": {
   "display_name": "Python 3 (ipykernel)",
   "language": "python",
   "name": "python3"
  },
  "language_info": {
   "codemirror_mode": {
    "name": "ipython",
    "version": 3
   },
   "file_extension": ".py",
   "mimetype": "text/x-python",
   "name": "python",
   "nbconvert_exporter": "python",
   "pygments_lexer": "ipython3",
   "version": "3.10.10"
  },
  "minecraft": {
   "description": "Artemis 2",
   "page_id": "1.1",
   "page_name": "Artemis 2",
   "style": "minecraft.css"
  }
 },
 "nbformat": 4,
 "nbformat_minor": 5
}
