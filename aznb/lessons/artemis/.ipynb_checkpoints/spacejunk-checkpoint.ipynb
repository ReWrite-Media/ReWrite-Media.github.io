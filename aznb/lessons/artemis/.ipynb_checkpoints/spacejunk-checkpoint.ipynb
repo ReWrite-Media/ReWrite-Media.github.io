{
 "cells": [
  {
   "cell_type": "markdown",
   "id": "b824ff50",
   "metadata": {},
   "source": [
    "# Space Junk\n",
    "Guide the Agent to each piece of debris and collect it.\n",
    "\n",
    "The `agent_move()` function takes two parameters. The first one is a *string* and defines the direction it should move, and the second one is an *integer* and defines how many spaces it should move.\n",
    "\n",
    "Valid directions are:\n",
    "- `up` (moves the rover up)\n",
    "![Orange_up](img/ArrowUpOrange.png)\n",
    "- `down` (moves the rover down)\n",
    "![Magenta_down](img/ArrowDownMagenta.png)\n",
    "- `right` (moves the rover left)\n",
    "![Yellow_right](img/ArrowRightYellow.png)\n",
    "- `left` (moves the rover right)\n",
    "![Blue_left](img/ArrowLeftBlue.png)\n",
    "\n",
    "E.g., `agent_move(\"right\", 3)` would move the rover up three blocks.\n",
    "\n",
    "The `collect_debris()` function doesn't take any parameters and it should be ran once the Agent is in position over the drebris.\n",
    "\n",
    "![collect_regolith](img/collect_regolith.png)"
   ]
  },
  {
   "cell_type": "code",
   "execution_count": null,
   "id": "43b2d521",
   "metadata": {
    "minecraft": {
     "closeCodeBuilderOnRun": true,
     "hidden": false,
     "onCodeCancelledCommand": "scoreboard players set @s code_status 0",
     "onCodeErrorCommand": "scoreboard players set @s code_status 0",
     "onCodeStartedCommand": "scoreboard players set @s code_status 1",
     "onCodeStoppedCommand": "scoreboard players set @s code_status 0",
     "onCodeSuccessfulCommand": "scoreboard players set @s code_status 0",
     "overridePython": "import time\n\ntimeout = 0.100\ndefault_signal_block = \"white concrete\"\n\nvalid_directions_up_down_forward_back = ['up','down','forward','back']\n\ndef agent_move(direction, number):\n\n    # need to modify directions do to the Agent's rotation being different than what is displayed\n    if direction.lower() == \"right\":\n        new_direction = \"forward\"\n    elif direction.lower() == \"left\":\n        new_direction = \"back\"\n    else:\n        new_direction = direction.lower()\n\n    if new_direction in valid_directions_up_down_forward_back:\n        for i in range(0,number):\n            agent.move(new_direction)\n    else:\n        player.say(f\"§cERROR: `{direction}` is not a valid direction\")\n\ndef collect_debris():\n    world.set((0, 16, 1), (default_signal_block))\n    time.sleep(timeout)\n@user-code"
    }
   },
   "outputs": [],
   "source": [
    "# EDIT THIS CODE TO MOVE\n",
    "# THE AGENT INTO THE \n",
    "# TO THE DEBRIA AND COLLECT IT\n",
    "\n",
    "agent_move(\"right\", 3)\n",
    "collect_debris()\n",
    "\n",
    "\n",
    "\n"
   ]
  }
 ],
 "metadata": {
  "celltoolbar": "Edit Metadata",
  "kernelspec": {
   "display_name": "Python 3 (ipykernel)",
   "language": "python",
   "name": "python3"
  },
  "language_info": {
   "codemirror_mode": {
    "name": "ipython",
    "version": 3
   },
   "file_extension": ".py",
   "mimetype": "text/x-python",
   "name": "python",
   "nbconvert_exporter": "python",
   "pygments_lexer": "ipython3",
   "version": "3.10.10"
  },
  "minecraft": {
   "description": "Artemis 2",
   "page_id": "1.1",
   "page_name": "Artemis 2",
   "style": "minecraft.css"
  }
 },
 "nbformat": 4,
 "nbformat_minor": 5
}
