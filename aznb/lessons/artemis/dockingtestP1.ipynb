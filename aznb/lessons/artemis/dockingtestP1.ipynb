{
 "cells": [
  {
   "cell_type": "markdown",
   "id": "b824ff50",
   "metadata": {},
   "source": [
    "# Docking Test - Communicator\n",
    "You're the communicator! To fully engage the docking latch, all 3 rings need to be turned to the correct setting. Each team member should only control a single ring. Your job is to assign each of them a ring and tell them what color it should be set to. \n",
    "\n",
    "It's important that your team members only do one step each, and do them in the correct order. If the steps are ran out of order, or if a single person does more than one, the test will be unsucessful.\n",
    "\n",
    "- Step 1: __Inner ring__ should be set to __green__\n",
    "![inner_ring](img/inner_ring.png) ![goto_green](img/goto_green.png)\n",
    "- Step 2: __Middle ring__ should be set to __blue__\n",
    "![middle_ring](img/center_ring.png) ![goto_blue](img/goto_blue.png)\n",
    "- Step 3: __Outer ring__ should be set to __red__\n",
    "![outer_ring](img/outer_ring.png) ![goto_red](img/goto_red.png)\n",
    "\n",
    "Once you have assigned all three tasks you can close Code Builder.\n"
   ]
  }
 ],
 "metadata": {
  "celltoolbar": "Edit Metadata",
  "kernelspec": {
   "display_name": "Python 3 (ipykernel)",
   "language": "python",
   "name": "python3"
  },
  "language_info": {
   "codemirror_mode": {
    "name": "ipython",
    "version": 3
   },
   "file_extension": ".py",
   "mimetype": "text/x-python",
   "name": "python",
   "nbconvert_exporter": "python",
   "pygments_lexer": "ipython3",
   "version": "3.10.11"
  },
  "minecraft": {
   "description": "Artemis 2",
   "page_id": "1.1",
   "page_name": "Artemis 2",
   "style": "minecraft.css"
  }
 },
 "nbformat": 4,
 "nbformat_minor": 5
}
