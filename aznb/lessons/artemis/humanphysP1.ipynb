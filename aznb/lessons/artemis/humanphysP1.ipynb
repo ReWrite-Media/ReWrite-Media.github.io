{
 "cells": [
  {
   "cell_type": "markdown",
   "id": "a2632e0d",
   "metadata": {},
   "source": [
    "# Human Physiology - Communicator\n",
    "You're the communicator! In order to make sure your crewmates exercise for the required amount of time, find out from them their height and weight, and then use the chart below to figure out how much time they need to exercise for.\n",
    "\n",
    "Your crewmates can exercise in any order. Once you give them the amount of time, they can run their code right away.\n",
    "\n",
    "![exercise_chart](img/human_phys.png)\n",
    "\n",
    "Once you've told all your crewmates how long they should exercise for, you can close Code Builder."
   ]
  }
 ],
 "metadata": {
  "celltoolbar": "Edit Metadata",
  "kernelspec": {
   "display_name": "Python 3 (ipykernel)",
   "language": "python",
   "name": "python3"
  },
  "language_info": {
   "codemirror_mode": {
    "name": "ipython",
    "version": 3
   },
   "file_extension": ".py",
   "mimetype": "text/x-python",
   "name": "python",
   "nbconvert_exporter": "python",
   "pygments_lexer": "ipython3",
   "version": "3.10.11"
  }
 },
 "nbformat": 4,
 "nbformat_minor": 5
}
